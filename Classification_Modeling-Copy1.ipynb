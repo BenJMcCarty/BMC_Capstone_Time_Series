{
 "cells": [
  {
   "cell_type": "markdown",
   "metadata": {},
   "source": [
    "# **Cancel Culture - Classification Modeling Notebook**"
   ]
  },
  {
   "cell_type": "markdown",
   "metadata": {},
   "source": [
    "---\n",
    "\n",
    "**Post-Cleaning Modeling Notebook**\n",
    "\n",
    "---"
   ]
  },
  {
   "cell_type": "markdown",
   "metadata": {},
   "source": [
    "# -- > 🛑 **FIX**: Add cmts re: post-cleaning, modeling"
   ]
  },
  {
   "cell_type": "markdown",
   "metadata": {},
   "source": [
    "---\n",
    "\n",
    ">\n",
    "\n",
    "---"
   ]
  },
  {
   "cell_type": "markdown",
   "metadata": {},
   "source": [
    "# **Imports**"
   ]
  },
  {
   "cell_type": "markdown",
   "metadata": {},
   "source": [
    "---\n",
    "\n",
    "> I will import several packages and modules to perform my modeling steps. I use different parts of Scikit-Learn's numerous packages for the majority of my modeling. In addition to SKLearn, I tested models from XGBoost as well as Imblearn towards the end of the modeling process.\n",
    ">\n",
    "> I include the usual packages as well: pandas, numpy, matplotlib, and seaborn. Additionally, I have several personal functions that I use during the modeling process.\n",
    "\n",
    "---"
   ]
  },
  {
   "cell_type": "code",
   "execution_count": 1,
   "metadata": {
    "ExecuteTime": {
     "end_time": "2021-09-07T18:48:28.188992Z",
     "start_time": "2021-09-07T18:48:28.134992Z"
    }
   },
   "outputs": [],
   "source": [
    "## Jupyter Notebook setting to reload functions when called\n",
    "%load_ext autoreload\n",
    "%autoreload 2"
   ]
  },
  {
   "cell_type": "code",
   "execution_count": 2,
   "metadata": {
    "ExecuteTime": {
     "end_time": "2021-09-07T18:48:33.449059Z",
     "start_time": "2021-09-07T18:48:28.191995Z"
    }
   },
   "outputs": [],
   "source": [
    "## Data Handling\n",
    "import pandas as pd\n",
    "import numpy as np\n",
    "\n",
    "## Visualizations\n",
    "import matplotlib.pyplot as plt\n",
    "import seaborn as sns\n",
    "\n",
    "## Personal functions\n",
    "from bmc_functions import classification as clf"
   ]
  },
  {
   "cell_type": "code",
   "execution_count": 3,
   "metadata": {
    "ExecuteTime": {
     "end_time": "2021-09-07T18:48:33.833065Z",
     "start_time": "2021-09-07T18:48:33.455062Z"
    }
   },
   "outputs": [],
   "source": [
    "## SKLearn and Modeling Tools\n",
    "from sklearn import metrics\n",
    "from sklearn.preprocessing import OneHotEncoder, StandardScaler\n",
    "from sklearn.model_selection import train_test_split, GridSearchCV\n",
    "from sklearn.impute import SimpleImputer\n",
    "from sklearn.compose import ColumnTransformer\n",
    "from sklearn.pipeline import Pipeline\n",
    "from sklearn.dummy import DummyClassifier\n",
    "# from sklearn.linear_model import LogisticRegression, LogisticRegressionCV\n",
    "from sklearn.ensemble import RandomForestClassifier, ExtraTreesClassifier, \\\n",
    "                                AdaBoostClassifier,GradientBoostingClassifier \n",
    "from sklearn import set_config\n",
    "set_config(display='diagram')\n",
    "\n",
    "# from xgboost import XGBClassifier\n",
    "from imblearn.over_sampling import SMOTE,SMOTENC\n",
    "from imblearn.ensemble import BalancedBaggingClassifier,\\\n",
    "                                BalancedRandomForestClassifier,\\\n",
    "                                EasyEnsembleClassifier, RUSBoostClassifier"
   ]
  },
  {
   "cell_type": "code",
   "execution_count": 4,
   "metadata": {
    "ExecuteTime": {
     "end_time": "2021-09-07T18:48:34.057069Z",
     "start_time": "2021-09-07T18:48:33.837069Z"
    }
   },
   "outputs": [],
   "source": [
    "## Settings\n",
    "%matplotlib inline\n",
    "plt.style.use('seaborn-talk')\n",
    "pd.set_option('display.max_columns', None)\n",
    "pd.set_option('display.float_format', lambda x: f'{x:,.2f}')\n",
    "pd.set_option('max_rows', 50)"
   ]
  },
  {
   "cell_type": "markdown",
   "metadata": {},
   "source": [
    "# **Reading the DataFrames**"
   ]
  },
  {
   "cell_type": "markdown",
   "metadata": {},
   "source": [
    "---\n",
    "\n",
    "> In my prior EDA notebook, I reviewed, cleaned, and performed some pre-processing steps to prepare my data separately before modeling. I saved the data as a .pickle file to preserve the datatypes; now I will re-read the data for modeling purposes.\n",
    "\n",
    "---"
   ]
  },
  {
   "cell_type": "markdown",
   "metadata": {},
   "source": [
    "# -- > 🛑 **FIX**: update data in EDA notebook - keep type, outliers."
   ]
  },
  {
   "cell_type": "code",
   "execution_count": 5,
   "metadata": {
    "ExecuteTime": {
     "end_time": "2021-09-07T18:48:34.621076Z",
     "start_time": "2021-09-07T18:48:34.060070Z"
    },
    "scrolled": true
   },
   "outputs": [
    {
     "data": {
      "text/html": [
       "<div>\n",
       "<style scoped>\n",
       "    .dataframe tbody tr th:only-of-type {\n",
       "        vertical-align: middle;\n",
       "    }\n",
       "\n",
       "    .dataframe tbody tr th {\n",
       "        vertical-align: top;\n",
       "    }\n",
       "\n",
       "    .dataframe thead th {\n",
       "        text-align: right;\n",
       "    }\n",
       "</style>\n",
       "<table border=\"1\" class=\"dataframe\">\n",
       "  <thead>\n",
       "    <tr style=\"text-align: right;\">\n",
       "      <th></th>\n",
       "      <th>hotel</th>\n",
       "      <th>is_canceled</th>\n",
       "      <th>lead_time</th>\n",
       "      <th>arrival_date_year</th>\n",
       "      <th>arrival_date_month</th>\n",
       "      <th>arrival_date_week_number</th>\n",
       "      <th>arrival_date_day_of_month</th>\n",
       "      <th>stays_in_weekend_nights</th>\n",
       "      <th>stays_in_week_nights</th>\n",
       "      <th>adults</th>\n",
       "      <th>children</th>\n",
       "      <th>babies</th>\n",
       "      <th>meal</th>\n",
       "      <th>country</th>\n",
       "      <th>market_segment</th>\n",
       "      <th>distribution_channel</th>\n",
       "      <th>is_repeated_guest</th>\n",
       "      <th>previous_cancellations</th>\n",
       "      <th>previous_bookings_not_canceled</th>\n",
       "      <th>reserved_room_type</th>\n",
       "      <th>assigned_room_type</th>\n",
       "      <th>booking_changes</th>\n",
       "      <th>deposit_type</th>\n",
       "      <th>agent</th>\n",
       "      <th>days_in_waiting_list</th>\n",
       "      <th>customer_type</th>\n",
       "      <th>adr</th>\n",
       "      <th>required_car_parking_spaces</th>\n",
       "      <th>total_of_special_requests</th>\n",
       "      <th>reservation_status</th>\n",
       "      <th>reservation_status_date</th>\n",
       "      <th>arrival_date</th>\n",
       "      <th>arrival_day</th>\n",
       "    </tr>\n",
       "  </thead>\n",
       "  <tbody>\n",
       "    <tr>\n",
       "      <th>0</th>\n",
       "      <td>Resort Hotel</td>\n",
       "      <td>0</td>\n",
       "      <td>342</td>\n",
       "      <td>2015</td>\n",
       "      <td>July</td>\n",
       "      <td>27</td>\n",
       "      <td>1</td>\n",
       "      <td>0</td>\n",
       "      <td>0</td>\n",
       "      <td>2</td>\n",
       "      <td>0.00</td>\n",
       "      <td>0</td>\n",
       "      <td>BB</td>\n",
       "      <td>PRT</td>\n",
       "      <td>Direct</td>\n",
       "      <td>Direct</td>\n",
       "      <td>0</td>\n",
       "      <td>0</td>\n",
       "      <td>0</td>\n",
       "      <td>C</td>\n",
       "      <td>C</td>\n",
       "      <td>3</td>\n",
       "      <td>No Deposit</td>\n",
       "      <td>999</td>\n",
       "      <td>0</td>\n",
       "      <td>Transient</td>\n",
       "      <td>0.00</td>\n",
       "      <td>0</td>\n",
       "      <td>0</td>\n",
       "      <td>Check-Out</td>\n",
       "      <td>2015-07-01</td>\n",
       "      <td>2015-07-01</td>\n",
       "      <td>Wednesday</td>\n",
       "    </tr>\n",
       "    <tr>\n",
       "      <th>1</th>\n",
       "      <td>Resort Hotel</td>\n",
       "      <td>0</td>\n",
       "      <td>737</td>\n",
       "      <td>2015</td>\n",
       "      <td>July</td>\n",
       "      <td>27</td>\n",
       "      <td>1</td>\n",
       "      <td>0</td>\n",
       "      <td>0</td>\n",
       "      <td>2</td>\n",
       "      <td>0.00</td>\n",
       "      <td>0</td>\n",
       "      <td>BB</td>\n",
       "      <td>PRT</td>\n",
       "      <td>Direct</td>\n",
       "      <td>Direct</td>\n",
       "      <td>0</td>\n",
       "      <td>0</td>\n",
       "      <td>0</td>\n",
       "      <td>C</td>\n",
       "      <td>C</td>\n",
       "      <td>4</td>\n",
       "      <td>No Deposit</td>\n",
       "      <td>999</td>\n",
       "      <td>0</td>\n",
       "      <td>Transient</td>\n",
       "      <td>0.00</td>\n",
       "      <td>0</td>\n",
       "      <td>0</td>\n",
       "      <td>Check-Out</td>\n",
       "      <td>2015-07-01</td>\n",
       "      <td>2015-07-01</td>\n",
       "      <td>Wednesday</td>\n",
       "    </tr>\n",
       "    <tr>\n",
       "      <th>2</th>\n",
       "      <td>Resort Hotel</td>\n",
       "      <td>0</td>\n",
       "      <td>7</td>\n",
       "      <td>2015</td>\n",
       "      <td>July</td>\n",
       "      <td>27</td>\n",
       "      <td>1</td>\n",
       "      <td>0</td>\n",
       "      <td>1</td>\n",
       "      <td>1</td>\n",
       "      <td>0.00</td>\n",
       "      <td>0</td>\n",
       "      <td>BB</td>\n",
       "      <td>GBR</td>\n",
       "      <td>Direct</td>\n",
       "      <td>Direct</td>\n",
       "      <td>0</td>\n",
       "      <td>0</td>\n",
       "      <td>0</td>\n",
       "      <td>A</td>\n",
       "      <td>C</td>\n",
       "      <td>0</td>\n",
       "      <td>No Deposit</td>\n",
       "      <td>999</td>\n",
       "      <td>0</td>\n",
       "      <td>Transient</td>\n",
       "      <td>75.00</td>\n",
       "      <td>0</td>\n",
       "      <td>0</td>\n",
       "      <td>Check-Out</td>\n",
       "      <td>2015-07-02</td>\n",
       "      <td>2015-07-01</td>\n",
       "      <td>Wednesday</td>\n",
       "    </tr>\n",
       "    <tr>\n",
       "      <th>3</th>\n",
       "      <td>Resort Hotel</td>\n",
       "      <td>0</td>\n",
       "      <td>13</td>\n",
       "      <td>2015</td>\n",
       "      <td>July</td>\n",
       "      <td>27</td>\n",
       "      <td>1</td>\n",
       "      <td>0</td>\n",
       "      <td>1</td>\n",
       "      <td>1</td>\n",
       "      <td>0.00</td>\n",
       "      <td>0</td>\n",
       "      <td>BB</td>\n",
       "      <td>GBR</td>\n",
       "      <td>Corporate</td>\n",
       "      <td>Corporate</td>\n",
       "      <td>0</td>\n",
       "      <td>0</td>\n",
       "      <td>0</td>\n",
       "      <td>A</td>\n",
       "      <td>A</td>\n",
       "      <td>0</td>\n",
       "      <td>No Deposit</td>\n",
       "      <td>304</td>\n",
       "      <td>0</td>\n",
       "      <td>Transient</td>\n",
       "      <td>75.00</td>\n",
       "      <td>0</td>\n",
       "      <td>0</td>\n",
       "      <td>Check-Out</td>\n",
       "      <td>2015-07-02</td>\n",
       "      <td>2015-07-01</td>\n",
       "      <td>Wednesday</td>\n",
       "    </tr>\n",
       "    <tr>\n",
       "      <th>4</th>\n",
       "      <td>Resort Hotel</td>\n",
       "      <td>0</td>\n",
       "      <td>14</td>\n",
       "      <td>2015</td>\n",
       "      <td>July</td>\n",
       "      <td>27</td>\n",
       "      <td>1</td>\n",
       "      <td>0</td>\n",
       "      <td>2</td>\n",
       "      <td>2</td>\n",
       "      <td>0.00</td>\n",
       "      <td>0</td>\n",
       "      <td>BB</td>\n",
       "      <td>GBR</td>\n",
       "      <td>Online TA</td>\n",
       "      <td>TA/TO</td>\n",
       "      <td>0</td>\n",
       "      <td>0</td>\n",
       "      <td>0</td>\n",
       "      <td>A</td>\n",
       "      <td>A</td>\n",
       "      <td>0</td>\n",
       "      <td>No Deposit</td>\n",
       "      <td>240</td>\n",
       "      <td>0</td>\n",
       "      <td>Transient</td>\n",
       "      <td>98.00</td>\n",
       "      <td>0</td>\n",
       "      <td>1</td>\n",
       "      <td>Check-Out</td>\n",
       "      <td>2015-07-03</td>\n",
       "      <td>2015-07-01</td>\n",
       "      <td>Wednesday</td>\n",
       "    </tr>\n",
       "  </tbody>\n",
       "</table>\n",
       "</div>"
      ],
      "text/plain": [
       "          hotel  is_canceled  lead_time arrival_date_year arrival_date_month  \\\n",
       "0  Resort Hotel            0        342              2015               July   \n",
       "1  Resort Hotel            0        737              2015               July   \n",
       "2  Resort Hotel            0          7              2015               July   \n",
       "3  Resort Hotel            0         13              2015               July   \n",
       "4  Resort Hotel            0         14              2015               July   \n",
       "\n",
       "  arrival_date_week_number arrival_date_day_of_month  stays_in_weekend_nights  \\\n",
       "0                       27                         1                        0   \n",
       "1                       27                         1                        0   \n",
       "2                       27                         1                        0   \n",
       "3                       27                         1                        0   \n",
       "4                       27                         1                        0   \n",
       "\n",
       "   stays_in_week_nights  adults  children  babies meal country market_segment  \\\n",
       "0                     0       2      0.00       0   BB     PRT         Direct   \n",
       "1                     0       2      0.00       0   BB     PRT         Direct   \n",
       "2                     1       1      0.00       0   BB     GBR         Direct   \n",
       "3                     1       1      0.00       0   BB     GBR      Corporate   \n",
       "4                     2       2      0.00       0   BB     GBR      Online TA   \n",
       "\n",
       "  distribution_channel  is_repeated_guest  previous_cancellations  \\\n",
       "0               Direct                  0                       0   \n",
       "1               Direct                  0                       0   \n",
       "2               Direct                  0                       0   \n",
       "3            Corporate                  0                       0   \n",
       "4                TA/TO                  0                       0   \n",
       "\n",
       "   previous_bookings_not_canceled reserved_room_type assigned_room_type  \\\n",
       "0                               0                  C                  C   \n",
       "1                               0                  C                  C   \n",
       "2                               0                  A                  C   \n",
       "3                               0                  A                  A   \n",
       "4                               0                  A                  A   \n",
       "\n",
       "   booking_changes deposit_type agent  days_in_waiting_list customer_type  \\\n",
       "0                3   No Deposit   999                     0     Transient   \n",
       "1                4   No Deposit   999                     0     Transient   \n",
       "2                0   No Deposit   999                     0     Transient   \n",
       "3                0   No Deposit   304                     0     Transient   \n",
       "4                0   No Deposit   240                     0     Transient   \n",
       "\n",
       "    adr  required_car_parking_spaces  total_of_special_requests  \\\n",
       "0  0.00                            0                          0   \n",
       "1  0.00                            0                          0   \n",
       "2 75.00                            0                          0   \n",
       "3 75.00                            0                          0   \n",
       "4 98.00                            0                          1   \n",
       "\n",
       "  reservation_status reservation_status_date arrival_date arrival_day  \n",
       "0          Check-Out              2015-07-01   2015-07-01   Wednesday  \n",
       "1          Check-Out              2015-07-01   2015-07-01   Wednesday  \n",
       "2          Check-Out              2015-07-02   2015-07-01   Wednesday  \n",
       "3          Check-Out              2015-07-02   2015-07-01   Wednesday  \n",
       "4          Check-Out              2015-07-03   2015-07-01   Wednesday  "
      ]
     },
     "execution_count": 5,
     "metadata": {},
     "output_type": "execute_result"
    }
   ],
   "source": [
    "data = pd.read_pickle('./data/data_prepped.pickle',\n",
    "                           compression = 'gzip')\n",
    "data.head(5)"
   ]
  },
  {
   "cell_type": "markdown",
   "metadata": {},
   "source": [
    "# **Train/Test Split**"
   ]
  },
  {
   "cell_type": "markdown",
   "metadata": {},
   "source": [
    "# -- > 🛑 **FIX**: Make sure to encode cats as \"category\""
   ]
  },
  {
   "cell_type": "code",
   "execution_count": 6,
   "metadata": {
    "ExecuteTime": {
     "end_time": "2021-09-07T18:48:34.813080Z",
     "start_time": "2021-09-07T18:48:34.624076Z"
    }
   },
   "outputs": [],
   "source": [
    "## Identifying target\n",
    "target= 'is_canceled'"
   ]
  },
  {
   "cell_type": "code",
   "execution_count": 7,
   "metadata": {
    "ExecuteTime": {
     "end_time": "2021-09-07T18:48:35.077085Z",
     "start_time": "2021-09-07T18:48:34.817081Z"
    }
   },
   "outputs": [],
   "source": [
    "## Dropping target and \"reservation_status\" (nearly identical indicator)\n",
    "\n",
    "X = data.drop(columns = [target, 'reservation_status']).copy()\n",
    "y = data[target].copy()"
   ]
  },
  {
   "cell_type": "code",
   "execution_count": 8,
   "metadata": {
    "ExecuteTime": {
     "end_time": "2021-09-07T18:48:35.467087Z",
     "start_time": "2021-09-07T18:48:35.082086Z"
    }
   },
   "outputs": [
    {
     "name": "stdout",
     "output_type": "stream",
     "text": [
      "Missing values for X:\n",
      " Series([], dtype: int64)\n",
      "\n",
      "Missing values for y: 0\n"
     ]
    }
   ],
   "source": [
    "## Checking for missing values\n",
    "print(f'Missing values for X:\\n {X.isna().sum()[X.isna().sum() >0]}\\n')\n",
    "print(f'Missing values for y: {y.isna().sum()}')"
   ]
  },
  {
   "cell_type": "code",
   "execution_count": 9,
   "metadata": {
    "ExecuteTime": {
     "end_time": "2021-09-07T18:48:35.786092Z",
     "start_time": "2021-09-07T18:48:35.471091Z"
    }
   },
   "outputs": [],
   "source": [
    "## Splitting - stratify to maintain class balance b/t X_train/_test\n",
    "X_train, X_test, y_train, y_test = train_test_split(X, y, test_size = .25, \n",
    "                                                    random_state=42, \n",
    "                                                    stratify=y)"
   ]
  },
  {
   "cell_type": "code",
   "execution_count": 10,
   "metadata": {
    "ExecuteTime": {
     "end_time": "2021-09-07T18:48:35.961096Z",
     "start_time": "2021-09-07T18:48:35.789093Z"
    }
   },
   "outputs": [],
   "source": [
    "## Saving memory by deleting unused X, y\n",
    "del X, y"
   ]
  },
  {
   "cell_type": "code",
   "execution_count": 11,
   "metadata": {
    "ExecuteTime": {
     "end_time": "2021-09-07T18:48:36.147099Z",
     "start_time": "2021-09-07T18:48:35.963098Z"
    }
   },
   "outputs": [
    {
     "data": {
      "text/plain": [
       "['lead_time',\n",
       " 'stays_in_weekend_nights',\n",
       " 'stays_in_week_nights',\n",
       " 'adults',\n",
       " 'children',\n",
       " 'babies',\n",
       " 'is_repeated_guest',\n",
       " 'previous_cancellations',\n",
       " 'previous_bookings_not_canceled',\n",
       " 'booking_changes',\n",
       " 'days_in_waiting_list',\n",
       " 'adr',\n",
       " 'required_car_parking_spaces',\n",
       " 'total_of_special_requests']"
      ]
     },
     "execution_count": 11,
     "metadata": {},
     "output_type": "execute_result"
    }
   ],
   "source": [
    "## Specifying numeric columns for preprocessing\n",
    "num_cols = X_train.select_dtypes('number').columns.to_list()\n",
    "num_cols"
   ]
  },
  {
   "cell_type": "code",
   "execution_count": 12,
   "metadata": {
    "ExecuteTime": {
     "end_time": "2021-09-07T18:48:36.385101Z",
     "start_time": "2021-09-07T18:48:36.150100Z"
    }
   },
   "outputs": [
    {
     "data": {
      "text/plain": [
       "['hotel',\n",
       " 'arrival_date_year',\n",
       " 'arrival_date_month',\n",
       " 'arrival_date_week_number',\n",
       " 'arrival_date_day_of_month',\n",
       " 'meal',\n",
       " 'country',\n",
       " 'market_segment',\n",
       " 'distribution_channel',\n",
       " 'reserved_room_type',\n",
       " 'assigned_room_type',\n",
       " 'deposit_type',\n",
       " 'agent',\n",
       " 'customer_type',\n",
       " 'arrival_day']"
      ]
     },
     "execution_count": 12,
     "metadata": {},
     "output_type": "execute_result"
    }
   ],
   "source": [
    "## Specifying numeric columns for preprocessing\n",
    "cat_cols = X_train.select_dtypes(include='object').columns.to_list()\n",
    "cat_cols"
   ]
  },
  {
   "cell_type": "markdown",
   "metadata": {},
   "source": [
    "# **Prepping the Pipeline**"
   ]
  },
  {
   "cell_type": "markdown",
   "metadata": {},
   "source": [
    "---\n",
    "\n",
    "> Pipeline to streamline modeling steps:\n",
    "* Preprocessing: OHE, scaling, outliers via ƒ-XF?\n",
    "* Modeling: RFC, BRFC\n",
    "* GSCV: include as part of pipeline\n",
    "* Get results:\n",
    "    * Feature importances - **SHAP**\n",
    "\n",
    "---"
   ]
  },
  {
   "cell_type": "markdown",
   "metadata": {},
   "source": [
    "---\n",
    "\n",
    ">**FIX** Update GSCV:\n",
    ">* function transformer for outliers?\n",
    ">* add GSCV to final step?\n",
    "\n",
    "---"
   ]
  },
  {
   "cell_type": "code",
   "execution_count": 13,
   "metadata": {
    "ExecuteTime": {
     "end_time": "2021-09-07T18:48:36.575102Z",
     "start_time": "2021-09-07T18:48:36.388101Z"
    }
   },
   "outputs": [
    {
     "data": {
      "text/html": [
       "<style>div.sk-top-container {color: black;background-color: white;}div.sk-toggleable {background-color: white;}label.sk-toggleable__label {cursor: pointer;display: block;width: 100%;margin-bottom: 0;padding: 0.2em 0.3em;box-sizing: border-box;text-align: center;}div.sk-toggleable__content {max-height: 0;max-width: 0;overflow: hidden;text-align: left;background-color: #f0f8ff;}div.sk-toggleable__content pre {margin: 0.2em;color: black;border-radius: 0.25em;background-color: #f0f8ff;}input.sk-toggleable__control:checked~div.sk-toggleable__content {max-height: 200px;max-width: 100%;overflow: auto;}div.sk-estimator input.sk-toggleable__control:checked~label.sk-toggleable__label {background-color: #d4ebff;}div.sk-label input.sk-toggleable__control:checked~label.sk-toggleable__label {background-color: #d4ebff;}input.sk-hidden--visually {border: 0;clip: rect(1px 1px 1px 1px);clip: rect(1px, 1px, 1px, 1px);height: 1px;margin: -1px;overflow: hidden;padding: 0;position: absolute;width: 1px;}div.sk-estimator {font-family: monospace;background-color: #f0f8ff;margin: 0.25em 0.25em;border: 1px dotted black;border-radius: 0.25em;box-sizing: border-box;}div.sk-estimator:hover {background-color: #d4ebff;}div.sk-parallel-item::after {content: \"\";width: 100%;border-bottom: 1px solid gray;flex-grow: 1;}div.sk-label:hover label.sk-toggleable__label {background-color: #d4ebff;}div.sk-serial::before {content: \"\";position: absolute;border-left: 1px solid gray;box-sizing: border-box;top: 2em;bottom: 0;left: 50%;}div.sk-serial {display: flex;flex-direction: column;align-items: center;background-color: white;}div.sk-item {z-index: 1;}div.sk-parallel {display: flex;align-items: stretch;justify-content: center;background-color: white;}div.sk-parallel-item {display: flex;flex-direction: column;position: relative;background-color: white;}div.sk-parallel-item:first-child::after {align-self: flex-end;width: 50%;}div.sk-parallel-item:last-child::after {align-self: flex-start;width: 50%;}div.sk-parallel-item:only-child::after {width: 0;}div.sk-dashed-wrapped {border: 1px dashed gray;margin: 0.2em;box-sizing: border-box;padding-bottom: 0.1em;background-color: white;position: relative;}div.sk-label label {font-family: monospace;font-weight: bold;background-color: white;display: inline-block;line-height: 1.2em;}div.sk-label-container {position: relative;z-index: 2;text-align: center;}div.sk-container {display: inline-block;position: relative;}</style><div class=\"sk-top-container\"><div class=\"sk-container\"><div class=\"sk-item sk-dashed-wrapped\"><div class=\"sk-label-container\"><div class=\"sk-label sk-toggleable\"><input class=\"sk-toggleable__control sk-hidden--visually\" id=\"22dd7efa-64ed-46e8-9ec8-a3fe7495efa1\" type=\"checkbox\" ><label class=\"sk-toggleable__label\" for=\"22dd7efa-64ed-46e8-9ec8-a3fe7495efa1\">ColumnTransformer</label><div class=\"sk-toggleable__content\"><pre>ColumnTransformer(transformers=[('num',\n",
       "                                 Pipeline(steps=[('scaler', StandardScaler())]),\n",
       "                                 ['lead_time', 'stays_in_weekend_nights',\n",
       "                                  'stays_in_week_nights', 'adults', 'children',\n",
       "                                  'babies', 'is_repeated_guest',\n",
       "                                  'previous_cancellations',\n",
       "                                  'previous_bookings_not_canceled',\n",
       "                                  'booking_changes', 'days_in_waiting_list',\n",
       "                                  'adr', 'required_car_parking_spaces',\n",
       "                                  'total_of_special_r...s']),\n",
       "                                ('cat',\n",
       "                                 Pipeline(steps=[('ohe',\n",
       "                                                  OneHotEncoder(handle_unknown='ignore',\n",
       "                                                                sparse=False))]),\n",
       "                                 ['hotel', 'arrival_date_year',\n",
       "                                  'arrival_date_month',\n",
       "                                  'arrival_date_week_number',\n",
       "                                  'arrival_date_day_of_month', 'meal',\n",
       "                                  'country', 'market_segment',\n",
       "                                  'distribution_channel', 'reserved_room_type',\n",
       "                                  'assigned_room_type', 'deposit_type', 'agent',\n",
       "                                  'customer_type', 'arrival_day'])])</pre></div></div></div><div class=\"sk-parallel\"><div class=\"sk-parallel-item\"><div class=\"sk-item\"><div class=\"sk-label-container\"><div class=\"sk-label sk-toggleable\"><input class=\"sk-toggleable__control sk-hidden--visually\" id=\"10f027d5-c1ea-4d69-ba93-436aa149c3c4\" type=\"checkbox\" ><label class=\"sk-toggleable__label\" for=\"10f027d5-c1ea-4d69-ba93-436aa149c3c4\">num</label><div class=\"sk-toggleable__content\"><pre>['lead_time', 'stays_in_weekend_nights', 'stays_in_week_nights', 'adults', 'children', 'babies', 'is_repeated_guest', 'previous_cancellations', 'previous_bookings_not_canceled', 'booking_changes', 'days_in_waiting_list', 'adr', 'required_car_parking_spaces', 'total_of_special_requests']</pre></div></div></div><div class=\"sk-serial\"><div class=\"sk-item\"><div class=\"sk-serial\"><div class=\"sk-item\"><div class=\"sk-estimator sk-toggleable\"><input class=\"sk-toggleable__control sk-hidden--visually\" id=\"9738a9dd-7f14-49a9-8947-924149ee0961\" type=\"checkbox\" ><label class=\"sk-toggleable__label\" for=\"9738a9dd-7f14-49a9-8947-924149ee0961\">StandardScaler</label><div class=\"sk-toggleable__content\"><pre>StandardScaler()</pre></div></div></div></div></div></div></div></div><div class=\"sk-parallel-item\"><div class=\"sk-item\"><div class=\"sk-label-container\"><div class=\"sk-label sk-toggleable\"><input class=\"sk-toggleable__control sk-hidden--visually\" id=\"bbe229a1-73eb-47a0-b3fb-2523b420f08c\" type=\"checkbox\" ><label class=\"sk-toggleable__label\" for=\"bbe229a1-73eb-47a0-b3fb-2523b420f08c\">cat</label><div class=\"sk-toggleable__content\"><pre>['hotel', 'arrival_date_year', 'arrival_date_month', 'arrival_date_week_number', 'arrival_date_day_of_month', 'meal', 'country', 'market_segment', 'distribution_channel', 'reserved_room_type', 'assigned_room_type', 'deposit_type', 'agent', 'customer_type', 'arrival_day']</pre></div></div></div><div class=\"sk-serial\"><div class=\"sk-item\"><div class=\"sk-serial\"><div class=\"sk-item\"><div class=\"sk-estimator sk-toggleable\"><input class=\"sk-toggleable__control sk-hidden--visually\" id=\"8e1a63c8-8087-4b91-a27e-bbfd915e2931\" type=\"checkbox\" ><label class=\"sk-toggleable__label\" for=\"8e1a63c8-8087-4b91-a27e-bbfd915e2931\">OneHotEncoder</label><div class=\"sk-toggleable__content\"><pre>OneHotEncoder(handle_unknown='ignore', sparse=False)</pre></div></div></div></div></div></div></div></div></div></div></div></div>"
      ],
      "text/plain": [
       "ColumnTransformer(transformers=[('num',\n",
       "                                 Pipeline(steps=[('scaler', StandardScaler())]),\n",
       "                                 ['lead_time', 'stays_in_weekend_nights',\n",
       "                                  'stays_in_week_nights', 'adults', 'children',\n",
       "                                  'babies', 'is_repeated_guest',\n",
       "                                  'previous_cancellations',\n",
       "                                  'previous_bookings_not_canceled',\n",
       "                                  'booking_changes', 'days_in_waiting_list',\n",
       "                                  'adr', 'required_car_parking_spaces',\n",
       "                                  'total_of_special_r...s']),\n",
       "                                ('cat',\n",
       "                                 Pipeline(steps=[('ohe',\n",
       "                                                  OneHotEncoder(handle_unknown='ignore',\n",
       "                                                                sparse=False))]),\n",
       "                                 ['hotel', 'arrival_date_year',\n",
       "                                  'arrival_date_month',\n",
       "                                  'arrival_date_week_number',\n",
       "                                  'arrival_date_day_of_month', 'meal',\n",
       "                                  'country', 'market_segment',\n",
       "                                  'distribution_channel', 'reserved_room_type',\n",
       "                                  'assigned_room_type', 'deposit_type', 'agent',\n",
       "                                  'customer_type', 'arrival_day'])])"
      ]
     },
     "execution_count": 13,
     "metadata": {},
     "output_type": "execute_result"
    }
   ],
   "source": [
    "## Creating ColumnTransformer and sub-transformers for imputation and encoding\n",
    "\n",
    "### --- Creating column pipelines --- ###\n",
    "\n",
    "cat_pipe = Pipeline(steps=[('ohe', OneHotEncoder(handle_unknown='ignore',\n",
    "                                                 sparse=False))])\n",
    "\n",
    "num_pipe = Pipeline(steps=[('scaler', StandardScaler())])\n",
    "\n",
    "## Instantiating the ColumnTransformer\n",
    "\n",
    "preprocessor = ColumnTransformer(\n",
    "    transformers=[('num', num_pipe, num_cols),\n",
    "                  ('cat', cat_pipe, cat_cols)\n",
    "                  ])\n",
    "\n",
    "preprocessor"
   ]
  },
  {
   "cell_type": "code",
   "execution_count": 14,
   "metadata": {
    "ExecuteTime": {
     "end_time": "2021-09-07T18:48:38.185121Z",
     "start_time": "2021-09-07T18:48:36.578104Z"
    }
   },
   "outputs": [
    {
     "data": {
      "text/plain": [
       "['lead_time',\n",
       " 'stays_in_weekend_nights',\n",
       " 'stays_in_week_nights',\n",
       " 'adults',\n",
       " 'children',\n",
       " 'babies',\n",
       " 'is_repeated_guest',\n",
       " 'previous_cancellations',\n",
       " 'previous_bookings_not_canceled',\n",
       " 'booking_changes',\n",
       " 'days_in_waiting_list',\n",
       " 'adr',\n",
       " 'required_car_parking_spaces',\n",
       " 'total_of_special_requests',\n",
       " 'hotel_City Hotel',\n",
       " 'hotel_Resort Hotel',\n",
       " 'arrival_date_year_2015',\n",
       " 'arrival_date_year_2016',\n",
       " 'arrival_date_year_2017',\n",
       " 'arrival_date_month_April',\n",
       " 'arrival_date_month_August',\n",
       " 'arrival_date_month_December',\n",
       " 'arrival_date_month_February',\n",
       " 'arrival_date_month_January',\n",
       " 'arrival_date_month_July',\n",
       " 'arrival_date_month_June',\n",
       " 'arrival_date_month_March',\n",
       " 'arrival_date_month_May',\n",
       " 'arrival_date_month_November',\n",
       " 'arrival_date_month_October',\n",
       " 'arrival_date_month_September',\n",
       " 'arrival_date_week_number_1',\n",
       " 'arrival_date_week_number_10',\n",
       " 'arrival_date_week_number_11',\n",
       " 'arrival_date_week_number_12',\n",
       " 'arrival_date_week_number_13',\n",
       " 'arrival_date_week_number_14',\n",
       " 'arrival_date_week_number_15',\n",
       " 'arrival_date_week_number_16',\n",
       " 'arrival_date_week_number_17',\n",
       " 'arrival_date_week_number_18',\n",
       " 'arrival_date_week_number_19',\n",
       " 'arrival_date_week_number_2',\n",
       " 'arrival_date_week_number_20',\n",
       " 'arrival_date_week_number_21',\n",
       " 'arrival_date_week_number_22',\n",
       " 'arrival_date_week_number_23',\n",
       " 'arrival_date_week_number_24',\n",
       " 'arrival_date_week_number_25',\n",
       " 'arrival_date_week_number_26',\n",
       " 'arrival_date_week_number_27',\n",
       " 'arrival_date_week_number_28',\n",
       " 'arrival_date_week_number_29',\n",
       " 'arrival_date_week_number_3',\n",
       " 'arrival_date_week_number_30',\n",
       " 'arrival_date_week_number_31',\n",
       " 'arrival_date_week_number_32',\n",
       " 'arrival_date_week_number_33',\n",
       " 'arrival_date_week_number_34',\n",
       " 'arrival_date_week_number_35',\n",
       " 'arrival_date_week_number_36',\n",
       " 'arrival_date_week_number_37',\n",
       " 'arrival_date_week_number_38',\n",
       " 'arrival_date_week_number_39',\n",
       " 'arrival_date_week_number_4',\n",
       " 'arrival_date_week_number_40',\n",
       " 'arrival_date_week_number_41',\n",
       " 'arrival_date_week_number_42',\n",
       " 'arrival_date_week_number_43',\n",
       " 'arrival_date_week_number_44',\n",
       " 'arrival_date_week_number_45',\n",
       " 'arrival_date_week_number_46',\n",
       " 'arrival_date_week_number_47',\n",
       " 'arrival_date_week_number_48',\n",
       " 'arrival_date_week_number_49',\n",
       " 'arrival_date_week_number_5',\n",
       " 'arrival_date_week_number_50',\n",
       " 'arrival_date_week_number_51',\n",
       " 'arrival_date_week_number_52',\n",
       " 'arrival_date_week_number_53',\n",
       " 'arrival_date_week_number_6',\n",
       " 'arrival_date_week_number_7',\n",
       " 'arrival_date_week_number_8',\n",
       " 'arrival_date_week_number_9',\n",
       " 'arrival_date_day_of_month_1',\n",
       " 'arrival_date_day_of_month_10',\n",
       " 'arrival_date_day_of_month_11',\n",
       " 'arrival_date_day_of_month_12',\n",
       " 'arrival_date_day_of_month_13',\n",
       " 'arrival_date_day_of_month_14',\n",
       " 'arrival_date_day_of_month_15',\n",
       " 'arrival_date_day_of_month_16',\n",
       " 'arrival_date_day_of_month_17',\n",
       " 'arrival_date_day_of_month_18',\n",
       " 'arrival_date_day_of_month_19',\n",
       " 'arrival_date_day_of_month_2',\n",
       " 'arrival_date_day_of_month_20',\n",
       " 'arrival_date_day_of_month_21',\n",
       " 'arrival_date_day_of_month_22',\n",
       " 'arrival_date_day_of_month_23',\n",
       " 'arrival_date_day_of_month_24',\n",
       " 'arrival_date_day_of_month_25',\n",
       " 'arrival_date_day_of_month_26',\n",
       " 'arrival_date_day_of_month_27',\n",
       " 'arrival_date_day_of_month_28',\n",
       " 'arrival_date_day_of_month_29',\n",
       " 'arrival_date_day_of_month_3',\n",
       " 'arrival_date_day_of_month_30',\n",
       " 'arrival_date_day_of_month_31',\n",
       " 'arrival_date_day_of_month_4',\n",
       " 'arrival_date_day_of_month_5',\n",
       " 'arrival_date_day_of_month_6',\n",
       " 'arrival_date_day_of_month_7',\n",
       " 'arrival_date_day_of_month_8',\n",
       " 'arrival_date_day_of_month_9',\n",
       " 'meal_BB',\n",
       " 'meal_FB',\n",
       " 'meal_HB',\n",
       " 'meal_SC',\n",
       " 'meal_Undefined',\n",
       " 'country_ABW',\n",
       " 'country_AGO',\n",
       " 'country_AIA',\n",
       " 'country_ALB',\n",
       " 'country_AND',\n",
       " 'country_ARE',\n",
       " 'country_ARG',\n",
       " 'country_ARM',\n",
       " 'country_ASM',\n",
       " 'country_ATA',\n",
       " 'country_ATF',\n",
       " 'country_AUS',\n",
       " 'country_AUT',\n",
       " 'country_AZE',\n",
       " 'country_BEL',\n",
       " 'country_BEN',\n",
       " 'country_BFA',\n",
       " 'country_BGD',\n",
       " 'country_BGR',\n",
       " 'country_BHR',\n",
       " 'country_BIH',\n",
       " 'country_BLR',\n",
       " 'country_BOL',\n",
       " 'country_BRA',\n",
       " 'country_BRB',\n",
       " 'country_CAF',\n",
       " 'country_CHE',\n",
       " 'country_CHL',\n",
       " 'country_CHN',\n",
       " 'country_CIV',\n",
       " 'country_CMR',\n",
       " 'country_CN',\n",
       " 'country_COL',\n",
       " 'country_COM',\n",
       " 'country_CPV',\n",
       " 'country_CRI',\n",
       " 'country_CUB',\n",
       " 'country_CYM',\n",
       " 'country_CYP',\n",
       " 'country_CZE',\n",
       " 'country_DEU',\n",
       " 'country_DJI',\n",
       " 'country_DMA',\n",
       " 'country_DNK',\n",
       " 'country_DOM',\n",
       " 'country_DZA',\n",
       " 'country_ECU',\n",
       " 'country_EGY',\n",
       " 'country_ESP',\n",
       " 'country_EST',\n",
       " 'country_ETH',\n",
       " 'country_FIN',\n",
       " 'country_FJI',\n",
       " 'country_FRA',\n",
       " 'country_FRO',\n",
       " 'country_GAB',\n",
       " 'country_GBR',\n",
       " 'country_GEO',\n",
       " 'country_GGY',\n",
       " 'country_GHA',\n",
       " 'country_GIB',\n",
       " 'country_GLP',\n",
       " 'country_GNB',\n",
       " 'country_GRC',\n",
       " 'country_GTM',\n",
       " 'country_HKG',\n",
       " 'country_HND',\n",
       " 'country_HRV',\n",
       " 'country_HUN',\n",
       " 'country_IDN',\n",
       " 'country_IMN',\n",
       " 'country_IND',\n",
       " 'country_IRL',\n",
       " 'country_IRN',\n",
       " 'country_IRQ',\n",
       " 'country_ISL',\n",
       " 'country_ISR',\n",
       " 'country_ITA',\n",
       " 'country_JAM',\n",
       " 'country_JEY',\n",
       " 'country_JOR',\n",
       " 'country_JPN',\n",
       " 'country_KAZ',\n",
       " 'country_KEN',\n",
       " 'country_KHM',\n",
       " 'country_KNA',\n",
       " 'country_KOR',\n",
       " 'country_KWT',\n",
       " 'country_LAO',\n",
       " 'country_LBN',\n",
       " 'country_LBY',\n",
       " 'country_LIE',\n",
       " 'country_LKA',\n",
       " 'country_LTU',\n",
       " 'country_LUX',\n",
       " 'country_LVA',\n",
       " 'country_MAC',\n",
       " 'country_MAR',\n",
       " 'country_MCO',\n",
       " 'country_MDG',\n",
       " 'country_MDV',\n",
       " 'country_MEX',\n",
       " 'country_MKD',\n",
       " 'country_MLI',\n",
       " 'country_MLT',\n",
       " 'country_MNE',\n",
       " 'country_MOZ',\n",
       " 'country_MUS',\n",
       " 'country_MWI',\n",
       " 'country_MYS',\n",
       " 'country_MYT',\n",
       " 'country_NAM',\n",
       " 'country_NCL',\n",
       " 'country_NGA',\n",
       " 'country_NIC',\n",
       " 'country_NLD',\n",
       " 'country_NOR',\n",
       " 'country_NPL',\n",
       " 'country_NZL',\n",
       " 'country_OMN',\n",
       " 'country_PAK',\n",
       " 'country_PAN',\n",
       " 'country_PER',\n",
       " 'country_PHL',\n",
       " 'country_PLW',\n",
       " 'country_POL',\n",
       " 'country_PRI',\n",
       " 'country_PRT',\n",
       " 'country_PRY',\n",
       " 'country_PYF',\n",
       " 'country_QAT',\n",
       " 'country_ROU',\n",
       " 'country_RUS',\n",
       " 'country_RWA',\n",
       " 'country_SAU',\n",
       " 'country_SDN',\n",
       " 'country_SEN',\n",
       " 'country_SGP',\n",
       " 'country_SLE',\n",
       " 'country_SLV',\n",
       " 'country_SMR',\n",
       " 'country_SRB',\n",
       " 'country_STP',\n",
       " 'country_SUR',\n",
       " 'country_SVK',\n",
       " 'country_SVN',\n",
       " 'country_SWE',\n",
       " 'country_SYC',\n",
       " 'country_SYR',\n",
       " 'country_TGO',\n",
       " 'country_THA',\n",
       " 'country_TJK',\n",
       " 'country_TMP',\n",
       " 'country_TUN',\n",
       " 'country_TUR',\n",
       " 'country_TWN',\n",
       " 'country_TZA',\n",
       " 'country_UGA',\n",
       " 'country_UKR',\n",
       " 'country_URY',\n",
       " 'country_USA',\n",
       " 'country_UZB',\n",
       " 'country_VEN',\n",
       " 'country_VNM',\n",
       " 'country_ZAF',\n",
       " 'country_ZMB',\n",
       " 'country_ZWE',\n",
       " 'market_segment_Aviation',\n",
       " 'market_segment_Complementary',\n",
       " 'market_segment_Corporate',\n",
       " 'market_segment_Direct',\n",
       " 'market_segment_Groups',\n",
       " 'market_segment_Offline TA/TO',\n",
       " 'market_segment_Online TA',\n",
       " 'market_segment_Undefined',\n",
       " 'distribution_channel_Corporate',\n",
       " 'distribution_channel_Direct',\n",
       " 'distribution_channel_GDS',\n",
       " 'distribution_channel_TA/TO',\n",
       " 'distribution_channel_Undefined',\n",
       " 'reserved_room_type_A',\n",
       " 'reserved_room_type_B',\n",
       " 'reserved_room_type_C',\n",
       " 'reserved_room_type_D',\n",
       " 'reserved_room_type_E',\n",
       " 'reserved_room_type_F',\n",
       " 'reserved_room_type_G',\n",
       " 'reserved_room_type_H',\n",
       " 'reserved_room_type_L',\n",
       " 'reserved_room_type_P',\n",
       " 'assigned_room_type_A',\n",
       " 'assigned_room_type_B',\n",
       " 'assigned_room_type_C',\n",
       " 'assigned_room_type_D',\n",
       " 'assigned_room_type_E',\n",
       " 'assigned_room_type_F',\n",
       " 'assigned_room_type_G',\n",
       " 'assigned_room_type_H',\n",
       " 'assigned_room_type_I',\n",
       " 'assigned_room_type_K',\n",
       " 'assigned_room_type_L',\n",
       " 'assigned_room_type_P',\n",
       " 'deposit_type_No Deposit',\n",
       " 'deposit_type_Non Refund',\n",
       " 'deposit_type_Refundable',\n",
       " 'agent_1',\n",
       " 'agent_10',\n",
       " 'agent_103',\n",
       " 'agent_104',\n",
       " 'agent_105',\n",
       " 'agent_106',\n",
       " 'agent_107',\n",
       " 'agent_11',\n",
       " 'agent_110',\n",
       " 'agent_111',\n",
       " 'agent_112',\n",
       " 'agent_114',\n",
       " 'agent_115',\n",
       " 'agent_118',\n",
       " 'agent_119',\n",
       " 'agent_12',\n",
       " 'agent_121',\n",
       " 'agent_122',\n",
       " 'agent_126',\n",
       " 'agent_127',\n",
       " 'agent_128',\n",
       " 'agent_129',\n",
       " 'agent_13',\n",
       " 'agent_132',\n",
       " 'agent_133',\n",
       " 'agent_134',\n",
       " 'agent_135',\n",
       " 'agent_138',\n",
       " 'agent_139',\n",
       " 'agent_14',\n",
       " 'agent_141',\n",
       " 'agent_142',\n",
       " 'agent_143',\n",
       " 'agent_144',\n",
       " 'agent_146',\n",
       " 'agent_147',\n",
       " 'agent_148',\n",
       " 'agent_149',\n",
       " 'agent_15',\n",
       " 'agent_150',\n",
       " 'agent_151',\n",
       " 'agent_152',\n",
       " 'agent_153',\n",
       " 'agent_154',\n",
       " 'agent_155',\n",
       " 'agent_156',\n",
       " 'agent_157',\n",
       " 'agent_159',\n",
       " 'agent_16',\n",
       " 'agent_162',\n",
       " 'agent_163',\n",
       " 'agent_165',\n",
       " 'agent_167',\n",
       " 'agent_168',\n",
       " 'agent_17',\n",
       " 'agent_170',\n",
       " 'agent_171',\n",
       " 'agent_173',\n",
       " 'agent_174',\n",
       " 'agent_175',\n",
       " 'agent_177',\n",
       " 'agent_179',\n",
       " 'agent_180',\n",
       " 'agent_181',\n",
       " 'agent_182',\n",
       " 'agent_183',\n",
       " 'agent_184',\n",
       " 'agent_185',\n",
       " 'agent_187',\n",
       " 'agent_19',\n",
       " 'agent_191',\n",
       " 'agent_192',\n",
       " 'agent_193',\n",
       " 'agent_195',\n",
       " 'agent_196',\n",
       " 'agent_197',\n",
       " 'agent_2',\n",
       " 'agent_20',\n",
       " 'agent_201',\n",
       " 'agent_205',\n",
       " 'agent_208',\n",
       " 'agent_21',\n",
       " 'agent_210',\n",
       " 'agent_211',\n",
       " 'agent_213',\n",
       " 'agent_214',\n",
       " 'agent_215',\n",
       " 'agent_219',\n",
       " 'agent_22',\n",
       " 'agent_220',\n",
       " 'agent_223',\n",
       " 'agent_227',\n",
       " 'agent_229',\n",
       " 'agent_23',\n",
       " 'agent_232',\n",
       " 'agent_234',\n",
       " 'agent_235',\n",
       " 'agent_236',\n",
       " 'agent_24',\n",
       " 'agent_240',\n",
       " 'agent_241',\n",
       " 'agent_242',\n",
       " 'agent_243',\n",
       " 'agent_244',\n",
       " 'agent_245',\n",
       " 'agent_247',\n",
       " 'agent_248',\n",
       " 'agent_249',\n",
       " 'agent_25',\n",
       " 'agent_250',\n",
       " 'agent_251',\n",
       " 'agent_252',\n",
       " 'agent_253',\n",
       " 'agent_254',\n",
       " 'agent_256',\n",
       " 'agent_257',\n",
       " 'agent_258',\n",
       " 'agent_26',\n",
       " 'agent_261',\n",
       " 'agent_262',\n",
       " 'agent_265',\n",
       " 'agent_267',\n",
       " 'agent_269',\n",
       " 'agent_27',\n",
       " 'agent_270',\n",
       " 'agent_273',\n",
       " 'agent_275',\n",
       " 'agent_276',\n",
       " 'agent_278',\n",
       " 'agent_28',\n",
       " 'agent_280',\n",
       " 'agent_281',\n",
       " 'agent_282',\n",
       " 'agent_283',\n",
       " 'agent_285',\n",
       " 'agent_286',\n",
       " 'agent_287',\n",
       " 'agent_288',\n",
       " 'agent_289',\n",
       " 'agent_29',\n",
       " 'agent_290',\n",
       " 'agent_291',\n",
       " 'agent_295',\n",
       " 'agent_296',\n",
       " 'agent_298',\n",
       " 'agent_299',\n",
       " 'agent_3',\n",
       " 'agent_30',\n",
       " 'agent_300',\n",
       " 'agent_301',\n",
       " 'agent_302',\n",
       " 'agent_303',\n",
       " 'agent_304',\n",
       " 'agent_305',\n",
       " 'agent_306',\n",
       " 'agent_307',\n",
       " 'agent_308',\n",
       " 'agent_31',\n",
       " 'agent_310',\n",
       " 'agent_313',\n",
       " 'agent_314',\n",
       " 'agent_315',\n",
       " 'agent_32',\n",
       " 'agent_321',\n",
       " 'agent_323',\n",
       " 'agent_324',\n",
       " 'agent_325',\n",
       " 'agent_326',\n",
       " 'agent_327',\n",
       " 'agent_328',\n",
       " 'agent_33',\n",
       " 'agent_330',\n",
       " 'agent_331',\n",
       " 'agent_332',\n",
       " 'agent_333',\n",
       " 'agent_334',\n",
       " 'agent_335',\n",
       " 'agent_336',\n",
       " 'agent_337',\n",
       " 'agent_339',\n",
       " 'agent_34',\n",
       " 'agent_341',\n",
       " 'agent_344',\n",
       " 'agent_346',\n",
       " 'agent_348',\n",
       " 'agent_35',\n",
       " 'agent_350',\n",
       " 'agent_352',\n",
       " 'agent_354',\n",
       " 'agent_355',\n",
       " 'agent_358',\n",
       " 'agent_359',\n",
       " 'agent_36',\n",
       " 'agent_360',\n",
       " 'agent_363',\n",
       " 'agent_364',\n",
       " 'agent_367',\n",
       " 'agent_368',\n",
       " 'agent_37',\n",
       " 'agent_370',\n",
       " 'agent_371',\n",
       " 'agent_375',\n",
       " 'agent_378',\n",
       " 'agent_38',\n",
       " 'agent_384',\n",
       " 'agent_385',\n",
       " 'agent_387',\n",
       " 'agent_388',\n",
       " 'agent_39',\n",
       " 'agent_390',\n",
       " 'agent_391',\n",
       " 'agent_393',\n",
       " 'agent_394',\n",
       " 'agent_397',\n",
       " 'agent_4',\n",
       " 'agent_40',\n",
       " 'agent_403',\n",
       " 'agent_404',\n",
       " 'agent_405',\n",
       " 'agent_406',\n",
       " 'agent_41',\n",
       " 'agent_410',\n",
       " 'agent_411',\n",
       " 'agent_414',\n",
       " 'agent_416',\n",
       " 'agent_418',\n",
       " 'agent_42',\n",
       " 'agent_420',\n",
       " 'agent_423',\n",
       " 'agent_425',\n",
       " 'agent_426',\n",
       " 'agent_427',\n",
       " 'agent_429',\n",
       " 'agent_430',\n",
       " 'agent_431',\n",
       " 'agent_432',\n",
       " 'agent_433',\n",
       " 'agent_434',\n",
       " 'agent_436',\n",
       " 'agent_438',\n",
       " 'agent_44',\n",
       " 'agent_440',\n",
       " 'agent_441',\n",
       " 'agent_444',\n",
       " 'agent_446',\n",
       " 'agent_449',\n",
       " 'agent_45',\n",
       " 'agent_450',\n",
       " 'agent_451',\n",
       " 'agent_454',\n",
       " 'agent_455',\n",
       " 'agent_459',\n",
       " 'agent_461',\n",
       " 'agent_464',\n",
       " 'agent_467',\n",
       " 'agent_468',\n",
       " 'agent_469',\n",
       " 'agent_47',\n",
       " 'agent_472',\n",
       " 'agent_474',\n",
       " 'agent_475',\n",
       " 'agent_476',\n",
       " 'agent_479',\n",
       " 'agent_481',\n",
       " 'agent_483',\n",
       " 'agent_484',\n",
       " 'agent_492',\n",
       " 'agent_493',\n",
       " 'agent_495',\n",
       " 'agent_497',\n",
       " 'agent_5',\n",
       " 'agent_50',\n",
       " 'agent_502',\n",
       " 'agent_508',\n",
       " 'agent_509',\n",
       " 'agent_510',\n",
       " 'agent_52',\n",
       " 'agent_526',\n",
       " 'agent_527',\n",
       " 'agent_53',\n",
       " 'agent_531',\n",
       " 'agent_535',\n",
       " 'agent_55',\n",
       " 'agent_56',\n",
       " 'agent_57',\n",
       " 'agent_58',\n",
       " 'agent_59',\n",
       " 'agent_6',\n",
       " 'agent_60',\n",
       " 'agent_61',\n",
       " 'agent_63',\n",
       " 'agent_64',\n",
       " 'agent_66',\n",
       " 'agent_67',\n",
       " 'agent_68',\n",
       " 'agent_69',\n",
       " 'agent_7',\n",
       " 'agent_70',\n",
       " 'agent_71',\n",
       " 'agent_72',\n",
       " 'agent_74',\n",
       " 'agent_75',\n",
       " 'agent_77',\n",
       " 'agent_78',\n",
       " 'agent_79',\n",
       " 'agent_8',\n",
       " 'agent_81',\n",
       " 'agent_82',\n",
       " 'agent_83',\n",
       " 'agent_85',\n",
       " 'agent_86',\n",
       " 'agent_87',\n",
       " 'agent_88',\n",
       " 'agent_89',\n",
       " 'agent_9',\n",
       " 'agent_90',\n",
       " 'agent_91',\n",
       " 'agent_92',\n",
       " 'agent_93',\n",
       " 'agent_94',\n",
       " 'agent_95',\n",
       " 'agent_96',\n",
       " 'agent_98',\n",
       " 'agent_99',\n",
       " 'agent_999',\n",
       " 'customer_type_Contract',\n",
       " 'customer_type_Group',\n",
       " 'customer_type_Transient',\n",
       " 'customer_type_Transient-Party',\n",
       " 'arrival_day_Friday',\n",
       " 'arrival_day_Monday',\n",
       " 'arrival_day_Saturday',\n",
       " 'arrival_day_Sunday',\n",
       " 'arrival_day_Thursday',\n",
       " 'arrival_day_Tuesday',\n",
       " 'arrival_day_Wednesday']"
      ]
     },
     "execution_count": 14,
     "metadata": {},
     "output_type": "execute_result"
    }
   ],
   "source": [
    "## Fitting feature preprocessor\n",
    "preprocessor.fit(X_train)\n",
    "\n",
    "## Getting feature names from OHE\n",
    "ohe_cat_names = preprocessor.named_transformers_['cat'].named_steps['ohe'].get_feature_names(cat_cols)\n",
    "\n",
    "## Generating list for column index\n",
    "final_cols = [*num_cols, *ohe_cat_names]\n",
    "\n",
    "final_cols"
   ]
  },
  {
   "cell_type": "code",
   "execution_count": null,
   "metadata": {
    "ExecuteTime": {
     "start_time": "2021-09-07T18:48:28.203Z"
    }
   },
   "outputs": [],
   "source": [
    "## Transform the data via the ColumnTransformer preprocessor\n",
    "\n",
    "X_train_tf = preprocessor.transform(X_train)\n",
    "X_train_tf_df = pd.DataFrame(X_train_tf, columns=final_cols, index=X_train.index)\n",
    "\n",
    "X_test_tf = preprocessor.transform(X_test)\n",
    "X_test_tf_df = pd.DataFrame(X_test_tf, columns=final_cols, index=X_test.index)\n",
    "\n",
    "display(X_train_tf_df.head(5),X_test_tf_df.head(5))"
   ]
  },
  {
   "cell_type": "markdown",
   "metadata": {},
   "source": [
    "# **--->** 🛑 Add Comment: Class Imbalance"
   ]
  },
  {
   "cell_type": "markdown",
   "metadata": {},
   "source": [
    "---\n",
    "\n",
    "> Due to class imbalance, will attempt to use \"class_weight = balanced\" to correct.\n",
    "\n",
    "---"
   ]
  },
  {
   "cell_type": "markdown",
   "metadata": {},
   "source": [
    "# Performing SMOTE prior to modeling"
   ]
  },
  {
   "cell_type": "code",
   "execution_count": null,
   "metadata": {
    "ExecuteTime": {
     "start_time": "2021-09-07T18:48:28.210Z"
    }
   },
   "outputs": [],
   "source": [
    "# smote = SMOTE()\n",
    "\n",
    "# X_train_smote, y_train_smote = smote.fit_sample(X_train_tf_df,y_train)\n",
    "# pd.Series(y_train_smote).value_counts()"
   ]
  },
  {
   "cell_type": "code",
   "execution_count": null,
   "metadata": {
    "ExecuteTime": {
     "start_time": "2021-09-07T18:48:28.216Z"
    }
   },
   "outputs": [],
   "source": [
    "# smote_feats = [False]*len(num_cols) +[True]*len(ohe_cat_names)\n",
    "# smote_feats"
   ]
  },
  {
   "cell_type": "code",
   "execution_count": null,
   "metadata": {
    "ExecuteTime": {
     "start_time": "2021-09-07T18:48:28.221Z"
    }
   },
   "outputs": [],
   "source": [
    "# smote_nc = SMOTENC(categorical_features=smote_feats, random_state=42)\n",
    "# X_resampled, y_resampled = smote_nc.fit_resample(X_train_tf_df, y_train)"
   ]
  },
  {
   "cell_type": "markdown",
   "metadata": {},
   "source": [
    "# **Baseline Model**"
   ]
  },
  {
   "cell_type": "code",
   "execution_count": null,
   "metadata": {
    "ExecuteTime": {
     "start_time": "2021-09-07T18:48:28.226Z"
    }
   },
   "outputs": [],
   "source": [
    "## Creating baseline classifier model\n",
    "\n",
    "base = DummyClassifier(strategy='stratified', random_state = 42)\n",
    "\n",
    "base.fit(X_train_tf_df, y_train)\n",
    "\n",
    "clf.evaluate_classification(base,X_train = X_train_tf_df, y_train = y_train,\n",
    "                           X_test = X_test_tf_df, y_test = y_test, \n",
    "                           metric = 'balanced accuracy')"
   ]
  },
  {
   "cell_type": "markdown",
   "metadata": {},
   "source": [
    "# -- > 🛑 **FIX**: Re-run all models w/ new data, kfold CV"
   ]
  },
  {
   "cell_type": "markdown",
   "metadata": {},
   "source": [
    "# **Logistic Regression Model**"
   ]
  },
  {
   "cell_type": "markdown",
   "metadata": {},
   "source": [
    "---\n",
    "\n",
    "**Results:**\n",
    "\n",
    "> Training balanced accuracy score: 0.82\n",
    "> \n",
    "> Testing balanced accuracy score: 0.82\n",
    "> \n",
    "> * *The scores are the same size.*\n",
    ">\n",
    "> Training data log loss: 0.37\n",
    ">\n",
    "> Testing data log loss: 0.37\n",
    "\n",
    "---\n",
    "\n",
    "**Interpretation**\n",
    "\n",
    "> \n",
    "\n",
    "---"
   ]
  },
  {
   "cell_type": "code",
   "execution_count": null,
   "metadata": {
    "ExecuteTime": {
     "start_time": "2021-09-07T18:48:28.232Z"
    }
   },
   "outputs": [],
   "source": [
    "## Speeding up SKLearn via Intel(R) Extension for Scikit-learn*\n",
    "from sklearnex import patch_sklearn\n",
    "patch_sklearn()"
   ]
  },
  {
   "cell_type": "code",
   "execution_count": null,
   "metadata": {
    "ExecuteTime": {
     "start_time": "2021-09-07T18:48:28.235Z"
    }
   },
   "outputs": [],
   "source": [
    "## LogReg Model\n",
    "\n",
    "from sklearn.linear_model import LogisticRegression\n",
    "\n",
    "logreg = LogisticRegression(max_iter= 750,random_state = 42,\n",
    "                            solver = 'lbfgs', n_jobs = -1, C = .1)\n",
    "\n",
    "logreg.fit(X_train_tf_df, y_train)"
   ]
  },
  {
   "cell_type": "code",
   "execution_count": null,
   "metadata": {
    "ExecuteTime": {
     "start_time": "2021-09-07T18:48:28.240Z"
    },
    "scrolled": false
   },
   "outputs": [],
   "source": [
    "clf.evaluate_classification(logreg, X_train = X_train_tf_df, y_train = y_train,\n",
    "                           X_test = X_test_tf_df, y_test = y_test,\n",
    "                          metric = 'balanced recall')"
   ]
  },
  {
   "cell_type": "markdown",
   "metadata": {},
   "source": [
    "## Exploring LRCV"
   ]
  },
  {
   "cell_type": "markdown",
   "metadata": {},
   "source": [
    "--- \n",
    "\n",
    "> Attempted to run a LogRegCV model; runtime exceeded 5 minutes.\n",
    "\n",
    "---"
   ]
  },
  {
   "cell_type": "code",
   "execution_count": null,
   "metadata": {
    "ExecuteTime": {
     "start_time": "2021-09-07T18:48:28.245Z"
    }
   },
   "outputs": [],
   "source": [
    "# ## LogRegCV Model\n",
    "\n",
    "# from sklearn.linear_model import LogisticRegressionCV\n",
    "\n",
    "# logregcv = LogisticRegressionCV(cv = 3,max_iter = 750, random_state = 42,\n",
    "#                                 solver = 'lbfgs', n_jobs=-1)\n",
    "\n",
    "# logregcv.fit(X_train_tf_df, y_train)"
   ]
  },
  {
   "cell_type": "code",
   "execution_count": null,
   "metadata": {
    "ExecuteTime": {
     "start_time": "2021-09-07T18:48:28.250Z"
    }
   },
   "outputs": [],
   "source": [
    "# clf.evaluate_classification(logregcv, X_train = X_train_tf_df, y_train = y_train,\n",
    "#                            X_test = X_test_tf_df, y_test = y_test,\n",
    "#                           metric = 'balanced recall')"
   ]
  },
  {
   "cell_type": "markdown",
   "metadata": {},
   "source": [
    "---\n",
    "\n",
    "> Cells below show exploration of results and efforts to understand why particular agents are such strong coefficients.\n",
    "\n",
    "---"
   ]
  },
  {
   "cell_type": "code",
   "execution_count": null,
   "metadata": {
    "ExecuteTime": {
     "start_time": "2021-09-07T18:48:28.256Z"
    }
   },
   "outputs": [],
   "source": [
    "# logregcv.C_"
   ]
  },
  {
   "cell_type": "code",
   "execution_count": null,
   "metadata": {
    "ExecuteTime": {
     "start_time": "2021-09-07T18:48:28.259Z"
    }
   },
   "outputs": [],
   "source": [
    "# logregcv.coef_.shape"
   ]
  },
  {
   "cell_type": "code",
   "execution_count": null,
   "metadata": {
    "ExecuteTime": {
     "start_time": "2021-09-07T18:48:28.264Z"
    }
   },
   "outputs": [],
   "source": [
    "# lrcoef_series = pd.Series(logregcv.coef_.flatten(), index=X_train_tf_df.columns)\n",
    "# lrcoef_series"
   ]
  },
  {
   "cell_type": "code",
   "execution_count": null,
   "metadata": {
    "ExecuteTime": {
     "start_time": "2021-09-07T18:48:28.268Z"
    },
    "scrolled": true
   },
   "outputs": [],
   "source": [
    "# lrcoef_series.sort_values()"
   ]
  },
  {
   "cell_type": "code",
   "execution_count": null,
   "metadata": {
    "ExecuteTime": {
     "start_time": "2021-09-07T18:48:28.272Z"
    }
   },
   "outputs": [],
   "source": [
    "# data['deposit_type'].value_counts()"
   ]
  },
  {
   "cell_type": "code",
   "execution_count": null,
   "metadata": {
    "ExecuteTime": {
     "start_time": "2021-09-07T18:48:28.275Z"
    },
    "scrolled": false
   },
   "outputs": [],
   "source": [
    "# sns.countplot(data = data, hue='deposit_type', x=target)"
   ]
  },
  {
   "cell_type": "code",
   "execution_count": null,
   "metadata": {
    "ExecuteTime": {
     "start_time": "2021-09-07T18:48:28.279Z"
    }
   },
   "outputs": [],
   "source": [
    "# data.loc[:,['is_canceled', 'reservation_status']]"
   ]
  },
  {
   "cell_type": "code",
   "execution_count": null,
   "metadata": {
    "ExecuteTime": {
     "start_time": "2021-09-07T18:48:28.283Z"
    }
   },
   "outputs": [],
   "source": [
    "# data.nunique()"
   ]
  },
  {
   "cell_type": "markdown",
   "metadata": {},
   "source": [
    "# **SMOTENC**"
   ]
  },
  {
   "cell_type": "markdown",
   "metadata": {},
   "source": [
    "---\n",
    "\n",
    "> Attempted to use SMOTENC to address class imbalance - ran for 30+min w/o results.\n",
    "\n",
    "---"
   ]
  },
  {
   "cell_type": "code",
   "execution_count": null,
   "metadata": {
    "ExecuteTime": {
     "start_time": "2021-09-07T18:48:28.291Z"
    }
   },
   "outputs": [],
   "source": [
    "# smote_feats = [False]*len(num_cols) +[True]*len(ohe_cat_names)\n",
    "# smote_feats"
   ]
  },
  {
   "cell_type": "code",
   "execution_count": null,
   "metadata": {
    "ExecuteTime": {
     "start_time": "2021-09-07T18:48:28.296Z"
    }
   },
   "outputs": [],
   "source": [
    "# smote_nc = SMOTENC(categorical_features=smote_feats, random_state=42)\n",
    "# X_resampled, y_resampled = smote_nc.fit_resample(X_train_tf_df, y_train)"
   ]
  },
  {
   "cell_type": "markdown",
   "metadata": {},
   "source": [
    "# **Random Forest Model**"
   ]
  },
  {
   "cell_type": "markdown",
   "metadata": {},
   "source": [
    "---\n",
    "\n",
    "**Results:**\n",
    "\n",
    "> Training balanced recall score: 0.99\n",
    "> \n",
    "> Testing balanced recall score: 0.88\n",
    ">\n",
    "> * *The training score is larger by 0.11 points.*\n",
    ">\n",
    "> Training data log loss: 0.08\n",
    ">\n",
    "> Testing data log loss: 0.27\n",
    "\n",
    "---\n",
    "\n",
    "**Interpretation**\n",
    "\n",
    "> \n",
    "\n",
    "---"
   ]
  },
  {
   "cell_type": "code",
   "execution_count": null,
   "metadata": {
    "ExecuteTime": {
     "start_time": "2021-09-07T18:48:28.303Z"
    }
   },
   "outputs": [],
   "source": [
    "from sklearn.ensemble import RandomForestClassifier\n",
    "\n",
    "rfc = RandomForestClassifier(class_weight = 'balanced',\n",
    "                             n_jobs=-1,random_state=42)\n",
    "\n",
    "rfc.fit(X_train_tf_df, y_train)"
   ]
  },
  {
   "cell_type": "code",
   "execution_count": null,
   "metadata": {
    "ExecuteTime": {
     "start_time": "2021-09-07T18:48:28.307Z"
    },
    "scrolled": false
   },
   "outputs": [],
   "source": [
    "clf.evaluate_classification(rfc, X_train = X_train_tf_df, y_train = y_train,\n",
    "                           X_test = X_test_tf_df, y_test = y_test,\n",
    "                          metric = 'balanced recall')"
   ]
  },
  {
   "cell_type": "code",
   "execution_count": null,
   "metadata": {
    "ExecuteTime": {
     "start_time": "2021-09-07T18:48:28.312Z"
    },
    "scrolled": false
   },
   "outputs": [],
   "source": [
    "# clf.plot_importances(rfc, X_train_tf_df)"
   ]
  },
  {
   "cell_type": "markdown",
   "metadata": {},
   "source": [
    "# KNeighbors Classifier"
   ]
  },
  {
   "cell_type": "code",
   "execution_count": null,
   "metadata": {
    "ExecuteTime": {
     "start_time": "2021-09-07T18:48:28.318Z"
    }
   },
   "outputs": [],
   "source": [
    "from sklearn.neighbors import KNeighborsClassifier"
   ]
  },
  {
   "cell_type": "code",
   "execution_count": null,
   "metadata": {
    "ExecuteTime": {
     "start_time": "2021-09-07T18:48:28.322Z"
    }
   },
   "outputs": [],
   "source": [
    "knc = KNeighborsClassifier(weights = 'distance', n_jobs=-1 )\n",
    "\n",
    "knc.fit(X_train_tf_df, y_train)"
   ]
  },
  {
   "cell_type": "code",
   "execution_count": null,
   "metadata": {
    "ExecuteTime": {
     "start_time": "2021-09-07T18:44:05.762Z"
    }
   },
   "outputs": [],
   "source": [
    "# clf.evaluate_classification(knc, X_train = X_train_tf_df, y_train = y_train,\n",
    "#                            X_test = X_test_tf_df, y_test = y_test,\n",
    "#                           metric = 'balanced recall')"
   ]
  },
  {
   "cell_type": "code",
   "execution_count": null,
   "metadata": {},
   "outputs": [],
   "source": [
    "plot_confusion_matrix(knc, X_test,y_test,cmap=cmap,\n",
    "                            normalize=normalize)"
   ]
  },
  {
   "cell_type": "code",
   "execution_count": null,
   "metadata": {},
   "outputs": [],
   "source": []
  },
  {
   "cell_type": "markdown",
   "metadata": {},
   "source": [
    "# **AdaBoost Model**"
   ]
  },
  {
   "cell_type": "markdown",
   "metadata": {},
   "source": [
    "---\n",
    "\n",
    "**Results:**\n",
    "\n",
    "> Training balanced recall score: 0.82\n",
    ">\n",
    "> Testing balanced recall score: 0.81\n",
    ">\n",
    "> * *The training score is larger by 0.01 points.*\n",
    ">\n",
    "> Training data log loss: 0.68\n",
    ">\n",
    "> Testing data log loss: 0.68\n",
    "\n",
    "---\n",
    "\n",
    "**Interpretation**\n",
    "\n",
    "> \n",
    "\n",
    "---"
   ]
  },
  {
   "cell_type": "code",
   "execution_count": null,
   "metadata": {
    "ExecuteTime": {
     "end_time": "2021-09-07T18:12:11.358751Z",
     "start_time": "2021-09-07T18:12:11.171737Z"
    }
   },
   "outputs": [],
   "source": [
    "# abc = AdaBoostClassifier(n_estimators=100, random_state=42)\n",
    "\n",
    "# abc.fit(X_train_tf_df, y_train)"
   ]
  },
  {
   "cell_type": "code",
   "execution_count": null,
   "metadata": {
    "ExecuteTime": {
     "end_time": "2021-09-07T18:12:11.532764Z",
     "start_time": "2021-09-07T18:12:11.361754Z"
    }
   },
   "outputs": [],
   "source": [
    "# clf.evaluate_classification(abc, X_train = X_train_tf_df, y_train = y_train,\n",
    "#                            X_test = X_test_tf_df, y_test = y_test,\n",
    "#                           metric = 'balanced recall')"
   ]
  },
  {
   "cell_type": "markdown",
   "metadata": {},
   "source": [
    "# **Gradient Boosting Model**"
   ]
  },
  {
   "cell_type": "markdown",
   "metadata": {},
   "source": [
    "---\n",
    "\n",
    "**Results:**\n",
    "\n",
    "> Training score: 0.81\n",
    "> \n",
    "> Testing score: 0.80\n",
    "> \n",
    "> * *The scores are the same size.*\n",
    ">\n",
    "> Training data log loss: 0.4\n",
    ">\n",
    "> Testing data log loss: 0.4\n",
    "\n",
    "---\n",
    "\n",
    "**Interpretation**\n",
    "\n",
    "> \n",
    "\n",
    "---"
   ]
  },
  {
   "cell_type": "code",
   "execution_count": null,
   "metadata": {
    "ExecuteTime": {
     "end_time": "2021-09-07T18:12:11.957801Z",
     "start_time": "2021-09-07T18:12:11.536768Z"
    }
   },
   "outputs": [],
   "source": [
    "# gbc = GradientBoostingClassifier(learning_rate=1.0, max_depth=1, random_state=42)\n",
    "\n",
    "# gbc.fit(X_train_tf_df, y_train)"
   ]
  },
  {
   "cell_type": "code",
   "execution_count": null,
   "metadata": {
    "ExecuteTime": {
     "end_time": "2021-09-07T18:12:12.129815Z",
     "start_time": "2021-09-07T18:12:11.960802Z"
    }
   },
   "outputs": [],
   "source": [
    "# clf.evaluate_classification(gbc, X_train = X_train_tf_df, y_train = y_train,\n",
    "#                            X_test = X_test_tf_df, y_test = y_test,\n",
    "#                           metric = 'balanced recall')"
   ]
  },
  {
   "cell_type": "markdown",
   "metadata": {},
   "source": [
    "# **ExtraTreesClassifier**"
   ]
  },
  {
   "cell_type": "markdown",
   "metadata": {},
   "source": [
    "---\n",
    "\n",
    "**Results:**\n",
    "\n",
    "> Training balanced recall score: 1.0\n",
    "> \n",
    "> Testing balanced recall score: 0.87\n",
    "> \n",
    "> * \n",
    ">\n",
    "> Training data log loss: 0.01\n",
    ">\n",
    "> Testing data log loss: 0.33\n",
    "\n",
    "---\n",
    "\n",
    "**Interpretation**\n",
    "\n",
    "> \n",
    "\n",
    "---"
   ]
  },
  {
   "cell_type": "code",
   "execution_count": null,
   "metadata": {
    "ExecuteTime": {
     "end_time": "2021-09-07T18:12:12.301832Z",
     "start_time": "2021-09-07T18:12:12.132819Z"
    }
   },
   "outputs": [],
   "source": [
    "# etc = ExtraTreesClassifier(class_weight = 'balanced', n_jobs=-1, random_state=42)\n",
    "\n",
    "# etc.fit(X_train_tf_df, y_train)"
   ]
  },
  {
   "cell_type": "code",
   "execution_count": null,
   "metadata": {
    "ExecuteTime": {
     "end_time": "2021-09-07T18:12:12.473847Z",
     "start_time": "2021-09-07T18:12:12.304833Z"
    }
   },
   "outputs": [],
   "source": [
    "# clf.evaluate_classification(etc, X_train = X_train_tf_df, y_train = y_train,\n",
    "#                            X_test = X_test_tf_df, y_test = y_test,\n",
    "#                           metric = 'balanced recall')"
   ]
  },
  {
   "cell_type": "markdown",
   "metadata": {},
   "source": [
    "# **XGBoost Classifier**"
   ]
  },
  {
   "cell_type": "markdown",
   "metadata": {},
   "source": [
    "---\n",
    "\n",
    "**Results:**\n",
    "\n",
    "> Training balanced accuracy score: 0.86\n",
    "> \n",
    "> Testing balanced accuracy score: 0.86\n",
    "> \n",
    "> * *The scores are the same size.*\n",
    ">\n",
    "> Training data log loss: 0.24\n",
    ">\n",
    "> Testing data log loss: 0.26\n",
    "\n",
    "---\n",
    "\n",
    "**Interpretation**\n",
    "\n",
    "> \n",
    "\n",
    "---"
   ]
  },
  {
   "cell_type": "code",
   "execution_count": null,
   "metadata": {
    "ExecuteTime": {
     "end_time": "2021-09-07T18:12:12.643862Z",
     "start_time": "2021-09-07T18:12:12.476847Z"
    }
   },
   "outputs": [],
   "source": [
    "# xbgc = XGBClassifier(n_jobs = 4, random_state=42)\n",
    "# xbgc.fit(X = X_train_tf_df, y=y_train)"
   ]
  },
  {
   "cell_type": "code",
   "execution_count": null,
   "metadata": {
    "ExecuteTime": {
     "end_time": "2021-09-07T18:12:12.797873Z",
     "start_time": "2021-09-07T18:12:12.646863Z"
    }
   },
   "outputs": [],
   "source": [
    "# clf.evaluate_classification(xbgc,X_train_tf_df, y_train, X_test_tf_df, y_test,\n",
    "#                             metric= 'balanced accuracy')"
   ]
  },
  {
   "cell_type": "markdown",
   "metadata": {},
   "source": [
    "# **GridSearchCV Results**"
   ]
  },
  {
   "cell_type": "markdown",
   "metadata": {},
   "source": [
    "# -- > 🛑 **FIX**: Rerun w/ KFCV, new data"
   ]
  },
  {
   "cell_type": "markdown",
   "metadata": {},
   "source": [
    "## **GridSearchCV - Logistic Regression**"
   ]
  },
  {
   "cell_type": "markdown",
   "metadata": {},
   "source": [
    "---\n",
    "\n",
    "**Results:**\n",
    "\n",
    "> *Results unavailable - did not run model due to time required*\n",
    "\n",
    "---\n",
    "\n",
    "**Interpretation**\n",
    "\n",
    "> \n",
    "\n",
    "---"
   ]
  },
  {
   "cell_type": "code",
   "execution_count": null,
   "metadata": {
    "ExecuteTime": {
     "end_time": "2021-09-07T18:12:12.954888Z",
     "start_time": "2021-09-07T18:12:12.799874Z"
    }
   },
   "outputs": [],
   "source": [
    "# lr_params = {\n",
    "#  'C': [.001, .01, .1, 1],\n",
    "#     'penalty':['l1', 'l2'],#, 'elasticnet', 'none'],\n",
    "#     'solver':['newton-cg', 'liblinear', 'sag', 'saga', 'lbfgs'],\n",
    "#     'max_iter':[100, 300, 500]}\n",
    "\n",
    "# gscv = GridSearchCV(LogisticRegression(class_weight='balanced'), lr_params,\n",
    "#                     scoring = 'balanced_accuracy', cv=3, n_jobs = -1)\n",
    "# gscv\n",
    "\n",
    "# gscv.fit(X_train_tf_df, y_train)"
   ]
  },
  {
   "cell_type": "code",
   "execution_count": null,
   "metadata": {
    "ExecuteTime": {
     "end_time": "2021-09-07T18:12:13.112900Z",
     "start_time": "2021-09-07T18:12:12.956888Z"
    }
   },
   "outputs": [],
   "source": [
    "# clf.evaluate_classification(gscv.best_estimator_, X_train = X_train_tf_df, y_train = y_train,\n",
    "#                            X_test = X_test_tf_df, y_test = y_test,\n",
    "#                           metric = 'balanced accuracy')"
   ]
  },
  {
   "cell_type": "code",
   "execution_count": null,
   "metadata": {
    "ExecuteTime": {
     "end_time": "2021-09-07T18:12:13.284931Z",
     "start_time": "2021-09-07T18:12:13.114902Z"
    }
   },
   "outputs": [],
   "source": [
    "# logreg_params = gscv.best_params_\n",
    "\n",
    "# logreg_params"
   ]
  },
  {
   "cell_type": "code",
   "execution_count": null,
   "metadata": {
    "ExecuteTime": {
     "end_time": "2021-09-07T18:12:13.456931Z",
     "start_time": "2021-09-07T18:12:13.288918Z"
    }
   },
   "outputs": [],
   "source": [
    "# gscv.best_estimator_"
   ]
  },
  {
   "cell_type": "markdown",
   "metadata": {},
   "source": [
    "## **GSCV - RandomForest**"
   ]
  },
  {
   "cell_type": "markdown",
   "metadata": {},
   "source": [
    "---\n",
    "\n",
    "**Scores**\n",
    "\n",
    "> Training balanced accuracy score: 0.99\n",
    "> \n",
    "> Testing balanced accuracy score: 0.88\n",
    "> \n",
    "> * *The training score is larger by 0.11 points.*\n",
    ">\n",
    "> Training data log loss: 0.10\n",
    ">\n",
    "> Testing data log loss: 0.26\n",
    "\n",
    "---\n",
    "\n",
    "**Best Parameters**\n",
    "\n",
    "> 'criterion': 'entropy'\n",
    "> \n",
    "> 'max_depth': None\n",
    "> \n",
    "> 'min_samples_leaf': 2\n",
    "> \n",
    "> 'min_samples_split': 2\n",
    "\n",
    "**Interpretation**\n",
    "\n",
    "> \n",
    "\n",
    "---"
   ]
  },
  {
   "cell_type": "code",
   "execution_count": null,
   "metadata": {
    "ExecuteTime": {
     "end_time": "2021-09-07T18:12:13.600943Z",
     "start_time": "2021-09-07T18:12:13.458932Z"
    }
   },
   "outputs": [],
   "source": [
    "# rfc_params = {\n",
    "#     'criterion': ['gini', 'entropy'],\n",
    "#     'max_depth': [25,50, None],\n",
    "#     'min_samples_split': [2,3,4],\n",
    "#     'min_samples_leaf': [1,2]\n",
    "# }"
   ]
  },
  {
   "cell_type": "code",
   "execution_count": null,
   "metadata": {
    "ExecuteTime": {
     "end_time": "2021-09-07T18:12:13.728958Z",
     "start_time": "2021-09-07T18:12:13.602945Z"
    },
    "scrolled": true
   },
   "outputs": [],
   "source": [
    "# rfgs = GridSearchCV(RandomForestClassifier(class_weight = 'balanced',\n",
    "#                                            random_state = 42, n_jobs=-1),\n",
    "#                     rfc_params,scoring = 'balanced_accuracy',\n",
    "#                     cv=3,verbose = 4)\n",
    "\n",
    "# rfgs.fit(X_train_tf_df, y_train)"
   ]
  },
  {
   "cell_type": "code",
   "execution_count": null,
   "metadata": {
    "ExecuteTime": {
     "end_time": "2021-09-07T18:12:13.887968Z",
     "start_time": "2021-09-07T18:12:13.732957Z"
    }
   },
   "outputs": [],
   "source": [
    "# rfgs.best_params_"
   ]
  },
  {
   "cell_type": "code",
   "execution_count": null,
   "metadata": {
    "ExecuteTime": {
     "end_time": "2021-09-07T18:12:14.030981Z",
     "start_time": "2021-09-07T18:12:13.889968Z"
    }
   },
   "outputs": [],
   "source": [
    "# rfgs.best_score_"
   ]
  },
  {
   "cell_type": "code",
   "execution_count": null,
   "metadata": {
    "ExecuteTime": {
     "end_time": "2021-09-07T18:12:14.159003Z",
     "start_time": "2021-09-07T18:12:14.032982Z"
    }
   },
   "outputs": [],
   "source": [
    "# rfc_new = rfgs.best_estimator_"
   ]
  },
  {
   "cell_type": "code",
   "execution_count": null,
   "metadata": {
    "ExecuteTime": {
     "end_time": "2021-09-07T18:12:14.286664Z",
     "start_time": "2021-09-07T18:12:14.162003Z"
    }
   },
   "outputs": [],
   "source": [
    "# clf.evaluate_classification(rfc_new, X_train_tf_df, y_train, X_test_tf_df, \n",
    "#                            y_test, 'balanced recall')"
   ]
  },
  {
   "cell_type": "markdown",
   "metadata": {},
   "source": [
    "# Additional Modeling"
   ]
  },
  {
   "cell_type": "markdown",
   "metadata": {},
   "source": [
    "# -- > 🛑 **FIX**: Re-run w/ new data, KFCV"
   ]
  },
  {
   "cell_type": "markdown",
   "metadata": {},
   "source": [
    "## Balanced Bagging Classifier"
   ]
  },
  {
   "cell_type": "markdown",
   "metadata": {},
   "source": [
    "---\n",
    "\n",
    "**MODEL: BalancedBaggingClassifier**\n",
    "\n",
    "**Scores**\n",
    "\n",
    "> Training balanced accuracy score: 0.98\n",
    "> \n",
    "> Testing balanced accuracy score: 0.89\n",
    "> \n",
    "> * *The training score is larger by 0.11 points.*\n",
    ">\n",
    "> Training data log loss: 0.11\n",
    ">\n",
    "> Testing data log loss: 0.30\n",
    "\n",
    "---\n",
    "\n",
    "**Interpretation**\n",
    "\n",
    "> \n",
    "\n",
    "---"
   ]
  },
  {
   "cell_type": "code",
   "execution_count": null,
   "metadata": {
    "ExecuteTime": {
     "end_time": "2021-09-07T18:12:14.412651Z",
     "start_time": "2021-09-07T18:12:14.288639Z"
    }
   },
   "outputs": [],
   "source": [
    "# ## Testing balanced bagging classifier\n",
    "# balanced_bagging = BalancedBaggingClassifier(n_estimators=100, n_jobs=4, random_state=42)\n",
    "\n",
    "# balanced_bagging.fit(X_train_tf_df, y_train)"
   ]
  },
  {
   "cell_type": "code",
   "execution_count": null,
   "metadata": {
    "ExecuteTime": {
     "end_time": "2021-09-07T18:12:14.555660Z",
     "start_time": "2021-09-07T18:12:14.415651Z"
    },
    "scrolled": true
   },
   "outputs": [],
   "source": [
    "# clf.evaluate_classification(balanced_bagging, X_train = X_train_tf_df, y_train = y_train,\n",
    "#                            X_test = X_test_tf_df, y_test = y_test,\n",
    "#                           metric = 'balanced recall')"
   ]
  },
  {
   "cell_type": "markdown",
   "metadata": {},
   "source": [
    "### GSCV: Balanced Bagging"
   ]
  },
  {
   "cell_type": "markdown",
   "metadata": {},
   "source": [
    "---\n",
    "\n",
    "**MODEL:** GridSearchCV - BalancedBaggingClassifier\n",
    "\n",
    "**Scores**\n",
    "\n",
    "> Training balanced accuracy score: 0.96\n",
    "> \n",
    "> Testing balanced accuracy score: 0.89\n",
    "> \n",
    "> * *The training score is larger by 0.07 points.*\n",
    ">\n",
    "> Training data log loss: 0.20\n",
    ">\n",
    "> Testing data log loss: 0.30\n",
    "\n",
    "---\n",
    "\n",
    "**Best Parameters**\n",
    "\n",
    "> 'base_estimator': RandomForestClassifier()\n",
    ">\n",
    "> 'replacement': 'True'\n",
    ">\n",
    "> 'sampling_strategy': 'majority'\n",
    "\n",
    "**Interpretation**\n",
    "\n",
    "> \n",
    "\n",
    "---"
   ]
  },
  {
   "cell_type": "code",
   "execution_count": null,
   "metadata": {
    "ExecuteTime": {
     "end_time": "2021-09-07T18:12:14.726675Z",
     "start_time": "2021-09-07T18:12:14.557663Z"
    }
   },
   "outputs": [],
   "source": [
    "# bal_bag_params = {'base_estimator': [RandomForestClassifier()],\n",
    "#                   'replacement': ['True'],\n",
    "#                   'sampling_strategy': ['majority', 'not minority',\n",
    "#                                         'not majority', 'all']\n",
    "#                  }"
   ]
  },
  {
   "cell_type": "code",
   "execution_count": null,
   "metadata": {
    "ExecuteTime": {
     "end_time": "2021-09-07T18:12:14.884690Z",
     "start_time": "2021-09-07T18:12:14.728678Z"
    }
   },
   "outputs": [],
   "source": [
    "# bbgs = GridSearchCV(BalancedBaggingClassifier(n_jobs=-1,random_state=42), \n",
    "#                     bal_bag_params, scoring = 'balanced_accuracy',\n",
    "#                     cv=3, verbose = 4)\n",
    "\n",
    "# bbgs.fit(X_train_tf_df, y_train)"
   ]
  },
  {
   "cell_type": "code",
   "execution_count": null,
   "metadata": {
    "ExecuteTime": {
     "end_time": "2021-09-07T18:12:15.009717Z",
     "start_time": "2021-09-07T18:12:14.886690Z"
    },
    "scrolled": true
   },
   "outputs": [],
   "source": [
    "# clf.evaluate_classification(bbgs, X_train_tf_df, y_train, X_test_tf_df, \n",
    "#                            y_test, 'balanced accuracy')"
   ]
  },
  {
   "cell_type": "code",
   "execution_count": null,
   "metadata": {
    "ExecuteTime": {
     "end_time": "2021-09-07T18:12:15.132415Z",
     "start_time": "2021-09-07T18:12:15.011716Z"
    }
   },
   "outputs": [],
   "source": [
    "# bbgs_params = bbgs.best_params_\n",
    "\n",
    "# bbgs_params"
   ]
  },
  {
   "cell_type": "markdown",
   "metadata": {},
   "source": [
    "## Testing Balanced Random Forest Classifier"
   ]
  },
  {
   "cell_type": "markdown",
   "metadata": {},
   "source": [
    "---\n",
    "\n",
    "**MODEL: BalancedRandomForestClassifier**\n",
    "\n",
    "**Scores**\n",
    "\n",
    "> Training balanced accuracy score: 0.97\n",
    "> \n",
    "> Testing balanced accuracy score: 0.89\n",
    "> \n",
    "> * *The training score is larger by 0.8 points.*\n",
    ">\n",
    "> Training data log loss: 0.17\n",
    ">\n",
    "> Testing data log loss: 0.30\n",
    "\n",
    "---\n",
    "\n",
    "**Best Parameters**\n",
    "\n",
    "> \n",
    "\n",
    "**Interpretation**\n",
    "\n",
    "> \n",
    "\n",
    "---"
   ]
  },
  {
   "cell_type": "code",
   "execution_count": null,
   "metadata": {
    "ExecuteTime": {
     "end_time": "2021-09-07T18:12:32.500191Z",
     "start_time": "2021-09-07T18:12:15.135002Z"
    }
   },
   "outputs": [],
   "source": [
    "balanced_forest = BalancedRandomForestClassifier(n_jobs = -1, random_state=42)\n",
    "\n",
    "balanced_forest.fit(X_train_tf_df, y_train)"
   ]
  },
  {
   "cell_type": "code",
   "execution_count": null,
   "metadata": {
    "ExecuteTime": {
     "end_time": "2021-09-07T18:12:41.552015Z",
     "start_time": "2021-09-07T18:12:32.502193Z"
    }
   },
   "outputs": [],
   "source": [
    "clf.evaluate_classification(balanced_forest, X_train = X_train_tf_df, y_train = y_train,\n",
    "                           X_test = X_test_tf_df, y_test = y_test,\n",
    "                          metric = 'balanced recall')"
   ]
  },
  {
   "cell_type": "markdown",
   "metadata": {},
   "source": [
    "### GSCV: Balanced Bagging"
   ]
  },
  {
   "cell_type": "markdown",
   "metadata": {},
   "source": [
    "---\n",
    "\n",
    "**MODEL:** GridSearchCV - BalancedBaggingClassifier\n",
    "\n",
    "**Scores**\n",
    "\n",
    "> Training balanced accuracy score: 0.96\n",
    "> \n",
    "> Testing balanced accuracy score: 0.89\n",
    "> \n",
    "> * *The training score is larger by 0.07 points.*\n",
    ">\n",
    "> Training data log loss: 0.20\n",
    ">\n",
    "> Testing data log loss: 0.30\n",
    "\n",
    "---\n",
    "\n",
    "**Best Parameters**\n",
    "\n",
    "> * 'criterion': 'entropy'\n",
    ">\n",
    "> * 'max_features': None\n",
    ">\n",
    "> * 'min_samples_leaf': 1\n",
    ">\n",
    "> * 'min_samples_split': 2\n",
    "\n",
    "**Interpretation**\n",
    "\n",
    "> \n",
    "\n",
    "---"
   ]
  },
  {
   "cell_type": "code",
   "execution_count": null,
   "metadata": {
    "ExecuteTime": {
     "end_time": "2021-09-06T21:57:27.281393Z",
     "start_time": "2021-09-06T21:57:27.078393Z"
    }
   },
   "outputs": [],
   "source": [
    "# brfc_params = {'criterion': ['gini', 'entropy'],\n",
    "#                'min_samples_split': [2, 3, 4],\n",
    "#                'min_samples_leaf': [1,2,3],\n",
    "#                'max_features': ['auto', 'log2', None]\n",
    "#               }"
   ]
  },
  {
   "cell_type": "code",
   "execution_count": null,
   "metadata": {
    "ExecuteTime": {
     "end_time": "2021-09-06T21:57:27.559392Z",
     "start_time": "2021-09-06T21:57:27.284393Z"
    }
   },
   "outputs": [],
   "source": [
    "# brfc = GridSearchCV(BalancedRandomForestClassifier(n_jobs=-1,random_state=42), \n",
    "#                     brfc_params,scoring = 'balanced_accuracy',\n",
    "#                     cv=3,verbose = 3)\n",
    "\n",
    "# brfc.fit(X_train_tf_df, y_train)"
   ]
  },
  {
   "cell_type": "code",
   "execution_count": null,
   "metadata": {
    "ExecuteTime": {
     "end_time": "2021-09-06T21:57:27.729390Z",
     "start_time": "2021-09-06T21:57:27.562392Z"
    },
    "scrolled": true
   },
   "outputs": [],
   "source": [
    "# clf.evaluate_classification(brfc, X_train_tf_df, y_train, X_test_tf_df, \n",
    "#                            y_test, 'balanced accuracy')"
   ]
  },
  {
   "cell_type": "code",
   "execution_count": null,
   "metadata": {
    "ExecuteTime": {
     "end_time": "2021-09-06T21:57:27.903394Z",
     "start_time": "2021-09-06T21:57:27.732393Z"
    }
   },
   "outputs": [],
   "source": [
    "# brfc_params = brfc.best_params_\n",
    "\n",
    "# brfc_params"
   ]
  },
  {
   "cell_type": "markdown",
   "metadata": {},
   "source": [
    "## EasyEnsembleClassifier"
   ]
  },
  {
   "cell_type": "markdown",
   "metadata": {},
   "source": [
    "---\n",
    "\n",
    "**MODEL: EasyEnsembleClassifier**\n",
    "\n",
    "**Scores**\n",
    "\n",
    "> Training balanced accuracy score: 0.86\n",
    "> \n",
    "> Testing balanced accuracy score: 0.85\n",
    "> \n",
    "> * *The training score is larger by 0.01 points.*\n",
    ">\n",
    "> Training data log loss: 0.64\n",
    ">\n",
    "> Testing data log loss: 0.64\n",
    "\n",
    "---\n",
    "\n",
    "**Interpretation**\n",
    "\n",
    "> \n",
    "\n",
    "---"
   ]
  },
  {
   "cell_type": "code",
   "execution_count": null,
   "metadata": {
    "ExecuteTime": {
     "end_time": "2021-09-06T21:57:28.089392Z",
     "start_time": "2021-09-06T21:57:27.907397Z"
    }
   },
   "outputs": [],
   "source": [
    "# easy_ensemble = EasyEnsembleClassifier(n_jobs = -1, random_state=42)\n",
    "\n",
    "# easy_ensemble.fit(X_train_tf_df, y_train)"
   ]
  },
  {
   "cell_type": "code",
   "execution_count": null,
   "metadata": {
    "ExecuteTime": {
     "end_time": "2021-09-06T21:57:28.260399Z",
     "start_time": "2021-09-06T21:57:28.092391Z"
    },
    "scrolled": true
   },
   "outputs": [],
   "source": [
    "# clf.evaluate_classification(easy_ensemble, X_train = X_train_tf_df, y_train = y_train,\n",
    "#                            X_test = X_test_tf_df, y_test = y_test,\n",
    "#                           metric = 'balanced recall')"
   ]
  },
  {
   "cell_type": "markdown",
   "metadata": {},
   "source": [
    "## RUSBoostClassifier"
   ]
  },
  {
   "cell_type": "markdown",
   "metadata": {},
   "source": [
    "---\n",
    "\n",
    "**MODEL: RUSBoostClassifier**\n",
    "\n",
    "**Scores**\n",
    "\n",
    "> Training balanced accuracy score: 0.85\n",
    "> \n",
    "> Testing balanced accuracy score: 0.85\n",
    "> \n",
    "> * *The scores are the same size.*\n",
    ">\n",
    "> Training data log loss: 0.64\n",
    ">\n",
    "> Testing data log loss: 0.64\n",
    "\n",
    "---\n",
    "\n",
    "**Interpretation**\n",
    "\n",
    "> \n",
    "\n",
    "---"
   ]
  },
  {
   "cell_type": "code",
   "execution_count": null,
   "metadata": {
    "ExecuteTime": {
     "end_time": "2021-09-06T21:57:28.433395Z",
     "start_time": "2021-09-06T21:57:28.263394Z"
    }
   },
   "outputs": [],
   "source": [
    "# rus_boost = RUSBoostClassifier(n_estimators=200, algorithm='SAMME.R',\n",
    "#                                random_state=42)\n",
    "\n",
    "# rus_boost.fit(X_train_tf_df, y_train)"
   ]
  },
  {
   "cell_type": "code",
   "execution_count": null,
   "metadata": {
    "ExecuteTime": {
     "end_time": "2021-09-06T21:57:28.638390Z",
     "start_time": "2021-09-06T21:57:28.436394Z"
    },
    "scrolled": true
   },
   "outputs": [],
   "source": [
    "# clf.evaluate_classification(rus_boost, X_train = X_train_tf_df, y_train = y_train,\n",
    "#                            X_test = X_test_tf_df, y_test = y_test,\n",
    "#                           metric = 'balanced recall')"
   ]
  },
  {
   "cell_type": "markdown",
   "metadata": {},
   "source": [
    "# MVP Notes"
   ]
  },
  {
   "cell_type": "markdown",
   "metadata": {},
   "source": [
    "* CLF results - feature importances\n",
    "* feature importances - visualize via SHAP\n"
   ]
  },
  {
   "cell_type": "code",
   "execution_count": null,
   "metadata": {},
   "outputs": [],
   "source": []
  }
 ],
 "metadata": {
  "kernelspec": {
   "display_name": "Python [conda env:test_intel_env]",
   "language": "python",
   "name": "conda-env-test_intel_env-py"
  },
  "language_info": {
   "codemirror_mode": {
    "name": "ipython",
    "version": 3
   },
   "file_extension": ".py",
   "mimetype": "text/x-python",
   "name": "python",
   "nbconvert_exporter": "python",
   "pygments_lexer": "ipython3",
   "version": "3.8.5"
  },
  "toc": {
   "base_numbering": 1,
   "nav_menu": {},
   "number_sections": true,
   "sideBar": true,
   "skip_h1_title": false,
   "title_cell": "Table of Contents",
   "title_sidebar": "Contents",
   "toc_cell": false,
   "toc_position": {
    "height": "calc(100% - 180px)",
    "left": "10px",
    "top": "150px",
    "width": "167.6px"
   },
   "toc_section_display": true,
   "toc_window_display": true
  }
 },
 "nbformat": 4,
 "nbformat_minor": 2
}
