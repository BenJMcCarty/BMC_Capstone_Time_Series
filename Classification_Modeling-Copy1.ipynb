{
 "cells": [
  {
   "cell_type": "markdown",
   "metadata": {},
   "source": [
    "# ❌ **Cancel Culture - Classification Modeling Notebook** ❌"
   ]
  },
  {
   "cell_type": "markdown",
   "metadata": {},
   "source": [
    "---\n",
    "\n",
    "**Post-Cleaning Modeling Notebook**\n",
    "\n",
    "---"
   ]
  },
  {
   "cell_type": "markdown",
   "metadata": {},
   "source": [
    "# **Imports**"
   ]
  },
  {
   "cell_type": "code",
   "execution_count": null,
   "metadata": {
    "ExecuteTime": {
     "end_time": "2021-09-03T23:02:15.103673Z",
     "start_time": "2021-09-03T23:02:10.912538Z"
    }
   },
   "outputs": [],
   "source": [
    "## Data Handling\n",
    "import pandas as pd\n",
    "import numpy as np\n",
    "\n",
    "## Visualizations\n",
    "import matplotlib.pyplot as plt\n",
    "import seaborn as sns\n",
    "\n",
    "## SKLearn and Modeling Tools\n",
    "from sklearn import metrics\n",
    "from sklearn.preprocessing import OneHotEncoder, StandardScaler\n",
    "from sklearn.model_selection import train_test_split, GridSearchCV\n",
    "from sklearn.impute import SimpleImputer\n",
    "from sklearn.compose import ColumnTransformer\n",
    "from sklearn.pipeline import Pipeline\n",
    "from sklearn.dummy import DummyClassifier\n",
    "from sklearn.linear_model import LogisticRegression \n",
    "from sklearn.ensemble import RandomForestClassifier, ExtraTreesClassifier, \\\n",
    "                                AdaBoostClassifier,GradientBoostingClassifier \n",
    "from sklearn import set_config\n",
    "set_config(display='diagram')\n",
    "\n",
    "from xgboost import XGBClassifier\n",
    "\n",
    "from imblearn.ensemble import BalancedBaggingClassifier,\\\n",
    "                                BalancedRandomForestClassifier,\\\n",
    "                                EasyEnsembleClassifier, RUSBoostClassifier\n",
    "\n",
    "## Settings\n",
    "%matplotlib inline\n",
    "plt.style.use('seaborn-talk')\n",
    "pd.set_option('display.max_columns', None)\n",
    "pd.set_option('display.float_format', lambda x: f'{x:,.2f}')\n",
    "pd.set_option('max_rows', 50)\n",
    "\n",
    "## Personal functions\n",
    "from bmc_functions import classification as clf"
   ]
  },
  {
   "cell_type": "code",
   "execution_count": null,
   "metadata": {
    "ExecuteTime": {
     "end_time": "2021-09-03T23:02:15.257677Z",
     "start_time": "2021-09-03T23:02:15.106674Z"
    }
   },
   "outputs": [],
   "source": [
    "## Jupyter Notebook setting to reload functions when called\n",
    "%load_ext autoreload\n",
    "%autoreload 2"
   ]
  },
  {
   "cell_type": "markdown",
   "metadata": {},
   "source": [
    "# **Reading the DataFrames**"
   ]
  },
  {
   "cell_type": "code",
   "execution_count": null,
   "metadata": {
    "ExecuteTime": {
     "end_time": "2021-09-03T23:02:15.539692Z",
     "start_time": "2021-09-03T23:02:15.260679Z"
    },
    "scrolled": true
   },
   "outputs": [],
   "source": [
    "city_full = pd.read_pickle('./data/reservation_city_unfiltered.pickle',\n",
    "                           compression = 'gzip')\n",
    "city_full.head(5)"
   ]
  },
  {
   "cell_type": "code",
   "execution_count": null,
   "metadata": {
    "ExecuteTime": {
     "end_time": "2021-09-03T23:02:15.759693Z",
     "start_time": "2021-09-03T23:02:15.541687Z"
    },
    "scrolled": true
   },
   "outputs": [],
   "source": [
    "resort_full = pd.read_pickle('./data/reservation_resort_unfiltered.pickle',\n",
    "                             compression = 'gzip')\n",
    "resort_full.head(5)"
   ]
  },
  {
   "cell_type": "code",
   "execution_count": null,
   "metadata": {
    "ExecuteTime": {
     "end_time": "2021-09-03T23:02:16.009702Z",
     "start_time": "2021-09-03T23:02:15.761694Z"
    }
   },
   "outputs": [],
   "source": [
    "city_filtered = pd.read_pickle('./data/reservation_city_filtered.pickle',\n",
    "                            compression = 'gzip')\n",
    "city_filtered.head(5)"
   ]
  },
  {
   "cell_type": "code",
   "execution_count": null,
   "metadata": {
    "ExecuteTime": {
     "end_time": "2021-09-03T23:02:16.241713Z",
     "start_time": "2021-09-03T23:02:16.011701Z"
    }
   },
   "outputs": [],
   "source": [
    "resort_filtered = pd.read_pickle('./data/reservation_resort_filtered.pickle',\n",
    "                              compression = 'gzip')\n",
    "resort_filtered.head(5)"
   ]
  },
  {
   "cell_type": "markdown",
   "metadata": {},
   "source": [
    "# Merging DFs - Full Datasets"
   ]
  },
  {
   "cell_type": "code",
   "execution_count": null,
   "metadata": {
    "ExecuteTime": {
     "end_time": "2021-09-03T23:02:16.504718Z",
     "start_time": "2021-09-03T23:02:16.243710Z"
    },
    "scrolled": true
   },
   "outputs": [],
   "source": [
    "both_full = pd.concat([city_full, resort_full])\n",
    "both_full"
   ]
  },
  {
   "cell_type": "code",
   "execution_count": null,
   "metadata": {
    "ExecuteTime": {
     "end_time": "2021-09-03T23:02:16.737727Z",
     "start_time": "2021-09-03T23:02:16.507721Z"
    }
   },
   "outputs": [],
   "source": [
    "both_filtered = pd.concat([city_filtered, resort_filtered])\n",
    "both_filtered"
   ]
  },
  {
   "cell_type": "code",
   "execution_count": null,
   "metadata": {
    "ExecuteTime": {
     "end_time": "2021-09-03T23:02:16.878730Z",
     "start_time": "2021-09-03T23:02:16.740727Z"
    }
   },
   "outputs": [],
   "source": [
    "del city_full, resort_full, city_filtered, resort_filtered"
   ]
  },
  {
   "cell_type": "markdown",
   "metadata": {},
   "source": [
    "# **Train/Test Split - Full**"
   ]
  },
  {
   "cell_type": "code",
   "execution_count": null,
   "metadata": {
    "ExecuteTime": {
     "end_time": "2021-09-03T23:02:17.002736Z",
     "start_time": "2021-09-03T23:02:16.880731Z"
    }
   },
   "outputs": [],
   "source": [
    "## Identifying target\n",
    "target= 'is_canceled'"
   ]
  },
  {
   "cell_type": "code",
   "execution_count": null,
   "metadata": {
    "ExecuteTime": {
     "end_time": "2021-09-03T23:02:17.204750Z",
     "start_time": "2021-09-03T23:02:17.005737Z"
    }
   },
   "outputs": [],
   "source": [
    "X = both_full.drop(columns = [target, 'reservation_status']).copy()\n",
    "y = both_full[target].copy()"
   ]
  },
  {
   "cell_type": "code",
   "execution_count": null,
   "metadata": {
    "ExecuteTime": {
     "end_time": "2021-09-03T23:02:17.343747Z",
     "start_time": "2021-09-03T23:02:17.207743Z"
    }
   },
   "outputs": [],
   "source": [
    "X.shape[0] == y.shape[0]"
   ]
  },
  {
   "cell_type": "code",
   "execution_count": null,
   "metadata": {
    "ExecuteTime": {
     "end_time": "2021-09-03T23:02:17.609757Z",
     "start_time": "2021-09-03T23:02:17.345746Z"
    }
   },
   "outputs": [],
   "source": [
    "## Splitting - stratify to maintain class balance b/t X_train/_test\n",
    "X_train, X_test, y_train, y_test = train_test_split(X, y, test_size = .25, \n",
    "                                                    random_state=42, \n",
    "                                                    stratify=y)"
   ]
  },
  {
   "cell_type": "code",
   "execution_count": null,
   "metadata": {
    "ExecuteTime": {
     "end_time": "2021-09-03T23:02:17.748761Z",
     "start_time": "2021-09-03T23:02:17.611757Z"
    }
   },
   "outputs": [],
   "source": [
    "## Specifying numeric columns for preprocessing\n",
    "num_cols = X_train.select_dtypes('number').columns.to_list()\n",
    "num_cols"
   ]
  },
  {
   "cell_type": "code",
   "execution_count": null,
   "metadata": {
    "ExecuteTime": {
     "end_time": "2021-09-03T23:02:17.905768Z",
     "start_time": "2021-09-03T23:02:17.751765Z"
    }
   },
   "outputs": [],
   "source": [
    "## Specifying numeric columns for preprocessing\n",
    "cat_cols = X_train.select_dtypes(include='object').columns.to_list()\n",
    "cat_cols"
   ]
  },
  {
   "cell_type": "markdown",
   "metadata": {},
   "source": [
    "# **Prepping the Pipeline**"
   ]
  },
  {
   "cell_type": "code",
   "execution_count": null,
   "metadata": {
    "ExecuteTime": {
     "end_time": "2021-09-03T23:02:18.075769Z",
     "start_time": "2021-09-03T23:02:17.908768Z"
    }
   },
   "outputs": [],
   "source": [
    "## Creating ColumnTransformer and sub-transformers for imputation and encoding\n",
    "\n",
    "### --- Creating column pipelines --- ###\n",
    "\n",
    "cat_pipe = Pipeline(steps=[('ohe', OneHotEncoder(handle_unknown='ignore',\n",
    "                                                 sparse=False))])\n",
    "\n",
    "num_pipe = Pipeline(steps=[('scaler', StandardScaler())])\n",
    "\n",
    "## Instantiating the ColumnTransformer\n",
    "\n",
    "preprocessor = ColumnTransformer(\n",
    "    transformers=[('num', num_pipe, num_cols),\n",
    "                  ('cat', cat_pipe, cat_cols)])\n",
    "\n",
    "preprocessor"
   ]
  },
  {
   "cell_type": "code",
   "execution_count": null,
   "metadata": {
    "ExecuteTime": {
     "end_time": "2021-09-03T23:02:19.000799Z",
     "start_time": "2021-09-03T23:02:18.077769Z"
    },
    "scrolled": true
   },
   "outputs": [],
   "source": [
    "## Fitting feature preprocessor\n",
    "preprocessor.fit(X_train)\n",
    "\n",
    "## Getting feature names from OHE\n",
    "ohe_cat_names = preprocessor.named_transformers_['cat'].named_steps['ohe'].get_feature_names(cat_cols)\n",
    "\n",
    "## Generating list for column index\n",
    "final_cols = [*num_cols, *ohe_cat_names]\n",
    "\n",
    "final_cols"
   ]
  },
  {
   "cell_type": "code",
   "execution_count": null,
   "metadata": {
    "ExecuteTime": {
     "end_time": "2021-09-03T23:02:20.308841Z",
     "start_time": "2021-09-03T23:02:19.002800Z"
    }
   },
   "outputs": [],
   "source": [
    "## Transform the data via the ColumnTransformer preprocessor\n",
    "\n",
    "X_train_tf = preprocessor.transform(X_train)\n",
    "X_train_tf_df = pd.DataFrame(X_train_tf, columns=final_cols, index=X_train.index)\n",
    "\n",
    "X_test_tf = preprocessor.transform(X_test)\n",
    "X_test_tf_df = pd.DataFrame(X_test_tf, columns=final_cols, index=X_test.index)\n",
    "\n",
    "display(X_train_tf_df.head(5),X_test_tf_df.head(5))"
   ]
  },
  {
   "cell_type": "markdown",
   "metadata": {},
   "source": [
    "# **--->** 🛑 Add Comment: Class Imbalance"
   ]
  },
  {
   "cell_type": "markdown",
   "metadata": {},
   "source": [
    "---\n",
    "\n",
    "> Due to class imbalance, will attempt to use \"class_weight = balanced\" to correct.\n",
    "\n",
    "---"
   ]
  },
  {
   "cell_type": "markdown",
   "metadata": {},
   "source": [
    "# 📊 **Baseline Model**"
   ]
  },
  {
   "cell_type": "code",
   "execution_count": null,
   "metadata": {
    "ExecuteTime": {
     "end_time": "2021-09-03T23:02:21.504897Z",
     "start_time": "2021-09-03T23:02:20.311842Z"
    }
   },
   "outputs": [],
   "source": [
    "## Creating baseline classifier model\n",
    "\n",
    "base = DummyClassifier(strategy='stratified', random_state = 42)\n",
    "\n",
    "base.fit(X_train_tf_df, y_train)\n",
    "\n",
    "clf.evaluate_classification(base,X_train = X_train_tf_df, y_train = y_train,\n",
    "                           X_test = X_test_tf_df, y_test = y_test, \n",
    "                           metric = 'balanced accuracy')"
   ]
  },
  {
   "cell_type": "markdown",
   "metadata": {},
   "source": [
    "# 📊 **Logistic Regression Model**"
   ]
  },
  {
   "cell_type": "markdown",
   "metadata": {},
   "source": [
    "---\n",
    "\n",
    "**Results:**\n",
    "\n",
    "> Training balanced accuracy score: 0.82\n",
    "> \n",
    "> Testing balanced accuracy score: 0.82\n",
    "> \n",
    "> * *The scores are the same size.*\n",
    ">\n",
    "> Training data log loss: 0.37\n",
    ">\n",
    "> Testing data log loss: 0.37\n",
    "\n",
    "---\n",
    "\n",
    "**Interpretation**\n",
    "\n",
    "> \n",
    "\n",
    "---"
   ]
  },
  {
   "cell_type": "code",
   "execution_count": null,
   "metadata": {
    "ExecuteTime": {
     "end_time": "2021-09-03T23:02:21.614026Z",
     "start_time": "2021-09-03T23:02:21.506886Z"
    }
   },
   "outputs": [],
   "source": [
    "# ## LogReg Model\n",
    "\n",
    "# logreg = LogisticRegression(class_weight='balanced', n_jobs=-1,random_state = 42)\n",
    "\n",
    "# logreg.fit(X_train_tf_df, y_train)"
   ]
  },
  {
   "cell_type": "code",
   "execution_count": null,
   "metadata": {
    "ExecuteTime": {
     "end_time": "2021-09-03T23:02:21.739923Z",
     "start_time": "2021-09-03T23:02:21.615885Z"
    }
   },
   "outputs": [],
   "source": [
    "# clf.evaluate_classification(logreg, X_train = X_train_tf_df, y_train = y_train,\n",
    "#                            X_test = X_test_tf_df, y_test = y_test,\n",
    "#                           metric = 'balanced recall')"
   ]
  },
  {
   "cell_type": "markdown",
   "metadata": {},
   "source": [
    "# **Random Forest Model**"
   ]
  },
  {
   "cell_type": "markdown",
   "metadata": {},
   "source": [
    "---\n",
    "\n",
    "**Results:**\n",
    "\n",
    "> Training balanced recall score: 0.99\n",
    "> \n",
    "> Testing balanced recall score: 0.88\n",
    ">\n",
    "> * *The training score is larger by 0.11 points.*\n",
    ">\n",
    "> Training data log loss: 0.08\n",
    ">\n",
    "> Testing data log loss: 0.27\n",
    "\n",
    "---\n",
    "\n",
    "**Interpretation**\n",
    "\n",
    "> \n",
    "\n",
    "---"
   ]
  },
  {
   "cell_type": "code",
   "execution_count": null,
   "metadata": {
    "ExecuteTime": {
     "end_time": "2021-09-03T23:02:36.376730Z",
     "start_time": "2021-09-03T23:02:21.741894Z"
    }
   },
   "outputs": [],
   "source": [
    "rfc = RandomForestClassifier(n_jobs=-1, random_state=42)\n",
    "\n",
    "rfc.fit(X_train_tf_df, y_train)"
   ]
  },
  {
   "cell_type": "code",
   "execution_count": null,
   "metadata": {
    "ExecuteTime": {
     "end_time": "2021-09-03T23:02:43.648047Z",
     "start_time": "2021-09-03T23:02:36.380752Z"
    },
    "scrolled": false
   },
   "outputs": [],
   "source": [
    "clf.evaluate_classification(rfc, X_train = X_train_tf_df, y_train = y_train,\n",
    "                           X_test = X_test_tf_df, y_test = y_test,\n",
    "                          metric = 'balanced recall')"
   ]
  },
  {
   "cell_type": "code",
   "execution_count": null,
   "metadata": {
    "ExecuteTime": {
     "end_time": "2021-09-03T23:02:44.036504Z",
     "start_time": "2021-09-03T23:02:43.650050Z"
    },
    "scrolled": true
   },
   "outputs": [],
   "source": [
    "clf.plot_importances(rfc, X_train_tf_df)"
   ]
  },
  {
   "cell_type": "markdown",
   "metadata": {},
   "source": [
    "# **AdaBoost Model**"
   ]
  },
  {
   "cell_type": "markdown",
   "metadata": {},
   "source": [
    "---\n",
    "\n",
    "**Results:**\n",
    "\n",
    "> Training balanced recall score: 0.82\n",
    ">\n",
    "> Testing balanced recall score: 0.81\n",
    ">\n",
    "> * *The training score is larger by 0.01 points.*\n",
    ">\n",
    "> Training data log loss: 0.68\n",
    ">\n",
    "> Testing data log loss: 0.68\n",
    "\n",
    "---\n",
    "\n",
    "**Interpretation**\n",
    "\n",
    "> \n",
    "\n",
    "---"
   ]
  },
  {
   "cell_type": "code",
   "execution_count": null,
   "metadata": {
    "ExecuteTime": {
     "end_time": "2021-09-03T23:02:44.160412Z",
     "start_time": "2021-09-03T23:02:44.039353Z"
    }
   },
   "outputs": [],
   "source": [
    "# abc = AdaBoostClassifier(n_estimators=100, random_state=42)\n",
    "\n",
    "# abc.fit(X_train_tf_df, y_train)"
   ]
  },
  {
   "cell_type": "code",
   "execution_count": null,
   "metadata": {
    "ExecuteTime": {
     "end_time": "2021-09-03T23:02:44.285361Z",
     "start_time": "2021-09-03T23:02:44.162358Z"
    }
   },
   "outputs": [],
   "source": [
    "# clf.evaluate_classification(abc, X_train = X_train_tf_df, y_train = y_train,\n",
    "#                            X_test = X_test_tf_df, y_test = y_test,\n",
    "#                           metric = 'balanced recall')"
   ]
  },
  {
   "cell_type": "markdown",
   "metadata": {},
   "source": [
    "# **Gradient Boosting Model**"
   ]
  },
  {
   "cell_type": "markdown",
   "metadata": {},
   "source": [
    "---\n",
    "\n",
    "**Results:**\n",
    "\n",
    "> Training score: 0.82\n",
    "> \n",
    "> Testing score: 0.82\n",
    "> \n",
    "> * *The scores are the same size.*\n",
    ">\n",
    "> Training data log loss: 0.08\n",
    ">\n",
    "> Testing data log loss: 0.27\n",
    "\n",
    "---\n",
    "\n",
    "**Interpretation**\n",
    "\n",
    "> \n",
    "\n",
    "---"
   ]
  },
  {
   "cell_type": "code",
   "execution_count": null,
   "metadata": {
    "ExecuteTime": {
     "end_time": "2021-09-03T23:02:44.409361Z",
     "start_time": "2021-09-03T23:02:44.288357Z"
    }
   },
   "outputs": [],
   "source": [
    "# gbc = GradientBoostingClassifier(learning_rate=1.0, max_depth=1, random_state=42)\n",
    "\n",
    "# gbc.fit(X_train_tf_df, y_train)"
   ]
  },
  {
   "cell_type": "code",
   "execution_count": null,
   "metadata": {
    "ExecuteTime": {
     "end_time": "2021-09-03T23:02:44.533367Z",
     "start_time": "2021-09-03T23:02:44.411367Z"
    }
   },
   "outputs": [],
   "source": [
    "# clf.evaluate_classification(gbc, X_train = X_train_tf_df, y_train = y_train,\n",
    "#                            X_test = X_test_tf_df, y_test = y_test,\n",
    "#                           metric = 'balanced recall')"
   ]
  },
  {
   "cell_type": "markdown",
   "metadata": {},
   "source": [
    "# **ExtraTreesClassifier**"
   ]
  },
  {
   "cell_type": "markdown",
   "metadata": {},
   "source": [
    "---\n",
    "\n",
    "**Results:**\n",
    "\n",
    "> Training balanced recall score: 1.0\n",
    "> \n",
    "> Testing balanced recall score: 0.87\n",
    "> \n",
    "> * \n",
    ">\n",
    "> Training data log loss: 0.01\n",
    ">\n",
    "> Testing data log loss: 0.33\n",
    "\n",
    "---\n",
    "\n",
    "**Interpretation**\n",
    "\n",
    "> \n",
    "\n",
    "---"
   ]
  },
  {
   "cell_type": "code",
   "execution_count": null,
   "metadata": {
    "ExecuteTime": {
     "end_time": "2021-09-03T23:02:44.642368Z",
     "start_time": "2021-09-03T23:02:44.535365Z"
    }
   },
   "outputs": [],
   "source": [
    "# etc = ExtraTreesClassifier(class_weight = 'balanced', n_jobs=-1, random_state=42)\n",
    "\n",
    "# etc.fit(X_train_tf_df, y_train)"
   ]
  },
  {
   "cell_type": "code",
   "execution_count": null,
   "metadata": {
    "ExecuteTime": {
     "end_time": "2021-09-03T23:02:44.767525Z",
     "start_time": "2021-09-03T23:02:44.644382Z"
    }
   },
   "outputs": [],
   "source": [
    "# clf.evaluate_classification(etc, X_train = X_train_tf_df, y_train = y_train,\n",
    "#                            X_test = X_test_tf_df, y_test = y_test,\n",
    "#                           metric = 'balanced recall')"
   ]
  },
  {
   "cell_type": "markdown",
   "metadata": {},
   "source": [
    "# **XGBoost Classifier**"
   ]
  },
  {
   "cell_type": "markdown",
   "metadata": {},
   "source": [
    "---\n",
    "\n",
    "**Results:**\n",
    "\n",
    "> Training balanced accuracy score: 0.83\n",
    "> \n",
    "> Testing balanced accuracy score: 0.83\n",
    "> \n",
    "> * *The scores are the same size.*\n",
    ">\n",
    "> Training data log loss: 0.33\n",
    ">\n",
    "> Testing data log loss: 0.33\n",
    "\n",
    "---\n",
    "\n",
    "**Interpretation**\n",
    "\n",
    "> \n",
    "\n",
    "---"
   ]
  },
  {
   "cell_type": "code",
   "execution_count": null,
   "metadata": {
    "ExecuteTime": {
     "end_time": "2021-09-03T23:02:44.891378Z",
     "start_time": "2021-09-03T23:02:44.770376Z"
    }
   },
   "outputs": [],
   "source": [
    "# xbgc = XGBClassifier()\n",
    "# xbgc.fit(X = X_train_tf_df, y=y_train)"
   ]
  },
  {
   "cell_type": "code",
   "execution_count": null,
   "metadata": {
    "ExecuteTime": {
     "end_time": "2021-09-03T23:02:45.030384Z",
     "start_time": "2021-09-03T23:02:44.894378Z"
    }
   },
   "outputs": [],
   "source": [
    "# clf.evaluate_classification(xbgc,X_train_tf_df, y_train, X_test_tf_df, y_test,\n",
    "#                             metric= 'balanced accuracy')"
   ]
  },
  {
   "cell_type": "markdown",
   "metadata": {},
   "source": [
    "# **GridSearchCV Results**"
   ]
  },
  {
   "cell_type": "markdown",
   "metadata": {},
   "source": [
    "## **GridSearchCV - Logistic Regression**"
   ]
  },
  {
   "cell_type": "markdown",
   "metadata": {},
   "source": [
    "---\n",
    "\n",
    "**Results:**\n",
    "\n",
    "> *Results unavailable - did not run model due to time required*\n",
    "\n",
    "---\n",
    "\n",
    "**Interpretation**\n",
    "\n",
    "> \n",
    "\n",
    "---"
   ]
  },
  {
   "cell_type": "code",
   "execution_count": null,
   "metadata": {
    "ExecuteTime": {
     "end_time": "2021-09-03T23:02:45.139431Z",
     "start_time": "2021-09-03T23:02:45.031381Z"
    }
   },
   "outputs": [],
   "source": [
    "# lr_params = {\n",
    "#  'C': [.001, .01, .1, 1],\n",
    "#     'penalty':['l1', 'l2'],#, 'elasticnet', 'none'],\n",
    "#     'solver':['newton-cg', 'liblinear', 'sag', 'saga', 'lbfgs'],\n",
    "#     'max_iter':[100, 300, 500]}\n",
    "\n",
    "# gscv = GridSearchCV(LogisticRegression(class_weight='balanced'), lr_params,\n",
    "#                     scoring = 'balanced_accuracy', cv=3, n_jobs = -1)\n",
    "# gscv\n",
    "\n",
    "# gscv.fit(X_train_tf_df, y_train)"
   ]
  },
  {
   "cell_type": "code",
   "execution_count": null,
   "metadata": {
    "ExecuteTime": {
     "end_time": "2021-09-03T23:02:45.248388Z",
     "start_time": "2021-09-03T23:02:45.141387Z"
    }
   },
   "outputs": [],
   "source": [
    "# clf.evaluate_classification(gscv.best_estimator_, X_train = X_train_tf_df, y_train = y_train,\n",
    "#                            X_test = X_test_tf_df, y_test = y_test,\n",
    "#                           metric = 'balanced accuracy')"
   ]
  },
  {
   "cell_type": "code",
   "execution_count": null,
   "metadata": {
    "ExecuteTime": {
     "end_time": "2021-09-03T23:02:45.373394Z",
     "start_time": "2021-09-03T23:02:45.250388Z"
    }
   },
   "outputs": [],
   "source": [
    "# logreg_params = gscv.best_params_\n",
    "\n",
    "# logreg_params"
   ]
  },
  {
   "cell_type": "code",
   "execution_count": null,
   "metadata": {
    "ExecuteTime": {
     "end_time": "2021-09-03T23:02:45.497395Z",
     "start_time": "2021-09-03T23:02:45.375395Z"
    }
   },
   "outputs": [],
   "source": [
    "# gscv.best_estimator_"
   ]
  },
  {
   "cell_type": "markdown",
   "metadata": {},
   "source": [
    "## **GSCV - RandomForest**"
   ]
  },
  {
   "cell_type": "markdown",
   "metadata": {},
   "source": [
    "---\n",
    "\n",
    "**Scores**\n",
    "\n",
    "> Training balanced accuracy score: 0.99\n",
    "> \n",
    "> Testing balanced accuracy score: 0.88\n",
    "> \n",
    "> * *The training score is larger by 0.11 points.*\n",
    ">\n",
    "> Training data log loss: 0.10\n",
    ">\n",
    "> Testing data log loss: 0.26\n",
    "\n",
    "---\n",
    "\n",
    "**Best Parameters**\n",
    "\n",
    "> 'criterion': 'entropy'\n",
    "> \n",
    "> 'max_depth': None\n",
    "> \n",
    "> 'min_samples_leaf': 1\n",
    "> \n",
    "> 'min_samples_split': 3\n",
    "\n",
    "**Interpretation**\n",
    "\n",
    "> \n",
    "\n",
    "---"
   ]
  },
  {
   "cell_type": "markdown",
   "metadata": {},
   "source": [
    "## RFC Details"
   ]
  },
  {
   "cell_type": "markdown",
   "metadata": {},
   "source": [
    "```rfc.estimators_[i].get_depth()```"
   ]
  },
  {
   "cell_type": "code",
   "execution_count": null,
   "metadata": {
    "ExecuteTime": {
     "end_time": "2021-09-04T00:05:38.234012Z",
     "start_time": "2021-09-04T00:05:38.099041Z"
    }
   },
   "outputs": [],
   "source": [
    "# rfc_params = {\n",
    "#     'criterion': ['gini'],\n",
    "#     'max_depth': [5, 10],\n",
    "#     'min_samples_split': [3,4],\n",
    "#     'min_samples_leaf': [2],\n",
    "#     'class_weight': ['balanced']\n",
    "# }"
   ]
  },
  {
   "cell_type": "code",
   "execution_count": null,
   "metadata": {
    "ExecuteTime": {
     "end_time": "2021-09-04T00:05:38.824605Z",
     "start_time": "2021-09-04T00:05:38.672632Z"
    },
    "scrolled": true
   },
   "outputs": [],
   "source": [
    "# rfgs = GridSearchCV(RandomForestClassifier(random_state = 42), rfc_params,\n",
    "#                     scoring = 'balanced_accuracy', cv=3,verbose = 3)\n",
    "\n",
    "# rfgs.fit(X_train_tf_df, y_train)"
   ]
  },
  {
   "cell_type": "code",
   "execution_count": null,
   "metadata": {
    "ExecuteTime": {
     "end_time": "2021-09-03T22:43:58.514609Z",
     "start_time": "2021-09-03T22:43:58.388608Z"
    }
   },
   "outputs": [],
   "source": [
    "rfc_params = rfgs.best_params_\n",
    "\n",
    "rfc_params"
   ]
  },
  {
   "cell_type": "code",
   "execution_count": null,
   "metadata": {
    "ExecuteTime": {
     "end_time": "2021-09-03T22:43:58.638137Z",
     "start_time": "2021-09-03T22:43:58.516611Z"
    }
   },
   "outputs": [],
   "source": [
    "# rfgs.best_score_"
   ]
  },
  {
   "cell_type": "code",
   "execution_count": null,
   "metadata": {
    "ExecuteTime": {
     "end_time": "2021-09-03T22:43:58.749131Z",
     "start_time": "2021-09-03T22:43:58.640111Z"
    }
   },
   "outputs": [],
   "source": [
    "# rfc_new = rfgs.best_estimator_"
   ]
  },
  {
   "cell_type": "code",
   "execution_count": null,
   "metadata": {
    "ExecuteTime": {
     "end_time": "2021-09-03T22:43:58.874106Z",
     "start_time": "2021-09-03T22:43:58.751106Z"
    }
   },
   "outputs": [],
   "source": [
    "# clf.evaluate_classification(rfc_new, X_train_tf_df, y_train, X_test_tf_df, \n",
    "#                            y_test, 'balanced recall')"
   ]
  },
  {
   "cell_type": "markdown",
   "metadata": {},
   "source": [
    "# **Modeling Remaining Datasets**"
   ]
  },
  {
   "cell_type": "markdown",
   "metadata": {},
   "source": [
    "---\n",
    "\n",
    "> Now that I have the best model and parameters for my first dataset, I will run the model on my remaining datasets and evaluate its performance on each of them.\n",
    "\n",
    "---"
   ]
  },
  {
   "cell_type": "markdown",
   "metadata": {},
   "source": [
    "## City_Filtered Modeling"
   ]
  },
  {
   "cell_type": "code",
   "execution_count": null,
   "metadata": {
    "ExecuteTime": {
     "end_time": "2021-09-03T22:43:59.000107Z",
     "start_time": "2021-09-03T22:43:58.877107Z"
    }
   },
   "outputs": [],
   "source": [
    "# ## Identifying target\n",
    "# target= 'is_canceled'\n",
    "\n",
    "# X = city_filtered.drop(columns = [target, 'reservation_status']).copy()\n",
    "# y = city_filtered[target].copy()"
   ]
  },
  {
   "cell_type": "code",
   "execution_count": null,
   "metadata": {
    "ExecuteTime": {
     "end_time": "2021-09-03T22:43:59.110142Z",
     "start_time": "2021-09-03T22:43:59.002118Z"
    }
   },
   "outputs": [],
   "source": [
    "# ## Specifying numeric columns for preprocessing\n",
    "# num_cols = X_train.select_dtypes('number').columns.to_list()\n",
    "\n",
    "# ## Specifying numeric columns for preprocessing\n",
    "# cat_cols = X_train.select_dtypes(include='object').columns.to_list()"
   ]
  },
  {
   "cell_type": "code",
   "execution_count": null,
   "metadata": {
    "ExecuteTime": {
     "end_time": "2021-09-03T22:43:59.235137Z",
     "start_time": "2021-09-03T22:43:59.112109Z"
    }
   },
   "outputs": [],
   "source": [
    "# ## Creating ColumnTransformer and sub-transformers for imputation and encoding\n",
    "\n",
    "# ### --- Creating column pipelines --- ###\n",
    "\n",
    "# cat_pipe = Pipeline(steps=[('ohe', OneHotEncoder(handle_unknown='ignore',\n",
    "#                                                  sparse=False))])\n",
    "\n",
    "# num_pipe = Pipeline(steps=[('scaler', StandardScaler())])\n",
    "\n",
    "# ## Instantiating the ColumnTransformer\n",
    "\n",
    "# preprocessor = ColumnTransformer(\n",
    "#     transformers=[('num', num_pipe, num_cols),\n",
    "#                   ('cat', cat_pipe, cat_cols)])\n",
    "\n",
    "# preprocessor"
   ]
  },
  {
   "cell_type": "code",
   "execution_count": null,
   "metadata": {
    "ExecuteTime": {
     "end_time": "2021-09-03T22:43:59.344108Z",
     "start_time": "2021-09-03T22:43:59.237132Z"
    }
   },
   "outputs": [],
   "source": [
    "# ## Fitting feature preprocessor\n",
    "# preprocessor.fit(X_train)\n",
    "\n",
    "# ## Getting feature names from OHE\n",
    "# ohe_cat_names = preprocessor.named_transformers_['cat'].named_steps['ohe'].get_feature_names(cat_cols)\n",
    "\n",
    "# ## Generating list for column index\n",
    "# final_cols = [*num_cols, *ohe_cat_names]"
   ]
  },
  {
   "cell_type": "code",
   "execution_count": null,
   "metadata": {
    "ExecuteTime": {
     "end_time": "2021-09-03T22:43:59.470106Z",
     "start_time": "2021-09-03T22:43:59.347108Z"
    }
   },
   "outputs": [],
   "source": [
    "# ## Transform the data via the ColumnTransformer preprocessor\n",
    "\n",
    "# X_train_tf = preprocessor.transform(X_train)\n",
    "# X_train_tf_df = pd.DataFrame(X_train_tf, columns=final_cols, index=X_train.index)\n",
    "\n",
    "# X_test_tf = preprocessor.transform(X_test)\n",
    "# X_test_tf_df = pd.DataFrame(X_test_tf, columns=final_cols, index=X_test.index)"
   ]
  },
  {
   "cell_type": "code",
   "execution_count": null,
   "metadata": {
    "ExecuteTime": {
     "end_time": "2021-09-03T22:43:59.610113Z",
     "start_time": "2021-09-03T22:43:59.472111Z"
    }
   },
   "outputs": [],
   "source": [
    "# rfc = RandomForestClassifier(criterion= 'entropy', min_samples_split = 3,\n",
    "#                              n_jobs=-1, random_state=42)\n",
    "\n",
    "# rfc.fit(X_train_tf_df, y_train)"
   ]
  },
  {
   "cell_type": "code",
   "execution_count": null,
   "metadata": {
    "ExecuteTime": {
     "end_time": "2021-09-03T22:43:59.735144Z",
     "start_time": "2021-09-03T22:43:59.612108Z"
    }
   },
   "outputs": [],
   "source": [
    "# clf.evaluate_classification(rfc, X_train = X_train_tf_df, y_train = y_train,\n",
    "#                            X_test = X_test_tf_df, y_test = y_test,\n",
    "#                           metric = 'balanced recall')"
   ]
  },
  {
   "cell_type": "markdown",
   "metadata": {},
   "source": [
    "## Resort_Full Modeling"
   ]
  },
  {
   "cell_type": "code",
   "execution_count": null,
   "metadata": {
    "ExecuteTime": {
     "end_time": "2021-09-03T22:43:59.861110Z",
     "start_time": "2021-09-03T22:43:59.737109Z"
    }
   },
   "outputs": [],
   "source": [
    "# ## Identifying target\n",
    "# target= 'is_canceled'\n",
    "\n",
    "# X = resort_full.drop(columns = [target, 'reservation_status']).copy()\n",
    "# y = resort_full[target].copy()"
   ]
  },
  {
   "cell_type": "code",
   "execution_count": null,
   "metadata": {
    "ExecuteTime": {
     "end_time": "2021-09-03T22:43:59.987143Z",
     "start_time": "2021-09-03T22:43:59.863109Z"
    }
   },
   "outputs": [],
   "source": [
    "# ## Splitting - stratify to maintain class balance b/t X_train/_test\n",
    "# X_train, X_test, y_train, y_test = train_test_split(X, y, test_size = .25, \n",
    "#                                                     random_state=42, \n",
    "#                                                     stratify=y)"
   ]
  },
  {
   "cell_type": "code",
   "execution_count": null,
   "metadata": {
    "ExecuteTime": {
     "end_time": "2021-09-03T22:44:00.126107Z",
     "start_time": "2021-09-03T22:43:59.989111Z"
    }
   },
   "outputs": [],
   "source": [
    "# ## Specifying numeric columns for preprocessing\n",
    "# num_cols = X_train.select_dtypes('number').columns.to_list()\n",
    "\n",
    "# ## Specifying numeric columns for preprocessing\n",
    "# cat_cols = X_train.select_dtypes(include='object').columns.to_list()"
   ]
  },
  {
   "cell_type": "code",
   "execution_count": null,
   "metadata": {
    "ExecuteTime": {
     "end_time": "2021-09-03T22:44:00.253143Z",
     "start_time": "2021-09-03T22:44:00.128111Z"
    }
   },
   "outputs": [],
   "source": [
    "# ## Fitting feature preprocessor\n",
    "# preprocessor.fit(X_train)\n",
    "\n",
    "# ## Getting feature names from OHE\n",
    "# ohe_cat_names = preprocessor.named_transformers_['cat'].named_steps['ohe'].get_feature_names(cat_cols)\n",
    "\n",
    "# ## Generating list for column index\n",
    "# final_cols = [*num_cols, *ohe_cat_names]"
   ]
  },
  {
   "cell_type": "code",
   "execution_count": null,
   "metadata": {
    "ExecuteTime": {
     "end_time": "2021-09-03T22:44:00.378144Z",
     "start_time": "2021-09-03T22:44:00.255110Z"
    }
   },
   "outputs": [],
   "source": [
    "# ## Transform the data via the ColumnTransformer preprocessor\n",
    "\n",
    "# X_train_tf = preprocessor.transform(X_train)\n",
    "# X_train_tf_df = pd.DataFrame(X_train_tf, columns=final_cols, index=X_train.index)\n",
    "\n",
    "# X_test_tf = preprocessor.transform(X_test)\n",
    "# X_test_tf_df = pd.DataFrame(X_test_tf, columns=final_cols, index=X_test.index)\n",
    "\n",
    "# # display(X_train_tf_df.head(5),X_test_tf_df.head(5))"
   ]
  },
  {
   "cell_type": "code",
   "execution_count": null,
   "metadata": {
    "ExecuteTime": {
     "end_time": "2021-09-03T22:44:00.486161Z",
     "start_time": "2021-09-03T22:44:00.380109Z"
    }
   },
   "outputs": [],
   "source": [
    "# rfc = RandomForestClassifier(criterion= 'entropy', min_samples_split = 3,\n",
    "#                              n_jobs=-1, random_state=42)\n",
    "\n",
    "# rfc.fit(X_train_tf_df, y_train)"
   ]
  },
  {
   "cell_type": "code",
   "execution_count": null,
   "metadata": {
    "ExecuteTime": {
     "end_time": "2021-09-03T22:44:00.611109Z",
     "start_time": "2021-09-03T22:44:00.488118Z"
    },
    "scrolled": true
   },
   "outputs": [],
   "source": [
    "# clf.evaluate_classification(rfc, X_train = X_train_tf_df, y_train = y_train,\n",
    "#                            X_test = X_test_tf_df, y_test = y_test,\n",
    "#                           metric = 'balanced recall')"
   ]
  },
  {
   "cell_type": "markdown",
   "metadata": {},
   "source": [
    "## Resort_Filtered Modeling"
   ]
  },
  {
   "cell_type": "code",
   "execution_count": null,
   "metadata": {
    "ExecuteTime": {
     "end_time": "2021-09-03T22:44:00.734108Z",
     "start_time": "2021-09-03T22:44:00.613110Z"
    }
   },
   "outputs": [],
   "source": [
    "# ## Identifying target\n",
    "# target= 'is_canceled'\n",
    "\n",
    "# X = resort_filtered.drop(columns = [target, 'reservation_status']).copy()\n",
    "# y = resort_filtered[target].copy()"
   ]
  },
  {
   "cell_type": "code",
   "execution_count": null,
   "metadata": {
    "ExecuteTime": {
     "end_time": "2021-09-03T22:44:00.859142Z",
     "start_time": "2021-09-03T22:44:00.736109Z"
    }
   },
   "outputs": [],
   "source": [
    "# ## Splitting - stratify to maintain class balance b/t X_train/_test\n",
    "# X_train, X_test, y_train, y_test = train_test_split(X, y, test_size = .25, \n",
    "#                                                     random_state=42, \n",
    "#                                                     stratify=y)"
   ]
  },
  {
   "cell_type": "code",
   "execution_count": null,
   "metadata": {
    "ExecuteTime": {
     "end_time": "2021-09-03T22:44:00.983110Z",
     "start_time": "2021-09-03T22:44:00.861113Z"
    }
   },
   "outputs": [],
   "source": [
    "# ## Specifying numeric columns for preprocessing\n",
    "# num_cols = X_train.select_dtypes('number').columns.to_list()\n",
    "\n",
    "# ## Specifying numeric columns for preprocessing\n",
    "# cat_cols = X_train.select_dtypes(include='object').columns.to_list()"
   ]
  },
  {
   "cell_type": "code",
   "execution_count": null,
   "metadata": {
    "ExecuteTime": {
     "end_time": "2021-09-03T22:44:01.107124Z",
     "start_time": "2021-09-03T22:44:00.985110Z"
    }
   },
   "outputs": [],
   "source": [
    "# ## Fitting feature preprocessor\n",
    "# preprocessor.fit(X_train)\n",
    "\n",
    "# ## Getting feature names from OHE\n",
    "# ohe_cat_names = preprocessor.named_transformers_['cat'].named_steps['ohe'].get_feature_names(cat_cols)\n",
    "\n",
    "# ## Generating list for column index\n",
    "# final_cols = [*num_cols, *ohe_cat_names]"
   ]
  },
  {
   "cell_type": "code",
   "execution_count": null,
   "metadata": {
    "ExecuteTime": {
     "end_time": "2021-09-03T22:44:01.232110Z",
     "start_time": "2021-09-03T22:44:01.109114Z"
    }
   },
   "outputs": [],
   "source": [
    "# ## Transform the data via the ColumnTransformer preprocessor\n",
    "\n",
    "# X_train_tf = preprocessor.transform(X_train)\n",
    "# X_train_tf_df = pd.DataFrame(X_train_tf, columns=final_cols, index=X_train.index)\n",
    "\n",
    "# X_test_tf = preprocessor.transform(X_test)\n",
    "# X_test_tf_df = pd.DataFrame(X_test_tf, columns=final_cols, index=X_test.index)\n",
    "\n",
    "# # display(X_train_tf_df.head(5),X_test_tf_df.head(5))"
   ]
  },
  {
   "cell_type": "code",
   "execution_count": null,
   "metadata": {
    "ExecuteTime": {
     "end_time": "2021-09-03T22:44:01.358140Z",
     "start_time": "2021-09-03T22:44:01.234114Z"
    }
   },
   "outputs": [],
   "source": [
    "# rfc = RandomForestClassifier(criterion= 'entropy', min_samples_split = 3,\n",
    "#                              n_jobs=-1, random_state=42)\n",
    "\n",
    "# rfc.fit(X_train_tf_df, y_train)"
   ]
  },
  {
   "cell_type": "code",
   "execution_count": null,
   "metadata": {
    "ExecuteTime": {
     "end_time": "2021-09-03T22:44:01.484143Z",
     "start_time": "2021-09-03T22:44:01.360110Z"
    },
    "scrolled": false
   },
   "outputs": [],
   "source": [
    "# clf.evaluate_classification(rfc, X_train = X_train_tf_df, y_train = y_train,\n",
    "#                            X_test = X_test_tf_df, y_test = y_test,\n",
    "#                           metric = 'balanced recall')"
   ]
  },
  {
   "cell_type": "markdown",
   "metadata": {},
   "source": [
    "## New heading"
   ]
  },
  {
   "cell_type": "code",
   "execution_count": null,
   "metadata": {},
   "outputs": [],
   "source": []
  },
  {
   "cell_type": "markdown",
   "metadata": {},
   "source": [
    "# Additional Mode Types"
   ]
  },
  {
   "cell_type": "markdown",
   "metadata": {},
   "source": [
    "## Balanced Bagging Classifier"
   ]
  },
  {
   "cell_type": "markdown",
   "metadata": {},
   "source": [
    "---\n",
    "\n",
    "**MODEL: BalancedBaggingClassifier**\n",
    "\n",
    "**Scores**\n",
    "\n",
    "> Training balanced accuracy score: 0.98\n",
    "> \n",
    "> Testing balanced accuracy score: 0.89\n",
    "> \n",
    "> * *The training score is larger by 0.11 points.*\n",
    ">\n",
    "> Training data log loss: 0.11\n",
    ">\n",
    "> Testing data log loss: 0.30\n",
    "\n",
    "---\n",
    "\n",
    "**Interpretation**\n",
    "\n",
    "> \n",
    "\n",
    "---"
   ]
  },
  {
   "cell_type": "code",
   "execution_count": null,
   "metadata": {
    "ExecuteTime": {
     "end_time": "2021-09-03T22:44:01.608115Z",
     "start_time": "2021-09-03T22:44:01.486110Z"
    }
   },
   "outputs": [],
   "source": [
    "# ## Testing balanced bagging classifier\n",
    "# balanced_bagging = BalancedBaggingClassifier(n_estimators=50, random_state=42)\n",
    "\n",
    "# balanced_bagging.fit(X_train_tf_df, y_train)"
   ]
  },
  {
   "cell_type": "code",
   "execution_count": null,
   "metadata": {
    "ExecuteTime": {
     "end_time": "2021-09-03T22:44:01.733142Z",
     "start_time": "2021-09-03T22:44:01.610113Z"
    },
    "scrolled": true
   },
   "outputs": [],
   "source": [
    "# clf.evaluate_classification(balanced_bagging, X_train = X_train_tf_df, y_train = y_train,\n",
    "#                            X_test = X_test_tf_df, y_test = y_test,\n",
    "#                           metric = 'balanced recall')"
   ]
  },
  {
   "cell_type": "markdown",
   "metadata": {},
   "source": [
    "### GSCV: Balanced Bagging"
   ]
  },
  {
   "cell_type": "markdown",
   "metadata": {},
   "source": [
    "---\n",
    "\n",
    "**MODEL:** GridSearchCV - BalancedBaggingClassifier\n",
    "\n",
    "**Scores**\n",
    "\n",
    "> Training balanced accuracy score: 0.96\n",
    "> \n",
    "> Testing balanced accuracy score: 0.89\n",
    "> \n",
    "> * *The training score is larger by 0.07 points.*\n",
    ">\n",
    "> Training data log loss: 0.20\n",
    ">\n",
    "> Testing data log loss: 0.30\n",
    "\n",
    "---\n",
    "\n",
    "**Best Parameters**\n",
    "\n",
    "> 'base_estimator': RandomForestClassifier()\n",
    ">\n",
    "> 'replacement': 'True'\n",
    ">\n",
    "> 'sampling_strategy': 'majority'\n",
    "\n",
    "**Interpretation**\n",
    "\n",
    "> \n",
    "\n",
    "---"
   ]
  },
  {
   "cell_type": "code",
   "execution_count": null,
   "metadata": {
    "ExecuteTime": {
     "end_time": "2021-09-03T22:44:01.905110Z",
     "start_time": "2021-09-03T22:44:01.735112Z"
    }
   },
   "outputs": [],
   "source": [
    "# bal_bag_params = {'base_estimator': [RandomForestClassifier()],\n",
    "#                   'replacement': ['True'],\n",
    "#                   'sampling_strategy': ['majority', 'not minority',\n",
    "#                                         'not majority', 'all']\n",
    "#                  }"
   ]
  },
  {
   "cell_type": "code",
   "execution_count": null,
   "metadata": {
    "ExecuteTime": {
     "end_time": "2021-09-03T22:44:02.045110Z",
     "start_time": "2021-09-03T22:44:01.907111Z"
    }
   },
   "outputs": [],
   "source": [
    "# bbgs = GridSearchCV(BalancedBaggingClassifier(n_jobs=-1,random_state=42), \n",
    "#                     bal_bag_params,scoring = 'balanced_accuracy',\n",
    "#                     cv=3,verbose = 3)\n",
    "\n",
    "# bbgs.fit(X_train_tf_df, y_train)"
   ]
  },
  {
   "cell_type": "code",
   "execution_count": null,
   "metadata": {
    "ExecuteTime": {
     "end_time": "2021-09-03T22:44:02.184114Z",
     "start_time": "2021-09-03T22:44:02.048120Z"
    },
    "scrolled": true
   },
   "outputs": [],
   "source": [
    "# clf.evaluate_classification(bbgs, X_train_tf_df, y_train, X_test_tf_df, \n",
    "#                            y_test, 'balanced accuracy')"
   ]
  },
  {
   "cell_type": "code",
   "execution_count": null,
   "metadata": {
    "ExecuteTime": {
     "end_time": "2021-09-03T22:44:02.296112Z",
     "start_time": "2021-09-03T22:44:02.186110Z"
    }
   },
   "outputs": [],
   "source": [
    "# bbgs_params = bbgs.best_params_\n",
    "\n",
    "# bbgs_params"
   ]
  },
  {
   "cell_type": "markdown",
   "metadata": {},
   "source": [
    "## Testing Balanced Random Forest Classifier"
   ]
  },
  {
   "cell_type": "markdown",
   "metadata": {},
   "source": [
    "---\n",
    "\n",
    "**MODEL: BalancedRandomForestClassifier**\n",
    "\n",
    "**Scores**\n",
    "\n",
    "> Training balanced accuracy score: 0.97\n",
    "> \n",
    "> Testing balanced accuracy score: 0.89\n",
    "> \n",
    "> * *The training score is larger by 0.8 points.*\n",
    ">\n",
    "> Training data log loss: 0.17\n",
    ">\n",
    "> Testing data log loss: 0.30\n",
    "\n",
    "---\n",
    "\n",
    "**Best Parameters**\n",
    "\n",
    "> \n",
    "\n",
    "**Interpretation**\n",
    "\n",
    "> \n",
    "\n",
    "---"
   ]
  },
  {
   "cell_type": "code",
   "execution_count": null,
   "metadata": {
    "ExecuteTime": {
     "end_time": "2021-09-04T00:06:12.245796Z",
     "start_time": "2021-09-04T00:05:56.847508Z"
    }
   },
   "outputs": [],
   "source": [
    "balanced_forest = BalancedRandomForestClassifier(n_jobs = -1, random_state=42)\n",
    "\n",
    "balanced_forest.fit(X_train_tf_df, y_train)"
   ]
  },
  {
   "cell_type": "code",
   "execution_count": null,
   "metadata": {
    "ExecuteTime": {
     "end_time": "2021-09-04T00:06:20.063946Z",
     "start_time": "2021-09-04T00:06:12.247801Z"
    }
   },
   "outputs": [],
   "source": [
    "clf.evaluate_classification(balanced_forest, X_train = X_train_tf_df, y_train = y_train,\n",
    "                           X_test = X_test_tf_df, y_test = y_test,\n",
    "                          metric = 'balanced recall')"
   ]
  },
  {
   "cell_type": "markdown",
   "metadata": {},
   "source": [
    "### GSCV: Balanced Bagging"
   ]
  },
  {
   "cell_type": "markdown",
   "metadata": {},
   "source": [
    "---\n",
    "\n",
    "**MODEL:** GridSearchCV - BalancedBaggingClassifier\n",
    "\n",
    "**Scores**\n",
    "\n",
    "> Training balanced accuracy score: 0.96\n",
    "> \n",
    "> Testing balanced accuracy score: 0.89\n",
    "> \n",
    "> * *The training score is larger by 0.07 points.*\n",
    ">\n",
    "> Training data log loss: 0.20\n",
    ">\n",
    "> Testing data log loss: 0.30\n",
    "\n",
    "---\n",
    "\n",
    "**Best Parameters**\n",
    "\n",
    "> * 'criterion': 'entropy'\n",
    ">\n",
    "> * 'max_features': None\n",
    ">\n",
    "> * 'min_samples_leaf': 1\n",
    ">\n",
    "> * 'min_samples_split': 2\n",
    "\n",
    "**Interpretation**\n",
    "\n",
    "> \n",
    "\n",
    "---"
   ]
  },
  {
   "cell_type": "code",
   "execution_count": null,
   "metadata": {
    "ExecuteTime": {
     "end_time": "2021-09-03T22:44:16.648337Z",
     "start_time": "2021-09-03T22:44:16.512338Z"
    }
   },
   "outputs": [],
   "source": [
    "# brfc_params = {'criterion': ['gini', 'entropy'],\n",
    "#                'min_samples_split': [2, 3, 4],\n",
    "#                'min_samples_leaf': [1,2,3],\n",
    "#                'max_features': ['auto', 'log2', None]\n",
    "#               }"
   ]
  },
  {
   "cell_type": "code",
   "execution_count": null,
   "metadata": {
    "ExecuteTime": {
     "end_time": "2021-09-03T22:44:16.775338Z",
     "start_time": "2021-09-03T22:44:16.650340Z"
    }
   },
   "outputs": [],
   "source": [
    "# brfc = GridSearchCV(BalancedRandomForestClassifier(n_jobs=-1,random_state=42), \n",
    "#                     brfc_params,scoring = 'balanced_accuracy',\n",
    "#                     cv=3,verbose = 3)\n",
    "\n",
    "# brfc.fit(X_train_tf_df, y_train)"
   ]
  },
  {
   "cell_type": "code",
   "execution_count": null,
   "metadata": {
    "ExecuteTime": {
     "end_time": "2021-09-03T22:44:16.899448Z",
     "start_time": "2021-09-03T22:44:16.777343Z"
    },
    "scrolled": true
   },
   "outputs": [],
   "source": [
    "# clf.evaluate_classification(brfc, X_train_tf_df, y_train, X_test_tf_df, \n",
    "#                            y_test, 'balanced accuracy')"
   ]
  },
  {
   "cell_type": "code",
   "execution_count": null,
   "metadata": {
    "ExecuteTime": {
     "end_time": "2021-09-03T22:44:17.021371Z",
     "start_time": "2021-09-03T22:44:16.901339Z"
    }
   },
   "outputs": [],
   "source": [
    "# brfc_params = brfc.best_params_\n",
    "\n",
    "# brfc_params"
   ]
  },
  {
   "cell_type": "markdown",
   "metadata": {},
   "source": [
    "## EasyEnsembleClassifier"
   ]
  },
  {
   "cell_type": "markdown",
   "metadata": {},
   "source": [
    "---\n",
    "\n",
    "**MODEL: EasyEnsembleClassifier**\n",
    "\n",
    "**Scores**\n",
    "\n",
    "> Training balanced accuracy score: 0.86\n",
    "> \n",
    "> Testing balanced accuracy score: 0.85\n",
    "> \n",
    "> * *The training score is larger by 0.01 points.*\n",
    ">\n",
    "> Training data log loss: 0.64\n",
    ">\n",
    "> Testing data log loss: 0.64\n",
    "\n",
    "---\n",
    "\n",
    "**Interpretation**\n",
    "\n",
    "> \n",
    "\n",
    "---"
   ]
  },
  {
   "cell_type": "code",
   "execution_count": null,
   "metadata": {
    "ExecuteTime": {
     "end_time": "2021-09-03T22:44:17.144385Z",
     "start_time": "2021-09-03T22:44:17.023338Z"
    }
   },
   "outputs": [],
   "source": [
    "# easy_ensemble = EasyEnsembleClassifier(n_jobs = -1, random_state=42)\n",
    "\n",
    "# easy_ensemble.fit(X_train_tf_df, y_train)"
   ]
  },
  {
   "cell_type": "code",
   "execution_count": null,
   "metadata": {
    "ExecuteTime": {
     "end_time": "2021-09-03T22:44:17.271342Z",
     "start_time": "2021-09-03T22:44:17.146340Z"
    },
    "scrolled": true
   },
   "outputs": [],
   "source": [
    "# clf.evaluate_classification(easy_ensemble, X_train = X_train_tf_df, y_train = y_train,\n",
    "#                            X_test = X_test_tf_df, y_test = y_test,\n",
    "#                           metric = 'balanced recall')"
   ]
  },
  {
   "cell_type": "markdown",
   "metadata": {},
   "source": [
    "## RUSBoostClassifier"
   ]
  },
  {
   "cell_type": "markdown",
   "metadata": {},
   "source": [
    "---\n",
    "\n",
    "**MODEL: RUSBoostClassifier**\n",
    "\n",
    "**Scores**\n",
    "\n",
    "> Training balanced accuracy score: 0.85\n",
    "> \n",
    "> Testing balanced accuracy score: 0.85\n",
    "> \n",
    "> * *The scores are the same size.*\n",
    ">\n",
    "> Training data log loss: 0.64\n",
    ">\n",
    "> Testing data log loss: 0.64\n",
    "\n",
    "---\n",
    "\n",
    "**Interpretation**\n",
    "\n",
    "> \n",
    "\n",
    "---"
   ]
  },
  {
   "cell_type": "code",
   "execution_count": null,
   "metadata": {
    "ExecuteTime": {
     "end_time": "2021-09-03T22:44:17.379340Z",
     "start_time": "2021-09-03T22:44:17.273339Z"
    }
   },
   "outputs": [],
   "source": [
    "# rus_boost = RUSBoostClassifier(n_estimators=200, algorithm='SAMME.R',\n",
    "#                                random_state=42)\n",
    "\n",
    "# rus_boost.fit(X_train_tf_df, y_train)"
   ]
  },
  {
   "cell_type": "code",
   "execution_count": null,
   "metadata": {
    "ExecuteTime": {
     "end_time": "2021-09-03T22:44:17.488386Z",
     "start_time": "2021-09-03T22:44:17.381339Z"
    },
    "scrolled": true
   },
   "outputs": [],
   "source": [
    "# clf.evaluate_classification(rus_boost, X_train = X_train_tf_df, y_train = y_train,\n",
    "#                            X_test = X_test_tf_df, y_test = y_test,\n",
    "#                           metric = 'balanced recall')"
   ]
  },
  {
   "cell_type": "code",
   "execution_count": null,
   "metadata": {},
   "outputs": [],
   "source": []
  }
 ],
 "metadata": {
  "kernelspec": {
   "display_name": "learn-env",
   "language": "python",
   "name": "learn-env"
  },
  "language_info": {
   "codemirror_mode": {
    "name": "ipython",
    "version": 3
   },
   "file_extension": ".py",
   "mimetype": "text/x-python",
   "name": "python",
   "nbconvert_exporter": "python",
   "pygments_lexer": "ipython3",
   "version": "3.6.9"
  },
  "toc": {
   "base_numbering": 1,
   "nav_menu": {},
   "number_sections": true,
   "sideBar": true,
   "skip_h1_title": false,
   "title_cell": "Table of Contents",
   "title_sidebar": "Contents",
   "toc_cell": false,
   "toc_position": {
    "height": "calc(100% - 180px)",
    "left": "10px",
    "top": "150px",
    "width": "207.088px"
   },
   "toc_section_display": true,
   "toc_window_display": true
  }
 },
 "nbformat": 4,
 "nbformat_minor": 2
}
