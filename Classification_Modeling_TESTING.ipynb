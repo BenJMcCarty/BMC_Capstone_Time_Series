{
 "cells": [
  {
   "cell_type": "markdown",
   "metadata": {},
   "source": [
    "# **Cancel Culture - Classification Modeling Notebook**"
   ]
  },
  {
   "cell_type": "markdown",
   "metadata": {},
   "source": [
    "---\n",
    "\n",
    "**Post-Cleaning Modeling Notebook**\n",
    "\n",
    "---"
   ]
  },
  {
   "cell_type": "markdown",
   "metadata": {
    "toc": true
   },
   "source": [
    "<h1>Table of Contents<span class=\"tocSkip\"></span></h1>\n",
    "<div class=\"toc\"><ul class=\"toc-item\"><li><span><a href=\"#Cancel-Culture---Classification-Modeling-Notebook\" data-toc-modified-id=\"Cancel-Culture---Classification-Modeling-Notebook-1\"><span class=\"toc-item-num\">1&nbsp;&nbsp;</span><strong>Cancel Culture - Classification Modeling Notebook</strong></a></span></li><li><span><a href=\"#--->-🛑-FIX:-Add-cmts-re:-post-cleaning,-modeling\" data-toc-modified-id=\"--->-🛑-FIX:-Add-cmts-re:-post-cleaning,-modeling-2\"><span class=\"toc-item-num\">2&nbsp;&nbsp;</span>-- &gt; 🛑 <strong>FIX</strong>: Add cmts re: post-cleaning, modeling</a></span></li><li><span><a href=\"#Imports\" data-toc-modified-id=\"Imports-3\"><span class=\"toc-item-num\">3&nbsp;&nbsp;</span><strong>Imports</strong></a></span><ul class=\"toc-item\"><li><span><a href=\"#Speeding-Up-Scikit-Learn\" data-toc-modified-id=\"Speeding-Up-Scikit-Learn-3.1\"><span class=\"toc-item-num\">3.1&nbsp;&nbsp;</span><em>Speeding-Up Scikit-Learn</em></a></span></li></ul></li><li><span><a href=\"#Reading-the-DataFrames\" data-toc-modified-id=\"Reading-the-DataFrames-4\"><span class=\"toc-item-num\">4&nbsp;&nbsp;</span><strong>Reading the DataFrames</strong></a></span></li><li><span><a href=\"#Train/Test-Split\" data-toc-modified-id=\"Train/Test-Split-5\"><span class=\"toc-item-num\">5&nbsp;&nbsp;</span><strong>Train/Test Split</strong></a></span></li><li><span><a href=\"#Prepping-the-Pipeline\" data-toc-modified-id=\"Prepping-the-Pipeline-6\"><span class=\"toc-item-num\">6&nbsp;&nbsp;</span><strong>Prepping the Pipeline</strong></a></span></li><li><span><a href=\"#Resampling-via-SMOTE\" data-toc-modified-id=\"Resampling-via-SMOTE-7\"><span class=\"toc-item-num\">7&nbsp;&nbsp;</span>Resampling via SMOTE</a></span></li><li><span><a href=\"#Baseline-Model\" data-toc-modified-id=\"Baseline-Model-8\"><span class=\"toc-item-num\">8&nbsp;&nbsp;</span><strong>Baseline Model</strong></a></span></li><li><span><a href=\"#Logistic-Regression-Model\" data-toc-modified-id=\"Logistic-Regression-Model-9\"><span class=\"toc-item-num\">9&nbsp;&nbsp;</span><strong>Logistic Regression Model</strong></a></span></li><li><span><a href=\"#Random-Forest-Model\" data-toc-modified-id=\"Random-Forest-Model-10\"><span class=\"toc-item-num\">10&nbsp;&nbsp;</span><strong>Random Forest Model</strong></a></span></li><li><span><a href=\"#ExtraTreesClassifier\" data-toc-modified-id=\"ExtraTreesClassifier-11\"><span class=\"toc-item-num\">11&nbsp;&nbsp;</span><strong>ExtraTreesClassifier</strong></a></span></li><li><span><a href=\"#XGBoost-Classifier\" data-toc-modified-id=\"XGBoost-Classifier-12\"><span class=\"toc-item-num\">12&nbsp;&nbsp;</span>XGBoost Classifier</a></span></li><li><span><a href=\"#GridSearches-and-Results\" data-toc-modified-id=\"GridSearches-and-Results-13\"><span class=\"toc-item-num\">13&nbsp;&nbsp;</span>GridSearches and Results</a></span><ul class=\"toc-item\"><li><span><a href=\"#GS:-Logistic-Regression\" data-toc-modified-id=\"GS:-Logistic-Regression-13.1\"><span class=\"toc-item-num\">13.1&nbsp;&nbsp;</span>GS: Logistic Regression</a></span></li><li><span><a href=\"#GS:-Extra-Trees-Classifier-v1\" data-toc-modified-id=\"GS:-Extra-Trees-Classifier-v1-13.2\"><span class=\"toc-item-num\">13.2&nbsp;&nbsp;</span><strong>GS: Extra Trees Classifier v1</strong></a></span></li><li><span><a href=\"#GS:-Extra-Trees-Classifier-v2\" data-toc-modified-id=\"GS:-Extra-Trees-Classifier-v2-13.3\"><span class=\"toc-item-num\">13.3&nbsp;&nbsp;</span><strong>GS: Extra Trees Classifier v2</strong></a></span></li></ul></li><li><span><a href=\"#Collecting-Coeffcients-and-Inspecting-Importances\" data-toc-modified-id=\"Collecting-Coeffcients-and-Inspecting-Importances-14\"><span class=\"toc-item-num\">14&nbsp;&nbsp;</span>Collecting Coeffcients and Inspecting Importances</a></span><ul class=\"toc-item\"><li><span><a href=\"#Collecting-Coefficients\" data-toc-modified-id=\"Collecting-Coefficients-14.1\"><span class=\"toc-item-num\">14.1&nbsp;&nbsp;</span><strong>Collecting Coefficients</strong></a></span></li><li><span><a href=\"#Inspecting-Importances\" data-toc-modified-id=\"Inspecting-Importances-14.2\"><span class=\"toc-item-num\">14.2&nbsp;&nbsp;</span>Inspecting Importances</a></span></li></ul></li><li><span><a href=\"#Interpreting-Results\" data-toc-modified-id=\"Interpreting-Results-15\"><span class=\"toc-item-num\">15&nbsp;&nbsp;</span><strong>Interpreting Results</strong></a></span><ul class=\"toc-item\"><li><span><a href=\"#🛑-FIX:-adjust-for-context\" data-toc-modified-id=\"🛑-FIX:-adjust-for-context-15.1\"><span class=\"toc-item-num\">15.1&nbsp;&nbsp;</span>🛑 FIX: adjust for context</a></span></li></ul></li><li><span><a href=\"#SHAP\" data-toc-modified-id=\"SHAP-16\"><span class=\"toc-item-num\">16&nbsp;&nbsp;</span><strong>SHAP</strong></a></span></li><li><span><a href=\"#🛑-Fix:-Annotate-Code-and-Update\" data-toc-modified-id=\"🛑-Fix:-Annotate-Code-and-Update-17\"><span class=\"toc-item-num\">17&nbsp;&nbsp;</span>🛑 Fix: Annotate Code and Update</a></span><ul class=\"toc-item\"><li><span><a href=\"#Attempting-TreeExplainer\" data-toc-modified-id=\"Attempting-TreeExplainer-17.1\"><span class=\"toc-item-num\">17.1&nbsp;&nbsp;</span>Attempting TreeExplainer</a></span></li><li><span><a href=\"#Attempting-KernelExplainer\" data-toc-modified-id=\"Attempting-KernelExplainer-17.2\"><span class=\"toc-item-num\">17.2&nbsp;&nbsp;</span>Attempting KernelExplainer</a></span></li><li><span><a href=\"#Force-Plot\" data-toc-modified-id=\"Force-Plot-17.3\"><span class=\"toc-item-num\">17.3&nbsp;&nbsp;</span><strong>Force Plot</strong></a></span></li><li><span><a href=\"#Dependence-Plot\" data-toc-modified-id=\"Dependence-Plot-17.4\"><span class=\"toc-item-num\">17.4&nbsp;&nbsp;</span>Dependence Plot</a></span></li></ul></li><li><span><a href=\"#MVP-Notes\" data-toc-modified-id=\"MVP-Notes-18\"><span class=\"toc-item-num\">18&nbsp;&nbsp;</span>MVP Notes</a></span></li><li><span><a href=\"#Reviewing-Results\" data-toc-modified-id=\"Reviewing-Results-19\"><span class=\"toc-item-num\">19&nbsp;&nbsp;</span>Reviewing Results</a></span></li><li><span><a href=\"#Recommendations\" data-toc-modified-id=\"Recommendations-20\"><span class=\"toc-item-num\">20&nbsp;&nbsp;</span>Recommendations</a></span></li><li><span><a href=\"#Future-Work\" data-toc-modified-id=\"Future-Work-21\"><span class=\"toc-item-num\">21&nbsp;&nbsp;</span>Future Work</a></span></li></ul></div>"
   ]
  },
  {
   "cell_type": "markdown",
   "metadata": {},
   "source": [
    "# -- > 🛑 **FIX**: Add cmts re: post-cleaning, modeling"
   ]
  },
  {
   "cell_type": "markdown",
   "metadata": {},
   "source": [
    "---\n",
    "\n",
    ">\n",
    "\n",
    "---"
   ]
  },
  {
   "cell_type": "markdown",
   "metadata": {},
   "source": [
    "# **Imports**"
   ]
  },
  {
   "cell_type": "markdown",
   "metadata": {},
   "source": [
    "---\n",
    "\n",
    "**The Basics**\n",
    "\n",
    ">I will import the usual packages: Pandas, Numpy, Matplotlib, and Seaborn. Additionally, I have several personal functions that I use during the modeling process.\n",
    "\n",
    "**More Models**\n",
    "\n",
    "> When I begin the modeling process, I will import \n",
    "\n",
    "---"
   ]
  },
  {
   "cell_type": "code",
   "execution_count": null,
   "metadata": {
    "ExecuteTime": {
     "end_time": "2021-09-10T23:03:57.943717Z",
     "start_time": "2021-09-10T23:03:57.886714Z"
    }
   },
   "outputs": [],
   "source": [
    "## Jupyter Notebook setting to reload functions when called\n",
    "%load_ext autoreload\n",
    "%autoreload 2"
   ]
  },
  {
   "cell_type": "code",
   "execution_count": null,
   "metadata": {
    "ExecuteTime": {
     "end_time": "2021-09-10T23:04:03.143888Z",
     "start_time": "2021-09-10T23:03:57.946733Z"
    }
   },
   "outputs": [],
   "source": [
    "## Data Handling\n",
    "import pandas as pd\n",
    "import numpy as np\n",
    "\n",
    "## Visualizations\n",
    "import matplotlib.pyplot as plt\n",
    "import seaborn as sns\n",
    "\n",
    "## Visualizing model results\n",
    "import shap\n",
    "\n",
    "## Personal functions\n",
    "from bmc_functions import classification as clf\n",
    "\n",
    "## SKLearn and Modeling Tools\n",
    "from sklearn import metrics\n",
    "from sklearn.preprocessing import OneHotEncoder, StandardScaler\n",
    "from sklearn.model_selection import train_test_split, GridSearchCV\n",
    "from sklearn.impute import SimpleImputer\n",
    "from sklearn.compose import ColumnTransformer\n",
    "from sklearn.pipeline import Pipeline\n",
    "from sklearn.dummy import DummyClassifier\n",
    "from sklearn import set_config\n",
    "\n",
    "from xgboost import XGBClassifier\n",
    "\n",
    "from imblearn.over_sampling import SMOTE"
   ]
  },
  {
   "cell_type": "code",
   "execution_count": null,
   "metadata": {
    "ExecuteTime": {
     "end_time": "2021-09-10T23:04:03.392854Z",
     "start_time": "2021-09-10T23:04:03.146853Z"
    }
   },
   "outputs": [],
   "source": [
    "## Settings\n",
    "%matplotlib inline\n",
    "sns.set_context(\"paper\", font_scale=1.25)\n",
    "\n",
    "pd.set_option('display.max_columns', 100)\n",
    "pd.set_option('display.float_format', lambda x: f'{x:,.2f}')\n",
    "pd.set_option('max_rows', 50)\n",
    "\n",
    "set_config(display='diagram')"
   ]
  },
  {
   "cell_type": "markdown",
   "metadata": {},
   "source": [
    "## *Speeding-Up Scikit-Learn*"
   ]
  },
  {
   "cell_type": "markdown",
   "metadata": {},
   "source": [
    "---\n",
    "\n",
    "Due to the size of my dataset, the modeling process took a fair amount of time, especially when testing different model types. To improve my models' runtime, I use a package called \"**Intel(R) Extension for Scikit-learn*.**\"\n",
    "\n",
    "This package operates in the background to increase the computational efficiency of certain Scikit-Learn models, including Logistic Regression and Random Forest Classifier models. The package does not affect the model results, though.\n",
    "\n",
    "This package requires the models to be imported after the package itself in order to perform the patching that results in better run-times.\n",
    "\n",
    "---"
   ]
  },
  {
   "cell_type": "code",
   "execution_count": null,
   "metadata": {
    "ExecuteTime": {
     "end_time": "2021-09-10T23:04:03.704857Z",
     "start_time": "2021-09-10T23:04:03.394854Z"
    }
   },
   "outputs": [],
   "source": [
    "## Speeding up SKLearn via Intel(R) Extension for Scikit-learn*\n",
    "from sklearnex import patch_sklearn\n",
    "patch_sklearn()"
   ]
  },
  {
   "cell_type": "code",
   "execution_count": null,
   "metadata": {
    "ExecuteTime": {
     "end_time": "2021-09-10T23:04:03.968887Z",
     "start_time": "2021-09-10T23:04:03.707855Z"
    }
   },
   "outputs": [],
   "source": [
    "## Inmporting models post-sklearn-intelex\n",
    "from sklearn.linear_model import LogisticRegression, LogisticRegressionCV\n",
    "from sklearn.ensemble import RandomForestClassifier\n",
    "from sklearn.ensemble import ExtraTreesClassifier\n",
    "from imblearn.ensemble import BalancedRandomForestClassifier"
   ]
  },
  {
   "cell_type": "markdown",
   "metadata": {},
   "source": [
    "# **Reading the DataFrames**"
   ]
  },
  {
   "cell_type": "markdown",
   "metadata": {},
   "source": [
    "---\n",
    "\n",
    "> In my prior EDA notebook, I reviewed, cleaned, and performed some pre-processing steps to prepare my data separately before modeling. I saved the data as a .pickle file to preserve the datatypes; now I will re-read the data for modeling purposes.\n",
    "\n",
    "---"
   ]
  },
  {
   "cell_type": "code",
   "execution_count": null,
   "metadata": {
    "ExecuteTime": {
     "end_time": "2021-09-10T23:04:04.403856Z",
     "start_time": "2021-09-10T23:04:03.970863Z"
    },
    "scrolled": false
   },
   "outputs": [],
   "source": [
    "data = pd.read_pickle('./data/data_no_assigned.pickle',\n",
    "                           compression = 'gzip')\n",
    "data"
   ]
  },
  {
   "cell_type": "markdown",
   "metadata": {},
   "source": [
    "# **Train/Test Split**"
   ]
  },
  {
   "cell_type": "code",
   "execution_count": null,
   "metadata": {
    "ExecuteTime": {
     "end_time": "2021-09-10T23:04:04.669884Z",
     "start_time": "2021-09-10T23:04:04.405854Z"
    }
   },
   "outputs": [],
   "source": [
    "## Splitting data into features and target variables.\n",
    "target= 'is_canceled'\n",
    "\n",
    "X = data.drop(columns = [target]).copy()\n",
    "y = data[target].copy()"
   ]
  },
  {
   "cell_type": "code",
   "execution_count": null,
   "metadata": {
    "ExecuteTime": {
     "end_time": "2021-09-10T23:04:04.952864Z",
     "start_time": "2021-09-10T23:04:04.672857Z"
    }
   },
   "outputs": [],
   "source": [
    "## Checking for missing values\n",
    "print(f'Missing values for X:\\n {X.isna().sum()}\\n')\n",
    "print(f'Missing values for y: {y.isna().sum()}')"
   ]
  },
  {
   "cell_type": "code",
   "execution_count": null,
   "metadata": {
    "ExecuteTime": {
     "end_time": "2021-09-10T23:04:05.339858Z",
     "start_time": "2021-09-10T23:04:04.955855Z"
    }
   },
   "outputs": [],
   "source": [
    "## Splitting - stratify to maintain class balance b/t X_train/_test\n",
    "X_train, X_test, y_train, y_test = train_test_split(X, y, test_size = .25, \n",
    "                                                    random_state=42, \n",
    "                                                    stratify=y)"
   ]
  },
  {
   "cell_type": "code",
   "execution_count": null,
   "metadata": {
    "ExecuteTime": {
     "end_time": "2021-09-10T23:04:05.604919Z",
     "start_time": "2021-09-10T23:04:05.342855Z"
    }
   },
   "outputs": [],
   "source": [
    "## Saving memory by deleting unused X, y\n",
    "del X, y"
   ]
  },
  {
   "cell_type": "code",
   "execution_count": null,
   "metadata": {
    "ExecuteTime": {
     "end_time": "2021-09-10T23:04:05.838868Z",
     "start_time": "2021-09-10T23:04:05.606871Z"
    }
   },
   "outputs": [],
   "source": [
    "## Specifying numeric columns for preprocessing\n",
    "num_cols = X_train.select_dtypes('number').columns.to_list()\n",
    "num_cols"
   ]
  },
  {
   "cell_type": "code",
   "execution_count": null,
   "metadata": {
    "ExecuteTime": {
     "end_time": "2021-09-10T23:04:06.104893Z",
     "start_time": "2021-09-10T23:04:05.840855Z"
    }
   },
   "outputs": [],
   "source": [
    "## Specifying numeric columns for preprocessing\n",
    "cat_cols = X_train.select_dtypes(include='object').columns.to_list()\n",
    "cat_cols"
   ]
  },
  {
   "cell_type": "markdown",
   "metadata": {},
   "source": [
    "# **Prepping the Pipeline**"
   ]
  },
  {
   "cell_type": "markdown",
   "metadata": {},
   "source": [
    "---\n",
    "\n",
    "> Pipeline to streamline modeling steps:\n",
    "* Preprocessing: OHE, scaling, outliers via ƒ-XF?\n",
    "* Modeling: RFC, BRFC\n",
    "* GSCV: include as part of pipeline\n",
    "* Get results:\n",
    "    * Feature importances - **SHAP**\n",
    "\n",
    "---"
   ]
  },
  {
   "cell_type": "code",
   "execution_count": null,
   "metadata": {
    "ExecuteTime": {
     "end_time": "2021-09-10T23:04:06.354885Z",
     "start_time": "2021-09-10T23:04:06.106861Z"
    }
   },
   "outputs": [],
   "source": [
    "## Creating ColumnTransformer and sub-transformers for imputation and encoding\n",
    "\n",
    "### --- Creating column pipelines --- ###\n",
    "\n",
    "cat_pipe = Pipeline(steps=[('ohe', OneHotEncoder(handle_unknown='ignore',\n",
    "                                                 sparse=False))])\n",
    "\n",
    "num_pipe = Pipeline(steps=[('scaler', StandardScaler())])\n",
    "\n",
    "### --- Instantiating the ColumnTransformer --- ###\n",
    "preprocessor = ColumnTransformer(\n",
    "    transformers=[('num', num_pipe, num_cols),\n",
    "                  ('cat', cat_pipe, cat_cols)])\n",
    "\n",
    "preprocessor"
   ]
  },
  {
   "cell_type": "code",
   "execution_count": null,
   "metadata": {
    "ExecuteTime": {
     "end_time": "2021-09-10T23:04:07.257870Z",
     "start_time": "2021-09-10T23:04:06.356856Z"
    },
    "scrolled": false
   },
   "outputs": [],
   "source": [
    "## Fitting feature preprocessor\n",
    "preprocessor.fit(X_train)\n",
    "\n",
    "## Getting feature names from OHE\n",
    "ohe_cat_names = preprocessor.named_transformers_['cat'].named_steps['ohe'].get_feature_names(cat_cols)\n",
    "\n",
    "## Generating list for column index\n",
    "final_cols = [*num_cols, *ohe_cat_names]\n",
    "\n",
    "# final_cols"
   ]
  },
  {
   "cell_type": "code",
   "execution_count": null,
   "metadata": {
    "ExecuteTime": {
     "end_time": "2021-09-10T23:04:07.974740Z",
     "start_time": "2021-09-10T23:04:07.259793Z"
    },
    "scrolled": true
   },
   "outputs": [],
   "source": [
    "## Transform via the ColumnTransformer preprocessor and create new dataframe\n",
    "\n",
    "X_train_df = pd.DataFrame(preprocessor.transform(X_train),\n",
    "                             columns=final_cols, index=X_train.index)\n",
    "\n",
    "X_test_tf_df = pd.DataFrame(preprocessor.transform(X_test),\n",
    "                            columns=final_cols, index=X_test.index)\n",
    "\n",
    "display(X_train_df.head(5),X_test_tf_df.head(5))"
   ]
  },
  {
   "cell_type": "markdown",
   "metadata": {},
   "source": [
    "# Resampling via SMOTE"
   ]
  },
  {
   "cell_type": "markdown",
   "metadata": {},
   "source": [
    "---\n",
    "\n",
    ">\n",
    "\n",
    "---"
   ]
  },
  {
   "cell_type": "code",
   "execution_count": null,
   "metadata": {
    "ExecuteTime": {
     "end_time": "2021-09-10T23:08:31.276739Z",
     "start_time": "2021-09-10T23:04:07.977742Z"
    }
   },
   "outputs": [],
   "source": [
    "smote = SMOTE(random_state = 42, n_jobs=-1)\n",
    "\n",
    "X_train_tf_df, y_train = smote.fit_sample(X_train_df,y_train)\n",
    "pd.Series(y_train).value_counts()"
   ]
  },
  {
   "cell_type": "markdown",
   "metadata": {},
   "source": [
    "# **Baseline Model**"
   ]
  },
  {
   "cell_type": "markdown",
   "metadata": {},
   "source": [
    "---\n",
    "\n",
    "**Results:**\n",
    "\n",
    "> Training balanced accuracy score: 0.5\n",
    "> \n",
    "> Testing balanced accuracy score: 0.51\n",
    "> \n",
    "> * *The training score is smaller by 0.01 points.*\n",
    ">\n",
    "> Training data log loss: 16.06\n",
    ">\n",
    "> Testing data log loss: 15.89\n",
    "\n",
    "---\n",
    "\n",
    "**Interpretation**\n",
    "\n",
    "> \n",
    "\n",
    "---"
   ]
  },
  {
   "cell_type": "code",
   "execution_count": null,
   "metadata": {
    "ExecuteTime": {
     "end_time": "2021-09-10T23:08:32.210740Z",
     "start_time": "2021-09-10T23:08:31.278741Z"
    },
    "scrolled": true
   },
   "outputs": [],
   "source": [
    "## Creating baseline classifier model\n",
    "\n",
    "base = DummyClassifier(random_state = 42)\n",
    "base.fit(X_train_tf_df, y_train)\n",
    "\n",
    "clf.evaluate_classification(base,X_train = X_train_tf_df, y_train = y_train,\n",
    "                           X_test = X_test_tf_df, y_test = y_test, \n",
    "                           metric = 'balanced accuracy')"
   ]
  },
  {
   "cell_type": "markdown",
   "metadata": {},
   "source": [
    "# **Logistic Regression Model**"
   ]
  },
  {
   "cell_type": "markdown",
   "metadata": {},
   "source": [
    "---\n",
    "\n",
    "**Results:**\n",
    "\n",
    "> Training balanced accuracy score: 0.82\n",
    "> \n",
    "> Testing balanced accuracy score: 0.82\n",
    "> \n",
    "> * *The scores are the same size.*\n",
    ">\n",
    "> Training data log loss: 0.37\n",
    ">\n",
    "> Testing data log loss: 0.37\n",
    "\n",
    "---\n",
    "\n",
    "**Interpretation**\n",
    "\n",
    "> \n",
    "\n",
    "---"
   ]
  },
  {
   "cell_type": "code",
   "execution_count": null,
   "metadata": {
    "ExecuteTime": {
     "end_time": "2021-09-10T23:08:41.110739Z",
     "start_time": "2021-09-10T23:08:32.212775Z"
    }
   },
   "outputs": [],
   "source": [
    "## LogReg Model\n",
    "logreg = LogisticRegression(max_iter = 500, random_state = 42, n_jobs=-1)\n",
    "\n",
    "logreg.fit(X_train_tf_df, y_train)"
   ]
  },
  {
   "cell_type": "code",
   "execution_count": null,
   "metadata": {
    "ExecuteTime": {
     "end_time": "2021-09-10T23:08:42.106739Z",
     "start_time": "2021-09-10T23:08:41.112742Z"
    },
    "scrolled": true
   },
   "outputs": [],
   "source": [
    "clf.evaluate_classification(logreg, X_train = X_train_tf_df,y_train = y_train,\n",
    "                           X_test = X_test_tf_df, y_test = y_test,\n",
    "                          metric = 'balanced recall')"
   ]
  },
  {
   "cell_type": "markdown",
   "metadata": {},
   "source": [
    "# **Random Forest Model**"
   ]
  },
  {
   "cell_type": "markdown",
   "metadata": {},
   "source": [
    "---\n",
    "\n",
    "**Results:**\n",
    "\n",
    "> Training balanced recall score: 0.99\n",
    "> \n",
    "> Testing balanced recall score: 0.88\n",
    ">\n",
    "> * *The training score is larger by 0.11 points.*\n",
    ">\n",
    "> Training data log loss: 0.08\n",
    ">\n",
    "> Testing data log loss: 0.27\n",
    "\n",
    "---\n",
    "\n",
    "**Interpretation**\n",
    "\n",
    "> \n",
    "\n",
    "---"
   ]
  },
  {
   "cell_type": "code",
   "execution_count": null,
   "metadata": {
    "ExecuteTime": {
     "end_time": "2021-09-10T23:08:53.167740Z",
     "start_time": "2021-09-10T23:08:42.109743Z"
    }
   },
   "outputs": [],
   "source": [
    "rfc = RandomForestClassifier(random_state=42,n_jobs=-1)\n",
    "\n",
    "rfc.fit(X_train_tf_df, y_train)"
   ]
  },
  {
   "cell_type": "code",
   "execution_count": null,
   "metadata": {
    "ExecuteTime": {
     "end_time": "2021-09-10T23:08:57.285739Z",
     "start_time": "2021-09-10T23:08:53.169740Z"
    },
    "scrolled": false
   },
   "outputs": [],
   "source": [
    "clf.evaluate_classification(rfc, X_train = X_train_tf_df, y_train = y_train,\n",
    "                           X_test = X_test_tf_df, y_test = y_test,\n",
    "                          metric = 'balanced recall')"
   ]
  },
  {
   "cell_type": "code",
   "execution_count": null,
   "metadata": {
    "ExecuteTime": {
     "end_time": "2021-09-10T23:08:57.745739Z",
     "start_time": "2021-09-10T23:08:57.288743Z"
    },
    "scrolled": false
   },
   "outputs": [],
   "source": [
    "clf.plot_importances(rfc, X_train_tf_df)"
   ]
  },
  {
   "cell_type": "markdown",
   "metadata": {},
   "source": [
    "# **ExtraTreesClassifier**"
   ]
  },
  {
   "cell_type": "markdown",
   "metadata": {},
   "source": [
    "---\n",
    "\n",
    "**Results:**\n",
    "\n",
    "> Training balanced recall score: 1.0\n",
    "> \n",
    "> Testing balanced recall score: 0.87\n",
    "> \n",
    "> * \n",
    ">\n",
    "> Training data log loss: 0.01\n",
    ">\n",
    "> Testing data log loss: 0.33\n",
    "\n",
    "---\n",
    "\n",
    "**Interpretation**\n",
    "\n",
    "> \n",
    "\n",
    "---"
   ]
  },
  {
   "cell_type": "code",
   "execution_count": null,
   "metadata": {
    "ExecuteTime": {
     "end_time": "2021-09-10T23:09:13.945740Z",
     "start_time": "2021-09-10T23:08:57.750743Z"
    }
   },
   "outputs": [],
   "source": [
    "etc = ExtraTreesClassifier(random_state=42,n_jobs = -1)\n",
    "\n",
    "etc.fit(X_train_tf_df, y_train)"
   ]
  },
  {
   "cell_type": "code",
   "execution_count": null,
   "metadata": {
    "ExecuteTime": {
     "end_time": "2021-09-10T23:09:18.275525Z",
     "start_time": "2021-09-10T23:09:13.948740Z"
    },
    "scrolled": true
   },
   "outputs": [],
   "source": [
    "clf.evaluate_classification(etc, X_train = X_train_tf_df, y_train = y_train,\n",
    "                           X_test = X_test_tf_df, y_test = y_test,\n",
    "                          metric = 'balanced recall')"
   ]
  },
  {
   "cell_type": "markdown",
   "metadata": {},
   "source": [
    "# XGBoost Classifier"
   ]
  },
  {
   "cell_type": "code",
   "execution_count": null,
   "metadata": {
    "ExecuteTime": {
     "end_time": "2021-09-10T23:09:36.716526Z",
     "start_time": "2021-09-10T23:09:18.278528Z"
    }
   },
   "outputs": [],
   "source": [
    "xgbc = XGBClassifier()\n",
    "xgbc.fit(X_train_tf_df, y_train)"
   ]
  },
  {
   "cell_type": "code",
   "execution_count": null,
   "metadata": {
    "ExecuteTime": {
     "end_time": "2021-09-10T23:09:40.342559Z",
     "start_time": "2021-09-10T23:09:36.719526Z"
    }
   },
   "outputs": [],
   "source": [
    "clf.evaluate_classification(xgbc, X_train = X_train_tf_df,y_train = y_train,\n",
    "                           X_test = X_test_tf_df, y_test = y_test,\n",
    "                          metric = 'balanced recall')"
   ]
  },
  {
   "cell_type": "markdown",
   "metadata": {
    "ExecuteTime": {
     "end_time": "2021-09-10T13:53:05.110549Z",
     "start_time": "2021-09-10T13:53:04.871349Z"
    }
   },
   "source": [
    "# GridSearches and Results"
   ]
  },
  {
   "cell_type": "markdown",
   "metadata": {},
   "source": [
    "## GS: Logistic Regression"
   ]
  },
  {
   "cell_type": "markdown",
   "metadata": {},
   "source": [
    "---\n",
    "**Scores**\n",
    "\n",
    "> Training balanced accuracy score: .82\n",
    "> \n",
    "> Testing balanced accuracy score: .81\n",
    "> \n",
    "> * \n",
    ">\n",
    "> Training data log loss: .38\n",
    ">\n",
    "> Testing data log loss: .40\n",
    "\n",
    "---\n",
    "\n",
    "**Best Parameters**\n",
    "\n",
    "> {'C': 10, 'max_iter': 500}\n",
    "\n",
    "**Interpretation**\n",
    "\n",
    "> \n",
    "\n",
    "---"
   ]
  },
  {
   "cell_type": "code",
   "execution_count": null,
   "metadata": {
    "ExecuteTime": {
     "end_time": "2021-09-10T23:09:40.579786Z",
     "start_time": "2021-09-10T23:09:40.344527Z"
    }
   },
   "outputs": [],
   "source": [
    "# lg_params = {\n",
    "#     'max_iter': [500, 750],\n",
    "#     'C': [.01, 1, 10]\n",
    "# }"
   ]
  },
  {
   "cell_type": "code",
   "execution_count": null,
   "metadata": {
    "ExecuteTime": {
     "end_time": "2021-09-10T23:09:40.831929Z",
     "start_time": "2021-09-10T23:09:40.581788Z"
    }
   },
   "outputs": [],
   "source": [
    "# ## LogReg Model\n",
    "# lrgs = GridSearchCV(LogisticRegression(random_state = 42),lg_params,\n",
    "#                     scoring = 'average_precision', verbose = 3)\n",
    "\n",
    "# lrgs.fit(X_train_tf_df, y_train)"
   ]
  },
  {
   "cell_type": "code",
   "execution_count": null,
   "metadata": {
    "ExecuteTime": {
     "end_time": "2021-09-10T23:09:41.070790Z",
     "start_time": "2021-09-10T23:09:40.833791Z"
    }
   },
   "outputs": [],
   "source": [
    "# clf.evaluate_classification(lrgs, X_train = X_train_tf_df,y_train = y_train,\n",
    "#                            X_test = X_test_tf_df, y_test = y_test)"
   ]
  },
  {
   "cell_type": "code",
   "execution_count": null,
   "metadata": {
    "ExecuteTime": {
     "end_time": "2021-09-10T23:09:41.310922Z",
     "start_time": "2021-09-10T23:09:41.072790Z"
    }
   },
   "outputs": [],
   "source": [
    "# lrgs.best_params_"
   ]
  },
  {
   "cell_type": "code",
   "execution_count": null,
   "metadata": {
    "ExecuteTime": {
     "end_time": "2021-09-10T23:09:41.566816Z",
     "start_time": "2021-09-10T23:09:41.312803Z"
    }
   },
   "outputs": [],
   "source": [
    "# lrgs.best_score_"
   ]
  },
  {
   "cell_type": "code",
   "execution_count": null,
   "metadata": {
    "ExecuteTime": {
     "end_time": "2021-09-10T23:09:41.820788Z",
     "start_time": "2021-09-10T23:09:41.568811Z"
    }
   },
   "outputs": [],
   "source": [
    "# lrgs.best_estimator_"
   ]
  },
  {
   "cell_type": "markdown",
   "metadata": {},
   "source": [
    "## **GS: Extra Trees Classifier v1**"
   ]
  },
  {
   "cell_type": "markdown",
   "metadata": {},
   "source": [
    "---\n",
    "\n",
    "**Scores**\n",
    "\n",
    "> Training balanced accuracy score: 1.0\n",
    "> \n",
    "> **Testing balanced accuracy score: .87**\n",
    "> \n",
    "> * *The training score is larger by 0.13 points.*\n",
    ">\n",
    "> Training data log loss: .05\n",
    ">\n",
    "> Testing data log loss: .30\n",
    "\n",
    "---\n",
    "\n",
    "**Best Parameters**\n",
    "\n",
    "> {'criterion': 'entropy', 'max_depth': 50, 'min_samples_leaf': 1}\n",
    "\n",
    "---\n",
    "\n",
    "**Interpretation**\n",
    "\n",
    "> \n",
    "\n",
    "---"
   ]
  },
  {
   "cell_type": "code",
   "execution_count": null,
   "metadata": {
    "ExecuteTime": {
     "end_time": "2021-09-10T23:09:42.044789Z",
     "start_time": "2021-09-10T23:09:41.823790Z"
    },
    "code_folding": []
   },
   "outputs": [],
   "source": [
    "# etc_params = {\n",
    "#     'criterion': ['gini', 'entropy'],\n",
    "#     'max_depth': [30, 50],\n",
    "#     'min_samples_leaf': [1,2,3]\n",
    "# }"
   ]
  },
  {
   "cell_type": "code",
   "execution_count": null,
   "metadata": {
    "ExecuteTime": {
     "end_time": "2021-09-10T23:09:42.268892Z",
     "start_time": "2021-09-10T23:09:42.046803Z"
    },
    "code_folding": []
   },
   "outputs": [],
   "source": [
    "# etgs = GridSearchCV(ExtraTreesClassifier(random_state = 42, n_jobs=-1),etc_params,\n",
    "#                     scoring = 'average_precision', verbose = 2)\n",
    "\n",
    "# etgs.fit(X_train_tf_df, y_train)"
   ]
  },
  {
   "cell_type": "code",
   "execution_count": null,
   "metadata": {
    "ExecuteTime": {
     "end_time": "2021-09-10T23:09:42.508896Z",
     "start_time": "2021-09-10T23:09:42.270788Z"
    },
    "code_folding": [],
    "scrolled": true
   },
   "outputs": [],
   "source": [
    "# etgs.best_params_"
   ]
  },
  {
   "cell_type": "code",
   "execution_count": null,
   "metadata": {
    "ExecuteTime": {
     "end_time": "2021-09-10T23:09:42.746994Z",
     "start_time": "2021-09-10T23:09:42.511898Z"
    }
   },
   "outputs": [],
   "source": [
    "# etgs.best_score_"
   ]
  },
  {
   "cell_type": "code",
   "execution_count": null,
   "metadata": {
    "ExecuteTime": {
     "end_time": "2021-09-10T23:09:42.986901Z",
     "start_time": "2021-09-10T23:09:42.748895Z"
    }
   },
   "outputs": [],
   "source": [
    "# clf.evaluate_classificatioan(etgs.best_estimator_, X_train = X_train_tf_df,y_train = y_train,\n",
    "#                            X_test = X_test_tf_df, y_test = y_test,\n",
    "#                           metric = 'balanced recall')"
   ]
  },
  {
   "cell_type": "markdown",
   "metadata": {},
   "source": [
    "## **GS: Extra Trees Classifier v2**"
   ]
  },
  {
   "cell_type": "markdown",
   "metadata": {},
   "source": [
    "---\n",
    "\n",
    "**Scores**\n",
    "\n",
    "> Training balanced accuracy score: 1.0\n",
    "> \n",
    "> Testing balanced accuracy score: .87\n",
    "> \n",
    "> * *The training score is larger by 0.13 points.*\n",
    ">\n",
    "> Training data log loss: .05\n",
    ">\n",
    "> Testing data log loss: .30\n",
    "\n",
    "---\n",
    "\n",
    "**Best Parameters**\n",
    "\n",
    "> {'criterion': 'entropy', 'max_depth': 65, 'min_samples_leaf': 1, 'min_samples_split': 3}\n",
    "\n",
    "---\n",
    "\n",
    "**Interpretation**\n",
    "\n",
    "> \n",
    "\n",
    "---"
   ]
  },
  {
   "cell_type": "code",
   "execution_count": null,
   "metadata": {
    "ExecuteTime": {
     "end_time": "2021-09-10T23:09:43.226925Z",
     "start_time": "2021-09-10T23:09:42.988907Z"
    }
   },
   "outputs": [],
   "source": [
    "# etc_params = {'max_depth': [55,65],\n",
    "#               'min_samples_split': [2,3]\n",
    "# }\n",
    "\n",
    "# etgs = GridSearchCV(ExtraTreesClassifier(criterion = 'entropy',\n",
    "#                                          random_state = 42, n_jobs=-1),\n",
    "#                     etc_params,scoring = 'average_precision',verbose = 2)\n",
    "\n",
    "# etgs.fit(X_train_tf_df, y_train)"
   ]
  },
  {
   "cell_type": "code",
   "execution_count": null,
   "metadata": {
    "ExecuteTime": {
     "end_time": "2021-09-10T23:09:43.448908Z",
     "start_time": "2021-09-10T23:09:43.227932Z"
    }
   },
   "outputs": [],
   "source": [
    "# etgs.best_params_"
   ]
  },
  {
   "cell_type": "code",
   "execution_count": null,
   "metadata": {
    "ExecuteTime": {
     "end_time": "2021-09-10T23:09:43.700904Z",
     "start_time": "2021-09-10T23:09:43.450898Z"
    }
   },
   "outputs": [],
   "source": [
    "# etgs.best_score_"
   ]
  },
  {
   "cell_type": "code",
   "execution_count": null,
   "metadata": {
    "ExecuteTime": {
     "end_time": "2021-09-10T23:09:43.956893Z",
     "start_time": "2021-09-10T23:09:43.702894Z"
    }
   },
   "outputs": [],
   "source": [
    "# clf.evaluate_classification(etgs.best_estimator_, X_train = X_train_tf_df,y_train = y_train,\n",
    "#                            X_test = X_test_tf_df, y_test = y_test,\n",
    "#                           metric = 'balanced recall')"
   ]
  },
  {
   "cell_type": "code",
   "execution_count": null,
   "metadata": {
    "ExecuteTime": {
     "start_time": "2021-09-10T23:37:09.132Z"
    }
   },
   "outputs": [],
   "source": [
    "best_etc = ExtraTreesClassifier(max_depth = 65, min_samples_split=3, \n",
    "                                criterion = 'entropy',random_state = 42,\n",
    "                                n_jobs=-1)"
   ]
  },
  {
   "cell_type": "code",
   "execution_count": null,
   "metadata": {
    "ExecuteTime": {
     "start_time": "2021-09-10T23:37:09.298Z"
    }
   },
   "outputs": [],
   "source": [
    "best_etc.fit(X_train_tf_df, y_train)"
   ]
  },
  {
   "cell_type": "markdown",
   "metadata": {},
   "source": [
    "# Collecting Coeffcients and Inspecting Importances"
   ]
  },
  {
   "cell_type": "markdown",
   "metadata": {},
   "source": [
    "## **Collecting Coefficients**"
   ]
  },
  {
   "cell_type": "markdown",
   "metadata": {
    "ExecuteTime": {
     "end_time": "2021-09-08T14:26:58.848264Z",
     "start_time": "2021-09-08T14:26:58.725265Z"
    }
   },
   "source": [
    "---\n",
    "\n",
    "> I feel confident in my logistic regression's score. Now I will collect the results for my features and generate a visualization of the results.\n",
    "\n",
    "---"
   ]
  },
  {
   "cell_type": "code",
   "execution_count": null,
   "metadata": {
    "ExecuteTime": {
     "end_time": "2021-09-10T23:10:00.658924Z",
     "start_time": "2021-09-10T23:10:00.425893Z"
    }
   },
   "outputs": [],
   "source": [
    "## Collecting coefficients for each feature as a Series\n",
    "lr_coefs = pd.Series(logreg.coef_.flatten(), index=X_train_tf_df.columns)\n",
    "lr_coefs.sort_values(ascending=False, inplace=True)\n",
    "lr_coefs"
   ]
  },
  {
   "cell_type": "code",
   "execution_count": null,
   "metadata": {
    "ExecuteTime": {
     "end_time": "2021-09-10T23:10:00.912906Z",
     "start_time": "2021-09-10T23:10:00.661910Z"
    }
   },
   "outputs": [],
   "source": [
    "## Converting top/bottom 5 values into a Series\n",
    "log_odds = pd.concat([lr_coefs.head(5), lr_coefs.tail(5)])\n",
    "log_odds"
   ]
  },
  {
   "cell_type": "code",
   "execution_count": null,
   "metadata": {
    "ExecuteTime": {
     "end_time": "2021-09-10T23:10:01.148894Z",
     "start_time": "2021-09-10T23:10:00.914894Z"
    }
   },
   "outputs": [],
   "source": [
    "## Formatting index labels to become visualization labels\n",
    "new_labels_list = [i.replace('_', ' ').title() for i in list(log_odds.index)]\n",
    "new_labels_list"
   ]
  },
  {
   "cell_type": "code",
   "execution_count": null,
   "metadata": {
    "ExecuteTime": {
     "end_time": "2021-09-10T23:10:01.388908Z",
     "start_time": "2021-09-10T23:10:01.151898Z"
    },
    "scrolled": true
   },
   "outputs": [],
   "source": [
    "## Creating a dictionary to replace the old lables with the new ones\n",
    "new_labels_dict = { k:v for (k,v) in zip(log_odds.index, new_labels_list)}\n",
    "new_labels_dict"
   ]
  },
  {
   "cell_type": "code",
   "execution_count": null,
   "metadata": {
    "ExecuteTime": {
     "end_time": "2021-09-10T23:10:01.624894Z",
     "start_time": "2021-09-10T23:10:01.390896Z"
    }
   },
   "outputs": [],
   "source": [
    "## Renaming Series index\n",
    "log_odds = log_odds.rename(new_labels_dict)\n",
    "log_odds.sort_values(inplace=True)\n",
    "\n",
    "log_odds"
   ]
  },
  {
   "cell_type": "code",
   "execution_count": null,
   "metadata": {
    "ExecuteTime": {
     "end_time": "2021-09-10T23:10:02.284898Z",
     "start_time": "2021-09-10T23:10:01.626898Z"
    },
    "scrolled": true
   },
   "outputs": [],
   "source": [
    "## Visualizing log-odds\n",
    "\n",
    "fig, ax = plt.subplots(figsize=(7,4))\n",
    "\n",
    "ax = log_odds.plot(kind='barh', ax=ax)\n",
    "ax.axvline(linestyle = '-', c='k')\n",
    "ax.set_xlabel('Log-Odds')\n",
    "ax.set_ylabel('Feature Name')\n",
    "fig.suptitle('Top and Bottom Five Features')\n",
    "ax.set_facecolor('0.9')\n",
    "fig.set_facecolor('0.975')\n",
    "plt.savefig('./img/log_odds.png',transparent=False, bbox_inches='tight',\n",
    "           dpi=100)\n",
    "plt.show()\n",
    "plt.close()"
   ]
  },
  {
   "cell_type": "markdown",
   "metadata": {},
   "source": [
    "---\n",
    "\n",
    "***May the (Log-)Odds be Ever in Your Favor***\n",
    "\n",
    "> Based on the logistic regression model coefficients, I see that reservations are **most likely to cancel** if they:\n",
    "* Require non-refundable deposits (possibly 3rd-party booking sites like )\n",
    "* Are booked by agents 17 or 240\n",
    "* Have previous cancellations\n",
    "* Guests are from Portugal ([PRT is the three letter ISO 3166-1 code for Portugal](https://en.wikipedia.org/wiki/Portugal#:~:text=ISO%203166%20code,PT))\n",
    ">\n",
    "> Alternatively, reservations are **least likely to cancel** if they:\n",
    "* Do NOT require a deposit\n",
    "* Require parking spaces\n",
    "* Reserve room type \"A\"\n",
    "* Are assigned to room type \"I\"\n",
    "* Are booked by agent 152\n",
    "\n",
    "***Oddities in the Results***\n",
    "\n",
    "> **Non-Refundable Deposit Requirement**\n",
    "* May be associated with 3rd party travel groups like Priceline/Expedia/etc.\n",
    "    * Often require pre-payment to the booking group/agent to confirm booking\n",
    ">\n",
    "> **Country of Origin: Portugal**\n",
    "* Could these hotels be located in Portugal and have a larger percentage of domestic travelers?\n",
    ">\n",
    "> **Room Assignment, Required Car Parking Spaces**\n",
    "* These features may be generated post-stay and may not be available prior to arrival\n",
    "* Parking spot requirements may be specified prior to arrival, but not as likely in my personal experience.\n",
    "\n",
    "---"
   ]
  },
  {
   "cell_type": "markdown",
   "metadata": {},
   "source": [
    "## Inspecting Importances"
   ]
  },
  {
   "cell_type": "code",
   "execution_count": null,
   "metadata": {
    "ExecuteTime": {
     "end_time": "2021-09-10T23:38:44.800431Z",
     "start_time": "2021-09-10T23:38:44.615431Z"
    },
    "scrolled": true
   },
   "outputs": [],
   "source": [
    "clf.plot_importances(best_etc, X_test_tf_df)"
   ]
  },
  {
   "cell_type": "markdown",
   "metadata": {},
   "source": [
    "# **Interpreting Results**"
   ]
  },
  {
   "cell_type": "markdown",
   "metadata": {},
   "source": [
    "## 🛑 FIX: adjust for context "
   ]
  },
  {
   "cell_type": "markdown",
   "metadata": {},
   "source": [
    "---\n",
    "\n",
    "**Odd Features**\n",
    "\n",
    "> Now that I completed my modeling steps, I will review the results of each model and determine my final recommendations.\n",
    ">\n",
    "> My main models are a standard logistic regression and a Balanced Random Forest classifier (\"BRFC\"). **Each model provides a different way of identifying which features are most impactful: logistic regressions provide \"log-odds\" and a Balanced Random Forest Classifier produces \"feature importances.\"** Both will require some processing for easy interpretation.\n",
    "\n",
    "**Feature Importances and SHAP**\n",
    "\n",
    "> As I mention above, tree-based models, including my BRFC-model, return \"feature importances\" instead of the coefficients associated with linear/logistic regressions. These values are useful to show the impact of a given feature on the decision-making steps of the tree model. \n",
    ">\n",
    ">However, these feature importances suffer from one key weakness: *they do not indicate if a feature increases or decreases the likelihood of a reservation canceling (my target feature).*\n",
    ">\n",
    "> I will utilize a visualization package called **SHAP** to produce \"Shapely values\" for each feature. These values indicate each feature's marginal contribution to the model - answering the question, \"*How well does the model perform with this feature than without?*\" \n",
    "\n",
    "**Seeing is Believing**\n",
    "\n",
    ">Using tools within the package, I will focus on two visualizations:\n",
    "> * The `summary_plot`: visualizing each feature's Shapely value and the feature's values from low-high (relative to each feature).\n",
    ">\n",
    ">\n",
    "> * The `force_plot`: an in-depth look at the forces impacting any given reservation record.\n",
    ">\n",
    "> More information about SHAP:\n",
    "* [SHAP Documentation](https://shap.readthedocs.io/en/latest/?badge=latest)\n",
    "* [SHAP Repository](https://github.com/slundberg/shap)\n",
    "\n",
    "---"
   ]
  },
  {
   "cell_type": "markdown",
   "metadata": {},
   "source": [
    "# **SHAP**"
   ]
  },
  {
   "cell_type": "markdown",
   "metadata": {},
   "source": [
    "---\n",
    "\n",
    "**Purpose**\n",
    "\n",
    "> \n",
    "\n",
    "**Process**\n",
    "\n",
    "> \n",
    "\n",
    "**Performance**\n",
    "\n",
    "> \n",
    "\n",
    "---"
   ]
  },
  {
   "cell_type": "markdown",
   "metadata": {},
   "source": [
    "# 🛑 Fix: Annotate Code and Update"
   ]
  },
  {
   "cell_type": "code",
   "execution_count": null,
   "metadata": {
    "ExecuteTime": {
     "end_time": "2021-09-10T23:10:04.126894Z",
     "start_time": "2021-09-10T23:10:02.748893Z"
    }
   },
   "outputs": [],
   "source": [
    "raise Exception('Hold for Testing SHAP Visualizations')"
   ]
  },
  {
   "cell_type": "code",
   "execution_count": null,
   "metadata": {
    "ExecuteTime": {
     "end_time": "2021-09-10T23:11:21.073173Z",
     "start_time": "2021-09-10T23:11:20.840175Z"
    }
   },
   "outputs": [],
   "source": [
    " ## Initializing Javascript for SHAP models\n",
    "shap.initjs()"
   ]
  },
  {
   "cell_type": "code",
   "execution_count": null,
   "metadata": {
    "ExecuteTime": {
     "end_time": "2021-09-10T23:11:21.807740Z",
     "start_time": "2021-09-10T23:11:21.587599Z"
    }
   },
   "outputs": [],
   "source": [
    "## Generating a sample of the overall data for review:\n",
    "\n",
    "X_shap = shap.sample(X_test_tf_df, nsamples=50)"
   ]
  },
  {
   "cell_type": "markdown",
   "metadata": {},
   "source": [
    "## Attempting TreeExplainer"
   ]
  },
  {
   "cell_type": "markdown",
   "metadata": {},
   "source": [
    "---\n",
    "\n",
    "**DO NOT USE - CRASHES KERNEL**\n",
    "\n",
    "---"
   ]
  },
  {
   "cell_type": "code",
   "execution_count": null,
   "metadata": {
    "ExecuteTime": {
     "end_time": "2021-09-10T23:36:17.000565Z",
     "start_time": "2021-09-10T23:36:16.191688Z"
    }
   },
   "outputs": [],
   "source": [
    "## Initializing an explainer with the RandomForestClassifier model\n",
    "t_explainer = shap.TreeExplainer(best_etc)"
   ]
  },
  {
   "cell_type": "code",
   "execution_count": null,
   "metadata": {
    "ExecuteTime": {
     "start_time": "2021-09-10T23:36:16.594Z"
    }
   },
   "outputs": [],
   "source": [
    "## Calculating SHAP values for test data\n",
    "shap_values = t_explainer.shap_values(X_shap)#,y_test)\n",
    "len(shap_values)"
   ]
  },
  {
   "cell_type": "markdown",
   "metadata": {},
   "source": [
    "## Attempting KernelExplainer"
   ]
  },
  {
   "cell_type": "code",
   "execution_count": null,
   "metadata": {
    "ExecuteTime": {
     "end_time": "2021-09-10T23:11:26.680489Z",
     "start_time": "2021-09-10T23:11:26.340487Z"
    }
   },
   "outputs": [],
   "source": [
    "# k_explainer = shap.KernelExplainer(best_etc.predict, X_shap)\n",
    "# k_explainer"
   ]
  },
  {
   "cell_type": "code",
   "execution_count": null,
   "metadata": {
    "ExecuteTime": {
     "end_time": "2021-09-10T23:12:51.083108Z",
     "start_time": "2021-09-10T23:11:27.298583Z"
    }
   },
   "outputs": [],
   "source": [
    "## Calculate shap values for test data\n",
    "shap_values = k_explainer.shap_values(X_shap)\n",
    "len(shap_values)"
   ]
  },
  {
   "cell_type": "code",
   "execution_count": null,
   "metadata": {
    "ExecuteTime": {
     "end_time": "2021-09-10T23:17:05.397467Z",
     "start_time": "2021-09-10T23:17:05.171484Z"
    }
   },
   "outputs": [],
   "source": [
    "## Inspecting sizes of SHAP values vs. X_train_tf_df data - same # columns\n",
    "shap_values[1].shape, X_test_tf_df.shape"
   ]
  },
  {
   "cell_type": "code",
   "execution_count": null,
   "metadata": {
    "ExecuteTime": {
     "end_time": "2021-09-10T23:17:05.647507Z",
     "start_time": "2021-09-10T23:17:05.399457Z"
    },
    "code_folding": []
   },
   "outputs": [],
   "source": [
    "## Visualizing top 25 importances\n",
    "# shap.summary_plot(shap_values, X_test_tf_df, plot_type='bar', max_display=25)"
   ]
  },
  {
   "cell_type": "code",
   "execution_count": null,
   "metadata": {
    "ExecuteTime": {
     "end_time": "2021-09-10T23:17:32.833862Z",
     "start_time": "2021-09-10T23:17:32.067870Z"
    }
   },
   "outputs": [],
   "source": [
    "## Better plot\n",
    "shap.summary_plot(shap_values,X_shap,max_display=20)"
   ]
  },
  {
   "cell_type": "markdown",
   "metadata": {},
   "source": [
    "## **Force Plot**"
   ]
  },
  {
   "cell_type": "code",
   "execution_count": null,
   "metadata": {
    "ExecuteTime": {
     "end_time": "2021-09-10T23:33:54.275013Z",
     "start_time": "2021-09-10T23:33:54.004020Z"
    }
   },
   "outputs": [],
   "source": [
    "row = np.random.choice(range(len(shap_values[0])))\n",
    "print(f\"- Row #: {row}\")\n",
    "print(f\"Class = {target_lookup[y_test.iloc[row]]}\")\n",
    "X_test_tf_df.iloc[row].round(2)"
   ]
  },
  {
   "cell_type": "code",
   "execution_count": null,
   "metadata": {
    "ExecuteTime": {
     "end_time": "2021-09-10T23:34:00.229995Z",
     "start_time": "2021-09-10T23:33:59.971967Z"
    }
   },
   "outputs": [],
   "source": [
    "# k_explainer.expected_value"
   ]
  },
  {
   "cell_type": "code",
   "execution_count": null,
   "metadata": {
    "ExecuteTime": {
     "end_time": "2021-09-10T23:34:11.023046Z",
     "start_time": "2021-09-10T23:34:10.755061Z"
    }
   },
   "outputs": [],
   "source": [
    "## Individual forceplot\n",
    "shap.force_plot(k_explainer.expected_value[1], shap_values[1][row],\n",
    "                X_test_tf_df.columns)# shap_values.iloc[row])"
   ]
  },
  {
   "cell_type": "code",
   "execution_count": null,
   "metadata": {
    "ExecuteTime": {
     "end_time": "2021-09-10T23:10:04.146895Z",
     "start_time": "2021-09-10T23:03:58.118Z"
    }
   },
   "outputs": [],
   "source": [
    "## Overall Forceplot\n",
    "shap.force_plot(explainer.expected_value[1], shap_values[1],X_test_tf_df)       "
   ]
  },
  {
   "cell_type": "markdown",
   "metadata": {},
   "source": [
    "## Dependence Plot"
   ]
  },
  {
   "cell_type": "code",
   "execution_count": null,
   "metadata": {
    "ExecuteTime": {
     "end_time": "2021-09-10T23:10:04.147895Z",
     "start_time": "2021-09-10T23:03:58.121Z"
    }
   },
   "outputs": [],
   "source": [
    "shap.dependence_plot('Lead Time',shap_values[1],X_test_tf_df)"
   ]
  },
  {
   "cell_type": "markdown",
   "metadata": {},
   "source": [
    "# MVP Notes"
   ]
  },
  {
   "cell_type": "markdown",
   "metadata": {},
   "source": [
    "* CLF results - feature importances\n",
    "* feature importances - visualize via SHAP\n"
   ]
  },
  {
   "cell_type": "markdown",
   "metadata": {},
   "source": [
    "# Reviewing Results"
   ]
  },
  {
   "cell_type": "markdown",
   "metadata": {},
   "source": [
    "---\n",
    "\n",
    "> After testing several models, I found that MODELNAMEHERE produced the most accurate results.\n",
    ">\n",
    "> TOP 5 STRONGEST INDICATORS - Canceled Reservations:\n",
    "> * \n",
    "> * \n",
    "> * \n",
    ">\n",
    "> TOP 5 STRONGEST INDICATORS - Actualized Reservations:\n",
    "> * \n",
    "> * \n",
    "> * \n",
    "\n",
    "---"
   ]
  },
  {
   "cell_type": "markdown",
   "metadata": {},
   "source": [
    "# Recommendations"
   ]
  },
  {
   "cell_type": "markdown",
   "metadata": {},
   "source": [
    "---\n",
    "\n",
    "> Operationally, these results give us data-supported insights into our future guests and their needs. Once deployed, hotels would be able to use this model to forecast potential occupancy and staffing/supply needs. \n",
    ">\n",
    "> Additionally, Operations teams would be able to determine how many and which guests would be the most likely to cancel their reservations. This information is very useful during periods of high-occupancy, particularly when trying to determine which guests to relocate in case of an oversold hotel.\n",
    "\n",
    "---"
   ]
  },
  {
   "cell_type": "markdown",
   "metadata": {},
   "source": [
    "# Future Work"
   ]
  },
  {
   "cell_type": "markdown",
   "metadata": {},
   "source": [
    "---\n",
    "\n",
    "> Add holiday details\n",
    "\n",
    "> Time series modeling - forecasting based off of daily average probabilities (for a given # of arrivals, what is the forecast of %/# CXL?\n",
    "\n",
    "> TSM - vector autoregressive forecasting using features to predict # cxl\n",
    "\n",
    "> *Major stretch goal/future work:* determining likelihood of cancellations at given thresholds - e.g. 0-3, 4-7, 7-14, etc. days out\n",
    "* What would be feature importances/coefficients at each threshold?\n",
    "* Could I group the reservations based on their lead time despite different years?\n",
    "\n",
    "---"
   ]
  },
  {
   "cell_type": "code",
   "execution_count": null,
   "metadata": {},
   "outputs": [],
   "source": []
  }
 ],
 "metadata": {
  "kernelspec": {
   "display_name": "Python [conda env:test_intel_env]",
   "language": "python",
   "name": "conda-env-test_intel_env-py"
  },
  "language_info": {
   "codemirror_mode": {
    "name": "ipython",
    "version": 3
   },
   "file_extension": ".py",
   "mimetype": "text/x-python",
   "name": "python",
   "nbconvert_exporter": "python",
   "pygments_lexer": "ipython3",
   "version": "3.8.5"
  },
  "toc": {
   "base_numbering": 1,
   "nav_menu": {},
   "number_sections": true,
   "sideBar": true,
   "skip_h1_title": false,
   "title_cell": "Table of Contents",
   "title_sidebar": "Contents",
   "toc_cell": true,
   "toc_position": {
    "height": "calc(100% - 180px)",
    "left": "10px",
    "top": "150px",
    "width": "165px"
   },
   "toc_section_display": true,
   "toc_window_display": true
  }
 },
 "nbformat": 4,
 "nbformat_minor": 2
}
