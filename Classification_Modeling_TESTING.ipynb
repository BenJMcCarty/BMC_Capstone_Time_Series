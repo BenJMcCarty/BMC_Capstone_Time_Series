{
 "cells": [
  {
   "cell_type": "markdown",
   "metadata": {},
   "source": [
    "# **Cancel Culture - Classification Modeling Notebook**"
   ]
  },
  {
   "cell_type": "markdown",
   "metadata": {},
   "source": [
    "---\n",
    "\n",
    "**Post-Cleaning Modeling Notebook**\n",
    "\n",
    "---"
   ]
  },
  {
   "cell_type": "markdown",
   "metadata": {
    "toc": true
   },
   "source": [
    "<h1>Table of Contents<span class=\"tocSkip\"></span></h1>\n",
    "<div class=\"toc\"><ul class=\"toc-item\"><li><span><a href=\"#Cancel-Culture---Classification-Modeling-Notebook\" data-toc-modified-id=\"Cancel-Culture---Classification-Modeling-Notebook-1\"><span class=\"toc-item-num\">1&nbsp;&nbsp;</span><strong>Cancel Culture - Classification Modeling Notebook</strong></a></span></li><li><span><a href=\"#--->-🛑-FIX:-Add-cmts-re:-post-cleaning,-modeling\" data-toc-modified-id=\"--->-🛑-FIX:-Add-cmts-re:-post-cleaning,-modeling-2\"><span class=\"toc-item-num\">2&nbsp;&nbsp;</span>-- &gt; 🛑 <strong>FIX</strong>: Add cmts re: post-cleaning, modeling</a></span></li><li><span><a href=\"#Imports\" data-toc-modified-id=\"Imports-3\"><span class=\"toc-item-num\">3&nbsp;&nbsp;</span><strong>Imports</strong></a></span><ul class=\"toc-item\"><li><span><a href=\"#Speeding-Up-Scikit-Learn\" data-toc-modified-id=\"Speeding-Up-Scikit-Learn-3.1\"><span class=\"toc-item-num\">3.1&nbsp;&nbsp;</span><em>Speeding-Up Scikit-Learn</em></a></span></li></ul></li><li><span><a href=\"#Reading-the-DataFrames\" data-toc-modified-id=\"Reading-the-DataFrames-4\"><span class=\"toc-item-num\">4&nbsp;&nbsp;</span><strong>Reading the DataFrames</strong></a></span></li><li><span><a href=\"#Train/Test-Split\" data-toc-modified-id=\"Train/Test-Split-5\"><span class=\"toc-item-num\">5&nbsp;&nbsp;</span><strong>Train/Test Split</strong></a></span></li><li><span><a href=\"#Prepping-the-Pipeline\" data-toc-modified-id=\"Prepping-the-Pipeline-6\"><span class=\"toc-item-num\">6&nbsp;&nbsp;</span><strong>Prepping the Pipeline</strong></a></span></li><li><span><a href=\"#Resampling-via-SMOTE\" data-toc-modified-id=\"Resampling-via-SMOTE-7\"><span class=\"toc-item-num\">7&nbsp;&nbsp;</span>Resampling via SMOTE</a></span></li><li><span><a href=\"#Baseline-Model\" data-toc-modified-id=\"Baseline-Model-8\"><span class=\"toc-item-num\">8&nbsp;&nbsp;</span><strong>Baseline Model</strong></a></span></li><li><span><a href=\"#Logistic-Regression-Model\" data-toc-modified-id=\"Logistic-Regression-Model-9\"><span class=\"toc-item-num\">9&nbsp;&nbsp;</span><strong>Logistic Regression Model</strong></a></span></li><li><span><a href=\"#Random-Forest-Model\" data-toc-modified-id=\"Random-Forest-Model-10\"><span class=\"toc-item-num\">10&nbsp;&nbsp;</span><strong>Random Forest Model</strong></a></span></li><li><span><a href=\"#ExtraTreesClassifier\" data-toc-modified-id=\"ExtraTreesClassifier-11\"><span class=\"toc-item-num\">11&nbsp;&nbsp;</span><strong>ExtraTreesClassifier</strong></a></span></li><li><span><a href=\"#XGBoost-Classifier\" data-toc-modified-id=\"XGBoost-Classifier-12\"><span class=\"toc-item-num\">12&nbsp;&nbsp;</span>XGBoost Classifier</a></span></li><li><span><a href=\"#GridSearches-and-Results\" data-toc-modified-id=\"GridSearches-and-Results-13\"><span class=\"toc-item-num\">13&nbsp;&nbsp;</span>GridSearches and Results</a></span><ul class=\"toc-item\"><li><span><a href=\"#GS:-Logistic-Regression\" data-toc-modified-id=\"GS:-Logistic-Regression-13.1\"><span class=\"toc-item-num\">13.1&nbsp;&nbsp;</span>GS: Logistic Regression</a></span></li><li><span><a href=\"#GS:-Extra-Trees-Classifier-v1\" data-toc-modified-id=\"GS:-Extra-Trees-Classifier-v1-13.2\"><span class=\"toc-item-num\">13.2&nbsp;&nbsp;</span><strong>GS: Extra Trees Classifier v1</strong></a></span></li><li><span><a href=\"#GS:-Extra-Trees-Classifier-v2\" data-toc-modified-id=\"GS:-Extra-Trees-Classifier-v2-13.3\"><span class=\"toc-item-num\">13.3&nbsp;&nbsp;</span><strong>GS: Extra Trees Classifier v2</strong></a></span></li></ul></li><li><span><a href=\"#Collecting-Coeffcients-and-Inspecting-Importances\" data-toc-modified-id=\"Collecting-Coeffcients-and-Inspecting-Importances-14\"><span class=\"toc-item-num\">14&nbsp;&nbsp;</span>Collecting Coeffcients and Inspecting Importances</a></span><ul class=\"toc-item\"><li><span><a href=\"#Collecting-Coefficients\" data-toc-modified-id=\"Collecting-Coefficients-14.1\"><span class=\"toc-item-num\">14.1&nbsp;&nbsp;</span><strong>Collecting Coefficients</strong></a></span></li><li><span><a href=\"#Inspecting-Importances\" data-toc-modified-id=\"Inspecting-Importances-14.2\"><span class=\"toc-item-num\">14.2&nbsp;&nbsp;</span>Inspecting Importances</a></span></li></ul></li><li><span><a href=\"#Interpreting-Results\" data-toc-modified-id=\"Interpreting-Results-15\"><span class=\"toc-item-num\">15&nbsp;&nbsp;</span><strong>Interpreting Results</strong></a></span><ul class=\"toc-item\"><li><span><a href=\"#🛑-FIX:-adjust-for-context\" data-toc-modified-id=\"🛑-FIX:-adjust-for-context-15.1\"><span class=\"toc-item-num\">15.1&nbsp;&nbsp;</span>🛑 FIX: adjust for context</a></span></li></ul></li><li><span><a href=\"#SHAP\" data-toc-modified-id=\"SHAP-16\"><span class=\"toc-item-num\">16&nbsp;&nbsp;</span><strong>SHAP</strong></a></span></li><li><span><a href=\"#🛑-Fix:-Annotate-Code-and-Update\" data-toc-modified-id=\"🛑-Fix:-Annotate-Code-and-Update-17\"><span class=\"toc-item-num\">17&nbsp;&nbsp;</span>🛑 Fix: Annotate Code and Update</a></span><ul class=\"toc-item\"><li><span><a href=\"#Attempting-TreeExplainer\" data-toc-modified-id=\"Attempting-TreeExplainer-17.1\"><span class=\"toc-item-num\">17.1&nbsp;&nbsp;</span>Attempting TreeExplainer</a></span></li><li><span><a href=\"#Attempting-KernelExplainer\" data-toc-modified-id=\"Attempting-KernelExplainer-17.2\"><span class=\"toc-item-num\">17.2&nbsp;&nbsp;</span>Attempting KernelExplainer</a></span></li><li><span><a href=\"#Force-Plot\" data-toc-modified-id=\"Force-Plot-17.3\"><span class=\"toc-item-num\">17.3&nbsp;&nbsp;</span><strong>Force Plot</strong></a></span></li><li><span><a href=\"#Dependence-Plot\" data-toc-modified-id=\"Dependence-Plot-17.4\"><span class=\"toc-item-num\">17.4&nbsp;&nbsp;</span>Dependence Plot</a></span></li></ul></li><li><span><a href=\"#MVP-Notes\" data-toc-modified-id=\"MVP-Notes-18\"><span class=\"toc-item-num\">18&nbsp;&nbsp;</span>MVP Notes</a></span></li><li><span><a href=\"#Reviewing-Results\" data-toc-modified-id=\"Reviewing-Results-19\"><span class=\"toc-item-num\">19&nbsp;&nbsp;</span>Reviewing Results</a></span></li><li><span><a href=\"#Recommendations\" data-toc-modified-id=\"Recommendations-20\"><span class=\"toc-item-num\">20&nbsp;&nbsp;</span>Recommendations</a></span></li><li><span><a href=\"#Future-Work\" data-toc-modified-id=\"Future-Work-21\"><span class=\"toc-item-num\">21&nbsp;&nbsp;</span>Future Work</a></span></li></ul></div>"
   ]
  },
  {
   "cell_type": "markdown",
   "metadata": {},
   "source": [
    "# -- > 🛑 **FIX**: Add cmts re: post-cleaning, modeling"
   ]
  },
  {
   "cell_type": "markdown",
   "metadata": {},
   "source": [
    "---\n",
    "\n",
    ">\n",
    "\n",
    "---"
   ]
  },
  {
   "cell_type": "markdown",
   "metadata": {},
   "source": [
    "# **Imports**"
   ]
  },
  {
   "cell_type": "markdown",
   "metadata": {},
   "source": [
    "---\n",
    "\n",
    "**The Basics**\n",
    "\n",
    ">I will import the usual packages: Pandas, Numpy, Matplotlib, and Seaborn. Additionally, I have several personal functions that I use during the modeling process.\n",
    "\n",
    "**More Models**\n",
    "\n",
    "> When I begin the modeling process, I will import \n",
    "\n",
    "---"
   ]
  },
  {
   "cell_type": "code",
   "execution_count": 1,
   "metadata": {
    "ExecuteTime": {
     "end_time": "2021-09-10T21:48:53.325076Z",
     "start_time": "2021-09-10T21:48:53.274551Z"
    }
   },
   "outputs": [],
   "source": [
    "## Jupyter Notebook setting to reload functions when called\n",
    "%load_ext autoreload\n",
    "%autoreload 2"
   ]
  },
  {
   "cell_type": "code",
   "execution_count": 2,
   "metadata": {
    "ExecuteTime": {
     "end_time": "2021-09-10T21:49:03.920881Z",
     "start_time": "2021-09-10T21:48:53.328074Z"
    }
   },
   "outputs": [],
   "source": [
    "## Data Handling\n",
    "import pandas as pd\n",
    "import numpy as np\n",
    "\n",
    "## Visualizations\n",
    "import matplotlib.pyplot as plt\n",
    "import seaborn as sns\n",
    "\n",
    "## Visualizing model results\n",
    "import shap\n",
    "\n",
    "## Personal functions\n",
    "from bmc_functions import classification as clf\n",
    "\n",
    "## SKLearn and Modeling Tools\n",
    "from sklearn import metrics\n",
    "from sklearn.preprocessing import OneHotEncoder, StandardScaler\n",
    "from sklearn.model_selection import train_test_split, GridSearchCV\n",
    "from sklearn.impute import SimpleImputer\n",
    "from sklearn.compose import ColumnTransformer\n",
    "from sklearn.pipeline import Pipeline\n",
    "from sklearn.dummy import DummyClassifier\n",
    "from sklearn import set_config\n",
    "\n",
    "from xgboost import XGBClassifier\n",
    "\n",
    "from imblearn.over_sampling import SMOTE"
   ]
  },
  {
   "cell_type": "code",
   "execution_count": 3,
   "metadata": {
    "ExecuteTime": {
     "end_time": "2021-09-10T21:49:04.213880Z",
     "start_time": "2021-09-10T21:49:03.924883Z"
    }
   },
   "outputs": [],
   "source": [
    "## Settings\n",
    "%matplotlib inline\n",
    "sns.set_context(\"paper\", font_scale=1.25)\n",
    "\n",
    "pd.set_option('display.max_columns', 100)\n",
    "pd.set_option('display.float_format', lambda x: f'{x:,.2f}')\n",
    "pd.set_option('max_rows', 50)\n",
    "\n",
    "set_config(display='diagram')"
   ]
  },
  {
   "cell_type": "markdown",
   "metadata": {},
   "source": [
    "## *Speeding-Up Scikit-Learn*"
   ]
  },
  {
   "cell_type": "markdown",
   "metadata": {},
   "source": [
    "---\n",
    "\n",
    "Due to the size of my dataset, the modeling process took a fair amount of time, especially when testing different model types. To improve my models' runtime, I use a package called \"**Intel(R) Extension for Scikit-learn*.**\"\n",
    "\n",
    "This package operates in the background to increase the computational efficiency of certain Scikit-Learn models, including Logistic Regression and Random Forest Classifier models. The package does not affect the model results, though.\n",
    "\n",
    "This package requires the models to be imported after the package itself in order to perform the patching that results in better run-times.\n",
    "\n",
    "---"
   ]
  },
  {
   "cell_type": "code",
   "execution_count": 4,
   "metadata": {
    "ExecuteTime": {
     "end_time": "2021-09-10T21:49:04.763845Z",
     "start_time": "2021-09-10T21:49:04.216885Z"
    }
   },
   "outputs": [
    {
     "name": "stderr",
     "output_type": "stream",
     "text": [
      "Intel(R) Extension for Scikit-learn* enabled (https://github.com/intel/scikit-learn-intelex)\n"
     ]
    }
   ],
   "source": [
    "## Speeding up SKLearn via Intel(R) Extension for Scikit-learn*\n",
    "from sklearnex import patch_sklearn\n",
    "patch_sklearn()"
   ]
  },
  {
   "cell_type": "code",
   "execution_count": 5,
   "metadata": {
    "ExecuteTime": {
     "end_time": "2021-09-10T21:49:05.043847Z",
     "start_time": "2021-09-10T21:49:04.766848Z"
    }
   },
   "outputs": [],
   "source": [
    "## Inmporting models post-sklearn-intelex\n",
    "from sklearn.linear_model import LogisticRegression, LogisticRegressionCV\n",
    "from sklearn.ensemble import RandomForestClassifier\n",
    "from sklearn.ensemble import ExtraTreesClassifier\n",
    "from imblearn.ensemble import BalancedRandomForestClassifier"
   ]
  },
  {
   "cell_type": "markdown",
   "metadata": {},
   "source": [
    "# **Reading the DataFrames**"
   ]
  },
  {
   "cell_type": "markdown",
   "metadata": {},
   "source": [
    "---\n",
    "\n",
    "> In my prior EDA notebook, I reviewed, cleaned, and performed some pre-processing steps to prepare my data separately before modeling. I saved the data as a .pickle file to preserve the datatypes; now I will re-read the data for modeling purposes.\n",
    "\n",
    "---"
   ]
  },
  {
   "cell_type": "code",
   "execution_count": 6,
   "metadata": {
    "ExecuteTime": {
     "end_time": "2021-09-10T21:49:05.587850Z",
     "start_time": "2021-09-10T21:49:05.045846Z"
    },
    "scrolled": false
   },
   "outputs": [
    {
     "data": {
      "text/html": [
       "<div>\n",
       "<style scoped>\n",
       "    .dataframe tbody tr th:only-of-type {\n",
       "        vertical-align: middle;\n",
       "    }\n",
       "\n",
       "    .dataframe tbody tr th {\n",
       "        vertical-align: top;\n",
       "    }\n",
       "\n",
       "    .dataframe thead th {\n",
       "        text-align: right;\n",
       "    }\n",
       "</style>\n",
       "<table border=\"1\" class=\"dataframe\">\n",
       "  <thead>\n",
       "    <tr style=\"text-align: right;\">\n",
       "      <th></th>\n",
       "      <th>hotel</th>\n",
       "      <th>is_canceled</th>\n",
       "      <th>lead_time</th>\n",
       "      <th>arrival_date_month</th>\n",
       "      <th>arrival_date_week_number</th>\n",
       "      <th>arrival_date_day_of_month</th>\n",
       "      <th>stays_in_weekend_nights</th>\n",
       "      <th>stays_in_week_nights</th>\n",
       "      <th>adults</th>\n",
       "      <th>children</th>\n",
       "      <th>babies</th>\n",
       "      <th>meal</th>\n",
       "      <th>country</th>\n",
       "      <th>market_segment</th>\n",
       "      <th>is_repeated_guest</th>\n",
       "      <th>previous_cancellations</th>\n",
       "      <th>previous_bookings_not_canceled</th>\n",
       "      <th>reserved_room_type</th>\n",
       "      <th>booking_changes</th>\n",
       "      <th>deposit_type</th>\n",
       "      <th>days_in_waiting_list</th>\n",
       "      <th>customer_type</th>\n",
       "      <th>adr</th>\n",
       "      <th>required_car_parking_spaces</th>\n",
       "      <th>total_of_special_requests</th>\n",
       "      <th>reservation_status_date</th>\n",
       "      <th>agent_group</th>\n",
       "      <th>arrival_date</th>\n",
       "      <th>arrival_day</th>\n",
       "    </tr>\n",
       "  </thead>\n",
       "  <tbody>\n",
       "    <tr>\n",
       "      <th>0</th>\n",
       "      <td>Resort Hotel</td>\n",
       "      <td>0</td>\n",
       "      <td>342</td>\n",
       "      <td>July</td>\n",
       "      <td>27</td>\n",
       "      <td>1</td>\n",
       "      <td>0</td>\n",
       "      <td>0</td>\n",
       "      <td>2</td>\n",
       "      <td>0.00</td>\n",
       "      <td>0</td>\n",
       "      <td>BB</td>\n",
       "      <td>PRT</td>\n",
       "      <td>Direct</td>\n",
       "      <td>0</td>\n",
       "      <td>0</td>\n",
       "      <td>0</td>\n",
       "      <td>C</td>\n",
       "      <td>3</td>\n",
       "      <td>No Deposit</td>\n",
       "      <td>0</td>\n",
       "      <td>Transient</td>\n",
       "      <td>0.00</td>\n",
       "      <td>0</td>\n",
       "      <td>0</td>\n",
       "      <td>2015-07-01</td>\n",
       "      <td>999</td>\n",
       "      <td>2015-07-01</td>\n",
       "      <td>Wednesday</td>\n",
       "    </tr>\n",
       "    <tr>\n",
       "      <th>1</th>\n",
       "      <td>Resort Hotel</td>\n",
       "      <td>0</td>\n",
       "      <td>737</td>\n",
       "      <td>July</td>\n",
       "      <td>27</td>\n",
       "      <td>1</td>\n",
       "      <td>0</td>\n",
       "      <td>0</td>\n",
       "      <td>2</td>\n",
       "      <td>0.00</td>\n",
       "      <td>0</td>\n",
       "      <td>BB</td>\n",
       "      <td>PRT</td>\n",
       "      <td>Direct</td>\n",
       "      <td>0</td>\n",
       "      <td>0</td>\n",
       "      <td>0</td>\n",
       "      <td>C</td>\n",
       "      <td>4</td>\n",
       "      <td>No Deposit</td>\n",
       "      <td>0</td>\n",
       "      <td>Transient</td>\n",
       "      <td>0.00</td>\n",
       "      <td>0</td>\n",
       "      <td>0</td>\n",
       "      <td>2015-07-01</td>\n",
       "      <td>999</td>\n",
       "      <td>2015-07-01</td>\n",
       "      <td>Wednesday</td>\n",
       "    </tr>\n",
       "    <tr>\n",
       "      <th>2</th>\n",
       "      <td>Resort Hotel</td>\n",
       "      <td>0</td>\n",
       "      <td>7</td>\n",
       "      <td>July</td>\n",
       "      <td>27</td>\n",
       "      <td>1</td>\n",
       "      <td>0</td>\n",
       "      <td>1</td>\n",
       "      <td>1</td>\n",
       "      <td>0.00</td>\n",
       "      <td>0</td>\n",
       "      <td>BB</td>\n",
       "      <td>GBR</td>\n",
       "      <td>Direct</td>\n",
       "      <td>0</td>\n",
       "      <td>0</td>\n",
       "      <td>0</td>\n",
       "      <td>A</td>\n",
       "      <td>0</td>\n",
       "      <td>No Deposit</td>\n",
       "      <td>0</td>\n",
       "      <td>Transient</td>\n",
       "      <td>75.00</td>\n",
       "      <td>0</td>\n",
       "      <td>0</td>\n",
       "      <td>2015-07-02</td>\n",
       "      <td>999</td>\n",
       "      <td>2015-07-01</td>\n",
       "      <td>Wednesday</td>\n",
       "    </tr>\n",
       "    <tr>\n",
       "      <th>3</th>\n",
       "      <td>Resort Hotel</td>\n",
       "      <td>0</td>\n",
       "      <td>13</td>\n",
       "      <td>July</td>\n",
       "      <td>27</td>\n",
       "      <td>1</td>\n",
       "      <td>0</td>\n",
       "      <td>1</td>\n",
       "      <td>1</td>\n",
       "      <td>0.00</td>\n",
       "      <td>0</td>\n",
       "      <td>BB</td>\n",
       "      <td>GBR</td>\n",
       "      <td>Corporate</td>\n",
       "      <td>0</td>\n",
       "      <td>0</td>\n",
       "      <td>0</td>\n",
       "      <td>A</td>\n",
       "      <td>0</td>\n",
       "      <td>No Deposit</td>\n",
       "      <td>0</td>\n",
       "      <td>Transient</td>\n",
       "      <td>75.00</td>\n",
       "      <td>0</td>\n",
       "      <td>0</td>\n",
       "      <td>2015-07-02</td>\n",
       "      <td>999</td>\n",
       "      <td>2015-07-01</td>\n",
       "      <td>Wednesday</td>\n",
       "    </tr>\n",
       "    <tr>\n",
       "      <th>4</th>\n",
       "      <td>Resort Hotel</td>\n",
       "      <td>0</td>\n",
       "      <td>14</td>\n",
       "      <td>July</td>\n",
       "      <td>27</td>\n",
       "      <td>1</td>\n",
       "      <td>0</td>\n",
       "      <td>2</td>\n",
       "      <td>2</td>\n",
       "      <td>0.00</td>\n",
       "      <td>0</td>\n",
       "      <td>BB</td>\n",
       "      <td>GBR</td>\n",
       "      <td>Online TA</td>\n",
       "      <td>0</td>\n",
       "      <td>0</td>\n",
       "      <td>0</td>\n",
       "      <td>A</td>\n",
       "      <td>0</td>\n",
       "      <td>No Deposit</td>\n",
       "      <td>0</td>\n",
       "      <td>Transient</td>\n",
       "      <td>98.00</td>\n",
       "      <td>0</td>\n",
       "      <td>1</td>\n",
       "      <td>2015-07-03</td>\n",
       "      <td>240</td>\n",
       "      <td>2015-07-01</td>\n",
       "      <td>Wednesday</td>\n",
       "    </tr>\n",
       "    <tr>\n",
       "      <th>...</th>\n",
       "      <td>...</td>\n",
       "      <td>...</td>\n",
       "      <td>...</td>\n",
       "      <td>...</td>\n",
       "      <td>...</td>\n",
       "      <td>...</td>\n",
       "      <td>...</td>\n",
       "      <td>...</td>\n",
       "      <td>...</td>\n",
       "      <td>...</td>\n",
       "      <td>...</td>\n",
       "      <td>...</td>\n",
       "      <td>...</td>\n",
       "      <td>...</td>\n",
       "      <td>...</td>\n",
       "      <td>...</td>\n",
       "      <td>...</td>\n",
       "      <td>...</td>\n",
       "      <td>...</td>\n",
       "      <td>...</td>\n",
       "      <td>...</td>\n",
       "      <td>...</td>\n",
       "      <td>...</td>\n",
       "      <td>...</td>\n",
       "      <td>...</td>\n",
       "      <td>...</td>\n",
       "      <td>...</td>\n",
       "      <td>...</td>\n",
       "      <td>...</td>\n",
       "    </tr>\n",
       "    <tr>\n",
       "      <th>119385</th>\n",
       "      <td>City Hotel</td>\n",
       "      <td>0</td>\n",
       "      <td>23</td>\n",
       "      <td>August</td>\n",
       "      <td>35</td>\n",
       "      <td>30</td>\n",
       "      <td>2</td>\n",
       "      <td>5</td>\n",
       "      <td>2</td>\n",
       "      <td>0.00</td>\n",
       "      <td>0</td>\n",
       "      <td>BB</td>\n",
       "      <td>BEL</td>\n",
       "      <td>Offline TA/TO</td>\n",
       "      <td>0</td>\n",
       "      <td>0</td>\n",
       "      <td>0</td>\n",
       "      <td>A</td>\n",
       "      <td>0</td>\n",
       "      <td>No Deposit</td>\n",
       "      <td>0</td>\n",
       "      <td>Transient</td>\n",
       "      <td>96.14</td>\n",
       "      <td>0</td>\n",
       "      <td>0</td>\n",
       "      <td>2017-09-06</td>\n",
       "      <td>999</td>\n",
       "      <td>2017-08-30</td>\n",
       "      <td>Wednesday</td>\n",
       "    </tr>\n",
       "    <tr>\n",
       "      <th>119386</th>\n",
       "      <td>City Hotel</td>\n",
       "      <td>0</td>\n",
       "      <td>102</td>\n",
       "      <td>August</td>\n",
       "      <td>35</td>\n",
       "      <td>31</td>\n",
       "      <td>2</td>\n",
       "      <td>5</td>\n",
       "      <td>3</td>\n",
       "      <td>0.00</td>\n",
       "      <td>0</td>\n",
       "      <td>BB</td>\n",
       "      <td>FRA</td>\n",
       "      <td>Online TA</td>\n",
       "      <td>0</td>\n",
       "      <td>0</td>\n",
       "      <td>0</td>\n",
       "      <td>E</td>\n",
       "      <td>0</td>\n",
       "      <td>No Deposit</td>\n",
       "      <td>0</td>\n",
       "      <td>Transient</td>\n",
       "      <td>225.43</td>\n",
       "      <td>0</td>\n",
       "      <td>2</td>\n",
       "      <td>2017-09-07</td>\n",
       "      <td>9</td>\n",
       "      <td>2017-08-31</td>\n",
       "      <td>Thursday</td>\n",
       "    </tr>\n",
       "    <tr>\n",
       "      <th>119387</th>\n",
       "      <td>City Hotel</td>\n",
       "      <td>0</td>\n",
       "      <td>34</td>\n",
       "      <td>August</td>\n",
       "      <td>35</td>\n",
       "      <td>31</td>\n",
       "      <td>2</td>\n",
       "      <td>5</td>\n",
       "      <td>2</td>\n",
       "      <td>0.00</td>\n",
       "      <td>0</td>\n",
       "      <td>BB</td>\n",
       "      <td>DEU</td>\n",
       "      <td>Online TA</td>\n",
       "      <td>0</td>\n",
       "      <td>0</td>\n",
       "      <td>0</td>\n",
       "      <td>D</td>\n",
       "      <td>0</td>\n",
       "      <td>No Deposit</td>\n",
       "      <td>0</td>\n",
       "      <td>Transient</td>\n",
       "      <td>157.71</td>\n",
       "      <td>0</td>\n",
       "      <td>4</td>\n",
       "      <td>2017-09-07</td>\n",
       "      <td>9</td>\n",
       "      <td>2017-08-31</td>\n",
       "      <td>Thursday</td>\n",
       "    </tr>\n",
       "    <tr>\n",
       "      <th>119388</th>\n",
       "      <td>City Hotel</td>\n",
       "      <td>0</td>\n",
       "      <td>109</td>\n",
       "      <td>August</td>\n",
       "      <td>35</td>\n",
       "      <td>31</td>\n",
       "      <td>2</td>\n",
       "      <td>5</td>\n",
       "      <td>2</td>\n",
       "      <td>0.00</td>\n",
       "      <td>0</td>\n",
       "      <td>BB</td>\n",
       "      <td>GBR</td>\n",
       "      <td>Online TA</td>\n",
       "      <td>0</td>\n",
       "      <td>0</td>\n",
       "      <td>0</td>\n",
       "      <td>A</td>\n",
       "      <td>0</td>\n",
       "      <td>No Deposit</td>\n",
       "      <td>0</td>\n",
       "      <td>Transient</td>\n",
       "      <td>104.40</td>\n",
       "      <td>0</td>\n",
       "      <td>0</td>\n",
       "      <td>2017-09-07</td>\n",
       "      <td>999</td>\n",
       "      <td>2017-08-31</td>\n",
       "      <td>Thursday</td>\n",
       "    </tr>\n",
       "    <tr>\n",
       "      <th>119389</th>\n",
       "      <td>City Hotel</td>\n",
       "      <td>0</td>\n",
       "      <td>205</td>\n",
       "      <td>August</td>\n",
       "      <td>35</td>\n",
       "      <td>29</td>\n",
       "      <td>2</td>\n",
       "      <td>7</td>\n",
       "      <td>2</td>\n",
       "      <td>0.00</td>\n",
       "      <td>0</td>\n",
       "      <td>HB</td>\n",
       "      <td>DEU</td>\n",
       "      <td>Online TA</td>\n",
       "      <td>0</td>\n",
       "      <td>0</td>\n",
       "      <td>0</td>\n",
       "      <td>A</td>\n",
       "      <td>0</td>\n",
       "      <td>No Deposit</td>\n",
       "      <td>0</td>\n",
       "      <td>Transient</td>\n",
       "      <td>151.20</td>\n",
       "      <td>0</td>\n",
       "      <td>2</td>\n",
       "      <td>2017-09-07</td>\n",
       "      <td>9</td>\n",
       "      <td>2017-08-29</td>\n",
       "      <td>Tuesday</td>\n",
       "    </tr>\n",
       "  </tbody>\n",
       "</table>\n",
       "<p>119390 rows × 29 columns</p>\n",
       "</div>"
      ],
      "text/plain": [
       "               hotel  is_canceled  lead_time arrival_date_month  \\\n",
       "0       Resort Hotel            0        342               July   \n",
       "1       Resort Hotel            0        737               July   \n",
       "2       Resort Hotel            0          7               July   \n",
       "3       Resort Hotel            0         13               July   \n",
       "4       Resort Hotel            0         14               July   \n",
       "...              ...          ...        ...                ...   \n",
       "119385    City Hotel            0         23             August   \n",
       "119386    City Hotel            0        102             August   \n",
       "119387    City Hotel            0         34             August   \n",
       "119388    City Hotel            0        109             August   \n",
       "119389    City Hotel            0        205             August   \n",
       "\n",
       "        arrival_date_week_number  arrival_date_day_of_month  \\\n",
       "0                             27                          1   \n",
       "1                             27                          1   \n",
       "2                             27                          1   \n",
       "3                             27                          1   \n",
       "4                             27                          1   \n",
       "...                          ...                        ...   \n",
       "119385                        35                         30   \n",
       "119386                        35                         31   \n",
       "119387                        35                         31   \n",
       "119388                        35                         31   \n",
       "119389                        35                         29   \n",
       "\n",
       "        stays_in_weekend_nights  stays_in_week_nights  adults  children  \\\n",
       "0                             0                     0       2      0.00   \n",
       "1                             0                     0       2      0.00   \n",
       "2                             0                     1       1      0.00   \n",
       "3                             0                     1       1      0.00   \n",
       "4                             0                     2       2      0.00   \n",
       "...                         ...                   ...     ...       ...   \n",
       "119385                        2                     5       2      0.00   \n",
       "119386                        2                     5       3      0.00   \n",
       "119387                        2                     5       2      0.00   \n",
       "119388                        2                     5       2      0.00   \n",
       "119389                        2                     7       2      0.00   \n",
       "\n",
       "        babies meal country market_segment  is_repeated_guest  \\\n",
       "0            0   BB     PRT         Direct                  0   \n",
       "1            0   BB     PRT         Direct                  0   \n",
       "2            0   BB     GBR         Direct                  0   \n",
       "3            0   BB     GBR      Corporate                  0   \n",
       "4            0   BB     GBR      Online TA                  0   \n",
       "...        ...  ...     ...            ...                ...   \n",
       "119385       0   BB     BEL  Offline TA/TO                  0   \n",
       "119386       0   BB     FRA      Online TA                  0   \n",
       "119387       0   BB     DEU      Online TA                  0   \n",
       "119388       0   BB     GBR      Online TA                  0   \n",
       "119389       0   HB     DEU      Online TA                  0   \n",
       "\n",
       "        previous_cancellations  previous_bookings_not_canceled  \\\n",
       "0                            0                               0   \n",
       "1                            0                               0   \n",
       "2                            0                               0   \n",
       "3                            0                               0   \n",
       "4                            0                               0   \n",
       "...                        ...                             ...   \n",
       "119385                       0                               0   \n",
       "119386                       0                               0   \n",
       "119387                       0                               0   \n",
       "119388                       0                               0   \n",
       "119389                       0                               0   \n",
       "\n",
       "       reserved_room_type  booking_changes deposit_type  days_in_waiting_list  \\\n",
       "0                       C                3   No Deposit                     0   \n",
       "1                       C                4   No Deposit                     0   \n",
       "2                       A                0   No Deposit                     0   \n",
       "3                       A                0   No Deposit                     0   \n",
       "4                       A                0   No Deposit                     0   \n",
       "...                   ...              ...          ...                   ...   \n",
       "119385                  A                0   No Deposit                     0   \n",
       "119386                  E                0   No Deposit                     0   \n",
       "119387                  D                0   No Deposit                     0   \n",
       "119388                  A                0   No Deposit                     0   \n",
       "119389                  A                0   No Deposit                     0   \n",
       "\n",
       "       customer_type    adr  required_car_parking_spaces  \\\n",
       "0          Transient   0.00                            0   \n",
       "1          Transient   0.00                            0   \n",
       "2          Transient  75.00                            0   \n",
       "3          Transient  75.00                            0   \n",
       "4          Transient  98.00                            0   \n",
       "...              ...    ...                          ...   \n",
       "119385     Transient  96.14                            0   \n",
       "119386     Transient 225.43                            0   \n",
       "119387     Transient 157.71                            0   \n",
       "119388     Transient 104.40                            0   \n",
       "119389     Transient 151.20                            0   \n",
       "\n",
       "        total_of_special_requests reservation_status_date agent_group  \\\n",
       "0                               0              2015-07-01         999   \n",
       "1                               0              2015-07-01         999   \n",
       "2                               0              2015-07-02         999   \n",
       "3                               0              2015-07-02         999   \n",
       "4                               1              2015-07-03         240   \n",
       "...                           ...                     ...         ...   \n",
       "119385                          0              2017-09-06         999   \n",
       "119386                          2              2017-09-07           9   \n",
       "119387                          4              2017-09-07           9   \n",
       "119388                          0              2017-09-07         999   \n",
       "119389                          2              2017-09-07           9   \n",
       "\n",
       "       arrival_date arrival_day  \n",
       "0        2015-07-01   Wednesday  \n",
       "1        2015-07-01   Wednesday  \n",
       "2        2015-07-01   Wednesday  \n",
       "3        2015-07-01   Wednesday  \n",
       "4        2015-07-01   Wednesday  \n",
       "...             ...         ...  \n",
       "119385   2017-08-30   Wednesday  \n",
       "119386   2017-08-31    Thursday  \n",
       "119387   2017-08-31    Thursday  \n",
       "119388   2017-08-31    Thursday  \n",
       "119389   2017-08-29     Tuesday  \n",
       "\n",
       "[119390 rows x 29 columns]"
      ]
     },
     "execution_count": 6,
     "metadata": {},
     "output_type": "execute_result"
    }
   ],
   "source": [
    "data = pd.read_pickle('./data/data_no_assigned.pickle',\n",
    "                           compression = 'gzip')\n",
    "data"
   ]
  },
  {
   "cell_type": "markdown",
   "metadata": {},
   "source": [
    "# **Train/Test Split**"
   ]
  },
  {
   "cell_type": "code",
   "execution_count": 7,
   "metadata": {
    "ExecuteTime": {
     "end_time": "2021-09-10T21:49:05.913850Z",
     "start_time": "2021-09-10T21:49:05.590853Z"
    }
   },
   "outputs": [],
   "source": [
    "## Splitting data into features and target variables.\n",
    "target= 'is_canceled'\n",
    "\n",
    "X = data.drop(columns = [target]).copy()\n",
    "y = data[target].copy()"
   ]
  },
  {
   "cell_type": "code",
   "execution_count": 8,
   "metadata": {
    "ExecuteTime": {
     "end_time": "2021-09-10T21:49:06.283801Z",
     "start_time": "2021-09-10T21:49:05.917853Z"
    }
   },
   "outputs": [
    {
     "name": "stdout",
     "output_type": "stream",
     "text": [
      "Missing values for X:\n",
      " hotel                             0\n",
      "lead_time                         0\n",
      "arrival_date_month                0\n",
      "arrival_date_week_number          0\n",
      "arrival_date_day_of_month         0\n",
      "stays_in_weekend_nights           0\n",
      "stays_in_week_nights              0\n",
      "adults                            0\n",
      "children                          0\n",
      "babies                            0\n",
      "meal                              0\n",
      "country                           0\n",
      "market_segment                    0\n",
      "is_repeated_guest                 0\n",
      "previous_cancellations            0\n",
      "previous_bookings_not_canceled    0\n",
      "reserved_room_type                0\n",
      "booking_changes                   0\n",
      "deposit_type                      0\n",
      "days_in_waiting_list              0\n",
      "customer_type                     0\n",
      "adr                               0\n",
      "required_car_parking_spaces       0\n",
      "total_of_special_requests         0\n",
      "reservation_status_date           0\n",
      "agent_group                       0\n",
      "arrival_date                      0\n",
      "arrival_day                       0\n",
      "dtype: int64\n",
      "\n",
      "Missing values for y: 0\n"
     ]
    }
   ],
   "source": [
    "## Checking for missing values\n",
    "print(f'Missing values for X:\\n {X.isna().sum()}\\n')\n",
    "print(f'Missing values for y: {y.isna().sum()}')"
   ]
  },
  {
   "cell_type": "code",
   "execution_count": 9,
   "metadata": {
    "ExecuteTime": {
     "end_time": "2021-09-10T21:49:06.640939Z",
     "start_time": "2021-09-10T21:49:06.288804Z"
    }
   },
   "outputs": [],
   "source": [
    "## Splitting - stratify to maintain class balance b/t X_train/_test\n",
    "X_train, X_test, y_train, y_test = train_test_split(X, y, test_size = .25, \n",
    "                                                    random_state=42, \n",
    "                                                    stratify=y)"
   ]
  },
  {
   "cell_type": "code",
   "execution_count": 10,
   "metadata": {
    "ExecuteTime": {
     "end_time": "2021-09-10T21:49:06.933800Z",
     "start_time": "2021-09-10T21:49:06.643801Z"
    }
   },
   "outputs": [],
   "source": [
    "## Saving memory by deleting unused X, y\n",
    "del X, y"
   ]
  },
  {
   "cell_type": "code",
   "execution_count": 11,
   "metadata": {
    "ExecuteTime": {
     "end_time": "2021-09-10T21:49:07.198419Z",
     "start_time": "2021-09-10T21:49:06.936804Z"
    }
   },
   "outputs": [
    {
     "data": {
      "text/plain": [
       "['lead_time',\n",
       " 'arrival_date_week_number',\n",
       " 'arrival_date_day_of_month',\n",
       " 'stays_in_weekend_nights',\n",
       " 'stays_in_week_nights',\n",
       " 'adults',\n",
       " 'children',\n",
       " 'babies',\n",
       " 'is_repeated_guest',\n",
       " 'previous_cancellations',\n",
       " 'previous_bookings_not_canceled',\n",
       " 'booking_changes',\n",
       " 'days_in_waiting_list',\n",
       " 'adr',\n",
       " 'required_car_parking_spaces',\n",
       " 'total_of_special_requests']"
      ]
     },
     "execution_count": 11,
     "metadata": {},
     "output_type": "execute_result"
    }
   ],
   "source": [
    "## Specifying numeric columns for preprocessing\n",
    "num_cols = X_train.select_dtypes('number').columns.to_list()\n",
    "num_cols"
   ]
  },
  {
   "cell_type": "code",
   "execution_count": 12,
   "metadata": {
    "ExecuteTime": {
     "end_time": "2021-09-10T21:49:07.493989Z",
     "start_time": "2021-09-10T21:49:07.201420Z"
    }
   },
   "outputs": [
    {
     "data": {
      "text/plain": [
       "['hotel',\n",
       " 'arrival_date_month',\n",
       " 'meal',\n",
       " 'country',\n",
       " 'market_segment',\n",
       " 'reserved_room_type',\n",
       " 'deposit_type',\n",
       " 'customer_type',\n",
       " 'agent_group',\n",
       " 'arrival_day']"
      ]
     },
     "execution_count": 12,
     "metadata": {},
     "output_type": "execute_result"
    }
   ],
   "source": [
    "## Specifying numeric columns for preprocessing\n",
    "cat_cols = X_train.select_dtypes(include='object').columns.to_list()\n",
    "cat_cols"
   ]
  },
  {
   "cell_type": "markdown",
   "metadata": {},
   "source": [
    "# **Prepping the Pipeline**"
   ]
  },
  {
   "cell_type": "markdown",
   "metadata": {},
   "source": [
    "---\n",
    "\n",
    "> Pipeline to streamline modeling steps:\n",
    "* Preprocessing: OHE, scaling, outliers via ƒ-XF?\n",
    "* Modeling: RFC, BRFC\n",
    "* GSCV: include as part of pipeline\n",
    "* Get results:\n",
    "    * Feature importances - **SHAP**\n",
    "\n",
    "---"
   ]
  },
  {
   "cell_type": "code",
   "execution_count": 13,
   "metadata": {
    "ExecuteTime": {
     "end_time": "2021-09-10T21:49:07.836749Z",
     "start_time": "2021-09-10T21:49:07.496989Z"
    }
   },
   "outputs": [
    {
     "data": {
      "text/html": [
       "<style>div.sk-top-container {color: black;background-color: white;}div.sk-toggleable {background-color: white;}label.sk-toggleable__label {cursor: pointer;display: block;width: 100%;margin-bottom: 0;padding: 0.2em 0.3em;box-sizing: border-box;text-align: center;}div.sk-toggleable__content {max-height: 0;max-width: 0;overflow: hidden;text-align: left;background-color: #f0f8ff;}div.sk-toggleable__content pre {margin: 0.2em;color: black;border-radius: 0.25em;background-color: #f0f8ff;}input.sk-toggleable__control:checked~div.sk-toggleable__content {max-height: 200px;max-width: 100%;overflow: auto;}div.sk-estimator input.sk-toggleable__control:checked~label.sk-toggleable__label {background-color: #d4ebff;}div.sk-label input.sk-toggleable__control:checked~label.sk-toggleable__label {background-color: #d4ebff;}input.sk-hidden--visually {border: 0;clip: rect(1px 1px 1px 1px);clip: rect(1px, 1px, 1px, 1px);height: 1px;margin: -1px;overflow: hidden;padding: 0;position: absolute;width: 1px;}div.sk-estimator {font-family: monospace;background-color: #f0f8ff;margin: 0.25em 0.25em;border: 1px dotted black;border-radius: 0.25em;box-sizing: border-box;}div.sk-estimator:hover {background-color: #d4ebff;}div.sk-parallel-item::after {content: \"\";width: 100%;border-bottom: 1px solid gray;flex-grow: 1;}div.sk-label:hover label.sk-toggleable__label {background-color: #d4ebff;}div.sk-serial::before {content: \"\";position: absolute;border-left: 1px solid gray;box-sizing: border-box;top: 2em;bottom: 0;left: 50%;}div.sk-serial {display: flex;flex-direction: column;align-items: center;background-color: white;}div.sk-item {z-index: 1;}div.sk-parallel {display: flex;align-items: stretch;justify-content: center;background-color: white;}div.sk-parallel-item {display: flex;flex-direction: column;position: relative;background-color: white;}div.sk-parallel-item:first-child::after {align-self: flex-end;width: 50%;}div.sk-parallel-item:last-child::after {align-self: flex-start;width: 50%;}div.sk-parallel-item:only-child::after {width: 0;}div.sk-dashed-wrapped {border: 1px dashed gray;margin: 0.2em;box-sizing: border-box;padding-bottom: 0.1em;background-color: white;position: relative;}div.sk-label label {font-family: monospace;font-weight: bold;background-color: white;display: inline-block;line-height: 1.2em;}div.sk-label-container {position: relative;z-index: 2;text-align: center;}div.sk-container {display: inline-block;position: relative;}</style><div class=\"sk-top-container\"><div class=\"sk-container\"><div class=\"sk-item sk-dashed-wrapped\"><div class=\"sk-label-container\"><div class=\"sk-label sk-toggleable\"><input class=\"sk-toggleable__control sk-hidden--visually\" id=\"38a259fd-8916-4e76-ac22-3eee54055e65\" type=\"checkbox\" ><label class=\"sk-toggleable__label\" for=\"38a259fd-8916-4e76-ac22-3eee54055e65\">ColumnTransformer</label><div class=\"sk-toggleable__content\"><pre>ColumnTransformer(transformers=[('num',\n",
       "                                 Pipeline(steps=[('scaler', StandardScaler())]),\n",
       "                                 ['lead_time', 'arrival_date_week_number',\n",
       "                                  'arrival_date_day_of_month',\n",
       "                                  'stays_in_weekend_nights',\n",
       "                                  'stays_in_week_nights', 'adults', 'children',\n",
       "                                  'babies', 'is_repeated_guest',\n",
       "                                  'previous_cancellations',\n",
       "                                  'previous_bookings_not_canceled',\n",
       "                                  'booking_changes', 'days_in_waiting_list',\n",
       "                                  'adr', 'required_car_parking_spaces',\n",
       "                                  'total_of_special_requests']),\n",
       "                                ('cat',\n",
       "                                 Pipeline(steps=[('ohe',\n",
       "                                                  OneHotEncoder(handle_unknown='ignore',\n",
       "                                                                sparse=False))]),\n",
       "                                 ['hotel', 'arrival_date_month', 'meal',\n",
       "                                  'country', 'market_segment',\n",
       "                                  'reserved_room_type', 'deposit_type',\n",
       "                                  'customer_type', 'agent_group',\n",
       "                                  'arrival_day'])])</pre></div></div></div><div class=\"sk-parallel\"><div class=\"sk-parallel-item\"><div class=\"sk-item\"><div class=\"sk-label-container\"><div class=\"sk-label sk-toggleable\"><input class=\"sk-toggleable__control sk-hidden--visually\" id=\"a446f8ab-992c-4b5a-82e3-f96c8025fa7a\" type=\"checkbox\" ><label class=\"sk-toggleable__label\" for=\"a446f8ab-992c-4b5a-82e3-f96c8025fa7a\">num</label><div class=\"sk-toggleable__content\"><pre>['lead_time', 'arrival_date_week_number', 'arrival_date_day_of_month', 'stays_in_weekend_nights', 'stays_in_week_nights', 'adults', 'children', 'babies', 'is_repeated_guest', 'previous_cancellations', 'previous_bookings_not_canceled', 'booking_changes', 'days_in_waiting_list', 'adr', 'required_car_parking_spaces', 'total_of_special_requests']</pre></div></div></div><div class=\"sk-serial\"><div class=\"sk-item\"><div class=\"sk-serial\"><div class=\"sk-item\"><div class=\"sk-estimator sk-toggleable\"><input class=\"sk-toggleable__control sk-hidden--visually\" id=\"56cc3b52-06be-4494-a58f-391a88b460de\" type=\"checkbox\" ><label class=\"sk-toggleable__label\" for=\"56cc3b52-06be-4494-a58f-391a88b460de\">StandardScaler</label><div class=\"sk-toggleable__content\"><pre>StandardScaler()</pre></div></div></div></div></div></div></div></div><div class=\"sk-parallel-item\"><div class=\"sk-item\"><div class=\"sk-label-container\"><div class=\"sk-label sk-toggleable\"><input class=\"sk-toggleable__control sk-hidden--visually\" id=\"17f2d81e-11ed-4a0b-b88e-44bb2c247115\" type=\"checkbox\" ><label class=\"sk-toggleable__label\" for=\"17f2d81e-11ed-4a0b-b88e-44bb2c247115\">cat</label><div class=\"sk-toggleable__content\"><pre>['hotel', 'arrival_date_month', 'meal', 'country', 'market_segment', 'reserved_room_type', 'deposit_type', 'customer_type', 'agent_group', 'arrival_day']</pre></div></div></div><div class=\"sk-serial\"><div class=\"sk-item\"><div class=\"sk-serial\"><div class=\"sk-item\"><div class=\"sk-estimator sk-toggleable\"><input class=\"sk-toggleable__control sk-hidden--visually\" id=\"14c3f368-b39c-474a-be16-00d1f7a82ec4\" type=\"checkbox\" ><label class=\"sk-toggleable__label\" for=\"14c3f368-b39c-474a-be16-00d1f7a82ec4\">OneHotEncoder</label><div class=\"sk-toggleable__content\"><pre>OneHotEncoder(handle_unknown='ignore', sparse=False)</pre></div></div></div></div></div></div></div></div></div></div></div></div>"
      ],
      "text/plain": [
       "ColumnTransformer(transformers=[('num',\n",
       "                                 Pipeline(steps=[('scaler', StandardScaler())]),\n",
       "                                 ['lead_time', 'arrival_date_week_number',\n",
       "                                  'arrival_date_day_of_month',\n",
       "                                  'stays_in_weekend_nights',\n",
       "                                  'stays_in_week_nights', 'adults', 'children',\n",
       "                                  'babies', 'is_repeated_guest',\n",
       "                                  'previous_cancellations',\n",
       "                                  'previous_bookings_not_canceled',\n",
       "                                  'booking_changes', 'days_in_waiting_list',\n",
       "                                  'adr', 'required_car_parking_spaces',\n",
       "                                  'total_of_special_requests']),\n",
       "                                ('cat',\n",
       "                                 Pipeline(steps=[('ohe',\n",
       "                                                  OneHotEncoder(handle_unknown='ignore',\n",
       "                                                                sparse=False))]),\n",
       "                                 ['hotel', 'arrival_date_month', 'meal',\n",
       "                                  'country', 'market_segment',\n",
       "                                  'reserved_room_type', 'deposit_type',\n",
       "                                  'customer_type', 'agent_group',\n",
       "                                  'arrival_day'])])"
      ]
     },
     "execution_count": 13,
     "metadata": {},
     "output_type": "execute_result"
    }
   ],
   "source": [
    "## Creating ColumnTransformer and sub-transformers for imputation and encoding\n",
    "\n",
    "### --- Creating column pipelines --- ###\n",
    "\n",
    "cat_pipe = Pipeline(steps=[('ohe', OneHotEncoder(handle_unknown='ignore',\n",
    "                                                 sparse=False))])\n",
    "\n",
    "num_pipe = Pipeline(steps=[('scaler', StandardScaler())])\n",
    "\n",
    "### --- Instantiating the ColumnTransformer --- ###\n",
    "preprocessor = ColumnTransformer(\n",
    "    transformers=[('num', num_pipe, num_cols),\n",
    "                  ('cat', cat_pipe, cat_cols)])\n",
    "\n",
    "preprocessor"
   ]
  },
  {
   "cell_type": "code",
   "execution_count": 14,
   "metadata": {
    "ExecuteTime": {
     "end_time": "2021-09-10T21:49:09.159042Z",
     "start_time": "2021-09-10T21:49:07.839755Z"
    },
    "scrolled": false
   },
   "outputs": [],
   "source": [
    "## Fitting feature preprocessor\n",
    "preprocessor.fit(X_train)\n",
    "\n",
    "## Getting feature names from OHE\n",
    "ohe_cat_names = preprocessor.named_transformers_['cat'].named_steps['ohe'].get_feature_names(cat_cols)\n",
    "\n",
    "## Generating list for column index\n",
    "final_cols = [*num_cols, *ohe_cat_names]\n",
    "\n",
    "# final_cols"
   ]
  },
  {
   "cell_type": "code",
   "execution_count": 15,
   "metadata": {
    "ExecuteTime": {
     "end_time": "2021-09-10T21:49:10.003051Z",
     "start_time": "2021-09-10T21:49:09.161047Z"
    },
    "scrolled": true
   },
   "outputs": [
    {
     "data": {
      "text/html": [
       "<div>\n",
       "<style scoped>\n",
       "    .dataframe tbody tr th:only-of-type {\n",
       "        vertical-align: middle;\n",
       "    }\n",
       "\n",
       "    .dataframe tbody tr th {\n",
       "        vertical-align: top;\n",
       "    }\n",
       "\n",
       "    .dataframe thead th {\n",
       "        text-align: right;\n",
       "    }\n",
       "</style>\n",
       "<table border=\"1\" class=\"dataframe\">\n",
       "  <thead>\n",
       "    <tr style=\"text-align: right;\">\n",
       "      <th></th>\n",
       "      <th>lead_time</th>\n",
       "      <th>arrival_date_week_number</th>\n",
       "      <th>arrival_date_day_of_month</th>\n",
       "      <th>stays_in_weekend_nights</th>\n",
       "      <th>stays_in_week_nights</th>\n",
       "      <th>adults</th>\n",
       "      <th>children</th>\n",
       "      <th>babies</th>\n",
       "      <th>is_repeated_guest</th>\n",
       "      <th>previous_cancellations</th>\n",
       "      <th>previous_bookings_not_canceled</th>\n",
       "      <th>booking_changes</th>\n",
       "      <th>days_in_waiting_list</th>\n",
       "      <th>adr</th>\n",
       "      <th>required_car_parking_spaces</th>\n",
       "      <th>total_of_special_requests</th>\n",
       "      <th>hotel_City Hotel</th>\n",
       "      <th>hotel_Resort Hotel</th>\n",
       "      <th>arrival_date_month_April</th>\n",
       "      <th>arrival_date_month_August</th>\n",
       "      <th>arrival_date_month_December</th>\n",
       "      <th>arrival_date_month_February</th>\n",
       "      <th>arrival_date_month_January</th>\n",
       "      <th>arrival_date_month_July</th>\n",
       "      <th>arrival_date_month_June</th>\n",
       "      <th>arrival_date_month_March</th>\n",
       "      <th>arrival_date_month_May</th>\n",
       "      <th>arrival_date_month_November</th>\n",
       "      <th>arrival_date_month_October</th>\n",
       "      <th>arrival_date_month_September</th>\n",
       "      <th>meal_BB</th>\n",
       "      <th>meal_FB</th>\n",
       "      <th>meal_HB</th>\n",
       "      <th>meal_SC</th>\n",
       "      <th>meal_Undefined</th>\n",
       "      <th>country_ABW</th>\n",
       "      <th>country_AGO</th>\n",
       "      <th>country_AIA</th>\n",
       "      <th>country_ALB</th>\n",
       "      <th>country_AND</th>\n",
       "      <th>country_ARE</th>\n",
       "      <th>country_ARG</th>\n",
       "      <th>country_ARM</th>\n",
       "      <th>country_ASM</th>\n",
       "      <th>country_ATA</th>\n",
       "      <th>country_ATF</th>\n",
       "      <th>country_AUS</th>\n",
       "      <th>country_AUT</th>\n",
       "      <th>country_AZE</th>\n",
       "      <th>country_BEL</th>\n",
       "      <th>...</th>\n",
       "      <th>country_TUN</th>\n",
       "      <th>country_TUR</th>\n",
       "      <th>country_TWN</th>\n",
       "      <th>country_TZA</th>\n",
       "      <th>country_UGA</th>\n",
       "      <th>country_UKR</th>\n",
       "      <th>country_URY</th>\n",
       "      <th>country_USA</th>\n",
       "      <th>country_UZB</th>\n",
       "      <th>country_VEN</th>\n",
       "      <th>country_VNM</th>\n",
       "      <th>country_ZAF</th>\n",
       "      <th>country_ZMB</th>\n",
       "      <th>country_ZWE</th>\n",
       "      <th>market_segment_Aviation</th>\n",
       "      <th>market_segment_Complementary</th>\n",
       "      <th>market_segment_Corporate</th>\n",
       "      <th>market_segment_Direct</th>\n",
       "      <th>market_segment_Groups</th>\n",
       "      <th>market_segment_Offline TA/TO</th>\n",
       "      <th>market_segment_Online TA</th>\n",
       "      <th>market_segment_Undefined</th>\n",
       "      <th>reserved_room_type_A</th>\n",
       "      <th>reserved_room_type_B</th>\n",
       "      <th>reserved_room_type_C</th>\n",
       "      <th>reserved_room_type_D</th>\n",
       "      <th>reserved_room_type_E</th>\n",
       "      <th>reserved_room_type_F</th>\n",
       "      <th>reserved_room_type_G</th>\n",
       "      <th>reserved_room_type_H</th>\n",
       "      <th>reserved_room_type_L</th>\n",
       "      <th>reserved_room_type_P</th>\n",
       "      <th>deposit_type_No Deposit</th>\n",
       "      <th>deposit_type_Non Refund</th>\n",
       "      <th>deposit_type_Refundable</th>\n",
       "      <th>customer_type_Contract</th>\n",
       "      <th>customer_type_Group</th>\n",
       "      <th>customer_type_Transient</th>\n",
       "      <th>customer_type_Transient-Party</th>\n",
       "      <th>agent_group_1</th>\n",
       "      <th>agent_group_240</th>\n",
       "      <th>agent_group_9</th>\n",
       "      <th>agent_group_999</th>\n",
       "      <th>arrival_day_Friday</th>\n",
       "      <th>arrival_day_Monday</th>\n",
       "      <th>arrival_day_Saturday</th>\n",
       "      <th>arrival_day_Sunday</th>\n",
       "      <th>arrival_day_Thursday</th>\n",
       "      <th>arrival_day_Tuesday</th>\n",
       "      <th>arrival_day_Wednesday</th>\n",
       "    </tr>\n",
       "  </thead>\n",
       "  <tbody>\n",
       "    <tr>\n",
       "      <th>67110</th>\n",
       "      <td>0.52</td>\n",
       "      <td>-0.75</td>\n",
       "      <td>1.39</td>\n",
       "      <td>0.07</td>\n",
       "      <td>-0.26</td>\n",
       "      <td>0.24</td>\n",
       "      <td>-0.26</td>\n",
       "      <td>-0.08</td>\n",
       "      <td>-0.18</td>\n",
       "      <td>-0.10</td>\n",
       "      <td>-0.09</td>\n",
       "      <td>-0.33</td>\n",
       "      <td>-0.13</td>\n",
       "      <td>0.56</td>\n",
       "      <td>-0.25</td>\n",
       "      <td>-0.72</td>\n",
       "      <td>1.00</td>\n",
       "      <td>0.00</td>\n",
       "      <td>1.00</td>\n",
       "      <td>0.00</td>\n",
       "      <td>0.00</td>\n",
       "      <td>0.00</td>\n",
       "      <td>0.00</td>\n",
       "      <td>0.00</td>\n",
       "      <td>0.00</td>\n",
       "      <td>0.00</td>\n",
       "      <td>0.00</td>\n",
       "      <td>0.00</td>\n",
       "      <td>0.00</td>\n",
       "      <td>0.00</td>\n",
       "      <td>1.00</td>\n",
       "      <td>0.00</td>\n",
       "      <td>0.00</td>\n",
       "      <td>0.00</td>\n",
       "      <td>0.00</td>\n",
       "      <td>0.00</td>\n",
       "      <td>0.00</td>\n",
       "      <td>0.00</td>\n",
       "      <td>0.00</td>\n",
       "      <td>0.00</td>\n",
       "      <td>0.00</td>\n",
       "      <td>0.00</td>\n",
       "      <td>0.00</td>\n",
       "      <td>0.00</td>\n",
       "      <td>0.00</td>\n",
       "      <td>0.00</td>\n",
       "      <td>0.00</td>\n",
       "      <td>0.00</td>\n",
       "      <td>0.00</td>\n",
       "      <td>1.00</td>\n",
       "      <td>...</td>\n",
       "      <td>0.00</td>\n",
       "      <td>0.00</td>\n",
       "      <td>0.00</td>\n",
       "      <td>0.00</td>\n",
       "      <td>0.00</td>\n",
       "      <td>0.00</td>\n",
       "      <td>0.00</td>\n",
       "      <td>0.00</td>\n",
       "      <td>0.00</td>\n",
       "      <td>0.00</td>\n",
       "      <td>0.00</td>\n",
       "      <td>0.00</td>\n",
       "      <td>0.00</td>\n",
       "      <td>0.00</td>\n",
       "      <td>0.00</td>\n",
       "      <td>0.00</td>\n",
       "      <td>0.00</td>\n",
       "      <td>0.00</td>\n",
       "      <td>0.00</td>\n",
       "      <td>0.00</td>\n",
       "      <td>1.00</td>\n",
       "      <td>0.00</td>\n",
       "      <td>0.00</td>\n",
       "      <td>0.00</td>\n",
       "      <td>0.00</td>\n",
       "      <td>1.00</td>\n",
       "      <td>0.00</td>\n",
       "      <td>0.00</td>\n",
       "      <td>0.00</td>\n",
       "      <td>0.00</td>\n",
       "      <td>0.00</td>\n",
       "      <td>0.00</td>\n",
       "      <td>1.00</td>\n",
       "      <td>0.00</td>\n",
       "      <td>0.00</td>\n",
       "      <td>0.00</td>\n",
       "      <td>0.00</td>\n",
       "      <td>1.00</td>\n",
       "      <td>0.00</td>\n",
       "      <td>0.00</td>\n",
       "      <td>0.00</td>\n",
       "      <td>1.00</td>\n",
       "      <td>0.00</td>\n",
       "      <td>1.00</td>\n",
       "      <td>0.00</td>\n",
       "      <td>0.00</td>\n",
       "      <td>0.00</td>\n",
       "      <td>0.00</td>\n",
       "      <td>0.00</td>\n",
       "      <td>0.00</td>\n",
       "    </tr>\n",
       "    <tr>\n",
       "      <th>95128</th>\n",
       "      <td>0.42</td>\n",
       "      <td>0.43</td>\n",
       "      <td>-0.43</td>\n",
       "      <td>0.07</td>\n",
       "      <td>-0.26</td>\n",
       "      <td>0.24</td>\n",
       "      <td>4.77</td>\n",
       "      <td>-0.08</td>\n",
       "      <td>-0.18</td>\n",
       "      <td>-0.10</td>\n",
       "      <td>-0.09</td>\n",
       "      <td>-0.33</td>\n",
       "      <td>-0.13</td>\n",
       "      <td>1.83</td>\n",
       "      <td>3.85</td>\n",
       "      <td>0.54</td>\n",
       "      <td>1.00</td>\n",
       "      <td>0.00</td>\n",
       "      <td>0.00</td>\n",
       "      <td>1.00</td>\n",
       "      <td>0.00</td>\n",
       "      <td>0.00</td>\n",
       "      <td>0.00</td>\n",
       "      <td>0.00</td>\n",
       "      <td>0.00</td>\n",
       "      <td>0.00</td>\n",
       "      <td>0.00</td>\n",
       "      <td>0.00</td>\n",
       "      <td>0.00</td>\n",
       "      <td>0.00</td>\n",
       "      <td>1.00</td>\n",
       "      <td>0.00</td>\n",
       "      <td>0.00</td>\n",
       "      <td>0.00</td>\n",
       "      <td>0.00</td>\n",
       "      <td>0.00</td>\n",
       "      <td>0.00</td>\n",
       "      <td>0.00</td>\n",
       "      <td>0.00</td>\n",
       "      <td>0.00</td>\n",
       "      <td>0.00</td>\n",
       "      <td>0.00</td>\n",
       "      <td>0.00</td>\n",
       "      <td>0.00</td>\n",
       "      <td>0.00</td>\n",
       "      <td>0.00</td>\n",
       "      <td>0.00</td>\n",
       "      <td>0.00</td>\n",
       "      <td>0.00</td>\n",
       "      <td>0.00</td>\n",
       "      <td>...</td>\n",
       "      <td>0.00</td>\n",
       "      <td>0.00</td>\n",
       "      <td>0.00</td>\n",
       "      <td>0.00</td>\n",
       "      <td>0.00</td>\n",
       "      <td>0.00</td>\n",
       "      <td>0.00</td>\n",
       "      <td>0.00</td>\n",
       "      <td>0.00</td>\n",
       "      <td>0.00</td>\n",
       "      <td>0.00</td>\n",
       "      <td>0.00</td>\n",
       "      <td>0.00</td>\n",
       "      <td>0.00</td>\n",
       "      <td>0.00</td>\n",
       "      <td>0.00</td>\n",
       "      <td>0.00</td>\n",
       "      <td>0.00</td>\n",
       "      <td>0.00</td>\n",
       "      <td>0.00</td>\n",
       "      <td>1.00</td>\n",
       "      <td>0.00</td>\n",
       "      <td>0.00</td>\n",
       "      <td>0.00</td>\n",
       "      <td>0.00</td>\n",
       "      <td>0.00</td>\n",
       "      <td>0.00</td>\n",
       "      <td>1.00</td>\n",
       "      <td>0.00</td>\n",
       "      <td>0.00</td>\n",
       "      <td>0.00</td>\n",
       "      <td>0.00</td>\n",
       "      <td>1.00</td>\n",
       "      <td>0.00</td>\n",
       "      <td>0.00</td>\n",
       "      <td>0.00</td>\n",
       "      <td>0.00</td>\n",
       "      <td>1.00</td>\n",
       "      <td>0.00</td>\n",
       "      <td>0.00</td>\n",
       "      <td>0.00</td>\n",
       "      <td>1.00</td>\n",
       "      <td>0.00</td>\n",
       "      <td>1.00</td>\n",
       "      <td>0.00</td>\n",
       "      <td>0.00</td>\n",
       "      <td>0.00</td>\n",
       "      <td>0.00</td>\n",
       "      <td>0.00</td>\n",
       "      <td>0.00</td>\n",
       "    </tr>\n",
       "    <tr>\n",
       "      <th>49525</th>\n",
       "      <td>0.21</td>\n",
       "      <td>-0.82</td>\n",
       "      <td>-0.21</td>\n",
       "      <td>-0.93</td>\n",
       "      <td>0.26</td>\n",
       "      <td>0.24</td>\n",
       "      <td>-0.26</td>\n",
       "      <td>-0.08</td>\n",
       "      <td>-0.18</td>\n",
       "      <td>-0.10</td>\n",
       "      <td>-0.09</td>\n",
       "      <td>-0.33</td>\n",
       "      <td>2.15</td>\n",
       "      <td>-0.72</td>\n",
       "      <td>-0.25</td>\n",
       "      <td>-0.72</td>\n",
       "      <td>1.00</td>\n",
       "      <td>0.00</td>\n",
       "      <td>1.00</td>\n",
       "      <td>0.00</td>\n",
       "      <td>0.00</td>\n",
       "      <td>0.00</td>\n",
       "      <td>0.00</td>\n",
       "      <td>0.00</td>\n",
       "      <td>0.00</td>\n",
       "      <td>0.00</td>\n",
       "      <td>0.00</td>\n",
       "      <td>0.00</td>\n",
       "      <td>0.00</td>\n",
       "      <td>0.00</td>\n",
       "      <td>1.00</td>\n",
       "      <td>0.00</td>\n",
       "      <td>0.00</td>\n",
       "      <td>0.00</td>\n",
       "      <td>0.00</td>\n",
       "      <td>0.00</td>\n",
       "      <td>0.00</td>\n",
       "      <td>0.00</td>\n",
       "      <td>0.00</td>\n",
       "      <td>0.00</td>\n",
       "      <td>0.00</td>\n",
       "      <td>0.00</td>\n",
       "      <td>0.00</td>\n",
       "      <td>0.00</td>\n",
       "      <td>0.00</td>\n",
       "      <td>0.00</td>\n",
       "      <td>0.00</td>\n",
       "      <td>0.00</td>\n",
       "      <td>0.00</td>\n",
       "      <td>0.00</td>\n",
       "      <td>...</td>\n",
       "      <td>0.00</td>\n",
       "      <td>0.00</td>\n",
       "      <td>0.00</td>\n",
       "      <td>0.00</td>\n",
       "      <td>0.00</td>\n",
       "      <td>0.00</td>\n",
       "      <td>0.00</td>\n",
       "      <td>0.00</td>\n",
       "      <td>0.00</td>\n",
       "      <td>0.00</td>\n",
       "      <td>0.00</td>\n",
       "      <td>0.00</td>\n",
       "      <td>0.00</td>\n",
       "      <td>0.00</td>\n",
       "      <td>0.00</td>\n",
       "      <td>0.00</td>\n",
       "      <td>0.00</td>\n",
       "      <td>0.00</td>\n",
       "      <td>1.00</td>\n",
       "      <td>0.00</td>\n",
       "      <td>0.00</td>\n",
       "      <td>0.00</td>\n",
       "      <td>1.00</td>\n",
       "      <td>0.00</td>\n",
       "      <td>0.00</td>\n",
       "      <td>0.00</td>\n",
       "      <td>0.00</td>\n",
       "      <td>0.00</td>\n",
       "      <td>0.00</td>\n",
       "      <td>0.00</td>\n",
       "      <td>0.00</td>\n",
       "      <td>0.00</td>\n",
       "      <td>0.00</td>\n",
       "      <td>1.00</td>\n",
       "      <td>0.00</td>\n",
       "      <td>0.00</td>\n",
       "      <td>0.00</td>\n",
       "      <td>1.00</td>\n",
       "      <td>0.00</td>\n",
       "      <td>1.00</td>\n",
       "      <td>0.00</td>\n",
       "      <td>0.00</td>\n",
       "      <td>0.00</td>\n",
       "      <td>0.00</td>\n",
       "      <td>0.00</td>\n",
       "      <td>0.00</td>\n",
       "      <td>0.00</td>\n",
       "      <td>1.00</td>\n",
       "      <td>0.00</td>\n",
       "      <td>0.00</td>\n",
       "    </tr>\n",
       "    <tr>\n",
       "      <th>51609</th>\n",
       "      <td>-0.06</td>\n",
       "      <td>-0.38</td>\n",
       "      <td>0.70</td>\n",
       "      <td>1.07</td>\n",
       "      <td>-0.26</td>\n",
       "      <td>0.24</td>\n",
       "      <td>-0.26</td>\n",
       "      <td>-0.08</td>\n",
       "      <td>-0.18</td>\n",
       "      <td>-0.10</td>\n",
       "      <td>-0.09</td>\n",
       "      <td>1.18</td>\n",
       "      <td>-0.13</td>\n",
       "      <td>0.20</td>\n",
       "      <td>-0.25</td>\n",
       "      <td>-0.72</td>\n",
       "      <td>1.00</td>\n",
       "      <td>0.00</td>\n",
       "      <td>0.00</td>\n",
       "      <td>0.00</td>\n",
       "      <td>0.00</td>\n",
       "      <td>0.00</td>\n",
       "      <td>0.00</td>\n",
       "      <td>0.00</td>\n",
       "      <td>0.00</td>\n",
       "      <td>0.00</td>\n",
       "      <td>1.00</td>\n",
       "      <td>0.00</td>\n",
       "      <td>0.00</td>\n",
       "      <td>0.00</td>\n",
       "      <td>1.00</td>\n",
       "      <td>0.00</td>\n",
       "      <td>0.00</td>\n",
       "      <td>0.00</td>\n",
       "      <td>0.00</td>\n",
       "      <td>0.00</td>\n",
       "      <td>0.00</td>\n",
       "      <td>0.00</td>\n",
       "      <td>0.00</td>\n",
       "      <td>0.00</td>\n",
       "      <td>0.00</td>\n",
       "      <td>0.00</td>\n",
       "      <td>0.00</td>\n",
       "      <td>0.00</td>\n",
       "      <td>0.00</td>\n",
       "      <td>0.00</td>\n",
       "      <td>0.00</td>\n",
       "      <td>0.00</td>\n",
       "      <td>0.00</td>\n",
       "      <td>0.00</td>\n",
       "      <td>...</td>\n",
       "      <td>0.00</td>\n",
       "      <td>0.00</td>\n",
       "      <td>0.00</td>\n",
       "      <td>0.00</td>\n",
       "      <td>0.00</td>\n",
       "      <td>0.00</td>\n",
       "      <td>0.00</td>\n",
       "      <td>0.00</td>\n",
       "      <td>0.00</td>\n",
       "      <td>0.00</td>\n",
       "      <td>0.00</td>\n",
       "      <td>0.00</td>\n",
       "      <td>0.00</td>\n",
       "      <td>0.00</td>\n",
       "      <td>0.00</td>\n",
       "      <td>0.00</td>\n",
       "      <td>0.00</td>\n",
       "      <td>0.00</td>\n",
       "      <td>0.00</td>\n",
       "      <td>0.00</td>\n",
       "      <td>1.00</td>\n",
       "      <td>0.00</td>\n",
       "      <td>0.00</td>\n",
       "      <td>1.00</td>\n",
       "      <td>0.00</td>\n",
       "      <td>0.00</td>\n",
       "      <td>0.00</td>\n",
       "      <td>0.00</td>\n",
       "      <td>0.00</td>\n",
       "      <td>0.00</td>\n",
       "      <td>0.00</td>\n",
       "      <td>0.00</td>\n",
       "      <td>1.00</td>\n",
       "      <td>0.00</td>\n",
       "      <td>0.00</td>\n",
       "      <td>0.00</td>\n",
       "      <td>0.00</td>\n",
       "      <td>1.00</td>\n",
       "      <td>0.00</td>\n",
       "      <td>0.00</td>\n",
       "      <td>0.00</td>\n",
       "      <td>1.00</td>\n",
       "      <td>0.00</td>\n",
       "      <td>0.00</td>\n",
       "      <td>0.00</td>\n",
       "      <td>0.00</td>\n",
       "      <td>1.00</td>\n",
       "      <td>0.00</td>\n",
       "      <td>0.00</td>\n",
       "      <td>0.00</td>\n",
       "    </tr>\n",
       "    <tr>\n",
       "      <th>73555</th>\n",
       "      <td>-0.71</td>\n",
       "      <td>0.50</td>\n",
       "      <td>1.16</td>\n",
       "      <td>0.07</td>\n",
       "      <td>-0.78</td>\n",
       "      <td>0.24</td>\n",
       "      <td>-0.26</td>\n",
       "      <td>-0.08</td>\n",
       "      <td>-0.18</td>\n",
       "      <td>-0.10</td>\n",
       "      <td>-0.09</td>\n",
       "      <td>-0.33</td>\n",
       "      <td>-0.13</td>\n",
       "      <td>0.25</td>\n",
       "      <td>-0.25</td>\n",
       "      <td>1.80</td>\n",
       "      <td>1.00</td>\n",
       "      <td>0.00</td>\n",
       "      <td>0.00</td>\n",
       "      <td>1.00</td>\n",
       "      <td>0.00</td>\n",
       "      <td>0.00</td>\n",
       "      <td>0.00</td>\n",
       "      <td>0.00</td>\n",
       "      <td>0.00</td>\n",
       "      <td>0.00</td>\n",
       "      <td>0.00</td>\n",
       "      <td>0.00</td>\n",
       "      <td>0.00</td>\n",
       "      <td>0.00</td>\n",
       "      <td>0.00</td>\n",
       "      <td>0.00</td>\n",
       "      <td>0.00</td>\n",
       "      <td>1.00</td>\n",
       "      <td>0.00</td>\n",
       "      <td>0.00</td>\n",
       "      <td>0.00</td>\n",
       "      <td>0.00</td>\n",
       "      <td>0.00</td>\n",
       "      <td>0.00</td>\n",
       "      <td>0.00</td>\n",
       "      <td>0.00</td>\n",
       "      <td>0.00</td>\n",
       "      <td>0.00</td>\n",
       "      <td>0.00</td>\n",
       "      <td>0.00</td>\n",
       "      <td>0.00</td>\n",
       "      <td>0.00</td>\n",
       "      <td>0.00</td>\n",
       "      <td>0.00</td>\n",
       "      <td>...</td>\n",
       "      <td>0.00</td>\n",
       "      <td>0.00</td>\n",
       "      <td>0.00</td>\n",
       "      <td>0.00</td>\n",
       "      <td>0.00</td>\n",
       "      <td>0.00</td>\n",
       "      <td>0.00</td>\n",
       "      <td>0.00</td>\n",
       "      <td>0.00</td>\n",
       "      <td>0.00</td>\n",
       "      <td>0.00</td>\n",
       "      <td>0.00</td>\n",
       "      <td>0.00</td>\n",
       "      <td>0.00</td>\n",
       "      <td>0.00</td>\n",
       "      <td>0.00</td>\n",
       "      <td>0.00</td>\n",
       "      <td>0.00</td>\n",
       "      <td>0.00</td>\n",
       "      <td>0.00</td>\n",
       "      <td>1.00</td>\n",
       "      <td>0.00</td>\n",
       "      <td>1.00</td>\n",
       "      <td>0.00</td>\n",
       "      <td>0.00</td>\n",
       "      <td>0.00</td>\n",
       "      <td>0.00</td>\n",
       "      <td>0.00</td>\n",
       "      <td>0.00</td>\n",
       "      <td>0.00</td>\n",
       "      <td>0.00</td>\n",
       "      <td>0.00</td>\n",
       "      <td>1.00</td>\n",
       "      <td>0.00</td>\n",
       "      <td>0.00</td>\n",
       "      <td>0.00</td>\n",
       "      <td>0.00</td>\n",
       "      <td>1.00</td>\n",
       "      <td>0.00</td>\n",
       "      <td>0.00</td>\n",
       "      <td>0.00</td>\n",
       "      <td>1.00</td>\n",
       "      <td>0.00</td>\n",
       "      <td>0.00</td>\n",
       "      <td>0.00</td>\n",
       "      <td>1.00</td>\n",
       "      <td>0.00</td>\n",
       "      <td>0.00</td>\n",
       "      <td>0.00</td>\n",
       "      <td>0.00</td>\n",
       "    </tr>\n",
       "  </tbody>\n",
       "</table>\n",
       "<p>5 rows × 238 columns</p>\n",
       "</div>"
      ],
      "text/plain": [
       "       lead_time  arrival_date_week_number  arrival_date_day_of_month  \\\n",
       "67110       0.52                     -0.75                       1.39   \n",
       "95128       0.42                      0.43                      -0.43   \n",
       "49525       0.21                     -0.82                      -0.21   \n",
       "51609      -0.06                     -0.38                       0.70   \n",
       "73555      -0.71                      0.50                       1.16   \n",
       "\n",
       "       stays_in_weekend_nights  stays_in_week_nights  adults  children  \\\n",
       "67110                     0.07                 -0.26    0.24     -0.26   \n",
       "95128                     0.07                 -0.26    0.24      4.77   \n",
       "49525                    -0.93                  0.26    0.24     -0.26   \n",
       "51609                     1.07                 -0.26    0.24     -0.26   \n",
       "73555                     0.07                 -0.78    0.24     -0.26   \n",
       "\n",
       "       babies  is_repeated_guest  previous_cancellations  \\\n",
       "67110   -0.08              -0.18                   -0.10   \n",
       "95128   -0.08              -0.18                   -0.10   \n",
       "49525   -0.08              -0.18                   -0.10   \n",
       "51609   -0.08              -0.18                   -0.10   \n",
       "73555   -0.08              -0.18                   -0.10   \n",
       "\n",
       "       previous_bookings_not_canceled  booking_changes  days_in_waiting_list  \\\n",
       "67110                           -0.09            -0.33                 -0.13   \n",
       "95128                           -0.09            -0.33                 -0.13   \n",
       "49525                           -0.09            -0.33                  2.15   \n",
       "51609                           -0.09             1.18                 -0.13   \n",
       "73555                           -0.09            -0.33                 -0.13   \n",
       "\n",
       "        adr  required_car_parking_spaces  total_of_special_requests  \\\n",
       "67110  0.56                        -0.25                      -0.72   \n",
       "95128  1.83                         3.85                       0.54   \n",
       "49525 -0.72                        -0.25                      -0.72   \n",
       "51609  0.20                        -0.25                      -0.72   \n",
       "73555  0.25                        -0.25                       1.80   \n",
       "\n",
       "       hotel_City Hotel  hotel_Resort Hotel  arrival_date_month_April  \\\n",
       "67110              1.00                0.00                      1.00   \n",
       "95128              1.00                0.00                      0.00   \n",
       "49525              1.00                0.00                      1.00   \n",
       "51609              1.00                0.00                      0.00   \n",
       "73555              1.00                0.00                      0.00   \n",
       "\n",
       "       arrival_date_month_August  arrival_date_month_December  \\\n",
       "67110                       0.00                         0.00   \n",
       "95128                       1.00                         0.00   \n",
       "49525                       0.00                         0.00   \n",
       "51609                       0.00                         0.00   \n",
       "73555                       1.00                         0.00   \n",
       "\n",
       "       arrival_date_month_February  arrival_date_month_January  \\\n",
       "67110                         0.00                        0.00   \n",
       "95128                         0.00                        0.00   \n",
       "49525                         0.00                        0.00   \n",
       "51609                         0.00                        0.00   \n",
       "73555                         0.00                        0.00   \n",
       "\n",
       "       arrival_date_month_July  arrival_date_month_June  \\\n",
       "67110                     0.00                     0.00   \n",
       "95128                     0.00                     0.00   \n",
       "49525                     0.00                     0.00   \n",
       "51609                     0.00                     0.00   \n",
       "73555                     0.00                     0.00   \n",
       "\n",
       "       arrival_date_month_March  arrival_date_month_May  \\\n",
       "67110                      0.00                    0.00   \n",
       "95128                      0.00                    0.00   \n",
       "49525                      0.00                    0.00   \n",
       "51609                      0.00                    1.00   \n",
       "73555                      0.00                    0.00   \n",
       "\n",
       "       arrival_date_month_November  arrival_date_month_October  \\\n",
       "67110                         0.00                        0.00   \n",
       "95128                         0.00                        0.00   \n",
       "49525                         0.00                        0.00   \n",
       "51609                         0.00                        0.00   \n",
       "73555                         0.00                        0.00   \n",
       "\n",
       "       arrival_date_month_September  meal_BB  meal_FB  meal_HB  meal_SC  \\\n",
       "67110                          0.00     1.00     0.00     0.00     0.00   \n",
       "95128                          0.00     1.00     0.00     0.00     0.00   \n",
       "49525                          0.00     1.00     0.00     0.00     0.00   \n",
       "51609                          0.00     1.00     0.00     0.00     0.00   \n",
       "73555                          0.00     0.00     0.00     0.00     1.00   \n",
       "\n",
       "       meal_Undefined  country_ABW  country_AGO  country_AIA  country_ALB  \\\n",
       "67110            0.00         0.00         0.00         0.00         0.00   \n",
       "95128            0.00         0.00         0.00         0.00         0.00   \n",
       "49525            0.00         0.00         0.00         0.00         0.00   \n",
       "51609            0.00         0.00         0.00         0.00         0.00   \n",
       "73555            0.00         0.00         0.00         0.00         0.00   \n",
       "\n",
       "       country_AND  country_ARE  country_ARG  country_ARM  country_ASM  \\\n",
       "67110         0.00         0.00         0.00         0.00         0.00   \n",
       "95128         0.00         0.00         0.00         0.00         0.00   \n",
       "49525         0.00         0.00         0.00         0.00         0.00   \n",
       "51609         0.00         0.00         0.00         0.00         0.00   \n",
       "73555         0.00         0.00         0.00         0.00         0.00   \n",
       "\n",
       "       country_ATA  country_ATF  country_AUS  country_AUT  country_AZE  \\\n",
       "67110         0.00         0.00         0.00         0.00         0.00   \n",
       "95128         0.00         0.00         0.00         0.00         0.00   \n",
       "49525         0.00         0.00         0.00         0.00         0.00   \n",
       "51609         0.00         0.00         0.00         0.00         0.00   \n",
       "73555         0.00         0.00         0.00         0.00         0.00   \n",
       "\n",
       "       country_BEL  ...  country_TUN  country_TUR  country_TWN  country_TZA  \\\n",
       "67110         1.00  ...         0.00         0.00         0.00         0.00   \n",
       "95128         0.00  ...         0.00         0.00         0.00         0.00   \n",
       "49525         0.00  ...         0.00         0.00         0.00         0.00   \n",
       "51609         0.00  ...         0.00         0.00         0.00         0.00   \n",
       "73555         0.00  ...         0.00         0.00         0.00         0.00   \n",
       "\n",
       "       country_UGA  country_UKR  country_URY  country_USA  country_UZB  \\\n",
       "67110         0.00         0.00         0.00         0.00         0.00   \n",
       "95128         0.00         0.00         0.00         0.00         0.00   \n",
       "49525         0.00         0.00         0.00         0.00         0.00   \n",
       "51609         0.00         0.00         0.00         0.00         0.00   \n",
       "73555         0.00         0.00         0.00         0.00         0.00   \n",
       "\n",
       "       country_VEN  country_VNM  country_ZAF  country_ZMB  country_ZWE  \\\n",
       "67110         0.00         0.00         0.00         0.00         0.00   \n",
       "95128         0.00         0.00         0.00         0.00         0.00   \n",
       "49525         0.00         0.00         0.00         0.00         0.00   \n",
       "51609         0.00         0.00         0.00         0.00         0.00   \n",
       "73555         0.00         0.00         0.00         0.00         0.00   \n",
       "\n",
       "       market_segment_Aviation  market_segment_Complementary  \\\n",
       "67110                     0.00                          0.00   \n",
       "95128                     0.00                          0.00   \n",
       "49525                     0.00                          0.00   \n",
       "51609                     0.00                          0.00   \n",
       "73555                     0.00                          0.00   \n",
       "\n",
       "       market_segment_Corporate  market_segment_Direct  market_segment_Groups  \\\n",
       "67110                      0.00                   0.00                   0.00   \n",
       "95128                      0.00                   0.00                   0.00   \n",
       "49525                      0.00                   0.00                   1.00   \n",
       "51609                      0.00                   0.00                   0.00   \n",
       "73555                      0.00                   0.00                   0.00   \n",
       "\n",
       "       market_segment_Offline TA/TO  market_segment_Online TA  \\\n",
       "67110                          0.00                      1.00   \n",
       "95128                          0.00                      1.00   \n",
       "49525                          0.00                      0.00   \n",
       "51609                          0.00                      1.00   \n",
       "73555                          0.00                      1.00   \n",
       "\n",
       "       market_segment_Undefined  reserved_room_type_A  reserved_room_type_B  \\\n",
       "67110                      0.00                  0.00                  0.00   \n",
       "95128                      0.00                  0.00                  0.00   \n",
       "49525                      0.00                  1.00                  0.00   \n",
       "51609                      0.00                  0.00                  1.00   \n",
       "73555                      0.00                  1.00                  0.00   \n",
       "\n",
       "       reserved_room_type_C  reserved_room_type_D  reserved_room_type_E  \\\n",
       "67110                  0.00                  1.00                  0.00   \n",
       "95128                  0.00                  0.00                  0.00   \n",
       "49525                  0.00                  0.00                  0.00   \n",
       "51609                  0.00                  0.00                  0.00   \n",
       "73555                  0.00                  0.00                  0.00   \n",
       "\n",
       "       reserved_room_type_F  reserved_room_type_G  reserved_room_type_H  \\\n",
       "67110                  0.00                  0.00                  0.00   \n",
       "95128                  1.00                  0.00                  0.00   \n",
       "49525                  0.00                  0.00                  0.00   \n",
       "51609                  0.00                  0.00                  0.00   \n",
       "73555                  0.00                  0.00                  0.00   \n",
       "\n",
       "       reserved_room_type_L  reserved_room_type_P  deposit_type_No Deposit  \\\n",
       "67110                  0.00                  0.00                     1.00   \n",
       "95128                  0.00                  0.00                     1.00   \n",
       "49525                  0.00                  0.00                     0.00   \n",
       "51609                  0.00                  0.00                     1.00   \n",
       "73555                  0.00                  0.00                     1.00   \n",
       "\n",
       "       deposit_type_Non Refund  deposit_type_Refundable  \\\n",
       "67110                     0.00                     0.00   \n",
       "95128                     0.00                     0.00   \n",
       "49525                     1.00                     0.00   \n",
       "51609                     0.00                     0.00   \n",
       "73555                     0.00                     0.00   \n",
       "\n",
       "       customer_type_Contract  customer_type_Group  customer_type_Transient  \\\n",
       "67110                    0.00                 0.00                     1.00   \n",
       "95128                    0.00                 0.00                     1.00   \n",
       "49525                    0.00                 0.00                     1.00   \n",
       "51609                    0.00                 0.00                     1.00   \n",
       "73555                    0.00                 0.00                     1.00   \n",
       "\n",
       "       customer_type_Transient-Party  agent_group_1  agent_group_240  \\\n",
       "67110                           0.00           0.00             0.00   \n",
       "95128                           0.00           0.00             0.00   \n",
       "49525                           0.00           1.00             0.00   \n",
       "51609                           0.00           0.00             0.00   \n",
       "73555                           0.00           0.00             0.00   \n",
       "\n",
       "       agent_group_9  agent_group_999  arrival_day_Friday  arrival_day_Monday  \\\n",
       "67110           1.00             0.00                1.00                0.00   \n",
       "95128           1.00             0.00                1.00                0.00   \n",
       "49525           0.00             0.00                0.00                0.00   \n",
       "51609           1.00             0.00                0.00                0.00   \n",
       "73555           1.00             0.00                0.00                0.00   \n",
       "\n",
       "       arrival_day_Saturday  arrival_day_Sunday  arrival_day_Thursday  \\\n",
       "67110                  0.00                0.00                  0.00   \n",
       "95128                  0.00                0.00                  0.00   \n",
       "49525                  0.00                0.00                  1.00   \n",
       "51609                  0.00                1.00                  0.00   \n",
       "73555                  1.00                0.00                  0.00   \n",
       "\n",
       "       arrival_day_Tuesday  arrival_day_Wednesday  \n",
       "67110                 0.00                   0.00  \n",
       "95128                 0.00                   0.00  \n",
       "49525                 0.00                   0.00  \n",
       "51609                 0.00                   0.00  \n",
       "73555                 0.00                   0.00  \n",
       "\n",
       "[5 rows x 238 columns]"
      ]
     },
     "metadata": {},
     "output_type": "display_data"
    },
    {
     "data": {
      "text/html": [
       "<div>\n",
       "<style scoped>\n",
       "    .dataframe tbody tr th:only-of-type {\n",
       "        vertical-align: middle;\n",
       "    }\n",
       "\n",
       "    .dataframe tbody tr th {\n",
       "        vertical-align: top;\n",
       "    }\n",
       "\n",
       "    .dataframe thead th {\n",
       "        text-align: right;\n",
       "    }\n",
       "</style>\n",
       "<table border=\"1\" class=\"dataframe\">\n",
       "  <thead>\n",
       "    <tr style=\"text-align: right;\">\n",
       "      <th></th>\n",
       "      <th>lead_time</th>\n",
       "      <th>arrival_date_week_number</th>\n",
       "      <th>arrival_date_day_of_month</th>\n",
       "      <th>stays_in_weekend_nights</th>\n",
       "      <th>stays_in_week_nights</th>\n",
       "      <th>adults</th>\n",
       "      <th>children</th>\n",
       "      <th>babies</th>\n",
       "      <th>is_repeated_guest</th>\n",
       "      <th>previous_cancellations</th>\n",
       "      <th>previous_bookings_not_canceled</th>\n",
       "      <th>booking_changes</th>\n",
       "      <th>days_in_waiting_list</th>\n",
       "      <th>adr</th>\n",
       "      <th>required_car_parking_spaces</th>\n",
       "      <th>total_of_special_requests</th>\n",
       "      <th>hotel_City Hotel</th>\n",
       "      <th>hotel_Resort Hotel</th>\n",
       "      <th>arrival_date_month_April</th>\n",
       "      <th>arrival_date_month_August</th>\n",
       "      <th>arrival_date_month_December</th>\n",
       "      <th>arrival_date_month_February</th>\n",
       "      <th>arrival_date_month_January</th>\n",
       "      <th>arrival_date_month_July</th>\n",
       "      <th>arrival_date_month_June</th>\n",
       "      <th>arrival_date_month_March</th>\n",
       "      <th>arrival_date_month_May</th>\n",
       "      <th>arrival_date_month_November</th>\n",
       "      <th>arrival_date_month_October</th>\n",
       "      <th>arrival_date_month_September</th>\n",
       "      <th>meal_BB</th>\n",
       "      <th>meal_FB</th>\n",
       "      <th>meal_HB</th>\n",
       "      <th>meal_SC</th>\n",
       "      <th>meal_Undefined</th>\n",
       "      <th>country_ABW</th>\n",
       "      <th>country_AGO</th>\n",
       "      <th>country_AIA</th>\n",
       "      <th>country_ALB</th>\n",
       "      <th>country_AND</th>\n",
       "      <th>country_ARE</th>\n",
       "      <th>country_ARG</th>\n",
       "      <th>country_ARM</th>\n",
       "      <th>country_ASM</th>\n",
       "      <th>country_ATA</th>\n",
       "      <th>country_ATF</th>\n",
       "      <th>country_AUS</th>\n",
       "      <th>country_AUT</th>\n",
       "      <th>country_AZE</th>\n",
       "      <th>country_BEL</th>\n",
       "      <th>...</th>\n",
       "      <th>country_TUN</th>\n",
       "      <th>country_TUR</th>\n",
       "      <th>country_TWN</th>\n",
       "      <th>country_TZA</th>\n",
       "      <th>country_UGA</th>\n",
       "      <th>country_UKR</th>\n",
       "      <th>country_URY</th>\n",
       "      <th>country_USA</th>\n",
       "      <th>country_UZB</th>\n",
       "      <th>country_VEN</th>\n",
       "      <th>country_VNM</th>\n",
       "      <th>country_ZAF</th>\n",
       "      <th>country_ZMB</th>\n",
       "      <th>country_ZWE</th>\n",
       "      <th>market_segment_Aviation</th>\n",
       "      <th>market_segment_Complementary</th>\n",
       "      <th>market_segment_Corporate</th>\n",
       "      <th>market_segment_Direct</th>\n",
       "      <th>market_segment_Groups</th>\n",
       "      <th>market_segment_Offline TA/TO</th>\n",
       "      <th>market_segment_Online TA</th>\n",
       "      <th>market_segment_Undefined</th>\n",
       "      <th>reserved_room_type_A</th>\n",
       "      <th>reserved_room_type_B</th>\n",
       "      <th>reserved_room_type_C</th>\n",
       "      <th>reserved_room_type_D</th>\n",
       "      <th>reserved_room_type_E</th>\n",
       "      <th>reserved_room_type_F</th>\n",
       "      <th>reserved_room_type_G</th>\n",
       "      <th>reserved_room_type_H</th>\n",
       "      <th>reserved_room_type_L</th>\n",
       "      <th>reserved_room_type_P</th>\n",
       "      <th>deposit_type_No Deposit</th>\n",
       "      <th>deposit_type_Non Refund</th>\n",
       "      <th>deposit_type_Refundable</th>\n",
       "      <th>customer_type_Contract</th>\n",
       "      <th>customer_type_Group</th>\n",
       "      <th>customer_type_Transient</th>\n",
       "      <th>customer_type_Transient-Party</th>\n",
       "      <th>agent_group_1</th>\n",
       "      <th>agent_group_240</th>\n",
       "      <th>agent_group_9</th>\n",
       "      <th>agent_group_999</th>\n",
       "      <th>arrival_day_Friday</th>\n",
       "      <th>arrival_day_Monday</th>\n",
       "      <th>arrival_day_Saturday</th>\n",
       "      <th>arrival_day_Sunday</th>\n",
       "      <th>arrival_day_Thursday</th>\n",
       "      <th>arrival_day_Tuesday</th>\n",
       "      <th>arrival_day_Wednesday</th>\n",
       "    </tr>\n",
       "  </thead>\n",
       "  <tbody>\n",
       "    <tr>\n",
       "      <th>34262</th>\n",
       "      <td>-0.50</td>\n",
       "      <td>-1.19</td>\n",
       "      <td>-0.32</td>\n",
       "      <td>0.07</td>\n",
       "      <td>0.79</td>\n",
       "      <td>0.24</td>\n",
       "      <td>-0.26</td>\n",
       "      <td>-0.08</td>\n",
       "      <td>-0.18</td>\n",
       "      <td>-0.10</td>\n",
       "      <td>-0.09</td>\n",
       "      <td>1.18</td>\n",
       "      <td>-0.13</td>\n",
       "      <td>-0.62</td>\n",
       "      <td>-0.25</td>\n",
       "      <td>0.54</td>\n",
       "      <td>0.00</td>\n",
       "      <td>1.00</td>\n",
       "      <td>0.00</td>\n",
       "      <td>0.00</td>\n",
       "      <td>0.00</td>\n",
       "      <td>0.00</td>\n",
       "      <td>0.00</td>\n",
       "      <td>0.00</td>\n",
       "      <td>0.00</td>\n",
       "      <td>1.00</td>\n",
       "      <td>0.00</td>\n",
       "      <td>0.00</td>\n",
       "      <td>0.00</td>\n",
       "      <td>0.00</td>\n",
       "      <td>1.00</td>\n",
       "      <td>0.00</td>\n",
       "      <td>0.00</td>\n",
       "      <td>0.00</td>\n",
       "      <td>0.00</td>\n",
       "      <td>0.00</td>\n",
       "      <td>0.00</td>\n",
       "      <td>0.00</td>\n",
       "      <td>0.00</td>\n",
       "      <td>0.00</td>\n",
       "      <td>0.00</td>\n",
       "      <td>0.00</td>\n",
       "      <td>0.00</td>\n",
       "      <td>0.00</td>\n",
       "      <td>0.00</td>\n",
       "      <td>0.00</td>\n",
       "      <td>0.00</td>\n",
       "      <td>0.00</td>\n",
       "      <td>0.00</td>\n",
       "      <td>0.00</td>\n",
       "      <td>...</td>\n",
       "      <td>0.00</td>\n",
       "      <td>0.00</td>\n",
       "      <td>0.00</td>\n",
       "      <td>0.00</td>\n",
       "      <td>0.00</td>\n",
       "      <td>0.00</td>\n",
       "      <td>0.00</td>\n",
       "      <td>0.00</td>\n",
       "      <td>0.00</td>\n",
       "      <td>0.00</td>\n",
       "      <td>0.00</td>\n",
       "      <td>0.00</td>\n",
       "      <td>0.00</td>\n",
       "      <td>0.00</td>\n",
       "      <td>0.00</td>\n",
       "      <td>0.00</td>\n",
       "      <td>0.00</td>\n",
       "      <td>0.00</td>\n",
       "      <td>0.00</td>\n",
       "      <td>0.00</td>\n",
       "      <td>1.00</td>\n",
       "      <td>0.00</td>\n",
       "      <td>0.00</td>\n",
       "      <td>0.00</td>\n",
       "      <td>0.00</td>\n",
       "      <td>1.00</td>\n",
       "      <td>0.00</td>\n",
       "      <td>0.00</td>\n",
       "      <td>0.00</td>\n",
       "      <td>0.00</td>\n",
       "      <td>0.00</td>\n",
       "      <td>0.00</td>\n",
       "      <td>1.00</td>\n",
       "      <td>0.00</td>\n",
       "      <td>0.00</td>\n",
       "      <td>0.00</td>\n",
       "      <td>0.00</td>\n",
       "      <td>1.00</td>\n",
       "      <td>0.00</td>\n",
       "      <td>0.00</td>\n",
       "      <td>0.00</td>\n",
       "      <td>0.00</td>\n",
       "      <td>1.00</td>\n",
       "      <td>0.00</td>\n",
       "      <td>1.00</td>\n",
       "      <td>0.00</td>\n",
       "      <td>0.00</td>\n",
       "      <td>0.00</td>\n",
       "      <td>0.00</td>\n",
       "      <td>0.00</td>\n",
       "    </tr>\n",
       "    <tr>\n",
       "      <th>78954</th>\n",
       "      <td>-0.94</td>\n",
       "      <td>-1.70</td>\n",
       "      <td>0.70</td>\n",
       "      <td>-0.93</td>\n",
       "      <td>-0.78</td>\n",
       "      <td>-1.45</td>\n",
       "      <td>-0.26</td>\n",
       "      <td>-0.08</td>\n",
       "      <td>5.55</td>\n",
       "      <td>-0.10</td>\n",
       "      <td>4.57</td>\n",
       "      <td>-0.33</td>\n",
       "      <td>-0.13</td>\n",
       "      <td>-0.70</td>\n",
       "      <td>-0.25</td>\n",
       "      <td>-0.72</td>\n",
       "      <td>1.00</td>\n",
       "      <td>0.00</td>\n",
       "      <td>0.00</td>\n",
       "      <td>0.00</td>\n",
       "      <td>0.00</td>\n",
       "      <td>0.00</td>\n",
       "      <td>1.00</td>\n",
       "      <td>0.00</td>\n",
       "      <td>0.00</td>\n",
       "      <td>0.00</td>\n",
       "      <td>0.00</td>\n",
       "      <td>0.00</td>\n",
       "      <td>0.00</td>\n",
       "      <td>0.00</td>\n",
       "      <td>1.00</td>\n",
       "      <td>0.00</td>\n",
       "      <td>0.00</td>\n",
       "      <td>0.00</td>\n",
       "      <td>0.00</td>\n",
       "      <td>0.00</td>\n",
       "      <td>0.00</td>\n",
       "      <td>0.00</td>\n",
       "      <td>0.00</td>\n",
       "      <td>0.00</td>\n",
       "      <td>0.00</td>\n",
       "      <td>0.00</td>\n",
       "      <td>0.00</td>\n",
       "      <td>0.00</td>\n",
       "      <td>0.00</td>\n",
       "      <td>0.00</td>\n",
       "      <td>0.00</td>\n",
       "      <td>0.00</td>\n",
       "      <td>0.00</td>\n",
       "      <td>0.00</td>\n",
       "      <td>...</td>\n",
       "      <td>0.00</td>\n",
       "      <td>0.00</td>\n",
       "      <td>0.00</td>\n",
       "      <td>0.00</td>\n",
       "      <td>0.00</td>\n",
       "      <td>0.00</td>\n",
       "      <td>0.00</td>\n",
       "      <td>0.00</td>\n",
       "      <td>0.00</td>\n",
       "      <td>0.00</td>\n",
       "      <td>0.00</td>\n",
       "      <td>0.00</td>\n",
       "      <td>0.00</td>\n",
       "      <td>0.00</td>\n",
       "      <td>0.00</td>\n",
       "      <td>0.00</td>\n",
       "      <td>1.00</td>\n",
       "      <td>0.00</td>\n",
       "      <td>0.00</td>\n",
       "      <td>0.00</td>\n",
       "      <td>0.00</td>\n",
       "      <td>0.00</td>\n",
       "      <td>1.00</td>\n",
       "      <td>0.00</td>\n",
       "      <td>0.00</td>\n",
       "      <td>0.00</td>\n",
       "      <td>0.00</td>\n",
       "      <td>0.00</td>\n",
       "      <td>0.00</td>\n",
       "      <td>0.00</td>\n",
       "      <td>0.00</td>\n",
       "      <td>0.00</td>\n",
       "      <td>1.00</td>\n",
       "      <td>0.00</td>\n",
       "      <td>0.00</td>\n",
       "      <td>0.00</td>\n",
       "      <td>0.00</td>\n",
       "      <td>1.00</td>\n",
       "      <td>0.00</td>\n",
       "      <td>0.00</td>\n",
       "      <td>0.00</td>\n",
       "      <td>0.00</td>\n",
       "      <td>1.00</td>\n",
       "      <td>1.00</td>\n",
       "      <td>0.00</td>\n",
       "      <td>0.00</td>\n",
       "      <td>0.00</td>\n",
       "      <td>0.00</td>\n",
       "      <td>0.00</td>\n",
       "      <td>0.00</td>\n",
       "    </tr>\n",
       "    <tr>\n",
       "      <th>13185</th>\n",
       "      <td>-0.71</td>\n",
       "      <td>0.28</td>\n",
       "      <td>-1.34</td>\n",
       "      <td>-0.93</td>\n",
       "      <td>-0.26</td>\n",
       "      <td>0.24</td>\n",
       "      <td>-0.26</td>\n",
       "      <td>-0.08</td>\n",
       "      <td>-0.18</td>\n",
       "      <td>-0.10</td>\n",
       "      <td>-0.09</td>\n",
       "      <td>-0.33</td>\n",
       "      <td>-0.13</td>\n",
       "      <td>3.28</td>\n",
       "      <td>-0.25</td>\n",
       "      <td>0.54</td>\n",
       "      <td>0.00</td>\n",
       "      <td>1.00</td>\n",
       "      <td>0.00</td>\n",
       "      <td>1.00</td>\n",
       "      <td>0.00</td>\n",
       "      <td>0.00</td>\n",
       "      <td>0.00</td>\n",
       "      <td>0.00</td>\n",
       "      <td>0.00</td>\n",
       "      <td>0.00</td>\n",
       "      <td>0.00</td>\n",
       "      <td>0.00</td>\n",
       "      <td>0.00</td>\n",
       "      <td>0.00</td>\n",
       "      <td>0.00</td>\n",
       "      <td>0.00</td>\n",
       "      <td>1.00</td>\n",
       "      <td>0.00</td>\n",
       "      <td>0.00</td>\n",
       "      <td>0.00</td>\n",
       "      <td>0.00</td>\n",
       "      <td>0.00</td>\n",
       "      <td>0.00</td>\n",
       "      <td>0.00</td>\n",
       "      <td>0.00</td>\n",
       "      <td>0.00</td>\n",
       "      <td>0.00</td>\n",
       "      <td>0.00</td>\n",
       "      <td>0.00</td>\n",
       "      <td>0.00</td>\n",
       "      <td>0.00</td>\n",
       "      <td>0.00</td>\n",
       "      <td>0.00</td>\n",
       "      <td>0.00</td>\n",
       "      <td>...</td>\n",
       "      <td>0.00</td>\n",
       "      <td>0.00</td>\n",
       "      <td>0.00</td>\n",
       "      <td>0.00</td>\n",
       "      <td>0.00</td>\n",
       "      <td>0.00</td>\n",
       "      <td>0.00</td>\n",
       "      <td>0.00</td>\n",
       "      <td>0.00</td>\n",
       "      <td>0.00</td>\n",
       "      <td>0.00</td>\n",
       "      <td>0.00</td>\n",
       "      <td>0.00</td>\n",
       "      <td>0.00</td>\n",
       "      <td>0.00</td>\n",
       "      <td>0.00</td>\n",
       "      <td>0.00</td>\n",
       "      <td>0.00</td>\n",
       "      <td>0.00</td>\n",
       "      <td>0.00</td>\n",
       "      <td>1.00</td>\n",
       "      <td>0.00</td>\n",
       "      <td>0.00</td>\n",
       "      <td>0.00</td>\n",
       "      <td>0.00</td>\n",
       "      <td>1.00</td>\n",
       "      <td>0.00</td>\n",
       "      <td>0.00</td>\n",
       "      <td>0.00</td>\n",
       "      <td>0.00</td>\n",
       "      <td>0.00</td>\n",
       "      <td>0.00</td>\n",
       "      <td>1.00</td>\n",
       "      <td>0.00</td>\n",
       "      <td>0.00</td>\n",
       "      <td>0.00</td>\n",
       "      <td>0.00</td>\n",
       "      <td>1.00</td>\n",
       "      <td>0.00</td>\n",
       "      <td>0.00</td>\n",
       "      <td>1.00</td>\n",
       "      <td>0.00</td>\n",
       "      <td>0.00</td>\n",
       "      <td>1.00</td>\n",
       "      <td>0.00</td>\n",
       "      <td>0.00</td>\n",
       "      <td>0.00</td>\n",
       "      <td>0.00</td>\n",
       "      <td>0.00</td>\n",
       "      <td>0.00</td>\n",
       "    </tr>\n",
       "    <tr>\n",
       "      <th>18267</th>\n",
       "      <td>-0.62</td>\n",
       "      <td>1.38</td>\n",
       "      <td>-0.89</td>\n",
       "      <td>1.07</td>\n",
       "      <td>1.31</td>\n",
       "      <td>-1.45</td>\n",
       "      <td>-0.26</td>\n",
       "      <td>-0.08</td>\n",
       "      <td>-0.18</td>\n",
       "      <td>-0.10</td>\n",
       "      <td>-0.09</td>\n",
       "      <td>1.18</td>\n",
       "      <td>-0.13</td>\n",
       "      <td>-1.29</td>\n",
       "      <td>-0.25</td>\n",
       "      <td>-0.72</td>\n",
       "      <td>0.00</td>\n",
       "      <td>1.00</td>\n",
       "      <td>0.00</td>\n",
       "      <td>0.00</td>\n",
       "      <td>0.00</td>\n",
       "      <td>0.00</td>\n",
       "      <td>0.00</td>\n",
       "      <td>0.00</td>\n",
       "      <td>0.00</td>\n",
       "      <td>0.00</td>\n",
       "      <td>0.00</td>\n",
       "      <td>1.00</td>\n",
       "      <td>0.00</td>\n",
       "      <td>0.00</td>\n",
       "      <td>1.00</td>\n",
       "      <td>0.00</td>\n",
       "      <td>0.00</td>\n",
       "      <td>0.00</td>\n",
       "      <td>0.00</td>\n",
       "      <td>0.00</td>\n",
       "      <td>0.00</td>\n",
       "      <td>0.00</td>\n",
       "      <td>0.00</td>\n",
       "      <td>0.00</td>\n",
       "      <td>0.00</td>\n",
       "      <td>0.00</td>\n",
       "      <td>0.00</td>\n",
       "      <td>0.00</td>\n",
       "      <td>0.00</td>\n",
       "      <td>0.00</td>\n",
       "      <td>0.00</td>\n",
       "      <td>0.00</td>\n",
       "      <td>0.00</td>\n",
       "      <td>0.00</td>\n",
       "      <td>...</td>\n",
       "      <td>0.00</td>\n",
       "      <td>0.00</td>\n",
       "      <td>0.00</td>\n",
       "      <td>0.00</td>\n",
       "      <td>0.00</td>\n",
       "      <td>0.00</td>\n",
       "      <td>0.00</td>\n",
       "      <td>0.00</td>\n",
       "      <td>0.00</td>\n",
       "      <td>0.00</td>\n",
       "      <td>0.00</td>\n",
       "      <td>0.00</td>\n",
       "      <td>0.00</td>\n",
       "      <td>0.00</td>\n",
       "      <td>0.00</td>\n",
       "      <td>0.00</td>\n",
       "      <td>1.00</td>\n",
       "      <td>0.00</td>\n",
       "      <td>0.00</td>\n",
       "      <td>0.00</td>\n",
       "      <td>0.00</td>\n",
       "      <td>0.00</td>\n",
       "      <td>1.00</td>\n",
       "      <td>0.00</td>\n",
       "      <td>0.00</td>\n",
       "      <td>0.00</td>\n",
       "      <td>0.00</td>\n",
       "      <td>0.00</td>\n",
       "      <td>0.00</td>\n",
       "      <td>0.00</td>\n",
       "      <td>0.00</td>\n",
       "      <td>0.00</td>\n",
       "      <td>1.00</td>\n",
       "      <td>0.00</td>\n",
       "      <td>0.00</td>\n",
       "      <td>0.00</td>\n",
       "      <td>0.00</td>\n",
       "      <td>0.00</td>\n",
       "      <td>1.00</td>\n",
       "      <td>0.00</td>\n",
       "      <td>0.00</td>\n",
       "      <td>0.00</td>\n",
       "      <td>1.00</td>\n",
       "      <td>0.00</td>\n",
       "      <td>0.00</td>\n",
       "      <td>0.00</td>\n",
       "      <td>1.00</td>\n",
       "      <td>0.00</td>\n",
       "      <td>0.00</td>\n",
       "      <td>0.00</td>\n",
       "    </tr>\n",
       "    <tr>\n",
       "      <th>15865</th>\n",
       "      <td>0.40</td>\n",
       "      <td>0.28</td>\n",
       "      <td>1.61</td>\n",
       "      <td>1.07</td>\n",
       "      <td>1.31</td>\n",
       "      <td>0.24</td>\n",
       "      <td>-0.26</td>\n",
       "      <td>-0.08</td>\n",
       "      <td>-0.18</td>\n",
       "      <td>-0.10</td>\n",
       "      <td>-0.09</td>\n",
       "      <td>-0.33</td>\n",
       "      <td>-0.13</td>\n",
       "      <td>0.24</td>\n",
       "      <td>-0.25</td>\n",
       "      <td>0.54</td>\n",
       "      <td>0.00</td>\n",
       "      <td>1.00</td>\n",
       "      <td>0.00</td>\n",
       "      <td>0.00</td>\n",
       "      <td>0.00</td>\n",
       "      <td>0.00</td>\n",
       "      <td>0.00</td>\n",
       "      <td>1.00</td>\n",
       "      <td>0.00</td>\n",
       "      <td>0.00</td>\n",
       "      <td>0.00</td>\n",
       "      <td>0.00</td>\n",
       "      <td>0.00</td>\n",
       "      <td>0.00</td>\n",
       "      <td>1.00</td>\n",
       "      <td>0.00</td>\n",
       "      <td>0.00</td>\n",
       "      <td>0.00</td>\n",
       "      <td>0.00</td>\n",
       "      <td>0.00</td>\n",
       "      <td>0.00</td>\n",
       "      <td>0.00</td>\n",
       "      <td>0.00</td>\n",
       "      <td>0.00</td>\n",
       "      <td>0.00</td>\n",
       "      <td>0.00</td>\n",
       "      <td>0.00</td>\n",
       "      <td>0.00</td>\n",
       "      <td>0.00</td>\n",
       "      <td>0.00</td>\n",
       "      <td>0.00</td>\n",
       "      <td>0.00</td>\n",
       "      <td>0.00</td>\n",
       "      <td>0.00</td>\n",
       "      <td>...</td>\n",
       "      <td>0.00</td>\n",
       "      <td>0.00</td>\n",
       "      <td>0.00</td>\n",
       "      <td>0.00</td>\n",
       "      <td>0.00</td>\n",
       "      <td>0.00</td>\n",
       "      <td>0.00</td>\n",
       "      <td>0.00</td>\n",
       "      <td>0.00</td>\n",
       "      <td>0.00</td>\n",
       "      <td>0.00</td>\n",
       "      <td>0.00</td>\n",
       "      <td>0.00</td>\n",
       "      <td>0.00</td>\n",
       "      <td>0.00</td>\n",
       "      <td>0.00</td>\n",
       "      <td>0.00</td>\n",
       "      <td>1.00</td>\n",
       "      <td>0.00</td>\n",
       "      <td>0.00</td>\n",
       "      <td>0.00</td>\n",
       "      <td>0.00</td>\n",
       "      <td>1.00</td>\n",
       "      <td>0.00</td>\n",
       "      <td>0.00</td>\n",
       "      <td>0.00</td>\n",
       "      <td>0.00</td>\n",
       "      <td>0.00</td>\n",
       "      <td>0.00</td>\n",
       "      <td>0.00</td>\n",
       "      <td>0.00</td>\n",
       "      <td>0.00</td>\n",
       "      <td>1.00</td>\n",
       "      <td>0.00</td>\n",
       "      <td>0.00</td>\n",
       "      <td>0.00</td>\n",
       "      <td>0.00</td>\n",
       "      <td>1.00</td>\n",
       "      <td>0.00</td>\n",
       "      <td>0.00</td>\n",
       "      <td>0.00</td>\n",
       "      <td>0.00</td>\n",
       "      <td>1.00</td>\n",
       "      <td>0.00</td>\n",
       "      <td>0.00</td>\n",
       "      <td>0.00</td>\n",
       "      <td>0.00</td>\n",
       "      <td>1.00</td>\n",
       "      <td>0.00</td>\n",
       "      <td>0.00</td>\n",
       "    </tr>\n",
       "  </tbody>\n",
       "</table>\n",
       "<p>5 rows × 238 columns</p>\n",
       "</div>"
      ],
      "text/plain": [
       "       lead_time  arrival_date_week_number  arrival_date_day_of_month  \\\n",
       "34262      -0.50                     -1.19                      -0.32   \n",
       "78954      -0.94                     -1.70                       0.70   \n",
       "13185      -0.71                      0.28                      -1.34   \n",
       "18267      -0.62                      1.38                      -0.89   \n",
       "15865       0.40                      0.28                       1.61   \n",
       "\n",
       "       stays_in_weekend_nights  stays_in_week_nights  adults  children  \\\n",
       "34262                     0.07                  0.79    0.24     -0.26   \n",
       "78954                    -0.93                 -0.78   -1.45     -0.26   \n",
       "13185                    -0.93                 -0.26    0.24     -0.26   \n",
       "18267                     1.07                  1.31   -1.45     -0.26   \n",
       "15865                     1.07                  1.31    0.24     -0.26   \n",
       "\n",
       "       babies  is_repeated_guest  previous_cancellations  \\\n",
       "34262   -0.08              -0.18                   -0.10   \n",
       "78954   -0.08               5.55                   -0.10   \n",
       "13185   -0.08              -0.18                   -0.10   \n",
       "18267   -0.08              -0.18                   -0.10   \n",
       "15865   -0.08              -0.18                   -0.10   \n",
       "\n",
       "       previous_bookings_not_canceled  booking_changes  days_in_waiting_list  \\\n",
       "34262                           -0.09             1.18                 -0.13   \n",
       "78954                            4.57            -0.33                 -0.13   \n",
       "13185                           -0.09            -0.33                 -0.13   \n",
       "18267                           -0.09             1.18                 -0.13   \n",
       "15865                           -0.09            -0.33                 -0.13   \n",
       "\n",
       "        adr  required_car_parking_spaces  total_of_special_requests  \\\n",
       "34262 -0.62                        -0.25                       0.54   \n",
       "78954 -0.70                        -0.25                      -0.72   \n",
       "13185  3.28                        -0.25                       0.54   \n",
       "18267 -1.29                        -0.25                      -0.72   \n",
       "15865  0.24                        -0.25                       0.54   \n",
       "\n",
       "       hotel_City Hotel  hotel_Resort Hotel  arrival_date_month_April  \\\n",
       "34262              0.00                1.00                      0.00   \n",
       "78954              1.00                0.00                      0.00   \n",
       "13185              0.00                1.00                      0.00   \n",
       "18267              0.00                1.00                      0.00   \n",
       "15865              0.00                1.00                      0.00   \n",
       "\n",
       "       arrival_date_month_August  arrival_date_month_December  \\\n",
       "34262                       0.00                         0.00   \n",
       "78954                       0.00                         0.00   \n",
       "13185                       1.00                         0.00   \n",
       "18267                       0.00                         0.00   \n",
       "15865                       0.00                         0.00   \n",
       "\n",
       "       arrival_date_month_February  arrival_date_month_January  \\\n",
       "34262                         0.00                        0.00   \n",
       "78954                         0.00                        1.00   \n",
       "13185                         0.00                        0.00   \n",
       "18267                         0.00                        0.00   \n",
       "15865                         0.00                        0.00   \n",
       "\n",
       "       arrival_date_month_July  arrival_date_month_June  \\\n",
       "34262                     0.00                     0.00   \n",
       "78954                     0.00                     0.00   \n",
       "13185                     0.00                     0.00   \n",
       "18267                     0.00                     0.00   \n",
       "15865                     1.00                     0.00   \n",
       "\n",
       "       arrival_date_month_March  arrival_date_month_May  \\\n",
       "34262                      1.00                    0.00   \n",
       "78954                      0.00                    0.00   \n",
       "13185                      0.00                    0.00   \n",
       "18267                      0.00                    0.00   \n",
       "15865                      0.00                    0.00   \n",
       "\n",
       "       arrival_date_month_November  arrival_date_month_October  \\\n",
       "34262                         0.00                        0.00   \n",
       "78954                         0.00                        0.00   \n",
       "13185                         0.00                        0.00   \n",
       "18267                         1.00                        0.00   \n",
       "15865                         0.00                        0.00   \n",
       "\n",
       "       arrival_date_month_September  meal_BB  meal_FB  meal_HB  meal_SC  \\\n",
       "34262                          0.00     1.00     0.00     0.00     0.00   \n",
       "78954                          0.00     1.00     0.00     0.00     0.00   \n",
       "13185                          0.00     0.00     0.00     1.00     0.00   \n",
       "18267                          0.00     1.00     0.00     0.00     0.00   \n",
       "15865                          0.00     1.00     0.00     0.00     0.00   \n",
       "\n",
       "       meal_Undefined  country_ABW  country_AGO  country_AIA  country_ALB  \\\n",
       "34262            0.00         0.00         0.00         0.00         0.00   \n",
       "78954            0.00         0.00         0.00         0.00         0.00   \n",
       "13185            0.00         0.00         0.00         0.00         0.00   \n",
       "18267            0.00         0.00         0.00         0.00         0.00   \n",
       "15865            0.00         0.00         0.00         0.00         0.00   \n",
       "\n",
       "       country_AND  country_ARE  country_ARG  country_ARM  country_ASM  \\\n",
       "34262         0.00         0.00         0.00         0.00         0.00   \n",
       "78954         0.00         0.00         0.00         0.00         0.00   \n",
       "13185         0.00         0.00         0.00         0.00         0.00   \n",
       "18267         0.00         0.00         0.00         0.00         0.00   \n",
       "15865         0.00         0.00         0.00         0.00         0.00   \n",
       "\n",
       "       country_ATA  country_ATF  country_AUS  country_AUT  country_AZE  \\\n",
       "34262         0.00         0.00         0.00         0.00         0.00   \n",
       "78954         0.00         0.00         0.00         0.00         0.00   \n",
       "13185         0.00         0.00         0.00         0.00         0.00   \n",
       "18267         0.00         0.00         0.00         0.00         0.00   \n",
       "15865         0.00         0.00         0.00         0.00         0.00   \n",
       "\n",
       "       country_BEL  ...  country_TUN  country_TUR  country_TWN  country_TZA  \\\n",
       "34262         0.00  ...         0.00         0.00         0.00         0.00   \n",
       "78954         0.00  ...         0.00         0.00         0.00         0.00   \n",
       "13185         0.00  ...         0.00         0.00         0.00         0.00   \n",
       "18267         0.00  ...         0.00         0.00         0.00         0.00   \n",
       "15865         0.00  ...         0.00         0.00         0.00         0.00   \n",
       "\n",
       "       country_UGA  country_UKR  country_URY  country_USA  country_UZB  \\\n",
       "34262         0.00         0.00         0.00         0.00         0.00   \n",
       "78954         0.00         0.00         0.00         0.00         0.00   \n",
       "13185         0.00         0.00         0.00         0.00         0.00   \n",
       "18267         0.00         0.00         0.00         0.00         0.00   \n",
       "15865         0.00         0.00         0.00         0.00         0.00   \n",
       "\n",
       "       country_VEN  country_VNM  country_ZAF  country_ZMB  country_ZWE  \\\n",
       "34262         0.00         0.00         0.00         0.00         0.00   \n",
       "78954         0.00         0.00         0.00         0.00         0.00   \n",
       "13185         0.00         0.00         0.00         0.00         0.00   \n",
       "18267         0.00         0.00         0.00         0.00         0.00   \n",
       "15865         0.00         0.00         0.00         0.00         0.00   \n",
       "\n",
       "       market_segment_Aviation  market_segment_Complementary  \\\n",
       "34262                     0.00                          0.00   \n",
       "78954                     0.00                          0.00   \n",
       "13185                     0.00                          0.00   \n",
       "18267                     0.00                          0.00   \n",
       "15865                     0.00                          0.00   \n",
       "\n",
       "       market_segment_Corporate  market_segment_Direct  market_segment_Groups  \\\n",
       "34262                      0.00                   0.00                   0.00   \n",
       "78954                      1.00                   0.00                   0.00   \n",
       "13185                      0.00                   0.00                   0.00   \n",
       "18267                      1.00                   0.00                   0.00   \n",
       "15865                      0.00                   1.00                   0.00   \n",
       "\n",
       "       market_segment_Offline TA/TO  market_segment_Online TA  \\\n",
       "34262                          0.00                      1.00   \n",
       "78954                          0.00                      0.00   \n",
       "13185                          0.00                      1.00   \n",
       "18267                          0.00                      0.00   \n",
       "15865                          0.00                      0.00   \n",
       "\n",
       "       market_segment_Undefined  reserved_room_type_A  reserved_room_type_B  \\\n",
       "34262                      0.00                  0.00                  0.00   \n",
       "78954                      0.00                  1.00                  0.00   \n",
       "13185                      0.00                  0.00                  0.00   \n",
       "18267                      0.00                  1.00                  0.00   \n",
       "15865                      0.00                  1.00                  0.00   \n",
       "\n",
       "       reserved_room_type_C  reserved_room_type_D  reserved_room_type_E  \\\n",
       "34262                  0.00                  1.00                  0.00   \n",
       "78954                  0.00                  0.00                  0.00   \n",
       "13185                  0.00                  1.00                  0.00   \n",
       "18267                  0.00                  0.00                  0.00   \n",
       "15865                  0.00                  0.00                  0.00   \n",
       "\n",
       "       reserved_room_type_F  reserved_room_type_G  reserved_room_type_H  \\\n",
       "34262                  0.00                  0.00                  0.00   \n",
       "78954                  0.00                  0.00                  0.00   \n",
       "13185                  0.00                  0.00                  0.00   \n",
       "18267                  0.00                  0.00                  0.00   \n",
       "15865                  0.00                  0.00                  0.00   \n",
       "\n",
       "       reserved_room_type_L  reserved_room_type_P  deposit_type_No Deposit  \\\n",
       "34262                  0.00                  0.00                     1.00   \n",
       "78954                  0.00                  0.00                     1.00   \n",
       "13185                  0.00                  0.00                     1.00   \n",
       "18267                  0.00                  0.00                     1.00   \n",
       "15865                  0.00                  0.00                     1.00   \n",
       "\n",
       "       deposit_type_Non Refund  deposit_type_Refundable  \\\n",
       "34262                     0.00                     0.00   \n",
       "78954                     0.00                     0.00   \n",
       "13185                     0.00                     0.00   \n",
       "18267                     0.00                     0.00   \n",
       "15865                     0.00                     0.00   \n",
       "\n",
       "       customer_type_Contract  customer_type_Group  customer_type_Transient  \\\n",
       "34262                    0.00                 0.00                     1.00   \n",
       "78954                    0.00                 0.00                     1.00   \n",
       "13185                    0.00                 0.00                     1.00   \n",
       "18267                    0.00                 0.00                     0.00   \n",
       "15865                    0.00                 0.00                     1.00   \n",
       "\n",
       "       customer_type_Transient-Party  agent_group_1  agent_group_240  \\\n",
       "34262                           0.00           0.00             0.00   \n",
       "78954                           0.00           0.00             0.00   \n",
       "13185                           0.00           0.00             1.00   \n",
       "18267                           1.00           0.00             0.00   \n",
       "15865                           0.00           0.00             0.00   \n",
       "\n",
       "       agent_group_9  agent_group_999  arrival_day_Friday  arrival_day_Monday  \\\n",
       "34262           0.00             1.00                0.00                1.00   \n",
       "78954           0.00             1.00                1.00                0.00   \n",
       "13185           0.00             0.00                1.00                0.00   \n",
       "18267           0.00             1.00                0.00                0.00   \n",
       "15865           0.00             1.00                0.00                0.00   \n",
       "\n",
       "       arrival_day_Saturday  arrival_day_Sunday  arrival_day_Thursday  \\\n",
       "34262                  0.00                0.00                  0.00   \n",
       "78954                  0.00                0.00                  0.00   \n",
       "13185                  0.00                0.00                  0.00   \n",
       "18267                  0.00                1.00                  0.00   \n",
       "15865                  0.00                0.00                  1.00   \n",
       "\n",
       "       arrival_day_Tuesday  arrival_day_Wednesday  \n",
       "34262                 0.00                   0.00  \n",
       "78954                 0.00                   0.00  \n",
       "13185                 0.00                   0.00  \n",
       "18267                 0.00                   0.00  \n",
       "15865                 0.00                   0.00  \n",
       "\n",
       "[5 rows x 238 columns]"
      ]
     },
     "metadata": {},
     "output_type": "display_data"
    }
   ],
   "source": [
    "## Transform via the ColumnTransformer preprocessor and create new dataframe\n",
    "\n",
    "X_train_df = pd.DataFrame(preprocessor.transform(X_train),\n",
    "                             columns=final_cols, index=X_train.index)\n",
    "\n",
    "X_test_tf_df = pd.DataFrame(preprocessor.transform(X_test),\n",
    "                            columns=final_cols, index=X_test.index)\n",
    "\n",
    "display(X_train_df.head(5),X_test_tf_df.head(5))"
   ]
  },
  {
   "cell_type": "markdown",
   "metadata": {},
   "source": [
    "# Resampling via SMOTE"
   ]
  },
  {
   "cell_type": "markdown",
   "metadata": {},
   "source": [
    "---\n",
    "\n",
    ">\n",
    "\n",
    "---"
   ]
  },
  {
   "cell_type": "code",
   "execution_count": 16,
   "metadata": {
    "ExecuteTime": {
     "end_time": "2021-09-10T21:54:29.247548Z",
     "start_time": "2021-09-10T21:49:10.006050Z"
    }
   },
   "outputs": [
    {
     "data": {
      "text/plain": [
       "1    56374\n",
       "0    56374\n",
       "Name: is_canceled, dtype: int64"
      ]
     },
     "execution_count": 16,
     "metadata": {},
     "output_type": "execute_result"
    }
   ],
   "source": [
    "smote = SMOTE(random_state = 42, n_jobs=-1)\n",
    "\n",
    "X_train_tf_df, y_train = smote.fit_sample(X_train_df,y_train)\n",
    "pd.Series(y_train).value_counts()"
   ]
  },
  {
   "cell_type": "markdown",
   "metadata": {},
   "source": [
    "# **Baseline Model**"
   ]
  },
  {
   "cell_type": "markdown",
   "metadata": {},
   "source": [
    "---\n",
    "\n",
    "**Results:**\n",
    "\n",
    "> Training balanced accuracy score: 0.5\n",
    "> \n",
    "> Testing balanced accuracy score: 0.51\n",
    "> \n",
    "> * *The training score is smaller by 0.01 points.*\n",
    ">\n",
    "> Training data log loss: 16.06\n",
    ">\n",
    "> Testing data log loss: 15.89\n",
    "\n",
    "---\n",
    "\n",
    "**Interpretation**\n",
    "\n",
    "> \n",
    "\n",
    "---"
   ]
  },
  {
   "cell_type": "code",
   "execution_count": 17,
   "metadata": {
    "ExecuteTime": {
     "end_time": "2021-09-10T21:54:30.540941Z",
     "start_time": "2021-09-10T21:54:29.251551Z"
    },
    "scrolled": true
   },
   "outputs": [
    {
     "name": "stderr",
     "output_type": "stream",
     "text": [
      "The default value of strategy will change from stratified to prior in 0.24.\n"
     ]
    },
    {
     "name": "stdout",
     "output_type": "stream",
     "text": [
      "\n",
      "|-------------------------------- Classification Metrics -----------------------------------|\n",
      "\n",
      "Training balanced accuracy score: 0.5\n",
      "Testing balanced accuracy score: 0.5\n",
      "\t- The scores are the same size.\n",
      "\n",
      "Training data log loss: 17.26\n",
      "Testing data log loss: 17.40\n",
      "\n",
      "\n",
      "\n",
      "|---------------------------- Classification Report - Testing Data -------------------------|\n",
      "\n",
      "              precision    recall  f1-score   support\n",
      "\n",
      "           0       0.63      0.50      0.55     18792\n",
      "           1       0.37      0.49      0.42     11056\n",
      "\n",
      "    accuracy                           0.50     29848\n",
      "   macro avg       0.50      0.50      0.49     29848\n",
      "weighted avg       0.53      0.50      0.50     29848\n",
      "\n"
     ]
    },
    {
     "data": {
      "image/png": "[encoded data removed]",
      "text/plain": [
       "<Figure size 720x288 with 3 Axes>"
      ]
     },
     "metadata": {
      "needs_background": "light"
     },
     "output_type": "display_data"
    }
   ],
   "source": [
    "## Creating baseline classifier model\n",
    "\n",
    "base = DummyClassifier(random_state = 42)\n",
    "base.fit(X_train_tf_df, y_train)\n",
    "\n",
    "clf.evaluate_classification(base,X_train = X_train_tf_df, y_train = y_train,\n",
    "                           X_test = X_test_tf_df, y_test = y_test, \n",
    "                           metric = 'balanced accuracy')"
   ]
  },
  {
   "cell_type": "markdown",
   "metadata": {},
   "source": [
    "# **Logistic Regression Model**"
   ]
  },
  {
   "cell_type": "markdown",
   "metadata": {},
   "source": [
    "---\n",
    "\n",
    "**Results:**\n",
    "\n",
    "> Training balanced accuracy score: 0.82\n",
    "> \n",
    "> Testing balanced accuracy score: 0.82\n",
    "> \n",
    "> * *The scores are the same size.*\n",
    ">\n",
    "> Training data log loss: 0.37\n",
    ">\n",
    "> Testing data log loss: 0.37\n",
    "\n",
    "---\n",
    "\n",
    "**Interpretation**\n",
    "\n",
    "> \n",
    "\n",
    "---"
   ]
  },
  {
   "cell_type": "code",
   "execution_count": 18,
   "metadata": {
    "ExecuteTime": {
     "end_time": "2021-09-10T21:54:44.299694Z",
     "start_time": "2021-09-10T21:54:30.543941Z"
    }
   },
   "outputs": [
    {
     "data": {
      "text/html": [
       "<style>div.sk-top-container {color: black;background-color: white;}div.sk-toggleable {background-color: white;}label.sk-toggleable__label {cursor: pointer;display: block;width: 100%;margin-bottom: 0;padding: 0.2em 0.3em;box-sizing: border-box;text-align: center;}div.sk-toggleable__content {max-height: 0;max-width: 0;overflow: hidden;text-align: left;background-color: #f0f8ff;}div.sk-toggleable__content pre {margin: 0.2em;color: black;border-radius: 0.25em;background-color: #f0f8ff;}input.sk-toggleable__control:checked~div.sk-toggleable__content {max-height: 200px;max-width: 100%;overflow: auto;}div.sk-estimator input.sk-toggleable__control:checked~label.sk-toggleable__label {background-color: #d4ebff;}div.sk-label input.sk-toggleable__control:checked~label.sk-toggleable__label {background-color: #d4ebff;}input.sk-hidden--visually {border: 0;clip: rect(1px 1px 1px 1px);clip: rect(1px, 1px, 1px, 1px);height: 1px;margin: -1px;overflow: hidden;padding: 0;position: absolute;width: 1px;}div.sk-estimator {font-family: monospace;background-color: #f0f8ff;margin: 0.25em 0.25em;border: 1px dotted black;border-radius: 0.25em;box-sizing: border-box;}div.sk-estimator:hover {background-color: #d4ebff;}div.sk-parallel-item::after {content: \"\";width: 100%;border-bottom: 1px solid gray;flex-grow: 1;}div.sk-label:hover label.sk-toggleable__label {background-color: #d4ebff;}div.sk-serial::before {content: \"\";position: absolute;border-left: 1px solid gray;box-sizing: border-box;top: 2em;bottom: 0;left: 50%;}div.sk-serial {display: flex;flex-direction: column;align-items: center;background-color: white;}div.sk-item {z-index: 1;}div.sk-parallel {display: flex;align-items: stretch;justify-content: center;background-color: white;}div.sk-parallel-item {display: flex;flex-direction: column;position: relative;background-color: white;}div.sk-parallel-item:first-child::after {align-self: flex-end;width: 50%;}div.sk-parallel-item:last-child::after {align-self: flex-start;width: 50%;}div.sk-parallel-item:only-child::after {width: 0;}div.sk-dashed-wrapped {border: 1px dashed gray;margin: 0.2em;box-sizing: border-box;padding-bottom: 0.1em;background-color: white;position: relative;}div.sk-label label {font-family: monospace;font-weight: bold;background-color: white;display: inline-block;line-height: 1.2em;}div.sk-label-container {position: relative;z-index: 2;text-align: center;}div.sk-container {display: inline-block;position: relative;}</style><div class=\"sk-top-container\"><div class=\"sk-container\"><div class=\"sk-item\"><div class=\"sk-estimator sk-toggleable\"><input class=\"sk-toggleable__control sk-hidden--visually\" id=\"2202ed80-7f7b-4752-93ba-7df993aa93c8\" type=\"checkbox\" checked><label class=\"sk-toggleable__label\" for=\"2202ed80-7f7b-4752-93ba-7df993aa93c8\">LogisticRegression</label><div class=\"sk-toggleable__content\"><pre>LogisticRegression(max_iter=500, n_jobs=1, random_state=42)</pre></div></div></div></div></div>"
      ],
      "text/plain": [
       "LogisticRegression(max_iter=500, n_jobs=1, random_state=42)"
      ]
     },
     "execution_count": 18,
     "metadata": {},
     "output_type": "execute_result"
    }
   ],
   "source": [
    "## LogReg Model\n",
    "logreg = LogisticRegression(max_iter = 500, random_state = 42, n_jobs=-1)\n",
    "\n",
    "logreg.fit(X_train_tf_df, y_train)"
   ]
  },
  {
   "cell_type": "code",
   "execution_count": 19,
   "metadata": {
    "ExecuteTime": {
     "end_time": "2021-09-10T21:54:45.608747Z",
     "start_time": "2021-09-10T21:54:44.301697Z"
    },
    "scrolled": true
   },
   "outputs": [
    {
     "name": "stdout",
     "output_type": "stream",
     "text": [
      "\n",
      "|-------------------------------- Classification Metrics -----------------------------------|\n",
      "\n",
      "Training balanced recall score: 0.82\n",
      "Testing balanced recall score: 0.8\n",
      "\t- The training score is larger by 0.02 points.\n",
      "\n",
      "Training data log loss: 0.38\n",
      "Testing data log loss: 0.41\n",
      "\n",
      "\n",
      "\n",
      "|---------------------------- Classification Report - Testing Data -------------------------|\n",
      "\n",
      "              precision    recall  f1-score   support\n",
      "\n",
      "           0       0.86      0.83      0.85     18792\n",
      "           1       0.73      0.78      0.75     11056\n",
      "\n",
      "    accuracy                           0.81     29848\n",
      "   macro avg       0.80      0.80      0.80     29848\n",
      "weighted avg       0.81      0.81      0.81     29848\n",
      "\n"
     ]
    },
    {
     "data": {
      "image/png": "[encoded data removed]",
      "text/plain": [
       "<Figure size 720x288 with 3 Axes>"
      ]
     },
     "metadata": {
      "needs_background": "light"
     },
     "output_type": "display_data"
    }
   ],
   "source": [
    "clf.evaluate_classification(logreg, X_train = X_train_tf_df,y_train = y_train,\n",
    "                           X_test = X_test_tf_df, y_test = y_test,\n",
    "                          metric = 'balanced recall')"
   ]
  },
  {
   "cell_type": "markdown",
   "metadata": {},
   "source": [
    "# **Random Forest Model**"
   ]
  },
  {
   "cell_type": "markdown",
   "metadata": {},
   "source": [
    "---\n",
    "\n",
    "**Results:**\n",
    "\n",
    "> Training balanced recall score: 0.99\n",
    "> \n",
    "> Testing balanced recall score: 0.88\n",
    ">\n",
    "> * *The training score is larger by 0.11 points.*\n",
    ">\n",
    "> Training data log loss: 0.08\n",
    ">\n",
    "> Testing data log loss: 0.27\n",
    "\n",
    "---\n",
    "\n",
    "**Interpretation**\n",
    "\n",
    "> \n",
    "\n",
    "---"
   ]
  },
  {
   "cell_type": "code",
   "execution_count": 20,
   "metadata": {
    "ExecuteTime": {
     "end_time": "2021-09-10T21:55:05.350246Z",
     "start_time": "2021-09-10T21:54:45.611751Z"
    }
   },
   "outputs": [
    {
     "data": {
      "text/html": [
       "<style>div.sk-top-container {color: black;background-color: white;}div.sk-toggleable {background-color: white;}label.sk-toggleable__label {cursor: pointer;display: block;width: 100%;margin-bottom: 0;padding: 0.2em 0.3em;box-sizing: border-box;text-align: center;}div.sk-toggleable__content {max-height: 0;max-width: 0;overflow: hidden;text-align: left;background-color: #f0f8ff;}div.sk-toggleable__content pre {margin: 0.2em;color: black;border-radius: 0.25em;background-color: #f0f8ff;}input.sk-toggleable__control:checked~div.sk-toggleable__content {max-height: 200px;max-width: 100%;overflow: auto;}div.sk-estimator input.sk-toggleable__control:checked~label.sk-toggleable__label {background-color: #d4ebff;}div.sk-label input.sk-toggleable__control:checked~label.sk-toggleable__label {background-color: #d4ebff;}input.sk-hidden--visually {border: 0;clip: rect(1px 1px 1px 1px);clip: rect(1px, 1px, 1px, 1px);height: 1px;margin: -1px;overflow: hidden;padding: 0;position: absolute;width: 1px;}div.sk-estimator {font-family: monospace;background-color: #f0f8ff;margin: 0.25em 0.25em;border: 1px dotted black;border-radius: 0.25em;box-sizing: border-box;}div.sk-estimator:hover {background-color: #d4ebff;}div.sk-parallel-item::after {content: \"\";width: 100%;border-bottom: 1px solid gray;flex-grow: 1;}div.sk-label:hover label.sk-toggleable__label {background-color: #d4ebff;}div.sk-serial::before {content: \"\";position: absolute;border-left: 1px solid gray;box-sizing: border-box;top: 2em;bottom: 0;left: 50%;}div.sk-serial {display: flex;flex-direction: column;align-items: center;background-color: white;}div.sk-item {z-index: 1;}div.sk-parallel {display: flex;align-items: stretch;justify-content: center;background-color: white;}div.sk-parallel-item {display: flex;flex-direction: column;position: relative;background-color: white;}div.sk-parallel-item:first-child::after {align-self: flex-end;width: 50%;}div.sk-parallel-item:last-child::after {align-self: flex-start;width: 50%;}div.sk-parallel-item:only-child::after {width: 0;}div.sk-dashed-wrapped {border: 1px dashed gray;margin: 0.2em;box-sizing: border-box;padding-bottom: 0.1em;background-color: white;position: relative;}div.sk-label label {font-family: monospace;font-weight: bold;background-color: white;display: inline-block;line-height: 1.2em;}div.sk-label-container {position: relative;z-index: 2;text-align: center;}div.sk-container {display: inline-block;position: relative;}</style><div class=\"sk-top-container\"><div class=\"sk-container\"><div class=\"sk-item\"><div class=\"sk-estimator sk-toggleable\"><input class=\"sk-toggleable__control sk-hidden--visually\" id=\"68c17818-5383-40a2-b353-c6e9a94aae11\" type=\"checkbox\" checked><label class=\"sk-toggleable__label\" for=\"68c17818-5383-40a2-b353-c6e9a94aae11\">RandomForestClassifier</label><div class=\"sk-toggleable__content\"><pre>RandomForestClassifier(n_jobs=-1, random_state=42)</pre></div></div></div></div></div>"
      ],
      "text/plain": [
       "RandomForestClassifier(n_jobs=-1, random_state=42)"
      ]
     },
     "execution_count": 20,
     "metadata": {},
     "output_type": "execute_result"
    }
   ],
   "source": [
    "rfc = RandomForestClassifier(random_state=42,n_jobs=-1)\n",
    "\n",
    "rfc.fit(X_train_tf_df, y_train)"
   ]
  },
  {
   "cell_type": "code",
   "execution_count": 21,
   "metadata": {
    "ExecuteTime": {
     "end_time": "2021-09-10T21:55:11.241184Z",
     "start_time": "2021-09-10T21:55:05.352198Z"
    },
    "scrolled": false
   },
   "outputs": [
    {
     "name": "stdout",
     "output_type": "stream",
     "text": [
      "\n",
      "|-------------------------------- Classification Metrics -----------------------------------|\n",
      "\n",
      "Training balanced recall score: 0.96\n",
      "Testing balanced recall score: 0.87\n",
      "\t- The training score is larger by 0.09 points.\n",
      "\n",
      "Training data log loss: 0.56\n",
      "Testing data log loss: 0.53\n",
      "\n",
      "\n",
      "\n",
      "|---------------------------- Classification Report - Testing Data -------------------------|\n",
      "\n",
      "              precision    recall  f1-score   support\n",
      "\n",
      "           0       0.90      0.92      0.91     18792\n",
      "           1       0.86      0.82      0.84     11056\n",
      "\n",
      "    accuracy                           0.88     29848\n",
      "   macro avg       0.88      0.87      0.87     29848\n",
      "weighted avg       0.88      0.88      0.88     29848\n",
      "\n"
     ]
    },
    {
     "data": {
      "image/png": "[encoded data removed]",
      "text/plain": [
       "<Figure size 720x288 with 3 Axes>"
      ]
     },
     "metadata": {
      "needs_background": "light"
     },
     "output_type": "display_data"
    }
   ],
   "source": [
    "clf.evaluate_classification(rfc, X_train = X_train_tf_df, y_train = y_train,\n",
    "                           X_test = X_test_tf_df, y_test = y_test,\n",
    "                          metric = 'balanced recall')"
   ]
  },
  {
   "cell_type": "code",
   "execution_count": 22,
   "metadata": {
    "ExecuteTime": {
     "end_time": "2021-09-10T21:55:11.877189Z",
     "start_time": "2021-09-10T21:55:11.244185Z"
    },
    "scrolled": false
   },
   "outputs": [
    {
     "data": {
      "image/png": "[encoded data removed]",
      "text/plain": [
       "<Figure size 432x288 with 1 Axes>"
      ]
     },
     "metadata": {
      "needs_background": "light"
     },
     "output_type": "display_data"
    }
   ],
   "source": [
    "clf.plot_importances(rfc, X_train_tf_df)"
   ]
  },
  {
   "cell_type": "markdown",
   "metadata": {},
   "source": [
    "# **ExtraTreesClassifier**"
   ]
  },
  {
   "cell_type": "markdown",
   "metadata": {},
   "source": [
    "---\n",
    "\n",
    "**Results:**\n",
    "\n",
    "> Training balanced recall score: 1.0\n",
    "> \n",
    "> Testing balanced recall score: 0.87\n",
    "> \n",
    "> * \n",
    ">\n",
    "> Training data log loss: 0.01\n",
    ">\n",
    "> Testing data log loss: 0.33\n",
    "\n",
    "---\n",
    "\n",
    "**Interpretation**\n",
    "\n",
    "> \n",
    "\n",
    "---"
   ]
  },
  {
   "cell_type": "code",
   "execution_count": 23,
   "metadata": {
    "ExecuteTime": {
     "end_time": "2021-09-10T21:55:34.715404Z",
     "start_time": "2021-09-10T21:55:11.885191Z"
    }
   },
   "outputs": [
    {
     "data": {
      "text/html": [
       "<style>div.sk-top-container {color: black;background-color: white;}div.sk-toggleable {background-color: white;}label.sk-toggleable__label {cursor: pointer;display: block;width: 100%;margin-bottom: 0;padding: 0.2em 0.3em;box-sizing: border-box;text-align: center;}div.sk-toggleable__content {max-height: 0;max-width: 0;overflow: hidden;text-align: left;background-color: #f0f8ff;}div.sk-toggleable__content pre {margin: 0.2em;color: black;border-radius: 0.25em;background-color: #f0f8ff;}input.sk-toggleable__control:checked~div.sk-toggleable__content {max-height: 200px;max-width: 100%;overflow: auto;}div.sk-estimator input.sk-toggleable__control:checked~label.sk-toggleable__label {background-color: #d4ebff;}div.sk-label input.sk-toggleable__control:checked~label.sk-toggleable__label {background-color: #d4ebff;}input.sk-hidden--visually {border: 0;clip: rect(1px 1px 1px 1px);clip: rect(1px, 1px, 1px, 1px);height: 1px;margin: -1px;overflow: hidden;padding: 0;position: absolute;width: 1px;}div.sk-estimator {font-family: monospace;background-color: #f0f8ff;margin: 0.25em 0.25em;border: 1px dotted black;border-radius: 0.25em;box-sizing: border-box;}div.sk-estimator:hover {background-color: #d4ebff;}div.sk-parallel-item::after {content: \"\";width: 100%;border-bottom: 1px solid gray;flex-grow: 1;}div.sk-label:hover label.sk-toggleable__label {background-color: #d4ebff;}div.sk-serial::before {content: \"\";position: absolute;border-left: 1px solid gray;box-sizing: border-box;top: 2em;bottom: 0;left: 50%;}div.sk-serial {display: flex;flex-direction: column;align-items: center;background-color: white;}div.sk-item {z-index: 1;}div.sk-parallel {display: flex;align-items: stretch;justify-content: center;background-color: white;}div.sk-parallel-item {display: flex;flex-direction: column;position: relative;background-color: white;}div.sk-parallel-item:first-child::after {align-self: flex-end;width: 50%;}div.sk-parallel-item:last-child::after {align-self: flex-start;width: 50%;}div.sk-parallel-item:only-child::after {width: 0;}div.sk-dashed-wrapped {border: 1px dashed gray;margin: 0.2em;box-sizing: border-box;padding-bottom: 0.1em;background-color: white;position: relative;}div.sk-label label {font-family: monospace;font-weight: bold;background-color: white;display: inline-block;line-height: 1.2em;}div.sk-label-container {position: relative;z-index: 2;text-align: center;}div.sk-container {display: inline-block;position: relative;}</style><div class=\"sk-top-container\"><div class=\"sk-container\"><div class=\"sk-item\"><div class=\"sk-estimator sk-toggleable\"><input class=\"sk-toggleable__control sk-hidden--visually\" id=\"e69ee2da-d92e-4308-a579-3f25d1544b7b\" type=\"checkbox\" checked><label class=\"sk-toggleable__label\" for=\"e69ee2da-d92e-4308-a579-3f25d1544b7b\">ExtraTreesClassifier</label><div class=\"sk-toggleable__content\"><pre>ExtraTreesClassifier(n_jobs=-1, random_state=42)</pre></div></div></div></div></div>"
      ],
      "text/plain": [
       "ExtraTreesClassifier(n_jobs=-1, random_state=42)"
      ]
     },
     "execution_count": 23,
     "metadata": {},
     "output_type": "execute_result"
    }
   ],
   "source": [
    "etc = ExtraTreesClassifier(random_state=42,n_jobs = -1)\n",
    "\n",
    "etc.fit(X_train_tf_df, y_train)"
   ]
  },
  {
   "cell_type": "code",
   "execution_count": 24,
   "metadata": {
    "ExecuteTime": {
     "end_time": "2021-09-10T21:55:41.526871Z",
     "start_time": "2021-09-10T21:55:34.722404Z"
    },
    "scrolled": true
   },
   "outputs": [
    {
     "name": "stdout",
     "output_type": "stream",
     "text": [
      "\n",
      "|-------------------------------- Classification Metrics -----------------------------------|\n",
      "\n",
      "Training balanced recall score: 1.0\n",
      "Testing balanced recall score: 0.86\n",
      "\t- The training score is larger by 0.14 points.\n",
      "\n",
      "Training data log loss: 0.01\n",
      "Testing data log loss: 0.38\n",
      "\n",
      "\n",
      "\n",
      "|---------------------------- Classification Report - Testing Data -------------------------|\n",
      "\n",
      "              precision    recall  f1-score   support\n",
      "\n",
      "           0       0.89      0.92      0.91     18792\n",
      "           1       0.86      0.81      0.83     11056\n",
      "\n",
      "    accuracy                           0.88     29848\n",
      "   macro avg       0.88      0.86      0.87     29848\n",
      "weighted avg       0.88      0.88      0.88     29848\n",
      "\n"
     ]
    },
    {
     "data": {
      "image/png": "[encoded data removed]",
      "text/plain": [
       "<Figure size 720x288 with 3 Axes>"
      ]
     },
     "metadata": {
      "needs_background": "light"
     },
     "output_type": "display_data"
    }
   ],
   "source": [
    "clf.evaluate_classification(etc, X_train = X_train_tf_df, y_train = y_train,\n",
    "                           X_test = X_test_tf_df, y_test = y_test,\n",
    "                          metric = 'balanced recall')"
   ]
  },
  {
   "cell_type": "markdown",
   "metadata": {},
   "source": [
    "# XGBoost Classifier"
   ]
  },
  {
   "cell_type": "code",
   "execution_count": 25,
   "metadata": {
    "ExecuteTime": {
     "end_time": "2021-09-10T21:56:03.419491Z",
     "start_time": "2021-09-10T21:55:41.528873Z"
    }
   },
   "outputs": [
    {
     "data": {
      "text/html": [
       "<style>div.sk-top-container {color: black;background-color: white;}div.sk-toggleable {background-color: white;}label.sk-toggleable__label {cursor: pointer;display: block;width: 100%;margin-bottom: 0;padding: 0.2em 0.3em;box-sizing: border-box;text-align: center;}div.sk-toggleable__content {max-height: 0;max-width: 0;overflow: hidden;text-align: left;background-color: #f0f8ff;}div.sk-toggleable__content pre {margin: 0.2em;color: black;border-radius: 0.25em;background-color: #f0f8ff;}input.sk-toggleable__control:checked~div.sk-toggleable__content {max-height: 200px;max-width: 100%;overflow: auto;}div.sk-estimator input.sk-toggleable__control:checked~label.sk-toggleable__label {background-color: #d4ebff;}div.sk-label input.sk-toggleable__control:checked~label.sk-toggleable__label {background-color: #d4ebff;}input.sk-hidden--visually {border: 0;clip: rect(1px 1px 1px 1px);clip: rect(1px, 1px, 1px, 1px);height: 1px;margin: -1px;overflow: hidden;padding: 0;position: absolute;width: 1px;}div.sk-estimator {font-family: monospace;background-color: #f0f8ff;margin: 0.25em 0.25em;border: 1px dotted black;border-radius: 0.25em;box-sizing: border-box;}div.sk-estimator:hover {background-color: #d4ebff;}div.sk-parallel-item::after {content: \"\";width: 100%;border-bottom: 1px solid gray;flex-grow: 1;}div.sk-label:hover label.sk-toggleable__label {background-color: #d4ebff;}div.sk-serial::before {content: \"\";position: absolute;border-left: 1px solid gray;box-sizing: border-box;top: 2em;bottom: 0;left: 50%;}div.sk-serial {display: flex;flex-direction: column;align-items: center;background-color: white;}div.sk-item {z-index: 1;}div.sk-parallel {display: flex;align-items: stretch;justify-content: center;background-color: white;}div.sk-parallel-item {display: flex;flex-direction: column;position: relative;background-color: white;}div.sk-parallel-item:first-child::after {align-self: flex-end;width: 50%;}div.sk-parallel-item:last-child::after {align-self: flex-start;width: 50%;}div.sk-parallel-item:only-child::after {width: 0;}div.sk-dashed-wrapped {border: 1px dashed gray;margin: 0.2em;box-sizing: border-box;padding-bottom: 0.1em;background-color: white;position: relative;}div.sk-label label {font-family: monospace;font-weight: bold;background-color: white;display: inline-block;line-height: 1.2em;}div.sk-label-container {position: relative;z-index: 2;text-align: center;}div.sk-container {display: inline-block;position: relative;}</style><div class=\"sk-top-container\"><div class=\"sk-container\"><div class=\"sk-item\"><div class=\"sk-estimator sk-toggleable\"><input class=\"sk-toggleable__control sk-hidden--visually\" id=\"a2c1d8a6-8f65-489e-8562-a6290a436906\" type=\"checkbox\" checked><label class=\"sk-toggleable__label\" for=\"a2c1d8a6-8f65-489e-8562-a6290a436906\">XGBClassifier</label><div class=\"sk-toggleable__content\"><pre>XGBClassifier(base_score=0.5, booster='gbtree', colsample_bylevel=1,\n",
       "              colsample_bynode=1, colsample_bytree=1, gamma=0, gpu_id=-1,\n",
       "              importance_type='gain', interaction_constraints='',\n",
       "              learning_rate=0.300000012, max_delta_step=0, max_depth=6,\n",
       "              min_child_weight=1, missing=nan, monotone_constraints='()',\n",
       "              n_estimators=100, n_jobs=0, num_parallel_tree=1, random_state=0,\n",
       "              reg_alpha=0, reg_lambda=1, scale_pos_weight=1, subsample=1,\n",
       "              tree_method='exact', validate_parameters=1, verbosity=None)</pre></div></div></div></div></div>"
      ],
      "text/plain": [
       "XGBClassifier(base_score=0.5, booster='gbtree', colsample_bylevel=1,\n",
       "              colsample_bynode=1, colsample_bytree=1, gamma=0, gpu_id=-1,\n",
       "              importance_type='gain', interaction_constraints='',\n",
       "              learning_rate=0.300000012, max_delta_step=0, max_depth=6,\n",
       "              min_child_weight=1, missing=nan, monotone_constraints='()',\n",
       "              n_estimators=100, n_jobs=0, num_parallel_tree=1, random_state=0,\n",
       "              reg_alpha=0, reg_lambda=1, scale_pos_weight=1, subsample=1,\n",
       "              tree_method='exact', validate_parameters=1, verbosity=None)"
      ]
     },
     "execution_count": 25,
     "metadata": {},
     "output_type": "execute_result"
    }
   ],
   "source": [
    "xgbc = XGBClassifier()\n",
    "xgbc.fit(X_train_tf_df, y_train)"
   ]
  },
  {
   "cell_type": "code",
   "execution_count": 26,
   "metadata": {
    "ExecuteTime": {
     "end_time": "2021-09-10T21:56:07.467788Z",
     "start_time": "2021-09-10T21:56:03.422493Z"
    }
   },
   "outputs": [
    {
     "name": "stdout",
     "output_type": "stream",
     "text": [
      "\n",
      "|-------------------------------- Classification Metrics -----------------------------------|\n",
      "\n",
      "Training balanced recall score: 0.9\n",
      "Testing balanced recall score: 0.86\n",
      "\t- The training score is larger by 0.04 points.\n",
      "\n",
      "Training data log loss: 0.22\n",
      "Testing data log loss: 0.29\n",
      "\n",
      "\n",
      "\n",
      "|---------------------------- Classification Report - Testing Data -------------------------|\n",
      "\n",
      "              precision    recall  f1-score   support\n",
      "\n",
      "           0       0.89      0.90      0.90     18792\n",
      "           1       0.83      0.81      0.82     11056\n",
      "\n",
      "    accuracy                           0.87     29848\n",
      "   macro avg       0.86      0.86      0.86     29848\n",
      "weighted avg       0.87      0.87      0.87     29848\n",
      "\n"
     ]
    },
    {
     "data": {
      "image/png": "[encoded data removed]",
      "text/plain": [
       "<Figure size 720x288 with 3 Axes>"
      ]
     },
     "metadata": {
      "needs_background": "light"
     },
     "output_type": "display_data"
    }
   ],
   "source": [
    "clf.evaluate_classification(xgbc, X_train = X_train_tf_df,y_train = y_train,\n",
    "                           X_test = X_test_tf_df, y_test = y_test,\n",
    "                          metric = 'balanced recall')"
   ]
  },
  {
   "cell_type": "markdown",
   "metadata": {
    "ExecuteTime": {
     "end_time": "2021-09-10T13:53:05.110549Z",
     "start_time": "2021-09-10T13:53:04.871349Z"
    }
   },
   "source": [
    "# GridSearches and Results"
   ]
  },
  {
   "cell_type": "markdown",
   "metadata": {},
   "source": [
    "## GS: Logistic Regression"
   ]
  },
  {
   "cell_type": "markdown",
   "metadata": {},
   "source": [
    "---\n",
    "**Scores**\n",
    "\n",
    "> Training balanced accuracy score: .82\n",
    "> \n",
    "> Testing balanced accuracy score: .81\n",
    "> \n",
    "> * \n",
    ">\n",
    "> Training data log loss: .38\n",
    ">\n",
    "> Testing data log loss: .40\n",
    "\n",
    "---\n",
    "\n",
    "**Best Parameters**\n",
    "\n",
    "> {'C': 10, 'max_iter': 500}\n",
    "\n",
    "**Interpretation**\n",
    "\n",
    "> \n",
    "\n",
    "---"
   ]
  },
  {
   "cell_type": "code",
   "execution_count": 27,
   "metadata": {
    "ExecuteTime": {
     "end_time": "2021-09-10T21:56:07.733173Z",
     "start_time": "2021-09-10T21:56:07.469790Z"
    }
   },
   "outputs": [],
   "source": [
    "# lg_params = {\n",
    "#     'max_iter': [500, 750],\n",
    "#     'C': [.01, 1, 10]\n",
    "# }"
   ]
  },
  {
   "cell_type": "code",
   "execution_count": 28,
   "metadata": {
    "ExecuteTime": {
     "end_time": "2021-09-10T21:56:08.013861Z",
     "start_time": "2021-09-10T21:56:07.736132Z"
    }
   },
   "outputs": [],
   "source": [
    "# ## LogReg Model\n",
    "# lrgs = GridSearchCV(LogisticRegression(random_state = 42),lg_params,\n",
    "#                     scoring = 'average_precision', verbose = 3)\n",
    "\n",
    "# lrgs.fit(X_train_tf_df, y_train)"
   ]
  },
  {
   "cell_type": "code",
   "execution_count": 29,
   "metadata": {
    "ExecuteTime": {
     "end_time": "2021-09-10T21:56:08.279842Z",
     "start_time": "2021-09-10T21:56:08.015861Z"
    }
   },
   "outputs": [],
   "source": [
    "# clf.evaluate_classification(lrgs, X_train = X_train_tf_df,y_train = y_train,\n",
    "#                            X_test = X_test_tf_df, y_test = y_test)"
   ]
  },
  {
   "cell_type": "code",
   "execution_count": 30,
   "metadata": {
    "ExecuteTime": {
     "end_time": "2021-09-10T21:56:08.590844Z",
     "start_time": "2021-09-10T21:56:08.281841Z"
    }
   },
   "outputs": [],
   "source": [
    "# lrgs.best_params_"
   ]
  },
  {
   "cell_type": "code",
   "execution_count": 31,
   "metadata": {
    "ExecuteTime": {
     "end_time": "2021-09-10T21:56:08.900357Z",
     "start_time": "2021-09-10T21:56:08.593848Z"
    }
   },
   "outputs": [],
   "source": [
    "# lrgs.best_score_"
   ]
  },
  {
   "cell_type": "code",
   "execution_count": 32,
   "metadata": {
    "ExecuteTime": {
     "end_time": "2021-09-10T21:56:09.183362Z",
     "start_time": "2021-09-10T21:56:08.903361Z"
    }
   },
   "outputs": [],
   "source": [
    "# lrgs.best_estimator_"
   ]
  },
  {
   "cell_type": "markdown",
   "metadata": {},
   "source": [
    "## **GS: Extra Trees Classifier v1**"
   ]
  },
  {
   "cell_type": "markdown",
   "metadata": {},
   "source": [
    "---\n",
    "\n",
    "**Scores**\n",
    "\n",
    "> Training balanced accuracy score: 1.0\n",
    "> \n",
    "> **Testing balanced accuracy score: .87**\n",
    "> \n",
    "> * *The training score is larger by 0.13 points.*\n",
    ">\n",
    "> Training data log loss: .05\n",
    ">\n",
    "> Testing data log loss: .30\n",
    "\n",
    "---\n",
    "\n",
    "**Best Parameters**\n",
    "\n",
    "> {'criterion': 'entropy', 'max_depth': 50, 'min_samples_leaf': 1}\n",
    "\n",
    "---\n",
    "\n",
    "**Interpretation**\n",
    "\n",
    "> \n",
    "\n",
    "---"
   ]
  },
  {
   "cell_type": "code",
   "execution_count": 33,
   "metadata": {
    "ExecuteTime": {
     "end_time": "2021-09-10T21:56:09.448370Z",
     "start_time": "2021-09-10T21:56:09.185369Z"
    },
    "code_folding": []
   },
   "outputs": [],
   "source": [
    "# etc_params = {\n",
    "#     'criterion': ['gini', 'entropy'],\n",
    "#     'max_depth': [30, 50],\n",
    "#     'min_samples_leaf': [1,2,3]\n",
    "# }"
   ]
  },
  {
   "cell_type": "code",
   "execution_count": 34,
   "metadata": {
    "ExecuteTime": {
     "end_time": "2021-09-10T21:56:09.715359Z",
     "start_time": "2021-09-10T21:56:09.451359Z"
    },
    "code_folding": []
   },
   "outputs": [],
   "source": [
    "# etgs = GridSearchCV(ExtraTreesClassifier(random_state = 42, n_jobs=-1),etc_params,\n",
    "#                     scoring = 'average_precision', verbose = 2)\n",
    "\n",
    "# etgs.fit(X_train_tf_df, y_train)"
   ]
  },
  {
   "cell_type": "code",
   "execution_count": 35,
   "metadata": {
    "ExecuteTime": {
     "end_time": "2021-09-10T21:56:09.964379Z",
     "start_time": "2021-09-10T21:56:09.717360Z"
    },
    "code_folding": [],
    "scrolled": true
   },
   "outputs": [],
   "source": [
    "# etgs.best_params_"
   ]
  },
  {
   "cell_type": "code",
   "execution_count": 36,
   "metadata": {
    "ExecuteTime": {
     "end_time": "2021-09-10T21:56:10.337376Z",
     "start_time": "2021-09-10T21:56:09.968378Z"
    }
   },
   "outputs": [],
   "source": [
    "# etgs.best_score_"
   ]
  },
  {
   "cell_type": "code",
   "execution_count": 37,
   "metadata": {
    "ExecuteTime": {
     "end_time": "2021-09-10T21:56:10.602378Z",
     "start_time": "2021-09-10T21:56:10.339377Z"
    }
   },
   "outputs": [],
   "source": [
    "# clf.evaluate_classificatioan(etgs.best_estimator_, X_train = X_train_tf_df,y_train = y_train,\n",
    "#                            X_test = X_test_tf_df, y_test = y_test,\n",
    "#                           metric = 'balanced recall')"
   ]
  },
  {
   "cell_type": "markdown",
   "metadata": {},
   "source": [
    "## **GS: Extra Trees Classifier v2**"
   ]
  },
  {
   "cell_type": "markdown",
   "metadata": {},
   "source": [
    "---\n",
    "\n",
    "**Scores**\n",
    "\n",
    "> Training balanced accuracy score: 1.0\n",
    "> \n",
    "> Testing balanced accuracy score: .87\n",
    "> \n",
    "> * *The training score is larger by 0.13 points.*\n",
    ">\n",
    "> Training data log loss: .05\n",
    ">\n",
    "> Testing data log loss: .30\n",
    "\n",
    "---\n",
    "\n",
    "**Best Parameters**\n",
    "\n",
    "> {'criterion': 'entropy', 'max_depth': 65, 'min_samples_leaf': 1, 'min_samples_split': 3}\n",
    "\n",
    "---\n",
    "\n",
    "**Interpretation**\n",
    "\n",
    "> \n",
    "\n",
    "---"
   ]
  },
  {
   "cell_type": "code",
   "execution_count": 38,
   "metadata": {
    "ExecuteTime": {
     "end_time": "2021-09-10T21:56:10.851428Z",
     "start_time": "2021-09-10T21:56:10.604379Z"
    }
   },
   "outputs": [],
   "source": [
    "# etc_params = {'max_depth': [55,65],\n",
    "#               'min_samples_split': [2,3]\n",
    "# }\n",
    "\n",
    "# etgs = GridSearchCV(ExtraTreesClassifier(criterion = 'entropy',\n",
    "#                                          random_state = 42, n_jobs=-1),\n",
    "#                     etc_params,scoring = 'average_precision',verbose = 2)\n",
    "\n",
    "# etgs.fit(X_train_tf_df, y_train)"
   ]
  },
  {
   "cell_type": "code",
   "execution_count": 39,
   "metadata": {
    "ExecuteTime": {
     "end_time": "2021-09-10T21:56:11.086550Z",
     "start_time": "2021-09-10T21:56:10.854429Z"
    }
   },
   "outputs": [],
   "source": [
    "# etgs.best_params_"
   ]
  },
  {
   "cell_type": "code",
   "execution_count": 40,
   "metadata": {
    "ExecuteTime": {
     "end_time": "2021-09-10T21:56:11.320563Z",
     "start_time": "2021-09-10T21:56:11.089512Z"
    }
   },
   "outputs": [],
   "source": [
    "# etgs.best_score_"
   ]
  },
  {
   "cell_type": "code",
   "execution_count": 41,
   "metadata": {
    "ExecuteTime": {
     "end_time": "2021-09-10T21:56:11.568606Z",
     "start_time": "2021-09-10T21:56:11.322562Z"
    }
   },
   "outputs": [],
   "source": [
    "# clf.evaluate_classification(etgs.best_estimator_, X_train = X_train_tf_df,y_train = y_train,\n",
    "#                            X_test = X_test_tf_df, y_test = y_test,\n",
    "#                           metric = 'balanced recall')"
   ]
  },
  {
   "cell_type": "code",
   "execution_count": 42,
   "metadata": {
    "ExecuteTime": {
     "end_time": "2021-09-10T21:56:11.818306Z",
     "start_time": "2021-09-10T21:56:11.571604Z"
    }
   },
   "outputs": [],
   "source": [
    "# best_etc = ExtraTreesClassifier(max_depth = 65, min_samples_split=3, \n",
    "#                                 criterion = 'entropy',random_state = 42,\n",
    "#                                 n_jobs=-1)"
   ]
  },
  {
   "cell_type": "code",
   "execution_count": 43,
   "metadata": {
    "ExecuteTime": {
     "end_time": "2021-09-10T21:56:12.084128Z",
     "start_time": "2021-09-10T21:56:11.821083Z"
    }
   },
   "outputs": [],
   "source": [
    "# best_etc.fit(X_train_tf_df, y_train)"
   ]
  },
  {
   "cell_type": "markdown",
   "metadata": {},
   "source": [
    "# Collecting Coeffcients and Inspecting Importances"
   ]
  },
  {
   "cell_type": "markdown",
   "metadata": {},
   "source": [
    "## **Collecting Coefficients**"
   ]
  },
  {
   "cell_type": "markdown",
   "metadata": {
    "ExecuteTime": {
     "end_time": "2021-09-08T14:26:58.848264Z",
     "start_time": "2021-09-08T14:26:58.725265Z"
    }
   },
   "source": [
    "---\n",
    "\n",
    "> I feel confident in my logistic regression's score. Now I will collect the results for my features and generate a visualization of the results.\n",
    "\n",
    "---"
   ]
  },
  {
   "cell_type": "code",
   "execution_count": 44,
   "metadata": {
    "ExecuteTime": {
     "end_time": "2021-09-10T21:56:12.318221Z",
     "start_time": "2021-09-10T21:56:12.086124Z"
    }
   },
   "outputs": [
    {
     "data": {
      "text/plain": [
       "deposit_type_Non Refund        3.00\n",
       "arrival_date_month_December    2.40\n",
       "reserved_room_type_P           2.28\n",
       "country_ARE                    2.18\n",
       "arrival_date_month_November    2.05\n",
       "                               ... \n",
       "arrival_date_month_February   -1.77\n",
       "country_SRB                   -1.78\n",
       "country_LTU                   -2.06\n",
       "arrival_date_month_January    -2.41\n",
       "required_car_parking_spaces   -3.99\n",
       "Length: 238, dtype: float64"
      ]
     },
     "execution_count": 44,
     "metadata": {},
     "output_type": "execute_result"
    }
   ],
   "source": [
    "## Collecting coefficients for each feature as a Series\n",
    "lr_coefs = pd.Series(logreg.coef_.flatten(), index=X_train_tf_df.columns)\n",
    "lr_coefs.sort_values(ascending=False, inplace=True)\n",
    "lr_coefs"
   ]
  },
  {
   "cell_type": "code",
   "execution_count": 45,
   "metadata": {
    "ExecuteTime": {
     "end_time": "2021-09-10T21:56:12.564247Z",
     "start_time": "2021-09-10T21:56:12.320232Z"
    }
   },
   "outputs": [
    {
     "data": {
      "text/plain": [
       "deposit_type_Non Refund        3.00\n",
       "arrival_date_month_December    2.40\n",
       "reserved_room_type_P           2.28\n",
       "country_ARE                    2.18\n",
       "arrival_date_month_November    2.05\n",
       "arrival_date_month_February   -1.77\n",
       "country_SRB                   -1.78\n",
       "country_LTU                   -2.06\n",
       "arrival_date_month_January    -2.41\n",
       "required_car_parking_spaces   -3.99\n",
       "dtype: float64"
      ]
     },
     "execution_count": 45,
     "metadata": {},
     "output_type": "execute_result"
    }
   ],
   "source": [
    "## Converting top/bottom 5 values into a Series\n",
    "log_odds = pd.concat([lr_coefs.head(5), lr_coefs.tail(5)])\n",
    "log_odds"
   ]
  },
  {
   "cell_type": "code",
   "execution_count": 46,
   "metadata": {
    "ExecuteTime": {
     "end_time": "2021-09-10T21:56:12.827263Z",
     "start_time": "2021-09-10T21:56:12.568235Z"
    }
   },
   "outputs": [
    {
     "data": {
      "text/plain": [
       "['Deposit Type Non Refund',\n",
       " 'Arrival Date Month December',\n",
       " 'Reserved Room Type P',\n",
       " 'Country Are',\n",
       " 'Arrival Date Month November',\n",
       " 'Arrival Date Month February',\n",
       " 'Country Srb',\n",
       " 'Country Ltu',\n",
       " 'Arrival Date Month January',\n",
       " 'Required Car Parking Spaces']"
      ]
     },
     "execution_count": 46,
     "metadata": {},
     "output_type": "execute_result"
    }
   ],
   "source": [
    "## Formatting index labels to become visualization labels\n",
    "new_labels_list = [i.replace('_', ' ').title() for i in list(log_odds.index)]\n",
    "new_labels_list"
   ]
  },
  {
   "cell_type": "code",
   "execution_count": 47,
   "metadata": {
    "ExecuteTime": {
     "end_time": "2021-09-10T21:56:13.063338Z",
     "start_time": "2021-09-10T21:56:12.829232Z"
    },
    "scrolled": true
   },
   "outputs": [
    {
     "data": {
      "text/plain": [
       "{'deposit_type_Non Refund': 'Deposit Type Non Refund',\n",
       " 'arrival_date_month_December': 'Arrival Date Month December',\n",
       " 'reserved_room_type_P': 'Reserved Room Type P',\n",
       " 'country_ARE': 'Country Are',\n",
       " 'arrival_date_month_November': 'Arrival Date Month November',\n",
       " 'arrival_date_month_February': 'Arrival Date Month February',\n",
       " 'country_SRB': 'Country Srb',\n",
       " 'country_LTU': 'Country Ltu',\n",
       " 'arrival_date_month_January': 'Arrival Date Month January',\n",
       " 'required_car_parking_spaces': 'Required Car Parking Spaces'}"
      ]
     },
     "execution_count": 47,
     "metadata": {},
     "output_type": "execute_result"
    }
   ],
   "source": [
    "## Creating a dictionary to replace the old lables with the new ones\n",
    "new_labels_dict = { k:v for (k,v) in zip(log_odds.index, new_labels_list)}\n",
    "new_labels_dict"
   ]
  },
  {
   "cell_type": "code",
   "execution_count": 48,
   "metadata": {
    "ExecuteTime": {
     "end_time": "2021-09-10T21:56:13.325235Z",
     "start_time": "2021-09-10T21:56:13.065270Z"
    }
   },
   "outputs": [
    {
     "data": {
      "text/plain": [
       "Required Car Parking Spaces   -3.99\n",
       "Arrival Date Month January    -2.41\n",
       "Country Ltu                   -2.06\n",
       "Country Srb                   -1.78\n",
       "Arrival Date Month February   -1.77\n",
       "Arrival Date Month November    2.05\n",
       "Country Are                    2.18\n",
       "Reserved Room Type P           2.28\n",
       "Arrival Date Month December    2.40\n",
       "Deposit Type Non Refund        3.00\n",
       "dtype: float64"
      ]
     },
     "execution_count": 48,
     "metadata": {},
     "output_type": "execute_result"
    }
   ],
   "source": [
    "## Renaming Series index\n",
    "log_odds = log_odds.rename(new_labels_dict)\n",
    "log_odds.sort_values(inplace=True)\n",
    "\n",
    "log_odds"
   ]
  },
  {
   "cell_type": "code",
   "execution_count": 49,
   "metadata": {
    "ExecuteTime": {
     "end_time": "2021-09-10T21:56:13.997401Z",
     "start_time": "2021-09-10T21:56:13.327234Z"
    },
    "scrolled": true
   },
   "outputs": [
    {
     "data": {
      "image/png": "[encoded data removed]",
      "text/plain": [
       "<Figure size 504x288 with 1 Axes>"
      ]
     },
     "metadata": {},
     "output_type": "display_data"
    }
   ],
   "source": [
    "## Visualizing log-odds\n",
    "\n",
    "fig, ax = plt.subplots(figsize=(7,4))\n",
    "\n",
    "ax = log_odds.plot(kind='barh', ax=ax)\n",
    "ax.axvline(linestyle = '-', c='k')\n",
    "ax.set_xlabel('Log-Odds')\n",
    "ax.set_ylabel('Feature Name')\n",
    "fig.suptitle('Top and Bottom Five Features')\n",
    "ax.set_facecolor('0.9')\n",
    "fig.set_facecolor('0.975')\n",
    "plt.savefig('./img/log_odds.png',transparent=False, bbox_inches='tight',\n",
    "           dpi=100)\n",
    "plt.show()\n",
    "plt.close()"
   ]
  },
  {
   "cell_type": "markdown",
   "metadata": {},
   "source": [
    "---\n",
    "\n",
    "***May the (Log-)Odds be Ever in Your Favor***\n",
    "\n",
    "> Based on the logistic regression model coefficients, I see that reservations are **most likely to cancel** if they:\n",
    "* Require non-refundable deposits (possibly 3rd-party booking sites like )\n",
    "* Are booked by agents 17 or 240\n",
    "* Have previous cancellations\n",
    "* Guests are from Portugal ([PRT is the three letter ISO 3166-1 code for Portugal](https://en.wikipedia.org/wiki/Portugal#:~:text=ISO%203166%20code,PT))\n",
    ">\n",
    "> Alternatively, reservations are **least likely to cancel** if they:\n",
    "* Do NOT require a deposit\n",
    "* Require parking spaces\n",
    "* Reserve room type \"A\"\n",
    "* Are assigned to room type \"I\"\n",
    "* Are booked by agent 152\n",
    "\n",
    "***Oddities in the Results***\n",
    "\n",
    "> **Non-Refundable Deposit Requirement**\n",
    "* May be associated with 3rd party travel groups like Priceline/Expedia/etc.\n",
    "    * Often require pre-payment to the booking group/agent to confirm booking\n",
    ">\n",
    "> **Country of Origin: Portugal**\n",
    "* Could these hotels be located in Portugal and have a larger percentage of domestic travelers?\n",
    ">\n",
    "> **Room Assignment, Required Car Parking Spaces**\n",
    "* These features may be generated post-stay and may not be available prior to arrival\n",
    "* Parking spot requirements may be specified prior to arrival, but not as likely in my personal experience.\n",
    "\n",
    "---"
   ]
  },
  {
   "cell_type": "markdown",
   "metadata": {},
   "source": [
    "## Inspecting Importances"
   ]
  },
  {
   "cell_type": "code",
   "execution_count": 50,
   "metadata": {
    "ExecuteTime": {
     "end_time": "2021-09-10T21:56:14.477482Z",
     "start_time": "2021-09-10T21:56:13.999400Z"
    }
   },
   "outputs": [
    {
     "data": {
      "image/png": "[encoded data removed]",
      "text/plain": [
       "<Figure size 432x288 with 1 Axes>"
      ]
     },
     "metadata": {
      "needs_background": "light"
     },
     "output_type": "display_data"
    }
   ],
   "source": [
    "clf.plot_importances(etc, X_test_tf_df)"
   ]
  },
  {
   "cell_type": "markdown",
   "metadata": {},
   "source": [
    "# **Interpreting Results**"
   ]
  },
  {
   "cell_type": "markdown",
   "metadata": {},
   "source": [
    "## 🛑 FIX: adjust for context "
   ]
  },
  {
   "cell_type": "markdown",
   "metadata": {},
   "source": [
    "---\n",
    "\n",
    "**Odd Features**\n",
    "\n",
    "> Now that I completed my modeling steps, I will review the results of each model and determine my final recommendations.\n",
    ">\n",
    "> My main models are a standard logistic regression and a Balanced Random Forest classifier (\"BRFC\"). **Each model provides a different way of identifying which features are most impactful: logistic regressions provide \"log-odds\" and a Balanced Random Forest Classifier produces \"feature importances.\"** Both will require some processing for easy interpretation.\n",
    "\n",
    "**Feature Importances and SHAP**\n",
    "\n",
    "> As I mention above, tree-based models, including my BRFC-model, return \"feature importances\" instead of the coefficients associated with linear/logistic regressions. These values are useful to show the impact of a given feature on the decision-making steps of the tree model. \n",
    ">\n",
    ">However, these feature importances suffer from one key weakness: *they do not indicate if a feature increases or decreases the likelihood of a reservation canceling (my target feature).*\n",
    ">\n",
    "> I will utilize a visualization package called **SHAP** to produce \"Shapely values\" for each feature. These values indicate each feature's marginal contribution to the model - answering the question, \"*How well does the model perform with this feature than without?*\" \n",
    "\n",
    "**Seeing is Believing**\n",
    "\n",
    ">Using tools within the package, I will focus on two visualizations:\n",
    "> * The `summary_plot`: visualizing each feature's Shapely value and the feature's values from low-high (relative to each feature).\n",
    ">\n",
    ">\n",
    "> * The `force_plot`: an in-depth look at the forces impacting any given reservation record.\n",
    ">\n",
    "> More information about SHAP:\n",
    "* [SHAP Documentation](https://shap.readthedocs.io/en/latest/?badge=latest)\n",
    "* [SHAP Repository](https://github.com/slundberg/shap)\n",
    "\n",
    "---"
   ]
  },
  {
   "cell_type": "markdown",
   "metadata": {},
   "source": [
    "# **SHAP**"
   ]
  },
  {
   "cell_type": "markdown",
   "metadata": {},
   "source": [
    "---\n",
    "\n",
    "**Purpose**\n",
    "\n",
    "> \n",
    "\n",
    "**Process**\n",
    "\n",
    "> \n",
    "\n",
    "**Performance**\n",
    "\n",
    "> \n",
    "\n",
    "---"
   ]
  },
  {
   "cell_type": "markdown",
   "metadata": {},
   "source": [
    "# 🛑 Fix: Annotate Code and Update"
   ]
  },
  {
   "cell_type": "code",
   "execution_count": 51,
   "metadata": {
    "ExecuteTime": {
     "end_time": "2021-09-10T21:56:15.995409Z",
     "start_time": "2021-09-10T21:56:14.479401Z"
    }
   },
   "outputs": [
    {
     "ename": "Exception",
     "evalue": "Hold for Testing SHAP Visualizations",
     "output_type": "error",
     "traceback": [
      "\u001b[1;31m---------------------------------------------------------------------------\u001b[0m",
      "\u001b[1;31mException\u001b[0m                                 Traceback (most recent call last)",
      "\u001b[1;32m<ipython-input-51-b94cf3b21b5f>\u001b[0m in \u001b[0;36m<module>\u001b[1;34m\u001b[0m\n\u001b[1;32m----> 1\u001b[1;33m \u001b[1;32mraise\u001b[0m \u001b[0mException\u001b[0m\u001b[1;33m(\u001b[0m\u001b[1;34m'Hold for Testing SHAP Visualizations'\u001b[0m\u001b[1;33m)\u001b[0m\u001b[1;33m\u001b[0m\u001b[1;33m\u001b[0m\u001b[0m\n\u001b[0m",
      "\u001b[1;31mException\u001b[0m: Hold for Testing SHAP Visualizations"
     ]
    }
   ],
   "source": [
    "raise Exception('Hold for Testing SHAP Visualizations')"
   ]
  },
  {
   "cell_type": "code",
   "execution_count": null,
   "metadata": {
    "ExecuteTime": {
     "end_time": "2021-09-10T21:56:15.998409Z",
     "start_time": "2021-09-10T21:48:53.492Z"
    }
   },
   "outputs": [],
   "source": [
    " ## Initializing Javascript for SHAP models\n",
    "shap.initjs()"
   ]
  },
  {
   "cell_type": "code",
   "execution_count": null,
   "metadata": {
    "ExecuteTime": {
     "end_time": "2021-09-10T21:56:15.999409Z",
     "start_time": "2021-09-10T21:48:53.496Z"
    }
   },
   "outputs": [],
   "source": [
    "## Generating a sample of the overall data for review:\n",
    "\n",
    "X_shap = shap.sample(X_test_tf_df, nsamples=500)"
   ]
  },
  {
   "cell_type": "markdown",
   "metadata": {},
   "source": [
    "## Attempting TreeExplainer"
   ]
  },
  {
   "cell_type": "markdown",
   "metadata": {},
   "source": [
    "---\n",
    "\n",
    "**DO NOT USE - CRASHES KERNEL**\n",
    "\n",
    "---"
   ]
  },
  {
   "cell_type": "code",
   "execution_count": null,
   "metadata": {
    "ExecuteTime": {
     "end_time": "2021-09-10T21:56:16.001429Z",
     "start_time": "2021-09-10T21:48:53.501Z"
    }
   },
   "outputs": [],
   "source": [
    "# ## Initializing an explainer with the RandomForestClassifier model\n",
    "# t_explainer = shap.TreeExplainer(best_etc, X_shap)"
   ]
  },
  {
   "cell_type": "code",
   "execution_count": null,
   "metadata": {
    "ExecuteTime": {
     "end_time": "2021-09-10T21:56:16.003411Z",
     "start_time": "2021-09-10T21:48:53.504Z"
    }
   },
   "outputs": [],
   "source": [
    "# ## Calculating SHAP values for test data\n",
    "# shap_values = t_explainer.shap_values(X_test_tf_df,y_test)\n",
    "# len(shap_values)"
   ]
  },
  {
   "cell_type": "markdown",
   "metadata": {},
   "source": [
    "## Attempting KernelExplainer"
   ]
  },
  {
   "cell_type": "code",
   "execution_count": null,
   "metadata": {
    "ExecuteTime": {
     "end_time": "2021-09-10T21:56:16.005412Z",
     "start_time": "2021-09-10T21:48:53.509Z"
    }
   },
   "outputs": [],
   "source": [
    "k_explainer = shap.KernelExplainer(etgs.predict, X_shap)\n",
    "k_explainer"
   ]
  },
  {
   "cell_type": "code",
   "execution_count": null,
   "metadata": {
    "ExecuteTime": {
     "end_time": "2021-09-10T21:56:16.006410Z",
     "start_time": "2021-09-10T21:48:53.514Z"
    }
   },
   "outputs": [],
   "source": [
    "## Calculate shap values for test data\n",
    "shap_values = k_explainer.shap_values(X_shap)\n",
    "len(shap_values)"
   ]
  },
  {
   "cell_type": "code",
   "execution_count": null,
   "metadata": {
    "ExecuteTime": {
     "end_time": "2021-09-10T21:56:16.008411Z",
     "start_time": "2021-09-10T21:48:53.517Z"
    }
   },
   "outputs": [],
   "source": [
    "## Inspecting sizes of SHAP values vs. X_train_tf_df data - same # columns\n",
    "shap_values[1].shape, X_test_tf_df.shape"
   ]
  },
  {
   "cell_type": "code",
   "execution_count": null,
   "metadata": {
    "ExecuteTime": {
     "end_time": "2021-09-10T21:56:16.009409Z",
     "start_time": "2021-09-10T21:48:53.521Z"
    },
    "code_folding": []
   },
   "outputs": [],
   "source": [
    "## Visualizing top 25 importances\n",
    "# shap.summary_plot(shap_values, X_test_tf_df, plot_type='bar', max_display=25)"
   ]
  },
  {
   "cell_type": "code",
   "execution_count": null,
   "metadata": {
    "ExecuteTime": {
     "end_time": "2021-09-10T21:56:16.010411Z",
     "start_time": "2021-09-10T21:48:53.524Z"
    }
   },
   "outputs": [],
   "source": [
    "## Better plot\n",
    "shap.summary_plot(shap_values,X_shap,max_display=50)"
   ]
  },
  {
   "cell_type": "markdown",
   "metadata": {},
   "source": [
    "## **Force Plot**"
   ]
  },
  {
   "cell_type": "code",
   "execution_count": null,
   "metadata": {
    "ExecuteTime": {
     "end_time": "2021-09-10T21:56:16.012411Z",
     "start_time": "2021-09-10T21:48:53.528Z"
    }
   },
   "outputs": [],
   "source": [
    "target_lookup = {0:'Check-Out',1:'Canceled'}\n",
    "target_lookup[1]"
   ]
  },
  {
   "cell_type": "code",
   "execution_count": null,
   "metadata": {
    "ExecuteTime": {
     "end_time": "2021-09-10T21:56:16.013411Z",
     "start_time": "2021-09-10T21:48:53.530Z"
    }
   },
   "outputs": [],
   "source": [
    "row = np.random.choice(range(len(shap_values)))\n",
    "print(f\"- Row #: {row}\")\n",
    "print(f\"Class = {target_lookup[y_test.iloc[row]]}\")\n",
    "X_test_tf_df.iloc[row].round(2)"
   ]
  },
  {
   "cell_type": "code",
   "execution_count": null,
   "metadata": {
    "ExecuteTime": {
     "end_time": "2021-09-10T21:56:16.015412Z",
     "start_time": "2021-09-10T21:48:53.533Z"
    }
   },
   "outputs": [],
   "source": [
    "explainer.expected_value"
   ]
  },
  {
   "cell_type": "code",
   "execution_count": null,
   "metadata": {
    "ExecuteTime": {
     "end_time": "2021-09-10T21:56:16.017419Z",
     "start_time": "2021-09-10T21:48:53.536Z"
    }
   },
   "outputs": [],
   "source": [
    "## Individual forceplot\n",
    "shap.force_plot(explainer.expected_value, shap_values[1][row],shap_values.iloc[row])"
   ]
  },
  {
   "cell_type": "code",
   "execution_count": null,
   "metadata": {
    "ExecuteTime": {
     "end_time": "2021-09-10T21:56:16.018410Z",
     "start_time": "2021-09-10T21:48:53.539Z"
    }
   },
   "outputs": [],
   "source": [
    "## Overall Forceplot\n",
    "shap.force_plot(explainer.expected_value[1], shap_values[1],X_test_tf_df)       "
   ]
  },
  {
   "cell_type": "markdown",
   "metadata": {},
   "source": [
    "## Dependence Plot"
   ]
  },
  {
   "cell_type": "code",
   "execution_count": null,
   "metadata": {
    "ExecuteTime": {
     "end_time": "2021-09-10T21:56:16.020412Z",
     "start_time": "2021-09-10T21:48:53.543Z"
    }
   },
   "outputs": [],
   "source": [
    "shap.dependence_plot('Lead Time',shap_values[1],X_test_tf_df)"
   ]
  },
  {
   "cell_type": "markdown",
   "metadata": {},
   "source": [
    "# MVP Notes"
   ]
  },
  {
   "cell_type": "markdown",
   "metadata": {},
   "source": [
    "* CLF results - feature importances\n",
    "* feature importances - visualize via SHAP\n"
   ]
  },
  {
   "cell_type": "markdown",
   "metadata": {},
   "source": [
    "# Reviewing Results"
   ]
  },
  {
   "cell_type": "markdown",
   "metadata": {},
   "source": [
    "---\n",
    "\n",
    "> After testing several models, I found that MODELNAMEHERE produced the most accurate results.\n",
    ">\n",
    "> TOP 5 STRONGEST INDICATORS - Canceled Reservations:\n",
    "> * \n",
    "> * \n",
    "> * \n",
    ">\n",
    "> TOP 5 STRONGEST INDICATORS - Actualized Reservations:\n",
    "> * \n",
    "> * \n",
    "> * \n",
    "\n",
    "---"
   ]
  },
  {
   "cell_type": "markdown",
   "metadata": {},
   "source": [
    "# Recommendations"
   ]
  },
  {
   "cell_type": "markdown",
   "metadata": {},
   "source": [
    "---\n",
    "\n",
    "> Operationally, these results give us data-supported insights into our future guests and their needs. Once deployed, hotels would be able to use this model to forecast potential occupancy and staffing/supply needs. \n",
    ">\n",
    "> Additionally, Operations teams would be able to determine how many and which guests would be the most likely to cancel their reservations. This information is very useful during periods of high-occupancy, particularly when trying to determine which guests to relocate in case of an oversold hotel.\n",
    "\n",
    "---"
   ]
  },
  {
   "cell_type": "markdown",
   "metadata": {},
   "source": [
    "# Future Work"
   ]
  },
  {
   "cell_type": "markdown",
   "metadata": {},
   "source": [
    "---\n",
    "\n",
    "> Add holiday details\n",
    "\n",
    "> Time series modeling - forecasting based off of daily average probabilities (for a given # of arrivals, what is the forecast of %/# CXL?\n",
    "\n",
    "> TSM - vector autoregressive forecasting using features to predict # cxl\n",
    "\n",
    "> *Major stretch goal/future work:* determining likelihood of cancellations at given thresholds - e.g. 0-3, 4-7, 7-14, etc. days out\n",
    "* What would be feature importances/coefficients at each threshold?\n",
    "* Could I group the reservations based on their lead time despite different years?\n",
    "\n",
    "---"
   ]
  },
  {
   "cell_type": "code",
   "execution_count": null,
   "metadata": {},
   "outputs": [],
   "source": []
  }
 ],
 "metadata": {
  "kernelspec": {
   "display_name": "Python [conda env:test_intel_env]",
   "language": "python",
   "name": "conda-env-test_intel_env-py"
  },
  "language_info": {
   "codemirror_mode": {
    "name": "ipython",
    "version": 3
   },
   "file_extension": ".py",
   "mimetype": "text/x-python",
   "name": "python",
   "nbconvert_exporter": "python",
   "pygments_lexer": "ipython3",
   "version": "3.8.5"
  },
  "toc": {
   "base_numbering": 1,
   "nav_menu": {},
   "number_sections": true,
   "sideBar": true,
   "skip_h1_title": false,
   "title_cell": "Table of Contents",
   "title_sidebar": "Contents",
   "toc_cell": true,
   "toc_position": {
    "height": "calc(100% - 180px)",
    "left": "10px",
    "top": "150px",
    "width": "165px"
   },
   "toc_section_display": true,
   "toc_window_display": true
  }
 },
 "nbformat": 4,
 "nbformat_minor": 2
}
