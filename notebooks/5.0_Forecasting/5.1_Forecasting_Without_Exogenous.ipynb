{
 "cells": [
  {
   "cell_type": "markdown",
   "metadata": {},
   "source": [
    "# Time Series Modeling & Forecasting - with Exogenous Features"
   ]
  },
  {
   "cell_type": "markdown",
   "metadata": {},
   "source": [
    "---\n",
    "\n",
    "**Forecasting Cancellations**\n",
    "\n",
    "> * **Goal:** Forecast cancellations for the given hotel data\n",
    "> * **Why:** Predictions only work on preexisting reservations\n",
    "    * *How can we forecast occupancy without depending on preexisting reservations?*\n",
    "> * **How:** Using probabilities generated from prior classification modeling to forecast future cancellations\n",
    "\n",
    "---"
   ]
  },
  {
   "cell_type": "markdown",
   "metadata": {},
   "source": [
    "# **Imports**"
   ]
  },
  {
   "cell_type": "code",
   "execution_count": 2,
   "metadata": {
    "ExecuteTime": {
     "end_time": "2021-10-27T17:20:01.001505Z",
     "start_time": "2021-10-27T17:20:00.932506Z"
    }
   },
   "outputs": [],
   "source": [
    "## JNB tool to reload functions when called\n",
    "%load_ext autoreload\n",
    "%autoreload 2"
   ]
  },
  {
   "cell_type": "code",
   "execution_count": 3,
   "metadata": {},
   "outputs": [],
   "source": [
    "## Enabling access to custom functions in separate directory\n",
    "\n",
    "# Import necessary modules\n",
    "import os\n",
    "import sys\n",
    "\n",
    "# Construct the absolute path to the 'src' directory\n",
    "src_path = os.path.abspath(os.path.join('../..', 'src'))\n",
    "\n",
    "# Append the path to 'sys.path'\n",
    "if src_path not in sys.path:\n",
    "    sys.path.append(src_path)\n",
    "\n",
    "# import db_utils, eda\n",
    "import time_series_modeling as tsm"
   ]
  },
  {
   "cell_type": "code",
   "execution_count": 4,
   "metadata": {
    "ExecuteTime": {
     "end_time": "2021-10-27T17:20:05.952510Z",
     "start_time": "2021-10-27T17:20:01.003507Z"
    }
   },
   "outputs": [],
   "source": [
    "import json\n",
    "\n",
    "import pandas as pd\n",
    "import numpy as np\n",
    "import matplotlib.pyplot as plt\n",
    "import pmdarima as pmd\n",
    "from pmdarima.arima import AutoARIMA, ndiffs, nsdiffs\n",
    "from pmdarima.model_selection import train_test_split\n",
    "from pmdarima.preprocessing import BoxCoxEndogTransformer, FourierFeaturizer\n",
    "from pmdarima.pipeline import Pipeline\n",
    "import statsmodels.tsa.api as tsa\n",
    "from statsmodels.graphics.tsaplots import plot_acf, plot_pacf\n",
    "from sklearn import metrics"
   ]
  },
  {
   "cell_type": "markdown",
   "metadata": {},
   "source": [
    "# **Reading Data**"
   ]
  },
  {
   "cell_type": "markdown",
   "metadata": {},
   "source": [
    "---\n",
    "\n",
    "**Reading Data and Setting the Datetime Index**\n",
    "\n",
    "> I will import the data I cleaned and prepped in advance for my modeling processes.\n",
    ">\n",
    "> I created an `arrival_date` column during the prep process containing the arrival date as a datetime object. Using this feature, I will reset my index to enable the time series modeling.\n",
    "\n",
    "---"
   ]
  },
  {
   "cell_type": "code",
   "execution_count": 5,
   "metadata": {},
   "outputs": [],
   "source": [
    "# with open('../../data/column_groups.json') as file:\n",
    "#     col_dict = json.load(file)\n",
    "\n",
    "# col_dict.keys()"
   ]
  },
  {
   "cell_type": "code",
   "execution_count": 6,
   "metadata": {},
   "outputs": [],
   "source": [
    "# booking_cols = col_dict['booking_details']\n",
    "# temporal_cols = col_dict['new_temporal_features']\n",
    "\n",
    "# booking_cols.extend(temporal_cols)\n",
    "# usecols = set(booking_cols)\n",
    "# usecols"
   ]
  },
  {
   "cell_type": "code",
   "execution_count": 7,
   "metadata": {
    "ExecuteTime": {
     "end_time": "2021-10-27T17:20:06.598514Z",
     "start_time": "2021-10-27T17:20:06.113514Z"
    }
   },
   "outputs": [
    {
     "data": {
      "text/html": [
       "<div>\n",
       "<style scoped>\n",
       "    .dataframe tbody tr th:only-of-type {\n",
       "        vertical-align: middle;\n",
       "    }\n",
       "\n",
       "    .dataframe tbody tr th {\n",
       "        vertical-align: top;\n",
       "    }\n",
       "\n",
       "    .dataframe thead th {\n",
       "        text-align: right;\n",
       "    }\n",
       "</style>\n",
       "<table border=\"1\" class=\"dataframe\">\n",
       "  <thead>\n",
       "    <tr style=\"text-align: right;\">\n",
       "      <th></th>\n",
       "      <th>ADR</th>\n",
       "    </tr>\n",
       "    <tr>\n",
       "      <th>Stay Date</th>\n",
       "      <th></th>\n",
       "    </tr>\n",
       "  </thead>\n",
       "  <tbody>\n",
       "    <tr>\n",
       "      <th>2015-07-01</th>\n",
       "      <td>0.00</td>\n",
       "    </tr>\n",
       "    <tr>\n",
       "      <th>2015-07-01</th>\n",
       "      <td>4.00</td>\n",
       "    </tr>\n",
       "    <tr>\n",
       "      <th>2015-07-01</th>\n",
       "      <td>55.68</td>\n",
       "    </tr>\n",
       "    <tr>\n",
       "      <th>2015-07-01</th>\n",
       "      <td>62.00</td>\n",
       "    </tr>\n",
       "    <tr>\n",
       "      <th>2015-07-01</th>\n",
       "      <td>62.50</td>\n",
       "    </tr>\n",
       "    <tr>\n",
       "      <th>...</th>\n",
       "      <td>...</td>\n",
       "    </tr>\n",
       "    <tr>\n",
       "      <th>2017-09-11</th>\n",
       "      <td>153.57</td>\n",
       "    </tr>\n",
       "    <tr>\n",
       "      <th>2017-09-12</th>\n",
       "      <td>99.06</td>\n",
       "    </tr>\n",
       "    <tr>\n",
       "      <th>2017-09-12</th>\n",
       "      <td>112.80</td>\n",
       "    </tr>\n",
       "    <tr>\n",
       "      <th>2017-09-13</th>\n",
       "      <td>99.06</td>\n",
       "    </tr>\n",
       "    <tr>\n",
       "      <th>2017-09-13</th>\n",
       "      <td>112.80</td>\n",
       "    </tr>\n",
       "  </tbody>\n",
       "</table>\n",
       "<p>409257 rows × 1 columns</p>\n",
       "</div>"
      ],
      "text/plain": [
       "               ADR\n",
       "Stay Date         \n",
       "2015-07-01    0.00\n",
       "2015-07-01    4.00\n",
       "2015-07-01   55.68\n",
       "2015-07-01   62.00\n",
       "2015-07-01   62.50\n",
       "...            ...\n",
       "2017-09-11  153.57\n",
       "2017-09-12   99.06\n",
       "2017-09-12  112.80\n",
       "2017-09-13   99.06\n",
       "2017-09-13  112.80\n",
       "\n",
       "[409257 rows x 1 columns]"
      ]
     },
     "execution_count": 7,
     "metadata": {},
     "output_type": "execute_result"
    }
   ],
   "source": [
    "## Reading data and setting DT index\n",
    "# path = '../../data/2.2_temporally_updated_data.feather'\n",
    "# data = pd.read_feather(path, columns = ['ADR', 'ArrivalDate', 'DepartureDate'])\n",
    "path = '../../data/3.3_data_exploded.feather'\n",
    "# data = data.sort_values('ArrivalDate').reset_index(drop=True)#.set_index('ArrivalDate')\n",
    "data = pd.read_feather(path)\n",
    "data = data.set_index('Stay Date')\n",
    "data"
   ]
  },
  {
   "cell_type": "code",
   "execution_count": 8,
   "metadata": {},
   "outputs": [
    {
     "name": "stdout",
     "output_type": "stream",
     "text": [
      "<class 'pandas.core.frame.DataFrame'>\n",
      "DatetimeIndex: 409257 entries, 2015-07-01 to 2017-09-13\n",
      "Data columns (total 1 columns):\n",
      " #   Column  Non-Null Count   Dtype  \n",
      "---  ------  --------------   -----  \n",
      " 0   ADR     409257 non-null  float64\n",
      "dtypes: float64(1)\n",
      "memory usage: 6.2 MB\n"
     ]
    }
   ],
   "source": [
    "data.info()"
   ]
  },
  {
   "cell_type": "markdown",
   "metadata": {},
   "source": [
    "# Converting Reservations to Daily Records"
   ]
  },
  {
   "cell_type": "code",
   "execution_count": 9,
   "metadata": {},
   "outputs": [],
   "source": [
    "# def calulate_date_range(data, start_date = 'ArrivalDate', end_date = 'DepartureDate'):\n",
    "#     \"\"\"\n",
    "#     Calculate a date range based on the given start and end dates.\n",
    "\n",
    "#     Parameters:\n",
    "#     data (pandas.DataFrame): The data containing the start and end dates.\n",
    "#     start_date (str): The column name of the start date.\n",
    "#     end_date (str): The column name of the end date.\n",
    "\n",
    "#     Returns:\n",
    "#     pandas.DatetimeIndex: A date range from the start date to the end date (inclusive).\n",
    "\n",
    "#     \"\"\"\n",
    "#     if data[start_date] == data[end_date]:\n",
    "#         end_date = data[end_date] + pd.Timedelta(days=1)\n",
    "#     else:\n",
    "#         end_date = data[end_date] - pd.Timedelta(days=1)\n",
    "    \n",
    "#     return pd.date_range(start=start_date, end=end_date)\n",
    "        \n",
    "        \n",
    "# def explode_reservations(df, start_date_col = 'ArrivalDate', end_date_col = 'DepartureDate'):\n",
    "#     \"\"\"\n",
    "#     Explodes reservations in a DataFrame to individual days.\n",
    "\n",
    "#     Args:\n",
    "#         df (pandas.DataFrame): The DataFrame containing the reservations.\n",
    "#         start_date_col (str): The name of the column in `df` that represents the start date of each reservation.\n",
    "#         end_date_col (str): The name of the column in `df` that represents the end date of each reservation.\n",
    "\n",
    "#     Returns:\n",
    "#         pandas.DataFrame: The DataFrame with each reservation expanded to individual days.\n",
    "\n",
    "#     Raises:\n",
    "#         None\n",
    "\n",
    "#     Example:\n",
    "#         df = pd.DataFrame({'check_in': ['2022-01-01', '2022-02-01'],\n",
    "#                            'check_out': ['2022-01-04', '2022-02-03']})\n",
    "#         explode_reservations(df, 'check_in', 'check_out')\n",
    "\n",
    "#     \"\"\"\n",
    "       \n",
    "#     # Create a DataFrame with each guest's stay expanded to individual days\n",
    "#     # Generate a range of dates for each row and store it in a new column\n",
    "#     df['date_range'] = df.apply(calulate_date_range(row, start_date_col, end_date_col),\n",
    "#                                 axis=1)\n",
    "\n",
    "#     # Explode the date_range column to create a row for each date in the range\n",
    "#     expanded_df = df.explode('date_range')\n",
    "\n",
    "#     # Drop the original check_in and check_out columns if they are no longer needed\n",
    "#     expanded_df = expanded_df.drop(columns=[start_date_col,\n",
    "#                                             end_date_col])\n",
    "\n",
    "#     # Rename the date_range column to date for clarity\n",
    "#     expanded_df = expanded_df.rename(columns={'date_range': 'Stay Date'})\n",
    "\n",
    "#     # Reset index if needed\n",
    "#     expanded_df = expanded_df.reset_index(drop=True)\n",
    "\n",
    "#     return expanded_df"
   ]
  },
  {
   "cell_type": "markdown",
   "metadata": {},
   "source": [
    "***NOTE:*** This function will return `NaT` for reservations with the same arrival and departure dates.\n",
    "\n",
    "Use pd.DataFrame.dropna() to resolve."
   ]
  },
  {
   "cell_type": "code",
   "execution_count": 10,
   "metadata": {},
   "outputs": [],
   "source": [
    "# def explode_reservations(df, start_date_col, end_date_col):\n",
    "#     \"\"\"\n",
    "#     Explodes reservations in a DataFrame to individual days.\n",
    "\n",
    "#     Args:\n",
    "#         df (pandas.DataFrame): The DataFrame containing the reservations.\n",
    "#         start_date_col (str): The name of the column in `df` that represents the start date of each reservation.\n",
    "#         end_date_col (str): The name of the column in `df` that represents the end date of each reservation.\n",
    "\n",
    "#     Returns:\n",
    "#         pandas.DataFrame: The DataFrame with each reservation expanded to individual days.\n",
    "\n",
    "#     Raises:\n",
    "#         None\n",
    "\n",
    "#     Example:\n",
    "#         df = pd.DataFrame({'check_in': ['2022-01-01', '2022-02-01'],\n",
    "#                            'check_out': ['2022-01-04', '2022-02-03']})\n",
    "#         explode_reservations(df, 'check_in', 'check_out')\n",
    "\n",
    "#     \"\"\"\n",
    "#     # Create a DataFrame with each guest's stay expanded to individual days\n",
    "#     # Generate a range of dates for each row and store it in a new column\n",
    "#     df['date_range'] = df.apply(lambda row: pd.date_range(start=row[start_date_col],\n",
    "#                                                           end=row[end_date_col] - pd.Timedelta(days=1)),\n",
    "#                                 axis=1)\n",
    "\n",
    "#     # Explode the date_range column to create a row for each date in the range\n",
    "#     expanded_df = df.explode('date_range')\n",
    "\n",
    "#     # Drop the original check_in and check_out columns if they are no longer needed\n",
    "#     expanded_df = expanded_df.drop(columns=[start_date_col,\n",
    "#                                             end_date_col])\n",
    "\n",
    "#     # Rename the date_range column to date for clarity\n",
    "#     expanded_df = expanded_df.rename(columns={'date_range': 'Stay Date'})\n",
    "\n",
    "#     # Reset index if needed\n",
    "#     expanded_df = expanded_df.reset_index(drop=True)\n",
    "\n",
    "#     return expanded_df"
   ]
  },
  {
   "cell_type": "code",
   "execution_count": 11,
   "metadata": {},
   "outputs": [],
   "source": [
    "# expanded_data = explode_reservations(data, 'ArrivalDate', 'DepartureDate')\n",
    "# expanded_data = expanded_data.dropna(subset = 'Stay Date')\n",
    "# expanded_data"
   ]
  },
  {
   "cell_type": "code",
   "execution_count": 12,
   "metadata": {},
   "outputs": [],
   "source": [
    "# expanded_data = (expanded_data.sort_values('Stay Date')\n",
    "#                  .set_index('Stay Date'))\n",
    "# expanded_data"
   ]
  },
  {
   "cell_type": "markdown",
   "metadata": {},
   "source": [
    "# **Resampling**"
   ]
  },
  {
   "cell_type": "markdown",
   "metadata": {},
   "source": [
    "---\n",
    "\n",
    "**Resampling the Arrival Dates**\n",
    "\n",
    "> My dataset includes multiple reservations per day, which makes sense, but also impairs the modeling process.\n",
    ">\n",
    "> **I will resample the data as daily averages for the modeling and forecasting process.**\n",
    "* *Daily resampling* allows me to view the data for all reservations for a given day.\n",
    "* *Computing the average cancellations* provides a normalized value allowing for easy comparisons between dates (without having to consider other features, such as occupancy, demand, etc.)."
   ]
  },
  {
   "cell_type": "code",
   "execution_count": 141,
   "metadata": {
    "ExecuteTime": {
     "end_time": "2021-10-27T17:20:07.852513Z",
     "start_time": "2021-10-27T17:20:06.601515Z"
    }
   },
   "outputs": [
    {
     "data": {
      "text/html": [
       "<div>\n",
       "<style scoped>\n",
       "    .dataframe tbody tr th:only-of-type {\n",
       "        vertical-align: middle;\n",
       "    }\n",
       "\n",
       "    .dataframe tbody tr th {\n",
       "        vertical-align: top;\n",
       "    }\n",
       "\n",
       "    .dataframe thead th {\n",
       "        text-align: right;\n",
       "    }\n",
       "</style>\n",
       "<table border=\"1\" class=\"dataframe\">\n",
       "  <thead>\n",
       "    <tr style=\"text-align: right;\">\n",
       "      <th></th>\n",
       "      <th>ADR</th>\n",
       "    </tr>\n",
       "    <tr>\n",
       "      <th>Stay Date</th>\n",
       "      <th></th>\n",
       "    </tr>\n",
       "  </thead>\n",
       "  <tbody>\n",
       "    <tr>\n",
       "      <th>2015-07-03</th>\n",
       "      <td>90.40</td>\n",
       "    </tr>\n",
       "    <tr>\n",
       "      <th>2015-07-04</th>\n",
       "      <td>89.14</td>\n",
       "    </tr>\n",
       "    <tr>\n",
       "      <th>2015-07-05</th>\n",
       "      <td>89.90</td>\n",
       "    </tr>\n",
       "    <tr>\n",
       "      <th>2015-07-06</th>\n",
       "      <td>90.99</td>\n",
       "    </tr>\n",
       "    <tr>\n",
       "      <th>2015-07-07</th>\n",
       "      <td>91.16</td>\n",
       "    </tr>\n",
       "    <tr>\n",
       "      <th>...</th>\n",
       "      <td>...</td>\n",
       "    </tr>\n",
       "    <tr>\n",
       "      <th>2017-09-09</th>\n",
       "      <td>152.04</td>\n",
       "    </tr>\n",
       "    <tr>\n",
       "      <th>2017-09-10</th>\n",
       "      <td>154.97</td>\n",
       "    </tr>\n",
       "    <tr>\n",
       "      <th>2017-09-11</th>\n",
       "      <td>143.55</td>\n",
       "    </tr>\n",
       "    <tr>\n",
       "      <th>2017-09-12</th>\n",
       "      <td>128.26</td>\n",
       "    </tr>\n",
       "    <tr>\n",
       "      <th>2017-09-13</th>\n",
       "      <td>111.22</td>\n",
       "    </tr>\n",
       "  </tbody>\n",
       "</table>\n",
       "<p>804 rows × 1 columns</p>\n",
       "</div>"
      ],
      "text/plain": [
       "               ADR\n",
       "Stay Date         \n",
       "2015-07-03   90.40\n",
       "2015-07-04   89.14\n",
       "2015-07-05   89.90\n",
       "2015-07-06   90.99\n",
       "2015-07-07   91.16\n",
       "...            ...\n",
       "2017-09-09  152.04\n",
       "2017-09-10  154.97\n",
       "2017-09-11  143.55\n",
       "2017-09-12  128.26\n",
       "2017-09-13  111.22\n",
       "\n",
       "[804 rows x 1 columns]"
      ]
     },
     "metadata": {},
     "output_type": "display_data"
    },
    {
     "data": {
      "image/png": "[encoded data removed]",
      "text/plain": [
       "<Figure size 640x480 with 1 Axes>"
      ]
     },
     "metadata": {},
     "output_type": "display_data"
    }
   ],
   "source": [
    "## Resampling for a rolling average daily cancellations with a three-day window\n",
    "ts_avg = (data['ADR']\n",
    "          .resample('D')\n",
    "          .mean()\n",
    "          .rolling(window=3)\n",
    "          .mean()\n",
    "          .dropna()\n",
    "          .to_frame()\n",
    "          .round(2))\n",
    "\n",
    "display(ts_avg)\n",
    "ts_avg.plot();"
   ]
  },
  {
   "cell_type": "markdown",
   "metadata": {},
   "source": [
    "# Train/Test Split\n",
    "\n",
    "---\n",
    "\n",
    "I will split my data to reserve the last 90 days-worth of data for testing. In my experience, we usually focus on a short-term window for forecasting due to the increasing volatility as time goes on.\n",
    "\n",
    "Ideally, I would prefer to forecast for an entire year, but due to the short timeline of my source data, I would have little data to use to train the model.\n",
    "\n",
    "---"
   ]
  },
  {
   "cell_type": "code",
   "execution_count": 142,
   "metadata": {},
   "outputs": [
    {
     "data": {
      "image/png": "[encoded data removed]",
      "text/plain": [
       "<Figure size 1000x500 with 1 Axes>"
      ]
     },
     "metadata": {},
     "output_type": "display_data"
    }
   ],
   "source": [
    "## Split the data into training and testing sets\n",
    "train, test = train_test_split(ts_avg, test_size = 90)\n",
    "\n",
    "fig, ax = plt.subplots(figsize=(10,5))\n",
    "train.plot(ax=ax, label='train')\n",
    "test.plot(ax=ax, label='test')\n",
    "ax.legend();"
   ]
  },
  {
   "cell_type": "markdown",
   "metadata": {},
   "source": [
    "# Seasonal Decomposition"
   ]
  },
  {
   "cell_type": "code",
   "execution_count": 143,
   "metadata": {
    "ExecuteTime": {
     "end_time": "2021-10-27T17:20:09.852517Z",
     "start_time": "2021-10-27T17:20:08.830515Z"
    }
   },
   "outputs": [
    {
     "data": {
      "image/png": "[encoded data removed]",
      "text/plain": [
       "<Figure size 700x200 with 1 Axes>"
      ]
     },
     "metadata": {},
     "output_type": "display_data"
    },
    {
     "data": {
      "image/png": "[encoded data removed]",
      "text/plain": [
       "<Figure size 640x480 with 4 Axes>"
      ]
     },
     "metadata": {},
     "output_type": "display_data"
    }
   ],
   "source": [
    "## Performing seasonal decomp to determine seasonality for modeling\n",
    "# decomp = tsa.seasonal_decompose(split_dict['train'].loc['01-2016':'06-2016'])\n",
    "decomp = tsa.seasonal_decompose(train, period =12)\n",
    "decomp.seasonal.plot(figsize = (7,2));\n",
    "decomp.plot();"
   ]
  },
  {
   "cell_type": "markdown",
   "metadata": {},
   "source": [
    "---\n",
    "\n",
    "**Seasonality**\n",
    "\n",
    "> Based on the results of the seasonal decomposition, I see there is a weekly seasonality (there are four peaks/valleys per month). This matches up with my expectation that there would be regular stay/cancel patterns based on the day of the week a reservation is due to arrive.\n",
    ">\n",
    "> Now that I determined the seasonality, I will use it as an argument in my workflow function (created from a prior time series modeling project).\n",
    "\n",
    "---"
   ]
  },
  {
   "cell_type": "markdown",
   "metadata": {},
   "source": [
    "# Updated Modeling "
   ]
  },
  {
   "cell_type": "code",
   "execution_count": 156,
   "metadata": {},
   "outputs": [
    {
     "data": {
      "text/html": [
       "<style>#sk-container-id-19 {\n",
       "  /* Definition of color scheme common for light and dark mode */\n",
       "  --sklearn-color-text: black;\n",
       "  --sklearn-color-line: gray;\n",
       "  /* Definition of color scheme for unfitted estimators */\n",
       "  --sklearn-color-unfitted-level-0: #fff5e6;\n",
       "  --sklearn-color-unfitted-level-1: #f6e4d2;\n",
       "  --sklearn-color-unfitted-level-2: #ffe0b3;\n",
       "  --sklearn-color-unfitted-level-3: chocolate;\n",
       "  /* Definition of color scheme for fitted estimators */\n",
       "  --sklearn-color-fitted-level-0: #f0f8ff;\n",
       "  --sklearn-color-fitted-level-1: #d4ebff;\n",
       "  --sklearn-color-fitted-level-2: #b3dbfd;\n",
       "  --sklearn-color-fitted-level-3: cornflowerblue;\n",
       "\n",
       "  /* Specific color for light theme */\n",
       "  --sklearn-color-text-on-default-background: var(--sg-text-color, var(--theme-code-foreground, var(--jp-content-font-color1, black)));\n",
       "  --sklearn-color-background: var(--sg-background-color, var(--theme-background, var(--jp-layout-color0, white)));\n",
       "  --sklearn-color-border-box: var(--sg-text-color, var(--theme-code-foreground, var(--jp-content-font-color1, black)));\n",
       "  --sklearn-color-icon: #696969;\n",
       "\n",
       "  @media (prefers-color-scheme: dark) {\n",
       "    /* Redefinition of color scheme for dark theme */\n",
       "    --sklearn-color-text-on-default-background: var(--sg-text-color, var(--theme-code-foreground, var(--jp-content-font-color1, white)));\n",
       "    --sklearn-color-background: var(--sg-background-color, var(--theme-background, var(--jp-layout-color0, #111)));\n",
       "    --sklearn-color-border-box: var(--sg-text-color, var(--theme-code-foreground, var(--jp-content-font-color1, white)));\n",
       "    --sklearn-color-icon: #878787;\n",
       "  }\n",
       "}\n",
       "\n",
       "#sk-container-id-19 {\n",
       "  color: var(--sklearn-color-text);\n",
       "}\n",
       "\n",
       "#sk-container-id-19 pre {\n",
       "  padding: 0;\n",
       "}\n",
       "\n",
       "#sk-container-id-19 input.sk-hidden--visually {\n",
       "  border: 0;\n",
       "  clip: rect(1px 1px 1px 1px);\n",
       "  clip: rect(1px, 1px, 1px, 1px);\n",
       "  height: 1px;\n",
       "  margin: -1px;\n",
       "  overflow: hidden;\n",
       "  padding: 0;\n",
       "  position: absolute;\n",
       "  width: 1px;\n",
       "}\n",
       "\n",
       "#sk-container-id-19 div.sk-dashed-wrapped {\n",
       "  border: 1px dashed var(--sklearn-color-line);\n",
       "  margin: 0 0.4em 0.5em 0.4em;\n",
       "  box-sizing: border-box;\n",
       "  padding-bottom: 0.4em;\n",
       "  background-color: var(--sklearn-color-background);\n",
       "}\n",
       "\n",
       "#sk-container-id-19 div.sk-container {\n",
       "  /* jupyter's `normalize.less` sets `[hidden] { display: none; }`\n",
       "     but bootstrap.min.css set `[hidden] { display: none !important; }`\n",
       "     so we also need the `!important` here to be able to override the\n",
       "     default hidden behavior on the sphinx rendered scikit-learn.org.\n",
       "     See: https://github.com/scikit-learn/scikit-learn/issues/21755 */\n",
       "  display: inline-block !important;\n",
       "  position: relative;\n",
       "}\n",
       "\n",
       "#sk-container-id-19 div.sk-text-repr-fallback {\n",
       "  display: none;\n",
       "}\n",
       "\n",
       "div.sk-parallel-item,\n",
       "div.sk-serial,\n",
       "div.sk-item {\n",
       "  /* draw centered vertical line to link estimators */\n",
       "  background-image: linear-gradient(var(--sklearn-color-text-on-default-background), var(--sklearn-color-text-on-default-background));\n",
       "  background-size: 2px 100%;\n",
       "  background-repeat: no-repeat;\n",
       "  background-position: center center;\n",
       "}\n",
       "\n",
       "/* Parallel-specific style estimator block */\n",
       "\n",
       "#sk-container-id-19 div.sk-parallel-item::after {\n",
       "  content: \"\";\n",
       "  width: 100%;\n",
       "  border-bottom: 2px solid var(--sklearn-color-text-on-default-background);\n",
       "  flex-grow: 1;\n",
       "}\n",
       "\n",
       "#sk-container-id-19 div.sk-parallel {\n",
       "  display: flex;\n",
       "  align-items: stretch;\n",
       "  justify-content: center;\n",
       "  background-color: var(--sklearn-color-background);\n",
       "  position: relative;\n",
       "}\n",
       "\n",
       "#sk-container-id-19 div.sk-parallel-item {\n",
       "  display: flex;\n",
       "  flex-direction: column;\n",
       "}\n",
       "\n",
       "#sk-container-id-19 div.sk-parallel-item:first-child::after {\n",
       "  align-self: flex-end;\n",
       "  width: 50%;\n",
       "}\n",
       "\n",
       "#sk-container-id-19 div.sk-parallel-item:last-child::after {\n",
       "  align-self: flex-start;\n",
       "  width: 50%;\n",
       "}\n",
       "\n",
       "#sk-container-id-19 div.sk-parallel-item:only-child::after {\n",
       "  width: 0;\n",
       "}\n",
       "\n",
       "/* Serial-specific style estimator block */\n",
       "\n",
       "#sk-container-id-19 div.sk-serial {\n",
       "  display: flex;\n",
       "  flex-direction: column;\n",
       "  align-items: center;\n",
       "  background-color: var(--sklearn-color-background);\n",
       "  padding-right: 1em;\n",
       "  padding-left: 1em;\n",
       "}\n",
       "\n",
       "\n",
       "/* Toggleable style: style used for estimator/Pipeline/ColumnTransformer box that is\n",
       "clickable and can be expanded/collapsed.\n",
       "- Pipeline and ColumnTransformer use this feature and define the default style\n",
       "- Estimators will overwrite some part of the style using the `sk-estimator` class\n",
       "*/\n",
       "\n",
       "/* Pipeline and ColumnTransformer style (default) */\n",
       "\n",
       "#sk-container-id-19 div.sk-toggleable {\n",
       "  /* Default theme specific background. It is overwritten whether we have a\n",
       "  specific estimator or a Pipeline/ColumnTransformer */\n",
       "  background-color: var(--sklearn-color-background);\n",
       "}\n",
       "\n",
       "/* Toggleable label */\n",
       "#sk-container-id-19 label.sk-toggleable__label {\n",
       "  cursor: pointer;\n",
       "  display: block;\n",
       "  width: 100%;\n",
       "  margin-bottom: 0;\n",
       "  padding: 0.5em;\n",
       "  box-sizing: border-box;\n",
       "  text-align: center;\n",
       "}\n",
       "\n",
       "#sk-container-id-19 label.sk-toggleable__label-arrow:before {\n",
       "  /* Arrow on the left of the label */\n",
       "  content: \"▸\";\n",
       "  float: left;\n",
       "  margin-right: 0.25em;\n",
       "  color: var(--sklearn-color-icon);\n",
       "}\n",
       "\n",
       "#sk-container-id-19 label.sk-toggleable__label-arrow:hover:before {\n",
       "  color: var(--sklearn-color-text);\n",
       "}\n",
       "\n",
       "/* Toggleable content - dropdown */\n",
       "\n",
       "#sk-container-id-19 div.sk-toggleable__content {\n",
       "  max-height: 0;\n",
       "  max-width: 0;\n",
       "  overflow: hidden;\n",
       "  text-align: left;\n",
       "  /* unfitted */\n",
       "  background-color: var(--sklearn-color-unfitted-level-0);\n",
       "}\n",
       "\n",
       "#sk-container-id-19 div.sk-toggleable__content.fitted {\n",
       "  /* fitted */\n",
       "  background-color: var(--sklearn-color-fitted-level-0);\n",
       "}\n",
       "\n",
       "#sk-container-id-19 div.sk-toggleable__content pre {\n",
       "  margin: 0.2em;\n",
       "  border-radius: 0.25em;\n",
       "  color: var(--sklearn-color-text);\n",
       "  /* unfitted */\n",
       "  background-color: var(--sklearn-color-unfitted-level-0);\n",
       "}\n",
       "\n",
       "#sk-container-id-19 div.sk-toggleable__content.fitted pre {\n",
       "  /* unfitted */\n",
       "  background-color: var(--sklearn-color-fitted-level-0);\n",
       "}\n",
       "\n",
       "#sk-container-id-19 input.sk-toggleable__control:checked~div.sk-toggleable__content {\n",
       "  /* Expand drop-down */\n",
       "  max-height: 200px;\n",
       "  max-width: 100%;\n",
       "  overflow: auto;\n",
       "}\n",
       "\n",
       "#sk-container-id-19 input.sk-toggleable__control:checked~label.sk-toggleable__label-arrow:before {\n",
       "  content: \"▾\";\n",
       "}\n",
       "\n",
       "/* Pipeline/ColumnTransformer-specific style */\n",
       "\n",
       "#sk-container-id-19 div.sk-label input.sk-toggleable__control:checked~label.sk-toggleable__label {\n",
       "  color: var(--sklearn-color-text);\n",
       "  background-color: var(--sklearn-color-unfitted-level-2);\n",
       "}\n",
       "\n",
       "#sk-container-id-19 div.sk-label.fitted input.sk-toggleable__control:checked~label.sk-toggleable__label {\n",
       "  background-color: var(--sklearn-color-fitted-level-2);\n",
       "}\n",
       "\n",
       "/* Estimator-specific style */\n",
       "\n",
       "/* Colorize estimator box */\n",
       "#sk-container-id-19 div.sk-estimator input.sk-toggleable__control:checked~label.sk-toggleable__label {\n",
       "  /* unfitted */\n",
       "  background-color: var(--sklearn-color-unfitted-level-2);\n",
       "}\n",
       "\n",
       "#sk-container-id-19 div.sk-estimator.fitted input.sk-toggleable__control:checked~label.sk-toggleable__label {\n",
       "  /* fitted */\n",
       "  background-color: var(--sklearn-color-fitted-level-2);\n",
       "}\n",
       "\n",
       "#sk-container-id-19 div.sk-label label.sk-toggleable__label,\n",
       "#sk-container-id-19 div.sk-label label {\n",
       "  /* The background is the default theme color */\n",
       "  color: var(--sklearn-color-text-on-default-background);\n",
       "}\n",
       "\n",
       "/* On hover, darken the color of the background */\n",
       "#sk-container-id-19 div.sk-label:hover label.sk-toggleable__label {\n",
       "  color: var(--sklearn-color-text);\n",
       "  background-color: var(--sklearn-color-unfitted-level-2);\n",
       "}\n",
       "\n",
       "/* Label box, darken color on hover, fitted */\n",
       "#sk-container-id-19 div.sk-label.fitted:hover label.sk-toggleable__label.fitted {\n",
       "  color: var(--sklearn-color-text);\n",
       "  background-color: var(--sklearn-color-fitted-level-2);\n",
       "}\n",
       "\n",
       "/* Estimator label */\n",
       "\n",
       "#sk-container-id-19 div.sk-label label {\n",
       "  font-family: monospace;\n",
       "  font-weight: bold;\n",
       "  display: inline-block;\n",
       "  line-height: 1.2em;\n",
       "}\n",
       "\n",
       "#sk-container-id-19 div.sk-label-container {\n",
       "  text-align: center;\n",
       "}\n",
       "\n",
       "/* Estimator-specific */\n",
       "#sk-container-id-19 div.sk-estimator {\n",
       "  font-family: monospace;\n",
       "  border: 1px dotted var(--sklearn-color-border-box);\n",
       "  border-radius: 0.25em;\n",
       "  box-sizing: border-box;\n",
       "  margin-bottom: 0.5em;\n",
       "  /* unfitted */\n",
       "  background-color: var(--sklearn-color-unfitted-level-0);\n",
       "}\n",
       "\n",
       "#sk-container-id-19 div.sk-estimator.fitted {\n",
       "  /* fitted */\n",
       "  background-color: var(--sklearn-color-fitted-level-0);\n",
       "}\n",
       "\n",
       "/* on hover */\n",
       "#sk-container-id-19 div.sk-estimator:hover {\n",
       "  /* unfitted */\n",
       "  background-color: var(--sklearn-color-unfitted-level-2);\n",
       "}\n",
       "\n",
       "#sk-container-id-19 div.sk-estimator.fitted:hover {\n",
       "  /* fitted */\n",
       "  background-color: var(--sklearn-color-fitted-level-2);\n",
       "}\n",
       "\n",
       "/* Specification for estimator info (e.g. \"i\" and \"?\") */\n",
       "\n",
       "/* Common style for \"i\" and \"?\" */\n",
       "\n",
       ".sk-estimator-doc-link,\n",
       "a:link.sk-estimator-doc-link,\n",
       "a:visited.sk-estimator-doc-link {\n",
       "  float: right;\n",
       "  font-size: smaller;\n",
       "  line-height: 1em;\n",
       "  font-family: monospace;\n",
       "  background-color: var(--sklearn-color-background);\n",
       "  border-radius: 1em;\n",
       "  height: 1em;\n",
       "  width: 1em;\n",
       "  text-decoration: none !important;\n",
       "  margin-left: 1ex;\n",
       "  /* unfitted */\n",
       "  border: var(--sklearn-color-unfitted-level-1) 1pt solid;\n",
       "  color: var(--sklearn-color-unfitted-level-1);\n",
       "}\n",
       "\n",
       ".sk-estimator-doc-link.fitted,\n",
       "a:link.sk-estimator-doc-link.fitted,\n",
       "a:visited.sk-estimator-doc-link.fitted {\n",
       "  /* fitted */\n",
       "  border: var(--sklearn-color-fitted-level-1) 1pt solid;\n",
       "  color: var(--sklearn-color-fitted-level-1);\n",
       "}\n",
       "\n",
       "/* On hover */\n",
       "div.sk-estimator:hover .sk-estimator-doc-link:hover,\n",
       ".sk-estimator-doc-link:hover,\n",
       "div.sk-label-container:hover .sk-estimator-doc-link:hover,\n",
       ".sk-estimator-doc-link:hover {\n",
       "  /* unfitted */\n",
       "  background-color: var(--sklearn-color-unfitted-level-3);\n",
       "  color: var(--sklearn-color-background);\n",
       "  text-decoration: none;\n",
       "}\n",
       "\n",
       "div.sk-estimator.fitted:hover .sk-estimator-doc-link.fitted:hover,\n",
       ".sk-estimator-doc-link.fitted:hover,\n",
       "div.sk-label-container:hover .sk-estimator-doc-link.fitted:hover,\n",
       ".sk-estimator-doc-link.fitted:hover {\n",
       "  /* fitted */\n",
       "  background-color: var(--sklearn-color-fitted-level-3);\n",
       "  color: var(--sklearn-color-background);\n",
       "  text-decoration: none;\n",
       "}\n",
       "\n",
       "/* Span, style for the box shown on hovering the info icon */\n",
       ".sk-estimator-doc-link span {\n",
       "  display: none;\n",
       "  z-index: 9999;\n",
       "  position: relative;\n",
       "  font-weight: normal;\n",
       "  right: .2ex;\n",
       "  padding: .5ex;\n",
       "  margin: .5ex;\n",
       "  width: min-content;\n",
       "  min-width: 20ex;\n",
       "  max-width: 50ex;\n",
       "  color: var(--sklearn-color-text);\n",
       "  box-shadow: 2pt 2pt 4pt #999;\n",
       "  /* unfitted */\n",
       "  background: var(--sklearn-color-unfitted-level-0);\n",
       "  border: .5pt solid var(--sklearn-color-unfitted-level-3);\n",
       "}\n",
       "\n",
       ".sk-estimator-doc-link.fitted span {\n",
       "  /* fitted */\n",
       "  background: var(--sklearn-color-fitted-level-0);\n",
       "  border: var(--sklearn-color-fitted-level-3);\n",
       "}\n",
       "\n",
       ".sk-estimator-doc-link:hover span {\n",
       "  display: block;\n",
       "}\n",
       "\n",
       "/* \"?\"-specific style due to the `<a>` HTML tag */\n",
       "\n",
       "#sk-container-id-19 a.estimator_doc_link {\n",
       "  float: right;\n",
       "  font-size: 1rem;\n",
       "  line-height: 1em;\n",
       "  font-family: monospace;\n",
       "  background-color: var(--sklearn-color-background);\n",
       "  border-radius: 1rem;\n",
       "  height: 1rem;\n",
       "  width: 1rem;\n",
       "  text-decoration: none;\n",
       "  /* unfitted */\n",
       "  color: var(--sklearn-color-unfitted-level-1);\n",
       "  border: var(--sklearn-color-unfitted-level-1) 1pt solid;\n",
       "}\n",
       "\n",
       "#sk-container-id-19 a.estimator_doc_link.fitted {\n",
       "  /* fitted */\n",
       "  border: var(--sklearn-color-fitted-level-1) 1pt solid;\n",
       "  color: var(--sklearn-color-fitted-level-1);\n",
       "}\n",
       "\n",
       "/* On hover */\n",
       "#sk-container-id-19 a.estimator_doc_link:hover {\n",
       "  /* unfitted */\n",
       "  background-color: var(--sklearn-color-unfitted-level-3);\n",
       "  color: var(--sklearn-color-background);\n",
       "  text-decoration: none;\n",
       "}\n",
       "\n",
       "#sk-container-id-19 a.estimator_doc_link.fitted:hover {\n",
       "  /* fitted */\n",
       "  background-color: var(--sklearn-color-fitted-level-3);\n",
       "}\n",
       "</style><div id=\"sk-container-id-19\" class=\"sk-top-container\"><div class=\"sk-text-repr-fallback\"><pre>Pipeline(steps=[(&#x27;boxcox&#x27;, BoxCoxEndogTransformer(lmbda2=1e-06)),\n",
       "                (&#x27;fourier&#x27;, FourierFeaturizer(k=2, m=7)),\n",
       "                (&#x27;arima&#x27;, AutoARIMA(D=0, d=1, m=7))])</pre><b>In a Jupyter environment, please rerun this cell to show the HTML representation or trust the notebook. <br />On GitHub, the HTML representation is unable to render, please try loading this page with nbviewer.org.</b></div><div class=\"sk-container\" hidden><div class=\"sk-item\"><div class=\"sk-estimator fitted sk-toggleable\"><input class=\"sk-toggleable__control sk-hidden--visually\" id=\"sk-estimator-id-19\" type=\"checkbox\" checked><label for=\"sk-estimator-id-19\" class=\"sk-toggleable__label fitted sk-toggleable__label-arrow fitted\">&nbsp;Pipeline<span class=\"sk-estimator-doc-link fitted\">i<span>Fitted</span></span></label><div class=\"sk-toggleable__content fitted\"><pre>Pipeline(steps=[(&#x27;boxcox&#x27;, BoxCoxEndogTransformer(lmbda2=1e-06)),\n",
       "                (&#x27;fourier&#x27;, FourierFeaturizer(k=2, m=7)),\n",
       "                (&#x27;arima&#x27;, AutoARIMA(D=0, d=1, m=7))])</pre></div> </div></div></div></div>"
      ],
      "text/plain": [
       "Pipeline(steps=[('boxcox', BoxCoxEndogTransformer(lmbda2=1e-06)),\n",
       "                ('fourier', FourierFeaturizer(k=2, m=7)),\n",
       "                ('arima', AutoARIMA(D=0, d=1, m=7))])"
      ]
     },
     "execution_count": 156,
     "metadata": {},
     "output_type": "execute_result"
    }
   ],
   "source": [
    "m = 7\n",
    "k = 2#np.floor(m/2)\n",
    "\n",
    "# Assuming you have calculated d and D values\n",
    "d = ndiffs(train, test='adf')\n",
    "D = nsdiffs(train, m=m, max_D=m+1)\n",
    "\n",
    "pipeline = Pipeline([\n",
    "    ('boxcox', BoxCoxEndogTransformer(lmbda2=1e-6)),\n",
    "    ('fourier', FourierFeaturizer(m=m, k=k)),\n",
    "    ('arima', AutoARIMA(seasonal=True, m=m, stepwise=True,\n",
    "                        suppress_warnings=True, trace=False,\n",
    "                        d=d, D=D\n",
    "                        ))\n",
    "])\n",
    "\n",
    "pipeline.fit(train)"
   ]
  },
  {
   "cell_type": "code",
   "execution_count": 157,
   "metadata": {},
   "outputs": [
    {
     "name": "stdout",
     "output_type": "stream",
     "text": [
      "                               SARIMAX Results                                \n",
      "==============================================================================\n",
      "Dep. Variable:                      y   No. Observations:                  714\n",
      "Model:               SARIMAX(0, 1, 2)   Log Likelihood                2787.166\n",
      "Date:                Mon, 01 Jul 2024   AIC                          -5558.331\n",
      "Time:                        16:38:12   BIC                          -5521.775\n",
      "Sample:                             0   HQIC                         -5544.212\n",
      "                                - 714                                         \n",
      "Covariance Type:                  opg                                         \n",
      "================================================================================\n",
      "                   coef    std err          z      P>|z|      [0.025      0.975]\n",
      "--------------------------------------------------------------------------------\n",
      "intercept        0.0002      0.001      0.309      0.757      -0.001       0.001\n",
      "FOURIER_S7-0     0.0015      0.001      2.278      0.023       0.000       0.003\n",
      "FOURIER_C7-0    -0.0024      0.001     -3.645      0.000      -0.004      -0.001\n",
      "FOURIER_S7-1    -0.0002   9.76e-05     -1.949      0.051      -0.000    1.02e-06\n",
      "FOURIER_C7-1     0.0002   8.86e-05      2.045      0.041    7.56e-06       0.000\n",
      "ma.L1            0.9733      0.013     74.691      0.000       0.948       0.999\n",
      "ma.L2            0.9151      0.015     62.661      0.000       0.887       0.944\n",
      "sigma2         2.32e-05   6.73e-07     34.453      0.000    2.19e-05    2.45e-05\n",
      "===================================================================================\n",
      "Ljung-Box (L1) (Q):                   4.83   Jarque-Bera (JB):               807.90\n",
      "Prob(Q):                              0.03   Prob(JB):                         0.00\n",
      "Heteroskedasticity (H):               0.29   Skew:                            -0.35\n",
      "Prob(H) (two-sided):                  0.00   Kurtosis:                         8.17\n",
      "===================================================================================\n",
      "\n",
      "Warnings:\n",
      "[1] Covariance matrix calculated using the outer product of gradients (complex-step).\n"
     ]
    }
   ],
   "source": [
    "print(pipeline.summary())"
   ]
  },
  {
   "cell_type": "markdown",
   "metadata": {},
   "source": [
    "## Updated Results Review"
   ]
  },
  {
   "cell_type": "code",
   "execution_count": 158,
   "metadata": {},
   "outputs": [
    {
     "data": {
      "text/html": [
       "<div>\n",
       "<style scoped>\n",
       "    .dataframe tbody tr th:only-of-type {\n",
       "        vertical-align: middle;\n",
       "    }\n",
       "\n",
       "    .dataframe tbody tr th {\n",
       "        vertical-align: top;\n",
       "    }\n",
       "\n",
       "    .dataframe thead th {\n",
       "        text-align: right;\n",
       "    }\n",
       "</style>\n",
       "<table border=\"1\" class=\"dataframe\">\n",
       "  <thead>\n",
       "    <tr style=\"text-align: right;\">\n",
       "      <th></th>\n",
       "      <th>Lower CI</th>\n",
       "      <th>Forecast</th>\n",
       "      <th>Upper CI</th>\n",
       "    </tr>\n",
       "    <tr>\n",
       "      <th>Stay Date</th>\n",
       "      <th></th>\n",
       "      <th></th>\n",
       "      <th></th>\n",
       "    </tr>\n",
       "  </thead>\n",
       "  <tbody>\n",
       "    <tr>\n",
       "      <th>2017-06-16</th>\n",
       "      <td>119.34</td>\n",
       "      <td>123.76</td>\n",
       "      <td>128.40</td>\n",
       "    </tr>\n",
       "    <tr>\n",
       "      <th>2017-06-17</th>\n",
       "      <td>115.51</td>\n",
       "      <td>125.16</td>\n",
       "      <td>135.87</td>\n",
       "    </tr>\n",
       "    <tr>\n",
       "      <th>2017-06-18</th>\n",
       "      <td>110.33</td>\n",
       "      <td>125.80</td>\n",
       "      <td>144.16</td>\n",
       "    </tr>\n",
       "    <tr>\n",
       "      <th>2017-06-19</th>\n",
       "      <td>105.92</td>\n",
       "      <td>125.10</td>\n",
       "      <td>148.97</td>\n",
       "    </tr>\n",
       "    <tr>\n",
       "      <th>2017-06-20</th>\n",
       "      <td>101.98</td>\n",
       "      <td>123.91</td>\n",
       "      <td>152.25</td>\n",
       "    </tr>\n",
       "    <tr>\n",
       "      <th>...</th>\n",
       "      <td>...</td>\n",
       "      <td>...</td>\n",
       "      <td>...</td>\n",
       "    </tr>\n",
       "    <tr>\n",
       "      <th>2017-09-09</th>\n",
       "      <td>55.18</td>\n",
       "      <td>132.13</td>\n",
       "      <td>421.45</td>\n",
       "    </tr>\n",
       "    <tr>\n",
       "      <th>2017-09-10</th>\n",
       "      <td>55.15</td>\n",
       "      <td>132.82</td>\n",
       "      <td>427.94</td>\n",
       "    </tr>\n",
       "    <tr>\n",
       "      <th>2017-09-11</th>\n",
       "      <td>54.66</td>\n",
       "      <td>132.07</td>\n",
       "      <td>428.03</td>\n",
       "    </tr>\n",
       "    <tr>\n",
       "      <th>2017-09-12</th>\n",
       "      <td>54.00</td>\n",
       "      <td>130.80</td>\n",
       "      <td>425.68</td>\n",
       "    </tr>\n",
       "    <tr>\n",
       "      <th>2017-09-13</th>\n",
       "      <td>53.57</td>\n",
       "      <td>130.20</td>\n",
       "      <td>426.34</td>\n",
       "    </tr>\n",
       "  </tbody>\n",
       "</table>\n",
       "<p>90 rows × 3 columns</p>\n",
       "</div>"
      ],
      "text/plain": [
       "            Lower CI  Forecast  Upper CI\n",
       "Stay Date                               \n",
       "2017-06-16    119.34    123.76    128.40\n",
       "2017-06-17    115.51    125.16    135.87\n",
       "2017-06-18    110.33    125.80    144.16\n",
       "2017-06-19    105.92    125.10    148.97\n",
       "2017-06-20    101.98    123.91    152.25\n",
       "...              ...       ...       ...\n",
       "2017-09-09     55.18    132.13    421.45\n",
       "2017-09-10     55.15    132.82    427.94\n",
       "2017-09-11     54.66    132.07    428.03\n",
       "2017-09-12     54.00    130.80    425.68\n",
       "2017-09-13     53.57    130.20    426.34\n",
       "\n",
       "[90 rows x 3 columns]"
      ]
     },
     "execution_count": 158,
     "metadata": {},
     "output_type": "execute_result"
    }
   ],
   "source": [
    "## Generate predictions\n",
    "forecast, conf_int = pipeline.predict(n_periods = len(test),\n",
    "                                      return_conf_int=True)\n",
    "\n",
    "## Convert to DataFrame\n",
    "forecast_df = (pd.DataFrame({'Lower CI': conf_int[:,0],\n",
    "                             'Forecast':forecast,\n",
    "                            'Upper CI':conf_int[:,1]},\n",
    "                           index = test.index)\n",
    "               .round(2))\n",
    "forecast_df"
   ]
  },
  {
   "cell_type": "code",
   "execution_count": 159,
   "metadata": {},
   "outputs": [],
   "source": [
    "## Define custom function to evaluate forecast\n",
    "\n",
    "def evaluate_forecast(y_true, y_pred, print_output=True):\n",
    "    \"\"\"\n",
    "    Evaluate the performance of a forecast by comparing the true values with the predicted values.\n",
    "\n",
    "    Parameters:\n",
    "    - y_true (array-like): The true values of the target variable.\n",
    "    - y_pred (array-like): The predicted values of the target variable.\n",
    "    - print_output (bool, optional): Whether to print the evaluation metrics. Default is True.\n",
    "\n",
    "    Returns:\n",
    "    - results (dict): A dictionary containing the evaluation metrics.\n",
    "        - mse (float): Mean Squared Error.\n",
    "        - mae (float): Mean Absolute Error.\n",
    "        - MedAE (float): Median Absolute Error.\n",
    "        - mape(%) (float): Mean Absolute Percentage Error in percentage.\n",
    "\n",
    "    Example usage:\n",
    "    >>> y_true = [1, 2, 3, 4, 5]\n",
    "    >>> y_pred = [1.2, 2.3, 3.5, 4.1, 5.2]\n",
    "    >>> evaluate_forecast(y_true, y_pred)\n",
    "    MSE: 0.10\n",
    "    MAE: 0.18\n",
    "    MEDAE: 0.20\n",
    "    MAPE(%): 3.60\n",
    "\n",
    "    \"\"\"\n",
    "    \n",
    "    mse = metrics.mean_squared_error(y_true, y_pred).round(2)\n",
    "    mae = metrics.mean_absolute_error(y_true, y_pred).round(2)\n",
    "    medae = metrics.median_absolute_error(y_true, y_pred).round(2)\n",
    "    mape = metrics.mean_absolute_percentage_error(y_true, y_pred).round(4)\n",
    "\n",
    "    results = {'mse': mse, 'mae': mae, 'MedAE': medae, 'mape(%)': (mape * 100)}\n",
    "    if print_output:\n",
    "        for metric, value in results.items():\n",
    "            print(f\"{metric.upper()}: {value:.2f}\")\n",
    "\n",
    "    return results"
   ]
  },
  {
   "cell_type": "code",
   "execution_count": 160,
   "metadata": {},
   "outputs": [
    {
     "name": "stdout",
     "output_type": "stream",
     "text": [
      "MSE: 780.94\n",
      "MAE: 23.58\n",
      "MEDAE: 24.30\n",
      "MAPE(%): 14.72\n"
     ]
    }
   ],
   "source": [
    "_ = evaluate_forecast(test, forecast_df['Forecast'])"
   ]
  },
  {
   "cell_type": "code",
   "execution_count": 161,
   "metadata": {},
   "outputs": [
    {
     "data": {
      "image/png": "[encoded data removed]",
      "text/plain": [
       "<Figure size 1000x500 with 1 Axes>"
      ]
     },
     "metadata": {},
     "output_type": "display_data"
    }
   ],
   "source": [
    "fig, ax = plt.subplots(figsize=(10,5))\n",
    "train.plot(ax=ax, label='train')\n",
    "test.plot(ax=ax, label='test')\n",
    "forecast_df['Forecast'].plot(ax=ax, label='forecast')\n",
    "ax.fill_between(forecast_df.index, forecast_df['Lower CI'], forecast_df['Upper CI'], color='k', alpha=0.1)\n",
    "ax.legend();"
   ]
  },
  {
   "cell_type": "markdown",
   "metadata": {},
   "source": [
    "## Review Residuals"
   ]
  },
  {
   "cell_type": "markdown",
   "metadata": {},
   "source": [
    "# ***OLD Workflow***"
   ]
  },
  {
   "cell_type": "code",
   "execution_count": 54,
   "metadata": {},
   "outputs": [
    {
     "ename": "Exception",
     "evalue": "Stop here",
     "output_type": "error",
     "traceback": [
      "\u001b[1;31m---------------------------------------------------------------------------\u001b[0m",
      "\u001b[1;31mException\u001b[0m                                 Traceback (most recent call last)",
      "Cell \u001b[1;32mIn[54], line 1\u001b[0m\n\u001b[1;32m----> 1\u001b[0m \u001b[38;5;28;01mraise\u001b[39;00m \u001b[38;5;167;01mException\u001b[39;00m(\u001b[38;5;124m'\u001b[39m\u001b[38;5;124mStop here\u001b[39m\u001b[38;5;124m'\u001b[39m)\n",
      "\u001b[1;31mException\u001b[0m: Stop here"
     ]
    }
   ],
   "source": [
    "raise Exception('Stop here')"
   ]
  },
  {
   "cell_type": "markdown",
   "metadata": {},
   "source": [
    "---\n",
    "\n",
    "**I will use a functionalized workflow from my prior time series modeling work to perform my analysis and generate my forecast.**\n",
    ">\n",
    "> This function:\n",
    ">  * Splits the data at a threshold based on either a percentage or specific period (in this case, the past 90 days)\n",
    ">  * Performs SARIMA modeling via PMD's Auto-Arima to determine the optimal hyperparameters and Statsmodels's SARIMAX model for the forecasting.\n",
    ">  * Generates forecasted data and 95% confidence interval for the time period set in the train/test split step.\n",
    ">  * Saves the train/test split data; forecast and confidence interval data; and associated visualizations to a dictionary for review.\n",
    "\n",
    "---"
   ]
  },
  {
   "cell_type": "code",
   "execution_count": null,
   "metadata": {
    "ExecuteTime": {
     "end_time": "2021-10-27T17:20:33.379550Z",
     "start_time": "2021-10-27T17:20:09.855518Z"
    }
   },
   "outputs": [],
   "source": [
    "## Running the workflow\n",
    "# results = tsm.ts_modeling_workflow(ts_avg, threshold = -90, xlabel='Dates',\n",
    "#                                    ylabel = 'Cancellations (%)',\n",
    "#                                    title = 'Forecasted Cancellations', m=7,\n",
    "#                                    show_vis=False)"
   ]
  },
  {
   "cell_type": "code",
   "execution_count": null,
   "metadata": {
    "ExecuteTime": {
     "end_time": "2021-10-27T17:20:33.523552Z",
     "start_time": "2021-10-27T17:20:33.381550Z"
    }
   },
   "outputs": [],
   "source": [
    "## Inspecting the keys for the resulting dictionary\n",
    "# results.keys()"
   ]
  },
  {
   "cell_type": "code",
   "execution_count": null,
   "metadata": {
    "ExecuteTime": {
     "end_time": "2021-10-27T17:20:33.683553Z",
     "start_time": "2021-10-27T17:20:33.525556Z"
    }
   },
   "outputs": [],
   "source": [
    "# ##Rounding forecast data to nearest whole numbers\n",
    "# results['forecasted_data'] = (results['forecasted_data']*100).round(0)\n",
    "# results['forecasted_data']"
   ]
  },
  {
   "cell_type": "code",
   "execution_count": null,
   "metadata": {
    "ExecuteTime": {
     "end_time": "2021-10-27T17:20:33.825555Z",
     "start_time": "2021-10-27T17:20:33.686552Z"
    }
   },
   "outputs": [],
   "source": [
    "# ## Identifying average for the 90-day window\n",
    "# results['forecasted_data'].mean().round(0)"
   ]
  },
  {
   "cell_type": "markdown",
   "metadata": {},
   "source": [
    "---\n",
    "\n",
    "**Forecast Confidence Interval**\n",
    "\n",
    "> Based on my time series model, the hotels may expect an average of 35% daily cancellations over the next 90 days. However, there is a confidence interval of  +/- 23.5%.\n",
    ">\n",
    "> **This large confidence interval limits the usefulness of the forecast due to the risk of errors.** If a hotel would overbook with the expectation of the average 35% cancellation rate, only to have a 45%+ cancellation rate, it would force the hotel to relocate a large number of reservations. As relocated reservations incur significant costs (both for paying for the relocated night as well as potentially losing future business), the risk of overbooking is too great with this model's forecast.\n",
    "\n",
    "**Reducing Risk**\n",
    "\n",
    "> The next step of this analysis would be adjusting the model to reduce variability of the forecast results. The adjustments may include:\n",
    " * Adding additional data (holidays, presence/absence of additional demand generators)\n",
    " * Adjusting threshold values for train/test split\n",
    "\n",
    "**Looking Forward**\n",
    "\n",
    "> My next steps will be to evaluate the impact of shorter- and longer-term thresholds for my training data. Initially, I started with a 90-day evaluation; I will reevaluate the performance using several different thresholds to compare the impact of using different windows for forecasting."
   ]
  },
  {
   "cell_type": "code",
   "execution_count": null,
   "metadata": {
    "ExecuteTime": {
     "end_time": "2021-10-27T17:24:05.928870Z",
     "start_time": "2021-10-27T17:20:33.827554Z"
    }
   },
   "outputs": [],
   "source": [
    "# ## Testing new thresholds for train/test split and forecast\n",
    "\n",
    "# thresholds = [-3, -7, -15, -30, -60, -90, -180]\n",
    "\n",
    "# ints = {}\n",
    "\n",
    "# for threshold in thresholds:\n",
    "#     results = tsm.ts_modeling_workflow(ts_avg, threshold = threshold, xlabel='Dates',\n",
    "#                                        ylabel = 'Cancellations (%)',\n",
    "#                                        title = 'Forecasted Cancellations',\n",
    "#                                        m=7,show_vis=False)\n",
    "    \n",
    "#     ints[threshold*-1] = [round(results['forecasted_data']['Lower CI'].mean(), 2)*100,\n",
    "#                   round(results['forecasted_data']['Forecast'].mean(), 2)*100,\n",
    "#                   round(results['forecasted_data']['Upper CI'].mean(), 2)*100]"
   ]
  },
  {
   "cell_type": "code",
   "execution_count": null,
   "metadata": {
    "ExecuteTime": {
     "end_time": "2021-10-27T17:24:06.252870Z",
     "start_time": "2021-10-27T17:24:05.931873Z"
    },
    "scrolled": true
   },
   "outputs": [],
   "source": [
    "# ## Combining results into DataFrame for analysis and display\n",
    "\n",
    "# results_df = pd.DataFrame.from_dict(ints, orient = 'index')\n",
    "# results_df.rename(columns = {0: 'Lower CI', 1: 'Average', 2:'Upper CI'},\n",
    "#                  inplace=True)\n",
    "\n",
    "# results_df['CI Difference'] = (results_df['Upper CI'] - results_df['Lower CI'])\n",
    "\n",
    "# results_df.index.rename('Days Out', inplace=True)\n",
    "\n",
    "# results_df.style.background_gradient(subset = 'CI Difference', cmap='Reds')\\\n",
    "#                                                             .format('{:.0f}%')"
   ]
  },
  {
   "cell_type": "markdown",
   "metadata": {},
   "source": [
    "---\n",
    "\n",
    "**Interval Impacts**\n",
    "\n",
    "> Despite changing the threshold levels, there is little improvement in the confidence intervals.\n",
    "\n",
    "---"
   ]
  },
  {
   "cell_type": "markdown",
   "metadata": {},
   "source": [
    "# **Results and Recommendations**"
   ]
  },
  {
   "cell_type": "markdown",
   "metadata": {},
   "source": [
    "## Results\n",
    "---\n",
    "\n",
    "**Best Performance:** 3/7/15 day windows\n",
    "  * Guests are less likely to cancel based on prior classification modeling\n",
    "  * Confidence intervals slightly smaller than longer-term perspective.\n",
    "  \n",
    "**Worst Performance:** 180+ days\n",
    "  * Strongest likelihood of cancellations based on prior models\n",
    "  * Limited benefits for on-site teams\n",
    "    * Sales may use it for longer-term planning, such as business account performances or group booking trends\n",
    "    * Operations may use it to identify potential spikes in occupancy/demand, guiding staffing decisions or intensive projects (such as deep cleaning, system updates, or renovations)\n",
    "    \n",
    "---"
   ]
  },
  {
   "cell_type": "markdown",
   "metadata": {},
   "source": [
    "## Recommendations\n",
    "\n",
    "**In my opinion, the best results came from using a 90-day threshold to forecast cancellations.**\n",
    "\n",
    "> * **Short forecasts best for Operations:** creating schedules; ordering supplies; other time-sensitive decisions.\n",
    ">  * *Limited benefit for Sales due to short window of opportunity to book groups or push business travel.*\n",
    ">\n",
    ">\n",
    "> * **Longer Forecasts best for Sales:** booking groups and monitoring pickup; performing sales calls for targeted businesses.\n",
    ">  * *Less beneficial for Operations - scheduling, purchasing supplies based on occupancy and demand.*\n",
    "\n",
    "**Pros and Cons Based on Personal Experience/Opinions**\n",
    "\n",
    "| Time Period (Days) | Pros | Cons | Best Use |\n",
    "| --- | --- | --- | --- |\n",
    "| 3, 7, 15 | Increased accuracy | Less reaction time | Operations-related decision making; scheduling |\n",
    "| 30, 60, 90 | Actionable time window for Sales (group sales especially) | Less accurate; more of a \"rough idea\" | On-Site Sales & Marketing strategy |\n",
    "| 180+ | Can identify problem areas; trends/events; and focus areas | Numbers can and will change based on bookings/cancellations | Long-term revenue management\n",
    "\n",
    "---"
   ]
  },
  {
   "cell_type": "markdown",
   "metadata": {},
   "source": [
    "## Caveats\n",
    "---\n",
    "\n",
    "***These results may not generalize well for other hotels and/or different times.***\n",
    "\n",
    "They are meant to be guidelines and ideas for hotels to adapt to their needs. These results are specific to these two hotels for this given time period.\n",
    "\n",
    "Each hotel is different: target clientele, amenities, locations, etc.. Additionally, larger market trends and events (locally or globally) may have positive and/or negative impacts on cancellations.\n",
    "\n",
    "---"
   ]
  },
  {
   "cell_type": "markdown",
   "metadata": {},
   "source": [
    "# Future Work\n",
    "\n",
    "---\n",
    "\n",
    "**Future work includes:**\n",
    "\n",
    "* Multivariate time series modeling via variable autoregression (VAR)\n",
    "\n",
    "\n",
    "* Specific breakdowns:\n",
    "    * Guest type: transient, leisure, groups\n",
    "    * Room type: several different room types\n",
    "    * Hotel type: resort vs. city hotels\n",
    "\n",
    "\n",
    "* Model deployment for hotel-specific results\n",
    "---"
   ]
  },
  {
   "cell_type": "markdown",
   "metadata": {},
   "source": [
    "# **Conclusion**"
   ]
  },
  {
   "cell_type": "markdown",
   "metadata": {},
   "source": [
    "---\n",
    "\n",
    "**Thank you for your interest in my work.**\n",
    "\n",
    "This concludes my exploration of the hotel booking dataset via univariate time series analysis.\n",
    "\n",
    "While the results are not as exact as I would prefer, I feel confident in their current state and look forward to performing additional analysis via multivariate time series modeling as well as model deployment.\n",
    "\n",
    "**I welcome any comments or questions! Please feel free to contact me.**\n",
    "\n",
    "---\n"
   ]
  },
  {
   "cell_type": "code",
   "execution_count": null,
   "metadata": {},
   "outputs": [],
   "source": []
  }
 ],
 "metadata": {
  "kernelspec": {
   "display_name": "Python (ds-env)",
   "language": "python",
   "name": "ds-env"
  },
  "language_info": {
   "codemirror_mode": {
    "name": "ipython",
    "version": 3
   },
   "file_extension": ".py",
   "mimetype": "text/x-python",
   "name": "python",
   "nbconvert_exporter": "python",
   "pygments_lexer": "ipython3",
   "version": "3.12.4"
  },
  "toc": {
   "base_numbering": 1,
   "nav_menu": {},
   "number_sections": true,
   "sideBar": true,
   "skip_h1_title": false,
   "title_cell": "Table of Contents",
   "title_sidebar": "Contents",
   "toc_cell": false,
   "toc_position": {
    "height": "calc(100% - 180px)",
    "left": "10px",
    "top": "150px",
    "width": "165px"
   },
   "toc_section_display": true,
   "toc_window_display": true
  },
  "widgets": {
   "application/vnd.jupyter.widget-state+json": {
    "state": {},
    "version_major": 2,
    "version_minor": 0
   }
  }
 },
 "nbformat": 4,
 "nbformat_minor": 4
}
