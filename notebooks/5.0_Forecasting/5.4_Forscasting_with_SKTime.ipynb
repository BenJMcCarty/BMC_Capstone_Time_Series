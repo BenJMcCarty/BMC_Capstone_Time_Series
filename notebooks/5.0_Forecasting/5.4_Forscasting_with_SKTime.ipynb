{
 "cells": [
  {
   "cell_type": "markdown",
   "metadata": {},
   "source": [
    "# Forecasting with Sktime"
   ]
  },
  {
   "cell_type": "code",
   "execution_count": 29,
   "metadata": {},
   "outputs": [],
   "source": [
    "import matplotlib.pyplot as plt\n",
    "import pandas as pd\n",
    "from sktime.forecasting.arima import AutoARIMA\n",
    "from sktime.forecasting.base import ForecastingHorizon\n",
    "from sktime.forecasting.model_selection import temporal_train_test_split\n",
    "from sktime.performance_metrics.forecasting import mean_absolute_percentage_error\n",
    "\n",
    "from sktime.forecasting.compose import EnsembleForecaster\n",
    "from sktime.forecasting.naive import NaiveForecaster\n",
    "from sktime.forecasting.exp_smoothing import ExponentialSmoothing"
   ]
  },
  {
   "cell_type": "code",
   "execution_count": 13,
   "metadata": {},
   "outputs": [
    {
     "data": {
      "text/html": [
       "<div>\n",
       "<style scoped>\n",
       "    .dataframe tbody tr th:only-of-type {\n",
       "        vertical-align: middle;\n",
       "    }\n",
       "\n",
       "    .dataframe tbody tr th {\n",
       "        vertical-align: top;\n",
       "    }\n",
       "\n",
       "    .dataframe thead th {\n",
       "        text-align: right;\n",
       "    }\n",
       "</style>\n",
       "<table border=\"1\" class=\"dataframe\">\n",
       "  <thead>\n",
       "    <tr style=\"text-align: right;\">\n",
       "      <th></th>\n",
       "      <th>ADR</th>\n",
       "      <th>Stay Date</th>\n",
       "    </tr>\n",
       "  </thead>\n",
       "  <tbody>\n",
       "    <tr>\n",
       "      <th>164</th>\n",
       "      <td>0.00</td>\n",
       "      <td>2015-07-01</td>\n",
       "    </tr>\n",
       "    <tr>\n",
       "      <th>163</th>\n",
       "      <td>4.00</td>\n",
       "      <td>2015-07-01</td>\n",
       "    </tr>\n",
       "    <tr>\n",
       "      <th>135</th>\n",
       "      <td>55.68</td>\n",
       "      <td>2015-07-01</td>\n",
       "    </tr>\n",
       "    <tr>\n",
       "      <th>227</th>\n",
       "      <td>62.00</td>\n",
       "      <td>2015-07-01</td>\n",
       "    </tr>\n",
       "    <tr>\n",
       "      <th>154</th>\n",
       "      <td>62.50</td>\n",
       "      <td>2015-07-01</td>\n",
       "    </tr>\n",
       "    <tr>\n",
       "      <th>...</th>\n",
       "      <td>...</td>\n",
       "      <td>...</td>\n",
       "    </tr>\n",
       "    <tr>\n",
       "      <th>409000</th>\n",
       "      <td>153.57</td>\n",
       "      <td>2017-09-11</td>\n",
       "    </tr>\n",
       "    <tr>\n",
       "      <th>409699</th>\n",
       "      <td>99.06</td>\n",
       "      <td>2017-09-12</td>\n",
       "    </tr>\n",
       "    <tr>\n",
       "      <th>409822</th>\n",
       "      <td>112.80</td>\n",
       "      <td>2017-09-12</td>\n",
       "    </tr>\n",
       "    <tr>\n",
       "      <th>409700</th>\n",
       "      <td>99.06</td>\n",
       "      <td>2017-09-13</td>\n",
       "    </tr>\n",
       "    <tr>\n",
       "      <th>409823</th>\n",
       "      <td>112.80</td>\n",
       "      <td>2017-09-13</td>\n",
       "    </tr>\n",
       "  </tbody>\n",
       "</table>\n",
       "<p>409257 rows × 2 columns</p>\n",
       "</div>"
      ],
      "text/plain": [
       "           ADR  Stay Date\n",
       "164       0.00 2015-07-01\n",
       "163       4.00 2015-07-01\n",
       "135      55.68 2015-07-01\n",
       "227      62.00 2015-07-01\n",
       "154      62.50 2015-07-01\n",
       "...        ...        ...\n",
       "409000  153.57 2017-09-11\n",
       "409699   99.06 2017-09-12\n",
       "409822  112.80 2017-09-12\n",
       "409700   99.06 2017-09-13\n",
       "409823  112.80 2017-09-13\n",
       "\n",
       "[409257 rows x 2 columns]"
      ]
     },
     "execution_count": 13,
     "metadata": {},
     "output_type": "execute_result"
    }
   ],
   "source": [
    "data = pd.read_feather('../../data/3.3_data_exploded.feather')\n",
    "data"
   ]
  },
  {
   "cell_type": "code",
   "execution_count": 14,
   "metadata": {},
   "outputs": [
    {
     "data": {
      "text/html": [
       "<div>\n",
       "<style scoped>\n",
       "    .dataframe tbody tr th:only-of-type {\n",
       "        vertical-align: middle;\n",
       "    }\n",
       "\n",
       "    .dataframe tbody tr th {\n",
       "        vertical-align: top;\n",
       "    }\n",
       "\n",
       "    .dataframe thead th {\n",
       "        text-align: right;\n",
       "    }\n",
       "</style>\n",
       "<table border=\"1\" class=\"dataframe\">\n",
       "  <thead>\n",
       "    <tr style=\"text-align: right;\">\n",
       "      <th></th>\n",
       "      <th>ADR</th>\n",
       "    </tr>\n",
       "    <tr>\n",
       "      <th>Stay Date</th>\n",
       "      <th></th>\n",
       "    </tr>\n",
       "  </thead>\n",
       "  <tbody>\n",
       "    <tr>\n",
       "      <th>2015-07-01</th>\n",
       "      <td>0.00</td>\n",
       "    </tr>\n",
       "    <tr>\n",
       "      <th>2015-07-01</th>\n",
       "      <td>101.50</td>\n",
       "    </tr>\n",
       "    <tr>\n",
       "      <th>2015-07-01</th>\n",
       "      <td>101.50</td>\n",
       "    </tr>\n",
       "    <tr>\n",
       "      <th>2015-07-01</th>\n",
       "      <td>101.50</td>\n",
       "    </tr>\n",
       "    <tr>\n",
       "      <th>2015-07-01</th>\n",
       "      <td>101.50</td>\n",
       "    </tr>\n",
       "    <tr>\n",
       "      <th>...</th>\n",
       "      <td>...</td>\n",
       "    </tr>\n",
       "    <tr>\n",
       "      <th>2017-09-11</th>\n",
       "      <td>153.57</td>\n",
       "    </tr>\n",
       "    <tr>\n",
       "      <th>2017-09-12</th>\n",
       "      <td>99.06</td>\n",
       "    </tr>\n",
       "    <tr>\n",
       "      <th>2017-09-12</th>\n",
       "      <td>112.80</td>\n",
       "    </tr>\n",
       "    <tr>\n",
       "      <th>2017-09-13</th>\n",
       "      <td>99.06</td>\n",
       "    </tr>\n",
       "    <tr>\n",
       "      <th>2017-09-13</th>\n",
       "      <td>112.80</td>\n",
       "    </tr>\n",
       "  </tbody>\n",
       "</table>\n",
       "<p>409257 rows × 1 columns</p>\n",
       "</div>"
      ],
      "text/plain": [
       "               ADR\n",
       "Stay Date         \n",
       "2015-07-01    0.00\n",
       "2015-07-01  101.50\n",
       "2015-07-01  101.50\n",
       "2015-07-01  101.50\n",
       "2015-07-01  101.50\n",
       "...            ...\n",
       "2017-09-11  153.57\n",
       "2017-09-12   99.06\n",
       "2017-09-12  112.80\n",
       "2017-09-13   99.06\n",
       "2017-09-13  112.80\n",
       "\n",
       "[409257 rows x 1 columns]"
      ]
     },
     "execution_count": 14,
     "metadata": {},
     "output_type": "execute_result"
    }
   ],
   "source": [
    "data = (data.sort_values(by = 'Stay Date')\n",
    "        .set_index('Stay Date'))\n",
    "data"
   ]
  },
  {
   "cell_type": "code",
   "execution_count": 24,
   "metadata": {},
   "outputs": [
    {
     "data": {
      "text/html": [
       "<div>\n",
       "<style scoped>\n",
       "    .dataframe tbody tr th:only-of-type {\n",
       "        vertical-align: middle;\n",
       "    }\n",
       "\n",
       "    .dataframe tbody tr th {\n",
       "        vertical-align: top;\n",
       "    }\n",
       "\n",
       "    .dataframe thead th {\n",
       "        text-align: right;\n",
       "    }\n",
       "</style>\n",
       "<table border=\"1\" class=\"dataframe\">\n",
       "  <thead>\n",
       "    <tr style=\"text-align: right;\">\n",
       "      <th></th>\n",
       "      <th>ADR</th>\n",
       "    </tr>\n",
       "    <tr>\n",
       "      <th>Stay Date</th>\n",
       "      <th></th>\n",
       "    </tr>\n",
       "  </thead>\n",
       "  <tbody>\n",
       "    <tr>\n",
       "      <th>2015-07-03</th>\n",
       "      <td>90.395286</td>\n",
       "    </tr>\n",
       "    <tr>\n",
       "      <th>2015-07-04</th>\n",
       "      <td>89.136111</td>\n",
       "    </tr>\n",
       "    <tr>\n",
       "      <th>2015-07-05</th>\n",
       "      <td>89.895981</td>\n",
       "    </tr>\n",
       "    <tr>\n",
       "      <th>2015-07-06</th>\n",
       "      <td>90.986900</td>\n",
       "    </tr>\n",
       "    <tr>\n",
       "      <th>2015-07-07</th>\n",
       "      <td>91.164970</td>\n",
       "    </tr>\n",
       "    <tr>\n",
       "      <th>...</th>\n",
       "      <td>...</td>\n",
       "    </tr>\n",
       "    <tr>\n",
       "      <th>2017-09-09</th>\n",
       "      <td>152.044861</td>\n",
       "    </tr>\n",
       "    <tr>\n",
       "      <th>2017-09-10</th>\n",
       "      <td>154.971333</td>\n",
       "    </tr>\n",
       "    <tr>\n",
       "      <th>2017-09-11</th>\n",
       "      <td>143.550222</td>\n",
       "    </tr>\n",
       "    <tr>\n",
       "      <th>2017-09-12</th>\n",
       "      <td>128.258000</td>\n",
       "    </tr>\n",
       "    <tr>\n",
       "      <th>2017-09-13</th>\n",
       "      <td>111.223333</td>\n",
       "    </tr>\n",
       "  </tbody>\n",
       "</table>\n",
       "<p>804 rows × 1 columns</p>\n",
       "</div>"
      ],
      "text/plain": [
       "                   ADR\n",
       "Stay Date             \n",
       "2015-07-03   90.395286\n",
       "2015-07-04   89.136111\n",
       "2015-07-05   89.895981\n",
       "2015-07-06   90.986900\n",
       "2015-07-07   91.164970\n",
       "...                ...\n",
       "2017-09-09  152.044861\n",
       "2017-09-10  154.971333\n",
       "2017-09-11  143.550222\n",
       "2017-09-12  128.258000\n",
       "2017-09-13  111.223333\n",
       "\n",
       "[804 rows x 1 columns]"
      ]
     },
     "execution_count": 24,
     "metadata": {},
     "output_type": "execute_result"
    }
   ],
   "source": [
    "ts_avg = (data['ADR']\n",
    "          .resample('D')\n",
    "          .mean()\n",
    "          .rolling(window=3)\n",
    "          .mean()\n",
    "          .dropna()\n",
    "          .to_frame())\n",
    "ts_avg"
   ]
  },
  {
   "cell_type": "code",
   "execution_count": 25,
   "metadata": {},
   "outputs": [],
   "source": [
    "y_train, y_test = temporal_train_test_split(ts_avg, test_size=0.2)\n",
    "fh = ForecastingHorizon(y_test.index, is_relative=False)"
   ]
  },
  {
   "cell_type": "code",
   "execution_count": 26,
   "metadata": {},
   "outputs": [
    {
     "name": "stderr",
     "output_type": "stream",
     "text": [
      "c:\\Users\\Ben\\miniforge3\\envs\\ds-env\\Lib\\site-packages\\statsmodels\\base\\model.py:607: ConvergenceWarning: Maximum Likelihood optimization failed to converge. Check mle_retvals\n",
      "  warnings.warn(\"Maximum Likelihood optimization failed to \"\n",
      "c:\\Users\\Ben\\miniforge3\\envs\\ds-env\\Lib\\site-packages\\statsmodels\\base\\model.py:607: ConvergenceWarning: Maximum Likelihood optimization failed to converge. Check mle_retvals\n",
      "  warnings.warn(\"Maximum Likelihood optimization failed to \"\n",
      "c:\\Users\\Ben\\miniforge3\\envs\\ds-env\\Lib\\site-packages\\statsmodels\\base\\model.py:607: ConvergenceWarning: Maximum Likelihood optimization failed to converge. Check mle_retvals\n",
      "  warnings.warn(\"Maximum Likelihood optimization failed to \"\n"
     ]
    },
    {
     "data": {
      "text/html": [
       "<style>#sk-298435be-4fe2-4a88-bb1e-279b7a905fc4 {color: black;background-color: white;}#sk-298435be-4fe2-4a88-bb1e-279b7a905fc4 pre{padding: 0;}#sk-298435be-4fe2-4a88-bb1e-279b7a905fc4 div.sk-toggleable {background-color: white;}#sk-298435be-4fe2-4a88-bb1e-279b7a905fc4 label.sk-toggleable__label {cursor: pointer;display: block;width: 100%;margin-bottom: 0;padding: 0.3em;box-sizing: border-box;text-align: center;}#sk-298435be-4fe2-4a88-bb1e-279b7a905fc4 label.sk-toggleable__label-arrow:before {content: \"▸\";float: left;margin-right: 0.25em;color: #696969;}#sk-298435be-4fe2-4a88-bb1e-279b7a905fc4 label.sk-toggleable__label-arrow:hover:before {color: black;}#sk-298435be-4fe2-4a88-bb1e-279b7a905fc4 div.sk-estimator:hover label.sk-toggleable__label-arrow:before {color: black;}#sk-298435be-4fe2-4a88-bb1e-279b7a905fc4 div.sk-toggleable__content {max-height: 0;max-width: 0;overflow: hidden;text-align: left;background-color: #f0f8ff;}#sk-298435be-4fe2-4a88-bb1e-279b7a905fc4 div.sk-toggleable__content pre {margin: 0.2em;color: black;border-radius: 0.25em;background-color: #f0f8ff;}#sk-298435be-4fe2-4a88-bb1e-279b7a905fc4 input.sk-toggleable__control:checked~div.sk-toggleable__content {max-height: 200px;max-width: 100%;overflow: auto;}#sk-298435be-4fe2-4a88-bb1e-279b7a905fc4 input.sk-toggleable__control:checked~label.sk-toggleable__label-arrow:before {content: \"▾\";}#sk-298435be-4fe2-4a88-bb1e-279b7a905fc4 div.sk-estimator input.sk-toggleable__control:checked~label.sk-toggleable__label {background-color: #d4ebff;}#sk-298435be-4fe2-4a88-bb1e-279b7a905fc4 div.sk-label input.sk-toggleable__control:checked~label.sk-toggleable__label {background-color: #d4ebff;}#sk-298435be-4fe2-4a88-bb1e-279b7a905fc4 input.sk-hidden--visually {border: 0;clip: rect(1px 1px 1px 1px);clip: rect(1px, 1px, 1px, 1px);height: 1px;margin: -1px;overflow: hidden;padding: 0;position: absolute;width: 1px;}#sk-298435be-4fe2-4a88-bb1e-279b7a905fc4 div.sk-estimator {font-family: monospace;background-color: #f0f8ff;border: 1px dotted black;border-radius: 0.25em;box-sizing: border-box;margin-bottom: 0.5em;}#sk-298435be-4fe2-4a88-bb1e-279b7a905fc4 div.sk-estimator:hover {background-color: #d4ebff;}#sk-298435be-4fe2-4a88-bb1e-279b7a905fc4 div.sk-parallel-item::after {content: \"\";width: 100%;border-bottom: 1px solid gray;flex-grow: 1;}#sk-298435be-4fe2-4a88-bb1e-279b7a905fc4 div.sk-label:hover label.sk-toggleable__label {background-color: #d4ebff;}#sk-298435be-4fe2-4a88-bb1e-279b7a905fc4 div.sk-serial::before {content: \"\";position: absolute;border-left: 1px solid gray;box-sizing: border-box;top: 2em;bottom: 0;left: 50%;}#sk-298435be-4fe2-4a88-bb1e-279b7a905fc4 div.sk-serial {display: flex;flex-direction: column;align-items: center;background-color: white;padding-right: 0.2em;padding-left: 0.2em;}#sk-298435be-4fe2-4a88-bb1e-279b7a905fc4 div.sk-item {z-index: 1;}#sk-298435be-4fe2-4a88-bb1e-279b7a905fc4 div.sk-parallel {display: flex;align-items: stretch;justify-content: center;background-color: white;}#sk-298435be-4fe2-4a88-bb1e-279b7a905fc4 div.sk-parallel::before {content: \"\";position: absolute;border-left: 1px solid gray;box-sizing: border-box;top: 2em;bottom: 0;left: 50%;}#sk-298435be-4fe2-4a88-bb1e-279b7a905fc4 div.sk-parallel-item {display: flex;flex-direction: column;position: relative;background-color: white;}#sk-298435be-4fe2-4a88-bb1e-279b7a905fc4 div.sk-parallel-item:first-child::after {align-self: flex-end;width: 50%;}#sk-298435be-4fe2-4a88-bb1e-279b7a905fc4 div.sk-parallel-item:last-child::after {align-self: flex-start;width: 50%;}#sk-298435be-4fe2-4a88-bb1e-279b7a905fc4 div.sk-parallel-item:only-child::after {width: 0;}#sk-298435be-4fe2-4a88-bb1e-279b7a905fc4 div.sk-dashed-wrapped {border: 1px dashed gray;margin: 0 0.4em 0.5em 0.4em;box-sizing: border-box;padding-bottom: 0.4em;background-color: white;position: relative;}#sk-298435be-4fe2-4a88-bb1e-279b7a905fc4 div.sk-label label {font-family: monospace;font-weight: bold;background-color: white;display: inline-block;line-height: 1.2em;}#sk-298435be-4fe2-4a88-bb1e-279b7a905fc4 div.sk-label-container {position: relative;z-index: 2;text-align: center;}#sk-298435be-4fe2-4a88-bb1e-279b7a905fc4 div.sk-container {/* jupyter's `normalize.less` sets `[hidden] { display: none; }` but bootstrap.min.css set `[hidden] { display: none !important; }` so we also need the `!important` here to be able to override the default hidden behavior on the sphinx rendered scikit-learn.org. See: https://github.com/scikit-learn/scikit-learn/issues/21755 */display: inline-block !important;position: relative;}#sk-298435be-4fe2-4a88-bb1e-279b7a905fc4 div.sk-text-repr-fallback {display: none;}</style><div id='sk-298435be-4fe2-4a88-bb1e-279b7a905fc4' class=\"sk-top-container\"><div class=\"sk-text-repr-fallback\"><pre>AutoARIMA()</pre><b>Please rerun this cell to show the HTML repr or trust the notebook.</b></div><div class=\"sk-container\" hidden><div class='sk-item'><div class=\"sk-estimator sk-toggleable\"><input class=\"sk-toggleable__control sk-hidden--visually\" id=UUID('ae359804-a853-44e1-b346-089f0b187e5a') type=\"checkbox\" checked><label for=UUID('ae359804-a853-44e1-b346-089f0b187e5a') class='sk-toggleable__label sk-toggleable__label-arrow'>AutoARIMA</label><div class=\"sk-toggleable__content\"><pre>AutoARIMA()</pre></div></div></div></div></div>"
      ],
      "text/plain": [
       "AutoARIMA()"
      ]
     },
     "execution_count": 26,
     "metadata": {},
     "output_type": "execute_result"
    }
   ],
   "source": [
    "forecaster = AutoARIMA()\n",
    "forecaster.fit(y_train)"
   ]
  },
  {
   "cell_type": "code",
   "execution_count": 27,
   "metadata": {},
   "outputs": [
    {
     "name": "stdout",
     "output_type": "stream",
     "text": [
      "MAPE: 0.27325291385911865\n"
     ]
    }
   ],
   "source": [
    "y_pred = forecaster.predict(fh)\n",
    "mape = mean_absolute_percentage_error(y_test, y_pred)\n",
    "print(f'MAPE: {mape}')"
   ]
  },
  {
   "cell_type": "code",
   "execution_count": 28,
   "metadata": {},
   "outputs": [
    {
     "data": {
      "image/png": "[encoded data removed]",
      "text/plain": [
       "<Figure size 1000x600 with 1 Axes>"
      ]
     },
     "metadata": {},
     "output_type": "display_data"
    }
   ],
   "source": [
    "plt.figure(figsize=(10, 6))\n",
    "plt.plot(y_train, label='Train')\n",
    "plt.plot(y_test, label='Test')\n",
    "plt.plot(y_pred, label='Predictions')\n",
    "plt.legend()\n",
    "plt.show()"
   ]
  },
  {
   "cell_type": "markdown",
   "metadata": {},
   "source": [
    "# Ensemble Modeling"
   ]
  },
  {
   "cell_type": "code",
   "execution_count": 30,
   "metadata": {},
   "outputs": [
    {
     "name": "stdout",
     "output_type": "stream",
     "text": [
      "Ensemble MAPE: 0.27630774383567036\n"
     ]
    }
   ],
   "source": [
    "from sktime.forecasting.compose import EnsembleForecaster\n",
    "from sktime.forecasting.naive import NaiveForecaster\n",
    "from sktime.forecasting.exp_smoothing import ExponentialSmoothing\n",
    "\n",
    "# Define individual forecasters\n",
    "forecasters = [\n",
    "    (\"naive\", NaiveForecaster(strategy=\"mean\")),\n",
    "    (\"exp_smoothing\", ExponentialSmoothing())\n",
    "]\n",
    "\n",
    "# Combine forecasters into an ensemble\n",
    "ensemble_forecaster = EnsembleForecaster(forecasters=forecasters)\n",
    "\n",
    "# Fit and predict\n",
    "ensemble_forecaster.fit(y_train)\n",
    "y_pred_ensemble = ensemble_forecaster.predict(fh)\n",
    "\n",
    "# Evaluate\n",
    "mape_ensemble = mean_absolute_percentage_error(y_test, y_pred_ensemble)\n",
    "print(f'Ensemble MAPE: {mape_ensemble}')"
   ]
  },
  {
   "cell_type": "markdown",
   "metadata": {},
   "source": []
  },
  {
   "cell_type": "code",
   "execution_count": 31,
   "metadata": {},
   "outputs": [
    {
     "ename": "ImportError",
     "evalue": "cannot import name 'ReducedForecaster' from 'sktime.forecasting.compose' (c:\\Users\\Ben\\miniforge3\\envs\\ds-env\\Lib\\site-packages\\sktime\\forecasting\\compose\\__init__.py)",
     "output_type": "error",
     "traceback": [
      "\u001b[1;31m---------------------------------------------------------------------------\u001b[0m",
      "\u001b[1;31mImportError\u001b[0m                               Traceback (most recent call last)",
      "Cell \u001b[1;32mIn[31], line 1\u001b[0m\n\u001b[1;32m----> 1\u001b[0m \u001b[38;5;28;01mfrom\u001b[39;00m \u001b[38;5;21;01msktime\u001b[39;00m\u001b[38;5;21;01m.\u001b[39;00m\u001b[38;5;21;01mforecasting\u001b[39;00m\u001b[38;5;21;01m.\u001b[39;00m\u001b[38;5;21;01mcompose\u001b[39;00m \u001b[38;5;28;01mimport\u001b[39;00m ReducedForecaster\n\u001b[0;32m      2\u001b[0m \u001b[38;5;28;01mfrom\u001b[39;00m \u001b[38;5;21;01msklearn\u001b[39;00m\u001b[38;5;21;01m.\u001b[39;00m\u001b[38;5;21;01mensemble\u001b[39;00m \u001b[38;5;28;01mimport\u001b[39;00m RandomForestRegressor\n\u001b[0;32m      3\u001b[0m \u001b[38;5;28;01mfrom\u001b[39;00m \u001b[38;5;21;01msktime\u001b[39;00m\u001b[38;5;21;01m.\u001b[39;00m\u001b[38;5;21;01mforecasting\u001b[39;00m\u001b[38;5;21;01m.\u001b[39;00m\u001b[38;5;21;01mmodel_selection\u001b[39;00m \u001b[38;5;28;01mimport\u001b[39;00m temporal_train_test_split\n",
      "\u001b[1;31mImportError\u001b[0m: cannot import name 'ReducedForecaster' from 'sktime.forecasting.compose' (c:\\Users\\Ben\\miniforge3\\envs\\ds-env\\Lib\\site-packages\\sktime\\forecasting\\compose\\__init__.py)"
     ]
    }
   ],
   "source": [
    "from sktime.forecasting.compose import ReducedForecaster\n",
    "from sklearn.ensemble import RandomForestRegressor\n",
    "from sktime.forecasting.model_selection import temporal_train_test_split\n",
    "from sktime.performance_metrics.forecasting import mean_absolute_percentage_error\n",
    "from sktime.forecasting.base import ForecastingHorizon\n",
    "\n",
    "# Initialize the regressor\n",
    "regressor = RandomForestRegressor()\n",
    "\n",
    "# Initialize the ReducedForecaster with recursive strategy\n",
    "forecaster = ReducedForecaster(regressor, window_length=10, strategy=\"recursive\")\n",
    "\n",
    "# Fit the model\n",
    "forecaster.fit(y_train)\n",
    "\n",
    "# Make predictions\n",
    "y_pred = forecaster.predict(fh)\n",
    "\n",
    "# Evaluate the model\n",
    "mape = mean_absolute_percentage_error(y_test, y_pred)\n",
    "print(f'MAPE: {mape}')\n"
   ]
  },
  {
   "cell_type": "code",
   "execution_count": null,
   "metadata": {},
   "outputs": [],
   "source": []
  }
 ],
 "metadata": {
  "kernelspec": {
   "display_name": "Python (ds-env)",
   "language": "python",
   "name": "ds-env"
  },
  "language_info": {
   "codemirror_mode": {
    "name": "ipython",
    "version": 3
   },
   "file_extension": ".py",
   "mimetype": "text/x-python",
   "name": "python",
   "nbconvert_exporter": "python",
   "pygments_lexer": "ipython3",
   "version": "3.12.4"
  }
 },
 "nbformat": 4,
 "nbformat_minor": 2
}
