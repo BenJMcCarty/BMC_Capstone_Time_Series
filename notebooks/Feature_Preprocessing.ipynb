{
 "cells": [
  {
   "cell_type": "markdown",
   "id": "5aeb4f9a-b4f8-446f-95a3-ba678513da6c",
   "metadata": {},
   "source": [
    "# Feature Preprocessing"
   ]
  },
  {
   "cell_type": "code",
   "execution_count": 1,
   "id": "8054e3e4-611d-47fd-9f57-a85ad01db27c",
   "metadata": {
    "execution": {
     "iopub.execute_input": "2024-03-29T22:15:48.782614Z",
     "iopub.status.busy": "2024-03-29T22:15:48.781614Z",
     "iopub.status.idle": "2024-03-29T22:15:49.820916Z",
     "shell.execute_reply": "2024-03-29T22:15:49.820916Z",
     "shell.execute_reply.started": "2024-03-29T22:15:48.782614Z"
    }
   },
   "outputs": [],
   "source": [
    "from feature_engine.imputation import CategoricalImputer, MeanMedianImputer\n",
    "from feature_engine.encoding import DecisionTreeEncoder, MeanEncoder, OneHotEncoder, RareLabelEncoder\n",
    "from feature_engine.outliers import OutlierTrimmer\n",
    "from feature_engine.pipeline import Pipeline\n",
    "\n",
    "import numpy as np\n",
    "import pandas as pd"
   ]
  },
  {
   "cell_type": "markdown",
   "id": "9fce85e1-89fb-4fd3-b4ce-31a22522b68e",
   "metadata": {},
   "source": [
    "# Read Data"
   ]
  },
  {
   "cell_type": "code",
   "execution_count": 2,
   "id": "c90ddf04-8431-4801-860b-f0287d3cf915",
   "metadata": {
    "execution": {
     "iopub.execute_input": "2024-03-29T22:15:49.822016Z",
     "iopub.status.busy": "2024-03-29T22:15:49.822016Z",
     "iopub.status.idle": "2024-03-29T22:15:49.918574Z",
     "shell.execute_reply": "2024-03-29T22:15:49.918574Z",
     "shell.execute_reply.started": "2024-03-29T22:15:49.822016Z"
    }
   },
   "outputs": [
    {
     "data": {
      "text/html": [
       "<div>\n",
       "<style scoped>\n",
       "    .dataframe tbody tr th:only-of-type {\n",
       "        vertical-align: middle;\n",
       "    }\n",
       "\n",
       "    .dataframe tbody tr th {\n",
       "        vertical-align: top;\n",
       "    }\n",
       "\n",
       "    .dataframe thead th {\n",
       "        text-align: right;\n",
       "    }\n",
       "</style>\n",
       "<table border=\"1\" class=\"dataframe\">\n",
       "  <thead>\n",
       "    <tr style=\"text-align: right;\">\n",
       "      <th></th>\n",
       "      <th>IsCanceled</th>\n",
       "      <th>Adults</th>\n",
       "      <th>Children</th>\n",
       "      <th>Babies</th>\n",
       "      <th>Meal</th>\n",
       "      <th>Country</th>\n",
       "      <th>MarketSegment</th>\n",
       "      <th>DistributionChannel</th>\n",
       "      <th>IsRepeatedGuest</th>\n",
       "      <th>PreviousCancellations</th>\n",
       "      <th>...</th>\n",
       "      <th>DepartureDate_DaysBeforeHoliday</th>\n",
       "      <th>DepartureDate_DaysAfterHoliday</th>\n",
       "      <th>BookingDate_DaysBeforeHoliday</th>\n",
       "      <th>BookingDate_DaysAfterHoliday</th>\n",
       "      <th>ArrivalDate_WeekNumber</th>\n",
       "      <th>ArrivalDate_DayOfWeek</th>\n",
       "      <th>DepartureDate_WeekNumber</th>\n",
       "      <th>DepartureDate_DayOfWeek</th>\n",
       "      <th>BookingDate_WeekNumber</th>\n",
       "      <th>BookingDate_DayOfWeek</th>\n",
       "    </tr>\n",
       "  </thead>\n",
       "  <tbody>\n",
       "    <tr>\n",
       "      <th>0</th>\n",
       "      <td>0</td>\n",
       "      <td>2</td>\n",
       "      <td>0.0</td>\n",
       "      <td>0</td>\n",
       "      <td>BB</td>\n",
       "      <td>PRT</td>\n",
       "      <td>Direct</td>\n",
       "      <td>Direct</td>\n",
       "      <td>0</td>\n",
       "      <td>0</td>\n",
       "      <td>...</td>\n",
       "      <td>45</td>\n",
       "      <td>21</td>\n",
       "      <td>22</td>\n",
       "      <td>44</td>\n",
       "      <td>27</td>\n",
       "      <td>3</td>\n",
       "      <td>27</td>\n",
       "      <td>3</td>\n",
       "      <td>30</td>\n",
       "      <td>4</td>\n",
       "    </tr>\n",
       "    <tr>\n",
       "      <th>1</th>\n",
       "      <td>0</td>\n",
       "      <td>2</td>\n",
       "      <td>0.0</td>\n",
       "      <td>0</td>\n",
       "      <td>BB</td>\n",
       "      <td>PRT</td>\n",
       "      <td>Direct</td>\n",
       "      <td>Direct</td>\n",
       "      <td>0</td>\n",
       "      <td>0</td>\n",
       "      <td>...</td>\n",
       "      <td>45</td>\n",
       "      <td>21</td>\n",
       "      <td>52</td>\n",
       "      <td>14</td>\n",
       "      <td>27</td>\n",
       "      <td>3</td>\n",
       "      <td>27</td>\n",
       "      <td>3</td>\n",
       "      <td>26</td>\n",
       "      <td>1</td>\n",
       "    </tr>\n",
       "    <tr>\n",
       "      <th>2</th>\n",
       "      <td>0</td>\n",
       "      <td>1</td>\n",
       "      <td>0.0</td>\n",
       "      <td>0</td>\n",
       "      <td>BB</td>\n",
       "      <td>GBR</td>\n",
       "      <td>Direct</td>\n",
       "      <td>Direct</td>\n",
       "      <td>0</td>\n",
       "      <td>0</td>\n",
       "      <td>...</td>\n",
       "      <td>44</td>\n",
       "      <td>22</td>\n",
       "      <td>52</td>\n",
       "      <td>14</td>\n",
       "      <td>27</td>\n",
       "      <td>3</td>\n",
       "      <td>27</td>\n",
       "      <td>4</td>\n",
       "      <td>26</td>\n",
       "      <td>3</td>\n",
       "    </tr>\n",
       "    <tr>\n",
       "      <th>3</th>\n",
       "      <td>0</td>\n",
       "      <td>1</td>\n",
       "      <td>0.0</td>\n",
       "      <td>0</td>\n",
       "      <td>BB</td>\n",
       "      <td>GBR</td>\n",
       "      <td>Corporate</td>\n",
       "      <td>Corporate</td>\n",
       "      <td>0</td>\n",
       "      <td>0</td>\n",
       "      <td>...</td>\n",
       "      <td>44</td>\n",
       "      <td>22</td>\n",
       "      <td>58</td>\n",
       "      <td>8</td>\n",
       "      <td>27</td>\n",
       "      <td>3</td>\n",
       "      <td>27</td>\n",
       "      <td>4</td>\n",
       "      <td>25</td>\n",
       "      <td>4</td>\n",
       "    </tr>\n",
       "    <tr>\n",
       "      <th>4</th>\n",
       "      <td>0</td>\n",
       "      <td>2</td>\n",
       "      <td>0.0</td>\n",
       "      <td>0</td>\n",
       "      <td>BB</td>\n",
       "      <td>GBR</td>\n",
       "      <td>Online TA</td>\n",
       "      <td>TA/TO</td>\n",
       "      <td>0</td>\n",
       "      <td>0</td>\n",
       "      <td>...</td>\n",
       "      <td>43</td>\n",
       "      <td>23</td>\n",
       "      <td>59</td>\n",
       "      <td>7</td>\n",
       "      <td>27</td>\n",
       "      <td>3</td>\n",
       "      <td>27</td>\n",
       "      <td>5</td>\n",
       "      <td>25</td>\n",
       "      <td>3</td>\n",
       "    </tr>\n",
       "  </tbody>\n",
       "</table>\n",
       "<p>5 rows × 35 columns</p>\n",
       "</div>"
      ],
      "text/plain": [
       "   IsCanceled  Adults  Children  Babies       Meal Country MarketSegment  \\\n",
       "0           0       2       0.0       0  BB            PRT        Direct   \n",
       "1           0       2       0.0       0  BB            PRT        Direct   \n",
       "2           0       1       0.0       0  BB            GBR        Direct   \n",
       "3           0       1       0.0       0  BB            GBR     Corporate   \n",
       "4           0       2       0.0       0  BB            GBR     Online TA   \n",
       "\n",
       "  DistributionChannel  IsRepeatedGuest  PreviousCancellations  ...  \\\n",
       "0              Direct                0                      0  ...   \n",
       "1              Direct                0                      0  ...   \n",
       "2              Direct                0                      0  ...   \n",
       "3           Corporate                0                      0  ...   \n",
       "4               TA/TO                0                      0  ...   \n",
       "\n",
       "   DepartureDate_DaysBeforeHoliday DepartureDate_DaysAfterHoliday  \\\n",
       "0                               45                             21   \n",
       "1                               45                             21   \n",
       "2                               44                             22   \n",
       "3                               44                             22   \n",
       "4                               43                             23   \n",
       "\n",
       "  BookingDate_DaysBeforeHoliday  BookingDate_DaysAfterHoliday  \\\n",
       "0                            22                            44   \n",
       "1                            52                            14   \n",
       "2                            52                            14   \n",
       "3                            58                             8   \n",
       "4                            59                             7   \n",
       "\n",
       "  ArrivalDate_WeekNumber ArrivalDate_DayOfWeek DepartureDate_WeekNumber  \\\n",
       "0                     27                     3                       27   \n",
       "1                     27                     3                       27   \n",
       "2                     27                     3                       27   \n",
       "3                     27                     3                       27   \n",
       "4                     27                     3                       27   \n",
       "\n",
       "   DepartureDate_DayOfWeek BookingDate_WeekNumber  BookingDate_DayOfWeek  \n",
       "0                        3                     30                      4  \n",
       "1                        3                     26                      1  \n",
       "2                        4                     26                      3  \n",
       "3                        4                     25                      4  \n",
       "4                        5                     25                      3  \n",
       "\n",
       "[5 rows x 35 columns]"
      ]
     },
     "execution_count": 2,
     "metadata": {},
     "output_type": "execute_result"
    }
   ],
   "source": [
    "data = pd.read_parquet('../data/data_prepped.parquet')\n",
    "data.head()"
   ]
  },
  {
   "cell_type": "code",
   "execution_count": 3,
   "id": "8416b97e-34a5-4274-9247-d3a18b56116b",
   "metadata": {
    "execution": {
     "iopub.execute_input": "2024-03-29T22:15:49.919569Z",
     "iopub.status.busy": "2024-03-29T22:15:49.919569Z",
     "iopub.status.idle": "2024-03-29T22:15:49.931995Z",
     "shell.execute_reply": "2024-03-29T22:15:49.931995Z",
     "shell.execute_reply.started": "2024-03-29T22:15:49.919569Z"
    }
   },
   "outputs": [
    {
     "data": {
      "text/plain": [
       "(119390, 35)"
      ]
     },
     "execution_count": 3,
     "metadata": {},
     "output_type": "execute_result"
    }
   ],
   "source": [
    "initial_size = data.shape\n",
    "initial_size"
   ]
  },
  {
   "cell_type": "markdown",
   "id": "a715ed0d-29a0-42cc-91b1-15ec1b291c20",
   "metadata": {},
   "source": [
    "# Imputation"
   ]
  },
  {
   "cell_type": "code",
   "execution_count": 4,
   "id": "fe7ce386-bb8e-49f5-9014-e055c2f2ee55",
   "metadata": {
    "execution": {
     "iopub.execute_input": "2024-03-29T22:15:49.931995Z",
     "iopub.status.busy": "2024-03-29T22:15:49.931995Z",
     "iopub.status.idle": "2024-03-29T22:15:50.084382Z",
     "shell.execute_reply": "2024-03-29T22:15:50.083544Z",
     "shell.execute_reply.started": "2024-03-29T22:15:49.931995Z"
    }
   },
   "outputs": [
    {
     "data": {
      "text/plain": [
       "0"
      ]
     },
     "execution_count": 4,
     "metadata": {},
     "output_type": "execute_result"
    }
   ],
   "source": [
    "cat_imputer = CategoricalImputer(variables=['Country'], imputation_method = 'frequent')\n",
    "data = cat_imputer.fit_transform(data)\n",
    "\n",
    "num_imputer = MeanMedianImputer(imputation_method = 'median', variables = ['Children'])\n",
    "data = num_imputer.fit_transform(data)\n",
    "\n",
    "\n",
    "data.isna().sum().sum()"
   ]
  },
  {
   "cell_type": "markdown",
   "id": "bcd94225-4f66-41ea-a325-1bade761ddf2",
   "metadata": {
    "execution": {
     "iopub.execute_input": "2024-03-29T22:04:14.636516Z",
     "iopub.status.busy": "2024-03-29T22:04:14.636516Z",
     "iopub.status.idle": "2024-03-29T22:04:14.654626Z",
     "shell.execute_reply": "2024-03-29T22:04:14.653631Z",
     "shell.execute_reply.started": "2024-03-29T22:04:14.636516Z"
    }
   },
   "source": [
    "# Rare Label Encoding"
   ]
  },
  {
   "cell_type": "code",
   "execution_count": 5,
   "id": "503f511d-f65e-498e-ac4e-66e525932143",
   "metadata": {
    "execution": {
     "iopub.execute_input": "2024-03-29T22:15:50.085388Z",
     "iopub.status.busy": "2024-03-29T22:15:50.085388Z",
     "iopub.status.idle": "2024-03-29T22:15:50.377499Z",
     "shell.execute_reply": "2024-03-29T22:15:50.376564Z",
     "shell.execute_reply.started": "2024-03-29T22:15:50.085388Z"
    }
   },
   "outputs": [
    {
     "name": "stderr",
     "output_type": "stream",
     "text": [
      "C:\\Users\\Ben\\anaconda3\\envs\\dojo-env\\lib\\site-packages\\feature_engine\\encoding\\rare_label.py:216: UserWarning: The number of unique categories for variable Meal is less than that indicated in n_categories. Thus, all categories will be considered frequent\n",
      "  warnings.warn(\n",
      "C:\\Users\\Ben\\anaconda3\\envs\\dojo-env\\lib\\site-packages\\feature_engine\\encoding\\rare_label.py:216: UserWarning: The number of unique categories for variable DistributionChannel is less than that indicated in n_categories. Thus, all categories will be considered frequent\n",
      "  warnings.warn(\n",
      "C:\\Users\\Ben\\anaconda3\\envs\\dojo-env\\lib\\site-packages\\feature_engine\\encoding\\rare_label.py:216: UserWarning: The number of unique categories for variable DepositType is less than that indicated in n_categories. Thus, all categories will be considered frequent\n",
      "  warnings.warn(\n",
      "C:\\Users\\Ben\\anaconda3\\envs\\dojo-env\\lib\\site-packages\\feature_engine\\encoding\\rare_label.py:216: UserWarning: The number of unique categories for variable CustomerType is less than that indicated in n_categories. Thus, all categories will be considered frequent\n",
      "  warnings.warn(\n"
     ]
    }
   ],
   "source": [
    "rle = RareLabelEncoder(tol=0.05,n_categories=5,replace_with='Rare')\n",
    "\n",
    "data = rle.fit_transform(data)"
   ]
  },
  {
   "cell_type": "markdown",
   "id": "fc1035b6-adad-4360-bbcc-244017ef6df1",
   "metadata": {},
   "source": [
    "# Categorical Feature Encoding"
   ]
  },
  {
   "cell_type": "code",
   "execution_count": 6,
   "id": "c4d201e1-b675-49d4-9649-975febfcba10",
   "metadata": {
    "execution": {
     "iopub.execute_input": "2024-03-29T22:15:50.379439Z",
     "iopub.status.busy": "2024-03-29T22:15:50.379439Z",
     "iopub.status.idle": "2024-03-29T22:15:50.390576Z",
     "shell.execute_reply": "2024-03-29T22:15:50.390576Z",
     "shell.execute_reply.started": "2024-03-29T22:15:50.379439Z"
    }
   },
   "outputs": [],
   "source": [
    "# dte = DecisionTreeEncoder(regression = True, random_state=42)\n",
    "\n",
    "# data = dte.fit_transform(data.drop(columns=['ADR']), data['ADR'])"
   ]
  },
  {
   "cell_type": "code",
   "execution_count": 7,
   "id": "64d3dc38-b8d5-4b90-a2de-a4a3f6f28542",
   "metadata": {
    "execution": {
     "iopub.execute_input": "2024-03-29T22:15:50.390576Z",
     "iopub.status.busy": "2024-03-29T22:15:50.390576Z",
     "iopub.status.idle": "2024-03-29T22:15:50.405960Z",
     "shell.execute_reply": "2024-03-29T22:15:50.405960Z",
     "shell.execute_reply.started": "2024-03-29T22:15:50.390576Z"
    }
   },
   "outputs": [],
   "source": [
    "# mean_enc = MeanEncoder(unseen = 'encode')\n",
    "\n",
    "# data = mean_enc.fit_transform(X = data, y = None)\n",
    "\n",
    "# data.head()"
   ]
  },
  {
   "cell_type": "code",
   "execution_count": 8,
   "id": "58c4cddf-cc14-4a17-9fe1-39db33d08428",
   "metadata": {
    "execution": {
     "iopub.execute_input": "2024-03-29T22:15:50.407471Z",
     "iopub.status.busy": "2024-03-29T22:15:50.407471Z",
     "iopub.status.idle": "2024-03-29T22:15:51.274457Z",
     "shell.execute_reply": "2024-03-29T22:15:51.274457Z",
     "shell.execute_reply.started": "2024-03-29T22:15:50.407471Z"
    }
   },
   "outputs": [
    {
     "data": {
      "text/html": [
       "<div>\n",
       "<style scoped>\n",
       "    .dataframe tbody tr th:only-of-type {\n",
       "        vertical-align: middle;\n",
       "    }\n",
       "\n",
       "    .dataframe tbody tr th {\n",
       "        vertical-align: top;\n",
       "    }\n",
       "\n",
       "    .dataframe thead th {\n",
       "        text-align: right;\n",
       "    }\n",
       "</style>\n",
       "<table border=\"1\" class=\"dataframe\">\n",
       "  <thead>\n",
       "    <tr style=\"text-align: right;\">\n",
       "      <th></th>\n",
       "      <th>IsCanceled</th>\n",
       "      <th>Adults</th>\n",
       "      <th>Children</th>\n",
       "      <th>Babies</th>\n",
       "      <th>IsRepeatedGuest</th>\n",
       "      <th>PreviousCancellations</th>\n",
       "      <th>PreviousBookingsNotCanceled</th>\n",
       "      <th>BookingChanges</th>\n",
       "      <th>DaysInWaitingList</th>\n",
       "      <th>ADR</th>\n",
       "      <th>...</th>\n",
       "      <th>DepositType_No Deposit</th>\n",
       "      <th>DepositType_Refundable</th>\n",
       "      <th>Agent_       NULL</th>\n",
       "      <th>Agent_Rare</th>\n",
       "      <th>Agent_        240</th>\n",
       "      <th>Agent_          9</th>\n",
       "      <th>Company_       NULL</th>\n",
       "      <th>CustomerType_Transient</th>\n",
       "      <th>CustomerType_Contract</th>\n",
       "      <th>CustomerType_Transient-Party</th>\n",
       "    </tr>\n",
       "  </thead>\n",
       "  <tbody>\n",
       "    <tr>\n",
       "      <th>0</th>\n",
       "      <td>0</td>\n",
       "      <td>2</td>\n",
       "      <td>0.0</td>\n",
       "      <td>0</td>\n",
       "      <td>0</td>\n",
       "      <td>0</td>\n",
       "      <td>0</td>\n",
       "      <td>3</td>\n",
       "      <td>0</td>\n",
       "      <td>0.0</td>\n",
       "      <td>...</td>\n",
       "      <td>1</td>\n",
       "      <td>0</td>\n",
       "      <td>1</td>\n",
       "      <td>0</td>\n",
       "      <td>0</td>\n",
       "      <td>0</td>\n",
       "      <td>1</td>\n",
       "      <td>1</td>\n",
       "      <td>0</td>\n",
       "      <td>0</td>\n",
       "    </tr>\n",
       "    <tr>\n",
       "      <th>1</th>\n",
       "      <td>0</td>\n",
       "      <td>2</td>\n",
       "      <td>0.0</td>\n",
       "      <td>0</td>\n",
       "      <td>0</td>\n",
       "      <td>0</td>\n",
       "      <td>0</td>\n",
       "      <td>4</td>\n",
       "      <td>0</td>\n",
       "      <td>0.0</td>\n",
       "      <td>...</td>\n",
       "      <td>1</td>\n",
       "      <td>0</td>\n",
       "      <td>1</td>\n",
       "      <td>0</td>\n",
       "      <td>0</td>\n",
       "      <td>0</td>\n",
       "      <td>1</td>\n",
       "      <td>1</td>\n",
       "      <td>0</td>\n",
       "      <td>0</td>\n",
       "    </tr>\n",
       "    <tr>\n",
       "      <th>2</th>\n",
       "      <td>0</td>\n",
       "      <td>1</td>\n",
       "      <td>0.0</td>\n",
       "      <td>0</td>\n",
       "      <td>0</td>\n",
       "      <td>0</td>\n",
       "      <td>0</td>\n",
       "      <td>0</td>\n",
       "      <td>0</td>\n",
       "      <td>75.0</td>\n",
       "      <td>...</td>\n",
       "      <td>1</td>\n",
       "      <td>0</td>\n",
       "      <td>1</td>\n",
       "      <td>0</td>\n",
       "      <td>0</td>\n",
       "      <td>0</td>\n",
       "      <td>1</td>\n",
       "      <td>1</td>\n",
       "      <td>0</td>\n",
       "      <td>0</td>\n",
       "    </tr>\n",
       "    <tr>\n",
       "      <th>3</th>\n",
       "      <td>0</td>\n",
       "      <td>1</td>\n",
       "      <td>0.0</td>\n",
       "      <td>0</td>\n",
       "      <td>0</td>\n",
       "      <td>0</td>\n",
       "      <td>0</td>\n",
       "      <td>0</td>\n",
       "      <td>0</td>\n",
       "      <td>75.0</td>\n",
       "      <td>...</td>\n",
       "      <td>1</td>\n",
       "      <td>0</td>\n",
       "      <td>0</td>\n",
       "      <td>1</td>\n",
       "      <td>0</td>\n",
       "      <td>0</td>\n",
       "      <td>1</td>\n",
       "      <td>1</td>\n",
       "      <td>0</td>\n",
       "      <td>0</td>\n",
       "    </tr>\n",
       "    <tr>\n",
       "      <th>4</th>\n",
       "      <td>0</td>\n",
       "      <td>2</td>\n",
       "      <td>0.0</td>\n",
       "      <td>0</td>\n",
       "      <td>0</td>\n",
       "      <td>0</td>\n",
       "      <td>0</td>\n",
       "      <td>0</td>\n",
       "      <td>0</td>\n",
       "      <td>98.0</td>\n",
       "      <td>...</td>\n",
       "      <td>1</td>\n",
       "      <td>0</td>\n",
       "      <td>0</td>\n",
       "      <td>0</td>\n",
       "      <td>1</td>\n",
       "      <td>0</td>\n",
       "      <td>1</td>\n",
       "      <td>1</td>\n",
       "      <td>0</td>\n",
       "      <td>0</td>\n",
       "    </tr>\n",
       "  </tbody>\n",
       "</table>\n",
       "<p>5 rows × 58 columns</p>\n",
       "</div>"
      ],
      "text/plain": [
       "   IsCanceled  Adults  Children  Babies  IsRepeatedGuest  \\\n",
       "0           0       2       0.0       0                0   \n",
       "1           0       2       0.0       0                0   \n",
       "2           0       1       0.0       0                0   \n",
       "3           0       1       0.0       0                0   \n",
       "4           0       2       0.0       0                0   \n",
       "\n",
       "   PreviousCancellations  PreviousBookingsNotCanceled  BookingChanges  \\\n",
       "0                      0                            0               3   \n",
       "1                      0                            0               4   \n",
       "2                      0                            0               0   \n",
       "3                      0                            0               0   \n",
       "4                      0                            0               0   \n",
       "\n",
       "   DaysInWaitingList   ADR  ...  DepositType_No Deposit       \\\n",
       "0                  0   0.0  ...                            1   \n",
       "1                  0   0.0  ...                            1   \n",
       "2                  0  75.0  ...                            1   \n",
       "3                  0  75.0  ...                            1   \n",
       "4                  0  98.0  ...                            1   \n",
       "\n",
       "   DepositType_Refundable       Agent_       NULL  Agent_Rare  \\\n",
       "0                            0                  1           0   \n",
       "1                            0                  1           0   \n",
       "2                            0                  1           0   \n",
       "3                            0                  0           1   \n",
       "4                            0                  0           0   \n",
       "\n",
       "   Agent_        240  Agent_          9  Company_       NULL  \\\n",
       "0                  0                  0                    1   \n",
       "1                  0                  0                    1   \n",
       "2                  0                  0                    1   \n",
       "3                  0                  0                    1   \n",
       "4                  1                  0                    1   \n",
       "\n",
       "   CustomerType_Transient  CustomerType_Contract  CustomerType_Transient-Party  \n",
       "0                       1                      0                             0  \n",
       "1                       1                      0                             0  \n",
       "2                       1                      0                             0  \n",
       "3                       1                      0                             0  \n",
       "4                       1                      0                             0  \n",
       "\n",
       "[5 rows x 58 columns]"
      ]
     },
     "execution_count": 8,
     "metadata": {},
     "output_type": "execute_result"
    }
   ],
   "source": [
    "ohe = OneHotEncoder(drop_last = True)\n",
    "\n",
    "data = ohe.fit_transform(data)\n",
    "\n",
    "data.head()"
   ]
  },
  {
   "cell_type": "markdown",
   "id": "e256df15-ad01-48bc-99fb-ccbd5a6e1d6d",
   "metadata": {},
   "source": [
    "# Outlier Removal"
   ]
  },
  {
   "cell_type": "code",
   "execution_count": 9,
   "id": "32dd081c-08ed-4a4b-9003-8271ee13a33e",
   "metadata": {
    "execution": {
     "iopub.execute_input": "2024-03-29T22:15:51.274457Z",
     "iopub.status.busy": "2024-03-29T22:15:51.274457Z",
     "iopub.status.idle": "2024-03-29T22:15:52.081187Z",
     "shell.execute_reply": "2024-03-29T22:15:52.081187Z",
     "shell.execute_reply.started": "2024-03-29T22:15:51.274457Z"
    }
   },
   "outputs": [
    {
     "data": {
      "text/html": [
       "<div>\n",
       "<style scoped>\n",
       "    .dataframe tbody tr th:only-of-type {\n",
       "        vertical-align: middle;\n",
       "    }\n",
       "\n",
       "    .dataframe tbody tr th {\n",
       "        vertical-align: top;\n",
       "    }\n",
       "\n",
       "    .dataframe thead th {\n",
       "        text-align: right;\n",
       "    }\n",
       "</style>\n",
       "<table border=\"1\" class=\"dataframe\">\n",
       "  <thead>\n",
       "    <tr style=\"text-align: right;\">\n",
       "      <th></th>\n",
       "      <th>IsCanceled</th>\n",
       "      <th>Adults</th>\n",
       "      <th>Children</th>\n",
       "      <th>Babies</th>\n",
       "      <th>IsRepeatedGuest</th>\n",
       "      <th>PreviousCancellations</th>\n",
       "      <th>PreviousBookingsNotCanceled</th>\n",
       "      <th>BookingChanges</th>\n",
       "      <th>DaysInWaitingList</th>\n",
       "      <th>ADR</th>\n",
       "      <th>...</th>\n",
       "      <th>DepositType_No Deposit</th>\n",
       "      <th>DepositType_Refundable</th>\n",
       "      <th>Agent_       NULL</th>\n",
       "      <th>Agent_Rare</th>\n",
       "      <th>Agent_        240</th>\n",
       "      <th>Agent_          9</th>\n",
       "      <th>Company_       NULL</th>\n",
       "      <th>CustomerType_Transient</th>\n",
       "      <th>CustomerType_Contract</th>\n",
       "      <th>CustomerType_Transient-Party</th>\n",
       "    </tr>\n",
       "  </thead>\n",
       "  <tbody>\n",
       "    <tr>\n",
       "      <th>2</th>\n",
       "      <td>0</td>\n",
       "      <td>1</td>\n",
       "      <td>0.0</td>\n",
       "      <td>0</td>\n",
       "      <td>0</td>\n",
       "      <td>0</td>\n",
       "      <td>0</td>\n",
       "      <td>0</td>\n",
       "      <td>0</td>\n",
       "      <td>75.0</td>\n",
       "      <td>...</td>\n",
       "      <td>1</td>\n",
       "      <td>0</td>\n",
       "      <td>1</td>\n",
       "      <td>0</td>\n",
       "      <td>0</td>\n",
       "      <td>0</td>\n",
       "      <td>1</td>\n",
       "      <td>1</td>\n",
       "      <td>0</td>\n",
       "      <td>0</td>\n",
       "    </tr>\n",
       "    <tr>\n",
       "      <th>4</th>\n",
       "      <td>0</td>\n",
       "      <td>2</td>\n",
       "      <td>0.0</td>\n",
       "      <td>0</td>\n",
       "      <td>0</td>\n",
       "      <td>0</td>\n",
       "      <td>0</td>\n",
       "      <td>0</td>\n",
       "      <td>0</td>\n",
       "      <td>98.0</td>\n",
       "      <td>...</td>\n",
       "      <td>1</td>\n",
       "      <td>0</td>\n",
       "      <td>0</td>\n",
       "      <td>0</td>\n",
       "      <td>1</td>\n",
       "      <td>0</td>\n",
       "      <td>1</td>\n",
       "      <td>1</td>\n",
       "      <td>0</td>\n",
       "      <td>0</td>\n",
       "    </tr>\n",
       "    <tr>\n",
       "      <th>5</th>\n",
       "      <td>0</td>\n",
       "      <td>2</td>\n",
       "      <td>0.0</td>\n",
       "      <td>0</td>\n",
       "      <td>0</td>\n",
       "      <td>0</td>\n",
       "      <td>0</td>\n",
       "      <td>0</td>\n",
       "      <td>0</td>\n",
       "      <td>98.0</td>\n",
       "      <td>...</td>\n",
       "      <td>1</td>\n",
       "      <td>0</td>\n",
       "      <td>0</td>\n",
       "      <td>0</td>\n",
       "      <td>1</td>\n",
       "      <td>0</td>\n",
       "      <td>1</td>\n",
       "      <td>1</td>\n",
       "      <td>0</td>\n",
       "      <td>0</td>\n",
       "    </tr>\n",
       "    <tr>\n",
       "      <th>8</th>\n",
       "      <td>1</td>\n",
       "      <td>2</td>\n",
       "      <td>0.0</td>\n",
       "      <td>0</td>\n",
       "      <td>0</td>\n",
       "      <td>0</td>\n",
       "      <td>0</td>\n",
       "      <td>0</td>\n",
       "      <td>0</td>\n",
       "      <td>82.0</td>\n",
       "      <td>...</td>\n",
       "      <td>1</td>\n",
       "      <td>0</td>\n",
       "      <td>0</td>\n",
       "      <td>0</td>\n",
       "      <td>1</td>\n",
       "      <td>0</td>\n",
       "      <td>1</td>\n",
       "      <td>1</td>\n",
       "      <td>0</td>\n",
       "      <td>0</td>\n",
       "    </tr>\n",
       "    <tr>\n",
       "      <th>9</th>\n",
       "      <td>1</td>\n",
       "      <td>2</td>\n",
       "      <td>0.0</td>\n",
       "      <td>0</td>\n",
       "      <td>0</td>\n",
       "      <td>0</td>\n",
       "      <td>0</td>\n",
       "      <td>0</td>\n",
       "      <td>0</td>\n",
       "      <td>105.5</td>\n",
       "      <td>...</td>\n",
       "      <td>1</td>\n",
       "      <td>0</td>\n",
       "      <td>0</td>\n",
       "      <td>1</td>\n",
       "      <td>0</td>\n",
       "      <td>0</td>\n",
       "      <td>1</td>\n",
       "      <td>1</td>\n",
       "      <td>0</td>\n",
       "      <td>0</td>\n",
       "    </tr>\n",
       "  </tbody>\n",
       "</table>\n",
       "<p>5 rows × 58 columns</p>\n",
       "</div>"
      ],
      "text/plain": [
       "   IsCanceled  Adults  Children  Babies  IsRepeatedGuest  \\\n",
       "2           0       1       0.0       0                0   \n",
       "4           0       2       0.0       0                0   \n",
       "5           0       2       0.0       0                0   \n",
       "8           1       2       0.0       0                0   \n",
       "9           1       2       0.0       0                0   \n",
       "\n",
       "   PreviousCancellations  PreviousBookingsNotCanceled  BookingChanges  \\\n",
       "2                      0                            0               0   \n",
       "4                      0                            0               0   \n",
       "5                      0                            0               0   \n",
       "8                      0                            0               0   \n",
       "9                      0                            0               0   \n",
       "\n",
       "   DaysInWaitingList    ADR  ...  DepositType_No Deposit       \\\n",
       "2                  0   75.0  ...                            1   \n",
       "4                  0   98.0  ...                            1   \n",
       "5                  0   98.0  ...                            1   \n",
       "8                  0   82.0  ...                            1   \n",
       "9                  0  105.5  ...                            1   \n",
       "\n",
       "   DepositType_Refundable       Agent_       NULL  Agent_Rare  \\\n",
       "2                            0                  1           0   \n",
       "4                            0                  0           0   \n",
       "5                            0                  0           0   \n",
       "8                            0                  0           0   \n",
       "9                            0                  0           1   \n",
       "\n",
       "   Agent_        240  Agent_          9  Company_       NULL  \\\n",
       "2                  0                  0                    1   \n",
       "4                  1                  0                    1   \n",
       "5                  1                  0                    1   \n",
       "8                  1                  0                    1   \n",
       "9                  0                  0                    1   \n",
       "\n",
       "   CustomerType_Transient  CustomerType_Contract  CustomerType_Transient-Party  \n",
       "2                       1                      0                             0  \n",
       "4                       1                      0                             0  \n",
       "5                       1                      0                             0  \n",
       "8                       1                      0                             0  \n",
       "9                       1                      0                             0  \n",
       "\n",
       "[5 rows x 58 columns]"
      ]
     },
     "execution_count": 9,
     "metadata": {},
     "output_type": "execute_result"
    }
   ],
   "source": [
    "olt = OutlierTrimmer(capping_method='gaussian')\n",
    "\n",
    "data = olt.fit_transform(data)\n",
    "data.head()"
   ]
  },
  {
   "cell_type": "code",
   "execution_count": 10,
   "id": "7741e2ca-3f72-4dcb-97f6-90d326c9d602",
   "metadata": {
    "execution": {
     "iopub.execute_input": "2024-03-29T22:15:52.082223Z",
     "iopub.status.busy": "2024-03-29T22:15:52.082223Z",
     "iopub.status.idle": "2024-03-29T22:15:52.088249Z",
     "shell.execute_reply": "2024-03-29T22:15:52.088168Z",
     "shell.execute_reply.started": "2024-03-29T22:15:52.082223Z"
    }
   },
   "outputs": [
    {
     "data": {
      "text/plain": [
       "63439"
      ]
     },
     "execution_count": 10,
     "metadata": {},
     "output_type": "execute_result"
    }
   ],
   "source": [
    "data.shape[0]"
   ]
  },
  {
   "cell_type": "code",
   "execution_count": 13,
   "id": "d5effabd-fd99-4fd7-8d17-38de38984a5d",
   "metadata": {
    "execution": {
     "iopub.execute_input": "2024-03-29T22:16:08.134922Z",
     "iopub.status.busy": "2024-03-29T22:16:08.134922Z",
     "iopub.status.idle": "2024-03-29T22:16:08.153073Z",
     "shell.execute_reply": "2024-03-29T22:16:08.153073Z",
     "shell.execute_reply.started": "2024-03-29T22:16:08.134922Z"
    }
   },
   "outputs": [
    {
     "data": {
      "text/plain": [
       "55951"
      ]
     },
     "execution_count": 13,
     "metadata": {},
     "output_type": "execute_result"
    }
   ],
   "source": [
    "initial_size[0] - data.shape[0]"
   ]
  },
  {
   "cell_type": "code",
   "execution_count": 16,
   "id": "a43c1c5d-389f-43cf-81ff-c0a9199ea09b",
   "metadata": {
    "execution": {
     "iopub.execute_input": "2024-03-29T22:16:31.150345Z",
     "iopub.status.busy": "2024-03-29T22:16:31.150345Z",
     "iopub.status.idle": "2024-03-29T22:16:31.165670Z",
     "shell.execute_reply": "2024-03-29T22:16:31.165353Z",
     "shell.execute_reply.started": "2024-03-29T22:16:31.150345Z"
    }
   },
   "outputs": [
    {
     "data": {
      "text/plain": [
       "0.47"
      ]
     },
     "execution_count": 16,
     "metadata": {},
     "output_type": "execute_result"
    }
   ],
   "source": [
    "round(1- (data.shape[0]/initial_size[0]), 2)"
   ]
  },
  {
   "cell_type": "code",
   "execution_count": null,
   "id": "53fe735d-0313-4961-97ee-3cd6a1c8bc53",
   "metadata": {},
   "outputs": [],
   "source": []
  }
 ],
 "metadata": {
  "kernelspec": {
   "display_name": "Python (dojo-env)",
   "language": "python",
   "name": "dojo-env"
  },
  "language_info": {
   "codemirror_mode": {
    "name": "ipython",
    "version": 3
   },
   "file_extension": ".py",
   "mimetype": "text/x-python",
   "name": "python",
   "nbconvert_exporter": "python",
   "pygments_lexer": "ipython3",
   "version": "3.10.14"
  },
  "widgets": {
   "application/vnd.jupyter.widget-state+json": {
    "state": {},
    "version_major": 2,
    "version_minor": 0
   }
  }
 },
 "nbformat": 4,
 "nbformat_minor": 5
}
