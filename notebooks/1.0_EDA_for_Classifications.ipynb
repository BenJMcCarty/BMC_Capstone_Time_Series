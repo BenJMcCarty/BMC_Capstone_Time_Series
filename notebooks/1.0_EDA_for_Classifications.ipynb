{
 "cells": [
  {
   "cell_type": "markdown",
   "metadata": {},
   "source": [
    "# **Hotel Cancel Culture** - **EDA Notebook**"
   ]
  },
  {
   "cell_type": "markdown",
   "metadata": {},
   "source": [
    "---\n",
    "\n",
    "**Author:** Ben McCarty\n",
    "\n",
    "**Extension of Capstone Project** - Expanding Hotel Reservation dataset analysis and modeling\n",
    "\n",
    "**Contact:** bmccarty505@gmail.com\n",
    "\n",
    "---"
   ]
  },
  {
   "cell_type": "markdown",
   "metadata": {},
   "source": [
    "## Revisiting the Reservations\n",
    "\n",
    "---\n",
    "\n",
    "Originally, I used this notebook to perform EDA with the intention of using the dataset only for classifying whether a reservation would cancel.\n",
    "\n",
    "Now, as part of my efforts to revisit and revamp this overall repository and workflow, I am adapting it for broader uses, such as regression modeling and time series forecasting.\n",
    "\n",
    "The end goal is to have a comprehensive overview of the data and to be flexible enough to handle different workflows.\n",
    "\n",
    "**Warning: Work-in-Progress**\n",
    "\n",
    "As this is a revamp of the original workbook, some of the code and comments may be outdated. I intend to update and clarify all steps in time, but there may be some parts that are out of place while I clean things up.\n",
    "\n",
    "---"
   ]
  },
  {
   "cell_type": "markdown",
   "metadata": {},
   "source": [
    "**Of Demand and Cancellations**\n",
    "\n",
    "*This was the initial intro to the notebook with a focus on classification modeling.*\n",
    "\n",
    ">**Every aspect of hospitality depends on accurately anticipating business demand**: how many rooms to clean; how many rooms are available to sell; what would be the best rate; and how to bring it all together to make every guest satisfied. \n",
    ">\n",
    "> Proper forecasting is critical to every department and staff member, and to generate our forecasts, **hotel managers need to know how many guests will cancel prior to arrival**. Using data from two European hotels, I developed a model to predict whether a given reservation would cancel based on 30 different reservation details.\n",
    "\n",
    "**In order to develop and train my models, I need to prepare the data in advance.**\n",
    "\n",
    ">In this notebook, I explore the original dataset and its features; condense several features into smaller subsets; engineer new features; and remove unwanted features from the data.\n",
    ">\n",
    "**Once the data is prepared, I will reload the data in a new notebook to create and train my models to determine my predictions of who will stay and who will cancel.**"
   ]
  },
  {
   "cell_type": "markdown",
   "metadata": {},
   "source": [
    "# **Import Packages**"
   ]
  },
  {
   "cell_type": "code",
   "execution_count": 1,
   "metadata": {
    "ExecuteTime": {
     "end_time": "2022-11-05T17:32:52.290987Z",
     "start_time": "2022-11-05T17:32:52.154639Z"
    },
    "execution": {
     "iopub.execute_input": "2024-03-29T18:29:13.839429Z",
     "iopub.status.busy": "2024-03-29T18:29:13.839429Z",
     "iopub.status.idle": "2024-03-29T18:29:13.901748Z",
     "shell.execute_reply": "2024-03-29T18:29:13.901221Z",
     "shell.execute_reply.started": "2024-03-29T18:29:13.839429Z"
    }
   },
   "outputs": [],
   "source": [
    "## Used to re-import custom functions during development\n",
    "%load_ext autoreload\n",
    "%autoreload 2"
   ]
  },
  {
   "cell_type": "code",
   "execution_count": 38,
   "metadata": {
    "execution": {
     "iopub.execute_input": "2024-03-29T18:49:59.931091Z",
     "iopub.status.busy": "2024-03-29T18:49:59.930092Z",
     "iopub.status.idle": "2024-03-29T18:50:00.114661Z",
     "shell.execute_reply": "2024-03-29T18:50:00.114661Z",
     "shell.execute_reply.started": "2024-03-29T18:49:59.931091Z"
    }
   },
   "outputs": [],
   "source": [
    "## Enabling access to custom functions in separate directory\n",
    "\n",
    "# Import necessary modules\n",
    "import os\n",
    "import sys\n",
    "\n",
    "# Construct the absolute path to the 'src' directory\n",
    "src_path = os.path.abspath(os.path.join('..', 'src'))\n",
    "\n",
    "# Append the path to 'sys.path'\n",
    "if src_path not in sys.path:\n",
    "    sys.path.append(src_path)\n",
    "\n",
    "import db_utils, eda\n",
    "\n",
    "## Data Handling\n",
    "import numpy as np\n",
    "import pandas as pd\n",
    "\n",
    "## Visualizations\n",
    "import matplotlib.pyplot as plt\n",
    "from missingno import matrix\n",
    "import plotly.express as px\n",
    "import seaborn as sns"
   ]
  },
  {
   "cell_type": "code",
   "execution_count": 3,
   "metadata": {
    "ExecuteTime": {
     "end_time": "2022-11-05T17:32:52.153128Z",
     "start_time": "2022-11-05T17:32:52.139036Z"
    },
    "execution": {
     "iopub.execute_input": "2024-03-29T18:29:15.479812Z",
     "iopub.status.busy": "2024-03-29T18:29:15.479812Z",
     "iopub.status.idle": "2024-03-29T18:29:15.597845Z",
     "shell.execute_reply": "2024-03-29T18:29:15.597845Z",
     "shell.execute_reply.started": "2024-03-29T18:29:15.479812Z"
    }
   },
   "outputs": [],
   "source": [
    "## Settings\n",
    "pd.set_option('display.max_columns', None)\n",
    "pd.set_option('display.float_format', lambda x: f'{x:,.2f}')\n",
    "pd.set_option('display.max_rows', 50)\n",
    "%matplotlib inline"
   ]
  },
  {
   "cell_type": "markdown",
   "metadata": {},
   "source": [
    "# Read Source Data (with UUIDs)"
   ]
  },
  {
   "cell_type": "code",
   "execution_count": 4,
   "metadata": {
    "execution": {
     "iopub.execute_input": "2024-03-29T18:29:15.597845Z",
     "iopub.status.busy": "2024-03-29T18:29:15.597845Z",
     "iopub.status.idle": "2024-03-29T18:29:15.692445Z",
     "shell.execute_reply": "2024-03-29T18:29:15.691715Z",
     "shell.execute_reply.started": "2024-03-29T18:29:15.597845Z"
    }
   },
   "outputs": [],
   "source": [
    "# # Path to the DuckDB database file\n",
    "# db_path = '../data/hotel_reservations.duckdb'\n",
    "\n",
    "# ## Select subset of data for review\n",
    "# q = 'SELECT * FROM res_data LIMIT 5'\n",
    "\n",
    "# with db_utils.duckdb_connection(db_path) as conn:\n",
    "#     data = conn.execute(q).df()\n",
    "    \n",
    "# data.head()"
   ]
  },
  {
   "cell_type": "code",
   "execution_count": 5,
   "metadata": {
    "execution": {
     "iopub.execute_input": "2024-03-29T18:29:15.694018Z",
     "iopub.status.busy": "2024-03-29T18:29:15.693622Z",
     "iopub.status.idle": "2024-03-29T18:29:15.922779Z",
     "shell.execute_reply": "2024-03-29T18:29:15.921834Z",
     "shell.execute_reply.started": "2024-03-29T18:29:15.694018Z"
    }
   },
   "outputs": [
    {
     "data": {
      "text/html": [
       "<div>\n",
       "<style scoped>\n",
       "    .dataframe tbody tr th:only-of-type {\n",
       "        vertical-align: middle;\n",
       "    }\n",
       "\n",
       "    .dataframe tbody tr th {\n",
       "        vertical-align: top;\n",
       "    }\n",
       "\n",
       "    .dataframe thead th {\n",
       "        text-align: right;\n",
       "    }\n",
       "</style>\n",
       "<table border=\"1\" class=\"dataframe\">\n",
       "  <thead>\n",
       "    <tr style=\"text-align: right;\">\n",
       "      <th></th>\n",
       "      <th>IsCanceled</th>\n",
       "      <th>LeadTime</th>\n",
       "      <th>ArrivalDateYear</th>\n",
       "      <th>ArrivalDateMonth</th>\n",
       "      <th>ArrivalDateWeekNumber</th>\n",
       "      <th>ArrivalDateDayOfMonth</th>\n",
       "      <th>StaysInWeekendNights</th>\n",
       "      <th>StaysInWeekNights</th>\n",
       "      <th>Adults</th>\n",
       "      <th>Children</th>\n",
       "      <th>Babies</th>\n",
       "      <th>Meal</th>\n",
       "      <th>Country</th>\n",
       "      <th>MarketSegment</th>\n",
       "      <th>DistributionChannel</th>\n",
       "      <th>IsRepeatedGuest</th>\n",
       "      <th>PreviousCancellations</th>\n",
       "      <th>PreviousBookingsNotCanceled</th>\n",
       "      <th>ReservedRoomType</th>\n",
       "      <th>AssignedRoomType</th>\n",
       "      <th>BookingChanges</th>\n",
       "      <th>DepositType</th>\n",
       "      <th>Agent</th>\n",
       "      <th>Company</th>\n",
       "      <th>DaysInWaitingList</th>\n",
       "      <th>CustomerType</th>\n",
       "      <th>ADR</th>\n",
       "      <th>RequiredCarParkingSpaces</th>\n",
       "      <th>TotalOfSpecialRequests</th>\n",
       "      <th>ReservationStatus</th>\n",
       "      <th>ReservationStatusDate</th>\n",
       "      <th>HotelNumber</th>\n",
       "      <th>UUID</th>\n",
       "    </tr>\n",
       "  </thead>\n",
       "  <tbody>\n",
       "    <tr>\n",
       "      <th>0</th>\n",
       "      <td>0</td>\n",
       "      <td>342</td>\n",
       "      <td>2015</td>\n",
       "      <td>July</td>\n",
       "      <td>27</td>\n",
       "      <td>1</td>\n",
       "      <td>0</td>\n",
       "      <td>0</td>\n",
       "      <td>2</td>\n",
       "      <td>0.00</td>\n",
       "      <td>0</td>\n",
       "      <td>BB</td>\n",
       "      <td>PRT</td>\n",
       "      <td>Direct</td>\n",
       "      <td>Direct</td>\n",
       "      <td>0</td>\n",
       "      <td>0</td>\n",
       "      <td>0</td>\n",
       "      <td>C</td>\n",
       "      <td>C</td>\n",
       "      <td>3</td>\n",
       "      <td>No Deposit</td>\n",
       "      <td>NULL</td>\n",
       "      <td>NULL</td>\n",
       "      <td>0</td>\n",
       "      <td>Transient</td>\n",
       "      <td>0.00</td>\n",
       "      <td>0</td>\n",
       "      <td>0</td>\n",
       "      <td>Check-Out</td>\n",
       "      <td>2015-07-01</td>\n",
       "      <td>1</td>\n",
       "      <td>8ca998d6-fae7-4ee4-a706-3765721aaff5</td>\n",
       "    </tr>\n",
       "    <tr>\n",
       "      <th>1</th>\n",
       "      <td>0</td>\n",
       "      <td>737</td>\n",
       "      <td>2015</td>\n",
       "      <td>July</td>\n",
       "      <td>27</td>\n",
       "      <td>1</td>\n",
       "      <td>0</td>\n",
       "      <td>0</td>\n",
       "      <td>2</td>\n",
       "      <td>0.00</td>\n",
       "      <td>0</td>\n",
       "      <td>BB</td>\n",
       "      <td>PRT</td>\n",
       "      <td>Direct</td>\n",
       "      <td>Direct</td>\n",
       "      <td>0</td>\n",
       "      <td>0</td>\n",
       "      <td>0</td>\n",
       "      <td>C</td>\n",
       "      <td>C</td>\n",
       "      <td>4</td>\n",
       "      <td>No Deposit</td>\n",
       "      <td>NULL</td>\n",
       "      <td>NULL</td>\n",
       "      <td>0</td>\n",
       "      <td>Transient</td>\n",
       "      <td>0.00</td>\n",
       "      <td>0</td>\n",
       "      <td>0</td>\n",
       "      <td>Check-Out</td>\n",
       "      <td>2015-07-01</td>\n",
       "      <td>1</td>\n",
       "      <td>e535835e-b19a-4e32-9e9f-6d70a0182d4b</td>\n",
       "    </tr>\n",
       "    <tr>\n",
       "      <th>2</th>\n",
       "      <td>0</td>\n",
       "      <td>7</td>\n",
       "      <td>2015</td>\n",
       "      <td>July</td>\n",
       "      <td>27</td>\n",
       "      <td>1</td>\n",
       "      <td>0</td>\n",
       "      <td>1</td>\n",
       "      <td>1</td>\n",
       "      <td>0.00</td>\n",
       "      <td>0</td>\n",
       "      <td>BB</td>\n",
       "      <td>GBR</td>\n",
       "      <td>Direct</td>\n",
       "      <td>Direct</td>\n",
       "      <td>0</td>\n",
       "      <td>0</td>\n",
       "      <td>0</td>\n",
       "      <td>A</td>\n",
       "      <td>C</td>\n",
       "      <td>0</td>\n",
       "      <td>No Deposit</td>\n",
       "      <td>NULL</td>\n",
       "      <td>NULL</td>\n",
       "      <td>0</td>\n",
       "      <td>Transient</td>\n",
       "      <td>75.00</td>\n",
       "      <td>0</td>\n",
       "      <td>0</td>\n",
       "      <td>Check-Out</td>\n",
       "      <td>2015-07-02</td>\n",
       "      <td>1</td>\n",
       "      <td>9429383d-0efd-4c37-bb9b-0aaa63d5aade</td>\n",
       "    </tr>\n",
       "    <tr>\n",
       "      <th>3</th>\n",
       "      <td>0</td>\n",
       "      <td>13</td>\n",
       "      <td>2015</td>\n",
       "      <td>July</td>\n",
       "      <td>27</td>\n",
       "      <td>1</td>\n",
       "      <td>0</td>\n",
       "      <td>1</td>\n",
       "      <td>1</td>\n",
       "      <td>0.00</td>\n",
       "      <td>0</td>\n",
       "      <td>BB</td>\n",
       "      <td>GBR</td>\n",
       "      <td>Corporate</td>\n",
       "      <td>Corporate</td>\n",
       "      <td>0</td>\n",
       "      <td>0</td>\n",
       "      <td>0</td>\n",
       "      <td>A</td>\n",
       "      <td>A</td>\n",
       "      <td>0</td>\n",
       "      <td>No Deposit</td>\n",
       "      <td>304</td>\n",
       "      <td>NULL</td>\n",
       "      <td>0</td>\n",
       "      <td>Transient</td>\n",
       "      <td>75.00</td>\n",
       "      <td>0</td>\n",
       "      <td>0</td>\n",
       "      <td>Check-Out</td>\n",
       "      <td>2015-07-02</td>\n",
       "      <td>1</td>\n",
       "      <td>dd6424ee-6838-4007-ad85-de9ff96be14b</td>\n",
       "    </tr>\n",
       "    <tr>\n",
       "      <th>4</th>\n",
       "      <td>0</td>\n",
       "      <td>14</td>\n",
       "      <td>2015</td>\n",
       "      <td>July</td>\n",
       "      <td>27</td>\n",
       "      <td>1</td>\n",
       "      <td>0</td>\n",
       "      <td>2</td>\n",
       "      <td>2</td>\n",
       "      <td>0.00</td>\n",
       "      <td>0</td>\n",
       "      <td>BB</td>\n",
       "      <td>GBR</td>\n",
       "      <td>Online TA</td>\n",
       "      <td>TA/TO</td>\n",
       "      <td>0</td>\n",
       "      <td>0</td>\n",
       "      <td>0</td>\n",
       "      <td>A</td>\n",
       "      <td>A</td>\n",
       "      <td>0</td>\n",
       "      <td>No Deposit</td>\n",
       "      <td>240</td>\n",
       "      <td>NULL</td>\n",
       "      <td>0</td>\n",
       "      <td>Transient</td>\n",
       "      <td>98.00</td>\n",
       "      <td>0</td>\n",
       "      <td>1</td>\n",
       "      <td>Check-Out</td>\n",
       "      <td>2015-07-03</td>\n",
       "      <td>1</td>\n",
       "      <td>50ff56ee-6a72-40dc-8ff1-4246b831c779</td>\n",
       "    </tr>\n",
       "  </tbody>\n",
       "</table>\n",
       "</div>"
      ],
      "text/plain": [
       "   IsCanceled  LeadTime  ArrivalDateYear ArrivalDateMonth  \\\n",
       "0           0       342             2015             July   \n",
       "1           0       737             2015             July   \n",
       "2           0         7             2015             July   \n",
       "3           0        13             2015             July   \n",
       "4           0        14             2015             July   \n",
       "\n",
       "   ArrivalDateWeekNumber  ArrivalDateDayOfMonth  StaysInWeekendNights  \\\n",
       "0                     27                      1                     0   \n",
       "1                     27                      1                     0   \n",
       "2                     27                      1                     0   \n",
       "3                     27                      1                     0   \n",
       "4                     27                      1                     0   \n",
       "\n",
       "   StaysInWeekNights  Adults  Children  Babies       Meal Country  \\\n",
       "0                  0       2      0.00       0  BB            PRT   \n",
       "1                  0       2      0.00       0  BB            PRT   \n",
       "2                  1       1      0.00       0  BB            GBR   \n",
       "3                  1       1      0.00       0  BB            GBR   \n",
       "4                  2       2      0.00       0  BB            GBR   \n",
       "\n",
       "  MarketSegment DistributionChannel  IsRepeatedGuest  PreviousCancellations  \\\n",
       "0        Direct              Direct                0                      0   \n",
       "1        Direct              Direct                0                      0   \n",
       "2        Direct              Direct                0                      0   \n",
       "3     Corporate           Corporate                0                      0   \n",
       "4     Online TA               TA/TO                0                      0   \n",
       "\n",
       "   PreviousBookingsNotCanceled  ReservedRoomType  AssignedRoomType  \\\n",
       "0                            0  C                 C                  \n",
       "1                            0  C                 C                  \n",
       "2                            0  A                 C                  \n",
       "3                            0  A                 A                  \n",
       "4                            0  A                 A                  \n",
       "\n",
       "   BookingChanges      DepositType        Agent      Company  \\\n",
       "0               3  No Deposit              NULL         NULL   \n",
       "1               4  No Deposit              NULL         NULL   \n",
       "2               0  No Deposit              NULL         NULL   \n",
       "3               0  No Deposit               304         NULL   \n",
       "4               0  No Deposit               240         NULL   \n",
       "\n",
       "   DaysInWaitingList CustomerType   ADR  RequiredCarParkingSpaces  \\\n",
       "0                  0    Transient  0.00                         0   \n",
       "1                  0    Transient  0.00                         0   \n",
       "2                  0    Transient 75.00                         0   \n",
       "3                  0    Transient 75.00                         0   \n",
       "4                  0    Transient 98.00                         0   \n",
       "\n",
       "   TotalOfSpecialRequests ReservationStatus ReservationStatusDate  \\\n",
       "0                       0         Check-Out            2015-07-01   \n",
       "1                       0         Check-Out            2015-07-01   \n",
       "2                       0         Check-Out            2015-07-02   \n",
       "3                       0         Check-Out            2015-07-02   \n",
       "4                       1         Check-Out            2015-07-03   \n",
       "\n",
       "   HotelNumber                                  UUID  \n",
       "0            1  8ca998d6-fae7-4ee4-a706-3765721aaff5  \n",
       "1            1  e535835e-b19a-4e32-9e9f-6d70a0182d4b  \n",
       "2            1  9429383d-0efd-4c37-bb9b-0aaa63d5aade  \n",
       "3            1  dd6424ee-6838-4007-ad85-de9ff96be14b  \n",
       "4            1  50ff56ee-6a72-40dc-8ff1-4246b831c779  "
      ]
     },
     "execution_count": 5,
     "metadata": {},
     "output_type": "execute_result"
    }
   ],
   "source": [
    "backup_data_path = '../data/data_condensed_with_uuid.parquet'\n",
    "\n",
    "data = pd.read_parquet(backup_data_path)\n",
    "\n",
    "data.head()"
   ]
  },
  {
   "cell_type": "markdown",
   "metadata": {},
   "source": [
    "## Add Pre-Engineered Date Features"
   ]
  },
  {
   "cell_type": "code",
   "execution_count": 6,
   "metadata": {
    "execution": {
     "iopub.execute_input": "2024-03-29T18:29:15.925775Z",
     "iopub.status.busy": "2024-03-29T18:29:15.924782Z",
     "iopub.status.idle": "2024-03-29T18:29:16.096876Z",
     "shell.execute_reply": "2024-03-29T18:29:16.095903Z",
     "shell.execute_reply.started": "2024-03-29T18:29:15.925775Z"
    }
   },
   "outputs": [
    {
     "data": {
      "text/html": [
       "<div>\n",
       "<style scoped>\n",
       "    .dataframe tbody tr th:only-of-type {\n",
       "        vertical-align: middle;\n",
       "    }\n",
       "\n",
       "    .dataframe tbody tr th {\n",
       "        vertical-align: top;\n",
       "    }\n",
       "\n",
       "    .dataframe thead th {\n",
       "        text-align: right;\n",
       "    }\n",
       "</style>\n",
       "<table border=\"1\" class=\"dataframe\">\n",
       "  <thead>\n",
       "    <tr style=\"text-align: right;\">\n",
       "      <th></th>\n",
       "      <th>UUID</th>\n",
       "      <th>ReservationStatusDate</th>\n",
       "      <th>ArrivalDate</th>\n",
       "      <th>DepartureDate</th>\n",
       "      <th>BookingDate</th>\n",
       "      <th>ArrivalDate_DaysBeforeHoliday</th>\n",
       "      <th>ArrivalDate_DaysAfterHoliday</th>\n",
       "      <th>DepartureDate_DaysBeforeHoliday</th>\n",
       "      <th>DepartureDate_DaysAfterHoliday</th>\n",
       "      <th>BookingDate_DaysBeforeHoliday</th>\n",
       "      <th>BookingDate_DaysAfterHoliday</th>\n",
       "      <th>ArrivalDate_WeekNumber</th>\n",
       "      <th>ArrivalDate_DayOfWeek</th>\n",
       "      <th>DepartureDate_WeekNumber</th>\n",
       "      <th>DepartureDate_DayOfWeek</th>\n",
       "      <th>BookingDate_WeekNumber</th>\n",
       "      <th>BookingDate_DayOfWeek</th>\n",
       "    </tr>\n",
       "  </thead>\n",
       "  <tbody>\n",
       "    <tr>\n",
       "      <th>0</th>\n",
       "      <td>8ca998d6-fae7-4ee4-a706-3765721aaff5</td>\n",
       "      <td>2015-07-01</td>\n",
       "      <td>2015-07-01</td>\n",
       "      <td>2015-07-01</td>\n",
       "      <td>2014-07-24</td>\n",
       "      <td>45</td>\n",
       "      <td>21</td>\n",
       "      <td>45</td>\n",
       "      <td>21</td>\n",
       "      <td>22</td>\n",
       "      <td>44</td>\n",
       "      <td>27</td>\n",
       "      <td>3</td>\n",
       "      <td>27</td>\n",
       "      <td>3</td>\n",
       "      <td>30</td>\n",
       "      <td>4</td>\n",
       "    </tr>\n",
       "    <tr>\n",
       "      <th>1</th>\n",
       "      <td>e535835e-b19a-4e32-9e9f-6d70a0182d4b</td>\n",
       "      <td>2015-07-01</td>\n",
       "      <td>2015-07-01</td>\n",
       "      <td>2015-07-01</td>\n",
       "      <td>2013-06-24</td>\n",
       "      <td>45</td>\n",
       "      <td>21</td>\n",
       "      <td>45</td>\n",
       "      <td>21</td>\n",
       "      <td>52</td>\n",
       "      <td>14</td>\n",
       "      <td>27</td>\n",
       "      <td>3</td>\n",
       "      <td>27</td>\n",
       "      <td>3</td>\n",
       "      <td>26</td>\n",
       "      <td>1</td>\n",
       "    </tr>\n",
       "    <tr>\n",
       "      <th>2</th>\n",
       "      <td>9429383d-0efd-4c37-bb9b-0aaa63d5aade</td>\n",
       "      <td>2015-07-02</td>\n",
       "      <td>2015-07-01</td>\n",
       "      <td>2015-07-02</td>\n",
       "      <td>2015-06-24</td>\n",
       "      <td>45</td>\n",
       "      <td>21</td>\n",
       "      <td>44</td>\n",
       "      <td>22</td>\n",
       "      <td>52</td>\n",
       "      <td>14</td>\n",
       "      <td>27</td>\n",
       "      <td>3</td>\n",
       "      <td>27</td>\n",
       "      <td>4</td>\n",
       "      <td>26</td>\n",
       "      <td>3</td>\n",
       "    </tr>\n",
       "    <tr>\n",
       "      <th>3</th>\n",
       "      <td>dd6424ee-6838-4007-ad85-de9ff96be14b</td>\n",
       "      <td>2015-07-02</td>\n",
       "      <td>2015-07-01</td>\n",
       "      <td>2015-07-02</td>\n",
       "      <td>2015-06-18</td>\n",
       "      <td>45</td>\n",
       "      <td>21</td>\n",
       "      <td>44</td>\n",
       "      <td>22</td>\n",
       "      <td>58</td>\n",
       "      <td>8</td>\n",
       "      <td>27</td>\n",
       "      <td>3</td>\n",
       "      <td>27</td>\n",
       "      <td>4</td>\n",
       "      <td>25</td>\n",
       "      <td>4</td>\n",
       "    </tr>\n",
       "    <tr>\n",
       "      <th>4</th>\n",
       "      <td>50ff56ee-6a72-40dc-8ff1-4246b831c779</td>\n",
       "      <td>2015-07-03</td>\n",
       "      <td>2015-07-01</td>\n",
       "      <td>2015-07-03</td>\n",
       "      <td>2015-06-17</td>\n",
       "      <td>45</td>\n",
       "      <td>21</td>\n",
       "      <td>43</td>\n",
       "      <td>23</td>\n",
       "      <td>59</td>\n",
       "      <td>7</td>\n",
       "      <td>27</td>\n",
       "      <td>3</td>\n",
       "      <td>27</td>\n",
       "      <td>5</td>\n",
       "      <td>25</td>\n",
       "      <td>3</td>\n",
       "    </tr>\n",
       "  </tbody>\n",
       "</table>\n",
       "</div>"
      ],
      "text/plain": [
       "                                   UUID ReservationStatusDate ArrivalDate  \\\n",
       "0  8ca998d6-fae7-4ee4-a706-3765721aaff5            2015-07-01  2015-07-01   \n",
       "1  e535835e-b19a-4e32-9e9f-6d70a0182d4b            2015-07-01  2015-07-01   \n",
       "2  9429383d-0efd-4c37-bb9b-0aaa63d5aade            2015-07-02  2015-07-01   \n",
       "3  dd6424ee-6838-4007-ad85-de9ff96be14b            2015-07-02  2015-07-01   \n",
       "4  50ff56ee-6a72-40dc-8ff1-4246b831c779            2015-07-03  2015-07-01   \n",
       "\n",
       "  DepartureDate BookingDate  ArrivalDate_DaysBeforeHoliday  \\\n",
       "0    2015-07-01  2014-07-24                             45   \n",
       "1    2015-07-01  2013-06-24                             45   \n",
       "2    2015-07-02  2015-06-24                             45   \n",
       "3    2015-07-02  2015-06-18                             45   \n",
       "4    2015-07-03  2015-06-17                             45   \n",
       "\n",
       "   ArrivalDate_DaysAfterHoliday  DepartureDate_DaysBeforeHoliday  \\\n",
       "0                            21                               45   \n",
       "1                            21                               45   \n",
       "2                            21                               44   \n",
       "3                            21                               44   \n",
       "4                            21                               43   \n",
       "\n",
       "   DepartureDate_DaysAfterHoliday  BookingDate_DaysBeforeHoliday  \\\n",
       "0                              21                             22   \n",
       "1                              21                             52   \n",
       "2                              22                             52   \n",
       "3                              22                             58   \n",
       "4                              23                             59   \n",
       "\n",
       "   BookingDate_DaysAfterHoliday  ArrivalDate_WeekNumber  \\\n",
       "0                            44                      27   \n",
       "1                            14                      27   \n",
       "2                            14                      27   \n",
       "3                             8                      27   \n",
       "4                             7                      27   \n",
       "\n",
       "   ArrivalDate_DayOfWeek  DepartureDate_WeekNumber  DepartureDate_DayOfWeek  \\\n",
       "0                      3                        27                        3   \n",
       "1                      3                        27                        3   \n",
       "2                      3                        27                        4   \n",
       "3                      3                        27                        4   \n",
       "4                      3                        27                        5   \n",
       "\n",
       "   BookingDate_WeekNumber  BookingDate_DayOfWeek  \n",
       "0                      30                      4  \n",
       "1                      26                      1  \n",
       "2                      26                      3  \n",
       "3                      25                      4  \n",
       "4                      25                      3  "
      ]
     },
     "execution_count": 6,
     "metadata": {},
     "output_type": "execute_result"
    }
   ],
   "source": [
    "filepath = '../data/engineered_data_dates.parquet'\n",
    "\n",
    "df_dates = pd.read_parquet(filepath)\n",
    "df_dates.head()"
   ]
  },
  {
   "cell_type": "code",
   "execution_count": 7,
   "metadata": {
    "execution": {
     "iopub.execute_input": "2024-03-29T18:29:16.097815Z",
     "iopub.status.busy": "2024-03-29T18:29:16.097815Z",
     "iopub.status.idle": "2024-03-29T18:29:16.195404Z",
     "shell.execute_reply": "2024-03-29T18:29:16.195404Z",
     "shell.execute_reply.started": "2024-03-29T18:29:16.097815Z"
    }
   },
   "outputs": [
    {
     "name": "stdout",
     "output_type": "stream",
     "text": [
      "<class 'pandas.core.frame.DataFrame'>\n",
      "RangeIndex: 119390 entries, 0 to 119389\n",
      "Data columns (total 17 columns):\n",
      " #   Column                           Non-Null Count   Dtype         \n",
      "---  ------                           --------------   -----         \n",
      " 0   UUID                             119390 non-null  object        \n",
      " 1   ReservationStatusDate            119390 non-null  datetime64[ns]\n",
      " 2   ArrivalDate                      119390 non-null  datetime64[ns]\n",
      " 3   DepartureDate                    119390 non-null  datetime64[ns]\n",
      " 4   BookingDate                      119390 non-null  datetime64[ns]\n",
      " 5   ArrivalDate_DaysBeforeHoliday    119390 non-null  int64         \n",
      " 6   ArrivalDate_DaysAfterHoliday     119390 non-null  int64         \n",
      " 7   DepartureDate_DaysBeforeHoliday  119390 non-null  int64         \n",
      " 8   DepartureDate_DaysAfterHoliday   119390 non-null  int64         \n",
      " 9   BookingDate_DaysBeforeHoliday    119390 non-null  int64         \n",
      " 10  BookingDate_DaysAfterHoliday     119390 non-null  int64         \n",
      " 11  ArrivalDate_WeekNumber           119390 non-null  UInt32        \n",
      " 12  ArrivalDate_DayOfWeek            119390 non-null  UInt32        \n",
      " 13  DepartureDate_WeekNumber         119390 non-null  UInt32        \n",
      " 14  DepartureDate_DayOfWeek          119390 non-null  UInt32        \n",
      " 15  BookingDate_WeekNumber           119390 non-null  UInt32        \n",
      " 16  BookingDate_DayOfWeek            119390 non-null  UInt32        \n",
      "dtypes: UInt32(6), datetime64[ns](4), int64(6), object(1)\n",
      "memory usage: 13.4+ MB\n"
     ]
    }
   ],
   "source": [
    "df_dates.info()"
   ]
  },
  {
   "cell_type": "markdown",
   "metadata": {},
   "source": [
    "## Condense to Single DataFrame"
   ]
  },
  {
   "cell_type": "code",
   "execution_count": 8,
   "metadata": {
    "execution": {
     "iopub.execute_input": "2024-03-29T18:29:16.197404Z",
     "iopub.status.busy": "2024-03-29T18:29:16.196404Z",
     "iopub.status.idle": "2024-03-29T18:29:16.362040Z",
     "shell.execute_reply": "2024-03-29T18:29:16.362040Z",
     "shell.execute_reply.started": "2024-03-29T18:29:16.196404Z"
    },
    "scrolled": true
   },
   "outputs": [
    {
     "data": {
      "text/html": [
       "<div>\n",
       "<style scoped>\n",
       "    .dataframe tbody tr th:only-of-type {\n",
       "        vertical-align: middle;\n",
       "    }\n",
       "\n",
       "    .dataframe tbody tr th {\n",
       "        vertical-align: top;\n",
       "    }\n",
       "\n",
       "    .dataframe thead th {\n",
       "        text-align: right;\n",
       "    }\n",
       "</style>\n",
       "<table border=\"1\" class=\"dataframe\">\n",
       "  <thead>\n",
       "    <tr style=\"text-align: right;\">\n",
       "      <th></th>\n",
       "      <th>IsCanceled</th>\n",
       "      <th>LeadTime</th>\n",
       "      <th>ArrivalDateYear</th>\n",
       "      <th>ArrivalDateMonth</th>\n",
       "      <th>ArrivalDateWeekNumber</th>\n",
       "      <th>ArrivalDateDayOfMonth</th>\n",
       "      <th>StaysInWeekendNights</th>\n",
       "      <th>StaysInWeekNights</th>\n",
       "      <th>Adults</th>\n",
       "      <th>Children</th>\n",
       "      <th>Babies</th>\n",
       "      <th>Meal</th>\n",
       "      <th>Country</th>\n",
       "      <th>MarketSegment</th>\n",
       "      <th>DistributionChannel</th>\n",
       "      <th>IsRepeatedGuest</th>\n",
       "      <th>PreviousCancellations</th>\n",
       "      <th>PreviousBookingsNotCanceled</th>\n",
       "      <th>ReservedRoomType</th>\n",
       "      <th>AssignedRoomType</th>\n",
       "      <th>BookingChanges</th>\n",
       "      <th>DepositType</th>\n",
       "      <th>Agent</th>\n",
       "      <th>Company</th>\n",
       "      <th>DaysInWaitingList</th>\n",
       "      <th>CustomerType</th>\n",
       "      <th>ADR</th>\n",
       "      <th>RequiredCarParkingSpaces</th>\n",
       "      <th>TotalOfSpecialRequests</th>\n",
       "      <th>ReservationStatus</th>\n",
       "      <th>ReservationStatusDate_x</th>\n",
       "      <th>HotelNumber</th>\n",
       "      <th>UUID</th>\n",
       "      <th>ReservationStatusDate_y</th>\n",
       "      <th>ArrivalDate</th>\n",
       "      <th>DepartureDate</th>\n",
       "      <th>BookingDate</th>\n",
       "      <th>ArrivalDate_DaysBeforeHoliday</th>\n",
       "      <th>ArrivalDate_DaysAfterHoliday</th>\n",
       "      <th>DepartureDate_DaysBeforeHoliday</th>\n",
       "      <th>DepartureDate_DaysAfterHoliday</th>\n",
       "      <th>BookingDate_DaysBeforeHoliday</th>\n",
       "      <th>BookingDate_DaysAfterHoliday</th>\n",
       "      <th>ArrivalDate_WeekNumber</th>\n",
       "      <th>ArrivalDate_DayOfWeek</th>\n",
       "      <th>DepartureDate_WeekNumber</th>\n",
       "      <th>DepartureDate_DayOfWeek</th>\n",
       "      <th>BookingDate_WeekNumber</th>\n",
       "      <th>BookingDate_DayOfWeek</th>\n",
       "    </tr>\n",
       "  </thead>\n",
       "  <tbody>\n",
       "    <tr>\n",
       "      <th>0</th>\n",
       "      <td>0</td>\n",
       "      <td>342</td>\n",
       "      <td>2015</td>\n",
       "      <td>July</td>\n",
       "      <td>27</td>\n",
       "      <td>1</td>\n",
       "      <td>0</td>\n",
       "      <td>0</td>\n",
       "      <td>2</td>\n",
       "      <td>0.00</td>\n",
       "      <td>0</td>\n",
       "      <td>BB</td>\n",
       "      <td>PRT</td>\n",
       "      <td>Direct</td>\n",
       "      <td>Direct</td>\n",
       "      <td>0</td>\n",
       "      <td>0</td>\n",
       "      <td>0</td>\n",
       "      <td>C</td>\n",
       "      <td>C</td>\n",
       "      <td>3</td>\n",
       "      <td>No Deposit</td>\n",
       "      <td>NULL</td>\n",
       "      <td>NULL</td>\n",
       "      <td>0</td>\n",
       "      <td>Transient</td>\n",
       "      <td>0.00</td>\n",
       "      <td>0</td>\n",
       "      <td>0</td>\n",
       "      <td>Check-Out</td>\n",
       "      <td>2015-07-01</td>\n",
       "      <td>1</td>\n",
       "      <td>8ca998d6-fae7-4ee4-a706-3765721aaff5</td>\n",
       "      <td>2015-07-01</td>\n",
       "      <td>2015-07-01</td>\n",
       "      <td>2015-07-01</td>\n",
       "      <td>2014-07-24</td>\n",
       "      <td>45</td>\n",
       "      <td>21</td>\n",
       "      <td>45</td>\n",
       "      <td>21</td>\n",
       "      <td>22</td>\n",
       "      <td>44</td>\n",
       "      <td>27</td>\n",
       "      <td>3</td>\n",
       "      <td>27</td>\n",
       "      <td>3</td>\n",
       "      <td>30</td>\n",
       "      <td>4</td>\n",
       "    </tr>\n",
       "    <tr>\n",
       "      <th>1</th>\n",
       "      <td>0</td>\n",
       "      <td>737</td>\n",
       "      <td>2015</td>\n",
       "      <td>July</td>\n",
       "      <td>27</td>\n",
       "      <td>1</td>\n",
       "      <td>0</td>\n",
       "      <td>0</td>\n",
       "      <td>2</td>\n",
       "      <td>0.00</td>\n",
       "      <td>0</td>\n",
       "      <td>BB</td>\n",
       "      <td>PRT</td>\n",
       "      <td>Direct</td>\n",
       "      <td>Direct</td>\n",
       "      <td>0</td>\n",
       "      <td>0</td>\n",
       "      <td>0</td>\n",
       "      <td>C</td>\n",
       "      <td>C</td>\n",
       "      <td>4</td>\n",
       "      <td>No Deposit</td>\n",
       "      <td>NULL</td>\n",
       "      <td>NULL</td>\n",
       "      <td>0</td>\n",
       "      <td>Transient</td>\n",
       "      <td>0.00</td>\n",
       "      <td>0</td>\n",
       "      <td>0</td>\n",
       "      <td>Check-Out</td>\n",
       "      <td>2015-07-01</td>\n",
       "      <td>1</td>\n",
       "      <td>e535835e-b19a-4e32-9e9f-6d70a0182d4b</td>\n",
       "      <td>2015-07-01</td>\n",
       "      <td>2015-07-01</td>\n",
       "      <td>2015-07-01</td>\n",
       "      <td>2013-06-24</td>\n",
       "      <td>45</td>\n",
       "      <td>21</td>\n",
       "      <td>45</td>\n",
       "      <td>21</td>\n",
       "      <td>52</td>\n",
       "      <td>14</td>\n",
       "      <td>27</td>\n",
       "      <td>3</td>\n",
       "      <td>27</td>\n",
       "      <td>3</td>\n",
       "      <td>26</td>\n",
       "      <td>1</td>\n",
       "    </tr>\n",
       "    <tr>\n",
       "      <th>2</th>\n",
       "      <td>0</td>\n",
       "      <td>7</td>\n",
       "      <td>2015</td>\n",
       "      <td>July</td>\n",
       "      <td>27</td>\n",
       "      <td>1</td>\n",
       "      <td>0</td>\n",
       "      <td>1</td>\n",
       "      <td>1</td>\n",
       "      <td>0.00</td>\n",
       "      <td>0</td>\n",
       "      <td>BB</td>\n",
       "      <td>GBR</td>\n",
       "      <td>Direct</td>\n",
       "      <td>Direct</td>\n",
       "      <td>0</td>\n",
       "      <td>0</td>\n",
       "      <td>0</td>\n",
       "      <td>A</td>\n",
       "      <td>C</td>\n",
       "      <td>0</td>\n",
       "      <td>No Deposit</td>\n",
       "      <td>NULL</td>\n",
       "      <td>NULL</td>\n",
       "      <td>0</td>\n",
       "      <td>Transient</td>\n",
       "      <td>75.00</td>\n",
       "      <td>0</td>\n",
       "      <td>0</td>\n",
       "      <td>Check-Out</td>\n",
       "      <td>2015-07-02</td>\n",
       "      <td>1</td>\n",
       "      <td>9429383d-0efd-4c37-bb9b-0aaa63d5aade</td>\n",
       "      <td>2015-07-02</td>\n",
       "      <td>2015-07-01</td>\n",
       "      <td>2015-07-02</td>\n",
       "      <td>2015-06-24</td>\n",
       "      <td>45</td>\n",
       "      <td>21</td>\n",
       "      <td>44</td>\n",
       "      <td>22</td>\n",
       "      <td>52</td>\n",
       "      <td>14</td>\n",
       "      <td>27</td>\n",
       "      <td>3</td>\n",
       "      <td>27</td>\n",
       "      <td>4</td>\n",
       "      <td>26</td>\n",
       "      <td>3</td>\n",
       "    </tr>\n",
       "    <tr>\n",
       "      <th>3</th>\n",
       "      <td>0</td>\n",
       "      <td>13</td>\n",
       "      <td>2015</td>\n",
       "      <td>July</td>\n",
       "      <td>27</td>\n",
       "      <td>1</td>\n",
       "      <td>0</td>\n",
       "      <td>1</td>\n",
       "      <td>1</td>\n",
       "      <td>0.00</td>\n",
       "      <td>0</td>\n",
       "      <td>BB</td>\n",
       "      <td>GBR</td>\n",
       "      <td>Corporate</td>\n",
       "      <td>Corporate</td>\n",
       "      <td>0</td>\n",
       "      <td>0</td>\n",
       "      <td>0</td>\n",
       "      <td>A</td>\n",
       "      <td>A</td>\n",
       "      <td>0</td>\n",
       "      <td>No Deposit</td>\n",
       "      <td>304</td>\n",
       "      <td>NULL</td>\n",
       "      <td>0</td>\n",
       "      <td>Transient</td>\n",
       "      <td>75.00</td>\n",
       "      <td>0</td>\n",
       "      <td>0</td>\n",
       "      <td>Check-Out</td>\n",
       "      <td>2015-07-02</td>\n",
       "      <td>1</td>\n",
       "      <td>dd6424ee-6838-4007-ad85-de9ff96be14b</td>\n",
       "      <td>2015-07-02</td>\n",
       "      <td>2015-07-01</td>\n",
       "      <td>2015-07-02</td>\n",
       "      <td>2015-06-18</td>\n",
       "      <td>45</td>\n",
       "      <td>21</td>\n",
       "      <td>44</td>\n",
       "      <td>22</td>\n",
       "      <td>58</td>\n",
       "      <td>8</td>\n",
       "      <td>27</td>\n",
       "      <td>3</td>\n",
       "      <td>27</td>\n",
       "      <td>4</td>\n",
       "      <td>25</td>\n",
       "      <td>4</td>\n",
       "    </tr>\n",
       "    <tr>\n",
       "      <th>4</th>\n",
       "      <td>0</td>\n",
       "      <td>14</td>\n",
       "      <td>2015</td>\n",
       "      <td>July</td>\n",
       "      <td>27</td>\n",
       "      <td>1</td>\n",
       "      <td>0</td>\n",
       "      <td>2</td>\n",
       "      <td>2</td>\n",
       "      <td>0.00</td>\n",
       "      <td>0</td>\n",
       "      <td>BB</td>\n",
       "      <td>GBR</td>\n",
       "      <td>Online TA</td>\n",
       "      <td>TA/TO</td>\n",
       "      <td>0</td>\n",
       "      <td>0</td>\n",
       "      <td>0</td>\n",
       "      <td>A</td>\n",
       "      <td>A</td>\n",
       "      <td>0</td>\n",
       "      <td>No Deposit</td>\n",
       "      <td>240</td>\n",
       "      <td>NULL</td>\n",
       "      <td>0</td>\n",
       "      <td>Transient</td>\n",
       "      <td>98.00</td>\n",
       "      <td>0</td>\n",
       "      <td>1</td>\n",
       "      <td>Check-Out</td>\n",
       "      <td>2015-07-03</td>\n",
       "      <td>1</td>\n",
       "      <td>50ff56ee-6a72-40dc-8ff1-4246b831c779</td>\n",
       "      <td>2015-07-03</td>\n",
       "      <td>2015-07-01</td>\n",
       "      <td>2015-07-03</td>\n",
       "      <td>2015-06-17</td>\n",
       "      <td>45</td>\n",
       "      <td>21</td>\n",
       "      <td>43</td>\n",
       "      <td>23</td>\n",
       "      <td>59</td>\n",
       "      <td>7</td>\n",
       "      <td>27</td>\n",
       "      <td>3</td>\n",
       "      <td>27</td>\n",
       "      <td>5</td>\n",
       "      <td>25</td>\n",
       "      <td>3</td>\n",
       "    </tr>\n",
       "  </tbody>\n",
       "</table>\n",
       "</div>"
      ],
      "text/plain": [
       "   IsCanceled  LeadTime  ArrivalDateYear ArrivalDateMonth  \\\n",
       "0           0       342             2015             July   \n",
       "1           0       737             2015             July   \n",
       "2           0         7             2015             July   \n",
       "3           0        13             2015             July   \n",
       "4           0        14             2015             July   \n",
       "\n",
       "   ArrivalDateWeekNumber  ArrivalDateDayOfMonth  StaysInWeekendNights  \\\n",
       "0                     27                      1                     0   \n",
       "1                     27                      1                     0   \n",
       "2                     27                      1                     0   \n",
       "3                     27                      1                     0   \n",
       "4                     27                      1                     0   \n",
       "\n",
       "   StaysInWeekNights  Adults  Children  Babies       Meal Country  \\\n",
       "0                  0       2      0.00       0  BB            PRT   \n",
       "1                  0       2      0.00       0  BB            PRT   \n",
       "2                  1       1      0.00       0  BB            GBR   \n",
       "3                  1       1      0.00       0  BB            GBR   \n",
       "4                  2       2      0.00       0  BB            GBR   \n",
       "\n",
       "  MarketSegment DistributionChannel  IsRepeatedGuest  PreviousCancellations  \\\n",
       "0        Direct              Direct                0                      0   \n",
       "1        Direct              Direct                0                      0   \n",
       "2        Direct              Direct                0                      0   \n",
       "3     Corporate           Corporate                0                      0   \n",
       "4     Online TA               TA/TO                0                      0   \n",
       "\n",
       "   PreviousBookingsNotCanceled  ReservedRoomType  AssignedRoomType  \\\n",
       "0                            0  C                 C                  \n",
       "1                            0  C                 C                  \n",
       "2                            0  A                 C                  \n",
       "3                            0  A                 A                  \n",
       "4                            0  A                 A                  \n",
       "\n",
       "   BookingChanges      DepositType        Agent      Company  \\\n",
       "0               3  No Deposit              NULL         NULL   \n",
       "1               4  No Deposit              NULL         NULL   \n",
       "2               0  No Deposit              NULL         NULL   \n",
       "3               0  No Deposit               304         NULL   \n",
       "4               0  No Deposit               240         NULL   \n",
       "\n",
       "   DaysInWaitingList CustomerType   ADR  RequiredCarParkingSpaces  \\\n",
       "0                  0    Transient  0.00                         0   \n",
       "1                  0    Transient  0.00                         0   \n",
       "2                  0    Transient 75.00                         0   \n",
       "3                  0    Transient 75.00                         0   \n",
       "4                  0    Transient 98.00                         0   \n",
       "\n",
       "   TotalOfSpecialRequests ReservationStatus ReservationStatusDate_x  \\\n",
       "0                       0         Check-Out              2015-07-01   \n",
       "1                       0         Check-Out              2015-07-01   \n",
       "2                       0         Check-Out              2015-07-02   \n",
       "3                       0         Check-Out              2015-07-02   \n",
       "4                       1         Check-Out              2015-07-03   \n",
       "\n",
       "   HotelNumber                                  UUID ReservationStatusDate_y  \\\n",
       "0            1  8ca998d6-fae7-4ee4-a706-3765721aaff5              2015-07-01   \n",
       "1            1  e535835e-b19a-4e32-9e9f-6d70a0182d4b              2015-07-01   \n",
       "2            1  9429383d-0efd-4c37-bb9b-0aaa63d5aade              2015-07-02   \n",
       "3            1  dd6424ee-6838-4007-ad85-de9ff96be14b              2015-07-02   \n",
       "4            1  50ff56ee-6a72-40dc-8ff1-4246b831c779              2015-07-03   \n",
       "\n",
       "  ArrivalDate DepartureDate BookingDate  ArrivalDate_DaysBeforeHoliday  \\\n",
       "0  2015-07-01    2015-07-01  2014-07-24                             45   \n",
       "1  2015-07-01    2015-07-01  2013-06-24                             45   \n",
       "2  2015-07-01    2015-07-02  2015-06-24                             45   \n",
       "3  2015-07-01    2015-07-02  2015-06-18                             45   \n",
       "4  2015-07-01    2015-07-03  2015-06-17                             45   \n",
       "\n",
       "   ArrivalDate_DaysAfterHoliday  DepartureDate_DaysBeforeHoliday  \\\n",
       "0                            21                               45   \n",
       "1                            21                               45   \n",
       "2                            21                               44   \n",
       "3                            21                               44   \n",
       "4                            21                               43   \n",
       "\n",
       "   DepartureDate_DaysAfterHoliday  BookingDate_DaysBeforeHoliday  \\\n",
       "0                              21                             22   \n",
       "1                              21                             52   \n",
       "2                              22                             52   \n",
       "3                              22                             58   \n",
       "4                              23                             59   \n",
       "\n",
       "   BookingDate_DaysAfterHoliday  ArrivalDate_WeekNumber  \\\n",
       "0                            44                      27   \n",
       "1                            14                      27   \n",
       "2                            14                      27   \n",
       "3                             8                      27   \n",
       "4                             7                      27   \n",
       "\n",
       "   ArrivalDate_DayOfWeek  DepartureDate_WeekNumber  DepartureDate_DayOfWeek  \\\n",
       "0                      3                        27                        3   \n",
       "1                      3                        27                        3   \n",
       "2                      3                        27                        4   \n",
       "3                      3                        27                        4   \n",
       "4                      3                        27                        5   \n",
       "\n",
       "   BookingDate_WeekNumber  BookingDate_DayOfWeek  \n",
       "0                      30                      4  \n",
       "1                      26                      1  \n",
       "2                      26                      3  \n",
       "3                      25                      4  \n",
       "4                      25                      3  "
      ]
     },
     "execution_count": 8,
     "metadata": {},
     "output_type": "execute_result"
    }
   ],
   "source": [
    "data = data.merge(right = df_dates, how = 'left', on = 'UUID')\n",
    "data.head()"
   ]
  },
  {
   "cell_type": "code",
   "execution_count": 9,
   "metadata": {
    "execution": {
     "iopub.execute_input": "2024-03-29T18:29:16.363369Z",
     "iopub.status.busy": "2024-03-29T18:29:16.363369Z",
     "iopub.status.idle": "2024-03-29T18:29:16.515693Z",
     "shell.execute_reply": "2024-03-29T18:29:16.514760Z",
     "shell.execute_reply.started": "2024-03-29T18:29:16.363369Z"
    }
   },
   "outputs": [
    {
     "name": "stdout",
     "output_type": "stream",
     "text": [
      "<class 'pandas.core.frame.DataFrame'>\n",
      "RangeIndex: 119390 entries, 0 to 119389\n",
      "Data columns (total 49 columns):\n",
      " #   Column                           Non-Null Count   Dtype         \n",
      "---  ------                           --------------   -----         \n",
      " 0   IsCanceled                       119390 non-null  int64         \n",
      " 1   LeadTime                         119390 non-null  int64         \n",
      " 2   ArrivalDateYear                  119390 non-null  int64         \n",
      " 3   ArrivalDateMonth                 119390 non-null  object        \n",
      " 4   ArrivalDateWeekNumber            119390 non-null  int64         \n",
      " 5   ArrivalDateDayOfMonth            119390 non-null  int64         \n",
      " 6   StaysInWeekendNights             119390 non-null  int64         \n",
      " 7   StaysInWeekNights                119390 non-null  int64         \n",
      " 8   Adults                           119390 non-null  int64         \n",
      " 9   Children                         119386 non-null  float64       \n",
      " 10  Babies                           119390 non-null  int64         \n",
      " 11  Meal                             119390 non-null  object        \n",
      " 12  Country                          118902 non-null  object        \n",
      " 13  MarketSegment                    119390 non-null  object        \n",
      " 14  DistributionChannel              119390 non-null  object        \n",
      " 15  IsRepeatedGuest                  119390 non-null  int64         \n",
      " 16  PreviousCancellations            119390 non-null  int64         \n",
      " 17  PreviousBookingsNotCanceled      119390 non-null  int64         \n",
      " 18  ReservedRoomType                 119390 non-null  object        \n",
      " 19  AssignedRoomType                 119390 non-null  object        \n",
      " 20  BookingChanges                   119390 non-null  int64         \n",
      " 21  DepositType                      119390 non-null  object        \n",
      " 22  Agent                            119390 non-null  object        \n",
      " 23  Company                          119390 non-null  object        \n",
      " 24  DaysInWaitingList                119390 non-null  int64         \n",
      " 25  CustomerType                     119390 non-null  object        \n",
      " 26  ADR                              119390 non-null  float64       \n",
      " 27  RequiredCarParkingSpaces         119390 non-null  int64         \n",
      " 28  TotalOfSpecialRequests           119390 non-null  int64         \n",
      " 29  ReservationStatus                119390 non-null  object        \n",
      " 30  ReservationStatusDate_x          119390 non-null  object        \n",
      " 31  HotelNumber                      119390 non-null  int64         \n",
      " 32  UUID                             119390 non-null  object        \n",
      " 33  ReservationStatusDate_y          119390 non-null  datetime64[ns]\n",
      " 34  ArrivalDate                      119390 non-null  datetime64[ns]\n",
      " 35  DepartureDate                    119390 non-null  datetime64[ns]\n",
      " 36  BookingDate                      119390 non-null  datetime64[ns]\n",
      " 37  ArrivalDate_DaysBeforeHoliday    119390 non-null  int64         \n",
      " 38  ArrivalDate_DaysAfterHoliday     119390 non-null  int64         \n",
      " 39  DepartureDate_DaysBeforeHoliday  119390 non-null  int64         \n",
      " 40  DepartureDate_DaysAfterHoliday   119390 non-null  int64         \n",
      " 41  BookingDate_DaysBeforeHoliday    119390 non-null  int64         \n",
      " 42  BookingDate_DaysAfterHoliday     119390 non-null  int64         \n",
      " 43  ArrivalDate_WeekNumber           119390 non-null  UInt32        \n",
      " 44  ArrivalDate_DayOfWeek            119390 non-null  UInt32        \n",
      " 45  DepartureDate_WeekNumber         119390 non-null  UInt32        \n",
      " 46  DepartureDate_DayOfWeek          119390 non-null  UInt32        \n",
      " 47  BookingDate_WeekNumber           119390 non-null  UInt32        \n",
      " 48  BookingDate_DayOfWeek            119390 non-null  UInt32        \n",
      "dtypes: UInt32(6), datetime64[ns](4), float64(2), int64(23), object(14)\n",
      "memory usage: 42.6+ MB\n"
     ]
    }
   ],
   "source": [
    "data.info()"
   ]
  },
  {
   "cell_type": "markdown",
   "metadata": {},
   "source": [
    "## Dropping Old Features\n",
    "\n",
    "*Some features were used to engineer new features - particularly arrival details.*"
   ]
  },
  {
   "cell_type": "code",
   "execution_count": 10,
   "metadata": {
    "execution": {
     "iopub.execute_input": "2024-03-29T18:29:16.515693Z",
     "iopub.status.busy": "2024-03-29T18:29:16.515693Z",
     "iopub.status.idle": "2024-03-29T18:29:16.606536Z",
     "shell.execute_reply": "2024-03-29T18:29:16.606536Z",
     "shell.execute_reply.started": "2024-03-29T18:29:16.515693Z"
    }
   },
   "outputs": [
    {
     "data": {
      "text/plain": [
       "['LeadTime',\n",
       " 'ArrivalDateYear',\n",
       " 'ArrivalDateMonth',\n",
       " 'ArrivalDateWeekNumber',\n",
       " 'ArrivalDateDayOfMonth',\n",
       " 'StaysInWeekendNights',\n",
       " 'StaysInWeekNights',\n",
       " 'ReservationStatusDate_x',\n",
       " 'ReservationStatusDate_y',\n",
       " 'ArrivalDate',\n",
       " 'DepartureDate',\n",
       " 'BookingDate']"
      ]
     },
     "execution_count": 10,
     "metadata": {},
     "output_type": "execute_result"
    }
   ],
   "source": [
    "drop_feats = list(data.columns)[1:8]\n",
    "drop_feats.append(list(data.columns)[30])\n",
    "drop_feats.extend(list(data.columns)[33:37])\n",
    "drop_feats"
   ]
  },
  {
   "cell_type": "code",
   "execution_count": 11,
   "metadata": {
    "execution": {
     "iopub.execute_input": "2024-03-29T18:29:16.608544Z",
     "iopub.status.busy": "2024-03-29T18:29:16.607570Z",
     "iopub.status.idle": "2024-03-29T18:29:16.729924Z",
     "shell.execute_reply": "2024-03-29T18:29:16.729924Z",
     "shell.execute_reply.started": "2024-03-29T18:29:16.608544Z"
    }
   },
   "outputs": [
    {
     "data": {
      "text/html": [
       "<div>\n",
       "<style scoped>\n",
       "    .dataframe tbody tr th:only-of-type {\n",
       "        vertical-align: middle;\n",
       "    }\n",
       "\n",
       "    .dataframe tbody tr th {\n",
       "        vertical-align: top;\n",
       "    }\n",
       "\n",
       "    .dataframe thead th {\n",
       "        text-align: right;\n",
       "    }\n",
       "</style>\n",
       "<table border=\"1\" class=\"dataframe\">\n",
       "  <thead>\n",
       "    <tr style=\"text-align: right;\">\n",
       "      <th></th>\n",
       "      <th>IsCanceled</th>\n",
       "      <th>Adults</th>\n",
       "      <th>Children</th>\n",
       "      <th>Babies</th>\n",
       "      <th>Meal</th>\n",
       "      <th>Country</th>\n",
       "      <th>MarketSegment</th>\n",
       "      <th>DistributionChannel</th>\n",
       "      <th>IsRepeatedGuest</th>\n",
       "      <th>PreviousCancellations</th>\n",
       "      <th>PreviousBookingsNotCanceled</th>\n",
       "      <th>ReservedRoomType</th>\n",
       "      <th>AssignedRoomType</th>\n",
       "      <th>BookingChanges</th>\n",
       "      <th>DepositType</th>\n",
       "      <th>Agent</th>\n",
       "      <th>Company</th>\n",
       "      <th>DaysInWaitingList</th>\n",
       "      <th>CustomerType</th>\n",
       "      <th>ADR</th>\n",
       "      <th>RequiredCarParkingSpaces</th>\n",
       "      <th>TotalOfSpecialRequests</th>\n",
       "      <th>ReservationStatus</th>\n",
       "      <th>HotelNumber</th>\n",
       "      <th>UUID</th>\n",
       "      <th>ArrivalDate_DaysBeforeHoliday</th>\n",
       "      <th>ArrivalDate_DaysAfterHoliday</th>\n",
       "      <th>DepartureDate_DaysBeforeHoliday</th>\n",
       "      <th>DepartureDate_DaysAfterHoliday</th>\n",
       "      <th>BookingDate_DaysBeforeHoliday</th>\n",
       "      <th>BookingDate_DaysAfterHoliday</th>\n",
       "      <th>ArrivalDate_WeekNumber</th>\n",
       "      <th>ArrivalDate_DayOfWeek</th>\n",
       "      <th>DepartureDate_WeekNumber</th>\n",
       "      <th>DepartureDate_DayOfWeek</th>\n",
       "      <th>BookingDate_WeekNumber</th>\n",
       "      <th>BookingDate_DayOfWeek</th>\n",
       "    </tr>\n",
       "  </thead>\n",
       "  <tbody>\n",
       "    <tr>\n",
       "      <th>0</th>\n",
       "      <td>0</td>\n",
       "      <td>2</td>\n",
       "      <td>0.00</td>\n",
       "      <td>0</td>\n",
       "      <td>BB</td>\n",
       "      <td>PRT</td>\n",
       "      <td>Direct</td>\n",
       "      <td>Direct</td>\n",
       "      <td>0</td>\n",
       "      <td>0</td>\n",
       "      <td>0</td>\n",
       "      <td>C</td>\n",
       "      <td>C</td>\n",
       "      <td>3</td>\n",
       "      <td>No Deposit</td>\n",
       "      <td>NULL</td>\n",
       "      <td>NULL</td>\n",
       "      <td>0</td>\n",
       "      <td>Transient</td>\n",
       "      <td>0.00</td>\n",
       "      <td>0</td>\n",
       "      <td>0</td>\n",
       "      <td>Check-Out</td>\n",
       "      <td>1</td>\n",
       "      <td>8ca998d6-fae7-4ee4-a706-3765721aaff5</td>\n",
       "      <td>45</td>\n",
       "      <td>21</td>\n",
       "      <td>45</td>\n",
       "      <td>21</td>\n",
       "      <td>22</td>\n",
       "      <td>44</td>\n",
       "      <td>27</td>\n",
       "      <td>3</td>\n",
       "      <td>27</td>\n",
       "      <td>3</td>\n",
       "      <td>30</td>\n",
       "      <td>4</td>\n",
       "    </tr>\n",
       "    <tr>\n",
       "      <th>1</th>\n",
       "      <td>0</td>\n",
       "      <td>2</td>\n",
       "      <td>0.00</td>\n",
       "      <td>0</td>\n",
       "      <td>BB</td>\n",
       "      <td>PRT</td>\n",
       "      <td>Direct</td>\n",
       "      <td>Direct</td>\n",
       "      <td>0</td>\n",
       "      <td>0</td>\n",
       "      <td>0</td>\n",
       "      <td>C</td>\n",
       "      <td>C</td>\n",
       "      <td>4</td>\n",
       "      <td>No Deposit</td>\n",
       "      <td>NULL</td>\n",
       "      <td>NULL</td>\n",
       "      <td>0</td>\n",
       "      <td>Transient</td>\n",
       "      <td>0.00</td>\n",
       "      <td>0</td>\n",
       "      <td>0</td>\n",
       "      <td>Check-Out</td>\n",
       "      <td>1</td>\n",
       "      <td>e535835e-b19a-4e32-9e9f-6d70a0182d4b</td>\n",
       "      <td>45</td>\n",
       "      <td>21</td>\n",
       "      <td>45</td>\n",
       "      <td>21</td>\n",
       "      <td>52</td>\n",
       "      <td>14</td>\n",
       "      <td>27</td>\n",
       "      <td>3</td>\n",
       "      <td>27</td>\n",
       "      <td>3</td>\n",
       "      <td>26</td>\n",
       "      <td>1</td>\n",
       "    </tr>\n",
       "    <tr>\n",
       "      <th>2</th>\n",
       "      <td>0</td>\n",
       "      <td>1</td>\n",
       "      <td>0.00</td>\n",
       "      <td>0</td>\n",
       "      <td>BB</td>\n",
       "      <td>GBR</td>\n",
       "      <td>Direct</td>\n",
       "      <td>Direct</td>\n",
       "      <td>0</td>\n",
       "      <td>0</td>\n",
       "      <td>0</td>\n",
       "      <td>A</td>\n",
       "      <td>C</td>\n",
       "      <td>0</td>\n",
       "      <td>No Deposit</td>\n",
       "      <td>NULL</td>\n",
       "      <td>NULL</td>\n",
       "      <td>0</td>\n",
       "      <td>Transient</td>\n",
       "      <td>75.00</td>\n",
       "      <td>0</td>\n",
       "      <td>0</td>\n",
       "      <td>Check-Out</td>\n",
       "      <td>1</td>\n",
       "      <td>9429383d-0efd-4c37-bb9b-0aaa63d5aade</td>\n",
       "      <td>45</td>\n",
       "      <td>21</td>\n",
       "      <td>44</td>\n",
       "      <td>22</td>\n",
       "      <td>52</td>\n",
       "      <td>14</td>\n",
       "      <td>27</td>\n",
       "      <td>3</td>\n",
       "      <td>27</td>\n",
       "      <td>4</td>\n",
       "      <td>26</td>\n",
       "      <td>3</td>\n",
       "    </tr>\n",
       "    <tr>\n",
       "      <th>3</th>\n",
       "      <td>0</td>\n",
       "      <td>1</td>\n",
       "      <td>0.00</td>\n",
       "      <td>0</td>\n",
       "      <td>BB</td>\n",
       "      <td>GBR</td>\n",
       "      <td>Corporate</td>\n",
       "      <td>Corporate</td>\n",
       "      <td>0</td>\n",
       "      <td>0</td>\n",
       "      <td>0</td>\n",
       "      <td>A</td>\n",
       "      <td>A</td>\n",
       "      <td>0</td>\n",
       "      <td>No Deposit</td>\n",
       "      <td>304</td>\n",
       "      <td>NULL</td>\n",
       "      <td>0</td>\n",
       "      <td>Transient</td>\n",
       "      <td>75.00</td>\n",
       "      <td>0</td>\n",
       "      <td>0</td>\n",
       "      <td>Check-Out</td>\n",
       "      <td>1</td>\n",
       "      <td>dd6424ee-6838-4007-ad85-de9ff96be14b</td>\n",
       "      <td>45</td>\n",
       "      <td>21</td>\n",
       "      <td>44</td>\n",
       "      <td>22</td>\n",
       "      <td>58</td>\n",
       "      <td>8</td>\n",
       "      <td>27</td>\n",
       "      <td>3</td>\n",
       "      <td>27</td>\n",
       "      <td>4</td>\n",
       "      <td>25</td>\n",
       "      <td>4</td>\n",
       "    </tr>\n",
       "    <tr>\n",
       "      <th>4</th>\n",
       "      <td>0</td>\n",
       "      <td>2</td>\n",
       "      <td>0.00</td>\n",
       "      <td>0</td>\n",
       "      <td>BB</td>\n",
       "      <td>GBR</td>\n",
       "      <td>Online TA</td>\n",
       "      <td>TA/TO</td>\n",
       "      <td>0</td>\n",
       "      <td>0</td>\n",
       "      <td>0</td>\n",
       "      <td>A</td>\n",
       "      <td>A</td>\n",
       "      <td>0</td>\n",
       "      <td>No Deposit</td>\n",
       "      <td>240</td>\n",
       "      <td>NULL</td>\n",
       "      <td>0</td>\n",
       "      <td>Transient</td>\n",
       "      <td>98.00</td>\n",
       "      <td>0</td>\n",
       "      <td>1</td>\n",
       "      <td>Check-Out</td>\n",
       "      <td>1</td>\n",
       "      <td>50ff56ee-6a72-40dc-8ff1-4246b831c779</td>\n",
       "      <td>45</td>\n",
       "      <td>21</td>\n",
       "      <td>43</td>\n",
       "      <td>23</td>\n",
       "      <td>59</td>\n",
       "      <td>7</td>\n",
       "      <td>27</td>\n",
       "      <td>3</td>\n",
       "      <td>27</td>\n",
       "      <td>5</td>\n",
       "      <td>25</td>\n",
       "      <td>3</td>\n",
       "    </tr>\n",
       "  </tbody>\n",
       "</table>\n",
       "</div>"
      ],
      "text/plain": [
       "   IsCanceled  Adults  Children  Babies       Meal Country MarketSegment  \\\n",
       "0           0       2      0.00       0  BB            PRT        Direct   \n",
       "1           0       2      0.00       0  BB            PRT        Direct   \n",
       "2           0       1      0.00       0  BB            GBR        Direct   \n",
       "3           0       1      0.00       0  BB            GBR     Corporate   \n",
       "4           0       2      0.00       0  BB            GBR     Online TA   \n",
       "\n",
       "  DistributionChannel  IsRepeatedGuest  PreviousCancellations  \\\n",
       "0              Direct                0                      0   \n",
       "1              Direct                0                      0   \n",
       "2              Direct                0                      0   \n",
       "3           Corporate                0                      0   \n",
       "4               TA/TO                0                      0   \n",
       "\n",
       "   PreviousBookingsNotCanceled  ReservedRoomType  AssignedRoomType  \\\n",
       "0                            0  C                 C                  \n",
       "1                            0  C                 C                  \n",
       "2                            0  A                 C                  \n",
       "3                            0  A                 A                  \n",
       "4                            0  A                 A                  \n",
       "\n",
       "   BookingChanges      DepositType        Agent      Company  \\\n",
       "0               3  No Deposit              NULL         NULL   \n",
       "1               4  No Deposit              NULL         NULL   \n",
       "2               0  No Deposit              NULL         NULL   \n",
       "3               0  No Deposit               304         NULL   \n",
       "4               0  No Deposit               240         NULL   \n",
       "\n",
       "   DaysInWaitingList CustomerType   ADR  RequiredCarParkingSpaces  \\\n",
       "0                  0    Transient  0.00                         0   \n",
       "1                  0    Transient  0.00                         0   \n",
       "2                  0    Transient 75.00                         0   \n",
       "3                  0    Transient 75.00                         0   \n",
       "4                  0    Transient 98.00                         0   \n",
       "\n",
       "   TotalOfSpecialRequests ReservationStatus  HotelNumber  \\\n",
       "0                       0         Check-Out            1   \n",
       "1                       0         Check-Out            1   \n",
       "2                       0         Check-Out            1   \n",
       "3                       0         Check-Out            1   \n",
       "4                       1         Check-Out            1   \n",
       "\n",
       "                                   UUID  ArrivalDate_DaysBeforeHoliday  \\\n",
       "0  8ca998d6-fae7-4ee4-a706-3765721aaff5                             45   \n",
       "1  e535835e-b19a-4e32-9e9f-6d70a0182d4b                             45   \n",
       "2  9429383d-0efd-4c37-bb9b-0aaa63d5aade                             45   \n",
       "3  dd6424ee-6838-4007-ad85-de9ff96be14b                             45   \n",
       "4  50ff56ee-6a72-40dc-8ff1-4246b831c779                             45   \n",
       "\n",
       "   ArrivalDate_DaysAfterHoliday  DepartureDate_DaysBeforeHoliday  \\\n",
       "0                            21                               45   \n",
       "1                            21                               45   \n",
       "2                            21                               44   \n",
       "3                            21                               44   \n",
       "4                            21                               43   \n",
       "\n",
       "   DepartureDate_DaysAfterHoliday  BookingDate_DaysBeforeHoliday  \\\n",
       "0                              21                             22   \n",
       "1                              21                             52   \n",
       "2                              22                             52   \n",
       "3                              22                             58   \n",
       "4                              23                             59   \n",
       "\n",
       "   BookingDate_DaysAfterHoliday  ArrivalDate_WeekNumber  \\\n",
       "0                            44                      27   \n",
       "1                            14                      27   \n",
       "2                            14                      27   \n",
       "3                             8                      27   \n",
       "4                             7                      27   \n",
       "\n",
       "   ArrivalDate_DayOfWeek  DepartureDate_WeekNumber  DepartureDate_DayOfWeek  \\\n",
       "0                      3                        27                        3   \n",
       "1                      3                        27                        3   \n",
       "2                      3                        27                        4   \n",
       "3                      3                        27                        4   \n",
       "4                      3                        27                        5   \n",
       "\n",
       "   BookingDate_WeekNumber  BookingDate_DayOfWeek  \n",
       "0                      30                      4  \n",
       "1                      26                      1  \n",
       "2                      26                      3  \n",
       "3                      25                      4  \n",
       "4                      25                      3  "
      ]
     },
     "execution_count": 11,
     "metadata": {},
     "output_type": "execute_result"
    }
   ],
   "source": [
    "data = data.drop(columns = drop_feats)\n",
    "data.head()"
   ]
  },
  {
   "attachments": {},
   "cell_type": "markdown",
   "metadata": {},
   "source": [
    "# Identifying Target Feature - Classification\n",
    "\n",
    "---\n",
    "\n",
    "> For my classification analysis, I will use the `IsCanceled` feature as my target feature. This feature indicates whether a reservation was canceled (0 = check-out, 1 = canceled).\n",
    ">\n",
    "> There is another feature, `ReservationStatus`, that is closely tied to the `IsCanceled` feature. The `ReservationStatus` feature indicates the last date on which the reservation was changed, which would match the cancellation date for a reservation since changes usually do not occur after that point.\n",
    ">\n",
    "> Due to this close relationship, I will review both features and determine which to keep.\n",
    "\n",
    "---"
   ]
  },
  {
   "cell_type": "code",
   "execution_count": 62,
   "metadata": {
    "ExecuteTime": {
     "end_time": "2022-11-05T17:32:52.694420Z",
     "start_time": "2022-11-05T17:32:52.552726Z"
    },
    "execution": {
     "iopub.execute_input": "2024-03-29T18:56:15.193285Z",
     "iopub.status.busy": "2024-03-29T18:56:15.193285Z",
     "iopub.status.idle": "2024-03-29T18:56:15.356456Z",
     "shell.execute_reply": "2024-03-29T18:56:15.355453Z",
     "shell.execute_reply.started": "2024-03-29T18:56:15.193285Z"
    }
   },
   "outputs": [
    {
     "data": {
      "text/plain": [
       "count   119,390.00\n",
       "mean          0.37\n",
       "std           0.48\n",
       "min           0.00\n",
       "25%           0.00\n",
       "50%           0.00\n",
       "75%           1.00\n",
       "max           1.00\n",
       "Name: IsCanceled, dtype: float64"
      ]
     },
     "execution_count": 62,
     "metadata": {},
     "output_type": "execute_result"
    }
   ],
   "source": [
    "## Inspecting target feature\n",
    "data['IsCanceled'].describe()"
   ]
  },
  {
   "cell_type": "code",
   "execution_count": 63,
   "metadata": {
    "execution": {
     "iopub.execute_input": "2024-03-29T18:56:20.644067Z",
     "iopub.status.busy": "2024-03-29T18:56:20.644067Z",
     "iopub.status.idle": "2024-03-29T18:56:20.810155Z",
     "shell.execute_reply": "2024-03-29T18:56:20.809979Z",
     "shell.execute_reply.started": "2024-03-29T18:56:20.644067Z"
    }
   },
   "outputs": [
    {
     "data": {
      "text/plain": [
       "IsCanceled\n",
       "0   0.63\n",
       "1   0.37\n",
       "Name: proportion, dtype: float64"
      ]
     },
     "execution_count": 63,
     "metadata": {},
     "output_type": "execute_result"
    }
   ],
   "source": [
    "data['IsCanceled'].value_counts(normalize=True, ascending = False, dropna = False)"
   ]
  },
  {
   "cell_type": "code",
   "execution_count": 59,
   "metadata": {
    "ExecuteTime": {
     "end_time": "2022-11-05T17:32:52.831085Z",
     "start_time": "2022-11-05T17:32:52.695565Z"
    },
    "execution": {
     "iopub.execute_input": "2024-03-29T18:55:44.105145Z",
     "iopub.status.busy": "2024-03-29T18:55:44.105145Z",
     "iopub.status.idle": "2024-03-29T18:55:44.241153Z",
     "shell.execute_reply": "2024-03-29T18:55:44.241153Z",
     "shell.execute_reply.started": "2024-03-29T18:55:44.105145Z"
    }
   },
   "outputs": [],
   "source": [
    "# ## Viewing breakdown of target feature\n",
    "# target_breakdown = temp_data['IsCanceled'].value_counts(normalize=True, dropna=False)\n",
    "# target_breakdown"
   ]
  },
  {
   "cell_type": "code",
   "execution_count": 28,
   "metadata": {
    "ExecuteTime": {
     "end_time": "2022-11-05T17:32:53.293519Z",
     "start_time": "2022-11-05T17:32:52.833087Z"
    },
    "execution": {
     "iopub.execute_input": "2024-03-29T18:32:08.176162Z",
     "iopub.status.busy": "2024-03-29T18:32:08.176162Z",
     "iopub.status.idle": "2024-03-29T18:32:08.297431Z",
     "shell.execute_reply": "2024-03-29T18:32:08.297431Z",
     "shell.execute_reply.started": "2024-03-29T18:32:08.176162Z"
    }
   },
   "outputs": [],
   "source": [
    "# ## Generating visualization of target feature for presentation\n",
    "\n",
    "# fig, ax = plt.subplots(figsize=(8,5))\n",
    "\n",
    "# ax = target_breakdown.plot(kind='bar',ax=ax)\n",
    "\n",
    "# ax.set(xlabel = 'Status', ylabel= 'Percent')\n",
    "\n",
    "# plt.xticks([0, 1], ['Checked-Out', 'Cancelled'], rotation=0)\n",
    "# plt.yticks([.1, .2, .3, .4, .5, .6], [10, 20, 30, 40, 50, 60])\n",
    "# plt.suptitle('Breakdown of Reservation Statuses')\n",
    "\n",
    "# ax.set_facecolor('0.9')\n",
    "# fig.set_facecolor('0.975')\n",
    "# plt.savefig('../img/cxl_stat.png',transparent=False, bbox_inches='tight',\n",
    "#            dpi=300)\n",
    "# plt.show()\n",
    "# plt.close()"
   ]
  },
  {
   "cell_type": "code",
   "execution_count": 58,
   "metadata": {
    "execution": {
     "iopub.execute_input": "2024-03-29T18:55:36.828027Z",
     "iopub.status.busy": "2024-03-29T18:55:36.827029Z",
     "iopub.status.idle": "2024-03-29T18:55:36.993100Z",
     "shell.execute_reply": "2024-03-29T18:55:36.993100Z",
     "shell.execute_reply.started": "2024-03-29T18:55:36.828027Z"
    },
    "scrolled": true
   },
   "outputs": [],
   "source": [
    "# px.histogram(temp_data, x='IsCanceled')"
   ]
  },
  {
   "cell_type": "markdown",
   "metadata": {},
   "source": [
    "---\n",
    "\n",
    "**Initial Review** \n",
    "\n",
    "> Based on this initial review, there is a moderate class imbalance between whether a reservation canceled favoring non-canceled reservations with a 63%/37% split between not-canceled/canceled, respectively.\n",
    ">\n",
    "> **I will keep this imbalance in mind when I perform my modeling in my next notebook.** Imbalanced classes may have a significant negative impact on a model's performance; I will need to address the imbalance prior to modeling.\n",
    "\n",
    "---"
   ]
  },
  {
   "cell_type": "code",
   "execution_count": null,
   "metadata": {
    "ExecuteTime": {
     "end_time": "2022-11-05T17:32:53.418139Z",
     "start_time": "2022-11-05T17:32:53.295556Z"
    }
   },
   "outputs": [],
   "source": [
    "## Cleaning up memory\n",
    "del target_breakdown"
   ]
  },
  {
   "cell_type": "markdown",
   "metadata": {},
   "source": [
    "# Reviewing Statistics"
   ]
  },
  {
   "cell_type": "markdown",
   "metadata": {},
   "source": [
    "## Summary Stats via Describe Method"
   ]
  },
  {
   "cell_type": "code",
   "execution_count": 71,
   "metadata": {
    "execution": {
     "iopub.execute_input": "2024-03-29T19:01:15.823981Z",
     "iopub.status.busy": "2024-03-29T19:01:15.823981Z",
     "iopub.status.idle": "2024-03-29T19:01:16.065621Z",
     "shell.execute_reply": "2024-03-29T19:01:16.064620Z",
     "shell.execute_reply.started": "2024-03-29T19:01:15.823981Z"
    }
   },
   "outputs": [
    {
     "data": {
      "text/html": [
       "<div>\n",
       "<style scoped>\n",
       "    .dataframe tbody tr th:only-of-type {\n",
       "        vertical-align: middle;\n",
       "    }\n",
       "\n",
       "    .dataframe tbody tr th {\n",
       "        vertical-align: top;\n",
       "    }\n",
       "\n",
       "    .dataframe thead th {\n",
       "        text-align: right;\n",
       "    }\n",
       "</style>\n",
       "<table border=\"1\" class=\"dataframe\">\n",
       "  <thead>\n",
       "    <tr style=\"text-align: right;\">\n",
       "      <th></th>\n",
       "      <th>IsCanceled</th>\n",
       "      <th>Adults</th>\n",
       "      <th>Children</th>\n",
       "      <th>Babies</th>\n",
       "      <th>IsRepeatedGuest</th>\n",
       "      <th>PreviousCancellations</th>\n",
       "      <th>PreviousBookingsNotCanceled</th>\n",
       "      <th>BookingChanges</th>\n",
       "      <th>DaysInWaitingList</th>\n",
       "      <th>ADR</th>\n",
       "      <th>RequiredCarParkingSpaces</th>\n",
       "      <th>TotalOfSpecialRequests</th>\n",
       "      <th>HotelNumber</th>\n",
       "      <th>ArrivalDate_DaysBeforeHoliday</th>\n",
       "      <th>ArrivalDate_DaysAfterHoliday</th>\n",
       "      <th>DepartureDate_DaysBeforeHoliday</th>\n",
       "      <th>DepartureDate_DaysAfterHoliday</th>\n",
       "      <th>BookingDate_DaysBeforeHoliday</th>\n",
       "      <th>BookingDate_DaysAfterHoliday</th>\n",
       "      <th>ArrivalDate_WeekNumber</th>\n",
       "      <th>ArrivalDate_DayOfWeek</th>\n",
       "      <th>DepartureDate_WeekNumber</th>\n",
       "      <th>DepartureDate_DayOfWeek</th>\n",
       "      <th>BookingDate_WeekNumber</th>\n",
       "      <th>BookingDate_DayOfWeek</th>\n",
       "    </tr>\n",
       "  </thead>\n",
       "  <tbody>\n",
       "    <tr>\n",
       "      <th>count</th>\n",
       "      <td>119,390.00</td>\n",
       "      <td>119,390.00</td>\n",
       "      <td>119,386.00</td>\n",
       "      <td>119,390.00</td>\n",
       "      <td>119,390.00</td>\n",
       "      <td>119,390.00</td>\n",
       "      <td>119,390.00</td>\n",
       "      <td>119,390.00</td>\n",
       "      <td>119,390.00</td>\n",
       "      <td>119,390.00</td>\n",
       "      <td>119,390.00</td>\n",
       "      <td>119,390.00</td>\n",
       "      <td>119,390.00</td>\n",
       "      <td>119,390.00</td>\n",
       "      <td>119,390.00</td>\n",
       "      <td>119,390.00</td>\n",
       "      <td>119,390.00</td>\n",
       "      <td>119,390.00</td>\n",
       "      <td>119,390.00</td>\n",
       "      <td>119,390.00</td>\n",
       "      <td>119,390.00</td>\n",
       "      <td>119,390.00</td>\n",
       "      <td>119,390.00</td>\n",
       "      <td>119,390.00</td>\n",
       "      <td>119,390.00</td>\n",
       "    </tr>\n",
       "    <tr>\n",
       "      <th>mean</th>\n",
       "      <td>0.37</td>\n",
       "      <td>1.86</td>\n",
       "      <td>0.10</td>\n",
       "      <td>0.01</td>\n",
       "      <td>0.03</td>\n",
       "      <td>0.09</td>\n",
       "      <td>0.14</td>\n",
       "      <td>0.22</td>\n",
       "      <td>2.32</td>\n",
       "      <td>101.83</td>\n",
       "      <td>0.06</td>\n",
       "      <td>0.57</td>\n",
       "      <td>1.66</td>\n",
       "      <td>30.91</td>\n",
       "      <td>30.95</td>\n",
       "      <td>31.66</td>\n",
       "      <td>30.24</td>\n",
       "      <td>36.70</td>\n",
       "      <td>31.97</td>\n",
       "      <td>26.76</td>\n",
       "      <td>4.00</td>\n",
       "      <td>26.81</td>\n",
       "      <td>4.21</td>\n",
       "      <td>24.77</td>\n",
       "      <td>3.60</td>\n",
       "    </tr>\n",
       "    <tr>\n",
       "      <th>std</th>\n",
       "      <td>0.48</td>\n",
       "      <td>0.58</td>\n",
       "      <td>0.40</td>\n",
       "      <td>0.10</td>\n",
       "      <td>0.18</td>\n",
       "      <td>0.84</td>\n",
       "      <td>1.50</td>\n",
       "      <td>0.65</td>\n",
       "      <td>17.59</td>\n",
       "      <td>50.54</td>\n",
       "      <td>0.25</td>\n",
       "      <td>0.79</td>\n",
       "      <td>0.47</td>\n",
       "      <td>26.21</td>\n",
       "      <td>26.54</td>\n",
       "      <td>26.51</td>\n",
       "      <td>26.24</td>\n",
       "      <td>28.27</td>\n",
       "      <td>26.41</td>\n",
       "      <td>13.57</td>\n",
       "      <td>1.95</td>\n",
       "      <td>13.59</td>\n",
       "      <td>2.06</td>\n",
       "      <td>16.30</td>\n",
       "      <td>1.84</td>\n",
       "    </tr>\n",
       "    <tr>\n",
       "      <th>min</th>\n",
       "      <td>0.00</td>\n",
       "      <td>0.00</td>\n",
       "      <td>0.00</td>\n",
       "      <td>0.00</td>\n",
       "      <td>0.00</td>\n",
       "      <td>0.00</td>\n",
       "      <td>0.00</td>\n",
       "      <td>0.00</td>\n",
       "      <td>0.00</td>\n",
       "      <td>-6.38</td>\n",
       "      <td>0.00</td>\n",
       "      <td>0.00</td>\n",
       "      <td>1.00</td>\n",
       "      <td>1.00</td>\n",
       "      <td>0.00</td>\n",
       "      <td>1.00</td>\n",
       "      <td>0.00</td>\n",
       "      <td>1.00</td>\n",
       "      <td>0.00</td>\n",
       "      <td>1.00</td>\n",
       "      <td>1.00</td>\n",
       "      <td>1.00</td>\n",
       "      <td>1.00</td>\n",
       "      <td>1.00</td>\n",
       "      <td>1.00</td>\n",
       "    </tr>\n",
       "    <tr>\n",
       "      <th>25%</th>\n",
       "      <td>0.00</td>\n",
       "      <td>2.00</td>\n",
       "      <td>0.00</td>\n",
       "      <td>0.00</td>\n",
       "      <td>0.00</td>\n",
       "      <td>0.00</td>\n",
       "      <td>0.00</td>\n",
       "      <td>0.00</td>\n",
       "      <td>0.00</td>\n",
       "      <td>69.29</td>\n",
       "      <td>0.00</td>\n",
       "      <td>0.00</td>\n",
       "      <td>1.00</td>\n",
       "      <td>9.00</td>\n",
       "      <td>9.00</td>\n",
       "      <td>10.00</td>\n",
       "      <td>8.00</td>\n",
       "      <td>12.00</td>\n",
       "      <td>10.00</td>\n",
       "      <td>16.00</td>\n",
       "      <td>2.00</td>\n",
       "      <td>16.00</td>\n",
       "      <td>2.00</td>\n",
       "      <td>9.00</td>\n",
       "      <td>2.00</td>\n",
       "    </tr>\n",
       "    <tr>\n",
       "      <th>50%</th>\n",
       "      <td>0.00</td>\n",
       "      <td>2.00</td>\n",
       "      <td>0.00</td>\n",
       "      <td>0.00</td>\n",
       "      <td>0.00</td>\n",
       "      <td>0.00</td>\n",
       "      <td>0.00</td>\n",
       "      <td>0.00</td>\n",
       "      <td>0.00</td>\n",
       "      <td>94.58</td>\n",
       "      <td>0.00</td>\n",
       "      <td>0.00</td>\n",
       "      <td>2.00</td>\n",
       "      <td>24.00</td>\n",
       "      <td>24.00</td>\n",
       "      <td>24.00</td>\n",
       "      <td>23.00</td>\n",
       "      <td>31.00</td>\n",
       "      <td>25.00</td>\n",
       "      <td>27.00</td>\n",
       "      <td>4.00</td>\n",
       "      <td>27.00</td>\n",
       "      <td>4.00</td>\n",
       "      <td>25.00</td>\n",
       "      <td>4.00</td>\n",
       "    </tr>\n",
       "    <tr>\n",
       "      <th>75%</th>\n",
       "      <td>1.00</td>\n",
       "      <td>2.00</td>\n",
       "      <td>0.00</td>\n",
       "      <td>0.00</td>\n",
       "      <td>0.00</td>\n",
       "      <td>0.00</td>\n",
       "      <td>0.00</td>\n",
       "      <td>0.00</td>\n",
       "      <td>0.00</td>\n",
       "      <td>126.00</td>\n",
       "      <td>0.00</td>\n",
       "      <td>1.00</td>\n",
       "      <td>2.00</td>\n",
       "      <td>46.00</td>\n",
       "      <td>48.00</td>\n",
       "      <td>47.00</td>\n",
       "      <td>47.00</td>\n",
       "      <td>55.00</td>\n",
       "      <td>49.00</td>\n",
       "      <td>38.00</td>\n",
       "      <td>6.00</td>\n",
       "      <td>38.00</td>\n",
       "      <td>6.00</td>\n",
       "      <td>40.00</td>\n",
       "      <td>5.00</td>\n",
       "    </tr>\n",
       "    <tr>\n",
       "      <th>max</th>\n",
       "      <td>1.00</td>\n",
       "      <td>55.00</td>\n",
       "      <td>10.00</td>\n",
       "      <td>10.00</td>\n",
       "      <td>1.00</td>\n",
       "      <td>26.00</td>\n",
       "      <td>72.00</td>\n",
       "      <td>21.00</td>\n",
       "      <td>391.00</td>\n",
       "      <td>5,400.00</td>\n",
       "      <td>8.00</td>\n",
       "      <td>5.00</td>\n",
       "      <td>2.00</td>\n",
       "      <td>115.00</td>\n",
       "      <td>114.00</td>\n",
       "      <td>115.00</td>\n",
       "      <td>114.00</td>\n",
       "      <td>115.00</td>\n",
       "      <td>114.00</td>\n",
       "      <td>53.00</td>\n",
       "      <td>7.00</td>\n",
       "      <td>53.00</td>\n",
       "      <td>7.00</td>\n",
       "      <td>53.00</td>\n",
       "      <td>7.00</td>\n",
       "    </tr>\n",
       "  </tbody>\n",
       "</table>\n",
       "</div>"
      ],
      "text/plain": [
       "       IsCanceled     Adults   Children     Babies  IsRepeatedGuest  \\\n",
       "count  119,390.00 119,390.00 119,386.00 119,390.00       119,390.00   \n",
       "mean         0.37       1.86       0.10       0.01             0.03   \n",
       "std          0.48       0.58       0.40       0.10             0.18   \n",
       "min          0.00       0.00       0.00       0.00             0.00   \n",
       "25%          0.00       2.00       0.00       0.00             0.00   \n",
       "50%          0.00       2.00       0.00       0.00             0.00   \n",
       "75%          1.00       2.00       0.00       0.00             0.00   \n",
       "max          1.00      55.00      10.00      10.00             1.00   \n",
       "\n",
       "       PreviousCancellations  PreviousBookingsNotCanceled  BookingChanges  \\\n",
       "count             119,390.00                   119,390.00      119,390.00   \n",
       "mean                    0.09                         0.14            0.22   \n",
       "std                     0.84                         1.50            0.65   \n",
       "min                     0.00                         0.00            0.00   \n",
       "25%                     0.00                         0.00            0.00   \n",
       "50%                     0.00                         0.00            0.00   \n",
       "75%                     0.00                         0.00            0.00   \n",
       "max                    26.00                        72.00           21.00   \n",
       "\n",
       "       DaysInWaitingList        ADR  RequiredCarParkingSpaces  \\\n",
       "count         119,390.00 119,390.00                119,390.00   \n",
       "mean                2.32     101.83                      0.06   \n",
       "std                17.59      50.54                      0.25   \n",
       "min                 0.00      -6.38                      0.00   \n",
       "25%                 0.00      69.29                      0.00   \n",
       "50%                 0.00      94.58                      0.00   \n",
       "75%                 0.00     126.00                      0.00   \n",
       "max               391.00   5,400.00                      8.00   \n",
       "\n",
       "       TotalOfSpecialRequests  HotelNumber  ArrivalDate_DaysBeforeHoliday  \\\n",
       "count              119,390.00   119,390.00                     119,390.00   \n",
       "mean                     0.57         1.66                          30.91   \n",
       "std                      0.79         0.47                          26.21   \n",
       "min                      0.00         1.00                           1.00   \n",
       "25%                      0.00         1.00                           9.00   \n",
       "50%                      0.00         2.00                          24.00   \n",
       "75%                      1.00         2.00                          46.00   \n",
       "max                      5.00         2.00                         115.00   \n",
       "\n",
       "       ArrivalDate_DaysAfterHoliday  DepartureDate_DaysBeforeHoliday  \\\n",
       "count                    119,390.00                       119,390.00   \n",
       "mean                          30.95                            31.66   \n",
       "std                           26.54                            26.51   \n",
       "min                            0.00                             1.00   \n",
       "25%                            9.00                            10.00   \n",
       "50%                           24.00                            24.00   \n",
       "75%                           48.00                            47.00   \n",
       "max                          114.00                           115.00   \n",
       "\n",
       "       DepartureDate_DaysAfterHoliday  BookingDate_DaysBeforeHoliday  \\\n",
       "count                      119,390.00                     119,390.00   \n",
       "mean                            30.24                          36.70   \n",
       "std                             26.24                          28.27   \n",
       "min                              0.00                           1.00   \n",
       "25%                              8.00                          12.00   \n",
       "50%                             23.00                          31.00   \n",
       "75%                             47.00                          55.00   \n",
       "max                            114.00                         115.00   \n",
       "\n",
       "       BookingDate_DaysAfterHoliday  ArrivalDate_WeekNumber  \\\n",
       "count                    119,390.00              119,390.00   \n",
       "mean                          31.97                   26.76   \n",
       "std                           26.41                   13.57   \n",
       "min                            0.00                    1.00   \n",
       "25%                           10.00                   16.00   \n",
       "50%                           25.00                   27.00   \n",
       "75%                           49.00                   38.00   \n",
       "max                          114.00                   53.00   \n",
       "\n",
       "       ArrivalDate_DayOfWeek  DepartureDate_WeekNumber  \\\n",
       "count             119,390.00                119,390.00   \n",
       "mean                    4.00                     26.81   \n",
       "std                     1.95                     13.59   \n",
       "min                     1.00                      1.00   \n",
       "25%                     2.00                     16.00   \n",
       "50%                     4.00                     27.00   \n",
       "75%                     6.00                     38.00   \n",
       "max                     7.00                     53.00   \n",
       "\n",
       "       DepartureDate_DayOfWeek  BookingDate_WeekNumber  BookingDate_DayOfWeek  \n",
       "count               119,390.00              119,390.00             119,390.00  \n",
       "mean                      4.21                   24.77                   3.60  \n",
       "std                       2.06                   16.30                   1.84  \n",
       "min                       1.00                    1.00                   1.00  \n",
       "25%                       2.00                    9.00                   2.00  \n",
       "50%                       4.00                   25.00                   4.00  \n",
       "75%                       6.00                   40.00                   5.00  \n",
       "max                       7.00                   53.00                   7.00  "
      ]
     },
     "execution_count": 71,
     "metadata": {},
     "output_type": "execute_result"
    }
   ],
   "source": [
    "## Numeric Stats\n",
    "data.describe(include = 'number', )"
   ]
  },
  {
   "cell_type": "markdown",
   "metadata": {},
   "source": [
    "---\n",
    "\n",
    "- Outliers present in many features\n",
    "- Outlier detection/removal may be required in preprocessing pipeline for certain model types\n",
    "\n",
    "---"
   ]
  },
  {
   "cell_type": "code",
   "execution_count": 65,
   "metadata": {
    "execution": {
     "iopub.execute_input": "2024-03-29T18:56:54.430916Z",
     "iopub.status.busy": "2024-03-29T18:56:54.429921Z",
     "iopub.status.idle": "2024-03-29T18:56:54.673870Z",
     "shell.execute_reply": "2024-03-29T18:56:54.672950Z",
     "shell.execute_reply.started": "2024-03-29T18:56:54.430916Z"
    }
   },
   "outputs": [
    {
     "data": {
      "text/html": [
       "<div>\n",
       "<style scoped>\n",
       "    .dataframe tbody tr th:only-of-type {\n",
       "        vertical-align: middle;\n",
       "    }\n",
       "\n",
       "    .dataframe tbody tr th {\n",
       "        vertical-align: top;\n",
       "    }\n",
       "\n",
       "    .dataframe thead th {\n",
       "        text-align: right;\n",
       "    }\n",
       "</style>\n",
       "<table border=\"1\" class=\"dataframe\">\n",
       "  <thead>\n",
       "    <tr style=\"text-align: right;\">\n",
       "      <th></th>\n",
       "      <th>count</th>\n",
       "      <th>unique</th>\n",
       "      <th>top</th>\n",
       "      <th>freq</th>\n",
       "    </tr>\n",
       "  </thead>\n",
       "  <tbody>\n",
       "    <tr>\n",
       "      <th>Meal</th>\n",
       "      <td>119390</td>\n",
       "      <td>5</td>\n",
       "      <td>BB</td>\n",
       "      <td>92310</td>\n",
       "    </tr>\n",
       "    <tr>\n",
       "      <th>Country</th>\n",
       "      <td>118902</td>\n",
       "      <td>177</td>\n",
       "      <td>PRT</td>\n",
       "      <td>48590</td>\n",
       "    </tr>\n",
       "    <tr>\n",
       "      <th>MarketSegment</th>\n",
       "      <td>119390</td>\n",
       "      <td>8</td>\n",
       "      <td>Online TA</td>\n",
       "      <td>56477</td>\n",
       "    </tr>\n",
       "    <tr>\n",
       "      <th>DistributionChannel</th>\n",
       "      <td>119390</td>\n",
       "      <td>5</td>\n",
       "      <td>TA/TO</td>\n",
       "      <td>97870</td>\n",
       "    </tr>\n",
       "    <tr>\n",
       "      <th>ReservedRoomType</th>\n",
       "      <td>119390</td>\n",
       "      <td>10</td>\n",
       "      <td>A</td>\n",
       "      <td>85994</td>\n",
       "    </tr>\n",
       "    <tr>\n",
       "      <th>AssignedRoomType</th>\n",
       "      <td>119390</td>\n",
       "      <td>12</td>\n",
       "      <td>A</td>\n",
       "      <td>74053</td>\n",
       "    </tr>\n",
       "    <tr>\n",
       "      <th>DepositType</th>\n",
       "      <td>119390</td>\n",
       "      <td>3</td>\n",
       "      <td>No Deposit</td>\n",
       "      <td>104641</td>\n",
       "    </tr>\n",
       "    <tr>\n",
       "      <th>Agent</th>\n",
       "      <td>119390</td>\n",
       "      <td>334</td>\n",
       "      <td>9</td>\n",
       "      <td>31961</td>\n",
       "    </tr>\n",
       "    <tr>\n",
       "      <th>Company</th>\n",
       "      <td>119390</td>\n",
       "      <td>353</td>\n",
       "      <td>NULL</td>\n",
       "      <td>112593</td>\n",
       "    </tr>\n",
       "    <tr>\n",
       "      <th>CustomerType</th>\n",
       "      <td>119390</td>\n",
       "      <td>4</td>\n",
       "      <td>Transient</td>\n",
       "      <td>89613</td>\n",
       "    </tr>\n",
       "    <tr>\n",
       "      <th>ReservationStatus</th>\n",
       "      <td>119390</td>\n",
       "      <td>3</td>\n",
       "      <td>Check-Out</td>\n",
       "      <td>75166</td>\n",
       "    </tr>\n",
       "    <tr>\n",
       "      <th>UUID</th>\n",
       "      <td>119390</td>\n",
       "      <td>119390</td>\n",
       "      <td>8ca998d6-fae7-4ee4-a706-3765721aaff5</td>\n",
       "      <td>1</td>\n",
       "    </tr>\n",
       "  </tbody>\n",
       "</table>\n",
       "</div>"
      ],
      "text/plain": [
       "                      count  unique                                   top  \\\n",
       "Meal                 119390       5                             BB          \n",
       "Country              118902     177                                   PRT   \n",
       "MarketSegment        119390       8                             Online TA   \n",
       "DistributionChannel  119390       5                                 TA/TO   \n",
       "ReservedRoomType     119390      10                      A                  \n",
       "AssignedRoomType     119390      12                      A                  \n",
       "DepositType          119390       3                       No Deposit        \n",
       "Agent                119390     334                                     9   \n",
       "Company              119390     353                                  NULL   \n",
       "CustomerType         119390       4                             Transient   \n",
       "ReservationStatus    119390       3                             Check-Out   \n",
       "UUID                 119390  119390  8ca998d6-fae7-4ee4-a706-3765721aaff5   \n",
       "\n",
       "                       freq  \n",
       "Meal                  92310  \n",
       "Country               48590  \n",
       "MarketSegment         56477  \n",
       "DistributionChannel   97870  \n",
       "ReservedRoomType      85994  \n",
       "AssignedRoomType      74053  \n",
       "DepositType          104641  \n",
       "Agent                 31961  \n",
       "Company              112593  \n",
       "CustomerType          89613  \n",
       "ReservationStatus     75166  \n",
       "UUID                      1  "
      ]
     },
     "execution_count": 65,
     "metadata": {},
     "output_type": "execute_result"
    }
   ],
   "source": [
    "## Non-Numeric Stats\n",
    "data.describe(exclude = 'number')"
   ]
  },
  {
   "cell_type": "markdown",
   "metadata": {},
   "source": [
    "## Missing Values"
   ]
  },
  {
   "cell_type": "code",
   "execution_count": 68,
   "metadata": {
    "execution": {
     "iopub.execute_input": "2024-03-29T18:59:05.862854Z",
     "iopub.status.busy": "2024-03-29T18:59:05.862854Z",
     "iopub.status.idle": "2024-03-29T18:59:06.079206Z",
     "shell.execute_reply": "2024-03-29T18:59:06.079206Z",
     "shell.execute_reply.started": "2024-03-29T18:59:05.862854Z"
    }
   },
   "outputs": [
    {
     "data": {
      "text/plain": [
       "Children      4\n",
       "Country     488\n",
       "dtype: int64"
      ]
     },
     "execution_count": 68,
     "metadata": {},
     "output_type": "execute_result"
    }
   ],
   "source": [
    "nan_sum = data.isna().sum()\n",
    "nan_sum[nan_sum>0]"
   ]
  },
  {
   "cell_type": "code",
   "execution_count": 70,
   "metadata": {
    "execution": {
     "iopub.execute_input": "2024-03-29T18:59:26.902378Z",
     "iopub.status.busy": "2024-03-29T18:59:26.901372Z",
     "iopub.status.idle": "2024-03-29T18:59:27.115746Z",
     "shell.execute_reply": "2024-03-29T18:59:27.114720Z",
     "shell.execute_reply.started": "2024-03-29T18:59:26.902378Z"
    }
   },
   "outputs": [
    {
     "data": {
      "text/plain": [
       "Children   0.00\n",
       "Country    0.00\n",
       "dtype: float64"
      ]
     },
     "execution_count": 70,
     "metadata": {},
     "output_type": "execute_result"
    }
   ],
   "source": [
    "nan_avg = data.isna().mean()\n",
    "nan_avg[nan_avg>0]"
   ]
  },
  {
   "cell_type": "markdown",
   "metadata": {},
   "source": [
    "---\n",
    "\n",
    "- Two features missing values\n",
    "- Average number of missing values less than 1%\n",
    "- No action taken; will address in model pipeline\n",
    "\n",
    "---"
   ]
  },
  {
   "cell_type": "markdown",
   "metadata": {},
   "source": [
    "# **EDA - Features**"
   ]
  },
  {
   "cell_type": "markdown",
   "metadata": {},
   "source": [
    "---\n",
    "\n",
    "**In-Depth Feature EDA**\n",
    "\n",
    "> Now that I reviewed my missing values and confirmed my datatypes, I will inspect the details of each of my features. For each feature, I will review the summary statistics; the value counts; and the datatype. I will start with my target feature, including my observations and future actions at the end of each feature analysis.\n",
    "\n",
    "**Toggling Visualizations**\n",
    "\n",
    "> There is a simple boolean variable, set at the start of this EDA process, controlling whether to show the visualizations of each feature. By default it is set to show the visualizations. \n",
    ">\n",
    "> **If you experience issues with the Notebook running slowly, please disable the visualizations by changing \"True\" to \"False\" and restarting the kernel.**\n",
    ">\n",
    "> Additionally, you may change the `show_visualization` argument for any feature to show the visualization for that feature. Please be aware that running multiple features may result in very poor notebook performance!\n",
    "\n",
    "---\n",
    "***Styling:***\n",
    "\n",
    "> DataFrame styling code used in `explore_feature()` function adapted from this [source](https://stackoverflow.com/questions/59769161/python-color-pandas-dataframe-based-on-multiindex#:~:text=2-,You,-can%20use%20Styler).\n",
    "\n",
    "---"
   ]
  },
  {
   "cell_type": "markdown",
   "metadata": {},
   "source": [
    "## Toggle Visualizations"
   ]
  },
  {
   "cell_type": "code",
   "execution_count": null,
   "metadata": {
    "ExecuteTime": {
     "end_time": "2022-11-05T17:32:55.006316Z",
     "start_time": "2022-11-05T17:32:54.884278Z"
    }
   },
   "outputs": [],
   "source": [
    "## Boolean setting to control whether to show the EDA visualizations\n",
    "show_visualization = False"
   ]
  },
  {
   "cell_type": "markdown",
   "metadata": {},
   "source": [
    "## `Is_Canceled`"
   ]
  },
  {
   "cell_type": "markdown",
   "metadata": {},
   "source": [
    "---\n",
    "\n",
    "**Starting with the Target**\n",
    "\n",
    "> I will start my EDA process by reviewing the target feature, `is_canceled`.\n",
    "\n",
    "---"
   ]
  },
  {
   "cell_type": "code",
   "execution_count": null,
   "metadata": {
    "ExecuteTime": {
     "end_time": "2022-11-05T17:32:57.363289Z",
     "start_time": "2022-11-05T17:32:55.007315Z"
    }
   },
   "outputs": [],
   "source": [
    "## Reviewing details for 'IsCanceled'\n",
    "eda.explore_feature(data, column_name = 'IsCanceled', target_feature = 'IsCanceled', normalize=False,\n",
    "                    plot_label ='Cancellation Status',\n",
    "                    plot_title= 'Reservation Status',\n",
    "                    show_visualization = True);"
   ]
  },
  {
   "cell_type": "markdown",
   "metadata": {},
   "source": [
    "---\n",
    "\n",
    "**Feature Review**\n",
    "\n",
    "> My target feature, `is_canceled`, shows a binary representation of whether a reservation stayed and checked-out, or if the reservation cancelled. Reservations are indicated as cancellations if they either cancel or are marked as a \"no-show\" reservation.\n",
    "\n",
    "**Actions**\n",
    "\n",
    "> The imbalance between these two classes will create problems during the modeling process. Most models are sensitive to class imbalances; they will erroneously predict the majority class more often, decreasing the accuracy of the models. **In my modeling notebook, I will perform the SMOTE resampling technique to address this imbalance.**\n",
    "\n",
    "---"
   ]
  },
  {
   "cell_type": "markdown",
   "metadata": {},
   "source": [
    "## `Reservation_Status`"
   ]
  },
  {
   "cell_type": "code",
   "execution_count": null,
   "metadata": {
    "ExecuteTime": {
     "end_time": "2022-11-05T17:32:57.597455Z",
     "start_time": "2022-11-05T17:32:57.364819Z"
    }
   },
   "outputs": [],
   "source": [
    "## Reviewing details for reservation_status\n",
    "eda.explore_feature(data,'ReservationStatus', target_feature = 'IsCanceled', \n",
    "                    plot_label ='Status', plot_title= 'Reservation Status',\n",
    "                    show_visualization = show_visualization);"
   ]
  },
  {
   "cell_type": "markdown",
   "metadata": {},
   "source": [
    "---\n",
    "\n",
    "**Feature Review**\n",
    "\n",
    "> `Reservation_status` closely mirrors the values for my target feature, with some slight differences due to \"no-show\" values.\n",
    "\n",
    "**Actions**\n",
    "\n",
    "> As this features is nearly the same as my target, **I will drop this feature.** Additionally, this feature is not known prior to a guest's arrival, lending further support to my decision to remove the feature.\n",
    "\n",
    "---"
   ]
  },
  {
   "cell_type": "markdown",
   "metadata": {},
   "source": [
    "## `Lead_Time`"
   ]
  },
  {
   "cell_type": "code",
   "execution_count": null,
   "metadata": {
    "ExecuteTime": {
     "end_time": "2022-11-05T17:32:57.830154Z",
     "start_time": "2022-11-05T17:32:57.600453Z"
    }
   },
   "outputs": [],
   "source": [
    "## Reviewing details for 'lead_time'\n",
    "eda.explore_feature(data,'LeadTime',target_feature = 'IsCanceled', bins = 5, marginal = 'box',\n",
    "                    plot_label ='Number of Days',\n",
    "                    plot_title= 'Lead Time (Days)',\n",
    "                    show_visualization = show_visualization);"
   ]
  },
  {
   "cell_type": "markdown",
   "metadata": {},
   "source": [
    "---\n",
    "\n",
    "**Feature Review**\n",
    "\n",
    "> `Lead_Time` indicates how far in advance reservations are booked in days. This information is particularly useful in hospitality for Revenue Management and Operations teams.*\n",
    ">\n",
    ">  * Revenue Management set rates for the different room types and manage room type availability. These teams need to know **when to expect bookings** and **which days to monitor rates and availability more closely** to make any necessary changes to optimize revenue.\n",
    ">\n",
    ">\n",
    ">  * Hotel Operations teams use this information to **forecast how many reservations will book in a short-term booking window** (in my experience, I usually focused on 0-3 days prior to arrival).\n",
    ">\n",
    "> * **This forecast is critical to determine staffing and supplies in particular** - when building our schedules, we consider the current number of booked reservations and the forecasted bookings to determine how many staff members to schedule and if we have enough supplies, etc..\n",
    ">  * *Being the only staff member at the Front Desk during a rush of arrivals due to a snow storm is NOT fun!*\n",
    "\n",
    "**Actions**\n",
    "\n",
    "> I noticed half of reservation lead times fall between 9 and 214 days - quite a large range! Additionally, there are some noticeable outliers in the data which may affect my future models. For now, I will leave the data as-is; depending on the models I use, I may include regularization parameters during the modeling process.\n",
    "\n",
    "---"
   ]
  },
  {
   "cell_type": "markdown",
   "metadata": {},
   "source": [
    "## `Arrival_Date_Year`"
   ]
  },
  {
   "cell_type": "code",
   "execution_count": null,
   "metadata": {
    "ExecuteTime": {
     "end_time": "2022-11-05T17:32:58.046541Z",
     "start_time": "2022-11-05T17:32:57.831129Z"
    }
   },
   "outputs": [],
   "source": [
    "## Reviewing details for 'arrival_date_year'\n",
    "eda.explore_feature(data,'ArrivalDateYear',target_feature = 'IsCanceled',\n",
    "                    marginal = 'box',plot_label ='Year',plot_title= 'Arrival Date (Year)',\n",
    "                    show_visualization = show_visualization);"
   ]
  },
  {
   "cell_type": "markdown",
   "metadata": {},
   "source": [
    "---\n",
    "\n",
    "**Feature Review**\n",
    "\n",
    "> While this feature may be useful for future forecasting models, it is not relevant for my classification modeling as these years will not be repeated for future reservations.\n",
    "\n",
    "**Actions**\n",
    "\n",
    "> This feature is not useful for my future modeling, so I will drop this feature at the end of my EDA process.\n",
    "\n",
    "---"
   ]
  },
  {
   "cell_type": "markdown",
   "metadata": {},
   "source": [
    "\n",
    "## `Stays_in_Weekend_Nights`"
   ]
  },
  {
   "cell_type": "code",
   "execution_count": null,
   "metadata": {
    "ExecuteTime": {
     "end_time": "2022-11-05T17:32:58.278078Z",
     "start_time": "2022-11-05T17:32:58.050059Z"
    }
   },
   "outputs": [],
   "source": [
    "## Reviewing details for 'stays_in_weekend_nights'\n",
    "eda.explore_feature(data,'StaysInWeekendNights',target_feature = 'IsCanceled', bins = 5,\n",
    "                    marginal = 'box',\n",
    "                    plot_label ='Number of Days',\n",
    "                    plot_title= 'Lead Time (Days)',\n",
    "                    show_visualization = show_visualization);"
   ]
  },
  {
   "cell_type": "markdown",
   "metadata": {},
   "source": [
    "---\n",
    "\n",
    "**Feature Review**\n",
    "\n",
    "> Similar to `lead_time`, this feature shows most values are within a small window of time, with a few rare outliers (less than 2%).\n",
    "\n",
    "**Actions**\n",
    "\n",
    "> I will leave this feature as-is for now; future regularization would address this issue if needed.\n",
    "\n",
    "---"
   ]
  },
  {
   "cell_type": "markdown",
   "metadata": {},
   "source": [
    "## `Stays_in_Week_Nights`"
   ]
  },
  {
   "cell_type": "code",
   "execution_count": null,
   "metadata": {
    "ExecuteTime": {
     "end_time": "2022-11-05T17:32:58.479975Z",
     "start_time": "2022-11-05T17:32:58.279076Z"
    }
   },
   "outputs": [],
   "source": [
    "## Reviewing details for 'stays_in_week_nights'\n",
    "eda.explore_feature(data,'StaysInWeekNights',target_feature = 'IsCanceled', bins = 5,\n",
    "                    marginal = 'box',\n",
    "                    plot_label ='Number of Prior Stays',\n",
    "                    plot_title= 'Stays in Week Nights',\n",
    "                    show_visualization = show_visualization);"
   ]
  },
  {
   "cell_type": "markdown",
   "metadata": {},
   "source": [
    "---\n",
    "\n",
    "**Feature Review**\n",
    "\n",
    "> Similar to `stays_in_weekend_nights`, this feature shows most values are within a small window of time, with a few rare outliers (less than 2%).\n",
    "\n",
    "**Actions**\n",
    "\n",
    "> I will leave this feature as-is for now; future regularization would address this issue if needed.\n",
    "\n",
    "---"
   ]
  },
  {
   "cell_type": "markdown",
   "metadata": {},
   "source": [
    "## `Adults`"
   ]
  },
  {
   "cell_type": "code",
   "execution_count": null,
   "metadata": {
    "ExecuteTime": {
     "end_time": "2022-11-05T17:32:58.728998Z",
     "start_time": "2022-11-05T17:32:58.484630Z"
    }
   },
   "outputs": [],
   "source": [
    "## Reviewing details 'adults'\n",
    "eda.explore_feature(data,'Adults',target_feature = 'IsCanceled', bins = 3,\n",
    "                    plot_label ='Number of Adults',\n",
    "                    plot_title= 'Adults',\n",
    "                    show_visualization = show_visualization);"
   ]
  },
  {
   "cell_type": "markdown",
   "metadata": {},
   "source": [
    "---\n",
    "\n",
    "**Feature Review**\n",
    "\n",
    "> `Adults` refers to the number of adults listed on the reservation. In my experience, this feature is not often the most accurate to real-life (I would see \"1 Adult\" as the default, but I may have three or four people sharing a room, for example). Still, I feel the values are reasonable enough to include for analysis.\n",
    "\n",
    "**Actions**\n",
    "\n",
    "> No action required.\n",
    "\n",
    "---"
   ]
  },
  {
   "cell_type": "markdown",
   "metadata": {},
   "source": [
    "## `Children`"
   ]
  },
  {
   "cell_type": "code",
   "execution_count": null,
   "metadata": {
    "ExecuteTime": {
     "end_time": "2022-11-05T17:32:58.945598Z",
     "start_time": "2022-11-05T17:32:58.732984Z"
    }
   },
   "outputs": [],
   "source": [
    "## Reviewing details for 'children'\n",
    "eda.explore_feature(data,'Children',target_feature = 'IsCanceled', bins = 5,\n",
    "                    plot_label ='Number of Children',\n",
    "                    plot_title= 'Children',\n",
    "                    show_visualization = show_visualization);"
   ]
  },
  {
   "cell_type": "markdown",
   "metadata": {},
   "source": [
    "---\n",
    "\n",
    "**Feature Review**\n",
    "\n",
    "> `Children` refers to the number of children listed on the reservation. As in the case of `adults`, in my experience this feature does not match with reality, but I will keep it in case it may show value.\n",
    "\n",
    "**Actions**\n",
    "\n",
    "> No action required.\n",
    "\n",
    "---"
   ]
  },
  {
   "cell_type": "markdown",
   "metadata": {},
   "source": [
    "## `Babies`"
   ]
  },
  {
   "cell_type": "code",
   "execution_count": null,
   "metadata": {
    "ExecuteTime": {
     "end_time": "2022-11-05T17:32:59.193118Z",
     "start_time": "2022-11-05T17:32:58.949509Z"
    }
   },
   "outputs": [],
   "source": [
    "## Reviewing details - 'babies'\n",
    "eda.explore_feature(data,'Babies',target_feature = 'IsCanceled', bins = 5,\n",
    "                    plot_label ='Number of Babies',\n",
    "                    plot_title= 'Babies',\n",
    "                    show_visualization = show_visualization);"
   ]
  },
  {
   "cell_type": "markdown",
   "metadata": {},
   "source": [
    "---\n",
    "\n",
    "**Feature Review**\n",
    "\n",
    "> `Babies` refers to the number of children listed on the reservation. As in the case of `adults`, in my experience this feature does not match with reality, but I will keep it in case it may show value.\n",
    "\n",
    "**Actions**\n",
    "\n",
    "> No action required.\n",
    "\n",
    "---"
   ]
  },
  {
   "cell_type": "markdown",
   "metadata": {},
   "source": [
    "## `Meal`"
   ]
  },
  {
   "cell_type": "code",
   "execution_count": null,
   "metadata": {
    "ExecuteTime": {
     "end_time": "2022-11-05T17:32:59.425335Z",
     "start_time": "2022-11-05T17:32:59.195629Z"
    }
   },
   "outputs": [],
   "source": [
    "## Reviewing details for - 'Meal'\n",
    "eda.explore_feature(data,'Meal',target_feature = 'IsCanceled', \n",
    "                    plot_label ='Types of Meal',\n",
    "                    plot_title= 'Meal',show_visualization = show_visualization);"
   ]
  },
  {
   "cell_type": "markdown",
   "metadata": {},
   "source": [
    "---\n",
    "\n",
    "**Feature Review**\n",
    "\n",
    "> `Meal` represents the type of Meal included with the reservation booking. Per the data dictionary, the categories are:\n",
    "* \"Undefined/SC – no Meal package\"\n",
    "* \"BB – Bed & Breakfast\"\n",
    "* \"HB – Half board (breakfast and one other Meal – usually dinner)\"\n",
    "* \"FB – Full board (breakfast, lunch and dinner)\"\n",
    "\n",
    "**Actions**\n",
    "\n",
    "> I will condense the \"Undefined/SC\" values into one category as they are representative of the same information.\n",
    "\n",
    "---"
   ]
  },
  {
   "cell_type": "markdown",
   "metadata": {},
   "source": [
    "## `Country`"
   ]
  },
  {
   "cell_type": "code",
   "execution_count": null,
   "metadata": {
    "ExecuteTime": {
     "end_time": "2022-11-05T17:32:59.672577Z",
     "start_time": "2022-11-05T17:32:59.427334Z"
    },
    "scrolled": true
   },
   "outputs": [],
   "source": [
    "## Reviewing details for 'Country'\n",
    "eda.explore_feature(data,'Country',target_feature = 'IsCanceled', \n",
    "                    marginal = 'box',normalize=True,\n",
    "                    plot_label ='Country',\n",
    "                    plot_title= 'Country',\n",
    "                    show_visualization = show_visualization);"
   ]
  },
  {
   "cell_type": "code",
   "execution_count": null,
   "metadata": {
    "ExecuteTime": {
     "end_time": "2022-11-05T17:32:59.826832Z",
     "start_time": "2022-11-05T17:32:59.674085Z"
    }
   },
   "outputs": [],
   "source": [
    "## Inspecting top 10 countries\n",
    "data['Country'].value_counts(1, ascending=False)[:10]"
   ]
  },
  {
   "cell_type": "markdown",
   "metadata": {},
   "source": [
    "---\n",
    "\n",
    "**Feature Review**\n",
    "\n",
    "> `Country` represents the, \"Country of origin. Categories are represented in the ISO 3155–3:2013 format,\" per the data dictionary. I noticed that most values are assocaited with PRT - Portugal and Western Europe, which leads me to believe these hotels may be based in Portugal. \n",
    "\n",
    "**Actions**\n",
    "\n",
    "> Due to the large diversity of countries represented on the reservations, I would like to condense the values similarly to the `Agent` feature to best represent the values. I would split the data at a threshold of 5% or less, resulting in an \"Other\" category of about 27% of the data.\n",
    "\n",
    "---"
   ]
  },
  {
   "cell_type": "markdown",
   "metadata": {},
   "source": [
    "## `Market_Segment`"
   ]
  },
  {
   "cell_type": "code",
   "execution_count": null,
   "metadata": {
    "ExecuteTime": {
     "end_time": "2022-11-05T17:33:00.043365Z",
     "start_time": "2022-11-05T17:32:59.828827Z"
    }
   },
   "outputs": [],
   "source": [
    "## Reviewing details for - 'market_segment'\n",
    "eda.explore_feature(data,'MarketSegment',target_feature = 'IsCanceled', marginal = 'box',\n",
    "                    plot_label ='Market Segment',\n",
    "                    plot_title= 'Market Segment',\n",
    "                    show_visualization = show_visualization);"
   ]
  },
  {
   "cell_type": "markdown",
   "metadata": {},
   "source": [
    "---\n",
    "\n",
    "**Feature Review**\n",
    "\n",
    "> Market_Segment` represents the \"market segment designation,\" per the feature dictionary. In simple terms, they are distinct categories of reservations representing the different markets:\n",
    "* Guests who are part of a group booking (usually via on-site Sales teams) are considered \"Groups\"\n",
    "* \"Online TA/TO\" would refer to booking groups such as Expedia, Priceline, etc.\n",
    "* \"Corporate\" bookings would be rates negotiated with certain companies with different benefits, such as lower rates; complimentary Meals; etc..\n",
    "\n",
    "**Actions**\n",
    "\n",
    "> I noticed the \"Undefined\" category shows less than 1% of values. I will drop rows that include that feature as they are such a small number.\n",
    " \n",
    "---"
   ]
  },
  {
   "cell_type": "markdown",
   "metadata": {},
   "source": [
    "## `Distribution_Channel`"
   ]
  },
  {
   "cell_type": "code",
   "execution_count": null,
   "metadata": {
    "ExecuteTime": {
     "end_time": "2022-11-05T17:33:00.257768Z",
     "start_time": "2022-11-05T17:33:00.046424Z"
    }
   },
   "outputs": [],
   "source": [
    "## Reviewing details for 'distribution_channel'\n",
    "eda.explore_feature(data,'DistributionChannel',target_feature = 'IsCanceled', \n",
    "                    marginal = 'box',\n",
    "                    plot_label ='Distribution Channel',\n",
    "                    plot_title= 'Distribution Channel',\n",
    "                    show_visualization = show_visualization);"
   ]
  },
  {
   "cell_type": "markdown",
   "metadata": {},
   "source": [
    "---\n",
    "\n",
    "**Feature Review**\n",
    "\n",
    "> The `Distribution_Channel` feature closely matches the values in the `market_segment` feature. Distribution channels are the means by which reservations are booked and are often the same as the market segment categories, in my experience.\n",
    "\n",
    "**Actions**\n",
    "\n",
    "> I will drop this feature as I feel it does not add more value versus the `market_segment` feature.\n",
    " \n",
    "---"
   ]
  },
  {
   "cell_type": "markdown",
   "metadata": {},
   "source": [
    "## `Is_Repeated_Guest`"
   ]
  },
  {
   "cell_type": "code",
   "execution_count": null,
   "metadata": {
    "ExecuteTime": {
     "end_time": "2022-11-05T17:33:00.459106Z",
     "start_time": "2022-11-05T17:33:00.259766Z"
    }
   },
   "outputs": [],
   "source": [
    "## Reviewing details for 'is_repeated_guest'\n",
    "eda.explore_feature(data,'IsRepeatedGuest',target_feature = 'IsCanceled', \n",
    "                    plot_label =' Repeat Guest',\n",
    "                    plot_title= ' Repeat Guest',\n",
    "                    show_visualization = show_visualization);"
   ]
  },
  {
   "cell_type": "markdown",
   "metadata": {},
   "source": [
    "---\n",
    "\n",
    "**Feature Review**\n",
    "\n",
    "> It is clear that nearly all guests are new, non-repeat guests at these hotels. In my personal experience, I find this unusual; my hotels had regular guests who would come in for work; to see nearby family; or visiting the area for leisure and recreation.\n",
    "\n",
    "**Actions**\n",
    "\n",
    "> This feature is unique to every property, so I will keep the features to maintain generalizability for other hotels.\n",
    " \n",
    "---"
   ]
  },
  {
   "cell_type": "markdown",
   "metadata": {},
   "source": [
    "## `Previous_Cancellations`"
   ]
  },
  {
   "cell_type": "code",
   "execution_count": null,
   "metadata": {
    "ExecuteTime": {
     "end_time": "2022-11-05T17:33:00.675946Z",
     "start_time": "2022-11-05T17:33:00.461095Z"
    }
   },
   "outputs": [],
   "source": [
    "## Reviewing details for 'previous_cancellations'\n",
    "eda.explore_feature(data,'PreviousCancellations',target_feature = 'IsCanceled', bins = 5,\n",
    "                    plot_label ='Number of Cancellations',\n",
    "                    plot_title= 'Previous Cancellations',\n",
    "                    show_visualization = show_visualization);"
   ]
  },
  {
   "cell_type": "markdown",
   "metadata": {},
   "source": [
    "---\n",
    "\n",
    "**Feature Review**\n",
    "\n",
    "> There are very few reservations with a history of past cancellations. This is unsurprising as most reservations are new guests who did not stay at the hotel previously.\n",
    "\n",
    "**Actions**\n",
    "\n",
    "> This feature is unique to every property, so I will keep the features to maintain generalizability for other hotels.\n",
    " \n",
    "---"
   ]
  },
  {
   "cell_type": "markdown",
   "metadata": {},
   "source": [
    "## `Previous_Bookings_Not_Canceled`"
   ]
  },
  {
   "cell_type": "code",
   "execution_count": null,
   "metadata": {
    "ExecuteTime": {
     "end_time": "2022-11-05T17:33:00.906617Z",
     "start_time": "2022-11-05T17:33:00.677940Z"
    }
   },
   "outputs": [],
   "source": [
    "## Reviewing details for 'previous_bookings_not_canceled'\n",
    "eda.explore_feature(data,'PreviousBookingsNotCanceled',target_feature = 'IsCanceled', \n",
    "                    bins = 5,marginal = 'box',\n",
    "                    plot_label ='Number of Bookings Not Canceled',\n",
    "                    plot_title= 'Previous Bookings Not Canceled',\n",
    "                    show_visualization = show_visualization);"
   ]
  },
  {
   "cell_type": "markdown",
   "metadata": {},
   "source": [
    "---\n",
    "\n",
    "**Feature Review**\n",
    "\n",
    "> There are very few reservations with a history of past reservations not cancelled. This matches with the `previous_cancellations` and `is_repeated_guest` features as a representation of guest stay patterns/history.\n",
    "\n",
    "**Actions**\n",
    "\n",
    "> While this feature may have higher multicollinearity with the `previous_cancellations` and `is_repeated_guest` features, I will keep it for now. If multicollinearity is an issue for future models, I will drop one or more of these features.\n",
    " \n",
    "---"
   ]
  },
  {
   "cell_type": "markdown",
   "metadata": {},
   "source": [
    "## `Reserved_Room_Type`"
   ]
  },
  {
   "cell_type": "code",
   "execution_count": null,
   "metadata": {
    "ExecuteTime": {
     "end_time": "2022-11-05T17:33:01.137245Z",
     "start_time": "2022-11-05T17:33:00.908628Z"
    }
   },
   "outputs": [],
   "source": [
    "## Reviewing details for - 'reserved_room_type'\n",
    "eda.explore_feature(data,'ReservedRoomType',\n",
    "                    target_feature = 'IsCanceled', \n",
    "                    plot_label ='Reserved Toom Type',\n",
    "                    plot_title= 'Reserved Toom Type',\n",
    "                    show_visualization = show_visualization);"
   ]
  },
  {
   "cell_type": "markdown",
   "metadata": {},
   "source": [
    "---\n",
    "\n",
    "**Feature Review**\n",
    "\n",
    "> This feature is very unique in this dataset as is hard to interpret any specific details about the room type features. We only know that these are unique room types; we do not know if they are standard, upgraded, or suite-style rooms. Different room types/levels may be associated with different guests/rates/etc., which would give more insight to a specific hotel.\n",
    "\n",
    "**Actions**\n",
    "\n",
    "> Despite the anonymity and lack of depth in this feature, it is still very important in my opinion for generalizability. I will leave this feature as-is.\n",
    " \n",
    "---"
   ]
  },
  {
   "cell_type": "markdown",
   "metadata": {},
   "source": [
    "## `Assigned_Room_Type`"
   ]
  },
  {
   "cell_type": "markdown",
   "metadata": {},
   "source": [
    "---\n",
    "\n",
    "**City**\n",
    "\n",
    "---"
   ]
  },
  {
   "cell_type": "code",
   "execution_count": null,
   "metadata": {
    "ExecuteTime": {
     "end_time": "2022-11-05T17:33:01.354111Z",
     "start_time": "2022-11-05T17:33:01.139234Z"
    }
   },
   "outputs": [],
   "source": [
    "## Reviewing details for 'assigned_room_type'\n",
    "eda.explore_feature(data,'AssignedRoomType',\n",
    "                    target_feature = 'IsCanceled', \n",
    "                    plot_label ='Assigned Room Type',\n",
    "                    plot_title= 'Assigned Room Type',\n",
    "                    show_visualization = show_visualization);"
   ]
  },
  {
   "cell_type": "markdown",
   "metadata": {},
   "source": [
    "---\n",
    "\n",
    "**Feature Review**\n",
    "\n",
    "> I have some mixed feelings about whether to keep this feature. \n",
    "* One argument in favor of dropping it would be that room types are \"assigned\" during registration at the hotel; this information would not be available prior to arrival.\n",
    "* A counter-argument would be that the hotel may change room types in advance of the guest's arrival (such as upgrades/downgrades, guest requesting different room types, etc.) and is a valid feature.\n",
    ">\n",
    "The feature dictionary defines this feature as:\n",
    "> \"Code for the type of room assigned to the booking. Sometimes the assigned room type differs from the reserved room type due to hotel operation reasons (e.g. overbooking) or by customer request. Code is presented instead of designation for anonymity reasons.\"\n",
    "\n",
    "**Actions**\n",
    "\n",
    "> I will keep this feature with the assumption that this information is available prior to arrival and would reflect whether the room type assigned to the reservation would match the room type initially booked.\n",
    " \n",
    "---"
   ]
  },
  {
   "cell_type": "markdown",
   "metadata": {},
   "source": [
    "## `Booking_Changes`"
   ]
  },
  {
   "cell_type": "code",
   "execution_count": null,
   "metadata": {
    "ExecuteTime": {
     "end_time": "2022-11-05T17:33:01.588265Z",
     "start_time": "2022-11-05T17:33:01.355048Z"
    }
   },
   "outputs": [],
   "source": [
    "## Reviewing details for 'booking_changes'\n",
    "eda.explore_feature(data,'BookingChanges',bins = 5,\n",
    "                    target_feature = 'IsCanceled', \n",
    "                    plot_label ='booking_changes',\n",
    "                    plot_title= 'booking_changes',\n",
    "                    show_visualization = show_visualization);"
   ]
  },
  {
   "cell_type": "markdown",
   "metadata": {},
   "source": [
    "---\n",
    "\n",
    "**Feature Review**\n",
    "\n",
    "> This feature represents the number of reservation changes between the initial booking and the time of arrival/cancellation. **In my personal experience, this feature could mis-represent the changes initiated by guests, as my systems would record *any* changes.** I would often perform many updates to reservations during our pre-arrival processes, including assigning room types; adding comments or special requests; etc..\n",
    ">\n",
    "> **Such changes could result in results that do not represent the number of guest-initiated changes.** One way to address such an issue would be to compare the average number of changes, with the assumption that most reservations would have a larger number of changes due to pre-arrival processes.\n",
    "\n",
    "**Actions**\n",
    "\n",
    "> I will keep this feature as-is with the caveat that other hotels may need to handle this feature differently based on their processes for handling reservation updates.\n",
    " \n",
    "---"
   ]
  },
  {
   "cell_type": "markdown",
   "metadata": {},
   "source": [
    "## `Deposit_Type`"
   ]
  },
  {
   "cell_type": "code",
   "execution_count": null,
   "metadata": {
    "ExecuteTime": {
     "end_time": "2022-11-05T17:33:01.806021Z",
     "start_time": "2022-11-05T17:33:01.589263Z"
    }
   },
   "outputs": [],
   "source": [
    "## Reviewing details for 'deposit_type'\n",
    "eda.explore_feature(data,'DepositType',target_feature = 'IsCanceled', \n",
    "                    normalize=False,\n",
    "                    plot_label ='Deposit Type',\n",
    "                    plot_title= 'Deposit Type',\n",
    "                    show_visualization = show_visualization);"
   ]
  },
  {
   "cell_type": "markdown",
   "metadata": {},
   "source": [
    "---\n",
    "\n",
    "**Feature Review**\n",
    "\n",
    "> This feature is particularly intriguing to me, as it represents whether a guest pre-paid the reservation prior to arrival. My initial assumption would be that guests who pre-pay are less likely to cancel. However, I see **there are a signficant number of canceled reservations that are non-refundable, while most check-out reservations did not require a deposit.**\n",
    ">\n",
    "> My personal understanding/rationalization would be that these non-refundable reservations would be booked through a travel agency that would require pre-payment at the time of booking. On the hotel-side, we consider such reservations to be non-refundable, but we were usually flexible with cancellations and would refund pre-payments. **If guests are able to cancel without being charged regardless of any pre-payments, it would make sense that there would be so many non-refundable cancellations.**\n",
    "\n",
    "**Actions**\n",
    "\n",
    "> I will keep this feature as-is with the assumption that the hotel would be flexible with refunds. This assumption could dimish the value/impact of this feature, however, as non-refundable reservations could be considered as \"no-deposit.\" Still, it is a distinguishing characteristic to be considered.\n",
    " \n",
    "---"
   ]
  },
  {
   "cell_type": "markdown",
   "metadata": {},
   "source": [
    "## `Days_in_Waiting_List`"
   ]
  },
  {
   "cell_type": "code",
   "execution_count": null,
   "metadata": {
    "ExecuteTime": {
     "end_time": "2022-11-05T17:33:02.050584Z",
     "start_time": "2022-11-05T17:33:01.808015Z"
    }
   },
   "outputs": [],
   "source": [
    "## Reviewing details for 'days_in_waiting_list'\n",
    "eda.explore_feature(data,'DaysInWaitingList',target_feature = 'IsCanceled', bins = 5,\n",
    "                    plot_label ='Days in Waiting List',\n",
    "                    plot_title= 'Days in Waiting List',\n",
    "                    show_visualization = show_visualization);"
   ]
  },
  {
   "cell_type": "markdown",
   "metadata": {},
   "source": [
    "---\n",
    "\n",
    "**Feature Review**\n",
    "\n",
    "> I am not surprised that most reservations do not spend any time on a wait-list. In my experience, my hotels did not have a wait-list for reservations. Availability was on a \"first come, first served\" basis and we would instruct guests to check our availability at a later time if we were sold out.\n",
    "\n",
    "**Actions**\n",
    "\n",
    "> I will keep this feature as-is, but I do not expect it to be very valuable for my modeling due to most reservations showing 0-days on a wait list.\n",
    " \n",
    "---"
   ]
  },
  {
   "cell_type": "markdown",
   "metadata": {},
   "source": [
    "## `Customer_Type`"
   ]
  },
  {
   "cell_type": "code",
   "execution_count": null,
   "metadata": {
    "ExecuteTime": {
     "end_time": "2022-11-05T17:33:02.296096Z",
     "start_time": "2022-11-05T17:33:02.051580Z"
    }
   },
   "outputs": [],
   "source": [
    "## Reviewing details for 'customer_type'\n",
    "eda.explore_feature(data,'CustomerType',\n",
    "                    target_feature = 'IsCanceled', \n",
    "                    marginal = 'box',\n",
    "                    plot_label ='Customer Type',\n",
    "                    plot_title= 'Customer Type',\n",
    "                    show_visualization = show_visualization);"
   ]
  },
  {
   "cell_type": "markdown",
   "metadata": {},
   "source": [
    "---\n",
    "\n",
    "**Feature Review**\n",
    "\n",
    "> The `Customer Type` feature is closely related to the `market_segment` and `distribution_channel` features as all of their categories are similar. However, this feature includes a \"transient-party\" category, indicating that these guests would be associated with other transient reservations. I did not have such indicators with my prior reservation systems, so I am curious to see its impact on my models. \n",
    "\n",
    "**Actions**\n",
    "\n",
    "> I will keep this feature as-is. It may not be strongly generalizable to other hotels, but my models will be able to handle any multi-collinearity issues between this feature and the other marketing/distribution features.\n",
    " \n",
    "---"
   ]
  },
  {
   "cell_type": "markdown",
   "metadata": {},
   "source": [
    "## `ADR`"
   ]
  },
  {
   "cell_type": "code",
   "execution_count": null,
   "metadata": {
    "ExecuteTime": {
     "end_time": "2022-11-05T17:33:02.512379Z",
     "start_time": "2022-11-05T17:33:02.298088Z"
    }
   },
   "outputs": [],
   "source": [
    "## Reviewing details for 'adr'\n",
    "eda.explore_feature(data ,'ADR',target_feature = 'IsCanceled', \n",
    "bins = 5,\n",
    "                    plot_label ='ADR (€)',\n",
    "                    plot_title= 'ADR (€)',\n",
    "                    show_visualization = show_visualization);"
   ]
  },
  {
   "cell_type": "markdown",
   "metadata": {},
   "source": [
    "---\n",
    "\n",
    "**Feature Review**\n",
    "\n",
    "> ADR is an acronym for \"average daily rate,\" a summary of how much a guest would pay for each day of their stay. ADR is one of three major metrics for hotel performance and (in my experience) is a valuable indicator of whether a reservation will stay or not when paired with other features such as marketing details or pre-payment requirements.\n",
    ">\n",
    "> I am intrigued by the value counts for the cancellations due to the significant outlier values in the thousands of dollars. I would not expect such a high ADR for most properties; the extreme price helps explain why it was cancelled.\n",
    "\n",
    "**Actions**\n",
    "\n",
    "> I will keep this feature as-is.\n",
    " \n",
    "---"
   ]
  },
  {
   "cell_type": "markdown",
   "metadata": {},
   "source": [
    "## `Required_Car_Parking_Spaces`"
   ]
  },
  {
   "cell_type": "code",
   "execution_count": null,
   "metadata": {
    "ExecuteTime": {
     "end_time": "2022-11-05T17:33:02.729843Z",
     "start_time": "2022-11-05T17:33:02.513371Z"
    }
   },
   "outputs": [],
   "source": [
    "## Reviewing details for 'required_car_parking_spaces'\n",
    "eda.explore_feature(data,'RequiredCarParkingSpaces',target_feature = 'IsCanceled', \n",
    "bins = 5,\n",
    "                    plot_label ='Required Car Parking Spaces',\n",
    "                    plot_title= 'Required Car Parking Spaces',\n",
    "                    show_visualization = show_visualization);"
   ]
  },
  {
   "cell_type": "markdown",
   "metadata": {},
   "source": [
    "---\n",
    "\n",
    "**Feature Review**\n",
    "\n",
    "> Similar to the `assigned_room_type` feature, **I have mixed feelings about whether to keep this feature.** In my experience, it is rare for a reservation to indicate how many cars they will park; usually it is confirmed at registration. However, there are times when I do have this information, and so **I believe it is possible for hotels to have this information prior to arrival.**\n",
    "\n",
    "**Actions**\n",
    "\n",
    "> **I will keep this feature with the assumption that the information is available prior to arrival.** If this feature is included in my top results post-modeling, I will reconsider whether or not to keep the feature.\n",
    " \n",
    "---"
   ]
  },
  {
   "cell_type": "markdown",
   "metadata": {},
   "source": [
    "## `Total_of_Special_Requests`"
   ]
  },
  {
   "cell_type": "code",
   "execution_count": null,
   "metadata": {
    "ExecuteTime": {
     "end_time": "2022-11-05T17:33:02.960168Z",
     "start_time": "2022-11-05T17:33:02.731794Z"
    }
   },
   "outputs": [],
   "source": [
    "## Reviewing details for 'total_of_special_requests'\n",
    "eda.explore_feature(data,'TotalOfSpecialRequests',target_feature = 'IsCanceled', bins = 5,\n",
    "                    marginal = 'box',\n",
    "                    plot_label ='Total of Special Requests',\n",
    "                    plot_title= 'Total of Special Requests',\n",
    "                    show_visualization = show_visualization);"
   ]
  },
  {
   "cell_type": "markdown",
   "metadata": {},
   "source": [
    "---\n",
    "\n",
    "**Feature Review**\n",
    "\n",
    "> I can interpret this feature in two ways, personally. My hotels had \"special requests\" as well as \"comments,\" which would often overlap. They were distinct information respectively, but often I had special requests that were noted in the \"comments\" field. I assume this feature represents all special requests (in my case, it would include all unique requests for both fields).\n",
    ">\n",
    "> I am not surprised that canceled reservations have fewer special requests. In my experience, guests who provide a larger number of requests are more committed to their plans.\n",
    "\n",
    "**Actions**\n",
    "\n",
    "> I will keep this feature with the assumption mentioned above.\n",
    " \n",
    "---"
   ]
  },
  {
   "cell_type": "markdown",
   "metadata": {},
   "source": [
    "## `Reservation_Status_Date`"
   ]
  },
  {
   "cell_type": "code",
   "execution_count": null,
   "metadata": {
    "ExecuteTime": {
     "end_time": "2022-11-05T17:33:03.114176Z",
     "start_time": "2022-11-05T17:33:02.962121Z"
    }
   },
   "outputs": [],
   "source": [
    "## Converting from \"string\" to \"datetime\" data type for statistical analysis\n",
    "data['ReservationStatusDate'].dtypes"
   ]
  },
  {
   "cell_type": "code",
   "execution_count": null,
   "metadata": {
    "ExecuteTime": {
     "end_time": "2022-11-05T17:33:03.331569Z",
     "start_time": "2022-11-05T17:33:03.116040Z"
    }
   },
   "outputs": [],
   "source": [
    "data['ReservationStatusDate'] = pd.to_datetime\\\n",
    "                                             (data['ReservationStatusDate'])\n",
    "data['ReservationStatusDate']"
   ]
  },
  {
   "cell_type": "code",
   "execution_count": null,
   "metadata": {
    "ExecuteTime": {
     "end_time": "2022-11-05T17:33:03.561910Z",
     "start_time": "2022-11-05T17:33:03.332568Z"
    }
   },
   "outputs": [],
   "source": [
    "## Reviewing details for 'reservation_status_date'\n",
    "eda.explore_feature(data,'ReservationStatusDate',target_feature = 'IsCanceled', marginal = 'box',\n",
    "                    bins=3, plot_label ='Reservation Status Date',\n",
    "                    plot_title= 'Reservation Status Date',\n",
    "                    show_visualization = show_visualization);"
   ]
  },
  {
   "cell_type": "markdown",
   "metadata": {},
   "source": [
    "---\n",
    "\n",
    "**Feature Review**\n",
    "\n",
    "> The `reservation_status_date` represents the, \"date at which the last status was set,\" per the feature dictionary.\n",
    "\n",
    "**Actions**\n",
    "\n",
    "> I do not feel that this feature adds any substantial information for my modeling, and so I will drop it.\n",
    " \n",
    "---"
   ]
  },
  {
   "cell_type": "markdown",
   "metadata": {},
   "source": [
    "## `Agent`"
   ]
  },
  {
   "cell_type": "code",
   "execution_count": null,
   "metadata": {
    "ExecuteTime": {
     "end_time": "2022-11-05T17:33:03.794450Z",
     "start_time": "2022-11-05T17:33:03.562906Z"
    },
    "scrolled": true
   },
   "outputs": [],
   "source": [
    "## Reviewing details for 'Agent_group'\n",
    "eda.explore_feature(data,'Agent',target_feature = 'IsCanceled', plot_label ='Booking Agent ID',\n",
    "                    plot_title= 'Agent IDs', show_visualization = show_visualization);"
   ]
  },
  {
   "cell_type": "code",
   "execution_count": null,
   "metadata": {
    "ExecuteTime": {
     "end_time": "2022-11-05T17:33:03.965249Z",
     "start_time": "2022-11-05T17:33:03.795846Z"
    }
   },
   "outputs": [],
   "source": [
    "## Calculating number of unique values in \"Agent\"\n",
    "data['Agent'].nunique()"
   ]
  },
  {
   "cell_type": "markdown",
   "metadata": {},
   "source": [
    "---\n",
    "\n",
    "**Feature Review**\n",
    "\n",
    "> The `Agent` feature represents the unique IDs for each booking Agent/group on most reservations. I noticed 14% of the reservations do not have a value associated with them, and there are 333 unique IDs otherwise. This is a similar situation to the \"Country\" feature, in that I will need to condense these values to ascertain the most meaningful information and to prevent adding 333 additional one-hot-encoded columns later on.\n",
    "\n",
    "**Actions**\n",
    "\n",
    "> I will need to condense these values down into a smaller subset of values representing a selection of top-producing Agents by percent; the number of reservations without an Agent ID; and then the remaining Agents as an \"Other\" aggregate category. Additionally, I will need to convert these values from a float to a string value for modeling.\n",
    " \n",
    "---"
   ]
  },
  {
   "cell_type": "markdown",
   "metadata": {},
   "source": [
    "#  **Post-EDA Updates**"
   ]
  },
  {
   "cell_type": "markdown",
   "metadata": {},
   "source": [
    "---\n",
    "\n",
    "**Feature Changes and Engineering**\n",
    "\n",
    "> After reviewing all of the features and their statistics, I noticed a few things needed to change. \n",
    "\n",
    "**These Changes Include:**\n",
    ">* Condensing specific features\n",
    "* Engineering new features\n",
    "* Dropping duplicated/unnecessary features\n",
    "\n",
    "---"
   ]
  },
  {
   "cell_type": "markdown",
   "metadata": {},
   "source": [
    "## Condensing Features"
   ]
  },
  {
   "cell_type": "markdown",
   "metadata": {},
   "source": [
    "### Condensing `Meal`"
   ]
  },
  {
   "cell_type": "markdown",
   "metadata": {},
   "source": [
    "---\n",
    "\n",
    "> The feature reference dictionary states that the \"undefined\" values for `Meal` are part of the \"SC\" category. While there are a relatively small number of \"undefined\" entries, I feel that it would be most accurate to re-categorize them  to the \"SC\" Meal type.\n",
    "\n",
    "---"
   ]
  },
  {
   "cell_type": "code",
   "execution_count": null,
   "metadata": {
    "ExecuteTime": {
     "end_time": "2022-11-05T17:33:04.120090Z",
     "start_time": "2022-11-05T17:33:03.967253Z"
    }
   },
   "outputs": [],
   "source": [
    "## Inspecting normalized value counts\n",
    "data['Meal'].value_counts()"
   ]
  },
  {
   "cell_type": "code",
   "execution_count": null,
   "metadata": {
    "ExecuteTime": {
     "end_time": "2022-11-05T17:33:04.274281Z",
     "start_time": "2022-11-05T17:33:04.121079Z"
    }
   },
   "outputs": [],
   "source": [
    "## Testing normalized value counts after replacement\n",
    "data['Meal'].replace('Undefined', 'SC').value_counts(1)"
   ]
  },
  {
   "cell_type": "code",
   "execution_count": null,
   "metadata": {
    "ExecuteTime": {
     "end_time": "2022-11-05T17:33:04.444200Z",
     "start_time": "2022-11-05T17:33:04.276204Z"
    }
   },
   "outputs": [],
   "source": [
    "## Performing replacement and verifying results\n",
    "data['Meal'] = data['Meal'].replace('Undefined', 'SC')\n",
    "data['Meal'].value_counts(1)"
   ]
  },
  {
   "cell_type": "code",
   "execution_count": null,
   "metadata": {
    "ExecuteTime": {
     "end_time": "2022-11-05T17:33:04.659047Z",
     "start_time": "2022-11-05T17:33:04.445949Z"
    }
   },
   "outputs": [],
   "source": [
    "## Reviewing new details for Meal\n",
    "eda.explore_feature(data,'Meal',target_feature = 'IsCanceled', plot_label ='Meal Type',plot_title= 'Meals',\n",
    "                    show_visualization = show_visualization);"
   ]
  },
  {
   "cell_type": "markdown",
   "metadata": {},
   "source": [
    "---\n",
    "\n",
    "> After these changes, I have four distinct categories with the \"undefined\" Meal types added to the \"SC\" Meal types. Now I will perform a larger condensation with the `Agent` feature.\n",
    "\n",
    "---"
   ]
  },
  {
   "cell_type": "markdown",
   "metadata": {},
   "source": [
    "### Condensing `Agent` into `Agent_Group`"
   ]
  },
  {
   "cell_type": "markdown",
   "metadata": {},
   "source": [
    "---\n",
    "\n",
    "**This feature requires a more complex approach than the `Meal` feature.**\n",
    "\n",
    "> `Agent` includes a large number of unique values (each unique value being a unique identifier for an Agent). To use this feature in modeling, I would need to perform one-hot encoding, resulting in an additional 300+ features for all of my reservations. I will explore two main questions to determine how to handle this feature:\n",
    "1. What are the top ten IDs by percentages?\n",
    "2. Is there a way to condense this feature into a smaller set of categories?\n",
    "\n",
    "**Depending on the breakdown of percentages, I would like to condense this feature to a smaller number of unique values.**\n",
    "\n",
    "> Condensing the features would result in fewer additional columns post-encoding as well as potentially increasing the impact of this feature. **However, it would impair the interpretability of the results;** if my model's results show that the condensed value is significant, it would mean that the *combination of all of the values* is significant, not any particular one Agent.\n",
    "\n",
    "**Despite the loss of interpretability, I feel it is best to condense these values.**\n",
    "\n",
    "---"
   ]
  },
  {
   "cell_type": "code",
   "execution_count": null,
   "metadata": {
    "ExecuteTime": {
     "end_time": "2022-11-05T17:33:04.812821Z",
     "start_time": "2022-11-05T17:33:04.661045Z"
    }
   },
   "outputs": [],
   "source": [
    "## Confirming number of unique values\n",
    "data['Agent'].nunique()"
   ]
  },
  {
   "cell_type": "code",
   "execution_count": null,
   "metadata": {
    "ExecuteTime": {
     "end_time": "2022-11-05T17:33:04.967029Z",
     "start_time": "2022-11-05T17:33:04.814346Z"
    },
    "scrolled": true
   },
   "outputs": [],
   "source": [
    "## Reviewing top ten Agents by percentage of bookings\n",
    "data['Agent'].value_counts(normalize=True, ascending=False,\n",
    "                           dropna=False).iloc[:10]"
   ]
  },
  {
   "cell_type": "code",
   "execution_count": null,
   "metadata": {
    "ExecuteTime": {
     "end_time": "2022-11-05T17:33:05.305396Z",
     "start_time": "2022-11-05T17:33:04.969045Z"
    },
    "scrolled": true
   },
   "outputs": [],
   "source": [
    "## Visualizing top ten Agents by percentage of bookings\n",
    "top_Agents = data['Agent'].value_counts(normalize=True, ascending=True,\n",
    "                                        dropna=False).iloc[-10:]\n",
    "\n",
    "fig, ax = plt.subplots(figsize= (8, 4))\n",
    "top_Agents.plot(kind='barh', ax=ax)\n",
    "\n",
    "fig.suptitle('Top Ten Agents by Volume')\n",
    "ax.set_xlabel(\"Percentage of Total Reservations\")\n",
    "ax.set_xticks([0, .05, .10, .15, .20, .25])\n",
    "ax.set_xticklabels(['0', '5','10', '15', '20', '25'])\n",
    "ax.set_ylabel(\"Agent ID\")\n",
    "\n",
    "for i,vc in enumerate(top_Agents):\n",
    "    plt.text(x=vc+.0025, y=i, s=f\"{vc:.0%}\")\n",
    "\n",
    "plt.tight_layout()\n",
    "plt.show()\n",
    "plt.close();"
   ]
  },
  {
   "cell_type": "markdown",
   "metadata": {},
   "source": [
    "---\n",
    "\n",
    "**Analysis shows there are three top Agents, representing a combined total of nearly half of the total reservations.**\n",
    "\n",
    "> Additionally, the 14% of missing values represents a significant proportion of the overall dataset. The remaining 41% percent of the data consists of the other Agents with 3% or less of the overall reservations.\n",
    "\n",
    "**Based on these results, I feel comfortable in condensing the values into five distinct categories:** \n",
    ">* The top three Agent IDs (no changes)\n",
    "* A placeholder ('0') to indicate the lack of an ID\n",
    "* A placeholder ('999') representing the combination of all of the lower-production Agents\n",
    "\n",
    "**I will replace the values and inspect the breakdown of the resulting data.**\n",
    "\n",
    "---"
   ]
  },
  {
   "cell_type": "code",
   "execution_count": null,
   "metadata": {
    "ExecuteTime": {
     "end_time": "2022-11-05T17:33:05.475150Z",
     "start_time": "2022-11-05T17:33:05.308332Z"
    }
   },
   "outputs": [],
   "source": [
    "## Reviewing number of missing values\n",
    "data['Agent'].isna().sum()"
   ]
  },
  {
   "cell_type": "code",
   "execution_count": null,
   "metadata": {
    "ExecuteTime": {
     "end_time": "2022-11-05T17:33:05.629353Z",
     "start_time": "2022-11-05T17:33:05.477150Z"
    }
   },
   "outputs": [],
   "source": [
    "## Filling with placeholder value and confirming results\n",
    "data['Agent'] = data['Agent'].fillna(0.00)\n",
    "data['Agent'].isna().sum()"
   ]
  },
  {
   "cell_type": "code",
   "execution_count": null,
   "metadata": {
    "ExecuteTime": {
     "end_time": "2022-11-05T17:33:05.783312Z",
     "start_time": "2022-11-05T17:33:05.631264Z"
    },
    "scrolled": true
   },
   "outputs": [],
   "source": [
    "## Converting non-top-3 ID values to placeholder \"999\"\n",
    "cond = [data['Agent'] == 9.00,\n",
    "        data['Agent'] == 240.00,\n",
    "        data['Agent'] == 1.00,\n",
    "        data['Agent'] == 0.00\n",
    "       ]\n",
    "\n",
    "choice = [data['Agent'], data['Agent'], data['Agent'], data['Agent']]\n",
    "\n",
    "data['Agent_group'] = np.select(cond, choice, 999)\n",
    "data[['Agent', 'Agent_group']]"
   ]
  },
  {
   "cell_type": "code",
   "execution_count": null,
   "metadata": {
    "ExecuteTime": {
     "end_time": "2022-11-05T17:33:05.969335Z",
     "start_time": "2022-11-05T17:33:05.784314Z"
    },
    "scrolled": true
   },
   "outputs": [],
   "source": [
    "## Converting column to string\n",
    "\n",
    "data.loc[:,'Agent_group'] = data.loc[:,'Agent_group'].astype(int)\n",
    "data.loc[:,'Agent_group'] = data.loc[:,'Agent_group'].astype(str)\n",
    "print(f'Datatype: {data[\"Agent_group\"].dtype}')"
   ]
  },
  {
   "cell_type": "code",
   "execution_count": null,
   "metadata": {
    "ExecuteTime": {
     "end_time": "2022-11-05T17:33:06.122880Z",
     "start_time": "2022-11-05T17:33:05.970329Z"
    }
   },
   "outputs": [],
   "source": [
    "## Creating new Series for visualization\n",
    "new_cats = data['Agent_group'].value_counts(1, ascending=True)\n",
    "new_cats"
   ]
  },
  {
   "cell_type": "code",
   "execution_count": null,
   "metadata": {
    "ExecuteTime": {
     "end_time": "2022-11-05T17:33:06.401120Z",
     "start_time": "2022-11-05T17:33:06.124388Z"
    }
   },
   "outputs": [],
   "source": [
    "##Visualizing new feature\n",
    "\n",
    "fig, ax = plt.subplots(figsize= (8, 4))\n",
    "new_cats.plot(kind='barh', ax=ax)\n",
    "\n",
    "fig.suptitle('Agent - New Categories')\n",
    "\n",
    "ax.set_xlabel(\"Percentage of Total Reservations\")\n",
    "ax.set_xticks([0, .1, .2, .3, .4, .5])\n",
    "ax.set_xticklabels(['0', '10','20', '30', '40', '50'])\n",
    "ax.set_ylabel(\"Agent ID\")\n",
    "\n",
    "for i,vc in enumerate(new_cats):\n",
    "    plt.text(x=vc+.005, y=i, s=f\"{vc:.0%}\")\n",
    "\n",
    "plt.tight_layout()\n",
    "plt.show()\n",
    "plt.close();"
   ]
  },
  {
   "cell_type": "code",
   "execution_count": null,
   "metadata": {
    "ExecuteTime": {
     "end_time": "2022-11-05T17:33:06.602489Z",
     "start_time": "2022-11-05T17:33:06.403122Z"
    }
   },
   "outputs": [],
   "source": [
    "# Dropping \"Agent\" feature after conversion\n",
    "data.drop(columns = ['Agent'], inplace=True)\n",
    "data.columns"
   ]
  },
  {
   "cell_type": "code",
   "execution_count": null,
   "metadata": {
    "ExecuteTime": {
     "end_time": "2022-11-05T17:33:06.757094Z",
     "start_time": "2022-11-05T17:33:06.604473Z"
    },
    "scrolled": true
   },
   "outputs": [],
   "source": [
    "## Confirming 'Agent' removal from dataframe\n",
    "'Agent' not in data"
   ]
  },
  {
   "cell_type": "code",
   "execution_count": null,
   "metadata": {
    "ExecuteTime": {
     "end_time": "2022-11-05T17:33:06.912783Z",
     "start_time": "2022-11-05T17:33:06.759075Z"
    }
   },
   "outputs": [],
   "source": [
    "## Deleting variables to free up space\n",
    "del cond, choice, new_cats"
   ]
  },
  {
   "cell_type": "markdown",
   "metadata": {},
   "source": [
    "---\n",
    "\n",
    "**After converting the values, there are now five unique values instead of 333.**\n",
    "\n",
    "> The resulting values represent the top three Agents by production percentage; the percentage of reservations not associated with an Agent (missing values prior to conversion); and then the combined percentage of Agents producing 3% or less of the overall reservations.\n",
    ">\n",
    "> This condensation balances my desire to simplify this category; the need to address missing values; and my intention to maintain the value of all of the Agent IDs.\n",
    "\n",
    "**Now I will condense the `Country` category in a similar manner.**\n",
    "\n",
    "---"
   ]
  },
  {
   "cell_type": "markdown",
   "metadata": {
    "code_folding": []
   },
   "source": [
    "### Condensing `Country` Categories"
   ]
  },
  {
   "cell_type": "markdown",
   "metadata": {},
   "source": [
    "---\n",
    "\n",
    "> The `Country` feature includes 177 unique Country names, but 5 countries compose about 73% of all of the values. To reduce the complexity of this feature and to increase the value of the remaining distinct countries, I will condense these features as I did for the `Agent` feature.\n",
    "\n",
    "---"
   ]
  },
  {
   "cell_type": "code",
   "execution_count": null,
   "metadata": {
    "ExecuteTime": {
     "end_time": "2022-11-05T17:33:07.065793Z",
     "start_time": "2022-11-05T17:33:06.914291Z"
    }
   },
   "outputs": [],
   "source": [
    "## Confirming number of unique values\n",
    "data['Country'].nunique()"
   ]
  },
  {
   "cell_type": "code",
   "execution_count": null,
   "metadata": {
    "ExecuteTime": {
     "end_time": "2022-11-05T17:33:07.223060Z",
     "start_time": "2022-11-05T17:33:07.066795Z"
    },
    "scrolled": true
   },
   "outputs": [],
   "source": [
    "## Reviewing top ten Agents by percentage of bookings\n",
    "data['Country'].value_counts(normalize=True, ascending=False, dropna=False).iloc[:10]"
   ]
  },
  {
   "cell_type": "code",
   "execution_count": null,
   "metadata": {
    "ExecuteTime": {
     "end_time": "2022-11-05T17:33:07.595790Z",
     "start_time": "2022-11-05T17:33:07.225155Z"
    },
    "scrolled": true
   },
   "outputs": [],
   "source": [
    "## Visualizing top ten countries by percentage of bookings\n",
    "top_countries = data['Country'].value_counts(normalize=True, ascending=True,\n",
    "                                        dropna=False).iloc[-10:]\n",
    "\n",
    "fig, ax = plt.subplots(figsize= (8, 4))\n",
    "top_countries.plot(kind='barh', ax=ax)\n",
    "\n",
    "fig.suptitle('Top Ten Countries by Volume')\n",
    "ax.set_xlabel(\"Percentage of Total Reservations\")\n",
    "ax.set_xticks([0, .05, .10, .15, .20, .25, .30, .35, .40])\n",
    "ax.set_xticklabels(['0', '5','10', '15', '20', '25', '30', '35', '40'])\n",
    "ax.set_ylabel(\"Country ID\")\n",
    "ax.axhline(y=4.5, ls = \":\", c='k', label = \"5%\")\n",
    "ax.legend(labels = ['5% Threshold', 'Volume (%)'])\n",
    "\n",
    "for i,vc in enumerate(top_countries):\n",
    "    plt.text(x=vc+.0025, y=i, s=f\"{vc:.0%}\")\n",
    "\n",
    "plt.tight_layout()\n",
    "plt.show()\n",
    "plt.close();"
   ]
  },
  {
   "cell_type": "markdown",
   "metadata": {},
   "source": [
    "---\n",
    "\n",
    "**Analysis shows there are five countries composing over 5% of the reservations, representing a combined total of nearly 73% of the total reservations.**\n",
    "\n",
    "> These countries represent more than 5% of the overall feature values, with the remaining 27% below 5%.\n",
    "\n",
    "**Based on these results, I feel comfortable in condensing the values into six distinct categories:** \n",
    ">* The top five Country IDs (no changes)\n",
    "* A placeholder ('Other') representing the combination of all of the lower-production countries\n",
    "\n",
    "**I will replace the values and inspect the breakdown of the resulting data.**\n",
    "\n",
    "---"
   ]
  },
  {
   "cell_type": "code",
   "execution_count": null,
   "metadata": {
    "ExecuteTime": {
     "end_time": "2022-11-05T17:33:07.795394Z",
     "start_time": "2022-11-05T17:33:07.598789Z"
    },
    "scrolled": true
   },
   "outputs": [],
   "source": [
    "## Converting non-top-3 ID values to placeholder \"999\"\n",
    "cond = [data['Country'] == 'PRT',\n",
    "        data['Country'] == 'GBR',\n",
    "        data['Country'] == 'FRA',\n",
    "        data['Country'] == 'ESP',\n",
    "        data['Country'] == 'DEU'\n",
    "       ]\n",
    "\n",
    "choice = [data['Country'], data['Country'], data['Country'], data['Country'],\n",
    "          data['Country']]\n",
    "\n",
    "data['Country'] = np.select(cond, choice, 'Other')\n",
    "data['Country']"
   ]
  },
  {
   "cell_type": "code",
   "execution_count": null,
   "metadata": {
    "ExecuteTime": {
     "end_time": "2022-11-05T17:33:07.949208Z",
     "start_time": "2022-11-05T17:33:07.800405Z"
    }
   },
   "outputs": [],
   "source": [
    "## Creating new Series for visualization\n",
    "new_cats = data['Country'].value_counts(1, ascending=True)\n",
    "new_cats"
   ]
  },
  {
   "cell_type": "code",
   "execution_count": null,
   "metadata": {
    "ExecuteTime": {
     "end_time": "2022-11-05T17:33:08.226320Z",
     "start_time": "2022-11-05T17:33:07.951212Z"
    }
   },
   "outputs": [],
   "source": [
    "##Visualizing new feature\n",
    "\n",
    "fig, ax = plt.subplots(figsize= (8, 4))\n",
    "new_cats.plot(kind='barh', ax=ax)\n",
    "\n",
    "fig.suptitle('Country - Updated Categories')\n",
    "\n",
    "ax.set_xlabel(\"Percentage of Total Reservations\")\n",
    "ax.set_xticks([0, .1, .2, .3, .4, .5])\n",
    "ax.set_xticklabels(['0', '10','20', '30', '40', '50'])\n",
    "ax.set_ylabel(\"Country ID\")\n",
    "\n",
    "for i,vc in enumerate(new_cats):\n",
    "    plt.text(x=vc+.005, y=i, s=f\"{vc:.0%}\")\n",
    "\n",
    "plt.tight_layout()\n",
    "plt.show()\n",
    "plt.close();"
   ]
  },
  {
   "cell_type": "code",
   "execution_count": null,
   "metadata": {
    "ExecuteTime": {
     "end_time": "2022-11-05T17:33:08.395301Z",
     "start_time": "2022-11-05T17:33:08.228321Z"
    }
   },
   "outputs": [],
   "source": [
    "## Deleting variables to free up space\n",
    "del cond, choice, new_cats"
   ]
  },
  {
   "cell_type": "markdown",
   "metadata": {},
   "source": [
    "## Feature Engineering"
   ]
  },
  {
   "cell_type": "markdown",
   "metadata": {},
   "source": [
    "---\n",
    "\n",
    "> Now that I condensed my existing features, I will create two new ones:\n",
    "* `arrival_date`: representing the date the reservation is expected to check-in; useful for future forecasting\n",
    "* `stay_length`: for how many nights a guest will stay\n",
    ">\n",
    "> This information is standard for all hotels and will be helpful for modeling (and later forecasting).\n",
    "\n",
    "---"
   ]
  },
  {
   "cell_type": "markdown",
   "metadata": {},
   "source": [
    "### Engineering `Arrival_Date`"
   ]
  },
  {
   "cell_type": "code",
   "execution_count": null,
   "metadata": {
    "ExecuteTime": {
     "end_time": "2022-11-05T17:33:08.796267Z",
     "start_time": "2022-11-05T17:33:08.397339Z"
    },
    "scrolled": true
   },
   "outputs": [],
   "source": [
    "## Converting from month, day of month, and year to a single datetime column\n",
    "data['arrival_date'] = data['ArrivalDateMonth'] +' '+ \\\n",
    "                                data['ArrivalDateDayOfMonth']\\\n",
    "                                .astype(str) +', '+ \\\n",
    "                                data['ArrivalDateYear'].astype(str)\n",
    "data['arrival_date'] = pd.to_datetime(data['arrival_date'])\n",
    "data['arrival_date']"
   ]
  },
  {
   "cell_type": "code",
   "execution_count": null,
   "metadata": {
    "ExecuteTime": {
     "end_time": "2022-11-05T17:33:08.997103Z",
     "start_time": "2022-11-05T17:33:08.798262Z"
    }
   },
   "outputs": [],
   "source": [
    "## Determining the day of the week of arrival \n",
    "data.loc[:,'arrival_day'] = data.loc[:,'arrival_date'].dt.day_name()\n",
    "data['arrival_day']"
   ]
  },
  {
   "cell_type": "code",
   "execution_count": null,
   "metadata": {
    "ExecuteTime": {
     "end_time": "2022-11-05T17:33:09.185585Z",
     "start_time": "2022-11-05T17:33:08.999099Z"
    },
    "scrolled": true
   },
   "outputs": [],
   "source": [
    "## Reviewing results\n",
    "data[['arrival_day', 'arrival_date']]"
   ]
  },
  {
   "cell_type": "code",
   "execution_count": null,
   "metadata": {
    "ExecuteTime": {
     "end_time": "2022-11-05T17:33:09.495157Z",
     "start_time": "2022-11-05T17:33:09.188582Z"
    }
   },
   "outputs": [],
   "source": [
    "## Reviewing details for arrival_day\n",
    "eda.explore_feature(data,'arrival_day',target_feature = 'IsCanceled', \n",
    "plot_label ='Day',\n",
    "                    plot_title= 'Arrival Day',\n",
    "                    show_visualization = show_visualization);"
   ]
  },
  {
   "cell_type": "markdown",
   "metadata": {},
   "source": [
    "---\n",
    "\n",
    "**Feature Review**\n",
    "\n",
    "> This new feature gives a more precise representation of when a reservation is expected to arrive. Having an idea of anticipated occupancy by day is critical for operations for daily cleaning, staffing, etc..\n",
    "\n",
    "---"
   ]
  },
  {
   "cell_type": "markdown",
   "metadata": {},
   "source": [
    "### Engineering `Stay Length`"
   ]
  },
  {
   "cell_type": "markdown",
   "metadata": {},
   "source": [
    "---\n",
    "\n",
    "> One major feature of a guest's reservation is missing from the original dataset: the overall stay length. I feel a reservation's stay length is relevant to my analysis, and so I will engineer this feature by adding the number of week day and weekend nights together.\n",
    "\n",
    "---"
   ]
  },
  {
   "cell_type": "code",
   "execution_count": null,
   "metadata": {
    "ExecuteTime": {
     "end_time": "2022-11-05T17:33:09.649752Z",
     "start_time": "2022-11-05T17:33:09.496127Z"
    }
   },
   "outputs": [],
   "source": [
    "## Creating stay_length as a summation of weekday and weekend night counts\n",
    "data['stay_length'] = data['StaysInWeekendNights'] + data['StaysInWeekNights']\n",
    "data['stay_length'].value_counts(dropna=False)"
   ]
  },
  {
   "cell_type": "code",
   "execution_count": null,
   "metadata": {
    "ExecuteTime": {
     "end_time": "2022-11-05T17:33:09.881866Z",
     "start_time": "2022-11-05T17:33:09.651735Z"
    }
   },
   "outputs": [],
   "source": [
    "## Reviewing details for stay_length\n",
    "eda.explore_feature(data,'stay_length',target_feature = 'IsCanceled', plot_label ='Length',\n",
    "                    plot_title= 'Length of Stay', bins=10,\n",
    "                    show_visualization = show_visualization);"
   ]
  },
  {
   "cell_type": "markdown",
   "metadata": {},
   "source": [
    "---\n",
    "\n",
    "**Feature Review**\n",
    "\n",
    "> Both checkouts and cancellations show that most guests are staying for less than a week, which is understandable for standard hotels and resorts (there are exceptions, such as brands oriented towards long-term stays of 7+ days).\n",
    "\n",
    "---"
   ]
  },
  {
   "cell_type": "markdown",
   "metadata": {},
   "source": [
    "## Dropping Features"
   ]
  },
  {
   "cell_type": "markdown",
   "metadata": {},
   "source": [
    "---\n",
    "\n",
    "> During the EDA process, I noted several features were less useful than others and would need to be dropped from the dataset. I will drop the following features/rows:\n",
    "* `market_segment`, `\"undefined\"` value: represented less than 1% of reservations\n",
    "* `distribution_channel`: too similar to `market_segment`\n",
    "* `reservation_status`: too similar to target feature\n",
    "* `arrival_date_year`: specific to reservations in dataset; not usable for future reservations\n",
    "* `reservation_status_date`: does not add substantial information\n",
    "\n",
    "---"
   ]
  },
  {
   "cell_type": "markdown",
   "metadata": {},
   "source": [
    "### Dropping \"Undefined\" from `Market_Segment`"
   ]
  },
  {
   "cell_type": "markdown",
   "metadata": {},
   "source": [
    "---\n",
    "\n",
    "> There are less than 1% of reservations with an \"undefined\" market segment. To reduce the future number of features post-one-hot-encoding, I will remove these features.\n",
    "\n",
    "---"
   ]
  },
  {
   "cell_type": "code",
   "execution_count": null,
   "metadata": {
    "ExecuteTime": {
     "end_time": "2022-11-05T17:33:10.054314Z",
     "start_time": "2022-11-05T17:33:09.882866Z"
    }
   },
   "outputs": [],
   "source": [
    "## Confirming low number of \"undefined\" values in market_segment\n",
    "data['MarketSegment'].value_counts()"
   ]
  },
  {
   "cell_type": "code",
   "execution_count": null,
   "metadata": {
    "ExecuteTime": {
     "end_time": "2022-11-05T17:33:10.223021Z",
     "start_time": "2022-11-05T17:33:10.056214Z"
    }
   },
   "outputs": [],
   "source": [
    "## Inspecting reservations listed as \"undefined\"\n",
    "data[data['MarketSegment'] == 'Undefined']"
   ]
  },
  {
   "cell_type": "code",
   "execution_count": null,
   "metadata": {
    "ExecuteTime": {
     "end_time": "2022-11-05T17:33:10.411061Z",
     "start_time": "2022-11-05T17:33:10.225573Z"
    }
   },
   "outputs": [],
   "source": [
    "## Removing those reservations from the dataset\n",
    "data = data[data['MarketSegment'] != 'Undefined']\n",
    "data"
   ]
  },
  {
   "cell_type": "markdown",
   "metadata": {},
   "source": [
    "### Comparing `Market_Segment` and `Distribution_Channel`"
   ]
  },
  {
   "cell_type": "markdown",
   "metadata": {},
   "source": [
    "---\n",
    "\n",
    "**What's the difference?**\n",
    "\n",
    ">Based on my personal career experience, I know that these two features represent nearly the same information.\n",
    "* ***Market segments*** represent customers with distinct needs, behaviors, and may have additional distinguishing characteristics (groups, contracts, and businesses).\n",
    "* ***Distribution channels*** are the means by which these reservations are booked and processed, often overlapping with the guest segmentation.\n",
    "\n",
    "**Which to keep?**\n",
    "\n",
    "> **As the two values demonstrate high multicollinearity, I will keep the feature providing the most diverse insights.** I will inspect the values for each feature and keep whichever feature adds the most diverse insights. I will drop the other feature.\n",
    "\n",
    "---"
   ]
  },
  {
   "cell_type": "code",
   "execution_count": null,
   "metadata": {
    "ExecuteTime": {
     "end_time": "2022-11-05T17:33:10.579909Z",
     "start_time": "2022-11-05T17:33:10.414061Z"
    },
    "scrolled": true
   },
   "outputs": [],
   "source": [
    "## Inspecting breakdowns\n",
    "print('Distribution Channel:\\n',data['DistributionChannel'].value_counts(1),\n",
    "      '\\n\\n')\n",
    "print('Market Segment:\\n',data['MarketSegment'].value_counts(1))"
   ]
  },
  {
   "cell_type": "markdown",
   "metadata": {},
   "source": [
    "---\n",
    "\n",
    "**While both features describe similar information, `market_segment` includes more distinct information.** I will keep `market_segment` and drop `distribution_channel`.\n",
    "\n",
    "---"
   ]
  },
  {
   "cell_type": "code",
   "execution_count": null,
   "metadata": {
    "ExecuteTime": {
     "end_time": "2022-11-05T17:33:10.751043Z",
     "start_time": "2022-11-05T17:33:10.581918Z"
    }
   },
   "outputs": [],
   "source": [
    "## Dropping \"distribution_channel\"\n",
    "data = data.drop(columns = 'DistributionChannel')"
   ]
  },
  {
   "cell_type": "code",
   "execution_count": null,
   "metadata": {
    "ExecuteTime": {
     "end_time": "2022-11-05T17:33:10.905192Z",
     "start_time": "2022-11-05T17:33:10.752552Z"
    }
   },
   "outputs": [],
   "source": [
    "## Confirming 'distribution_channel' removal from dataframe\n",
    "'DistributionChannel' not in data"
   ]
  },
  {
   "cell_type": "markdown",
   "metadata": {},
   "source": [
    "### Dropping `Reservation_Status`"
   ]
  },
  {
   "cell_type": "markdown",
   "metadata": {},
   "source": [
    "---\n",
    "\n",
    "> `Reservation_Status` is nearly identical to my target feature and would be too strong of a predictor in my models.\n",
    "\n",
    "---"
   ]
  },
  {
   "cell_type": "code",
   "execution_count": null,
   "metadata": {
    "ExecuteTime": {
     "end_time": "2022-11-05T17:33:11.076865Z",
     "start_time": "2022-11-05T17:33:10.906251Z"
    }
   },
   "outputs": [],
   "source": [
    "## Dropping \"reservation_status\"\n",
    "data.drop(columns = 'ReservationStatus', inplace=True)"
   ]
  },
  {
   "cell_type": "code",
   "execution_count": null,
   "metadata": {
    "ExecuteTime": {
     "end_time": "2022-11-05T17:33:11.231443Z",
     "start_time": "2022-11-05T17:33:11.077795Z"
    }
   },
   "outputs": [],
   "source": [
    "## Confirming 'reservation_status' removal from dataframe\n",
    "'ReservationStatus' not in data"
   ]
  },
  {
   "cell_type": "markdown",
   "metadata": {},
   "source": [
    "### Dropping `Arrival_Date_Year`"
   ]
  },
  {
   "cell_type": "markdown",
   "metadata": {},
   "source": [
    "---\n",
    "\n",
    "> `Arrival_Date_Year` would not be applicable to future models; it would impair model performance when the model is given data for new years.\n",
    "\n",
    "---"
   ]
  },
  {
   "cell_type": "code",
   "execution_count": null,
   "metadata": {
    "ExecuteTime": {
     "end_time": "2022-11-05T17:33:11.416988Z",
     "start_time": "2022-11-05T17:33:11.232454Z"
    }
   },
   "outputs": [],
   "source": [
    "## Dropping \"arrival_date_year\"\n",
    "data.drop(columns = 'ArrivalDateYear', inplace=True)"
   ]
  },
  {
   "cell_type": "code",
   "execution_count": null,
   "metadata": {
    "ExecuteTime": {
     "end_time": "2022-11-05T17:33:11.568841Z",
     "start_time": "2022-11-05T17:33:11.418979Z"
    }
   },
   "outputs": [],
   "source": [
    "## Confirming 'arrival_date_year' removal from dataframe\n",
    "'ArrivalDateYear' not in data"
   ]
  },
  {
   "cell_type": "markdown",
   "metadata": {},
   "source": [
    "### Dropping `Reservation_Status_Date`"
   ]
  },
  {
   "cell_type": "code",
   "execution_count": null,
   "metadata": {
    "ExecuteTime": {
     "end_time": "2022-11-05T17:33:11.755025Z",
     "start_time": "2022-11-05T17:33:11.569820Z"
    }
   },
   "outputs": [],
   "source": [
    "## Dropping \"reservation_status_date\"\n",
    "data.drop(columns = 'ReservationStatusDate', inplace=True)"
   ]
  },
  {
   "cell_type": "code",
   "execution_count": null,
   "metadata": {
    "ExecuteTime": {
     "end_time": "2022-11-05T17:33:11.923404Z",
     "start_time": "2022-11-05T17:33:11.756095Z"
    }
   },
   "outputs": [],
   "source": [
    "## Confirming 'reservation_status_date' removal from dataframe\n",
    "'ReservationStatusDate' not in data"
   ]
  },
  {
   "cell_type": "markdown",
   "metadata": {},
   "source": [
    "## Final Data Review"
   ]
  },
  {
   "cell_type": "markdown",
   "metadata": {},
   "source": [
    "---\n",
    "\n",
    "> Now that I completed my condensation, engineering, and dropping of features, I will review the final data prior to saving the results for modeling.\n",
    "\n",
    "---"
   ]
  },
  {
   "cell_type": "code",
   "execution_count": null,
   "metadata": {
    "ExecuteTime": {
     "end_time": "2022-11-05T17:33:12.110167Z",
     "start_time": "2022-11-05T17:33:11.925435Z"
    },
    "scrolled": true
   },
   "outputs": [],
   "source": [
    "## Inspecting final dataframe\n",
    "data"
   ]
  },
  {
   "attachments": {},
   "cell_type": "markdown",
   "metadata": {},
   "source": [
    "# Preserving the Pandas (DataFrame)\n",
    "\n",
    "---\n",
    "\n",
    "Now I am ready to save the cleaned and processed data for modeling in my next notebook.\n",
    "\n",
    "---"
   ]
  },
  {
   "cell_type": "code",
   "execution_count": null,
   "metadata": {
    "ExecuteTime": {
     "end_time": "2022-11-05T17:33:17.389381Z",
     "start_time": "2022-11-05T17:33:12.111152Z"
    }
   },
   "outputs": [],
   "source": [
    "# ## Pickling with Pandas\n",
    "# data.to_pickle(path = '../data/data_prepped.pickle',\n",
    "#             compression = 'gzip')\n",
    "# print(f'Successfully pickled!')"
   ]
  },
  {
   "cell_type": "code",
   "execution_count": null,
   "metadata": {
    "ExecuteTime": {
     "end_time": "2022-11-05T17:33:17.389381Z",
     "start_time": "2022-11-05T17:33:12.111152Z"
    }
   },
   "outputs": [],
   "source": [
    "## Pickling with Pandas\n",
    "data.to_parquet(path = '../data/data_prepped.parquet')\n",
    "print(f'Successfully saved!')"
   ]
  },
  {
   "cell_type": "markdown",
   "metadata": {},
   "source": [
    "# Future Work: EDA"
   ]
  },
  {
   "cell_type": "markdown",
   "metadata": {},
   "source": [
    "---\n",
    "\n",
    "In the future, I will revisit the visualization aspects of my EDA function to convert them from Plotly Express figures to Matplotlib figures. The goal with Plotly Express was to have additional interativity; however these models crippled my notebook's operations. Matplotlib figures would be more appropriate in this case, and I will revisit this work when I have more time.\n",
    "\n",
    "---\n"
   ]
  },
  {
   "cell_type": "markdown",
   "metadata": {},
   "source": [
    "# Moving to Modeling!"
   ]
  },
  {
   "cell_type": "markdown",
   "metadata": {},
   "source": [
    "---\n",
    "\n",
    "> Now that I completed the pre-processing and EDA steps, I will move to my next notebook to perform my classification modeling.\n",
    "\n",
    "---"
   ]
  },
  {
   "cell_type": "code",
   "execution_count": null,
   "metadata": {},
   "outputs": [],
   "source": []
  }
 ],
 "metadata": {
  "kernelspec": {
   "display_name": "Python (dojo-env)",
   "language": "python",
   "name": "dojo-env"
  },
  "language_info": {
   "codemirror_mode": {
    "name": "ipython",
    "version": 3
   },
   "file_extension": ".py",
   "mimetype": "text/x-python",
   "name": "python",
   "nbconvert_exporter": "python",
   "pygments_lexer": "ipython3",
   "version": "3.10.14"
  },
  "toc": {
   "base_numbering": 1,
   "nav_menu": {},
   "number_sections": true,
   "sideBar": true,
   "skip_h1_title": false,
   "title_cell": "Table of Contents",
   "title_sidebar": "Contents",
   "toc_cell": true,
   "toc_position": {
    "height": "calc(100% - 180px)",
    "left": "10px",
    "top": "150px",
    "width": "250.775px"
   },
   "toc_section_display": true,
   "toc_window_display": true
  },
  "widgets": {
   "application/vnd.jupyter.widget-state+json": {
    "state": {},
    "version_major": 2,
    "version_minor": 0
   }
  }
 },
 "nbformat": 4,
 "nbformat_minor": 4
}
