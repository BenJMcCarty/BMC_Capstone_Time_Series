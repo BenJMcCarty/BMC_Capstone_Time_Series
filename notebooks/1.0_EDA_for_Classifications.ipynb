{
 "cells": [
  {
   "cell_type": "markdown",
   "metadata": {},
   "source": [
    "# **Hotel Cancel Culture** - **EDA Notebook**"
   ]
  },
  {
   "cell_type": "markdown",
   "metadata": {},
   "source": [
    "---\n",
    "\n",
    "**Author:** Ben McCarty\n",
    "\n",
    "**Extension of Capstone Project** - Expanding Hotel Reservation dataset analysis and modeling\n",
    "\n",
    "**Contact:** bmccarty505@gmail.com\n",
    "\n",
    "---"
   ]
  },
  {
   "cell_type": "markdown",
   "metadata": {},
   "source": [
    "## Revisiting the Reservations\n",
    "\n",
    "---\n",
    "\n",
    "Originally, I used this notebook to perform EDA with the intention of using the dataset only for classifying whether a reservation would cancel.\n",
    "\n",
    "Now, as part of my efforts to revisit and revamp this overall repository and workflow, I am adapting it for broader uses, such as regression modeling and time series forecasting.\n",
    "\n",
    "The end goal is to have a comprehensive overview of the data and to be flexible enough to handle different workflows.\n",
    "\n",
    "**Warning: Work-in-Progress**\n",
    "\n",
    "As this is a revamp of the original workbook, some of the code and comments may be outdated. I intend to update and clarify all steps in time, but there may be some parts that are out of place while I clean things up.\n",
    "\n",
    "---"
   ]
  },
  {
   "cell_type": "markdown",
   "metadata": {},
   "source": [
    "**Of Demand and Cancellations**\n",
    "\n",
    "*This was the initial intro to the notebook with a focus on classification modeling.*\n",
    "\n",
    ">**Every aspect of hospitality depends on accurately anticipating business demand**: how many rooms to clean; how many rooms are available to sell; what would be the best rate; and how to bring it all together to make every guest satisfied. \n",
    ">\n",
    "> Proper forecasting is critical to every department and staff member, and to generate our forecasts, **hotel managers need to know how many guests will cancel prior to arrival**. Using data from two European hotels, I developed a model to predict whether a given reservation would cancel based on 30 different reservation details.\n",
    "\n",
    "**In order to develop and train my models, I need to prepare the data in advance.**\n",
    "\n",
    ">In this notebook, I explore the original dataset and its features; condense several features into smaller subsets; engineer new features; and remove unwanted features from the data.\n",
    ">\n",
    "**Once the data is prepared, I will reload the data in a new notebook to create and train my models to determine my predictions of who will stay and who will cancel.**"
   ]
  },
  {
   "cell_type": "markdown",
   "metadata": {},
   "source": [
    "# **Import Packages**"
   ]
  },
  {
   "cell_type": "code",
   "execution_count": 1,
   "metadata": {
    "ExecuteTime": {
     "end_time": "2022-11-05T17:32:52.290987Z",
     "start_time": "2022-11-05T17:32:52.154639Z"
    },
    "execution": {
     "iopub.execute_input": "2024-03-29T19:28:48.053667Z",
     "iopub.status.busy": "2024-03-29T19:28:48.053667Z",
     "iopub.status.idle": "2024-03-29T19:28:48.107137Z",
     "shell.execute_reply": "2024-03-29T19:28:48.106677Z",
     "shell.execute_reply.started": "2024-03-29T19:28:48.053667Z"
    }
   },
   "outputs": [],
   "source": [
    "## Used to re-import custom functions during development\n",
    "%load_ext autoreload\n",
    "%autoreload 2"
   ]
  },
  {
   "cell_type": "code",
   "execution_count": 2,
   "metadata": {
    "execution": {
     "iopub.execute_input": "2024-03-29T19:28:48.108144Z",
     "iopub.status.busy": "2024-03-29T19:28:48.108144Z",
     "iopub.status.idle": "2024-03-29T19:28:49.576696Z",
     "shell.execute_reply": "2024-03-29T19:28:49.576696Z",
     "shell.execute_reply.started": "2024-03-29T19:28:48.108144Z"
    }
   },
   "outputs": [],
   "source": [
    "## Enabling access to custom functions in separate directory\n",
    "\n",
    "# Import necessary modules\n",
    "import os\n",
    "import sys\n",
    "\n",
    "# Construct the absolute path to the 'src' directory\n",
    "src_path = os.path.abspath(os.path.join('..', 'src'))\n",
    "\n",
    "# Append the path to 'sys.path'\n",
    "if src_path not in sys.path:\n",
    "    sys.path.append(src_path)\n",
    "\n",
    "import db_utils, eda\n",
    "\n",
    "## Data Handling\n",
    "import numpy as np\n",
    "import pandas as pd\n",
    "\n",
    "## Visualizations\n",
    "import matplotlib.pyplot as plt\n",
    "from missingno import matrix\n",
    "import plotly.express as px\n",
    "import seaborn as sns"
   ]
  },
  {
   "cell_type": "code",
   "execution_count": 3,
   "metadata": {
    "ExecuteTime": {
     "end_time": "2022-11-05T17:32:52.153128Z",
     "start_time": "2022-11-05T17:32:52.139036Z"
    },
    "execution": {
     "iopub.execute_input": "2024-03-29T19:28:49.578531Z",
     "iopub.status.busy": "2024-03-29T19:28:49.578531Z",
     "iopub.status.idle": "2024-03-29T19:28:49.677376Z",
     "shell.execute_reply": "2024-03-29T19:28:49.677376Z",
     "shell.execute_reply.started": "2024-03-29T19:28:49.578531Z"
    }
   },
   "outputs": [],
   "source": [
    "## Settings\n",
    "pd.set_option('display.max_columns', None)\n",
    "pd.set_option('display.float_format', lambda x: f'{x:,.2f}')\n",
    "pd.set_option('display.max_rows', 50)\n",
    "%matplotlib inline"
   ]
  },
  {
   "cell_type": "markdown",
   "metadata": {},
   "source": [
    "# Read Source Data (with UUIDs)"
   ]
  },
  {
   "cell_type": "code",
   "execution_count": 4,
   "metadata": {
    "execution": {
     "iopub.execute_input": "2024-03-29T19:28:49.679505Z",
     "iopub.status.busy": "2024-03-29T19:28:49.679505Z",
     "iopub.status.idle": "2024-03-29T19:28:49.772664Z",
     "shell.execute_reply": "2024-03-29T19:28:49.772664Z",
     "shell.execute_reply.started": "2024-03-29T19:28:49.679505Z"
    }
   },
   "outputs": [],
   "source": [
    "# # Path to the DuckDB database file\n",
    "# db_path = '../data/hotel_reservations.duckdb'\n",
    "\n",
    "# ## Select subset of data for review\n",
    "# q = 'SELECT * FROM res_data LIMIT 5'\n",
    "\n",
    "# with db_utils.duckdb_connection(db_path) as conn:\n",
    "#     data = conn.execute(q).df()\n",
    "    \n",
    "# data.head()"
   ]
  },
  {
   "cell_type": "code",
   "execution_count": 5,
   "metadata": {
    "execution": {
     "iopub.execute_input": "2024-03-29T19:28:49.773735Z",
     "iopub.status.busy": "2024-03-29T19:28:49.773735Z",
     "iopub.status.idle": "2024-03-29T19:28:49.994439Z",
     "shell.execute_reply": "2024-03-29T19:28:49.993420Z",
     "shell.execute_reply.started": "2024-03-29T19:28:49.773735Z"
    }
   },
   "outputs": [
    {
     "data": {
      "text/html": [
       "<div>\n",
       "<style scoped>\n",
       "    .dataframe tbody tr th:only-of-type {\n",
       "        vertical-align: middle;\n",
       "    }\n",
       "\n",
       "    .dataframe tbody tr th {\n",
       "        vertical-align: top;\n",
       "    }\n",
       "\n",
       "    .dataframe thead th {\n",
       "        text-align: right;\n",
       "    }\n",
       "</style>\n",
       "<table border=\"1\" class=\"dataframe\">\n",
       "  <thead>\n",
       "    <tr style=\"text-align: right;\">\n",
       "      <th></th>\n",
       "      <th>IsCanceled</th>\n",
       "      <th>LeadTime</th>\n",
       "      <th>ArrivalDateYear</th>\n",
       "      <th>ArrivalDateMonth</th>\n",
       "      <th>ArrivalDateWeekNumber</th>\n",
       "      <th>ArrivalDateDayOfMonth</th>\n",
       "      <th>StaysInWeekendNights</th>\n",
       "      <th>StaysInWeekNights</th>\n",
       "      <th>Adults</th>\n",
       "      <th>Children</th>\n",
       "      <th>Babies</th>\n",
       "      <th>Meal</th>\n",
       "      <th>Country</th>\n",
       "      <th>MarketSegment</th>\n",
       "      <th>DistributionChannel</th>\n",
       "      <th>IsRepeatedGuest</th>\n",
       "      <th>PreviousCancellations</th>\n",
       "      <th>PreviousBookingsNotCanceled</th>\n",
       "      <th>ReservedRoomType</th>\n",
       "      <th>AssignedRoomType</th>\n",
       "      <th>BookingChanges</th>\n",
       "      <th>DepositType</th>\n",
       "      <th>Agent</th>\n",
       "      <th>Company</th>\n",
       "      <th>DaysInWaitingList</th>\n",
       "      <th>CustomerType</th>\n",
       "      <th>ADR</th>\n",
       "      <th>RequiredCarParkingSpaces</th>\n",
       "      <th>TotalOfSpecialRequests</th>\n",
       "      <th>ReservationStatus</th>\n",
       "      <th>ReservationStatusDate</th>\n",
       "      <th>HotelNumber</th>\n",
       "      <th>UUID</th>\n",
       "    </tr>\n",
       "  </thead>\n",
       "  <tbody>\n",
       "    <tr>\n",
       "      <th>0</th>\n",
       "      <td>0</td>\n",
       "      <td>342</td>\n",
       "      <td>2015</td>\n",
       "      <td>July</td>\n",
       "      <td>27</td>\n",
       "      <td>1</td>\n",
       "      <td>0</td>\n",
       "      <td>0</td>\n",
       "      <td>2</td>\n",
       "      <td>0.00</td>\n",
       "      <td>0</td>\n",
       "      <td>BB</td>\n",
       "      <td>PRT</td>\n",
       "      <td>Direct</td>\n",
       "      <td>Direct</td>\n",
       "      <td>0</td>\n",
       "      <td>0</td>\n",
       "      <td>0</td>\n",
       "      <td>C</td>\n",
       "      <td>C</td>\n",
       "      <td>3</td>\n",
       "      <td>No Deposit</td>\n",
       "      <td>NULL</td>\n",
       "      <td>NULL</td>\n",
       "      <td>0</td>\n",
       "      <td>Transient</td>\n",
       "      <td>0.00</td>\n",
       "      <td>0</td>\n",
       "      <td>0</td>\n",
       "      <td>Check-Out</td>\n",
       "      <td>2015-07-01</td>\n",
       "      <td>1</td>\n",
       "      <td>8ca998d6-fae7-4ee4-a706-3765721aaff5</td>\n",
       "    </tr>\n",
       "    <tr>\n",
       "      <th>1</th>\n",
       "      <td>0</td>\n",
       "      <td>737</td>\n",
       "      <td>2015</td>\n",
       "      <td>July</td>\n",
       "      <td>27</td>\n",
       "      <td>1</td>\n",
       "      <td>0</td>\n",
       "      <td>0</td>\n",
       "      <td>2</td>\n",
       "      <td>0.00</td>\n",
       "      <td>0</td>\n",
       "      <td>BB</td>\n",
       "      <td>PRT</td>\n",
       "      <td>Direct</td>\n",
       "      <td>Direct</td>\n",
       "      <td>0</td>\n",
       "      <td>0</td>\n",
       "      <td>0</td>\n",
       "      <td>C</td>\n",
       "      <td>C</td>\n",
       "      <td>4</td>\n",
       "      <td>No Deposit</td>\n",
       "      <td>NULL</td>\n",
       "      <td>NULL</td>\n",
       "      <td>0</td>\n",
       "      <td>Transient</td>\n",
       "      <td>0.00</td>\n",
       "      <td>0</td>\n",
       "      <td>0</td>\n",
       "      <td>Check-Out</td>\n",
       "      <td>2015-07-01</td>\n",
       "      <td>1</td>\n",
       "      <td>e535835e-b19a-4e32-9e9f-6d70a0182d4b</td>\n",
       "    </tr>\n",
       "    <tr>\n",
       "      <th>2</th>\n",
       "      <td>0</td>\n",
       "      <td>7</td>\n",
       "      <td>2015</td>\n",
       "      <td>July</td>\n",
       "      <td>27</td>\n",
       "      <td>1</td>\n",
       "      <td>0</td>\n",
       "      <td>1</td>\n",
       "      <td>1</td>\n",
       "      <td>0.00</td>\n",
       "      <td>0</td>\n",
       "      <td>BB</td>\n",
       "      <td>GBR</td>\n",
       "      <td>Direct</td>\n",
       "      <td>Direct</td>\n",
       "      <td>0</td>\n",
       "      <td>0</td>\n",
       "      <td>0</td>\n",
       "      <td>A</td>\n",
       "      <td>C</td>\n",
       "      <td>0</td>\n",
       "      <td>No Deposit</td>\n",
       "      <td>NULL</td>\n",
       "      <td>NULL</td>\n",
       "      <td>0</td>\n",
       "      <td>Transient</td>\n",
       "      <td>75.00</td>\n",
       "      <td>0</td>\n",
       "      <td>0</td>\n",
       "      <td>Check-Out</td>\n",
       "      <td>2015-07-02</td>\n",
       "      <td>1</td>\n",
       "      <td>9429383d-0efd-4c37-bb9b-0aaa63d5aade</td>\n",
       "    </tr>\n",
       "    <tr>\n",
       "      <th>3</th>\n",
       "      <td>0</td>\n",
       "      <td>13</td>\n",
       "      <td>2015</td>\n",
       "      <td>July</td>\n",
       "      <td>27</td>\n",
       "      <td>1</td>\n",
       "      <td>0</td>\n",
       "      <td>1</td>\n",
       "      <td>1</td>\n",
       "      <td>0.00</td>\n",
       "      <td>0</td>\n",
       "      <td>BB</td>\n",
       "      <td>GBR</td>\n",
       "      <td>Corporate</td>\n",
       "      <td>Corporate</td>\n",
       "      <td>0</td>\n",
       "      <td>0</td>\n",
       "      <td>0</td>\n",
       "      <td>A</td>\n",
       "      <td>A</td>\n",
       "      <td>0</td>\n",
       "      <td>No Deposit</td>\n",
       "      <td>304</td>\n",
       "      <td>NULL</td>\n",
       "      <td>0</td>\n",
       "      <td>Transient</td>\n",
       "      <td>75.00</td>\n",
       "      <td>0</td>\n",
       "      <td>0</td>\n",
       "      <td>Check-Out</td>\n",
       "      <td>2015-07-02</td>\n",
       "      <td>1</td>\n",
       "      <td>dd6424ee-6838-4007-ad85-de9ff96be14b</td>\n",
       "    </tr>\n",
       "    <tr>\n",
       "      <th>4</th>\n",
       "      <td>0</td>\n",
       "      <td>14</td>\n",
       "      <td>2015</td>\n",
       "      <td>July</td>\n",
       "      <td>27</td>\n",
       "      <td>1</td>\n",
       "      <td>0</td>\n",
       "      <td>2</td>\n",
       "      <td>2</td>\n",
       "      <td>0.00</td>\n",
       "      <td>0</td>\n",
       "      <td>BB</td>\n",
       "      <td>GBR</td>\n",
       "      <td>Online TA</td>\n",
       "      <td>TA/TO</td>\n",
       "      <td>0</td>\n",
       "      <td>0</td>\n",
       "      <td>0</td>\n",
       "      <td>A</td>\n",
       "      <td>A</td>\n",
       "      <td>0</td>\n",
       "      <td>No Deposit</td>\n",
       "      <td>240</td>\n",
       "      <td>NULL</td>\n",
       "      <td>0</td>\n",
       "      <td>Transient</td>\n",
       "      <td>98.00</td>\n",
       "      <td>0</td>\n",
       "      <td>1</td>\n",
       "      <td>Check-Out</td>\n",
       "      <td>2015-07-03</td>\n",
       "      <td>1</td>\n",
       "      <td>50ff56ee-6a72-40dc-8ff1-4246b831c779</td>\n",
       "    </tr>\n",
       "  </tbody>\n",
       "</table>\n",
       "</div>"
      ],
      "text/plain": [
       "   IsCanceled  LeadTime  ArrivalDateYear ArrivalDateMonth  \\\n",
       "0           0       342             2015             July   \n",
       "1           0       737             2015             July   \n",
       "2           0         7             2015             July   \n",
       "3           0        13             2015             July   \n",
       "4           0        14             2015             July   \n",
       "\n",
       "   ArrivalDateWeekNumber  ArrivalDateDayOfMonth  StaysInWeekendNights  \\\n",
       "0                     27                      1                     0   \n",
       "1                     27                      1                     0   \n",
       "2                     27                      1                     0   \n",
       "3                     27                      1                     0   \n",
       "4                     27                      1                     0   \n",
       "\n",
       "   StaysInWeekNights  Adults  Children  Babies       Meal Country  \\\n",
       "0                  0       2      0.00       0  BB            PRT   \n",
       "1                  0       2      0.00       0  BB            PRT   \n",
       "2                  1       1      0.00       0  BB            GBR   \n",
       "3                  1       1      0.00       0  BB            GBR   \n",
       "4                  2       2      0.00       0  BB            GBR   \n",
       "\n",
       "  MarketSegment DistributionChannel  IsRepeatedGuest  PreviousCancellations  \\\n",
       "0        Direct              Direct                0                      0   \n",
       "1        Direct              Direct                0                      0   \n",
       "2        Direct              Direct                0                      0   \n",
       "3     Corporate           Corporate                0                      0   \n",
       "4     Online TA               TA/TO                0                      0   \n",
       "\n",
       "   PreviousBookingsNotCanceled  ReservedRoomType  AssignedRoomType  \\\n",
       "0                            0  C                 C                  \n",
       "1                            0  C                 C                  \n",
       "2                            0  A                 C                  \n",
       "3                            0  A                 A                  \n",
       "4                            0  A                 A                  \n",
       "\n",
       "   BookingChanges      DepositType        Agent      Company  \\\n",
       "0               3  No Deposit              NULL         NULL   \n",
       "1               4  No Deposit              NULL         NULL   \n",
       "2               0  No Deposit              NULL         NULL   \n",
       "3               0  No Deposit               304         NULL   \n",
       "4               0  No Deposit               240         NULL   \n",
       "\n",
       "   DaysInWaitingList CustomerType   ADR  RequiredCarParkingSpaces  \\\n",
       "0                  0    Transient  0.00                         0   \n",
       "1                  0    Transient  0.00                         0   \n",
       "2                  0    Transient 75.00                         0   \n",
       "3                  0    Transient 75.00                         0   \n",
       "4                  0    Transient 98.00                         0   \n",
       "\n",
       "   TotalOfSpecialRequests ReservationStatus ReservationStatusDate  \\\n",
       "0                       0         Check-Out            2015-07-01   \n",
       "1                       0         Check-Out            2015-07-01   \n",
       "2                       0         Check-Out            2015-07-02   \n",
       "3                       0         Check-Out            2015-07-02   \n",
       "4                       1         Check-Out            2015-07-03   \n",
       "\n",
       "   HotelNumber                                  UUID  \n",
       "0            1  8ca998d6-fae7-4ee4-a706-3765721aaff5  \n",
       "1            1  e535835e-b19a-4e32-9e9f-6d70a0182d4b  \n",
       "2            1  9429383d-0efd-4c37-bb9b-0aaa63d5aade  \n",
       "3            1  dd6424ee-6838-4007-ad85-de9ff96be14b  \n",
       "4            1  50ff56ee-6a72-40dc-8ff1-4246b831c779  "
      ]
     },
     "execution_count": 5,
     "metadata": {},
     "output_type": "execute_result"
    }
   ],
   "source": [
    "backup_data_path = '../data/data_condensed_with_uuid.parquet'\n",
    "\n",
    "data = pd.read_parquet(backup_data_path)\n",
    "\n",
    "data.head()"
   ]
  },
  {
   "cell_type": "markdown",
   "metadata": {},
   "source": [
    "## Add Pre-Engineered Date Features"
   ]
  },
  {
   "cell_type": "code",
   "execution_count": 6,
   "metadata": {
    "execution": {
     "iopub.execute_input": "2024-03-29T19:28:49.996421Z",
     "iopub.status.busy": "2024-03-29T19:28:49.995437Z",
     "iopub.status.idle": "2024-03-29T19:28:50.135727Z",
     "shell.execute_reply": "2024-03-29T19:28:50.134792Z",
     "shell.execute_reply.started": "2024-03-29T19:28:49.996421Z"
    }
   },
   "outputs": [
    {
     "data": {
      "text/html": [
       "<div>\n",
       "<style scoped>\n",
       "    .dataframe tbody tr th:only-of-type {\n",
       "        vertical-align: middle;\n",
       "    }\n",
       "\n",
       "    .dataframe tbody tr th {\n",
       "        vertical-align: top;\n",
       "    }\n",
       "\n",
       "    .dataframe thead th {\n",
       "        text-align: right;\n",
       "    }\n",
       "</style>\n",
       "<table border=\"1\" class=\"dataframe\">\n",
       "  <thead>\n",
       "    <tr style=\"text-align: right;\">\n",
       "      <th></th>\n",
       "      <th>UUID</th>\n",
       "      <th>ReservationStatusDate</th>\n",
       "      <th>ArrivalDate</th>\n",
       "      <th>DepartureDate</th>\n",
       "      <th>BookingDate</th>\n",
       "      <th>ArrivalDate_DaysBeforeHoliday</th>\n",
       "      <th>ArrivalDate_DaysAfterHoliday</th>\n",
       "      <th>DepartureDate_DaysBeforeHoliday</th>\n",
       "      <th>DepartureDate_DaysAfterHoliday</th>\n",
       "      <th>BookingDate_DaysBeforeHoliday</th>\n",
       "      <th>BookingDate_DaysAfterHoliday</th>\n",
       "      <th>ArrivalDate_WeekNumber</th>\n",
       "      <th>ArrivalDate_DayOfWeek</th>\n",
       "      <th>DepartureDate_WeekNumber</th>\n",
       "      <th>DepartureDate_DayOfWeek</th>\n",
       "      <th>BookingDate_WeekNumber</th>\n",
       "      <th>BookingDate_DayOfWeek</th>\n",
       "    </tr>\n",
       "  </thead>\n",
       "  <tbody>\n",
       "    <tr>\n",
       "      <th>0</th>\n",
       "      <td>8ca998d6-fae7-4ee4-a706-3765721aaff5</td>\n",
       "      <td>2015-07-01</td>\n",
       "      <td>2015-07-01</td>\n",
       "      <td>2015-07-01</td>\n",
       "      <td>2014-07-24</td>\n",
       "      <td>45</td>\n",
       "      <td>21</td>\n",
       "      <td>45</td>\n",
       "      <td>21</td>\n",
       "      <td>22</td>\n",
       "      <td>44</td>\n",
       "      <td>27</td>\n",
       "      <td>3</td>\n",
       "      <td>27</td>\n",
       "      <td>3</td>\n",
       "      <td>30</td>\n",
       "      <td>4</td>\n",
       "    </tr>\n",
       "    <tr>\n",
       "      <th>1</th>\n",
       "      <td>e535835e-b19a-4e32-9e9f-6d70a0182d4b</td>\n",
       "      <td>2015-07-01</td>\n",
       "      <td>2015-07-01</td>\n",
       "      <td>2015-07-01</td>\n",
       "      <td>2013-06-24</td>\n",
       "      <td>45</td>\n",
       "      <td>21</td>\n",
       "      <td>45</td>\n",
       "      <td>21</td>\n",
       "      <td>52</td>\n",
       "      <td>14</td>\n",
       "      <td>27</td>\n",
       "      <td>3</td>\n",
       "      <td>27</td>\n",
       "      <td>3</td>\n",
       "      <td>26</td>\n",
       "      <td>1</td>\n",
       "    </tr>\n",
       "    <tr>\n",
       "      <th>2</th>\n",
       "      <td>9429383d-0efd-4c37-bb9b-0aaa63d5aade</td>\n",
       "      <td>2015-07-02</td>\n",
       "      <td>2015-07-01</td>\n",
       "      <td>2015-07-02</td>\n",
       "      <td>2015-06-24</td>\n",
       "      <td>45</td>\n",
       "      <td>21</td>\n",
       "      <td>44</td>\n",
       "      <td>22</td>\n",
       "      <td>52</td>\n",
       "      <td>14</td>\n",
       "      <td>27</td>\n",
       "      <td>3</td>\n",
       "      <td>27</td>\n",
       "      <td>4</td>\n",
       "      <td>26</td>\n",
       "      <td>3</td>\n",
       "    </tr>\n",
       "    <tr>\n",
       "      <th>3</th>\n",
       "      <td>dd6424ee-6838-4007-ad85-de9ff96be14b</td>\n",
       "      <td>2015-07-02</td>\n",
       "      <td>2015-07-01</td>\n",
       "      <td>2015-07-02</td>\n",
       "      <td>2015-06-18</td>\n",
       "      <td>45</td>\n",
       "      <td>21</td>\n",
       "      <td>44</td>\n",
       "      <td>22</td>\n",
       "      <td>58</td>\n",
       "      <td>8</td>\n",
       "      <td>27</td>\n",
       "      <td>3</td>\n",
       "      <td>27</td>\n",
       "      <td>4</td>\n",
       "      <td>25</td>\n",
       "      <td>4</td>\n",
       "    </tr>\n",
       "    <tr>\n",
       "      <th>4</th>\n",
       "      <td>50ff56ee-6a72-40dc-8ff1-4246b831c779</td>\n",
       "      <td>2015-07-03</td>\n",
       "      <td>2015-07-01</td>\n",
       "      <td>2015-07-03</td>\n",
       "      <td>2015-06-17</td>\n",
       "      <td>45</td>\n",
       "      <td>21</td>\n",
       "      <td>43</td>\n",
       "      <td>23</td>\n",
       "      <td>59</td>\n",
       "      <td>7</td>\n",
       "      <td>27</td>\n",
       "      <td>3</td>\n",
       "      <td>27</td>\n",
       "      <td>5</td>\n",
       "      <td>25</td>\n",
       "      <td>3</td>\n",
       "    </tr>\n",
       "  </tbody>\n",
       "</table>\n",
       "</div>"
      ],
      "text/plain": [
       "                                   UUID ReservationStatusDate ArrivalDate  \\\n",
       "0  8ca998d6-fae7-4ee4-a706-3765721aaff5            2015-07-01  2015-07-01   \n",
       "1  e535835e-b19a-4e32-9e9f-6d70a0182d4b            2015-07-01  2015-07-01   \n",
       "2  9429383d-0efd-4c37-bb9b-0aaa63d5aade            2015-07-02  2015-07-01   \n",
       "3  dd6424ee-6838-4007-ad85-de9ff96be14b            2015-07-02  2015-07-01   \n",
       "4  50ff56ee-6a72-40dc-8ff1-4246b831c779            2015-07-03  2015-07-01   \n",
       "\n",
       "  DepartureDate BookingDate  ArrivalDate_DaysBeforeHoliday  \\\n",
       "0    2015-07-01  2014-07-24                             45   \n",
       "1    2015-07-01  2013-06-24                             45   \n",
       "2    2015-07-02  2015-06-24                             45   \n",
       "3    2015-07-02  2015-06-18                             45   \n",
       "4    2015-07-03  2015-06-17                             45   \n",
       "\n",
       "   ArrivalDate_DaysAfterHoliday  DepartureDate_DaysBeforeHoliday  \\\n",
       "0                            21                               45   \n",
       "1                            21                               45   \n",
       "2                            21                               44   \n",
       "3                            21                               44   \n",
       "4                            21                               43   \n",
       "\n",
       "   DepartureDate_DaysAfterHoliday  BookingDate_DaysBeforeHoliday  \\\n",
       "0                              21                             22   \n",
       "1                              21                             52   \n",
       "2                              22                             52   \n",
       "3                              22                             58   \n",
       "4                              23                             59   \n",
       "\n",
       "   BookingDate_DaysAfterHoliday  ArrivalDate_WeekNumber  \\\n",
       "0                            44                      27   \n",
       "1                            14                      27   \n",
       "2                            14                      27   \n",
       "3                             8                      27   \n",
       "4                             7                      27   \n",
       "\n",
       "   ArrivalDate_DayOfWeek  DepartureDate_WeekNumber  DepartureDate_DayOfWeek  \\\n",
       "0                      3                        27                        3   \n",
       "1                      3                        27                        3   \n",
       "2                      3                        27                        4   \n",
       "3                      3                        27                        4   \n",
       "4                      3                        27                        5   \n",
       "\n",
       "   BookingDate_WeekNumber  BookingDate_DayOfWeek  \n",
       "0                      30                      4  \n",
       "1                      26                      1  \n",
       "2                      26                      3  \n",
       "3                      25                      4  \n",
       "4                      25                      3  "
      ]
     },
     "execution_count": 6,
     "metadata": {},
     "output_type": "execute_result"
    }
   ],
   "source": [
    "filepath = '../data/engineered_data_dates.parquet'\n",
    "\n",
    "df_dates = pd.read_parquet(filepath)\n",
    "df_dates.head()"
   ]
  },
  {
   "cell_type": "code",
   "execution_count": 7,
   "metadata": {
    "execution": {
     "iopub.execute_input": "2024-03-29T19:28:50.136809Z",
     "iopub.status.busy": "2024-03-29T19:28:50.136809Z",
     "iopub.status.idle": "2024-03-29T19:28:50.245037Z",
     "shell.execute_reply": "2024-03-29T19:28:50.244032Z",
     "shell.execute_reply.started": "2024-03-29T19:28:50.136809Z"
    }
   },
   "outputs": [
    {
     "name": "stdout",
     "output_type": "stream",
     "text": [
      "<class 'pandas.core.frame.DataFrame'>\n",
      "RangeIndex: 119390 entries, 0 to 119389\n",
      "Data columns (total 17 columns):\n",
      " #   Column                           Non-Null Count   Dtype         \n",
      "---  ------                           --------------   -----         \n",
      " 0   UUID                             119390 non-null  object        \n",
      " 1   ReservationStatusDate            119390 non-null  datetime64[ns]\n",
      " 2   ArrivalDate                      119390 non-null  datetime64[ns]\n",
      " 3   DepartureDate                    119390 non-null  datetime64[ns]\n",
      " 4   BookingDate                      119390 non-null  datetime64[ns]\n",
      " 5   ArrivalDate_DaysBeforeHoliday    119390 non-null  int64         \n",
      " 6   ArrivalDate_DaysAfterHoliday     119390 non-null  int64         \n",
      " 7   DepartureDate_DaysBeforeHoliday  119390 non-null  int64         \n",
      " 8   DepartureDate_DaysAfterHoliday   119390 non-null  int64         \n",
      " 9   BookingDate_DaysBeforeHoliday    119390 non-null  int64         \n",
      " 10  BookingDate_DaysAfterHoliday     119390 non-null  int64         \n",
      " 11  ArrivalDate_WeekNumber           119390 non-null  UInt32        \n",
      " 12  ArrivalDate_DayOfWeek            119390 non-null  UInt32        \n",
      " 13  DepartureDate_WeekNumber         119390 non-null  UInt32        \n",
      " 14  DepartureDate_DayOfWeek          119390 non-null  UInt32        \n",
      " 15  BookingDate_WeekNumber           119390 non-null  UInt32        \n",
      " 16  BookingDate_DayOfWeek            119390 non-null  UInt32        \n",
      "dtypes: UInt32(6), datetime64[ns](4), int64(6), object(1)\n",
      "memory usage: 13.4+ MB\n"
     ]
    }
   ],
   "source": [
    "df_dates.info()"
   ]
  },
  {
   "cell_type": "markdown",
   "metadata": {},
   "source": [
    "## Condense to Single DataFrame"
   ]
  },
  {
   "cell_type": "code",
   "execution_count": 8,
   "metadata": {
    "execution": {
     "iopub.execute_input": "2024-03-29T19:28:50.246334Z",
     "iopub.status.busy": "2024-03-29T19:28:50.245325Z",
     "iopub.status.idle": "2024-03-29T19:28:50.393616Z",
     "shell.execute_reply": "2024-03-29T19:28:50.393616Z",
     "shell.execute_reply.started": "2024-03-29T19:28:50.246334Z"
    },
    "scrolled": true
   },
   "outputs": [
    {
     "data": {
      "text/html": [
       "<div>\n",
       "<style scoped>\n",
       "    .dataframe tbody tr th:only-of-type {\n",
       "        vertical-align: middle;\n",
       "    }\n",
       "\n",
       "    .dataframe tbody tr th {\n",
       "        vertical-align: top;\n",
       "    }\n",
       "\n",
       "    .dataframe thead th {\n",
       "        text-align: right;\n",
       "    }\n",
       "</style>\n",
       "<table border=\"1\" class=\"dataframe\">\n",
       "  <thead>\n",
       "    <tr style=\"text-align: right;\">\n",
       "      <th></th>\n",
       "      <th>IsCanceled</th>\n",
       "      <th>LeadTime</th>\n",
       "      <th>ArrivalDateYear</th>\n",
       "      <th>ArrivalDateMonth</th>\n",
       "      <th>ArrivalDateWeekNumber</th>\n",
       "      <th>ArrivalDateDayOfMonth</th>\n",
       "      <th>StaysInWeekendNights</th>\n",
       "      <th>StaysInWeekNights</th>\n",
       "      <th>Adults</th>\n",
       "      <th>Children</th>\n",
       "      <th>Babies</th>\n",
       "      <th>Meal</th>\n",
       "      <th>Country</th>\n",
       "      <th>MarketSegment</th>\n",
       "      <th>DistributionChannel</th>\n",
       "      <th>IsRepeatedGuest</th>\n",
       "      <th>PreviousCancellations</th>\n",
       "      <th>PreviousBookingsNotCanceled</th>\n",
       "      <th>ReservedRoomType</th>\n",
       "      <th>AssignedRoomType</th>\n",
       "      <th>BookingChanges</th>\n",
       "      <th>DepositType</th>\n",
       "      <th>Agent</th>\n",
       "      <th>Company</th>\n",
       "      <th>DaysInWaitingList</th>\n",
       "      <th>CustomerType</th>\n",
       "      <th>ADR</th>\n",
       "      <th>RequiredCarParkingSpaces</th>\n",
       "      <th>TotalOfSpecialRequests</th>\n",
       "      <th>ReservationStatus</th>\n",
       "      <th>ReservationStatusDate_x</th>\n",
       "      <th>HotelNumber</th>\n",
       "      <th>UUID</th>\n",
       "      <th>ReservationStatusDate_y</th>\n",
       "      <th>ArrivalDate</th>\n",
       "      <th>DepartureDate</th>\n",
       "      <th>BookingDate</th>\n",
       "      <th>ArrivalDate_DaysBeforeHoliday</th>\n",
       "      <th>ArrivalDate_DaysAfterHoliday</th>\n",
       "      <th>DepartureDate_DaysBeforeHoliday</th>\n",
       "      <th>DepartureDate_DaysAfterHoliday</th>\n",
       "      <th>BookingDate_DaysBeforeHoliday</th>\n",
       "      <th>BookingDate_DaysAfterHoliday</th>\n",
       "      <th>ArrivalDate_WeekNumber</th>\n",
       "      <th>ArrivalDate_DayOfWeek</th>\n",
       "      <th>DepartureDate_WeekNumber</th>\n",
       "      <th>DepartureDate_DayOfWeek</th>\n",
       "      <th>BookingDate_WeekNumber</th>\n",
       "      <th>BookingDate_DayOfWeek</th>\n",
       "    </tr>\n",
       "  </thead>\n",
       "  <tbody>\n",
       "    <tr>\n",
       "      <th>0</th>\n",
       "      <td>0</td>\n",
       "      <td>342</td>\n",
       "      <td>2015</td>\n",
       "      <td>July</td>\n",
       "      <td>27</td>\n",
       "      <td>1</td>\n",
       "      <td>0</td>\n",
       "      <td>0</td>\n",
       "      <td>2</td>\n",
       "      <td>0.00</td>\n",
       "      <td>0</td>\n",
       "      <td>BB</td>\n",
       "      <td>PRT</td>\n",
       "      <td>Direct</td>\n",
       "      <td>Direct</td>\n",
       "      <td>0</td>\n",
       "      <td>0</td>\n",
       "      <td>0</td>\n",
       "      <td>C</td>\n",
       "      <td>C</td>\n",
       "      <td>3</td>\n",
       "      <td>No Deposit</td>\n",
       "      <td>NULL</td>\n",
       "      <td>NULL</td>\n",
       "      <td>0</td>\n",
       "      <td>Transient</td>\n",
       "      <td>0.00</td>\n",
       "      <td>0</td>\n",
       "      <td>0</td>\n",
       "      <td>Check-Out</td>\n",
       "      <td>2015-07-01</td>\n",
       "      <td>1</td>\n",
       "      <td>8ca998d6-fae7-4ee4-a706-3765721aaff5</td>\n",
       "      <td>2015-07-01</td>\n",
       "      <td>2015-07-01</td>\n",
       "      <td>2015-07-01</td>\n",
       "      <td>2014-07-24</td>\n",
       "      <td>45</td>\n",
       "      <td>21</td>\n",
       "      <td>45</td>\n",
       "      <td>21</td>\n",
       "      <td>22</td>\n",
       "      <td>44</td>\n",
       "      <td>27</td>\n",
       "      <td>3</td>\n",
       "      <td>27</td>\n",
       "      <td>3</td>\n",
       "      <td>30</td>\n",
       "      <td>4</td>\n",
       "    </tr>\n",
       "    <tr>\n",
       "      <th>1</th>\n",
       "      <td>0</td>\n",
       "      <td>737</td>\n",
       "      <td>2015</td>\n",
       "      <td>July</td>\n",
       "      <td>27</td>\n",
       "      <td>1</td>\n",
       "      <td>0</td>\n",
       "      <td>0</td>\n",
       "      <td>2</td>\n",
       "      <td>0.00</td>\n",
       "      <td>0</td>\n",
       "      <td>BB</td>\n",
       "      <td>PRT</td>\n",
       "      <td>Direct</td>\n",
       "      <td>Direct</td>\n",
       "      <td>0</td>\n",
       "      <td>0</td>\n",
       "      <td>0</td>\n",
       "      <td>C</td>\n",
       "      <td>C</td>\n",
       "      <td>4</td>\n",
       "      <td>No Deposit</td>\n",
       "      <td>NULL</td>\n",
       "      <td>NULL</td>\n",
       "      <td>0</td>\n",
       "      <td>Transient</td>\n",
       "      <td>0.00</td>\n",
       "      <td>0</td>\n",
       "      <td>0</td>\n",
       "      <td>Check-Out</td>\n",
       "      <td>2015-07-01</td>\n",
       "      <td>1</td>\n",
       "      <td>e535835e-b19a-4e32-9e9f-6d70a0182d4b</td>\n",
       "      <td>2015-07-01</td>\n",
       "      <td>2015-07-01</td>\n",
       "      <td>2015-07-01</td>\n",
       "      <td>2013-06-24</td>\n",
       "      <td>45</td>\n",
       "      <td>21</td>\n",
       "      <td>45</td>\n",
       "      <td>21</td>\n",
       "      <td>52</td>\n",
       "      <td>14</td>\n",
       "      <td>27</td>\n",
       "      <td>3</td>\n",
       "      <td>27</td>\n",
       "      <td>3</td>\n",
       "      <td>26</td>\n",
       "      <td>1</td>\n",
       "    </tr>\n",
       "    <tr>\n",
       "      <th>2</th>\n",
       "      <td>0</td>\n",
       "      <td>7</td>\n",
       "      <td>2015</td>\n",
       "      <td>July</td>\n",
       "      <td>27</td>\n",
       "      <td>1</td>\n",
       "      <td>0</td>\n",
       "      <td>1</td>\n",
       "      <td>1</td>\n",
       "      <td>0.00</td>\n",
       "      <td>0</td>\n",
       "      <td>BB</td>\n",
       "      <td>GBR</td>\n",
       "      <td>Direct</td>\n",
       "      <td>Direct</td>\n",
       "      <td>0</td>\n",
       "      <td>0</td>\n",
       "      <td>0</td>\n",
       "      <td>A</td>\n",
       "      <td>C</td>\n",
       "      <td>0</td>\n",
       "      <td>No Deposit</td>\n",
       "      <td>NULL</td>\n",
       "      <td>NULL</td>\n",
       "      <td>0</td>\n",
       "      <td>Transient</td>\n",
       "      <td>75.00</td>\n",
       "      <td>0</td>\n",
       "      <td>0</td>\n",
       "      <td>Check-Out</td>\n",
       "      <td>2015-07-02</td>\n",
       "      <td>1</td>\n",
       "      <td>9429383d-0efd-4c37-bb9b-0aaa63d5aade</td>\n",
       "      <td>2015-07-02</td>\n",
       "      <td>2015-07-01</td>\n",
       "      <td>2015-07-02</td>\n",
       "      <td>2015-06-24</td>\n",
       "      <td>45</td>\n",
       "      <td>21</td>\n",
       "      <td>44</td>\n",
       "      <td>22</td>\n",
       "      <td>52</td>\n",
       "      <td>14</td>\n",
       "      <td>27</td>\n",
       "      <td>3</td>\n",
       "      <td>27</td>\n",
       "      <td>4</td>\n",
       "      <td>26</td>\n",
       "      <td>3</td>\n",
       "    </tr>\n",
       "    <tr>\n",
       "      <th>3</th>\n",
       "      <td>0</td>\n",
       "      <td>13</td>\n",
       "      <td>2015</td>\n",
       "      <td>July</td>\n",
       "      <td>27</td>\n",
       "      <td>1</td>\n",
       "      <td>0</td>\n",
       "      <td>1</td>\n",
       "      <td>1</td>\n",
       "      <td>0.00</td>\n",
       "      <td>0</td>\n",
       "      <td>BB</td>\n",
       "      <td>GBR</td>\n",
       "      <td>Corporate</td>\n",
       "      <td>Corporate</td>\n",
       "      <td>0</td>\n",
       "      <td>0</td>\n",
       "      <td>0</td>\n",
       "      <td>A</td>\n",
       "      <td>A</td>\n",
       "      <td>0</td>\n",
       "      <td>No Deposit</td>\n",
       "      <td>304</td>\n",
       "      <td>NULL</td>\n",
       "      <td>0</td>\n",
       "      <td>Transient</td>\n",
       "      <td>75.00</td>\n",
       "      <td>0</td>\n",
       "      <td>0</td>\n",
       "      <td>Check-Out</td>\n",
       "      <td>2015-07-02</td>\n",
       "      <td>1</td>\n",
       "      <td>dd6424ee-6838-4007-ad85-de9ff96be14b</td>\n",
       "      <td>2015-07-02</td>\n",
       "      <td>2015-07-01</td>\n",
       "      <td>2015-07-02</td>\n",
       "      <td>2015-06-18</td>\n",
       "      <td>45</td>\n",
       "      <td>21</td>\n",
       "      <td>44</td>\n",
       "      <td>22</td>\n",
       "      <td>58</td>\n",
       "      <td>8</td>\n",
       "      <td>27</td>\n",
       "      <td>3</td>\n",
       "      <td>27</td>\n",
       "      <td>4</td>\n",
       "      <td>25</td>\n",
       "      <td>4</td>\n",
       "    </tr>\n",
       "    <tr>\n",
       "      <th>4</th>\n",
       "      <td>0</td>\n",
       "      <td>14</td>\n",
       "      <td>2015</td>\n",
       "      <td>July</td>\n",
       "      <td>27</td>\n",
       "      <td>1</td>\n",
       "      <td>0</td>\n",
       "      <td>2</td>\n",
       "      <td>2</td>\n",
       "      <td>0.00</td>\n",
       "      <td>0</td>\n",
       "      <td>BB</td>\n",
       "      <td>GBR</td>\n",
       "      <td>Online TA</td>\n",
       "      <td>TA/TO</td>\n",
       "      <td>0</td>\n",
       "      <td>0</td>\n",
       "      <td>0</td>\n",
       "      <td>A</td>\n",
       "      <td>A</td>\n",
       "      <td>0</td>\n",
       "      <td>No Deposit</td>\n",
       "      <td>240</td>\n",
       "      <td>NULL</td>\n",
       "      <td>0</td>\n",
       "      <td>Transient</td>\n",
       "      <td>98.00</td>\n",
       "      <td>0</td>\n",
       "      <td>1</td>\n",
       "      <td>Check-Out</td>\n",
       "      <td>2015-07-03</td>\n",
       "      <td>1</td>\n",
       "      <td>50ff56ee-6a72-40dc-8ff1-4246b831c779</td>\n",
       "      <td>2015-07-03</td>\n",
       "      <td>2015-07-01</td>\n",
       "      <td>2015-07-03</td>\n",
       "      <td>2015-06-17</td>\n",
       "      <td>45</td>\n",
       "      <td>21</td>\n",
       "      <td>43</td>\n",
       "      <td>23</td>\n",
       "      <td>59</td>\n",
       "      <td>7</td>\n",
       "      <td>27</td>\n",
       "      <td>3</td>\n",
       "      <td>27</td>\n",
       "      <td>5</td>\n",
       "      <td>25</td>\n",
       "      <td>3</td>\n",
       "    </tr>\n",
       "  </tbody>\n",
       "</table>\n",
       "</div>"
      ],
      "text/plain": [
       "   IsCanceled  LeadTime  ArrivalDateYear ArrivalDateMonth  \\\n",
       "0           0       342             2015             July   \n",
       "1           0       737             2015             July   \n",
       "2           0         7             2015             July   \n",
       "3           0        13             2015             July   \n",
       "4           0        14             2015             July   \n",
       "\n",
       "   ArrivalDateWeekNumber  ArrivalDateDayOfMonth  StaysInWeekendNights  \\\n",
       "0                     27                      1                     0   \n",
       "1                     27                      1                     0   \n",
       "2                     27                      1                     0   \n",
       "3                     27                      1                     0   \n",
       "4                     27                      1                     0   \n",
       "\n",
       "   StaysInWeekNights  Adults  Children  Babies       Meal Country  \\\n",
       "0                  0       2      0.00       0  BB            PRT   \n",
       "1                  0       2      0.00       0  BB            PRT   \n",
       "2                  1       1      0.00       0  BB            GBR   \n",
       "3                  1       1      0.00       0  BB            GBR   \n",
       "4                  2       2      0.00       0  BB            GBR   \n",
       "\n",
       "  MarketSegment DistributionChannel  IsRepeatedGuest  PreviousCancellations  \\\n",
       "0        Direct              Direct                0                      0   \n",
       "1        Direct              Direct                0                      0   \n",
       "2        Direct              Direct                0                      0   \n",
       "3     Corporate           Corporate                0                      0   \n",
       "4     Online TA               TA/TO                0                      0   \n",
       "\n",
       "   PreviousBookingsNotCanceled  ReservedRoomType  AssignedRoomType  \\\n",
       "0                            0  C                 C                  \n",
       "1                            0  C                 C                  \n",
       "2                            0  A                 C                  \n",
       "3                            0  A                 A                  \n",
       "4                            0  A                 A                  \n",
       "\n",
       "   BookingChanges      DepositType        Agent      Company  \\\n",
       "0               3  No Deposit              NULL         NULL   \n",
       "1               4  No Deposit              NULL         NULL   \n",
       "2               0  No Deposit              NULL         NULL   \n",
       "3               0  No Deposit               304         NULL   \n",
       "4               0  No Deposit               240         NULL   \n",
       "\n",
       "   DaysInWaitingList CustomerType   ADR  RequiredCarParkingSpaces  \\\n",
       "0                  0    Transient  0.00                         0   \n",
       "1                  0    Transient  0.00                         0   \n",
       "2                  0    Transient 75.00                         0   \n",
       "3                  0    Transient 75.00                         0   \n",
       "4                  0    Transient 98.00                         0   \n",
       "\n",
       "   TotalOfSpecialRequests ReservationStatus ReservationStatusDate_x  \\\n",
       "0                       0         Check-Out              2015-07-01   \n",
       "1                       0         Check-Out              2015-07-01   \n",
       "2                       0         Check-Out              2015-07-02   \n",
       "3                       0         Check-Out              2015-07-02   \n",
       "4                       1         Check-Out              2015-07-03   \n",
       "\n",
       "   HotelNumber                                  UUID ReservationStatusDate_y  \\\n",
       "0            1  8ca998d6-fae7-4ee4-a706-3765721aaff5              2015-07-01   \n",
       "1            1  e535835e-b19a-4e32-9e9f-6d70a0182d4b              2015-07-01   \n",
       "2            1  9429383d-0efd-4c37-bb9b-0aaa63d5aade              2015-07-02   \n",
       "3            1  dd6424ee-6838-4007-ad85-de9ff96be14b              2015-07-02   \n",
       "4            1  50ff56ee-6a72-40dc-8ff1-4246b831c779              2015-07-03   \n",
       "\n",
       "  ArrivalDate DepartureDate BookingDate  ArrivalDate_DaysBeforeHoliday  \\\n",
       "0  2015-07-01    2015-07-01  2014-07-24                             45   \n",
       "1  2015-07-01    2015-07-01  2013-06-24                             45   \n",
       "2  2015-07-01    2015-07-02  2015-06-24                             45   \n",
       "3  2015-07-01    2015-07-02  2015-06-18                             45   \n",
       "4  2015-07-01    2015-07-03  2015-06-17                             45   \n",
       "\n",
       "   ArrivalDate_DaysAfterHoliday  DepartureDate_DaysBeforeHoliday  \\\n",
       "0                            21                               45   \n",
       "1                            21                               45   \n",
       "2                            21                               44   \n",
       "3                            21                               44   \n",
       "4                            21                               43   \n",
       "\n",
       "   DepartureDate_DaysAfterHoliday  BookingDate_DaysBeforeHoliday  \\\n",
       "0                              21                             22   \n",
       "1                              21                             52   \n",
       "2                              22                             52   \n",
       "3                              22                             58   \n",
       "4                              23                             59   \n",
       "\n",
       "   BookingDate_DaysAfterHoliday  ArrivalDate_WeekNumber  \\\n",
       "0                            44                      27   \n",
       "1                            14                      27   \n",
       "2                            14                      27   \n",
       "3                             8                      27   \n",
       "4                             7                      27   \n",
       "\n",
       "   ArrivalDate_DayOfWeek  DepartureDate_WeekNumber  DepartureDate_DayOfWeek  \\\n",
       "0                      3                        27                        3   \n",
       "1                      3                        27                        3   \n",
       "2                      3                        27                        4   \n",
       "3                      3                        27                        4   \n",
       "4                      3                        27                        5   \n",
       "\n",
       "   BookingDate_WeekNumber  BookingDate_DayOfWeek  \n",
       "0                      30                      4  \n",
       "1                      26                      1  \n",
       "2                      26                      3  \n",
       "3                      25                      4  \n",
       "4                      25                      3  "
      ]
     },
     "execution_count": 8,
     "metadata": {},
     "output_type": "execute_result"
    }
   ],
   "source": [
    "data = data.merge(right = df_dates, how = 'left', on = 'UUID')\n",
    "data.head()"
   ]
  },
  {
   "cell_type": "code",
   "execution_count": 9,
   "metadata": {
    "execution": {
     "iopub.execute_input": "2024-03-29T19:28:50.394614Z",
     "iopub.status.busy": "2024-03-29T19:28:50.394614Z",
     "iopub.status.idle": "2024-03-29T19:28:50.533392Z",
     "shell.execute_reply": "2024-03-29T19:28:50.533392Z",
     "shell.execute_reply.started": "2024-03-29T19:28:50.394614Z"
    }
   },
   "outputs": [
    {
     "name": "stdout",
     "output_type": "stream",
     "text": [
      "<class 'pandas.core.frame.DataFrame'>\n",
      "RangeIndex: 119390 entries, 0 to 119389\n",
      "Data columns (total 49 columns):\n",
      " #   Column                           Non-Null Count   Dtype         \n",
      "---  ------                           --------------   -----         \n",
      " 0   IsCanceled                       119390 non-null  int64         \n",
      " 1   LeadTime                         119390 non-null  int64         \n",
      " 2   ArrivalDateYear                  119390 non-null  int64         \n",
      " 3   ArrivalDateMonth                 119390 non-null  object        \n",
      " 4   ArrivalDateWeekNumber            119390 non-null  int64         \n",
      " 5   ArrivalDateDayOfMonth            119390 non-null  int64         \n",
      " 6   StaysInWeekendNights             119390 non-null  int64         \n",
      " 7   StaysInWeekNights                119390 non-null  int64         \n",
      " 8   Adults                           119390 non-null  int64         \n",
      " 9   Children                         119386 non-null  float64       \n",
      " 10  Babies                           119390 non-null  int64         \n",
      " 11  Meal                             119390 non-null  object        \n",
      " 12  Country                          118902 non-null  object        \n",
      " 13  MarketSegment                    119390 non-null  object        \n",
      " 14  DistributionChannel              119390 non-null  object        \n",
      " 15  IsRepeatedGuest                  119390 non-null  int64         \n",
      " 16  PreviousCancellations            119390 non-null  int64         \n",
      " 17  PreviousBookingsNotCanceled      119390 non-null  int64         \n",
      " 18  ReservedRoomType                 119390 non-null  object        \n",
      " 19  AssignedRoomType                 119390 non-null  object        \n",
      " 20  BookingChanges                   119390 non-null  int64         \n",
      " 21  DepositType                      119390 non-null  object        \n",
      " 22  Agent                            119390 non-null  object        \n",
      " 23  Company                          119390 non-null  object        \n",
      " 24  DaysInWaitingList                119390 non-null  int64         \n",
      " 25  CustomerType                     119390 non-null  object        \n",
      " 26  ADR                              119390 non-null  float64       \n",
      " 27  RequiredCarParkingSpaces         119390 non-null  int64         \n",
      " 28  TotalOfSpecialRequests           119390 non-null  int64         \n",
      " 29  ReservationStatus                119390 non-null  object        \n",
      " 30  ReservationStatusDate_x          119390 non-null  object        \n",
      " 31  HotelNumber                      119390 non-null  int64         \n",
      " 32  UUID                             119390 non-null  object        \n",
      " 33  ReservationStatusDate_y          119390 non-null  datetime64[ns]\n",
      " 34  ArrivalDate                      119390 non-null  datetime64[ns]\n",
      " 35  DepartureDate                    119390 non-null  datetime64[ns]\n",
      " 36  BookingDate                      119390 non-null  datetime64[ns]\n",
      " 37  ArrivalDate_DaysBeforeHoliday    119390 non-null  int64         \n",
      " 38  ArrivalDate_DaysAfterHoliday     119390 non-null  int64         \n",
      " 39  DepartureDate_DaysBeforeHoliday  119390 non-null  int64         \n",
      " 40  DepartureDate_DaysAfterHoliday   119390 non-null  int64         \n",
      " 41  BookingDate_DaysBeforeHoliday    119390 non-null  int64         \n",
      " 42  BookingDate_DaysAfterHoliday     119390 non-null  int64         \n",
      " 43  ArrivalDate_WeekNumber           119390 non-null  UInt32        \n",
      " 44  ArrivalDate_DayOfWeek            119390 non-null  UInt32        \n",
      " 45  DepartureDate_WeekNumber         119390 non-null  UInt32        \n",
      " 46  DepartureDate_DayOfWeek          119390 non-null  UInt32        \n",
      " 47  BookingDate_WeekNumber           119390 non-null  UInt32        \n",
      " 48  BookingDate_DayOfWeek            119390 non-null  UInt32        \n",
      "dtypes: UInt32(6), datetime64[ns](4), float64(2), int64(23), object(14)\n",
      "memory usage: 42.6+ MB\n"
     ]
    }
   ],
   "source": [
    "data.info()"
   ]
  },
  {
   "cell_type": "markdown",
   "metadata": {},
   "source": [
    "## Dropping Old Features\n",
    "\n",
    "*Some features were used to engineer new features - particularly arrival details.*"
   ]
  },
  {
   "cell_type": "code",
   "execution_count": 10,
   "metadata": {
    "execution": {
     "iopub.execute_input": "2024-03-29T19:28:50.536333Z",
     "iopub.status.busy": "2024-03-29T19:28:50.536333Z",
     "iopub.status.idle": "2024-03-29T19:28:50.626792Z",
     "shell.execute_reply": "2024-03-29T19:28:50.626792Z",
     "shell.execute_reply.started": "2024-03-29T19:28:50.536333Z"
    }
   },
   "outputs": [
    {
     "data": {
      "text/plain": [
       "['LeadTime',\n",
       " 'ArrivalDateYear',\n",
       " 'ArrivalDateMonth',\n",
       " 'ArrivalDateWeekNumber',\n",
       " 'ArrivalDateDayOfMonth',\n",
       " 'StaysInWeekendNights',\n",
       " 'StaysInWeekNights',\n",
       " 'ReservationStatusDate_x',\n",
       " 'ReservationStatusDate_y',\n",
       " 'ArrivalDate',\n",
       " 'DepartureDate',\n",
       " 'BookingDate']"
      ]
     },
     "execution_count": 10,
     "metadata": {},
     "output_type": "execute_result"
    }
   ],
   "source": [
    "drop_feats = list(data.columns)[1:8]\n",
    "drop_feats.append(list(data.columns)[30])\n",
    "drop_feats.extend(list(data.columns)[33:37])\n",
    "drop_feats"
   ]
  },
  {
   "cell_type": "code",
   "execution_count": 11,
   "metadata": {
    "execution": {
     "iopub.execute_input": "2024-03-29T19:28:50.628781Z",
     "iopub.status.busy": "2024-03-29T19:28:50.627780Z",
     "iopub.status.idle": "2024-03-29T19:28:50.743594Z",
     "shell.execute_reply": "2024-03-29T19:28:50.743594Z",
     "shell.execute_reply.started": "2024-03-29T19:28:50.628781Z"
    }
   },
   "outputs": [
    {
     "data": {
      "text/html": [
       "<div>\n",
       "<style scoped>\n",
       "    .dataframe tbody tr th:only-of-type {\n",
       "        vertical-align: middle;\n",
       "    }\n",
       "\n",
       "    .dataframe tbody tr th {\n",
       "        vertical-align: top;\n",
       "    }\n",
       "\n",
       "    .dataframe thead th {\n",
       "        text-align: right;\n",
       "    }\n",
       "</style>\n",
       "<table border=\"1\" class=\"dataframe\">\n",
       "  <thead>\n",
       "    <tr style=\"text-align: right;\">\n",
       "      <th></th>\n",
       "      <th>IsCanceled</th>\n",
       "      <th>Adults</th>\n",
       "      <th>Children</th>\n",
       "      <th>Babies</th>\n",
       "      <th>Meal</th>\n",
       "      <th>Country</th>\n",
       "      <th>MarketSegment</th>\n",
       "      <th>DistributionChannel</th>\n",
       "      <th>IsRepeatedGuest</th>\n",
       "      <th>PreviousCancellations</th>\n",
       "      <th>PreviousBookingsNotCanceled</th>\n",
       "      <th>ReservedRoomType</th>\n",
       "      <th>AssignedRoomType</th>\n",
       "      <th>BookingChanges</th>\n",
       "      <th>DepositType</th>\n",
       "      <th>Agent</th>\n",
       "      <th>Company</th>\n",
       "      <th>DaysInWaitingList</th>\n",
       "      <th>CustomerType</th>\n",
       "      <th>ADR</th>\n",
       "      <th>RequiredCarParkingSpaces</th>\n",
       "      <th>TotalOfSpecialRequests</th>\n",
       "      <th>ReservationStatus</th>\n",
       "      <th>HotelNumber</th>\n",
       "      <th>UUID</th>\n",
       "      <th>ArrivalDate_DaysBeforeHoliday</th>\n",
       "      <th>ArrivalDate_DaysAfterHoliday</th>\n",
       "      <th>DepartureDate_DaysBeforeHoliday</th>\n",
       "      <th>DepartureDate_DaysAfterHoliday</th>\n",
       "      <th>BookingDate_DaysBeforeHoliday</th>\n",
       "      <th>BookingDate_DaysAfterHoliday</th>\n",
       "      <th>ArrivalDate_WeekNumber</th>\n",
       "      <th>ArrivalDate_DayOfWeek</th>\n",
       "      <th>DepartureDate_WeekNumber</th>\n",
       "      <th>DepartureDate_DayOfWeek</th>\n",
       "      <th>BookingDate_WeekNumber</th>\n",
       "      <th>BookingDate_DayOfWeek</th>\n",
       "    </tr>\n",
       "  </thead>\n",
       "  <tbody>\n",
       "    <tr>\n",
       "      <th>0</th>\n",
       "      <td>0</td>\n",
       "      <td>2</td>\n",
       "      <td>0.00</td>\n",
       "      <td>0</td>\n",
       "      <td>BB</td>\n",
       "      <td>PRT</td>\n",
       "      <td>Direct</td>\n",
       "      <td>Direct</td>\n",
       "      <td>0</td>\n",
       "      <td>0</td>\n",
       "      <td>0</td>\n",
       "      <td>C</td>\n",
       "      <td>C</td>\n",
       "      <td>3</td>\n",
       "      <td>No Deposit</td>\n",
       "      <td>NULL</td>\n",
       "      <td>NULL</td>\n",
       "      <td>0</td>\n",
       "      <td>Transient</td>\n",
       "      <td>0.00</td>\n",
       "      <td>0</td>\n",
       "      <td>0</td>\n",
       "      <td>Check-Out</td>\n",
       "      <td>1</td>\n",
       "      <td>8ca998d6-fae7-4ee4-a706-3765721aaff5</td>\n",
       "      <td>45</td>\n",
       "      <td>21</td>\n",
       "      <td>45</td>\n",
       "      <td>21</td>\n",
       "      <td>22</td>\n",
       "      <td>44</td>\n",
       "      <td>27</td>\n",
       "      <td>3</td>\n",
       "      <td>27</td>\n",
       "      <td>3</td>\n",
       "      <td>30</td>\n",
       "      <td>4</td>\n",
       "    </tr>\n",
       "    <tr>\n",
       "      <th>1</th>\n",
       "      <td>0</td>\n",
       "      <td>2</td>\n",
       "      <td>0.00</td>\n",
       "      <td>0</td>\n",
       "      <td>BB</td>\n",
       "      <td>PRT</td>\n",
       "      <td>Direct</td>\n",
       "      <td>Direct</td>\n",
       "      <td>0</td>\n",
       "      <td>0</td>\n",
       "      <td>0</td>\n",
       "      <td>C</td>\n",
       "      <td>C</td>\n",
       "      <td>4</td>\n",
       "      <td>No Deposit</td>\n",
       "      <td>NULL</td>\n",
       "      <td>NULL</td>\n",
       "      <td>0</td>\n",
       "      <td>Transient</td>\n",
       "      <td>0.00</td>\n",
       "      <td>0</td>\n",
       "      <td>0</td>\n",
       "      <td>Check-Out</td>\n",
       "      <td>1</td>\n",
       "      <td>e535835e-b19a-4e32-9e9f-6d70a0182d4b</td>\n",
       "      <td>45</td>\n",
       "      <td>21</td>\n",
       "      <td>45</td>\n",
       "      <td>21</td>\n",
       "      <td>52</td>\n",
       "      <td>14</td>\n",
       "      <td>27</td>\n",
       "      <td>3</td>\n",
       "      <td>27</td>\n",
       "      <td>3</td>\n",
       "      <td>26</td>\n",
       "      <td>1</td>\n",
       "    </tr>\n",
       "    <tr>\n",
       "      <th>2</th>\n",
       "      <td>0</td>\n",
       "      <td>1</td>\n",
       "      <td>0.00</td>\n",
       "      <td>0</td>\n",
       "      <td>BB</td>\n",
       "      <td>GBR</td>\n",
       "      <td>Direct</td>\n",
       "      <td>Direct</td>\n",
       "      <td>0</td>\n",
       "      <td>0</td>\n",
       "      <td>0</td>\n",
       "      <td>A</td>\n",
       "      <td>C</td>\n",
       "      <td>0</td>\n",
       "      <td>No Deposit</td>\n",
       "      <td>NULL</td>\n",
       "      <td>NULL</td>\n",
       "      <td>0</td>\n",
       "      <td>Transient</td>\n",
       "      <td>75.00</td>\n",
       "      <td>0</td>\n",
       "      <td>0</td>\n",
       "      <td>Check-Out</td>\n",
       "      <td>1</td>\n",
       "      <td>9429383d-0efd-4c37-bb9b-0aaa63d5aade</td>\n",
       "      <td>45</td>\n",
       "      <td>21</td>\n",
       "      <td>44</td>\n",
       "      <td>22</td>\n",
       "      <td>52</td>\n",
       "      <td>14</td>\n",
       "      <td>27</td>\n",
       "      <td>3</td>\n",
       "      <td>27</td>\n",
       "      <td>4</td>\n",
       "      <td>26</td>\n",
       "      <td>3</td>\n",
       "    </tr>\n",
       "    <tr>\n",
       "      <th>3</th>\n",
       "      <td>0</td>\n",
       "      <td>1</td>\n",
       "      <td>0.00</td>\n",
       "      <td>0</td>\n",
       "      <td>BB</td>\n",
       "      <td>GBR</td>\n",
       "      <td>Corporate</td>\n",
       "      <td>Corporate</td>\n",
       "      <td>0</td>\n",
       "      <td>0</td>\n",
       "      <td>0</td>\n",
       "      <td>A</td>\n",
       "      <td>A</td>\n",
       "      <td>0</td>\n",
       "      <td>No Deposit</td>\n",
       "      <td>304</td>\n",
       "      <td>NULL</td>\n",
       "      <td>0</td>\n",
       "      <td>Transient</td>\n",
       "      <td>75.00</td>\n",
       "      <td>0</td>\n",
       "      <td>0</td>\n",
       "      <td>Check-Out</td>\n",
       "      <td>1</td>\n",
       "      <td>dd6424ee-6838-4007-ad85-de9ff96be14b</td>\n",
       "      <td>45</td>\n",
       "      <td>21</td>\n",
       "      <td>44</td>\n",
       "      <td>22</td>\n",
       "      <td>58</td>\n",
       "      <td>8</td>\n",
       "      <td>27</td>\n",
       "      <td>3</td>\n",
       "      <td>27</td>\n",
       "      <td>4</td>\n",
       "      <td>25</td>\n",
       "      <td>4</td>\n",
       "    </tr>\n",
       "    <tr>\n",
       "      <th>4</th>\n",
       "      <td>0</td>\n",
       "      <td>2</td>\n",
       "      <td>0.00</td>\n",
       "      <td>0</td>\n",
       "      <td>BB</td>\n",
       "      <td>GBR</td>\n",
       "      <td>Online TA</td>\n",
       "      <td>TA/TO</td>\n",
       "      <td>0</td>\n",
       "      <td>0</td>\n",
       "      <td>0</td>\n",
       "      <td>A</td>\n",
       "      <td>A</td>\n",
       "      <td>0</td>\n",
       "      <td>No Deposit</td>\n",
       "      <td>240</td>\n",
       "      <td>NULL</td>\n",
       "      <td>0</td>\n",
       "      <td>Transient</td>\n",
       "      <td>98.00</td>\n",
       "      <td>0</td>\n",
       "      <td>1</td>\n",
       "      <td>Check-Out</td>\n",
       "      <td>1</td>\n",
       "      <td>50ff56ee-6a72-40dc-8ff1-4246b831c779</td>\n",
       "      <td>45</td>\n",
       "      <td>21</td>\n",
       "      <td>43</td>\n",
       "      <td>23</td>\n",
       "      <td>59</td>\n",
       "      <td>7</td>\n",
       "      <td>27</td>\n",
       "      <td>3</td>\n",
       "      <td>27</td>\n",
       "      <td>5</td>\n",
       "      <td>25</td>\n",
       "      <td>3</td>\n",
       "    </tr>\n",
       "  </tbody>\n",
       "</table>\n",
       "</div>"
      ],
      "text/plain": [
       "   IsCanceled  Adults  Children  Babies       Meal Country MarketSegment  \\\n",
       "0           0       2      0.00       0  BB            PRT        Direct   \n",
       "1           0       2      0.00       0  BB            PRT        Direct   \n",
       "2           0       1      0.00       0  BB            GBR        Direct   \n",
       "3           0       1      0.00       0  BB            GBR     Corporate   \n",
       "4           0       2      0.00       0  BB            GBR     Online TA   \n",
       "\n",
       "  DistributionChannel  IsRepeatedGuest  PreviousCancellations  \\\n",
       "0              Direct                0                      0   \n",
       "1              Direct                0                      0   \n",
       "2              Direct                0                      0   \n",
       "3           Corporate                0                      0   \n",
       "4               TA/TO                0                      0   \n",
       "\n",
       "   PreviousBookingsNotCanceled  ReservedRoomType  AssignedRoomType  \\\n",
       "0                            0  C                 C                  \n",
       "1                            0  C                 C                  \n",
       "2                            0  A                 C                  \n",
       "3                            0  A                 A                  \n",
       "4                            0  A                 A                  \n",
       "\n",
       "   BookingChanges      DepositType        Agent      Company  \\\n",
       "0               3  No Deposit              NULL         NULL   \n",
       "1               4  No Deposit              NULL         NULL   \n",
       "2               0  No Deposit              NULL         NULL   \n",
       "3               0  No Deposit               304         NULL   \n",
       "4               0  No Deposit               240         NULL   \n",
       "\n",
       "   DaysInWaitingList CustomerType   ADR  RequiredCarParkingSpaces  \\\n",
       "0                  0    Transient  0.00                         0   \n",
       "1                  0    Transient  0.00                         0   \n",
       "2                  0    Transient 75.00                         0   \n",
       "3                  0    Transient 75.00                         0   \n",
       "4                  0    Transient 98.00                         0   \n",
       "\n",
       "   TotalOfSpecialRequests ReservationStatus  HotelNumber  \\\n",
       "0                       0         Check-Out            1   \n",
       "1                       0         Check-Out            1   \n",
       "2                       0         Check-Out            1   \n",
       "3                       0         Check-Out            1   \n",
       "4                       1         Check-Out            1   \n",
       "\n",
       "                                   UUID  ArrivalDate_DaysBeforeHoliday  \\\n",
       "0  8ca998d6-fae7-4ee4-a706-3765721aaff5                             45   \n",
       "1  e535835e-b19a-4e32-9e9f-6d70a0182d4b                             45   \n",
       "2  9429383d-0efd-4c37-bb9b-0aaa63d5aade                             45   \n",
       "3  dd6424ee-6838-4007-ad85-de9ff96be14b                             45   \n",
       "4  50ff56ee-6a72-40dc-8ff1-4246b831c779                             45   \n",
       "\n",
       "   ArrivalDate_DaysAfterHoliday  DepartureDate_DaysBeforeHoliday  \\\n",
       "0                            21                               45   \n",
       "1                            21                               45   \n",
       "2                            21                               44   \n",
       "3                            21                               44   \n",
       "4                            21                               43   \n",
       "\n",
       "   DepartureDate_DaysAfterHoliday  BookingDate_DaysBeforeHoliday  \\\n",
       "0                              21                             22   \n",
       "1                              21                             52   \n",
       "2                              22                             52   \n",
       "3                              22                             58   \n",
       "4                              23                             59   \n",
       "\n",
       "   BookingDate_DaysAfterHoliday  ArrivalDate_WeekNumber  \\\n",
       "0                            44                      27   \n",
       "1                            14                      27   \n",
       "2                            14                      27   \n",
       "3                             8                      27   \n",
       "4                             7                      27   \n",
       "\n",
       "   ArrivalDate_DayOfWeek  DepartureDate_WeekNumber  DepartureDate_DayOfWeek  \\\n",
       "0                      3                        27                        3   \n",
       "1                      3                        27                        3   \n",
       "2                      3                        27                        4   \n",
       "3                      3                        27                        4   \n",
       "4                      3                        27                        5   \n",
       "\n",
       "   BookingDate_WeekNumber  BookingDate_DayOfWeek  \n",
       "0                      30                      4  \n",
       "1                      26                      1  \n",
       "2                      26                      3  \n",
       "3                      25                      4  \n",
       "4                      25                      3  "
      ]
     },
     "execution_count": 11,
     "metadata": {},
     "output_type": "execute_result"
    }
   ],
   "source": [
    "data = data.drop(columns = drop_feats)\n",
    "data.head()"
   ]
  },
  {
   "cell_type": "markdown",
   "metadata": {},
   "source": [
    "# Abbreviated EDA\n",
    "\n",
    "---\n",
    "\n",
    "- Original notebook reviewed each feature in depth\n",
    "- Abbreviating review for simplicity.\n",
    "\n",
    "---"
   ]
  },
  {
   "cell_type": "markdown",
   "metadata": {},
   "source": [
    "## Summary Stats via Describe Method"
   ]
  },
  {
   "cell_type": "code",
   "execution_count": 12,
   "metadata": {
    "execution": {
     "iopub.execute_input": "2024-03-29T19:28:50.745582Z",
     "iopub.status.busy": "2024-03-29T19:28:50.744582Z",
     "iopub.status.idle": "2024-03-29T19:28:50.926807Z",
     "shell.execute_reply": "2024-03-29T19:28:50.926807Z",
     "shell.execute_reply.started": "2024-03-29T19:28:50.745582Z"
    }
   },
   "outputs": [
    {
     "data": {
      "text/html": [
       "<div>\n",
       "<style scoped>\n",
       "    .dataframe tbody tr th:only-of-type {\n",
       "        vertical-align: middle;\n",
       "    }\n",
       "\n",
       "    .dataframe tbody tr th {\n",
       "        vertical-align: top;\n",
       "    }\n",
       "\n",
       "    .dataframe thead th {\n",
       "        text-align: right;\n",
       "    }\n",
       "</style>\n",
       "<table border=\"1\" class=\"dataframe\">\n",
       "  <thead>\n",
       "    <tr style=\"text-align: right;\">\n",
       "      <th></th>\n",
       "      <th>IsCanceled</th>\n",
       "      <th>Adults</th>\n",
       "      <th>Children</th>\n",
       "      <th>Babies</th>\n",
       "      <th>IsRepeatedGuest</th>\n",
       "      <th>PreviousCancellations</th>\n",
       "      <th>PreviousBookingsNotCanceled</th>\n",
       "      <th>BookingChanges</th>\n",
       "      <th>DaysInWaitingList</th>\n",
       "      <th>ADR</th>\n",
       "      <th>RequiredCarParkingSpaces</th>\n",
       "      <th>TotalOfSpecialRequests</th>\n",
       "      <th>HotelNumber</th>\n",
       "      <th>ArrivalDate_DaysBeforeHoliday</th>\n",
       "      <th>ArrivalDate_DaysAfterHoliday</th>\n",
       "      <th>DepartureDate_DaysBeforeHoliday</th>\n",
       "      <th>DepartureDate_DaysAfterHoliday</th>\n",
       "      <th>BookingDate_DaysBeforeHoliday</th>\n",
       "      <th>BookingDate_DaysAfterHoliday</th>\n",
       "      <th>ArrivalDate_WeekNumber</th>\n",
       "      <th>ArrivalDate_DayOfWeek</th>\n",
       "      <th>DepartureDate_WeekNumber</th>\n",
       "      <th>DepartureDate_DayOfWeek</th>\n",
       "      <th>BookingDate_WeekNumber</th>\n",
       "      <th>BookingDate_DayOfWeek</th>\n",
       "    </tr>\n",
       "  </thead>\n",
       "  <tbody>\n",
       "    <tr>\n",
       "      <th>count</th>\n",
       "      <td>119,390.00</td>\n",
       "      <td>119,390.00</td>\n",
       "      <td>119,386.00</td>\n",
       "      <td>119,390.00</td>\n",
       "      <td>119,390.00</td>\n",
       "      <td>119,390.00</td>\n",
       "      <td>119,390.00</td>\n",
       "      <td>119,390.00</td>\n",
       "      <td>119,390.00</td>\n",
       "      <td>119,390.00</td>\n",
       "      <td>119,390.00</td>\n",
       "      <td>119,390.00</td>\n",
       "      <td>119,390.00</td>\n",
       "      <td>119,390.00</td>\n",
       "      <td>119,390.00</td>\n",
       "      <td>119,390.00</td>\n",
       "      <td>119,390.00</td>\n",
       "      <td>119,390.00</td>\n",
       "      <td>119,390.00</td>\n",
       "      <td>119,390.00</td>\n",
       "      <td>119,390.00</td>\n",
       "      <td>119,390.00</td>\n",
       "      <td>119,390.00</td>\n",
       "      <td>119,390.00</td>\n",
       "      <td>119,390.00</td>\n",
       "    </tr>\n",
       "    <tr>\n",
       "      <th>mean</th>\n",
       "      <td>0.37</td>\n",
       "      <td>1.86</td>\n",
       "      <td>0.10</td>\n",
       "      <td>0.01</td>\n",
       "      <td>0.03</td>\n",
       "      <td>0.09</td>\n",
       "      <td>0.14</td>\n",
       "      <td>0.22</td>\n",
       "      <td>2.32</td>\n",
       "      <td>101.83</td>\n",
       "      <td>0.06</td>\n",
       "      <td>0.57</td>\n",
       "      <td>1.66</td>\n",
       "      <td>30.91</td>\n",
       "      <td>30.95</td>\n",
       "      <td>31.66</td>\n",
       "      <td>30.24</td>\n",
       "      <td>36.70</td>\n",
       "      <td>31.97</td>\n",
       "      <td>26.76</td>\n",
       "      <td>4.00</td>\n",
       "      <td>26.81</td>\n",
       "      <td>4.21</td>\n",
       "      <td>24.77</td>\n",
       "      <td>3.60</td>\n",
       "    </tr>\n",
       "    <tr>\n",
       "      <th>std</th>\n",
       "      <td>0.48</td>\n",
       "      <td>0.58</td>\n",
       "      <td>0.40</td>\n",
       "      <td>0.10</td>\n",
       "      <td>0.18</td>\n",
       "      <td>0.84</td>\n",
       "      <td>1.50</td>\n",
       "      <td>0.65</td>\n",
       "      <td>17.59</td>\n",
       "      <td>50.54</td>\n",
       "      <td>0.25</td>\n",
       "      <td>0.79</td>\n",
       "      <td>0.47</td>\n",
       "      <td>26.21</td>\n",
       "      <td>26.54</td>\n",
       "      <td>26.51</td>\n",
       "      <td>26.24</td>\n",
       "      <td>28.27</td>\n",
       "      <td>26.41</td>\n",
       "      <td>13.57</td>\n",
       "      <td>1.95</td>\n",
       "      <td>13.59</td>\n",
       "      <td>2.06</td>\n",
       "      <td>16.30</td>\n",
       "      <td>1.84</td>\n",
       "    </tr>\n",
       "    <tr>\n",
       "      <th>min</th>\n",
       "      <td>0.00</td>\n",
       "      <td>0.00</td>\n",
       "      <td>0.00</td>\n",
       "      <td>0.00</td>\n",
       "      <td>0.00</td>\n",
       "      <td>0.00</td>\n",
       "      <td>0.00</td>\n",
       "      <td>0.00</td>\n",
       "      <td>0.00</td>\n",
       "      <td>-6.38</td>\n",
       "      <td>0.00</td>\n",
       "      <td>0.00</td>\n",
       "      <td>1.00</td>\n",
       "      <td>1.00</td>\n",
       "      <td>0.00</td>\n",
       "      <td>1.00</td>\n",
       "      <td>0.00</td>\n",
       "      <td>1.00</td>\n",
       "      <td>0.00</td>\n",
       "      <td>1.00</td>\n",
       "      <td>1.00</td>\n",
       "      <td>1.00</td>\n",
       "      <td>1.00</td>\n",
       "      <td>1.00</td>\n",
       "      <td>1.00</td>\n",
       "    </tr>\n",
       "    <tr>\n",
       "      <th>25%</th>\n",
       "      <td>0.00</td>\n",
       "      <td>2.00</td>\n",
       "      <td>0.00</td>\n",
       "      <td>0.00</td>\n",
       "      <td>0.00</td>\n",
       "      <td>0.00</td>\n",
       "      <td>0.00</td>\n",
       "      <td>0.00</td>\n",
       "      <td>0.00</td>\n",
       "      <td>69.29</td>\n",
       "      <td>0.00</td>\n",
       "      <td>0.00</td>\n",
       "      <td>1.00</td>\n",
       "      <td>9.00</td>\n",
       "      <td>9.00</td>\n",
       "      <td>10.00</td>\n",
       "      <td>8.00</td>\n",
       "      <td>12.00</td>\n",
       "      <td>10.00</td>\n",
       "      <td>16.00</td>\n",
       "      <td>2.00</td>\n",
       "      <td>16.00</td>\n",
       "      <td>2.00</td>\n",
       "      <td>9.00</td>\n",
       "      <td>2.00</td>\n",
       "    </tr>\n",
       "    <tr>\n",
       "      <th>50%</th>\n",
       "      <td>0.00</td>\n",
       "      <td>2.00</td>\n",
       "      <td>0.00</td>\n",
       "      <td>0.00</td>\n",
       "      <td>0.00</td>\n",
       "      <td>0.00</td>\n",
       "      <td>0.00</td>\n",
       "      <td>0.00</td>\n",
       "      <td>0.00</td>\n",
       "      <td>94.58</td>\n",
       "      <td>0.00</td>\n",
       "      <td>0.00</td>\n",
       "      <td>2.00</td>\n",
       "      <td>24.00</td>\n",
       "      <td>24.00</td>\n",
       "      <td>24.00</td>\n",
       "      <td>23.00</td>\n",
       "      <td>31.00</td>\n",
       "      <td>25.00</td>\n",
       "      <td>27.00</td>\n",
       "      <td>4.00</td>\n",
       "      <td>27.00</td>\n",
       "      <td>4.00</td>\n",
       "      <td>25.00</td>\n",
       "      <td>4.00</td>\n",
       "    </tr>\n",
       "    <tr>\n",
       "      <th>75%</th>\n",
       "      <td>1.00</td>\n",
       "      <td>2.00</td>\n",
       "      <td>0.00</td>\n",
       "      <td>0.00</td>\n",
       "      <td>0.00</td>\n",
       "      <td>0.00</td>\n",
       "      <td>0.00</td>\n",
       "      <td>0.00</td>\n",
       "      <td>0.00</td>\n",
       "      <td>126.00</td>\n",
       "      <td>0.00</td>\n",
       "      <td>1.00</td>\n",
       "      <td>2.00</td>\n",
       "      <td>46.00</td>\n",
       "      <td>48.00</td>\n",
       "      <td>47.00</td>\n",
       "      <td>47.00</td>\n",
       "      <td>55.00</td>\n",
       "      <td>49.00</td>\n",
       "      <td>38.00</td>\n",
       "      <td>6.00</td>\n",
       "      <td>38.00</td>\n",
       "      <td>6.00</td>\n",
       "      <td>40.00</td>\n",
       "      <td>5.00</td>\n",
       "    </tr>\n",
       "    <tr>\n",
       "      <th>max</th>\n",
       "      <td>1.00</td>\n",
       "      <td>55.00</td>\n",
       "      <td>10.00</td>\n",
       "      <td>10.00</td>\n",
       "      <td>1.00</td>\n",
       "      <td>26.00</td>\n",
       "      <td>72.00</td>\n",
       "      <td>21.00</td>\n",
       "      <td>391.00</td>\n",
       "      <td>5,400.00</td>\n",
       "      <td>8.00</td>\n",
       "      <td>5.00</td>\n",
       "      <td>2.00</td>\n",
       "      <td>115.00</td>\n",
       "      <td>114.00</td>\n",
       "      <td>115.00</td>\n",
       "      <td>114.00</td>\n",
       "      <td>115.00</td>\n",
       "      <td>114.00</td>\n",
       "      <td>53.00</td>\n",
       "      <td>7.00</td>\n",
       "      <td>53.00</td>\n",
       "      <td>7.00</td>\n",
       "      <td>53.00</td>\n",
       "      <td>7.00</td>\n",
       "    </tr>\n",
       "  </tbody>\n",
       "</table>\n",
       "</div>"
      ],
      "text/plain": [
       "       IsCanceled     Adults   Children     Babies  IsRepeatedGuest  \\\n",
       "count  119,390.00 119,390.00 119,386.00 119,390.00       119,390.00   \n",
       "mean         0.37       1.86       0.10       0.01             0.03   \n",
       "std          0.48       0.58       0.40       0.10             0.18   \n",
       "min          0.00       0.00       0.00       0.00             0.00   \n",
       "25%          0.00       2.00       0.00       0.00             0.00   \n",
       "50%          0.00       2.00       0.00       0.00             0.00   \n",
       "75%          1.00       2.00       0.00       0.00             0.00   \n",
       "max          1.00      55.00      10.00      10.00             1.00   \n",
       "\n",
       "       PreviousCancellations  PreviousBookingsNotCanceled  BookingChanges  \\\n",
       "count             119,390.00                   119,390.00      119,390.00   \n",
       "mean                    0.09                         0.14            0.22   \n",
       "std                     0.84                         1.50            0.65   \n",
       "min                     0.00                         0.00            0.00   \n",
       "25%                     0.00                         0.00            0.00   \n",
       "50%                     0.00                         0.00            0.00   \n",
       "75%                     0.00                         0.00            0.00   \n",
       "max                    26.00                        72.00           21.00   \n",
       "\n",
       "       DaysInWaitingList        ADR  RequiredCarParkingSpaces  \\\n",
       "count         119,390.00 119,390.00                119,390.00   \n",
       "mean                2.32     101.83                      0.06   \n",
       "std                17.59      50.54                      0.25   \n",
       "min                 0.00      -6.38                      0.00   \n",
       "25%                 0.00      69.29                      0.00   \n",
       "50%                 0.00      94.58                      0.00   \n",
       "75%                 0.00     126.00                      0.00   \n",
       "max               391.00   5,400.00                      8.00   \n",
       "\n",
       "       TotalOfSpecialRequests  HotelNumber  ArrivalDate_DaysBeforeHoliday  \\\n",
       "count              119,390.00   119,390.00                     119,390.00   \n",
       "mean                     0.57         1.66                          30.91   \n",
       "std                      0.79         0.47                          26.21   \n",
       "min                      0.00         1.00                           1.00   \n",
       "25%                      0.00         1.00                           9.00   \n",
       "50%                      0.00         2.00                          24.00   \n",
       "75%                      1.00         2.00                          46.00   \n",
       "max                      5.00         2.00                         115.00   \n",
       "\n",
       "       ArrivalDate_DaysAfterHoliday  DepartureDate_DaysBeforeHoliday  \\\n",
       "count                    119,390.00                       119,390.00   \n",
       "mean                          30.95                            31.66   \n",
       "std                           26.54                            26.51   \n",
       "min                            0.00                             1.00   \n",
       "25%                            9.00                            10.00   \n",
       "50%                           24.00                            24.00   \n",
       "75%                           48.00                            47.00   \n",
       "max                          114.00                           115.00   \n",
       "\n",
       "       DepartureDate_DaysAfterHoliday  BookingDate_DaysBeforeHoliday  \\\n",
       "count                      119,390.00                     119,390.00   \n",
       "mean                            30.24                          36.70   \n",
       "std                             26.24                          28.27   \n",
       "min                              0.00                           1.00   \n",
       "25%                              8.00                          12.00   \n",
       "50%                             23.00                          31.00   \n",
       "75%                             47.00                          55.00   \n",
       "max                            114.00                         115.00   \n",
       "\n",
       "       BookingDate_DaysAfterHoliday  ArrivalDate_WeekNumber  \\\n",
       "count                    119,390.00              119,390.00   \n",
       "mean                          31.97                   26.76   \n",
       "std                           26.41                   13.57   \n",
       "min                            0.00                    1.00   \n",
       "25%                           10.00                   16.00   \n",
       "50%                           25.00                   27.00   \n",
       "75%                           49.00                   38.00   \n",
       "max                          114.00                   53.00   \n",
       "\n",
       "       ArrivalDate_DayOfWeek  DepartureDate_WeekNumber  \\\n",
       "count             119,390.00                119,390.00   \n",
       "mean                    4.00                     26.81   \n",
       "std                     1.95                     13.59   \n",
       "min                     1.00                      1.00   \n",
       "25%                     2.00                     16.00   \n",
       "50%                     4.00                     27.00   \n",
       "75%                     6.00                     38.00   \n",
       "max                     7.00                     53.00   \n",
       "\n",
       "       DepartureDate_DayOfWeek  BookingDate_WeekNumber  BookingDate_DayOfWeek  \n",
       "count               119,390.00              119,390.00             119,390.00  \n",
       "mean                      4.21                   24.77                   3.60  \n",
       "std                       2.06                   16.30                   1.84  \n",
       "min                       1.00                    1.00                   1.00  \n",
       "25%                       2.00                    9.00                   2.00  \n",
       "50%                       4.00                   25.00                   4.00  \n",
       "75%                       6.00                   40.00                   5.00  \n",
       "max                       7.00                   53.00                   7.00  "
      ]
     },
     "execution_count": 12,
     "metadata": {},
     "output_type": "execute_result"
    }
   ],
   "source": [
    "## Numeric Stats\n",
    "data.describe(include = 'number', )"
   ]
  },
  {
   "cell_type": "markdown",
   "metadata": {},
   "source": [
    "---\n",
    "\n",
    "- Outliers present in many features\n",
    "- Outlier detection/removal may be required in preprocessing pipeline for certain model types\n",
    "\n",
    "---"
   ]
  },
  {
   "cell_type": "code",
   "execution_count": 13,
   "metadata": {
    "execution": {
     "iopub.execute_input": "2024-03-29T19:28:50.927797Z",
     "iopub.status.busy": "2024-03-29T19:28:50.927797Z",
     "iopub.status.idle": "2024-03-29T19:28:51.144984Z",
     "shell.execute_reply": "2024-03-29T19:28:51.143986Z",
     "shell.execute_reply.started": "2024-03-29T19:28:50.927797Z"
    }
   },
   "outputs": [
    {
     "data": {
      "text/html": [
       "<div>\n",
       "<style scoped>\n",
       "    .dataframe tbody tr th:only-of-type {\n",
       "        vertical-align: middle;\n",
       "    }\n",
       "\n",
       "    .dataframe tbody tr th {\n",
       "        vertical-align: top;\n",
       "    }\n",
       "\n",
       "    .dataframe thead th {\n",
       "        text-align: right;\n",
       "    }\n",
       "</style>\n",
       "<table border=\"1\" class=\"dataframe\">\n",
       "  <thead>\n",
       "    <tr style=\"text-align: right;\">\n",
       "      <th></th>\n",
       "      <th>Meal</th>\n",
       "      <th>Country</th>\n",
       "      <th>MarketSegment</th>\n",
       "      <th>DistributionChannel</th>\n",
       "      <th>ReservedRoomType</th>\n",
       "      <th>AssignedRoomType</th>\n",
       "      <th>DepositType</th>\n",
       "      <th>Agent</th>\n",
       "      <th>Company</th>\n",
       "      <th>CustomerType</th>\n",
       "      <th>ReservationStatus</th>\n",
       "      <th>UUID</th>\n",
       "    </tr>\n",
       "  </thead>\n",
       "  <tbody>\n",
       "    <tr>\n",
       "      <th>count</th>\n",
       "      <td>119390</td>\n",
       "      <td>118902</td>\n",
       "      <td>119390</td>\n",
       "      <td>119390</td>\n",
       "      <td>119390</td>\n",
       "      <td>119390</td>\n",
       "      <td>119390</td>\n",
       "      <td>119390</td>\n",
       "      <td>119390</td>\n",
       "      <td>119390</td>\n",
       "      <td>119390</td>\n",
       "      <td>119390</td>\n",
       "    </tr>\n",
       "    <tr>\n",
       "      <th>unique</th>\n",
       "      <td>5</td>\n",
       "      <td>177</td>\n",
       "      <td>8</td>\n",
       "      <td>5</td>\n",
       "      <td>10</td>\n",
       "      <td>12</td>\n",
       "      <td>3</td>\n",
       "      <td>334</td>\n",
       "      <td>353</td>\n",
       "      <td>4</td>\n",
       "      <td>3</td>\n",
       "      <td>119390</td>\n",
       "    </tr>\n",
       "    <tr>\n",
       "      <th>top</th>\n",
       "      <td>BB</td>\n",
       "      <td>PRT</td>\n",
       "      <td>Online TA</td>\n",
       "      <td>TA/TO</td>\n",
       "      <td>A</td>\n",
       "      <td>A</td>\n",
       "      <td>No Deposit</td>\n",
       "      <td>9</td>\n",
       "      <td>NULL</td>\n",
       "      <td>Transient</td>\n",
       "      <td>Check-Out</td>\n",
       "      <td>8ca998d6-fae7-4ee4-a706-3765721aaff5</td>\n",
       "    </tr>\n",
       "    <tr>\n",
       "      <th>freq</th>\n",
       "      <td>92310</td>\n",
       "      <td>48590</td>\n",
       "      <td>56477</td>\n",
       "      <td>97870</td>\n",
       "      <td>85994</td>\n",
       "      <td>74053</td>\n",
       "      <td>104641</td>\n",
       "      <td>31961</td>\n",
       "      <td>112593</td>\n",
       "      <td>89613</td>\n",
       "      <td>75166</td>\n",
       "      <td>1</td>\n",
       "    </tr>\n",
       "  </tbody>\n",
       "</table>\n",
       "</div>"
      ],
      "text/plain": [
       "             Meal Country MarketSegment DistributionChannel  ReservedRoomType  \\\n",
       "count      119390  118902        119390              119390            119390   \n",
       "unique          5     177             8                   5                10   \n",
       "top     BB            PRT     Online TA               TA/TO  A                  \n",
       "freq        92310   48590         56477               97870             85994   \n",
       "\n",
       "        AssignedRoomType      DepositType        Agent      Company  \\\n",
       "count             119390           119390       119390       119390   \n",
       "unique                12                3          334          353   \n",
       "top     A                 No Deposit                 9         NULL   \n",
       "freq               74053           104641        31961       112593   \n",
       "\n",
       "       CustomerType ReservationStatus                                  UUID  \n",
       "count        119390            119390                                119390  \n",
       "unique            4                 3                                119390  \n",
       "top       Transient         Check-Out  8ca998d6-fae7-4ee4-a706-3765721aaff5  \n",
       "freq          89613             75166                                     1  "
      ]
     },
     "execution_count": 13,
     "metadata": {},
     "output_type": "execute_result"
    }
   ],
   "source": [
    "## Non-Numeric Stats\n",
    "data.describe(exclude = 'number')"
   ]
  },
  {
   "cell_type": "markdown",
   "metadata": {},
   "source": [
    "---\n",
    "\n",
    "- High cardinality in Country, Agent, Company (disregard UUID; reservation ID)\n",
    "\n",
    "---"
   ]
  },
  {
   "cell_type": "markdown",
   "metadata": {},
   "source": [
    "## Missing Values"
   ]
  },
  {
   "cell_type": "code",
   "execution_count": 14,
   "metadata": {
    "execution": {
     "iopub.execute_input": "2024-03-29T19:28:51.146987Z",
     "iopub.status.busy": "2024-03-29T19:28:51.146987Z",
     "iopub.status.idle": "2024-03-29T19:28:51.278713Z",
     "shell.execute_reply": "2024-03-29T19:28:51.277523Z",
     "shell.execute_reply.started": "2024-03-29T19:28:51.146987Z"
    }
   },
   "outputs": [
    {
     "data": {
      "text/plain": [
       "Children      4\n",
       "Country     488\n",
       "dtype: int64"
      ]
     },
     "execution_count": 14,
     "metadata": {},
     "output_type": "execute_result"
    }
   ],
   "source": [
    "nan_sum = data.isna().sum()\n",
    "nan_sum[nan_sum>0]"
   ]
  },
  {
   "cell_type": "code",
   "execution_count": 15,
   "metadata": {
    "execution": {
     "iopub.execute_input": "2024-03-29T19:28:51.279715Z",
     "iopub.status.busy": "2024-03-29T19:28:51.279715Z",
     "iopub.status.idle": "2024-03-29T19:28:51.401885Z",
     "shell.execute_reply": "2024-03-29T19:28:51.401885Z",
     "shell.execute_reply.started": "2024-03-29T19:28:51.279715Z"
    }
   },
   "outputs": [
    {
     "data": {
      "text/plain": [
       "Children   0.00\n",
       "Country    0.00\n",
       "dtype: float64"
      ]
     },
     "execution_count": 15,
     "metadata": {},
     "output_type": "execute_result"
    }
   ],
   "source": [
    "nan_avg = data.isna().mean()\n",
    "nan_avg[nan_avg>0]"
   ]
  },
  {
   "cell_type": "markdown",
   "metadata": {},
   "source": [
    "---\n",
    "\n",
    "- Two features missing values\n",
    "- Average number of missing values less than 1%\n",
    "- No action taken; will address in model pipeline\n",
    "\n",
    "---"
   ]
  },
  {
   "cell_type": "markdown",
   "metadata": {},
   "source": [
    "## Visualizing Data"
   ]
  },
  {
   "cell_type": "code",
   "execution_count": 16,
   "metadata": {
    "execution": {
     "iopub.execute_input": "2024-03-29T19:28:51.403889Z",
     "iopub.status.busy": "2024-03-29T19:28:51.402886Z",
     "iopub.status.idle": "2024-03-29T19:28:51.510588Z",
     "shell.execute_reply": "2024-03-29T19:28:51.510588Z",
     "shell.execute_reply.started": "2024-03-29T19:28:51.403889Z"
    }
   },
   "outputs": [],
   "source": [
    "data_number = data.select_dtypes(include = 'number').columns\n",
    "data_non_num = data.select_dtypes(exclude = 'number').columns"
   ]
  },
  {
   "cell_type": "markdown",
   "metadata": {},
   "source": [
    "### Numeric"
   ]
  },
  {
   "cell_type": "code",
   "execution_count": 30,
   "metadata": {
    "execution": {
     "iopub.execute_input": "2024-03-29T19:30:59.260689Z",
     "iopub.status.busy": "2024-03-29T19:30:59.260689Z",
     "iopub.status.idle": "2024-03-29T19:31:02.412079Z",
     "shell.execute_reply": "2024-03-29T19:31:02.411407Z",
     "shell.execute_reply.started": "2024-03-29T19:30:59.260689Z"
    }
   },
   "outputs": [
    {
     "data": {
      "image/png": "[encoded data removed]",
      "text/plain": [
       "<Figure size 1800x2100 with 25 Axes>"
      ]
     },
     "metadata": {},
     "output_type": "display_data"
    }
   ],
   "source": [
    "data[data_number].hist(bins = 25, figsize = (18,21), layout = (-1, 5));"
   ]
  },
  {
   "cell_type": "markdown",
   "metadata": {},
   "source": [
    "### Non-Numeric"
   ]
  },
  {
   "cell_type": "code",
   "execution_count": 34,
   "metadata": {
    "execution": {
     "iopub.execute_input": "2024-03-29T19:32:08.838172Z",
     "iopub.status.busy": "2024-03-29T19:32:08.838172Z",
     "iopub.status.idle": "2024-03-29T19:32:09.043342Z",
     "shell.execute_reply": "2024-03-29T19:32:09.043342Z",
     "shell.execute_reply.started": "2024-03-29T19:32:08.838172Z"
    }
   },
   "outputs": [
    {
     "data": {
      "text/html": [
       "<div>\n",
       "<style scoped>\n",
       "    .dataframe tbody tr th:only-of-type {\n",
       "        vertical-align: middle;\n",
       "    }\n",
       "\n",
       "    .dataframe tbody tr th {\n",
       "        vertical-align: top;\n",
       "    }\n",
       "\n",
       "    .dataframe thead th {\n",
       "        text-align: right;\n",
       "    }\n",
       "</style>\n",
       "<table border=\"1\" class=\"dataframe\">\n",
       "  <thead>\n",
       "    <tr style=\"text-align: right;\">\n",
       "      <th></th>\n",
       "      <th>count</th>\n",
       "      <th>unique</th>\n",
       "      <th>top</th>\n",
       "      <th>freq</th>\n",
       "    </tr>\n",
       "  </thead>\n",
       "  <tbody>\n",
       "    <tr>\n",
       "      <th>Meal</th>\n",
       "      <td>119390</td>\n",
       "      <td>5</td>\n",
       "      <td>BB</td>\n",
       "      <td>92310</td>\n",
       "    </tr>\n",
       "    <tr>\n",
       "      <th>Country</th>\n",
       "      <td>118902</td>\n",
       "      <td>177</td>\n",
       "      <td>PRT</td>\n",
       "      <td>48590</td>\n",
       "    </tr>\n",
       "    <tr>\n",
       "      <th>MarketSegment</th>\n",
       "      <td>119390</td>\n",
       "      <td>8</td>\n",
       "      <td>Online TA</td>\n",
       "      <td>56477</td>\n",
       "    </tr>\n",
       "    <tr>\n",
       "      <th>DistributionChannel</th>\n",
       "      <td>119390</td>\n",
       "      <td>5</td>\n",
       "      <td>TA/TO</td>\n",
       "      <td>97870</td>\n",
       "    </tr>\n",
       "    <tr>\n",
       "      <th>ReservedRoomType</th>\n",
       "      <td>119390</td>\n",
       "      <td>10</td>\n",
       "      <td>A</td>\n",
       "      <td>85994</td>\n",
       "    </tr>\n",
       "    <tr>\n",
       "      <th>AssignedRoomType</th>\n",
       "      <td>119390</td>\n",
       "      <td>12</td>\n",
       "      <td>A</td>\n",
       "      <td>74053</td>\n",
       "    </tr>\n",
       "    <tr>\n",
       "      <th>DepositType</th>\n",
       "      <td>119390</td>\n",
       "      <td>3</td>\n",
       "      <td>No Deposit</td>\n",
       "      <td>104641</td>\n",
       "    </tr>\n",
       "    <tr>\n",
       "      <th>Agent</th>\n",
       "      <td>119390</td>\n",
       "      <td>334</td>\n",
       "      <td>9</td>\n",
       "      <td>31961</td>\n",
       "    </tr>\n",
       "    <tr>\n",
       "      <th>Company</th>\n",
       "      <td>119390</td>\n",
       "      <td>353</td>\n",
       "      <td>NULL</td>\n",
       "      <td>112593</td>\n",
       "    </tr>\n",
       "    <tr>\n",
       "      <th>CustomerType</th>\n",
       "      <td>119390</td>\n",
       "      <td>4</td>\n",
       "      <td>Transient</td>\n",
       "      <td>89613</td>\n",
       "    </tr>\n",
       "    <tr>\n",
       "      <th>ReservationStatus</th>\n",
       "      <td>119390</td>\n",
       "      <td>3</td>\n",
       "      <td>Check-Out</td>\n",
       "      <td>75166</td>\n",
       "    </tr>\n",
       "  </tbody>\n",
       "</table>\n",
       "</div>"
      ],
      "text/plain": [
       "                      count unique               top    freq\n",
       "Meal                 119390      5         BB          92310\n",
       "Country              118902    177               PRT   48590\n",
       "MarketSegment        119390      8         Online TA   56477\n",
       "DistributionChannel  119390      5             TA/TO   97870\n",
       "ReservedRoomType     119390     10  A                  85994\n",
       "AssignedRoomType     119390     12  A                  74053\n",
       "DepositType          119390      3   No Deposit       104641\n",
       "Agent                119390    334                 9   31961\n",
       "Company              119390    353              NULL  112593\n",
       "CustomerType         119390      4         Transient   89613\n",
       "ReservationStatus    119390      3         Check-Out   75166"
      ]
     },
     "execution_count": 34,
     "metadata": {},
     "output_type": "execute_result"
    }
   ],
   "source": [
    "data[data_non_num].drop(columns = ['UUID']).describe().T"
   ]
  },
  {
   "cell_type": "code",
   "execution_count": null,
   "metadata": {
    "execution": {
     "execution_failed": "2024-03-29T19:34:02.369Z",
     "iopub.execute_input": "2024-03-29T19:33:07.667890Z",
     "iopub.status.busy": "2024-03-29T19:33:07.667890Z"
    }
   },
   "outputs": [
    {
     "name": "stderr",
     "output_type": "stream",
     "text": [
      "\n",
      "KeyboardInterrupt\n",
      "\n"
     ]
    }
   ],
   "source": [
    "data[data_non_num].value_counts().plot(kind = 'bar')"
   ]
  },
  {
   "cell_type": "code",
   "execution_count": null,
   "metadata": {},
   "outputs": [],
   "source": []
  },
  {
   "cell_type": "markdown",
   "metadata": {},
   "source": [
    "#  **Post-EDA Updates**"
   ]
  },
  {
   "cell_type": "markdown",
   "metadata": {},
   "source": [
    "---\n",
    "\n",
    "**Feature Changes and Engineering**\n",
    "\n",
    "> After reviewing all of the features and their statistics, I noticed a few things needed to change. \n",
    "\n",
    "**These Changes Include:**\n",
    ">* Condensing specific features\n",
    "* Engineering new features\n",
    "* Dropping duplicated/unnecessary features\n",
    "\n",
    "---"
   ]
  },
  {
   "cell_type": "markdown",
   "metadata": {},
   "source": [
    "## Condensing Features"
   ]
  },
  {
   "cell_type": "markdown",
   "metadata": {},
   "source": [
    "### Condensing `Meal`"
   ]
  },
  {
   "cell_type": "markdown",
   "metadata": {},
   "source": [
    "---\n",
    "\n",
    "> The feature reference dictionary states that the \"undefined\" values for `Meal` are part of the \"SC\" category. While there are a relatively small number of \"undefined\" entries, I feel that it would be most accurate to re-categorize them  to the \"SC\" Meal type.\n",
    "\n",
    "---"
   ]
  },
  {
   "cell_type": "code",
   "execution_count": null,
   "metadata": {
    "ExecuteTime": {
     "end_time": "2022-11-05T17:33:04.120090Z",
     "start_time": "2022-11-05T17:33:03.967253Z"
    }
   },
   "outputs": [],
   "source": [
    "## Inspecting normalized value counts\n",
    "data['Meal'].value_counts()"
   ]
  },
  {
   "cell_type": "code",
   "execution_count": null,
   "metadata": {
    "ExecuteTime": {
     "end_time": "2022-11-05T17:33:04.274281Z",
     "start_time": "2022-11-05T17:33:04.121079Z"
    }
   },
   "outputs": [],
   "source": [
    "## Testing normalized value counts after replacement\n",
    "data['Meal'].replace('Undefined', 'SC').value_counts(1)"
   ]
  },
  {
   "cell_type": "code",
   "execution_count": null,
   "metadata": {
    "ExecuteTime": {
     "end_time": "2022-11-05T17:33:04.444200Z",
     "start_time": "2022-11-05T17:33:04.276204Z"
    }
   },
   "outputs": [],
   "source": [
    "## Performing replacement and verifying results\n",
    "data['Meal'] = data['Meal'].replace('Undefined', 'SC')\n",
    "data['Meal'].value_counts(1)"
   ]
  },
  {
   "cell_type": "code",
   "execution_count": null,
   "metadata": {
    "ExecuteTime": {
     "end_time": "2022-11-05T17:33:04.659047Z",
     "start_time": "2022-11-05T17:33:04.445949Z"
    }
   },
   "outputs": [],
   "source": [
    "## Reviewing new details for Meal\n",
    "eda.explore_feature(data,'Meal',target_feature = 'IsCanceled', plot_label ='Meal Type',plot_title= 'Meals',\n",
    "                    show_visualization = show_visualization);"
   ]
  },
  {
   "cell_type": "markdown",
   "metadata": {},
   "source": [
    "---\n",
    "\n",
    "> After these changes, I have four distinct categories with the \"undefined\" Meal types added to the \"SC\" Meal types. Now I will perform a larger condensation with the `Agent` feature.\n",
    "\n",
    "---"
   ]
  },
  {
   "cell_type": "markdown",
   "metadata": {},
   "source": [
    "### Condensing `Agent` into `Agent_Group`"
   ]
  },
  {
   "cell_type": "markdown",
   "metadata": {},
   "source": [
    "---\n",
    "\n",
    "**This feature requires a more complex approach than the `Meal` feature.**\n",
    "\n",
    "> `Agent` includes a large number of unique values (each unique value being a unique identifier for an Agent). To use this feature in modeling, I would need to perform one-hot encoding, resulting in an additional 300+ features for all of my reservations. I will explore two main questions to determine how to handle this feature:\n",
    "1. What are the top ten IDs by percentages?\n",
    "2. Is there a way to condense this feature into a smaller set of categories?\n",
    "\n",
    "**Depending on the breakdown of percentages, I would like to condense this feature to a smaller number of unique values.**\n",
    "\n",
    "> Condensing the features would result in fewer additional columns post-encoding as well as potentially increasing the impact of this feature. **However, it would impair the interpretability of the results;** if my model's results show that the condensed value is significant, it would mean that the *combination of all of the values* is significant, not any particular one Agent.\n",
    "\n",
    "**Despite the loss of interpretability, I feel it is best to condense these values.**\n",
    "\n",
    "---"
   ]
  },
  {
   "cell_type": "code",
   "execution_count": null,
   "metadata": {
    "ExecuteTime": {
     "end_time": "2022-11-05T17:33:04.812821Z",
     "start_time": "2022-11-05T17:33:04.661045Z"
    }
   },
   "outputs": [],
   "source": [
    "## Confirming number of unique values\n",
    "data['Agent'].nunique()"
   ]
  },
  {
   "cell_type": "code",
   "execution_count": null,
   "metadata": {
    "ExecuteTime": {
     "end_time": "2022-11-05T17:33:04.967029Z",
     "start_time": "2022-11-05T17:33:04.814346Z"
    },
    "scrolled": true
   },
   "outputs": [],
   "source": [
    "## Reviewing top ten Agents by percentage of bookings\n",
    "data['Agent'].value_counts(normalize=True, ascending=False,\n",
    "                           dropna=False).iloc[:10]"
   ]
  },
  {
   "cell_type": "code",
   "execution_count": null,
   "metadata": {
    "ExecuteTime": {
     "end_time": "2022-11-05T17:33:05.305396Z",
     "start_time": "2022-11-05T17:33:04.969045Z"
    },
    "scrolled": true
   },
   "outputs": [],
   "source": [
    "## Visualizing top ten Agents by percentage of bookings\n",
    "top_Agents = data['Agent'].value_counts(normalize=True, ascending=True,\n",
    "                                        dropna=False).iloc[-10:]\n",
    "\n",
    "fig, ax = plt.subplots(figsize= (8, 4))\n",
    "top_Agents.plot(kind='barh', ax=ax)\n",
    "\n",
    "fig.suptitle('Top Ten Agents by Volume')\n",
    "ax.set_xlabel(\"Percentage of Total Reservations\")\n",
    "ax.set_xticks([0, .05, .10, .15, .20, .25])\n",
    "ax.set_xticklabels(['0', '5','10', '15', '20', '25'])\n",
    "ax.set_ylabel(\"Agent ID\")\n",
    "\n",
    "for i,vc in enumerate(top_Agents):\n",
    "    plt.text(x=vc+.0025, y=i, s=f\"{vc:.0%}\")\n",
    "\n",
    "plt.tight_layout()\n",
    "plt.show()\n",
    "plt.close();"
   ]
  },
  {
   "cell_type": "markdown",
   "metadata": {},
   "source": [
    "---\n",
    "\n",
    "**Analysis shows there are three top Agents, representing a combined total of nearly half of the total reservations.**\n",
    "\n",
    "> Additionally, the 14% of missing values represents a significant proportion of the overall dataset. The remaining 41% percent of the data consists of the other Agents with 3% or less of the overall reservations.\n",
    "\n",
    "**Based on these results, I feel comfortable in condensing the values into five distinct categories:** \n",
    ">* The top three Agent IDs (no changes)\n",
    "* A placeholder ('0') to indicate the lack of an ID\n",
    "* A placeholder ('999') representing the combination of all of the lower-production Agents\n",
    "\n",
    "**I will replace the values and inspect the breakdown of the resulting data.**\n",
    "\n",
    "---"
   ]
  },
  {
   "cell_type": "code",
   "execution_count": null,
   "metadata": {
    "ExecuteTime": {
     "end_time": "2022-11-05T17:33:05.475150Z",
     "start_time": "2022-11-05T17:33:05.308332Z"
    }
   },
   "outputs": [],
   "source": [
    "## Reviewing number of missing values\n",
    "data['Agent'].isna().sum()"
   ]
  },
  {
   "cell_type": "code",
   "execution_count": null,
   "metadata": {
    "ExecuteTime": {
     "end_time": "2022-11-05T17:33:05.629353Z",
     "start_time": "2022-11-05T17:33:05.477150Z"
    }
   },
   "outputs": [],
   "source": [
    "## Filling with placeholder value and confirming results\n",
    "data['Agent'] = data['Agent'].fillna(0.00)\n",
    "data['Agent'].isna().sum()"
   ]
  },
  {
   "cell_type": "code",
   "execution_count": null,
   "metadata": {
    "ExecuteTime": {
     "end_time": "2022-11-05T17:33:05.783312Z",
     "start_time": "2022-11-05T17:33:05.631264Z"
    },
    "scrolled": true
   },
   "outputs": [],
   "source": [
    "## Converting non-top-3 ID values to placeholder \"999\"\n",
    "cond = [data['Agent'] == 9.00,\n",
    "        data['Agent'] == 240.00,\n",
    "        data['Agent'] == 1.00,\n",
    "        data['Agent'] == 0.00\n",
    "       ]\n",
    "\n",
    "choice = [data['Agent'], data['Agent'], data['Agent'], data['Agent']]\n",
    "\n",
    "data['Agent_group'] = np.select(cond, choice, 999)\n",
    "data[['Agent', 'Agent_group']]"
   ]
  },
  {
   "cell_type": "code",
   "execution_count": null,
   "metadata": {
    "ExecuteTime": {
     "end_time": "2022-11-05T17:33:05.969335Z",
     "start_time": "2022-11-05T17:33:05.784314Z"
    },
    "scrolled": true
   },
   "outputs": [],
   "source": [
    "## Converting column to string\n",
    "\n",
    "data.loc[:,'Agent_group'] = data.loc[:,'Agent_group'].astype(int)\n",
    "data.loc[:,'Agent_group'] = data.loc[:,'Agent_group'].astype(str)\n",
    "print(f'Datatype: {data[\"Agent_group\"].dtype}')"
   ]
  },
  {
   "cell_type": "code",
   "execution_count": null,
   "metadata": {
    "ExecuteTime": {
     "end_time": "2022-11-05T17:33:06.122880Z",
     "start_time": "2022-11-05T17:33:05.970329Z"
    }
   },
   "outputs": [],
   "source": [
    "## Creating new Series for visualization\n",
    "new_cats = data['Agent_group'].value_counts(1, ascending=True)\n",
    "new_cats"
   ]
  },
  {
   "cell_type": "code",
   "execution_count": null,
   "metadata": {
    "ExecuteTime": {
     "end_time": "2022-11-05T17:33:06.401120Z",
     "start_time": "2022-11-05T17:33:06.124388Z"
    }
   },
   "outputs": [],
   "source": [
    "##Visualizing new feature\n",
    "\n",
    "fig, ax = plt.subplots(figsize= (8, 4))\n",
    "new_cats.plot(kind='barh', ax=ax)\n",
    "\n",
    "fig.suptitle('Agent - New Categories')\n",
    "\n",
    "ax.set_xlabel(\"Percentage of Total Reservations\")\n",
    "ax.set_xticks([0, .1, .2, .3, .4, .5])\n",
    "ax.set_xticklabels(['0', '10','20', '30', '40', '50'])\n",
    "ax.set_ylabel(\"Agent ID\")\n",
    "\n",
    "for i,vc in enumerate(new_cats):\n",
    "    plt.text(x=vc+.005, y=i, s=f\"{vc:.0%}\")\n",
    "\n",
    "plt.tight_layout()\n",
    "plt.show()\n",
    "plt.close();"
   ]
  },
  {
   "cell_type": "code",
   "execution_count": null,
   "metadata": {
    "ExecuteTime": {
     "end_time": "2022-11-05T17:33:06.602489Z",
     "start_time": "2022-11-05T17:33:06.403122Z"
    }
   },
   "outputs": [],
   "source": [
    "# Dropping \"Agent\" feature after conversion\n",
    "data.drop(columns = ['Agent'], inplace=True)\n",
    "data.columns"
   ]
  },
  {
   "cell_type": "code",
   "execution_count": null,
   "metadata": {
    "ExecuteTime": {
     "end_time": "2022-11-05T17:33:06.757094Z",
     "start_time": "2022-11-05T17:33:06.604473Z"
    },
    "scrolled": true
   },
   "outputs": [],
   "source": [
    "## Confirming 'Agent' removal from dataframe\n",
    "'Agent' not in data"
   ]
  },
  {
   "cell_type": "code",
   "execution_count": null,
   "metadata": {
    "ExecuteTime": {
     "end_time": "2022-11-05T17:33:06.912783Z",
     "start_time": "2022-11-05T17:33:06.759075Z"
    }
   },
   "outputs": [],
   "source": [
    "## Deleting variables to free up space\n",
    "del cond, choice, new_cats"
   ]
  },
  {
   "cell_type": "markdown",
   "metadata": {},
   "source": [
    "---\n",
    "\n",
    "**After converting the values, there are now five unique values instead of 333.**\n",
    "\n",
    "> The resulting values represent the top three Agents by production percentage; the percentage of reservations not associated with an Agent (missing values prior to conversion); and then the combined percentage of Agents producing 3% or less of the overall reservations.\n",
    ">\n",
    "> This condensation balances my desire to simplify this category; the need to address missing values; and my intention to maintain the value of all of the Agent IDs.\n",
    "\n",
    "**Now I will condense the `Country` category in a similar manner.**\n",
    "\n",
    "---"
   ]
  },
  {
   "cell_type": "markdown",
   "metadata": {
    "code_folding": []
   },
   "source": [
    "### Condensing `Country` Categories"
   ]
  },
  {
   "cell_type": "markdown",
   "metadata": {},
   "source": [
    "---\n",
    "\n",
    "> The `Country` feature includes 177 unique Country names, but 5 countries compose about 73% of all of the values. To reduce the complexity of this feature and to increase the value of the remaining distinct countries, I will condense these features as I did for the `Agent` feature.\n",
    "\n",
    "---"
   ]
  },
  {
   "cell_type": "code",
   "execution_count": null,
   "metadata": {
    "ExecuteTime": {
     "end_time": "2022-11-05T17:33:07.065793Z",
     "start_time": "2022-11-05T17:33:06.914291Z"
    }
   },
   "outputs": [],
   "source": [
    "## Confirming number of unique values\n",
    "data['Country'].nunique()"
   ]
  },
  {
   "cell_type": "code",
   "execution_count": null,
   "metadata": {
    "ExecuteTime": {
     "end_time": "2022-11-05T17:33:07.223060Z",
     "start_time": "2022-11-05T17:33:07.066795Z"
    },
    "scrolled": true
   },
   "outputs": [],
   "source": [
    "## Reviewing top ten Agents by percentage of bookings\n",
    "data['Country'].value_counts(normalize=True, ascending=False, dropna=False).iloc[:10]"
   ]
  },
  {
   "cell_type": "code",
   "execution_count": null,
   "metadata": {
    "ExecuteTime": {
     "end_time": "2022-11-05T17:33:07.595790Z",
     "start_time": "2022-11-05T17:33:07.225155Z"
    },
    "scrolled": true
   },
   "outputs": [],
   "source": [
    "## Visualizing top ten countries by percentage of bookings\n",
    "top_countries = data['Country'].value_counts(normalize=True, ascending=True,\n",
    "                                        dropna=False).iloc[-10:]\n",
    "\n",
    "fig, ax = plt.subplots(figsize= (8, 4))\n",
    "top_countries.plot(kind='barh', ax=ax)\n",
    "\n",
    "fig.suptitle('Top Ten Countries by Volume')\n",
    "ax.set_xlabel(\"Percentage of Total Reservations\")\n",
    "ax.set_xticks([0, .05, .10, .15, .20, .25, .30, .35, .40])\n",
    "ax.set_xticklabels(['0', '5','10', '15', '20', '25', '30', '35', '40'])\n",
    "ax.set_ylabel(\"Country ID\")\n",
    "ax.axhline(y=4.5, ls = \":\", c='k', label = \"5%\")\n",
    "ax.legend(labels = ['5% Threshold', 'Volume (%)'])\n",
    "\n",
    "for i,vc in enumerate(top_countries):\n",
    "    plt.text(x=vc+.0025, y=i, s=f\"{vc:.0%}\")\n",
    "\n",
    "plt.tight_layout()\n",
    "plt.show()\n",
    "plt.close();"
   ]
  },
  {
   "cell_type": "markdown",
   "metadata": {},
   "source": [
    "---\n",
    "\n",
    "**Analysis shows there are five countries composing over 5% of the reservations, representing a combined total of nearly 73% of the total reservations.**\n",
    "\n",
    "> These countries represent more than 5% of the overall feature values, with the remaining 27% below 5%.\n",
    "\n",
    "**Based on these results, I feel comfortable in condensing the values into six distinct categories:** \n",
    ">* The top five Country IDs (no changes)\n",
    "* A placeholder ('Other') representing the combination of all of the lower-production countries\n",
    "\n",
    "**I will replace the values and inspect the breakdown of the resulting data.**\n",
    "\n",
    "---"
   ]
  },
  {
   "cell_type": "code",
   "execution_count": null,
   "metadata": {
    "ExecuteTime": {
     "end_time": "2022-11-05T17:33:07.795394Z",
     "start_time": "2022-11-05T17:33:07.598789Z"
    },
    "scrolled": true
   },
   "outputs": [],
   "source": [
    "## Converting non-top-3 ID values to placeholder \"999\"\n",
    "cond = [data['Country'] == 'PRT',\n",
    "        data['Country'] == 'GBR',\n",
    "        data['Country'] == 'FRA',\n",
    "        data['Country'] == 'ESP',\n",
    "        data['Country'] == 'DEU'\n",
    "       ]\n",
    "\n",
    "choice = [data['Country'], data['Country'], data['Country'], data['Country'],\n",
    "          data['Country']]\n",
    "\n",
    "data['Country'] = np.select(cond, choice, 'Other')\n",
    "data['Country']"
   ]
  },
  {
   "cell_type": "code",
   "execution_count": null,
   "metadata": {
    "ExecuteTime": {
     "end_time": "2022-11-05T17:33:07.949208Z",
     "start_time": "2022-11-05T17:33:07.800405Z"
    }
   },
   "outputs": [],
   "source": [
    "## Creating new Series for visualization\n",
    "new_cats = data['Country'].value_counts(1, ascending=True)\n",
    "new_cats"
   ]
  },
  {
   "cell_type": "code",
   "execution_count": null,
   "metadata": {
    "ExecuteTime": {
     "end_time": "2022-11-05T17:33:08.226320Z",
     "start_time": "2022-11-05T17:33:07.951212Z"
    }
   },
   "outputs": [],
   "source": [
    "##Visualizing new feature\n",
    "\n",
    "fig, ax = plt.subplots(figsize= (8, 4))\n",
    "new_cats.plot(kind='barh', ax=ax)\n",
    "\n",
    "fig.suptitle('Country - Updated Categories')\n",
    "\n",
    "ax.set_xlabel(\"Percentage of Total Reservations\")\n",
    "ax.set_xticks([0, .1, .2, .3, .4, .5])\n",
    "ax.set_xticklabels(['0', '10','20', '30', '40', '50'])\n",
    "ax.set_ylabel(\"Country ID\")\n",
    "\n",
    "for i,vc in enumerate(new_cats):\n",
    "    plt.text(x=vc+.005, y=i, s=f\"{vc:.0%}\")\n",
    "\n",
    "plt.tight_layout()\n",
    "plt.show()\n",
    "plt.close();"
   ]
  },
  {
   "cell_type": "code",
   "execution_count": null,
   "metadata": {
    "ExecuteTime": {
     "end_time": "2022-11-05T17:33:08.395301Z",
     "start_time": "2022-11-05T17:33:08.228321Z"
    }
   },
   "outputs": [],
   "source": [
    "## Deleting variables to free up space\n",
    "del cond, choice, new_cats"
   ]
  },
  {
   "cell_type": "markdown",
   "metadata": {},
   "source": [
    "## Feature Engineering"
   ]
  },
  {
   "cell_type": "markdown",
   "metadata": {},
   "source": [
    "---\n",
    "\n",
    "> Now that I condensed my existing features, I will create two new ones:\n",
    "* `arrival_date`: representing the date the reservation is expected to check-in; useful for future forecasting\n",
    "* `stay_length`: for how many nights a guest will stay\n",
    ">\n",
    "> This information is standard for all hotels and will be helpful for modeling (and later forecasting).\n",
    "\n",
    "---"
   ]
  },
  {
   "cell_type": "markdown",
   "metadata": {},
   "source": [
    "### Engineering `Arrival_Date`"
   ]
  },
  {
   "cell_type": "code",
   "execution_count": null,
   "metadata": {
    "ExecuteTime": {
     "end_time": "2022-11-05T17:33:08.796267Z",
     "start_time": "2022-11-05T17:33:08.397339Z"
    },
    "scrolled": true
   },
   "outputs": [],
   "source": [
    "## Converting from month, day of month, and year to a single datetime column\n",
    "data['arrival_date'] = data['ArrivalDateMonth'] +' '+ \\\n",
    "                                data['ArrivalDateDayOfMonth']\\\n",
    "                                .astype(str) +', '+ \\\n",
    "                                data['ArrivalDateYear'].astype(str)\n",
    "data['arrival_date'] = pd.to_datetime(data['arrival_date'])\n",
    "data['arrival_date']"
   ]
  },
  {
   "cell_type": "code",
   "execution_count": null,
   "metadata": {
    "ExecuteTime": {
     "end_time": "2022-11-05T17:33:08.997103Z",
     "start_time": "2022-11-05T17:33:08.798262Z"
    }
   },
   "outputs": [],
   "source": [
    "## Determining the day of the week of arrival \n",
    "data.loc[:,'arrival_day'] = data.loc[:,'arrival_date'].dt.day_name()\n",
    "data['arrival_day']"
   ]
  },
  {
   "cell_type": "code",
   "execution_count": null,
   "metadata": {
    "ExecuteTime": {
     "end_time": "2022-11-05T17:33:09.185585Z",
     "start_time": "2022-11-05T17:33:08.999099Z"
    },
    "scrolled": true
   },
   "outputs": [],
   "source": [
    "## Reviewing results\n",
    "data[['arrival_day', 'arrival_date']]"
   ]
  },
  {
   "cell_type": "code",
   "execution_count": null,
   "metadata": {
    "ExecuteTime": {
     "end_time": "2022-11-05T17:33:09.495157Z",
     "start_time": "2022-11-05T17:33:09.188582Z"
    }
   },
   "outputs": [],
   "source": [
    "## Reviewing details for arrival_day\n",
    "eda.explore_feature(data,'arrival_day',target_feature = 'IsCanceled', \n",
    "plot_label ='Day',\n",
    "                    plot_title= 'Arrival Day',\n",
    "                    show_visualization = show_visualization);"
   ]
  },
  {
   "cell_type": "markdown",
   "metadata": {},
   "source": [
    "---\n",
    "\n",
    "**Feature Review**\n",
    "\n",
    "> This new feature gives a more precise representation of when a reservation is expected to arrive. Having an idea of anticipated occupancy by day is critical for operations for daily cleaning, staffing, etc..\n",
    "\n",
    "---"
   ]
  },
  {
   "cell_type": "markdown",
   "metadata": {},
   "source": [
    "### Engineering `Stay Length`"
   ]
  },
  {
   "cell_type": "markdown",
   "metadata": {},
   "source": [
    "---\n",
    "\n",
    "> One major feature of a guest's reservation is missing from the original dataset: the overall stay length. I feel a reservation's stay length is relevant to my analysis, and so I will engineer this feature by adding the number of week day and weekend nights together.\n",
    "\n",
    "---"
   ]
  },
  {
   "cell_type": "code",
   "execution_count": null,
   "metadata": {
    "ExecuteTime": {
     "end_time": "2022-11-05T17:33:09.649752Z",
     "start_time": "2022-11-05T17:33:09.496127Z"
    }
   },
   "outputs": [],
   "source": [
    "## Creating stay_length as a summation of weekday and weekend night counts\n",
    "data['stay_length'] = data['StaysInWeekendNights'] + data['StaysInWeekNights']\n",
    "data['stay_length'].value_counts(dropna=False)"
   ]
  },
  {
   "cell_type": "code",
   "execution_count": null,
   "metadata": {
    "ExecuteTime": {
     "end_time": "2022-11-05T17:33:09.881866Z",
     "start_time": "2022-11-05T17:33:09.651735Z"
    }
   },
   "outputs": [],
   "source": [
    "## Reviewing details for stay_length\n",
    "eda.explore_feature(data,'stay_length',target_feature = 'IsCanceled', plot_label ='Length',\n",
    "                    plot_title= 'Length of Stay', bins=10,\n",
    "                    show_visualization = show_visualization);"
   ]
  },
  {
   "cell_type": "markdown",
   "metadata": {},
   "source": [
    "---\n",
    "\n",
    "**Feature Review**\n",
    "\n",
    "> Both checkouts and cancellations show that most guests are staying for less than a week, which is understandable for standard hotels and resorts (there are exceptions, such as brands oriented towards long-term stays of 7+ days).\n",
    "\n",
    "---"
   ]
  },
  {
   "cell_type": "markdown",
   "metadata": {},
   "source": [
    "## Dropping Features"
   ]
  },
  {
   "cell_type": "markdown",
   "metadata": {},
   "source": [
    "---\n",
    "\n",
    "> During the EDA process, I noted several features were less useful than others and would need to be dropped from the dataset. I will drop the following features/rows:\n",
    "* `market_segment`, `\"undefined\"` value: represented less than 1% of reservations\n",
    "* `distribution_channel`: too similar to `market_segment`\n",
    "* `reservation_status`: too similar to target feature\n",
    "* `arrival_date_year`: specific to reservations in dataset; not usable for future reservations\n",
    "* `reservation_status_date`: does not add substantial information\n",
    "\n",
    "---"
   ]
  },
  {
   "cell_type": "markdown",
   "metadata": {},
   "source": [
    "### Dropping \"Undefined\" from `Market_Segment`"
   ]
  },
  {
   "cell_type": "markdown",
   "metadata": {},
   "source": [
    "---\n",
    "\n",
    "> There are less than 1% of reservations with an \"undefined\" market segment. To reduce the future number of features post-one-hot-encoding, I will remove these features.\n",
    "\n",
    "---"
   ]
  },
  {
   "cell_type": "code",
   "execution_count": null,
   "metadata": {
    "ExecuteTime": {
     "end_time": "2022-11-05T17:33:10.054314Z",
     "start_time": "2022-11-05T17:33:09.882866Z"
    }
   },
   "outputs": [],
   "source": [
    "## Confirming low number of \"undefined\" values in market_segment\n",
    "data['MarketSegment'].value_counts()"
   ]
  },
  {
   "cell_type": "code",
   "execution_count": null,
   "metadata": {
    "ExecuteTime": {
     "end_time": "2022-11-05T17:33:10.223021Z",
     "start_time": "2022-11-05T17:33:10.056214Z"
    }
   },
   "outputs": [],
   "source": [
    "## Inspecting reservations listed as \"undefined\"\n",
    "data[data['MarketSegment'] == 'Undefined']"
   ]
  },
  {
   "cell_type": "code",
   "execution_count": null,
   "metadata": {
    "ExecuteTime": {
     "end_time": "2022-11-05T17:33:10.411061Z",
     "start_time": "2022-11-05T17:33:10.225573Z"
    }
   },
   "outputs": [],
   "source": [
    "## Removing those reservations from the dataset\n",
    "data = data[data['MarketSegment'] != 'Undefined']\n",
    "data"
   ]
  },
  {
   "cell_type": "markdown",
   "metadata": {},
   "source": [
    "### Comparing `Market_Segment` and `Distribution_Channel`"
   ]
  },
  {
   "cell_type": "markdown",
   "metadata": {},
   "source": [
    "---\n",
    "\n",
    "**What's the difference?**\n",
    "\n",
    ">Based on my personal career experience, I know that these two features represent nearly the same information.\n",
    "* ***Market segments*** represent customers with distinct needs, behaviors, and may have additional distinguishing characteristics (groups, contracts, and businesses).\n",
    "* ***Distribution channels*** are the means by which these reservations are booked and processed, often overlapping with the guest segmentation.\n",
    "\n",
    "**Which to keep?**\n",
    "\n",
    "> **As the two values demonstrate high multicollinearity, I will keep the feature providing the most diverse insights.** I will inspect the values for each feature and keep whichever feature adds the most diverse insights. I will drop the other feature.\n",
    "\n",
    "---"
   ]
  },
  {
   "cell_type": "code",
   "execution_count": null,
   "metadata": {
    "ExecuteTime": {
     "end_time": "2022-11-05T17:33:10.579909Z",
     "start_time": "2022-11-05T17:33:10.414061Z"
    },
    "scrolled": true
   },
   "outputs": [],
   "source": [
    "## Inspecting breakdowns\n",
    "print('Distribution Channel:\\n',data['DistributionChannel'].value_counts(1),\n",
    "      '\\n\\n')\n",
    "print('Market Segment:\\n',data['MarketSegment'].value_counts(1))"
   ]
  },
  {
   "cell_type": "markdown",
   "metadata": {},
   "source": [
    "---\n",
    "\n",
    "**While both features describe similar information, `market_segment` includes more distinct information.** I will keep `market_segment` and drop `distribution_channel`.\n",
    "\n",
    "---"
   ]
  },
  {
   "cell_type": "code",
   "execution_count": null,
   "metadata": {
    "ExecuteTime": {
     "end_time": "2022-11-05T17:33:10.751043Z",
     "start_time": "2022-11-05T17:33:10.581918Z"
    }
   },
   "outputs": [],
   "source": [
    "## Dropping \"distribution_channel\"\n",
    "data = data.drop(columns = 'DistributionChannel')"
   ]
  },
  {
   "cell_type": "code",
   "execution_count": null,
   "metadata": {
    "ExecuteTime": {
     "end_time": "2022-11-05T17:33:10.905192Z",
     "start_time": "2022-11-05T17:33:10.752552Z"
    }
   },
   "outputs": [],
   "source": [
    "## Confirming 'distribution_channel' removal from dataframe\n",
    "'DistributionChannel' not in data"
   ]
  },
  {
   "cell_type": "markdown",
   "metadata": {},
   "source": [
    "### Dropping `Reservation_Status`"
   ]
  },
  {
   "cell_type": "markdown",
   "metadata": {},
   "source": [
    "---\n",
    "\n",
    "> `Reservation_Status` is nearly identical to my target feature and would be too strong of a predictor in my models.\n",
    "\n",
    "---"
   ]
  },
  {
   "cell_type": "code",
   "execution_count": null,
   "metadata": {
    "ExecuteTime": {
     "end_time": "2022-11-05T17:33:11.076865Z",
     "start_time": "2022-11-05T17:33:10.906251Z"
    }
   },
   "outputs": [],
   "source": [
    "## Dropping \"reservation_status\"\n",
    "data.drop(columns = 'ReservationStatus', inplace=True)"
   ]
  },
  {
   "cell_type": "code",
   "execution_count": null,
   "metadata": {
    "ExecuteTime": {
     "end_time": "2022-11-05T17:33:11.231443Z",
     "start_time": "2022-11-05T17:33:11.077795Z"
    }
   },
   "outputs": [],
   "source": [
    "## Confirming 'reservation_status' removal from dataframe\n",
    "'ReservationStatus' not in data"
   ]
  },
  {
   "cell_type": "markdown",
   "metadata": {},
   "source": [
    "### Dropping `Arrival_Date_Year`"
   ]
  },
  {
   "cell_type": "markdown",
   "metadata": {},
   "source": [
    "---\n",
    "\n",
    "> `Arrival_Date_Year` would not be applicable to future models; it would impair model performance when the model is given data for new years.\n",
    "\n",
    "---"
   ]
  },
  {
   "cell_type": "code",
   "execution_count": null,
   "metadata": {
    "ExecuteTime": {
     "end_time": "2022-11-05T17:33:11.416988Z",
     "start_time": "2022-11-05T17:33:11.232454Z"
    }
   },
   "outputs": [],
   "source": [
    "## Dropping \"arrival_date_year\"\n",
    "data.drop(columns = 'ArrivalDateYear', inplace=True)"
   ]
  },
  {
   "cell_type": "code",
   "execution_count": null,
   "metadata": {
    "ExecuteTime": {
     "end_time": "2022-11-05T17:33:11.568841Z",
     "start_time": "2022-11-05T17:33:11.418979Z"
    }
   },
   "outputs": [],
   "source": [
    "## Confirming 'arrival_date_year' removal from dataframe\n",
    "'ArrivalDateYear' not in data"
   ]
  },
  {
   "cell_type": "markdown",
   "metadata": {},
   "source": [
    "### Dropping `Reservation_Status_Date`"
   ]
  },
  {
   "cell_type": "code",
   "execution_count": null,
   "metadata": {
    "ExecuteTime": {
     "end_time": "2022-11-05T17:33:11.755025Z",
     "start_time": "2022-11-05T17:33:11.569820Z"
    }
   },
   "outputs": [],
   "source": [
    "## Dropping \"reservation_status_date\"\n",
    "data.drop(columns = 'ReservationStatusDate', inplace=True)"
   ]
  },
  {
   "cell_type": "code",
   "execution_count": null,
   "metadata": {
    "ExecuteTime": {
     "end_time": "2022-11-05T17:33:11.923404Z",
     "start_time": "2022-11-05T17:33:11.756095Z"
    }
   },
   "outputs": [],
   "source": [
    "## Confirming 'reservation_status_date' removal from dataframe\n",
    "'ReservationStatusDate' not in data"
   ]
  },
  {
   "cell_type": "markdown",
   "metadata": {},
   "source": [
    "## Final Data Review"
   ]
  },
  {
   "cell_type": "markdown",
   "metadata": {},
   "source": [
    "---\n",
    "\n",
    "> Now that I completed my condensation, engineering, and dropping of features, I will review the final data prior to saving the results for modeling.\n",
    "\n",
    "---"
   ]
  },
  {
   "cell_type": "code",
   "execution_count": null,
   "metadata": {
    "ExecuteTime": {
     "end_time": "2022-11-05T17:33:12.110167Z",
     "start_time": "2022-11-05T17:33:11.925435Z"
    },
    "scrolled": true
   },
   "outputs": [],
   "source": [
    "## Inspecting final dataframe\n",
    "data"
   ]
  },
  {
   "attachments": {},
   "cell_type": "markdown",
   "metadata": {},
   "source": [
    "# Preserving the Pandas (DataFrame)\n",
    "\n",
    "---\n",
    "\n",
    "Now I am ready to save the cleaned and processed data for modeling in my next notebook.\n",
    "\n",
    "---"
   ]
  },
  {
   "cell_type": "code",
   "execution_count": null,
   "metadata": {
    "ExecuteTime": {
     "end_time": "2022-11-05T17:33:17.389381Z",
     "start_time": "2022-11-05T17:33:12.111152Z"
    }
   },
   "outputs": [],
   "source": [
    "# ## Pickling with Pandas\n",
    "# data.to_pickle(path = '../data/data_prepped.pickle',\n",
    "#             compression = 'gzip')\n",
    "# print(f'Successfully pickled!')"
   ]
  },
  {
   "cell_type": "code",
   "execution_count": null,
   "metadata": {
    "ExecuteTime": {
     "end_time": "2022-11-05T17:33:17.389381Z",
     "start_time": "2022-11-05T17:33:12.111152Z"
    }
   },
   "outputs": [],
   "source": [
    "## Pickling with Pandas\n",
    "data.to_parquet(path = '../data/data_prepped.parquet')\n",
    "print(f'Successfully saved!')"
   ]
  },
  {
   "cell_type": "markdown",
   "metadata": {},
   "source": [
    "# Future Work: EDA"
   ]
  },
  {
   "cell_type": "markdown",
   "metadata": {},
   "source": [
    "---\n",
    "\n",
    "In the future, I will revisit the visualization aspects of my EDA function to convert them from Plotly Express figures to Matplotlib figures. The goal with Plotly Express was to have additional interativity; however these models crippled my notebook's operations. Matplotlib figures would be more appropriate in this case, and I will revisit this work when I have more time.\n",
    "\n",
    "---\n"
   ]
  },
  {
   "cell_type": "markdown",
   "metadata": {},
   "source": [
    "# Moving to Modeling!"
   ]
  },
  {
   "cell_type": "markdown",
   "metadata": {},
   "source": [
    "---\n",
    "\n",
    "> Now that I completed the pre-processing and EDA steps, I will move to my next notebook to perform my classification modeling.\n",
    "\n",
    "---"
   ]
  },
  {
   "cell_type": "code",
   "execution_count": null,
   "metadata": {},
   "outputs": [],
   "source": []
  }
 ],
 "metadata": {
  "kernelspec": {
   "display_name": "Python (dojo-env)",
   "language": "python",
   "name": "dojo-env"
  },
  "language_info": {
   "codemirror_mode": {
    "name": "ipython",
    "version": 3
   },
   "file_extension": ".py",
   "mimetype": "text/x-python",
   "name": "python",
   "nbconvert_exporter": "python",
   "pygments_lexer": "ipython3",
   "version": "3.10.14"
  },
  "toc": {
   "base_numbering": 1,
   "nav_menu": {},
   "number_sections": true,
   "sideBar": true,
   "skip_h1_title": false,
   "title_cell": "Table of Contents",
   "title_sidebar": "Contents",
   "toc_cell": true,
   "toc_position": {
    "height": "calc(100% - 180px)",
    "left": "10px",
    "top": "150px",
    "width": "250.775px"
   },
   "toc_section_display": true,
   "toc_window_display": true
  },
  "widgets": {
   "application/vnd.jupyter.widget-state+json": {
    "state": {},
    "version_major": 2,
    "version_minor": 0
   }
  }
 },
 "nbformat": 4,
 "nbformat_minor": 4
}
