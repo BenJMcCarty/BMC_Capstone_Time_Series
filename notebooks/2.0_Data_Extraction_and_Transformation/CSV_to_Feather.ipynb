{
 "cells": [
  {
   "cell_type": "markdown",
   "metadata": {},
   "source": [
    "# CSV to Feather"
   ]
  },
  {
   "cell_type": "code",
   "execution_count": 2,
   "metadata": {},
   "outputs": [],
   "source": [
    "import pandas as pd"
   ]
  },
  {
   "cell_type": "code",
   "execution_count": 7,
   "metadata": {},
   "outputs": [],
   "source": [
    "h1 = pd.read_csv('../../data/source/H1.csv')\n",
    "h2 = pd.read_csv('../../data/source/H2.csv')\n",
    "\n",
    "h1['HotelNumber'] = 1\n",
    "h2['HotelNumber'] = 2\n",
    "\n",
    "full_data = pd.concat([h1, h2], axis = 0)\n",
    "\n",
    "full_data.to_feather('../../data/source/full_data.feather')"
   ]
  },
  {
   "cell_type": "code",
   "execution_count": null,
   "metadata": {},
   "outputs": [],
   "source": []
  }
 ],
 "metadata": {
  "kernelspec": {
   "display_name": "dojo-env",
   "language": "python",
   "name": "python3"
  },
  "language_info": {
   "codemirror_mode": {
    "name": "ipython",
    "version": 3
   },
   "file_extension": ".py",
   "mimetype": "text/x-python",
   "name": "python",
   "nbconvert_exporter": "python",
   "pygments_lexer": "ipython3",
   "version": "3.10.14"
  }
 },
 "nbformat": 4,
 "nbformat_minor": 2
}
