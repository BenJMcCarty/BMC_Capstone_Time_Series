{
 "cells": [
  {
   "cell_type": "markdown",
   "id": "7aafa147-1414-4a3c-8884-17af1fed40f3",
   "metadata": {},
   "source": [
    "# Feature Engineering: Datetime Features\n",
    "\n",
    "---\n",
    "\n",
    "**Calculating Dates**\n",
    "\n",
    "The source data does not include specific datetime features. Instead, it offers a selection of different pieces that I can use to create new datetime features:\n",
    "* The arrival year, month name, and day of month.\n",
    "* The number of weekday and weekend nights.\n",
    "* The \"booking lead time,\" or how far in advance the guest booked their reservation.\n",
    "\n",
    "Using these features, I can create three new datetime features to start: the arrival, departure, and booking dates.\n",
    "\n",
    "---\n",
    "\n",
    "**Extracting Date Details**\n",
    "\n",
    "For each of these separate dates, I can go into more detail:\n",
    "* Calculating the number of days since the last holiday and the number of days until the next.\n",
    "* Determining the week of the year, day of the week, etc. to help capture more temporal features.\n",
    "* Calculating the number of days between the last reservation changes and the arrival date (for those reservations changed on or before the arrival date).\n",
    "\n",
    "---\n",
    "\n",
    "**Final Considerations**\n",
    "\n",
    "This process will create many new features, potentially limiting future modeling performance. Prior to modeling, I may need to use feature selection methods to use only the most impactful details.\n",
    "\n",
    "By the end of this notebook, I will have a new set of temporally-focused data to use for more extensive modeling and forecasting in the next steps of the workflow.\n",
    "\n",
    "---"
   ]
  },
  {
   "cell_type": "code",
   "execution_count": 1,
   "id": "6efb3fdd",
   "metadata": {
    "execution": {
     "iopub.execute_input": "2024-04-03T17:56:21.096627Z",
     "iopub.status.busy": "2024-04-03T17:56:21.096627Z",
     "iopub.status.idle": "2024-04-03T17:56:21.148981Z",
     "shell.execute_reply": "2024-04-03T17:56:21.147982Z",
     "shell.execute_reply.started": "2024-04-03T17:56:21.096627Z"
    }
   },
   "outputs": [],
   "source": [
    "%load_ext autoreload\n",
    "%autoreload 2"
   ]
  },
  {
   "cell_type": "code",
   "execution_count": 2,
   "id": "e04373a7",
   "metadata": {
    "execution": {
     "iopub.execute_input": "2024-04-03T17:56:21.149981Z",
     "iopub.status.busy": "2024-04-03T17:56:21.149981Z",
     "iopub.status.idle": "2024-04-03T17:56:21.672071Z",
     "shell.execute_reply": "2024-04-03T17:56:21.672071Z",
     "shell.execute_reply.started": "2024-04-03T17:56:21.149981Z"
    }
   },
   "outputs": [],
   "source": [
    "## Enabling access to custom functions in separate directory\n",
    "\n",
    "# Import necessary modules\n",
    "import sys\n",
    "import os\n",
    "\n",
    "# Construct the absolute path to the 'src' directory\n",
    "src_path = os.path.abspath(os.path.join('..', 'src'))\n",
    "\n",
    "# Append the path to 'sys.path'\n",
    "if src_path not in sys.path:\n",
    "    sys.path.append(src_path)\n",
    "\n",
    "import db_utils"
   ]
  },
  {
   "cell_type": "code",
   "execution_count": 3,
   "id": "c15bd256-e7bb-4caa-9d37-ad1707026556",
   "metadata": {
    "execution": {
     "iopub.execute_input": "2024-04-03T17:56:21.672071Z",
     "iopub.status.busy": "2024-04-03T17:56:21.672071Z",
     "iopub.status.idle": "2024-04-03T17:56:21.743811Z",
     "shell.execute_reply": "2024-04-03T17:56:21.743811Z",
     "shell.execute_reply.started": "2024-04-03T17:56:21.672071Z"
    }
   },
   "outputs": [],
   "source": [
    "import datetime as dt\n",
    "import holidays\n",
    "import pandas as pd"
   ]
  },
  {
   "cell_type": "markdown",
   "id": "6aa19048",
   "metadata": {},
   "source": [
    "# *TEMPORARILY CHANGED TO USE BACKUP FILES* | Read Data from DuckDB"
   ]
  },
  {
   "cell_type": "code",
   "execution_count": 4,
   "id": "a36a5510",
   "metadata": {
    "execution": {
     "iopub.execute_input": "2024-04-03T17:56:21.744910Z",
     "iopub.status.busy": "2024-04-03T17:56:21.744910Z",
     "iopub.status.idle": "2024-04-03T17:56:21.795911Z",
     "shell.execute_reply": "2024-04-03T17:56:21.795740Z",
     "shell.execute_reply.started": "2024-04-03T17:56:21.744910Z"
    }
   },
   "outputs": [],
   "source": [
    "# # Path to the DuckDB database file\n",
    "# db_path = '../data/hotel_reservations.duckdb'\n",
    "\n",
    "# ## Select subset of data for review\n",
    "# q = 'SELECT * FROM res_data LIMIT 5'\n",
    "\n",
    "# with db_utils.duckdb_connection(db_path) as conn:\n",
    "#     display(conn.execute(q).df())"
   ]
  },
  {
   "cell_type": "code",
   "execution_count": 5,
   "id": "81588acf-45b5-4f37-bf08-a4605fdd4dc4",
   "metadata": {
    "execution": {
     "iopub.execute_input": "2024-04-03T17:56:21.797929Z",
     "iopub.status.busy": "2024-04-03T17:56:21.796918Z",
     "iopub.status.idle": "2024-04-03T17:56:21.845617Z",
     "shell.execute_reply": "2024-04-03T17:56:21.845090Z",
     "shell.execute_reply.started": "2024-04-03T17:56:21.797929Z"
    }
   },
   "outputs": [],
   "source": [
    "# ## Select subset of data for review\n",
    "# q = 'SELECT IsCanceled FROM res_data LIMIT 5'\n",
    "\n",
    "# with db_utils.duckdb_connection(db_path) as conn:\n",
    "#     display(conn.execute(q).df())"
   ]
  },
  {
   "cell_type": "code",
   "execution_count": 6,
   "id": "17868e04-8a42-4b50-99c9-b5bdd597c3b4",
   "metadata": {
    "execution": {
     "iopub.execute_input": "2024-04-03T17:56:21.847630Z",
     "iopub.status.busy": "2024-04-03T17:56:21.847630Z",
     "iopub.status.idle": "2024-04-03T17:56:21.896454Z",
     "shell.execute_reply": "2024-04-03T17:56:21.896454Z",
     "shell.execute_reply.started": "2024-04-03T17:56:21.847630Z"
    }
   },
   "outputs": [],
   "source": [
    "# ## Convert Arrival columns to strings\n",
    "\n",
    "# q = ('''\n",
    "# SELECT uuid, ArrivalDateYear, ArrivalDateMonth, ArrivalDateDayOfMonth,\n",
    "# StaysInWeekNights, StaysInWeekendNights, LeadTime \n",
    "# FROM res_data''')\n",
    "\n",
    "# with db_utils.duckdb_connection(db_path) as conn:\n",
    "#     df_data = conn.execute(q).df()\n",
    "\n",
    "# # df_data = arrival_cols.astype(str)\n",
    "# df_data.head()"
   ]
  },
  {
   "cell_type": "code",
   "execution_count": 7,
   "id": "c99be25f-6f9c-45e9-ad39-d1461676569d",
   "metadata": {
    "execution": {
     "iopub.execute_input": "2024-04-03T17:56:21.896454Z",
     "iopub.status.busy": "2024-04-03T17:56:21.896454Z",
     "iopub.status.idle": "2024-04-03T17:56:21.960613Z",
     "shell.execute_reply": "2024-04-03T17:56:21.960613Z",
     "shell.execute_reply.started": "2024-04-03T17:56:21.896454Z"
    }
   },
   "outputs": [
    {
     "data": {
      "text/plain": [
       "['UUID',\n",
       " 'ReservationStatusDate',\n",
       " 'ArrivalDateYear',\n",
       " 'ArrivalDateMonth',\n",
       " 'ArrivalDateDayOfMonth',\n",
       " 'StaysInWeekNights',\n",
       " 'StaysInWeekendNights',\n",
       " 'LeadTime']"
      ]
     },
     "execution_count": 7,
     "metadata": {},
     "output_type": "execute_result"
    }
   ],
   "source": [
    "date_features = ['UUID','ReservationStatusDate', 'ArrivalDateYear', 'ArrivalDateMonth', 'ArrivalDateDayOfMonth',\n",
    "                 'StaysInWeekNights', 'StaysInWeekendNights', 'LeadTime']\n",
    "date_features"
   ]
  },
  {
   "cell_type": "code",
   "execution_count": 8,
   "id": "c6193b85-91bc-4b3e-b168-04b9721dbe7a",
   "metadata": {
    "execution": {
     "iopub.execute_input": "2024-04-03T17:56:21.960613Z",
     "iopub.status.busy": "2024-04-03T17:56:21.960613Z",
     "iopub.status.idle": "2024-04-03T17:56:22.091636Z",
     "shell.execute_reply": "2024-04-03T17:56:22.091636Z",
     "shell.execute_reply.started": "2024-04-03T17:56:21.960613Z"
    },
    "scrolled": true
   },
   "outputs": [
    {
     "data": {
      "text/html": [
       "<div>\n",
       "<style scoped>\n",
       "    .dataframe tbody tr th:only-of-type {\n",
       "        vertical-align: middle;\n",
       "    }\n",
       "\n",
       "    .dataframe tbody tr th {\n",
       "        vertical-align: top;\n",
       "    }\n",
       "\n",
       "    .dataframe thead th {\n",
       "        text-align: right;\n",
       "    }\n",
       "</style>\n",
       "<table border=\"1\" class=\"dataframe\">\n",
       "  <thead>\n",
       "    <tr style=\"text-align: right;\">\n",
       "      <th></th>\n",
       "      <th>UUID</th>\n",
       "      <th>ReservationStatusDate</th>\n",
       "      <th>ArrivalDateYear</th>\n",
       "      <th>ArrivalDateMonth</th>\n",
       "      <th>ArrivalDateDayOfMonth</th>\n",
       "      <th>StaysInWeekNights</th>\n",
       "      <th>StaysInWeekendNights</th>\n",
       "      <th>LeadTime</th>\n",
       "    </tr>\n",
       "  </thead>\n",
       "  <tbody>\n",
       "    <tr>\n",
       "      <th>0</th>\n",
       "      <td>8ca998d6-fae7-4ee4-a706-3765721aaff5</td>\n",
       "      <td>2015-07-01</td>\n",
       "      <td>2015</td>\n",
       "      <td>July</td>\n",
       "      <td>1</td>\n",
       "      <td>0</td>\n",
       "      <td>0</td>\n",
       "      <td>342</td>\n",
       "    </tr>\n",
       "    <tr>\n",
       "      <th>1</th>\n",
       "      <td>e535835e-b19a-4e32-9e9f-6d70a0182d4b</td>\n",
       "      <td>2015-07-01</td>\n",
       "      <td>2015</td>\n",
       "      <td>July</td>\n",
       "      <td>1</td>\n",
       "      <td>0</td>\n",
       "      <td>0</td>\n",
       "      <td>737</td>\n",
       "    </tr>\n",
       "    <tr>\n",
       "      <th>2</th>\n",
       "      <td>9429383d-0efd-4c37-bb9b-0aaa63d5aade</td>\n",
       "      <td>2015-07-02</td>\n",
       "      <td>2015</td>\n",
       "      <td>July</td>\n",
       "      <td>1</td>\n",
       "      <td>1</td>\n",
       "      <td>0</td>\n",
       "      <td>7</td>\n",
       "    </tr>\n",
       "    <tr>\n",
       "      <th>3</th>\n",
       "      <td>dd6424ee-6838-4007-ad85-de9ff96be14b</td>\n",
       "      <td>2015-07-02</td>\n",
       "      <td>2015</td>\n",
       "      <td>July</td>\n",
       "      <td>1</td>\n",
       "      <td>1</td>\n",
       "      <td>0</td>\n",
       "      <td>13</td>\n",
       "    </tr>\n",
       "    <tr>\n",
       "      <th>4</th>\n",
       "      <td>50ff56ee-6a72-40dc-8ff1-4246b831c779</td>\n",
       "      <td>2015-07-03</td>\n",
       "      <td>2015</td>\n",
       "      <td>July</td>\n",
       "      <td>1</td>\n",
       "      <td>2</td>\n",
       "      <td>0</td>\n",
       "      <td>14</td>\n",
       "    </tr>\n",
       "    <tr>\n",
       "      <th>...</th>\n",
       "      <td>...</td>\n",
       "      <td>...</td>\n",
       "      <td>...</td>\n",
       "      <td>...</td>\n",
       "      <td>...</td>\n",
       "      <td>...</td>\n",
       "      <td>...</td>\n",
       "      <td>...</td>\n",
       "    </tr>\n",
       "    <tr>\n",
       "      <th>119385</th>\n",
       "      <td>2ccdf728-5829-47d6-ae2c-016f9706c24d</td>\n",
       "      <td>2017-09-06</td>\n",
       "      <td>2017</td>\n",
       "      <td>August</td>\n",
       "      <td>30</td>\n",
       "      <td>5</td>\n",
       "      <td>2</td>\n",
       "      <td>23</td>\n",
       "    </tr>\n",
       "    <tr>\n",
       "      <th>119386</th>\n",
       "      <td>be937240-f461-4eee-9971-a83c8c09bf04</td>\n",
       "      <td>2017-09-07</td>\n",
       "      <td>2017</td>\n",
       "      <td>August</td>\n",
       "      <td>31</td>\n",
       "      <td>5</td>\n",
       "      <td>2</td>\n",
       "      <td>102</td>\n",
       "    </tr>\n",
       "    <tr>\n",
       "      <th>119387</th>\n",
       "      <td>04e0baed-c9a6-487c-a1af-82cb0f830fe4</td>\n",
       "      <td>2017-09-07</td>\n",
       "      <td>2017</td>\n",
       "      <td>August</td>\n",
       "      <td>31</td>\n",
       "      <td>5</td>\n",
       "      <td>2</td>\n",
       "      <td>34</td>\n",
       "    </tr>\n",
       "    <tr>\n",
       "      <th>119388</th>\n",
       "      <td>4d96b250-c5c4-46e5-bf52-e4334991d81b</td>\n",
       "      <td>2017-09-07</td>\n",
       "      <td>2017</td>\n",
       "      <td>August</td>\n",
       "      <td>31</td>\n",
       "      <td>5</td>\n",
       "      <td>2</td>\n",
       "      <td>109</td>\n",
       "    </tr>\n",
       "    <tr>\n",
       "      <th>119389</th>\n",
       "      <td>acc64a9a-03f1-43b4-b07d-98d7b152be0a</td>\n",
       "      <td>2017-09-07</td>\n",
       "      <td>2017</td>\n",
       "      <td>August</td>\n",
       "      <td>29</td>\n",
       "      <td>7</td>\n",
       "      <td>2</td>\n",
       "      <td>205</td>\n",
       "    </tr>\n",
       "  </tbody>\n",
       "</table>\n",
       "<p>119390 rows × 8 columns</p>\n",
       "</div>"
      ],
      "text/plain": [
       "                                        UUID ReservationStatusDate  \\\n",
       "0       8ca998d6-fae7-4ee4-a706-3765721aaff5            2015-07-01   \n",
       "1       e535835e-b19a-4e32-9e9f-6d70a0182d4b            2015-07-01   \n",
       "2       9429383d-0efd-4c37-bb9b-0aaa63d5aade            2015-07-02   \n",
       "3       dd6424ee-6838-4007-ad85-de9ff96be14b            2015-07-02   \n",
       "4       50ff56ee-6a72-40dc-8ff1-4246b831c779            2015-07-03   \n",
       "...                                      ...                   ...   \n",
       "119385  2ccdf728-5829-47d6-ae2c-016f9706c24d            2017-09-06   \n",
       "119386  be937240-f461-4eee-9971-a83c8c09bf04            2017-09-07   \n",
       "119387  04e0baed-c9a6-487c-a1af-82cb0f830fe4            2017-09-07   \n",
       "119388  4d96b250-c5c4-46e5-bf52-e4334991d81b            2017-09-07   \n",
       "119389  acc64a9a-03f1-43b4-b07d-98d7b152be0a            2017-09-07   \n",
       "\n",
       "        ArrivalDateYear ArrivalDateMonth  ArrivalDateDayOfMonth  \\\n",
       "0                  2015             July                      1   \n",
       "1                  2015             July                      1   \n",
       "2                  2015             July                      1   \n",
       "3                  2015             July                      1   \n",
       "4                  2015             July                      1   \n",
       "...                 ...              ...                    ...   \n",
       "119385             2017           August                     30   \n",
       "119386             2017           August                     31   \n",
       "119387             2017           August                     31   \n",
       "119388             2017           August                     31   \n",
       "119389             2017           August                     29   \n",
       "\n",
       "        StaysInWeekNights  StaysInWeekendNights  LeadTime  \n",
       "0                       0                     0       342  \n",
       "1                       0                     0       737  \n",
       "2                       1                     0         7  \n",
       "3                       1                     0        13  \n",
       "4                       2                     0        14  \n",
       "...                   ...                   ...       ...  \n",
       "119385                  5                     2        23  \n",
       "119386                  5                     2       102  \n",
       "119387                  5                     2        34  \n",
       "119388                  5                     2       109  \n",
       "119389                  7                     2       205  \n",
       "\n",
       "[119390 rows x 8 columns]"
      ]
     },
     "execution_count": 8,
     "metadata": {},
     "output_type": "execute_result"
    }
   ],
   "source": [
    "path_to_backup_files = '../data/data_condensed_with_uuid.parquet'\n",
    "\n",
    "df_data = pd.read_parquet(path_to_backup_files, columns=date_features)\n",
    "\n",
    "df_data"
   ]
  },
  {
   "cell_type": "code",
   "execution_count": 9,
   "id": "2e34a219-42b7-400d-ab07-10225019c25e",
   "metadata": {
    "execution": {
     "iopub.execute_input": "2024-04-03T17:56:22.092637Z",
     "iopub.status.busy": "2024-04-03T17:56:22.092637Z",
     "iopub.status.idle": "2024-04-03T17:56:22.155259Z",
     "shell.execute_reply": "2024-04-03T17:56:22.154211Z",
     "shell.execute_reply.started": "2024-04-03T17:56:22.092637Z"
    },
    "scrolled": true
   },
   "outputs": [
    {
     "name": "stdout",
     "output_type": "stream",
     "text": [
      "<class 'pandas.core.frame.DataFrame'>\n",
      "RangeIndex: 119390 entries, 0 to 119389\n",
      "Data columns (total 8 columns):\n",
      " #   Column                 Non-Null Count   Dtype \n",
      "---  ------                 --------------   ----- \n",
      " 0   UUID                   119390 non-null  object\n",
      " 1   ReservationStatusDate  119390 non-null  object\n",
      " 2   ArrivalDateYear        119390 non-null  int64 \n",
      " 3   ArrivalDateMonth       119390 non-null  object\n",
      " 4   ArrivalDateDayOfMonth  119390 non-null  int64 \n",
      " 5   StaysInWeekNights      119390 non-null  int64 \n",
      " 6   StaysInWeekendNights   119390 non-null  int64 \n",
      " 7   LeadTime               119390 non-null  int64 \n",
      "dtypes: int64(5), object(3)\n",
      "memory usage: 7.3+ MB\n"
     ]
    }
   ],
   "source": [
    "df_data.info()"
   ]
  },
  {
   "cell_type": "markdown",
   "id": "fb277514-c8a6-4fae-9d64-fa727a14f7c1",
   "metadata": {},
   "source": [
    "## Convert ReservationStatusDate to Datetime Format"
   ]
  },
  {
   "cell_type": "code",
   "execution_count": 10,
   "id": "26c09380-f4e9-4d6e-ab01-6a930e2bd544",
   "metadata": {
    "execution": {
     "iopub.execute_input": "2024-04-03T17:56:22.155259Z",
     "iopub.status.busy": "2024-04-03T17:56:22.155259Z",
     "iopub.status.idle": "2024-04-03T17:56:22.227034Z",
     "shell.execute_reply": "2024-04-03T17:56:22.227034Z",
     "shell.execute_reply.started": "2024-04-03T17:56:22.155259Z"
    }
   },
   "outputs": [
    {
     "data": {
      "text/plain": [
       "0        2015-07-01\n",
       "1        2015-07-01\n",
       "2        2015-07-02\n",
       "3        2015-07-02\n",
       "4        2015-07-03\n",
       "            ...    \n",
       "119385   2017-09-06\n",
       "119386   2017-09-07\n",
       "119387   2017-09-07\n",
       "119388   2017-09-07\n",
       "119389   2017-09-07\n",
       "Name: ReservationStatusDate, Length: 119390, dtype: datetime64[ns]"
      ]
     },
     "execution_count": 10,
     "metadata": {},
     "output_type": "execute_result"
    }
   ],
   "source": [
    "df_data['ReservationStatusDate'] = pd.to_datetime(df_data['ReservationStatusDate'], yearfirst = True)\n",
    "df_data['ReservationStatusDate']"
   ]
  },
  {
   "cell_type": "markdown",
   "id": "f91ad397",
   "metadata": {},
   "source": [
    "# Feature Engineering: Arrival, Departure, and Booking Dates"
   ]
  },
  {
   "cell_type": "markdown",
   "id": "5956efd2",
   "metadata": {},
   "source": [
    "## Arrival Date"
   ]
  },
  {
   "cell_type": "code",
   "execution_count": 11,
   "id": "ccf1aaff-5d06-4d1c-b843-ff902b832e4b",
   "metadata": {
    "execution": {
     "iopub.execute_input": "2024-04-03T17:56:22.229154Z",
     "iopub.status.busy": "2024-04-03T17:56:22.228108Z",
     "iopub.status.idle": "2024-04-03T17:56:22.376835Z",
     "shell.execute_reply": "2024-04-03T17:56:22.375835Z",
     "shell.execute_reply.started": "2024-04-03T17:56:22.229154Z"
    }
   },
   "outputs": [
    {
     "data": {
      "text/html": [
       "<div>\n",
       "<style scoped>\n",
       "    .dataframe tbody tr th:only-of-type {\n",
       "        vertical-align: middle;\n",
       "    }\n",
       "\n",
       "    .dataframe tbody tr th {\n",
       "        vertical-align: top;\n",
       "    }\n",
       "\n",
       "    .dataframe thead th {\n",
       "        text-align: right;\n",
       "    }\n",
       "</style>\n",
       "<table border=\"1\" class=\"dataframe\">\n",
       "  <thead>\n",
       "    <tr style=\"text-align: right;\">\n",
       "      <th></th>\n",
       "      <th>UUID</th>\n",
       "      <th>ReservationStatusDate</th>\n",
       "      <th>ArrivalDateYear</th>\n",
       "      <th>ArrivalDateMonth</th>\n",
       "      <th>ArrivalDateDayOfMonth</th>\n",
       "      <th>StaysInWeekNights</th>\n",
       "      <th>StaysInWeekendNights</th>\n",
       "      <th>LeadTime</th>\n",
       "      <th>ArrivalDate</th>\n",
       "    </tr>\n",
       "  </thead>\n",
       "  <tbody>\n",
       "    <tr>\n",
       "      <th>0</th>\n",
       "      <td>8ca998d6-fae7-4ee4-a706-3765721aaff5</td>\n",
       "      <td>2015-07-01</td>\n",
       "      <td>2015</td>\n",
       "      <td>July</td>\n",
       "      <td>1</td>\n",
       "      <td>0</td>\n",
       "      <td>0</td>\n",
       "      <td>342</td>\n",
       "      <td>2015-07-01</td>\n",
       "    </tr>\n",
       "    <tr>\n",
       "      <th>1</th>\n",
       "      <td>e535835e-b19a-4e32-9e9f-6d70a0182d4b</td>\n",
       "      <td>2015-07-01</td>\n",
       "      <td>2015</td>\n",
       "      <td>July</td>\n",
       "      <td>1</td>\n",
       "      <td>0</td>\n",
       "      <td>0</td>\n",
       "      <td>737</td>\n",
       "      <td>2015-07-01</td>\n",
       "    </tr>\n",
       "    <tr>\n",
       "      <th>2</th>\n",
       "      <td>9429383d-0efd-4c37-bb9b-0aaa63d5aade</td>\n",
       "      <td>2015-07-02</td>\n",
       "      <td>2015</td>\n",
       "      <td>July</td>\n",
       "      <td>1</td>\n",
       "      <td>1</td>\n",
       "      <td>0</td>\n",
       "      <td>7</td>\n",
       "      <td>2015-07-01</td>\n",
       "    </tr>\n",
       "    <tr>\n",
       "      <th>3</th>\n",
       "      <td>dd6424ee-6838-4007-ad85-de9ff96be14b</td>\n",
       "      <td>2015-07-02</td>\n",
       "      <td>2015</td>\n",
       "      <td>July</td>\n",
       "      <td>1</td>\n",
       "      <td>1</td>\n",
       "      <td>0</td>\n",
       "      <td>13</td>\n",
       "      <td>2015-07-01</td>\n",
       "    </tr>\n",
       "    <tr>\n",
       "      <th>4</th>\n",
       "      <td>50ff56ee-6a72-40dc-8ff1-4246b831c779</td>\n",
       "      <td>2015-07-03</td>\n",
       "      <td>2015</td>\n",
       "      <td>July</td>\n",
       "      <td>1</td>\n",
       "      <td>2</td>\n",
       "      <td>0</td>\n",
       "      <td>14</td>\n",
       "      <td>2015-07-01</td>\n",
       "    </tr>\n",
       "  </tbody>\n",
       "</table>\n",
       "</div>"
      ],
      "text/plain": [
       "                                   UUID ReservationStatusDate ArrivalDateYear  \\\n",
       "0  8ca998d6-fae7-4ee4-a706-3765721aaff5            2015-07-01            2015   \n",
       "1  e535835e-b19a-4e32-9e9f-6d70a0182d4b            2015-07-01            2015   \n",
       "2  9429383d-0efd-4c37-bb9b-0aaa63d5aade            2015-07-02            2015   \n",
       "3  dd6424ee-6838-4007-ad85-de9ff96be14b            2015-07-02            2015   \n",
       "4  50ff56ee-6a72-40dc-8ff1-4246b831c779            2015-07-03            2015   \n",
       "\n",
       "  ArrivalDateMonth ArrivalDateDayOfMonth  StaysInWeekNights  \\\n",
       "0             July                     1                  0   \n",
       "1             July                     1                  0   \n",
       "2             July                     1                  1   \n",
       "3             July                     1                  1   \n",
       "4             July                     1                  2   \n",
       "\n",
       "   StaysInWeekendNights  LeadTime ArrivalDate  \n",
       "0                     0       342  2015-07-01  \n",
       "1                     0       737  2015-07-01  \n",
       "2                     0         7  2015-07-01  \n",
       "3                     0        13  2015-07-01  \n",
       "4                     0        14  2015-07-01  "
      ]
     },
     "execution_count": 11,
     "metadata": {},
     "output_type": "execute_result"
    }
   ],
   "source": [
    "## Create new column of strings formatted as YYYY-MM-DD, then convert to datetime\n",
    "\n",
    "arrival_details = ['ArrivalDateYear', 'ArrivalDateMonth', 'ArrivalDateDayOfMonth']\n",
    "\n",
    "df_data[arrival_details] = df_data[arrival_details].astype(str)\n",
    "\n",
    "df_data['ArrivalDate'] = df_data['ArrivalDateYear'].str.cat(df_data[['ArrivalDateMonth',\n",
    "                                                                     'ArrivalDateDayOfMonth']],\n",
    "                                                            '-')\n",
    "\n",
    "df_data['ArrivalDate'] = pd.to_datetime(df_data['ArrivalDate'], yearfirst = True)\n",
    "\n",
    "df_data.head()"
   ]
  },
  {
   "cell_type": "markdown",
   "id": "bae17a82",
   "metadata": {},
   "source": [
    "## Departure Date"
   ]
  },
  {
   "cell_type": "code",
   "execution_count": 12,
   "id": "8d7e238f",
   "metadata": {
    "execution": {
     "iopub.execute_input": "2024-04-03T17:56:22.377845Z",
     "iopub.status.busy": "2024-04-03T17:56:22.376835Z",
     "iopub.status.idle": "2024-04-03T17:56:22.442816Z",
     "shell.execute_reply": "2024-04-03T17:56:22.442735Z",
     "shell.execute_reply.started": "2024-04-03T17:56:22.377845Z"
    }
   },
   "outputs": [
    {
     "data": {
      "text/plain": [
       "0        2015-07-01\n",
       "1        2015-07-01\n",
       "2        2015-07-02\n",
       "3        2015-07-02\n",
       "4        2015-07-03\n",
       "            ...    \n",
       "119385   2017-09-06\n",
       "119386   2017-09-07\n",
       "119387   2017-09-07\n",
       "119388   2017-09-07\n",
       "119389   2017-09-07\n",
       "Name: DepartureDate, Length: 119390, dtype: datetime64[ns]"
      ]
     },
     "execution_count": 12,
     "metadata": {},
     "output_type": "execute_result"
    }
   ],
   "source": [
    "timedelta_wknd = pd.to_timedelta(df_data.loc[:, 'StaysInWeekendNights'], unit = 'D')\n",
    "timedelta_wk = pd.to_timedelta(df_data.loc[:, 'StaysInWeekNights'], unit = 'D')\n",
    "\n",
    "df_data['DepartureDate'] = df_data.loc[:, 'ArrivalDate'] + timedelta_wk + timedelta_wknd\n",
    "\n",
    "df_data['DepartureDate'] "
   ]
  },
  {
   "cell_type": "markdown",
   "id": "26af4595",
   "metadata": {},
   "source": [
    "## Booking Date"
   ]
  },
  {
   "cell_type": "markdown",
   "id": "b49e8bc0-395e-4d26-bab6-cd69d7e39555",
   "metadata": {},
   "source": [
    "### Convert `LeadTime` to TimeDelta Datatype"
   ]
  },
  {
   "cell_type": "code",
   "execution_count": 13,
   "id": "6dbe8401-67c2-425a-b79b-1c2615905182",
   "metadata": {
    "execution": {
     "iopub.execute_input": "2024-04-03T17:56:22.443823Z",
     "iopub.status.busy": "2024-04-03T17:56:22.443823Z",
     "iopub.status.idle": "2024-04-03T17:56:22.495821Z",
     "shell.execute_reply": "2024-04-03T17:56:22.495680Z",
     "shell.execute_reply.started": "2024-04-03T17:56:22.443823Z"
    },
    "scrolled": true
   },
   "outputs": [
    {
     "data": {
      "text/plain": [
       "0         342\n",
       "1         737\n",
       "2           7\n",
       "3          13\n",
       "4          14\n",
       "         ... \n",
       "119385     23\n",
       "119386    102\n",
       "119387     34\n",
       "119388    109\n",
       "119389    205\n",
       "Name: LeadTime, Length: 119390, dtype: int64"
      ]
     },
     "execution_count": 13,
     "metadata": {},
     "output_type": "execute_result"
    }
   ],
   "source": [
    "## Initial datatype - integer\n",
    "df_data['LeadTime']"
   ]
  },
  {
   "cell_type": "code",
   "execution_count": 14,
   "id": "03a36883-6ba5-4e2b-87ed-c52c19d16e0d",
   "metadata": {
    "execution": {
     "iopub.execute_input": "2024-04-03T17:56:22.497821Z",
     "iopub.status.busy": "2024-04-03T17:56:22.496819Z",
     "iopub.status.idle": "2024-04-03T17:56:22.557179Z",
     "shell.execute_reply": "2024-04-03T17:56:22.557179Z",
     "shell.execute_reply.started": "2024-04-03T17:56:22.497821Z"
    }
   },
   "outputs": [
    {
     "data": {
      "text/plain": [
       "0        342 days\n",
       "1        737 days\n",
       "2          7 days\n",
       "3         13 days\n",
       "4         14 days\n",
       "           ...   \n",
       "119385    23 days\n",
       "119386   102 days\n",
       "119387    34 days\n",
       "119388   109 days\n",
       "119389   205 days\n",
       "Name: LeadTimeDelta, Length: 119390, dtype: timedelta64[ns]"
      ]
     },
     "execution_count": 14,
     "metadata": {},
     "output_type": "execute_result"
    }
   ],
   "source": [
    "## Convert to TimeDelta\n",
    "df_data['LeadTimeDelta'] = pd.to_timedelta(df_data['LeadTime'], unit = 'D')\n",
    "df_data['LeadTimeDelta']"
   ]
  },
  {
   "cell_type": "markdown",
   "id": "d50263df-bfaa-4dd7-a499-c8a73233a55e",
   "metadata": {},
   "source": [
    "### Calculate BookingDate Using LeadTimeDelta"
   ]
  },
  {
   "cell_type": "code",
   "execution_count": 15,
   "id": "39fa0352",
   "metadata": {
    "execution": {
     "iopub.execute_input": "2024-04-03T17:56:22.558228Z",
     "iopub.status.busy": "2024-04-03T17:56:22.558228Z",
     "iopub.status.idle": "2024-04-03T17:56:22.612842Z",
     "shell.execute_reply": "2024-04-03T17:56:22.612483Z",
     "shell.execute_reply.started": "2024-04-03T17:56:22.558228Z"
    }
   },
   "outputs": [
    {
     "data": {
      "text/plain": [
       "0        2014-07-24\n",
       "1        2013-06-24\n",
       "2        2015-06-24\n",
       "3        2015-06-18\n",
       "4        2015-06-17\n",
       "            ...    \n",
       "119385   2017-08-07\n",
       "119386   2017-05-21\n",
       "119387   2017-07-28\n",
       "119388   2017-05-14\n",
       "119389   2017-02-05\n",
       "Name: BookingDate, Length: 119390, dtype: datetime64[ns]"
      ]
     },
     "execution_count": 15,
     "metadata": {},
     "output_type": "execute_result"
    }
   ],
   "source": [
    "## Subtract LeadTimeDelta from ArrivalDate to calculate BookingDate\n",
    "df_data['BookingDate'] = df_data['ArrivalDate'] - df_data['LeadTimeDelta']\n",
    "df_data['BookingDate']"
   ]
  },
  {
   "cell_type": "markdown",
   "id": "c3673cfd-5591-4081-971d-6d0af269ec93",
   "metadata": {},
   "source": [
    "# Feature Inspection: `ReservationStatusDate`\n",
    "\n",
    "The final date-like data from the original source is the `ReservationStatusDate`, indicating the date on which the reservation was changed last.\n",
    "\n",
    "As it is a date feature, it may be useful for feature engineering. However, based on my domain knowledge, I suspect that any of these dates that occur prior to the arrival date will indicate that a reservation was cancelled. This would provide too much information for modeling, but I may be able to generate a different feature from this information.\n",
    "\n",
    "I will start by identifying those reservations where the `ReservationStatusDate` feature is earlier than the arrival date. Then, I will get the `IsCanceled' feature from the dataset and filter for those reservations. Finally, I will calculate the average number of cancelled reservations. If the average is very high (90-100%), then I will consider how to generate a new feature from this data.\n",
    "\n"
   ]
  },
  {
   "cell_type": "code",
   "execution_count": 16,
   "id": "b300dcef-ec86-4b9d-98e8-2c168bf0b081",
   "metadata": {
    "execution": {
     "iopub.execute_input": "2024-04-03T17:56:22.613876Z",
     "iopub.status.busy": "2024-04-03T17:56:22.613876Z",
     "iopub.status.idle": "2024-04-03T17:56:22.667531Z",
     "shell.execute_reply": "2024-04-03T17:56:22.666532Z",
     "shell.execute_reply.started": "2024-04-03T17:56:22.613876Z"
    },
    "scrolled": true
   },
   "outputs": [
    {
     "data": {
      "text/plain": [
       "0   2015-07-01\n",
       "1   2015-07-01\n",
       "2   2015-07-02\n",
       "3   2015-07-02\n",
       "4   2015-07-03\n",
       "Name: ReservationStatusDate, dtype: datetime64[ns]"
      ]
     },
     "execution_count": 16,
     "metadata": {},
     "output_type": "execute_result"
    }
   ],
   "source": [
    "df_data['ReservationStatusDate'].head()"
   ]
  },
  {
   "cell_type": "code",
   "execution_count": 17,
   "id": "a0496b25-4a59-4960-8ab5-3f84d61e7cb4",
   "metadata": {
    "execution": {
     "iopub.execute_input": "2024-04-03T17:56:22.668531Z",
     "iopub.status.busy": "2024-04-03T17:56:22.667531Z",
     "iopub.status.idle": "2024-04-03T17:56:22.732122Z",
     "shell.execute_reply": "2024-04-03T17:56:22.731123Z",
     "shell.execute_reply.started": "2024-04-03T17:56:22.668531Z"
    }
   },
   "outputs": [
    {
     "name": "stdout",
     "output_type": "stream",
     "text": [
      "The average number of reservations last changed before arrival is: 35%.\n"
     ]
    }
   ],
   "source": [
    "change_filter = (df_data['ReservationStatusDate'] < df_data['ArrivalDate'])\n",
    "\n",
    "avg_resstatdate_before_arrival = (change_filter\n",
    "                                  .mean()\n",
    "                                  .round(2))\n",
    "print(f'The average number of reservations last changed before arrival is: {avg_resstatdate_before_arrival:.0%}.')"
   ]
  },
  {
   "cell_type": "markdown",
   "id": "f5eca555-eea0-4e54-aa79-655124560625",
   "metadata": {},
   "source": [
    "## Read-In `IsCanceled` Data to Match Reservations"
   ]
  },
  {
   "cell_type": "code",
   "execution_count": 18,
   "id": "921ad791-e01f-4c1d-b950-36467a9046b8",
   "metadata": {
    "execution": {
     "iopub.execute_input": "2024-04-03T17:56:22.733121Z",
     "iopub.status.busy": "2024-04-03T17:56:22.732122Z",
     "iopub.status.idle": "2024-04-03T17:56:22.826754Z",
     "shell.execute_reply": "2024-04-03T17:56:22.825934Z",
     "shell.execute_reply.started": "2024-04-03T17:56:22.733121Z"
    }
   },
   "outputs": [
    {
     "data": {
      "text/html": [
       "<div>\n",
       "<style scoped>\n",
       "    .dataframe tbody tr th:only-of-type {\n",
       "        vertical-align: middle;\n",
       "    }\n",
       "\n",
       "    .dataframe tbody tr th {\n",
       "        vertical-align: top;\n",
       "    }\n",
       "\n",
       "    .dataframe thead th {\n",
       "        text-align: right;\n",
       "    }\n",
       "</style>\n",
       "<table border=\"1\" class=\"dataframe\">\n",
       "  <thead>\n",
       "    <tr style=\"text-align: right;\">\n",
       "      <th></th>\n",
       "      <th>UUID</th>\n",
       "      <th>IsCanceled</th>\n",
       "    </tr>\n",
       "  </thead>\n",
       "  <tbody>\n",
       "    <tr>\n",
       "      <th>0</th>\n",
       "      <td>8ca998d6-fae7-4ee4-a706-3765721aaff5</td>\n",
       "      <td>0</td>\n",
       "    </tr>\n",
       "    <tr>\n",
       "      <th>1</th>\n",
       "      <td>e535835e-b19a-4e32-9e9f-6d70a0182d4b</td>\n",
       "      <td>0</td>\n",
       "    </tr>\n",
       "    <tr>\n",
       "      <th>2</th>\n",
       "      <td>9429383d-0efd-4c37-bb9b-0aaa63d5aade</td>\n",
       "      <td>0</td>\n",
       "    </tr>\n",
       "    <tr>\n",
       "      <th>3</th>\n",
       "      <td>dd6424ee-6838-4007-ad85-de9ff96be14b</td>\n",
       "      <td>0</td>\n",
       "    </tr>\n",
       "    <tr>\n",
       "      <th>4</th>\n",
       "      <td>50ff56ee-6a72-40dc-8ff1-4246b831c779</td>\n",
       "      <td>0</td>\n",
       "    </tr>\n",
       "  </tbody>\n",
       "</table>\n",
       "</div>"
      ],
      "text/plain": [
       "                                   UUID  IsCanceled\n",
       "0  8ca998d6-fae7-4ee4-a706-3765721aaff5           0\n",
       "1  e535835e-b19a-4e32-9e9f-6d70a0182d4b           0\n",
       "2  9429383d-0efd-4c37-bb9b-0aaa63d5aade           0\n",
       "3  dd6424ee-6838-4007-ad85-de9ff96be14b           0\n",
       "4  50ff56ee-6a72-40dc-8ff1-4246b831c779           0"
      ]
     },
     "execution_count": 18,
     "metadata": {},
     "output_type": "execute_result"
    }
   ],
   "source": [
    "path_to_backup_files = '../data/data_condensed_with_uuid.parquet'\n",
    "\n",
    "df_UUID = pd.read_parquet(path_to_backup_files, columns = ['UUID', 'IsCanceled'])\n",
    "\n",
    "df_UUID.head()"
   ]
  },
  {
   "cell_type": "code",
   "execution_count": 19,
   "id": "d699a8e8-2836-4eb5-a842-e8dc60b43f52",
   "metadata": {
    "execution": {
     "iopub.execute_input": "2024-04-03T17:56:22.828283Z",
     "iopub.status.busy": "2024-04-03T17:56:22.827763Z",
     "iopub.status.idle": "2024-04-03T17:56:22.885712Z",
     "shell.execute_reply": "2024-04-03T17:56:22.885626Z",
     "shell.execute_reply.started": "2024-04-03T17:56:22.828283Z"
    },
    "scrolled": true
   },
   "outputs": [
    {
     "data": {
      "text/plain": [
       "['199901a6-9abc-4fec-85d7-9d79f2471abf',\n",
       " 'aef8ee02-1762-4f17-a8d7-5550a84a182e',\n",
       " 'a28bca44-b17a-4aff-ab7c-b7505b294554',\n",
       " '8b3cf29f-9540-4a2e-9b6c-eef0bc7649ec',\n",
       " '67f2d23d-e2cb-44bc-8452-b7481c756194']"
      ]
     },
     "execution_count": 19,
     "metadata": {},
     "output_type": "execute_result"
    }
   ],
   "source": [
    "uuids = df_data[change_filter]['UUID'].to_list()\n",
    "uuids[:5]"
   ]
  },
  {
   "cell_type": "code",
   "execution_count": 20,
   "id": "92923073-59f7-4e5c-a59d-c33775b9bd76",
   "metadata": {
    "execution": {
     "iopub.execute_input": "2024-04-03T17:56:22.886715Z",
     "iopub.status.busy": "2024-04-03T17:56:22.886715Z",
     "iopub.status.idle": "2024-04-03T17:56:22.956274Z",
     "shell.execute_reply": "2024-04-03T17:56:22.955264Z",
     "shell.execute_reply.started": "2024-04-03T17:56:22.886715Z"
    }
   },
   "outputs": [
    {
     "name": "stdout",
     "output_type": "stream",
     "text": [
      "The average number of canceled reservations with a ReservationStatusDate earlier than the arrival date is: 100.00%\n",
      "\n",
      "This feature is too strongly indicative of the `IsCanceled` feature. It should not be used for modeling.\n"
     ]
    }
   ],
   "source": [
    "uuid_filter = df_UUID['UUID'].isin(uuids)\n",
    "\n",
    "avg_cxl = df_UUID[uuid_filter]['IsCanceled'].mean()\n",
    "\n",
    "print((f'''The average number of canceled reservations with a ReservationStatusDate earlier than the arrival date is: {avg_cxl:.2%}\\n'''))\n",
    "\n",
    "if avg_cxl >= .9:\n",
    "    print(f'''This feature is too strongly indicative of the `IsCanceled` feature. It should not be used for modeling.''')\n",
    "elif avg_cxl >= .75 and avg_cxl < .9:\n",
    "    print('''This feature is strongly related to the `IsCanceled` feature. Make sure to review it in more detail to determine whether to use it.''')\n",
    "else:\n",
    "    print('''This feature is too strongly indicative of the `IsCanceled` feature. It should not be used for modeling.''')"
   ]
  },
  {
   "cell_type": "markdown",
   "id": "057111c5-2183-4bf1-afdb-633197990d83",
   "metadata": {},
   "source": [
    "## ReservationStatusDate Earlier Than Arrival Date"
   ]
  },
  {
   "cell_type": "code",
   "execution_count": 21,
   "id": "761289ac-9fc5-47e5-9c51-3daa88a8a89d",
   "metadata": {
    "execution": {
     "iopub.execute_input": "2024-04-03T17:56:22.959272Z",
     "iopub.status.busy": "2024-04-03T17:56:22.959272Z",
     "iopub.status.idle": "2024-04-03T17:56:23.011920Z",
     "shell.execute_reply": "2024-04-03T17:56:23.011768Z",
     "shell.execute_reply.started": "2024-04-03T17:56:22.959272Z"
    }
   },
   "outputs": [
    {
     "name": "stdout",
     "output_type": "stream",
     "text": [
      "The average number of reservations changed after arrival is: 62%.\n"
     ]
    }
   ],
   "source": [
    "after_arrival_filter = (df_data['ReservationStatusDate'] > df_data['ArrivalDate'])\n",
    "\n",
    "avg_resstatdate_after_arrival = (after_arrival_filter\n",
    "                                  .mean()\n",
    "                                  .round(2))\n",
    "print(f'The average number of reservations changed after arrival is: {avg_resstatdate_after_arrival:.0%}.')"
   ]
  },
  {
   "cell_type": "code",
   "execution_count": 22,
   "id": "dfaf2ec9-cab2-4315-9275-76fe4cf8447a",
   "metadata": {
    "execution": {
     "iopub.execute_input": "2024-04-03T17:56:23.013928Z",
     "iopub.status.busy": "2024-04-03T17:56:23.012929Z",
     "iopub.status.idle": "2024-04-03T17:56:23.079637Z",
     "shell.execute_reply": "2024-04-03T17:56:23.079285Z",
     "shell.execute_reply.started": "2024-04-03T17:56:23.013928Z"
    },
    "scrolled": true
   },
   "outputs": [],
   "source": [
    "uuids_post_arv = df_data[after_arrival_filter]['UUID'].to_list()\n",
    "# uuids[:10]"
   ]
  },
  {
   "cell_type": "code",
   "execution_count": 23,
   "id": "55aea774-80e5-4ef0-9248-fdfaff7f194e",
   "metadata": {
    "execution": {
     "iopub.execute_input": "2024-04-03T17:56:23.079637Z",
     "iopub.status.busy": "2024-04-03T17:56:23.079637Z",
     "iopub.status.idle": "2024-04-03T17:56:23.151274Z",
     "shell.execute_reply": "2024-04-03T17:56:23.151274Z",
     "shell.execute_reply.started": "2024-04-03T17:56:23.079637Z"
    }
   },
   "outputs": [
    {
     "name": "stdout",
     "output_type": "stream",
     "text": [
      "The average number of canceled reservations with a ReservationStatusDate after than the arrival date is: 0.00%\n",
      "\n"
     ]
    }
   ],
   "source": [
    "uuid_filter = df_UUID['UUID'].isin(uuids_post_arv)\n",
    "\n",
    "avg_cxl = df_UUID[uuid_filter]['IsCanceled'].mean()\n",
    "\n",
    "print((f'''The average number of canceled reservations with a ReservationStatusDate after than the arrival date is: {avg_cxl:.2%}\\n'''))"
   ]
  },
  {
   "cell_type": "markdown",
   "id": "3e7c4ae4-95b7-4cb6-bb29-c869ebf60253",
   "metadata": {},
   "source": [
    "# Future Work: Investigating Canceled Reservations\n",
    "\n",
    "---\n",
    "\n",
    "Although the `ReservationStatusDate` feature is not appropriate for feature engineering, I could use it to calculate the number of days between booking and cancellation (for canceled reservations only).\n",
    "\n",
    "This would be outside of the scope of the current feature engineering, but I am noting it as future work for analysis.\n",
    "\n",
    "---"
   ]
  },
  {
   "cell_type": "code",
   "execution_count": 24,
   "id": "fc1baf0e-313b-4738-b6ce-2cdd5ea1b35a",
   "metadata": {
    "execution": {
     "iopub.execute_input": "2024-04-03T17:56:23.152282Z",
     "iopub.status.busy": "2024-04-03T17:56:23.152282Z",
     "iopub.status.idle": "2024-04-03T17:56:23.213821Z",
     "shell.execute_reply": "2024-04-03T17:56:23.213821Z",
     "shell.execute_reply.started": "2024-04-03T17:56:23.152282Z"
    }
   },
   "outputs": [
    {
     "data": {
      "text/html": [
       "<div>\n",
       "<style scoped>\n",
       "    .dataframe tbody tr th:only-of-type {\n",
       "        vertical-align: middle;\n",
       "    }\n",
       "\n",
       "    .dataframe tbody tr th {\n",
       "        vertical-align: top;\n",
       "    }\n",
       "\n",
       "    .dataframe thead th {\n",
       "        text-align: right;\n",
       "    }\n",
       "</style>\n",
       "<table border=\"1\" class=\"dataframe\">\n",
       "  <thead>\n",
       "    <tr style=\"text-align: right;\">\n",
       "      <th></th>\n",
       "      <th>UUID</th>\n",
       "      <th>IsCanceled</th>\n",
       "    </tr>\n",
       "  </thead>\n",
       "  <tbody>\n",
       "    <tr>\n",
       "      <th>0</th>\n",
       "      <td>8ca998d6-fae7-4ee4-a706-3765721aaff5</td>\n",
       "      <td>0</td>\n",
       "    </tr>\n",
       "    <tr>\n",
       "      <th>1</th>\n",
       "      <td>e535835e-b19a-4e32-9e9f-6d70a0182d4b</td>\n",
       "      <td>0</td>\n",
       "    </tr>\n",
       "    <tr>\n",
       "      <th>2</th>\n",
       "      <td>9429383d-0efd-4c37-bb9b-0aaa63d5aade</td>\n",
       "      <td>0</td>\n",
       "    </tr>\n",
       "    <tr>\n",
       "      <th>3</th>\n",
       "      <td>dd6424ee-6838-4007-ad85-de9ff96be14b</td>\n",
       "      <td>0</td>\n",
       "    </tr>\n",
       "    <tr>\n",
       "      <th>4</th>\n",
       "      <td>50ff56ee-6a72-40dc-8ff1-4246b831c779</td>\n",
       "      <td>0</td>\n",
       "    </tr>\n",
       "  </tbody>\n",
       "</table>\n",
       "</div>"
      ],
      "text/plain": [
       "                                   UUID  IsCanceled\n",
       "0  8ca998d6-fae7-4ee4-a706-3765721aaff5           0\n",
       "1  e535835e-b19a-4e32-9e9f-6d70a0182d4b           0\n",
       "2  9429383d-0efd-4c37-bb9b-0aaa63d5aade           0\n",
       "3  dd6424ee-6838-4007-ad85-de9ff96be14b           0\n",
       "4  50ff56ee-6a72-40dc-8ff1-4246b831c779           0"
      ]
     },
     "execution_count": 24,
     "metadata": {},
     "output_type": "execute_result"
    }
   ],
   "source": [
    "df_UUID.head()"
   ]
  },
  {
   "cell_type": "code",
   "execution_count": 25,
   "id": "97c89395-015f-499a-9d51-d9b42a716705",
   "metadata": {
    "execution": {
     "iopub.execute_input": "2024-04-03T17:56:23.215837Z",
     "iopub.status.busy": "2024-04-03T17:56:23.214821Z",
     "iopub.status.idle": "2024-04-03T17:56:23.272914Z",
     "shell.execute_reply": "2024-04-03T17:56:23.272822Z",
     "shell.execute_reply.started": "2024-04-03T17:56:23.214821Z"
    }
   },
   "outputs": [
    {
     "data": {
      "text/plain": [
       "['199901a6-9abc-4fec-85d7-9d79f2471abf',\n",
       " 'aef8ee02-1762-4f17-a8d7-5550a84a182e',\n",
       " 'a28bca44-b17a-4aff-ab7c-b7505b294554',\n",
       " '8b3cf29f-9540-4a2e-9b6c-eef0bc7649ec',\n",
       " '67f2d23d-e2cb-44bc-8452-b7481c756194',\n",
       " '4a9b4cd8-44e8-4f00-95f9-866264b2a7c0',\n",
       " 'fda23171-fb72-448a-99b6-d5a82a1fe37a',\n",
       " 'f68ee930-968d-46f5-9ecb-8591f8539f48',\n",
       " '71af9319-8482-45b1-8590-6a1b85cdd292',\n",
       " '3379ddc2-e265-44d3-929a-9fb8784e90b9']"
      ]
     },
     "execution_count": 25,
     "metadata": {},
     "output_type": "execute_result"
    }
   ],
   "source": [
    "## Create list of UUIDs from cancelled reservations\n",
    "cxl_filter = df_UUID['IsCanceled'] == 1\n",
    "cxl_uuids = df_data[cxl_filter]['UUID'].to_list()\n",
    "cxl_uuids[:10]"
   ]
  },
  {
   "cell_type": "code",
   "execution_count": 26,
   "id": "05ba9942-5a84-42a5-9d61-06542110767c",
   "metadata": {
    "execution": {
     "iopub.execute_input": "2024-04-03T17:56:23.273922Z",
     "iopub.status.busy": "2024-04-03T17:56:23.273922Z",
     "iopub.status.idle": "2024-04-03T17:56:23.353473Z",
     "shell.execute_reply": "2024-04-03T17:56:23.352466Z",
     "shell.execute_reply.started": "2024-04-03T17:56:23.273922Z"
    }
   },
   "outputs": [
    {
     "data": {
      "text/html": [
       "<div>\n",
       "<style scoped>\n",
       "    .dataframe tbody tr th:only-of-type {\n",
       "        vertical-align: middle;\n",
       "    }\n",
       "\n",
       "    .dataframe tbody tr th {\n",
       "        vertical-align: top;\n",
       "    }\n",
       "\n",
       "    .dataframe thead th {\n",
       "        text-align: right;\n",
       "    }\n",
       "</style>\n",
       "<table border=\"1\" class=\"dataframe\">\n",
       "  <thead>\n",
       "    <tr style=\"text-align: right;\">\n",
       "      <th></th>\n",
       "      <th>UUID</th>\n",
       "      <th>ReservationStatusDate</th>\n",
       "      <th>ArrivalDateYear</th>\n",
       "      <th>ArrivalDateMonth</th>\n",
       "      <th>ArrivalDateDayOfMonth</th>\n",
       "      <th>StaysInWeekNights</th>\n",
       "      <th>StaysInWeekendNights</th>\n",
       "      <th>LeadTime</th>\n",
       "      <th>ArrivalDate</th>\n",
       "      <th>DepartureDate</th>\n",
       "      <th>LeadTimeDelta</th>\n",
       "      <th>BookingDate</th>\n",
       "    </tr>\n",
       "  </thead>\n",
       "  <tbody>\n",
       "    <tr>\n",
       "      <th>0</th>\n",
       "      <td>199901a6-9abc-4fec-85d7-9d79f2471abf</td>\n",
       "      <td>2015-05-06</td>\n",
       "      <td>2015</td>\n",
       "      <td>July</td>\n",
       "      <td>1</td>\n",
       "      <td>3</td>\n",
       "      <td>0</td>\n",
       "      <td>85</td>\n",
       "      <td>2015-07-01</td>\n",
       "      <td>2015-07-04</td>\n",
       "      <td>85 days</td>\n",
       "      <td>2015-04-07</td>\n",
       "    </tr>\n",
       "    <tr>\n",
       "      <th>1</th>\n",
       "      <td>aef8ee02-1762-4f17-a8d7-5550a84a182e</td>\n",
       "      <td>2015-04-22</td>\n",
       "      <td>2015</td>\n",
       "      <td>July</td>\n",
       "      <td>1</td>\n",
       "      <td>3</td>\n",
       "      <td>0</td>\n",
       "      <td>75</td>\n",
       "      <td>2015-07-01</td>\n",
       "      <td>2015-07-04</td>\n",
       "      <td>75 days</td>\n",
       "      <td>2015-04-17</td>\n",
       "    </tr>\n",
       "    <tr>\n",
       "      <th>2</th>\n",
       "      <td>a28bca44-b17a-4aff-ab7c-b7505b294554</td>\n",
       "      <td>2015-06-23</td>\n",
       "      <td>2015</td>\n",
       "      <td>July</td>\n",
       "      <td>1</td>\n",
       "      <td>4</td>\n",
       "      <td>0</td>\n",
       "      <td>23</td>\n",
       "      <td>2015-07-01</td>\n",
       "      <td>2015-07-05</td>\n",
       "      <td>23 days</td>\n",
       "      <td>2015-06-08</td>\n",
       "    </tr>\n",
       "    <tr>\n",
       "      <th>3</th>\n",
       "      <td>8b3cf29f-9540-4a2e-9b6c-eef0bc7649ec</td>\n",
       "      <td>2015-05-11</td>\n",
       "      <td>2015</td>\n",
       "      <td>July</td>\n",
       "      <td>1</td>\n",
       "      <td>5</td>\n",
       "      <td>2</td>\n",
       "      <td>60</td>\n",
       "      <td>2015-07-01</td>\n",
       "      <td>2015-07-08</td>\n",
       "      <td>60 days</td>\n",
       "      <td>2015-05-02</td>\n",
       "    </tr>\n",
       "    <tr>\n",
       "      <th>4</th>\n",
       "      <td>67f2d23d-e2cb-44bc-8452-b7481c756194</td>\n",
       "      <td>2015-05-29</td>\n",
       "      <td>2015</td>\n",
       "      <td>July</td>\n",
       "      <td>1</td>\n",
       "      <td>8</td>\n",
       "      <td>2</td>\n",
       "      <td>96</td>\n",
       "      <td>2015-07-01</td>\n",
       "      <td>2015-07-11</td>\n",
       "      <td>96 days</td>\n",
       "      <td>2015-03-27</td>\n",
       "    </tr>\n",
       "  </tbody>\n",
       "</table>\n",
       "</div>"
      ],
      "text/plain": [
       "                                   UUID ReservationStatusDate ArrivalDateYear  \\\n",
       "0  199901a6-9abc-4fec-85d7-9d79f2471abf            2015-05-06            2015   \n",
       "1  aef8ee02-1762-4f17-a8d7-5550a84a182e            2015-04-22            2015   \n",
       "2  a28bca44-b17a-4aff-ab7c-b7505b294554            2015-06-23            2015   \n",
       "3  8b3cf29f-9540-4a2e-9b6c-eef0bc7649ec            2015-05-11            2015   \n",
       "4  67f2d23d-e2cb-44bc-8452-b7481c756194            2015-05-29            2015   \n",
       "\n",
       "  ArrivalDateMonth ArrivalDateDayOfMonth  StaysInWeekNights  \\\n",
       "0             July                     1                  3   \n",
       "1             July                     1                  3   \n",
       "2             July                     1                  4   \n",
       "3             July                     1                  5   \n",
       "4             July                     1                  8   \n",
       "\n",
       "   StaysInWeekendNights  LeadTime ArrivalDate DepartureDate LeadTimeDelta  \\\n",
       "0                     0        85  2015-07-01    2015-07-04       85 days   \n",
       "1                     0        75  2015-07-01    2015-07-04       75 days   \n",
       "2                     0        23  2015-07-01    2015-07-05       23 days   \n",
       "3                     2        60  2015-07-01    2015-07-08       60 days   \n",
       "4                     2        96  2015-07-01    2015-07-11       96 days   \n",
       "\n",
       "  BookingDate  \n",
       "0  2015-04-07  \n",
       "1  2015-04-17  \n",
       "2  2015-06-08  \n",
       "3  2015-05-02  \n",
       "4  2015-03-27  "
      ]
     },
     "execution_count": 26,
     "metadata": {},
     "output_type": "execute_result"
    }
   ],
   "source": [
    "## Subset the date-engineered dataframe for cancelled reservations\n",
    "cxl_res = df_data[df_data['UUID'].isin(cxl_uuids)]\n",
    "cxl_res = cxl_res.reset_index(drop = True)\n",
    "cxl_res.head()"
   ]
  },
  {
   "cell_type": "code",
   "execution_count": 27,
   "id": "f5ea0b98-a946-41da-9a86-1ee006dc08c6",
   "metadata": {
    "execution": {
     "iopub.execute_input": "2024-04-03T17:56:23.354474Z",
     "iopub.status.busy": "2024-04-03T17:56:23.353473Z",
     "iopub.status.idle": "2024-04-03T17:56:23.429996Z",
     "shell.execute_reply": "2024-04-03T17:56:23.429996Z",
     "shell.execute_reply.started": "2024-04-03T17:56:23.354474Z"
    }
   },
   "outputs": [],
   "source": [
    "cxl_res.loc[:, 'ReservationStatusDate'] = pd.to_datetime(cxl_res.loc[:, 'ReservationStatusDate'])\n",
    "cxl_res.loc[:, 'BookingDate'] = pd.to_datetime(cxl_res.loc[:, 'BookingDate'])"
   ]
  },
  {
   "cell_type": "code",
   "execution_count": 28,
   "id": "9252d3ae-fd15-498c-8d13-26378c94a1be",
   "metadata": {
    "execution": {
     "iopub.execute_input": "2024-04-03T17:56:23.430996Z",
     "iopub.status.busy": "2024-04-03T17:56:23.430996Z",
     "iopub.status.idle": "2024-04-03T17:56:23.483270Z",
     "shell.execute_reply": "2024-04-03T17:56:23.483270Z",
     "shell.execute_reply.started": "2024-04-03T17:56:23.430996Z"
    }
   },
   "outputs": [
    {
     "data": {
      "text/plain": [
       "Timestamp('2015-05-18 00:00:00')"
      ]
     },
     "execution_count": 28,
     "metadata": {},
     "output_type": "execute_result"
    }
   ],
   "source": [
    "cxl_res.loc[8, 'ReservationStatusDate']"
   ]
  },
  {
   "cell_type": "code",
   "execution_count": 29,
   "id": "09adf162-6237-41c7-96c9-40b62e71a961",
   "metadata": {
    "execution": {
     "iopub.execute_input": "2024-04-03T17:56:23.484273Z",
     "iopub.status.busy": "2024-04-03T17:56:23.484273Z",
     "iopub.status.idle": "2024-04-03T17:56:23.535102Z",
     "shell.execute_reply": "2024-04-03T17:56:23.535102Z",
     "shell.execute_reply.started": "2024-04-03T17:56:23.484273Z"
    }
   },
   "outputs": [
    {
     "data": {
      "text/plain": [
       "0       2015-04-07\n",
       "1       2015-04-17\n",
       "2       2015-06-08\n",
       "3       2015-05-02\n",
       "4       2015-03-27\n",
       "           ...    \n",
       "44219   2016-12-14\n",
       "44220   2017-06-01\n",
       "44221   2017-05-24\n",
       "44222   2017-07-11\n",
       "44223   2017-08-02\n",
       "Name: BookingDate, Length: 44224, dtype: datetime64[ns]"
      ]
     },
     "execution_count": 29,
     "metadata": {},
     "output_type": "execute_result"
    }
   ],
   "source": [
    "cxl_res.loc[:, 'BookingDate']"
   ]
  },
  {
   "cell_type": "code",
   "execution_count": 30,
   "id": "08a3d913-62f7-433d-88ff-502389f64b43",
   "metadata": {
    "execution": {
     "iopub.execute_input": "2024-04-03T17:56:23.536102Z",
     "iopub.status.busy": "2024-04-03T17:56:23.536102Z",
     "iopub.status.idle": "2024-04-03T17:56:23.597069Z",
     "shell.execute_reply": "2024-04-03T17:56:23.596072Z",
     "shell.execute_reply.started": "2024-04-03T17:56:23.536102Z"
    }
   },
   "outputs": [
    {
     "data": {
      "text/html": [
       "<div>\n",
       "<style scoped>\n",
       "    .dataframe tbody tr th:only-of-type {\n",
       "        vertical-align: middle;\n",
       "    }\n",
       "\n",
       "    .dataframe tbody tr th {\n",
       "        vertical-align: top;\n",
       "    }\n",
       "\n",
       "    .dataframe thead th {\n",
       "        text-align: right;\n",
       "    }\n",
       "</style>\n",
       "<table border=\"1\" class=\"dataframe\">\n",
       "  <thead>\n",
       "    <tr style=\"text-align: right;\">\n",
       "      <th></th>\n",
       "      <th>UUID</th>\n",
       "      <th>ReservationStatusDate</th>\n",
       "      <th>ArrivalDateYear</th>\n",
       "      <th>ArrivalDateMonth</th>\n",
       "      <th>ArrivalDateDayOfMonth</th>\n",
       "      <th>StaysInWeekNights</th>\n",
       "      <th>StaysInWeekendNights</th>\n",
       "      <th>LeadTime</th>\n",
       "      <th>ArrivalDate</th>\n",
       "      <th>DepartureDate</th>\n",
       "      <th>LeadTimeDelta</th>\n",
       "      <th>BookingDate</th>\n",
       "      <th>DaysOldAtCancelation</th>\n",
       "    </tr>\n",
       "  </thead>\n",
       "  <tbody>\n",
       "    <tr>\n",
       "      <th>0</th>\n",
       "      <td>199901a6-9abc-4fec-85d7-9d79f2471abf</td>\n",
       "      <td>2015-05-06</td>\n",
       "      <td>2015</td>\n",
       "      <td>July</td>\n",
       "      <td>1</td>\n",
       "      <td>3</td>\n",
       "      <td>0</td>\n",
       "      <td>85</td>\n",
       "      <td>2015-07-01</td>\n",
       "      <td>2015-07-04</td>\n",
       "      <td>85 days</td>\n",
       "      <td>2015-04-07</td>\n",
       "      <td>29</td>\n",
       "    </tr>\n",
       "    <tr>\n",
       "      <th>1</th>\n",
       "      <td>aef8ee02-1762-4f17-a8d7-5550a84a182e</td>\n",
       "      <td>2015-04-22</td>\n",
       "      <td>2015</td>\n",
       "      <td>July</td>\n",
       "      <td>1</td>\n",
       "      <td>3</td>\n",
       "      <td>0</td>\n",
       "      <td>75</td>\n",
       "      <td>2015-07-01</td>\n",
       "      <td>2015-07-04</td>\n",
       "      <td>75 days</td>\n",
       "      <td>2015-04-17</td>\n",
       "      <td>5</td>\n",
       "    </tr>\n",
       "    <tr>\n",
       "      <th>2</th>\n",
       "      <td>a28bca44-b17a-4aff-ab7c-b7505b294554</td>\n",
       "      <td>2015-06-23</td>\n",
       "      <td>2015</td>\n",
       "      <td>July</td>\n",
       "      <td>1</td>\n",
       "      <td>4</td>\n",
       "      <td>0</td>\n",
       "      <td>23</td>\n",
       "      <td>2015-07-01</td>\n",
       "      <td>2015-07-05</td>\n",
       "      <td>23 days</td>\n",
       "      <td>2015-06-08</td>\n",
       "      <td>15</td>\n",
       "    </tr>\n",
       "    <tr>\n",
       "      <th>3</th>\n",
       "      <td>8b3cf29f-9540-4a2e-9b6c-eef0bc7649ec</td>\n",
       "      <td>2015-05-11</td>\n",
       "      <td>2015</td>\n",
       "      <td>July</td>\n",
       "      <td>1</td>\n",
       "      <td>5</td>\n",
       "      <td>2</td>\n",
       "      <td>60</td>\n",
       "      <td>2015-07-01</td>\n",
       "      <td>2015-07-08</td>\n",
       "      <td>60 days</td>\n",
       "      <td>2015-05-02</td>\n",
       "      <td>9</td>\n",
       "    </tr>\n",
       "    <tr>\n",
       "      <th>4</th>\n",
       "      <td>67f2d23d-e2cb-44bc-8452-b7481c756194</td>\n",
       "      <td>2015-05-29</td>\n",
       "      <td>2015</td>\n",
       "      <td>July</td>\n",
       "      <td>1</td>\n",
       "      <td>8</td>\n",
       "      <td>2</td>\n",
       "      <td>96</td>\n",
       "      <td>2015-07-01</td>\n",
       "      <td>2015-07-11</td>\n",
       "      <td>96 days</td>\n",
       "      <td>2015-03-27</td>\n",
       "      <td>63</td>\n",
       "    </tr>\n",
       "  </tbody>\n",
       "</table>\n",
       "</div>"
      ],
      "text/plain": [
       "                                   UUID ReservationStatusDate ArrivalDateYear  \\\n",
       "0  199901a6-9abc-4fec-85d7-9d79f2471abf            2015-05-06            2015   \n",
       "1  aef8ee02-1762-4f17-a8d7-5550a84a182e            2015-04-22            2015   \n",
       "2  a28bca44-b17a-4aff-ab7c-b7505b294554            2015-06-23            2015   \n",
       "3  8b3cf29f-9540-4a2e-9b6c-eef0bc7649ec            2015-05-11            2015   \n",
       "4  67f2d23d-e2cb-44bc-8452-b7481c756194            2015-05-29            2015   \n",
       "\n",
       "  ArrivalDateMonth ArrivalDateDayOfMonth  StaysInWeekNights  \\\n",
       "0             July                     1                  3   \n",
       "1             July                     1                  3   \n",
       "2             July                     1                  4   \n",
       "3             July                     1                  5   \n",
       "4             July                     1                  8   \n",
       "\n",
       "   StaysInWeekendNights  LeadTime ArrivalDate DepartureDate LeadTimeDelta  \\\n",
       "0                     0        85  2015-07-01    2015-07-04       85 days   \n",
       "1                     0        75  2015-07-01    2015-07-04       75 days   \n",
       "2                     0        23  2015-07-01    2015-07-05       23 days   \n",
       "3                     2        60  2015-07-01    2015-07-08       60 days   \n",
       "4                     2        96  2015-07-01    2015-07-11       96 days   \n",
       "\n",
       "  BookingDate  DaysOldAtCancelation  \n",
       "0  2015-04-07                    29  \n",
       "1  2015-04-17                     5  \n",
       "2  2015-06-08                    15  \n",
       "3  2015-05-02                     9  \n",
       "4  2015-03-27                    63  "
      ]
     },
     "execution_count": 30,
     "metadata": {},
     "output_type": "execute_result"
    }
   ],
   "source": [
    "## Calculate number of days between booking and cancellation\n",
    "age_at_cxl = (cxl_res['ReservationStatusDate'] - cxl_res['BookingDate']).dt.days\n",
    "\n",
    "age_at_cxl.name = 'DaysOldAtCancelation'\n",
    "\n",
    "cxl_res = pd.concat([cxl_res, age_at_cxl], axis = 1)\n",
    "cxl_res.head()"
   ]
  },
  {
   "cell_type": "code",
   "execution_count": 31,
   "id": "92e2a7a0-99e2-46cf-9413-7f204953c5a3",
   "metadata": {
    "execution": {
     "iopub.execute_input": "2024-04-03T17:56:23.597069Z",
     "iopub.status.busy": "2024-04-03T17:56:23.597069Z",
     "iopub.status.idle": "2024-04-03T17:56:23.653507Z",
     "shell.execute_reply": "2024-04-03T17:56:23.652500Z",
     "shell.execute_reply.started": "2024-04-03T17:56:23.597069Z"
    }
   },
   "outputs": [
    {
     "data": {
      "text/html": [
       "<div>\n",
       "<style scoped>\n",
       "    .dataframe tbody tr th:only-of-type {\n",
       "        vertical-align: middle;\n",
       "    }\n",
       "\n",
       "    .dataframe tbody tr th {\n",
       "        vertical-align: top;\n",
       "    }\n",
       "\n",
       "    .dataframe thead th {\n",
       "        text-align: right;\n",
       "    }\n",
       "</style>\n",
       "<table border=\"1\" class=\"dataframe\">\n",
       "  <thead>\n",
       "    <tr style=\"text-align: right;\">\n",
       "      <th></th>\n",
       "      <th>UUID</th>\n",
       "      <th>DaysOldAtCancelation</th>\n",
       "    </tr>\n",
       "  </thead>\n",
       "  <tbody>\n",
       "    <tr>\n",
       "      <th>0</th>\n",
       "      <td>199901a6-9abc-4fec-85d7-9d79f2471abf</td>\n",
       "      <td>29</td>\n",
       "    </tr>\n",
       "    <tr>\n",
       "      <th>1</th>\n",
       "      <td>aef8ee02-1762-4f17-a8d7-5550a84a182e</td>\n",
       "      <td>5</td>\n",
       "    </tr>\n",
       "    <tr>\n",
       "      <th>2</th>\n",
       "      <td>a28bca44-b17a-4aff-ab7c-b7505b294554</td>\n",
       "      <td>15</td>\n",
       "    </tr>\n",
       "    <tr>\n",
       "      <th>3</th>\n",
       "      <td>8b3cf29f-9540-4a2e-9b6c-eef0bc7649ec</td>\n",
       "      <td>9</td>\n",
       "    </tr>\n",
       "    <tr>\n",
       "      <th>4</th>\n",
       "      <td>67f2d23d-e2cb-44bc-8452-b7481c756194</td>\n",
       "      <td>63</td>\n",
       "    </tr>\n",
       "  </tbody>\n",
       "</table>\n",
       "</div>"
      ],
      "text/plain": [
       "                                   UUID  DaysOldAtCancelation\n",
       "0  199901a6-9abc-4fec-85d7-9d79f2471abf                    29\n",
       "1  aef8ee02-1762-4f17-a8d7-5550a84a182e                     5\n",
       "2  a28bca44-b17a-4aff-ab7c-b7505b294554                    15\n",
       "3  8b3cf29f-9540-4a2e-9b6c-eef0bc7649ec                     9\n",
       "4  67f2d23d-e2cb-44bc-8452-b7481c756194                    63"
      ]
     },
     "execution_count": 31,
     "metadata": {},
     "output_type": "execute_result"
    }
   ],
   "source": [
    "cxl_res[['UUID', 'DaysOldAtCancelation']].head()"
   ]
  },
  {
   "cell_type": "code",
   "execution_count": 32,
   "id": "a7073aa9-403c-420f-a214-19f7b81d5a25",
   "metadata": {
    "execution": {
     "iopub.execute_input": "2024-04-03T17:56:23.654500Z",
     "iopub.status.busy": "2024-04-03T17:56:23.654500Z",
     "iopub.status.idle": "2024-04-03T17:56:23.727523Z",
     "shell.execute_reply": "2024-04-03T17:56:23.727523Z",
     "shell.execute_reply.started": "2024-04-03T17:56:23.654500Z"
    }
   },
   "outputs": [],
   "source": [
    "cxl_res[['UUID', 'DaysOldAtCancelation']].to_parquet('../data/cxl_res_age.parquet', compression = 'snappy')"
   ]
  },
  {
   "cell_type": "markdown",
   "id": "d714edfb-2a66-45ba-a04f-c8937738c8f9",
   "metadata": {},
   "source": [
    "## Inspection Results: `ReservationStatusDate`\n",
    "\n",
    "---\n",
    "\n",
    "Based on the average number of reservations last changed before arrival, it is clear that this feature will be almost exactly indicative of whether a reservation canceled prior to arrival.\n",
    "\n",
    "Additionally, the number of days between the ArrivalDate and ReservationStatusDate features matches the length of stay, which already exists.\n",
    "\n",
    "However, I did calculate the age of each reservation and can use this information for further analysis of cancelled reservations.\n",
    "\n",
    "**Final Determination:** The feature `ReservationStatusDate` is not appropriate for feature engineering, and considering its nearly-exact correlation to the cancelation status of a reservation, it should be dropped from future datasets prior to modeling.\n",
    "\n",
    "---"
   ]
  },
  {
   "cell_type": "markdown",
   "id": "7a9b6814-8d76-4d30-be90-2c95bfdc7562",
   "metadata": {},
   "source": [
    "# Subset DataFrame to Focus on Engineered Dates"
   ]
  },
  {
   "cell_type": "code",
   "execution_count": 33,
   "id": "1b7e922a-bc71-4c80-ab43-d1118f12ecec",
   "metadata": {
    "execution": {
     "iopub.execute_input": "2024-04-03T17:56:23.727523Z",
     "iopub.status.busy": "2024-04-03T17:56:23.727523Z",
     "iopub.status.idle": "2024-04-03T17:56:23.796274Z",
     "shell.execute_reply": "2024-04-03T17:56:23.795273Z",
     "shell.execute_reply.started": "2024-04-03T17:56:23.727523Z"
    },
    "scrolled": true
   },
   "outputs": [
    {
     "data": {
      "text/html": [
       "<div>\n",
       "<style scoped>\n",
       "    .dataframe tbody tr th:only-of-type {\n",
       "        vertical-align: middle;\n",
       "    }\n",
       "\n",
       "    .dataframe tbody tr th {\n",
       "        vertical-align: top;\n",
       "    }\n",
       "\n",
       "    .dataframe thead th {\n",
       "        text-align: right;\n",
       "    }\n",
       "</style>\n",
       "<table border=\"1\" class=\"dataframe\">\n",
       "  <thead>\n",
       "    <tr style=\"text-align: right;\">\n",
       "      <th></th>\n",
       "      <th>UUID</th>\n",
       "      <th>ReservationStatusDate</th>\n",
       "      <th>ArrivalDate</th>\n",
       "      <th>DepartureDate</th>\n",
       "      <th>BookingDate</th>\n",
       "    </tr>\n",
       "  </thead>\n",
       "  <tbody>\n",
       "    <tr>\n",
       "      <th>0</th>\n",
       "      <td>8ca998d6-fae7-4ee4-a706-3765721aaff5</td>\n",
       "      <td>2015-07-01</td>\n",
       "      <td>2015-07-01</td>\n",
       "      <td>2015-07-01</td>\n",
       "      <td>2014-07-24</td>\n",
       "    </tr>\n",
       "    <tr>\n",
       "      <th>1</th>\n",
       "      <td>e535835e-b19a-4e32-9e9f-6d70a0182d4b</td>\n",
       "      <td>2015-07-01</td>\n",
       "      <td>2015-07-01</td>\n",
       "      <td>2015-07-01</td>\n",
       "      <td>2013-06-24</td>\n",
       "    </tr>\n",
       "    <tr>\n",
       "      <th>2</th>\n",
       "      <td>9429383d-0efd-4c37-bb9b-0aaa63d5aade</td>\n",
       "      <td>2015-07-02</td>\n",
       "      <td>2015-07-01</td>\n",
       "      <td>2015-07-02</td>\n",
       "      <td>2015-06-24</td>\n",
       "    </tr>\n",
       "    <tr>\n",
       "      <th>3</th>\n",
       "      <td>dd6424ee-6838-4007-ad85-de9ff96be14b</td>\n",
       "      <td>2015-07-02</td>\n",
       "      <td>2015-07-01</td>\n",
       "      <td>2015-07-02</td>\n",
       "      <td>2015-06-18</td>\n",
       "    </tr>\n",
       "    <tr>\n",
       "      <th>4</th>\n",
       "      <td>50ff56ee-6a72-40dc-8ff1-4246b831c779</td>\n",
       "      <td>2015-07-03</td>\n",
       "      <td>2015-07-01</td>\n",
       "      <td>2015-07-03</td>\n",
       "      <td>2015-06-17</td>\n",
       "    </tr>\n",
       "  </tbody>\n",
       "</table>\n",
       "</div>"
      ],
      "text/plain": [
       "                                   UUID ReservationStatusDate ArrivalDate  \\\n",
       "0  8ca998d6-fae7-4ee4-a706-3765721aaff5            2015-07-01  2015-07-01   \n",
       "1  e535835e-b19a-4e32-9e9f-6d70a0182d4b            2015-07-01  2015-07-01   \n",
       "2  9429383d-0efd-4c37-bb9b-0aaa63d5aade            2015-07-02  2015-07-01   \n",
       "3  dd6424ee-6838-4007-ad85-de9ff96be14b            2015-07-02  2015-07-01   \n",
       "4  50ff56ee-6a72-40dc-8ff1-4246b831c779            2015-07-03  2015-07-01   \n",
       "\n",
       "  DepartureDate BookingDate  \n",
       "0    2015-07-01  2014-07-24  \n",
       "1    2015-07-01  2013-06-24  \n",
       "2    2015-07-02  2015-06-24  \n",
       "3    2015-07-02  2015-06-18  \n",
       "4    2015-07-03  2015-06-17  "
      ]
     },
     "execution_count": 33,
     "metadata": {},
     "output_type": "execute_result"
    }
   ],
   "source": [
    "drop_cols = ['ArrivalDateYear', 'ArrivalDateMonth', 'ArrivalDateDayOfMonth',\n",
    "'StaysInWeekNights', 'StaysInWeekendNights', 'LeadTime', 'LeadTimeDelta']\n",
    "df_data = df_data.drop(columns = drop_cols)\n",
    "df_data.head()"
   ]
  },
  {
   "cell_type": "markdown",
   "id": "087c1854",
   "metadata": {},
   "source": [
    "# FE: Holidays"
   ]
  },
  {
   "cell_type": "code",
   "execution_count": 34,
   "id": "feff2c02-7ed7-41bc-a672-0b8c9926a8bc",
   "metadata": {
    "execution": {
     "iopub.execute_input": "2024-04-03T17:56:23.797274Z",
     "iopub.status.busy": "2024-04-03T17:56:23.797274Z",
     "iopub.status.idle": "2024-04-03T17:56:23.865250Z",
     "shell.execute_reply": "2024-04-03T17:56:23.864170Z",
     "shell.execute_reply.started": "2024-04-03T17:56:23.797274Z"
    }
   },
   "outputs": [
    {
     "data": {
      "text/plain": [
       "2013"
      ]
     },
     "execution_count": 34,
     "metadata": {},
     "output_type": "execute_result"
    }
   ],
   "source": [
    "min_year = (df_data[['ArrivalDate', 'DepartureDate', 'BookingDate']]\n",
    "                 .min()\n",
    "                 .min()\n",
    "                 .year)\n",
    "min_year"
   ]
  },
  {
   "cell_type": "code",
   "execution_count": 35,
   "id": "48f135d9-d686-482b-9297-ad060fe738df",
   "metadata": {
    "execution": {
     "iopub.execute_input": "2024-04-03T17:56:23.866233Z",
     "iopub.status.busy": "2024-04-03T17:56:23.865250Z",
     "iopub.status.idle": "2024-04-03T17:56:23.919721Z",
     "shell.execute_reply": "2024-04-03T17:56:23.918716Z",
     "shell.execute_reply.started": "2024-04-03T17:56:23.866233Z"
    }
   },
   "outputs": [
    {
     "data": {
      "text/plain": [
       "2017"
      ]
     },
     "execution_count": 35,
     "metadata": {},
     "output_type": "execute_result"
    }
   ],
   "source": [
    "max_year = (df_data[['ArrivalDate', 'DepartureDate', 'BookingDate']]\n",
    "                 .max()\n",
    "                 .max()\n",
    "                 .year)\n",
    "max_year"
   ]
  },
  {
   "cell_type": "code",
   "execution_count": 36,
   "id": "03a281b8-2788-4f8e-bebb-55da29e8ae8e",
   "metadata": {
    "execution": {
     "iopub.execute_input": "2024-04-03T17:56:23.920726Z",
     "iopub.status.busy": "2024-04-03T17:56:23.920726Z",
     "iopub.status.idle": "2024-04-03T17:56:24.208154Z",
     "shell.execute_reply": "2024-04-03T17:56:24.208154Z",
     "shell.execute_reply.started": "2024-04-03T17:56:23.920726Z"
    }
   },
   "outputs": [],
   "source": [
    "# Fetch holidays for the specific country and range of years (2013-2017)\n",
    "country_code = 'PT'\n",
    "years= [year for year in range(min_year, max_year+1)]\n",
    "\n",
    "pt_holidays = holidays.CountryHoliday(country = country_code, years = years)\n",
    "\n",
    "def holiday_past(date, holidays):\n",
    "\n",
    "    # Convert Timestamp to datetime.date\n",
    "    date = date.date()\n",
    "\n",
    "    # Find the closest past holiday\n",
    "    past_holidays = [(date - h_date).days for h_date in holidays if h_date <= date]\n",
    "    \n",
    "    if past_holidays:\n",
    "        days_after = min((d for d in past_holidays if d >= 0), default=None)\n",
    "    else:\n",
    "        days_after = None\n",
    "   \n",
    "    return days_after\n",
    "\n",
    "\n",
    "def holiday_upcoming(date, holidays):\n",
    "\n",
    "    # Convert Timestamp to datetime.date\n",
    "    date = date.date()\n",
    "\n",
    "    # Find the closest upcoming holiday\n",
    "    future_holidays = [(h_date - date).days for h_date in holidays if h_date > date]\n",
    "        \n",
    "    if future_holidays:\n",
    "        days_before = min((d for d in future_holidays if d >= 0), default=None)\n",
    "    else:\n",
    "        days_before = None\n",
    "\n",
    "    return days_before\n",
    "\n",
    "\n",
    "# Function to calculate the proximity to holidays for a list of dates\n",
    "def calculate_holiday_proximity(dates, holidays):\n",
    "    days_after_recent_holiday = []\n",
    "    days_before_next_holiday = []\n",
    "\n",
    "    for dt in dates:\n",
    "\n",
    "        days_after_recent_holiday.append(holiday_past(dt, holidays))\n",
    "        days_before_next_holiday.append(holiday_upcoming(dt, holidays))\n",
    "    \n",
    "    return days_after_recent_holiday, days_before_next_holiday"
   ]
  },
  {
   "cell_type": "code",
   "execution_count": 37,
   "id": "748cb450",
   "metadata": {
    "execution": {
     "iopub.execute_input": "2024-04-03T17:56:24.209155Z",
     "iopub.status.busy": "2024-04-03T17:56:24.209155Z",
     "iopub.status.idle": "2024-04-03T17:56:28.771852Z",
     "shell.execute_reply": "2024-04-03T17:56:28.769388Z",
     "shell.execute_reply.started": "2024-04-03T17:56:24.209155Z"
    }
   },
   "outputs": [
    {
     "data": {
      "text/html": [
       "<div>\n",
       "<style scoped>\n",
       "    .dataframe tbody tr th:only-of-type {\n",
       "        vertical-align: middle;\n",
       "    }\n",
       "\n",
       "    .dataframe tbody tr th {\n",
       "        vertical-align: top;\n",
       "    }\n",
       "\n",
       "    .dataframe thead th {\n",
       "        text-align: right;\n",
       "    }\n",
       "</style>\n",
       "<table border=\"1\" class=\"dataframe\">\n",
       "  <thead>\n",
       "    <tr style=\"text-align: right;\">\n",
       "      <th></th>\n",
       "      <th>UUID</th>\n",
       "      <th>ReservationStatusDate</th>\n",
       "      <th>ArrivalDate</th>\n",
       "      <th>DepartureDate</th>\n",
       "      <th>BookingDate</th>\n",
       "      <th>ArrivalDate_DaysBeforeHoliday</th>\n",
       "      <th>ArrivalDate_DaysAfterHoliday</th>\n",
       "      <th>DepartureDate_DaysBeforeHoliday</th>\n",
       "      <th>DepartureDate_DaysAfterHoliday</th>\n",
       "      <th>BookingDate_DaysBeforeHoliday</th>\n",
       "      <th>BookingDate_DaysAfterHoliday</th>\n",
       "    </tr>\n",
       "  </thead>\n",
       "  <tbody>\n",
       "    <tr>\n",
       "      <th>0</th>\n",
       "      <td>8ca998d6-fae7-4ee4-a706-3765721aaff5</td>\n",
       "      <td>2015-07-01</td>\n",
       "      <td>2015-07-01</td>\n",
       "      <td>2015-07-01</td>\n",
       "      <td>2014-07-24</td>\n",
       "      <td>45</td>\n",
       "      <td>21</td>\n",
       "      <td>45</td>\n",
       "      <td>21</td>\n",
       "      <td>22</td>\n",
       "      <td>44</td>\n",
       "    </tr>\n",
       "    <tr>\n",
       "      <th>1</th>\n",
       "      <td>e535835e-b19a-4e32-9e9f-6d70a0182d4b</td>\n",
       "      <td>2015-07-01</td>\n",
       "      <td>2015-07-01</td>\n",
       "      <td>2015-07-01</td>\n",
       "      <td>2013-06-24</td>\n",
       "      <td>45</td>\n",
       "      <td>21</td>\n",
       "      <td>45</td>\n",
       "      <td>21</td>\n",
       "      <td>52</td>\n",
       "      <td>14</td>\n",
       "    </tr>\n",
       "    <tr>\n",
       "      <th>2</th>\n",
       "      <td>9429383d-0efd-4c37-bb9b-0aaa63d5aade</td>\n",
       "      <td>2015-07-02</td>\n",
       "      <td>2015-07-01</td>\n",
       "      <td>2015-07-02</td>\n",
       "      <td>2015-06-24</td>\n",
       "      <td>45</td>\n",
       "      <td>21</td>\n",
       "      <td>44</td>\n",
       "      <td>22</td>\n",
       "      <td>52</td>\n",
       "      <td>14</td>\n",
       "    </tr>\n",
       "    <tr>\n",
       "      <th>3</th>\n",
       "      <td>dd6424ee-6838-4007-ad85-de9ff96be14b</td>\n",
       "      <td>2015-07-02</td>\n",
       "      <td>2015-07-01</td>\n",
       "      <td>2015-07-02</td>\n",
       "      <td>2015-06-18</td>\n",
       "      <td>45</td>\n",
       "      <td>21</td>\n",
       "      <td>44</td>\n",
       "      <td>22</td>\n",
       "      <td>58</td>\n",
       "      <td>8</td>\n",
       "    </tr>\n",
       "    <tr>\n",
       "      <th>4</th>\n",
       "      <td>50ff56ee-6a72-40dc-8ff1-4246b831c779</td>\n",
       "      <td>2015-07-03</td>\n",
       "      <td>2015-07-01</td>\n",
       "      <td>2015-07-03</td>\n",
       "      <td>2015-06-17</td>\n",
       "      <td>45</td>\n",
       "      <td>21</td>\n",
       "      <td>43</td>\n",
       "      <td>23</td>\n",
       "      <td>59</td>\n",
       "      <td>7</td>\n",
       "    </tr>\n",
       "    <tr>\n",
       "      <th>...</th>\n",
       "      <td>...</td>\n",
       "      <td>...</td>\n",
       "      <td>...</td>\n",
       "      <td>...</td>\n",
       "      <td>...</td>\n",
       "      <td>...</td>\n",
       "      <td>...</td>\n",
       "      <td>...</td>\n",
       "      <td>...</td>\n",
       "      <td>...</td>\n",
       "      <td>...</td>\n",
       "    </tr>\n",
       "    <tr>\n",
       "      <th>119385</th>\n",
       "      <td>2ccdf728-5829-47d6-ae2c-016f9706c24d</td>\n",
       "      <td>2017-09-06</td>\n",
       "      <td>2017-08-30</td>\n",
       "      <td>2017-09-06</td>\n",
       "      <td>2017-08-07</td>\n",
       "      <td>36</td>\n",
       "      <td>15</td>\n",
       "      <td>29</td>\n",
       "      <td>22</td>\n",
       "      <td>8</td>\n",
       "      <td>53</td>\n",
       "    </tr>\n",
       "    <tr>\n",
       "      <th>119386</th>\n",
       "      <td>be937240-f461-4eee-9971-a83c8c09bf04</td>\n",
       "      <td>2017-09-07</td>\n",
       "      <td>2017-08-31</td>\n",
       "      <td>2017-09-07</td>\n",
       "      <td>2017-05-21</td>\n",
       "      <td>35</td>\n",
       "      <td>16</td>\n",
       "      <td>28</td>\n",
       "      <td>23</td>\n",
       "      <td>20</td>\n",
       "      <td>20</td>\n",
       "    </tr>\n",
       "    <tr>\n",
       "      <th>119387</th>\n",
       "      <td>04e0baed-c9a6-487c-a1af-82cb0f830fe4</td>\n",
       "      <td>2017-09-07</td>\n",
       "      <td>2017-08-31</td>\n",
       "      <td>2017-09-07</td>\n",
       "      <td>2017-07-28</td>\n",
       "      <td>35</td>\n",
       "      <td>16</td>\n",
       "      <td>28</td>\n",
       "      <td>23</td>\n",
       "      <td>18</td>\n",
       "      <td>43</td>\n",
       "    </tr>\n",
       "    <tr>\n",
       "      <th>119388</th>\n",
       "      <td>4d96b250-c5c4-46e5-bf52-e4334991d81b</td>\n",
       "      <td>2017-09-07</td>\n",
       "      <td>2017-08-31</td>\n",
       "      <td>2017-09-07</td>\n",
       "      <td>2017-05-14</td>\n",
       "      <td>35</td>\n",
       "      <td>16</td>\n",
       "      <td>28</td>\n",
       "      <td>23</td>\n",
       "      <td>27</td>\n",
       "      <td>13</td>\n",
       "    </tr>\n",
       "    <tr>\n",
       "      <th>119389</th>\n",
       "      <td>acc64a9a-03f1-43b4-b07d-98d7b152be0a</td>\n",
       "      <td>2017-09-07</td>\n",
       "      <td>2017-08-29</td>\n",
       "      <td>2017-09-07</td>\n",
       "      <td>2017-02-05</td>\n",
       "      <td>37</td>\n",
       "      <td>14</td>\n",
       "      <td>28</td>\n",
       "      <td>23</td>\n",
       "      <td>68</td>\n",
       "      <td>35</td>\n",
       "    </tr>\n",
       "  </tbody>\n",
       "</table>\n",
       "<p>119390 rows × 11 columns</p>\n",
       "</div>"
      ],
      "text/plain": [
       "                                        UUID ReservationStatusDate  \\\n",
       "0       8ca998d6-fae7-4ee4-a706-3765721aaff5            2015-07-01   \n",
       "1       e535835e-b19a-4e32-9e9f-6d70a0182d4b            2015-07-01   \n",
       "2       9429383d-0efd-4c37-bb9b-0aaa63d5aade            2015-07-02   \n",
       "3       dd6424ee-6838-4007-ad85-de9ff96be14b            2015-07-02   \n",
       "4       50ff56ee-6a72-40dc-8ff1-4246b831c779            2015-07-03   \n",
       "...                                      ...                   ...   \n",
       "119385  2ccdf728-5829-47d6-ae2c-016f9706c24d            2017-09-06   \n",
       "119386  be937240-f461-4eee-9971-a83c8c09bf04            2017-09-07   \n",
       "119387  04e0baed-c9a6-487c-a1af-82cb0f830fe4            2017-09-07   \n",
       "119388  4d96b250-c5c4-46e5-bf52-e4334991d81b            2017-09-07   \n",
       "119389  acc64a9a-03f1-43b4-b07d-98d7b152be0a            2017-09-07   \n",
       "\n",
       "       ArrivalDate DepartureDate BookingDate  ArrivalDate_DaysBeforeHoliday  \\\n",
       "0       2015-07-01    2015-07-01  2014-07-24                             45   \n",
       "1       2015-07-01    2015-07-01  2013-06-24                             45   \n",
       "2       2015-07-01    2015-07-02  2015-06-24                             45   \n",
       "3       2015-07-01    2015-07-02  2015-06-18                             45   \n",
       "4       2015-07-01    2015-07-03  2015-06-17                             45   \n",
       "...            ...           ...         ...                            ...   \n",
       "119385  2017-08-30    2017-09-06  2017-08-07                             36   \n",
       "119386  2017-08-31    2017-09-07  2017-05-21                             35   \n",
       "119387  2017-08-31    2017-09-07  2017-07-28                             35   \n",
       "119388  2017-08-31    2017-09-07  2017-05-14                             35   \n",
       "119389  2017-08-29    2017-09-07  2017-02-05                             37   \n",
       "\n",
       "        ArrivalDate_DaysAfterHoliday  DepartureDate_DaysBeforeHoliday  \\\n",
       "0                                 21                               45   \n",
       "1                                 21                               45   \n",
       "2                                 21                               44   \n",
       "3                                 21                               44   \n",
       "4                                 21                               43   \n",
       "...                              ...                              ...   \n",
       "119385                            15                               29   \n",
       "119386                            16                               28   \n",
       "119387                            16                               28   \n",
       "119388                            16                               28   \n",
       "119389                            14                               28   \n",
       "\n",
       "        DepartureDate_DaysAfterHoliday  BookingDate_DaysBeforeHoliday  \\\n",
       "0                                   21                             22   \n",
       "1                                   21                             52   \n",
       "2                                   22                             52   \n",
       "3                                   22                             58   \n",
       "4                                   23                             59   \n",
       "...                                ...                            ...   \n",
       "119385                              22                              8   \n",
       "119386                              23                             20   \n",
       "119387                              23                             18   \n",
       "119388                              23                             27   \n",
       "119389                              23                             68   \n",
       "\n",
       "        BookingDate_DaysAfterHoliday  \n",
       "0                                 44  \n",
       "1                                 14  \n",
       "2                                 14  \n",
       "3                                  8  \n",
       "4                                  7  \n",
       "...                              ...  \n",
       "119385                            53  \n",
       "119386                            20  \n",
       "119387                            43  \n",
       "119388                            13  \n",
       "119389                            35  \n",
       "\n",
       "[119390 rows x 11 columns]"
      ]
     },
     "execution_count": 37,
     "metadata": {},
     "output_type": "execute_result"
    }
   ],
   "source": [
    "# Apply the function to each date column in the dataframe\n",
    "for column in ['ArrivalDate', 'DepartureDate', 'BookingDate']:\n",
    "    after, before = calculate_holiday_proximity(df_data[column], pt_holidays)\n",
    "    df_data[f'{column}_DaysBeforeHoliday'] = before\n",
    "    df_data[f'{column}_DaysAfterHoliday'] = after\n",
    "\n",
    "df_data"
   ]
  },
  {
   "cell_type": "markdown",
   "id": "7a48c4f0",
   "metadata": {},
   "source": [
    "# FE: ISO Day of Week, ISO Week of Year"
   ]
  },
  {
   "cell_type": "code",
   "execution_count": 38,
   "id": "5e61e270",
   "metadata": {
    "execution": {
     "iopub.execute_input": "2024-04-03T17:56:28.771852Z",
     "iopub.status.busy": "2024-04-03T17:56:28.771852Z",
     "iopub.status.idle": "2024-04-03T17:56:28.848068Z",
     "shell.execute_reply": "2024-04-03T17:56:28.847083Z",
     "shell.execute_reply.started": "2024-04-03T17:56:28.771852Z"
    }
   },
   "outputs": [
    {
     "data": {
      "text/plain": [
       "0    2\n",
       "1    2\n",
       "2    2\n",
       "3    2\n",
       "4    2\n",
       "Name: ArrivalDate, dtype: int32"
      ]
     },
     "execution_count": 38,
     "metadata": {},
     "output_type": "execute_result"
    }
   ],
   "source": [
    "df_data['ArrivalDate'].dt.dayofweek.head()"
   ]
  },
  {
   "cell_type": "code",
   "execution_count": 39,
   "id": "645a4351",
   "metadata": {
    "execution": {
     "iopub.execute_input": "2024-04-03T17:56:28.849068Z",
     "iopub.status.busy": "2024-04-03T17:56:28.849068Z",
     "iopub.status.idle": "2024-04-03T17:56:28.913842Z",
     "shell.execute_reply": "2024-04-03T17:56:28.913842Z",
     "shell.execute_reply.started": "2024-04-03T17:56:28.849068Z"
    }
   },
   "outputs": [
    {
     "data": {
      "text/html": [
       "<div>\n",
       "<style scoped>\n",
       "    .dataframe tbody tr th:only-of-type {\n",
       "        vertical-align: middle;\n",
       "    }\n",
       "\n",
       "    .dataframe tbody tr th {\n",
       "        vertical-align: top;\n",
       "    }\n",
       "\n",
       "    .dataframe thead th {\n",
       "        text-align: right;\n",
       "    }\n",
       "</style>\n",
       "<table border=\"1\" class=\"dataframe\">\n",
       "  <thead>\n",
       "    <tr style=\"text-align: right;\">\n",
       "      <th></th>\n",
       "      <th>year</th>\n",
       "      <th>week</th>\n",
       "      <th>day</th>\n",
       "    </tr>\n",
       "  </thead>\n",
       "  <tbody>\n",
       "    <tr>\n",
       "      <th>0</th>\n",
       "      <td>2015</td>\n",
       "      <td>27</td>\n",
       "      <td>3</td>\n",
       "    </tr>\n",
       "    <tr>\n",
       "      <th>1</th>\n",
       "      <td>2015</td>\n",
       "      <td>27</td>\n",
       "      <td>3</td>\n",
       "    </tr>\n",
       "    <tr>\n",
       "      <th>2</th>\n",
       "      <td>2015</td>\n",
       "      <td>27</td>\n",
       "      <td>3</td>\n",
       "    </tr>\n",
       "    <tr>\n",
       "      <th>3</th>\n",
       "      <td>2015</td>\n",
       "      <td>27</td>\n",
       "      <td>3</td>\n",
       "    </tr>\n",
       "    <tr>\n",
       "      <th>4</th>\n",
       "      <td>2015</td>\n",
       "      <td>27</td>\n",
       "      <td>3</td>\n",
       "    </tr>\n",
       "  </tbody>\n",
       "</table>\n",
       "</div>"
      ],
      "text/plain": [
       "   year  week  day\n",
       "0  2015    27    3\n",
       "1  2015    27    3\n",
       "2  2015    27    3\n",
       "3  2015    27    3\n",
       "4  2015    27    3"
      ]
     },
     "execution_count": 39,
     "metadata": {},
     "output_type": "execute_result"
    }
   ],
   "source": [
    "df_data['ArrivalDate'].dt.isocalendar().head()"
   ]
  },
  {
   "cell_type": "code",
   "execution_count": 40,
   "id": "30259734",
   "metadata": {
    "execution": {
     "iopub.execute_input": "2024-04-03T17:56:28.914849Z",
     "iopub.status.busy": "2024-04-03T17:56:28.914849Z",
     "iopub.status.idle": "2024-04-03T17:56:29.017802Z",
     "shell.execute_reply": "2024-04-03T17:56:29.017802Z",
     "shell.execute_reply.started": "2024-04-03T17:56:28.914849Z"
    }
   },
   "outputs": [
    {
     "data": {
      "text/html": [
       "<div>\n",
       "<style scoped>\n",
       "    .dataframe tbody tr th:only-of-type {\n",
       "        vertical-align: middle;\n",
       "    }\n",
       "\n",
       "    .dataframe tbody tr th {\n",
       "        vertical-align: top;\n",
       "    }\n",
       "\n",
       "    .dataframe thead th {\n",
       "        text-align: right;\n",
       "    }\n",
       "</style>\n",
       "<table border=\"1\" class=\"dataframe\">\n",
       "  <thead>\n",
       "    <tr style=\"text-align: right;\">\n",
       "      <th></th>\n",
       "      <th>UUID</th>\n",
       "      <th>ReservationStatusDate</th>\n",
       "      <th>ArrivalDate</th>\n",
       "      <th>DepartureDate</th>\n",
       "      <th>BookingDate</th>\n",
       "      <th>ArrivalDate_DaysBeforeHoliday</th>\n",
       "      <th>ArrivalDate_DaysAfterHoliday</th>\n",
       "      <th>DepartureDate_DaysBeforeHoliday</th>\n",
       "      <th>DepartureDate_DaysAfterHoliday</th>\n",
       "      <th>BookingDate_DaysBeforeHoliday</th>\n",
       "      <th>BookingDate_DaysAfterHoliday</th>\n",
       "      <th>ArrivalDate_WeekNumber</th>\n",
       "      <th>ArrivalDate_DayOfWeek</th>\n",
       "      <th>DepartureDate_WeekNumber</th>\n",
       "      <th>DepartureDate_DayOfWeek</th>\n",
       "      <th>BookingDate_WeekNumber</th>\n",
       "      <th>BookingDate_DayOfWeek</th>\n",
       "    </tr>\n",
       "  </thead>\n",
       "  <tbody>\n",
       "    <tr>\n",
       "      <th>0</th>\n",
       "      <td>8ca998d6-fae7-4ee4-a706-3765721aaff5</td>\n",
       "      <td>2015-07-01</td>\n",
       "      <td>2015-07-01</td>\n",
       "      <td>2015-07-01</td>\n",
       "      <td>2014-07-24</td>\n",
       "      <td>45</td>\n",
       "      <td>21</td>\n",
       "      <td>45</td>\n",
       "      <td>21</td>\n",
       "      <td>22</td>\n",
       "      <td>44</td>\n",
       "      <td>27</td>\n",
       "      <td>3</td>\n",
       "      <td>27</td>\n",
       "      <td>3</td>\n",
       "      <td>30</td>\n",
       "      <td>4</td>\n",
       "    </tr>\n",
       "    <tr>\n",
       "      <th>1</th>\n",
       "      <td>e535835e-b19a-4e32-9e9f-6d70a0182d4b</td>\n",
       "      <td>2015-07-01</td>\n",
       "      <td>2015-07-01</td>\n",
       "      <td>2015-07-01</td>\n",
       "      <td>2013-06-24</td>\n",
       "      <td>45</td>\n",
       "      <td>21</td>\n",
       "      <td>45</td>\n",
       "      <td>21</td>\n",
       "      <td>52</td>\n",
       "      <td>14</td>\n",
       "      <td>27</td>\n",
       "      <td>3</td>\n",
       "      <td>27</td>\n",
       "      <td>3</td>\n",
       "      <td>26</td>\n",
       "      <td>1</td>\n",
       "    </tr>\n",
       "    <tr>\n",
       "      <th>2</th>\n",
       "      <td>9429383d-0efd-4c37-bb9b-0aaa63d5aade</td>\n",
       "      <td>2015-07-02</td>\n",
       "      <td>2015-07-01</td>\n",
       "      <td>2015-07-02</td>\n",
       "      <td>2015-06-24</td>\n",
       "      <td>45</td>\n",
       "      <td>21</td>\n",
       "      <td>44</td>\n",
       "      <td>22</td>\n",
       "      <td>52</td>\n",
       "      <td>14</td>\n",
       "      <td>27</td>\n",
       "      <td>3</td>\n",
       "      <td>27</td>\n",
       "      <td>4</td>\n",
       "      <td>26</td>\n",
       "      <td>3</td>\n",
       "    </tr>\n",
       "    <tr>\n",
       "      <th>3</th>\n",
       "      <td>dd6424ee-6838-4007-ad85-de9ff96be14b</td>\n",
       "      <td>2015-07-02</td>\n",
       "      <td>2015-07-01</td>\n",
       "      <td>2015-07-02</td>\n",
       "      <td>2015-06-18</td>\n",
       "      <td>45</td>\n",
       "      <td>21</td>\n",
       "      <td>44</td>\n",
       "      <td>22</td>\n",
       "      <td>58</td>\n",
       "      <td>8</td>\n",
       "      <td>27</td>\n",
       "      <td>3</td>\n",
       "      <td>27</td>\n",
       "      <td>4</td>\n",
       "      <td>25</td>\n",
       "      <td>4</td>\n",
       "    </tr>\n",
       "    <tr>\n",
       "      <th>4</th>\n",
       "      <td>50ff56ee-6a72-40dc-8ff1-4246b831c779</td>\n",
       "      <td>2015-07-03</td>\n",
       "      <td>2015-07-01</td>\n",
       "      <td>2015-07-03</td>\n",
       "      <td>2015-06-17</td>\n",
       "      <td>45</td>\n",
       "      <td>21</td>\n",
       "      <td>43</td>\n",
       "      <td>23</td>\n",
       "      <td>59</td>\n",
       "      <td>7</td>\n",
       "      <td>27</td>\n",
       "      <td>3</td>\n",
       "      <td>27</td>\n",
       "      <td>5</td>\n",
       "      <td>25</td>\n",
       "      <td>3</td>\n",
       "    </tr>\n",
       "  </tbody>\n",
       "</table>\n",
       "</div>"
      ],
      "text/plain": [
       "                                   UUID ReservationStatusDate ArrivalDate  \\\n",
       "0  8ca998d6-fae7-4ee4-a706-3765721aaff5            2015-07-01  2015-07-01   \n",
       "1  e535835e-b19a-4e32-9e9f-6d70a0182d4b            2015-07-01  2015-07-01   \n",
       "2  9429383d-0efd-4c37-bb9b-0aaa63d5aade            2015-07-02  2015-07-01   \n",
       "3  dd6424ee-6838-4007-ad85-de9ff96be14b            2015-07-02  2015-07-01   \n",
       "4  50ff56ee-6a72-40dc-8ff1-4246b831c779            2015-07-03  2015-07-01   \n",
       "\n",
       "  DepartureDate BookingDate  ArrivalDate_DaysBeforeHoliday  \\\n",
       "0    2015-07-01  2014-07-24                             45   \n",
       "1    2015-07-01  2013-06-24                             45   \n",
       "2    2015-07-02  2015-06-24                             45   \n",
       "3    2015-07-02  2015-06-18                             45   \n",
       "4    2015-07-03  2015-06-17                             45   \n",
       "\n",
       "   ArrivalDate_DaysAfterHoliday  DepartureDate_DaysBeforeHoliday  \\\n",
       "0                            21                               45   \n",
       "1                            21                               45   \n",
       "2                            21                               44   \n",
       "3                            21                               44   \n",
       "4                            21                               43   \n",
       "\n",
       "   DepartureDate_DaysAfterHoliday  BookingDate_DaysBeforeHoliday  \\\n",
       "0                              21                             22   \n",
       "1                              21                             52   \n",
       "2                              22                             52   \n",
       "3                              22                             58   \n",
       "4                              23                             59   \n",
       "\n",
       "   BookingDate_DaysAfterHoliday  ArrivalDate_WeekNumber  \\\n",
       "0                            44                      27   \n",
       "1                            14                      27   \n",
       "2                            14                      27   \n",
       "3                             8                      27   \n",
       "4                             7                      27   \n",
       "\n",
       "   ArrivalDate_DayOfWeek  DepartureDate_WeekNumber  DepartureDate_DayOfWeek  \\\n",
       "0                      3                        27                        3   \n",
       "1                      3                        27                        3   \n",
       "2                      3                        27                        4   \n",
       "3                      3                        27                        4   \n",
       "4                      3                        27                        5   \n",
       "\n",
       "   BookingDate_WeekNumber  BookingDate_DayOfWeek  \n",
       "0                      30                      4  \n",
       "1                      26                      1  \n",
       "2                      26                      3  \n",
       "3                      25                      4  \n",
       "4                      25                      3  "
      ]
     },
     "execution_count": 40,
     "metadata": {},
     "output_type": "execute_result"
    }
   ],
   "source": [
    "for column in ['ArrivalDate', 'DepartureDate', 'BookingDate']:\n",
    "    df_data[f'{column}_WeekNumber'] = df_data[column].dt.isocalendar()['week']\n",
    "    df_data[f'{column}_DayOfWeek'] = df_data[column].dt.isocalendar()['day']\n",
    "    \n",
    "df_data.head()"
   ]
  },
  {
   "cell_type": "markdown",
   "id": "165b387d-1ea3-4b34-83e2-7492b136c528",
   "metadata": {},
   "source": [
    "# Saving Results"
   ]
  },
  {
   "cell_type": "code",
   "execution_count": 41,
   "id": "b213284a-4acc-4a55-845a-669fbd3e6208",
   "metadata": {
    "execution": {
     "iopub.execute_input": "2024-04-03T17:56:29.019802Z",
     "iopub.status.busy": "2024-04-03T17:56:29.019802Z",
     "iopub.status.idle": "2024-04-03T17:56:29.143959Z",
     "shell.execute_reply": "2024-04-03T17:56:29.143959Z",
     "shell.execute_reply.started": "2024-04-03T17:56:29.019802Z"
    }
   },
   "outputs": [],
   "source": [
    "df_data.to_parquet('../data/engineered_data_dates.parquet', compression = 'snappy')"
   ]
  }
 ],
 "metadata": {
  "kernelspec": {
   "display_name": "Python 3 (ipykernel)",
   "language": "python",
   "name": "python3"
  },
  "language_info": {
   "codemirror_mode": {
    "name": "ipython",
    "version": 3
   },
   "file_extension": ".py",
   "mimetype": "text/x-python",
   "name": "python",
   "nbconvert_exporter": "python",
   "pygments_lexer": "ipython3",
   "version": "3.10.14"
  },
  "widgets": {
   "application/vnd.jupyter.widget-state+json": {
    "state": {},
    "version_major": 2,
    "version_minor": 0
   }
  }
 },
 "nbformat": 4,
 "nbformat_minor": 5
}
