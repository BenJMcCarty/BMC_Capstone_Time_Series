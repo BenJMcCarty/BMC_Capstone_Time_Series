{
 "cells": [
  {
   "cell_type": "markdown",
   "id": "7aafa147-1414-4a3c-8884-17af1fed40f3",
   "metadata": {},
   "source": [
    "# Feature Engineering: Datetime Features\n",
    "\n",
    "---\n",
    "\n",
    "**Calculating Dates**\n",
    "\n",
    "The source data does not include specific datetime features. Instead, it offers a selection of different pieces that I can use to create new datetime features:\n",
    "* The arrival year, month name, and day of month.\n",
    "* The number of weekday and weekend nights.\n",
    "* The \"booking lead time,\" or how far in advance the guest booked their reservation.\n",
    "\n",
    "Using these features, I can create three new datetime features to start: the arrival, departure, and booking dates.\n",
    "\n",
    "---\n",
    "\n",
    "**Extracting Date Details**\n",
    "\n",
    "For each of these separate dates, I can go into more detail:\n",
    "* Calculating the number of days since the last holiday and the number of days until the next.\n",
    "* Determining the week of the year, day of the week, etc. to help capture more temporal features.\n",
    "* Calculating the number of days between the last reservation changes and the arrival date (for those reservations changed on or before the arrival date).\n",
    "\n",
    "---\n",
    "\n",
    "**Final Considerations**\n",
    "\n",
    "This process will create many new features, potentially limiting future modeling performance. Prior to modeling, I may need to use feature selection methods to use only the most impactful details.\n",
    "\n",
    "By the end of this notebook, I will have a new set of temporally-focused data to use for more extensive modeling and forecasting in the next steps of the workflow.\n",
    "\n",
    "---"
   ]
  },
  {
   "cell_type": "code",
   "execution_count": 29,
   "id": "6efb3fdd",
   "metadata": {
    "execution": {
     "iopub.execute_input": "2024-03-28T19:32:05.892905Z",
     "iopub.status.busy": "2024-03-28T19:32:05.891942Z",
     "iopub.status.idle": "2024-03-28T19:32:05.967466Z",
     "shell.execute_reply": "2024-03-28T19:32:05.966321Z",
     "shell.execute_reply.started": "2024-03-28T19:32:05.892905Z"
    }
   },
   "outputs": [
    {
     "name": "stdout",
     "output_type": "stream",
     "text": [
      "The autoreload extension is already loaded. To reload it, use:\n",
      "  %reload_ext autoreload\n"
     ]
    }
   ],
   "source": [
    "%load_ext autoreload\n",
    "%autoreload 2"
   ]
  },
  {
   "cell_type": "code",
   "execution_count": 30,
   "id": "e04373a7",
   "metadata": {
    "execution": {
     "iopub.execute_input": "2024-03-28T19:32:05.967904Z",
     "iopub.status.busy": "2024-03-28T19:32:05.967904Z",
     "iopub.status.idle": "2024-03-28T19:32:06.033868Z",
     "shell.execute_reply": "2024-03-28T19:32:06.032877Z",
     "shell.execute_reply.started": "2024-03-28T19:32:05.967904Z"
    }
   },
   "outputs": [],
   "source": [
    "## Enabling access to custom functions in separate directory\n",
    "\n",
    "# Import necessary modules\n",
    "import sys\n",
    "import os\n",
    "\n",
    "# Construct the absolute path to the 'src' directory\n",
    "src_path = os.path.abspath(os.path.join('..', 'src'))\n",
    "\n",
    "# Append the path to 'sys.path'\n",
    "if src_path not in sys.path:\n",
    "    sys.path.append(src_path)\n",
    "\n",
    "import db_utils"
   ]
  },
  {
   "cell_type": "code",
   "execution_count": 31,
   "id": "c15bd256-e7bb-4caa-9d37-ad1707026556",
   "metadata": {
    "execution": {
     "iopub.execute_input": "2024-03-28T19:32:06.034336Z",
     "iopub.status.busy": "2024-03-28T19:32:06.034336Z",
     "iopub.status.idle": "2024-03-28T19:32:06.116428Z",
     "shell.execute_reply": "2024-03-28T19:32:06.116428Z",
     "shell.execute_reply.started": "2024-03-28T19:32:06.034336Z"
    }
   },
   "outputs": [],
   "source": [
    "import holidays\n",
    "import pandas as pd"
   ]
  },
  {
   "cell_type": "markdown",
   "id": "6aa19048",
   "metadata": {},
   "source": [
    "# *TEMPORARILY CHANGED TO USE BACKUP FILES* | Read Data from DuckDB"
   ]
  },
  {
   "cell_type": "code",
   "execution_count": 32,
   "id": "a36a5510",
   "metadata": {
    "execution": {
     "iopub.execute_input": "2024-03-28T19:32:06.116428Z",
     "iopub.status.busy": "2024-03-28T19:32:06.116428Z",
     "iopub.status.idle": "2024-03-28T19:32:06.182770Z",
     "shell.execute_reply": "2024-03-28T19:32:06.182770Z",
     "shell.execute_reply.started": "2024-03-28T19:32:06.116428Z"
    }
   },
   "outputs": [],
   "source": [
    "# # Path to the DuckDB database file\n",
    "# db_path = '../data/hotel_reservations.duckdb'\n",
    "\n",
    "# ## Select subset of data for review\n",
    "# q = 'SELECT * FROM res_data LIMIT 5'\n",
    "\n",
    "# with db_utils.duckdb_connection(db_path) as conn:\n",
    "#     display(conn.execute(q).df())"
   ]
  },
  {
   "cell_type": "code",
   "execution_count": 33,
   "id": "81588acf-45b5-4f37-bf08-a4605fdd4dc4",
   "metadata": {
    "execution": {
     "iopub.execute_input": "2024-03-28T19:32:06.183851Z",
     "iopub.status.busy": "2024-03-28T19:32:06.183851Z",
     "iopub.status.idle": "2024-03-28T19:32:06.254855Z",
     "shell.execute_reply": "2024-03-28T19:32:06.254855Z",
     "shell.execute_reply.started": "2024-03-28T19:32:06.183851Z"
    }
   },
   "outputs": [],
   "source": [
    "# ## Select subset of data for review\n",
    "# q = 'SELECT IsCanceled FROM res_data LIMIT 5'\n",
    "\n",
    "# with db_utils.duckdb_connection(db_path) as conn:\n",
    "#     display(conn.execute(q).df())"
   ]
  },
  {
   "cell_type": "code",
   "execution_count": 34,
   "id": "17868e04-8a42-4b50-99c9-b5bdd597c3b4",
   "metadata": {
    "execution": {
     "iopub.execute_input": "2024-03-28T19:32:06.256856Z",
     "iopub.status.busy": "2024-03-28T19:32:06.256856Z",
     "iopub.status.idle": "2024-03-28T19:32:06.318987Z",
     "shell.execute_reply": "2024-03-28T19:32:06.318987Z",
     "shell.execute_reply.started": "2024-03-28T19:32:06.256856Z"
    }
   },
   "outputs": [],
   "source": [
    "# ## Convert Arrival columns to strings\n",
    "\n",
    "# q = ('''\n",
    "# SELECT uuid, ArrivalDateYear, ArrivalDateMonth, ArrivalDateDayOfMonth,\n",
    "# StaysInWeekNights, StaysInWeekendNights, LeadTime \n",
    "# FROM res_data''')\n",
    "\n",
    "# with db_utils.duckdb_connection(db_path) as conn:\n",
    "#     df_data = conn.execute(q).df()\n",
    "\n",
    "# # df_data = arrival_cols.astype(str)\n",
    "# df_data.head()"
   ]
  },
  {
   "cell_type": "code",
   "execution_count": 35,
   "id": "c99be25f-6f9c-45e9-ad39-d1461676569d",
   "metadata": {
    "execution": {
     "iopub.execute_input": "2024-03-28T19:32:06.320002Z",
     "iopub.status.busy": "2024-03-28T19:32:06.320002Z",
     "iopub.status.idle": "2024-03-28T19:32:06.384822Z",
     "shell.execute_reply": "2024-03-28T19:32:06.384822Z",
     "shell.execute_reply.started": "2024-03-28T19:32:06.320002Z"
    }
   },
   "outputs": [
    {
     "data": {
      "text/plain": [
       "['UUID',\n",
       " 'ReservationStatusDate',\n",
       " 'ArrivalDateYear',\n",
       " 'ArrivalDateMonth',\n",
       " 'ArrivalDateDayOfMonth',\n",
       " 'StaysInWeekNights',\n",
       " 'StaysInWeekendNights',\n",
       " 'LeadTime']"
      ]
     },
     "execution_count": 35,
     "metadata": {},
     "output_type": "execute_result"
    }
   ],
   "source": [
    "date_features = ['UUID','ReservationStatusDate', 'ArrivalDateYear', 'ArrivalDateMonth', 'ArrivalDateDayOfMonth',\n",
    "                 'StaysInWeekNights', 'StaysInWeekendNights', 'LeadTime']\n",
    "date_features"
   ]
  },
  {
   "cell_type": "code",
   "execution_count": 36,
   "id": "c6193b85-91bc-4b3e-b168-04b9721dbe7a",
   "metadata": {
    "execution": {
     "iopub.execute_input": "2024-03-28T19:32:06.386867Z",
     "iopub.status.busy": "2024-03-28T19:32:06.385867Z",
     "iopub.status.idle": "2024-03-28T19:32:06.538242Z",
     "shell.execute_reply": "2024-03-28T19:32:06.537877Z",
     "shell.execute_reply.started": "2024-03-28T19:32:06.386867Z"
    }
   },
   "outputs": [
    {
     "data": {
      "text/html": [
       "<div>\n",
       "<style scoped>\n",
       "    .dataframe tbody tr th:only-of-type {\n",
       "        vertical-align: middle;\n",
       "    }\n",
       "\n",
       "    .dataframe tbody tr th {\n",
       "        vertical-align: top;\n",
       "    }\n",
       "\n",
       "    .dataframe thead th {\n",
       "        text-align: right;\n",
       "    }\n",
       "</style>\n",
       "<table border=\"1\" class=\"dataframe\">\n",
       "  <thead>\n",
       "    <tr style=\"text-align: right;\">\n",
       "      <th></th>\n",
       "      <th>UUID</th>\n",
       "      <th>ReservationStatusDate</th>\n",
       "      <th>ArrivalDateYear</th>\n",
       "      <th>ArrivalDateMonth</th>\n",
       "      <th>ArrivalDateDayOfMonth</th>\n",
       "      <th>StaysInWeekNights</th>\n",
       "      <th>StaysInWeekendNights</th>\n",
       "      <th>LeadTime</th>\n",
       "    </tr>\n",
       "  </thead>\n",
       "  <tbody>\n",
       "    <tr>\n",
       "      <th>0</th>\n",
       "      <td>ba900e76-b827-45a0-b4c9-25c7c8dd1b91</td>\n",
       "      <td>2015-07-01</td>\n",
       "      <td>2015</td>\n",
       "      <td>July</td>\n",
       "      <td>1</td>\n",
       "      <td>0</td>\n",
       "      <td>0</td>\n",
       "      <td>342</td>\n",
       "    </tr>\n",
       "    <tr>\n",
       "      <th>1</th>\n",
       "      <td>a5140c89-83b0-4d86-a5c8-00aa3a3e7e14</td>\n",
       "      <td>2015-07-01</td>\n",
       "      <td>2015</td>\n",
       "      <td>July</td>\n",
       "      <td>1</td>\n",
       "      <td>0</td>\n",
       "      <td>0</td>\n",
       "      <td>737</td>\n",
       "    </tr>\n",
       "    <tr>\n",
       "      <th>2</th>\n",
       "      <td>ca76ba7a-aeb3-4302-954a-3fd64fc2123d</td>\n",
       "      <td>2015-07-02</td>\n",
       "      <td>2015</td>\n",
       "      <td>July</td>\n",
       "      <td>1</td>\n",
       "      <td>1</td>\n",
       "      <td>0</td>\n",
       "      <td>7</td>\n",
       "    </tr>\n",
       "    <tr>\n",
       "      <th>3</th>\n",
       "      <td>f45b6800-21ac-4212-aabc-b3ba62e74dbc</td>\n",
       "      <td>2015-07-02</td>\n",
       "      <td>2015</td>\n",
       "      <td>July</td>\n",
       "      <td>1</td>\n",
       "      <td>1</td>\n",
       "      <td>0</td>\n",
       "      <td>13</td>\n",
       "    </tr>\n",
       "    <tr>\n",
       "      <th>4</th>\n",
       "      <td>70351011-dea4-45fb-ab38-f11cc8fdd53f</td>\n",
       "      <td>2015-07-03</td>\n",
       "      <td>2015</td>\n",
       "      <td>July</td>\n",
       "      <td>1</td>\n",
       "      <td>2</td>\n",
       "      <td>0</td>\n",
       "      <td>14</td>\n",
       "    </tr>\n",
       "    <tr>\n",
       "      <th>...</th>\n",
       "      <td>...</td>\n",
       "      <td>...</td>\n",
       "      <td>...</td>\n",
       "      <td>...</td>\n",
       "      <td>...</td>\n",
       "      <td>...</td>\n",
       "      <td>...</td>\n",
       "      <td>...</td>\n",
       "    </tr>\n",
       "    <tr>\n",
       "      <th>79325</th>\n",
       "      <td>c06e053b-6856-4200-9011-904ac4fc59af</td>\n",
       "      <td>2017-09-06</td>\n",
       "      <td>2017</td>\n",
       "      <td>August</td>\n",
       "      <td>30</td>\n",
       "      <td>5</td>\n",
       "      <td>2</td>\n",
       "      <td>23</td>\n",
       "    </tr>\n",
       "    <tr>\n",
       "      <th>79326</th>\n",
       "      <td>831fc051-24ce-483d-b6fb-42f1c8daf5fe</td>\n",
       "      <td>2017-09-07</td>\n",
       "      <td>2017</td>\n",
       "      <td>August</td>\n",
       "      <td>31</td>\n",
       "      <td>5</td>\n",
       "      <td>2</td>\n",
       "      <td>102</td>\n",
       "    </tr>\n",
       "    <tr>\n",
       "      <th>79327</th>\n",
       "      <td>a1f82972-185d-4116-b9da-8cdf6b901a07</td>\n",
       "      <td>2017-09-07</td>\n",
       "      <td>2017</td>\n",
       "      <td>August</td>\n",
       "      <td>31</td>\n",
       "      <td>5</td>\n",
       "      <td>2</td>\n",
       "      <td>34</td>\n",
       "    </tr>\n",
       "    <tr>\n",
       "      <th>79328</th>\n",
       "      <td>494e8060-664c-47bc-a15b-440781d9de34</td>\n",
       "      <td>2017-09-07</td>\n",
       "      <td>2017</td>\n",
       "      <td>August</td>\n",
       "      <td>31</td>\n",
       "      <td>5</td>\n",
       "      <td>2</td>\n",
       "      <td>109</td>\n",
       "    </tr>\n",
       "    <tr>\n",
       "      <th>79329</th>\n",
       "      <td>0ef7b79b-aae7-4fb3-bdf8-9ca110439eee</td>\n",
       "      <td>2017-09-07</td>\n",
       "      <td>2017</td>\n",
       "      <td>August</td>\n",
       "      <td>29</td>\n",
       "      <td>7</td>\n",
       "      <td>2</td>\n",
       "      <td>205</td>\n",
       "    </tr>\n",
       "  </tbody>\n",
       "</table>\n",
       "<p>119390 rows × 8 columns</p>\n",
       "</div>"
      ],
      "text/plain": [
       "                                       UUID ReservationStatusDate  \\\n",
       "0      ba900e76-b827-45a0-b4c9-25c7c8dd1b91            2015-07-01   \n",
       "1      a5140c89-83b0-4d86-a5c8-00aa3a3e7e14            2015-07-01   \n",
       "2      ca76ba7a-aeb3-4302-954a-3fd64fc2123d            2015-07-02   \n",
       "3      f45b6800-21ac-4212-aabc-b3ba62e74dbc            2015-07-02   \n",
       "4      70351011-dea4-45fb-ab38-f11cc8fdd53f            2015-07-03   \n",
       "...                                     ...                   ...   \n",
       "79325  c06e053b-6856-4200-9011-904ac4fc59af            2017-09-06   \n",
       "79326  831fc051-24ce-483d-b6fb-42f1c8daf5fe            2017-09-07   \n",
       "79327  a1f82972-185d-4116-b9da-8cdf6b901a07            2017-09-07   \n",
       "79328  494e8060-664c-47bc-a15b-440781d9de34            2017-09-07   \n",
       "79329  0ef7b79b-aae7-4fb3-bdf8-9ca110439eee            2017-09-07   \n",
       "\n",
       "       ArrivalDateYear ArrivalDateMonth  ArrivalDateDayOfMonth  \\\n",
       "0                 2015             July                      1   \n",
       "1                 2015             July                      1   \n",
       "2                 2015             July                      1   \n",
       "3                 2015             July                      1   \n",
       "4                 2015             July                      1   \n",
       "...                ...              ...                    ...   \n",
       "79325             2017           August                     30   \n",
       "79326             2017           August                     31   \n",
       "79327             2017           August                     31   \n",
       "79328             2017           August                     31   \n",
       "79329             2017           August                     29   \n",
       "\n",
       "       StaysInWeekNights  StaysInWeekendNights  LeadTime  \n",
       "0                      0                     0       342  \n",
       "1                      0                     0       737  \n",
       "2                      1                     0         7  \n",
       "3                      1                     0        13  \n",
       "4                      2                     0        14  \n",
       "...                  ...                   ...       ...  \n",
       "79325                  5                     2        23  \n",
       "79326                  5                     2       102  \n",
       "79327                  5                     2        34  \n",
       "79328                  5                     2       109  \n",
       "79329                  7                     2       205  \n",
       "\n",
       "[119390 rows x 8 columns]"
      ]
     },
     "execution_count": 36,
     "metadata": {},
     "output_type": "execute_result"
    }
   ],
   "source": [
    "path_to_backup_files = '../data/data_condensed_with_uuid.parquet'\n",
    "\n",
    "df_data = pd.read_parquet(path_to_backup_files, columns=date_features)\n",
    "\n",
    "df_data"
   ]
  },
  {
   "cell_type": "markdown",
   "id": "f91ad397",
   "metadata": {},
   "source": [
    "# Feature Engineering: Arrival, Departure, and Booking Dates"
   ]
  },
  {
   "cell_type": "markdown",
   "id": "5956efd2",
   "metadata": {},
   "source": [
    "## Arrival Date"
   ]
  },
  {
   "cell_type": "code",
   "execution_count": 37,
   "id": "ccf1aaff-5d06-4d1c-b843-ff902b832e4b",
   "metadata": {
    "execution": {
     "iopub.execute_input": "2024-03-28T19:32:06.540254Z",
     "iopub.status.busy": "2024-03-28T19:32:06.539258Z",
     "iopub.status.idle": "2024-03-28T19:32:06.700631Z",
     "shell.execute_reply": "2024-03-28T19:32:06.699697Z",
     "shell.execute_reply.started": "2024-03-28T19:32:06.540254Z"
    }
   },
   "outputs": [
    {
     "data": {
      "text/html": [
       "<div>\n",
       "<style scoped>\n",
       "    .dataframe tbody tr th:only-of-type {\n",
       "        vertical-align: middle;\n",
       "    }\n",
       "\n",
       "    .dataframe tbody tr th {\n",
       "        vertical-align: top;\n",
       "    }\n",
       "\n",
       "    .dataframe thead th {\n",
       "        text-align: right;\n",
       "    }\n",
       "</style>\n",
       "<table border=\"1\" class=\"dataframe\">\n",
       "  <thead>\n",
       "    <tr style=\"text-align: right;\">\n",
       "      <th></th>\n",
       "      <th>UUID</th>\n",
       "      <th>ReservationStatusDate</th>\n",
       "      <th>ArrivalDateYear</th>\n",
       "      <th>ArrivalDateMonth</th>\n",
       "      <th>ArrivalDateDayOfMonth</th>\n",
       "      <th>StaysInWeekNights</th>\n",
       "      <th>StaysInWeekendNights</th>\n",
       "      <th>LeadTime</th>\n",
       "      <th>ArrivalDate</th>\n",
       "    </tr>\n",
       "  </thead>\n",
       "  <tbody>\n",
       "    <tr>\n",
       "      <th>0</th>\n",
       "      <td>ba900e76-b827-45a0-b4c9-25c7c8dd1b91</td>\n",
       "      <td>2015-07-01</td>\n",
       "      <td>2015</td>\n",
       "      <td>July</td>\n",
       "      <td>1</td>\n",
       "      <td>0</td>\n",
       "      <td>0</td>\n",
       "      <td>342</td>\n",
       "      <td>2015-07-01</td>\n",
       "    </tr>\n",
       "    <tr>\n",
       "      <th>1</th>\n",
       "      <td>a5140c89-83b0-4d86-a5c8-00aa3a3e7e14</td>\n",
       "      <td>2015-07-01</td>\n",
       "      <td>2015</td>\n",
       "      <td>July</td>\n",
       "      <td>1</td>\n",
       "      <td>0</td>\n",
       "      <td>0</td>\n",
       "      <td>737</td>\n",
       "      <td>2015-07-01</td>\n",
       "    </tr>\n",
       "    <tr>\n",
       "      <th>2</th>\n",
       "      <td>ca76ba7a-aeb3-4302-954a-3fd64fc2123d</td>\n",
       "      <td>2015-07-02</td>\n",
       "      <td>2015</td>\n",
       "      <td>July</td>\n",
       "      <td>1</td>\n",
       "      <td>1</td>\n",
       "      <td>0</td>\n",
       "      <td>7</td>\n",
       "      <td>2015-07-01</td>\n",
       "    </tr>\n",
       "    <tr>\n",
       "      <th>3</th>\n",
       "      <td>f45b6800-21ac-4212-aabc-b3ba62e74dbc</td>\n",
       "      <td>2015-07-02</td>\n",
       "      <td>2015</td>\n",
       "      <td>July</td>\n",
       "      <td>1</td>\n",
       "      <td>1</td>\n",
       "      <td>0</td>\n",
       "      <td>13</td>\n",
       "      <td>2015-07-01</td>\n",
       "    </tr>\n",
       "    <tr>\n",
       "      <th>4</th>\n",
       "      <td>70351011-dea4-45fb-ab38-f11cc8fdd53f</td>\n",
       "      <td>2015-07-03</td>\n",
       "      <td>2015</td>\n",
       "      <td>July</td>\n",
       "      <td>1</td>\n",
       "      <td>2</td>\n",
       "      <td>0</td>\n",
       "      <td>14</td>\n",
       "      <td>2015-07-01</td>\n",
       "    </tr>\n",
       "  </tbody>\n",
       "</table>\n",
       "</div>"
      ],
      "text/plain": [
       "                                   UUID ReservationStatusDate ArrivalDateYear  \\\n",
       "0  ba900e76-b827-45a0-b4c9-25c7c8dd1b91            2015-07-01            2015   \n",
       "1  a5140c89-83b0-4d86-a5c8-00aa3a3e7e14            2015-07-01            2015   \n",
       "2  ca76ba7a-aeb3-4302-954a-3fd64fc2123d            2015-07-02            2015   \n",
       "3  f45b6800-21ac-4212-aabc-b3ba62e74dbc            2015-07-02            2015   \n",
       "4  70351011-dea4-45fb-ab38-f11cc8fdd53f            2015-07-03            2015   \n",
       "\n",
       "  ArrivalDateMonth ArrivalDateDayOfMonth  StaysInWeekNights  \\\n",
       "0             July                     1                  0   \n",
       "1             July                     1                  0   \n",
       "2             July                     1                  1   \n",
       "3             July                     1                  1   \n",
       "4             July                     1                  2   \n",
       "\n",
       "   StaysInWeekendNights  LeadTime ArrivalDate  \n",
       "0                     0       342  2015-07-01  \n",
       "1                     0       737  2015-07-01  \n",
       "2                     0         7  2015-07-01  \n",
       "3                     0        13  2015-07-01  \n",
       "4                     0        14  2015-07-01  "
      ]
     },
     "execution_count": 37,
     "metadata": {},
     "output_type": "execute_result"
    }
   ],
   "source": [
    "## Create new column of strings formatted as YYYY-MM-DD, then convert to datetime\n",
    "\n",
    "arrival_details = ['ArrivalDateYear', 'ArrivalDateMonth', 'ArrivalDateDayOfMonth']\n",
    "\n",
    "df_data[arrival_details] = df_data[arrival_details].astype(str)\n",
    "\n",
    "df_data['ArrivalDate'] = df_data['ArrivalDateYear'].str.cat(df_data[['ArrivalDateMonth',\n",
    "                                                                     'ArrivalDateDayOfMonth']],\n",
    "                                                            '-')\n",
    "\n",
    "df_data['ArrivalDate'] = pd.to_datetime(df_data['ArrivalDate'], yearfirst = True)\n",
    "\n",
    "df_data.head()"
   ]
  },
  {
   "cell_type": "markdown",
   "id": "bae17a82",
   "metadata": {},
   "source": [
    "## Departure Date"
   ]
  },
  {
   "cell_type": "code",
   "execution_count": 38,
   "id": "8d7e238f",
   "metadata": {
    "execution": {
     "iopub.execute_input": "2024-03-28T19:32:06.702812Z",
     "iopub.status.busy": "2024-03-28T19:32:06.702812Z",
     "iopub.status.idle": "2024-03-28T19:32:06.788363Z",
     "shell.execute_reply": "2024-03-28T19:32:06.788363Z",
     "shell.execute_reply.started": "2024-03-28T19:32:06.702812Z"
    }
   },
   "outputs": [
    {
     "data": {
      "text/html": [
       "<div>\n",
       "<style scoped>\n",
       "    .dataframe tbody tr th:only-of-type {\n",
       "        vertical-align: middle;\n",
       "    }\n",
       "\n",
       "    .dataframe tbody tr th {\n",
       "        vertical-align: top;\n",
       "    }\n",
       "\n",
       "    .dataframe thead th {\n",
       "        text-align: right;\n",
       "    }\n",
       "</style>\n",
       "<table border=\"1\" class=\"dataframe\">\n",
       "  <thead>\n",
       "    <tr style=\"text-align: right;\">\n",
       "      <th></th>\n",
       "      <th>UUID</th>\n",
       "      <th>ReservationStatusDate</th>\n",
       "      <th>ArrivalDateYear</th>\n",
       "      <th>ArrivalDateMonth</th>\n",
       "      <th>ArrivalDateDayOfMonth</th>\n",
       "      <th>StaysInWeekNights</th>\n",
       "      <th>StaysInWeekendNights</th>\n",
       "      <th>LeadTime</th>\n",
       "      <th>ArrivalDate</th>\n",
       "      <th>DepartureDate</th>\n",
       "    </tr>\n",
       "  </thead>\n",
       "  <tbody>\n",
       "    <tr>\n",
       "      <th>0</th>\n",
       "      <td>ba900e76-b827-45a0-b4c9-25c7c8dd1b91</td>\n",
       "      <td>2015-07-01</td>\n",
       "      <td>2015</td>\n",
       "      <td>July</td>\n",
       "      <td>1</td>\n",
       "      <td>0</td>\n",
       "      <td>0</td>\n",
       "      <td>342</td>\n",
       "      <td>2015-07-01</td>\n",
       "      <td>2015-07-01</td>\n",
       "    </tr>\n",
       "    <tr>\n",
       "      <th>1</th>\n",
       "      <td>a5140c89-83b0-4d86-a5c8-00aa3a3e7e14</td>\n",
       "      <td>2015-07-01</td>\n",
       "      <td>2015</td>\n",
       "      <td>July</td>\n",
       "      <td>1</td>\n",
       "      <td>0</td>\n",
       "      <td>0</td>\n",
       "      <td>737</td>\n",
       "      <td>2015-07-01</td>\n",
       "      <td>2015-07-01</td>\n",
       "    </tr>\n",
       "    <tr>\n",
       "      <th>2</th>\n",
       "      <td>ca76ba7a-aeb3-4302-954a-3fd64fc2123d</td>\n",
       "      <td>2015-07-02</td>\n",
       "      <td>2015</td>\n",
       "      <td>July</td>\n",
       "      <td>1</td>\n",
       "      <td>1</td>\n",
       "      <td>0</td>\n",
       "      <td>7</td>\n",
       "      <td>2015-07-01</td>\n",
       "      <td>2015-07-02</td>\n",
       "    </tr>\n",
       "    <tr>\n",
       "      <th>3</th>\n",
       "      <td>f45b6800-21ac-4212-aabc-b3ba62e74dbc</td>\n",
       "      <td>2015-07-02</td>\n",
       "      <td>2015</td>\n",
       "      <td>July</td>\n",
       "      <td>1</td>\n",
       "      <td>1</td>\n",
       "      <td>0</td>\n",
       "      <td>13</td>\n",
       "      <td>2015-07-01</td>\n",
       "      <td>2015-07-02</td>\n",
       "    </tr>\n",
       "    <tr>\n",
       "      <th>4</th>\n",
       "      <td>70351011-dea4-45fb-ab38-f11cc8fdd53f</td>\n",
       "      <td>2015-07-03</td>\n",
       "      <td>2015</td>\n",
       "      <td>July</td>\n",
       "      <td>1</td>\n",
       "      <td>2</td>\n",
       "      <td>0</td>\n",
       "      <td>14</td>\n",
       "      <td>2015-07-01</td>\n",
       "      <td>2015-07-03</td>\n",
       "    </tr>\n",
       "  </tbody>\n",
       "</table>\n",
       "</div>"
      ],
      "text/plain": [
       "                                   UUID ReservationStatusDate ArrivalDateYear  \\\n",
       "0  ba900e76-b827-45a0-b4c9-25c7c8dd1b91            2015-07-01            2015   \n",
       "1  a5140c89-83b0-4d86-a5c8-00aa3a3e7e14            2015-07-01            2015   \n",
       "2  ca76ba7a-aeb3-4302-954a-3fd64fc2123d            2015-07-02            2015   \n",
       "3  f45b6800-21ac-4212-aabc-b3ba62e74dbc            2015-07-02            2015   \n",
       "4  70351011-dea4-45fb-ab38-f11cc8fdd53f            2015-07-03            2015   \n",
       "\n",
       "  ArrivalDateMonth ArrivalDateDayOfMonth  StaysInWeekNights  \\\n",
       "0             July                     1                  0   \n",
       "1             July                     1                  0   \n",
       "2             July                     1                  1   \n",
       "3             July                     1                  1   \n",
       "4             July                     1                  2   \n",
       "\n",
       "   StaysInWeekendNights  LeadTime ArrivalDate DepartureDate  \n",
       "0                     0       342  2015-07-01    2015-07-01  \n",
       "1                     0       737  2015-07-01    2015-07-01  \n",
       "2                     0         7  2015-07-01    2015-07-02  \n",
       "3                     0        13  2015-07-01    2015-07-02  \n",
       "4                     0        14  2015-07-01    2015-07-03  "
      ]
     },
     "execution_count": 38,
     "metadata": {},
     "output_type": "execute_result"
    }
   ],
   "source": [
    "timedelta_wknd = pd.to_timedelta(df_data.loc[:, 'StaysInWeekendNights'], unit = 'D')\n",
    "timedelta_wk = pd.to_timedelta(df_data.loc[:, 'StaysInWeekNights'], unit = 'D')\n",
    "\n",
    "df_data['DepartureDate'] = df_data.loc[:, 'ArrivalDate'] + timedelta_wk + timedelta_wknd\n",
    "\n",
    "df_data.head()"
   ]
  },
  {
   "cell_type": "markdown",
   "id": "26af4595",
   "metadata": {},
   "source": [
    "## Booking Date"
   ]
  },
  {
   "cell_type": "markdown",
   "id": "b49e8bc0-395e-4d26-bab6-cd69d7e39555",
   "metadata": {},
   "source": [
    "### Convert `LeadTime` to TimeDelta Datatype"
   ]
  },
  {
   "cell_type": "code",
   "execution_count": 39,
   "id": "6dbe8401-67c2-425a-b79b-1c2615905182",
   "metadata": {
    "execution": {
     "iopub.execute_input": "2024-03-28T19:32:06.788363Z",
     "iopub.status.busy": "2024-03-28T19:32:06.788363Z",
     "iopub.status.idle": "2024-03-28T19:32:06.856040Z",
     "shell.execute_reply": "2024-03-28T19:32:06.855827Z",
     "shell.execute_reply.started": "2024-03-28T19:32:06.788363Z"
    },
    "scrolled": true
   },
   "outputs": [
    {
     "data": {
      "text/plain": [
       "0        342\n",
       "1        737\n",
       "2          7\n",
       "3         13\n",
       "4         14\n",
       "        ... \n",
       "79325     23\n",
       "79326    102\n",
       "79327     34\n",
       "79328    109\n",
       "79329    205\n",
       "Name: LeadTime, Length: 119390, dtype: int64"
      ]
     },
     "execution_count": 39,
     "metadata": {},
     "output_type": "execute_result"
    }
   ],
   "source": [
    "df_data['LeadTime']"
   ]
  },
  {
   "cell_type": "code",
   "execution_count": 40,
   "id": "03a36883-6ba5-4e2b-87ed-c52c19d16e0d",
   "metadata": {
    "execution": {
     "iopub.execute_input": "2024-03-28T19:32:06.856040Z",
     "iopub.status.busy": "2024-03-28T19:32:06.856040Z",
     "iopub.status.idle": "2024-03-28T19:32:06.941070Z",
     "shell.execute_reply": "2024-03-28T19:32:06.940065Z",
     "shell.execute_reply.started": "2024-03-28T19:32:06.856040Z"
    }
   },
   "outputs": [
    {
     "data": {
      "text/plain": [
       "0       342 days\n",
       "1       737 days\n",
       "2         7 days\n",
       "3        13 days\n",
       "4        14 days\n",
       "          ...   \n",
       "79325    23 days\n",
       "79326   102 days\n",
       "79327    34 days\n",
       "79328   109 days\n",
       "79329   205 days\n",
       "Name: LeadTimeDelta, Length: 119390, dtype: timedelta64[ns]"
      ]
     },
     "execution_count": 40,
     "metadata": {},
     "output_type": "execute_result"
    }
   ],
   "source": [
    "df_data['LeadTimeDelta'] = pd.to_timedelta(df_data['LeadTime'], unit = 'D')\n",
    "df_data['LeadTimeDelta']"
   ]
  },
  {
   "cell_type": "markdown",
   "id": "d50263df-bfaa-4dd7-a499-c8a73233a55e",
   "metadata": {},
   "source": [
    "### Calculate LeadTime Using LeadTimeDelta"
   ]
  },
  {
   "cell_type": "code",
   "execution_count": 41,
   "id": "39fa0352",
   "metadata": {
    "execution": {
     "iopub.execute_input": "2024-03-28T19:32:06.942070Z",
     "iopub.status.busy": "2024-03-28T19:32:06.942070Z",
     "iopub.status.idle": "2024-03-28T19:32:07.014682Z",
     "shell.execute_reply": "2024-03-28T19:32:07.014220Z",
     "shell.execute_reply.started": "2024-03-28T19:32:06.942070Z"
    }
   },
   "outputs": [
    {
     "data": {
      "text/html": [
       "<div>\n",
       "<style scoped>\n",
       "    .dataframe tbody tr th:only-of-type {\n",
       "        vertical-align: middle;\n",
       "    }\n",
       "\n",
       "    .dataframe tbody tr th {\n",
       "        vertical-align: top;\n",
       "    }\n",
       "\n",
       "    .dataframe thead th {\n",
       "        text-align: right;\n",
       "    }\n",
       "</style>\n",
       "<table border=\"1\" class=\"dataframe\">\n",
       "  <thead>\n",
       "    <tr style=\"text-align: right;\">\n",
       "      <th></th>\n",
       "      <th>UUID</th>\n",
       "      <th>ReservationStatusDate</th>\n",
       "      <th>ArrivalDateYear</th>\n",
       "      <th>ArrivalDateMonth</th>\n",
       "      <th>ArrivalDateDayOfMonth</th>\n",
       "      <th>StaysInWeekNights</th>\n",
       "      <th>StaysInWeekendNights</th>\n",
       "      <th>LeadTime</th>\n",
       "      <th>ArrivalDate</th>\n",
       "      <th>DepartureDate</th>\n",
       "      <th>LeadTimeDelta</th>\n",
       "      <th>BookingDate</th>\n",
       "    </tr>\n",
       "  </thead>\n",
       "  <tbody>\n",
       "    <tr>\n",
       "      <th>0</th>\n",
       "      <td>ba900e76-b827-45a0-b4c9-25c7c8dd1b91</td>\n",
       "      <td>2015-07-01</td>\n",
       "      <td>2015</td>\n",
       "      <td>July</td>\n",
       "      <td>1</td>\n",
       "      <td>0</td>\n",
       "      <td>0</td>\n",
       "      <td>342</td>\n",
       "      <td>2015-07-01</td>\n",
       "      <td>2015-07-01</td>\n",
       "      <td>342 days</td>\n",
       "      <td>2014-07-24</td>\n",
       "    </tr>\n",
       "    <tr>\n",
       "      <th>1</th>\n",
       "      <td>a5140c89-83b0-4d86-a5c8-00aa3a3e7e14</td>\n",
       "      <td>2015-07-01</td>\n",
       "      <td>2015</td>\n",
       "      <td>July</td>\n",
       "      <td>1</td>\n",
       "      <td>0</td>\n",
       "      <td>0</td>\n",
       "      <td>737</td>\n",
       "      <td>2015-07-01</td>\n",
       "      <td>2015-07-01</td>\n",
       "      <td>737 days</td>\n",
       "      <td>2013-06-24</td>\n",
       "    </tr>\n",
       "    <tr>\n",
       "      <th>2</th>\n",
       "      <td>ca76ba7a-aeb3-4302-954a-3fd64fc2123d</td>\n",
       "      <td>2015-07-02</td>\n",
       "      <td>2015</td>\n",
       "      <td>July</td>\n",
       "      <td>1</td>\n",
       "      <td>1</td>\n",
       "      <td>0</td>\n",
       "      <td>7</td>\n",
       "      <td>2015-07-01</td>\n",
       "      <td>2015-07-02</td>\n",
       "      <td>7 days</td>\n",
       "      <td>2015-06-24</td>\n",
       "    </tr>\n",
       "    <tr>\n",
       "      <th>3</th>\n",
       "      <td>f45b6800-21ac-4212-aabc-b3ba62e74dbc</td>\n",
       "      <td>2015-07-02</td>\n",
       "      <td>2015</td>\n",
       "      <td>July</td>\n",
       "      <td>1</td>\n",
       "      <td>1</td>\n",
       "      <td>0</td>\n",
       "      <td>13</td>\n",
       "      <td>2015-07-01</td>\n",
       "      <td>2015-07-02</td>\n",
       "      <td>13 days</td>\n",
       "      <td>2015-06-18</td>\n",
       "    </tr>\n",
       "    <tr>\n",
       "      <th>4</th>\n",
       "      <td>70351011-dea4-45fb-ab38-f11cc8fdd53f</td>\n",
       "      <td>2015-07-03</td>\n",
       "      <td>2015</td>\n",
       "      <td>July</td>\n",
       "      <td>1</td>\n",
       "      <td>2</td>\n",
       "      <td>0</td>\n",
       "      <td>14</td>\n",
       "      <td>2015-07-01</td>\n",
       "      <td>2015-07-03</td>\n",
       "      <td>14 days</td>\n",
       "      <td>2015-06-17</td>\n",
       "    </tr>\n",
       "    <tr>\n",
       "      <th>5</th>\n",
       "      <td>a51c1681-66d1-4aaf-a945-f3cd92f4bd48</td>\n",
       "      <td>2015-07-03</td>\n",
       "      <td>2015</td>\n",
       "      <td>July</td>\n",
       "      <td>1</td>\n",
       "      <td>2</td>\n",
       "      <td>0</td>\n",
       "      <td>14</td>\n",
       "      <td>2015-07-01</td>\n",
       "      <td>2015-07-03</td>\n",
       "      <td>14 days</td>\n",
       "      <td>2015-06-17</td>\n",
       "    </tr>\n",
       "    <tr>\n",
       "      <th>6</th>\n",
       "      <td>78391ed3-d18a-41d5-9451-8b6cfefcc0f4</td>\n",
       "      <td>2015-07-03</td>\n",
       "      <td>2015</td>\n",
       "      <td>July</td>\n",
       "      <td>1</td>\n",
       "      <td>2</td>\n",
       "      <td>0</td>\n",
       "      <td>0</td>\n",
       "      <td>2015-07-01</td>\n",
       "      <td>2015-07-03</td>\n",
       "      <td>0 days</td>\n",
       "      <td>2015-07-01</td>\n",
       "    </tr>\n",
       "    <tr>\n",
       "      <th>7</th>\n",
       "      <td>9412feee-b5ea-4ef3-9812-1603156567ee</td>\n",
       "      <td>2015-07-03</td>\n",
       "      <td>2015</td>\n",
       "      <td>July</td>\n",
       "      <td>1</td>\n",
       "      <td>2</td>\n",
       "      <td>0</td>\n",
       "      <td>9</td>\n",
       "      <td>2015-07-01</td>\n",
       "      <td>2015-07-03</td>\n",
       "      <td>9 days</td>\n",
       "      <td>2015-06-22</td>\n",
       "    </tr>\n",
       "    <tr>\n",
       "      <th>8</th>\n",
       "      <td>8ec81372-6406-4c38-9365-52d34cc6b0c9</td>\n",
       "      <td>2015-05-06</td>\n",
       "      <td>2015</td>\n",
       "      <td>July</td>\n",
       "      <td>1</td>\n",
       "      <td>3</td>\n",
       "      <td>0</td>\n",
       "      <td>85</td>\n",
       "      <td>2015-07-01</td>\n",
       "      <td>2015-07-04</td>\n",
       "      <td>85 days</td>\n",
       "      <td>2015-04-07</td>\n",
       "    </tr>\n",
       "    <tr>\n",
       "      <th>9</th>\n",
       "      <td>26d04349-7c42-4ee3-b8c7-1a6d78560f7c</td>\n",
       "      <td>2015-04-22</td>\n",
       "      <td>2015</td>\n",
       "      <td>July</td>\n",
       "      <td>1</td>\n",
       "      <td>3</td>\n",
       "      <td>0</td>\n",
       "      <td>75</td>\n",
       "      <td>2015-07-01</td>\n",
       "      <td>2015-07-04</td>\n",
       "      <td>75 days</td>\n",
       "      <td>2015-04-17</td>\n",
       "    </tr>\n",
       "  </tbody>\n",
       "</table>\n",
       "</div>"
      ],
      "text/plain": [
       "                                   UUID ReservationStatusDate ArrivalDateYear  \\\n",
       "0  ba900e76-b827-45a0-b4c9-25c7c8dd1b91            2015-07-01            2015   \n",
       "1  a5140c89-83b0-4d86-a5c8-00aa3a3e7e14            2015-07-01            2015   \n",
       "2  ca76ba7a-aeb3-4302-954a-3fd64fc2123d            2015-07-02            2015   \n",
       "3  f45b6800-21ac-4212-aabc-b3ba62e74dbc            2015-07-02            2015   \n",
       "4  70351011-dea4-45fb-ab38-f11cc8fdd53f            2015-07-03            2015   \n",
       "5  a51c1681-66d1-4aaf-a945-f3cd92f4bd48            2015-07-03            2015   \n",
       "6  78391ed3-d18a-41d5-9451-8b6cfefcc0f4            2015-07-03            2015   \n",
       "7  9412feee-b5ea-4ef3-9812-1603156567ee            2015-07-03            2015   \n",
       "8  8ec81372-6406-4c38-9365-52d34cc6b0c9            2015-05-06            2015   \n",
       "9  26d04349-7c42-4ee3-b8c7-1a6d78560f7c            2015-04-22            2015   \n",
       "\n",
       "  ArrivalDateMonth ArrivalDateDayOfMonth  StaysInWeekNights  \\\n",
       "0             July                     1                  0   \n",
       "1             July                     1                  0   \n",
       "2             July                     1                  1   \n",
       "3             July                     1                  1   \n",
       "4             July                     1                  2   \n",
       "5             July                     1                  2   \n",
       "6             July                     1                  2   \n",
       "7             July                     1                  2   \n",
       "8             July                     1                  3   \n",
       "9             July                     1                  3   \n",
       "\n",
       "   StaysInWeekendNights  LeadTime ArrivalDate DepartureDate LeadTimeDelta  \\\n",
       "0                     0       342  2015-07-01    2015-07-01      342 days   \n",
       "1                     0       737  2015-07-01    2015-07-01      737 days   \n",
       "2                     0         7  2015-07-01    2015-07-02        7 days   \n",
       "3                     0        13  2015-07-01    2015-07-02       13 days   \n",
       "4                     0        14  2015-07-01    2015-07-03       14 days   \n",
       "5                     0        14  2015-07-01    2015-07-03       14 days   \n",
       "6                     0         0  2015-07-01    2015-07-03        0 days   \n",
       "7                     0         9  2015-07-01    2015-07-03        9 days   \n",
       "8                     0        85  2015-07-01    2015-07-04       85 days   \n",
       "9                     0        75  2015-07-01    2015-07-04       75 days   \n",
       "\n",
       "  BookingDate  \n",
       "0  2014-07-24  \n",
       "1  2013-06-24  \n",
       "2  2015-06-24  \n",
       "3  2015-06-18  \n",
       "4  2015-06-17  \n",
       "5  2015-06-17  \n",
       "6  2015-07-01  \n",
       "7  2015-06-22  \n",
       "8  2015-04-07  \n",
       "9  2015-04-17  "
      ]
     },
     "execution_count": 41,
     "metadata": {},
     "output_type": "execute_result"
    }
   ],
   "source": [
    "df_data['BookingDate'] = df_data['ArrivalDate'] - df_data['LeadTimeDelta']\n",
    "\n",
    "df_data.head(10)"
   ]
  },
  {
   "cell_type": "markdown",
   "id": "c3673cfd-5591-4081-971d-6d0af269ec93",
   "metadata": {},
   "source": [
    "# Feature Inspection: `ReservationStatusDate`\n",
    "\n",
    "The final date-like data from the original source is the `ReservationStatusDate`, indicating the date on which the reservation was changed last.\n",
    "\n",
    "As it is a date feature, it may be useful for feature engineering. However, based on my domain knowledge, I suspect that any of these dates that occur prior to the arrival date will indicate that a reservation was cancelled. This would provide too much information for modeling, but I may be able to generate a different feature from this information.\n",
    "\n",
    "I will start by identifying those reservations where the `ReservationStatusDate` feature is earlier than the arrival date. Then, I will get the `IsCanceled' feature from the dataset and filter for those reservations. Finally, I will calculate the average number of cancelled reservations. If the average is very high (90-100%), then I will consider how to generate a new feature from this data.\n",
    "\n"
   ]
  },
  {
   "cell_type": "code",
   "execution_count": 42,
   "id": "b300dcef-ec86-4b9d-98e8-2c168bf0b081",
   "metadata": {
    "execution": {
     "iopub.execute_input": "2024-03-28T19:32:07.015733Z",
     "iopub.status.busy": "2024-03-28T19:32:07.015733Z",
     "iopub.status.idle": "2024-03-28T19:32:07.074247Z",
     "shell.execute_reply": "2024-03-28T19:32:07.074247Z",
     "shell.execute_reply.started": "2024-03-28T19:32:07.015733Z"
    },
    "scrolled": true
   },
   "outputs": [
    {
     "data": {
      "text/plain": [
       "0    2015-07-01\n",
       "1    2015-07-01\n",
       "2    2015-07-02\n",
       "3    2015-07-02\n",
       "4    2015-07-03\n",
       "Name: ReservationStatusDate, dtype: object"
      ]
     },
     "execution_count": 42,
     "metadata": {},
     "output_type": "execute_result"
    }
   ],
   "source": [
    "df_data['ReservationStatusDate'].head()"
   ]
  },
  {
   "cell_type": "code",
   "execution_count": 43,
   "id": "a0496b25-4a59-4960-8ab5-3f84d61e7cb4",
   "metadata": {
    "execution": {
     "iopub.execute_input": "2024-03-28T19:32:07.074247Z",
     "iopub.status.busy": "2024-03-28T19:32:07.074247Z",
     "iopub.status.idle": "2024-03-28T19:32:07.217919Z",
     "shell.execute_reply": "2024-03-28T19:32:07.216916Z",
     "shell.execute_reply.started": "2024-03-28T19:32:07.074247Z"
    }
   },
   "outputs": [
    {
     "name": "stdout",
     "output_type": "stream",
     "text": [
      "The average number of reservations last changed before arrival is: 35%.\n"
     ]
    }
   ],
   "source": [
    "change_filter = (df_data['ReservationStatusDate'] < df_data['ArrivalDate'])\n",
    "\n",
    "avg_resstatdate_before_arrival = (change_filter\n",
    "                                  .mean()\n",
    "                                  .round(2))\n",
    "print(f'The average number of reservations last changed before arrival is: {avg_resstatdate_before_arrival:.0%}.')"
   ]
  },
  {
   "cell_type": "markdown",
   "id": "f5eca555-eea0-4e54-aa79-655124560625",
   "metadata": {},
   "source": [
    "## Read-In `IsCanceled` Data to Match Reservations"
   ]
  },
  {
   "cell_type": "code",
   "execution_count": 44,
   "id": "921ad791-e01f-4c1d-b950-36467a9046b8",
   "metadata": {
    "execution": {
     "iopub.execute_input": "2024-03-28T19:32:07.218917Z",
     "iopub.status.busy": "2024-03-28T19:32:07.218917Z",
     "iopub.status.idle": "2024-03-28T19:32:07.319370Z",
     "shell.execute_reply": "2024-03-28T19:32:07.319370Z",
     "shell.execute_reply.started": "2024-03-28T19:32:07.218917Z"
    }
   },
   "outputs": [
    {
     "data": {
      "text/html": [
       "<div>\n",
       "<style scoped>\n",
       "    .dataframe tbody tr th:only-of-type {\n",
       "        vertical-align: middle;\n",
       "    }\n",
       "\n",
       "    .dataframe tbody tr th {\n",
       "        vertical-align: top;\n",
       "    }\n",
       "\n",
       "    .dataframe thead th {\n",
       "        text-align: right;\n",
       "    }\n",
       "</style>\n",
       "<table border=\"1\" class=\"dataframe\">\n",
       "  <thead>\n",
       "    <tr style=\"text-align: right;\">\n",
       "      <th></th>\n",
       "      <th>UUID</th>\n",
       "      <th>IsCanceled</th>\n",
       "    </tr>\n",
       "  </thead>\n",
       "  <tbody>\n",
       "    <tr>\n",
       "      <th>0</th>\n",
       "      <td>ba900e76-b827-45a0-b4c9-25c7c8dd1b91</td>\n",
       "      <td>0</td>\n",
       "    </tr>\n",
       "    <tr>\n",
       "      <th>1</th>\n",
       "      <td>a5140c89-83b0-4d86-a5c8-00aa3a3e7e14</td>\n",
       "      <td>0</td>\n",
       "    </tr>\n",
       "    <tr>\n",
       "      <th>2</th>\n",
       "      <td>ca76ba7a-aeb3-4302-954a-3fd64fc2123d</td>\n",
       "      <td>0</td>\n",
       "    </tr>\n",
       "    <tr>\n",
       "      <th>3</th>\n",
       "      <td>f45b6800-21ac-4212-aabc-b3ba62e74dbc</td>\n",
       "      <td>0</td>\n",
       "    </tr>\n",
       "    <tr>\n",
       "      <th>4</th>\n",
       "      <td>70351011-dea4-45fb-ab38-f11cc8fdd53f</td>\n",
       "      <td>0</td>\n",
       "    </tr>\n",
       "  </tbody>\n",
       "</table>\n",
       "</div>"
      ],
      "text/plain": [
       "                                   UUID  IsCanceled\n",
       "0  ba900e76-b827-45a0-b4c9-25c7c8dd1b91           0\n",
       "1  a5140c89-83b0-4d86-a5c8-00aa3a3e7e14           0\n",
       "2  ca76ba7a-aeb3-4302-954a-3fd64fc2123d           0\n",
       "3  f45b6800-21ac-4212-aabc-b3ba62e74dbc           0\n",
       "4  70351011-dea4-45fb-ab38-f11cc8fdd53f           0"
      ]
     },
     "execution_count": 44,
     "metadata": {},
     "output_type": "execute_result"
    }
   ],
   "source": [
    "path_to_backup_files = '../data/data_condensed_with_uuid.parquet'\n",
    "\n",
    "df_UUID = pd.read_parquet(path_to_backup_files, columns = ['UUID', 'IsCanceled'])\n",
    "\n",
    "df_UUID.head()"
   ]
  },
  {
   "cell_type": "code",
   "execution_count": 45,
   "id": "d699a8e8-2836-4eb5-a842-e8dc60b43f52",
   "metadata": {
    "execution": {
     "iopub.execute_input": "2024-03-28T19:32:07.320372Z",
     "iopub.status.busy": "2024-03-28T19:32:07.320372Z",
     "iopub.status.idle": "2024-03-28T19:32:07.390701Z",
     "shell.execute_reply": "2024-03-28T19:32:07.390701Z",
     "shell.execute_reply.started": "2024-03-28T19:32:07.320372Z"
    },
    "scrolled": true
   },
   "outputs": [
    {
     "data": {
      "text/plain": [
       "['8ec81372-6406-4c38-9365-52d34cc6b0c9',\n",
       " '26d04349-7c42-4ee3-b8c7-1a6d78560f7c',\n",
       " '7e167004-b650-49d4-ac08-a7d4ba009847',\n",
       " 'b7dc30c4-5081-4ca1-a14a-5b3d2f91820d',\n",
       " '9919d530-52f1-455d-a022-8d7e6445f384']"
      ]
     },
     "execution_count": 45,
     "metadata": {},
     "output_type": "execute_result"
    }
   ],
   "source": [
    "uuids = df_data[change_filter]['UUID'].to_list()\n",
    "uuids[:5]"
   ]
  },
  {
   "cell_type": "code",
   "execution_count": 46,
   "id": "92923073-59f7-4e5c-a59d-c33775b9bd76",
   "metadata": {
    "execution": {
     "iopub.execute_input": "2024-03-28T19:32:07.392808Z",
     "iopub.status.busy": "2024-03-28T19:32:07.391807Z",
     "iopub.status.idle": "2024-03-28T19:32:07.484290Z",
     "shell.execute_reply": "2024-03-28T19:32:07.484290Z",
     "shell.execute_reply.started": "2024-03-28T19:32:07.392808Z"
    }
   },
   "outputs": [
    {
     "name": "stdout",
     "output_type": "stream",
     "text": [
      "The average number of canceled reservations with a ReservationStatusDate earlier than the arrival date is: 100.00%\n",
      "\n",
      "This feature is too strongly indicative of the `IsCanceled` feature. It should not be used for modeling.\n"
     ]
    }
   ],
   "source": [
    "uuid_filter = df_UUID['UUID'].isin(uuids)\n",
    "\n",
    "avg_cxl = df_UUID[uuid_filter]['IsCanceled'].mean()\n",
    "\n",
    "print((f'''The average number of canceled reservations with a ReservationStatusDate earlier than the arrival date is: {avg_cxl:.2%}\\n'''))\n",
    "\n",
    "if avg_cxl >= .9:\n",
    "    print(f'''This feature is too strongly indicative of the `IsCanceled` feature. It should not be used for modeling.''')\n",
    "elif avg_cxl >= .75 and avg_cxl < .9:\n",
    "    print('''This feature is strongly related to the `IsCanceled` feature. Make sure to review it in more detail to determine whether to use it.''')\n",
    "else:\n",
    "    print('''This feature is too strongly indicative of the `IsCanceled` feature. It should not be used for modeling.''')"
   ]
  },
  {
   "cell_type": "markdown",
   "id": "057111c5-2183-4bf1-afdb-633197990d83",
   "metadata": {},
   "source": [
    "## ReservationStatusDate Earlier Than Arrival Date"
   ]
  },
  {
   "cell_type": "code",
   "execution_count": 47,
   "id": "761289ac-9fc5-47e5-9c51-3daa88a8a89d",
   "metadata": {
    "execution": {
     "iopub.execute_input": "2024-03-28T19:32:07.486291Z",
     "iopub.status.busy": "2024-03-28T19:32:07.486291Z",
     "iopub.status.idle": "2024-03-28T19:32:07.618005Z",
     "shell.execute_reply": "2024-03-28T19:32:07.618005Z",
     "shell.execute_reply.started": "2024-03-28T19:32:07.486291Z"
    }
   },
   "outputs": [
    {
     "name": "stdout",
     "output_type": "stream",
     "text": [
      "The average number of reservations changed after arrival is: 62%.\n"
     ]
    }
   ],
   "source": [
    "after_arrival_filter = (df_data['ReservationStatusDate'] > df_data['ArrivalDate'])\n",
    "\n",
    "avg_resstatdate_after_arrival = (after_arrival_filter\n",
    "                                  .mean()\n",
    "                                  .round(2))\n",
    "print(f'The average number of reservations changed after arrival is: {avg_resstatdate_after_arrival:.0%}.')"
   ]
  },
  {
   "cell_type": "code",
   "execution_count": 48,
   "id": "dfaf2ec9-cab2-4315-9275-76fe4cf8447a",
   "metadata": {
    "execution": {
     "iopub.execute_input": "2024-03-28T19:32:07.619007Z",
     "iopub.status.busy": "2024-03-28T19:32:07.619007Z",
     "iopub.status.idle": "2024-03-28T19:32:07.693408Z",
     "shell.execute_reply": "2024-03-28T19:32:07.693317Z",
     "shell.execute_reply.started": "2024-03-28T19:32:07.619007Z"
    },
    "scrolled": true
   },
   "outputs": [],
   "source": [
    "uuids_post_arv = df_data[after_arrival_filter]['UUID'].to_list()\n",
    "# uuids[:10]"
   ]
  },
  {
   "cell_type": "code",
   "execution_count": 49,
   "id": "55aea774-80e5-4ef0-9248-fdfaff7f194e",
   "metadata": {
    "execution": {
     "iopub.execute_input": "2024-03-28T19:32:07.695358Z",
     "iopub.status.busy": "2024-03-28T19:32:07.695358Z",
     "iopub.status.idle": "2024-03-28T19:32:07.782652Z",
     "shell.execute_reply": "2024-03-28T19:32:07.782652Z",
     "shell.execute_reply.started": "2024-03-28T19:32:07.695358Z"
    }
   },
   "outputs": [
    {
     "name": "stdout",
     "output_type": "stream",
     "text": [
      "The average number of canceled reservations with a ReservationStatusDate after than the arrival date is: 0.00%\n",
      "\n"
     ]
    }
   ],
   "source": [
    "uuid_filter = df_UUID['UUID'].isin(uuids_post_arv)\n",
    "\n",
    "avg_cxl = df_UUID[uuid_filter]['IsCanceled'].mean()\n",
    "\n",
    "print((f'''The average number of canceled reservations with a ReservationStatusDate after than the arrival date is: {avg_cxl:.2%}\\n'''))"
   ]
  },
  {
   "cell_type": "markdown",
   "id": "3e7c4ae4-95b7-4cb6-bb29-c869ebf60253",
   "metadata": {},
   "source": [
    "# Future Work: Investigating Canceled Reservations\n",
    "\n",
    "---\n",
    "\n",
    "Although the `ReservationStatusDate` feature is not appropriate for feature engineering, I could use it to calculate the number of days between booking and cancellation (for canceled reservations only).\n",
    "\n",
    "This would be outside of the scope of the current feature engineering, but I am noting it as future work for analysis.\n",
    "\n",
    "---"
   ]
  },
  {
   "cell_type": "code",
   "execution_count": 50,
   "id": "fc1baf0e-313b-4738-b6ce-2cdd5ea1b35a",
   "metadata": {
    "execution": {
     "iopub.execute_input": "2024-03-28T19:32:07.783726Z",
     "iopub.status.busy": "2024-03-28T19:32:07.783726Z",
     "iopub.status.idle": "2024-03-28T19:32:07.845302Z",
     "shell.execute_reply": "2024-03-28T19:32:07.845302Z",
     "shell.execute_reply.started": "2024-03-28T19:32:07.783726Z"
    }
   },
   "outputs": [
    {
     "data": {
      "text/html": [
       "<div>\n",
       "<style scoped>\n",
       "    .dataframe tbody tr th:only-of-type {\n",
       "        vertical-align: middle;\n",
       "    }\n",
       "\n",
       "    .dataframe tbody tr th {\n",
       "        vertical-align: top;\n",
       "    }\n",
       "\n",
       "    .dataframe thead th {\n",
       "        text-align: right;\n",
       "    }\n",
       "</style>\n",
       "<table border=\"1\" class=\"dataframe\">\n",
       "  <thead>\n",
       "    <tr style=\"text-align: right;\">\n",
       "      <th></th>\n",
       "      <th>UUID</th>\n",
       "      <th>IsCanceled</th>\n",
       "    </tr>\n",
       "  </thead>\n",
       "  <tbody>\n",
       "    <tr>\n",
       "      <th>0</th>\n",
       "      <td>ba900e76-b827-45a0-b4c9-25c7c8dd1b91</td>\n",
       "      <td>0</td>\n",
       "    </tr>\n",
       "    <tr>\n",
       "      <th>1</th>\n",
       "      <td>a5140c89-83b0-4d86-a5c8-00aa3a3e7e14</td>\n",
       "      <td>0</td>\n",
       "    </tr>\n",
       "    <tr>\n",
       "      <th>2</th>\n",
       "      <td>ca76ba7a-aeb3-4302-954a-3fd64fc2123d</td>\n",
       "      <td>0</td>\n",
       "    </tr>\n",
       "    <tr>\n",
       "      <th>3</th>\n",
       "      <td>f45b6800-21ac-4212-aabc-b3ba62e74dbc</td>\n",
       "      <td>0</td>\n",
       "    </tr>\n",
       "    <tr>\n",
       "      <th>4</th>\n",
       "      <td>70351011-dea4-45fb-ab38-f11cc8fdd53f</td>\n",
       "      <td>0</td>\n",
       "    </tr>\n",
       "  </tbody>\n",
       "</table>\n",
       "</div>"
      ],
      "text/plain": [
       "                                   UUID  IsCanceled\n",
       "0  ba900e76-b827-45a0-b4c9-25c7c8dd1b91           0\n",
       "1  a5140c89-83b0-4d86-a5c8-00aa3a3e7e14           0\n",
       "2  ca76ba7a-aeb3-4302-954a-3fd64fc2123d           0\n",
       "3  f45b6800-21ac-4212-aabc-b3ba62e74dbc           0\n",
       "4  70351011-dea4-45fb-ab38-f11cc8fdd53f           0"
      ]
     },
     "execution_count": 50,
     "metadata": {},
     "output_type": "execute_result"
    }
   ],
   "source": [
    "df_UUID.head()"
   ]
  },
  {
   "cell_type": "code",
   "execution_count": 51,
   "id": "97c89395-015f-499a-9d51-d9b42a716705",
   "metadata": {
    "execution": {
     "iopub.execute_input": "2024-03-28T19:32:07.847309Z",
     "iopub.status.busy": "2024-03-28T19:32:07.846307Z",
     "iopub.status.idle": "2024-03-28T19:32:07.919033Z",
     "shell.execute_reply": "2024-03-28T19:32:07.917892Z",
     "shell.execute_reply.started": "2024-03-28T19:32:07.847309Z"
    }
   },
   "outputs": [
    {
     "data": {
      "text/plain": [
       "['8ec81372-6406-4c38-9365-52d34cc6b0c9',\n",
       " '26d04349-7c42-4ee3-b8c7-1a6d78560f7c',\n",
       " '7e167004-b650-49d4-ac08-a7d4ba009847',\n",
       " 'b7dc30c4-5081-4ca1-a14a-5b3d2f91820d',\n",
       " '9919d530-52f1-455d-a022-8d7e6445f384',\n",
       " 'e406ebdc-aedc-4da9-9ef6-37889b7094cb',\n",
       " 'ac0e697b-495c-48fc-a998-7a16e96eef9a',\n",
       " '957bab97-0815-4ec5-8221-231d01e324d8',\n",
       " '9b506680-a057-4928-a3c4-b2550c4ae29c',\n",
       " '85bcb5ed-bba0-486a-b9c8-75b5abf1ab41']"
      ]
     },
     "execution_count": 51,
     "metadata": {},
     "output_type": "execute_result"
    }
   ],
   "source": [
    "## Create list of UUIDs from cancelled reservations\n",
    "cxl_filter = df_UUID['IsCanceled'] == 1\n",
    "cxl_uuids = df_data[cxl_filter]['UUID'].to_list()\n",
    "cxl_uuids[:10]"
   ]
  },
  {
   "cell_type": "code",
   "execution_count": 52,
   "id": "05ba9942-5a84-42a5-9d61-06542110767c",
   "metadata": {
    "execution": {
     "iopub.execute_input": "2024-03-28T19:32:07.921032Z",
     "iopub.status.busy": "2024-03-28T19:32:07.920045Z",
     "iopub.status.idle": "2024-03-28T19:32:08.017239Z",
     "shell.execute_reply": "2024-03-28T19:32:08.017239Z",
     "shell.execute_reply.started": "2024-03-28T19:32:07.921032Z"
    }
   },
   "outputs": [
    {
     "data": {
      "text/html": [
       "<div>\n",
       "<style scoped>\n",
       "    .dataframe tbody tr th:only-of-type {\n",
       "        vertical-align: middle;\n",
       "    }\n",
       "\n",
       "    .dataframe tbody tr th {\n",
       "        vertical-align: top;\n",
       "    }\n",
       "\n",
       "    .dataframe thead th {\n",
       "        text-align: right;\n",
       "    }\n",
       "</style>\n",
       "<table border=\"1\" class=\"dataframe\">\n",
       "  <thead>\n",
       "    <tr style=\"text-align: right;\">\n",
       "      <th></th>\n",
       "      <th>UUID</th>\n",
       "      <th>ReservationStatusDate</th>\n",
       "      <th>ArrivalDateYear</th>\n",
       "      <th>ArrivalDateMonth</th>\n",
       "      <th>ArrivalDateDayOfMonth</th>\n",
       "      <th>StaysInWeekNights</th>\n",
       "      <th>StaysInWeekendNights</th>\n",
       "      <th>LeadTime</th>\n",
       "      <th>ArrivalDate</th>\n",
       "      <th>DepartureDate</th>\n",
       "      <th>LeadTimeDelta</th>\n",
       "      <th>BookingDate</th>\n",
       "    </tr>\n",
       "  </thead>\n",
       "  <tbody>\n",
       "    <tr>\n",
       "      <th>8</th>\n",
       "      <td>8ec81372-6406-4c38-9365-52d34cc6b0c9</td>\n",
       "      <td>2015-05-06</td>\n",
       "      <td>2015</td>\n",
       "      <td>July</td>\n",
       "      <td>1</td>\n",
       "      <td>3</td>\n",
       "      <td>0</td>\n",
       "      <td>85</td>\n",
       "      <td>2015-07-01</td>\n",
       "      <td>2015-07-04</td>\n",
       "      <td>85 days</td>\n",
       "      <td>2015-04-07</td>\n",
       "    </tr>\n",
       "    <tr>\n",
       "      <th>9</th>\n",
       "      <td>26d04349-7c42-4ee3-b8c7-1a6d78560f7c</td>\n",
       "      <td>2015-04-22</td>\n",
       "      <td>2015</td>\n",
       "      <td>July</td>\n",
       "      <td>1</td>\n",
       "      <td>3</td>\n",
       "      <td>0</td>\n",
       "      <td>75</td>\n",
       "      <td>2015-07-01</td>\n",
       "      <td>2015-07-04</td>\n",
       "      <td>75 days</td>\n",
       "      <td>2015-04-17</td>\n",
       "    </tr>\n",
       "    <tr>\n",
       "      <th>10</th>\n",
       "      <td>7e167004-b650-49d4-ac08-a7d4ba009847</td>\n",
       "      <td>2015-06-23</td>\n",
       "      <td>2015</td>\n",
       "      <td>July</td>\n",
       "      <td>1</td>\n",
       "      <td>4</td>\n",
       "      <td>0</td>\n",
       "      <td>23</td>\n",
       "      <td>2015-07-01</td>\n",
       "      <td>2015-07-05</td>\n",
       "      <td>23 days</td>\n",
       "      <td>2015-06-08</td>\n",
       "    </tr>\n",
       "    <tr>\n",
       "      <th>27</th>\n",
       "      <td>b7dc30c4-5081-4ca1-a14a-5b3d2f91820d</td>\n",
       "      <td>2015-05-11</td>\n",
       "      <td>2015</td>\n",
       "      <td>July</td>\n",
       "      <td>1</td>\n",
       "      <td>5</td>\n",
       "      <td>2</td>\n",
       "      <td>60</td>\n",
       "      <td>2015-07-01</td>\n",
       "      <td>2015-07-08</td>\n",
       "      <td>60 days</td>\n",
       "      <td>2015-05-02</td>\n",
       "    </tr>\n",
       "    <tr>\n",
       "      <th>32</th>\n",
       "      <td>9919d530-52f1-455d-a022-8d7e6445f384</td>\n",
       "      <td>2015-05-29</td>\n",
       "      <td>2015</td>\n",
       "      <td>July</td>\n",
       "      <td>1</td>\n",
       "      <td>8</td>\n",
       "      <td>2</td>\n",
       "      <td>96</td>\n",
       "      <td>2015-07-01</td>\n",
       "      <td>2015-07-11</td>\n",
       "      <td>96 days</td>\n",
       "      <td>2015-03-27</td>\n",
       "    </tr>\n",
       "  </tbody>\n",
       "</table>\n",
       "</div>"
      ],
      "text/plain": [
       "                                    UUID ReservationStatusDate  \\\n",
       "8   8ec81372-6406-4c38-9365-52d34cc6b0c9            2015-05-06   \n",
       "9   26d04349-7c42-4ee3-b8c7-1a6d78560f7c            2015-04-22   \n",
       "10  7e167004-b650-49d4-ac08-a7d4ba009847            2015-06-23   \n",
       "27  b7dc30c4-5081-4ca1-a14a-5b3d2f91820d            2015-05-11   \n",
       "32  9919d530-52f1-455d-a022-8d7e6445f384            2015-05-29   \n",
       "\n",
       "   ArrivalDateYear ArrivalDateMonth ArrivalDateDayOfMonth  StaysInWeekNights  \\\n",
       "8             2015             July                     1                  3   \n",
       "9             2015             July                     1                  3   \n",
       "10            2015             July                     1                  4   \n",
       "27            2015             July                     1                  5   \n",
       "32            2015             July                     1                  8   \n",
       "\n",
       "    StaysInWeekendNights  LeadTime ArrivalDate DepartureDate LeadTimeDelta  \\\n",
       "8                      0        85  2015-07-01    2015-07-04       85 days   \n",
       "9                      0        75  2015-07-01    2015-07-04       75 days   \n",
       "10                     0        23  2015-07-01    2015-07-05       23 days   \n",
       "27                     2        60  2015-07-01    2015-07-08       60 days   \n",
       "32                     2        96  2015-07-01    2015-07-11       96 days   \n",
       "\n",
       "   BookingDate  \n",
       "8   2015-04-07  \n",
       "9   2015-04-17  \n",
       "10  2015-06-08  \n",
       "27  2015-05-02  \n",
       "32  2015-03-27  "
      ]
     },
     "execution_count": 52,
     "metadata": {},
     "output_type": "execute_result"
    }
   ],
   "source": [
    "## Subset the date-engineered dataframe for cancelled reservations\n",
    "cxl_res = df_data[df_data['UUID'].isin(cxl_uuids)]\n",
    "cxl_res.head()"
   ]
  },
  {
   "cell_type": "code",
   "execution_count": 53,
   "id": "f5ea0b98-a946-41da-9a86-1ee006dc08c6",
   "metadata": {
    "execution": {
     "iopub.execute_input": "2024-03-28T19:32:08.018241Z",
     "iopub.status.busy": "2024-03-28T19:32:08.018241Z",
     "iopub.status.idle": "2024-03-28T19:32:08.080210Z",
     "shell.execute_reply": "2024-03-28T19:32:08.080210Z",
     "shell.execute_reply.started": "2024-03-28T19:32:08.018241Z"
    }
   },
   "outputs": [
    {
     "name": "stderr",
     "output_type": "stream",
     "text": [
      "C:\\Users\\Ben\\AppData\\Local\\Temp\\ipykernel_2036\\3217790394.py:1: SettingWithCopyWarning: \n",
      "A value is trying to be set on a copy of a slice from a DataFrame.\n",
      "Try using .loc[row_indexer,col_indexer] = value instead\n",
      "\n",
      "See the caveats in the documentation: https://pandas.pydata.org/pandas-docs/stable/user_guide/indexing.html#returning-a-view-versus-a-copy\n",
      "  cxl_res['ReservationStatusDate'] = pd.to_datetime(cxl_res['ReservationStatusDate'])\n"
     ]
    }
   ],
   "source": [
    "cxl_res.loc[:, 'ReservationStatusDate'] = pd.to_datetime(cxl_res.loc[:, 'ReservationStatusDate'])"
   ]
  },
  {
   "cell_type": "code",
   "execution_count": 54,
   "id": "08a3d913-62f7-433d-88ff-502389f64b43",
   "metadata": {
    "execution": {
     "iopub.execute_input": "2024-03-28T19:32:08.082222Z",
     "iopub.status.busy": "2024-03-28T19:32:08.081277Z",
     "iopub.status.idle": "2024-03-28T19:32:08.156736Z",
     "shell.execute_reply": "2024-03-28T19:32:08.156736Z",
     "shell.execute_reply.started": "2024-03-28T19:32:08.082222Z"
    }
   },
   "outputs": [
    {
     "data": {
      "text/html": [
       "<div>\n",
       "<style scoped>\n",
       "    .dataframe tbody tr th:only-of-type {\n",
       "        vertical-align: middle;\n",
       "    }\n",
       "\n",
       "    .dataframe tbody tr th {\n",
       "        vertical-align: top;\n",
       "    }\n",
       "\n",
       "    .dataframe thead th {\n",
       "        text-align: right;\n",
       "    }\n",
       "</style>\n",
       "<table border=\"1\" class=\"dataframe\">\n",
       "  <thead>\n",
       "    <tr style=\"text-align: right;\">\n",
       "      <th></th>\n",
       "      <th>UUID</th>\n",
       "      <th>ReservationStatusDate</th>\n",
       "      <th>ArrivalDateYear</th>\n",
       "      <th>ArrivalDateMonth</th>\n",
       "      <th>ArrivalDateDayOfMonth</th>\n",
       "      <th>StaysInWeekNights</th>\n",
       "      <th>StaysInWeekendNights</th>\n",
       "      <th>LeadTime</th>\n",
       "      <th>ArrivalDate</th>\n",
       "      <th>DepartureDate</th>\n",
       "      <th>LeadTimeDelta</th>\n",
       "      <th>BookingDate</th>\n",
       "      <th>DaysOldAtCancelation</th>\n",
       "    </tr>\n",
       "  </thead>\n",
       "  <tbody>\n",
       "    <tr>\n",
       "      <th>8</th>\n",
       "      <td>8ec81372-6406-4c38-9365-52d34cc6b0c9</td>\n",
       "      <td>2015-05-06</td>\n",
       "      <td>2015</td>\n",
       "      <td>July</td>\n",
       "      <td>1</td>\n",
       "      <td>3</td>\n",
       "      <td>0</td>\n",
       "      <td>85</td>\n",
       "      <td>2015-07-01</td>\n",
       "      <td>2015-07-04</td>\n",
       "      <td>85 days</td>\n",
       "      <td>2015-04-07</td>\n",
       "      <td>29</td>\n",
       "    </tr>\n",
       "    <tr>\n",
       "      <th>9</th>\n",
       "      <td>26d04349-7c42-4ee3-b8c7-1a6d78560f7c</td>\n",
       "      <td>2015-04-22</td>\n",
       "      <td>2015</td>\n",
       "      <td>July</td>\n",
       "      <td>1</td>\n",
       "      <td>3</td>\n",
       "      <td>0</td>\n",
       "      <td>75</td>\n",
       "      <td>2015-07-01</td>\n",
       "      <td>2015-07-04</td>\n",
       "      <td>75 days</td>\n",
       "      <td>2015-04-17</td>\n",
       "      <td>5</td>\n",
       "    </tr>\n",
       "    <tr>\n",
       "      <th>10</th>\n",
       "      <td>7e167004-b650-49d4-ac08-a7d4ba009847</td>\n",
       "      <td>2015-06-23</td>\n",
       "      <td>2015</td>\n",
       "      <td>July</td>\n",
       "      <td>1</td>\n",
       "      <td>4</td>\n",
       "      <td>0</td>\n",
       "      <td>23</td>\n",
       "      <td>2015-07-01</td>\n",
       "      <td>2015-07-05</td>\n",
       "      <td>23 days</td>\n",
       "      <td>2015-06-08</td>\n",
       "      <td>15</td>\n",
       "    </tr>\n",
       "    <tr>\n",
       "      <th>27</th>\n",
       "      <td>b7dc30c4-5081-4ca1-a14a-5b3d2f91820d</td>\n",
       "      <td>2015-05-11</td>\n",
       "      <td>2015</td>\n",
       "      <td>July</td>\n",
       "      <td>1</td>\n",
       "      <td>5</td>\n",
       "      <td>2</td>\n",
       "      <td>60</td>\n",
       "      <td>2015-07-01</td>\n",
       "      <td>2015-07-08</td>\n",
       "      <td>60 days</td>\n",
       "      <td>2015-05-02</td>\n",
       "      <td>9</td>\n",
       "    </tr>\n",
       "    <tr>\n",
       "      <th>32</th>\n",
       "      <td>9919d530-52f1-455d-a022-8d7e6445f384</td>\n",
       "      <td>2015-05-29</td>\n",
       "      <td>2015</td>\n",
       "      <td>July</td>\n",
       "      <td>1</td>\n",
       "      <td>8</td>\n",
       "      <td>2</td>\n",
       "      <td>96</td>\n",
       "      <td>2015-07-01</td>\n",
       "      <td>2015-07-11</td>\n",
       "      <td>96 days</td>\n",
       "      <td>2015-03-27</td>\n",
       "      <td>63</td>\n",
       "    </tr>\n",
       "  </tbody>\n",
       "</table>\n",
       "</div>"
      ],
      "text/plain": [
       "                                    UUID ReservationStatusDate  \\\n",
       "8   8ec81372-6406-4c38-9365-52d34cc6b0c9            2015-05-06   \n",
       "9   26d04349-7c42-4ee3-b8c7-1a6d78560f7c            2015-04-22   \n",
       "10  7e167004-b650-49d4-ac08-a7d4ba009847            2015-06-23   \n",
       "27  b7dc30c4-5081-4ca1-a14a-5b3d2f91820d            2015-05-11   \n",
       "32  9919d530-52f1-455d-a022-8d7e6445f384            2015-05-29   \n",
       "\n",
       "   ArrivalDateYear ArrivalDateMonth ArrivalDateDayOfMonth  StaysInWeekNights  \\\n",
       "8             2015             July                     1                  3   \n",
       "9             2015             July                     1                  3   \n",
       "10            2015             July                     1                  4   \n",
       "27            2015             July                     1                  5   \n",
       "32            2015             July                     1                  8   \n",
       "\n",
       "    StaysInWeekendNights  LeadTime ArrivalDate DepartureDate LeadTimeDelta  \\\n",
       "8                      0        85  2015-07-01    2015-07-04       85 days   \n",
       "9                      0        75  2015-07-01    2015-07-04       75 days   \n",
       "10                     0        23  2015-07-01    2015-07-05       23 days   \n",
       "27                     2        60  2015-07-01    2015-07-08       60 days   \n",
       "32                     2        96  2015-07-01    2015-07-11       96 days   \n",
       "\n",
       "   BookingDate  DaysOldAtCancelation  \n",
       "8   2015-04-07                    29  \n",
       "9   2015-04-17                     5  \n",
       "10  2015-06-08                    15  \n",
       "27  2015-05-02                     9  \n",
       "32  2015-03-27                    63  "
      ]
     },
     "execution_count": 54,
     "metadata": {},
     "output_type": "execute_result"
    }
   ],
   "source": [
    "## Calculate number of days between booking and cancellation\n",
    "age_at_cxl = (cxl_res['ReservationStatusDate'] - cxl_res['BookingDate']).dt.days\n",
    "\n",
    "age_at_cxl.name = 'DaysOldAtCancelation'\n",
    "\n",
    "cxl_res = pd.concat([cxl_res, age_at_cxl], axis = 1)\n",
    "cxl_res.head()"
   ]
  },
  {
   "cell_type": "code",
   "execution_count": 56,
   "id": "92e2a7a0-99e2-46cf-9413-7f204953c5a3",
   "metadata": {
    "execution": {
     "iopub.execute_input": "2024-03-28T19:32:16.209806Z",
     "iopub.status.busy": "2024-03-28T19:32:16.208810Z",
     "iopub.status.idle": "2024-03-28T19:32:16.271602Z",
     "shell.execute_reply": "2024-03-28T19:32:16.270822Z",
     "shell.execute_reply.started": "2024-03-28T19:32:16.208810Z"
    }
   },
   "outputs": [
    {
     "data": {
      "text/html": [
       "<div>\n",
       "<style scoped>\n",
       "    .dataframe tbody tr th:only-of-type {\n",
       "        vertical-align: middle;\n",
       "    }\n",
       "\n",
       "    .dataframe tbody tr th {\n",
       "        vertical-align: top;\n",
       "    }\n",
       "\n",
       "    .dataframe thead th {\n",
       "        text-align: right;\n",
       "    }\n",
       "</style>\n",
       "<table border=\"1\" class=\"dataframe\">\n",
       "  <thead>\n",
       "    <tr style=\"text-align: right;\">\n",
       "      <th></th>\n",
       "      <th>UUID</th>\n",
       "      <th>DaysOldAtCancelation</th>\n",
       "    </tr>\n",
       "  </thead>\n",
       "  <tbody>\n",
       "    <tr>\n",
       "      <th>8</th>\n",
       "      <td>8ec81372-6406-4c38-9365-52d34cc6b0c9</td>\n",
       "      <td>29</td>\n",
       "    </tr>\n",
       "    <tr>\n",
       "      <th>9</th>\n",
       "      <td>26d04349-7c42-4ee3-b8c7-1a6d78560f7c</td>\n",
       "      <td>5</td>\n",
       "    </tr>\n",
       "    <tr>\n",
       "      <th>10</th>\n",
       "      <td>7e167004-b650-49d4-ac08-a7d4ba009847</td>\n",
       "      <td>15</td>\n",
       "    </tr>\n",
       "    <tr>\n",
       "      <th>27</th>\n",
       "      <td>b7dc30c4-5081-4ca1-a14a-5b3d2f91820d</td>\n",
       "      <td>9</td>\n",
       "    </tr>\n",
       "    <tr>\n",
       "      <th>32</th>\n",
       "      <td>9919d530-52f1-455d-a022-8d7e6445f384</td>\n",
       "      <td>63</td>\n",
       "    </tr>\n",
       "  </tbody>\n",
       "</table>\n",
       "</div>"
      ],
      "text/plain": [
       "                                    UUID  DaysOldAtCancelation\n",
       "8   8ec81372-6406-4c38-9365-52d34cc6b0c9                    29\n",
       "9   26d04349-7c42-4ee3-b8c7-1a6d78560f7c                     5\n",
       "10  7e167004-b650-49d4-ac08-a7d4ba009847                    15\n",
       "27  b7dc30c4-5081-4ca1-a14a-5b3d2f91820d                     9\n",
       "32  9919d530-52f1-455d-a022-8d7e6445f384                    63"
      ]
     },
     "execution_count": 56,
     "metadata": {},
     "output_type": "execute_result"
    }
   ],
   "source": [
    "cxl_res[['UUID', 'DaysOldAtCancelation']].head()"
   ]
  },
  {
   "cell_type": "code",
   "execution_count": 57,
   "id": "a7073aa9-403c-420f-a214-19f7b81d5a25",
   "metadata": {
    "execution": {
     "iopub.execute_input": "2024-03-28T19:33:03.766770Z",
     "iopub.status.busy": "2024-03-28T19:33:03.766770Z",
     "iopub.status.idle": "2024-03-28T19:33:03.859045Z",
     "shell.execute_reply": "2024-03-28T19:33:03.859045Z",
     "shell.execute_reply.started": "2024-03-28T19:33:03.766770Z"
    }
   },
   "outputs": [],
   "source": [
    "cxl_res[['UUID', 'DaysOldAtCancelation']].to_parquet('../data/cxl_res_age.parquet', compression = 'snappy')"
   ]
  },
  {
   "cell_type": "markdown",
   "id": "d714edfb-2a66-45ba-a04f-c8937738c8f9",
   "metadata": {},
   "source": [
    "## Inspection Results: `ReservationStatusDate`\n",
    "\n",
    "---\n",
    "\n",
    "Based on the average number of reservations last changed before arrival, it is clear that this feature will be almost exactly indicative of whether a reservation canceled prior to arrival.\n",
    "\n",
    "Additionally, the number of days between the ArrivalDate and ReservationStatusDate features matches the length of stay, which already exists.\n",
    "\n",
    "However, I did calculate the age of each reservation and can use this information for further analysis of cancelled reservations.\n",
    "\n",
    "**Final Determination:** The feature `ReservationStatusDate` is not appropriate for feature engineering, and considering its nearly-exact correlation to the cancelation status of a reservation, it should be dropped from future datasets prior to modeling.\n",
    "\n",
    "---"
   ]
  },
  {
   "cell_type": "markdown",
   "id": "7a9b6814-8d76-4d30-be90-2c95bfdc7562",
   "metadata": {},
   "source": [
    "# Subset DataFrame to Focus on Engineered Dates"
   ]
  },
  {
   "cell_type": "code",
   "execution_count": null,
   "id": "1b7e922a-bc71-4c80-ab43-d1118f12ecec",
   "metadata": {
    "scrolled": true
   },
   "outputs": [],
   "source": [
    "drop_cols = ['ArrivalDateYear', 'ArrivalDateMonth', 'ArrivalDateDayOfMonth',\n",
    "'StaysInWeekNights', 'StaysInWeekendNights', 'LeadTime', 'LeadTimeDelta']\n",
    "df_data = df_data.drop(columns = drop_cols)\n",
    "df_data.head()"
   ]
  },
  {
   "cell_type": "code",
   "execution_count": null,
   "id": "af378f28",
   "metadata": {},
   "outputs": [],
   "source": [
    "df_data[['ArrivalDate', 'DepartureDate', 'BookingDate']].min()"
   ]
  },
  {
   "cell_type": "markdown",
   "id": "087c1854",
   "metadata": {},
   "source": [
    "# FE: Holidays"
   ]
  },
  {
   "cell_type": "code",
   "execution_count": null,
   "id": "03a281b8-2788-4f8e-bebb-55da29e8ae8e",
   "metadata": {},
   "outputs": [],
   "source": [
    "# Fetch holidays for the specific country and range of years (2013-2017)\n",
    "country_code = 'PT'\n",
    "years=[2013, 2014, 2015, 2016, 2017]\n",
    "\n",
    "pt_holidays = holidays.CountryHoliday(country = country_code, years = years)\n",
    "\n",
    "def holiday_past(date, holidays):\n",
    "\n",
    "    # Convert Timestamp to datetime.date\n",
    "    date = date.date()\n",
    "\n",
    "    # Find the closest past holiday\n",
    "    past_holidays = [(date - h_date).days for h_date in holidays if h_date <= date]\n",
    "    \n",
    "    if past_holidays:\n",
    "        days_after = min((d for d in past_holidays if d >= 0), default=None)\n",
    "    else:\n",
    "        days_after = None\n",
    "   \n",
    "    return days_after\n",
    "\n",
    "\n",
    "def holiday_upcoming(date, holidays):\n",
    "\n",
    "    # Convert Timestamp to datetime.date\n",
    "    date = date.date()\n",
    "\n",
    "    # Find the closest upcoming holiday\n",
    "    future_holidays = [(h_date - date).days for h_date in holidays if h_date > date]\n",
    "        \n",
    "    if future_holidays:\n",
    "        days_before = min((d for d in future_holidays if d >= 0), default=None)\n",
    "    else:\n",
    "        days_before = None\n",
    "\n",
    "    return days_before\n",
    "\n",
    "\n",
    "# Function to calculate the proximity to holidays for a list of dates\n",
    "def calculate_holiday_proximity(dates, holidays):\n",
    "    days_after_recent_holiday = []\n",
    "    days_before_next_holiday = []\n",
    "\n",
    "    for dt in dates:\n",
    "\n",
    "        days_after_recent_holiday.append(holiday_past(dt, holidays))\n",
    "        days_before_next_holiday.append(holiday_upcoming(dt, holidays))\n",
    "    \n",
    "    return days_after_recent_holiday, days_before_next_holiday"
   ]
  },
  {
   "cell_type": "code",
   "execution_count": null,
   "id": "748cb450",
   "metadata": {},
   "outputs": [],
   "source": [
    "# Apply the function to each date column in the dataframe\n",
    "for column in ['ArrivalDate', 'DepartureDate', 'BookingDate']:\n",
    "    after, before = calculate_holiday_proximity(df_data[column], pt_holidays)\n",
    "    df_data[f'{column}_DaysBeforeHoliday'] = before\n",
    "    df_data[f'{column}_DaysAfterHoliday'] = after\n",
    "\n",
    "df_data"
   ]
  },
  {
   "cell_type": "markdown",
   "id": "7a48c4f0",
   "metadata": {},
   "source": [
    "# FE: ISO Day of Week, ISO Week of Year"
   ]
  },
  {
   "cell_type": "code",
   "execution_count": null,
   "id": "5e61e270",
   "metadata": {},
   "outputs": [],
   "source": [
    "df_data['ArrivalDate'].dt.dayofweek.head()"
   ]
  },
  {
   "cell_type": "code",
   "execution_count": null,
   "id": "645a4351",
   "metadata": {},
   "outputs": [],
   "source": [
    "df_data['ArrivalDate'].dt.isocalendar().head()"
   ]
  },
  {
   "cell_type": "code",
   "execution_count": null,
   "id": "30259734",
   "metadata": {},
   "outputs": [],
   "source": [
    "for column in ['ArrivalDate', 'DepartureDate', 'BookingDate']:\n",
    "    df_data[f'{column}_WeekNumber'] = df_data[column].dt.isocalendar()['week']\n",
    "    df_data[f'{column}_DayOfWeek'] = df_data[column].dt.isocalendar()['day']\n",
    "    \n",
    "df_data.head()"
   ]
  },
  {
   "cell_type": "code",
   "execution_count": null,
   "id": "97ef2793-46ee-4550-99ea-324dfbad34a2",
   "metadata": {},
   "outputs": [],
   "source": []
  },
  {
   "cell_type": "code",
   "execution_count": null,
   "id": "fd73c0bd-79eb-4559-b17e-d01eed51c31c",
   "metadata": {},
   "outputs": [],
   "source": []
  },
  {
   "cell_type": "markdown",
   "id": "165b387d-1ea3-4b34-83e2-7492b136c528",
   "metadata": {},
   "source": [
    "# Saving Results"
   ]
  },
  {
   "cell_type": "code",
   "execution_count": null,
   "id": "b213284a-4acc-4a55-845a-669fbd3e6208",
   "metadata": {},
   "outputs": [],
   "source": [
    "df_data.to_parquet('../data/engineered_data_dates.parquet', compression = 'snappy')"
   ]
  }
 ],
 "metadata": {
  "kernelspec": {
   "display_name": "Python 3 (ipykernel)",
   "language": "python",
   "name": "python3"
  },
  "language_info": {
   "codemirror_mode": {
    "name": "ipython",
    "version": 3
   },
   "file_extension": ".py",
   "mimetype": "text/x-python",
   "name": "python",
   "nbconvert_exporter": "python",
   "pygments_lexer": "ipython3",
   "version": "3.10.14"
  },
  "widgets": {
   "application/vnd.jupyter.widget-state+json": {
    "state": {},
    "version_major": 2,
    "version_minor": 0
   }
  }
 },
 "nbformat": 4,
 "nbformat_minor": 5
}
