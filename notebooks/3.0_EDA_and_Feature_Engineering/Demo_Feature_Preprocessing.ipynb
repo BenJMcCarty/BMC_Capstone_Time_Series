{
 "cells": [
  {
   "cell_type": "markdown",
   "id": "5aeb4f9a-b4f8-446f-95a3-ba678513da6c",
   "metadata": {},
   "source": [
    "# Demonstrating Feature Preprocessing\n",
    "\n",
    "---\n",
    "\n",
    "Testing different pre-processing techniques from the `Feature-Engine` package.\n",
    "\n",
    "---"
   ]
  },
  {
   "cell_type": "code",
   "execution_count": 1,
   "id": "8054e3e4-611d-47fd-9f57-a85ad01db27c",
   "metadata": {
    "execution": {
     "iopub.execute_input": "2024-04-01T18:57:01.009320Z",
     "iopub.status.busy": "2024-04-01T18:57:01.009320Z",
     "iopub.status.idle": "2024-04-01T18:57:02.071300Z",
     "shell.execute_reply": "2024-04-01T18:57:02.071300Z",
     "shell.execute_reply.started": "2024-04-01T18:57:01.009320Z"
    }
   },
   "outputs": [],
   "source": [
    "from feature_engine.imputation import CategoricalImputer, MeanMedianImputer\n",
    "from feature_engine.encoding import DecisionTreeEncoder, MeanEncoder, OneHotEncoder, RareLabelEncoder\n",
    "from feature_engine.outliers import OutlierTrimmer\n",
    "from feature_engine.pipeline import Pipeline\n",
    "\n",
    "import numpy as np\n",
    "import pandas as pd"
   ]
  },
  {
   "cell_type": "markdown",
   "id": "9fce85e1-89fb-4fd3-b4ce-31a22522b68e",
   "metadata": {},
   "source": [
    "# Read Data"
   ]
  },
  {
   "cell_type": "code",
   "execution_count": 2,
   "id": "c90ddf04-8431-4801-860b-f0287d3cf915",
   "metadata": {
    "execution": {
     "iopub.execute_input": "2024-04-01T18:57:02.071300Z",
     "iopub.status.busy": "2024-04-01T18:57:02.071300Z",
     "iopub.status.idle": "2024-04-01T18:57:02.168098Z",
     "shell.execute_reply": "2024-04-01T18:57:02.168098Z",
     "shell.execute_reply.started": "2024-04-01T18:57:02.071300Z"
    }
   },
   "outputs": [
    {
     "data": {
      "text/html": [
       "<div>\n",
       "<style scoped>\n",
       "    .dataframe tbody tr th:only-of-type {\n",
       "        vertical-align: middle;\n",
       "    }\n",
       "\n",
       "    .dataframe tbody tr th {\n",
       "        vertical-align: top;\n",
       "    }\n",
       "\n",
       "    .dataframe thead th {\n",
       "        text-align: right;\n",
       "    }\n",
       "</style>\n",
       "<table border=\"1\" class=\"dataframe\">\n",
       "  <thead>\n",
       "    <tr style=\"text-align: right;\">\n",
       "      <th></th>\n",
       "      <th>IsCanceled</th>\n",
       "      <th>Adults</th>\n",
       "      <th>Children</th>\n",
       "      <th>Babies</th>\n",
       "      <th>Meal</th>\n",
       "      <th>Country</th>\n",
       "      <th>MarketSegment</th>\n",
       "      <th>DistributionChannel</th>\n",
       "      <th>IsRepeatedGuest</th>\n",
       "      <th>PreviousCancellations</th>\n",
       "      <th>...</th>\n",
       "      <th>DepartureDate_DaysBeforeHoliday</th>\n",
       "      <th>DepartureDate_DaysAfterHoliday</th>\n",
       "      <th>BookingDate_DaysBeforeHoliday</th>\n",
       "      <th>BookingDate_DaysAfterHoliday</th>\n",
       "      <th>ArrivalDate_WeekNumber</th>\n",
       "      <th>ArrivalDate_DayOfWeek</th>\n",
       "      <th>DepartureDate_WeekNumber</th>\n",
       "      <th>DepartureDate_DayOfWeek</th>\n",
       "      <th>BookingDate_WeekNumber</th>\n",
       "      <th>BookingDate_DayOfWeek</th>\n",
       "    </tr>\n",
       "  </thead>\n",
       "  <tbody>\n",
       "    <tr>\n",
       "      <th>0</th>\n",
       "      <td>0</td>\n",
       "      <td>2</td>\n",
       "      <td>0.0</td>\n",
       "      <td>0</td>\n",
       "      <td>BB</td>\n",
       "      <td>PRT</td>\n",
       "      <td>Direct</td>\n",
       "      <td>Direct</td>\n",
       "      <td>0</td>\n",
       "      <td>0</td>\n",
       "      <td>...</td>\n",
       "      <td>45</td>\n",
       "      <td>21</td>\n",
       "      <td>22</td>\n",
       "      <td>44</td>\n",
       "      <td>27</td>\n",
       "      <td>3</td>\n",
       "      <td>27</td>\n",
       "      <td>3</td>\n",
       "      <td>30</td>\n",
       "      <td>4</td>\n",
       "    </tr>\n",
       "    <tr>\n",
       "      <th>1</th>\n",
       "      <td>0</td>\n",
       "      <td>2</td>\n",
       "      <td>0.0</td>\n",
       "      <td>0</td>\n",
       "      <td>BB</td>\n",
       "      <td>PRT</td>\n",
       "      <td>Direct</td>\n",
       "      <td>Direct</td>\n",
       "      <td>0</td>\n",
       "      <td>0</td>\n",
       "      <td>...</td>\n",
       "      <td>45</td>\n",
       "      <td>21</td>\n",
       "      <td>52</td>\n",
       "      <td>14</td>\n",
       "      <td>27</td>\n",
       "      <td>3</td>\n",
       "      <td>27</td>\n",
       "      <td>3</td>\n",
       "      <td>26</td>\n",
       "      <td>1</td>\n",
       "    </tr>\n",
       "    <tr>\n",
       "      <th>2</th>\n",
       "      <td>0</td>\n",
       "      <td>1</td>\n",
       "      <td>0.0</td>\n",
       "      <td>0</td>\n",
       "      <td>BB</td>\n",
       "      <td>GBR</td>\n",
       "      <td>Direct</td>\n",
       "      <td>Direct</td>\n",
       "      <td>0</td>\n",
       "      <td>0</td>\n",
       "      <td>...</td>\n",
       "      <td>44</td>\n",
       "      <td>22</td>\n",
       "      <td>52</td>\n",
       "      <td>14</td>\n",
       "      <td>27</td>\n",
       "      <td>3</td>\n",
       "      <td>27</td>\n",
       "      <td>4</td>\n",
       "      <td>26</td>\n",
       "      <td>3</td>\n",
       "    </tr>\n",
       "    <tr>\n",
       "      <th>3</th>\n",
       "      <td>0</td>\n",
       "      <td>1</td>\n",
       "      <td>0.0</td>\n",
       "      <td>0</td>\n",
       "      <td>BB</td>\n",
       "      <td>GBR</td>\n",
       "      <td>Corporate</td>\n",
       "      <td>Corporate</td>\n",
       "      <td>0</td>\n",
       "      <td>0</td>\n",
       "      <td>...</td>\n",
       "      <td>44</td>\n",
       "      <td>22</td>\n",
       "      <td>58</td>\n",
       "      <td>8</td>\n",
       "      <td>27</td>\n",
       "      <td>3</td>\n",
       "      <td>27</td>\n",
       "      <td>4</td>\n",
       "      <td>25</td>\n",
       "      <td>4</td>\n",
       "    </tr>\n",
       "    <tr>\n",
       "      <th>4</th>\n",
       "      <td>0</td>\n",
       "      <td>2</td>\n",
       "      <td>0.0</td>\n",
       "      <td>0</td>\n",
       "      <td>BB</td>\n",
       "      <td>GBR</td>\n",
       "      <td>Online TA</td>\n",
       "      <td>TA/TO</td>\n",
       "      <td>0</td>\n",
       "      <td>0</td>\n",
       "      <td>...</td>\n",
       "      <td>43</td>\n",
       "      <td>23</td>\n",
       "      <td>59</td>\n",
       "      <td>7</td>\n",
       "      <td>27</td>\n",
       "      <td>3</td>\n",
       "      <td>27</td>\n",
       "      <td>5</td>\n",
       "      <td>25</td>\n",
       "      <td>3</td>\n",
       "    </tr>\n",
       "  </tbody>\n",
       "</table>\n",
       "<p>5 rows × 35 columns</p>\n",
       "</div>"
      ],
      "text/plain": [
       "   IsCanceled  Adults  Children  Babies       Meal Country MarketSegment  \\\n",
       "0           0       2       0.0       0  BB            PRT        Direct   \n",
       "1           0       2       0.0       0  BB            PRT        Direct   \n",
       "2           0       1       0.0       0  BB            GBR        Direct   \n",
       "3           0       1       0.0       0  BB            GBR     Corporate   \n",
       "4           0       2       0.0       0  BB            GBR     Online TA   \n",
       "\n",
       "  DistributionChannel  IsRepeatedGuest  PreviousCancellations  ...  \\\n",
       "0              Direct                0                      0  ...   \n",
       "1              Direct                0                      0  ...   \n",
       "2              Direct                0                      0  ...   \n",
       "3           Corporate                0                      0  ...   \n",
       "4               TA/TO                0                      0  ...   \n",
       "\n",
       "   DepartureDate_DaysBeforeHoliday DepartureDate_DaysAfterHoliday  \\\n",
       "0                               45                             21   \n",
       "1                               45                             21   \n",
       "2                               44                             22   \n",
       "3                               44                             22   \n",
       "4                               43                             23   \n",
       "\n",
       "  BookingDate_DaysBeforeHoliday  BookingDate_DaysAfterHoliday  \\\n",
       "0                            22                            44   \n",
       "1                            52                            14   \n",
       "2                            52                            14   \n",
       "3                            58                             8   \n",
       "4                            59                             7   \n",
       "\n",
       "  ArrivalDate_WeekNumber ArrivalDate_DayOfWeek DepartureDate_WeekNumber  \\\n",
       "0                     27                     3                       27   \n",
       "1                     27                     3                       27   \n",
       "2                     27                     3                       27   \n",
       "3                     27                     3                       27   \n",
       "4                     27                     3                       27   \n",
       "\n",
       "   DepartureDate_DayOfWeek BookingDate_WeekNumber  BookingDate_DayOfWeek  \n",
       "0                        3                     30                      4  \n",
       "1                        3                     26                      1  \n",
       "2                        4                     26                      3  \n",
       "3                        4                     25                      4  \n",
       "4                        5                     25                      3  \n",
       "\n",
       "[5 rows x 35 columns]"
      ]
     },
     "execution_count": 2,
     "metadata": {},
     "output_type": "execute_result"
    }
   ],
   "source": [
    "data = pd.read_parquet('../data/data_prepped.parquet')\n",
    "data.head()"
   ]
  },
  {
   "cell_type": "code",
   "execution_count": 3,
   "id": "8416b97e-34a5-4274-9247-d3a18b56116b",
   "metadata": {
    "execution": {
     "iopub.execute_input": "2024-04-01T18:57:02.170053Z",
     "iopub.status.busy": "2024-04-01T18:57:02.169122Z",
     "iopub.status.idle": "2024-04-01T18:57:02.176312Z",
     "shell.execute_reply": "2024-04-01T18:57:02.176312Z",
     "shell.execute_reply.started": "2024-04-01T18:57:02.170053Z"
    }
   },
   "outputs": [
    {
     "data": {
      "text/plain": [
       "(119390, 35)"
      ]
     },
     "execution_count": 3,
     "metadata": {},
     "output_type": "execute_result"
    }
   ],
   "source": [
    "initial_size = data.shape\n",
    "initial_size"
   ]
  },
  {
   "cell_type": "markdown",
   "id": "a715ed0d-29a0-42cc-91b1-15ec1b291c20",
   "metadata": {},
   "source": [
    "# Imputation"
   ]
  },
  {
   "cell_type": "code",
   "execution_count": 4,
   "id": "fe7ce386-bb8e-49f5-9014-e055c2f2ee55",
   "metadata": {
    "execution": {
     "iopub.execute_input": "2024-04-01T18:57:02.176312Z",
     "iopub.status.busy": "2024-04-01T18:57:02.176312Z",
     "iopub.status.idle": "2024-04-01T18:57:02.337572Z",
     "shell.execute_reply": "2024-04-01T18:57:02.337572Z",
     "shell.execute_reply.started": "2024-04-01T18:57:02.176312Z"
    }
   },
   "outputs": [
    {
     "data": {
      "text/plain": [
       "0"
      ]
     },
     "execution_count": 4,
     "metadata": {},
     "output_type": "execute_result"
    }
   ],
   "source": [
    "cat_imputer = CategoricalImputer(variables=['Country'], imputation_method = 'frequent')\n",
    "data = cat_imputer.fit_transform(data)\n",
    "\n",
    "num_imputer = MeanMedianImputer(imputation_method = 'median', variables = ['Children'])\n",
    "data = num_imputer.fit_transform(data)\n",
    "\n",
    "\n",
    "data.isna().sum().sum()"
   ]
  },
  {
   "cell_type": "markdown",
   "id": "bcd94225-4f66-41ea-a325-1bade761ddf2",
   "metadata": {
    "execution": {
     "iopub.execute_input": "2024-03-29T22:04:14.636516Z",
     "iopub.status.busy": "2024-03-29T22:04:14.636516Z",
     "iopub.status.idle": "2024-03-29T22:04:14.654626Z",
     "shell.execute_reply": "2024-03-29T22:04:14.653631Z",
     "shell.execute_reply.started": "2024-03-29T22:04:14.636516Z"
    }
   },
   "source": [
    "# Rare Label Encoding"
   ]
  },
  {
   "cell_type": "code",
   "execution_count": 5,
   "id": "697d5e24-cbb6-4293-a7aa-17d503ebeb07",
   "metadata": {
    "execution": {
     "iopub.execute_input": "2024-04-01T18:57:02.337572Z",
     "iopub.status.busy": "2024-04-01T18:57:02.337572Z",
     "iopub.status.idle": "2024-04-01T18:57:02.413984Z",
     "shell.execute_reply": "2024-04-01T18:57:02.413984Z",
     "shell.execute_reply.started": "2024-04-01T18:57:02.337572Z"
    }
   },
   "outputs": [
    {
     "data": {
      "text/html": [
       "<div>\n",
       "<style scoped>\n",
       "    .dataframe tbody tr th:only-of-type {\n",
       "        vertical-align: middle;\n",
       "    }\n",
       "\n",
       "    .dataframe tbody tr th {\n",
       "        vertical-align: top;\n",
       "    }\n",
       "\n",
       "    .dataframe thead th {\n",
       "        text-align: right;\n",
       "    }\n",
       "</style>\n",
       "<table border=\"1\" class=\"dataframe\">\n",
       "  <thead>\n",
       "    <tr style=\"text-align: right;\">\n",
       "      <th></th>\n",
       "      <th>Meal</th>\n",
       "      <th>Country</th>\n",
       "      <th>MarketSegment</th>\n",
       "      <th>DistributionChannel</th>\n",
       "      <th>ReservedRoomType</th>\n",
       "      <th>AssignedRoomType</th>\n",
       "      <th>DepositType</th>\n",
       "      <th>Agent</th>\n",
       "      <th>Company</th>\n",
       "      <th>CustomerType</th>\n",
       "    </tr>\n",
       "  </thead>\n",
       "  <tbody>\n",
       "    <tr>\n",
       "      <th>count</th>\n",
       "      <td>119390</td>\n",
       "      <td>119390</td>\n",
       "      <td>119390</td>\n",
       "      <td>119390</td>\n",
       "      <td>119390</td>\n",
       "      <td>119390</td>\n",
       "      <td>119390</td>\n",
       "      <td>119390</td>\n",
       "      <td>119390</td>\n",
       "      <td>119390</td>\n",
       "    </tr>\n",
       "    <tr>\n",
       "      <th>unique</th>\n",
       "      <td>5</td>\n",
       "      <td>177</td>\n",
       "      <td>8</td>\n",
       "      <td>5</td>\n",
       "      <td>10</td>\n",
       "      <td>12</td>\n",
       "      <td>3</td>\n",
       "      <td>334</td>\n",
       "      <td>353</td>\n",
       "      <td>4</td>\n",
       "    </tr>\n",
       "    <tr>\n",
       "      <th>top</th>\n",
       "      <td>BB</td>\n",
       "      <td>PRT</td>\n",
       "      <td>Online TA</td>\n",
       "      <td>TA/TO</td>\n",
       "      <td>A</td>\n",
       "      <td>A</td>\n",
       "      <td>No Deposit</td>\n",
       "      <td>9</td>\n",
       "      <td>NULL</td>\n",
       "      <td>Transient</td>\n",
       "    </tr>\n",
       "    <tr>\n",
       "      <th>freq</th>\n",
       "      <td>92310</td>\n",
       "      <td>49078</td>\n",
       "      <td>56477</td>\n",
       "      <td>97870</td>\n",
       "      <td>85994</td>\n",
       "      <td>74053</td>\n",
       "      <td>104641</td>\n",
       "      <td>31961</td>\n",
       "      <td>112593</td>\n",
       "      <td>89613</td>\n",
       "    </tr>\n",
       "  </tbody>\n",
       "</table>\n",
       "</div>"
      ],
      "text/plain": [
       "             Meal Country MarketSegment DistributionChannel  ReservedRoomType  \\\n",
       "count      119390  119390        119390              119390            119390   \n",
       "unique          5     177             8                   5                10   \n",
       "top     BB            PRT     Online TA               TA/TO  A                  \n",
       "freq        92310   49078         56477               97870             85994   \n",
       "\n",
       "        AssignedRoomType      DepositType        Agent      Company  \\\n",
       "count             119390           119390       119390       119390   \n",
       "unique                12                3          334          353   \n",
       "top     A                 No Deposit                 9         NULL   \n",
       "freq               74053           104641        31961       112593   \n",
       "\n",
       "       CustomerType  \n",
       "count        119390  \n",
       "unique            4  \n",
       "top       Transient  \n",
       "freq          89613  "
      ]
     },
     "execution_count": 5,
     "metadata": {},
     "output_type": "execute_result"
    }
   ],
   "source": [
    "data.describe(include = 'object')"
   ]
  },
  {
   "cell_type": "code",
   "execution_count": 6,
   "id": "acf914de-905e-4289-abea-463c874cc408",
   "metadata": {
    "execution": {
     "iopub.execute_input": "2024-04-01T18:57:02.416983Z",
     "iopub.status.busy": "2024-04-01T18:57:02.415983Z",
     "iopub.status.idle": "2024-04-01T18:57:02.510595Z",
     "shell.execute_reply": "2024-04-01T18:57:02.509580Z",
     "shell.execute_reply.started": "2024-04-01T18:57:02.416983Z"
    }
   },
   "outputs": [
    {
     "name": "stdout",
     "output_type": "stream",
     "text": [
      "911\n",
      "91.1\n"
     ]
    }
   ],
   "source": [
    "print(data.select_dtypes('object').nunique().sum())\n",
    "print(data.select_dtypes('object').nunique().mean())"
   ]
  },
  {
   "cell_type": "code",
   "execution_count": 7,
   "id": "503f511d-f65e-498e-ac4e-66e525932143",
   "metadata": {
    "execution": {
     "iopub.execute_input": "2024-04-01T18:57:02.511589Z",
     "iopub.status.busy": "2024-04-01T18:57:02.511589Z",
     "iopub.status.idle": "2024-04-01T18:57:02.808252Z",
     "shell.execute_reply": "2024-04-01T18:57:02.808252Z",
     "shell.execute_reply.started": "2024-04-01T18:57:02.511589Z"
    },
    "scrolled": true
   },
   "outputs": [
    {
     "name": "stderr",
     "output_type": "stream",
     "text": [
      "C:\\Users\\Ben\\anaconda3\\envs\\dojo-env\\lib\\site-packages\\feature_engine\\encoding\\rare_label.py:216: UserWarning: The number of unique categories for variable Meal is less than that indicated in n_categories. Thus, all categories will be considered frequent\n",
      "  warnings.warn(\n",
      "C:\\Users\\Ben\\anaconda3\\envs\\dojo-env\\lib\\site-packages\\feature_engine\\encoding\\rare_label.py:216: UserWarning: The number of unique categories for variable DistributionChannel is less than that indicated in n_categories. Thus, all categories will be considered frequent\n",
      "  warnings.warn(\n",
      "C:\\Users\\Ben\\anaconda3\\envs\\dojo-env\\lib\\site-packages\\feature_engine\\encoding\\rare_label.py:216: UserWarning: The number of unique categories for variable DepositType is less than that indicated in n_categories. Thus, all categories will be considered frequent\n",
      "  warnings.warn(\n",
      "C:\\Users\\Ben\\anaconda3\\envs\\dojo-env\\lib\\site-packages\\feature_engine\\encoding\\rare_label.py:216: UserWarning: The number of unique categories for variable CustomerType is less than that indicated in n_categories. Thus, all categories will be considered frequent\n",
      "  warnings.warn(\n"
     ]
    }
   ],
   "source": [
    "rle = RareLabelEncoder(tol=0.05,n_categories=5,replace_with='Rare')\n",
    "\n",
    "data = rle.fit_transform(data)"
   ]
  },
  {
   "cell_type": "code",
   "execution_count": 8,
   "id": "e4659330-b41c-4160-ba99-42b46f5f6dd0",
   "metadata": {
    "execution": {
     "iopub.execute_input": "2024-04-01T18:57:02.809253Z",
     "iopub.status.busy": "2024-04-01T18:57:02.809253Z",
     "iopub.status.idle": "2024-04-01T18:57:02.903660Z",
     "shell.execute_reply": "2024-04-01T18:57:02.903660Z",
     "shell.execute_reply.started": "2024-04-01T18:57:02.809253Z"
    }
   },
   "outputs": [
    {
     "name": "stdout",
     "output_type": "stream",
     "text": [
      "43\n",
      "4.3\n"
     ]
    }
   ],
   "source": [
    "print(data.select_dtypes('object').nunique().sum())\n",
    "print(data.select_dtypes('object').nunique().mean())"
   ]
  },
  {
   "cell_type": "code",
   "execution_count": 9,
   "id": "afc6cbd5-0938-440b-99ea-ad509b4244c4",
   "metadata": {
    "execution": {
     "iopub.execute_input": "2024-04-01T18:57:02.904588Z",
     "iopub.status.busy": "2024-04-01T18:57:02.904588Z",
     "iopub.status.idle": "2024-04-01T18:57:02.980189Z",
     "shell.execute_reply": "2024-04-01T18:57:02.980189Z",
     "shell.execute_reply.started": "2024-04-01T18:57:02.904588Z"
    }
   },
   "outputs": [
    {
     "data": {
      "text/html": [
       "<div>\n",
       "<style scoped>\n",
       "    .dataframe tbody tr th:only-of-type {\n",
       "        vertical-align: middle;\n",
       "    }\n",
       "\n",
       "    .dataframe tbody tr th {\n",
       "        vertical-align: top;\n",
       "    }\n",
       "\n",
       "    .dataframe thead th {\n",
       "        text-align: right;\n",
       "    }\n",
       "</style>\n",
       "<table border=\"1\" class=\"dataframe\">\n",
       "  <thead>\n",
       "    <tr style=\"text-align: right;\">\n",
       "      <th></th>\n",
       "      <th>Meal</th>\n",
       "      <th>Country</th>\n",
       "      <th>MarketSegment</th>\n",
       "      <th>DistributionChannel</th>\n",
       "      <th>ReservedRoomType</th>\n",
       "      <th>AssignedRoomType</th>\n",
       "      <th>DepositType</th>\n",
       "      <th>Agent</th>\n",
       "      <th>Company</th>\n",
       "      <th>CustomerType</th>\n",
       "    </tr>\n",
       "  </thead>\n",
       "  <tbody>\n",
       "    <tr>\n",
       "      <th>count</th>\n",
       "      <td>119390</td>\n",
       "      <td>119390</td>\n",
       "      <td>119390</td>\n",
       "      <td>119390</td>\n",
       "      <td>119390</td>\n",
       "      <td>119390</td>\n",
       "      <td>119390</td>\n",
       "      <td>119390</td>\n",
       "      <td>119390</td>\n",
       "      <td>119390</td>\n",
       "    </tr>\n",
       "    <tr>\n",
       "      <th>unique</th>\n",
       "      <td>5</td>\n",
       "      <td>6</td>\n",
       "      <td>5</td>\n",
       "      <td>5</td>\n",
       "      <td>4</td>\n",
       "      <td>4</td>\n",
       "      <td>3</td>\n",
       "      <td>5</td>\n",
       "      <td>2</td>\n",
       "      <td>4</td>\n",
       "    </tr>\n",
       "    <tr>\n",
       "      <th>top</th>\n",
       "      <td>BB</td>\n",
       "      <td>PRT</td>\n",
       "      <td>Online TA</td>\n",
       "      <td>TA/TO</td>\n",
       "      <td>A</td>\n",
       "      <td>A</td>\n",
       "      <td>No Deposit</td>\n",
       "      <td>Rare</td>\n",
       "      <td>NULL</td>\n",
       "      <td>Transient</td>\n",
       "    </tr>\n",
       "    <tr>\n",
       "      <th>freq</th>\n",
       "      <td>92310</td>\n",
       "      <td>49078</td>\n",
       "      <td>56477</td>\n",
       "      <td>97870</td>\n",
       "      <td>85994</td>\n",
       "      <td>74053</td>\n",
       "      <td>104641</td>\n",
       "      <td>49976</td>\n",
       "      <td>112593</td>\n",
       "      <td>89613</td>\n",
       "    </tr>\n",
       "  </tbody>\n",
       "</table>\n",
       "</div>"
      ],
      "text/plain": [
       "             Meal Country MarketSegment DistributionChannel  ReservedRoomType  \\\n",
       "count      119390  119390        119390              119390            119390   \n",
       "unique          5       6             5                   5                 4   \n",
       "top     BB            PRT     Online TA               TA/TO  A                  \n",
       "freq        92310   49078         56477               97870             85994   \n",
       "\n",
       "        AssignedRoomType      DepositType   Agent      Company CustomerType  \n",
       "count             119390           119390  119390       119390       119390  \n",
       "unique                 4                3       5            2            4  \n",
       "top     A                 No Deposit         Rare         NULL    Transient  \n",
       "freq               74053           104641   49976       112593        89613  "
      ]
     },
     "execution_count": 9,
     "metadata": {},
     "output_type": "execute_result"
    }
   ],
   "source": [
    "data.describe(include = 'object')"
   ]
  },
  {
   "cell_type": "markdown",
   "id": "fc1035b6-adad-4360-bbcc-244017ef6df1",
   "metadata": {},
   "source": [
    "# Categorical Feature Encoding"
   ]
  },
  {
   "cell_type": "code",
   "execution_count": 10,
   "id": "c4d201e1-b675-49d4-9649-975febfcba10",
   "metadata": {
    "execution": {
     "iopub.execute_input": "2024-04-01T18:57:02.981241Z",
     "iopub.status.busy": "2024-04-01T18:57:02.981241Z",
     "iopub.status.idle": "2024-04-01T18:57:02.990759Z",
     "shell.execute_reply": "2024-04-01T18:57:02.990759Z",
     "shell.execute_reply.started": "2024-04-01T18:57:02.981241Z"
    }
   },
   "outputs": [],
   "source": [
    "# dte = DecisionTreeEncoder(regression = True, random_state=42)\n",
    "\n",
    "# data = dte.fit_transform(data.drop(columns=['ADR']), data['ADR'])"
   ]
  },
  {
   "cell_type": "code",
   "execution_count": 11,
   "id": "64d3dc38-b8d5-4b90-a2de-a4a3f6f28542",
   "metadata": {
    "execution": {
     "iopub.execute_input": "2024-04-01T18:57:02.990759Z",
     "iopub.status.busy": "2024-04-01T18:57:02.990759Z",
     "iopub.status.idle": "2024-04-01T18:57:03.002456Z",
     "shell.execute_reply": "2024-04-01T18:57:03.002456Z",
     "shell.execute_reply.started": "2024-04-01T18:57:02.990759Z"
    }
   },
   "outputs": [],
   "source": [
    "# mean_enc = MeanEncoder(unseen = 'encode')\n",
    "\n",
    "# data = mean_enc.fit_transform(X = data, y = None)\n",
    "\n",
    "# data.head()"
   ]
  },
  {
   "cell_type": "code",
   "execution_count": 12,
   "id": "58c4cddf-cc14-4a17-9fe1-39db33d08428",
   "metadata": {
    "execution": {
     "iopub.execute_input": "2024-04-01T18:57:03.002456Z",
     "iopub.status.busy": "2024-04-01T18:57:03.002456Z",
     "iopub.status.idle": "2024-04-01T18:57:03.987913Z",
     "shell.execute_reply": "2024-04-01T18:57:03.987913Z",
     "shell.execute_reply.started": "2024-04-01T18:57:03.002456Z"
    }
   },
   "outputs": [
    {
     "data": {
      "text/html": [
       "<div>\n",
       "<style scoped>\n",
       "    .dataframe tbody tr th:only-of-type {\n",
       "        vertical-align: middle;\n",
       "    }\n",
       "\n",
       "    .dataframe tbody tr th {\n",
       "        vertical-align: top;\n",
       "    }\n",
       "\n",
       "    .dataframe thead th {\n",
       "        text-align: right;\n",
       "    }\n",
       "</style>\n",
       "<table border=\"1\" class=\"dataframe\">\n",
       "  <thead>\n",
       "    <tr style=\"text-align: right;\">\n",
       "      <th></th>\n",
       "      <th>IsCanceled</th>\n",
       "      <th>Adults</th>\n",
       "      <th>Children</th>\n",
       "      <th>Babies</th>\n",
       "      <th>IsRepeatedGuest</th>\n",
       "      <th>PreviousCancellations</th>\n",
       "      <th>PreviousBookingsNotCanceled</th>\n",
       "      <th>BookingChanges</th>\n",
       "      <th>DaysInWaitingList</th>\n",
       "      <th>ADR</th>\n",
       "      <th>...</th>\n",
       "      <th>DepositType_No Deposit</th>\n",
       "      <th>DepositType_Refundable</th>\n",
       "      <th>Agent_       NULL</th>\n",
       "      <th>Agent_Rare</th>\n",
       "      <th>Agent_        240</th>\n",
       "      <th>Agent_          9</th>\n",
       "      <th>Company_       NULL</th>\n",
       "      <th>CustomerType_Transient</th>\n",
       "      <th>CustomerType_Contract</th>\n",
       "      <th>CustomerType_Transient-Party</th>\n",
       "    </tr>\n",
       "  </thead>\n",
       "  <tbody>\n",
       "    <tr>\n",
       "      <th>0</th>\n",
       "      <td>0</td>\n",
       "      <td>2</td>\n",
       "      <td>0.0</td>\n",
       "      <td>0</td>\n",
       "      <td>0</td>\n",
       "      <td>0</td>\n",
       "      <td>0</td>\n",
       "      <td>3</td>\n",
       "      <td>0</td>\n",
       "      <td>0.0</td>\n",
       "      <td>...</td>\n",
       "      <td>1</td>\n",
       "      <td>0</td>\n",
       "      <td>1</td>\n",
       "      <td>0</td>\n",
       "      <td>0</td>\n",
       "      <td>0</td>\n",
       "      <td>1</td>\n",
       "      <td>1</td>\n",
       "      <td>0</td>\n",
       "      <td>0</td>\n",
       "    </tr>\n",
       "    <tr>\n",
       "      <th>1</th>\n",
       "      <td>0</td>\n",
       "      <td>2</td>\n",
       "      <td>0.0</td>\n",
       "      <td>0</td>\n",
       "      <td>0</td>\n",
       "      <td>0</td>\n",
       "      <td>0</td>\n",
       "      <td>4</td>\n",
       "      <td>0</td>\n",
       "      <td>0.0</td>\n",
       "      <td>...</td>\n",
       "      <td>1</td>\n",
       "      <td>0</td>\n",
       "      <td>1</td>\n",
       "      <td>0</td>\n",
       "      <td>0</td>\n",
       "      <td>0</td>\n",
       "      <td>1</td>\n",
       "      <td>1</td>\n",
       "      <td>0</td>\n",
       "      <td>0</td>\n",
       "    </tr>\n",
       "    <tr>\n",
       "      <th>2</th>\n",
       "      <td>0</td>\n",
       "      <td>1</td>\n",
       "      <td>0.0</td>\n",
       "      <td>0</td>\n",
       "      <td>0</td>\n",
       "      <td>0</td>\n",
       "      <td>0</td>\n",
       "      <td>0</td>\n",
       "      <td>0</td>\n",
       "      <td>75.0</td>\n",
       "      <td>...</td>\n",
       "      <td>1</td>\n",
       "      <td>0</td>\n",
       "      <td>1</td>\n",
       "      <td>0</td>\n",
       "      <td>0</td>\n",
       "      <td>0</td>\n",
       "      <td>1</td>\n",
       "      <td>1</td>\n",
       "      <td>0</td>\n",
       "      <td>0</td>\n",
       "    </tr>\n",
       "    <tr>\n",
       "      <th>3</th>\n",
       "      <td>0</td>\n",
       "      <td>1</td>\n",
       "      <td>0.0</td>\n",
       "      <td>0</td>\n",
       "      <td>0</td>\n",
       "      <td>0</td>\n",
       "      <td>0</td>\n",
       "      <td>0</td>\n",
       "      <td>0</td>\n",
       "      <td>75.0</td>\n",
       "      <td>...</td>\n",
       "      <td>1</td>\n",
       "      <td>0</td>\n",
       "      <td>0</td>\n",
       "      <td>1</td>\n",
       "      <td>0</td>\n",
       "      <td>0</td>\n",
       "      <td>1</td>\n",
       "      <td>1</td>\n",
       "      <td>0</td>\n",
       "      <td>0</td>\n",
       "    </tr>\n",
       "    <tr>\n",
       "      <th>4</th>\n",
       "      <td>0</td>\n",
       "      <td>2</td>\n",
       "      <td>0.0</td>\n",
       "      <td>0</td>\n",
       "      <td>0</td>\n",
       "      <td>0</td>\n",
       "      <td>0</td>\n",
       "      <td>0</td>\n",
       "      <td>0</td>\n",
       "      <td>98.0</td>\n",
       "      <td>...</td>\n",
       "      <td>1</td>\n",
       "      <td>0</td>\n",
       "      <td>0</td>\n",
       "      <td>0</td>\n",
       "      <td>1</td>\n",
       "      <td>0</td>\n",
       "      <td>1</td>\n",
       "      <td>1</td>\n",
       "      <td>0</td>\n",
       "      <td>0</td>\n",
       "    </tr>\n",
       "  </tbody>\n",
       "</table>\n",
       "<p>5 rows × 58 columns</p>\n",
       "</div>"
      ],
      "text/plain": [
       "   IsCanceled  Adults  Children  Babies  IsRepeatedGuest  \\\n",
       "0           0       2       0.0       0                0   \n",
       "1           0       2       0.0       0                0   \n",
       "2           0       1       0.0       0                0   \n",
       "3           0       1       0.0       0                0   \n",
       "4           0       2       0.0       0                0   \n",
       "\n",
       "   PreviousCancellations  PreviousBookingsNotCanceled  BookingChanges  \\\n",
       "0                      0                            0               3   \n",
       "1                      0                            0               4   \n",
       "2                      0                            0               0   \n",
       "3                      0                            0               0   \n",
       "4                      0                            0               0   \n",
       "\n",
       "   DaysInWaitingList   ADR  ...  DepositType_No Deposit       \\\n",
       "0                  0   0.0  ...                            1   \n",
       "1                  0   0.0  ...                            1   \n",
       "2                  0  75.0  ...                            1   \n",
       "3                  0  75.0  ...                            1   \n",
       "4                  0  98.0  ...                            1   \n",
       "\n",
       "   DepositType_Refundable       Agent_       NULL  Agent_Rare  \\\n",
       "0                            0                  1           0   \n",
       "1                            0                  1           0   \n",
       "2                            0                  1           0   \n",
       "3                            0                  0           1   \n",
       "4                            0                  0           0   \n",
       "\n",
       "   Agent_        240  Agent_          9  Company_       NULL  \\\n",
       "0                  0                  0                    1   \n",
       "1                  0                  0                    1   \n",
       "2                  0                  0                    1   \n",
       "3                  0                  0                    1   \n",
       "4                  1                  0                    1   \n",
       "\n",
       "   CustomerType_Transient  CustomerType_Contract  CustomerType_Transient-Party  \n",
       "0                       1                      0                             0  \n",
       "1                       1                      0                             0  \n",
       "2                       1                      0                             0  \n",
       "3                       1                      0                             0  \n",
       "4                       1                      0                             0  \n",
       "\n",
       "[5 rows x 58 columns]"
      ]
     },
     "execution_count": 12,
     "metadata": {},
     "output_type": "execute_result"
    }
   ],
   "source": [
    "ohe = OneHotEncoder(drop_last = True)\n",
    "\n",
    "data = ohe.fit_transform(data)\n",
    "\n",
    "data.head()"
   ]
  },
  {
   "cell_type": "markdown",
   "id": "e256df15-ad01-48bc-99fb-ccbd5a6e1d6d",
   "metadata": {},
   "source": [
    "# Outlier Removal"
   ]
  },
  {
   "cell_type": "code",
   "execution_count": 13,
   "id": "32dd081c-08ed-4a4b-9003-8271ee13a33e",
   "metadata": {
    "execution": {
     "iopub.execute_input": "2024-04-01T18:57:03.988915Z",
     "iopub.status.busy": "2024-04-01T18:57:03.988915Z",
     "iopub.status.idle": "2024-04-01T18:57:05.460953Z",
     "shell.execute_reply": "2024-04-01T18:57:05.460953Z",
     "shell.execute_reply.started": "2024-04-01T18:57:03.988915Z"
    }
   },
   "outputs": [
    {
     "data": {
      "text/html": [
       "<div>\n",
       "<style scoped>\n",
       "    .dataframe tbody tr th:only-of-type {\n",
       "        vertical-align: middle;\n",
       "    }\n",
       "\n",
       "    .dataframe tbody tr th {\n",
       "        vertical-align: top;\n",
       "    }\n",
       "\n",
       "    .dataframe thead th {\n",
       "        text-align: right;\n",
       "    }\n",
       "</style>\n",
       "<table border=\"1\" class=\"dataframe\">\n",
       "  <thead>\n",
       "    <tr style=\"text-align: right;\">\n",
       "      <th></th>\n",
       "      <th>IsCanceled</th>\n",
       "      <th>Adults</th>\n",
       "      <th>Children</th>\n",
       "      <th>Babies</th>\n",
       "      <th>IsRepeatedGuest</th>\n",
       "      <th>PreviousCancellations</th>\n",
       "      <th>PreviousBookingsNotCanceled</th>\n",
       "      <th>BookingChanges</th>\n",
       "      <th>DaysInWaitingList</th>\n",
       "      <th>ADR</th>\n",
       "      <th>...</th>\n",
       "      <th>DepositType_No Deposit</th>\n",
       "      <th>DepositType_Refundable</th>\n",
       "      <th>Agent_       NULL</th>\n",
       "      <th>Agent_Rare</th>\n",
       "      <th>Agent_        240</th>\n",
       "      <th>Agent_          9</th>\n",
       "      <th>Company_       NULL</th>\n",
       "      <th>CustomerType_Transient</th>\n",
       "      <th>CustomerType_Contract</th>\n",
       "      <th>CustomerType_Transient-Party</th>\n",
       "    </tr>\n",
       "  </thead>\n",
       "  <tbody>\n",
       "    <tr>\n",
       "      <th>2</th>\n",
       "      <td>0</td>\n",
       "      <td>1</td>\n",
       "      <td>0.0</td>\n",
       "      <td>0</td>\n",
       "      <td>0</td>\n",
       "      <td>0</td>\n",
       "      <td>0</td>\n",
       "      <td>0</td>\n",
       "      <td>0</td>\n",
       "      <td>75.0</td>\n",
       "      <td>...</td>\n",
       "      <td>1</td>\n",
       "      <td>0</td>\n",
       "      <td>1</td>\n",
       "      <td>0</td>\n",
       "      <td>0</td>\n",
       "      <td>0</td>\n",
       "      <td>1</td>\n",
       "      <td>1</td>\n",
       "      <td>0</td>\n",
       "      <td>0</td>\n",
       "    </tr>\n",
       "    <tr>\n",
       "      <th>4</th>\n",
       "      <td>0</td>\n",
       "      <td>2</td>\n",
       "      <td>0.0</td>\n",
       "      <td>0</td>\n",
       "      <td>0</td>\n",
       "      <td>0</td>\n",
       "      <td>0</td>\n",
       "      <td>0</td>\n",
       "      <td>0</td>\n",
       "      <td>98.0</td>\n",
       "      <td>...</td>\n",
       "      <td>1</td>\n",
       "      <td>0</td>\n",
       "      <td>0</td>\n",
       "      <td>0</td>\n",
       "      <td>1</td>\n",
       "      <td>0</td>\n",
       "      <td>1</td>\n",
       "      <td>1</td>\n",
       "      <td>0</td>\n",
       "      <td>0</td>\n",
       "    </tr>\n",
       "    <tr>\n",
       "      <th>5</th>\n",
       "      <td>0</td>\n",
       "      <td>2</td>\n",
       "      <td>0.0</td>\n",
       "      <td>0</td>\n",
       "      <td>0</td>\n",
       "      <td>0</td>\n",
       "      <td>0</td>\n",
       "      <td>0</td>\n",
       "      <td>0</td>\n",
       "      <td>98.0</td>\n",
       "      <td>...</td>\n",
       "      <td>1</td>\n",
       "      <td>0</td>\n",
       "      <td>0</td>\n",
       "      <td>0</td>\n",
       "      <td>1</td>\n",
       "      <td>0</td>\n",
       "      <td>1</td>\n",
       "      <td>1</td>\n",
       "      <td>0</td>\n",
       "      <td>0</td>\n",
       "    </tr>\n",
       "    <tr>\n",
       "      <th>8</th>\n",
       "      <td>1</td>\n",
       "      <td>2</td>\n",
       "      <td>0.0</td>\n",
       "      <td>0</td>\n",
       "      <td>0</td>\n",
       "      <td>0</td>\n",
       "      <td>0</td>\n",
       "      <td>0</td>\n",
       "      <td>0</td>\n",
       "      <td>82.0</td>\n",
       "      <td>...</td>\n",
       "      <td>1</td>\n",
       "      <td>0</td>\n",
       "      <td>0</td>\n",
       "      <td>0</td>\n",
       "      <td>1</td>\n",
       "      <td>0</td>\n",
       "      <td>1</td>\n",
       "      <td>1</td>\n",
       "      <td>0</td>\n",
       "      <td>0</td>\n",
       "    </tr>\n",
       "    <tr>\n",
       "      <th>9</th>\n",
       "      <td>1</td>\n",
       "      <td>2</td>\n",
       "      <td>0.0</td>\n",
       "      <td>0</td>\n",
       "      <td>0</td>\n",
       "      <td>0</td>\n",
       "      <td>0</td>\n",
       "      <td>0</td>\n",
       "      <td>0</td>\n",
       "      <td>105.5</td>\n",
       "      <td>...</td>\n",
       "      <td>1</td>\n",
       "      <td>0</td>\n",
       "      <td>0</td>\n",
       "      <td>1</td>\n",
       "      <td>0</td>\n",
       "      <td>0</td>\n",
       "      <td>1</td>\n",
       "      <td>1</td>\n",
       "      <td>0</td>\n",
       "      <td>0</td>\n",
       "    </tr>\n",
       "  </tbody>\n",
       "</table>\n",
       "<p>5 rows × 58 columns</p>\n",
       "</div>"
      ],
      "text/plain": [
       "   IsCanceled  Adults  Children  Babies  IsRepeatedGuest  \\\n",
       "2           0       1       0.0       0                0   \n",
       "4           0       2       0.0       0                0   \n",
       "5           0       2       0.0       0                0   \n",
       "8           1       2       0.0       0                0   \n",
       "9           1       2       0.0       0                0   \n",
       "\n",
       "   PreviousCancellations  PreviousBookingsNotCanceled  BookingChanges  \\\n",
       "2                      0                            0               0   \n",
       "4                      0                            0               0   \n",
       "5                      0                            0               0   \n",
       "8                      0                            0               0   \n",
       "9                      0                            0               0   \n",
       "\n",
       "   DaysInWaitingList    ADR  ...  DepositType_No Deposit       \\\n",
       "2                  0   75.0  ...                            1   \n",
       "4                  0   98.0  ...                            1   \n",
       "5                  0   98.0  ...                            1   \n",
       "8                  0   82.0  ...                            1   \n",
       "9                  0  105.5  ...                            1   \n",
       "\n",
       "   DepositType_Refundable       Agent_       NULL  Agent_Rare  \\\n",
       "2                            0                  1           0   \n",
       "4                            0                  0           0   \n",
       "5                            0                  0           0   \n",
       "8                            0                  0           0   \n",
       "9                            0                  0           1   \n",
       "\n",
       "   Agent_        240  Agent_          9  Company_       NULL  \\\n",
       "2                  0                  0                    1   \n",
       "4                  1                  0                    1   \n",
       "5                  1                  0                    1   \n",
       "8                  1                  0                    1   \n",
       "9                  0                  0                    1   \n",
       "\n",
       "   CustomerType_Transient  CustomerType_Contract  CustomerType_Transient-Party  \n",
       "2                       1                      0                             0  \n",
       "4                       1                      0                             0  \n",
       "5                       1                      0                             0  \n",
       "8                       1                      0                             0  \n",
       "9                       1                      0                             0  \n",
       "\n",
       "[5 rows x 58 columns]"
      ]
     },
     "execution_count": 13,
     "metadata": {},
     "output_type": "execute_result"
    }
   ],
   "source": [
    "olt = OutlierTrimmer(capping_method='gaussian', tail = 'both')\n",
    "\n",
    "data_no_outliers = olt.fit_transform(data)\n",
    "data_no_outliers.head()"
   ]
  },
  {
   "cell_type": "code",
   "execution_count": 14,
   "id": "7741e2ca-3f72-4dcb-97f6-90d326c9d602",
   "metadata": {
    "execution": {
     "iopub.execute_input": "2024-04-01T18:57:05.461960Z",
     "iopub.status.busy": "2024-04-01T18:57:05.461960Z",
     "iopub.status.idle": "2024-04-01T18:57:05.469623Z",
     "shell.execute_reply": "2024-04-01T18:57:05.469623Z",
     "shell.execute_reply.started": "2024-04-01T18:57:05.461960Z"
    }
   },
   "outputs": [
    {
     "data": {
      "text/plain": [
       "62812"
      ]
     },
     "execution_count": 14,
     "metadata": {},
     "output_type": "execute_result"
    }
   ],
   "source": [
    "data_no_outliers.shape[0]"
   ]
  },
  {
   "cell_type": "code",
   "execution_count": 15,
   "id": "d5effabd-fd99-4fd7-8d17-38de38984a5d",
   "metadata": {
    "execution": {
     "iopub.execute_input": "2024-04-01T18:57:05.469623Z",
     "iopub.status.busy": "2024-04-01T18:57:05.469623Z",
     "iopub.status.idle": "2024-04-01T18:57:05.481160Z",
     "shell.execute_reply": "2024-04-01T18:57:05.481160Z",
     "shell.execute_reply.started": "2024-04-01T18:57:05.469623Z"
    }
   },
   "outputs": [
    {
     "data": {
      "text/plain": [
       "56578"
      ]
     },
     "execution_count": 15,
     "metadata": {},
     "output_type": "execute_result"
    }
   ],
   "source": [
    "initial_size[0] - data_no_outliers.shape[0]"
   ]
  },
  {
   "cell_type": "code",
   "execution_count": 16,
   "id": "a43c1c5d-389f-43cf-81ff-c0a9199ea09b",
   "metadata": {
    "execution": {
     "iopub.execute_input": "2024-04-01T18:57:05.481160Z",
     "iopub.status.busy": "2024-04-01T18:57:05.481160Z",
     "iopub.status.idle": "2024-04-01T18:57:05.492893Z",
     "shell.execute_reply": "2024-04-01T18:57:05.492893Z",
     "shell.execute_reply.started": "2024-04-01T18:57:05.481160Z"
    }
   },
   "outputs": [
    {
     "data": {
      "text/plain": [
       "0.47"
      ]
     },
     "execution_count": 16,
     "metadata": {},
     "output_type": "execute_result"
    }
   ],
   "source": [
    "round(1- (data_no_outliers.shape[0]/initial_size[0]), 2)"
   ]
  },
  {
   "cell_type": "code",
   "execution_count": null,
   "id": "53fe735d-0313-4961-97ee-3cd6a1c8bc53",
   "metadata": {},
   "outputs": [],
   "source": []
  }
 ],
 "metadata": {
  "kernelspec": {
   "display_name": "Python (dojo-env)",
   "language": "python",
   "name": "dojo-env"
  },
  "language_info": {
   "codemirror_mode": {
    "name": "ipython",
    "version": 3
   },
   "file_extension": ".py",
   "mimetype": "text/x-python",
   "name": "python",
   "nbconvert_exporter": "python",
   "pygments_lexer": "ipython3",
   "version": "3.10.14"
  },
  "widgets": {
   "application/vnd.jupyter.widget-state+json": {
    "state": {},
    "version_major": 2,
    "version_minor": 0
   }
  }
 },
 "nbformat": 4,
 "nbformat_minor": 5
}
