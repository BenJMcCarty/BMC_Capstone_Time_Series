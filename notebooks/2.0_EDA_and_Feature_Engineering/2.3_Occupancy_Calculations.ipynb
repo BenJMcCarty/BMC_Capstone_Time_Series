{
 "cells": [
  {
   "attachments": {},
   "cell_type": "markdown",
   "id": "159c76d5-d81b-4c08-9c0b-355a457e4a44",
   "metadata": {},
   "source": [
    "# Calculating Hotel Occupancy\n",
    "\n",
    "---\n",
    "\n",
    "> Hotel occupancy is a critical factor during the booking process and can provide additional insight into the likelihood of cancellations and/or forecasting future ADR.\n",
    "> \n",
    "> However, *there's no clear indication of the total number of guest rooms for either hotel.*\n",
    ">\n",
    "> \n",
    "> I will determine the maximum number of rooms occupied for each date for each hotel, which can be used as a placeholder max occupancy number.\n",
    "\n",
    "---"
   ]
  },
  {
   "cell_type": "markdown",
   "id": "16cfc56c-5347-412f-959e-5052dd3a93b6",
   "metadata": {},
   "source": [
    "# Import Packages and Read Data"
   ]
  },
  {
   "cell_type": "code",
   "execution_count": null,
   "id": "2d4d95de-b556-4496-8877-47ad4d937c46",
   "metadata": {
    "execution": {
     "iopub.execute_input": "2024-04-09T23:55:40.499254Z",
     "iopub.status.busy": "2024-04-09T23:55:40.499254Z",
     "iopub.status.idle": "2024-04-09T23:55:40.546515Z",
     "shell.execute_reply": "2024-04-09T23:55:40.546515Z",
     "shell.execute_reply.started": "2024-04-09T23:55:40.499254Z"
    }
   },
   "outputs": [],
   "source": [
    "## Used to upload \n",
    "%load_ext autoreload\n",
    "%autoreload 2"
   ]
  },
  {
   "cell_type": "code",
   "execution_count": null,
   "id": "d5b0bba3-31a4-4802-b6ca-dac5437c0d5c",
   "metadata": {
    "execution": {
     "iopub.execute_input": "2024-04-09T23:55:40.547425Z",
     "iopub.status.busy": "2024-04-09T23:55:40.547425Z",
     "iopub.status.idle": "2024-04-09T23:55:42.268103Z",
     "shell.execute_reply": "2024-04-09T23:55:42.268103Z",
     "shell.execute_reply.started": "2024-04-09T23:55:40.547425Z"
    }
   },
   "outputs": [],
   "source": [
    "## Enabling access to custom functions in separate directory\n",
    "\n",
    "# Import necessary modules\n",
    "import os\n",
    "import sys\n",
    "\n",
    "# Construct the absolute path to the 'src' directory\n",
    "src_path = os.path.abspath(os.path.join('..', 'src'))\n",
    "\n",
    "# Append the path to 'sys.path'\n",
    "if src_path not in sys.path:\n",
    "    sys.path.append(src_path)\n",
    "\n",
    "import db_utils, eda\n",
    "\n",
    "## Data Handling\n",
    "import pandas as pd\n",
    "import numpy as np\n",
    "\n",
    "import datetime as dt\n",
    "\n",
    "## Visualizations\n",
    "import matplotlib.pyplot as plt\n",
    "# import plotly.express as px\n",
    "# import seaborn as sns\n",
    "import sweetviz as sv\n",
    "\n",
    "## Settings\n",
    "pd.set_option('display.max_columns', None)\n",
    "pd.set_option('display.float_format', lambda x: f'{x:,.2f}')\n",
    "pd.set_option('display.max_rows', 50)\n",
    "%matplotlib inline"
   ]
  },
  {
   "cell_type": "markdown",
   "id": "9d758672-07dd-4219-9354-fe3e52327ddc",
   "metadata": {},
   "source": [
    "## Load Pre-Reviewed Data"
   ]
  },
  {
   "cell_type": "code",
   "execution_count": null,
   "id": "7b839a25-9b1d-4881-b45c-a819c57ee702",
   "metadata": {
    "execution": {
     "iopub.execute_input": "2024-04-09T23:55:42.268103Z",
     "iopub.status.busy": "2024-04-09T23:55:42.268103Z",
     "iopub.status.idle": "2024-04-09T23:55:42.410693Z",
     "shell.execute_reply": "2024-04-09T23:55:42.409686Z",
     "shell.execute_reply.started": "2024-04-09T23:55:42.268103Z"
    },
    "scrolled": true
   },
   "outputs": [],
   "source": [
    "data_path = '../data/data_post_eda.feather'\n",
    "df_data = pd.read_feather(data_path)\n",
    "df_data.head()"
   ]
  },
  {
   "cell_type": "markdown",
   "id": "c3f2ee19-c13f-4ef6-8a01-f09c50fa3e78",
   "metadata": {},
   "source": [
    "# Feature Engineering Based on Dates\n",
    "\n",
    "---\n",
    "\n",
    "* Reminder: moved most of the temporal feature engineering to an earlier notebook in this workflow.\n",
    "\n",
    "---"
   ]
  },
  {
   "cell_type": "code",
   "execution_count": null,
   "id": "8003ee9a-e515-4879-964d-e98476f53b70",
   "metadata": {
    "execution": {
     "iopub.execute_input": "2024-04-09T23:55:42.411625Z",
     "iopub.status.busy": "2024-04-09T23:55:42.411625Z",
     "iopub.status.idle": "2024-04-09T23:55:49.272688Z",
     "shell.execute_reply": "2024-04-09T23:55:49.271700Z",
     "shell.execute_reply.started": "2024-04-09T23:55:42.411625Z"
    }
   },
   "outputs": [],
   "source": [
    "## Generate and display Sweetviz EDA report for Hotel 1\n",
    "hotel = 1\n",
    "hotel_filter = (df_data['HotelNumber'] == hotel)\n",
    "\n",
    "report = sv.analyze(df_data[hotel_filter],pairwise_analysis = 'off')\n",
    "report.show_notebook()"
   ]
  },
  {
   "cell_type": "code",
   "execution_count": null,
   "id": "9b425b83-31a9-4557-984f-ee96f335415a",
   "metadata": {
    "execution": {
     "iopub.execute_input": "2024-04-09T23:55:49.273689Z",
     "iopub.status.busy": "2024-04-09T23:55:49.273689Z",
     "iopub.status.idle": "2024-04-09T23:55:56.936291Z",
     "shell.execute_reply": "2024-04-09T23:55:56.934583Z",
     "shell.execute_reply.started": "2024-04-09T23:55:49.273689Z"
    }
   },
   "outputs": [],
   "source": [
    "## Generate and display Sweetviz EDA report for Hotel 1\n",
    "hotel = 2\n",
    "hotel_filter = (df_data['HotelNumber'] == hotel)\n",
    "\n",
    "report = sv.analyze(df_data[hotel_filter],pairwise_analysis = 'off')\n",
    "report.show_notebook()"
   ]
  },
  {
   "cell_type": "markdown",
   "id": "fba5009c-f366-445b-bb24-88a63ec75399",
   "metadata": {},
   "source": [
    "# Calculate Daily Occupancies"
   ]
  },
  {
   "cell_type": "markdown",
   "id": "ae3bde11-f75d-447b-837d-d101e2df237a",
   "metadata": {},
   "source": [
    "# Hotel 1"
   ]
  },
  {
   "cell_type": "code",
   "execution_count": null,
   "id": "c61e8acd-840a-4ce3-a14a-5a0e67bba28d",
   "metadata": {
    "execution": {
     "iopub.execute_input": "2024-04-09T23:56:36.517584Z",
     "iopub.status.busy": "2024-04-09T23:56:36.516583Z",
     "iopub.status.idle": "2024-04-09T23:56:36.631201Z",
     "shell.execute_reply": "2024-04-09T23:56:36.630264Z",
     "shell.execute_reply.started": "2024-04-09T23:56:36.517584Z"
    }
   },
   "outputs": [],
   "source": [
    "hotel = 1\n",
    "\n",
    "hotel_filter = (df_data['HotelNumber'] == hotel)\n",
    "\n",
    "df_data = df_data[hotel_filter]\n",
    "\n",
    "df_data"
   ]
  },
  {
   "cell_type": "code",
   "execution_count": null,
   "id": "d5aa4dea-b7b2-421f-97cf-6c2fc0f02edc",
   "metadata": {
    "execution": {
     "iopub.execute_input": "2024-04-09T23:56:53.830952Z",
     "iopub.status.busy": "2024-04-09T23:56:53.830952Z",
     "iopub.status.idle": "2024-04-09T23:56:53.965897Z",
     "shell.execute_reply": "2024-04-09T23:56:53.963900Z",
     "shell.execute_reply.started": "2024-04-09T23:56:53.830952Z"
    }
   },
   "outputs": [],
   "source": [
    "min_date = df_data['ArrivalDate'].min()\n",
    "max_date = df_data['DepartureDate'].max()\n",
    "\n",
    "print(f'The earliest date is: {min_date}.\\nThe latest date is: {max_date}.')"
   ]
  },
  {
   "cell_type": "markdown",
   "id": "0d7dd452-eb26-4aba-8e74-54a0480b67b3",
   "metadata": {},
   "source": [
    "### ChatGPT-Generated Code"
   ]
  },
  {
   "cell_type": "markdown",
   "id": "00a843fd-4a89-4265-97aa-fbb31a9ec578",
   "metadata": {
    "jp-MarkdownHeadingCollapsed": true
   },
   "source": [
    "#### Walkthrough of Code Below"
   ]
  },
  {
   "cell_type": "markdown",
   "id": "7fb890d4-360e-42b7-bd9e-cfbe35ae45a7",
   "metadata": {
    "jp-MarkdownHeadingCollapsed": true
   },
   "source": [
    "Certainly! Let's break down the corrected code into its key steps, explaining each part and its purpose in calculating the number of active hotel reservations for each date:\n",
    "\n",
    "**1. Sample Data Creation**\n",
    "\n",
    "```python\n",
    "df_data = pd.DataFrame({\n",
    "    'Arrival_Date': ['2023-01-01', '2023-01-02', '2023-01-05', '2023-01-05'],\n",
    "    'Departure_Date': ['2023-01-04', '2023-01-03', '2023-01-06', '2023-01-07']\n",
    "})\n",
    "```\n",
    "- This step initializes `df_data`, a pandas DataFrame with two columns: `Arrival_Date` and `Departure_Date`. Each row represents a reservation with its arrival and departure dates.\n",
    "\n",
    "**2. Convert Dates to Datetime Format**\n",
    "\n",
    "```python\n",
    "df_data['Arrival_Date'] = pd.to_datetime(df_data['Arrival_Date'])\n",
    "df_data['Departure_Date'] = pd.to_datetime(df_data['Departure_Date'])\n",
    "```\n",
    "- Converts the date columns from strings (or any other format they might be in) to pandas datetime objects, allowing for date arithmetic and other time-series operations.\n",
    "\n",
    "**3. Generate Counts for Arrivals and Departures**\n",
    "\n",
    "```python\n",
    "arrivals = df_data['Arrival_Date'].value_counts().rename('count')\n",
    "departures = df_data['Departure_Date'].value_counts().rename('count')\n",
    "```\n",
    "- Counts how many reservations start (`arrivals`) and end (`departures`) on each date. The `value_counts()` method tallies occurrences of each date, and `rename('count')` changes the Series name to `'count'`, which aids in clarity for later operations.\n",
    "\n",
    "**4. Combine Arrival and Departure Counts**\n",
    "\n",
    "```python\n",
    "df_counts = pd.concat([arrivals, -departures]).sort_index().reset_index()\n",
    "df_counts.columns = ['Date', 'Count']\n",
    "```\n",
    "- Combines the arrivals and departures into a single DataFrame, `df_counts`, with arrivals contributing positively to the count and departures negatively (indicating the end of a reservation). The data is then sorted by date.\n",
    "\n",
    "**5. Aggregate Counts on the Same Date**\n",
    "\n",
    "```python\n",
    "df_counts = df_counts.groupby('Date').sum()\n",
    "```\n",
    "- Since the combination of arrivals and departures could result in multiple entries for the same date, this step aggregates (sums) all counts for each date. This ensures each date is unique, addressing the initial issue of duplicate labels.\n",
    "\n",
    "**6. Generate a Complete Date Range and Reindex**\n",
    "\n",
    "```python\n",
    "date_range = pd.date_range(start=df_counts.index.min(), end=df_counts.index.max())\n",
    "df_counts = df_counts.reindex(date_range, fill_value=0)\n",
    "```\n",
    "- Creates a continuous range of dates covering the entire period from the earliest to the latest date in `df_counts`. It then reindexes `df_counts` to include every date in this range, filling any dates without data with `0`, ensuring there's a record for every single day in the period.\n",
    "\n",
    "**7. Calculate Cumulative Sum for Active Reservations**\n",
    "\n",
    "```python\n",
    "df_counts['Active_Reservations'] = df_counts['Count'].cumsum()\n",
    "```\n",
    "- Computes the cumulative sum of the daily net reservation counts (`Count`). This step effectively calculates the total number of active reservations for each date by adding up the arrivals and subtracting the departures as they occur over time.\n",
    "\n",
    "**Conclusion**\n",
    "\n",
    "- The final output, `df_counts['Active_Reservations']`, shows the total number of active reservations for each date in the range. This method is efficient and avoids the problem of duplicate labels by ensuring that each date is unique before the reindexing step, leveraging pandas' capabilities for handling time series data."
   ]
  },
  {
   "cell_type": "markdown",
   "id": "03a1d928-4484-4f0c-8924-27177ed4c394",
   "metadata": {},
   "source": [
    "### Code"
   ]
  },
  {
   "cell_type": "code",
   "execution_count": null,
   "id": "cf9499ca-c081-498a-a878-30e7df40b701",
   "metadata": {
    "execution": {
     "iopub.execute_input": "2024-04-09T23:54:45.107225Z",
     "iopub.status.busy": "2024-04-09T23:54:45.107225Z",
     "iopub.status.idle": "2024-04-09T23:54:45.360202Z",
     "shell.execute_reply": "2024-04-09T23:54:45.359198Z",
     "shell.execute_reply.started": "2024-04-09T23:54:45.107225Z"
    }
   },
   "outputs": [],
   "source": [
    "# Generate counts for arrivals and departures on their respective dates\n",
    "arrivals = df_data['Arrival_Date'].value_counts().rename('count')\n",
    "departures = df_data['Departure_Date'].value_counts().rename('count')\n",
    "arrivals.head(), departures.head()"
   ]
  },
  {
   "cell_type": "code",
   "execution_count": null,
   "id": "f56603dc-5e6c-4dc8-b667-7e5c6491656e",
   "metadata": {
    "execution": {
     "iopub.execute_input": "2024-04-09T23:54:45.468631Z",
     "iopub.status.busy": "2024-04-09T23:54:45.467635Z",
     "iopub.status.idle": "2024-04-09T23:54:45.495917Z",
     "shell.execute_reply": "2024-04-09T23:54:45.494914Z",
     "shell.execute_reply.started": "2024-04-09T23:54:45.468631Z"
    }
   },
   "outputs": [],
   "source": [
    "# Create a DataFrame from arrivals and departures, marking departures as negative\n",
    "df_counts = pd.concat([arrivals, -departures]).sort_index().reset_index()\n",
    "df_counts.columns = ['Date', 'Count']\n",
    "df_counts"
   ]
  },
  {
   "cell_type": "code",
   "execution_count": null,
   "id": "52c4fbff-d2aa-4081-9cb3-073eca9e6cfe",
   "metadata": {
    "execution": {
     "iopub.execute_input": "2024-04-09T23:54:45.754772Z",
     "iopub.status.busy": "2024-04-09T23:54:45.754772Z",
     "iopub.status.idle": "2024-04-09T23:54:45.773785Z",
     "shell.execute_reply": "2024-04-09T23:54:45.772778Z",
     "shell.execute_reply.started": "2024-04-09T23:54:45.754772Z"
    }
   },
   "outputs": [],
   "source": [
    "# Aggregate counts on the same date to avoid duplicate labels\n",
    "df_counts = df_counts.groupby('Date').sum()\n",
    "df_counts"
   ]
  },
  {
   "cell_type": "code",
   "execution_count": null,
   "id": "263128a7-e4d6-451e-b411-c5d3e8f26cdb",
   "metadata": {},
   "outputs": [],
   "source": [
    "# Generate a complete date range covering the period in df_data\n",
    "date_range = pd.date_range(start=df_counts.index.min(), end=df_counts.index.max())\n",
    "date_range"
   ]
  },
  {
   "cell_type": "code",
   "execution_count": null,
   "id": "f5861b70-cfab-4c1a-b772-776c076cf995",
   "metadata": {},
   "outputs": [],
   "source": [
    "# Reindex the aggregated count DataFrame to include all dates in the range, filling missing dates with 0\n",
    "df_counts = df_counts.reindex(date_range, fill_value=0)\n",
    "df_counts"
   ]
  },
  {
   "cell_type": "code",
   "execution_count": null,
   "id": "7d99290f-975c-4f0c-b88a-418e930f09e5",
   "metadata": {
    "scrolled": true
   },
   "outputs": [],
   "source": [
    "# Calculate the cumulative sum to determine active reservations for each date\n",
    "df_counts['Active_Reservations'] = df_counts['Count'].cumsum()\n",
    "\n",
    "df_counts['Active_Reservations']"
   ]
  },
  {
   "cell_type": "markdown",
   "id": "03fd130f-0cac-4145-980a-cc424ae0f440",
   "metadata": {},
   "source": [
    "#### Groupby.Sum vs. Cumsum"
   ]
  },
  {
   "cell_type": "markdown",
   "id": "087c1f3c-c711-4359-830e-c10382a919d9",
   "metadata": {
    "execution": {
     "iopub.execute_input": "2024-03-22T00:46:32.242561Z",
     "iopub.status.busy": "2024-03-22T00:46:32.241561Z",
     "iopub.status.idle": "2024-03-22T00:46:32.384609Z",
     "shell.execute_reply": "2024-03-22T00:46:32.384609Z",
     "shell.execute_reply.started": "2024-03-22T00:46:32.242561Z"
    }
   },
   "source": [
    "The use of both `groupby().sum()` and the `cumsum()` methods serves two different purposes in the process of calculating the total number of active reservations for each date. Here's a clarification of the roles each step plays in the computation:\n",
    "\n",
    "**1. GroupBy().sum()**\n",
    "\n",
    "- **Purpose:** This step aggregates the daily net changes in reservations (arrivals and departures) for each unique date. Since arrivals are counted positively and departures negatively, the sum for each date tells us the net reservation change on that day. \n",
    "- **What It Solves:** If, for instance, 5 reservations start (arrive) and 3 end (depart) on a particular date, the net change in reservations for that day would be +2. This calculation consolidates all changes into a single value per date, ensuring there's no duplication of dates in the dataset, which is necessary for the next steps.\n",
    "\n",
    "**2. cumsum()**\n",
    "\n",
    "- **Purpose:** The cumulative sum (`cumsum()`) takes these daily net changes and accumulates them over the entire period to calculate the total number of active reservations for each date. It essentially adds up the net changes from the start date, rolling forward, to show how many reservations are active on any given day.\n",
    "- **What It Solves:** This step provides the running total of active reservations. It accounts for the ongoing balance of reservations as they begin and end over time, showing the total active reservations on each date. This is crucial for understanding the capacity or occupancy on any given day.\n",
    "\n",
    "**Illustrative Example:**\n",
    "\n",
    "Let's say you have data for three days:\n",
    "\n",
    "- **Day 1:** 5 arrivals, 0 departures (net +5)\n",
    "- **Day 2:** 3 arrivals, 1 departure (net +2)\n",
    "- **Day 3:** 2 arrivals, 4 departures (net -2)\n",
    "\n",
    "After `groupby().sum()`, you'd have a net change sequence of [+5, +2, -2].\n",
    "\n",
    "Applying `cumsum()` to this sequence gives you the total active reservations for each day: [5, 7, 5]. This demonstrates how the occupancy evolves:\n",
    "\n",
    "- **Day 1:** Starts with 5,\n",
    "- **Day 2:** Increases to 7,\n",
    "- **Day 3:** Decreases back to 5.\n",
    "\n",
    "**Conclusion:**\n",
    "\n",
    "- **`groupby().sum()`** is used for condensing the dataset into a form where each date has a single net change value, resolving any issues with duplicate dates.\n",
    "- **`cumsum()`** transforms these net changes into a running total of active reservations, reflecting how the number of active reservations builds up or reduces over time."
   ]
  },
  {
   "cell_type": "markdown",
   "id": "0055085a-f036-4227-b778-25be9c50b8b8",
   "metadata": {},
   "source": [
    "## Adding Arrival/Departure Occupancies to Original Data"
   ]
  },
  {
   "cell_type": "code",
   "execution_count": null,
   "id": "b9137128-eb25-439e-a2fe-af13eccd826a",
   "metadata": {},
   "outputs": [],
   "source": [
    "df_counts['Active_Reservations'].head(10)"
   ]
  },
  {
   "cell_type": "code",
   "execution_count": null,
   "id": "e189dd10-d442-4c15-8e36-eb8ba762d635",
   "metadata": {},
   "outputs": [],
   "source": [
    "# Define active_reservations\n",
    "active_reservations = df_counts['Active_Reservations']\n",
    "\n",
    "# Find the maximum occupancy\n",
    "max_occupancy = active_reservations.max()\n",
    "\n",
    "# Map the occupancy on arrival and departure dates to each reservation\n",
    "df_data['occupancy_at_arrival'] = df_data['Arrival_Date'].map(active_reservations)\n",
    "df_data['occupancy_at_departure'] = df_data['Departure_Date'].map(active_reservations)\n",
    "\n",
    "# Convert these occupancies to percentages of the maximum occupancy\n",
    "df_data['occupancy_pct_at_arrival'] = (df_data['occupancy_at_arrival'] / max_occupancy) * 100\n",
    "df_data['occupancy_pct_at_departure'] = (df_data['occupancy_at_departure'] / max_occupancy) * 100\n",
    "\n",
    "df_data"
   ]
  },
  {
   "cell_type": "code",
   "execution_count": null,
   "id": "fe8de254-6005-4dd6-8d4e-7d12374e8568",
   "metadata": {},
   "outputs": [],
   "source": [
    "df_data.head()"
   ]
  },
  {
   "cell_type": "code",
   "execution_count": null,
   "id": "2f910a3e-b0ca-4c19-80af-77c9f8e53856",
   "metadata": {},
   "outputs": [],
   "source": [
    "df_data[['LeadTime', 'Arrival_Date', 'Departure_Date']]"
   ]
  },
  {
   "cell_type": "code",
   "execution_count": null,
   "id": "581c4804-f0da-44ce-8f25-c977f59eb15e",
   "metadata": {},
   "outputs": [],
   "source": [
    "# ## Used to generate a sub-sample of the dataset for inspection or use with ChatGPT\n",
    "# df_data.loc[:1000,:].to_excel(f'../data/Feature_Engineering/df_data_H{hotel_number}.xlsx', index = False)"
   ]
  },
  {
   "cell_type": "markdown",
   "id": "09050ea0-e351-4898-a4d0-37654a1d8c3a",
   "metadata": {},
   "source": [
    "# Time Series Metrics and Analysis"
   ]
  },
  {
   "cell_type": "code",
   "execution_count": null,
   "id": "0de552d8-656f-448d-90c6-14c5668292c9",
   "metadata": {},
   "outputs": [],
   "source": [
    "# Assume df_data is the DataFrame name, and the data is already sorted by Arrival_Date in ascending order\n",
    "# and that Arrival_Date is in datetime format\n",
    "\n",
    "# Calculate the 7-day rolling average of occupancy_pct_at_arrival\n",
    "df_data['occupancy_pct_at_arrival_7d_avg'] = df_data['occupancy_pct_at_arrival'].rolling(window=7, min_periods=1).mean()\n",
    "\n",
    "# Display the updated DataFrame to verify the calculation\n",
    "df_data[['Arrival_Date', 'occupancy_pct_at_arrival', 'occupancy_pct_at_arrival_7d_avg']].head()\n"
   ]
  },
  {
   "cell_type": "code",
   "execution_count": null,
   "id": "9b26d897-7845-4ccc-99e3-cf5b7aa0cec8",
   "metadata": {},
   "outputs": [],
   "source": [
    "df_data_rollavg = df_data[['Arrival_Date', 'occupancy_pct_at_arrival']].copy()\n",
    "df_data_rollavg"
   ]
  },
  {
   "cell_type": "code",
   "execution_count": null,
   "id": "86bed808-8cbf-4f03-8fcd-d1940b102552",
   "metadata": {},
   "outputs": [],
   "source": [
    "df_data_rollavg = df_data_rollavg.set_index(keys = 'Arrival_Date')\n",
    "df_data_rollavg"
   ]
  },
  {
   "cell_type": "code",
   "execution_count": null,
   "id": "5cf7d48e-5bf1-4164-9004-fd147a844092",
   "metadata": {},
   "outputs": [],
   "source": [
    "df_data_rollavg = df_data_rollavg.resample('D').mean()\n",
    "df_data_rollavg"
   ]
  },
  {
   "cell_type": "code",
   "execution_count": null,
   "id": "841ecb57-caea-4d02-9b81-8792ce06f7ce",
   "metadata": {},
   "outputs": [],
   "source": [
    "df_data_rollavg.index"
   ]
  },
  {
   "cell_type": "code",
   "execution_count": null,
   "id": "5102205b-a8ab-455e-a6b0-9e53fa5bac55",
   "metadata": {},
   "outputs": [],
   "source": [
    "# Assume df_data is the DataFrame name, and the data is already sorted by Arrival_Date in ascending order\n",
    "# and that Arrival_Date is in datetime format\n",
    "\n",
    "# Calculate the 7-day rolling average of occupancy_pct_at_arrival\n",
    "df_data_rollavg['occupancy_pct_at_arrival_3d_avg'] = df_data_rollavg['occupancy_pct_at_arrival'].rolling(window=3, min_periods=1).mean()\n",
    "df_data_rollavg['occupancy_pct_at_arrival_7d_avg'] = df_data_rollavg['occupancy_pct_at_arrival'].rolling(window=7, min_periods=1).mean()\n",
    "df_data_rollavg['occupancy_pct_at_arrival_14d_avg'] = df_data_rollavg['occupancy_pct_at_arrival'].rolling(window=14, min_periods=1).mean()\n",
    "df_data_rollavg['occupancy_pct_at_arrival_28d_avg'] = df_data_rollavg['occupancy_pct_at_arrival'].rolling(window=28, min_periods=1).mean()\n",
    "# df_data_rollavg['occupancy_pct_at_arrival_90d_avg'] = df_data_rollavg['occupancy_pct_at_arrival'].rolling(window=90, min_periods=1).mean()\n",
    "\n",
    "# Display the updated DataFrame to verify the calculation\n",
    "df_data_rollavg.head()"
   ]
  },
  {
   "cell_type": "code",
   "execution_count": null,
   "id": "0ecd0137-a273-458a-b484-8e3c8a6f92e7",
   "metadata": {},
   "outputs": [],
   "source": [
    "# px.line(df_data_rollavg)"
   ]
  },
  {
   "cell_type": "code",
   "execution_count": null,
   "id": "bd32944a-d3c0-4469-9ee7-2d573d69069e",
   "metadata": {},
   "outputs": [],
   "source": [
    "rolling_avg_bookings = df_data_rollavg['occupancy_pct_at_arrival_7d_avg']"
   ]
  },
  {
   "cell_type": "code",
   "execution_count": null,
   "id": "94c74eac-8c7c-4730-a58b-d942ce110f89",
   "metadata": {},
   "outputs": [],
   "source": [
    "# Define high-demand threshold as the 75th percentile of the 7-day rolling average\n",
    "high_demand_threshold = rolling_avg_bookings.quantile(0.75).round(4)\n",
    "high_demand_threshold"
   ]
  },
  {
   "cell_type": "code",
   "execution_count": null,
   "id": "1050e954-f482-4600-a212-e4d127128853",
   "metadata": {},
   "outputs": [],
   "source": [
    "# Identify days that are considered high demand\n",
    "high_demand_days = rolling_avg_bookings[rolling_avg_bookings > high_demand_threshold].index\n",
    "high_demand_days"
   ]
  },
  {
   "cell_type": "code",
   "execution_count": null,
   "id": "c352080c-bfcf-4df6-97fa-2bfee4c0df0a",
   "metadata": {},
   "outputs": [],
   "source": [
    "# Initialize the indicator column with 0 (normal pricing)\n",
    "df_data['Dynamic_Pricing_Indicator'] = 0\n",
    "\n",
    "# For each booking, check if the booking date falls within a high-demand period\n",
    "# Assuming Booking_Date is already in datetime format and corresponds to the date the booking was made\n",
    "for booking_date in df_data['Booking_Date']:\n",
    "    if booking_date in high_demand_days:\n",
    "        df_data.loc[df_data['Booking_Date'] == booking_date, 'Dynamic_Pricing_Indicator'] = 1\n"
   ]
  },
  {
   "cell_type": "code",
   "execution_count": null,
   "id": "038b0833-f448-477e-95e5-b6513acec0f4",
   "metadata": {},
   "outputs": [],
   "source": [
    "df_data.loc[:,'Dynamic_Pricing_Indicator'].value_counts(dropna=0, normalize = 1, ascending=0)"
   ]
  },
  {
   "cell_type": "code",
   "execution_count": null,
   "id": "16a2fdce-2eb8-4ee4-94c8-e134c2fbf61c",
   "metadata": {},
   "outputs": [],
   "source": [
    "df_data.head()"
   ]
  },
  {
   "cell_type": "code",
   "execution_count": null,
   "id": "5670f3b9-c1ba-4cce-b357-1500bc14e699",
   "metadata": {},
   "outputs": [],
   "source": [
    "df_data.to_parquet(f'../data/Datasets_for_{date_column}/Feature_Engineering/H{hotel_number}_T_Date_Features.parquet', engine='pyarrow', compression='snappy')"
   ]
  },
  {
   "cell_type": "code",
   "execution_count": null,
   "id": "28dd5a1d-3033-403d-99e4-1c6630b0853c",
   "metadata": {},
   "outputs": [],
   "source": []
  }
 ],
 "metadata": {
  "kernelspec": {
   "display_name": "Python 3 (ipykernel)",
   "language": "python",
   "name": "python3"
  },
  "language_info": {
   "codemirror_mode": {
    "name": "ipython",
    "version": 3
   },
   "file_extension": ".py",
   "mimetype": "text/x-python",
   "name": "python",
   "nbconvert_exporter": "python",
   "pygments_lexer": "ipython3",
   "version": "3.10.14"
  },
  "widgets": {
   "application/vnd.jupyter.widget-state+json": {
    "state": {
     "027a16905365429da22170baede00079": {
      "model_module": "@jupyter-widgets/controls",
      "model_module_version": "2.0.0",
      "model_name": "HTMLStyleModel",
      "state": {
       "description_width": "",
       "font_size": null,
       "text_color": null
      }
     },
     "12ba2169eff349aea6abb223f1047128": {
      "model_module": "@jupyter-widgets/base",
      "model_module_version": "2.0.0",
      "model_name": "LayoutModel",
      "state": {
       "display": "inline-flex",
       "flex_flow": "row wrap",
       "width": "100%"
      }
     },
     "2219237726af401fa9d56e9529addfb7": {
      "model_module": "@jupyter-widgets/base",
      "model_module_version": "2.0.0",
      "model_name": "LayoutModel",
      "state": {
       "flex": "2"
      }
     },
     "4990f69a656d4d1d92d51574d85f433d": {
      "model_module": "@jupyter-widgets/base",
      "model_module_version": "2.0.0",
      "model_name": "LayoutModel",
      "state": {}
     },
     "5dd319feac1549178ff2ad252ba86438": {
      "model_module": "@jupyter-widgets/base",
      "model_module_version": "2.0.0",
      "model_name": "LayoutModel",
      "state": {
       "display": "inline-flex",
       "flex_flow": "row wrap",
       "width": "100%"
      }
     },
     "609d6fb765634e13a76c41b280a31085": {
      "model_module": "@jupyter-widgets/controls",
      "model_module_version": "2.0.0",
      "model_name": "HBoxModel",
      "state": {
       "children": [
        "IPY_MODEL_6a02cc0c823a4d9bae12bdfc2391ec3a",
        "IPY_MODEL_fc54d0e3ff1a4db3be7c833979cd7f7a",
        "IPY_MODEL_60b6cf5ab8d940ea8ddc0449a79c84e7"
       ],
       "layout": "IPY_MODEL_12ba2169eff349aea6abb223f1047128"
      }
     },
     "60b6cf5ab8d940ea8ddc0449a79c84e7": {
      "model_module": "@jupyter-widgets/controls",
      "model_module_version": "2.0.0",
      "model_name": "HTMLModel",
      "state": {
       "layout": "IPY_MODEL_8f75407624a945bda63974e99ceeaabe",
       "style": "IPY_MODEL_baa0475384ff479faf20defef9f904bc",
       "value": " [100%]   00:06 -&gt; (00:00 left)"
      }
     },
     "62b1fa3a80844566b51a794bf627962d": {
      "model_module": "@jupyter-widgets/base",
      "model_module_version": "2.0.0",
      "model_name": "LayoutModel",
      "state": {}
     },
     "6a02cc0c823a4d9bae12bdfc2391ec3a": {
      "model_module": "@jupyter-widgets/controls",
      "model_module_version": "2.0.0",
      "model_name": "HTMLModel",
      "state": {
       "layout": "IPY_MODEL_4990f69a656d4d1d92d51574d85f433d",
       "style": "IPY_MODEL_ec6aa20b2c7f43e7b84ae6442c871f86",
       "value": "Feature: BookingDate_DayOfWeek               "
      }
     },
     "7dda8e24cc794ab09a3b6c88ca59a7dc": {
      "model_module": "@jupyter-widgets/controls",
      "model_module_version": "2.0.0",
      "model_name": "HTMLModel",
      "state": {
       "layout": "IPY_MODEL_62b1fa3a80844566b51a794bf627962d",
       "style": "IPY_MODEL_027a16905365429da22170baede00079",
       "value": " [100%]   00:07 -&gt; (00:00 left)"
      }
     },
     "803f24ed6d4043fea9ea21a67fb38e3d": {
      "model_module": "@jupyter-widgets/controls",
      "model_module_version": "2.0.0",
      "model_name": "FloatProgressModel",
      "state": {
       "bar_style": "success",
       "layout": "IPY_MODEL_eca46ce06ae34be49d00c0effb732ff6",
       "max": 36,
       "style": "IPY_MODEL_9e53f8cce66e489d831f89ba1f89c74d",
       "value": 36
      }
     },
     "8f75407624a945bda63974e99ceeaabe": {
      "model_module": "@jupyter-widgets/base",
      "model_module_version": "2.0.0",
      "model_name": "LayoutModel",
      "state": {}
     },
     "9e53f8cce66e489d831f89ba1f89c74d": {
      "model_module": "@jupyter-widgets/controls",
      "model_module_version": "2.0.0",
      "model_name": "ProgressStyleModel",
      "state": {
       "description_width": ""
      }
     },
     "ad940962e0f44d849d7936bab6b68e38": {
      "model_module": "@jupyter-widgets/controls",
      "model_module_version": "2.0.0",
      "model_name": "ProgressStyleModel",
      "state": {
       "description_width": ""
      }
     },
     "baa0475384ff479faf20defef9f904bc": {
      "model_module": "@jupyter-widgets/controls",
      "model_module_version": "2.0.0",
      "model_name": "HTMLStyleModel",
      "state": {
       "description_width": "",
       "font_size": null,
       "text_color": null
      }
     },
     "c9b3250658c64b118c36b528c9aca2c7": {
      "model_module": "@jupyter-widgets/base",
      "model_module_version": "2.0.0",
      "model_name": "LayoutModel",
      "state": {}
     },
     "db6b688c007f4d9cb98f5f33aafe2334": {
      "model_module": "@jupyter-widgets/controls",
      "model_module_version": "2.0.0",
      "model_name": "HTMLModel",
      "state": {
       "layout": "IPY_MODEL_c9b3250658c64b118c36b528c9aca2c7",
       "style": "IPY_MODEL_e0bc7743d1024a958e8d4f5bbfa91d0e",
       "value": "Feature: BookingDate_DayOfWeek               "
      }
     },
     "dc9828d9c57943b98f67217d60aca077": {
      "model_module": "@jupyter-widgets/controls",
      "model_module_version": "2.0.0",
      "model_name": "HBoxModel",
      "state": {
       "children": [
        "IPY_MODEL_db6b688c007f4d9cb98f5f33aafe2334",
        "IPY_MODEL_803f24ed6d4043fea9ea21a67fb38e3d",
        "IPY_MODEL_7dda8e24cc794ab09a3b6c88ca59a7dc"
       ],
       "layout": "IPY_MODEL_5dd319feac1549178ff2ad252ba86438"
      }
     },
     "e0bc7743d1024a958e8d4f5bbfa91d0e": {
      "model_module": "@jupyter-widgets/controls",
      "model_module_version": "2.0.0",
      "model_name": "HTMLStyleModel",
      "state": {
       "description_width": "",
       "font_size": null,
       "text_color": null
      }
     },
     "ec6aa20b2c7f43e7b84ae6442c871f86": {
      "model_module": "@jupyter-widgets/controls",
      "model_module_version": "2.0.0",
      "model_name": "HTMLStyleModel",
      "state": {
       "description_width": "",
       "font_size": null,
       "text_color": null
      }
     },
     "eca46ce06ae34be49d00c0effb732ff6": {
      "model_module": "@jupyter-widgets/base",
      "model_module_version": "2.0.0",
      "model_name": "LayoutModel",
      "state": {
       "flex": "2"
      }
     },
     "fc54d0e3ff1a4db3be7c833979cd7f7a": {
      "model_module": "@jupyter-widgets/controls",
      "model_module_version": "2.0.0",
      "model_name": "FloatProgressModel",
      "state": {
       "bar_style": "success",
       "layout": "IPY_MODEL_2219237726af401fa9d56e9529addfb7",
       "max": 36,
       "style": "IPY_MODEL_ad940962e0f44d849d7936bab6b68e38",
       "value": 36
      }
     }
    },
    "version_major": 2,
    "version_minor": 0
   }
  }
 },
 "nbformat": 4,
 "nbformat_minor": 5
}
