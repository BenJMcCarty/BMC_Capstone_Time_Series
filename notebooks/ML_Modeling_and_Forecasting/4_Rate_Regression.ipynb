{
 "cells": [
  {
   "cell_type": "markdown",
   "id": "12123a92-1c64-4022-a560-863574d47fec",
   "metadata": {},
   "source": [
    "# Hotel Rate Regression Modeling"
   ]
  },
  {
   "cell_type": "markdown",
   "id": "4a63babd-8206-4561-8a83-97ac61ab92ea",
   "metadata": {},
   "source": [
    "---\n",
    "\n",
    "**Rate Regression for Forecasting**\n",
    "\n",
    "In addition to predicting/forecasting reservation cancellations, hotels rely heavily on forecasting rates and occupancy.\n",
    "\n",
    "Using the ADR (*Average Daily Rate*) feature from the dataset, I will train predictive models that could be used to forecast future ADR based on the given features.\n",
    "\n",
    "The end result will be one (or more) models that would use specific features known *a priori* as the exogenous features to predict the ADR in dollars. After training the models, I will review their performances; determine which models are most appropriate (based on use cases and stakeholders); then provide three recommendations to help maximize ADR.\n",
    "\n",
    "I will start with linear regression models to obtain the coefficients for ease-of-interpretation. Additionally, I will test a few tree-based models to compare performance; however, their results will require more effort to interpret for actionable insights.\n",
    "\n",
    "---"
   ]
  },
  {
   "cell_type": "code",
   "execution_count": null,
   "id": "98f69dd5-5221-4986-8168-272d8c869fd1",
   "metadata": {},
   "outputs": [],
   "source": [
    "## Used to upload \n",
    "%load_ext autoreload\n",
    "%autoreload 2"
   ]
  },
  {
   "cell_type": "code",
   "execution_count": null,
   "id": "e58b39f9-324d-417e-bcbd-5421c54d11fc",
   "metadata": {},
   "outputs": [],
   "source": [
    "## Enabling access to custom functions in separate directory\n",
    "\n",
    "# Import necessary modules\n",
    "import os\n",
    "import sys\n",
    "\n",
    "# Construct the absolute path to the 'src' directory\n",
    "src_path = os.path.abspath(os.path.join('..', 'src'))\n",
    "\n",
    "# Append the path to 'sys.path'\n",
    "if src_path not in sys.path:\n",
    "    sys.path.append(src_path)\n",
    "\n",
    "import db_utils, eda"
   ]
  },
  {
   "cell_type": "code",
   "execution_count": null,
   "id": "ec2849ee-6dba-4815-8109-217d5be529e0",
   "metadata": {},
   "outputs": [],
   "source": [
    "## Data Handling\n",
    "import pandas as pd\n",
    "import numpy as np\n",
    "\n",
    "import holidays\n",
    "\n",
    "## Visualizations\n",
    "import matplotlib.pyplot as plt\n",
    "import plotly.express as px\n",
    "import seaborn as sns\n",
    "\n",
    "## Custom-made Functions\n",
    "# from src import eda"
   ]
  },
  {
   "cell_type": "code",
   "execution_count": null,
   "id": "2f663c7e-fcbc-4c27-a8ea-e614d0fc4aee",
   "metadata": {},
   "outputs": [],
   "source": [
    "## Settings\n",
    "pd.set_option('display.max_columns', None)\n",
    "pd.set_option('display.float_format', lambda x: f'{x:,.2f}')\n",
    "pd.set_option('display.max_rows', 50)\n",
    "%matplotlib inline"
   ]
  },
  {
   "cell_type": "code",
   "execution_count": null,
   "id": "f9a65e92-f3a0-405f-8ce0-bfe9c3f15ea5",
   "metadata": {},
   "outputs": [],
   "source": [
    "## SKLearn and Modeling Tools\n",
    "\n",
    "from sklearn import metrics\n",
    "from sklearn import set_config\n",
    "from sklearn.compose import ColumnTransformer, TransformedTargetRegressor\n",
    "from sklearn.dummy import DummyRegressor\n",
    "from sklearn.ensemble import HistGradientBoostingRegressor, RandomForestRegressor\n",
    "from sklearn.impute import SimpleImputer\n",
    "from sklearn.inspection import permutation_importance\n",
    "from sklearn.linear_model import LinearRegression, Ridge#, RANSACRegressor\n",
    "from sklearn.model_selection import train_test_split, GridSearchCV, cross_val_score\n",
    "from sklearn.pipeline import Pipeline\n",
    "from sklearn.preprocessing import OneHotEncoder, StandardScaler\n",
    "\n",
    "set_config(transform_output='pandas')"
   ]
  },
  {
   "cell_type": "code",
   "execution_count": null,
   "id": "a1328113-a0f8-4a6b-87ee-caf25a9db085",
   "metadata": {},
   "outputs": [],
   "source": [
    "# data1 = pd.read_parquet('../data/Datasets_for_Arrival_Date/Feature_Engineering/H1_T_Date_Features.parquet')\n",
    "# data1['HotelNumber'] = 1\n",
    "\n",
    "# data2 = pd.read_parquet('../data/Datasets_for_Arrival_Date/Feature_Engineering/H2_T_Date_Features.parquet')\n",
    "# data2['HotelNumber'] = 2\n",
    "\n",
    "# df_data = pd.concat([data1, data2], axis = 0).reset_index(drop=True)\n",
    "# df_data.head()"
   ]
  },
  {
   "cell_type": "code",
   "execution_count": null,
   "id": "c9beff6e-01cc-4617-8ac8-e07baa4c041a",
   "metadata": {},
   "outputs": [],
   "source": [
    "# backup_data_path = '../data/data_condensed_with_uuid.parquet'\n",
    "\n",
    "# data = pd.read_parquet(backup_data_path)\n",
    "\n",
    "# filepath = '../data/engineered_data_dates.parquet'\n",
    "\n",
    "# df_dates = pd.read_parquet(filepath)\n",
    "\n",
    "# data = data.merge(right = df_dates, how = 'left', on = 'UUID')\n",
    "\n",
    "# drop_feats = ['UUID','LeadTime', 'ArrivalDateYear', 'ArrivalDateMonth', 'ArrivalDateWeekNumber',\n",
    "#               'ArrivalDateDayOfMonth', 'StaysInWeekendNights', 'StaysInWeekNights',\n",
    "#               'ReservationStatusDate_x', 'ReservationStatusDate_y', 'ArrivalDate',\n",
    "#               'DepartureDate', 'BookingDate']\n",
    "\n",
    "# data1 = data.drop(columns = drop_feats)"
   ]
  },
  {
   "cell_type": "code",
   "execution_count": null,
   "id": "1dc64c6b-eb44-4459-9ac0-f6bdae31b687",
   "metadata": {},
   "outputs": [],
   "source": [
    "filepath = '../data/source/H2.parquet'\n",
    "\n",
    "data1 = pd.read_parquet(filepath)"
   ]
  },
  {
   "cell_type": "code",
   "execution_count": null,
   "id": "9880b477-04c2-4b52-8e3e-b07230220b7c",
   "metadata": {
    "scrolled": true
   },
   "outputs": [],
   "source": [
    "data1.info()"
   ]
  },
  {
   "cell_type": "markdown",
   "id": "342b5051-be99-43b7-992a-1d4942a8f576",
   "metadata": {},
   "source": [
    "# Location, Location, Location!"
   ]
  },
  {
   "cell_type": "markdown",
   "id": "25bbe38e-5568-446b-a670-fced14c8d439",
   "metadata": {},
   "source": [
    "---\n",
    "\n",
    "**Additional Data About Locations and Types**\n",
    "\n",
    "Two details that impact pricing significantly would be location - rural vs. urban - and the hotel rating (e.g., select service vs. premium vs. luxury). The original dataset does not include these specific details, but the authors specify such details in the source article. The authors of the academic paper from which I sourced this data specify the following details about the hotels:\n",
    "\n",
    "> *Both hotels are located in Portugal: H1 at the resort region of Algarve and H2 at the city of Lisbon.*\n",
    "\n",
    "Modeling each hotel separately is similar to a real-life revenue forecasting scenario - when predicting/setting rates, hotel managers consider each hotel separately. Two models will create slightly more work, but I expect this approach will improve the model performances.\n",
    "\n",
    "Using this additional information, I can perform additional feature engineering based on their location and other historical data, such as weather, temperatures, etc.. Furthermore, I could use the locations as a new feature and concatenate the datasets for an overall interpretation.\n",
    "\n",
    "---"
   ]
  },
  {
   "cell_type": "markdown",
   "id": "20056cd5-ffa8-4ab3-8300-9a7d9b4067ec",
   "metadata": {},
   "source": [
    "## Regression: Hotel 1"
   ]
  },
  {
   "cell_type": "markdown",
   "id": "d2b57aa4-8b08-466e-b2c0-0d23682f532a",
   "metadata": {},
   "source": [
    "---\n",
    "\n",
    "I will start with the first of the two separate hotel datasets.\n",
    "\n",
    "This hotel is located in Algarve, Portugal, and as the location is described as a *\"resort region,\"* I will assume it is a resort-style hotel.\n",
    "\n",
    "\n",
    "\n",
    "---"
   ]
  },
  {
   "cell_type": "code",
   "execution_count": null,
   "id": "792c7118-6685-4d5d-9e0b-1f67491819fd",
   "metadata": {},
   "outputs": [],
   "source": [
    "# data1.head()"
   ]
  },
  {
   "cell_type": "code",
   "execution_count": null,
   "id": "5d259533-3110-4c0b-849f-65e6c7585ba2",
   "metadata": {},
   "outputs": [],
   "source": [
    "# ## Keeping zero-dollar ADR just in case it's useful\n",
    "# data1 = data1[data1['ADR'] > 0]\n",
    "# data1"
   ]
  },
  {
   "cell_type": "code",
   "execution_count": null,
   "id": "66ed563b-0a47-4e2e-bbee-c4647f6a76eb",
   "metadata": {},
   "outputs": [],
   "source": [
    "# drop_cols = ['IsCanceled', 'ReservationStatus', 'ReservationStatusDate', 'HotelNumber']\n",
    "# data1 = data1.drop(columns = drop_cols).reset_index(drop=True)\n",
    "# data1"
   ]
  },
  {
   "cell_type": "code",
   "execution_count": null,
   "id": "36dacdd4-1fbf-4b0a-a64d-ee10df3b24b8",
   "metadata": {},
   "outputs": [],
   "source": [
    "# data1['ADR'].describe()"
   ]
  },
  {
   "cell_type": "markdown",
   "id": "5ff52066",
   "metadata": {},
   "source": [
    "# Drop Negative ADR Values"
   ]
  },
  {
   "cell_type": "markdown",
   "id": "52b57da3",
   "metadata": {},
   "source": [
    "I need to perform a logarithmic transformation on the target feature to help normalize the feature. In order to do so, I need to ensure that all of my target values are greater than or equal to zero."
   ]
  },
  {
   "cell_type": "code",
   "execution_count": null,
   "id": "f6c9df2e",
   "metadata": {},
   "outputs": [],
   "source": [
    "# data1['ADR'].describe()"
   ]
  },
  {
   "cell_type": "code",
   "execution_count": null,
   "id": "8bee7d8e",
   "metadata": {},
   "outputs": [],
   "source": [
    "# data1 = data1[data1['ADR'] > 0].reset_index(drop=True)\n",
    "# data1"
   ]
  },
  {
   "cell_type": "code",
   "execution_count": null,
   "id": "33a271ef",
   "metadata": {},
   "outputs": [],
   "source": [
    "# data1['ADR'].describe()"
   ]
  },
  {
   "cell_type": "markdown",
   "id": "0948af8f",
   "metadata": {},
   "source": [
    "# Outliers in Target Feature"
   ]
  },
  {
   "cell_type": "code",
   "execution_count": null,
   "id": "5cbf8d65",
   "metadata": {},
   "outputs": [],
   "source": [
    "# from scipy.stats import zscore\n",
    "\n",
    "# z_scores = zscore(data1['ADR'])\n",
    "# abs_z_scores = np.abs(z_scores)\n",
    "# filtered_entries = (abs_z_scores < 3)  # Threshold of 3\n",
    "# cleaned_data = data1[filtered_entries].reset_index(drop=True)\n",
    "# cleaned_data"
   ]
  },
  {
   "cell_type": "code",
   "execution_count": null,
   "id": "10f49469",
   "metadata": {},
   "outputs": [],
   "source": [
    "# data1[(abs_z_scores >= 3)]"
   ]
  },
  {
   "cell_type": "markdown",
   "id": "8426b742-2ca5-40e9-8d1f-1d842f81d8a4",
   "metadata": {},
   "source": [
    "# Train/Test Split"
   ]
  },
  {
   "cell_type": "code",
   "execution_count": null,
   "id": "b76819ee-a0ba-4e8c-b2cf-c67fd62e5556",
   "metadata": {},
   "outputs": [],
   "source": [
    "## Splitting data into features and target variables.\n",
    "target = 'ADR'\n",
    "\n",
    "X = data1.drop(columns = [target]).copy()\n",
    "y = data1[target].copy()"
   ]
  },
  {
   "cell_type": "code",
   "execution_count": null,
   "id": "aa4b31be-6b42-47fb-89f9-cc11ad3f7d98",
   "metadata": {},
   "outputs": [],
   "source": [
    "## Splitting - stratify to maintain class balance b/t X_train/_test\n",
    "X_train, X_test, y_train, y_test = train_test_split(X, y, test_size = .25, \n",
    "                                                    random_state = 42)"
   ]
  },
  {
   "cell_type": "markdown",
   "id": "321198b8",
   "metadata": {},
   "source": [
    "# Inspecting Target Feature"
   ]
  },
  {
   "cell_type": "code",
   "execution_count": null,
   "id": "0085e4af",
   "metadata": {},
   "outputs": [],
   "source": [
    "# y_train.describe()"
   ]
  },
  {
   "cell_type": "code",
   "execution_count": null,
   "id": "871910f5",
   "metadata": {},
   "outputs": [],
   "source": [
    "# y_train.plot(kind ='kde');"
   ]
  },
  {
   "cell_type": "code",
   "execution_count": null,
   "id": "4400d3d9",
   "metadata": {},
   "outputs": [],
   "source": [
    "# y_train.apply(np.log10).plot(kind = 'kde');"
   ]
  },
  {
   "cell_type": "markdown",
   "id": "85b9c11f",
   "metadata": {},
   "source": [
    "# Pipeline and Modeling"
   ]
  },
  {
   "cell_type": "code",
   "execution_count": null,
   "id": "b81bf235-c7d9-46b9-9989-88cbcd2d7fef",
   "metadata": {},
   "outputs": [],
   "source": [
    "## Specifying numeric columns for preprocessing\n",
    "num_cols = X_train.select_dtypes('number').columns.to_list()\n",
    "\n",
    "## Specifying numeric columns for preprocessing\n",
    "cat_cols = X_train.select_dtypes(include='object').columns.to_list()"
   ]
  },
  {
   "cell_type": "code",
   "execution_count": null,
   "id": "be3bd36f-918d-4ab3-b025-9e676a3c68db",
   "metadata": {},
   "outputs": [],
   "source": [
    "## Creating ColumnTransformer and sub-transformers for imputation and encoding\n",
    "\n",
    "### --- Creating column pipelines --- ###\n",
    "\n",
    "cat_pipe = Pipeline(steps=[('cat_imputer', SimpleImputer(add_indicator=True,\n",
    "                                                         strategy='most_frequent')),\n",
    "                           ('ohe', OneHotEncoder(drop = 'if_binary',\n",
    "                                                 handle_unknown='ignore',\n",
    "                                                 sparse_output=False))])\n",
    "\n",
    "num_pipe = Pipeline(steps=[('num_imputer', SimpleImputer(add_indicator=True,strategy='median')),\n",
    "                          ('scaler',StandardScaler())])\n",
    "\n",
    "### --- Instantiating the ColumnTransformer --- ###\n",
    "preprocessor = ColumnTransformer(\n",
    "    transformers=[('num', num_pipe, num_cols),\n",
    "                  ('cat', cat_pipe, cat_cols)])\n",
    "\n",
    "preprocessor"
   ]
  },
  {
   "cell_type": "code",
   "execution_count": null,
   "id": "c2543b66-c2fa-4295-9ab8-55999c656e79",
   "metadata": {},
   "outputs": [],
   "source": [
    "## Transform via the ColumnTransformer preprocessor and create new dataframe\n",
    "\n",
    "preprocessor.fit(X_train)\n",
    "\n",
    "X_train_df = preprocessor.transform(X_train)\n",
    "\n",
    "X_test_tf_df = preprocessor.transform(X_test)\n",
    "\n",
    "# display(X_train_df.head(5),X_test_tf_df.head(5))"
   ]
  },
  {
   "cell_type": "code",
   "execution_count": null,
   "id": "0570e836-9da8-4106-a730-547df4ea1213",
   "metadata": {},
   "outputs": [],
   "source": [
    "hgbr = HistGradientBoostingRegressor(l2_regularization = .01, random_state=42)\n",
    "hgbr.fit(X_train_df, y_train)\n",
    "\n",
    "# ttr_hgbr = TransformedTargetRegressor(hgbr, func=np.log, inverse_func=np.exp)\n",
    "# ttr_hgbr.fit(X_train_df, y_train)"
   ]
  },
  {
   "cell_type": "code",
   "execution_count": null,
   "id": "41c05d4f-4759-4886-a2c1-db1f47606423",
   "metadata": {},
   "outputs": [],
   "source": [
    "train_scores = cross_val_score(hgbr, X_train_df, y_train, cv=5, n_jobs=-1)\n",
    "test_scores = cross_val_score(hgbr, X_test_tf_df, y_test, cv=5, n_jobs=-1)\n",
    "\n",
    "\n",
    "print(f'The training score is: {round(train_scores.mean(), 2)}.\\nThe test score is: {round(test_scores.mean(), 2)}.')"
   ]
  },
  {
   "cell_type": "code",
   "execution_count": null,
   "id": "e69d6d3b-8cdc-434d-ab98-59a37d0a4309",
   "metadata": {},
   "outputs": [],
   "source": [
    "y_pred = hgbr.predict(X_test_tf_df)\n",
    "\n",
    "mape = metrics.mean_absolute_percentage_error(y_test, y_pred).round(2)\n",
    "\n",
    "rmse = np.sqrt(metrics.mean_squared_error(y_test, y_pred)).round(2)\n",
    "\n",
    "print(f'The MAPE score is: {mape}.\\nThe RMSE is: {rmse}.')"
   ]
  },
  {
   "cell_type": "code",
   "execution_count": null,
   "id": "526c2121-68dc-4316-b51f-5eeae6f5e029",
   "metadata": {},
   "outputs": [],
   "source": [
    "# hgbc = TransformedTargetRegressor(regressor=HistGradientBoostingRegressor(random_state=42),\n",
    "#                                 func=np.log, inverse_func=np.exp)\n",
    "# hgbc.fit(X_train_df, y_train)\n",
    "\n",
    "# print(f'The training score is: {hgbc.score(X = X_train_df, y = y_train):.4f}.',\n",
    "#       f'\\nThe test score is: {hgbc.score(X = X_test_tf_df, y = y_test):.4f}.')"
   ]
  },
  {
   "cell_type": "code",
   "execution_count": null,
   "id": "ca4c735a-2545-4598-8f3a-12bcfa32d459",
   "metadata": {},
   "outputs": [],
   "source": [
    "perm_imp = permutation_importance(ttr_hgbr, X_test_tf_df, y_test, scoring = 'r2', n_jobs = -1, random_state = 42)\n",
    "\n",
    "# perm_imp_results = pd.Series(data = perm_imp.importances_mean, index = hgbr.feature_names_in_).sort_values(ascending = False)\n",
    "perm_imp_results = pd.Series(data = perm_imp.importances_mean).sort_values(ascending = False)\n",
    "perm_imp_results.head()"
   ]
  },
  {
   "cell_type": "code",
   "execution_count": null,
   "id": "8f719fff-fb28-496e-9bc3-13b9e88e19a0",
   "metadata": {},
   "outputs": [],
   "source": [
    "rfr = RandomForestRegressor(n_jobs = -1, random_state = 42)\n",
    "\n",
    "rfr.fit(X_train_df, y_train)\n",
    "\n",
    "rfr.score(X = X_test_tf_df, y = y_test).round(4)"
   ]
  },
  {
   "cell_type": "code",
   "execution_count": null,
   "id": "ff291197-9af0-43d3-87b5-808d2b979c2f",
   "metadata": {
    "editable": true,
    "slideshow": {
     "slide_type": ""
    },
    "tags": []
   },
   "outputs": [],
   "source": [
    "# lr = LinearRegression()\n",
    "\n",
    "# lr.fit(X_train_df, y_train)\n",
    "\n",
    "# lr.score(X = X_test_tf_df, y = y_test).round(4)"
   ]
  },
  {
   "cell_type": "code",
   "execution_count": null,
   "id": "9b58126f-c430-43ea-987d-86ad2fc8b4cf",
   "metadata": {},
   "outputs": [],
   "source": [
    "# rr = RANSACRegressor()\n",
    "\n",
    "# rr.fit(X_train_df, y_train)\n",
    "\n",
    "# rr.score(X = X_test_tf_df, y = y_test).round(4)"
   ]
  },
  {
   "cell_type": "code",
   "execution_count": null,
   "id": "46e5b514-396d-462c-9464-e662911a8fde",
   "metadata": {},
   "outputs": [],
   "source": []
  }
 ],
 "metadata": {
  "kernelspec": {
   "display_name": "Python 3 (ipykernel)",
   "language": "python",
   "name": "python3"
  },
  "language_info": {
   "codemirror_mode": {
    "name": "ipython",
    "version": 3
   },
   "file_extension": ".py",
   "mimetype": "text/x-python",
   "name": "python",
   "nbconvert_exporter": "python",
   "pygments_lexer": "ipython3",
   "version": "3.10.14"
  },
  "widgets": {
   "application/vnd.jupyter.widget-state+json": {
    "state": {},
    "version_major": 2,
    "version_minor": 0
   }
  }
 },
 "nbformat": 4,
 "nbformat_minor": 5
}
