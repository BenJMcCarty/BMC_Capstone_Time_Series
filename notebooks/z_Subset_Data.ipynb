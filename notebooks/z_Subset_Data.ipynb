{
 "cells": [
  {
   "cell_type": "markdown",
   "id": "7a67570c",
   "metadata": {},
   "source": [
    "# ***Saving this notebook for later - use after setting up full workflow.***"
   ]
  },
  {
   "cell_type": "markdown",
   "id": "7aafa147-1414-4a3c-8884-17af1fed40f3",
   "metadata": {
    "jp-MarkdownHeadingCollapsed": true
   },
   "source": [
    "# Pre-Pre-Processing\n",
    "\n",
    "Before I start performing any EDA or modeling, I will pre-emptively split my data to have a separate training set of data.\n",
    "\n",
    "Since the data consists of temporal data (hotel reservations across multiple years), I will split the data into two groups based on two datetime features: Booking Date and the Arrival date.\n",
    "\n",
    "---\n",
    "\n",
    "# Consulting ChatGPT\n",
    "\n",
    "I asked ChatGPT to help me decide if one feature would be better than the other. It's responses are as follows:\n",
    "\n",
    "## Booking Date\n",
    "\n",
    "### Pros:\n",
    "> * *Forecasting Lead Time:* Splitting by booking date allows you to model the lead time between booking and arrival, which is valuable for forecasting future demand well in advance.\n",
    "> * *Real-world Scenario Modeling:* This approach mirrors real-world scenarios more closely, where predictions are made as bookings occur, regardless of the future arrival date.\n",
    "> * *Dynamic Pricing and Revenue Management:* Particularly useful for applications in dynamic pricing and revenue management, where understanding booking patterns ahead of time can inform strategic decisions.\n",
    "\n",
    "### Cons:\n",
    "> * *Increased Complexity:* The time gap between booking and arrival dates introduces additional complexity, as you need to account for changes over time that could affect the stay (e.g., cancellations, modifications).\n",
    "\n",
    "\n",
    "\n",
    "## Arrival Date\n",
    "\n",
    "### Pros:\n",
    "> * *Cleaner Data Relationships:* Utilizing the arrival date might result in cleaner, more straightforward modeling, as it directly ties the prediction to the period of service or product consumption.\n",
    "> * *Seasonality and Trend Analysis:* Easier to model seasonal trends and effects, as the arrival date directly corresponds to the period being analyzed.\n",
    "> * *Accuracy in Performance Metrics:* Predictions based on arrival date can be more closely aligned with actual occupancy and revenue, potentially improving model accuracy in terms of performance metrics.\n",
    "\n",
    "### Cons:\n",
    "\n",
    "> * *Reduced Forecasting Horizon:* The model may be less effective at predicting bookings well in advance since it's oriented around the arrival date. This could limit its usefulness for long-term planning.\n",
    "> * *Possible Lag in Actionable Insights:* May not provide as much lead time for implementing strategies based on the predictions, such as staffing or promotional offers, since the focus is on the period closer to the actual stay.\n",
    "\n",
    "---\n",
    "\n",
    "# Consultation Conclusions\n",
    "\n",
    "After considering ChatGPT's suggestions and insights, I will take a more greedy approach and create separate datasets for both the booking and arrival dates. This will give me more flexibility when modeling as I will have different time perspectives to utilize for different purposes (e.g., future forecasting vs. analyzing actualized performance).\n",
    "\n",
    "---"
   ]
  },
  {
   "cell_type": "markdown",
   "id": "d0b1760a-454d-4b07-b3fc-7249f95e3795",
   "metadata": {},
   "source": [
    "# Date Preparation\n",
    "\n",
    "Before I can split the datasets, I need to perform some slight feature engineering. The source datasets do not have an exact datetime feature for the arrival date, only for the booking date. I will use the separate Year, Month, and Day of Month features to create an `Arrival_Date` feature, then use this feature for splitting my data."
   ]
  },
  {
   "cell_type": "code",
   "execution_count": 2,
   "id": "75c85a81-d49f-4aa4-adf9-0d11f0e17574",
   "metadata": {
    "execution": {
     "iopub.execute_input": "2024-03-26T21:00:08.936463Z",
     "iopub.status.busy": "2024-03-26T21:00:08.934460Z",
     "iopub.status.idle": "2024-03-26T21:00:08.952631Z",
     "shell.execute_reply": "2024-03-26T21:00:08.951629Z",
     "shell.execute_reply.started": "2024-03-26T21:00:08.936463Z"
    }
   },
   "outputs": [],
   "source": [
    "# raise Exception('REVISE THIS WORKBOOK - CHANGED TO FEATURE ENGINEERING; CONVERT BACK TO SUBSETTING DATA.')"
   ]
  },
  {
   "cell_type": "code",
   "execution_count": 1,
   "id": "6efb3fdd",
   "metadata": {
    "execution": {
     "iopub.execute_input": "2024-04-01T20:56:47.262326Z",
     "iopub.status.busy": "2024-04-01T20:56:47.262326Z",
     "iopub.status.idle": "2024-04-01T20:56:47.317920Z",
     "shell.execute_reply": "2024-04-01T20:56:47.316796Z",
     "shell.execute_reply.started": "2024-04-01T20:56:47.262326Z"
    }
   },
   "outputs": [],
   "source": [
    "%load_ext autoreload\n",
    "%autoreload 2"
   ]
  },
  {
   "cell_type": "code",
   "execution_count": null,
   "id": "41f2abed-adba-4076-aebe-7c26a999041c",
   "metadata": {},
   "outputs": [],
   "source": [
    "## Enabling access to custom functions in separate directory\n",
    "\n",
    "# Import necessary modules\n",
    "import os\n",
    "import sys\n",
    "\n",
    "# Construct the absolute path to the 'src' directory\n",
    "src_path = os.path.abspath(os.path.join('..', 'src'))\n",
    "\n",
    "# Append the path to 'sys.path'\n",
    "if src_path not in sys.path:\n",
    "    sys.path.append(src_path)\n",
    "\n",
    "import db_utils, eda"
   ]
  },
  {
   "cell_type": "code",
   "execution_count": 4,
   "id": "c15bd256-e7bb-4caa-9d37-ad1707026556",
   "metadata": {
    "execution": {
     "iopub.execute_input": "2024-04-01T20:56:52.072117Z",
     "iopub.status.busy": "2024-04-01T20:56:52.072117Z",
     "iopub.status.idle": "2024-04-01T20:56:52.554994Z",
     "shell.execute_reply": "2024-04-01T20:56:52.554994Z",
     "shell.execute_reply.started": "2024-04-01T20:56:52.072117Z"
    }
   },
   "outputs": [],
   "source": [
    "import pandas as pd"
   ]
  },
  {
   "cell_type": "markdown",
   "id": "8a567bf0",
   "metadata": {},
   "source": [
    "# Read Data - Engineered Datetime Data"
   ]
  },
  {
   "cell_type": "code",
   "execution_count": 5,
   "id": "be4129d0",
   "metadata": {
    "execution": {
     "iopub.execute_input": "2024-04-01T20:56:53.050884Z",
     "iopub.status.busy": "2024-04-01T20:56:53.050884Z",
     "iopub.status.idle": "2024-04-01T20:56:53.181308Z",
     "shell.execute_reply": "2024-04-01T20:56:53.181308Z",
     "shell.execute_reply.started": "2024-04-01T20:56:53.050884Z"
    }
   },
   "outputs": [
    {
     "data": {
      "text/html": [
       "<div>\n",
       "<style scoped>\n",
       "    .dataframe tbody tr th:only-of-type {\n",
       "        vertical-align: middle;\n",
       "    }\n",
       "\n",
       "    .dataframe tbody tr th {\n",
       "        vertical-align: top;\n",
       "    }\n",
       "\n",
       "    .dataframe thead th {\n",
       "        text-align: right;\n",
       "    }\n",
       "</style>\n",
       "<table border=\"1\" class=\"dataframe\">\n",
       "  <thead>\n",
       "    <tr style=\"text-align: right;\">\n",
       "      <th></th>\n",
       "      <th>UUID</th>\n",
       "      <th>ArrivalDate</th>\n",
       "      <th>BookingDate</th>\n",
       "    </tr>\n",
       "  </thead>\n",
       "  <tbody>\n",
       "    <tr>\n",
       "      <th>0</th>\n",
       "      <td>8ca998d6-fae7-4ee4-a706-3765721aaff5</td>\n",
       "      <td>2015-07-01</td>\n",
       "      <td>2014-07-24</td>\n",
       "    </tr>\n",
       "    <tr>\n",
       "      <th>1</th>\n",
       "      <td>e535835e-b19a-4e32-9e9f-6d70a0182d4b</td>\n",
       "      <td>2015-07-01</td>\n",
       "      <td>2013-06-24</td>\n",
       "    </tr>\n",
       "    <tr>\n",
       "      <th>2</th>\n",
       "      <td>9429383d-0efd-4c37-bb9b-0aaa63d5aade</td>\n",
       "      <td>2015-07-01</td>\n",
       "      <td>2015-06-24</td>\n",
       "    </tr>\n",
       "    <tr>\n",
       "      <th>3</th>\n",
       "      <td>dd6424ee-6838-4007-ad85-de9ff96be14b</td>\n",
       "      <td>2015-07-01</td>\n",
       "      <td>2015-06-18</td>\n",
       "    </tr>\n",
       "    <tr>\n",
       "      <th>4</th>\n",
       "      <td>50ff56ee-6a72-40dc-8ff1-4246b831c779</td>\n",
       "      <td>2015-07-01</td>\n",
       "      <td>2015-06-17</td>\n",
       "    </tr>\n",
       "    <tr>\n",
       "      <th>...</th>\n",
       "      <td>...</td>\n",
       "      <td>...</td>\n",
       "      <td>...</td>\n",
       "    </tr>\n",
       "    <tr>\n",
       "      <th>119385</th>\n",
       "      <td>2ccdf728-5829-47d6-ae2c-016f9706c24d</td>\n",
       "      <td>2017-08-30</td>\n",
       "      <td>2017-08-07</td>\n",
       "    </tr>\n",
       "    <tr>\n",
       "      <th>119386</th>\n",
       "      <td>be937240-f461-4eee-9971-a83c8c09bf04</td>\n",
       "      <td>2017-08-31</td>\n",
       "      <td>2017-05-21</td>\n",
       "    </tr>\n",
       "    <tr>\n",
       "      <th>119387</th>\n",
       "      <td>04e0baed-c9a6-487c-a1af-82cb0f830fe4</td>\n",
       "      <td>2017-08-31</td>\n",
       "      <td>2017-07-28</td>\n",
       "    </tr>\n",
       "    <tr>\n",
       "      <th>119388</th>\n",
       "      <td>4d96b250-c5c4-46e5-bf52-e4334991d81b</td>\n",
       "      <td>2017-08-31</td>\n",
       "      <td>2017-05-14</td>\n",
       "    </tr>\n",
       "    <tr>\n",
       "      <th>119389</th>\n",
       "      <td>acc64a9a-03f1-43b4-b07d-98d7b152be0a</td>\n",
       "      <td>2017-08-29</td>\n",
       "      <td>2017-02-05</td>\n",
       "    </tr>\n",
       "  </tbody>\n",
       "</table>\n",
       "<p>119390 rows × 3 columns</p>\n",
       "</div>"
      ],
      "text/plain": [
       "                                        UUID ArrivalDate BookingDate\n",
       "0       8ca998d6-fae7-4ee4-a706-3765721aaff5  2015-07-01  2014-07-24\n",
       "1       e535835e-b19a-4e32-9e9f-6d70a0182d4b  2015-07-01  2013-06-24\n",
       "2       9429383d-0efd-4c37-bb9b-0aaa63d5aade  2015-07-01  2015-06-24\n",
       "3       dd6424ee-6838-4007-ad85-de9ff96be14b  2015-07-01  2015-06-18\n",
       "4       50ff56ee-6a72-40dc-8ff1-4246b831c779  2015-07-01  2015-06-17\n",
       "...                                      ...         ...         ...\n",
       "119385  2ccdf728-5829-47d6-ae2c-016f9706c24d  2017-08-30  2017-08-07\n",
       "119386  be937240-f461-4eee-9971-a83c8c09bf04  2017-08-31  2017-05-21\n",
       "119387  04e0baed-c9a6-487c-a1af-82cb0f830fe4  2017-08-31  2017-07-28\n",
       "119388  4d96b250-c5c4-46e5-bf52-e4334991d81b  2017-08-31  2017-05-14\n",
       "119389  acc64a9a-03f1-43b4-b07d-98d7b152be0a  2017-08-29  2017-02-05\n",
       "\n",
       "[119390 rows x 3 columns]"
      ]
     },
     "execution_count": 5,
     "metadata": {},
     "output_type": "execute_result"
    }
   ],
   "source": [
    "df_data = pd.read_parquet('../data/engineered_data_dates.parquet', columns = ['UUID', 'ArrivalDate', 'BookingDate'])\n",
    "df_data"
   ]
  },
  {
   "cell_type": "markdown",
   "id": "6aa19048",
   "metadata": {},
   "source": [
    "# Read Data from DuckDB\n",
    "\n",
    "---\n",
    "\n",
    "\n",
    "***DEPRECATED:* USE DATA FROM FEATURE ENGINEERING NOTEBOOK**"
   ]
  },
  {
   "cell_type": "code",
   "execution_count": 6,
   "id": "a36a5510",
   "metadata": {
    "execution": {
     "iopub.execute_input": "2024-03-26T21:00:11.680512Z",
     "iopub.status.busy": "2024-03-26T21:00:11.680512Z",
     "iopub.status.idle": "2024-03-26T21:00:11.783435Z",
     "shell.execute_reply": "2024-03-26T21:00:11.782586Z",
     "shell.execute_reply.started": "2024-03-26T21:00:11.680512Z"
    }
   },
   "outputs": [],
   "source": [
    "# # Path to the DuckDB database file\n",
    "# db_path = '../data/hotel_reservations.duckdb'\n",
    "\n",
    "# ## Select subset of data for review\n",
    "# q = 'SELECT * FROM res_data LIMIT 10'\n",
    "\n",
    "# with db_utils.duckdb_connection(db_path) as conn:\n",
    "#     display(conn.execute(q).df())"
   ]
  },
  {
   "cell_type": "code",
   "execution_count": 7,
   "id": "17868e04-8a42-4b50-99c9-b5bdd597c3b4",
   "metadata": {
    "execution": {
     "iopub.execute_input": "2024-03-26T21:00:11.784441Z",
     "iopub.status.busy": "2024-03-26T21:00:11.783435Z",
     "iopub.status.idle": "2024-03-26T21:00:11.882405Z",
     "shell.execute_reply": "2024-03-26T21:00:11.882405Z",
     "shell.execute_reply.started": "2024-03-26T21:00:11.784441Z"
    }
   },
   "outputs": [],
   "source": [
    "# ## Convert Arrival columns to strings\n",
    "\n",
    "# q = ('''\n",
    "# SELECT uuid, ArrivalDateYear, ArrivalDateMonth, ArrivalDateDayOfMonth,\n",
    "# StaysInWeekNights, StaysInWeekendNights, LeadTime \n",
    "# FROM res_data''')\n",
    "\n",
    "# with db_utils.duckdb_connection(db_path) as conn:\n",
    "#     df_data = conn.execute(q).df()\n",
    "\n",
    "# # df_data = arrival_cols.astype(str)\n",
    "# df_data.head()"
   ]
  },
  {
   "cell_type": "markdown",
   "id": "f91ad397",
   "metadata": {},
   "source": [
    "# Feature Engineering: Arrival, Departure, and Booking Dates"
   ]
  },
  {
   "cell_type": "markdown",
   "id": "5956efd2",
   "metadata": {},
   "source": [
    "## Arrival Date"
   ]
  },
  {
   "cell_type": "code",
   "execution_count": 8,
   "id": "ccf1aaff-5d06-4d1c-b843-ff902b832e4b",
   "metadata": {
    "execution": {
     "iopub.execute_input": "2024-03-26T21:00:11.883411Z",
     "iopub.status.busy": "2024-03-26T21:00:11.883411Z",
     "iopub.status.idle": "2024-03-26T21:00:11.982663Z",
     "shell.execute_reply": "2024-03-26T21:00:11.982663Z",
     "shell.execute_reply.started": "2024-03-26T21:00:11.883411Z"
    }
   },
   "outputs": [],
   "source": [
    "# ## Create new column of strings formatted as YYYY-MM-DD, then convert to datetime\n",
    "\n",
    "# arrival_details = ['ArrivalDateYear', 'ArrivalDateMonth', 'ArrivalDateDayOfMonth']\n",
    "\n",
    "# df_data[arrival_details] = df_data[arrival_details].astype(str)\n",
    "\n",
    "# df_data['ArrivalDate'] = df_data['ArrivalDateYear'].str.cat(df_data[['ArrivalDateMonth',\n",
    "#                                                                      'ArrivalDateDayOfMonth']],\n",
    "#                                                             '-')\n",
    "\n",
    "# df_data['ArrivalDate'] = pd.to_datetime(df_data['ArrivalDate'], yearfirst = True)\n",
    "\n",
    "# df_data.head()"
   ]
  },
  {
   "cell_type": "markdown",
   "id": "bae17a82",
   "metadata": {},
   "source": [
    "## Departure Date"
   ]
  },
  {
   "cell_type": "code",
   "execution_count": 9,
   "id": "8d7e238f",
   "metadata": {
    "execution": {
     "iopub.execute_input": "2024-03-26T21:00:11.983651Z",
     "iopub.status.busy": "2024-03-26T21:00:11.983651Z",
     "iopub.status.idle": "2024-03-26T21:00:12.097719Z",
     "shell.execute_reply": "2024-03-26T21:00:12.096699Z",
     "shell.execute_reply.started": "2024-03-26T21:00:11.983651Z"
    }
   },
   "outputs": [],
   "source": [
    "# timedelta_wknd = pd.to_timedelta(df_data.loc[:, 'StaysInWeekendNights'], unit = 'D')\n",
    "# timedelta_wk = pd.to_timedelta(df_data.loc[:, 'StaysInWeekNights'], unit = 'D')\n",
    "\n",
    "# df_data['DepartureDate'] = df_data.loc[:, 'ArrivalDate'] + timedelta_wk + timedelta_wknd\n",
    "\n",
    "# df_data.head()"
   ]
  },
  {
   "cell_type": "markdown",
   "id": "26af4595",
   "metadata": {},
   "source": [
    "## Booking Date"
   ]
  },
  {
   "cell_type": "code",
   "execution_count": 10,
   "id": "03a36883-6ba5-4e2b-87ed-c52c19d16e0d",
   "metadata": {
    "execution": {
     "iopub.execute_input": "2024-03-26T21:00:12.098687Z",
     "iopub.status.busy": "2024-03-26T21:00:12.098687Z",
     "iopub.status.idle": "2024-03-26T21:00:12.205837Z",
     "shell.execute_reply": "2024-03-26T21:00:12.205837Z",
     "shell.execute_reply.started": "2024-03-26T21:00:12.098687Z"
    }
   },
   "outputs": [],
   "source": [
    "# df_data['LeadTimeDelta'] = pd.to_timedelta(df_data['LeadTime'], unit = 'D')\n",
    "# df_data['LeadTimeDelta']"
   ]
  },
  {
   "cell_type": "code",
   "execution_count": 11,
   "id": "39fa0352",
   "metadata": {
    "execution": {
     "iopub.execute_input": "2024-03-26T21:00:12.208842Z",
     "iopub.status.busy": "2024-03-26T21:00:12.207834Z",
     "iopub.status.idle": "2024-03-26T21:00:12.313993Z",
     "shell.execute_reply": "2024-03-26T21:00:12.313993Z",
     "shell.execute_reply.started": "2024-03-26T21:00:12.208842Z"
    }
   },
   "outputs": [],
   "source": [
    "# df_data['BookingDate'] = df_data['ArrivalDate'] - df_data['LeadTimeDelta']\n",
    "\n",
    "# df_data.head(10)"
   ]
  },
  {
   "cell_type": "code",
   "execution_count": 12,
   "id": "1b7e922a-bc71-4c80-ab43-d1118f12ecec",
   "metadata": {
    "execution": {
     "iopub.execute_input": "2024-03-26T21:00:12.314996Z",
     "iopub.status.busy": "2024-03-26T21:00:12.314996Z",
     "iopub.status.idle": "2024-03-26T21:00:12.423439Z",
     "shell.execute_reply": "2024-03-26T21:00:12.422632Z",
     "shell.execute_reply.started": "2024-03-26T21:00:12.314996Z"
    }
   },
   "outputs": [],
   "source": [
    "# drop_cols = ['ArrivalDateYear', 'ArrivalDateMonth', 'ArrivalDateDayOfMonth',\n",
    "# 'StaysInWeekNights', 'StaysInWeekendNights', 'LeadTime', 'LeadTimeDelta']\n",
    "# df_data = df_data.drop(columns = drop_cols)\n",
    "# df_data.head()"
   ]
  },
  {
   "cell_type": "code",
   "execution_count": 13,
   "id": "b213284a-4acc-4a55-845a-669fbd3e6208",
   "metadata": {
    "execution": {
     "iopub.execute_input": "2024-03-26T21:00:12.424915Z",
     "iopub.status.busy": "2024-03-26T21:00:12.424448Z",
     "iopub.status.idle": "2024-03-26T21:00:12.522910Z",
     "shell.execute_reply": "2024-03-26T21:00:12.522910Z",
     "shell.execute_reply.started": "2024-03-26T21:00:12.424915Z"
    }
   },
   "outputs": [],
   "source": [
    "# df_data.to_parquet('../data/reservation_dates.parquet', compression = 'snappy')"
   ]
  },
  {
   "cell_type": "markdown",
   "id": "74433da6-2b25-4cd8-904a-f9bbef6c6990",
   "metadata": {},
   "source": [
    "# Subset with 10% Threshold for Arrival_Date and Booking_Date\n",
    "\n",
    "Despite the sizable number of rows for each hotel's dataset, the Arrival_Date feature is limited in scope - covering a little over 2 years' worth of data. This limited time range restricts the possible forecasting windows, particularly as I intend to reserve a certain number of days for the validation sets.\n",
    "\n",
    "My compromise between availability and integrity is to subset each hotel's separate datasets by 10% of the total dataset. This will preserve the size of the original data's timeframe while providing a reasonable time window for future forecasting."
   ]
  },
  {
   "cell_type": "code",
   "execution_count": 14,
   "id": "b6f1fbb6-9eee-45bc-81dc-ed9b17dc91ba",
   "metadata": {
    "execution": {
     "iopub.execute_input": "2024-03-26T21:00:12.522910Z",
     "iopub.status.busy": "2024-03-26T21:00:12.522910Z",
     "iopub.status.idle": "2024-03-26T21:00:12.630034Z",
     "shell.execute_reply": "2024-03-26T21:00:12.629074Z",
     "shell.execute_reply.started": "2024-03-26T21:00:12.522910Z"
    }
   },
   "outputs": [],
   "source": [
    "def split_and_save_dataset_by_percentage(df,\n",
    "                                         date_column,\n",
    "                                         percentage=10,\n",
    "                                         save_path='./data'):\n",
    "    \"\"\"\n",
    "    Split the dataset into training and holdout sets based on a specified percentage of the total rows\n",
    "    and save them. The holdout set will contain the last 'percentage' of rows based on the datetime column.\n",
    "    \"\"\"\n",
    "    \n",
    "    # Work on a copy of the DataFrame to preserve the original data\n",
    "    df_copy = df.copy()\n",
    "    \n",
    "    # Ensure the date column is in datetime format and set it as the index\n",
    "    df_copy[date_column] = pd.to_datetime(df_copy[date_column])\n",
    "    df_copy = df_copy.sort_values(by=[date_column], ascending = True)\n",
    "\n",
    "    # Calculate the index to split on last 'percentage' of rows\n",
    "    split_idx = int(len(df_copy) * (1 - (percentage / 100)))\n",
    "\n",
    "    # Split the dataset and reset index for future use\n",
    "    train_df = df_copy.iloc[:split_idx,:]\n",
    "    train_df = train_df.reset_index(drop=True)\n",
    "    \n",
    "    holdout_df = df_copy.iloc[split_idx:,:]\n",
    "    holdout_df = holdout_df.reset_index(drop=True)\n",
    "\n",
    "\n",
    "    # No need to reset index if you want to keep the datetime column in its place\n",
    "    # Define file paths\n",
    "    training_path = f'{save_path}/{date_column}_Training.parquet'\n",
    "    holdout_path = f'{save_path}/{date_column}_Validation.parquet'\n",
    "\n",
    "    # Save the datasets\n",
    "    train_df.to_parquet(training_path, engine='pyarrow', compression='snappy')\n",
    "    print(f'Saved training data for {date_column}')\n",
    "    holdout_df.to_parquet(holdout_path, engine='pyarrow', compression='snappy')\n",
    "    print(f'Saved validation data for {date_column}.\\n')\n"
   ]
  },
  {
   "cell_type": "code",
   "execution_count": 15,
   "id": "f6bae9bf-e0c1-496e-98d9-919a2126911e",
   "metadata": {
    "execution": {
     "iopub.execute_input": "2024-03-26T21:00:12.631085Z",
     "iopub.status.busy": "2024-03-26T21:00:12.630034Z",
     "iopub.status.idle": "2024-03-26T21:00:12.869073Z",
     "shell.execute_reply": "2024-03-26T21:00:12.868731Z",
     "shell.execute_reply.started": "2024-03-26T21:00:12.631085Z"
    }
   },
   "outputs": [
    {
     "name": "stdout",
     "output_type": "stream",
     "text": [
      "Saved training data for ArrivalDate\n",
      "Saved validation data for ArrivalDate.\n",
      "\n",
      "Saved training data for BookingDate\n",
      "Saved validation data for BookingDate.\n",
      "\n"
     ]
    }
   ],
   "source": [
    "date_columns = ['ArrivalDate', 'BookingDate']\n",
    "\n",
    "for date_column in date_columns:\n",
    "    split_and_save_dataset_by_percentage(df_data,\n",
    "                                         date_column,\n",
    "                                         percentage = 10,\n",
    "                                         save_path = f'../data/')"
   ]
  },
  {
   "cell_type": "markdown",
   "id": "7faefcad-5a4a-49db-8d7e-84526da8bdcf",
   "metadata": {},
   "source": [
    "# Results\n",
    "\n",
    "After running this code for both of the hotel datasets, I now have separate training and validation datasets for each of the hotels' Arrival_Date and Booking_Date features. The resulting datasets will be effective for modeling and forecasting in later notebooks."
   ]
  },
  {
   "cell_type": "code",
   "execution_count": 16,
   "id": "e218e1a3",
   "metadata": {
    "execution": {
     "iopub.execute_input": "2024-03-26T21:00:12.870112Z",
     "iopub.status.busy": "2024-03-26T21:00:12.870112Z",
     "iopub.status.idle": "2024-03-26T21:00:12.978234Z",
     "shell.execute_reply": "2024-03-26T21:00:12.978234Z",
     "shell.execute_reply.started": "2024-03-26T21:00:12.870112Z"
    }
   },
   "outputs": [],
   "source": [
    "# ## Create timedelta series based on number of weekday/end nights.\n",
    "# timedelta_wknd = pd.to_timedelta(df_data.loc[:, 'StaysInWeekendNights'], unit = 'D')\n",
    "# timedelta_wk = pd.to_timedelta(df_data.loc[:, 'StaysInWeekNights'], unit = 'D')"
   ]
  },
  {
   "cell_type": "code",
   "execution_count": 17,
   "id": "21982298",
   "metadata": {
    "execution": {
     "iopub.execute_input": "2024-03-26T21:00:12.978234Z",
     "iopub.status.busy": "2024-03-26T21:00:12.978234Z",
     "iopub.status.idle": "2024-03-26T21:00:13.099411Z",
     "shell.execute_reply": "2024-03-26T21:00:13.098402Z",
     "shell.execute_reply.started": "2024-03-26T21:00:12.978234Z"
    }
   },
   "outputs": [],
   "source": [
    "# table_name = 'res_data'\n",
    "\n",
    "# with db_utils.duckdb_connection(db_path) as conn:\n",
    "#     column_info = conn.execute(f\"PRAGMA table_info({table_name})\").fetchall()\n",
    "\n",
    "#     # Print information about each column\n",
    "#     for column in column_info:\n",
    "#         column_name, column_dtype = column[1], column[2]\n",
    "#         print(f\"Column Name: {column_name}, Data Type: {column_dtype}\")\n",
    "\n",
    "# _ = db_utils.get_col_dtypes('res_data', db_path)"
   ]
  },
  {
   "cell_type": "code",
   "execution_count": 18,
   "id": "e9c02b6c",
   "metadata": {
    "execution": {
     "iopub.execute_input": "2024-03-26T21:00:13.100394Z",
     "iopub.status.busy": "2024-03-26T21:00:13.100394Z",
     "iopub.status.idle": "2024-03-26T21:00:13.210791Z",
     "shell.execute_reply": "2024-03-26T21:00:13.210791Z",
     "shell.execute_reply.started": "2024-03-26T21:00:13.100394Z"
    }
   },
   "outputs": [],
   "source": [
    "# create_dates_table = '''CREATE TABLE reservation_dates (\n",
    "#     UUID VARCHAR,\n",
    "#     datetime_column TIMESTAMP,\n",
    "#     PRIMARY KEY (UUID),\n",
    "#     FOREIGN KEY (UUID) REFERENCES res_data (UUID)\n",
    "# );\n",
    "# '''\n",
    "# create_dates_table"
   ]
  },
  {
   "cell_type": "code",
   "execution_count": 19,
   "id": "0cf186f3",
   "metadata": {
    "execution": {
     "iopub.execute_input": "2024-03-26T21:00:13.210791Z",
     "iopub.status.busy": "2024-03-26T21:00:13.210791Z",
     "iopub.status.idle": "2024-03-26T21:00:13.312041Z",
     "shell.execute_reply": "2024-03-26T21:00:13.311421Z",
     "shell.execute_reply.started": "2024-03-26T21:00:13.210791Z"
    }
   },
   "outputs": [],
   "source": [
    "# db_utils.alter_table(create_dates_table, db_path)"
   ]
  },
  {
   "cell_type": "code",
   "execution_count": 20,
   "id": "d42a9b2e",
   "metadata": {
    "execution": {
     "iopub.execute_input": "2024-03-26T21:00:13.313816Z",
     "iopub.status.busy": "2024-03-26T21:00:13.313128Z",
     "iopub.status.idle": "2024-03-26T21:00:13.408401Z",
     "shell.execute_reply": "2024-03-26T21:00:13.408401Z",
     "shell.execute_reply.started": "2024-03-26T21:00:13.313816Z"
    }
   },
   "outputs": [],
   "source": [
    "# db_utils.alter_table('ALTER TABLE res_data ADD PRIMARY KEY (UUID);', db_path)"
   ]
  },
  {
   "cell_type": "code",
   "execution_count": 21,
   "id": "810165ce",
   "metadata": {
    "execution": {
     "iopub.execute_input": "2024-03-26T21:00:13.410407Z",
     "iopub.status.busy": "2024-03-26T21:00:13.409409Z",
     "iopub.status.idle": "2024-03-26T21:00:13.518412Z",
     "shell.execute_reply": "2024-03-26T21:00:13.517724Z",
     "shell.execute_reply.started": "2024-03-26T21:00:13.410407Z"
    }
   },
   "outputs": [],
   "source": [
    "# alter_commands = \"ALTER TABLE res_data ADD COLUMN Arrival_Date DATE\"\n",
    "# with duckdb_connection(db_path) as conn:\n",
    "#     conn.execute(alter_commands)\n",
    "#     print('Completed successfully.')\n",
    "\n",
    "# drop_col = 'ALTER TABLE res_data DROP COLUMN Arrival_Date;'\n",
    "# db_utils.alter_table(drop_col, db_path)\n",
    "\n",
    "# alt_tbl_cmd = \"ALTER TABLE res_data ADD COLUMN Arrival_Date TIMESTAMP\"\n",
    "# db_utils.alter_table(alt_tbl_cmd, db_path)"
   ]
  },
  {
   "cell_type": "code",
   "execution_count": 22,
   "id": "96286fe6",
   "metadata": {
    "execution": {
     "iopub.execute_input": "2024-03-26T21:00:13.518412Z",
     "iopub.status.busy": "2024-03-26T21:00:13.518412Z",
     "iopub.status.idle": "2024-03-26T21:00:13.619157Z",
     "shell.execute_reply": "2024-03-26T21:00:13.618208Z",
     "shell.execute_reply.started": "2024-03-26T21:00:13.518412Z"
    }
   },
   "outputs": [],
   "source": [
    "# q = 'SELECT Arrival_Date FROM res_data'\n",
    "# with db_utils.duckdb_connection(db_path) as conn:\n",
    "#     display(conn.execute(q).df())"
   ]
  },
  {
   "cell_type": "code",
   "execution_count": 23,
   "id": "79b43d90",
   "metadata": {
    "execution": {
     "iopub.execute_input": "2024-03-26T21:00:13.620167Z",
     "iopub.status.busy": "2024-03-26T21:00:13.619157Z",
     "iopub.status.idle": "2024-03-26T21:00:13.727676Z",
     "shell.execute_reply": "2024-03-26T21:00:13.726981Z",
     "shell.execute_reply.started": "2024-03-26T21:00:13.620167Z"
    }
   },
   "outputs": [],
   "source": [
    "# q = 'SELECT Arrival_Date FROM res_data'\n",
    "# with db_utils.duckdb_connection(db_path) as conn:\n",
    "#     result = conn.execute(q).fetchall()\n",
    "\n",
    "#     for row in result:\n",
    "#         print(row)"
   ]
  },
  {
   "cell_type": "code",
   "execution_count": 24,
   "id": "6b3c4f39-86be-4ccd-89b9-4f0574357cec",
   "metadata": {
    "execution": {
     "iopub.execute_input": "2024-03-26T21:00:13.728680Z",
     "iopub.status.busy": "2024-03-26T21:00:13.728680Z",
     "iopub.status.idle": "2024-03-26T21:00:13.830571Z",
     "shell.execute_reply": "2024-03-26T21:00:13.830471Z",
     "shell.execute_reply.started": "2024-03-26T21:00:13.728680Z"
    }
   },
   "outputs": [],
   "source": [
    "# ## Concatenate new column\n",
    "# df_data = pd.concat([df_data, arrival_date_dt], axis = 1)\n",
    "# df_data.head()"
   ]
  },
  {
   "cell_type": "code",
   "execution_count": 25,
   "id": "d0707a10-ff20-44f8-848d-67b2e1402e48",
   "metadata": {
    "execution": {
     "iopub.execute_input": "2024-03-26T21:00:13.831844Z",
     "iopub.status.busy": "2024-03-26T21:00:13.831844Z",
     "iopub.status.idle": "2024-03-26T21:00:13.930356Z",
     "shell.execute_reply": "2024-03-26T21:00:13.930356Z",
     "shell.execute_reply.started": "2024-03-26T21:00:13.831844Z"
    }
   },
   "outputs": [],
   "source": [
    "# try:\n",
    "#     df_data = df_data.drop(columns=[ 'ArrivalDateYear', 'ArrivalDateMonth', 'ArrivalDateDayOfMonth'])\n",
    "# except:\n",
    "#     pass\n",
    "\n",
    "# df_data.head()"
   ]
  },
  {
   "cell_type": "code",
   "execution_count": 26,
   "id": "be094b24",
   "metadata": {
    "execution": {
     "iopub.execute_input": "2024-03-26T21:00:13.931360Z",
     "iopub.status.busy": "2024-03-26T21:00:13.931360Z",
     "iopub.status.idle": "2024-03-26T21:00:14.034782Z",
     "shell.execute_reply": "2024-03-26T21:00:14.034245Z",
     "shell.execute_reply.started": "2024-03-26T21:00:13.931360Z"
    }
   },
   "outputs": [],
   "source": [
    "# q = 'SELECT UUID, StaysInWeekNights, StaysInWeekendNights FROM res_data'\n",
    "\n",
    "# with db_utils.duckdb_connection(db_path) as conn:\n",
    "#     stays_cols = conn.execute(q).df()\n",
    "    \n",
    "# stays_cols.head()"
   ]
  },
  {
   "cell_type": "code",
   "execution_count": 27,
   "id": "db52aed4",
   "metadata": {
    "execution": {
     "iopub.execute_input": "2024-03-26T21:00:14.035789Z",
     "iopub.status.busy": "2024-03-26T21:00:14.035789Z",
     "iopub.status.idle": "2024-03-26T21:00:14.137368Z",
     "shell.execute_reply": "2024-03-26T21:00:14.137368Z",
     "shell.execute_reply.started": "2024-03-26T21:00:14.035789Z"
    }
   },
   "outputs": [],
   "source": [
    "# # pd.concat([arrival_date_cols_str, stays_cols], axis = 1)\n",
    "\n",
    "# df_data = arrival_date_cols_str.merge(stays_cols, how = 'left', on = 'UUID')\n",
    "# df_data.head()"
   ]
  },
  {
   "cell_type": "code",
   "execution_count": 28,
   "id": "d2088034-85c6-4bd2-a4b4-6a3e9c0691f9",
   "metadata": {
    "execution": {
     "iopub.execute_input": "2024-03-26T21:00:14.138371Z",
     "iopub.status.busy": "2024-03-26T21:00:14.138371Z",
     "iopub.status.idle": "2024-03-26T21:00:14.236946Z",
     "shell.execute_reply": "2024-03-26T21:00:14.236946Z",
     "shell.execute_reply.started": "2024-03-26T21:00:14.138371Z"
    }
   },
   "outputs": [],
   "source": [
    "\n",
    "\n",
    "## Calculate the departure date by adding the timedeltas to the arrival date\n",
    "# departure_date = df_data.loc[:, 'ArrivalDate'] + timedelta_wk + timedelta_wknd\n",
    "# departure_date.name = 'DepartureDate'\n",
    "# departure_date.head()\n",
    "\n",
    "# df_data['DepartureDate'] = df_data.loc[:, 'ArrivalDate'] + timedelta_wk + timedelta_wknd\n",
    "# df_data.head()"
   ]
  },
  {
   "cell_type": "code",
   "execution_count": 29,
   "id": "2736906b-ad8b-4ced-92a4-bfcb2069fd91",
   "metadata": {
    "execution": {
     "iopub.execute_input": "2024-03-26T21:00:14.240536Z",
     "iopub.status.busy": "2024-03-26T21:00:14.240536Z",
     "iopub.status.idle": "2024-03-26T21:00:14.340478Z",
     "shell.execute_reply": "2024-03-26T21:00:14.340033Z",
     "shell.execute_reply.started": "2024-03-26T21:00:14.240536Z"
    }
   },
   "outputs": [],
   "source": [
    "# try:\n",
    "#     df_data = df_data.drop(columns=['StaysInWeekendNights', 'StaysInWeekNights'])\n",
    "# except:\n",
    "#     pass\n",
    "\n",
    "# df_data.head()"
   ]
  },
  {
   "cell_type": "code",
   "execution_count": 30,
   "id": "2f3399ac-69a1-4b4f-b022-346746c05e3c",
   "metadata": {
    "execution": {
     "iopub.execute_input": "2024-03-26T21:00:14.342483Z",
     "iopub.status.busy": "2024-03-26T21:00:14.341577Z",
     "iopub.status.idle": "2024-03-26T21:00:14.441428Z",
     "shell.execute_reply": "2024-03-26T21:00:14.441360Z",
     "shell.execute_reply.started": "2024-03-26T21:00:14.342483Z"
    }
   },
   "outputs": [],
   "source": [
    "# q = 'SELECT LeadTime from res_data'\n",
    "\n",
    "# with db_utils.duckdb_connection(db_path) as conn:\n",
    "#     leadtime = conn.execute(q).df()\n",
    "#     print('Completed successfully.')"
   ]
  },
  {
   "cell_type": "code",
   "execution_count": 31,
   "id": "86c601ed",
   "metadata": {
    "execution": {
     "iopub.execute_input": "2024-03-26T21:00:14.442994Z",
     "iopub.status.busy": "2024-03-26T21:00:14.442994Z",
     "iopub.status.idle": "2024-03-26T21:00:14.545934Z",
     "shell.execute_reply": "2024-03-26T21:00:14.545934Z",
     "shell.execute_reply.started": "2024-03-26T21:00:14.442994Z"
    }
   },
   "outputs": [],
   "source": [
    "# df_data = pd.concat([df_data, leadtime['LeadTime']], axis = 1)\n",
    "\n",
    "# df_data['LeadTimeDelta'] = pd.to_timedelta(df_data['LeadTime'], unit = 'D')\n",
    "# df_data.head()"
   ]
  },
  {
   "cell_type": "code",
   "execution_count": 32,
   "id": "c62e5cb4-e4da-4099-ba0c-0ef486299e88",
   "metadata": {
    "execution": {
     "iopub.execute_input": "2024-03-26T21:00:14.545934Z",
     "iopub.status.busy": "2024-03-26T21:00:14.545934Z",
     "iopub.status.idle": "2024-03-26T21:00:14.643260Z",
     "shell.execute_reply": "2024-03-26T21:00:14.643260Z",
     "shell.execute_reply.started": "2024-03-26T21:00:14.545934Z"
    }
   },
   "outputs": [],
   "source": [
    "# df_data['BookingDate'] = df_data['ArrivalDate'] - df_data\n",
    "# df_data.head(10)"
   ]
  },
  {
   "cell_type": "code",
   "execution_count": 33,
   "id": "a7292810-a129-4c7b-8813-d652c8a0c8b5",
   "metadata": {
    "execution": {
     "iopub.execute_input": "2024-03-26T21:00:14.643260Z",
     "iopub.status.busy": "2024-03-26T21:00:14.643260Z",
     "iopub.status.idle": "2024-03-26T21:00:14.749935Z",
     "shell.execute_reply": "2024-03-26T21:00:14.749935Z",
     "shell.execute_reply.started": "2024-03-26T21:00:14.643260Z"
    }
   },
   "outputs": [],
   "source": [
    "# df_data = df_data.drop(columns = ['LeadTime']) ## Maintain for future modeling\n",
    "\n",
    "# df_data.head(10)"
   ]
  },
  {
   "cell_type": "code",
   "execution_count": 34,
   "id": "cfc3b6dd-fe08-46ac-88b0-161a6c6b93d4",
   "metadata": {
    "execution": {
     "iopub.execute_input": "2024-03-26T21:00:14.749935Z",
     "iopub.status.busy": "2024-03-26T21:00:14.749935Z",
     "iopub.status.idle": "2024-03-26T21:00:14.861847Z",
     "shell.execute_reply": "2024-03-26T21:00:14.861167Z",
     "shell.execute_reply.started": "2024-03-26T21:00:14.749935Z"
    }
   },
   "outputs": [],
   "source": [
    "# df_data['Arrival_Date'].max() - df_data['Arrival_Date'].min()"
   ]
  },
  {
   "cell_type": "code",
   "execution_count": 35,
   "id": "d4a24a5d-1d47-4c6a-b73c-c2ac584256b2",
   "metadata": {
    "execution": {
     "iopub.execute_input": "2024-03-26T21:00:14.862852Z",
     "iopub.status.busy": "2024-03-26T21:00:14.862852Z",
     "iopub.status.idle": "2024-03-26T21:00:14.964551Z",
     "shell.execute_reply": "2024-03-26T21:00:14.964551Z",
     "shell.execute_reply.started": "2024-03-26T21:00:14.862852Z"
    }
   },
   "outputs": [],
   "source": [
    "# df_data['Booking_Date'].max() - df_data['Booking_Date'].min()"
   ]
  },
  {
   "cell_type": "code",
   "execution_count": null,
   "id": "f112ab47-9da7-44c2-b02e-c6611c686eff",
   "metadata": {},
   "outputs": [],
   "source": []
  },
  {
   "cell_type": "code",
   "execution_count": null,
   "id": "215637c9-8a57-42e2-bebc-77e12a76d319",
   "metadata": {},
   "outputs": [],
   "source": []
  }
 ],
 "metadata": {
  "kernelspec": {
   "display_name": "Python 3 (ipykernel)",
   "language": "python",
   "name": "python3"
  },
  "language_info": {
   "codemirror_mode": {
    "name": "ipython",
    "version": 3
   },
   "file_extension": ".py",
   "mimetype": "text/x-python",
   "name": "python",
   "nbconvert_exporter": "python",
   "pygments_lexer": "ipython3",
   "version": "3.10.14"
  },
  "widgets": {
   "application/vnd.jupyter.widget-state+json": {
    "state": {},
    "version_major": 2,
    "version_minor": 0
   }
  }
 },
 "nbformat": 4,
 "nbformat_minor": 5
}
