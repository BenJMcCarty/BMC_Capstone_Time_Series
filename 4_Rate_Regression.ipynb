{
 "cells": [
  {
   "cell_type": "code",
   "execution_count": 1,
   "id": "98f69dd5-5221-4986-8168-272d8c869fd1",
   "metadata": {
    "execution": {
     "iopub.execute_input": "2024-03-03T07:20:18.364807Z",
     "iopub.status.busy": "2024-03-03T07:20:18.364807Z",
     "iopub.status.idle": "2024-03-03T07:20:18.440799Z",
     "shell.execute_reply": "2024-03-03T07:20:18.439806Z",
     "shell.execute_reply.started": "2024-03-03T07:20:18.364807Z"
    }
   },
   "outputs": [],
   "source": [
    "## Used to upload \n",
    "%load_ext autoreload\n",
    "%autoreload 2"
   ]
  },
  {
   "cell_type": "code",
   "execution_count": 2,
   "id": "ec2849ee-6dba-4815-8109-217d5be529e0",
   "metadata": {
    "execution": {
     "iopub.execute_input": "2024-03-03T07:20:18.625798Z",
     "iopub.status.busy": "2024-03-03T07:20:18.625798Z",
     "iopub.status.idle": "2024-03-03T07:20:23.864448Z",
     "shell.execute_reply": "2024-03-03T07:20:23.864448Z",
     "shell.execute_reply.started": "2024-03-03T07:20:18.625798Z"
    }
   },
   "outputs": [],
   "source": [
    "## Data Handling\n",
    "import pandas as pd\n",
    "import numpy as np\n",
    "\n",
    "## Visualizations\n",
    "import matplotlib.pyplot as plt\n",
    "import plotly.express as px\n",
    "import seaborn as sns\n",
    "\n",
    "## Custom-made Functions\n",
    "from bmc_functions import eda"
   ]
  },
  {
   "cell_type": "code",
   "execution_count": 3,
   "id": "2f663c7e-fcbc-4c27-a8ea-e614d0fc4aee",
   "metadata": {
    "execution": {
     "iopub.execute_input": "2024-03-03T07:20:23.866438Z",
     "iopub.status.busy": "2024-03-03T07:20:23.866438Z",
     "iopub.status.idle": "2024-03-03T07:20:24.023451Z",
     "shell.execute_reply": "2024-03-03T07:20:24.023451Z",
     "shell.execute_reply.started": "2024-03-03T07:20:23.866438Z"
    }
   },
   "outputs": [],
   "source": [
    "## Settings\n",
    "pd.set_option('display.max_columns', None)\n",
    "pd.set_option('display.float_format', lambda x: f'{x:,.2f}')\n",
    "pd.set_option('display.max_rows', 50)\n",
    "%matplotlib inline"
   ]
  },
  {
   "cell_type": "code",
   "execution_count": null,
   "id": "7269da6b-fb6b-4cd5-afbb-c812e281da3a",
   "metadata": {},
   "outputs": [],
   "source": [
    "data_path = './'"
   ]
  }
 ],
 "metadata": {
  "kernelspec": {
   "display_name": "Python (dojo-env)",
   "language": "python",
   "name": "dojo-env"
  },
  "language_info": {
   "codemirror_mode": {
    "name": "ipython",
    "version": 3
   },
   "file_extension": ".py",
   "mimetype": "text/x-python",
   "name": "python",
   "nbconvert_exporter": "python",
   "pygments_lexer": "ipython3",
   "version": "3.10.10"
  },
  "widgets": {
   "application/vnd.jupyter.widget-state+json": {
    "state": {},
    "version_major": 2,
    "version_minor": 0
   }
  }
 },
 "nbformat": 4,
 "nbformat_minor": 5
}
