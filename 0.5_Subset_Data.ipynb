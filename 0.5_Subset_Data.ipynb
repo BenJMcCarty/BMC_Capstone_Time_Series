{
 "cells": [
  {
   "cell_type": "markdown",
   "id": "7aafa147-1414-4a3c-8884-17af1fed40f3",
   "metadata": {},
   "source": [
    "# Pre-Pre-Processing\n",
    "\n",
    "Before I start performing any EDA or modeling, I will pre-emptively split my data to have a separate training set of data.\n",
    "\n",
    "Since the data consists of temporal data (hotel reservations across multiple years), I will split the data into two groups based on two datetime features: Booking Date and the Arrival date.\n",
    "\n",
    "---\n",
    "\n",
    "# Consulting ChatGPT\n",
    "\n",
    "I asked ChatGPT to help me decide if one feature would be better than the other. It's responses are as follows:\n",
    "\n",
    "## Booking Date\n",
    "\n",
    "### Pros:\n",
    "> * *Forecasting Lead Time:* Splitting by booking date allows you to model the lead time between booking and arrival, which is valuable for forecasting future demand well in advance.\n",
    "> * *Real-world Scenario Modeling:* This approach mirrors real-world scenarios more closely, where predictions are made as bookings occur, regardless of the future arrival date.\n",
    "> * *Dynamic Pricing and Revenue Management:* Particularly useful for applications in dynamic pricing and revenue management, where understanding booking patterns ahead of time can inform strategic decisions.\n",
    "\n",
    "### Cons:\n",
    "> * *Increased Complexity:* The time gap between booking and arrival dates introduces additional complexity, as you need to account for changes over time that could affect the stay (e.g., cancellations, modifications).\n",
    "\n",
    "\n",
    "\n",
    "## Arrival Date\n",
    "\n",
    "### Pros:\n",
    "> * *Cleaner Data Relationships:* Utilizing the arrival date might result in cleaner, more straightforward modeling, as it directly ties the prediction to the period of service or product consumption.\n",
    "> * *Seasonality and Trend Analysis:* Easier to model seasonal trends and effects, as the arrival date directly corresponds to the period being analyzed.\n",
    "> * *Accuracy in Performance Metrics:* Predictions based on arrival date can be more closely aligned with actual occupancy and revenue, potentially improving model accuracy in terms of performance metrics.\n",
    "\n",
    "### Cons:\n",
    "\n",
    "> * *Reduced Forecasting Horizon:* The model may be less effective at predicting bookings well in advance since it's oriented around the arrival date. This could limit its usefulness for long-term planning.\n",
    "> * *Possible Lag in Actionable Insights:* May not provide as much lead time for implementing strategies based on the predictions, such as staffing or promotional offers, since the focus is on the period closer to the actual stay.\n",
    "\n",
    "---\n",
    "\n",
    "# Consultation Conclusions\n",
    "\n",
    "After considering ChatGPT's suggestions and insights, I will take a more greedy approach and create separate datasets for both the booking and arrival dates. This will give me more flexibility when modeling as I will have different time perspectives to utilize for different purposes (e.g., future forecasting vs. analyzing actualized performance).\n",
    "\n",
    "---"
   ]
  },
  {
   "cell_type": "markdown",
   "id": "d0b1760a-454d-4b07-b3fc-7249f95e3795",
   "metadata": {},
   "source": [
    "# Date Preparation\n",
    "\n",
    "Before I can split the datasets, I need to perform some slight feature engineering. The source datasets do not have an exact datetime feature for the arrival date, only for the booking date. I will use the separate Year, Month, and Day of Month features to create an `Arrival_Date` feature, then use this feature for splitting my data."
   ]
  },
  {
   "cell_type": "code",
   "execution_count": 1,
   "id": "75c85a81-d49f-4aa4-adf9-0d11f0e17574",
   "metadata": {
    "execution": {
     "iopub.execute_input": "2024-03-25T20:58:11.283727Z",
     "iopub.status.busy": "2024-03-25T20:58:11.282727Z",
     "iopub.status.idle": "2024-03-25T20:58:12.362989Z",
     "shell.execute_reply": "2024-03-25T20:58:12.361720Z",
     "shell.execute_reply.started": "2024-03-25T20:58:11.283727Z"
    }
   },
   "outputs": [],
   "source": [
    "# raise Exception('REVISE THIS WORKBOOK - CHANGED TO FEATURE ENGINEERING; CONVERT BACK TO SUBSETTING DATA.')"
   ]
  },
  {
   "cell_type": "code",
   "execution_count": 2,
   "id": "6efb3fdd",
   "metadata": {
    "execution": {
     "iopub.execute_input": "2024-03-25T20:54:59.209174Z",
     "iopub.status.busy": "2024-03-25T20:54:59.209174Z",
     "iopub.status.idle": "2024-03-25T20:54:59.261956Z",
     "shell.execute_reply": "2024-03-25T20:54:59.260946Z",
     "shell.execute_reply.started": "2024-03-25T20:54:59.209174Z"
    }
   },
   "outputs": [],
   "source": [
    "%load_ext autoreload\n",
    "%autoreload 2"
   ]
  },
  {
   "cell_type": "code",
   "execution_count": 3,
   "id": "c15bd256-e7bb-4caa-9d37-ad1707026556",
   "metadata": {
    "execution": {
     "iopub.execute_input": "2024-03-25T20:54:59.263952Z",
     "iopub.status.busy": "2024-03-25T20:54:59.262966Z",
     "iopub.status.idle": "2024-03-25T20:55:01.474673Z",
     "shell.execute_reply": "2024-03-25T20:55:01.474673Z",
     "shell.execute_reply.started": "2024-03-25T20:54:59.263952Z"
    }
   },
   "outputs": [],
   "source": [
    "from bmc_functions import db_utils\n",
    "import pandas as pd"
   ]
  },
  {
   "cell_type": "markdown",
   "id": "8a567bf0",
   "metadata": {},
   "source": [
    "# Read Data - Engineered Datetime Data"
   ]
  },
  {
   "cell_type": "code",
   "execution_count": 4,
   "id": "be4129d0",
   "metadata": {},
   "outputs": [
    {
     "data": {
      "text/html": [
       "<div>\n",
       "<style scoped>\n",
       "    .dataframe tbody tr th:only-of-type {\n",
       "        vertical-align: middle;\n",
       "    }\n",
       "\n",
       "    .dataframe tbody tr th {\n",
       "        vertical-align: top;\n",
       "    }\n",
       "\n",
       "    .dataframe thead th {\n",
       "        text-align: right;\n",
       "    }\n",
       "</style>\n",
       "<table border=\"1\" class=\"dataframe\">\n",
       "  <thead>\n",
       "    <tr style=\"text-align: right;\">\n",
       "      <th></th>\n",
       "      <th>ArrivalDate</th>\n",
       "      <th>DepartureDate</th>\n",
       "      <th>BookingDate</th>\n",
       "    </tr>\n",
       "  </thead>\n",
       "  <tbody>\n",
       "    <tr>\n",
       "      <th>0</th>\n",
       "      <td>2015-07-01</td>\n",
       "      <td>2015-07-01</td>\n",
       "      <td>2014-07-24</td>\n",
       "    </tr>\n",
       "    <tr>\n",
       "      <th>1</th>\n",
       "      <td>2015-07-01</td>\n",
       "      <td>2015-07-01</td>\n",
       "      <td>2013-06-24</td>\n",
       "    </tr>\n",
       "    <tr>\n",
       "      <th>2</th>\n",
       "      <td>2015-07-01</td>\n",
       "      <td>2015-07-02</td>\n",
       "      <td>2015-06-24</td>\n",
       "    </tr>\n",
       "    <tr>\n",
       "      <th>3</th>\n",
       "      <td>2015-07-01</td>\n",
       "      <td>2015-07-02</td>\n",
       "      <td>2015-06-18</td>\n",
       "    </tr>\n",
       "    <tr>\n",
       "      <th>4</th>\n",
       "      <td>2015-07-01</td>\n",
       "      <td>2015-07-03</td>\n",
       "      <td>2015-06-17</td>\n",
       "    </tr>\n",
       "    <tr>\n",
       "      <th>...</th>\n",
       "      <td>...</td>\n",
       "      <td>...</td>\n",
       "      <td>...</td>\n",
       "    </tr>\n",
       "    <tr>\n",
       "      <th>119385</th>\n",
       "      <td>2017-08-30</td>\n",
       "      <td>2017-09-06</td>\n",
       "      <td>2017-08-07</td>\n",
       "    </tr>\n",
       "    <tr>\n",
       "      <th>119386</th>\n",
       "      <td>2017-08-31</td>\n",
       "      <td>2017-09-07</td>\n",
       "      <td>2017-05-21</td>\n",
       "    </tr>\n",
       "    <tr>\n",
       "      <th>119387</th>\n",
       "      <td>2017-08-31</td>\n",
       "      <td>2017-09-07</td>\n",
       "      <td>2017-07-28</td>\n",
       "    </tr>\n",
       "    <tr>\n",
       "      <th>119388</th>\n",
       "      <td>2017-08-31</td>\n",
       "      <td>2017-09-07</td>\n",
       "      <td>2017-05-14</td>\n",
       "    </tr>\n",
       "    <tr>\n",
       "      <th>119389</th>\n",
       "      <td>2017-08-29</td>\n",
       "      <td>2017-09-07</td>\n",
       "      <td>2017-02-05</td>\n",
       "    </tr>\n",
       "  </tbody>\n",
       "</table>\n",
       "<p>119390 rows × 3 columns</p>\n",
       "</div>"
      ],
      "text/plain": [
       "       ArrivalDate DepartureDate BookingDate\n",
       "0       2015-07-01    2015-07-01  2014-07-24\n",
       "1       2015-07-01    2015-07-01  2013-06-24\n",
       "2       2015-07-01    2015-07-02  2015-06-24\n",
       "3       2015-07-01    2015-07-02  2015-06-18\n",
       "4       2015-07-01    2015-07-03  2015-06-17\n",
       "...            ...           ...         ...\n",
       "119385  2017-08-30    2017-09-06  2017-08-07\n",
       "119386  2017-08-31    2017-09-07  2017-05-21\n",
       "119387  2017-08-31    2017-09-07  2017-07-28\n",
       "119388  2017-08-31    2017-09-07  2017-05-14\n",
       "119389  2017-08-29    2017-09-07  2017-02-05\n",
       "\n",
       "[119390 rows x 3 columns]"
      ]
     },
     "execution_count": 4,
     "metadata": {},
     "output_type": "execute_result"
    }
   ],
   "source": [
    "df_data = pd.read_parquet('./data/reservation_dates.parquet', columns = ['ArrivalDate', 'DepartureDate', 'BookingDate'])\n",
    "df_data"
   ]
  },
  {
   "cell_type": "markdown",
   "id": "6aa19048",
   "metadata": {},
   "source": [
    "# Read Data from DuckDB\n",
    "\n",
    "---\n",
    "\n",
    "\n",
    "***DEPRECATED:* USE DATA FROM FEATURE ENGINEERING NOTEBOOK**"
   ]
  },
  {
   "cell_type": "code",
   "execution_count": 5,
   "id": "a36a5510",
   "metadata": {
    "execution": {
     "iopub.execute_input": "2024-03-25T20:55:01.582400Z",
     "iopub.status.busy": "2024-03-25T20:55:01.582400Z",
     "iopub.status.idle": "2024-03-25T20:55:01.710750Z",
     "shell.execute_reply": "2024-03-25T20:55:01.710694Z",
     "shell.execute_reply.started": "2024-03-25T20:55:01.582400Z"
    }
   },
   "outputs": [],
   "source": [
    "# # Path to the DuckDB database file\n",
    "# db_path = './data/hotel_reservations.duckdb'\n",
    "\n",
    "# ## Select subset of data for review\n",
    "# q = 'SELECT * FROM res_data LIMIT 10'\n",
    "\n",
    "# with db_utils.duckdb_connection(db_path) as conn:\n",
    "#     display(conn.execute(q).df())"
   ]
  },
  {
   "cell_type": "code",
   "execution_count": 6,
   "id": "17868e04-8a42-4b50-99c9-b5bdd597c3b4",
   "metadata": {
    "execution": {
     "iopub.execute_input": "2024-03-25T20:55:01.711766Z",
     "iopub.status.busy": "2024-03-25T20:55:01.711766Z",
     "iopub.status.idle": "2024-03-25T20:55:01.865689Z",
     "shell.execute_reply": "2024-03-25T20:55:01.864696Z",
     "shell.execute_reply.started": "2024-03-25T20:55:01.711766Z"
    }
   },
   "outputs": [],
   "source": [
    "# ## Convert Arrival columns to strings\n",
    "\n",
    "# q = ('''\n",
    "# SELECT uuid, ArrivalDateYear, ArrivalDateMonth, ArrivalDateDayOfMonth,\n",
    "# StaysInWeekNights, StaysInWeekendNights, LeadTime \n",
    "# FROM res_data''')\n",
    "\n",
    "# with db_utils.duckdb_connection(db_path) as conn:\n",
    "#     df_data = conn.execute(q).df()\n",
    "\n",
    "# # df_data = arrival_cols.astype(str)\n",
    "# df_data.head()"
   ]
  },
  {
   "cell_type": "markdown",
   "id": "f91ad397",
   "metadata": {},
   "source": [
    "# Feature Engineering: Arrival, Departure, and Booking Dates"
   ]
  },
  {
   "cell_type": "markdown",
   "id": "5956efd2",
   "metadata": {},
   "source": [
    "## Arrival Date"
   ]
  },
  {
   "cell_type": "code",
   "execution_count": 7,
   "id": "ccf1aaff-5d06-4d1c-b843-ff902b832e4b",
   "metadata": {
    "execution": {
     "iopub.execute_input": "2024-03-25T20:55:01.867690Z",
     "iopub.status.busy": "2024-03-25T20:55:01.867690Z",
     "iopub.status.idle": "2024-03-25T20:55:02.094127Z",
     "shell.execute_reply": "2024-03-25T20:55:02.094127Z",
     "shell.execute_reply.started": "2024-03-25T20:55:01.867690Z"
    }
   },
   "outputs": [],
   "source": [
    "# ## Create new column of strings formatted as YYYY-MM-DD, then convert to datetime\n",
    "\n",
    "# arrival_details = ['ArrivalDateYear', 'ArrivalDateMonth', 'ArrivalDateDayOfMonth']\n",
    "\n",
    "# df_data[arrival_details] = df_data[arrival_details].astype(str)\n",
    "\n",
    "# df_data['ArrivalDate'] = df_data['ArrivalDateYear'].str.cat(df_data[['ArrivalDateMonth',\n",
    "#                                                                      'ArrivalDateDayOfMonth']],\n",
    "#                                                             '-')\n",
    "\n",
    "# df_data['ArrivalDate'] = pd.to_datetime(df_data['ArrivalDate'], yearfirst = True)\n",
    "\n",
    "# df_data.head()"
   ]
  },
  {
   "cell_type": "markdown",
   "id": "bae17a82",
   "metadata": {},
   "source": [
    "## Departure Date"
   ]
  },
  {
   "cell_type": "code",
   "execution_count": 8,
   "id": "8d7e238f",
   "metadata": {
    "execution": {
     "iopub.execute_input": "2024-03-25T20:55:02.094127Z",
     "iopub.status.busy": "2024-03-25T20:55:02.094127Z",
     "iopub.status.idle": "2024-03-25T20:55:02.218211Z",
     "shell.execute_reply": "2024-03-25T20:55:02.216739Z",
     "shell.execute_reply.started": "2024-03-25T20:55:02.094127Z"
    }
   },
   "outputs": [],
   "source": [
    "# timedelta_wknd = pd.to_timedelta(df_data.loc[:, 'StaysInWeekendNights'], unit = 'D')\n",
    "# timedelta_wk = pd.to_timedelta(df_data.loc[:, 'StaysInWeekNights'], unit = 'D')\n",
    "\n",
    "# df_data['DepartureDate'] = df_data.loc[:, 'ArrivalDate'] + timedelta_wk + timedelta_wknd\n",
    "\n",
    "# df_data.head()"
   ]
  },
  {
   "cell_type": "markdown",
   "id": "26af4595",
   "metadata": {},
   "source": [
    "## Booking Date"
   ]
  },
  {
   "cell_type": "code",
   "execution_count": 9,
   "id": "03a36883-6ba5-4e2b-87ed-c52c19d16e0d",
   "metadata": {
    "execution": {
     "iopub.execute_input": "2024-03-25T20:55:02.318050Z",
     "iopub.status.busy": "2024-03-25T20:55:02.318050Z",
     "iopub.status.idle": "2024-03-25T20:55:02.429421Z",
     "shell.execute_reply": "2024-03-25T20:55:02.429421Z",
     "shell.execute_reply.started": "2024-03-25T20:55:02.318050Z"
    }
   },
   "outputs": [],
   "source": [
    "# df_data['LeadTimeDelta'] = pd.to_timedelta(df_data['LeadTime'], unit = 'D')\n",
    "# df_data['LeadTimeDelta']"
   ]
  },
  {
   "cell_type": "code",
   "execution_count": 10,
   "id": "39fa0352",
   "metadata": {
    "execution": {
     "iopub.execute_input": "2024-03-25T20:55:02.429421Z",
     "iopub.status.busy": "2024-03-25T20:55:02.429421Z",
     "iopub.status.idle": "2024-03-25T20:55:02.535460Z",
     "shell.execute_reply": "2024-03-25T20:55:02.534447Z",
     "shell.execute_reply.started": "2024-03-25T20:55:02.429421Z"
    }
   },
   "outputs": [],
   "source": [
    "# df_data['BookingDate'] = df_data['ArrivalDate'] - df_data['LeadTimeDelta']\n",
    "\n",
    "# df_data.head(10)"
   ]
  },
  {
   "cell_type": "code",
   "execution_count": 11,
   "id": "1b7e922a-bc71-4c80-ab43-d1118f12ecec",
   "metadata": {
    "execution": {
     "iopub.execute_input": "2024-03-25T20:55:02.536548Z",
     "iopub.status.busy": "2024-03-25T20:55:02.535460Z",
     "iopub.status.idle": "2024-03-25T20:55:02.649304Z",
     "shell.execute_reply": "2024-03-25T20:55:02.649304Z",
     "shell.execute_reply.started": "2024-03-25T20:55:02.536548Z"
    }
   },
   "outputs": [],
   "source": [
    "# drop_cols = ['ArrivalDateYear', 'ArrivalDateMonth', 'ArrivalDateDayOfMonth',\n",
    "# 'StaysInWeekNights', 'StaysInWeekendNights', 'LeadTime', 'LeadTimeDelta']\n",
    "# df_data = df_data.drop(columns = drop_cols)\n",
    "# df_data.head()"
   ]
  },
  {
   "cell_type": "code",
   "execution_count": 12,
   "id": "b213284a-4acc-4a55-845a-669fbd3e6208",
   "metadata": {
    "execution": {
     "iopub.execute_input": "2024-03-25T20:55:02.649304Z",
     "iopub.status.busy": "2024-03-25T20:55:02.649304Z",
     "iopub.status.idle": "2024-03-25T20:55:02.817451Z",
     "shell.execute_reply": "2024-03-25T20:55:02.817451Z",
     "shell.execute_reply.started": "2024-03-25T20:55:02.649304Z"
    }
   },
   "outputs": [],
   "source": [
    "# df_data.to_parquet('./data/reservation_dates.parquet', compression = 'snappy')"
   ]
  },
  {
   "cell_type": "markdown",
   "id": "74433da6-2b25-4cd8-904a-f9bbef6c6990",
   "metadata": {},
   "source": [
    "# Subset with 10% Threshold for Arrival_Date and Booking_Date\n",
    "\n",
    "Despite the sizable number of rows for each hotel's dataset, the Arrival_Date feature is limited in scope - covering a little over 2 years' worth of data. This limited time range restricts the possible forecasting windows, particularly as I intend to reserve a certain number of days for the validation sets.\n",
    "\n",
    "My compromise between availability and integrity is to subset each hotel's separate datasets by 10% of the total dataset. This will preserve the size of the original data's timeframe while providing a reasonable time window for future forecasting."
   ]
  },
  {
   "cell_type": "code",
   "execution_count": 13,
   "id": "b6f1fbb6-9eee-45bc-81dc-ed9b17dc91ba",
   "metadata": {
    "execution": {
     "iopub.execute_input": "2024-03-25T20:55:02.817451Z",
     "iopub.status.busy": "2024-03-25T20:55:02.817451Z",
     "iopub.status.idle": "2024-03-25T20:55:02.916792Z",
     "shell.execute_reply": "2024-03-25T20:55:02.916792Z",
     "shell.execute_reply.started": "2024-03-25T20:55:02.817451Z"
    }
   },
   "outputs": [],
   "source": [
    "def split_and_save_dataset_by_percentage(df, date_column, percentage=10, save_path='./data'):\n",
    "    \"\"\"\n",
    "    Split the dataset into training and holdout sets based on a specified percentage of the total rows\n",
    "    and save them. The holdout set will contain the last 'percentage' of rows based on the datetime column.\n",
    "    \"\"\"\n",
    "    \n",
    "    # Work on a copy of the DataFrame to preserve the original data\n",
    "    df_copy = df.copy()\n",
    "    \n",
    "    # Ensure the date column is in datetime format and set it as the index\n",
    "    df_copy[date_column] = pd.to_datetime(df_copy[date_column])\n",
    "    df_copy = df_copy.sort_values(by=[date_column])\n",
    "\n",
    "    # Calculate the index to split on: last 'percentage' of rows\n",
    "    split_idx = int(len(df_copy) * (1 - (percentage / 100)))\n",
    "\n",
    "    # Split the dataset and reset index for future use\n",
    "    train_df = df_copy.iloc[:split_idx, :]\n",
    "    train_df = train_df.reset_index(drop=True)\n",
    "    \n",
    "    holdout_df = df_copy.iloc[split_idx:, :]\n",
    "    holdout_df = holdout_df.reset_index(drop=True)\n",
    "\n",
    "    # No need to reset index if you want to keep the datetime column in its place\n",
    "    # Define file paths\n",
    "    training_path = f'{save_path}/{date_column}_Training.parquet'\n",
    "    holdout_path = f'{save_path}/{date_column}_Validation.parquet'\n",
    "\n",
    "    # Save the datasets\n",
    "    train_df.to_parquet(training_path, engine='pyarrow', compression='snappy')\n",
    "    holdout_df.to_parquet(holdout_path, engine='pyarrow', compression='snappy')\n"
   ]
  },
  {
   "cell_type": "code",
   "execution_count": 16,
   "id": "f6bae9bf-e0c1-496e-98d9-919a2126911e",
   "metadata": {
    "execution": {
     "iopub.execute_input": "2024-03-25T20:55:02.916792Z",
     "iopub.status.busy": "2024-03-25T20:55:02.916792Z",
     "iopub.status.idle": "2024-03-25T20:55:03.017445Z",
     "shell.execute_reply": "2024-03-25T20:55:03.017445Z",
     "shell.execute_reply.started": "2024-03-25T20:55:02.916792Z"
    }
   },
   "outputs": [],
   "source": [
    "date_columns = ['ArrivalDate', 'BookingDate']\n",
    "\n",
    "for date_column in date_columns:\n",
    "    split_and_save_dataset_by_percentage(df_data, date_column, 10, f'./data/')"
   ]
  },
  {
   "cell_type": "markdown",
   "id": "7faefcad-5a4a-49db-8d7e-84526da8bdcf",
   "metadata": {},
   "source": [
    "# Results\n",
    "\n",
    "After running this code for both of the hotel datasets, I now have separate training and validation datasets for each of the hotels' Arrival_Date and Booking_Date features. The resulting datasets will be effective for modeling and forecasting in later notebooks."
   ]
  },
  {
   "cell_type": "code",
   "execution_count": null,
   "id": "e218e1a3",
   "metadata": {
    "execution": {
     "iopub.execute_input": "2024-03-25T20:55:03.017445Z",
     "iopub.status.busy": "2024-03-25T20:55:03.017445Z",
     "iopub.status.idle": "2024-03-25T20:55:03.117639Z",
     "shell.execute_reply": "2024-03-25T20:55:03.117639Z",
     "shell.execute_reply.started": "2024-03-25T20:55:03.017445Z"
    }
   },
   "outputs": [],
   "source": [
    "# ## Create timedelta series based on number of weekday/end nights.\n",
    "# timedelta_wknd = pd.to_timedelta(df_data.loc[:, 'StaysInWeekendNights'], unit = 'D')\n",
    "# timedelta_wk = pd.to_timedelta(df_data.loc[:, 'StaysInWeekNights'], unit = 'D')"
   ]
  },
  {
   "cell_type": "code",
   "execution_count": null,
   "id": "21982298",
   "metadata": {
    "execution": {
     "iopub.execute_input": "2024-03-25T20:55:03.117639Z",
     "iopub.status.busy": "2024-03-25T20:55:03.117639Z",
     "iopub.status.idle": "2024-03-25T20:55:03.216561Z",
     "shell.execute_reply": "2024-03-25T20:55:03.216561Z",
     "shell.execute_reply.started": "2024-03-25T20:55:03.117639Z"
    }
   },
   "outputs": [],
   "source": [
    "# table_name = 'res_data'\n",
    "\n",
    "# with db_utils.duckdb_connection(db_path) as conn:\n",
    "#     column_info = conn.execute(f\"PRAGMA table_info({table_name})\").fetchall()\n",
    "\n",
    "#     # Print information about each column\n",
    "#     for column in column_info:\n",
    "#         column_name, column_dtype = column[1], column[2]\n",
    "#         print(f\"Column Name: {column_name}, Data Type: {column_dtype}\")\n",
    "\n",
    "# _ = db_utils.get_col_dtypes('res_data', db_path)"
   ]
  },
  {
   "cell_type": "code",
   "execution_count": null,
   "id": "e9c02b6c",
   "metadata": {
    "execution": {
     "iopub.execute_input": "2024-03-25T20:55:03.216561Z",
     "iopub.status.busy": "2024-03-25T20:55:03.216561Z",
     "iopub.status.idle": "2024-03-25T20:55:03.315397Z",
     "shell.execute_reply": "2024-03-25T20:55:03.315397Z",
     "shell.execute_reply.started": "2024-03-25T20:55:03.216561Z"
    }
   },
   "outputs": [],
   "source": [
    "# create_dates_table = '''CREATE TABLE reservation_dates (\n",
    "#     UUID VARCHAR,\n",
    "#     datetime_column TIMESTAMP,\n",
    "#     PRIMARY KEY (UUID),\n",
    "#     FOREIGN KEY (UUID) REFERENCES res_data (UUID)\n",
    "# );\n",
    "# '''\n",
    "# create_dates_table"
   ]
  },
  {
   "cell_type": "code",
   "execution_count": null,
   "id": "0cf186f3",
   "metadata": {
    "execution": {
     "iopub.execute_input": "2024-03-25T20:55:03.315397Z",
     "iopub.status.busy": "2024-03-25T20:55:03.315397Z",
     "iopub.status.idle": "2024-03-25T20:55:03.418776Z",
     "shell.execute_reply": "2024-03-25T20:55:03.418776Z",
     "shell.execute_reply.started": "2024-03-25T20:55:03.315397Z"
    }
   },
   "outputs": [],
   "source": [
    "# db_utils.alter_table(create_dates_table, db_path)"
   ]
  },
  {
   "cell_type": "code",
   "execution_count": null,
   "id": "d42a9b2e",
   "metadata": {
    "execution": {
     "iopub.execute_input": "2024-03-25T20:55:03.418776Z",
     "iopub.status.busy": "2024-03-25T20:55:03.418776Z",
     "iopub.status.idle": "2024-03-25T20:55:03.517247Z",
     "shell.execute_reply": "2024-03-25T20:55:03.517247Z",
     "shell.execute_reply.started": "2024-03-25T20:55:03.418776Z"
    }
   },
   "outputs": [],
   "source": [
    "# db_utils.alter_table('ALTER TABLE res_data ADD PRIMARY KEY (UUID);', db_path)"
   ]
  },
  {
   "cell_type": "code",
   "execution_count": null,
   "id": "810165ce",
   "metadata": {
    "execution": {
     "iopub.execute_input": "2024-03-25T20:55:03.517247Z",
     "iopub.status.busy": "2024-03-25T20:55:03.517247Z",
     "iopub.status.idle": "2024-03-25T20:55:03.617571Z",
     "shell.execute_reply": "2024-03-25T20:55:03.617571Z",
     "shell.execute_reply.started": "2024-03-25T20:55:03.517247Z"
    }
   },
   "outputs": [],
   "source": [
    "# alter_commands = \"ALTER TABLE res_data ADD COLUMN Arrival_Date DATE\"\n",
    "# with duckdb_connection(db_path) as conn:\n",
    "#     conn.execute(alter_commands)\n",
    "#     print('Completed successfully.')\n",
    "\n",
    "# drop_col = 'ALTER TABLE res_data DROP COLUMN Arrival_Date;'\n",
    "# db_utils.alter_table(drop_col, db_path)\n",
    "\n",
    "# alt_tbl_cmd = \"ALTER TABLE res_data ADD COLUMN Arrival_Date TIMESTAMP\"\n",
    "# db_utils.alter_table(alt_tbl_cmd, db_path)"
   ]
  },
  {
   "cell_type": "code",
   "execution_count": null,
   "id": "96286fe6",
   "metadata": {
    "execution": {
     "iopub.execute_input": "2024-03-25T20:55:03.622711Z",
     "iopub.status.busy": "2024-03-25T20:55:03.621705Z",
     "iopub.status.idle": "2024-03-25T20:55:03.732728Z",
     "shell.execute_reply": "2024-03-25T20:55:03.732728Z",
     "shell.execute_reply.started": "2024-03-25T20:55:03.621705Z"
    }
   },
   "outputs": [],
   "source": [
    "# q = 'SELECT Arrival_Date FROM res_data'\n",
    "# with db_utils.duckdb_connection(db_path) as conn:\n",
    "#     display(conn.execute(q).df())"
   ]
  },
  {
   "cell_type": "code",
   "execution_count": null,
   "id": "79b43d90",
   "metadata": {
    "execution": {
     "iopub.execute_input": "2024-03-25T20:55:03.733811Z",
     "iopub.status.busy": "2024-03-25T20:55:03.733811Z",
     "iopub.status.idle": "2024-03-25T20:55:03.833826Z",
     "shell.execute_reply": "2024-03-25T20:55:03.833826Z",
     "shell.execute_reply.started": "2024-03-25T20:55:03.733811Z"
    }
   },
   "outputs": [],
   "source": [
    "# q = 'SELECT Arrival_Date FROM res_data'\n",
    "# with db_utils.duckdb_connection(db_path) as conn:\n",
    "#     result = conn.execute(q).fetchall()\n",
    "\n",
    "#     for row in result:\n",
    "#         print(row)"
   ]
  },
  {
   "cell_type": "code",
   "execution_count": null,
   "id": "6b3c4f39-86be-4ccd-89b9-4f0574357cec",
   "metadata": {
    "execution": {
     "iopub.execute_input": "2024-03-25T20:55:03.833826Z",
     "iopub.status.busy": "2024-03-25T20:55:03.833826Z",
     "iopub.status.idle": "2024-03-25T20:55:03.933059Z",
     "shell.execute_reply": "2024-03-25T20:55:03.933059Z",
     "shell.execute_reply.started": "2024-03-25T20:55:03.833826Z"
    }
   },
   "outputs": [],
   "source": [
    "# ## Concatenate new column\n",
    "# df_data = pd.concat([df_data, arrival_date_dt], axis = 1)\n",
    "# df_data.head()"
   ]
  },
  {
   "cell_type": "code",
   "execution_count": null,
   "id": "d0707a10-ff20-44f8-848d-67b2e1402e48",
   "metadata": {
    "execution": {
     "iopub.execute_input": "2024-03-25T20:55:03.933059Z",
     "iopub.status.busy": "2024-03-25T20:55:03.933059Z",
     "iopub.status.idle": "2024-03-25T20:55:04.031375Z",
     "shell.execute_reply": "2024-03-25T20:55:04.031375Z",
     "shell.execute_reply.started": "2024-03-25T20:55:03.933059Z"
    }
   },
   "outputs": [],
   "source": [
    "# try:\n",
    "#     df_data = df_data.drop(columns=[ 'ArrivalDateYear', 'ArrivalDateMonth', 'ArrivalDateDayOfMonth'])\n",
    "# except:\n",
    "#     pass\n",
    "\n",
    "# df_data.head()"
   ]
  },
  {
   "cell_type": "code",
   "execution_count": null,
   "id": "be094b24",
   "metadata": {
    "execution": {
     "iopub.execute_input": "2024-03-25T20:55:04.031375Z",
     "iopub.status.busy": "2024-03-25T20:55:04.031375Z",
     "iopub.status.idle": "2024-03-25T20:55:04.133461Z",
     "shell.execute_reply": "2024-03-25T20:55:04.133461Z",
     "shell.execute_reply.started": "2024-03-25T20:55:04.031375Z"
    }
   },
   "outputs": [],
   "source": [
    "# q = 'SELECT UUID, StaysInWeekNights, StaysInWeekendNights FROM res_data'\n",
    "\n",
    "# with db_utils.duckdb_connection(db_path) as conn:\n",
    "#     stays_cols = conn.execute(q).df()\n",
    "    \n",
    "# stays_cols.head()"
   ]
  },
  {
   "cell_type": "code",
   "execution_count": null,
   "id": "db52aed4",
   "metadata": {
    "execution": {
     "iopub.execute_input": "2024-03-25T20:55:04.133461Z",
     "iopub.status.busy": "2024-03-25T20:55:04.133461Z",
     "iopub.status.idle": "2024-03-25T20:55:04.241957Z",
     "shell.execute_reply": "2024-03-25T20:55:04.241957Z",
     "shell.execute_reply.started": "2024-03-25T20:55:04.133461Z"
    }
   },
   "outputs": [],
   "source": [
    "# # pd.concat([arrival_date_cols_str, stays_cols], axis = 1)\n",
    "\n",
    "# df_data = arrival_date_cols_str.merge(stays_cols, how = 'left', on = 'UUID')\n",
    "# df_data.head()"
   ]
  },
  {
   "cell_type": "code",
   "execution_count": null,
   "id": "d2088034-85c6-4bd2-a4b4-6a3e9c0691f9",
   "metadata": {
    "execution": {
     "iopub.execute_input": "2024-03-25T20:55:04.241957Z",
     "iopub.status.busy": "2024-03-25T20:55:04.241957Z",
     "iopub.status.idle": "2024-03-25T20:55:04.354538Z",
     "shell.execute_reply": "2024-03-25T20:55:04.354538Z",
     "shell.execute_reply.started": "2024-03-25T20:55:04.241957Z"
    }
   },
   "outputs": [],
   "source": [
    "\n",
    "\n",
    "## Calculate the departure date by adding the timedeltas to the arrival date\n",
    "# departure_date = df_data.loc[:, 'ArrivalDate'] + timedelta_wk + timedelta_wknd\n",
    "# departure_date.name = 'DepartureDate'\n",
    "# departure_date.head()\n",
    "\n",
    "# df_data['DepartureDate'] = df_data.loc[:, 'ArrivalDate'] + timedelta_wk + timedelta_wknd\n",
    "# df_data.head()"
   ]
  },
  {
   "cell_type": "code",
   "execution_count": null,
   "id": "2736906b-ad8b-4ced-92a4-bfcb2069fd91",
   "metadata": {
    "execution": {
     "iopub.execute_input": "2024-03-25T20:55:04.354538Z",
     "iopub.status.busy": "2024-03-25T20:55:04.354538Z",
     "iopub.status.idle": "2024-03-25T20:55:04.480472Z",
     "shell.execute_reply": "2024-03-25T20:55:04.480472Z",
     "shell.execute_reply.started": "2024-03-25T20:55:04.354538Z"
    }
   },
   "outputs": [],
   "source": [
    "# try:\n",
    "#     df_data = df_data.drop(columns=['StaysInWeekendNights', 'StaysInWeekNights'])\n",
    "# except:\n",
    "#     pass\n",
    "\n",
    "# df_data.head()"
   ]
  },
  {
   "cell_type": "code",
   "execution_count": null,
   "id": "2f3399ac-69a1-4b4f-b022-346746c05e3c",
   "metadata": {
    "execution": {
     "iopub.execute_input": "2024-03-25T20:55:04.480472Z",
     "iopub.status.busy": "2024-03-25T20:55:04.480472Z",
     "iopub.status.idle": "2024-03-25T20:55:04.600681Z",
     "shell.execute_reply": "2024-03-25T20:55:04.600681Z",
     "shell.execute_reply.started": "2024-03-25T20:55:04.480472Z"
    }
   },
   "outputs": [],
   "source": [
    "# q = 'SELECT LeadTime from res_data'\n",
    "\n",
    "# with db_utils.duckdb_connection(db_path) as conn:\n",
    "#     leadtime = conn.execute(q).df()\n",
    "#     print('Completed successfully.')"
   ]
  },
  {
   "cell_type": "code",
   "execution_count": null,
   "id": "86c601ed",
   "metadata": {
    "execution": {
     "iopub.execute_input": "2024-03-25T20:55:04.601699Z",
     "iopub.status.busy": "2024-03-25T20:55:04.601699Z",
     "iopub.status.idle": "2024-03-25T20:55:04.717066Z",
     "shell.execute_reply": "2024-03-25T20:55:04.717066Z",
     "shell.execute_reply.started": "2024-03-25T20:55:04.601699Z"
    }
   },
   "outputs": [],
   "source": [
    "# df_data = pd.concat([df_data, leadtime['LeadTime']], axis = 1)\n",
    "\n",
    "# df_data['LeadTimeDelta'] = pd.to_timedelta(df_data['LeadTime'], unit = 'D')\n",
    "# df_data.head()"
   ]
  },
  {
   "cell_type": "code",
   "execution_count": null,
   "id": "c62e5cb4-e4da-4099-ba0c-0ef486299e88",
   "metadata": {
    "execution": {
     "iopub.execute_input": "2024-03-25T20:55:04.717066Z",
     "iopub.status.busy": "2024-03-25T20:55:04.717066Z",
     "iopub.status.idle": "2024-03-25T20:55:04.847888Z",
     "shell.execute_reply": "2024-03-25T20:55:04.847888Z",
     "shell.execute_reply.started": "2024-03-25T20:55:04.717066Z"
    }
   },
   "outputs": [],
   "source": [
    "# df_data['BookingDate'] = df_data['ArrivalDate'] - df_data\n",
    "# df_data.head(10)"
   ]
  },
  {
   "cell_type": "code",
   "execution_count": null,
   "id": "a7292810-a129-4c7b-8813-d652c8a0c8b5",
   "metadata": {
    "execution": {
     "iopub.execute_input": "2024-03-25T20:55:04.849882Z",
     "iopub.status.busy": "2024-03-25T20:55:04.848884Z",
     "iopub.status.idle": "2024-03-25T20:55:04.967881Z",
     "shell.execute_reply": "2024-03-25T20:55:04.967881Z",
     "shell.execute_reply.started": "2024-03-25T20:55:04.849882Z"
    }
   },
   "outputs": [],
   "source": [
    "# df_data = df_data.drop(columns = ['LeadTime']) ## Maintain for future modeling\n",
    "\n",
    "# df_data.head(10)"
   ]
  },
  {
   "cell_type": "code",
   "execution_count": null,
   "id": "cfc3b6dd-fe08-46ac-88b0-161a6c6b93d4",
   "metadata": {
    "execution": {
     "iopub.execute_input": "2024-03-25T20:55:04.967881Z",
     "iopub.status.busy": "2024-03-25T20:55:04.967881Z",
     "iopub.status.idle": "2024-03-25T20:55:05.094395Z",
     "shell.execute_reply": "2024-03-25T20:55:05.094395Z",
     "shell.execute_reply.started": "2024-03-25T20:55:04.967881Z"
    }
   },
   "outputs": [],
   "source": [
    "# df_data['Arrival_Date'].max() - df_data['Arrival_Date'].min()"
   ]
  },
  {
   "cell_type": "code",
   "execution_count": null,
   "id": "d4a24a5d-1d47-4c6a-b73c-c2ac584256b2",
   "metadata": {
    "execution": {
     "iopub.execute_input": "2024-03-25T20:55:05.094395Z",
     "iopub.status.busy": "2024-03-25T20:55:05.094395Z",
     "iopub.status.idle": "2024-03-25T20:55:05.239815Z",
     "shell.execute_reply": "2024-03-25T20:55:05.239815Z",
     "shell.execute_reply.started": "2024-03-25T20:55:05.094395Z"
    }
   },
   "outputs": [],
   "source": [
    "# df_data['Booking_Date'].max() - df_data['Booking_Date'].min()"
   ]
  },
  {
   "cell_type": "code",
   "execution_count": null,
   "id": "f112ab47-9da7-44c2-b02e-c6611c686eff",
   "metadata": {},
   "outputs": [],
   "source": []
  }
 ],
 "metadata": {
  "kernelspec": {
   "display_name": "Python 3 (ipykernel)",
   "language": "python",
   "name": "python3"
  },
  "language_info": {
   "codemirror_mode": {
    "name": "ipython",
    "version": 3
   },
   "file_extension": ".py",
   "mimetype": "text/x-python",
   "name": "python",
   "nbconvert_exporter": "python",
   "pygments_lexer": "ipython3",
   "version": "3.10.10"
  },
  "widgets": {
   "application/vnd.jupyter.widget-state+json": {
    "state": {},
    "version_major": 2,
    "version_minor": 0
   }
  }
 },
 "nbformat": 4,
 "nbformat_minor": 5
}
