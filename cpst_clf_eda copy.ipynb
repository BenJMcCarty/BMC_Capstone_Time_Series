{
 "cells": [
  {
   "cell_type": "markdown",
   "metadata": {},
   "source": [
    "# ❌ **Cancel Culture** ❌ - **EDA Notebook**"
   ]
  },
  {
   "cell_type": "markdown",
   "metadata": {},
   "source": [
    "**Who?**\n",
    ">* 🏢 **Revenue Management (RM) teams** for hotel groups (corporate, franchise)\n",
    ">\n",
    ">\n",
    ">* 🏨 On-site GMs, Sales, and Ops teams\n",
    "\n",
    "**Why?**\n",
    ">* 💰 **Revenue Management:** \n",
    ">  * Revenue optimization: Right price, right time, right customer\n",
    ">    * Dynamic pricing\n",
    ">    * Distribution channels\n",
    ">    * Pricing per room type\n",
    ">\n",
    ">\n",
    ">* 🤝 **Sales:**\n",
    ">  * Group sales (pickup/wash)\n",
    ">  * BT (performance/company for both GPP and LNR rates)\n",
    ">\n",
    ">\n",
    ">* 🛌 **Rooms Ops:**\n",
    ">  * Forecasting occupancy, arrivals, departures, stay-overs, same-day booking demand, and probability of guest relocation in the case of oversell.\n",
    ">  * Determining staff schedules and periods of high demand\n",
    ">\n",
    ">\n",
    ">* 🍰 ☕ **Food and Beverage:**\n",
    ">  * Ordering food/supplies overall\n",
    ">  * Scheduling staff\n",
    ">  * Determining busy times (breakfast, lunch, dinner)\n",
    ">    * Staffing, specific food/supplies\n",
    "\n",
    "**What?**\n",
    ">* 🧾 Dataset comprised of... \n",
    ">  * 32 different features\n",
    ">    * Detailed explanation of features (and sub-categories, when appropriate) available in Readme\n",
    ">  * Nearly 120,000 reservation records\n",
    ">  * Source cited in Readme\n",
    "\n",
    "❌ **How?**\n",
    ">* Which models/methods? \n",
    ">* Data prep and feature engineering"
   ]
  },
  {
   "cell_type": "markdown",
   "metadata": {},
   "source": [
    "---\n",
    "\n",
    "> **Goal:** To prepare data for time series modeling and forecasting in next notebook.\n",
    ">\n",
    ">\n",
    "> **Purpose:** to explore, clean, and organize.\n",
    ">\n",
    ">\n",
    "> **Process:**\n",
    ">\n",
    ">    * Inspecting data integrity and statistics\n",
    ">    * Splitting data by hotel type (\"City\" vs. \"Resort\")\n",
    ">    * Filling any missing values\n",
    ">    * \n",
    ">    * Save processed data for modeling notebook\n",
    ">\n",
    ">\n",
    "> **Modeling Notebook:**\n",
    ">\n",
    ">    * Performing train/test split\n",
    ">    * \n",
    ">    * Training the model\n",
    ">    * \n",
    ">    * Evaluate performance metrics\n",
    ">    * Provide final recommendations\n",
    "\n",
    "---"
   ]
  },
  {
   "cell_type": "markdown",
   "metadata": {},
   "source": [
    "# ✅ **To-Do List**"
   ]
  },
  {
   "cell_type": "markdown",
   "metadata": {},
   "source": [
    "---\n",
    "\n",
    "**Copy:**\n",
    "- [ ] Imports\n",
    "- [ ] Personal module\n",
    "- [ ] Data\n",
    "- [ ] Starter code from P4P\n",
    "\n",
    "**Links:**\n",
    "- [ ] \n",
    "\n",
    "---"
   ]
  },
  {
   "cell_type": "markdown",
   "metadata": {},
   "source": [
    "# 📦 **Import Packages**"
   ]
  },
  {
   "cell_type": "code",
   "execution_count": 53,
   "metadata": {
    "ExecuteTime": {
     "end_time": "2021-08-31T16:31:18.951775Z",
     "start_time": "2021-08-31T16:31:18.828776Z"
    }
   },
   "outputs": [],
   "source": [
    "## Data Handling\n",
    "import pandas as pd\n",
    "import numpy as np\n",
    "from scipy import stats\n",
    "\n",
    "## Visualizations\n",
    "import matplotlib.pyplot as plt\n",
    "import seaborn as sns\n",
    "import plotly.express as px\n",
    "\n",
    "# Modeling - SKLearn\n",
    "from sklearn.linear_model import LogisticRegression\n",
    "from sklearn.preprocessing import StandardScaler, OneHotEncoder, FunctionTransformer\n",
    "from sklearn.model_selection import train_test_split, cross_validate, cross_val_score\n",
    "from sklearn.impute import SimpleImputer\n",
    "from sklearn.compose import ColumnTransformer\n",
    "from sklearn.pipeline import Pipeline\n",
    "from sklearn.dummy import DummyClassifier\n",
    "from sklearn import set_config\n",
    "set_config(display='diagram')\n",
    "\n",
    "\n",
    "## Custom-made Functions\n",
    "from bmc_functions import eda\n",
    "from bmc_functions import classification as clf\n",
    "\n",
    "## Settings\n",
    "plt.style.use('seaborn-talk')\n",
    "pd.set_option('display.max_columns', None)\n",
    "pd.set_option('display.float_format', lambda x: f'{x:,.2f}')\n",
    "pd.set_option('max_rows', 100)\n",
    "%matplotlib inline"
   ]
  },
  {
   "cell_type": "code",
   "execution_count": 54,
   "metadata": {
    "ExecuteTime": {
     "end_time": "2021-08-31T16:31:19.078787Z",
     "start_time": "2021-08-31T16:31:18.953776Z"
    }
   },
   "outputs": [
    {
     "name": "stdout",
     "output_type": "stream",
     "text": [
      "The autoreload extension is already loaded. To reload it, use:\n",
      "  %reload_ext autoreload\n"
     ]
    }
   ],
   "source": [
    "%load_ext autoreload\n",
    "%autoreload 2"
   ]
  },
  {
   "cell_type": "markdown",
   "metadata": {},
   "source": [
    "# 📥 **Read Data**"
   ]
  },
  {
   "cell_type": "code",
   "execution_count": 55,
   "metadata": {
    "ExecuteTime": {
     "end_time": "2021-08-31T16:31:19.685776Z",
     "start_time": "2021-08-31T16:31:19.080777Z"
    }
   },
   "outputs": [
    {
     "data": {
      "text/html": [
       "<div>\n",
       "<style scoped>\n",
       "    .dataframe tbody tr th:only-of-type {\n",
       "        vertical-align: middle;\n",
       "    }\n",
       "\n",
       "    .dataframe tbody tr th {\n",
       "        vertical-align: top;\n",
       "    }\n",
       "\n",
       "    .dataframe thead th {\n",
       "        text-align: right;\n",
       "    }\n",
       "</style>\n",
       "<table border=\"1\" class=\"dataframe\">\n",
       "  <thead>\n",
       "    <tr style=\"text-align: right;\">\n",
       "      <th></th>\n",
       "      <th>hotel</th>\n",
       "      <th>is_canceled</th>\n",
       "      <th>lead_time</th>\n",
       "      <th>arrival_date_year</th>\n",
       "      <th>arrival_date_month</th>\n",
       "      <th>arrival_date_week_number</th>\n",
       "      <th>arrival_date_day_of_month</th>\n",
       "      <th>stays_in_weekend_nights</th>\n",
       "      <th>stays_in_week_nights</th>\n",
       "      <th>adults</th>\n",
       "      <th>children</th>\n",
       "      <th>babies</th>\n",
       "      <th>meal</th>\n",
       "      <th>country</th>\n",
       "      <th>market_segment</th>\n",
       "      <th>distribution_channel</th>\n",
       "      <th>is_repeated_guest</th>\n",
       "      <th>previous_cancellations</th>\n",
       "      <th>previous_bookings_not_canceled</th>\n",
       "      <th>reserved_room_type</th>\n",
       "      <th>assigned_room_type</th>\n",
       "      <th>booking_changes</th>\n",
       "      <th>deposit_type</th>\n",
       "      <th>agent</th>\n",
       "      <th>company</th>\n",
       "      <th>days_in_waiting_list</th>\n",
       "      <th>customer_type</th>\n",
       "      <th>adr</th>\n",
       "      <th>required_car_parking_spaces</th>\n",
       "      <th>total_of_special_requests</th>\n",
       "      <th>reservation_status</th>\n",
       "      <th>reservation_status_date</th>\n",
       "    </tr>\n",
       "  </thead>\n",
       "  <tbody>\n",
       "    <tr>\n",
       "      <th>0</th>\n",
       "      <td>Resort Hotel</td>\n",
       "      <td>0</td>\n",
       "      <td>342</td>\n",
       "      <td>2015</td>\n",
       "      <td>July</td>\n",
       "      <td>27</td>\n",
       "      <td>1</td>\n",
       "      <td>0</td>\n",
       "      <td>0</td>\n",
       "      <td>2</td>\n",
       "      <td>0.00</td>\n",
       "      <td>0</td>\n",
       "      <td>BB</td>\n",
       "      <td>PRT</td>\n",
       "      <td>Direct</td>\n",
       "      <td>Direct</td>\n",
       "      <td>0</td>\n",
       "      <td>0</td>\n",
       "      <td>0</td>\n",
       "      <td>C</td>\n",
       "      <td>C</td>\n",
       "      <td>3</td>\n",
       "      <td>No Deposit</td>\n",
       "      <td>nan</td>\n",
       "      <td>nan</td>\n",
       "      <td>0</td>\n",
       "      <td>Transient</td>\n",
       "      <td>0.00</td>\n",
       "      <td>0</td>\n",
       "      <td>0</td>\n",
       "      <td>Check-Out</td>\n",
       "      <td>2015-07-01</td>\n",
       "    </tr>\n",
       "    <tr>\n",
       "      <th>1</th>\n",
       "      <td>Resort Hotel</td>\n",
       "      <td>0</td>\n",
       "      <td>737</td>\n",
       "      <td>2015</td>\n",
       "      <td>July</td>\n",
       "      <td>27</td>\n",
       "      <td>1</td>\n",
       "      <td>0</td>\n",
       "      <td>0</td>\n",
       "      <td>2</td>\n",
       "      <td>0.00</td>\n",
       "      <td>0</td>\n",
       "      <td>BB</td>\n",
       "      <td>PRT</td>\n",
       "      <td>Direct</td>\n",
       "      <td>Direct</td>\n",
       "      <td>0</td>\n",
       "      <td>0</td>\n",
       "      <td>0</td>\n",
       "      <td>C</td>\n",
       "      <td>C</td>\n",
       "      <td>4</td>\n",
       "      <td>No Deposit</td>\n",
       "      <td>nan</td>\n",
       "      <td>nan</td>\n",
       "      <td>0</td>\n",
       "      <td>Transient</td>\n",
       "      <td>0.00</td>\n",
       "      <td>0</td>\n",
       "      <td>0</td>\n",
       "      <td>Check-Out</td>\n",
       "      <td>2015-07-01</td>\n",
       "    </tr>\n",
       "    <tr>\n",
       "      <th>2</th>\n",
       "      <td>Resort Hotel</td>\n",
       "      <td>0</td>\n",
       "      <td>7</td>\n",
       "      <td>2015</td>\n",
       "      <td>July</td>\n",
       "      <td>27</td>\n",
       "      <td>1</td>\n",
       "      <td>0</td>\n",
       "      <td>1</td>\n",
       "      <td>1</td>\n",
       "      <td>0.00</td>\n",
       "      <td>0</td>\n",
       "      <td>BB</td>\n",
       "      <td>GBR</td>\n",
       "      <td>Direct</td>\n",
       "      <td>Direct</td>\n",
       "      <td>0</td>\n",
       "      <td>0</td>\n",
       "      <td>0</td>\n",
       "      <td>A</td>\n",
       "      <td>C</td>\n",
       "      <td>0</td>\n",
       "      <td>No Deposit</td>\n",
       "      <td>nan</td>\n",
       "      <td>nan</td>\n",
       "      <td>0</td>\n",
       "      <td>Transient</td>\n",
       "      <td>75.00</td>\n",
       "      <td>0</td>\n",
       "      <td>0</td>\n",
       "      <td>Check-Out</td>\n",
       "      <td>2015-07-02</td>\n",
       "    </tr>\n",
       "    <tr>\n",
       "      <th>3</th>\n",
       "      <td>Resort Hotel</td>\n",
       "      <td>0</td>\n",
       "      <td>13</td>\n",
       "      <td>2015</td>\n",
       "      <td>July</td>\n",
       "      <td>27</td>\n",
       "      <td>1</td>\n",
       "      <td>0</td>\n",
       "      <td>1</td>\n",
       "      <td>1</td>\n",
       "      <td>0.00</td>\n",
       "      <td>0</td>\n",
       "      <td>BB</td>\n",
       "      <td>GBR</td>\n",
       "      <td>Corporate</td>\n",
       "      <td>Corporate</td>\n",
       "      <td>0</td>\n",
       "      <td>0</td>\n",
       "      <td>0</td>\n",
       "      <td>A</td>\n",
       "      <td>A</td>\n",
       "      <td>0</td>\n",
       "      <td>No Deposit</td>\n",
       "      <td>304.00</td>\n",
       "      <td>nan</td>\n",
       "      <td>0</td>\n",
       "      <td>Transient</td>\n",
       "      <td>75.00</td>\n",
       "      <td>0</td>\n",
       "      <td>0</td>\n",
       "      <td>Check-Out</td>\n",
       "      <td>2015-07-02</td>\n",
       "    </tr>\n",
       "    <tr>\n",
       "      <th>4</th>\n",
       "      <td>Resort Hotel</td>\n",
       "      <td>0</td>\n",
       "      <td>14</td>\n",
       "      <td>2015</td>\n",
       "      <td>July</td>\n",
       "      <td>27</td>\n",
       "      <td>1</td>\n",
       "      <td>0</td>\n",
       "      <td>2</td>\n",
       "      <td>2</td>\n",
       "      <td>0.00</td>\n",
       "      <td>0</td>\n",
       "      <td>BB</td>\n",
       "      <td>GBR</td>\n",
       "      <td>Online TA</td>\n",
       "      <td>TA/TO</td>\n",
       "      <td>0</td>\n",
       "      <td>0</td>\n",
       "      <td>0</td>\n",
       "      <td>A</td>\n",
       "      <td>A</td>\n",
       "      <td>0</td>\n",
       "      <td>No Deposit</td>\n",
       "      <td>240.00</td>\n",
       "      <td>nan</td>\n",
       "      <td>0</td>\n",
       "      <td>Transient</td>\n",
       "      <td>98.00</td>\n",
       "      <td>0</td>\n",
       "      <td>1</td>\n",
       "      <td>Check-Out</td>\n",
       "      <td>2015-07-03</td>\n",
       "    </tr>\n",
       "    <tr>\n",
       "      <th>...</th>\n",
       "      <td>...</td>\n",
       "      <td>...</td>\n",
       "      <td>...</td>\n",
       "      <td>...</td>\n",
       "      <td>...</td>\n",
       "      <td>...</td>\n",
       "      <td>...</td>\n",
       "      <td>...</td>\n",
       "      <td>...</td>\n",
       "      <td>...</td>\n",
       "      <td>...</td>\n",
       "      <td>...</td>\n",
       "      <td>...</td>\n",
       "      <td>...</td>\n",
       "      <td>...</td>\n",
       "      <td>...</td>\n",
       "      <td>...</td>\n",
       "      <td>...</td>\n",
       "      <td>...</td>\n",
       "      <td>...</td>\n",
       "      <td>...</td>\n",
       "      <td>...</td>\n",
       "      <td>...</td>\n",
       "      <td>...</td>\n",
       "      <td>...</td>\n",
       "      <td>...</td>\n",
       "      <td>...</td>\n",
       "      <td>...</td>\n",
       "      <td>...</td>\n",
       "      <td>...</td>\n",
       "      <td>...</td>\n",
       "      <td>...</td>\n",
       "    </tr>\n",
       "    <tr>\n",
       "      <th>119385</th>\n",
       "      <td>City Hotel</td>\n",
       "      <td>0</td>\n",
       "      <td>23</td>\n",
       "      <td>2017</td>\n",
       "      <td>August</td>\n",
       "      <td>35</td>\n",
       "      <td>30</td>\n",
       "      <td>2</td>\n",
       "      <td>5</td>\n",
       "      <td>2</td>\n",
       "      <td>0.00</td>\n",
       "      <td>0</td>\n",
       "      <td>BB</td>\n",
       "      <td>BEL</td>\n",
       "      <td>Offline TA/TO</td>\n",
       "      <td>TA/TO</td>\n",
       "      <td>0</td>\n",
       "      <td>0</td>\n",
       "      <td>0</td>\n",
       "      <td>A</td>\n",
       "      <td>A</td>\n",
       "      <td>0</td>\n",
       "      <td>No Deposit</td>\n",
       "      <td>394.00</td>\n",
       "      <td>nan</td>\n",
       "      <td>0</td>\n",
       "      <td>Transient</td>\n",
       "      <td>96.14</td>\n",
       "      <td>0</td>\n",
       "      <td>0</td>\n",
       "      <td>Check-Out</td>\n",
       "      <td>2017-09-06</td>\n",
       "    </tr>\n",
       "    <tr>\n",
       "      <th>119386</th>\n",
       "      <td>City Hotel</td>\n",
       "      <td>0</td>\n",
       "      <td>102</td>\n",
       "      <td>2017</td>\n",
       "      <td>August</td>\n",
       "      <td>35</td>\n",
       "      <td>31</td>\n",
       "      <td>2</td>\n",
       "      <td>5</td>\n",
       "      <td>3</td>\n",
       "      <td>0.00</td>\n",
       "      <td>0</td>\n",
       "      <td>BB</td>\n",
       "      <td>FRA</td>\n",
       "      <td>Online TA</td>\n",
       "      <td>TA/TO</td>\n",
       "      <td>0</td>\n",
       "      <td>0</td>\n",
       "      <td>0</td>\n",
       "      <td>E</td>\n",
       "      <td>E</td>\n",
       "      <td>0</td>\n",
       "      <td>No Deposit</td>\n",
       "      <td>9.00</td>\n",
       "      <td>nan</td>\n",
       "      <td>0</td>\n",
       "      <td>Transient</td>\n",
       "      <td>225.43</td>\n",
       "      <td>0</td>\n",
       "      <td>2</td>\n",
       "      <td>Check-Out</td>\n",
       "      <td>2017-09-07</td>\n",
       "    </tr>\n",
       "    <tr>\n",
       "      <th>119387</th>\n",
       "      <td>City Hotel</td>\n",
       "      <td>0</td>\n",
       "      <td>34</td>\n",
       "      <td>2017</td>\n",
       "      <td>August</td>\n",
       "      <td>35</td>\n",
       "      <td>31</td>\n",
       "      <td>2</td>\n",
       "      <td>5</td>\n",
       "      <td>2</td>\n",
       "      <td>0.00</td>\n",
       "      <td>0</td>\n",
       "      <td>BB</td>\n",
       "      <td>DEU</td>\n",
       "      <td>Online TA</td>\n",
       "      <td>TA/TO</td>\n",
       "      <td>0</td>\n",
       "      <td>0</td>\n",
       "      <td>0</td>\n",
       "      <td>D</td>\n",
       "      <td>D</td>\n",
       "      <td>0</td>\n",
       "      <td>No Deposit</td>\n",
       "      <td>9.00</td>\n",
       "      <td>nan</td>\n",
       "      <td>0</td>\n",
       "      <td>Transient</td>\n",
       "      <td>157.71</td>\n",
       "      <td>0</td>\n",
       "      <td>4</td>\n",
       "      <td>Check-Out</td>\n",
       "      <td>2017-09-07</td>\n",
       "    </tr>\n",
       "    <tr>\n",
       "      <th>119388</th>\n",
       "      <td>City Hotel</td>\n",
       "      <td>0</td>\n",
       "      <td>109</td>\n",
       "      <td>2017</td>\n",
       "      <td>August</td>\n",
       "      <td>35</td>\n",
       "      <td>31</td>\n",
       "      <td>2</td>\n",
       "      <td>5</td>\n",
       "      <td>2</td>\n",
       "      <td>0.00</td>\n",
       "      <td>0</td>\n",
       "      <td>BB</td>\n",
       "      <td>GBR</td>\n",
       "      <td>Online TA</td>\n",
       "      <td>TA/TO</td>\n",
       "      <td>0</td>\n",
       "      <td>0</td>\n",
       "      <td>0</td>\n",
       "      <td>A</td>\n",
       "      <td>A</td>\n",
       "      <td>0</td>\n",
       "      <td>No Deposit</td>\n",
       "      <td>89.00</td>\n",
       "      <td>nan</td>\n",
       "      <td>0</td>\n",
       "      <td>Transient</td>\n",
       "      <td>104.40</td>\n",
       "      <td>0</td>\n",
       "      <td>0</td>\n",
       "      <td>Check-Out</td>\n",
       "      <td>2017-09-07</td>\n",
       "    </tr>\n",
       "    <tr>\n",
       "      <th>119389</th>\n",
       "      <td>City Hotel</td>\n",
       "      <td>0</td>\n",
       "      <td>205</td>\n",
       "      <td>2017</td>\n",
       "      <td>August</td>\n",
       "      <td>35</td>\n",
       "      <td>29</td>\n",
       "      <td>2</td>\n",
       "      <td>7</td>\n",
       "      <td>2</td>\n",
       "      <td>0.00</td>\n",
       "      <td>0</td>\n",
       "      <td>HB</td>\n",
       "      <td>DEU</td>\n",
       "      <td>Online TA</td>\n",
       "      <td>TA/TO</td>\n",
       "      <td>0</td>\n",
       "      <td>0</td>\n",
       "      <td>0</td>\n",
       "      <td>A</td>\n",
       "      <td>A</td>\n",
       "      <td>0</td>\n",
       "      <td>No Deposit</td>\n",
       "      <td>9.00</td>\n",
       "      <td>nan</td>\n",
       "      <td>0</td>\n",
       "      <td>Transient</td>\n",
       "      <td>151.20</td>\n",
       "      <td>0</td>\n",
       "      <td>2</td>\n",
       "      <td>Check-Out</td>\n",
       "      <td>2017-09-07</td>\n",
       "    </tr>\n",
       "  </tbody>\n",
       "</table>\n",
       "<p>119390 rows × 32 columns</p>\n",
       "</div>"
      ],
      "text/plain": [
       "               hotel  is_canceled  lead_time  arrival_date_year  \\\n",
       "0       Resort Hotel            0        342               2015   \n",
       "1       Resort Hotel            0        737               2015   \n",
       "2       Resort Hotel            0          7               2015   \n",
       "3       Resort Hotel            0         13               2015   \n",
       "4       Resort Hotel            0         14               2015   \n",
       "...              ...          ...        ...                ...   \n",
       "119385    City Hotel            0         23               2017   \n",
       "119386    City Hotel            0        102               2017   \n",
       "119387    City Hotel            0         34               2017   \n",
       "119388    City Hotel            0        109               2017   \n",
       "119389    City Hotel            0        205               2017   \n",
       "\n",
       "       arrival_date_month  arrival_date_week_number  \\\n",
       "0                    July                        27   \n",
       "1                    July                        27   \n",
       "2                    July                        27   \n",
       "3                    July                        27   \n",
       "4                    July                        27   \n",
       "...                   ...                       ...   \n",
       "119385             August                        35   \n",
       "119386             August                        35   \n",
       "119387             August                        35   \n",
       "119388             August                        35   \n",
       "119389             August                        35   \n",
       "\n",
       "        arrival_date_day_of_month  stays_in_weekend_nights  \\\n",
       "0                               1                        0   \n",
       "1                               1                        0   \n",
       "2                               1                        0   \n",
       "3                               1                        0   \n",
       "4                               1                        0   \n",
       "...                           ...                      ...   \n",
       "119385                         30                        2   \n",
       "119386                         31                        2   \n",
       "119387                         31                        2   \n",
       "119388                         31                        2   \n",
       "119389                         29                        2   \n",
       "\n",
       "        stays_in_week_nights  adults  children  babies meal country  \\\n",
       "0                          0       2      0.00       0   BB     PRT   \n",
       "1                          0       2      0.00       0   BB     PRT   \n",
       "2                          1       1      0.00       0   BB     GBR   \n",
       "3                          1       1      0.00       0   BB     GBR   \n",
       "4                          2       2      0.00       0   BB     GBR   \n",
       "...                      ...     ...       ...     ...  ...     ...   \n",
       "119385                     5       2      0.00       0   BB     BEL   \n",
       "119386                     5       3      0.00       0   BB     FRA   \n",
       "119387                     5       2      0.00       0   BB     DEU   \n",
       "119388                     5       2      0.00       0   BB     GBR   \n",
       "119389                     7       2      0.00       0   HB     DEU   \n",
       "\n",
       "       market_segment distribution_channel  is_repeated_guest  \\\n",
       "0              Direct               Direct                  0   \n",
       "1              Direct               Direct                  0   \n",
       "2              Direct               Direct                  0   \n",
       "3           Corporate            Corporate                  0   \n",
       "4           Online TA                TA/TO                  0   \n",
       "...               ...                  ...                ...   \n",
       "119385  Offline TA/TO                TA/TO                  0   \n",
       "119386      Online TA                TA/TO                  0   \n",
       "119387      Online TA                TA/TO                  0   \n",
       "119388      Online TA                TA/TO                  0   \n",
       "119389      Online TA                TA/TO                  0   \n",
       "\n",
       "        previous_cancellations  previous_bookings_not_canceled  \\\n",
       "0                            0                               0   \n",
       "1                            0                               0   \n",
       "2                            0                               0   \n",
       "3                            0                               0   \n",
       "4                            0                               0   \n",
       "...                        ...                             ...   \n",
       "119385                       0                               0   \n",
       "119386                       0                               0   \n",
       "119387                       0                               0   \n",
       "119388                       0                               0   \n",
       "119389                       0                               0   \n",
       "\n",
       "       reserved_room_type assigned_room_type  booking_changes deposit_type  \\\n",
       "0                       C                  C                3   No Deposit   \n",
       "1                       C                  C                4   No Deposit   \n",
       "2                       A                  C                0   No Deposit   \n",
       "3                       A                  A                0   No Deposit   \n",
       "4                       A                  A                0   No Deposit   \n",
       "...                   ...                ...              ...          ...   \n",
       "119385                  A                  A                0   No Deposit   \n",
       "119386                  E                  E                0   No Deposit   \n",
       "119387                  D                  D                0   No Deposit   \n",
       "119388                  A                  A                0   No Deposit   \n",
       "119389                  A                  A                0   No Deposit   \n",
       "\n",
       "        agent  company  days_in_waiting_list customer_type    adr  \\\n",
       "0         nan      nan                     0     Transient   0.00   \n",
       "1         nan      nan                     0     Transient   0.00   \n",
       "2         nan      nan                     0     Transient  75.00   \n",
       "3      304.00      nan                     0     Transient  75.00   \n",
       "4      240.00      nan                     0     Transient  98.00   \n",
       "...       ...      ...                   ...           ...    ...   \n",
       "119385 394.00      nan                     0     Transient  96.14   \n",
       "119386   9.00      nan                     0     Transient 225.43   \n",
       "119387   9.00      nan                     0     Transient 157.71   \n",
       "119388  89.00      nan                     0     Transient 104.40   \n",
       "119389   9.00      nan                     0     Transient 151.20   \n",
       "\n",
       "        required_car_parking_spaces  total_of_special_requests  \\\n",
       "0                                 0                          0   \n",
       "1                                 0                          0   \n",
       "2                                 0                          0   \n",
       "3                                 0                          0   \n",
       "4                                 0                          1   \n",
       "...                             ...                        ...   \n",
       "119385                            0                          0   \n",
       "119386                            0                          2   \n",
       "119387                            0                          4   \n",
       "119388                            0                          0   \n",
       "119389                            0                          2   \n",
       "\n",
       "       reservation_status reservation_status_date  \n",
       "0               Check-Out              2015-07-01  \n",
       "1               Check-Out              2015-07-01  \n",
       "2               Check-Out              2015-07-02  \n",
       "3               Check-Out              2015-07-02  \n",
       "4               Check-Out              2015-07-03  \n",
       "...                   ...                     ...  \n",
       "119385          Check-Out              2017-09-06  \n",
       "119386          Check-Out              2017-09-07  \n",
       "119387          Check-Out              2017-09-07  \n",
       "119388          Check-Out              2017-09-07  \n",
       "119389          Check-Out              2017-09-07  \n",
       "\n",
       "[119390 rows x 32 columns]"
      ]
     },
     "execution_count": 55,
     "metadata": {},
     "output_type": "execute_result"
    }
   ],
   "source": [
    "## Reading data\n",
    "source = './data/hotel_bookings.csv'\n",
    "data = pd.read_csv(source)\n",
    "data"
   ]
  },
  {
   "cell_type": "code",
   "execution_count": 56,
   "metadata": {
    "ExecuteTime": {
     "end_time": "2021-08-31T16:31:19.809777Z",
     "start_time": "2021-08-31T16:31:19.687777Z"
    },
    "scrolled": true
   },
   "outputs": [
    {
     "data": {
      "text/plain": [
       "City Hotel     0.66\n",
       "Resort Hotel   0.34\n",
       "Name: hotel, dtype: float64"
      ]
     },
     "execution_count": 56,
     "metadata": {},
     "output_type": "execute_result"
    }
   ],
   "source": [
    "## Inspecting percentage of city vs. resort hotels\n",
    "data['hotel'].value_counts(1)"
   ]
  },
  {
   "cell_type": "markdown",
   "metadata": {},
   "source": [
    "# 🪓 **Splitting \"City\" and \"Resort\"**"
   ]
  },
  {
   "cell_type": "code",
   "execution_count": 57,
   "metadata": {
    "ExecuteTime": {
     "end_time": "2021-08-31T16:31:20.011781Z",
     "start_time": "2021-08-31T16:31:19.812798Z"
    }
   },
   "outputs": [
    {
     "name": "stderr",
     "output_type": "stream",
     "text": [
      "C:\\Users\\bmcca\\anaconda3\\envs\\learn-env\\lib\\site-packages\\pandas\\core\\frame.py:4117: SettingWithCopyWarning:\n",
      "\n",
      "\n",
      "A value is trying to be set on a copy of a slice from a DataFrame\n",
      "\n",
      "See the caveats in the documentation: http://pandas.pydata.org/pandas-docs/stable/user_guide/indexing.html#returning-a-view-versus-a-copy\n",
      "\n"
     ]
    },
    {
     "data": {
      "text/html": [
       "<div>\n",
       "<style scoped>\n",
       "    .dataframe tbody tr th:only-of-type {\n",
       "        vertical-align: middle;\n",
       "    }\n",
       "\n",
       "    .dataframe tbody tr th {\n",
       "        vertical-align: top;\n",
       "    }\n",
       "\n",
       "    .dataframe thead th {\n",
       "        text-align: right;\n",
       "    }\n",
       "</style>\n",
       "<table border=\"1\" class=\"dataframe\">\n",
       "  <thead>\n",
       "    <tr style=\"text-align: right;\">\n",
       "      <th></th>\n",
       "      <th>is_canceled</th>\n",
       "      <th>lead_time</th>\n",
       "      <th>arrival_date_year</th>\n",
       "      <th>arrival_date_month</th>\n",
       "      <th>arrival_date_week_number</th>\n",
       "      <th>arrival_date_day_of_month</th>\n",
       "      <th>stays_in_weekend_nights</th>\n",
       "      <th>stays_in_week_nights</th>\n",
       "      <th>adults</th>\n",
       "      <th>children</th>\n",
       "      <th>babies</th>\n",
       "      <th>meal</th>\n",
       "      <th>country</th>\n",
       "      <th>market_segment</th>\n",
       "      <th>distribution_channel</th>\n",
       "      <th>is_repeated_guest</th>\n",
       "      <th>previous_cancellations</th>\n",
       "      <th>previous_bookings_not_canceled</th>\n",
       "      <th>reserved_room_type</th>\n",
       "      <th>assigned_room_type</th>\n",
       "      <th>booking_changes</th>\n",
       "      <th>deposit_type</th>\n",
       "      <th>agent</th>\n",
       "      <th>company</th>\n",
       "      <th>days_in_waiting_list</th>\n",
       "      <th>customer_type</th>\n",
       "      <th>adr</th>\n",
       "      <th>required_car_parking_spaces</th>\n",
       "      <th>total_of_special_requests</th>\n",
       "      <th>reservation_status</th>\n",
       "      <th>reservation_status_date</th>\n",
       "    </tr>\n",
       "  </thead>\n",
       "  <tbody>\n",
       "    <tr>\n",
       "      <th>40060</th>\n",
       "      <td>0</td>\n",
       "      <td>6</td>\n",
       "      <td>2015</td>\n",
       "      <td>July</td>\n",
       "      <td>27</td>\n",
       "      <td>1</td>\n",
       "      <td>0</td>\n",
       "      <td>2</td>\n",
       "      <td>1</td>\n",
       "      <td>0.00</td>\n",
       "      <td>0</td>\n",
       "      <td>HB</td>\n",
       "      <td>PRT</td>\n",
       "      <td>Offline TA/TO</td>\n",
       "      <td>TA/TO</td>\n",
       "      <td>0</td>\n",
       "      <td>0</td>\n",
       "      <td>0</td>\n",
       "      <td>A</td>\n",
       "      <td>A</td>\n",
       "      <td>0</td>\n",
       "      <td>No Deposit</td>\n",
       "      <td>6.00</td>\n",
       "      <td>nan</td>\n",
       "      <td>0</td>\n",
       "      <td>Transient</td>\n",
       "      <td>0.00</td>\n",
       "      <td>0</td>\n",
       "      <td>0</td>\n",
       "      <td>Check-Out</td>\n",
       "      <td>2015-07-03</td>\n",
       "    </tr>\n",
       "    <tr>\n",
       "      <th>40061</th>\n",
       "      <td>1</td>\n",
       "      <td>88</td>\n",
       "      <td>2015</td>\n",
       "      <td>July</td>\n",
       "      <td>27</td>\n",
       "      <td>1</td>\n",
       "      <td>0</td>\n",
       "      <td>4</td>\n",
       "      <td>2</td>\n",
       "      <td>0.00</td>\n",
       "      <td>0</td>\n",
       "      <td>BB</td>\n",
       "      <td>PRT</td>\n",
       "      <td>Online TA</td>\n",
       "      <td>TA/TO</td>\n",
       "      <td>0</td>\n",
       "      <td>0</td>\n",
       "      <td>0</td>\n",
       "      <td>A</td>\n",
       "      <td>A</td>\n",
       "      <td>0</td>\n",
       "      <td>No Deposit</td>\n",
       "      <td>9.00</td>\n",
       "      <td>nan</td>\n",
       "      <td>0</td>\n",
       "      <td>Transient</td>\n",
       "      <td>76.50</td>\n",
       "      <td>0</td>\n",
       "      <td>1</td>\n",
       "      <td>Canceled</td>\n",
       "      <td>2015-07-01</td>\n",
       "    </tr>\n",
       "    <tr>\n",
       "      <th>40062</th>\n",
       "      <td>1</td>\n",
       "      <td>65</td>\n",
       "      <td>2015</td>\n",
       "      <td>July</td>\n",
       "      <td>27</td>\n",
       "      <td>1</td>\n",
       "      <td>0</td>\n",
       "      <td>4</td>\n",
       "      <td>1</td>\n",
       "      <td>0.00</td>\n",
       "      <td>0</td>\n",
       "      <td>BB</td>\n",
       "      <td>PRT</td>\n",
       "      <td>Online TA</td>\n",
       "      <td>TA/TO</td>\n",
       "      <td>0</td>\n",
       "      <td>0</td>\n",
       "      <td>0</td>\n",
       "      <td>A</td>\n",
       "      <td>A</td>\n",
       "      <td>0</td>\n",
       "      <td>No Deposit</td>\n",
       "      <td>9.00</td>\n",
       "      <td>nan</td>\n",
       "      <td>0</td>\n",
       "      <td>Transient</td>\n",
       "      <td>68.00</td>\n",
       "      <td>0</td>\n",
       "      <td>1</td>\n",
       "      <td>Canceled</td>\n",
       "      <td>2015-04-30</td>\n",
       "    </tr>\n",
       "    <tr>\n",
       "      <th>40063</th>\n",
       "      <td>1</td>\n",
       "      <td>92</td>\n",
       "      <td>2015</td>\n",
       "      <td>July</td>\n",
       "      <td>27</td>\n",
       "      <td>1</td>\n",
       "      <td>2</td>\n",
       "      <td>4</td>\n",
       "      <td>2</td>\n",
       "      <td>0.00</td>\n",
       "      <td>0</td>\n",
       "      <td>BB</td>\n",
       "      <td>PRT</td>\n",
       "      <td>Online TA</td>\n",
       "      <td>TA/TO</td>\n",
       "      <td>0</td>\n",
       "      <td>0</td>\n",
       "      <td>0</td>\n",
       "      <td>A</td>\n",
       "      <td>A</td>\n",
       "      <td>0</td>\n",
       "      <td>No Deposit</td>\n",
       "      <td>9.00</td>\n",
       "      <td>nan</td>\n",
       "      <td>0</td>\n",
       "      <td>Transient</td>\n",
       "      <td>76.50</td>\n",
       "      <td>0</td>\n",
       "      <td>2</td>\n",
       "      <td>Canceled</td>\n",
       "      <td>2015-06-23</td>\n",
       "    </tr>\n",
       "    <tr>\n",
       "      <th>40064</th>\n",
       "      <td>1</td>\n",
       "      <td>100</td>\n",
       "      <td>2015</td>\n",
       "      <td>July</td>\n",
       "      <td>27</td>\n",
       "      <td>2</td>\n",
       "      <td>0</td>\n",
       "      <td>2</td>\n",
       "      <td>2</td>\n",
       "      <td>0.00</td>\n",
       "      <td>0</td>\n",
       "      <td>BB</td>\n",
       "      <td>PRT</td>\n",
       "      <td>Online TA</td>\n",
       "      <td>TA/TO</td>\n",
       "      <td>0</td>\n",
       "      <td>0</td>\n",
       "      <td>0</td>\n",
       "      <td>A</td>\n",
       "      <td>A</td>\n",
       "      <td>0</td>\n",
       "      <td>No Deposit</td>\n",
       "      <td>9.00</td>\n",
       "      <td>nan</td>\n",
       "      <td>0</td>\n",
       "      <td>Transient</td>\n",
       "      <td>76.50</td>\n",
       "      <td>0</td>\n",
       "      <td>1</td>\n",
       "      <td>Canceled</td>\n",
       "      <td>2015-04-02</td>\n",
       "    </tr>\n",
       "    <tr>\n",
       "      <th>...</th>\n",
       "      <td>...</td>\n",
       "      <td>...</td>\n",
       "      <td>...</td>\n",
       "      <td>...</td>\n",
       "      <td>...</td>\n",
       "      <td>...</td>\n",
       "      <td>...</td>\n",
       "      <td>...</td>\n",
       "      <td>...</td>\n",
       "      <td>...</td>\n",
       "      <td>...</td>\n",
       "      <td>...</td>\n",
       "      <td>...</td>\n",
       "      <td>...</td>\n",
       "      <td>...</td>\n",
       "      <td>...</td>\n",
       "      <td>...</td>\n",
       "      <td>...</td>\n",
       "      <td>...</td>\n",
       "      <td>...</td>\n",
       "      <td>...</td>\n",
       "      <td>...</td>\n",
       "      <td>...</td>\n",
       "      <td>...</td>\n",
       "      <td>...</td>\n",
       "      <td>...</td>\n",
       "      <td>...</td>\n",
       "      <td>...</td>\n",
       "      <td>...</td>\n",
       "      <td>...</td>\n",
       "      <td>...</td>\n",
       "    </tr>\n",
       "    <tr>\n",
       "      <th>119385</th>\n",
       "      <td>0</td>\n",
       "      <td>23</td>\n",
       "      <td>2017</td>\n",
       "      <td>August</td>\n",
       "      <td>35</td>\n",
       "      <td>30</td>\n",
       "      <td>2</td>\n",
       "      <td>5</td>\n",
       "      <td>2</td>\n",
       "      <td>0.00</td>\n",
       "      <td>0</td>\n",
       "      <td>BB</td>\n",
       "      <td>BEL</td>\n",
       "      <td>Offline TA/TO</td>\n",
       "      <td>TA/TO</td>\n",
       "      <td>0</td>\n",
       "      <td>0</td>\n",
       "      <td>0</td>\n",
       "      <td>A</td>\n",
       "      <td>A</td>\n",
       "      <td>0</td>\n",
       "      <td>No Deposit</td>\n",
       "      <td>394.00</td>\n",
       "      <td>nan</td>\n",
       "      <td>0</td>\n",
       "      <td>Transient</td>\n",
       "      <td>96.14</td>\n",
       "      <td>0</td>\n",
       "      <td>0</td>\n",
       "      <td>Check-Out</td>\n",
       "      <td>2017-09-06</td>\n",
       "    </tr>\n",
       "    <tr>\n",
       "      <th>119386</th>\n",
       "      <td>0</td>\n",
       "      <td>102</td>\n",
       "      <td>2017</td>\n",
       "      <td>August</td>\n",
       "      <td>35</td>\n",
       "      <td>31</td>\n",
       "      <td>2</td>\n",
       "      <td>5</td>\n",
       "      <td>3</td>\n",
       "      <td>0.00</td>\n",
       "      <td>0</td>\n",
       "      <td>BB</td>\n",
       "      <td>FRA</td>\n",
       "      <td>Online TA</td>\n",
       "      <td>TA/TO</td>\n",
       "      <td>0</td>\n",
       "      <td>0</td>\n",
       "      <td>0</td>\n",
       "      <td>E</td>\n",
       "      <td>E</td>\n",
       "      <td>0</td>\n",
       "      <td>No Deposit</td>\n",
       "      <td>9.00</td>\n",
       "      <td>nan</td>\n",
       "      <td>0</td>\n",
       "      <td>Transient</td>\n",
       "      <td>225.43</td>\n",
       "      <td>0</td>\n",
       "      <td>2</td>\n",
       "      <td>Check-Out</td>\n",
       "      <td>2017-09-07</td>\n",
       "    </tr>\n",
       "    <tr>\n",
       "      <th>119387</th>\n",
       "      <td>0</td>\n",
       "      <td>34</td>\n",
       "      <td>2017</td>\n",
       "      <td>August</td>\n",
       "      <td>35</td>\n",
       "      <td>31</td>\n",
       "      <td>2</td>\n",
       "      <td>5</td>\n",
       "      <td>2</td>\n",
       "      <td>0.00</td>\n",
       "      <td>0</td>\n",
       "      <td>BB</td>\n",
       "      <td>DEU</td>\n",
       "      <td>Online TA</td>\n",
       "      <td>TA/TO</td>\n",
       "      <td>0</td>\n",
       "      <td>0</td>\n",
       "      <td>0</td>\n",
       "      <td>D</td>\n",
       "      <td>D</td>\n",
       "      <td>0</td>\n",
       "      <td>No Deposit</td>\n",
       "      <td>9.00</td>\n",
       "      <td>nan</td>\n",
       "      <td>0</td>\n",
       "      <td>Transient</td>\n",
       "      <td>157.71</td>\n",
       "      <td>0</td>\n",
       "      <td>4</td>\n",
       "      <td>Check-Out</td>\n",
       "      <td>2017-09-07</td>\n",
       "    </tr>\n",
       "    <tr>\n",
       "      <th>119388</th>\n",
       "      <td>0</td>\n",
       "      <td>109</td>\n",
       "      <td>2017</td>\n",
       "      <td>August</td>\n",
       "      <td>35</td>\n",
       "      <td>31</td>\n",
       "      <td>2</td>\n",
       "      <td>5</td>\n",
       "      <td>2</td>\n",
       "      <td>0.00</td>\n",
       "      <td>0</td>\n",
       "      <td>BB</td>\n",
       "      <td>GBR</td>\n",
       "      <td>Online TA</td>\n",
       "      <td>TA/TO</td>\n",
       "      <td>0</td>\n",
       "      <td>0</td>\n",
       "      <td>0</td>\n",
       "      <td>A</td>\n",
       "      <td>A</td>\n",
       "      <td>0</td>\n",
       "      <td>No Deposit</td>\n",
       "      <td>89.00</td>\n",
       "      <td>nan</td>\n",
       "      <td>0</td>\n",
       "      <td>Transient</td>\n",
       "      <td>104.40</td>\n",
       "      <td>0</td>\n",
       "      <td>0</td>\n",
       "      <td>Check-Out</td>\n",
       "      <td>2017-09-07</td>\n",
       "    </tr>\n",
       "    <tr>\n",
       "      <th>119389</th>\n",
       "      <td>0</td>\n",
       "      <td>205</td>\n",
       "      <td>2017</td>\n",
       "      <td>August</td>\n",
       "      <td>35</td>\n",
       "      <td>29</td>\n",
       "      <td>2</td>\n",
       "      <td>7</td>\n",
       "      <td>2</td>\n",
       "      <td>0.00</td>\n",
       "      <td>0</td>\n",
       "      <td>HB</td>\n",
       "      <td>DEU</td>\n",
       "      <td>Online TA</td>\n",
       "      <td>TA/TO</td>\n",
       "      <td>0</td>\n",
       "      <td>0</td>\n",
       "      <td>0</td>\n",
       "      <td>A</td>\n",
       "      <td>A</td>\n",
       "      <td>0</td>\n",
       "      <td>No Deposit</td>\n",
       "      <td>9.00</td>\n",
       "      <td>nan</td>\n",
       "      <td>0</td>\n",
       "      <td>Transient</td>\n",
       "      <td>151.20</td>\n",
       "      <td>0</td>\n",
       "      <td>2</td>\n",
       "      <td>Check-Out</td>\n",
       "      <td>2017-09-07</td>\n",
       "    </tr>\n",
       "  </tbody>\n",
       "</table>\n",
       "<p>79330 rows × 31 columns</p>\n",
       "</div>"
      ],
      "text/plain": [
       "        is_canceled  lead_time  arrival_date_year arrival_date_month  \\\n",
       "40060             0          6               2015               July   \n",
       "40061             1         88               2015               July   \n",
       "40062             1         65               2015               July   \n",
       "40063             1         92               2015               July   \n",
       "40064             1        100               2015               July   \n",
       "...             ...        ...                ...                ...   \n",
       "119385            0         23               2017             August   \n",
       "119386            0        102               2017             August   \n",
       "119387            0         34               2017             August   \n",
       "119388            0        109               2017             August   \n",
       "119389            0        205               2017             August   \n",
       "\n",
       "        arrival_date_week_number  arrival_date_day_of_month  \\\n",
       "40060                         27                          1   \n",
       "40061                         27                          1   \n",
       "40062                         27                          1   \n",
       "40063                         27                          1   \n",
       "40064                         27                          2   \n",
       "...                          ...                        ...   \n",
       "119385                        35                         30   \n",
       "119386                        35                         31   \n",
       "119387                        35                         31   \n",
       "119388                        35                         31   \n",
       "119389                        35                         29   \n",
       "\n",
       "        stays_in_weekend_nights  stays_in_week_nights  adults  children  \\\n",
       "40060                         0                     2       1      0.00   \n",
       "40061                         0                     4       2      0.00   \n",
       "40062                         0                     4       1      0.00   \n",
       "40063                         2                     4       2      0.00   \n",
       "40064                         0                     2       2      0.00   \n",
       "...                         ...                   ...     ...       ...   \n",
       "119385                        2                     5       2      0.00   \n",
       "119386                        2                     5       3      0.00   \n",
       "119387                        2                     5       2      0.00   \n",
       "119388                        2                     5       2      0.00   \n",
       "119389                        2                     7       2      0.00   \n",
       "\n",
       "        babies meal country market_segment distribution_channel  \\\n",
       "40060        0   HB     PRT  Offline TA/TO                TA/TO   \n",
       "40061        0   BB     PRT      Online TA                TA/TO   \n",
       "40062        0   BB     PRT      Online TA                TA/TO   \n",
       "40063        0   BB     PRT      Online TA                TA/TO   \n",
       "40064        0   BB     PRT      Online TA                TA/TO   \n",
       "...        ...  ...     ...            ...                  ...   \n",
       "119385       0   BB     BEL  Offline TA/TO                TA/TO   \n",
       "119386       0   BB     FRA      Online TA                TA/TO   \n",
       "119387       0   BB     DEU      Online TA                TA/TO   \n",
       "119388       0   BB     GBR      Online TA                TA/TO   \n",
       "119389       0   HB     DEU      Online TA                TA/TO   \n",
       "\n",
       "        is_repeated_guest  previous_cancellations  \\\n",
       "40060                   0                       0   \n",
       "40061                   0                       0   \n",
       "40062                   0                       0   \n",
       "40063                   0                       0   \n",
       "40064                   0                       0   \n",
       "...                   ...                     ...   \n",
       "119385                  0                       0   \n",
       "119386                  0                       0   \n",
       "119387                  0                       0   \n",
       "119388                  0                       0   \n",
       "119389                  0                       0   \n",
       "\n",
       "        previous_bookings_not_canceled reserved_room_type assigned_room_type  \\\n",
       "40060                                0                  A                  A   \n",
       "40061                                0                  A                  A   \n",
       "40062                                0                  A                  A   \n",
       "40063                                0                  A                  A   \n",
       "40064                                0                  A                  A   \n",
       "...                                ...                ...                ...   \n",
       "119385                               0                  A                  A   \n",
       "119386                               0                  E                  E   \n",
       "119387                               0                  D                  D   \n",
       "119388                               0                  A                  A   \n",
       "119389                               0                  A                  A   \n",
       "\n",
       "        booking_changes deposit_type  agent  company  days_in_waiting_list  \\\n",
       "40060                 0   No Deposit   6.00      nan                     0   \n",
       "40061                 0   No Deposit   9.00      nan                     0   \n",
       "40062                 0   No Deposit   9.00      nan                     0   \n",
       "40063                 0   No Deposit   9.00      nan                     0   \n",
       "40064                 0   No Deposit   9.00      nan                     0   \n",
       "...                 ...          ...    ...      ...                   ...   \n",
       "119385                0   No Deposit 394.00      nan                     0   \n",
       "119386                0   No Deposit   9.00      nan                     0   \n",
       "119387                0   No Deposit   9.00      nan                     0   \n",
       "119388                0   No Deposit  89.00      nan                     0   \n",
       "119389                0   No Deposit   9.00      nan                     0   \n",
       "\n",
       "       customer_type    adr  required_car_parking_spaces  \\\n",
       "40060      Transient   0.00                            0   \n",
       "40061      Transient  76.50                            0   \n",
       "40062      Transient  68.00                            0   \n",
       "40063      Transient  76.50                            0   \n",
       "40064      Transient  76.50                            0   \n",
       "...              ...    ...                          ...   \n",
       "119385     Transient  96.14                            0   \n",
       "119386     Transient 225.43                            0   \n",
       "119387     Transient 157.71                            0   \n",
       "119388     Transient 104.40                            0   \n",
       "119389     Transient 151.20                            0   \n",
       "\n",
       "        total_of_special_requests reservation_status reservation_status_date  \n",
       "40060                           0          Check-Out              2015-07-03  \n",
       "40061                           1           Canceled              2015-07-01  \n",
       "40062                           1           Canceled              2015-04-30  \n",
       "40063                           2           Canceled              2015-06-23  \n",
       "40064                           1           Canceled              2015-04-02  \n",
       "...                           ...                ...                     ...  \n",
       "119385                          0          Check-Out              2017-09-06  \n",
       "119386                          2          Check-Out              2017-09-07  \n",
       "119387                          4          Check-Out              2017-09-07  \n",
       "119388                          0          Check-Out              2017-09-07  \n",
       "119389                          2          Check-Out              2017-09-07  \n",
       "\n",
       "[79330 rows x 31 columns]"
      ]
     },
     "execution_count": 57,
     "metadata": {},
     "output_type": "execute_result"
    }
   ],
   "source": [
    "## Creating subgroup for city hotels\n",
    "subgroup_city = data[data['hotel'] == 'City Hotel']\n",
    "subgroup_city.drop(columns='hotel', inplace=True)\n",
    "subgroup_city"
   ]
  },
  {
   "cell_type": "code",
   "execution_count": 58,
   "metadata": {
    "ExecuteTime": {
     "end_time": "2021-08-31T16:31:20.201776Z",
     "start_time": "2021-08-31T16:31:20.013781Z"
    }
   },
   "outputs": [
    {
     "data": {
      "text/html": [
       "<div>\n",
       "<style scoped>\n",
       "    .dataframe tbody tr th:only-of-type {\n",
       "        vertical-align: middle;\n",
       "    }\n",
       "\n",
       "    .dataframe tbody tr th {\n",
       "        vertical-align: top;\n",
       "    }\n",
       "\n",
       "    .dataframe thead th {\n",
       "        text-align: right;\n",
       "    }\n",
       "</style>\n",
       "<table border=\"1\" class=\"dataframe\">\n",
       "  <thead>\n",
       "    <tr style=\"text-align: right;\">\n",
       "      <th></th>\n",
       "      <th>is_canceled</th>\n",
       "      <th>lead_time</th>\n",
       "      <th>arrival_date_year</th>\n",
       "      <th>arrival_date_month</th>\n",
       "      <th>arrival_date_week_number</th>\n",
       "      <th>arrival_date_day_of_month</th>\n",
       "      <th>stays_in_weekend_nights</th>\n",
       "      <th>stays_in_week_nights</th>\n",
       "      <th>adults</th>\n",
       "      <th>children</th>\n",
       "      <th>babies</th>\n",
       "      <th>meal</th>\n",
       "      <th>country</th>\n",
       "      <th>market_segment</th>\n",
       "      <th>distribution_channel</th>\n",
       "      <th>is_repeated_guest</th>\n",
       "      <th>previous_cancellations</th>\n",
       "      <th>previous_bookings_not_canceled</th>\n",
       "      <th>reserved_room_type</th>\n",
       "      <th>assigned_room_type</th>\n",
       "      <th>booking_changes</th>\n",
       "      <th>deposit_type</th>\n",
       "      <th>agent</th>\n",
       "      <th>company</th>\n",
       "      <th>days_in_waiting_list</th>\n",
       "      <th>customer_type</th>\n",
       "      <th>adr</th>\n",
       "      <th>required_car_parking_spaces</th>\n",
       "      <th>total_of_special_requests</th>\n",
       "      <th>reservation_status</th>\n",
       "      <th>reservation_status_date</th>\n",
       "    </tr>\n",
       "  </thead>\n",
       "  <tbody>\n",
       "    <tr>\n",
       "      <th>0</th>\n",
       "      <td>0</td>\n",
       "      <td>342</td>\n",
       "      <td>2015</td>\n",
       "      <td>July</td>\n",
       "      <td>27</td>\n",
       "      <td>1</td>\n",
       "      <td>0</td>\n",
       "      <td>0</td>\n",
       "      <td>2</td>\n",
       "      <td>0.00</td>\n",
       "      <td>0</td>\n",
       "      <td>BB</td>\n",
       "      <td>PRT</td>\n",
       "      <td>Direct</td>\n",
       "      <td>Direct</td>\n",
       "      <td>0</td>\n",
       "      <td>0</td>\n",
       "      <td>0</td>\n",
       "      <td>C</td>\n",
       "      <td>C</td>\n",
       "      <td>3</td>\n",
       "      <td>No Deposit</td>\n",
       "      <td>nan</td>\n",
       "      <td>nan</td>\n",
       "      <td>0</td>\n",
       "      <td>Transient</td>\n",
       "      <td>0.00</td>\n",
       "      <td>0</td>\n",
       "      <td>0</td>\n",
       "      <td>Check-Out</td>\n",
       "      <td>2015-07-01</td>\n",
       "    </tr>\n",
       "    <tr>\n",
       "      <th>1</th>\n",
       "      <td>0</td>\n",
       "      <td>737</td>\n",
       "      <td>2015</td>\n",
       "      <td>July</td>\n",
       "      <td>27</td>\n",
       "      <td>1</td>\n",
       "      <td>0</td>\n",
       "      <td>0</td>\n",
       "      <td>2</td>\n",
       "      <td>0.00</td>\n",
       "      <td>0</td>\n",
       "      <td>BB</td>\n",
       "      <td>PRT</td>\n",
       "      <td>Direct</td>\n",
       "      <td>Direct</td>\n",
       "      <td>0</td>\n",
       "      <td>0</td>\n",
       "      <td>0</td>\n",
       "      <td>C</td>\n",
       "      <td>C</td>\n",
       "      <td>4</td>\n",
       "      <td>No Deposit</td>\n",
       "      <td>nan</td>\n",
       "      <td>nan</td>\n",
       "      <td>0</td>\n",
       "      <td>Transient</td>\n",
       "      <td>0.00</td>\n",
       "      <td>0</td>\n",
       "      <td>0</td>\n",
       "      <td>Check-Out</td>\n",
       "      <td>2015-07-01</td>\n",
       "    </tr>\n",
       "    <tr>\n",
       "      <th>2</th>\n",
       "      <td>0</td>\n",
       "      <td>7</td>\n",
       "      <td>2015</td>\n",
       "      <td>July</td>\n",
       "      <td>27</td>\n",
       "      <td>1</td>\n",
       "      <td>0</td>\n",
       "      <td>1</td>\n",
       "      <td>1</td>\n",
       "      <td>0.00</td>\n",
       "      <td>0</td>\n",
       "      <td>BB</td>\n",
       "      <td>GBR</td>\n",
       "      <td>Direct</td>\n",
       "      <td>Direct</td>\n",
       "      <td>0</td>\n",
       "      <td>0</td>\n",
       "      <td>0</td>\n",
       "      <td>A</td>\n",
       "      <td>C</td>\n",
       "      <td>0</td>\n",
       "      <td>No Deposit</td>\n",
       "      <td>nan</td>\n",
       "      <td>nan</td>\n",
       "      <td>0</td>\n",
       "      <td>Transient</td>\n",
       "      <td>75.00</td>\n",
       "      <td>0</td>\n",
       "      <td>0</td>\n",
       "      <td>Check-Out</td>\n",
       "      <td>2015-07-02</td>\n",
       "    </tr>\n",
       "    <tr>\n",
       "      <th>3</th>\n",
       "      <td>0</td>\n",
       "      <td>13</td>\n",
       "      <td>2015</td>\n",
       "      <td>July</td>\n",
       "      <td>27</td>\n",
       "      <td>1</td>\n",
       "      <td>0</td>\n",
       "      <td>1</td>\n",
       "      <td>1</td>\n",
       "      <td>0.00</td>\n",
       "      <td>0</td>\n",
       "      <td>BB</td>\n",
       "      <td>GBR</td>\n",
       "      <td>Corporate</td>\n",
       "      <td>Corporate</td>\n",
       "      <td>0</td>\n",
       "      <td>0</td>\n",
       "      <td>0</td>\n",
       "      <td>A</td>\n",
       "      <td>A</td>\n",
       "      <td>0</td>\n",
       "      <td>No Deposit</td>\n",
       "      <td>304.00</td>\n",
       "      <td>nan</td>\n",
       "      <td>0</td>\n",
       "      <td>Transient</td>\n",
       "      <td>75.00</td>\n",
       "      <td>0</td>\n",
       "      <td>0</td>\n",
       "      <td>Check-Out</td>\n",
       "      <td>2015-07-02</td>\n",
       "    </tr>\n",
       "    <tr>\n",
       "      <th>4</th>\n",
       "      <td>0</td>\n",
       "      <td>14</td>\n",
       "      <td>2015</td>\n",
       "      <td>July</td>\n",
       "      <td>27</td>\n",
       "      <td>1</td>\n",
       "      <td>0</td>\n",
       "      <td>2</td>\n",
       "      <td>2</td>\n",
       "      <td>0.00</td>\n",
       "      <td>0</td>\n",
       "      <td>BB</td>\n",
       "      <td>GBR</td>\n",
       "      <td>Online TA</td>\n",
       "      <td>TA/TO</td>\n",
       "      <td>0</td>\n",
       "      <td>0</td>\n",
       "      <td>0</td>\n",
       "      <td>A</td>\n",
       "      <td>A</td>\n",
       "      <td>0</td>\n",
       "      <td>No Deposit</td>\n",
       "      <td>240.00</td>\n",
       "      <td>nan</td>\n",
       "      <td>0</td>\n",
       "      <td>Transient</td>\n",
       "      <td>98.00</td>\n",
       "      <td>0</td>\n",
       "      <td>1</td>\n",
       "      <td>Check-Out</td>\n",
       "      <td>2015-07-03</td>\n",
       "    </tr>\n",
       "    <tr>\n",
       "      <th>...</th>\n",
       "      <td>...</td>\n",
       "      <td>...</td>\n",
       "      <td>...</td>\n",
       "      <td>...</td>\n",
       "      <td>...</td>\n",
       "      <td>...</td>\n",
       "      <td>...</td>\n",
       "      <td>...</td>\n",
       "      <td>...</td>\n",
       "      <td>...</td>\n",
       "      <td>...</td>\n",
       "      <td>...</td>\n",
       "      <td>...</td>\n",
       "      <td>...</td>\n",
       "      <td>...</td>\n",
       "      <td>...</td>\n",
       "      <td>...</td>\n",
       "      <td>...</td>\n",
       "      <td>...</td>\n",
       "      <td>...</td>\n",
       "      <td>...</td>\n",
       "      <td>...</td>\n",
       "      <td>...</td>\n",
       "      <td>...</td>\n",
       "      <td>...</td>\n",
       "      <td>...</td>\n",
       "      <td>...</td>\n",
       "      <td>...</td>\n",
       "      <td>...</td>\n",
       "      <td>...</td>\n",
       "      <td>...</td>\n",
       "    </tr>\n",
       "    <tr>\n",
       "      <th>40055</th>\n",
       "      <td>0</td>\n",
       "      <td>212</td>\n",
       "      <td>2017</td>\n",
       "      <td>August</td>\n",
       "      <td>35</td>\n",
       "      <td>31</td>\n",
       "      <td>2</td>\n",
       "      <td>8</td>\n",
       "      <td>2</td>\n",
       "      <td>1.00</td>\n",
       "      <td>0</td>\n",
       "      <td>BB</td>\n",
       "      <td>GBR</td>\n",
       "      <td>Offline TA/TO</td>\n",
       "      <td>TA/TO</td>\n",
       "      <td>0</td>\n",
       "      <td>0</td>\n",
       "      <td>0</td>\n",
       "      <td>A</td>\n",
       "      <td>A</td>\n",
       "      <td>1</td>\n",
       "      <td>No Deposit</td>\n",
       "      <td>143.00</td>\n",
       "      <td>nan</td>\n",
       "      <td>0</td>\n",
       "      <td>Transient</td>\n",
       "      <td>89.75</td>\n",
       "      <td>0</td>\n",
       "      <td>0</td>\n",
       "      <td>Check-Out</td>\n",
       "      <td>2017-09-10</td>\n",
       "    </tr>\n",
       "    <tr>\n",
       "      <th>40056</th>\n",
       "      <td>0</td>\n",
       "      <td>169</td>\n",
       "      <td>2017</td>\n",
       "      <td>August</td>\n",
       "      <td>35</td>\n",
       "      <td>30</td>\n",
       "      <td>2</td>\n",
       "      <td>9</td>\n",
       "      <td>2</td>\n",
       "      <td>0.00</td>\n",
       "      <td>0</td>\n",
       "      <td>BB</td>\n",
       "      <td>IRL</td>\n",
       "      <td>Direct</td>\n",
       "      <td>Direct</td>\n",
       "      <td>0</td>\n",
       "      <td>0</td>\n",
       "      <td>0</td>\n",
       "      <td>E</td>\n",
       "      <td>E</td>\n",
       "      <td>0</td>\n",
       "      <td>No Deposit</td>\n",
       "      <td>250.00</td>\n",
       "      <td>nan</td>\n",
       "      <td>0</td>\n",
       "      <td>Transient-Party</td>\n",
       "      <td>202.27</td>\n",
       "      <td>0</td>\n",
       "      <td>1</td>\n",
       "      <td>Check-Out</td>\n",
       "      <td>2017-09-10</td>\n",
       "    </tr>\n",
       "    <tr>\n",
       "      <th>40057</th>\n",
       "      <td>0</td>\n",
       "      <td>204</td>\n",
       "      <td>2017</td>\n",
       "      <td>August</td>\n",
       "      <td>35</td>\n",
       "      <td>29</td>\n",
       "      <td>4</td>\n",
       "      <td>10</td>\n",
       "      <td>2</td>\n",
       "      <td>0.00</td>\n",
       "      <td>0</td>\n",
       "      <td>BB</td>\n",
       "      <td>IRL</td>\n",
       "      <td>Direct</td>\n",
       "      <td>Direct</td>\n",
       "      <td>0</td>\n",
       "      <td>0</td>\n",
       "      <td>0</td>\n",
       "      <td>E</td>\n",
       "      <td>E</td>\n",
       "      <td>0</td>\n",
       "      <td>No Deposit</td>\n",
       "      <td>250.00</td>\n",
       "      <td>nan</td>\n",
       "      <td>0</td>\n",
       "      <td>Transient</td>\n",
       "      <td>153.57</td>\n",
       "      <td>0</td>\n",
       "      <td>3</td>\n",
       "      <td>Check-Out</td>\n",
       "      <td>2017-09-12</td>\n",
       "    </tr>\n",
       "    <tr>\n",
       "      <th>40058</th>\n",
       "      <td>0</td>\n",
       "      <td>211</td>\n",
       "      <td>2017</td>\n",
       "      <td>August</td>\n",
       "      <td>35</td>\n",
       "      <td>31</td>\n",
       "      <td>4</td>\n",
       "      <td>10</td>\n",
       "      <td>2</td>\n",
       "      <td>0.00</td>\n",
       "      <td>0</td>\n",
       "      <td>HB</td>\n",
       "      <td>GBR</td>\n",
       "      <td>Offline TA/TO</td>\n",
       "      <td>TA/TO</td>\n",
       "      <td>0</td>\n",
       "      <td>0</td>\n",
       "      <td>0</td>\n",
       "      <td>D</td>\n",
       "      <td>D</td>\n",
       "      <td>0</td>\n",
       "      <td>No Deposit</td>\n",
       "      <td>40.00</td>\n",
       "      <td>nan</td>\n",
       "      <td>0</td>\n",
       "      <td>Contract</td>\n",
       "      <td>112.80</td>\n",
       "      <td>0</td>\n",
       "      <td>1</td>\n",
       "      <td>Check-Out</td>\n",
       "      <td>2017-09-14</td>\n",
       "    </tr>\n",
       "    <tr>\n",
       "      <th>40059</th>\n",
       "      <td>0</td>\n",
       "      <td>161</td>\n",
       "      <td>2017</td>\n",
       "      <td>August</td>\n",
       "      <td>35</td>\n",
       "      <td>31</td>\n",
       "      <td>4</td>\n",
       "      <td>10</td>\n",
       "      <td>2</td>\n",
       "      <td>0.00</td>\n",
       "      <td>0</td>\n",
       "      <td>HB</td>\n",
       "      <td>DEU</td>\n",
       "      <td>Offline TA/TO</td>\n",
       "      <td>TA/TO</td>\n",
       "      <td>0</td>\n",
       "      <td>0</td>\n",
       "      <td>0</td>\n",
       "      <td>A</td>\n",
       "      <td>A</td>\n",
       "      <td>0</td>\n",
       "      <td>No Deposit</td>\n",
       "      <td>69.00</td>\n",
       "      <td>nan</td>\n",
       "      <td>0</td>\n",
       "      <td>Transient</td>\n",
       "      <td>99.06</td>\n",
       "      <td>0</td>\n",
       "      <td>0</td>\n",
       "      <td>Check-Out</td>\n",
       "      <td>2017-09-14</td>\n",
       "    </tr>\n",
       "  </tbody>\n",
       "</table>\n",
       "<p>40060 rows × 31 columns</p>\n",
       "</div>"
      ],
      "text/plain": [
       "       is_canceled  lead_time  arrival_date_year arrival_date_month  \\\n",
       "0                0        342               2015               July   \n",
       "1                0        737               2015               July   \n",
       "2                0          7               2015               July   \n",
       "3                0         13               2015               July   \n",
       "4                0         14               2015               July   \n",
       "...            ...        ...                ...                ...   \n",
       "40055            0        212               2017             August   \n",
       "40056            0        169               2017             August   \n",
       "40057            0        204               2017             August   \n",
       "40058            0        211               2017             August   \n",
       "40059            0        161               2017             August   \n",
       "\n",
       "       arrival_date_week_number  arrival_date_day_of_month  \\\n",
       "0                            27                          1   \n",
       "1                            27                          1   \n",
       "2                            27                          1   \n",
       "3                            27                          1   \n",
       "4                            27                          1   \n",
       "...                         ...                        ...   \n",
       "40055                        35                         31   \n",
       "40056                        35                         30   \n",
       "40057                        35                         29   \n",
       "40058                        35                         31   \n",
       "40059                        35                         31   \n",
       "\n",
       "       stays_in_weekend_nights  stays_in_week_nights  adults  children  \\\n",
       "0                            0                     0       2      0.00   \n",
       "1                            0                     0       2      0.00   \n",
       "2                            0                     1       1      0.00   \n",
       "3                            0                     1       1      0.00   \n",
       "4                            0                     2       2      0.00   \n",
       "...                        ...                   ...     ...       ...   \n",
       "40055                        2                     8       2      1.00   \n",
       "40056                        2                     9       2      0.00   \n",
       "40057                        4                    10       2      0.00   \n",
       "40058                        4                    10       2      0.00   \n",
       "40059                        4                    10       2      0.00   \n",
       "\n",
       "       babies meal country market_segment distribution_channel  \\\n",
       "0           0   BB     PRT         Direct               Direct   \n",
       "1           0   BB     PRT         Direct               Direct   \n",
       "2           0   BB     GBR         Direct               Direct   \n",
       "3           0   BB     GBR      Corporate            Corporate   \n",
       "4           0   BB     GBR      Online TA                TA/TO   \n",
       "...       ...  ...     ...            ...                  ...   \n",
       "40055       0   BB     GBR  Offline TA/TO                TA/TO   \n",
       "40056       0   BB     IRL         Direct               Direct   \n",
       "40057       0   BB     IRL         Direct               Direct   \n",
       "40058       0   HB     GBR  Offline TA/TO                TA/TO   \n",
       "40059       0   HB     DEU  Offline TA/TO                TA/TO   \n",
       "\n",
       "       is_repeated_guest  previous_cancellations  \\\n",
       "0                      0                       0   \n",
       "1                      0                       0   \n",
       "2                      0                       0   \n",
       "3                      0                       0   \n",
       "4                      0                       0   \n",
       "...                  ...                     ...   \n",
       "40055                  0                       0   \n",
       "40056                  0                       0   \n",
       "40057                  0                       0   \n",
       "40058                  0                       0   \n",
       "40059                  0                       0   \n",
       "\n",
       "       previous_bookings_not_canceled reserved_room_type assigned_room_type  \\\n",
       "0                                   0                  C                  C   \n",
       "1                                   0                  C                  C   \n",
       "2                                   0                  A                  C   \n",
       "3                                   0                  A                  A   \n",
       "4                                   0                  A                  A   \n",
       "...                               ...                ...                ...   \n",
       "40055                               0                  A                  A   \n",
       "40056                               0                  E                  E   \n",
       "40057                               0                  E                  E   \n",
       "40058                               0                  D                  D   \n",
       "40059                               0                  A                  A   \n",
       "\n",
       "       booking_changes deposit_type  agent  company  days_in_waiting_list  \\\n",
       "0                    3   No Deposit    nan      nan                     0   \n",
       "1                    4   No Deposit    nan      nan                     0   \n",
       "2                    0   No Deposit    nan      nan                     0   \n",
       "3                    0   No Deposit 304.00      nan                     0   \n",
       "4                    0   No Deposit 240.00      nan                     0   \n",
       "...                ...          ...    ...      ...                   ...   \n",
       "40055                1   No Deposit 143.00      nan                     0   \n",
       "40056                0   No Deposit 250.00      nan                     0   \n",
       "40057                0   No Deposit 250.00      nan                     0   \n",
       "40058                0   No Deposit  40.00      nan                     0   \n",
       "40059                0   No Deposit  69.00      nan                     0   \n",
       "\n",
       "         customer_type    adr  required_car_parking_spaces  \\\n",
       "0            Transient   0.00                            0   \n",
       "1            Transient   0.00                            0   \n",
       "2            Transient  75.00                            0   \n",
       "3            Transient  75.00                            0   \n",
       "4            Transient  98.00                            0   \n",
       "...                ...    ...                          ...   \n",
       "40055        Transient  89.75                            0   \n",
       "40056  Transient-Party 202.27                            0   \n",
       "40057        Transient 153.57                            0   \n",
       "40058         Contract 112.80                            0   \n",
       "40059        Transient  99.06                            0   \n",
       "\n",
       "       total_of_special_requests reservation_status reservation_status_date  \n",
       "0                              0          Check-Out              2015-07-01  \n",
       "1                              0          Check-Out              2015-07-01  \n",
       "2                              0          Check-Out              2015-07-02  \n",
       "3                              0          Check-Out              2015-07-02  \n",
       "4                              1          Check-Out              2015-07-03  \n",
       "...                          ...                ...                     ...  \n",
       "40055                          0          Check-Out              2017-09-10  \n",
       "40056                          1          Check-Out              2017-09-10  \n",
       "40057                          3          Check-Out              2017-09-12  \n",
       "40058                          1          Check-Out              2017-09-14  \n",
       "40059                          0          Check-Out              2017-09-14  \n",
       "\n",
       "[40060 rows x 31 columns]"
      ]
     },
     "execution_count": 58,
     "metadata": {},
     "output_type": "execute_result"
    }
   ],
   "source": [
    "## Creating subgroup for resort hotels\n",
    "subgroup_resort = data[data['hotel'] == 'Resort Hotel']\n",
    "subgroup_resort.drop(columns='hotel', inplace=True)\n",
    "subgroup_resort"
   ]
  },
  {
   "cell_type": "markdown",
   "metadata": {},
   "source": [
    "### Testing Hierarchical Indexing"
   ]
  },
  {
   "cell_type": "markdown",
   "metadata": {},
   "source": [
    "---\n",
    "\n",
    "> Instead of splitting the data into two different dataframes, I may be able to create a new index for the same dataframe by splitting the \"`hotel`\" feature and using the two values as the first level of the row index, then the normal index values as the second level.\n",
    ">\n",
    ">\n",
    "> This would add a layer of complexity to the data processing steps, but would reduce memory consumption and the number of dataframes.\n",
    "\n",
    "---"
   ]
  },
  {
   "cell_type": "code",
   "execution_count": 59,
   "metadata": {
    "ExecuteTime": {
     "end_time": "2021-08-31T16:31:20.324446Z",
     "start_time": "2021-08-31T16:31:20.203779Z"
    }
   },
   "outputs": [],
   "source": [
    "# data_mi = data\n",
    "# data_mi"
   ]
  },
  {
   "cell_type": "code",
   "execution_count": 60,
   "metadata": {
    "ExecuteTime": {
     "end_time": "2021-08-31T16:31:20.448311Z",
     "start_time": "2021-08-31T16:31:20.328312Z"
    }
   },
   "outputs": [],
   "source": [
    "# ## Creating new multi-index from hotel types and original index values\n",
    "# data_mi.reset_index(inplace=True)\n",
    "# multi = data_mi.set_index(['hotel'])\n",
    "# multi"
   ]
  },
  {
   "cell_type": "code",
   "execution_count": 61,
   "metadata": {
    "ExecuteTime": {
     "end_time": "2021-08-31T16:31:20.587309Z",
     "start_time": "2021-08-31T16:31:20.451312Z"
    }
   },
   "outputs": [],
   "source": [
    "# ## Testing indexing  - City Hotel\n",
    "# multi.loc['City Hotel']"
   ]
  },
  {
   "cell_type": "code",
   "execution_count": 62,
   "metadata": {
    "ExecuteTime": {
     "end_time": "2021-08-31T16:31:20.713304Z",
     "start_time": "2021-08-31T16:31:20.589311Z"
    }
   },
   "outputs": [],
   "source": [
    "# ## Testing indexing  - Resort Hotel\n",
    "# multi.loc['Resort Hotel']"
   ]
  },
  {
   "cell_type": "code",
   "execution_count": 63,
   "metadata": {
    "ExecuteTime": {
     "end_time": "2021-08-31T16:31:20.821274Z",
     "start_time": "2021-08-31T16:31:20.715275Z"
    }
   },
   "outputs": [],
   "source": [
    "# eda.report_df(multi.loc['City Hotel']).sort_values('null_sum', ascending=False)"
   ]
  },
  {
   "cell_type": "markdown",
   "metadata": {},
   "source": [
    "---\n",
    "\n",
    "**Hierarchical Indexing Results**\n",
    "\n",
    "> While the multi-indexed results can represent the dimensionality of the data, it is not best for this dataset. I will continue to use the sub-grouped dataframes for my analysis and modeling.\n",
    "\n",
    "---"
   ]
  },
  {
   "cell_type": "markdown",
   "metadata": {},
   "source": [
    "# 📊 **Reviewing Statistics**"
   ]
  },
  {
   "cell_type": "markdown",
   "metadata": {},
   "source": [
    "---\n",
    "\n",
    "**`Report_df()`: City**\n",
    "\n",
    "---"
   ]
  },
  {
   "cell_type": "code",
   "execution_count": 64,
   "metadata": {
    "ExecuteTime": {
     "end_time": "2021-08-31T16:31:21.305416Z",
     "start_time": "2021-08-31T16:31:20.824275Z"
    }
   },
   "outputs": [
    {
     "data": {
      "text/html": [
       "<div>\n",
       "<style scoped>\n",
       "    .dataframe tbody tr th:only-of-type {\n",
       "        vertical-align: middle;\n",
       "    }\n",
       "\n",
       "    .dataframe tbody tr th {\n",
       "        vertical-align: top;\n",
       "    }\n",
       "\n",
       "    .dataframe thead th {\n",
       "        text-align: right;\n",
       "    }\n",
       "</style>\n",
       "<table border=\"1\" class=\"dataframe\">\n",
       "  <thead>\n",
       "    <tr style=\"text-align: right;\">\n",
       "      <th></th>\n",
       "      <th>null_sum</th>\n",
       "      <th>null_pct</th>\n",
       "      <th>datatypes</th>\n",
       "      <th>num_unique</th>\n",
       "      <th>count</th>\n",
       "      <th>mean</th>\n",
       "      <th>std</th>\n",
       "      <th>min</th>\n",
       "      <th>25%</th>\n",
       "      <th>50%</th>\n",
       "      <th>75%</th>\n",
       "      <th>max</th>\n",
       "    </tr>\n",
       "  </thead>\n",
       "  <tbody>\n",
       "    <tr>\n",
       "      <th>company</th>\n",
       "      <td>75641</td>\n",
       "      <td>0.95</td>\n",
       "      <td>float64</td>\n",
       "      <td>207</td>\n",
       "      <td>3,689.00</td>\n",
       "      <td>145.27</td>\n",
       "      <td>119.77</td>\n",
       "      <td>8.00</td>\n",
       "      <td>40.00</td>\n",
       "      <td>91.00</td>\n",
       "      <td>219.00</td>\n",
       "      <td>497.00</td>\n",
       "    </tr>\n",
       "    <tr>\n",
       "      <th>agent</th>\n",
       "      <td>8131</td>\n",
       "      <td>0.10</td>\n",
       "      <td>float64</td>\n",
       "      <td>223</td>\n",
       "      <td>71,199.00</td>\n",
       "      <td>28.14</td>\n",
       "      <td>56.43</td>\n",
       "      <td>1.00</td>\n",
       "      <td>9.00</td>\n",
       "      <td>9.00</td>\n",
       "      <td>17.00</td>\n",
       "      <td>509.00</td>\n",
       "    </tr>\n",
       "    <tr>\n",
       "      <th>country</th>\n",
       "      <td>24</td>\n",
       "      <td>0.00</td>\n",
       "      <td>object</td>\n",
       "      <td>166</td>\n",
       "      <td>nan</td>\n",
       "      <td>nan</td>\n",
       "      <td>nan</td>\n",
       "      <td>nan</td>\n",
       "      <td>nan</td>\n",
       "      <td>nan</td>\n",
       "      <td>nan</td>\n",
       "      <td>nan</td>\n",
       "    </tr>\n",
       "    <tr>\n",
       "      <th>children</th>\n",
       "      <td>4</td>\n",
       "      <td>0.00</td>\n",
       "      <td>float64</td>\n",
       "      <td>4</td>\n",
       "      <td>79,326.00</td>\n",
       "      <td>0.09</td>\n",
       "      <td>0.37</td>\n",
       "      <td>0.00</td>\n",
       "      <td>0.00</td>\n",
       "      <td>0.00</td>\n",
       "      <td>0.00</td>\n",
       "      <td>3.00</td>\n",
       "    </tr>\n",
       "    <tr>\n",
       "      <th>adr</th>\n",
       "      <td>0</td>\n",
       "      <td>0.00</td>\n",
       "      <td>float64</td>\n",
       "      <td>5405</td>\n",
       "      <td>79,330.00</td>\n",
       "      <td>105.30</td>\n",
       "      <td>43.60</td>\n",
       "      <td>0.00</td>\n",
       "      <td>79.20</td>\n",
       "      <td>99.90</td>\n",
       "      <td>126.00</td>\n",
       "      <td>5,400.00</td>\n",
       "    </tr>\n",
       "    <tr>\n",
       "      <th>previous_cancellations</th>\n",
       "      <td>0</td>\n",
       "      <td>0.00</td>\n",
       "      <td>int64</td>\n",
       "      <td>10</td>\n",
       "      <td>79,330.00</td>\n",
       "      <td>0.08</td>\n",
       "      <td>0.42</td>\n",
       "      <td>0.00</td>\n",
       "      <td>0.00</td>\n",
       "      <td>0.00</td>\n",
       "      <td>0.00</td>\n",
       "      <td>21.00</td>\n",
       "    </tr>\n",
       "    <tr>\n",
       "      <th>market_segment</th>\n",
       "      <td>0</td>\n",
       "      <td>0.00</td>\n",
       "      <td>object</td>\n",
       "      <td>8</td>\n",
       "      <td>nan</td>\n",
       "      <td>nan</td>\n",
       "      <td>nan</td>\n",
       "      <td>nan</td>\n",
       "      <td>nan</td>\n",
       "      <td>nan</td>\n",
       "      <td>nan</td>\n",
       "      <td>nan</td>\n",
       "    </tr>\n",
       "    <tr>\n",
       "      <th>meal</th>\n",
       "      <td>0</td>\n",
       "      <td>0.00</td>\n",
       "      <td>object</td>\n",
       "      <td>4</td>\n",
       "      <td>nan</td>\n",
       "      <td>nan</td>\n",
       "      <td>nan</td>\n",
       "      <td>nan</td>\n",
       "      <td>nan</td>\n",
       "      <td>nan</td>\n",
       "      <td>nan</td>\n",
       "      <td>nan</td>\n",
       "    </tr>\n",
       "    <tr>\n",
       "      <th>previous_bookings_not_canceled</th>\n",
       "      <td>0</td>\n",
       "      <td>0.00</td>\n",
       "      <td>int64</td>\n",
       "      <td>73</td>\n",
       "      <td>79,330.00</td>\n",
       "      <td>0.13</td>\n",
       "      <td>1.69</td>\n",
       "      <td>0.00</td>\n",
       "      <td>0.00</td>\n",
       "      <td>0.00</td>\n",
       "      <td>0.00</td>\n",
       "      <td>72.00</td>\n",
       "    </tr>\n",
       "    <tr>\n",
       "      <th>required_car_parking_spaces</th>\n",
       "      <td>0</td>\n",
       "      <td>0.00</td>\n",
       "      <td>int64</td>\n",
       "      <td>4</td>\n",
       "      <td>79,330.00</td>\n",
       "      <td>0.02</td>\n",
       "      <td>0.15</td>\n",
       "      <td>0.00</td>\n",
       "      <td>0.00</td>\n",
       "      <td>0.00</td>\n",
       "      <td>0.00</td>\n",
       "      <td>3.00</td>\n",
       "    </tr>\n",
       "    <tr>\n",
       "      <th>is_repeated_guest</th>\n",
       "      <td>0</td>\n",
       "      <td>0.00</td>\n",
       "      <td>int64</td>\n",
       "      <td>2</td>\n",
       "      <td>79,330.00</td>\n",
       "      <td>0.03</td>\n",
       "      <td>0.16</td>\n",
       "      <td>0.00</td>\n",
       "      <td>0.00</td>\n",
       "      <td>0.00</td>\n",
       "      <td>0.00</td>\n",
       "      <td>1.00</td>\n",
       "    </tr>\n",
       "    <tr>\n",
       "      <th>reservation_status</th>\n",
       "      <td>0</td>\n",
       "      <td>0.00</td>\n",
       "      <td>object</td>\n",
       "      <td>3</td>\n",
       "      <td>nan</td>\n",
       "      <td>nan</td>\n",
       "      <td>nan</td>\n",
       "      <td>nan</td>\n",
       "      <td>nan</td>\n",
       "      <td>nan</td>\n",
       "      <td>nan</td>\n",
       "      <td>nan</td>\n",
       "    </tr>\n",
       "    <tr>\n",
       "      <th>reservation_status_date</th>\n",
       "      <td>0</td>\n",
       "      <td>0.00</td>\n",
       "      <td>object</td>\n",
       "      <td>864</td>\n",
       "      <td>nan</td>\n",
       "      <td>nan</td>\n",
       "      <td>nan</td>\n",
       "      <td>nan</td>\n",
       "      <td>nan</td>\n",
       "      <td>nan</td>\n",
       "      <td>nan</td>\n",
       "      <td>nan</td>\n",
       "    </tr>\n",
       "    <tr>\n",
       "      <th>reserved_room_type</th>\n",
       "      <td>0</td>\n",
       "      <td>0.00</td>\n",
       "      <td>object</td>\n",
       "      <td>8</td>\n",
       "      <td>nan</td>\n",
       "      <td>nan</td>\n",
       "      <td>nan</td>\n",
       "      <td>nan</td>\n",
       "      <td>nan</td>\n",
       "      <td>nan</td>\n",
       "      <td>nan</td>\n",
       "      <td>nan</td>\n",
       "    </tr>\n",
       "    <tr>\n",
       "      <th>stays_in_week_nights</th>\n",
       "      <td>0</td>\n",
       "      <td>0.00</td>\n",
       "      <td>int64</td>\n",
       "      <td>29</td>\n",
       "      <td>79,330.00</td>\n",
       "      <td>2.18</td>\n",
       "      <td>1.46</td>\n",
       "      <td>0.00</td>\n",
       "      <td>1.00</td>\n",
       "      <td>2.00</td>\n",
       "      <td>3.00</td>\n",
       "      <td>41.00</td>\n",
       "    </tr>\n",
       "    <tr>\n",
       "      <th>stays_in_weekend_nights</th>\n",
       "      <td>0</td>\n",
       "      <td>0.00</td>\n",
       "      <td>int64</td>\n",
       "      <td>14</td>\n",
       "      <td>79,330.00</td>\n",
       "      <td>0.80</td>\n",
       "      <td>0.89</td>\n",
       "      <td>0.00</td>\n",
       "      <td>0.00</td>\n",
       "      <td>1.00</td>\n",
       "      <td>2.00</td>\n",
       "      <td>16.00</td>\n",
       "    </tr>\n",
       "    <tr>\n",
       "      <th>lead_time</th>\n",
       "      <td>0</td>\n",
       "      <td>0.00</td>\n",
       "      <td>int64</td>\n",
       "      <td>453</td>\n",
       "      <td>79,330.00</td>\n",
       "      <td>109.74</td>\n",
       "      <td>110.95</td>\n",
       "      <td>0.00</td>\n",
       "      <td>23.00</td>\n",
       "      <td>74.00</td>\n",
       "      <td>163.00</td>\n",
       "      <td>629.00</td>\n",
       "    </tr>\n",
       "    <tr>\n",
       "      <th>deposit_type</th>\n",
       "      <td>0</td>\n",
       "      <td>0.00</td>\n",
       "      <td>object</td>\n",
       "      <td>3</td>\n",
       "      <td>nan</td>\n",
       "      <td>nan</td>\n",
       "      <td>nan</td>\n",
       "      <td>nan</td>\n",
       "      <td>nan</td>\n",
       "      <td>nan</td>\n",
       "      <td>nan</td>\n",
       "      <td>nan</td>\n",
       "    </tr>\n",
       "    <tr>\n",
       "      <th>is_canceled</th>\n",
       "      <td>0</td>\n",
       "      <td>0.00</td>\n",
       "      <td>int64</td>\n",
       "      <td>2</td>\n",
       "      <td>79,330.00</td>\n",
       "      <td>0.42</td>\n",
       "      <td>0.49</td>\n",
       "      <td>0.00</td>\n",
       "      <td>0.00</td>\n",
       "      <td>0.00</td>\n",
       "      <td>1.00</td>\n",
       "      <td>1.00</td>\n",
       "    </tr>\n",
       "    <tr>\n",
       "      <th>distribution_channel</th>\n",
       "      <td>0</td>\n",
       "      <td>0.00</td>\n",
       "      <td>object</td>\n",
       "      <td>5</td>\n",
       "      <td>nan</td>\n",
       "      <td>nan</td>\n",
       "      <td>nan</td>\n",
       "      <td>nan</td>\n",
       "      <td>nan</td>\n",
       "      <td>nan</td>\n",
       "      <td>nan</td>\n",
       "      <td>nan</td>\n",
       "    </tr>\n",
       "    <tr>\n",
       "      <th>adults</th>\n",
       "      <td>0</td>\n",
       "      <td>0.00</td>\n",
       "      <td>int64</td>\n",
       "      <td>5</td>\n",
       "      <td>79,330.00</td>\n",
       "      <td>1.85</td>\n",
       "      <td>0.51</td>\n",
       "      <td>0.00</td>\n",
       "      <td>2.00</td>\n",
       "      <td>2.00</td>\n",
       "      <td>2.00</td>\n",
       "      <td>4.00</td>\n",
       "    </tr>\n",
       "    <tr>\n",
       "      <th>days_in_waiting_list</th>\n",
       "      <td>0</td>\n",
       "      <td>0.00</td>\n",
       "      <td>int64</td>\n",
       "      <td>115</td>\n",
       "      <td>79,330.00</td>\n",
       "      <td>3.23</td>\n",
       "      <td>20.87</td>\n",
       "      <td>0.00</td>\n",
       "      <td>0.00</td>\n",
       "      <td>0.00</td>\n",
       "      <td>0.00</td>\n",
       "      <td>391.00</td>\n",
       "    </tr>\n",
       "    <tr>\n",
       "      <th>customer_type</th>\n",
       "      <td>0</td>\n",
       "      <td>0.00</td>\n",
       "      <td>object</td>\n",
       "      <td>4</td>\n",
       "      <td>nan</td>\n",
       "      <td>nan</td>\n",
       "      <td>nan</td>\n",
       "      <td>nan</td>\n",
       "      <td>nan</td>\n",
       "      <td>nan</td>\n",
       "      <td>nan</td>\n",
       "      <td>nan</td>\n",
       "    </tr>\n",
       "    <tr>\n",
       "      <th>booking_changes</th>\n",
       "      <td>0</td>\n",
       "      <td>0.00</td>\n",
       "      <td>int64</td>\n",
       "      <td>21</td>\n",
       "      <td>79,330.00</td>\n",
       "      <td>0.19</td>\n",
       "      <td>0.61</td>\n",
       "      <td>0.00</td>\n",
       "      <td>0.00</td>\n",
       "      <td>0.00</td>\n",
       "      <td>0.00</td>\n",
       "      <td>21.00</td>\n",
       "    </tr>\n",
       "    <tr>\n",
       "      <th>babies</th>\n",
       "      <td>0</td>\n",
       "      <td>0.00</td>\n",
       "      <td>int64</td>\n",
       "      <td>5</td>\n",
       "      <td>79,330.00</td>\n",
       "      <td>0.00</td>\n",
       "      <td>0.08</td>\n",
       "      <td>0.00</td>\n",
       "      <td>0.00</td>\n",
       "      <td>0.00</td>\n",
       "      <td>0.00</td>\n",
       "      <td>10.00</td>\n",
       "    </tr>\n",
       "    <tr>\n",
       "      <th>assigned_room_type</th>\n",
       "      <td>0</td>\n",
       "      <td>0.00</td>\n",
       "      <td>object</td>\n",
       "      <td>9</td>\n",
       "      <td>nan</td>\n",
       "      <td>nan</td>\n",
       "      <td>nan</td>\n",
       "      <td>nan</td>\n",
       "      <td>nan</td>\n",
       "      <td>nan</td>\n",
       "      <td>nan</td>\n",
       "      <td>nan</td>\n",
       "    </tr>\n",
       "    <tr>\n",
       "      <th>arrival_date_year</th>\n",
       "      <td>0</td>\n",
       "      <td>0.00</td>\n",
       "      <td>int64</td>\n",
       "      <td>3</td>\n",
       "      <td>79,330.00</td>\n",
       "      <td>2,016.17</td>\n",
       "      <td>0.70</td>\n",
       "      <td>2,015.00</td>\n",
       "      <td>2,016.00</td>\n",
       "      <td>2,016.00</td>\n",
       "      <td>2,017.00</td>\n",
       "      <td>2,017.00</td>\n",
       "    </tr>\n",
       "    <tr>\n",
       "      <th>arrival_date_week_number</th>\n",
       "      <td>0</td>\n",
       "      <td>0.00</td>\n",
       "      <td>int64</td>\n",
       "      <td>53</td>\n",
       "      <td>79,330.00</td>\n",
       "      <td>27.18</td>\n",
       "      <td>13.40</td>\n",
       "      <td>1.00</td>\n",
       "      <td>17.00</td>\n",
       "      <td>27.00</td>\n",
       "      <td>38.00</td>\n",
       "      <td>53.00</td>\n",
       "    </tr>\n",
       "    <tr>\n",
       "      <th>arrival_date_month</th>\n",
       "      <td>0</td>\n",
       "      <td>0.00</td>\n",
       "      <td>object</td>\n",
       "      <td>12</td>\n",
       "      <td>nan</td>\n",
       "      <td>nan</td>\n",
       "      <td>nan</td>\n",
       "      <td>nan</td>\n",
       "      <td>nan</td>\n",
       "      <td>nan</td>\n",
       "      <td>nan</td>\n",
       "      <td>nan</td>\n",
       "    </tr>\n",
       "    <tr>\n",
       "      <th>arrival_date_day_of_month</th>\n",
       "      <td>0</td>\n",
       "      <td>0.00</td>\n",
       "      <td>int64</td>\n",
       "      <td>31</td>\n",
       "      <td>79,330.00</td>\n",
       "      <td>15.79</td>\n",
       "      <td>8.73</td>\n",
       "      <td>1.00</td>\n",
       "      <td>8.00</td>\n",
       "      <td>16.00</td>\n",
       "      <td>23.00</td>\n",
       "      <td>31.00</td>\n",
       "    </tr>\n",
       "    <tr>\n",
       "      <th>total_of_special_requests</th>\n",
       "      <td>0</td>\n",
       "      <td>0.00</td>\n",
       "      <td>int64</td>\n",
       "      <td>6</td>\n",
       "      <td>79,330.00</td>\n",
       "      <td>0.55</td>\n",
       "      <td>0.78</td>\n",
       "      <td>0.00</td>\n",
       "      <td>0.00</td>\n",
       "      <td>0.00</td>\n",
       "      <td>1.00</td>\n",
       "      <td>5.00</td>\n",
       "    </tr>\n",
       "  </tbody>\n",
       "</table>\n",
       "</div>"
      ],
      "text/plain": [
       "                                null_sum  null_pct datatypes  num_unique  \\\n",
       "company                            75641      0.95   float64         207   \n",
       "agent                               8131      0.10   float64         223   \n",
       "country                               24      0.00    object         166   \n",
       "children                               4      0.00   float64           4   \n",
       "adr                                    0      0.00   float64        5405   \n",
       "previous_cancellations                 0      0.00     int64          10   \n",
       "market_segment                         0      0.00    object           8   \n",
       "meal                                   0      0.00    object           4   \n",
       "previous_bookings_not_canceled         0      0.00     int64          73   \n",
       "required_car_parking_spaces            0      0.00     int64           4   \n",
       "is_repeated_guest                      0      0.00     int64           2   \n",
       "reservation_status                     0      0.00    object           3   \n",
       "reservation_status_date                0      0.00    object         864   \n",
       "reserved_room_type                     0      0.00    object           8   \n",
       "stays_in_week_nights                   0      0.00     int64          29   \n",
       "stays_in_weekend_nights                0      0.00     int64          14   \n",
       "lead_time                              0      0.00     int64         453   \n",
       "deposit_type                           0      0.00    object           3   \n",
       "is_canceled                            0      0.00     int64           2   \n",
       "distribution_channel                   0      0.00    object           5   \n",
       "adults                                 0      0.00     int64           5   \n",
       "days_in_waiting_list                   0      0.00     int64         115   \n",
       "customer_type                          0      0.00    object           4   \n",
       "booking_changes                        0      0.00     int64          21   \n",
       "babies                                 0      0.00     int64           5   \n",
       "assigned_room_type                     0      0.00    object           9   \n",
       "arrival_date_year                      0      0.00     int64           3   \n",
       "arrival_date_week_number               0      0.00     int64          53   \n",
       "arrival_date_month                     0      0.00    object          12   \n",
       "arrival_date_day_of_month              0      0.00     int64          31   \n",
       "total_of_special_requests              0      0.00     int64           6   \n",
       "\n",
       "                                   count     mean    std      min      25%  \\\n",
       "company                         3,689.00   145.27 119.77     8.00    40.00   \n",
       "agent                          71,199.00    28.14  56.43     1.00     9.00   \n",
       "country                              nan      nan    nan      nan      nan   \n",
       "children                       79,326.00     0.09   0.37     0.00     0.00   \n",
       "adr                            79,330.00   105.30  43.60     0.00    79.20   \n",
       "previous_cancellations         79,330.00     0.08   0.42     0.00     0.00   \n",
       "market_segment                       nan      nan    nan      nan      nan   \n",
       "meal                                 nan      nan    nan      nan      nan   \n",
       "previous_bookings_not_canceled 79,330.00     0.13   1.69     0.00     0.00   \n",
       "required_car_parking_spaces    79,330.00     0.02   0.15     0.00     0.00   \n",
       "is_repeated_guest              79,330.00     0.03   0.16     0.00     0.00   \n",
       "reservation_status                   nan      nan    nan      nan      nan   \n",
       "reservation_status_date              nan      nan    nan      nan      nan   \n",
       "reserved_room_type                   nan      nan    nan      nan      nan   \n",
       "stays_in_week_nights           79,330.00     2.18   1.46     0.00     1.00   \n",
       "stays_in_weekend_nights        79,330.00     0.80   0.89     0.00     0.00   \n",
       "lead_time                      79,330.00   109.74 110.95     0.00    23.00   \n",
       "deposit_type                         nan      nan    nan      nan      nan   \n",
       "is_canceled                    79,330.00     0.42   0.49     0.00     0.00   \n",
       "distribution_channel                 nan      nan    nan      nan      nan   \n",
       "adults                         79,330.00     1.85   0.51     0.00     2.00   \n",
       "days_in_waiting_list           79,330.00     3.23  20.87     0.00     0.00   \n",
       "customer_type                        nan      nan    nan      nan      nan   \n",
       "booking_changes                79,330.00     0.19   0.61     0.00     0.00   \n",
       "babies                         79,330.00     0.00   0.08     0.00     0.00   \n",
       "assigned_room_type                   nan      nan    nan      nan      nan   \n",
       "arrival_date_year              79,330.00 2,016.17   0.70 2,015.00 2,016.00   \n",
       "arrival_date_week_number       79,330.00    27.18  13.40     1.00    17.00   \n",
       "arrival_date_month                   nan      nan    nan      nan      nan   \n",
       "arrival_date_day_of_month      79,330.00    15.79   8.73     1.00     8.00   \n",
       "total_of_special_requests      79,330.00     0.55   0.78     0.00     0.00   \n",
       "\n",
       "                                    50%      75%      max  \n",
       "company                           91.00   219.00   497.00  \n",
       "agent                              9.00    17.00   509.00  \n",
       "country                             nan      nan      nan  \n",
       "children                           0.00     0.00     3.00  \n",
       "adr                               99.90   126.00 5,400.00  \n",
       "previous_cancellations             0.00     0.00    21.00  \n",
       "market_segment                      nan      nan      nan  \n",
       "meal                                nan      nan      nan  \n",
       "previous_bookings_not_canceled     0.00     0.00    72.00  \n",
       "required_car_parking_spaces        0.00     0.00     3.00  \n",
       "is_repeated_guest                  0.00     0.00     1.00  \n",
       "reservation_status                  nan      nan      nan  \n",
       "reservation_status_date             nan      nan      nan  \n",
       "reserved_room_type                  nan      nan      nan  \n",
       "stays_in_week_nights               2.00     3.00    41.00  \n",
       "stays_in_weekend_nights            1.00     2.00    16.00  \n",
       "lead_time                         74.00   163.00   629.00  \n",
       "deposit_type                        nan      nan      nan  \n",
       "is_canceled                        0.00     1.00     1.00  \n",
       "distribution_channel                nan      nan      nan  \n",
       "adults                             2.00     2.00     4.00  \n",
       "days_in_waiting_list               0.00     0.00   391.00  \n",
       "customer_type                       nan      nan      nan  \n",
       "booking_changes                    0.00     0.00    21.00  \n",
       "babies                             0.00     0.00    10.00  \n",
       "assigned_room_type                  nan      nan      nan  \n",
       "arrival_date_year              2,016.00 2,017.00 2,017.00  \n",
       "arrival_date_week_number          27.00    38.00    53.00  \n",
       "arrival_date_month                  nan      nan      nan  \n",
       "arrival_date_day_of_month         16.00    23.00    31.00  \n",
       "total_of_special_requests          0.00     1.00     5.00  "
      ]
     },
     "execution_count": 64,
     "metadata": {},
     "output_type": "execute_result"
    }
   ],
   "source": [
    "## Sorting report by number of missing values\n",
    "eda.report_df(subgroup_city).sort_values('null_sum', ascending=False)"
   ]
  },
  {
   "cell_type": "markdown",
   "metadata": {},
   "source": [
    "---\n",
    "\n",
    "**`Report_df()`: Resort**\n",
    "\n",
    "---"
   ]
  },
  {
   "cell_type": "code",
   "execution_count": 65,
   "metadata": {
    "ExecuteTime": {
     "end_time": "2021-08-31T16:31:21.647284Z",
     "start_time": "2021-08-31T16:31:21.308277Z"
    }
   },
   "outputs": [
    {
     "data": {
      "text/html": [
       "<div>\n",
       "<style scoped>\n",
       "    .dataframe tbody tr th:only-of-type {\n",
       "        vertical-align: middle;\n",
       "    }\n",
       "\n",
       "    .dataframe tbody tr th {\n",
       "        vertical-align: top;\n",
       "    }\n",
       "\n",
       "    .dataframe thead th {\n",
       "        text-align: right;\n",
       "    }\n",
       "</style>\n",
       "<table border=\"1\" class=\"dataframe\">\n",
       "  <thead>\n",
       "    <tr style=\"text-align: right;\">\n",
       "      <th></th>\n",
       "      <th>null_sum</th>\n",
       "      <th>null_pct</th>\n",
       "      <th>datatypes</th>\n",
       "      <th>num_unique</th>\n",
       "      <th>count</th>\n",
       "      <th>mean</th>\n",
       "      <th>std</th>\n",
       "      <th>min</th>\n",
       "      <th>25%</th>\n",
       "      <th>50%</th>\n",
       "      <th>75%</th>\n",
       "      <th>max</th>\n",
       "    </tr>\n",
       "  </thead>\n",
       "  <tbody>\n",
       "    <tr>\n",
       "      <th>company</th>\n",
       "      <td>36952</td>\n",
       "      <td>0.92</td>\n",
       "      <td>float64</td>\n",
       "      <td>235</td>\n",
       "      <td>3,108.00</td>\n",
       "      <td>241.49</td>\n",
       "      <td>125.93</td>\n",
       "      <td>6.00</td>\n",
       "      <td>154.00</td>\n",
       "      <td>223.00</td>\n",
       "      <td>330.00</td>\n",
       "      <td>543.00</td>\n",
       "    </tr>\n",
       "    <tr>\n",
       "      <th>agent</th>\n",
       "      <td>8209</td>\n",
       "      <td>0.20</td>\n",
       "      <td>float64</td>\n",
       "      <td>185</td>\n",
       "      <td>31,851.00</td>\n",
       "      <td>217.57</td>\n",
       "      <td>88.26</td>\n",
       "      <td>1.00</td>\n",
       "      <td>240.00</td>\n",
       "      <td>240.00</td>\n",
       "      <td>242.00</td>\n",
       "      <td>535.00</td>\n",
       "    </tr>\n",
       "    <tr>\n",
       "      <th>country</th>\n",
       "      <td>464</td>\n",
       "      <td>0.01</td>\n",
       "      <td>object</td>\n",
       "      <td>125</td>\n",
       "      <td>nan</td>\n",
       "      <td>nan</td>\n",
       "      <td>nan</td>\n",
       "      <td>nan</td>\n",
       "      <td>nan</td>\n",
       "      <td>nan</td>\n",
       "      <td>nan</td>\n",
       "      <td>nan</td>\n",
       "    </tr>\n",
       "    <tr>\n",
       "      <th>adr</th>\n",
       "      <td>0</td>\n",
       "      <td>0.00</td>\n",
       "      <td>float64</td>\n",
       "      <td>5880</td>\n",
       "      <td>40,060.00</td>\n",
       "      <td>94.95</td>\n",
       "      <td>61.44</td>\n",
       "      <td>-6.38</td>\n",
       "      <td>50.00</td>\n",
       "      <td>75.00</td>\n",
       "      <td>125.00</td>\n",
       "      <td>508.00</td>\n",
       "    </tr>\n",
       "    <tr>\n",
       "      <th>previous_cancellations</th>\n",
       "      <td>0</td>\n",
       "      <td>0.00</td>\n",
       "      <td>int64</td>\n",
       "      <td>11</td>\n",
       "      <td>40,060.00</td>\n",
       "      <td>0.10</td>\n",
       "      <td>1.34</td>\n",
       "      <td>0.00</td>\n",
       "      <td>0.00</td>\n",
       "      <td>0.00</td>\n",
       "      <td>0.00</td>\n",
       "      <td>26.00</td>\n",
       "    </tr>\n",
       "    <tr>\n",
       "      <th>lead_time</th>\n",
       "      <td>0</td>\n",
       "      <td>0.00</td>\n",
       "      <td>int64</td>\n",
       "      <td>412</td>\n",
       "      <td>40,060.00</td>\n",
       "      <td>92.68</td>\n",
       "      <td>97.29</td>\n",
       "      <td>0.00</td>\n",
       "      <td>10.00</td>\n",
       "      <td>57.00</td>\n",
       "      <td>155.00</td>\n",
       "      <td>737.00</td>\n",
       "    </tr>\n",
       "    <tr>\n",
       "      <th>market_segment</th>\n",
       "      <td>0</td>\n",
       "      <td>0.00</td>\n",
       "      <td>object</td>\n",
       "      <td>6</td>\n",
       "      <td>nan</td>\n",
       "      <td>nan</td>\n",
       "      <td>nan</td>\n",
       "      <td>nan</td>\n",
       "      <td>nan</td>\n",
       "      <td>nan</td>\n",
       "      <td>nan</td>\n",
       "      <td>nan</td>\n",
       "    </tr>\n",
       "    <tr>\n",
       "      <th>meal</th>\n",
       "      <td>0</td>\n",
       "      <td>0.00</td>\n",
       "      <td>object</td>\n",
       "      <td>5</td>\n",
       "      <td>nan</td>\n",
       "      <td>nan</td>\n",
       "      <td>nan</td>\n",
       "      <td>nan</td>\n",
       "      <td>nan</td>\n",
       "      <td>nan</td>\n",
       "      <td>nan</td>\n",
       "      <td>nan</td>\n",
       "    </tr>\n",
       "    <tr>\n",
       "      <th>previous_bookings_not_canceled</th>\n",
       "      <td>0</td>\n",
       "      <td>0.00</td>\n",
       "      <td>int64</td>\n",
       "      <td>31</td>\n",
       "      <td>40,060.00</td>\n",
       "      <td>0.15</td>\n",
       "      <td>1.00</td>\n",
       "      <td>0.00</td>\n",
       "      <td>0.00</td>\n",
       "      <td>0.00</td>\n",
       "      <td>0.00</td>\n",
       "      <td>30.00</td>\n",
       "    </tr>\n",
       "    <tr>\n",
       "      <th>required_car_parking_spaces</th>\n",
       "      <td>0</td>\n",
       "      <td>0.00</td>\n",
       "      <td>int64</td>\n",
       "      <td>5</td>\n",
       "      <td>40,060.00</td>\n",
       "      <td>0.14</td>\n",
       "      <td>0.35</td>\n",
       "      <td>0.00</td>\n",
       "      <td>0.00</td>\n",
       "      <td>0.00</td>\n",
       "      <td>0.00</td>\n",
       "      <td>8.00</td>\n",
       "    </tr>\n",
       "    <tr>\n",
       "      <th>is_canceled</th>\n",
       "      <td>0</td>\n",
       "      <td>0.00</td>\n",
       "      <td>int64</td>\n",
       "      <td>2</td>\n",
       "      <td>40,060.00</td>\n",
       "      <td>0.28</td>\n",
       "      <td>0.45</td>\n",
       "      <td>0.00</td>\n",
       "      <td>0.00</td>\n",
       "      <td>0.00</td>\n",
       "      <td>1.00</td>\n",
       "      <td>1.00</td>\n",
       "    </tr>\n",
       "    <tr>\n",
       "      <th>reservation_status</th>\n",
       "      <td>0</td>\n",
       "      <td>0.00</td>\n",
       "      <td>object</td>\n",
       "      <td>3</td>\n",
       "      <td>nan</td>\n",
       "      <td>nan</td>\n",
       "      <td>nan</td>\n",
       "      <td>nan</td>\n",
       "      <td>nan</td>\n",
       "      <td>nan</td>\n",
       "      <td>nan</td>\n",
       "      <td>nan</td>\n",
       "    </tr>\n",
       "    <tr>\n",
       "      <th>reservation_status_date</th>\n",
       "      <td>0</td>\n",
       "      <td>0.00</td>\n",
       "      <td>object</td>\n",
       "      <td>913</td>\n",
       "      <td>nan</td>\n",
       "      <td>nan</td>\n",
       "      <td>nan</td>\n",
       "      <td>nan</td>\n",
       "      <td>nan</td>\n",
       "      <td>nan</td>\n",
       "      <td>nan</td>\n",
       "      <td>nan</td>\n",
       "    </tr>\n",
       "    <tr>\n",
       "      <th>reserved_room_type</th>\n",
       "      <td>0</td>\n",
       "      <td>0.00</td>\n",
       "      <td>object</td>\n",
       "      <td>10</td>\n",
       "      <td>nan</td>\n",
       "      <td>nan</td>\n",
       "      <td>nan</td>\n",
       "      <td>nan</td>\n",
       "      <td>nan</td>\n",
       "      <td>nan</td>\n",
       "      <td>nan</td>\n",
       "      <td>nan</td>\n",
       "    </tr>\n",
       "    <tr>\n",
       "      <th>stays_in_week_nights</th>\n",
       "      <td>0</td>\n",
       "      <td>0.00</td>\n",
       "      <td>int64</td>\n",
       "      <td>31</td>\n",
       "      <td>40,060.00</td>\n",
       "      <td>3.13</td>\n",
       "      <td>2.46</td>\n",
       "      <td>0.00</td>\n",
       "      <td>1.00</td>\n",
       "      <td>3.00</td>\n",
       "      <td>5.00</td>\n",
       "      <td>50.00</td>\n",
       "    </tr>\n",
       "    <tr>\n",
       "      <th>stays_in_weekend_nights</th>\n",
       "      <td>0</td>\n",
       "      <td>0.00</td>\n",
       "      <td>int64</td>\n",
       "      <td>16</td>\n",
       "      <td>40,060.00</td>\n",
       "      <td>1.19</td>\n",
       "      <td>1.15</td>\n",
       "      <td>0.00</td>\n",
       "      <td>0.00</td>\n",
       "      <td>1.00</td>\n",
       "      <td>2.00</td>\n",
       "      <td>19.00</td>\n",
       "    </tr>\n",
       "    <tr>\n",
       "      <th>is_repeated_guest</th>\n",
       "      <td>0</td>\n",
       "      <td>0.00</td>\n",
       "      <td>int64</td>\n",
       "      <td>2</td>\n",
       "      <td>40,060.00</td>\n",
       "      <td>0.04</td>\n",
       "      <td>0.21</td>\n",
       "      <td>0.00</td>\n",
       "      <td>0.00</td>\n",
       "      <td>0.00</td>\n",
       "      <td>0.00</td>\n",
       "      <td>1.00</td>\n",
       "    </tr>\n",
       "    <tr>\n",
       "      <th>deposit_type</th>\n",
       "      <td>0</td>\n",
       "      <td>0.00</td>\n",
       "      <td>object</td>\n",
       "      <td>3</td>\n",
       "      <td>nan</td>\n",
       "      <td>nan</td>\n",
       "      <td>nan</td>\n",
       "      <td>nan</td>\n",
       "      <td>nan</td>\n",
       "      <td>nan</td>\n",
       "      <td>nan</td>\n",
       "      <td>nan</td>\n",
       "    </tr>\n",
       "    <tr>\n",
       "      <th>distribution_channel</th>\n",
       "      <td>0</td>\n",
       "      <td>0.00</td>\n",
       "      <td>object</td>\n",
       "      <td>4</td>\n",
       "      <td>nan</td>\n",
       "      <td>nan</td>\n",
       "      <td>nan</td>\n",
       "      <td>nan</td>\n",
       "      <td>nan</td>\n",
       "      <td>nan</td>\n",
       "      <td>nan</td>\n",
       "      <td>nan</td>\n",
       "    </tr>\n",
       "    <tr>\n",
       "      <th>adults</th>\n",
       "      <td>0</td>\n",
       "      <td>0.00</td>\n",
       "      <td>int64</td>\n",
       "      <td>14</td>\n",
       "      <td>40,060.00</td>\n",
       "      <td>1.87</td>\n",
       "      <td>0.70</td>\n",
       "      <td>0.00</td>\n",
       "      <td>2.00</td>\n",
       "      <td>2.00</td>\n",
       "      <td>2.00</td>\n",
       "      <td>55.00</td>\n",
       "    </tr>\n",
       "    <tr>\n",
       "      <th>days_in_waiting_list</th>\n",
       "      <td>0</td>\n",
       "      <td>0.00</td>\n",
       "      <td>int64</td>\n",
       "      <td>44</td>\n",
       "      <td>40,060.00</td>\n",
       "      <td>0.53</td>\n",
       "      <td>7.43</td>\n",
       "      <td>0.00</td>\n",
       "      <td>0.00</td>\n",
       "      <td>0.00</td>\n",
       "      <td>0.00</td>\n",
       "      <td>185.00</td>\n",
       "    </tr>\n",
       "    <tr>\n",
       "      <th>customer_type</th>\n",
       "      <td>0</td>\n",
       "      <td>0.00</td>\n",
       "      <td>object</td>\n",
       "      <td>4</td>\n",
       "      <td>nan</td>\n",
       "      <td>nan</td>\n",
       "      <td>nan</td>\n",
       "      <td>nan</td>\n",
       "      <td>nan</td>\n",
       "      <td>nan</td>\n",
       "      <td>nan</td>\n",
       "      <td>nan</td>\n",
       "    </tr>\n",
       "    <tr>\n",
       "      <th>children</th>\n",
       "      <td>0</td>\n",
       "      <td>0.00</td>\n",
       "      <td>float64</td>\n",
       "      <td>5</td>\n",
       "      <td>40,060.00</td>\n",
       "      <td>0.13</td>\n",
       "      <td>0.45</td>\n",
       "      <td>0.00</td>\n",
       "      <td>0.00</td>\n",
       "      <td>0.00</td>\n",
       "      <td>0.00</td>\n",
       "      <td>10.00</td>\n",
       "    </tr>\n",
       "    <tr>\n",
       "      <th>booking_changes</th>\n",
       "      <td>0</td>\n",
       "      <td>0.00</td>\n",
       "      <td>int64</td>\n",
       "      <td>15</td>\n",
       "      <td>40,060.00</td>\n",
       "      <td>0.29</td>\n",
       "      <td>0.73</td>\n",
       "      <td>0.00</td>\n",
       "      <td>0.00</td>\n",
       "      <td>0.00</td>\n",
       "      <td>0.00</td>\n",
       "      <td>17.00</td>\n",
       "    </tr>\n",
       "    <tr>\n",
       "      <th>babies</th>\n",
       "      <td>0</td>\n",
       "      <td>0.00</td>\n",
       "      <td>int64</td>\n",
       "      <td>3</td>\n",
       "      <td>40,060.00</td>\n",
       "      <td>0.01</td>\n",
       "      <td>0.12</td>\n",
       "      <td>0.00</td>\n",
       "      <td>0.00</td>\n",
       "      <td>0.00</td>\n",
       "      <td>0.00</td>\n",
       "      <td>2.00</td>\n",
       "    </tr>\n",
       "    <tr>\n",
       "      <th>assigned_room_type</th>\n",
       "      <td>0</td>\n",
       "      <td>0.00</td>\n",
       "      <td>object</td>\n",
       "      <td>11</td>\n",
       "      <td>nan</td>\n",
       "      <td>nan</td>\n",
       "      <td>nan</td>\n",
       "      <td>nan</td>\n",
       "      <td>nan</td>\n",
       "      <td>nan</td>\n",
       "      <td>nan</td>\n",
       "      <td>nan</td>\n",
       "    </tr>\n",
       "    <tr>\n",
       "      <th>arrival_date_year</th>\n",
       "      <td>0</td>\n",
       "      <td>0.00</td>\n",
       "      <td>int64</td>\n",
       "      <td>3</td>\n",
       "      <td>40,060.00</td>\n",
       "      <td>2,016.12</td>\n",
       "      <td>0.72</td>\n",
       "      <td>2,015.00</td>\n",
       "      <td>2,016.00</td>\n",
       "      <td>2,016.00</td>\n",
       "      <td>2,017.00</td>\n",
       "      <td>2,017.00</td>\n",
       "    </tr>\n",
       "    <tr>\n",
       "      <th>arrival_date_week_number</th>\n",
       "      <td>0</td>\n",
       "      <td>0.00</td>\n",
       "      <td>int64</td>\n",
       "      <td>53</td>\n",
       "      <td>40,060.00</td>\n",
       "      <td>27.14</td>\n",
       "      <td>14.01</td>\n",
       "      <td>1.00</td>\n",
       "      <td>16.00</td>\n",
       "      <td>28.00</td>\n",
       "      <td>38.00</td>\n",
       "      <td>53.00</td>\n",
       "    </tr>\n",
       "    <tr>\n",
       "      <th>arrival_date_month</th>\n",
       "      <td>0</td>\n",
       "      <td>0.00</td>\n",
       "      <td>object</td>\n",
       "      <td>12</td>\n",
       "      <td>nan</td>\n",
       "      <td>nan</td>\n",
       "      <td>nan</td>\n",
       "      <td>nan</td>\n",
       "      <td>nan</td>\n",
       "      <td>nan</td>\n",
       "      <td>nan</td>\n",
       "      <td>nan</td>\n",
       "    </tr>\n",
       "    <tr>\n",
       "      <th>arrival_date_day_of_month</th>\n",
       "      <td>0</td>\n",
       "      <td>0.00</td>\n",
       "      <td>int64</td>\n",
       "      <td>31</td>\n",
       "      <td>40,060.00</td>\n",
       "      <td>15.82</td>\n",
       "      <td>8.88</td>\n",
       "      <td>1.00</td>\n",
       "      <td>8.00</td>\n",
       "      <td>16.00</td>\n",
       "      <td>24.00</td>\n",
       "      <td>31.00</td>\n",
       "    </tr>\n",
       "    <tr>\n",
       "      <th>total_of_special_requests</th>\n",
       "      <td>0</td>\n",
       "      <td>0.00</td>\n",
       "      <td>int64</td>\n",
       "      <td>6</td>\n",
       "      <td>40,060.00</td>\n",
       "      <td>0.62</td>\n",
       "      <td>0.81</td>\n",
       "      <td>0.00</td>\n",
       "      <td>0.00</td>\n",
       "      <td>0.00</td>\n",
       "      <td>1.00</td>\n",
       "      <td>5.00</td>\n",
       "    </tr>\n",
       "  </tbody>\n",
       "</table>\n",
       "</div>"
      ],
      "text/plain": [
       "                                null_sum  null_pct datatypes  num_unique  \\\n",
       "company                            36952      0.92   float64         235   \n",
       "agent                               8209      0.20   float64         185   \n",
       "country                              464      0.01    object         125   \n",
       "adr                                    0      0.00   float64        5880   \n",
       "previous_cancellations                 0      0.00     int64          11   \n",
       "lead_time                              0      0.00     int64         412   \n",
       "market_segment                         0      0.00    object           6   \n",
       "meal                                   0      0.00    object           5   \n",
       "previous_bookings_not_canceled         0      0.00     int64          31   \n",
       "required_car_parking_spaces            0      0.00     int64           5   \n",
       "is_canceled                            0      0.00     int64           2   \n",
       "reservation_status                     0      0.00    object           3   \n",
       "reservation_status_date                0      0.00    object         913   \n",
       "reserved_room_type                     0      0.00    object          10   \n",
       "stays_in_week_nights                   0      0.00     int64          31   \n",
       "stays_in_weekend_nights                0      0.00     int64          16   \n",
       "is_repeated_guest                      0      0.00     int64           2   \n",
       "deposit_type                           0      0.00    object           3   \n",
       "distribution_channel                   0      0.00    object           4   \n",
       "adults                                 0      0.00     int64          14   \n",
       "days_in_waiting_list                   0      0.00     int64          44   \n",
       "customer_type                          0      0.00    object           4   \n",
       "children                               0      0.00   float64           5   \n",
       "booking_changes                        0      0.00     int64          15   \n",
       "babies                                 0      0.00     int64           3   \n",
       "assigned_room_type                     0      0.00    object          11   \n",
       "arrival_date_year                      0      0.00     int64           3   \n",
       "arrival_date_week_number               0      0.00     int64          53   \n",
       "arrival_date_month                     0      0.00    object          12   \n",
       "arrival_date_day_of_month              0      0.00     int64          31   \n",
       "total_of_special_requests              0      0.00     int64           6   \n",
       "\n",
       "                                   count     mean    std      min      25%  \\\n",
       "company                         3,108.00   241.49 125.93     6.00   154.00   \n",
       "agent                          31,851.00   217.57  88.26     1.00   240.00   \n",
       "country                              nan      nan    nan      nan      nan   \n",
       "adr                            40,060.00    94.95  61.44    -6.38    50.00   \n",
       "previous_cancellations         40,060.00     0.10   1.34     0.00     0.00   \n",
       "lead_time                      40,060.00    92.68  97.29     0.00    10.00   \n",
       "market_segment                       nan      nan    nan      nan      nan   \n",
       "meal                                 nan      nan    nan      nan      nan   \n",
       "previous_bookings_not_canceled 40,060.00     0.15   1.00     0.00     0.00   \n",
       "required_car_parking_spaces    40,060.00     0.14   0.35     0.00     0.00   \n",
       "is_canceled                    40,060.00     0.28   0.45     0.00     0.00   \n",
       "reservation_status                   nan      nan    nan      nan      nan   \n",
       "reservation_status_date              nan      nan    nan      nan      nan   \n",
       "reserved_room_type                   nan      nan    nan      nan      nan   \n",
       "stays_in_week_nights           40,060.00     3.13   2.46     0.00     1.00   \n",
       "stays_in_weekend_nights        40,060.00     1.19   1.15     0.00     0.00   \n",
       "is_repeated_guest              40,060.00     0.04   0.21     0.00     0.00   \n",
       "deposit_type                         nan      nan    nan      nan      nan   \n",
       "distribution_channel                 nan      nan    nan      nan      nan   \n",
       "adults                         40,060.00     1.87   0.70     0.00     2.00   \n",
       "days_in_waiting_list           40,060.00     0.53   7.43     0.00     0.00   \n",
       "customer_type                        nan      nan    nan      nan      nan   \n",
       "children                       40,060.00     0.13   0.45     0.00     0.00   \n",
       "booking_changes                40,060.00     0.29   0.73     0.00     0.00   \n",
       "babies                         40,060.00     0.01   0.12     0.00     0.00   \n",
       "assigned_room_type                   nan      nan    nan      nan      nan   \n",
       "arrival_date_year              40,060.00 2,016.12   0.72 2,015.00 2,016.00   \n",
       "arrival_date_week_number       40,060.00    27.14  14.01     1.00    16.00   \n",
       "arrival_date_month                   nan      nan    nan      nan      nan   \n",
       "arrival_date_day_of_month      40,060.00    15.82   8.88     1.00     8.00   \n",
       "total_of_special_requests      40,060.00     0.62   0.81     0.00     0.00   \n",
       "\n",
       "                                    50%      75%      max  \n",
       "company                          223.00   330.00   543.00  \n",
       "agent                            240.00   242.00   535.00  \n",
       "country                             nan      nan      nan  \n",
       "adr                               75.00   125.00   508.00  \n",
       "previous_cancellations             0.00     0.00    26.00  \n",
       "lead_time                         57.00   155.00   737.00  \n",
       "market_segment                      nan      nan      nan  \n",
       "meal                                nan      nan      nan  \n",
       "previous_bookings_not_canceled     0.00     0.00    30.00  \n",
       "required_car_parking_spaces        0.00     0.00     8.00  \n",
       "is_canceled                        0.00     1.00     1.00  \n",
       "reservation_status                  nan      nan      nan  \n",
       "reservation_status_date             nan      nan      nan  \n",
       "reserved_room_type                  nan      nan      nan  \n",
       "stays_in_week_nights               3.00     5.00    50.00  \n",
       "stays_in_weekend_nights            1.00     2.00    19.00  \n",
       "is_repeated_guest                  0.00     0.00     1.00  \n",
       "deposit_type                        nan      nan      nan  \n",
       "distribution_channel                nan      nan      nan  \n",
       "adults                             2.00     2.00    55.00  \n",
       "days_in_waiting_list               0.00     0.00   185.00  \n",
       "customer_type                       nan      nan      nan  \n",
       "children                           0.00     0.00    10.00  \n",
       "booking_changes                    0.00     0.00    17.00  \n",
       "babies                             0.00     0.00     2.00  \n",
       "assigned_room_type                  nan      nan      nan  \n",
       "arrival_date_year              2,016.00 2,017.00 2,017.00  \n",
       "arrival_date_week_number          28.00    38.00    53.00  \n",
       "arrival_date_month                  nan      nan      nan  \n",
       "arrival_date_day_of_month         16.00    24.00    31.00  \n",
       "total_of_special_requests          0.00     1.00     5.00  "
      ]
     },
     "execution_count": 65,
     "metadata": {},
     "output_type": "execute_result"
    }
   ],
   "source": [
    "## Selecting report values for columns with missing values \n",
    "eda.report_df(subgroup_resort).sort_values('null_sum', ascending=False)"
   ]
  },
  {
   "cell_type": "markdown",
   "metadata": {},
   "source": [
    "---\n",
    "\n",
    "**Reviewing Reports - Missing Values**\n",
    "\n",
    "> Based on the post-split results, I see that both dataframes are missing values for `company,` `agent`, and `country`. Additionally, the `subroup_city` dataframe is missing four values for `children`.\n",
    ">\n",
    "> **Special note:** As noted in the data's documentation ( located in \"details.md\"), any missing values are intentional representations of features that were not applicable to a reservation.\n",
    "---\n",
    "\n",
    "**`Company` and `Agent` Features**\n",
    "\n",
    "> *Missing in `subgroup_city`:*\n",
    "* `company:` 95%\n",
    "* `agent:` 10%\n",
    ">\n",
    "> *Missing in `subgroup_resort`:*\n",
    "* `company:`\" 92%\n",
    "* `agent:` 20%\n",
    "\n",
    "> **Due to the large number of missing values for `company`, I will drop that column from both dataframes.** Since the missing values for `agent` are valid, I will keep the column and fill the missing values with the value \"N/A\"  to represent the lack of a value. I will fill the values in the next section.\n",
    "\n",
    "**`Country` and `Children` Features**\n",
    "\n",
    "> The remaining two features with missing values are `country` and `children`.**As there are a small number of missing values in both dataframes' features, I will keep both features. I will use** `SimpleImputer` **transformer during my preprocessing pipeline step to impute values and use a** `GridSearchCV` **to determine the best method.**\n",
    "\n",
    "---"
   ]
  },
  {
   "cell_type": "markdown",
   "metadata": {},
   "source": [
    "##### Dropping \"Company\" Column"
   ]
  },
  {
   "cell_type": "code",
   "execution_count": 66,
   "metadata": {
    "ExecuteTime": {
     "end_time": "2021-08-31T16:31:21.835300Z",
     "start_time": "2021-08-31T16:31:21.650275Z"
    }
   },
   "outputs": [
    {
     "data": {
      "text/html": [
       "<div>\n",
       "<style scoped>\n",
       "    .dataframe tbody tr th:only-of-type {\n",
       "        vertical-align: middle;\n",
       "    }\n",
       "\n",
       "    .dataframe tbody tr th {\n",
       "        vertical-align: top;\n",
       "    }\n",
       "\n",
       "    .dataframe thead th {\n",
       "        text-align: right;\n",
       "    }\n",
       "</style>\n",
       "<table border=\"1\" class=\"dataframe\">\n",
       "  <thead>\n",
       "    <tr style=\"text-align: right;\">\n",
       "      <th></th>\n",
       "      <th>is_canceled</th>\n",
       "      <th>lead_time</th>\n",
       "      <th>arrival_date_year</th>\n",
       "      <th>arrival_date_month</th>\n",
       "      <th>arrival_date_week_number</th>\n",
       "      <th>arrival_date_day_of_month</th>\n",
       "      <th>stays_in_weekend_nights</th>\n",
       "      <th>stays_in_week_nights</th>\n",
       "      <th>adults</th>\n",
       "      <th>children</th>\n",
       "      <th>babies</th>\n",
       "      <th>meal</th>\n",
       "      <th>country</th>\n",
       "      <th>market_segment</th>\n",
       "      <th>distribution_channel</th>\n",
       "      <th>is_repeated_guest</th>\n",
       "      <th>previous_cancellations</th>\n",
       "      <th>previous_bookings_not_canceled</th>\n",
       "      <th>reserved_room_type</th>\n",
       "      <th>assigned_room_type</th>\n",
       "      <th>booking_changes</th>\n",
       "      <th>deposit_type</th>\n",
       "      <th>agent</th>\n",
       "      <th>days_in_waiting_list</th>\n",
       "      <th>customer_type</th>\n",
       "      <th>adr</th>\n",
       "      <th>required_car_parking_spaces</th>\n",
       "      <th>total_of_special_requests</th>\n",
       "      <th>reservation_status</th>\n",
       "      <th>reservation_status_date</th>\n",
       "    </tr>\n",
       "  </thead>\n",
       "  <tbody>\n",
       "    <tr>\n",
       "      <th>40060</th>\n",
       "      <td>0</td>\n",
       "      <td>6</td>\n",
       "      <td>2015</td>\n",
       "      <td>July</td>\n",
       "      <td>27</td>\n",
       "      <td>1</td>\n",
       "      <td>0</td>\n",
       "      <td>2</td>\n",
       "      <td>1</td>\n",
       "      <td>0.00</td>\n",
       "      <td>0</td>\n",
       "      <td>HB</td>\n",
       "      <td>PRT</td>\n",
       "      <td>Offline TA/TO</td>\n",
       "      <td>TA/TO</td>\n",
       "      <td>0</td>\n",
       "      <td>0</td>\n",
       "      <td>0</td>\n",
       "      <td>A</td>\n",
       "      <td>A</td>\n",
       "      <td>0</td>\n",
       "      <td>No Deposit</td>\n",
       "      <td>6.00</td>\n",
       "      <td>0</td>\n",
       "      <td>Transient</td>\n",
       "      <td>0.00</td>\n",
       "      <td>0</td>\n",
       "      <td>0</td>\n",
       "      <td>Check-Out</td>\n",
       "      <td>2015-07-03</td>\n",
       "    </tr>\n",
       "    <tr>\n",
       "      <th>40061</th>\n",
       "      <td>1</td>\n",
       "      <td>88</td>\n",
       "      <td>2015</td>\n",
       "      <td>July</td>\n",
       "      <td>27</td>\n",
       "      <td>1</td>\n",
       "      <td>0</td>\n",
       "      <td>4</td>\n",
       "      <td>2</td>\n",
       "      <td>0.00</td>\n",
       "      <td>0</td>\n",
       "      <td>BB</td>\n",
       "      <td>PRT</td>\n",
       "      <td>Online TA</td>\n",
       "      <td>TA/TO</td>\n",
       "      <td>0</td>\n",
       "      <td>0</td>\n",
       "      <td>0</td>\n",
       "      <td>A</td>\n",
       "      <td>A</td>\n",
       "      <td>0</td>\n",
       "      <td>No Deposit</td>\n",
       "      <td>9.00</td>\n",
       "      <td>0</td>\n",
       "      <td>Transient</td>\n",
       "      <td>76.50</td>\n",
       "      <td>0</td>\n",
       "      <td>1</td>\n",
       "      <td>Canceled</td>\n",
       "      <td>2015-07-01</td>\n",
       "    </tr>\n",
       "    <tr>\n",
       "      <th>40062</th>\n",
       "      <td>1</td>\n",
       "      <td>65</td>\n",
       "      <td>2015</td>\n",
       "      <td>July</td>\n",
       "      <td>27</td>\n",
       "      <td>1</td>\n",
       "      <td>0</td>\n",
       "      <td>4</td>\n",
       "      <td>1</td>\n",
       "      <td>0.00</td>\n",
       "      <td>0</td>\n",
       "      <td>BB</td>\n",
       "      <td>PRT</td>\n",
       "      <td>Online TA</td>\n",
       "      <td>TA/TO</td>\n",
       "      <td>0</td>\n",
       "      <td>0</td>\n",
       "      <td>0</td>\n",
       "      <td>A</td>\n",
       "      <td>A</td>\n",
       "      <td>0</td>\n",
       "      <td>No Deposit</td>\n",
       "      <td>9.00</td>\n",
       "      <td>0</td>\n",
       "      <td>Transient</td>\n",
       "      <td>68.00</td>\n",
       "      <td>0</td>\n",
       "      <td>1</td>\n",
       "      <td>Canceled</td>\n",
       "      <td>2015-04-30</td>\n",
       "    </tr>\n",
       "    <tr>\n",
       "      <th>40063</th>\n",
       "      <td>1</td>\n",
       "      <td>92</td>\n",
       "      <td>2015</td>\n",
       "      <td>July</td>\n",
       "      <td>27</td>\n",
       "      <td>1</td>\n",
       "      <td>2</td>\n",
       "      <td>4</td>\n",
       "      <td>2</td>\n",
       "      <td>0.00</td>\n",
       "      <td>0</td>\n",
       "      <td>BB</td>\n",
       "      <td>PRT</td>\n",
       "      <td>Online TA</td>\n",
       "      <td>TA/TO</td>\n",
       "      <td>0</td>\n",
       "      <td>0</td>\n",
       "      <td>0</td>\n",
       "      <td>A</td>\n",
       "      <td>A</td>\n",
       "      <td>0</td>\n",
       "      <td>No Deposit</td>\n",
       "      <td>9.00</td>\n",
       "      <td>0</td>\n",
       "      <td>Transient</td>\n",
       "      <td>76.50</td>\n",
       "      <td>0</td>\n",
       "      <td>2</td>\n",
       "      <td>Canceled</td>\n",
       "      <td>2015-06-23</td>\n",
       "    </tr>\n",
       "    <tr>\n",
       "      <th>40064</th>\n",
       "      <td>1</td>\n",
       "      <td>100</td>\n",
       "      <td>2015</td>\n",
       "      <td>July</td>\n",
       "      <td>27</td>\n",
       "      <td>2</td>\n",
       "      <td>0</td>\n",
       "      <td>2</td>\n",
       "      <td>2</td>\n",
       "      <td>0.00</td>\n",
       "      <td>0</td>\n",
       "      <td>BB</td>\n",
       "      <td>PRT</td>\n",
       "      <td>Online TA</td>\n",
       "      <td>TA/TO</td>\n",
       "      <td>0</td>\n",
       "      <td>0</td>\n",
       "      <td>0</td>\n",
       "      <td>A</td>\n",
       "      <td>A</td>\n",
       "      <td>0</td>\n",
       "      <td>No Deposit</td>\n",
       "      <td>9.00</td>\n",
       "      <td>0</td>\n",
       "      <td>Transient</td>\n",
       "      <td>76.50</td>\n",
       "      <td>0</td>\n",
       "      <td>1</td>\n",
       "      <td>Canceled</td>\n",
       "      <td>2015-04-02</td>\n",
       "    </tr>\n",
       "    <tr>\n",
       "      <th>...</th>\n",
       "      <td>...</td>\n",
       "      <td>...</td>\n",
       "      <td>...</td>\n",
       "      <td>...</td>\n",
       "      <td>...</td>\n",
       "      <td>...</td>\n",
       "      <td>...</td>\n",
       "      <td>...</td>\n",
       "      <td>...</td>\n",
       "      <td>...</td>\n",
       "      <td>...</td>\n",
       "      <td>...</td>\n",
       "      <td>...</td>\n",
       "      <td>...</td>\n",
       "      <td>...</td>\n",
       "      <td>...</td>\n",
       "      <td>...</td>\n",
       "      <td>...</td>\n",
       "      <td>...</td>\n",
       "      <td>...</td>\n",
       "      <td>...</td>\n",
       "      <td>...</td>\n",
       "      <td>...</td>\n",
       "      <td>...</td>\n",
       "      <td>...</td>\n",
       "      <td>...</td>\n",
       "      <td>...</td>\n",
       "      <td>...</td>\n",
       "      <td>...</td>\n",
       "      <td>...</td>\n",
       "    </tr>\n",
       "    <tr>\n",
       "      <th>119385</th>\n",
       "      <td>0</td>\n",
       "      <td>23</td>\n",
       "      <td>2017</td>\n",
       "      <td>August</td>\n",
       "      <td>35</td>\n",
       "      <td>30</td>\n",
       "      <td>2</td>\n",
       "      <td>5</td>\n",
       "      <td>2</td>\n",
       "      <td>0.00</td>\n",
       "      <td>0</td>\n",
       "      <td>BB</td>\n",
       "      <td>BEL</td>\n",
       "      <td>Offline TA/TO</td>\n",
       "      <td>TA/TO</td>\n",
       "      <td>0</td>\n",
       "      <td>0</td>\n",
       "      <td>0</td>\n",
       "      <td>A</td>\n",
       "      <td>A</td>\n",
       "      <td>0</td>\n",
       "      <td>No Deposit</td>\n",
       "      <td>394.00</td>\n",
       "      <td>0</td>\n",
       "      <td>Transient</td>\n",
       "      <td>96.14</td>\n",
       "      <td>0</td>\n",
       "      <td>0</td>\n",
       "      <td>Check-Out</td>\n",
       "      <td>2017-09-06</td>\n",
       "    </tr>\n",
       "    <tr>\n",
       "      <th>119386</th>\n",
       "      <td>0</td>\n",
       "      <td>102</td>\n",
       "      <td>2017</td>\n",
       "      <td>August</td>\n",
       "      <td>35</td>\n",
       "      <td>31</td>\n",
       "      <td>2</td>\n",
       "      <td>5</td>\n",
       "      <td>3</td>\n",
       "      <td>0.00</td>\n",
       "      <td>0</td>\n",
       "      <td>BB</td>\n",
       "      <td>FRA</td>\n",
       "      <td>Online TA</td>\n",
       "      <td>TA/TO</td>\n",
       "      <td>0</td>\n",
       "      <td>0</td>\n",
       "      <td>0</td>\n",
       "      <td>E</td>\n",
       "      <td>E</td>\n",
       "      <td>0</td>\n",
       "      <td>No Deposit</td>\n",
       "      <td>9.00</td>\n",
       "      <td>0</td>\n",
       "      <td>Transient</td>\n",
       "      <td>225.43</td>\n",
       "      <td>0</td>\n",
       "      <td>2</td>\n",
       "      <td>Check-Out</td>\n",
       "      <td>2017-09-07</td>\n",
       "    </tr>\n",
       "    <tr>\n",
       "      <th>119387</th>\n",
       "      <td>0</td>\n",
       "      <td>34</td>\n",
       "      <td>2017</td>\n",
       "      <td>August</td>\n",
       "      <td>35</td>\n",
       "      <td>31</td>\n",
       "      <td>2</td>\n",
       "      <td>5</td>\n",
       "      <td>2</td>\n",
       "      <td>0.00</td>\n",
       "      <td>0</td>\n",
       "      <td>BB</td>\n",
       "      <td>DEU</td>\n",
       "      <td>Online TA</td>\n",
       "      <td>TA/TO</td>\n",
       "      <td>0</td>\n",
       "      <td>0</td>\n",
       "      <td>0</td>\n",
       "      <td>D</td>\n",
       "      <td>D</td>\n",
       "      <td>0</td>\n",
       "      <td>No Deposit</td>\n",
       "      <td>9.00</td>\n",
       "      <td>0</td>\n",
       "      <td>Transient</td>\n",
       "      <td>157.71</td>\n",
       "      <td>0</td>\n",
       "      <td>4</td>\n",
       "      <td>Check-Out</td>\n",
       "      <td>2017-09-07</td>\n",
       "    </tr>\n",
       "    <tr>\n",
       "      <th>119388</th>\n",
       "      <td>0</td>\n",
       "      <td>109</td>\n",
       "      <td>2017</td>\n",
       "      <td>August</td>\n",
       "      <td>35</td>\n",
       "      <td>31</td>\n",
       "      <td>2</td>\n",
       "      <td>5</td>\n",
       "      <td>2</td>\n",
       "      <td>0.00</td>\n",
       "      <td>0</td>\n",
       "      <td>BB</td>\n",
       "      <td>GBR</td>\n",
       "      <td>Online TA</td>\n",
       "      <td>TA/TO</td>\n",
       "      <td>0</td>\n",
       "      <td>0</td>\n",
       "      <td>0</td>\n",
       "      <td>A</td>\n",
       "      <td>A</td>\n",
       "      <td>0</td>\n",
       "      <td>No Deposit</td>\n",
       "      <td>89.00</td>\n",
       "      <td>0</td>\n",
       "      <td>Transient</td>\n",
       "      <td>104.40</td>\n",
       "      <td>0</td>\n",
       "      <td>0</td>\n",
       "      <td>Check-Out</td>\n",
       "      <td>2017-09-07</td>\n",
       "    </tr>\n",
       "    <tr>\n",
       "      <th>119389</th>\n",
       "      <td>0</td>\n",
       "      <td>205</td>\n",
       "      <td>2017</td>\n",
       "      <td>August</td>\n",
       "      <td>35</td>\n",
       "      <td>29</td>\n",
       "      <td>2</td>\n",
       "      <td>7</td>\n",
       "      <td>2</td>\n",
       "      <td>0.00</td>\n",
       "      <td>0</td>\n",
       "      <td>HB</td>\n",
       "      <td>DEU</td>\n",
       "      <td>Online TA</td>\n",
       "      <td>TA/TO</td>\n",
       "      <td>0</td>\n",
       "      <td>0</td>\n",
       "      <td>0</td>\n",
       "      <td>A</td>\n",
       "      <td>A</td>\n",
       "      <td>0</td>\n",
       "      <td>No Deposit</td>\n",
       "      <td>9.00</td>\n",
       "      <td>0</td>\n",
       "      <td>Transient</td>\n",
       "      <td>151.20</td>\n",
       "      <td>0</td>\n",
       "      <td>2</td>\n",
       "      <td>Check-Out</td>\n",
       "      <td>2017-09-07</td>\n",
       "    </tr>\n",
       "  </tbody>\n",
       "</table>\n",
       "<p>79330 rows × 30 columns</p>\n",
       "</div>"
      ],
      "text/plain": [
       "        is_canceled  lead_time  arrival_date_year arrival_date_month  \\\n",
       "40060             0          6               2015               July   \n",
       "40061             1         88               2015               July   \n",
       "40062             1         65               2015               July   \n",
       "40063             1         92               2015               July   \n",
       "40064             1        100               2015               July   \n",
       "...             ...        ...                ...                ...   \n",
       "119385            0         23               2017             August   \n",
       "119386            0        102               2017             August   \n",
       "119387            0         34               2017             August   \n",
       "119388            0        109               2017             August   \n",
       "119389            0        205               2017             August   \n",
       "\n",
       "        arrival_date_week_number  arrival_date_day_of_month  \\\n",
       "40060                         27                          1   \n",
       "40061                         27                          1   \n",
       "40062                         27                          1   \n",
       "40063                         27                          1   \n",
       "40064                         27                          2   \n",
       "...                          ...                        ...   \n",
       "119385                        35                         30   \n",
       "119386                        35                         31   \n",
       "119387                        35                         31   \n",
       "119388                        35                         31   \n",
       "119389                        35                         29   \n",
       "\n",
       "        stays_in_weekend_nights  stays_in_week_nights  adults  children  \\\n",
       "40060                         0                     2       1      0.00   \n",
       "40061                         0                     4       2      0.00   \n",
       "40062                         0                     4       1      0.00   \n",
       "40063                         2                     4       2      0.00   \n",
       "40064                         0                     2       2      0.00   \n",
       "...                         ...                   ...     ...       ...   \n",
       "119385                        2                     5       2      0.00   \n",
       "119386                        2                     5       3      0.00   \n",
       "119387                        2                     5       2      0.00   \n",
       "119388                        2                     5       2      0.00   \n",
       "119389                        2                     7       2      0.00   \n",
       "\n",
       "        babies meal country market_segment distribution_channel  \\\n",
       "40060        0   HB     PRT  Offline TA/TO                TA/TO   \n",
       "40061        0   BB     PRT      Online TA                TA/TO   \n",
       "40062        0   BB     PRT      Online TA                TA/TO   \n",
       "40063        0   BB     PRT      Online TA                TA/TO   \n",
       "40064        0   BB     PRT      Online TA                TA/TO   \n",
       "...        ...  ...     ...            ...                  ...   \n",
       "119385       0   BB     BEL  Offline TA/TO                TA/TO   \n",
       "119386       0   BB     FRA      Online TA                TA/TO   \n",
       "119387       0   BB     DEU      Online TA                TA/TO   \n",
       "119388       0   BB     GBR      Online TA                TA/TO   \n",
       "119389       0   HB     DEU      Online TA                TA/TO   \n",
       "\n",
       "        is_repeated_guest  previous_cancellations  \\\n",
       "40060                   0                       0   \n",
       "40061                   0                       0   \n",
       "40062                   0                       0   \n",
       "40063                   0                       0   \n",
       "40064                   0                       0   \n",
       "...                   ...                     ...   \n",
       "119385                  0                       0   \n",
       "119386                  0                       0   \n",
       "119387                  0                       0   \n",
       "119388                  0                       0   \n",
       "119389                  0                       0   \n",
       "\n",
       "        previous_bookings_not_canceled reserved_room_type assigned_room_type  \\\n",
       "40060                                0                  A                  A   \n",
       "40061                                0                  A                  A   \n",
       "40062                                0                  A                  A   \n",
       "40063                                0                  A                  A   \n",
       "40064                                0                  A                  A   \n",
       "...                                ...                ...                ...   \n",
       "119385                               0                  A                  A   \n",
       "119386                               0                  E                  E   \n",
       "119387                               0                  D                  D   \n",
       "119388                               0                  A                  A   \n",
       "119389                               0                  A                  A   \n",
       "\n",
       "        booking_changes deposit_type  agent  days_in_waiting_list  \\\n",
       "40060                 0   No Deposit   6.00                     0   \n",
       "40061                 0   No Deposit   9.00                     0   \n",
       "40062                 0   No Deposit   9.00                     0   \n",
       "40063                 0   No Deposit   9.00                     0   \n",
       "40064                 0   No Deposit   9.00                     0   \n",
       "...                 ...          ...    ...                   ...   \n",
       "119385                0   No Deposit 394.00                     0   \n",
       "119386                0   No Deposit   9.00                     0   \n",
       "119387                0   No Deposit   9.00                     0   \n",
       "119388                0   No Deposit  89.00                     0   \n",
       "119389                0   No Deposit   9.00                     0   \n",
       "\n",
       "       customer_type    adr  required_car_parking_spaces  \\\n",
       "40060      Transient   0.00                            0   \n",
       "40061      Transient  76.50                            0   \n",
       "40062      Transient  68.00                            0   \n",
       "40063      Transient  76.50                            0   \n",
       "40064      Transient  76.50                            0   \n",
       "...              ...    ...                          ...   \n",
       "119385     Transient  96.14                            0   \n",
       "119386     Transient 225.43                            0   \n",
       "119387     Transient 157.71                            0   \n",
       "119388     Transient 104.40                            0   \n",
       "119389     Transient 151.20                            0   \n",
       "\n",
       "        total_of_special_requests reservation_status reservation_status_date  \n",
       "40060                           0          Check-Out              2015-07-03  \n",
       "40061                           1           Canceled              2015-07-01  \n",
       "40062                           1           Canceled              2015-04-30  \n",
       "40063                           2           Canceled              2015-06-23  \n",
       "40064                           1           Canceled              2015-04-02  \n",
       "...                           ...                ...                     ...  \n",
       "119385                          0          Check-Out              2017-09-06  \n",
       "119386                          2          Check-Out              2017-09-07  \n",
       "119387                          4          Check-Out              2017-09-07  \n",
       "119388                          0          Check-Out              2017-09-07  \n",
       "119389                          2          Check-Out              2017-09-07  \n",
       "\n",
       "[79330 rows x 30 columns]"
      ]
     },
     "execution_count": 66,
     "metadata": {},
     "output_type": "execute_result"
    }
   ],
   "source": [
    "# Dropping \"company\" column (95% missing values)\n",
    "subgroup_city.drop(columns = ['company'], inplace=True)\n",
    "subgroup_city"
   ]
  },
  {
   "cell_type": "code",
   "execution_count": 67,
   "metadata": {
    "ExecuteTime": {
     "end_time": "2021-08-31T16:31:21.991309Z",
     "start_time": "2021-08-31T16:31:21.837276Z"
    },
    "scrolled": true
   },
   "outputs": [
    {
     "data": {
      "text/html": [
       "<div>\n",
       "<style scoped>\n",
       "    .dataframe tbody tr th:only-of-type {\n",
       "        vertical-align: middle;\n",
       "    }\n",
       "\n",
       "    .dataframe tbody tr th {\n",
       "        vertical-align: top;\n",
       "    }\n",
       "\n",
       "    .dataframe thead th {\n",
       "        text-align: right;\n",
       "    }\n",
       "</style>\n",
       "<table border=\"1\" class=\"dataframe\">\n",
       "  <thead>\n",
       "    <tr style=\"text-align: right;\">\n",
       "      <th></th>\n",
       "      <th>is_canceled</th>\n",
       "      <th>lead_time</th>\n",
       "      <th>arrival_date_year</th>\n",
       "      <th>arrival_date_month</th>\n",
       "      <th>arrival_date_week_number</th>\n",
       "      <th>arrival_date_day_of_month</th>\n",
       "      <th>stays_in_weekend_nights</th>\n",
       "      <th>stays_in_week_nights</th>\n",
       "      <th>adults</th>\n",
       "      <th>children</th>\n",
       "      <th>babies</th>\n",
       "      <th>meal</th>\n",
       "      <th>country</th>\n",
       "      <th>market_segment</th>\n",
       "      <th>distribution_channel</th>\n",
       "      <th>is_repeated_guest</th>\n",
       "      <th>previous_cancellations</th>\n",
       "      <th>previous_bookings_not_canceled</th>\n",
       "      <th>reserved_room_type</th>\n",
       "      <th>assigned_room_type</th>\n",
       "      <th>booking_changes</th>\n",
       "      <th>deposit_type</th>\n",
       "      <th>agent</th>\n",
       "      <th>days_in_waiting_list</th>\n",
       "      <th>customer_type</th>\n",
       "      <th>adr</th>\n",
       "      <th>required_car_parking_spaces</th>\n",
       "      <th>total_of_special_requests</th>\n",
       "      <th>reservation_status</th>\n",
       "      <th>reservation_status_date</th>\n",
       "    </tr>\n",
       "  </thead>\n",
       "  <tbody>\n",
       "    <tr>\n",
       "      <th>0</th>\n",
       "      <td>0</td>\n",
       "      <td>342</td>\n",
       "      <td>2015</td>\n",
       "      <td>July</td>\n",
       "      <td>27</td>\n",
       "      <td>1</td>\n",
       "      <td>0</td>\n",
       "      <td>0</td>\n",
       "      <td>2</td>\n",
       "      <td>0.00</td>\n",
       "      <td>0</td>\n",
       "      <td>BB</td>\n",
       "      <td>PRT</td>\n",
       "      <td>Direct</td>\n",
       "      <td>Direct</td>\n",
       "      <td>0</td>\n",
       "      <td>0</td>\n",
       "      <td>0</td>\n",
       "      <td>C</td>\n",
       "      <td>C</td>\n",
       "      <td>3</td>\n",
       "      <td>No Deposit</td>\n",
       "      <td>nan</td>\n",
       "      <td>0</td>\n",
       "      <td>Transient</td>\n",
       "      <td>0.00</td>\n",
       "      <td>0</td>\n",
       "      <td>0</td>\n",
       "      <td>Check-Out</td>\n",
       "      <td>2015-07-01</td>\n",
       "    </tr>\n",
       "    <tr>\n",
       "      <th>1</th>\n",
       "      <td>0</td>\n",
       "      <td>737</td>\n",
       "      <td>2015</td>\n",
       "      <td>July</td>\n",
       "      <td>27</td>\n",
       "      <td>1</td>\n",
       "      <td>0</td>\n",
       "      <td>0</td>\n",
       "      <td>2</td>\n",
       "      <td>0.00</td>\n",
       "      <td>0</td>\n",
       "      <td>BB</td>\n",
       "      <td>PRT</td>\n",
       "      <td>Direct</td>\n",
       "      <td>Direct</td>\n",
       "      <td>0</td>\n",
       "      <td>0</td>\n",
       "      <td>0</td>\n",
       "      <td>C</td>\n",
       "      <td>C</td>\n",
       "      <td>4</td>\n",
       "      <td>No Deposit</td>\n",
       "      <td>nan</td>\n",
       "      <td>0</td>\n",
       "      <td>Transient</td>\n",
       "      <td>0.00</td>\n",
       "      <td>0</td>\n",
       "      <td>0</td>\n",
       "      <td>Check-Out</td>\n",
       "      <td>2015-07-01</td>\n",
       "    </tr>\n",
       "    <tr>\n",
       "      <th>2</th>\n",
       "      <td>0</td>\n",
       "      <td>7</td>\n",
       "      <td>2015</td>\n",
       "      <td>July</td>\n",
       "      <td>27</td>\n",
       "      <td>1</td>\n",
       "      <td>0</td>\n",
       "      <td>1</td>\n",
       "      <td>1</td>\n",
       "      <td>0.00</td>\n",
       "      <td>0</td>\n",
       "      <td>BB</td>\n",
       "      <td>GBR</td>\n",
       "      <td>Direct</td>\n",
       "      <td>Direct</td>\n",
       "      <td>0</td>\n",
       "      <td>0</td>\n",
       "      <td>0</td>\n",
       "      <td>A</td>\n",
       "      <td>C</td>\n",
       "      <td>0</td>\n",
       "      <td>No Deposit</td>\n",
       "      <td>nan</td>\n",
       "      <td>0</td>\n",
       "      <td>Transient</td>\n",
       "      <td>75.00</td>\n",
       "      <td>0</td>\n",
       "      <td>0</td>\n",
       "      <td>Check-Out</td>\n",
       "      <td>2015-07-02</td>\n",
       "    </tr>\n",
       "    <tr>\n",
       "      <th>3</th>\n",
       "      <td>0</td>\n",
       "      <td>13</td>\n",
       "      <td>2015</td>\n",
       "      <td>July</td>\n",
       "      <td>27</td>\n",
       "      <td>1</td>\n",
       "      <td>0</td>\n",
       "      <td>1</td>\n",
       "      <td>1</td>\n",
       "      <td>0.00</td>\n",
       "      <td>0</td>\n",
       "      <td>BB</td>\n",
       "      <td>GBR</td>\n",
       "      <td>Corporate</td>\n",
       "      <td>Corporate</td>\n",
       "      <td>0</td>\n",
       "      <td>0</td>\n",
       "      <td>0</td>\n",
       "      <td>A</td>\n",
       "      <td>A</td>\n",
       "      <td>0</td>\n",
       "      <td>No Deposit</td>\n",
       "      <td>304.00</td>\n",
       "      <td>0</td>\n",
       "      <td>Transient</td>\n",
       "      <td>75.00</td>\n",
       "      <td>0</td>\n",
       "      <td>0</td>\n",
       "      <td>Check-Out</td>\n",
       "      <td>2015-07-02</td>\n",
       "    </tr>\n",
       "    <tr>\n",
       "      <th>4</th>\n",
       "      <td>0</td>\n",
       "      <td>14</td>\n",
       "      <td>2015</td>\n",
       "      <td>July</td>\n",
       "      <td>27</td>\n",
       "      <td>1</td>\n",
       "      <td>0</td>\n",
       "      <td>2</td>\n",
       "      <td>2</td>\n",
       "      <td>0.00</td>\n",
       "      <td>0</td>\n",
       "      <td>BB</td>\n",
       "      <td>GBR</td>\n",
       "      <td>Online TA</td>\n",
       "      <td>TA/TO</td>\n",
       "      <td>0</td>\n",
       "      <td>0</td>\n",
       "      <td>0</td>\n",
       "      <td>A</td>\n",
       "      <td>A</td>\n",
       "      <td>0</td>\n",
       "      <td>No Deposit</td>\n",
       "      <td>240.00</td>\n",
       "      <td>0</td>\n",
       "      <td>Transient</td>\n",
       "      <td>98.00</td>\n",
       "      <td>0</td>\n",
       "      <td>1</td>\n",
       "      <td>Check-Out</td>\n",
       "      <td>2015-07-03</td>\n",
       "    </tr>\n",
       "    <tr>\n",
       "      <th>...</th>\n",
       "      <td>...</td>\n",
       "      <td>...</td>\n",
       "      <td>...</td>\n",
       "      <td>...</td>\n",
       "      <td>...</td>\n",
       "      <td>...</td>\n",
       "      <td>...</td>\n",
       "      <td>...</td>\n",
       "      <td>...</td>\n",
       "      <td>...</td>\n",
       "      <td>...</td>\n",
       "      <td>...</td>\n",
       "      <td>...</td>\n",
       "      <td>...</td>\n",
       "      <td>...</td>\n",
       "      <td>...</td>\n",
       "      <td>...</td>\n",
       "      <td>...</td>\n",
       "      <td>...</td>\n",
       "      <td>...</td>\n",
       "      <td>...</td>\n",
       "      <td>...</td>\n",
       "      <td>...</td>\n",
       "      <td>...</td>\n",
       "      <td>...</td>\n",
       "      <td>...</td>\n",
       "      <td>...</td>\n",
       "      <td>...</td>\n",
       "      <td>...</td>\n",
       "      <td>...</td>\n",
       "    </tr>\n",
       "    <tr>\n",
       "      <th>40055</th>\n",
       "      <td>0</td>\n",
       "      <td>212</td>\n",
       "      <td>2017</td>\n",
       "      <td>August</td>\n",
       "      <td>35</td>\n",
       "      <td>31</td>\n",
       "      <td>2</td>\n",
       "      <td>8</td>\n",
       "      <td>2</td>\n",
       "      <td>1.00</td>\n",
       "      <td>0</td>\n",
       "      <td>BB</td>\n",
       "      <td>GBR</td>\n",
       "      <td>Offline TA/TO</td>\n",
       "      <td>TA/TO</td>\n",
       "      <td>0</td>\n",
       "      <td>0</td>\n",
       "      <td>0</td>\n",
       "      <td>A</td>\n",
       "      <td>A</td>\n",
       "      <td>1</td>\n",
       "      <td>No Deposit</td>\n",
       "      <td>143.00</td>\n",
       "      <td>0</td>\n",
       "      <td>Transient</td>\n",
       "      <td>89.75</td>\n",
       "      <td>0</td>\n",
       "      <td>0</td>\n",
       "      <td>Check-Out</td>\n",
       "      <td>2017-09-10</td>\n",
       "    </tr>\n",
       "    <tr>\n",
       "      <th>40056</th>\n",
       "      <td>0</td>\n",
       "      <td>169</td>\n",
       "      <td>2017</td>\n",
       "      <td>August</td>\n",
       "      <td>35</td>\n",
       "      <td>30</td>\n",
       "      <td>2</td>\n",
       "      <td>9</td>\n",
       "      <td>2</td>\n",
       "      <td>0.00</td>\n",
       "      <td>0</td>\n",
       "      <td>BB</td>\n",
       "      <td>IRL</td>\n",
       "      <td>Direct</td>\n",
       "      <td>Direct</td>\n",
       "      <td>0</td>\n",
       "      <td>0</td>\n",
       "      <td>0</td>\n",
       "      <td>E</td>\n",
       "      <td>E</td>\n",
       "      <td>0</td>\n",
       "      <td>No Deposit</td>\n",
       "      <td>250.00</td>\n",
       "      <td>0</td>\n",
       "      <td>Transient-Party</td>\n",
       "      <td>202.27</td>\n",
       "      <td>0</td>\n",
       "      <td>1</td>\n",
       "      <td>Check-Out</td>\n",
       "      <td>2017-09-10</td>\n",
       "    </tr>\n",
       "    <tr>\n",
       "      <th>40057</th>\n",
       "      <td>0</td>\n",
       "      <td>204</td>\n",
       "      <td>2017</td>\n",
       "      <td>August</td>\n",
       "      <td>35</td>\n",
       "      <td>29</td>\n",
       "      <td>4</td>\n",
       "      <td>10</td>\n",
       "      <td>2</td>\n",
       "      <td>0.00</td>\n",
       "      <td>0</td>\n",
       "      <td>BB</td>\n",
       "      <td>IRL</td>\n",
       "      <td>Direct</td>\n",
       "      <td>Direct</td>\n",
       "      <td>0</td>\n",
       "      <td>0</td>\n",
       "      <td>0</td>\n",
       "      <td>E</td>\n",
       "      <td>E</td>\n",
       "      <td>0</td>\n",
       "      <td>No Deposit</td>\n",
       "      <td>250.00</td>\n",
       "      <td>0</td>\n",
       "      <td>Transient</td>\n",
       "      <td>153.57</td>\n",
       "      <td>0</td>\n",
       "      <td>3</td>\n",
       "      <td>Check-Out</td>\n",
       "      <td>2017-09-12</td>\n",
       "    </tr>\n",
       "    <tr>\n",
       "      <th>40058</th>\n",
       "      <td>0</td>\n",
       "      <td>211</td>\n",
       "      <td>2017</td>\n",
       "      <td>August</td>\n",
       "      <td>35</td>\n",
       "      <td>31</td>\n",
       "      <td>4</td>\n",
       "      <td>10</td>\n",
       "      <td>2</td>\n",
       "      <td>0.00</td>\n",
       "      <td>0</td>\n",
       "      <td>HB</td>\n",
       "      <td>GBR</td>\n",
       "      <td>Offline TA/TO</td>\n",
       "      <td>TA/TO</td>\n",
       "      <td>0</td>\n",
       "      <td>0</td>\n",
       "      <td>0</td>\n",
       "      <td>D</td>\n",
       "      <td>D</td>\n",
       "      <td>0</td>\n",
       "      <td>No Deposit</td>\n",
       "      <td>40.00</td>\n",
       "      <td>0</td>\n",
       "      <td>Contract</td>\n",
       "      <td>112.80</td>\n",
       "      <td>0</td>\n",
       "      <td>1</td>\n",
       "      <td>Check-Out</td>\n",
       "      <td>2017-09-14</td>\n",
       "    </tr>\n",
       "    <tr>\n",
       "      <th>40059</th>\n",
       "      <td>0</td>\n",
       "      <td>161</td>\n",
       "      <td>2017</td>\n",
       "      <td>August</td>\n",
       "      <td>35</td>\n",
       "      <td>31</td>\n",
       "      <td>4</td>\n",
       "      <td>10</td>\n",
       "      <td>2</td>\n",
       "      <td>0.00</td>\n",
       "      <td>0</td>\n",
       "      <td>HB</td>\n",
       "      <td>DEU</td>\n",
       "      <td>Offline TA/TO</td>\n",
       "      <td>TA/TO</td>\n",
       "      <td>0</td>\n",
       "      <td>0</td>\n",
       "      <td>0</td>\n",
       "      <td>A</td>\n",
       "      <td>A</td>\n",
       "      <td>0</td>\n",
       "      <td>No Deposit</td>\n",
       "      <td>69.00</td>\n",
       "      <td>0</td>\n",
       "      <td>Transient</td>\n",
       "      <td>99.06</td>\n",
       "      <td>0</td>\n",
       "      <td>0</td>\n",
       "      <td>Check-Out</td>\n",
       "      <td>2017-09-14</td>\n",
       "    </tr>\n",
       "  </tbody>\n",
       "</table>\n",
       "<p>40060 rows × 30 columns</p>\n",
       "</div>"
      ],
      "text/plain": [
       "       is_canceled  lead_time  arrival_date_year arrival_date_month  \\\n",
       "0                0        342               2015               July   \n",
       "1                0        737               2015               July   \n",
       "2                0          7               2015               July   \n",
       "3                0         13               2015               July   \n",
       "4                0         14               2015               July   \n",
       "...            ...        ...                ...                ...   \n",
       "40055            0        212               2017             August   \n",
       "40056            0        169               2017             August   \n",
       "40057            0        204               2017             August   \n",
       "40058            0        211               2017             August   \n",
       "40059            0        161               2017             August   \n",
       "\n",
       "       arrival_date_week_number  arrival_date_day_of_month  \\\n",
       "0                            27                          1   \n",
       "1                            27                          1   \n",
       "2                            27                          1   \n",
       "3                            27                          1   \n",
       "4                            27                          1   \n",
       "...                         ...                        ...   \n",
       "40055                        35                         31   \n",
       "40056                        35                         30   \n",
       "40057                        35                         29   \n",
       "40058                        35                         31   \n",
       "40059                        35                         31   \n",
       "\n",
       "       stays_in_weekend_nights  stays_in_week_nights  adults  children  \\\n",
       "0                            0                     0       2      0.00   \n",
       "1                            0                     0       2      0.00   \n",
       "2                            0                     1       1      0.00   \n",
       "3                            0                     1       1      0.00   \n",
       "4                            0                     2       2      0.00   \n",
       "...                        ...                   ...     ...       ...   \n",
       "40055                        2                     8       2      1.00   \n",
       "40056                        2                     9       2      0.00   \n",
       "40057                        4                    10       2      0.00   \n",
       "40058                        4                    10       2      0.00   \n",
       "40059                        4                    10       2      0.00   \n",
       "\n",
       "       babies meal country market_segment distribution_channel  \\\n",
       "0           0   BB     PRT         Direct               Direct   \n",
       "1           0   BB     PRT         Direct               Direct   \n",
       "2           0   BB     GBR         Direct               Direct   \n",
       "3           0   BB     GBR      Corporate            Corporate   \n",
       "4           0   BB     GBR      Online TA                TA/TO   \n",
       "...       ...  ...     ...            ...                  ...   \n",
       "40055       0   BB     GBR  Offline TA/TO                TA/TO   \n",
       "40056       0   BB     IRL         Direct               Direct   \n",
       "40057       0   BB     IRL         Direct               Direct   \n",
       "40058       0   HB     GBR  Offline TA/TO                TA/TO   \n",
       "40059       0   HB     DEU  Offline TA/TO                TA/TO   \n",
       "\n",
       "       is_repeated_guest  previous_cancellations  \\\n",
       "0                      0                       0   \n",
       "1                      0                       0   \n",
       "2                      0                       0   \n",
       "3                      0                       0   \n",
       "4                      0                       0   \n",
       "...                  ...                     ...   \n",
       "40055                  0                       0   \n",
       "40056                  0                       0   \n",
       "40057                  0                       0   \n",
       "40058                  0                       0   \n",
       "40059                  0                       0   \n",
       "\n",
       "       previous_bookings_not_canceled reserved_room_type assigned_room_type  \\\n",
       "0                                   0                  C                  C   \n",
       "1                                   0                  C                  C   \n",
       "2                                   0                  A                  C   \n",
       "3                                   0                  A                  A   \n",
       "4                                   0                  A                  A   \n",
       "...                               ...                ...                ...   \n",
       "40055                               0                  A                  A   \n",
       "40056                               0                  E                  E   \n",
       "40057                               0                  E                  E   \n",
       "40058                               0                  D                  D   \n",
       "40059                               0                  A                  A   \n",
       "\n",
       "       booking_changes deposit_type  agent  days_in_waiting_list  \\\n",
       "0                    3   No Deposit    nan                     0   \n",
       "1                    4   No Deposit    nan                     0   \n",
       "2                    0   No Deposit    nan                     0   \n",
       "3                    0   No Deposit 304.00                     0   \n",
       "4                    0   No Deposit 240.00                     0   \n",
       "...                ...          ...    ...                   ...   \n",
       "40055                1   No Deposit 143.00                     0   \n",
       "40056                0   No Deposit 250.00                     0   \n",
       "40057                0   No Deposit 250.00                     0   \n",
       "40058                0   No Deposit  40.00                     0   \n",
       "40059                0   No Deposit  69.00                     0   \n",
       "\n",
       "         customer_type    adr  required_car_parking_spaces  \\\n",
       "0            Transient   0.00                            0   \n",
       "1            Transient   0.00                            0   \n",
       "2            Transient  75.00                            0   \n",
       "3            Transient  75.00                            0   \n",
       "4            Transient  98.00                            0   \n",
       "...                ...    ...                          ...   \n",
       "40055        Transient  89.75                            0   \n",
       "40056  Transient-Party 202.27                            0   \n",
       "40057        Transient 153.57                            0   \n",
       "40058         Contract 112.80                            0   \n",
       "40059        Transient  99.06                            0   \n",
       "\n",
       "       total_of_special_requests reservation_status reservation_status_date  \n",
       "0                              0          Check-Out              2015-07-01  \n",
       "1                              0          Check-Out              2015-07-01  \n",
       "2                              0          Check-Out              2015-07-02  \n",
       "3                              0          Check-Out              2015-07-02  \n",
       "4                              1          Check-Out              2015-07-03  \n",
       "...                          ...                ...                     ...  \n",
       "40055                          0          Check-Out              2017-09-10  \n",
       "40056                          1          Check-Out              2017-09-10  \n",
       "40057                          3          Check-Out              2017-09-12  \n",
       "40058                          1          Check-Out              2017-09-14  \n",
       "40059                          0          Check-Out              2017-09-14  \n",
       "\n",
       "[40060 rows x 30 columns]"
      ]
     },
     "execution_count": 67,
     "metadata": {},
     "output_type": "execute_result"
    }
   ],
   "source": [
    "# Dropping \"company\" column (95% missing values)\n",
    "subgroup_resort.drop(columns = ['company'], inplace=True)\n",
    "subgroup_resort"
   ]
  },
  {
   "cell_type": "code",
   "execution_count": 68,
   "metadata": {
    "ExecuteTime": {
     "end_time": "2021-08-31T16:31:22.115306Z",
     "start_time": "2021-08-31T16:31:21.992276Z"
    }
   },
   "outputs": [
    {
     "data": {
      "text/plain": [
       "True"
      ]
     },
     "execution_count": 68,
     "metadata": {},
     "output_type": "execute_result"
    }
   ],
   "source": [
    "## Confirming 'company' removal from both\n",
    "'company' not in subgroup_city and 'company' not in subgroup_resort"
   ]
  },
  {
   "cell_type": "markdown",
   "metadata": {},
   "source": [
    "# 🔬 **Inspecting Feature Data Types**"
   ]
  },
  {
   "cell_type": "markdown",
   "metadata": {},
   "source": [
    "---\n",
    "\n",
    "**City**\n",
    "\n",
    "---"
   ]
  },
  {
   "cell_type": "code",
   "execution_count": 69,
   "metadata": {
    "ExecuteTime": {
     "end_time": "2021-08-31T16:31:22.240610Z",
     "start_time": "2021-08-31T16:31:22.117306Z"
    },
    "scrolled": false
   },
   "outputs": [
    {
     "data": {
      "text/plain": [
       "is_canceled                         int64\n",
       "previous_bookings_not_canceled      int64\n",
       "previous_cancellations              int64\n",
       "is_repeated_guest                   int64\n",
       "days_in_waiting_list                int64\n",
       "required_car_parking_spaces         int64\n",
       "adults                              int64\n",
       "babies                              int64\n",
       "stays_in_weekend_nights             int64\n",
       "arrival_date_day_of_month           int64\n",
       "arrival_date_week_number            int64\n",
       "total_of_special_requests           int64\n",
       "arrival_date_year                   int64\n",
       "lead_time                           int64\n",
       "stays_in_week_nights                int64\n",
       "booking_changes                     int64\n",
       "children                          float64\n",
       "adr                               float64\n",
       "agent                             float64\n",
       "deposit_type                       object\n",
       "customer_type                      object\n",
       "distribution_channel               object\n",
       "reserved_room_type                 object\n",
       "reservation_status                 object\n",
       "market_segment                     object\n",
       "country                            object\n",
       "meal                               object\n",
       "arrival_date_month                 object\n",
       "assigned_room_type                 object\n",
       "reservation_status_date            object\n",
       "dtype: object"
      ]
     },
     "execution_count": 69,
     "metadata": {},
     "output_type": "execute_result"
    }
   ],
   "source": [
    "## Inspecting dataypes for \"subgroup_city\"\n",
    "subgroup_city.dtypes.sort_values()"
   ]
  },
  {
   "cell_type": "markdown",
   "metadata": {},
   "source": [
    "---\n",
    "\n",
    "**Resort**\n",
    "\n",
    "---"
   ]
  },
  {
   "cell_type": "code",
   "execution_count": 70,
   "metadata": {
    "ExecuteTime": {
     "end_time": "2021-08-31T16:31:22.382619Z",
     "start_time": "2021-08-31T16:31:22.242656Z"
    },
    "scrolled": false
   },
   "outputs": [
    {
     "data": {
      "text/plain": [
       "is_canceled                         int64\n",
       "previous_bookings_not_canceled      int64\n",
       "previous_cancellations              int64\n",
       "is_repeated_guest                   int64\n",
       "days_in_waiting_list                int64\n",
       "required_car_parking_spaces         int64\n",
       "adults                              int64\n",
       "babies                              int64\n",
       "stays_in_weekend_nights             int64\n",
       "arrival_date_day_of_month           int64\n",
       "arrival_date_week_number            int64\n",
       "total_of_special_requests           int64\n",
       "arrival_date_year                   int64\n",
       "lead_time                           int64\n",
       "stays_in_week_nights                int64\n",
       "booking_changes                     int64\n",
       "children                          float64\n",
       "adr                               float64\n",
       "agent                             float64\n",
       "deposit_type                       object\n",
       "customer_type                      object\n",
       "distribution_channel               object\n",
       "reserved_room_type                 object\n",
       "reservation_status                 object\n",
       "market_segment                     object\n",
       "country                            object\n",
       "meal                               object\n",
       "arrival_date_month                 object\n",
       "assigned_room_type                 object\n",
       "reservation_status_date            object\n",
       "dtype: object"
      ]
     },
     "execution_count": 70,
     "metadata": {},
     "output_type": "execute_result"
    }
   ],
   "source": [
    "## Inspecting dataypes for \"subgroup_resort\"\n",
    "subgroup_resort.dtypes.sort_values()"
   ]
  },
  {
   "cell_type": "code",
   "execution_count": 71,
   "metadata": {
    "ExecuteTime": {
     "end_time": "2021-08-31T16:31:22.505684Z",
     "start_time": "2021-08-31T16:31:22.384619Z"
    },
    "scrolled": true
   },
   "outputs": [
    {
     "data": {
      "text/plain": [
       "is_canceled                       True\n",
       "previous_bookings_not_canceled    True\n",
       "previous_cancellations            True\n",
       "is_repeated_guest                 True\n",
       "days_in_waiting_list              True\n",
       "required_car_parking_spaces       True\n",
       "adults                            True\n",
       "babies                            True\n",
       "stays_in_weekend_nights           True\n",
       "arrival_date_day_of_month         True\n",
       "arrival_date_week_number          True\n",
       "total_of_special_requests         True\n",
       "arrival_date_year                 True\n",
       "lead_time                         True\n",
       "stays_in_week_nights              True\n",
       "booking_changes                   True\n",
       "children                          True\n",
       "adr                               True\n",
       "agent                             True\n",
       "deposit_type                      True\n",
       "customer_type                     True\n",
       "distribution_channel              True\n",
       "reserved_room_type                True\n",
       "reservation_status                True\n",
       "market_segment                    True\n",
       "country                           True\n",
       "meal                              True\n",
       "arrival_date_month                True\n",
       "assigned_room_type                True\n",
       "reservation_status_date           True\n",
       "dtype: bool"
      ]
     },
     "execution_count": 71,
     "metadata": {},
     "output_type": "execute_result"
    }
   ],
   "source": [
    "## Confirming all datatypes match between dataframes\n",
    "subgroup_city.dtypes.sort_values() == subgroup_resort.dtypes.sort_values()"
   ]
  },
  {
   "cell_type": "markdown",
   "metadata": {},
   "source": [
    "---\n",
    "\n",
    "**Review - Datatypes**\n",
    "\n",
    "> After reviewing the datatypes, I noticed **one feature need to be changed to the string datatype: `agent`**. This feature represents unique identifiers for booking agents and need to be treated as categorical data.\n",
    ">\n",
    "> As both dataframes' datatypes are the same, I do not need to make any other adjustments specific to either dataframe.\n",
    "\n",
    "---"
   ]
  },
  {
   "cell_type": "markdown",
   "metadata": {},
   "source": [
    "## Converting to Strings"
   ]
  },
  {
   "cell_type": "code",
   "execution_count": 75,
   "metadata": {
    "ExecuteTime": {
     "end_time": "2021-08-31T16:35:11.136661Z",
     "start_time": "2021-08-31T16:35:11.005661Z"
    }
   },
   "outputs": [
    {
     "data": {
      "text/plain": [
       "40060     PRT\n",
       "40061     PRT\n",
       "40062     PRT\n",
       "40063     PRT\n",
       "40064     PRT\n",
       "         ... \n",
       "119385    BEL\n",
       "119386    FRA\n",
       "119387    DEU\n",
       "119388    GBR\n",
       "119389    DEU\n",
       "Name: country, Length: 79330, dtype: object"
      ]
     },
     "execution_count": 75,
     "metadata": {},
     "output_type": "execute_result"
    }
   ],
   "source": [
    "## Converting subgroup_city \"country\" to string\n",
    "subgroup_city.loc[:,'country'] = subgroup_city.loc[:,'country'].astype(str)\n",
    "subgroup_city.loc[:,'country']"
   ]
  },
  {
   "cell_type": "code",
   "execution_count": 76,
   "metadata": {
    "ExecuteTime": {
     "end_time": "2021-08-31T16:35:26.572430Z",
     "start_time": "2021-08-31T16:35:26.429461Z"
    }
   },
   "outputs": [
    {
     "data": {
      "text/plain": [
       "0        PRT\n",
       "1        PRT\n",
       "2        GBR\n",
       "3        GBR\n",
       "4        GBR\n",
       "        ... \n",
       "40055    GBR\n",
       "40056    IRL\n",
       "40057    IRL\n",
       "40058    GBR\n",
       "40059    DEU\n",
       "Name: country, Length: 40060, dtype: object"
      ]
     },
     "execution_count": 76,
     "metadata": {},
     "output_type": "execute_result"
    }
   ],
   "source": [
    "## Converting subgroup_resort \"country\" to string\n",
    "subgroup_resort.loc[:,'country'] = subgroup_resort.loc[:,'country']\\\n",
    "                                                                .astype(str)\n",
    "subgroup_resort.loc[:,'country']"
   ]
  },
  {
   "cell_type": "markdown",
   "metadata": {},
   "source": [
    "# 🔎 **EDA - Features**"
   ]
  },
  {
   "cell_type": "markdown",
   "metadata": {},
   "source": [
    "---\n",
    "\n",
    "> Now that I reviewed my missing values and confirmed my datatypes, I will inspect the details of each of my features.\n",
    "\n",
    "---"
   ]
  },
  {
   "cell_type": "markdown",
   "metadata": {},
   "source": [
    "## reservation_status"
   ]
  },
  {
   "cell_type": "markdown",
   "metadata": {},
   "source": [
    "---\n",
    "\n",
    "**City**\n",
    "\n",
    "---"
   ]
  },
  {
   "cell_type": "code",
   "execution_count": 77,
   "metadata": {
    "ExecuteTime": {
     "end_time": "2021-08-31T16:39:58.539848Z",
     "start_time": "2021-08-31T16:39:58.416837Z"
    }
   },
   "outputs": [
    {
     "data": {
      "text/plain": [
       "Check-Out   0.58\n",
       "Canceled    0.41\n",
       "No-Show     0.01\n",
       "Name: reservation_status, dtype: float64"
      ]
     },
     "execution_count": 77,
     "metadata": {},
     "output_type": "execute_result"
    }
   ],
   "source": [
    "subgroup_city['reservation_status'].value_counts(1, dropna=False)"
   ]
  },
  {
   "cell_type": "code",
   "execution_count": 78,
   "metadata": {
    "ExecuteTime": {
     "end_time": "2021-08-31T16:40:10.274852Z",
     "start_time": "2021-08-31T16:40:10.142855Z"
    }
   },
   "outputs": [
    {
     "data": {
      "text/plain": [
       "count         79330\n",
       "unique            3\n",
       "top       Check-Out\n",
       "freq          46228\n",
       "Name: reservation_status, dtype: object"
      ]
     },
     "execution_count": 78,
     "metadata": {},
     "output_type": "execute_result"
    }
   ],
   "source": [
    "subgroup_city['reservation_status'].describe()"
   ]
  },
  {
   "cell_type": "markdown",
   "metadata": {},
   "source": [
    "---\n",
    "\n",
    "**Resort**\n",
    "\n",
    "---"
   ]
  },
  {
   "cell_type": "code",
   "execution_count": 80,
   "metadata": {
    "ExecuteTime": {
     "end_time": "2021-08-31T16:42:09.293507Z",
     "start_time": "2021-08-31T16:42:09.167531Z"
    }
   },
   "outputs": [
    {
     "data": {
      "text/plain": [
       "Check-Out   0.72\n",
       "Canceled    0.27\n",
       "No-Show     0.01\n",
       "Name: reservation_status, dtype: float64"
      ]
     },
     "execution_count": 80,
     "metadata": {},
     "output_type": "execute_result"
    }
   ],
   "source": [
    "subgroup_resort['reservation_status'].value_counts(1, dropna=False)"
   ]
  },
  {
   "cell_type": "code",
   "execution_count": 79,
   "metadata": {
    "ExecuteTime": {
     "end_time": "2021-08-31T16:40:42.708521Z",
     "start_time": "2021-08-31T16:40:42.576490Z"
    }
   },
   "outputs": [
    {
     "data": {
      "text/plain": [
       "count         40060\n",
       "unique            3\n",
       "top       Check-Out\n",
       "freq          28938\n",
       "Name: reservation_status, dtype: object"
      ]
     },
     "execution_count": 79,
     "metadata": {},
     "output_type": "execute_result"
    }
   ],
   "source": [
    "subgroup_resort['reservation_status'].describe()"
   ]
  },
  {
   "cell_type": "markdown",
   "metadata": {},
   "source": [
    "### Review - `Reservation_Status`"
   ]
  },
  {
   "cell_type": "markdown",
   "metadata": {},
   "source": [
    "---\n",
    "\n",
    "> `Reservation_status` will be my target feature for my classification modeling. To prepare it for modeling, I will need to replace the `No-Show` status with `Canceled` values. \n",
    ">\n",
    ">For the purposes of my analysis, **I will treat `No-Show` reservations as `Canceled` reservations due to their limited number preventing me from effectively using it as a third class.**\n",
    "\n",
    "---"
   ]
  },
  {
   "cell_type": "markdown",
   "metadata": {},
   "source": [
    "### Converting `No-Show` to `Canceled`"
   ]
  },
  {
   "cell_type": "code",
   "execution_count": 83,
   "metadata": {
    "ExecuteTime": {
     "end_time": "2021-08-31T16:47:28.519617Z",
     "start_time": "2021-08-31T16:47:28.384647Z"
    }
   },
   "outputs": [],
   "source": [
    "## Changing no-show values to \"canceled\"\n",
    "subgroup_city.loc[:,'reservation_status'].replace('No-Show', 'Canceled',\n",
    "                                            inplace=True)\n",
    "subgroup_resort.loc[:,'reservation_status'].replace('No-Show', 'Canceled',\n",
    "                                            inplace=True)"
   ]
  },
  {
   "cell_type": "code",
   "execution_count": 84,
   "metadata": {
    "ExecuteTime": {
     "end_time": "2021-08-31T16:48:01.281156Z",
     "start_time": "2021-08-31T16:48:01.152149Z"
    }
   },
   "outputs": [
    {
     "data": {
      "text/plain": [
       "True"
      ]
     },
     "execution_count": 84,
     "metadata": {},
     "output_type": "execute_result"
    }
   ],
   "source": [
    "## Confirming the change\n",
    "'No-Show' not in subgroup_city['reservation_status'] and \\\n",
    "                        'No-Show' not in subgroup_city['reservation_status']"
   ]
  },
  {
   "cell_type": "code",
   "execution_count": 86,
   "metadata": {
    "ExecuteTime": {
     "end_time": "2021-08-31T16:48:26.022966Z",
     "start_time": "2021-08-31T16:48:25.887951Z"
    }
   },
   "outputs": [
    {
     "data": {
      "text/plain": [
       "Check-Out   0.58\n",
       "Canceled    0.42\n",
       "Name: reservation_status, dtype: float64"
      ]
     },
     "execution_count": 86,
     "metadata": {},
     "output_type": "execute_result"
    }
   ],
   "source": [
    "## Inspecting the updated target classes\n",
    "subgroup_city['reservation_status'].value_counts(1, dropna=False)"
   ]
  },
  {
   "cell_type": "code",
   "execution_count": 85,
   "metadata": {
    "ExecuteTime": {
     "end_time": "2021-08-31T16:48:23.728934Z",
     "start_time": "2021-08-31T16:48:23.599948Z"
    },
    "scrolled": true
   },
   "outputs": [
    {
     "data": {
      "text/plain": [
       "Check-Out   0.72\n",
       "Canceled    0.28\n",
       "Name: reservation_status, dtype: float64"
      ]
     },
     "execution_count": 85,
     "metadata": {},
     "output_type": "execute_result"
    }
   ],
   "source": [
    "subgroup_resort['reservation_status'].value_counts(1, dropna=False)"
   ]
  },
  {
   "cell_type": "markdown",
   "metadata": {},
   "source": [
    "### 📌 Review - `Reservation_Status`"
   ]
  },
  {
   "cell_type": "markdown",
   "metadata": {},
   "source": [
    "---\n",
    "\n",
    "> I successfully converted `No-Show` to \n",
    "\n",
    "---"
   ]
  },
  {
   "cell_type": "markdown",
   "metadata": {},
   "source": [
    "## is_canceled"
   ]
  },
  {
   "cell_type": "markdown",
   "metadata": {},
   "source": [
    "---\n",
    "\n",
    "**City**\n",
    "\n",
    "---"
   ]
  },
  {
   "cell_type": "code",
   "execution_count": null,
   "metadata": {
    "ExecuteTime": {
     "end_time": "2021-08-31T12:24:23.240007Z",
     "start_time": "2021-08-31T12:24:23.088007Z"
    }
   },
   "outputs": [],
   "source": [
    "subgroup_city['is_canceled'].value_counts(1, dropna=False)"
   ]
  },
  {
   "cell_type": "code",
   "execution_count": null,
   "metadata": {
    "ExecuteTime": {
     "end_time": "2021-08-31T12:24:23.818008Z",
     "start_time": "2021-08-31T12:24:23.242008Z"
    }
   },
   "outputs": [],
   "source": [
    "## Visualizing results\n",
    "fig, ax = plt.subplots()\n",
    "subgroup_city['is_canceled'].value_counts(1, dropna=False).plot(kind='barh',\n",
    "                                                                ax=ax)\n",
    "ax.set_yticklabels(['Not Cancelled', 'Cancelled'])\n",
    "ax.set_xlabel('Percentage')\n",
    "ax.set_ylabel('Status')\n",
    "ax.set_title('Reservation Statuses');"
   ]
  },
  {
   "cell_type": "markdown",
   "metadata": {},
   "source": [
    "---\n",
    "\n",
    "**Resort**\n",
    "\n",
    "---"
   ]
  },
  {
   "cell_type": "code",
   "execution_count": null,
   "metadata": {
    "ExecuteTime": {
     "end_time": "2021-08-31T12:24:24.021008Z",
     "start_time": "2021-08-31T12:24:23.826009Z"
    }
   },
   "outputs": [],
   "source": [
    "subgroup_resort['is_canceled'].value_counts(1, dropna=False)"
   ]
  },
  {
   "cell_type": "code",
   "execution_count": null,
   "metadata": {
    "ExecuteTime": {
     "end_time": "2021-08-31T12:24:24.379009Z",
     "start_time": "2021-08-31T12:24:24.026008Z"
    }
   },
   "outputs": [],
   "source": [
    "## Visualizing results\n",
    "fig, ax = plt.subplots()\n",
    "subgroup_resort['is_canceled'].value_counts(1, dropna=False).plot(kind='barh',\n",
    "                                                                ax=ax)\n",
    "ax.set_yticklabels(['Not Cancelled', 'Cancelled'])\n",
    "ax.set_xlabel('Percentage')\n",
    "ax.set_ylabel('Status')\n",
    "ax.set_title('Reservation Statuses');"
   ]
  },
  {
   "cell_type": "markdown",
   "metadata": {},
   "source": [
    "### Review - `PLACEHOLDER`"
   ]
  },
  {
   "cell_type": "markdown",
   "metadata": {},
   "source": [
    "---\n",
    "\n",
    "> TEXT \n",
    ">\n",
    "> TEXT\n",
    "\n",
    "---"
   ]
  },
  {
   "cell_type": "markdown",
   "metadata": {},
   "source": [
    "## lead_time - Fix legend labels!"
   ]
  },
  {
   "cell_type": "markdown",
   "metadata": {},
   "source": [
    "---\n",
    "\n",
    "**City**\n",
    "\n",
    "---"
   ]
  },
  {
   "cell_type": "code",
   "execution_count": null,
   "metadata": {
    "ExecuteTime": {
     "end_time": "2021-08-31T12:24:24.518010Z",
     "start_time": "2021-08-31T12:24:24.381009Z"
    }
   },
   "outputs": [],
   "source": [
    "subgroup_city['lead_time'].describe()"
   ]
  },
  {
   "cell_type": "code",
   "execution_count": null,
   "metadata": {
    "ExecuteTime": {
     "end_time": "2021-08-31T12:24:24.673018Z",
     "start_time": "2021-08-31T12:24:24.520014Z"
    }
   },
   "outputs": [],
   "source": [
    "# fig, ax = plt.subplots(figsize=(5,10))\n",
    "# subgroup_city['lead_time'].plot(kind='box', ax=ax)\n",
    "\n",
    "# ax.set_title('Lead Time');"
   ]
  },
  {
   "cell_type": "code",
   "execution_count": null,
   "metadata": {
    "ExecuteTime": {
     "end_time": "2021-08-31T12:24:27.127747Z",
     "start_time": "2021-08-31T12:24:24.676011Z"
    }
   },
   "outputs": [],
   "source": [
    "fig = px.box(subgroup_city, y=\"lead_time\", title='Overview of Lead Time',\n",
    "             width=600, color='reservation_status',\n",
    "             labels = {'lead_time': 'Lead Time (Days)'},\n",
    "            category_orders = {'lead_time': 'Lead Time (Days)',\n",
    "                               'reservation_status': ['Check-Out', 'Canceled']})\n",
    "\n",
    "fig.show()"
   ]
  },
  {
   "cell_type": "markdown",
   "metadata": {},
   "source": [
    "---\n",
    "\n",
    "**Resort**\n",
    "\n",
    "---"
   ]
  },
  {
   "cell_type": "code",
   "execution_count": null,
   "metadata": {
    "ExecuteTime": {
     "end_time": "2021-08-31T12:24:27.331745Z",
     "start_time": "2021-08-31T12:24:27.129745Z"
    }
   },
   "outputs": [],
   "source": [
    "subgroup_resort['lead_time'].describe()"
   ]
  },
  {
   "cell_type": "code",
   "execution_count": null,
   "metadata": {
    "ExecuteTime": {
     "end_time": "2021-08-31T12:24:27.547745Z",
     "start_time": "2021-08-31T12:24:27.333750Z"
    }
   },
   "outputs": [],
   "source": [
    "# fig, ax = plt.subplots(figsize=(5,10))\n",
    "# subgroup_resort['lead_time'].plot(kind='box', ax=ax)\n",
    "\n",
    "# ax.set_title('Lead Time');"
   ]
  },
  {
   "cell_type": "code",
   "execution_count": null,
   "metadata": {
    "ExecuteTime": {
     "end_time": "2021-08-31T12:24:28.592748Z",
     "start_time": "2021-08-31T12:24:27.549745Z"
    }
   },
   "outputs": [],
   "source": [
    "fig = px.box(subgroup_resort, y=\"lead_time\", title='Overview of Lead Time',\n",
    "             width=600, color='reservation_status',\n",
    "             labels = {'lead_time': 'Lead Time (Days)'},\n",
    "            category_orders = {'lead_time': 'Lead Time (Days)',\n",
    "                               'reservation_status': ['Check-Out', 'Canceled']})\n",
    "\n",
    "fig.show()"
   ]
  },
  {
   "cell_type": "markdown",
   "metadata": {},
   "source": [
    "### Review - `PLACEHOLDER`"
   ]
  },
  {
   "cell_type": "markdown",
   "metadata": {},
   "source": [
    "---\n",
    "\n",
    "> TEXT \n",
    ">\n",
    "> TEXT\n",
    "\n",
    "---"
   ]
  },
  {
   "cell_type": "markdown",
   "metadata": {},
   "source": [
    "## Arrival Date as Full Datetime"
   ]
  },
  {
   "cell_type": "markdown",
   "metadata": {},
   "source": [
    "---\n",
    "\n",
    "**City**\n",
    "\n",
    "---"
   ]
  },
  {
   "cell_type": "code",
   "execution_count": null,
   "metadata": {
    "ExecuteTime": {
     "end_time": "2021-08-31T12:24:29.171747Z",
     "start_time": "2021-08-31T12:24:28.594749Z"
    },
    "scrolled": true
   },
   "outputs": [],
   "source": [
    "## Converting from month, day of month, and year to a single datetime column\n",
    "subgroup_city['arrival_date'] = subgroup_city['arrival_date_month'] +' '+ \\\n",
    "                                subgroup_city['arrival_date_day_of_month']\\\n",
    "                                .astype(str) +', '+ \\\n",
    "                                subgroup_city['arrival_date_year'].astype(str)\n",
    "subgroup_city['arrival_date'] = pd.to_datetime(subgroup_city['arrival_date'])\n",
    "subgroup_city['arrival_date']"
   ]
  },
  {
   "cell_type": "code",
   "execution_count": null,
   "metadata": {
    "ExecuteTime": {
     "end_time": "2021-08-31T12:24:30.653010Z",
     "start_time": "2021-08-31T12:24:29.174747Z"
    }
   },
   "outputs": [],
   "source": [
    "fig = px.box(subgroup_city, y=\"lead_time\", title='Lead Times',\n",
    "             width=600, color='reservation_status',\n",
    "             labels = {'lead_time': 'Lead Time (Days)'},\n",
    "            category_orders = {'lead_time': 'Lead Time (Days)',\n",
    "                               'reservation_status': ['Check-Out', 'Canceled']})\n",
    "\n",
    "fig.show()"
   ]
  },
  {
   "cell_type": "code",
   "execution_count": null,
   "metadata": {
    "ExecuteTime": {
     "end_time": "2021-08-31T12:24:32.398011Z",
     "start_time": "2021-08-31T12:24:30.656013Z"
    }
   },
   "outputs": [],
   "source": [
    "fig = px.histogram(subgroup_city,'lead_time', marginal = 'box',\n",
    "                   color='reservation_status',\n",
    "                   labels={'lead_time': 'Lead Time (Days)'}, \n",
    "                   title=\"Lead Times\", nbins=40)\n",
    "fig.update_layout(bargap=0.2)\n",
    "fig.show()"
   ]
  },
  {
   "cell_type": "code",
   "execution_count": null,
   "metadata": {
    "ExecuteTime": {
     "end_time": "2021-08-31T12:24:35.840421Z",
     "start_time": "2021-08-31T12:24:32.401011Z"
    },
    "scrolled": false
   },
   "outputs": [],
   "source": [
    "fig = px.scatter(subgroup_city, x=\"reservation_status\", y=\"lead_time\",\n",
    "                 marginal_y=\"box\",marginal_x=\"histogram\",\n",
    "                 color='reservation_status')\n",
    "fig.show()"
   ]
  },
  {
   "cell_type": "code",
   "execution_count": null,
   "metadata": {
    "ExecuteTime": {
     "end_time": "2021-08-31T12:24:36.041694Z",
     "start_time": "2021-08-31T12:24:35.842420Z"
    }
   },
   "outputs": [],
   "source": [
    "# ## Try again with select features as dimensions\n",
    "# fig = px.scatter_matrix(subgroup_city,\n",
    "# #     dimensions=[\"sepal_width\", \"sepal_length\", \"petal_width\", \"petal_length\"],\n",
    "#     color=\"reservation_status\")\n",
    "# fig.show()"
   ]
  },
  {
   "cell_type": "markdown",
   "metadata": {},
   "source": [
    "---\n",
    "\n",
    "**Resort**\n",
    "\n",
    "---"
   ]
  },
  {
   "cell_type": "code",
   "execution_count": null,
   "metadata": {
    "ExecuteTime": {
     "end_time": "2021-08-31T12:24:36.475695Z",
     "start_time": "2021-08-31T12:24:36.044694Z"
    },
    "scrolled": true
   },
   "outputs": [],
   "source": [
    "## Converting from month, day of month, and year to a single datetime column\n",
    "subgroup_resort['arrival_date'] = subgroup_resort['arrival_date_month'] +' '+ \\\n",
    "                                subgroup_resort['arrival_date_day_of_month']\\\n",
    "                                .astype(str) +', '+ \\\n",
    "                                subgroup_resort['arrival_date_year'].astype(str)\n",
    "subgroup_resort['arrival_date'] = pd.to_datetime(subgroup_resort['arrival_date'])\n",
    "subgroup_resort['arrival_date']"
   ]
  },
  {
   "cell_type": "code",
   "execution_count": null,
   "metadata": {
    "ExecuteTime": {
     "end_time": "2021-08-31T12:24:37.596695Z",
     "start_time": "2021-08-31T12:24:36.478694Z"
    }
   },
   "outputs": [],
   "source": [
    "fig = px.box(subgroup_resort, y=\"lead_time\", title='Lead Times',\n",
    "             width=600, color='reservation_status',\n",
    "             labels = {'lead_time': 'Lead Time (Days)'},\n",
    "            category_orders = {'lead_time': 'Lead Time (Days)',\n",
    "                               'reservation_status': ['Check-Out', 'Canceled']})\n",
    "\n",
    "fig.show()"
   ]
  },
  {
   "cell_type": "code",
   "execution_count": null,
   "metadata": {
    "ExecuteTime": {
     "end_time": "2021-08-31T12:24:38.799693Z",
     "start_time": "2021-08-31T12:24:37.599699Z"
    }
   },
   "outputs": [],
   "source": [
    "fig = px.histogram(subgroup_resort,'lead_time', marginal = 'box',\n",
    "                   color='reservation_status',\n",
    "                   labels={'lead_time': 'Lead Time (Days)'}, \n",
    "                   title=\"Lead Times\", nbins=40)\n",
    "fig.update_layout(bargap=0.2)\n",
    "fig.show()"
   ]
  },
  {
   "cell_type": "code",
   "execution_count": null,
   "metadata": {
    "ExecuteTime": {
     "end_time": "2021-08-31T12:24:40.831136Z",
     "start_time": "2021-08-31T12:24:38.802696Z"
    },
    "scrolled": false
   },
   "outputs": [],
   "source": [
    "fig = px.scatter(subgroup_resort, x=\"reservation_status\", y=\"lead_time\",\n",
    "                 marginal_y=\"box\",marginal_x=\"histogram\",\n",
    "                 color='reservation_status')\n",
    "fig.show()"
   ]
  },
  {
   "cell_type": "code",
   "execution_count": null,
   "metadata": {
    "ExecuteTime": {
     "end_time": "2021-08-31T12:24:41.038138Z",
     "start_time": "2021-08-31T12:24:40.834138Z"
    }
   },
   "outputs": [],
   "source": [
    "# ## Try again with select features as dimensions\n",
    "# fig = px.scatter_matrix(subgroup_resort,\n",
    "# #     dimensions=[\"sepal_width\", \"sepal_length\", \"petal_width\", \"petal_length\"],\n",
    "#     color=\"reservation_status\")\n",
    "# fig.show()"
   ]
  },
  {
   "cell_type": "markdown",
   "metadata": {},
   "source": [
    "### Review - `PLACEHOLDER`"
   ]
  },
  {
   "cell_type": "markdown",
   "metadata": {},
   "source": [
    "---\n",
    "\n",
    "> TEXT \n",
    ">\n",
    "> TEXT\n",
    "\n",
    "---"
   ]
  },
  {
   "cell_type": "markdown",
   "metadata": {},
   "source": [
    "## stays_in_weekend_nights"
   ]
  },
  {
   "cell_type": "markdown",
   "metadata": {},
   "source": [
    "---\n",
    "\n",
    "**City**\n",
    "\n",
    "---"
   ]
  },
  {
   "cell_type": "code",
   "execution_count": null,
   "metadata": {
    "ExecuteTime": {
     "end_time": "2021-08-31T12:24:41.241136Z",
     "start_time": "2021-08-31T12:24:41.041139Z"
    }
   },
   "outputs": [],
   "source": [
    "subgroup_city['stays_in_weekend_nights'].value_counts(1)"
   ]
  },
  {
   "cell_type": "code",
   "execution_count": null,
   "metadata": {
    "ExecuteTime": {
     "end_time": "2021-08-31T12:24:43.038581Z",
     "start_time": "2021-08-31T12:24:41.245139Z"
    }
   },
   "outputs": [],
   "source": [
    "fig = px.histogram(subgroup_city,'stays_in_weekend_nights', marginal = 'box',\n",
    "                   labels={'stays_in_weekend_nights': 'Number of Weekend Nights'}, \n",
    "                   title=\"Weekend Stays\", color='reservation_status', nbins=15)\n",
    "fig.update_layout(bargap=0.2)\n",
    "fig.show()"
   ]
  },
  {
   "cell_type": "markdown",
   "metadata": {},
   "source": [
    "---\n",
    "\n",
    "**Resort**\n",
    "\n",
    "---"
   ]
  },
  {
   "cell_type": "code",
   "execution_count": null,
   "metadata": {},
   "outputs": [],
   "source": []
  },
  {
   "cell_type": "markdown",
   "metadata": {},
   "source": [
    "### Review - `PLACEHOLDER`"
   ]
  },
  {
   "cell_type": "markdown",
   "metadata": {},
   "source": [
    "---\n",
    "\n",
    "> TEXT \n",
    ">\n",
    "> TEXT\n",
    "\n",
    "---"
   ]
  },
  {
   "cell_type": "markdown",
   "metadata": {},
   "source": [
    "## stays_in_week_nights"
   ]
  },
  {
   "cell_type": "markdown",
   "metadata": {},
   "source": [
    "---\n",
    "\n",
    "**City**\n",
    "\n",
    "---"
   ]
  },
  {
   "cell_type": "code",
   "execution_count": null,
   "metadata": {
    "ExecuteTime": {
     "end_time": "2021-08-31T12:24:43.261582Z",
     "start_time": "2021-08-31T12:24:43.041581Z"
    }
   },
   "outputs": [],
   "source": [
    "subgroup_city['stays_in_week_nights'].value_counts(1)"
   ]
  },
  {
   "cell_type": "code",
   "execution_count": null,
   "metadata": {
    "ExecuteTime": {
     "end_time": "2021-08-31T12:24:43.465583Z",
     "start_time": "2021-08-31T12:24:43.263582Z"
    },
    "scrolled": true
   },
   "outputs": [],
   "source": [
    "subgroup_city['stays_in_week_nights'].value_counts(1)[:6]"
   ]
  },
  {
   "cell_type": "code",
   "execution_count": null,
   "metadata": {
    "ExecuteTime": {
     "end_time": "2021-08-31T12:24:46.671526Z",
     "start_time": "2021-08-31T12:24:45.389628Z"
    }
   },
   "outputs": [],
   "source": [
    "fig = px.histogram(subgroup_city,'stays_in_week_nights', marginal = 'box',\n",
    "                   labels={'stays_in_week_nights': 'Number of Week Nights'}, \n",
    "                   title=\"Weekday Stays\", color='reservation_status', nbins=40)\n",
    "fig.update_layout(bargap=0.2)\n",
    "fig.show()"
   ]
  },
  {
   "cell_type": "markdown",
   "metadata": {},
   "source": [
    "---\n",
    "\n",
    "**Resort**\n",
    "\n",
    "---"
   ]
  },
  {
   "cell_type": "code",
   "execution_count": null,
   "metadata": {},
   "outputs": [],
   "source": []
  },
  {
   "cell_type": "markdown",
   "metadata": {},
   "source": [
    "### Review - `PLACEHOLDER`"
   ]
  },
  {
   "cell_type": "markdown",
   "metadata": {},
   "source": [
    "---\n",
    "\n",
    "> TEXT \n",
    ">\n",
    "> TEXT\n",
    "\n",
    "---"
   ]
  },
  {
   "cell_type": "markdown",
   "metadata": {},
   "source": [
    "## Adults"
   ]
  },
  {
   "cell_type": "markdown",
   "metadata": {},
   "source": [
    "---\n",
    "\n",
    "**City**\n",
    "\n",
    "---"
   ]
  },
  {
   "cell_type": "code",
   "execution_count": null,
   "metadata": {
    "ExecuteTime": {
     "end_time": "2021-08-31T12:24:45.385627Z",
     "start_time": "2021-08-31T12:24:45.168628Z"
    }
   },
   "outputs": [],
   "source": [
    "subgroup_city['adults'].value_counts(1, dropna=False)"
   ]
  },
  {
   "cell_type": "code",
   "execution_count": null,
   "metadata": {
    "ExecuteTime": {
     "end_time": "2021-08-31T12:24:46.671526Z",
     "start_time": "2021-08-31T12:24:45.389628Z"
    }
   },
   "outputs": [],
   "source": [
    "fig = px.histogram(subgroup_city,'adults',\n",
    "                   labels={'adults': 'Number of Adults'},\n",
    "                   title=\"Number of Adults\", color='reservation_status')\n",
    "fig.update_layout(bargap=0.2)\n",
    "fig.show()"
   ]
  },
  {
   "cell_type": "markdown",
   "metadata": {},
   "source": [
    "---\n",
    "\n",
    "**Resort**\n",
    "\n",
    "---"
   ]
  },
  {
   "cell_type": "markdown",
   "metadata": {},
   "source": [
    "### Review - `PLACEHOLDER`"
   ]
  },
  {
   "cell_type": "markdown",
   "metadata": {},
   "source": [
    "---\n",
    "\n",
    "> TEXT \n",
    ">\n",
    "> TEXT\n",
    "\n",
    "---"
   ]
  },
  {
   "cell_type": "markdown",
   "metadata": {},
   "source": [
    "## Children"
   ]
  },
  {
   "cell_type": "markdown",
   "metadata": {},
   "source": [
    "---\n",
    "\n",
    "**City**\n",
    "\n",
    "---"
   ]
  },
  {
   "cell_type": "code",
   "execution_count": null,
   "metadata": {
    "ExecuteTime": {
     "end_time": "2021-08-31T12:24:46.888557Z",
     "start_time": "2021-08-31T12:24:46.674525Z"
    }
   },
   "outputs": [],
   "source": [
    "subgroup_city['children'].value_counts(1, dropna=False)"
   ]
  },
  {
   "cell_type": "code",
   "execution_count": null,
   "metadata": {
    "ExecuteTime": {
     "end_time": "2021-08-31T12:24:48.727104Z",
     "start_time": "2021-08-31T12:24:46.891556Z"
    }
   },
   "outputs": [],
   "source": [
    "fig = px.histogram(subgroup_city,'children', marginal = 'box',\n",
    "                   labels={'children': 'Number of Children'}, \n",
    "                   title=\"Number of Children\", color='reservation_status')\n",
    "fig.update_layout(bargap=0.2)\n",
    "fig.show()"
   ]
  },
  {
   "cell_type": "markdown",
   "metadata": {},
   "source": [
    "---\n",
    "\n",
    "**Resort**\n",
    "\n",
    "---"
   ]
  },
  {
   "cell_type": "code",
   "execution_count": null,
   "metadata": {},
   "outputs": [],
   "source": []
  },
  {
   "cell_type": "markdown",
   "metadata": {},
   "source": [
    "### Review - `PLACEHOLDER`"
   ]
  },
  {
   "cell_type": "markdown",
   "metadata": {},
   "source": [
    "---\n",
    "\n",
    "> TEXT \n",
    ">\n",
    "> TEXT\n",
    "\n",
    "---"
   ]
  },
  {
   "cell_type": "markdown",
   "metadata": {},
   "source": [
    "## babies"
   ]
  },
  {
   "cell_type": "markdown",
   "metadata": {},
   "source": [
    "---\n",
    "\n",
    "**City**\n",
    "\n",
    "---"
   ]
  },
  {
   "cell_type": "code",
   "execution_count": null,
   "metadata": {
    "ExecuteTime": {
     "end_time": "2021-08-31T12:24:48.928761Z",
     "start_time": "2021-08-31T12:24:48.730105Z"
    }
   },
   "outputs": [],
   "source": [
    "subgroup_city['babies'].value_counts(dropna=False)"
   ]
  },
  {
   "cell_type": "code",
   "execution_count": null,
   "metadata": {
    "ExecuteTime": {
     "end_time": "2021-08-31T12:24:50.192692Z",
     "start_time": "2021-08-31T12:24:48.931760Z"
    }
   },
   "outputs": [],
   "source": [
    "fig = px.histogram(subgroup_city,'babies', marginal = 'box',\n",
    "                   labels={'babies': 'Number of Babies'}, \n",
    "                   title=\"Number of Babies\", color='reservation_status')\n",
    "fig.update_layout(bargap=0.2)\n",
    "fig.show()"
   ]
  },
  {
   "cell_type": "markdown",
   "metadata": {},
   "source": [
    "---\n",
    "\n",
    "**Resort**\n",
    "\n",
    "---"
   ]
  },
  {
   "cell_type": "code",
   "execution_count": null,
   "metadata": {},
   "outputs": [],
   "source": []
  },
  {
   "cell_type": "markdown",
   "metadata": {},
   "source": [
    "### Review - `PLACEHOLDER`"
   ]
  },
  {
   "cell_type": "markdown",
   "metadata": {},
   "source": [
    "---\n",
    "\n",
    "> TEXT \n",
    ">\n",
    "> TEXT\n",
    "\n",
    "---"
   ]
  },
  {
   "cell_type": "markdown",
   "metadata": {},
   "source": [
    "## meal"
   ]
  },
  {
   "cell_type": "markdown",
   "metadata": {},
   "source": [
    "---\n",
    "\n",
    "**City**\n",
    "\n",
    "---"
   ]
  },
  {
   "cell_type": "code",
   "execution_count": null,
   "metadata": {
    "ExecuteTime": {
     "end_time": "2021-08-31T12:24:50.377597Z",
     "start_time": "2021-08-31T12:24:50.194691Z"
    }
   },
   "outputs": [],
   "source": [
    "subgroup_city['meal'].value_counts(1, dropna=False)"
   ]
  },
  {
   "cell_type": "code",
   "execution_count": null,
   "metadata": {
    "ExecuteTime": {
     "end_time": "2021-08-31T12:25:15.486718Z",
     "start_time": "2021-08-31T12:25:14.493269Z"
    }
   },
   "outputs": [],
   "source": [
    "fig = px.histogram(subgroup_city,'meal',labels={'meal': 'Types of Meals'}, \n",
    "                   title=\"Dining with Us?\", color='reservation_status')\n",
    "fig.update_layout(bargap=0.2)\n",
    "fig.show()"
   ]
  },
  {
   "cell_type": "markdown",
   "metadata": {},
   "source": [
    "---\n",
    "\n",
    "**Resort**\n",
    "\n",
    "---"
   ]
  },
  {
   "cell_type": "code",
   "execution_count": null,
   "metadata": {},
   "outputs": [],
   "source": []
  },
  {
   "cell_type": "markdown",
   "metadata": {},
   "source": [
    "### Review - `PLACEHOLDER`"
   ]
  },
  {
   "cell_type": "markdown",
   "metadata": {},
   "source": [
    "---\n",
    "\n",
    "> TEXT \n",
    ">\n",
    "> TEXT\n",
    "\n",
    "---"
   ]
  },
  {
   "cell_type": "markdown",
   "metadata": {},
   "source": [
    "## country"
   ]
  },
  {
   "cell_type": "markdown",
   "metadata": {},
   "source": [
    "---\n",
    "\n",
    "**City**\n",
    "\n",
    "---"
   ]
  },
  {
   "cell_type": "code",
   "execution_count": null,
   "metadata": {
    "ExecuteTime": {
     "end_time": "2021-08-31T12:24:51.887527Z",
     "start_time": "2021-08-31T12:24:51.704581Z"
    }
   },
   "outputs": [],
   "source": [
    "subgroup_city['country'].value_counts(1, dropna=False)"
   ]
  },
  {
   "cell_type": "code",
   "execution_count": null,
   "metadata": {
    "ExecuteTime": {
     "end_time": "2021-08-31T12:25:15.486718Z",
     "start_time": "2021-08-31T12:25:14.493269Z"
    }
   },
   "outputs": [],
   "source": [
    "fig = px.histogram(subgroup_city,'country',\n",
    "                   labels={'country': 'Country of Origin'}, \n",
    "                   title=\"'Where's Home?'\", color='reservation_status', nbins=15)\n",
    "fig.update_layout(bargap=0.2)\n",
    "fig.show()"
   ]
  },
  {
   "cell_type": "markdown",
   "metadata": {},
   "source": [
    "---\n",
    "\n",
    "**Resort**\n",
    "\n",
    "---"
   ]
  },
  {
   "cell_type": "code",
   "execution_count": null,
   "metadata": {},
   "outputs": [],
   "source": []
  },
  {
   "cell_type": "markdown",
   "metadata": {},
   "source": [
    "### Review - `PLACEHOLDER`"
   ]
  },
  {
   "cell_type": "markdown",
   "metadata": {},
   "source": [
    "---\n",
    "\n",
    "> TEXT \n",
    ">\n",
    "> TEXT\n",
    "\n",
    "---"
   ]
  },
  {
   "cell_type": "markdown",
   "metadata": {},
   "source": [
    "## market_segment"
   ]
  },
  {
   "cell_type": "markdown",
   "metadata": {},
   "source": [
    "---\n",
    "\n",
    "**City**\n",
    "\n",
    "---"
   ]
  },
  {
   "cell_type": "code",
   "execution_count": null,
   "metadata": {
    "ExecuteTime": {
     "end_time": "2021-08-31T12:24:53.178404Z",
     "start_time": "2021-08-31T12:24:53.011029Z"
    }
   },
   "outputs": [],
   "source": [
    "subgroup_city['market_segment'].value_counts(1, dropna=False)"
   ]
  },
  {
   "cell_type": "code",
   "execution_count": null,
   "metadata": {
    "ExecuteTime": {
     "end_time": "2021-08-31T12:25:15.486718Z",
     "start_time": "2021-08-31T12:25:14.493269Z"
    }
   },
   "outputs": [],
   "source": [
    "fig = px.histogram(subgroup_city,'market_segment',\n",
    "                   labels={'market_segment': 'Market Segment'}, \n",
    "                   title=\"Segmentation\", color='reservation_status')\n",
    "fig.update_layout(bargap=0.2)\n",
    "fig.show()"
   ]
  },
  {
   "cell_type": "markdown",
   "metadata": {},
   "source": [
    "---\n",
    "\n",
    "**Resort**\n",
    "\n",
    "---"
   ]
  },
  {
   "cell_type": "code",
   "execution_count": null,
   "metadata": {},
   "outputs": [],
   "source": []
  },
  {
   "cell_type": "markdown",
   "metadata": {},
   "source": [
    "### Review - `PLACEHOLDER`"
   ]
  },
  {
   "cell_type": "markdown",
   "metadata": {},
   "source": [
    "---\n",
    "\n",
    "> TEXT \n",
    ">\n",
    "> TEXT\n",
    "\n",
    "---"
   ]
  },
  {
   "cell_type": "markdown",
   "metadata": {},
   "source": [
    "## distribution_channel"
   ]
  },
  {
   "cell_type": "markdown",
   "metadata": {},
   "source": [
    "---\n",
    "\n",
    "**City**\n",
    "\n",
    "---"
   ]
  },
  {
   "cell_type": "code",
   "execution_count": null,
   "metadata": {
    "ExecuteTime": {
     "end_time": "2021-08-31T12:24:54.788476Z",
     "start_time": "2021-08-31T12:24:54.476477Z"
    }
   },
   "outputs": [],
   "source": [
    "subgroup_city['distribution_channel'].value_counts(1, dropna=False)"
   ]
  },
  {
   "cell_type": "code",
   "execution_count": null,
   "metadata": {
    "ExecuteTime": {
     "end_time": "2021-08-31T12:25:15.486718Z",
     "start_time": "2021-08-31T12:25:14.493269Z"
    }
   },
   "outputs": [],
   "source": [
    "fig = px.histogram(subgroup_city,'distribution_channel',\n",
    "                   labels={'distribution_channel': 'Channel'}, \n",
    "                   title=\"Distribution Channels\", color='reservation_status')\n",
    "fig.update_layout(bargap=0.2)\n",
    "fig.show()"
   ]
  },
  {
   "cell_type": "markdown",
   "metadata": {},
   "source": [
    "---\n",
    "\n",
    "**Resort**\n",
    "\n",
    "---"
   ]
  },
  {
   "cell_type": "code",
   "execution_count": null,
   "metadata": {},
   "outputs": [],
   "source": []
  },
  {
   "cell_type": "markdown",
   "metadata": {},
   "source": [
    "### Review - `PLACEHOLDER`"
   ]
  },
  {
   "cell_type": "markdown",
   "metadata": {},
   "source": [
    "---\n",
    "\n",
    "> TEXT \n",
    ">\n",
    "> TEXT\n",
    "\n",
    "---"
   ]
  },
  {
   "cell_type": "markdown",
   "metadata": {},
   "source": [
    "## is_repeated_guest"
   ]
  },
  {
   "cell_type": "markdown",
   "metadata": {},
   "source": [
    "---\n",
    "\n",
    "**City**\n",
    "\n",
    "---"
   ]
  },
  {
   "cell_type": "code",
   "execution_count": null,
   "metadata": {
    "ExecuteTime": {
     "end_time": "2021-08-31T12:24:56.554360Z",
     "start_time": "2021-08-31T12:24:56.368857Z"
    }
   },
   "outputs": [],
   "source": [
    "subgroup_city['is_repeated_guest'].value_counts(1, dropna=False)"
   ]
  },
  {
   "cell_type": "code",
   "execution_count": null,
   "metadata": {
    "ExecuteTime": {
     "end_time": "2021-08-31T12:25:15.486718Z",
     "start_time": "2021-08-31T12:25:14.493269Z"
    }
   },
   "outputs": [],
   "source": [
    "fig = px.histogram(subgroup_city,'is_repeated_guest',\n",
    "                   labels={'is_repeated_guest': 'Repeat Status'}, \n",
    "                   title=\"Welcome Back!\", color='reservation_status')\n",
    "fig.update_layout(bargap=0.2)\n",
    "fig.show()"
   ]
  },
  {
   "cell_type": "markdown",
   "metadata": {},
   "source": [
    "---\n",
    "\n",
    "**Resort**\n",
    "\n",
    "---"
   ]
  },
  {
   "cell_type": "code",
   "execution_count": null,
   "metadata": {},
   "outputs": [],
   "source": []
  },
  {
   "cell_type": "markdown",
   "metadata": {},
   "source": [
    "### Review - `PLACEHOLDER`"
   ]
  },
  {
   "cell_type": "markdown",
   "metadata": {},
   "source": [
    "---\n",
    "\n",
    "> TEXT \n",
    ">\n",
    "> TEXT\n",
    "\n",
    "---"
   ]
  },
  {
   "cell_type": "markdown",
   "metadata": {},
   "source": [
    "## previous_cancellations"
   ]
  },
  {
   "cell_type": "markdown",
   "metadata": {},
   "source": [
    "---\n",
    "\n",
    "**City**\n",
    "\n",
    "---"
   ]
  },
  {
   "cell_type": "code",
   "execution_count": null,
   "metadata": {
    "ExecuteTime": {
     "end_time": "2021-08-31T12:24:57.634822Z",
     "start_time": "2021-08-31T12:24:57.464914Z"
    }
   },
   "outputs": [],
   "source": [
    "subgroup_city['previous_cancellations'].describe()"
   ]
  },
  {
   "cell_type": "code",
   "execution_count": null,
   "metadata": {
    "ExecuteTime": {
     "end_time": "2021-08-31T12:25:15.486718Z",
     "start_time": "2021-08-31T12:25:14.493269Z"
    }
   },
   "outputs": [],
   "source": [
    "fig = px.histogram(subgroup_city,'previous_cancellations',\n",
    "                   labels={'previous_cancellations': 'Number of Cancellations'}, \n",
    "                   title=\"Previous Cancellations\", color='reservation_status')\n",
    "fig.update_layout(bargap=0.2)\n",
    "fig.show()"
   ]
  },
  {
   "cell_type": "markdown",
   "metadata": {},
   "source": [
    "---\n",
    "\n",
    "**Resort**\n",
    "\n",
    "---"
   ]
  },
  {
   "cell_type": "code",
   "execution_count": null,
   "metadata": {},
   "outputs": [],
   "source": []
  },
  {
   "cell_type": "markdown",
   "metadata": {},
   "source": [
    "### Review - `PLACEHOLDER`"
   ]
  },
  {
   "cell_type": "markdown",
   "metadata": {},
   "source": [
    "---\n",
    "\n",
    "> TEXT \n",
    ">\n",
    "> TEXT\n",
    "\n",
    "---"
   ]
  },
  {
   "cell_type": "markdown",
   "metadata": {},
   "source": [
    "## previous_bookings_not_canceled"
   ]
  },
  {
   "cell_type": "markdown",
   "metadata": {},
   "source": [
    "---\n",
    "\n",
    "**City**\n",
    "\n",
    "---"
   ]
  },
  {
   "cell_type": "code",
   "execution_count": null,
   "metadata": {
    "ExecuteTime": {
     "end_time": "2021-08-31T12:24:58.772830Z",
     "start_time": "2021-08-31T12:24:58.603383Z"
    },
    "scrolled": false
   },
   "outputs": [],
   "source": [
    "subgroup_city['previous_bookings_not_canceled'].describe()"
   ]
  },
  {
   "cell_type": "code",
   "execution_count": null,
   "metadata": {
    "ExecuteTime": {
     "end_time": "2021-08-31T12:25:15.486718Z",
     "start_time": "2021-08-31T12:25:14.493269Z"
    }
   },
   "outputs": [],
   "source": [
    "fig = px.histogram(subgroup_city,'previous_bookings_not_canceled', marginal = 'box',\n",
    "                   labels={'previous_bookings_not_canceled': 'Number of Prior Stays'}, \n",
    "                   title=\"Prior Stays\", color='reservation_status')\n",
    "fig.update_layout(bargap=0.2)\n",
    "fig.show()"
   ]
  },
  {
   "cell_type": "markdown",
   "metadata": {},
   "source": [
    "---\n",
    "\n",
    "**Resort**\n",
    "\n",
    "---"
   ]
  },
  {
   "cell_type": "code",
   "execution_count": null,
   "metadata": {},
   "outputs": [],
   "source": []
  },
  {
   "cell_type": "markdown",
   "metadata": {},
   "source": [
    "### Review - `PLACEHOLDER`"
   ]
  },
  {
   "cell_type": "markdown",
   "metadata": {},
   "source": [
    "---\n",
    "\n",
    "> TEXT \n",
    ">\n",
    "> TEXT\n",
    "\n",
    "---"
   ]
  },
  {
   "cell_type": "markdown",
   "metadata": {},
   "source": [
    "##  reserved_room_type"
   ]
  },
  {
   "cell_type": "markdown",
   "metadata": {},
   "source": [
    "---\n",
    "\n",
    "**City**\n",
    "\n",
    "---"
   ]
  },
  {
   "cell_type": "code",
   "execution_count": null,
   "metadata": {
    "ExecuteTime": {
     "end_time": "2021-08-31T12:25:00.144354Z",
     "start_time": "2021-08-31T12:24:59.977891Z"
    }
   },
   "outputs": [],
   "source": [
    "subgroup_city['reserved_room_type'].value_counts(1, dropna=False)"
   ]
  },
  {
   "cell_type": "code",
   "execution_count": null,
   "metadata": {
    "ExecuteTime": {
     "end_time": "2021-08-31T12:25:15.486718Z",
     "start_time": "2021-08-31T12:25:14.493269Z"
    }
   },
   "outputs": [],
   "source": [
    "fig = px.histogram(subgroup_city,'reserved_room_type',\n",
    "                   labels={'reserved_room_type': 'Room Type'}, \n",
    "                   title=\"Reserved Room Types\", color='reservation_status')\n",
    "fig.update_layout(bargap=0.2)\n",
    "fig.show()"
   ]
  },
  {
   "cell_type": "markdown",
   "metadata": {},
   "source": [
    "---\n",
    "\n",
    "**Resort**\n",
    "\n",
    "---"
   ]
  },
  {
   "cell_type": "code",
   "execution_count": null,
   "metadata": {},
   "outputs": [],
   "source": []
  },
  {
   "cell_type": "markdown",
   "metadata": {},
   "source": [
    "### Review - `PLACEHOLDER`"
   ]
  },
  {
   "cell_type": "markdown",
   "metadata": {},
   "source": [
    "---\n",
    "\n",
    "> TEXT \n",
    ">\n",
    "> TEXT\n",
    "\n",
    "---"
   ]
  },
  {
   "cell_type": "markdown",
   "metadata": {},
   "source": [
    "## assigned_room_type"
   ]
  },
  {
   "cell_type": "markdown",
   "metadata": {},
   "source": [
    "---\n",
    "\n",
    "**City**\n",
    "\n",
    "---"
   ]
  },
  {
   "cell_type": "code",
   "execution_count": null,
   "metadata": {
    "ExecuteTime": {
     "end_time": "2021-08-31T12:25:01.745017Z",
     "start_time": "2021-08-31T12:25:01.499510Z"
    }
   },
   "outputs": [],
   "source": [
    "subgroup_city['assigned_room_type'].value_counts(1, dropna=False)"
   ]
  },
  {
   "cell_type": "code",
   "execution_count": null,
   "metadata": {
    "ExecuteTime": {
     "end_time": "2021-08-31T12:25:15.486718Z",
     "start_time": "2021-08-31T12:25:14.493269Z"
    }
   },
   "outputs": [],
   "source": [
    "fig = px.histogram(subgroup_city,'assigned_room_type',\n",
    "                   labels={'assigned_room_type': 'Assigned Room Type'}, \n",
    "                   title=\"Assigned Room Types\", color='reservation_status')\n",
    "fig.update_layout(bargap=0.2)\n",
    "fig.show()"
   ]
  },
  {
   "cell_type": "markdown",
   "metadata": {},
   "source": [
    "---\n",
    "\n",
    "**Resort**\n",
    "\n",
    "---"
   ]
  },
  {
   "cell_type": "code",
   "execution_count": null,
   "metadata": {},
   "outputs": [],
   "source": []
  },
  {
   "cell_type": "markdown",
   "metadata": {},
   "source": [
    "### Review - `PLACEHOLDER`"
   ]
  },
  {
   "cell_type": "markdown",
   "metadata": {},
   "source": [
    "---\n",
    "\n",
    "> TEXT \n",
    ">\n",
    "> TEXT\n",
    "\n",
    "---"
   ]
  },
  {
   "cell_type": "markdown",
   "metadata": {},
   "source": [
    "## booking_changes"
   ]
  },
  {
   "cell_type": "markdown",
   "metadata": {},
   "source": [
    "---\n",
    "\n",
    "**City**\n",
    "\n",
    "---"
   ]
  },
  {
   "cell_type": "code",
   "execution_count": null,
   "metadata": {
    "ExecuteTime": {
     "end_time": "2021-08-31T12:25:03.424742Z",
     "start_time": "2021-08-31T12:25:03.255627Z"
    }
   },
   "outputs": [],
   "source": [
    "subgroup_city['booking_changes'].value_counts(1)"
   ]
  },
  {
   "cell_type": "code",
   "execution_count": null,
   "metadata": {
    "ExecuteTime": {
     "end_time": "2021-08-31T12:25:15.486718Z",
     "start_time": "2021-08-31T12:25:14.493269Z"
    }
   },
   "outputs": [],
   "source": [
    "fig = px.histogram(subgroup_city,'booking_changes', marginal = 'box',\n",
    "                   labels={'booking_changes': 'Number of Changes'}, \n",
    "                   title=\"Booking Changes\", color='reservation_status')\n",
    "fig.update_layout(bargap=0.2)\n",
    "fig.show()"
   ]
  },
  {
   "cell_type": "markdown",
   "metadata": {},
   "source": [
    "---\n",
    "\n",
    "**Resort**\n",
    "\n",
    "---"
   ]
  },
  {
   "cell_type": "code",
   "execution_count": null,
   "metadata": {},
   "outputs": [],
   "source": []
  },
  {
   "cell_type": "markdown",
   "metadata": {},
   "source": [
    "### Review - `PLACEHOLDER`"
   ]
  },
  {
   "cell_type": "markdown",
   "metadata": {},
   "source": [
    "---\n",
    "\n",
    "> TEXT \n",
    ">\n",
    "> TEXT\n",
    "\n",
    "---"
   ]
  },
  {
   "cell_type": "markdown",
   "metadata": {},
   "source": [
    "## deposit_type"
   ]
  },
  {
   "cell_type": "markdown",
   "metadata": {},
   "source": [
    "---\n",
    "\n",
    "**City**\n",
    "\n",
    "---"
   ]
  },
  {
   "cell_type": "code",
   "execution_count": null,
   "metadata": {
    "ExecuteTime": {
     "end_time": "2021-08-31T12:25:04.811525Z",
     "start_time": "2021-08-31T12:25:04.612038Z"
    }
   },
   "outputs": [],
   "source": [
    "subgroup_city['deposit_type'].value_counts(1, dropna=False)"
   ]
  },
  {
   "cell_type": "code",
   "execution_count": null,
   "metadata": {
    "ExecuteTime": {
     "end_time": "2021-08-31T12:25:15.486718Z",
     "start_time": "2021-08-31T12:25:14.493269Z"
    }
   },
   "outputs": [],
   "source": [
    "fig = px.histogram(subgroup_city,'deposit_type',\n",
    "                   labels={'deposit_type': 'Type'}, \n",
    "                   title=\"Deposit Types\", color='reservation_status')\n",
    "fig.update_layout(bargap=0.2)\n",
    "fig.show()"
   ]
  },
  {
   "cell_type": "markdown",
   "metadata": {},
   "source": [
    "---\n",
    "\n",
    "**Resort**\n",
    "\n",
    "---"
   ]
  },
  {
   "cell_type": "code",
   "execution_count": null,
   "metadata": {},
   "outputs": [],
   "source": []
  },
  {
   "cell_type": "markdown",
   "metadata": {},
   "source": [
    "### Review - `PLACEHOLDER`"
   ]
  },
  {
   "cell_type": "markdown",
   "metadata": {},
   "source": [
    "---\n",
    "\n",
    "> TEXT \n",
    ">\n",
    "> TEXT\n",
    "\n",
    "---"
   ]
  },
  {
   "cell_type": "markdown",
   "metadata": {},
   "source": [
    "## agent"
   ]
  },
  {
   "cell_type": "markdown",
   "metadata": {},
   "source": [
    "---\n",
    "\n",
    "**City**\n",
    "\n",
    "---"
   ]
  },
  {
   "cell_type": "code",
   "execution_count": null,
   "metadata": {
    "ExecuteTime": {
     "end_time": "2021-08-31T12:25:06.598925Z",
     "start_time": "2021-08-31T12:25:06.414928Z"
    }
   },
   "outputs": [],
   "source": [
    "subgroup_city['agent'].value_counts(1, dropna=False)"
   ]
  },
  {
   "cell_type": "code",
   "execution_count": null,
   "metadata": {
    "ExecuteTime": {
     "end_time": "2021-08-31T12:25:15.486718Z",
     "start_time": "2021-08-31T12:25:14.493269Z"
    }
   },
   "outputs": [],
   "source": [
    "fig = px.histogram(subgroup_city,'agent', marginal = 'box',\n",
    "                   labels={'agent': 'Booking Agent ID Number'}, \n",
    "                   title=\"Bookings per Agent\", color='reservation_status')\n",
    "fig.update_layout(bargap=0.2)\n",
    "fig.show()"
   ]
  },
  {
   "cell_type": "markdown",
   "metadata": {},
   "source": [
    "---\n",
    "\n",
    "**Resort**\n",
    "\n",
    "---"
   ]
  },
  {
   "cell_type": "code",
   "execution_count": null,
   "metadata": {},
   "outputs": [],
   "source": []
  },
  {
   "cell_type": "markdown",
   "metadata": {},
   "source": [
    "### Review - `PLACEHOLDER`"
   ]
  },
  {
   "cell_type": "markdown",
   "metadata": {},
   "source": [
    "---\n",
    "\n",
    "> TEXT \n",
    ">\n",
    "> TEXT\n",
    "\n",
    "---"
   ]
  },
  {
   "cell_type": "markdown",
   "metadata": {},
   "source": [
    "## days_in_waiting_list"
   ]
  },
  {
   "cell_type": "markdown",
   "metadata": {},
   "source": [
    "---\n",
    "\n",
    "**City**\n",
    "\n",
    "---"
   ]
  },
  {
   "cell_type": "code",
   "execution_count": null,
   "metadata": {
    "ExecuteTime": {
     "end_time": "2021-08-31T12:25:08.278592Z",
     "start_time": "2021-08-31T12:25:08.111386Z"
    }
   },
   "outputs": [],
   "source": [
    "subgroup_city['days_in_waiting_list'].describe()"
   ]
  },
  {
   "cell_type": "code",
   "execution_count": null,
   "metadata": {
    "ExecuteTime": {
     "end_time": "2021-08-31T12:25:15.486718Z",
     "start_time": "2021-08-31T12:25:14.493269Z"
    }
   },
   "outputs": [],
   "source": [
    "fig = px.histogram(subgroup_city,'days_in_waiting_list', marginal = 'box',\n",
    "                   labels={'days_in_waiting_list': 'Number of Days'}, \n",
    "                   title=\"Days on Waiting List\", color='reservation_status', nbins=15)\n",
    "fig.update_layout(bargap=0.2)\n",
    "fig.show()"
   ]
  },
  {
   "cell_type": "markdown",
   "metadata": {},
   "source": [
    "---\n",
    "\n",
    "**Resort**\n",
    "\n",
    "---"
   ]
  },
  {
   "cell_type": "code",
   "execution_count": null,
   "metadata": {},
   "outputs": [],
   "source": []
  },
  {
   "cell_type": "markdown",
   "metadata": {},
   "source": [
    "### Review - `PLACEHOLDER`"
   ]
  },
  {
   "cell_type": "markdown",
   "metadata": {},
   "source": [
    "---\n",
    "\n",
    "> TEXT \n",
    ">\n",
    "> TEXT\n",
    "\n",
    "---"
   ]
  },
  {
   "cell_type": "markdown",
   "metadata": {},
   "source": [
    "## customer_type"
   ]
  },
  {
   "cell_type": "markdown",
   "metadata": {},
   "source": [
    "---\n",
    "\n",
    "**City**\n",
    "\n",
    "---"
   ]
  },
  {
   "cell_type": "code",
   "execution_count": null,
   "metadata": {
    "ExecuteTime": {
     "end_time": "2021-08-31T12:25:09.663467Z",
     "start_time": "2021-08-31T12:25:09.481755Z"
    }
   },
   "outputs": [],
   "source": [
    "subgroup_city['customer_type'].value_counts(1, dropna=False)"
   ]
  },
  {
   "cell_type": "code",
   "execution_count": null,
   "metadata": {
    "ExecuteTime": {
     "end_time": "2021-08-31T12:25:15.486718Z",
     "start_time": "2021-08-31T12:25:14.493269Z"
    }
   },
   "outputs": [],
   "source": [
    "fig = px.histogram(subgroup_city,'customer_type',\n",
    "                   labels={'customer_type': 'Reservation Type'}, \n",
    "                   title=\"Reservation Types\", color='reservation_status')\n",
    "fig.update_layout(bargap=0.2)\n",
    "fig.show()"
   ]
  },
  {
   "cell_type": "markdown",
   "metadata": {},
   "source": [
    "---\n",
    "\n",
    "**Resort**\n",
    "\n",
    "---"
   ]
  },
  {
   "cell_type": "code",
   "execution_count": null,
   "metadata": {},
   "outputs": [],
   "source": []
  },
  {
   "cell_type": "markdown",
   "metadata": {},
   "source": [
    "### Review - `PLACEHOLDER`"
   ]
  },
  {
   "cell_type": "markdown",
   "metadata": {},
   "source": [
    "---\n",
    "\n",
    "> TEXT \n",
    ">\n",
    "> TEXT\n",
    "\n",
    "---"
   ]
  },
  {
   "cell_type": "markdown",
   "metadata": {},
   "source": [
    "## adr"
   ]
  },
  {
   "cell_type": "markdown",
   "metadata": {},
   "source": [
    "---\n",
    "\n",
    "**City**\n",
    "\n",
    "---"
   ]
  },
  {
   "cell_type": "code",
   "execution_count": null,
   "metadata": {
    "ExecuteTime": {
     "end_time": "2021-08-31T12:25:11.455471Z",
     "start_time": "2021-08-31T12:25:11.272579Z"
    },
    "scrolled": true
   },
   "outputs": [],
   "source": [
    "subgroup_city['adr'].describe()"
   ]
  },
  {
   "cell_type": "code",
   "execution_count": null,
   "metadata": {
    "ExecuteTime": {
     "end_time": "2021-08-31T12:25:15.486718Z",
     "start_time": "2021-08-31T12:25:14.493269Z"
    }
   },
   "outputs": [],
   "source": [
    "fig = px.histogram(subgroup_city,'adr', marginal = 'box',\n",
    "                   labels={'adr': 'Rate'}, title=\"Average Daily Rate (ADR)\",\n",
    "                   color='reservation_status', nbins=15)\n",
    "fig.update_layout(bargap=0.2)\n",
    "fig.show()"
   ]
  },
  {
   "cell_type": "markdown",
   "metadata": {},
   "source": [
    "---\n",
    "\n",
    "**Resort**\n",
    "\n",
    "---"
   ]
  },
  {
   "cell_type": "code",
   "execution_count": null,
   "metadata": {},
   "outputs": [],
   "source": []
  },
  {
   "cell_type": "markdown",
   "metadata": {},
   "source": [
    "### Review - `PLACEHOLDER`"
   ]
  },
  {
   "cell_type": "markdown",
   "metadata": {},
   "source": [
    "---\n",
    "\n",
    "> TEXT \n",
    ">\n",
    "> TEXT\n",
    "\n",
    "---"
   ]
  },
  {
   "cell_type": "markdown",
   "metadata": {},
   "source": [
    "## required_car_parking_spaces"
   ]
  },
  {
   "cell_type": "markdown",
   "metadata": {},
   "source": [
    "---\n",
    "\n",
    "**City**\n",
    "\n",
    "---"
   ]
  },
  {
   "cell_type": "code",
   "execution_count": null,
   "metadata": {
    "ExecuteTime": {
     "end_time": "2021-08-31T12:25:13.278074Z",
     "start_time": "2021-08-31T12:25:13.109062Z"
    }
   },
   "outputs": [],
   "source": [
    "subgroup_city['required_car_parking_spaces'].value_counts(1, dropna=False)"
   ]
  },
  {
   "cell_type": "code",
   "execution_count": null,
   "metadata": {
    "ExecuteTime": {
     "end_time": "2021-08-31T12:25:15.486718Z",
     "start_time": "2021-08-31T12:25:14.493269Z"
    }
   },
   "outputs": [],
   "source": [
    "fig = px.histogram(subgroup_city,'required_car_parking_spaces',\n",
    "                   labels={'required_car_parking_spaces': 'Number of Cars'}, \n",
    "                   title=\"Number of Cars\", color='reservation_status')\n",
    "fig.update_layout(bargap=0.2)\n",
    "fig.show()"
   ]
  },
  {
   "cell_type": "markdown",
   "metadata": {},
   "source": [
    "---\n",
    "\n",
    "**Resort**\n",
    "\n",
    "---"
   ]
  },
  {
   "cell_type": "code",
   "execution_count": null,
   "metadata": {},
   "outputs": [],
   "source": []
  },
  {
   "cell_type": "markdown",
   "metadata": {},
   "source": [
    "### Review - `PLACEHOLDER`"
   ]
  },
  {
   "cell_type": "markdown",
   "metadata": {},
   "source": [
    "---\n",
    "\n",
    "> TEXT \n",
    ">\n",
    "> TEXT\n",
    "\n",
    "---"
   ]
  },
  {
   "cell_type": "markdown",
   "metadata": {},
   "source": [
    "## total_of_special_requests"
   ]
  },
  {
   "cell_type": "markdown",
   "metadata": {},
   "source": [
    "---\n",
    "\n",
    "**City**\n",
    "\n",
    "---"
   ]
  },
  {
   "cell_type": "code",
   "execution_count": null,
   "metadata": {
    "ExecuteTime": {
     "end_time": "2021-08-31T12:25:14.491267Z",
     "start_time": "2021-08-31T12:25:14.292268Z"
    }
   },
   "outputs": [],
   "source": [
    "subgroup_city['total_of_special_requests'].value_counts(1, dropna=False)"
   ]
  },
  {
   "cell_type": "code",
   "execution_count": null,
   "metadata": {
    "ExecuteTime": {
     "end_time": "2021-08-31T12:25:15.486718Z",
     "start_time": "2021-08-31T12:25:14.493269Z"
    }
   },
   "outputs": [],
   "source": [
    "fig = px.histogram(subgroup_city,'total_of_special_requests',\n",
    "                   labels={'total_of_special_requests': 'Number of Requests'}, \n",
    "                   title=\"Number of Special Requests\", color='reservation_status')\n",
    "fig.update_layout(bargap=0.2)\n",
    "fig.show()"
   ]
  },
  {
   "cell_type": "markdown",
   "metadata": {},
   "source": [
    "---\n",
    "\n",
    "**Resort**\n",
    "\n",
    "---"
   ]
  },
  {
   "cell_type": "code",
   "execution_count": null,
   "metadata": {},
   "outputs": [],
   "source": []
  },
  {
   "cell_type": "markdown",
   "metadata": {},
   "source": [
    "### Review - `PLACEHOLDER`"
   ]
  },
  {
   "cell_type": "markdown",
   "metadata": {},
   "source": [
    "---\n",
    "\n",
    "> TEXT \n",
    ">\n",
    "> TEXT\n",
    "\n",
    "---"
   ]
  },
  {
   "cell_type": "markdown",
   "metadata": {},
   "source": [
    "## reservation_status_date"
   ]
  },
  {
   "cell_type": "markdown",
   "metadata": {},
   "source": [
    "---\n",
    "\n",
    "**City**\n",
    "\n",
    "---"
   ]
  },
  {
   "cell_type": "code",
   "execution_count": null,
   "metadata": {
    "ExecuteTime": {
     "end_time": "2021-08-31T12:25:15.660672Z",
     "start_time": "2021-08-31T12:25:15.488714Z"
    }
   },
   "outputs": [],
   "source": [
    "subgroup_city['reservation_status_date']"
   ]
  },
  {
   "cell_type": "markdown",
   "metadata": {},
   "source": [
    "---\n",
    "\n",
    "**Resort**\n",
    "\n",
    "---"
   ]
  },
  {
   "cell_type": "code",
   "execution_count": null,
   "metadata": {},
   "outputs": [],
   "source": []
  },
  {
   "cell_type": "markdown",
   "metadata": {},
   "source": [
    "### Review - `PLACEHOLDER`"
   ]
  },
  {
   "cell_type": "markdown",
   "metadata": {},
   "source": [
    "---\n",
    "\n",
    "> TEXT \n",
    ">\n",
    "> TEXT\n",
    "\n",
    "---"
   ]
  },
  {
   "cell_type": "markdown",
   "metadata": {},
   "source": [
    "# 📅 **Setting Datetime Index**"
   ]
  },
  {
   "cell_type": "code",
   "execution_count": null,
   "metadata": {
    "ExecuteTime": {
     "end_time": "2021-08-31T12:25:15.923703Z",
     "start_time": "2021-08-31T12:25:15.662671Z"
    }
   },
   "outputs": [],
   "source": [
    "city_ts = subgroup_city.set_index('arrival_date')\n",
    "city_ts"
   ]
  },
  {
   "cell_type": "code",
   "execution_count": null,
   "metadata": {},
   "outputs": [],
   "source": []
  },
  {
   "cell_type": "code",
   "execution_count": null,
   "metadata": {
    "ExecuteTime": {
     "end_time": "2021-08-31T12:25:16.127653Z",
     "start_time": "2021-08-31T12:25:15.925700Z"
    }
   },
   "outputs": [],
   "source": [
    "resort_ts = subgroup_resort.set_index('arrival_date')\n",
    "resort_ts"
   ]
  },
  {
   "cell_type": "markdown",
   "metadata": {},
   "source": [
    "# Binarizing Target - New Feature"
   ]
  },
  {
   "cell_type": "markdown",
   "metadata": {},
   "source": [
    "❌ **MOVE THIS TO POST-EDA PROCESSING** ❌"
   ]
  },
  {
   "cell_type": "code",
   "execution_count": null,
   "metadata": {
    "ExecuteTime": {
     "end_time": "2021-08-31T12:24:22.185993Z",
     "start_time": "2021-08-31T12:24:21.970496Z"
    }
   },
   "outputs": [],
   "source": [
    "cond = [subgroup_city['reservation_status'] == 'Check-Out',\n",
    "       subgroup_city['reservation_status'] == 'Canceled',\n",
    "       subgroup_resort['reservation_status'] == 'Check-Out',\n",
    "       subgroup_resort['reservation_status'] == 'Canceled']\n",
    "\n",
    "choice = [1, 0, 1, 0]"
   ]
  },
  {
   "cell_type": "code",
   "execution_count": null,
   "metadata": {
    "ExecuteTime": {
     "end_time": "2021-08-31T12:24:22.185993Z",
     "start_time": "2021-08-31T12:24:21.970496Z"
    }
   },
   "outputs": [],
   "source": [
    "subgroup_city['res_status_binary'] = np.select(cond, choice, 2)\n",
    "subgroup_city['res_status_binary']"
   ]
  },
  {
   "cell_type": "code",
   "execution_count": null,
   "metadata": {},
   "outputs": [],
   "source": [
    "subgroup_resort['res_status_binary'] = np.select(cond, choice, 2)\n",
    "subgroup_resort['res_status_binary']"
   ]
  },
  {
   "cell_type": "code",
   "execution_count": 88,
   "metadata": {
    "ExecuteTime": {
     "end_time": "2021-08-31T16:52:40.092412Z",
     "start_time": "2021-08-31T16:52:39.889387Z"
    },
    "scrolled": true
   },
   "outputs": [
    {
     "ename": "KeyError",
     "evalue": "'res_status_binary'",
     "output_type": "error",
     "traceback": [
      "\u001b[1;31m---------------------------------------------------------------------------\u001b[0m",
      "\u001b[1;31mKeyError\u001b[0m                                  Traceback (most recent call last)",
      "\u001b[1;32m~\\anaconda3\\envs\\learn-env\\lib\\site-packages\\pandas\\core\\indexes\\base.py\u001b[0m in \u001b[0;36mget_loc\u001b[1;34m(self, key, method, tolerance)\u001b[0m\n\u001b[0;32m   2896\u001b[0m             \u001b[1;32mtry\u001b[0m\u001b[1;33m:\u001b[0m\u001b[1;33m\u001b[0m\u001b[1;33m\u001b[0m\u001b[0m\n\u001b[1;32m-> 2897\u001b[1;33m                 \u001b[1;32mreturn\u001b[0m \u001b[0mself\u001b[0m\u001b[1;33m.\u001b[0m\u001b[0m_engine\u001b[0m\u001b[1;33m.\u001b[0m\u001b[0mget_loc\u001b[0m\u001b[1;33m(\u001b[0m\u001b[0mkey\u001b[0m\u001b[1;33m)\u001b[0m\u001b[1;33m\u001b[0m\u001b[1;33m\u001b[0m\u001b[0m\n\u001b[0m\u001b[0;32m   2898\u001b[0m             \u001b[1;32mexcept\u001b[0m \u001b[0mKeyError\u001b[0m\u001b[1;33m:\u001b[0m\u001b[1;33m\u001b[0m\u001b[1;33m\u001b[0m\u001b[0m\n",
      "\u001b[1;32mpandas/_libs/index.pyx\u001b[0m in \u001b[0;36mpandas._libs.index.IndexEngine.get_loc\u001b[1;34m()\u001b[0m\n",
      "\u001b[1;32mpandas/_libs/index.pyx\u001b[0m in \u001b[0;36mpandas._libs.index.IndexEngine.get_loc\u001b[1;34m()\u001b[0m\n",
      "\u001b[1;32mpandas/_libs/hashtable_class_helper.pxi\u001b[0m in \u001b[0;36mpandas._libs.hashtable.PyObjectHashTable.get_item\u001b[1;34m()\u001b[0m\n",
      "\u001b[1;32mpandas/_libs/hashtable_class_helper.pxi\u001b[0m in \u001b[0;36mpandas._libs.hashtable.PyObjectHashTable.get_item\u001b[1;34m()\u001b[0m\n",
      "\u001b[1;31mKeyError\u001b[0m: 'res_status_binary'",
      "\nDuring handling of the above exception, another exception occurred:\n",
      "\u001b[1;31mKeyError\u001b[0m                                  Traceback (most recent call last)",
      "\u001b[1;32m<ipython-input-88-8230b1b9dbc5>\u001b[0m in \u001b[0;36m<module>\u001b[1;34m\u001b[0m\n\u001b[1;32m----> 1\u001b[1;33m \u001b[0msubgroup_city\u001b[0m\u001b[1;33m[\u001b[0m\u001b[1;34m'res_status_binary'\u001b[0m\u001b[1;33m]\u001b[0m\u001b[1;33m.\u001b[0m\u001b[0mvalue_counts\u001b[0m\u001b[1;33m(\u001b[0m\u001b[1;36m1\u001b[0m\u001b[1;33m)\u001b[0m\u001b[1;33m\u001b[0m\u001b[1;33m\u001b[0m\u001b[0m\n\u001b[0m",
      "\u001b[1;32m~\\anaconda3\\envs\\learn-env\\lib\\site-packages\\pandas\\core\\frame.py\u001b[0m in \u001b[0;36m__getitem__\u001b[1;34m(self, key)\u001b[0m\n\u001b[0;32m   2993\u001b[0m             \u001b[1;32mif\u001b[0m \u001b[0mself\u001b[0m\u001b[1;33m.\u001b[0m\u001b[0mcolumns\u001b[0m\u001b[1;33m.\u001b[0m\u001b[0mnlevels\u001b[0m \u001b[1;33m>\u001b[0m \u001b[1;36m1\u001b[0m\u001b[1;33m:\u001b[0m\u001b[1;33m\u001b[0m\u001b[1;33m\u001b[0m\u001b[0m\n\u001b[0;32m   2994\u001b[0m                 \u001b[1;32mreturn\u001b[0m \u001b[0mself\u001b[0m\u001b[1;33m.\u001b[0m\u001b[0m_getitem_multilevel\u001b[0m\u001b[1;33m(\u001b[0m\u001b[0mkey\u001b[0m\u001b[1;33m)\u001b[0m\u001b[1;33m\u001b[0m\u001b[1;33m\u001b[0m\u001b[0m\n\u001b[1;32m-> 2995\u001b[1;33m             \u001b[0mindexer\u001b[0m \u001b[1;33m=\u001b[0m \u001b[0mself\u001b[0m\u001b[1;33m.\u001b[0m\u001b[0mcolumns\u001b[0m\u001b[1;33m.\u001b[0m\u001b[0mget_loc\u001b[0m\u001b[1;33m(\u001b[0m\u001b[0mkey\u001b[0m\u001b[1;33m)\u001b[0m\u001b[1;33m\u001b[0m\u001b[1;33m\u001b[0m\u001b[0m\n\u001b[0m\u001b[0;32m   2996\u001b[0m             \u001b[1;32mif\u001b[0m \u001b[0mis_integer\u001b[0m\u001b[1;33m(\u001b[0m\u001b[0mindexer\u001b[0m\u001b[1;33m)\u001b[0m\u001b[1;33m:\u001b[0m\u001b[1;33m\u001b[0m\u001b[1;33m\u001b[0m\u001b[0m\n\u001b[0;32m   2997\u001b[0m                 \u001b[0mindexer\u001b[0m \u001b[1;33m=\u001b[0m \u001b[1;33m[\u001b[0m\u001b[0mindexer\u001b[0m\u001b[1;33m]\u001b[0m\u001b[1;33m\u001b[0m\u001b[1;33m\u001b[0m\u001b[0m\n",
      "\u001b[1;32m~\\anaconda3\\envs\\learn-env\\lib\\site-packages\\pandas\\core\\indexes\\base.py\u001b[0m in \u001b[0;36mget_loc\u001b[1;34m(self, key, method, tolerance)\u001b[0m\n\u001b[0;32m   2897\u001b[0m                 \u001b[1;32mreturn\u001b[0m \u001b[0mself\u001b[0m\u001b[1;33m.\u001b[0m\u001b[0m_engine\u001b[0m\u001b[1;33m.\u001b[0m\u001b[0mget_loc\u001b[0m\u001b[1;33m(\u001b[0m\u001b[0mkey\u001b[0m\u001b[1;33m)\u001b[0m\u001b[1;33m\u001b[0m\u001b[1;33m\u001b[0m\u001b[0m\n\u001b[0;32m   2898\u001b[0m             \u001b[1;32mexcept\u001b[0m \u001b[0mKeyError\u001b[0m\u001b[1;33m:\u001b[0m\u001b[1;33m\u001b[0m\u001b[1;33m\u001b[0m\u001b[0m\n\u001b[1;32m-> 2899\u001b[1;33m                 \u001b[1;32mreturn\u001b[0m \u001b[0mself\u001b[0m\u001b[1;33m.\u001b[0m\u001b[0m_engine\u001b[0m\u001b[1;33m.\u001b[0m\u001b[0mget_loc\u001b[0m\u001b[1;33m(\u001b[0m\u001b[0mself\u001b[0m\u001b[1;33m.\u001b[0m\u001b[0m_maybe_cast_indexer\u001b[0m\u001b[1;33m(\u001b[0m\u001b[0mkey\u001b[0m\u001b[1;33m)\u001b[0m\u001b[1;33m)\u001b[0m\u001b[1;33m\u001b[0m\u001b[1;33m\u001b[0m\u001b[0m\n\u001b[0m\u001b[0;32m   2900\u001b[0m         \u001b[0mindexer\u001b[0m \u001b[1;33m=\u001b[0m \u001b[0mself\u001b[0m\u001b[1;33m.\u001b[0m\u001b[0mget_indexer\u001b[0m\u001b[1;33m(\u001b[0m\u001b[1;33m[\u001b[0m\u001b[0mkey\u001b[0m\u001b[1;33m]\u001b[0m\u001b[1;33m,\u001b[0m \u001b[0mmethod\u001b[0m\u001b[1;33m=\u001b[0m\u001b[0mmethod\u001b[0m\u001b[1;33m,\u001b[0m \u001b[0mtolerance\u001b[0m\u001b[1;33m=\u001b[0m\u001b[0mtolerance\u001b[0m\u001b[1;33m)\u001b[0m\u001b[1;33m\u001b[0m\u001b[1;33m\u001b[0m\u001b[0m\n\u001b[0;32m   2901\u001b[0m         \u001b[1;32mif\u001b[0m \u001b[0mindexer\u001b[0m\u001b[1;33m.\u001b[0m\u001b[0mndim\u001b[0m \u001b[1;33m>\u001b[0m \u001b[1;36m1\u001b[0m \u001b[1;32mor\u001b[0m \u001b[0mindexer\u001b[0m\u001b[1;33m.\u001b[0m\u001b[0msize\u001b[0m \u001b[1;33m>\u001b[0m \u001b[1;36m1\u001b[0m\u001b[1;33m:\u001b[0m\u001b[1;33m\u001b[0m\u001b[1;33m\u001b[0m\u001b[0m\n",
      "\u001b[1;32mpandas/_libs/index.pyx\u001b[0m in \u001b[0;36mpandas._libs.index.IndexEngine.get_loc\u001b[1;34m()\u001b[0m\n",
      "\u001b[1;32mpandas/_libs/index.pyx\u001b[0m in \u001b[0;36mpandas._libs.index.IndexEngine.get_loc\u001b[1;34m()\u001b[0m\n",
      "\u001b[1;32mpandas/_libs/hashtable_class_helper.pxi\u001b[0m in \u001b[0;36mpandas._libs.hashtable.PyObjectHashTable.get_item\u001b[1;34m()\u001b[0m\n",
      "\u001b[1;32mpandas/_libs/hashtable_class_helper.pxi\u001b[0m in \u001b[0;36mpandas._libs.hashtable.PyObjectHashTable.get_item\u001b[1;34m()\u001b[0m\n",
      "\u001b[1;31mKeyError\u001b[0m: 'res_status_binary'"
     ]
    }
   ],
   "source": [
    "subgroup_city['res_status_binary'].value_counts(1)"
   ]
  },
  {
   "cell_type": "code",
   "execution_count": null,
   "metadata": {
    "ExecuteTime": {
     "end_time": "2021-08-31T16:52:40.095381Z",
     "start_time": "2021-08-31T16:52:40.047Z"
    }
   },
   "outputs": [],
   "source": [
    "subgroup_resort['res_status_binary'].value_counts(1)"
   ]
  }
 ],
 "metadata": {
  "interpreter": {
   "hash": "980eb18a21052b9c17debf7b5e50bde2e676226d1d1b2f7e2a15b0c620c5c0ea"
  },
  "kernelspec": {
   "display_name": "learn-env",
   "language": "python",
   "name": "learn-env"
  },
  "language_info": {
   "codemirror_mode": {
    "name": "ipython",
    "version": 3
   },
   "file_extension": ".py",
   "mimetype": "text/x-python",
   "name": "python",
   "nbconvert_exporter": "python",
   "pygments_lexer": "ipython3",
   "version": "3.6.9"
  },
  "toc": {
   "base_numbering": 1,
   "nav_menu": {},
   "number_sections": true,
   "sideBar": true,
   "skip_h1_title": false,
   "title_cell": "Table of Contents",
   "title_sidebar": "Contents",
   "toc_cell": false,
   "toc_position": {
    "height": "calc(100% - 180px)",
    "left": "10px",
    "top": "150px",
    "width": "246.1px"
   },
   "toc_section_display": true,
   "toc_window_display": true
  }
 },
 "nbformat": 4,
 "nbformat_minor": 2
}
