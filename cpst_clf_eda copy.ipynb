{
 "cells": [
  {
   "cell_type": "markdown",
   "metadata": {},
   "source": [
    "# ❌ **Cancel Culture** ❌ - **EDA Notebook**"
   ]
  },
  {
   "cell_type": "markdown",
   "metadata": {},
   "source": [
    "**Who?**\n",
    ">* 🏢 **Revenue Management (RM) teams** for hotel groups (corporate, franchise)\n",
    ">\n",
    ">\n",
    ">* 🏨 On-site GMs, Sales, and Ops teams\n",
    "\n",
    "**Why?**\n",
    ">* 💰 **Revenue Management:** \n",
    ">  * Revenue optimization: Right price, right time, right customer\n",
    ">    * Dynamic pricing\n",
    ">    * Distribution channels\n",
    ">    * Pricing per room type\n",
    ">\n",
    ">\n",
    ">* 🤝 **Sales:**\n",
    ">  * Group sales (pickup/wash)\n",
    ">  * BT (performance/company for both GPP and LNR rates)\n",
    ">\n",
    ">\n",
    ">* 🛌 **Rooms Ops:**\n",
    ">  * Forecasting occupancy, arrivals, departures, stay-overs, same-day booking demand, and probability of guest relocation in the case of oversell.\n",
    ">  * Determining staff schedules and periods of high demand\n",
    ">\n",
    ">\n",
    ">* 🍰 ☕ **Food and Beverage:**\n",
    ">  * Ordering food/supplies overall\n",
    ">  * Scheduling staff\n",
    ">  * Determining busy times (breakfast, lunch, dinner)\n",
    ">    * Staffing, specific food/supplies\n",
    "\n",
    "**What?**\n",
    ">* 🧾 Dataset comprised of... \n",
    ">  * 32 different features\n",
    ">    * Detailed explanation of features (and sub-categories, when appropriate) available in Readme\n",
    ">  * Nearly 120,000 reservation records\n",
    ">  * Source cited in Readme\n",
    "\n",
    "❌ **How?**\n",
    ">* Which models/methods? \n",
    ">* Data prep and feature engineering"
   ]
  },
  {
   "cell_type": "markdown",
   "metadata": {},
   "source": [
    "---\n",
    "\n",
    "> **Goal:** To prepare data for time series modeling and forecasting in next notebook.\n",
    ">\n",
    ">\n",
    "> **Purpose:** to explore, clean, and organize.\n",
    ">\n",
    ">\n",
    "> **Process:**\n",
    ">\n",
    ">    * Inspecting data integrity and statistics\n",
    ">    * Splitting data by hotel type (\"City\" vs. \"Resort\")\n",
    ">    * Filling any missing values\n",
    ">    * \n",
    ">    * Save processed data for modeling notebook\n",
    ">\n",
    ">\n",
    "> **Modeling Notebook:**\n",
    ">\n",
    ">    * Performing train/test split\n",
    ">    * \n",
    ">    * Training the model\n",
    ">    * \n",
    ">    * Evaluate performance metrics\n",
    ">    * Provide final recommendations\n",
    "\n",
    "---"
   ]
  },
  {
   "cell_type": "markdown",
   "metadata": {},
   "source": [
    "# ✅ **To-Do List**"
   ]
  },
  {
   "cell_type": "markdown",
   "metadata": {},
   "source": [
    "---\n",
    "\n",
    "**Copy:**\n",
    "- [ ] Imports\n",
    "- [ ] Personal module\n",
    "- [ ] Data\n",
    "- [ ] Starter code from P4P\n",
    "\n",
    "**Links:**\n",
    "- [ ] \n",
    "\n",
    "---"
   ]
  },
  {
   "cell_type": "markdown",
   "metadata": {},
   "source": [
    "# 📦 **Import Packages**"
   ]
  },
  {
   "cell_type": "code",
   "execution_count": null,
   "metadata": {
    "ExecuteTime": {
     "end_time": "2021-08-31T00:53:19.178895Z",
     "start_time": "2021-08-31T00:53:15.859792Z"
    }
   },
   "outputs": [],
   "source": [
    "## Data Handling\n",
    "import pandas as pd\n",
    "import numpy as np\n",
    "from scipy import stats\n",
    "\n",
    "## Visualizations\n",
    "import matplotlib.pyplot as plt\n",
    "import seaborn as sns\n",
    "import plotly.express as px\n",
    "\n",
    "# Modeling - SKLearn\n",
    "from sklearn.linear_model import LogisticRegression\n",
    "from sklearn.preprocessing import StandardScaler, OneHotEncoder, FunctionTransformer\n",
    "from sklearn.model_selection import train_test_split, cross_validate, cross_val_score\n",
    "from sklearn.impute import SimpleImputer\n",
    "from sklearn.compose import ColumnTransformer\n",
    "from sklearn.pipeline import Pipeline\n",
    "from sklearn.dummy import DummyClassifier\n",
    "from sklearn import set_config\n",
    "set_config(display='diagram')\n",
    "\n",
    "\n",
    "## Custom-made Functions\n",
    "from bmc_functions import eda\n",
    "from bmc_functions import classification as clf\n",
    "\n",
    "## Settings\n",
    "plt.style.use('seaborn-talk')\n",
    "pd.set_option('display.max_columns', None)\n",
    "pd.set_option('display.float_format', lambda x: f'{x:,.2f}')\n",
    "pd.set_option('max_rows', 100)\n",
    "%matplotlib inline"
   ]
  },
  {
   "cell_type": "code",
   "execution_count": null,
   "metadata": {
    "ExecuteTime": {
     "end_time": "2021-08-31T00:53:19.304906Z",
     "start_time": "2021-08-31T00:53:19.180897Z"
    }
   },
   "outputs": [],
   "source": [
    "%load_ext autoreload\n",
    "%autoreload 2"
   ]
  },
  {
   "cell_type": "markdown",
   "metadata": {},
   "source": [
    "# 📥 **Read Data**"
   ]
  },
  {
   "cell_type": "code",
   "execution_count": null,
   "metadata": {
    "ExecuteTime": {
     "end_time": "2021-08-31T00:53:19.760159Z",
     "start_time": "2021-08-31T00:53:19.306897Z"
    }
   },
   "outputs": [],
   "source": [
    "## Reading data\n",
    "source = './data/hotel_bookings.csv'\n",
    "data = pd.read_csv(source)\n",
    "data"
   ]
  },
  {
   "cell_type": "markdown",
   "metadata": {},
   "source": [
    "# 🔎 **EDA** 🔍"
   ]
  },
  {
   "cell_type": "code",
   "execution_count": null,
   "metadata": {
    "ExecuteTime": {
     "end_time": "2021-08-31T00:53:19.901901Z",
     "start_time": "2021-08-31T00:53:19.762159Z"
    },
    "scrolled": true
   },
   "outputs": [],
   "source": [
    "## Inspecting percentage of city vs. resort hotels\n",
    "data['hotel'].value_counts(1)"
   ]
  },
  {
   "cell_type": "markdown",
   "metadata": {},
   "source": [
    "## Splitting \"City\" and \"Resort\" "
   ]
  },
  {
   "cell_type": "code",
   "execution_count": null,
   "metadata": {
    "ExecuteTime": {
     "end_time": "2021-08-31T00:53:20.085907Z",
     "start_time": "2021-08-31T00:53:19.903908Z"
    },
    "scrolled": true
   },
   "outputs": [],
   "source": [
    "## Creating subgroup for city hotels\n",
    "subgroup_city = data[data['hotel'] == 'City Hotel']\n",
    "subgroup_city"
   ]
  },
  {
   "cell_type": "code",
   "execution_count": null,
   "metadata": {
    "ExecuteTime": {
     "end_time": "2021-08-31T00:53:20.245127Z",
     "start_time": "2021-08-31T00:53:20.086899Z"
    },
    "scrolled": true
   },
   "outputs": [],
   "source": [
    "## Creating subgroup for resort hotels\n",
    "subgroup_resort = data[data['hotel'] == 'Resort Hotel']\n",
    "subgroup_resort"
   ]
  },
  {
   "cell_type": "markdown",
   "metadata": {},
   "source": [
    "## Reviewing Statistics"
   ]
  },
  {
   "cell_type": "markdown",
   "metadata": {},
   "source": [
    "### City"
   ]
  },
  {
   "cell_type": "code",
   "execution_count": null,
   "metadata": {
    "ExecuteTime": {
     "end_time": "2021-08-31T00:53:20.696535Z",
     "start_time": "2021-08-31T00:53:20.248045Z"
    }
   },
   "outputs": [],
   "source": [
    "eda.report_df(subgroup_city).sort_values('null_sum', ascending=False)"
   ]
  },
  {
   "cell_type": "code",
   "execution_count": null,
   "metadata": {
    "ExecuteTime": {
     "end_time": "2021-08-31T00:53:20.852535Z",
     "start_time": "2021-08-31T00:53:20.699534Z"
    },
    "scrolled": true
   },
   "outputs": [],
   "source": [
    "# Dropping \"company\" column (95% missing values) , \"hotel\" column (only 1 value)\n",
    "subgroup_city.drop(columns = ['company', 'hotel'], inplace=True)\n",
    "subgroup_city"
   ]
  },
  {
   "cell_type": "code",
   "execution_count": null,
   "metadata": {
    "ExecuteTime": {
     "end_time": "2021-08-31T00:53:20.978026Z",
     "start_time": "2021-08-31T00:53:20.854535Z"
    },
    "scrolled": true
   },
   "outputs": [],
   "source": [
    "subgroup_city.columns"
   ]
  },
  {
   "cell_type": "markdown",
   "metadata": {},
   "source": [
    "### Resort"
   ]
  },
  {
   "cell_type": "code",
   "execution_count": null,
   "metadata": {
    "ExecuteTime": {
     "end_time": "2021-08-31T00:53:20.696535Z",
     "start_time": "2021-08-31T00:53:20.248045Z"
    }
   },
   "outputs": [],
   "source": [
    "eda.report_df(subgroup_resort).sort_values('null_sum', ascending=False)"
   ]
  },
  {
   "cell_type": "code",
   "execution_count": null,
   "metadata": {
    "ExecuteTime": {
     "end_time": "2021-08-31T00:53:20.852535Z",
     "start_time": "2021-08-31T00:53:20.699534Z"
    },
    "scrolled": true
   },
   "outputs": [],
   "source": [
    "# Dropping \"company\" column (95% missing values) , \"hotel\" column (only 1 value)\n",
    "subgroup_resort.drop(columns = ['company', 'hotel'], inplace=True)\n",
    "subgroup_resort"
   ]
  },
  {
   "cell_type": "code",
   "execution_count": null,
   "metadata": {
    "ExecuteTime": {
     "end_time": "2021-08-31T00:53:20.978026Z",
     "start_time": "2021-08-31T00:53:20.854535Z"
    },
    "scrolled": true
   },
   "outputs": [],
   "source": [
    "subgroup_resort.columns"
   ]
  },
  {
   "cell_type": "markdown",
   "metadata": {},
   "source": [
    "# **EDA - Features**"
   ]
  },
  {
   "cell_type": "markdown",
   "metadata": {},
   "source": [
    "## reservation_status"
   ]
  },
  {
   "cell_type": "markdown",
   "metadata": {},
   "source": [
    "### City"
   ]
  },
  {
   "cell_type": "code",
   "execution_count": null,
   "metadata": {
    "ExecuteTime": {
     "end_time": "2021-08-31T00:53:21.135811Z",
     "start_time": "2021-08-31T00:53:20.980026Z"
    }
   },
   "outputs": [],
   "source": [
    "subgroup_city['reservation_status'].value_counts(1, dropna=False)"
   ]
  },
  {
   "cell_type": "markdown",
   "metadata": {},
   "source": [
    "### Resort"
   ]
  },
  {
   "cell_type": "code",
   "execution_count": null,
   "metadata": {
    "ExecuteTime": {
     "end_time": "2021-08-31T00:53:21.135811Z",
     "start_time": "2021-08-31T00:53:20.980026Z"
    }
   },
   "outputs": [],
   "source": [
    "subgroup_resort['reservation_status'].value_counts(1, dropna=False)"
   ]
  },
  {
   "cell_type": "markdown",
   "metadata": {},
   "source": [
    "### ❌ Binarizing - New Feature"
   ]
  },
  {
   "cell_type": "markdown",
   "metadata": {},
   "source": [
    "### City"
   ]
  },
  {
   "cell_type": "code",
   "execution_count": null,
   "metadata": {
    "ExecuteTime": {
     "end_time": "2021-08-31T00:53:21.262040Z",
     "start_time": "2021-08-31T00:53:21.137819Z"
    }
   },
   "outputs": [],
   "source": [
    "## Changing no-show values to \"canceled\"\n",
    "subgroup_city['reservation_status'].replace('No-Show', 'Canceled',\n",
    "                                            inplace=True)"
   ]
  },
  {
   "cell_type": "code",
   "execution_count": null,
   "metadata": {
    "ExecuteTime": {
     "end_time": "2021-08-31T00:53:21.390010Z",
     "start_time": "2021-08-31T00:53:21.263008Z"
    }
   },
   "outputs": [],
   "source": [
    "## Confirming the change\n",
    "'No-Show' in subgroup_city['reservation_status']"
   ]
  },
  {
   "cell_type": "code",
   "execution_count": null,
   "metadata": {
    "ExecuteTime": {
     "end_time": "2021-08-31T00:53:21.531033Z",
     "start_time": "2021-08-31T00:53:21.393009Z"
    }
   },
   "outputs": [],
   "source": [
    "## Inspecting the updated target classes\n",
    "subgroup_city['reservation_status'].value_counts(1, dropna=False)"
   ]
  },
  {
   "cell_type": "code",
   "execution_count": null,
   "metadata": {
    "ExecuteTime": {
     "end_time": "2021-08-31T00:53:21.765037Z",
     "start_time": "2021-08-31T00:53:21.642007Z"
    }
   },
   "outputs": [],
   "source": [
    "cond = [subgroup_city['reservation_status'] == 'Check-Out',\n",
    "       subgroup_city['reservation_status'] == 'Canceled']\n",
    "\n",
    "choice = [0, 1]\n",
    "\n",
    "subgroup_city['res_status_binary'] = np.select(cond, choice, 0)\n",
    "subgroup_city['res_status_binary']"
   ]
  },
  {
   "cell_type": "code",
   "execution_count": null,
   "metadata": {
    "ExecuteTime": {
     "end_time": "2021-08-31T00:53:21.876330Z",
     "start_time": "2021-08-31T00:53:21.767006Z"
    }
   },
   "outputs": [],
   "source": [
    "subgroup_city['res_status_binary'].value_counts(1)"
   ]
  },
  {
   "cell_type": "markdown",
   "metadata": {},
   "source": [
    "#### Resort"
   ]
  },
  {
   "cell_type": "code",
   "execution_count": null,
   "metadata": {
    "ExecuteTime": {
     "end_time": "2021-08-31T00:53:21.262040Z",
     "start_time": "2021-08-31T00:53:21.137819Z"
    }
   },
   "outputs": [],
   "source": [
    "## Changing no-show values to \"canceled\"\n",
    "subgroup_resort['reservation_status'].replace('No-Show', 'Canceled',\n",
    "                                            inplace=True)"
   ]
  },
  {
   "cell_type": "code",
   "execution_count": null,
   "metadata": {
    "ExecuteTime": {
     "end_time": "2021-08-31T00:53:21.390010Z",
     "start_time": "2021-08-31T00:53:21.263008Z"
    }
   },
   "outputs": [],
   "source": [
    "## Confirming the change\n",
    "'No-Show' in subgroup_resort['reservation_status']"
   ]
  },
  {
   "cell_type": "code",
   "execution_count": null,
   "metadata": {
    "ExecuteTime": {
     "end_time": "2021-08-31T00:53:21.531033Z",
     "start_time": "2021-08-31T00:53:21.393009Z"
    }
   },
   "outputs": [],
   "source": [
    "## Inspecting the updated target classes\n",
    "subgroup_resort['reservation_status'].value_counts(1, dropna=False)"
   ]
  },
  {
   "cell_type": "code",
   "execution_count": null,
   "metadata": {
    "ExecuteTime": {
     "end_time": "2021-08-31T00:53:21.765037Z",
     "start_time": "2021-08-31T00:53:21.642007Z"
    }
   },
   "outputs": [],
   "source": [
    "cond = [subgroup_resort['reservation_status'] == 'Check-Out',\n",
    "       subgroup_resort['reservation_status'] == 'Canceled']\n",
    "\n",
    "choice = [0, 1]\n",
    "\n",
    "subgroup_resort['res_status_binary'] = np.select(cond, choice, 0)\n",
    "subgroup_resort['res_status_binary']"
   ]
  },
  {
   "cell_type": "code",
   "execution_count": null,
   "metadata": {
    "ExecuteTime": {
     "end_time": "2021-08-31T00:53:21.876330Z",
     "start_time": "2021-08-31T00:53:21.767006Z"
    }
   },
   "outputs": [],
   "source": [
    "subgroup_resort['res_status_binary'].value_counts(1)"
   ]
  },
  {
   "cell_type": "markdown",
   "metadata": {},
   "source": [
    "## is_canceled"
   ]
  },
  {
   "cell_type": "markdown",
   "metadata": {},
   "source": [
    "### City"
   ]
  },
  {
   "cell_type": "code",
   "execution_count": 1,
   "metadata": {
    "ExecuteTime": {
     "end_time": "2021-08-31T01:36:13.857450Z",
     "start_time": "2021-08-31T01:36:13.797425Z"
    }
   },
   "outputs": [
    {
     "ename": "NameError",
     "evalue": "name 'subgroup_city' is not defined",
     "output_type": "error",
     "traceback": [
      "\u001b[1;31m---------------------------------------------------------------------------\u001b[0m",
      "\u001b[1;31mNameError\u001b[0m                                 Traceback (most recent call last)",
      "\u001b[1;32m<ipython-input-1-5e548216217a>\u001b[0m in \u001b[0;36m<module>\u001b[1;34m\u001b[0m\n\u001b[1;32m----> 1\u001b[1;33m \u001b[0msubgroup_city\u001b[0m\u001b[1;33m[\u001b[0m\u001b[1;34m'is_canceled'\u001b[0m\u001b[1;33m]\u001b[0m\u001b[1;33m.\u001b[0m\u001b[0mvalue_counts\u001b[0m\u001b[1;33m(\u001b[0m\u001b[1;36m1\u001b[0m\u001b[1;33m,\u001b[0m \u001b[0mdropna\u001b[0m\u001b[1;33m=\u001b[0m\u001b[1;32mFalse\u001b[0m\u001b[1;33m)\u001b[0m\u001b[1;33m\u001b[0m\u001b[1;33m\u001b[0m\u001b[0m\n\u001b[0m",
      "\u001b[1;31mNameError\u001b[0m: name 'subgroup_city' is not defined"
     ]
    }
   ],
   "source": [
    "subgroup_city['is_canceled'].value_counts(1, dropna=False)"
   ]
  },
  {
   "cell_type": "code",
   "execution_count": 2,
   "metadata": {
    "ExecuteTime": {
     "end_time": "2021-08-31T01:36:14.247113Z",
     "start_time": "2021-08-31T01:36:14.233121Z"
    }
   },
   "outputs": [
    {
     "ename": "NameError",
     "evalue": "name 'plt' is not defined",
     "output_type": "error",
     "traceback": [
      "\u001b[1;31m---------------------------------------------------------------------------\u001b[0m",
      "\u001b[1;31mNameError\u001b[0m                                 Traceback (most recent call last)",
      "\u001b[1;32m<ipython-input-2-6a0a9ce3dfad>\u001b[0m in \u001b[0;36m<module>\u001b[1;34m\u001b[0m\n\u001b[0;32m      1\u001b[0m \u001b[1;31m## Visualizing results\u001b[0m\u001b[1;33m\u001b[0m\u001b[1;33m\u001b[0m\u001b[1;33m\u001b[0m\u001b[0m\n\u001b[1;32m----> 2\u001b[1;33m \u001b[0mfig\u001b[0m\u001b[1;33m,\u001b[0m \u001b[0max\u001b[0m \u001b[1;33m=\u001b[0m \u001b[0mplt\u001b[0m\u001b[1;33m.\u001b[0m\u001b[0msubplots\u001b[0m\u001b[1;33m(\u001b[0m\u001b[1;33m)\u001b[0m\u001b[1;33m\u001b[0m\u001b[1;33m\u001b[0m\u001b[0m\n\u001b[0m\u001b[0;32m      3\u001b[0m subgroup_city['is_canceled'].value_counts(1, dropna=False).plot(kind='barh',\n\u001b[0;32m      4\u001b[0m                                                                 ax=ax)\n\u001b[0;32m      5\u001b[0m \u001b[0max\u001b[0m\u001b[1;33m.\u001b[0m\u001b[0mset_yticklabels\u001b[0m\u001b[1;33m(\u001b[0m\u001b[1;33m[\u001b[0m\u001b[1;34m'Not Cancelled'\u001b[0m\u001b[1;33m,\u001b[0m \u001b[1;34m'Cancelled'\u001b[0m\u001b[1;33m]\u001b[0m\u001b[1;33m)\u001b[0m\u001b[1;33m\u001b[0m\u001b[1;33m\u001b[0m\u001b[0m\n",
      "\u001b[1;31mNameError\u001b[0m: name 'plt' is not defined"
     ]
    }
   ],
   "source": [
    "## Visualizing results\n",
    "fig, ax = plt.subplots()\n",
    "subgroup_city['is_canceled'].value_counts(1, dropna=False).plot(kind='barh',\n",
    "                                                                ax=ax)\n",
    "ax.set_yticklabels(['Not Cancelled', 'Cancelled'])\n",
    "ax.set_xlabel('Percentage')\n",
    "ax.set_ylabel('Status')\n",
    "ax.set_title('Reservation Statuses');"
   ]
  },
  {
   "cell_type": "markdown",
   "metadata": {},
   "source": [
    "### Resort"
   ]
  },
  {
   "cell_type": "code",
   "execution_count": null,
   "metadata": {
    "ExecuteTime": {
     "end_time": "2021-08-31T00:53:22.018016Z",
     "start_time": "2021-08-31T00:53:21.879179Z"
    }
   },
   "outputs": [],
   "source": [
    "subgroup_resort['is_canceled'].value_counts(1, dropna=False)"
   ]
  },
  {
   "cell_type": "code",
   "execution_count": null,
   "metadata": {
    "ExecuteTime": {
     "end_time": "2021-08-31T00:53:22.334954Z",
     "start_time": "2021-08-31T00:53:22.020020Z"
    }
   },
   "outputs": [],
   "source": [
    "## Visualizing results\n",
    "fig, ax = plt.subplots()\n",
    "subgroup_resort['is_canceled'].value_counts(1, dropna=False).plot(kind='barh',\n",
    "                                                                ax=ax)\n",
    "ax.set_yticklabels(['Not Cancelled', 'Cancelled'])\n",
    "ax.set_xlabel('Percentage')\n",
    "ax.set_ylabel('Status')\n",
    "ax.set_title('Reservation Statuses');"
   ]
  },
  {
   "cell_type": "markdown",
   "metadata": {},
   "source": [
    "## lead_time - Fix legend labels!"
   ]
  },
  {
   "cell_type": "markdown",
   "metadata": {},
   "source": [
    "### City"
   ]
  },
  {
   "cell_type": "code",
   "execution_count": null,
   "metadata": {
    "ExecuteTime": {
     "end_time": "2021-08-31T00:53:22.458084Z",
     "start_time": "2021-08-31T00:53:22.336942Z"
    }
   },
   "outputs": [],
   "source": [
    "subgroup_city['lead_time'].describe()"
   ]
  },
  {
   "cell_type": "code",
   "execution_count": null,
   "metadata": {
    "ExecuteTime": {
     "end_time": "2021-08-31T00:53:22.568188Z",
     "start_time": "2021-08-31T00:53:22.459973Z"
    }
   },
   "outputs": [],
   "source": [
    "# fig, ax = plt.subplots(figsize=(5,10))\n",
    "# subgroup_city['lead_time'].plot(kind='box', ax=ax)\n",
    "\n",
    "# ax.set_title('Lead Time');"
   ]
  },
  {
   "cell_type": "code",
   "execution_count": null,
   "metadata": {
    "ExecuteTime": {
     "end_time": "2021-08-31T00:53:23.900046Z",
     "start_time": "2021-08-31T00:53:22.570222Z"
    }
   },
   "outputs": [],
   "source": [
    "fig = px.box(subgroup_city, y=\"lead_time\", title='Overview of Lead Time',\n",
    "             width=600, color='reservation_status',\n",
    "             labels = {'lead_time': 'Lead Time (Days)'},\n",
    "            category_orders = {'lead_time': 'Lead Time (Days)',\n",
    "                               'reservation_status': ['Check-Out', 'Canceled']})\n",
    "\n",
    "fig.show()"
   ]
  },
  {
   "cell_type": "markdown",
   "metadata": {},
   "source": [
    "### Resort"
   ]
  },
  {
   "cell_type": "code",
   "execution_count": null,
   "metadata": {
    "ExecuteTime": {
     "end_time": "2021-08-31T00:53:22.458084Z",
     "start_time": "2021-08-31T00:53:22.336942Z"
    }
   },
   "outputs": [],
   "source": [
    "subgroup_resort['lead_time'].describe()"
   ]
  },
  {
   "cell_type": "code",
   "execution_count": null,
   "metadata": {
    "ExecuteTime": {
     "end_time": "2021-08-31T00:53:22.568188Z",
     "start_time": "2021-08-31T00:53:22.459973Z"
    }
   },
   "outputs": [],
   "source": [
    "# fig, ax = plt.subplots(figsize=(5,10))\n",
    "# subgroup_resort['lead_time'].plot(kind='box', ax=ax)\n",
    "\n",
    "# ax.set_title('Lead Time');"
   ]
  },
  {
   "cell_type": "code",
   "execution_count": null,
   "metadata": {
    "ExecuteTime": {
     "end_time": "2021-08-31T00:53:23.900046Z",
     "start_time": "2021-08-31T00:53:22.570222Z"
    }
   },
   "outputs": [],
   "source": [
    "fig = px.box(subgroup_resort, y=\"lead_time\", title='Overview of Lead Time',\n",
    "             width=600, color='reservation_status',\n",
    "             labels = {'lead_time': 'Lead Time (Days)'},\n",
    "            category_orders = {'lead_time': 'Lead Time (Days)',\n",
    "                               'reservation_status': ['Check-Out', 'Canceled']})\n",
    "\n",
    "fig.show()"
   ]
  },
  {
   "cell_type": "markdown",
   "metadata": {},
   "source": [
    "## Arrival Date as Full Datetime"
   ]
  },
  {
   "cell_type": "markdown",
   "metadata": {},
   "source": [
    "### City"
   ]
  },
  {
   "cell_type": "code",
   "execution_count": null,
   "metadata": {
    "ExecuteTime": {
     "end_time": "2021-08-31T00:53:24.292008Z",
     "start_time": "2021-08-31T00:53:23.902048Z"
    },
    "scrolled": true
   },
   "outputs": [],
   "source": [
    "## Converting from month, day of month, and year to a single datetime column\n",
    "subgroup_city['arrival_date'] = subgroup_city['arrival_date_month'] +' '+ \\\n",
    "                                subgroup_city['arrival_date_day_of_month']\\\n",
    "                                .astype(str) +', '+ \\\n",
    "                                subgroup_city['arrival_date_year'].astype(str)\n",
    "subgroup_city['arrival_date'] = pd.to_datetime(subgroup_city['arrival_date'])\n",
    "subgroup_city['arrival_date']"
   ]
  },
  {
   "cell_type": "code",
   "execution_count": null,
   "metadata": {
    "ExecuteTime": {
     "end_time": "2021-08-31T00:53:25.212235Z",
     "start_time": "2021-08-31T00:53:24.295973Z"
    }
   },
   "outputs": [],
   "source": [
    "fig = px.box(subgroup_city, y=\"lead_time\", title='Lead Times',\n",
    "             width=600, color='reservation_status',\n",
    "             labels = {'lead_time': 'Lead Time (Days)'},\n",
    "            category_orders = {'lead_time': 'Lead Time (Days)',\n",
    "                               'reservation_status': ['Check-Out', 'Canceled']})\n",
    "\n",
    "fig.show()"
   ]
  },
  {
   "cell_type": "code",
   "execution_count": null,
   "metadata": {
    "ExecuteTime": {
     "end_time": "2021-08-31T00:53:26.326913Z",
     "start_time": "2021-08-31T00:53:25.214236Z"
    }
   },
   "outputs": [],
   "source": [
    "fig = px.histogram(subgroup_city,'lead_time', marginal = 'box',\n",
    "                   color='reservation_status',\n",
    "                   labels={'lead_time': 'Lead Time (Days)'}, \n",
    "                   title=\"Lead Times\", nbins=40)\n",
    "fig.update_layout(bargap=0.2)\n",
    "fig.show()"
   ]
  },
  {
   "cell_type": "code",
   "execution_count": null,
   "metadata": {
    "ExecuteTime": {
     "end_time": "2021-08-31T00:53:28.408118Z",
     "start_time": "2021-08-31T00:53:26.328902Z"
    },
    "scrolled": false
   },
   "outputs": [],
   "source": [
    "fig = px.scatter(subgroup_city, x=\"reservation_status\", y=\"lead_time\",\n",
    "                 marginal_y=\"box\",marginal_x=\"histogram\",\n",
    "                 color='reservation_status')\n",
    "fig.show()"
   ]
  },
  {
   "cell_type": "code",
   "execution_count": null,
   "metadata": {
    "ExecuteTime": {
     "end_time": "2021-08-31T00:53:28.565528Z",
     "start_time": "2021-08-31T00:53:28.410084Z"
    }
   },
   "outputs": [],
   "source": [
    "# ## Try again with select features as dimensions\n",
    "# fig = px.scatter_matrix(subgroup_city,\n",
    "# #     dimensions=[\"sepal_width\", \"sepal_length\", \"petal_width\", \"petal_length\"],\n",
    "#     color=\"reservation_status\")\n",
    "# fig.show()"
   ]
  },
  {
   "cell_type": "markdown",
   "metadata": {},
   "source": [
    "### Resort"
   ]
  },
  {
   "cell_type": "code",
   "execution_count": null,
   "metadata": {
    "ExecuteTime": {
     "end_time": "2021-08-31T00:53:24.292008Z",
     "start_time": "2021-08-31T00:53:23.902048Z"
    },
    "scrolled": true
   },
   "outputs": [],
   "source": [
    "## Converting from month, day of month, and year to a single datetime column\n",
    "subgroup_resort['arrival_date'] = subgroup_resort['arrival_date_month'] +' '+ \\\n",
    "                                subgroup_resort['arrival_date_day_of_month']\\\n",
    "                                .astype(str) +', '+ \\\n",
    "                                subgroup_resort['arrival_date_year'].astype(str)\n",
    "subgroup_resort['arrival_date'] = pd.to_datetime(subgroup_resort['arrival_date'])\n",
    "subgroup_resort['arrival_date']"
   ]
  },
  {
   "cell_type": "code",
   "execution_count": null,
   "metadata": {
    "ExecuteTime": {
     "end_time": "2021-08-31T00:53:25.212235Z",
     "start_time": "2021-08-31T00:53:24.295973Z"
    }
   },
   "outputs": [],
   "source": [
    "fig = px.box(subgroup_resort, y=\"lead_time\", title='Lead Times',\n",
    "             width=600, color='reservation_status',\n",
    "             labels = {'lead_time': 'Lead Time (Days)'},\n",
    "            category_orders = {'lead_time': 'Lead Time (Days)',\n",
    "                               'reservation_status': ['Check-Out', 'Canceled']})\n",
    "\n",
    "fig.show()"
   ]
  },
  {
   "cell_type": "code",
   "execution_count": null,
   "metadata": {
    "ExecuteTime": {
     "end_time": "2021-08-31T00:53:26.326913Z",
     "start_time": "2021-08-31T00:53:25.214236Z"
    }
   },
   "outputs": [],
   "source": [
    "fig = px.histogram(subgroup_resort,'lead_time', marginal = 'box',\n",
    "                   color='reservation_status',\n",
    "                   labels={'lead_time': 'Lead Time (Days)'}, \n",
    "                   title=\"Lead Times\", nbins=40)\n",
    "fig.update_layout(bargap=0.2)\n",
    "fig.show()"
   ]
  },
  {
   "cell_type": "code",
   "execution_count": null,
   "metadata": {
    "ExecuteTime": {
     "end_time": "2021-08-31T00:53:28.408118Z",
     "start_time": "2021-08-31T00:53:26.328902Z"
    },
    "scrolled": false
   },
   "outputs": [],
   "source": [
    "fig = px.scatter(subgroup_resort, x=\"reservation_status\", y=\"lead_time\",\n",
    "                 marginal_y=\"box\",marginal_x=\"histogram\",\n",
    "                 color='reservation_status')\n",
    "fig.show()"
   ]
  },
  {
   "cell_type": "code",
   "execution_count": null,
   "metadata": {
    "ExecuteTime": {
     "end_time": "2021-08-31T00:53:28.565528Z",
     "start_time": "2021-08-31T00:53:28.410084Z"
    }
   },
   "outputs": [],
   "source": [
    "# ## Try again with select features as dimensions\n",
    "# fig = px.scatter_matrix(subgroup_resort,\n",
    "# #     dimensions=[\"sepal_width\", \"sepal_length\", \"petal_width\", \"petal_length\"],\n",
    "#     color=\"reservation_status\")\n",
    "# fig.show()"
   ]
  },
  {
   "cell_type": "markdown",
   "metadata": {},
   "source": [
    "## stays_in_weekend_nights"
   ]
  },
  {
   "cell_type": "code",
   "execution_count": null,
   "metadata": {
    "ExecuteTime": {
     "end_time": "2021-08-31T00:53:28.706982Z",
     "start_time": "2021-08-31T00:53:28.567522Z"
    }
   },
   "outputs": [],
   "source": [
    "subgroup_city['stays_in_weekend_nights'].value_counts(1)"
   ]
  },
  {
   "cell_type": "code",
   "execution_count": null,
   "metadata": {
    "ExecuteTime": {
     "end_time": "2021-08-31T00:53:29.753406Z",
     "start_time": "2021-08-31T00:53:28.708984Z"
    }
   },
   "outputs": [],
   "source": [
    "fig = px.histogram(subgroup_city,'stays_in_weekend_nights', marginal = 'box',\n",
    "                   labels={'stays_in_weekend_nights': 'Number of Weekend Nights'}, \n",
    "                   title=\"Weekend Stays\", color='reservation_status', nbins=15)\n",
    "fig.update_layout(bargap=0.2)\n",
    "fig.show()"
   ]
  },
  {
   "cell_type": "markdown",
   "metadata": {},
   "source": [
    "## stays_in_week_nights"
   ]
  },
  {
   "cell_type": "code",
   "execution_count": null,
   "metadata": {
    "ExecuteTime": {
     "end_time": "2021-08-31T00:53:29.896175Z",
     "start_time": "2021-08-31T00:53:29.755684Z"
    }
   },
   "outputs": [],
   "source": [
    "subgroup_city['stays_in_week_nights'].value_counts(1)"
   ]
  },
  {
   "cell_type": "code",
   "execution_count": null,
   "metadata": {
    "ExecuteTime": {
     "end_time": "2021-08-31T00:53:30.038943Z",
     "start_time": "2021-08-31T00:53:29.898206Z"
    },
    "scrolled": true
   },
   "outputs": [],
   "source": [
    "subgroup_city['stays_in_week_nights'].value_counts(1)[:6]"
   ]
  },
  {
   "cell_type": "code",
   "execution_count": null,
   "metadata": {
    "ExecuteTime": {
     "end_time": "2021-08-31T00:56:59.512348Z",
     "start_time": "2021-08-31T00:56:58.330332Z"
    }
   },
   "outputs": [],
   "source": [
    "fig = px.histogram(subgroup_city,'stays_in_week_nights', marginal = 'box',\n",
    "                   labels={'stays_in_week_nights': 'Number of Week Nights'}, \n",
    "                   title=\"Weekday Stays\", color='reservation_status', nbins=40)\n",
    "fig.update_layout(bargap=0.2)\n",
    "fig.show()"
   ]
  },
  {
   "cell_type": "markdown",
   "metadata": {},
   "source": [
    "## Adults"
   ]
  },
  {
   "cell_type": "code",
   "execution_count": null,
   "metadata": {
    "ExecuteTime": {
     "end_time": "2021-08-31T00:53:31.186976Z",
     "start_time": "2021-08-31T00:53:31.018003Z"
    }
   },
   "outputs": [],
   "source": [
    "subgroup_city['adults'].value_counts(1, dropna=False)"
   ]
  },
  {
   "cell_type": "code",
   "execution_count": null,
   "metadata": {
    "ExecuteTime": {
     "end_time": "2021-08-31T00:56:59.512348Z",
     "start_time": "2021-08-31T00:56:58.330332Z"
    }
   },
   "outputs": [],
   "source": [
    "fig = px.histogram(subgroup_city,'adults',\n",
    "                   labels={'adults': 'Number of Adults'},\n",
    "                   title=\"Number of Adults\", color='reservation_status')\n",
    "fig.update_layout(bargap=0.2)\n",
    "fig.show()"
   ]
  },
  {
   "cell_type": "markdown",
   "metadata": {},
   "source": [
    "## Children"
   ]
  },
  {
   "cell_type": "code",
   "execution_count": null,
   "metadata": {
    "ExecuteTime": {
     "end_time": "2021-08-31T00:57:25.634147Z",
     "start_time": "2021-08-31T00:57:25.478309Z"
    }
   },
   "outputs": [],
   "source": [
    "subgroup_city['children'].value_counts(1, dropna=False)"
   ]
  },
  {
   "cell_type": "code",
   "execution_count": null,
   "metadata": {
    "ExecuteTime": {
     "end_time": "2021-08-31T00:58:05.929792Z",
     "start_time": "2021-08-31T00:58:04.612259Z"
    }
   },
   "outputs": [],
   "source": [
    "fig = px.histogram(subgroup_city,'children', marginal = 'box',\n",
    "                   labels={'children': 'Number of Children'}, \n",
    "                   title=\"Number of Children\", color='reservation_status')\n",
    "fig.update_layout(bargap=0.2)\n",
    "fig.show()"
   ]
  },
  {
   "cell_type": "markdown",
   "metadata": {},
   "source": [
    "## babies"
   ]
  },
  {
   "cell_type": "code",
   "execution_count": null,
   "metadata": {
    "ExecuteTime": {
     "end_time": "2021-08-31T00:58:55.491978Z",
     "start_time": "2021-08-31T00:58:55.276981Z"
    }
   },
   "outputs": [],
   "source": [
    "subgroup_city['babies'].value_counts(dropna=False)"
   ]
  },
  {
   "cell_type": "code",
   "execution_count": null,
   "metadata": {
    "ExecuteTime": {
     "end_time": "2021-08-31T01:00:02.918801Z",
     "start_time": "2021-08-31T01:00:01.992619Z"
    }
   },
   "outputs": [],
   "source": [
    "fig = px.histogram(subgroup_city,'babies', marginal = 'box',\n",
    "                   labels={'babies': 'Number of Babies'}, \n",
    "                   title=\"Number of Babies\", color='reservation_status')\n",
    "fig.update_layout(bargap=0.2)\n",
    "fig.show()"
   ]
  },
  {
   "cell_type": "markdown",
   "metadata": {},
   "source": [
    "## meal"
   ]
  },
  {
   "cell_type": "code",
   "execution_count": null,
   "metadata": {
    "ExecuteTime": {
     "end_time": "2021-08-31T01:00:15.171091Z",
     "start_time": "2021-08-31T01:00:15.028354Z"
    }
   },
   "outputs": [],
   "source": [
    "subgroup_city['meal'].value_counts(1, dropna=False)"
   ]
  },
  {
   "cell_type": "code",
   "execution_count": null,
   "metadata": {
    "ExecuteTime": {
     "end_time": "2021-08-31T01:28:46.494450Z",
     "start_time": "2021-08-31T01:28:45.743470Z"
    }
   },
   "outputs": [],
   "source": [
    "fig = px.histogram(subgroup_city,'meal',labels={'meal': 'Types of Meals'}, \n",
    "                   title=\"Dining with Us?\", color='reservation_status')\n",
    "fig.update_layout(bargap=0.2)\n",
    "fig.show()"
   ]
  },
  {
   "cell_type": "markdown",
   "metadata": {},
   "source": [
    "## country"
   ]
  },
  {
   "cell_type": "code",
   "execution_count": null,
   "metadata": {
    "ExecuteTime": {
     "end_time": "2021-08-31T01:01:59.934269Z",
     "start_time": "2021-08-31T01:01:59.766261Z"
    }
   },
   "outputs": [],
   "source": [
    "subgroup_city['country'].value_counts(1, dropna=False)"
   ]
  },
  {
   "cell_type": "code",
   "execution_count": null,
   "metadata": {
    "ExecuteTime": {
     "end_time": "2021-08-31T01:28:46.494450Z",
     "start_time": "2021-08-31T01:28:45.743470Z"
    }
   },
   "outputs": [],
   "source": [
    "fig = px.histogram(subgroup_city,'country',\n",
    "                   labels={'country': 'Country of Origin'}, \n",
    "                   title=\"'Where's Home?'\", color='reservation_status', nbins=15)\n",
    "fig.update_layout(bargap=0.2)\n",
    "fig.show()"
   ]
  },
  {
   "cell_type": "markdown",
   "metadata": {},
   "source": [
    "## market_segment"
   ]
  },
  {
   "cell_type": "code",
   "execution_count": null,
   "metadata": {
    "ExecuteTime": {
     "end_time": "2021-08-31T01:09:05.157124Z",
     "start_time": "2021-08-31T01:09:05.002117Z"
    }
   },
   "outputs": [],
   "source": [
    "subgroup_city['market_segment'].value_counts(1, dropna=False)"
   ]
  },
  {
   "cell_type": "code",
   "execution_count": null,
   "metadata": {
    "ExecuteTime": {
     "end_time": "2021-08-31T01:28:46.494450Z",
     "start_time": "2021-08-31T01:28:45.743470Z"
    }
   },
   "outputs": [],
   "source": [
    "fig = px.histogram(subgroup_city,'market_segment',\n",
    "                   labels={'market_segment': 'Market Segment'}, \n",
    "                   title=\"Segmentation\", color='reservation_status')\n",
    "fig.update_layout(bargap=0.2)\n",
    "fig.show()"
   ]
  },
  {
   "cell_type": "markdown",
   "metadata": {},
   "source": [
    "## distribution_channel"
   ]
  },
  {
   "cell_type": "code",
   "execution_count": null,
   "metadata": {
    "ExecuteTime": {
     "end_time": "2021-08-31T01:10:26.274999Z",
     "start_time": "2021-08-31T01:10:26.091093Z"
    }
   },
   "outputs": [],
   "source": [
    "subgroup_city['distribution_channel'].value_counts(1, dropna=False)"
   ]
  },
  {
   "cell_type": "code",
   "execution_count": null,
   "metadata": {
    "ExecuteTime": {
     "end_time": "2021-08-31T01:28:46.494450Z",
     "start_time": "2021-08-31T01:28:45.743470Z"
    }
   },
   "outputs": [],
   "source": [
    "fig = px.histogram(subgroup_city,'distribution_channel',\n",
    "                   labels={'distribution_channel': 'Channel'}, \n",
    "                   title=\"Distribution Channels\", color='reservation_status')\n",
    "fig.update_layout(bargap=0.2)\n",
    "fig.show()"
   ]
  },
  {
   "cell_type": "markdown",
   "metadata": {},
   "source": [
    "## is_repeated_guest"
   ]
  },
  {
   "cell_type": "code",
   "execution_count": null,
   "metadata": {
    "ExecuteTime": {
     "end_time": "2021-08-31T01:11:29.700004Z",
     "start_time": "2021-08-31T01:11:29.558669Z"
    }
   },
   "outputs": [],
   "source": [
    "subgroup_city['is_repeated_guest'].value_counts(1, dropna=False)"
   ]
  },
  {
   "cell_type": "code",
   "execution_count": null,
   "metadata": {
    "ExecuteTime": {
     "end_time": "2021-08-31T01:28:46.494450Z",
     "start_time": "2021-08-31T01:28:45.743470Z"
    }
   },
   "outputs": [],
   "source": [
    "fig = px.histogram(subgroup_city,'is_repeated_guest',\n",
    "                   labels={'is_repeated_guest': 'Repeat Status'}, \n",
    "                   title=\"Welcome Back!\", color='reservation_status')\n",
    "fig.update_layout(bargap=0.2)\n",
    "fig.show()"
   ]
  },
  {
   "cell_type": "markdown",
   "metadata": {},
   "source": [
    "## previous_cancellations"
   ]
  },
  {
   "cell_type": "code",
   "execution_count": null,
   "metadata": {
    "ExecuteTime": {
     "end_time": "2021-08-31T00:01:35.953872Z",
     "start_time": "2021-08-31T00:01:35.797971Z"
    }
   },
   "outputs": [],
   "source": [
    "subgroup_city['previous_cancellations'].describe()"
   ]
  },
  {
   "cell_type": "code",
   "execution_count": null,
   "metadata": {
    "ExecuteTime": {
     "end_time": "2021-08-31T01:28:46.494450Z",
     "start_time": "2021-08-31T01:28:45.743470Z"
    }
   },
   "outputs": [],
   "source": [
    "fig = px.histogram(subgroup_city,'previous_cancellations',\n",
    "                   labels={'previous_cancellations': 'Number of Cancellations'}, \n",
    "                   title=\"Previous Cancellations\", color='reservation_status')\n",
    "fig.update_layout(bargap=0.2)\n",
    "fig.show()"
   ]
  },
  {
   "cell_type": "markdown",
   "metadata": {},
   "source": [
    "## previous_bookings_not_canceled"
   ]
  },
  {
   "cell_type": "code",
   "execution_count": null,
   "metadata": {
    "ExecuteTime": {
     "end_time": "2021-08-31T01:13:44.495136Z",
     "start_time": "2021-08-31T01:13:44.342331Z"
    },
    "scrolled": false
   },
   "outputs": [],
   "source": [
    "subgroup_city['previous_bookings_not_canceled'].describe()"
   ]
  },
  {
   "cell_type": "code",
   "execution_count": null,
   "metadata": {
    "ExecuteTime": {
     "end_time": "2021-08-31T01:28:46.494450Z",
     "start_time": "2021-08-31T01:28:45.743470Z"
    }
   },
   "outputs": [],
   "source": [
    "fig = px.histogram(subgroup_city,'previous_bookings_not_canceled', marginal = 'box',\n",
    "                   labels={'previous_bookings_not_canceled': 'Number of Prior Stays'}, \n",
    "                   title=\"Prior Stays\", color='reservation_status')\n",
    "fig.update_layout(bargap=0.2)\n",
    "fig.show()"
   ]
  },
  {
   "cell_type": "markdown",
   "metadata": {},
   "source": [
    "##  reserved_room_type"
   ]
  },
  {
   "cell_type": "code",
   "execution_count": null,
   "metadata": {
    "ExecuteTime": {
     "end_time": "2021-08-31T00:01:36.298941Z",
     "start_time": "2021-08-31T00:01:36.142685Z"
    }
   },
   "outputs": [],
   "source": [
    "subgroup_city['reserved_room_type'].value_counts(1, dropna=False)"
   ]
  },
  {
   "cell_type": "code",
   "execution_count": null,
   "metadata": {
    "ExecuteTime": {
     "end_time": "2021-08-31T01:28:46.494450Z",
     "start_time": "2021-08-31T01:28:45.743470Z"
    }
   },
   "outputs": [],
   "source": [
    "fig = px.histogram(subgroup_city,'reserved_room_type',\n",
    "                   labels={'reserved_room_type': 'Room Type'}, \n",
    "                   title=\"Reserved Room Types\", color='reservation_status')\n",
    "fig.update_layout(bargap=0.2)\n",
    "fig.show()"
   ]
  },
  {
   "cell_type": "markdown",
   "metadata": {},
   "source": [
    "## assigned_room_type"
   ]
  },
  {
   "cell_type": "code",
   "execution_count": null,
   "metadata": {
    "ExecuteTime": {
     "end_time": "2021-08-31T01:15:55.771017Z",
     "start_time": "2021-08-31T01:15:55.622378Z"
    }
   },
   "outputs": [],
   "source": [
    "subgroup_city['assigned_room_type'].value_counts(1, dropna=False)"
   ]
  },
  {
   "cell_type": "code",
   "execution_count": null,
   "metadata": {
    "ExecuteTime": {
     "end_time": "2021-08-31T01:28:46.494450Z",
     "start_time": "2021-08-31T01:28:45.743470Z"
    }
   },
   "outputs": [],
   "source": [
    "fig = px.histogram(subgroup_city,'assigned_room_type',\n",
    "                   labels={'assigned_room_type': 'Assigned Room Type'}, \n",
    "                   title=\"Assigned Room Types\", color='reservation_status')\n",
    "fig.update_layout(bargap=0.2)\n",
    "fig.show()"
   ]
  },
  {
   "cell_type": "markdown",
   "metadata": {},
   "source": [
    "## booking_changes"
   ]
  },
  {
   "cell_type": "code",
   "execution_count": null,
   "metadata": {
    "ExecuteTime": {
     "end_time": "2021-08-31T01:16:44.025142Z",
     "start_time": "2021-08-31T01:16:43.879802Z"
    }
   },
   "outputs": [],
   "source": [
    "subgroup_city['booking_changes'].value_counts(1)"
   ]
  },
  {
   "cell_type": "code",
   "execution_count": null,
   "metadata": {
    "ExecuteTime": {
     "end_time": "2021-08-31T01:28:46.494450Z",
     "start_time": "2021-08-31T01:28:45.743470Z"
    }
   },
   "outputs": [],
   "source": [
    "fig = px.histogram(subgroup_city,'booking_changes', marginal = 'box',\n",
    "                   labels={'booking_changes': 'Number of Changes'}, \n",
    "                   title=\"Booking Changes\", color='reservation_status')\n",
    "fig.update_layout(bargap=0.2)\n",
    "fig.show()"
   ]
  },
  {
   "cell_type": "markdown",
   "metadata": {},
   "source": [
    "## deposit_type"
   ]
  },
  {
   "cell_type": "code",
   "execution_count": null,
   "metadata": {
    "ExecuteTime": {
     "end_time": "2021-08-31T01:17:34.740316Z",
     "start_time": "2021-08-31T01:17:34.600152Z"
    }
   },
   "outputs": [],
   "source": [
    "subgroup_city['deposit_type'].value_counts(1, dropna=False)"
   ]
  },
  {
   "cell_type": "code",
   "execution_count": null,
   "metadata": {
    "ExecuteTime": {
     "end_time": "2021-08-31T01:28:46.494450Z",
     "start_time": "2021-08-31T01:28:45.743470Z"
    }
   },
   "outputs": [],
   "source": [
    "fig = px.histogram(subgroup_city,'deposit_type',\n",
    "                   labels={'deposit_type': 'Type'}, \n",
    "                   title=\"Deposit Types\", color='reservation_status')\n",
    "fig.update_layout(bargap=0.2)\n",
    "fig.show()"
   ]
  },
  {
   "cell_type": "markdown",
   "metadata": {},
   "source": [
    "## agent"
   ]
  },
  {
   "cell_type": "code",
   "execution_count": null,
   "metadata": {
    "ExecuteTime": {
     "end_time": "2021-08-31T01:18:41.773920Z",
     "start_time": "2021-08-31T01:18:41.623930Z"
    }
   },
   "outputs": [],
   "source": [
    "subgroup_city['agent'].value_counts(1, dropna=False)"
   ]
  },
  {
   "cell_type": "code",
   "execution_count": null,
   "metadata": {
    "ExecuteTime": {
     "end_time": "2021-08-31T01:28:46.494450Z",
     "start_time": "2021-08-31T01:28:45.743470Z"
    }
   },
   "outputs": [],
   "source": [
    "fig = px.histogram(subgroup_city,'agent', marginal = 'box',\n",
    "                   labels={'agent': 'Booking Agent ID Number'}, \n",
    "                   title=\"Bookings per Agent\", color='reservation_status')\n",
    "fig.update_layout(bargap=0.2)\n",
    "fig.show()"
   ]
  },
  {
   "cell_type": "markdown",
   "metadata": {},
   "source": [
    "## days_in_waiting_list"
   ]
  },
  {
   "cell_type": "code",
   "execution_count": null,
   "metadata": {
    "ExecuteTime": {
     "end_time": "2021-08-31T01:19:52.531890Z",
     "start_time": "2021-08-31T01:19:52.376815Z"
    }
   },
   "outputs": [],
   "source": [
    "subgroup_city['days_in_waiting_list'].describe()"
   ]
  },
  {
   "cell_type": "code",
   "execution_count": null,
   "metadata": {
    "ExecuteTime": {
     "end_time": "2021-08-31T01:28:46.494450Z",
     "start_time": "2021-08-31T01:28:45.743470Z"
    }
   },
   "outputs": [],
   "source": [
    "fig = px.histogram(subgroup_city,'days_in_waiting_list', marginal = 'box',\n",
    "                   labels={'days_in_waiting_list': 'Number of Days'}, \n",
    "                   title=\"Days on Waiting List\", color='reservation_status', nbins=15)\n",
    "fig.update_layout(bargap=0.2)\n",
    "fig.show()"
   ]
  },
  {
   "cell_type": "markdown",
   "metadata": {},
   "source": [
    "## customer_type"
   ]
  },
  {
   "cell_type": "code",
   "execution_count": null,
   "metadata": {
    "ExecuteTime": {
     "end_time": "2021-08-31T01:20:41.491241Z",
     "start_time": "2021-08-31T01:20:41.337211Z"
    }
   },
   "outputs": [],
   "source": [
    "subgroup_city['customer_type'].value_counts(1, dropna=False)"
   ]
  },
  {
   "cell_type": "code",
   "execution_count": null,
   "metadata": {
    "ExecuteTime": {
     "end_time": "2021-08-31T01:28:46.494450Z",
     "start_time": "2021-08-31T01:28:45.743470Z"
    }
   },
   "outputs": [],
   "source": [
    "fig = px.histogram(subgroup_city,'customer_type',\n",
    "                   labels={'customer_type': 'Reservation Type'}, \n",
    "                   title=\"Reservation Types\", color='reservation_status')\n",
    "fig.update_layout(bargap=0.2)\n",
    "fig.show()"
   ]
  },
  {
   "cell_type": "markdown",
   "metadata": {},
   "source": [
    "## adr"
   ]
  },
  {
   "cell_type": "code",
   "execution_count": null,
   "metadata": {
    "ExecuteTime": {
     "end_time": "2021-08-31T01:21:59.189297Z",
     "start_time": "2021-08-31T01:21:59.033713Z"
    },
    "scrolled": true
   },
   "outputs": [],
   "source": [
    "subgroup_city['adr'].describe()"
   ]
  },
  {
   "cell_type": "code",
   "execution_count": null,
   "metadata": {
    "ExecuteTime": {
     "end_time": "2021-08-31T01:28:46.494450Z",
     "start_time": "2021-08-31T01:28:45.743470Z"
    }
   },
   "outputs": [],
   "source": [
    "fig = px.histogram(subgroup_city,'adr', marginal = 'box',\n",
    "                   labels={'adr': 'Rate'}, title=\"Average Daily Rate (ADR)\",\n",
    "                   color='reservation_status', nbins=15)\n",
    "fig.update_layout(bargap=0.2)\n",
    "fig.show()"
   ]
  },
  {
   "cell_type": "markdown",
   "metadata": {},
   "source": [
    "## required_car_parking_spaces"
   ]
  },
  {
   "cell_type": "code",
   "execution_count": null,
   "metadata": {
    "ExecuteTime": {
     "end_time": "2021-08-31T01:26:45.634926Z",
     "start_time": "2021-08-31T01:26:45.499242Z"
    }
   },
   "outputs": [],
   "source": [
    "subgroup_city['required_car_parking_spaces'].value_counts(1, dropna=False)"
   ]
  },
  {
   "cell_type": "code",
   "execution_count": null,
   "metadata": {
    "ExecuteTime": {
     "end_time": "2021-08-31T01:28:46.494450Z",
     "start_time": "2021-08-31T01:28:45.743470Z"
    }
   },
   "outputs": [],
   "source": [
    "fig = px.histogram(subgroup_city,'required_car_parking_spaces',\n",
    "                   labels={'required_car_parking_spaces': 'Number of Cars'}, \n",
    "                   title=\"Number of Cars\", color='reservation_status')\n",
    "fig.update_layout(bargap=0.2)\n",
    "fig.show()"
   ]
  },
  {
   "cell_type": "markdown",
   "metadata": {},
   "source": [
    "## total_of_special_requests"
   ]
  },
  {
   "cell_type": "code",
   "execution_count": null,
   "metadata": {
    "ExecuteTime": {
     "end_time": "2021-08-31T01:27:56.569927Z",
     "start_time": "2021-08-31T01:27:56.373927Z"
    }
   },
   "outputs": [],
   "source": [
    "subgroup_city['total_of_special_requests'].value_counts(1, dropna=False)"
   ]
  },
  {
   "cell_type": "code",
   "execution_count": null,
   "metadata": {
    "ExecuteTime": {
     "end_time": "2021-08-31T01:28:46.494450Z",
     "start_time": "2021-08-31T01:28:45.743470Z"
    }
   },
   "outputs": [],
   "source": [
    "fig = px.histogram(subgroup_city,'total_of_special_requests',\n",
    "                   labels={'total_of_special_requests': 'Number of Requests'}, \n",
    "                   title=\"Number of Special Requests\", color='reservation_status')\n",
    "fig.update_layout(bargap=0.2)\n",
    "fig.show()"
   ]
  },
  {
   "cell_type": "markdown",
   "metadata": {},
   "source": [
    "## reservation_status_date"
   ]
  },
  {
   "cell_type": "code",
   "execution_count": null,
   "metadata": {
    "ExecuteTime": {
     "end_time": "2021-08-31T01:29:05.261350Z",
     "start_time": "2021-08-31T01:29:05.114772Z"
    }
   },
   "outputs": [],
   "source": [
    "subgroup_city['reservation_status_date']"
   ]
  },
  {
   "cell_type": "markdown",
   "metadata": {},
   "source": [
    "# 📅 **Setting Datetime Index**"
   ]
  },
  {
   "cell_type": "code",
   "execution_count": null,
   "metadata": {},
   "outputs": [],
   "source": [
    "city_ts = subgroup_city.set_index('arrival_date')\n",
    "city_ts"
   ]
  },
  {
   "cell_type": "code",
   "execution_count": null,
   "metadata": {},
   "outputs": [],
   "source": [
    "resort_ts = subgroup_resort.set_index('arrival_date')\n",
    "resort_ts"
   ]
  }
 ],
 "metadata": {
  "interpreter": {
   "hash": "980eb18a21052b9c17debf7b5e50bde2e676226d1d1b2f7e2a15b0c620c5c0ea"
  },
  "kernelspec": {
   "display_name": "Python 3",
   "language": "python",
   "name": "python3"
  },
  "language_info": {
   "codemirror_mode": {
    "name": "ipython",
    "version": 3
   },
   "file_extension": ".py",
   "mimetype": "text/x-python",
   "name": "python",
   "nbconvert_exporter": "python",
   "pygments_lexer": "ipython3",
   "version": "3.6.9"
  },
  "toc": {
   "base_numbering": 1,
   "nav_menu": {},
   "number_sections": true,
   "sideBar": true,
   "skip_h1_title": false,
   "title_cell": "Table of Contents",
   "title_sidebar": "Contents",
   "toc_cell": false,
   "toc_position": {
    "height": "calc(100% - 180px)",
    "left": "10px",
    "top": "150px",
    "width": "202.102px"
   },
   "toc_section_display": true,
   "toc_window_display": true
  }
 },
 "nbformat": 4,
 "nbformat_minor": 2
}
