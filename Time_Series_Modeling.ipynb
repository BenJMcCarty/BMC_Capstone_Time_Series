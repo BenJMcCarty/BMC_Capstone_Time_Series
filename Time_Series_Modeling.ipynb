{
 "cells": [
  {
   "cell_type": "markdown",
   "metadata": {},
   "source": [
    "# Hotel Cancel Culture - Time Series Modeling and Forecasting"
   ]
  },
  {
   "cell_type": "markdown",
   "metadata": {},
   "source": [
    "---\n",
    "\n",
    "**Forecasting Cancellations**\n",
    "\n",
    "> * **Goal:** Forecast cancellations for the given hotel data\n",
    "> * **Why:** Predictions only work on preexisting reservations\n",
    "    * *How can we forecast occupancy without depending on preexisting reservations?*\n",
    "> * **How:** Using probabilities generated from prior classification modeling to forecast future cancellations\n",
    "\n",
    "---"
   ]
  },
  {
   "cell_type": "markdown",
   "metadata": {},
   "source": [
    "[Return to workflow](#return)"
   ]
  },
  {
   "cell_type": "markdown",
   "metadata": {},
   "source": [
    "# Imports"
   ]
  },
  {
   "cell_type": "code",
   "execution_count": null,
   "metadata": {
    "ExecuteTime": {
     "end_time": "2021-09-23T01:47:16.592786Z",
     "start_time": "2021-09-23T01:47:16.539664Z"
    }
   },
   "outputs": [],
   "source": [
    "## JNB tool to reload functions when called\n",
    "%load_ext autoreload\n",
    "%autoreload 2"
   ]
  },
  {
   "cell_type": "code",
   "execution_count": null,
   "metadata": {
    "ExecuteTime": {
     "end_time": "2021-09-23T01:47:20.031431Z",
     "start_time": "2021-09-23T01:47:17.658911Z"
    }
   },
   "outputs": [],
   "source": [
    "## Data Handling\n",
    "import pandas as pd\n",
    "import numpy as np\n",
    "\n",
    "## Visualizations\n",
    "import matplotlib as mpl\n",
    "import matplotlib.pyplot as plt\n",
    "import seaborn as sns\n",
    "\n",
    "## Time Series Modeling\n",
    "import statsmodels\n",
    "import statsmodels.tsa.api as tsa\n",
    "from statsmodels.tsa.seasonal import seasonal_decompose\n",
    "\n",
    "import pmdarima as pmd\n",
    "from pmdarima.arima import ndiffs\n",
    "from pmdarima.arima import nsdiffs\n",
    "\n",
    "## Custom-made Functions\n",
    "from bmc_functions import eda\n",
    "from bmc_functions import time_series_modeling as tsm"
   ]
  },
  {
   "cell_type": "code",
   "execution_count": null,
   "metadata": {
    "ExecuteTime": {
     "end_time": "2021-09-23T01:47:20.155399Z",
     "start_time": "2021-09-23T01:47:20.033414Z"
    }
   },
   "outputs": [],
   "source": [
    "## Settings\n",
    "%matplotlib inline\n",
    "plt.style.use('seaborn-talk')\n",
    "pd.set_option('display.max_columns', None)\n",
    "pd.set_option('display.float_format', lambda x: f'{x:,.2f}')\n",
    "pd.set_option('max_rows', 100)"
   ]
  },
  {
   "cell_type": "markdown",
   "metadata": {},
   "source": [
    "## Reminder on how to use ihelp function"
   ]
  },
  {
   "cell_type": "code",
   "execution_count": null,
   "metadata": {
    "ExecuteTime": {
     "end_time": "2021-09-23T01:47:20.280398Z",
     "start_time": "2021-09-23T01:47:20.158400Z"
    }
   },
   "outputs": [],
   "source": [
    "# import fsds as fs"
   ]
  },
  {
   "cell_type": "code",
   "execution_count": null,
   "metadata": {
    "ExecuteTime": {
     "end_time": "2021-09-23T01:47:20.391398Z",
     "start_time": "2021-09-23T01:47:20.283399Z"
    },
    "scrolled": true
   },
   "outputs": [],
   "source": [
    "# fs.ihelp(tsm.ts_split, file_location=True)"
   ]
  },
  {
   "cell_type": "markdown",
   "metadata": {},
   "source": [
    "# Reading Data"
   ]
  },
  {
   "cell_type": "code",
   "execution_count": null,
   "metadata": {
    "ExecuteTime": {
     "end_time": "2021-09-23T01:47:20.703434Z",
     "start_time": "2021-09-23T01:47:20.394404Z"
    }
   },
   "outputs": [],
   "source": [
    "## Reading data\n",
    "source = './data/data_probs.pickle'\n",
    "data = pd.read_pickle(source, compression = \"gzip\")\n",
    "data"
   ]
  },
  {
   "cell_type": "code",
   "execution_count": null,
   "metadata": {
    "ExecuteTime": {
     "end_time": "2021-09-23T01:56:13.825099Z",
     "start_time": "2021-09-23T01:56:13.608098Z"
    }
   },
   "outputs": [],
   "source": [
    "## Setting Datetime index\n",
    "data = data.set_index(data['arrival_date'])\n",
    "data"
   ]
  },
  {
   "cell_type": "code",
   "execution_count": null,
   "metadata": {
    "ExecuteTime": {
     "end_time": "2021-09-23T01:56:14.896233Z",
     "start_time": "2021-09-23T01:56:14.796224Z"
    }
   },
   "outputs": [],
   "source": [
    "# ts_sum = data['is_canceled'].resample('D').sum()\n",
    "# display(ts_sum)\n",
    "# ts_sum.plot();"
   ]
  },
  {
   "cell_type": "code",
   "execution_count": null,
   "metadata": {
    "ExecuteTime": {
     "end_time": "2021-09-23T01:56:15.528249Z",
     "start_time": "2021-09-23T01:56:15.164250Z"
    }
   },
   "outputs": [],
   "source": [
    "## Resampling for average daily cancellations\n",
    "ts_avg = data['is_canceled'].resample('D').mean()\n",
    "display(ts_avg)\n",
    "ts_avg.plot();"
   ]
  },
  {
   "cell_type": "code",
   "execution_count": null,
   "metadata": {
    "ExecuteTime": {
     "end_time": "2021-09-23T01:56:16.745504Z",
     "start_time": "2021-09-23T01:56:16.619379Z"
    }
   },
   "outputs": [],
   "source": [
    "ts_avg = ts_avg.loc[\"2016\":'2017']\n",
    "ts_avg"
   ]
  },
  {
   "cell_type": "code",
   "execution_count": null,
   "metadata": {
    "ExecuteTime": {
     "end_time": "2021-09-23T01:56:26.919969Z",
     "start_time": "2021-09-23T01:56:26.507933Z"
    },
    "code_folding": []
   },
   "outputs": [],
   "source": [
    "## Creating train/test split\n",
    "split_dict = tsm.ts_split(ts_avg, show_vis=True)"
   ]
  },
  {
   "cell_type": "code",
   "execution_count": null,
   "metadata": {
    "ExecuteTime": {
     "end_time": "2021-09-23T01:56:29.741828Z",
     "start_time": "2021-09-23T01:56:29.626799Z"
    }
   },
   "outputs": [],
   "source": [
    "split_dict['train']"
   ]
  },
  {
   "cell_type": "code",
   "execution_count": null,
   "metadata": {
    "ExecuteTime": {
     "end_time": "2021-09-23T01:57:05.995435Z",
     "start_time": "2021-09-23T01:57:05.163433Z"
    }
   },
   "outputs": [],
   "source": [
    "decomp = tsa.seasonal_decompose(split_dict['train'].loc['03-2016':'06-2016'])\n",
    "# decomp.seasonal.plot(figsize = (15,4));\n",
    "decomp.plot();"
   ]
  },
  {
   "cell_type": "code",
   "execution_count": null,
   "metadata": {
    "ExecuteTime": {
     "end_time": "2021-09-23T01:58:56.675364Z",
     "start_time": "2021-09-23T01:58:56.539365Z"
    }
   },
   "outputs": [],
   "source": [
    "## Pre-determining differencing values\n",
    "\n",
    "n_d = ndiffs(split_dict['train'])\n",
    "n_D = nsdiffs(split_dict['train'], m=7)\n",
    "\n",
    "display(n_d, n_D)"
   ]
  },
  {
   "cell_type": "code",
   "execution_count": null,
   "metadata": {
    "ExecuteTime": {
     "end_time": "2021-09-23T02:11:54.470580Z",
     "start_time": "2021-09-23T02:11:17.854586Z"
    },
    "scrolled": false
   },
   "outputs": [],
   "source": [
    "results = tsm.ts_modeling_workflow(ts_avg, m=7, show_vis=True);"
   ]
  },
  {
   "cell_type": "code",
   "execution_count": null,
   "metadata": {
    "ExecuteTime": {
     "end_time": "2021-09-23T02:09:42.283671Z",
     "start_time": "2021-09-23T02:09:42.156672Z"
    }
   },
   "outputs": [],
   "source": [
    "results.keys()"
   ]
  },
  {
   "cell_type": "code",
   "execution_count": null,
   "metadata": {
    "ExecuteTime": {
     "end_time": "2021-09-23T02:09:50.156365Z",
     "start_time": "2021-09-23T02:09:49.820363Z"
    }
   },
   "outputs": [],
   "source": [
    "results['model_visuals']['train']['vis']"
   ]
  },
  {
   "cell_type": "markdown",
   "metadata": {},
   "source": [
    "| --- **Return to workflow** --- | <a name = return></a>"
   ]
  },
  {
   "cell_type": "markdown",
   "metadata": {},
   "source": [
    "---\n",
    "\n",
    "- Determined it's too complicated to use the probabilities for TSM for now\n",
    "    - instead resampled data and generated the average daily cancellations\n",
    "\n",
    "- Determined \"m\" via seasonal decomp (also, think about the nature of the data - patterns emerge over the course of a week and repeat).\n",
    "\n",
    "\n",
    "- Took note of several issues with workflow function\n",
    "    - show_vis inconsistent\n",
    "    - results are in a deeply nested dictionary\n",
    "        - simplify?\n",
    "    - no progress-tracking print statements\n",
    "\n",
    "---"
   ]
  },
  {
   "cell_type": "code",
   "execution_count": null,
   "metadata": {},
   "outputs": [],
   "source": []
  }
 ],
 "metadata": {
  "kernelspec": {
   "display_name": "Python [conda env:test_intel_env]",
   "language": "python",
   "name": "conda-env-test_intel_env-py"
  },
  "language_info": {
   "codemirror_mode": {
    "name": "ipython",
    "version": 3
   },
   "file_extension": ".py",
   "mimetype": "text/x-python",
   "name": "python",
   "nbconvert_exporter": "python",
   "pygments_lexer": "ipython3",
   "version": "3.8.5"
  },
  "toc": {
   "base_numbering": 1,
   "nav_menu": {},
   "number_sections": true,
   "sideBar": true,
   "skip_h1_title": false,
   "title_cell": "Table of Contents",
   "title_sidebar": "Contents",
   "toc_cell": false,
   "toc_position": {
    "height": "calc(100% - 180px)",
    "left": "10px",
    "top": "150px",
    "width": "165px"
   },
   "toc_section_display": true,
   "toc_window_display": true
  }
 },
 "nbformat": 4,
 "nbformat_minor": 2
}
