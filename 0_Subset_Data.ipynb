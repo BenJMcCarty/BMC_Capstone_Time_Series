{
 "cells": [
  {
   "cell_type": "markdown",
   "id": "7aafa147-1414-4a3c-8884-17af1fed40f3",
   "metadata": {},
   "source": [
    "# Pre-Pre-Processing\n",
    "\n",
    "Before I start performing any EDA or modeling, I will pre-emptively split my data to have a separate training set of data.\n",
    "\n",
    "Since the data consists of temporal data (hotel reservations across multiple years), I will split the data into two groups based on two datetime features: Booking Date and the Arrival date.\n",
    "\n",
    "---\n",
    "\n",
    "# Consulting ChatGPT\n",
    "\n",
    "I asked ChatGPT to help me decide if one feature would be better than the other. It's responses are as follows:\n",
    "\n",
    "## Booking Date\n",
    "\n",
    "### Pros:\n",
    "> * *Forecasting Lead Time:* Splitting by booking date allows you to model the lead time between booking and arrival, which is valuable for forecasting future demand well in advance.\n",
    "> * *Real-world Scenario Modeling:* This approach mirrors real-world scenarios more closely, where predictions are made as bookings occur, regardless of the future arrival date.\n",
    "> * *Dynamic Pricing and Revenue Management:* Particularly useful for applications in dynamic pricing and revenue management, where understanding booking patterns ahead of time can inform strategic decisions.\n",
    "\n",
    "### Cons:\n",
    "> * *Increased Complexity:* The time gap between booking and arrival dates introduces additional complexity, as you need to account for changes over time that could affect the stay (e.g., cancellations, modifications).\n",
    "\n",
    "\n",
    "\n",
    "## Arrival Date\n",
    "\n",
    "### Pros:\n",
    "> * *Cleaner Data Relationships:* Utilizing the arrival date might result in cleaner, more straightforward modeling, as it directly ties the prediction to the period of service or product consumption.\n",
    "> * *Seasonality and Trend Analysis:* Easier to model seasonal trends and effects, as the arrival date directly corresponds to the period being analyzed.\n",
    "> * *Accuracy in Performance Metrics:* Predictions based on arrival date can be more closely aligned with actual occupancy and revenue, potentially improving model accuracy in terms of performance metrics.\n",
    "\n",
    "### Cons:\n",
    "\n",
    "> * *Reduced Forecasting Horizon:* The model may be less effective at predicting bookings well in advance since it's oriented around the arrival date. This could limit its usefulness for long-term planning.\n",
    "> * *Possible Lag in Actionable Insights:* May not provide as much lead time for implementing strategies based on the predictions, such as staffing or promotional offers, since the focus is on the period closer to the actual stay.\n",
    "\n",
    "---\n",
    "\n",
    "# Consultation Conclusions\n",
    "\n",
    "After considering ChatGPT's suggestions and insights, I will take a more greedy approach and create separate datasets for both the booking and arrival dates. This will give me more flexibility when modeling as I will have different time perspectives to utilize for different purposes (e.g., future forecasting vs. analyzing actualized performance).\n",
    "\n",
    "---"
   ]
  },
  {
   "cell_type": "markdown",
   "id": "d0b1760a-454d-4b07-b3fc-7249f95e3795",
   "metadata": {},
   "source": [
    "# Date Preparation\n",
    "\n",
    "Before I can split the datasets, I need to perform some slight feature engineering. The source datasets do not have an exact datetime feature for the arrival date, only for the booking date. I will use the separate Year, Month, and Day of Month features to create an `Arrival_Date` feature, then use this feature for splitting my data."
   ]
  },
  {
   "cell_type": "code",
   "execution_count": null,
   "id": "c15bd256-e7bb-4caa-9d37-ad1707026556",
   "metadata": {},
   "outputs": [],
   "source": [
    "import pandas as pd"
   ]
  },
  {
   "cell_type": "code",
   "execution_count": null,
   "id": "cb76b4bf-c5a0-4b83-a131-aaacaafb1d63",
   "metadata": {},
   "outputs": [],
   "source": [
    "## Maintaing separate hotel data\n",
    "\n",
    "hotel_number = '1'\n",
    "# hotel_number = '2'\n",
    "\n",
    "path = f'./data/H{hotel_number}.parquet'\n",
    "df_data = pd.read_parquet(path)\n",
    "\n",
    "df_data.head()"
   ]
  },
  {
   "cell_type": "code",
   "execution_count": null,
   "id": "17868e04-8a42-4b50-99c9-b5bdd597c3b4",
   "metadata": {},
   "outputs": [],
   "source": [
    "## Convert Arrival columns to strings\n",
    "\n",
    "arrival_date_cols = ['ArrivalDateYear', 'ArrivalDateMonth', 'ArrivalDateDayOfMonth']\n",
    "\n",
    "arrival_date_cols_str = df_data[arrival_date_cols].astype(str)\n",
    "arrival_date_cols_str.head()"
   ]
  },
  {
   "cell_type": "code",
   "execution_count": null,
   "id": "ccf1aaff-5d06-4d1c-b843-ff902b832e4b",
   "metadata": {},
   "outputs": [],
   "source": [
    "## Create new column of strings formatted as YYYY-MM-DD, then convert to datetime\n",
    "\n",
    "arrival_date_full_str = arrival_date_cols_str['ArrivalDateYear'] + '-' + \\\n",
    "                        arrival_date_cols_str['ArrivalDateMonth'] + '-' + \\\n",
    "                        arrival_date_cols_str['ArrivalDateDayOfMonth']\n",
    "\n",
    "arrival_date_dt = pd.to_datetime(arrival_date_full_str, yearfirst = True)\n",
    "arrival_date_dt.name = 'Arrival_Date'\n",
    "arrival_date_dt"
   ]
  },
  {
   "cell_type": "code",
   "execution_count": null,
   "id": "6b3c4f39-86be-4ccd-89b9-4f0574357cec",
   "metadata": {},
   "outputs": [],
   "source": [
    "## Concatenate new column\n",
    "df_data = pd.concat([df_data, arrival_date_dt], axis = 1)\n",
    "df_data.head()"
   ]
  },
  {
   "cell_type": "code",
   "execution_count": null,
   "id": "d0707a10-ff20-44f8-848d-67b2e1402e48",
   "metadata": {},
   "outputs": [],
   "source": [
    "df_data = df_data.drop(columns=[ 'ArrivalDateYear', 'ArrivalDateMonth', 'ArrivalDateDayOfMonth'])\n",
    "df_data"
   ]
  },
  {
   "cell_type": "code",
   "execution_count": null,
   "id": "d2088034-85c6-4bd2-a4b4-6a3e9c0691f9",
   "metadata": {},
   "outputs": [],
   "source": [
    "## Create timedelta series based on number of weekday/end nights.\n",
    "timedelta_wknd = pd.to_timedelta(df_data.loc[:, 'StaysInWeekendNights'], unit = 'D')\n",
    "timedelta_wk = pd.to_timedelta(df_data.loc[:, 'StaysInWeekNights'], unit = 'D')"
   ]
  },
  {
   "cell_type": "code",
   "execution_count": null,
   "id": "5d410c61-cca0-42dd-bb14-43eadf3d5ec3",
   "metadata": {},
   "outputs": [],
   "source": [
    "## Calculate the departure date by adding the timedeltas to the arrival date\n",
    "departure_date = df_data.loc[:, 'Arrival_Date'] + timedelta_wk + timedelta_wknd\n",
    "departure_date.name = 'Departure_Date'\n",
    "departure_date"
   ]
  },
  {
   "cell_type": "code",
   "execution_count": null,
   "id": "dab89be4-3e06-4574-85b0-ead8b0750178",
   "metadata": {},
   "outputs": [],
   "source": [
    "## Concatenate with original dataframe\n",
    "df_data = pd.concat([df_data, departure_date], axis = 1)\n",
    "df_data.head()"
   ]
  },
  {
   "cell_type": "code",
   "execution_count": null,
   "id": "2736906b-ad8b-4ced-92a4-bfcb2069fd91",
   "metadata": {},
   "outputs": [],
   "source": [
    "df_data = df_data.drop(columns=['StaysInWeekendNights', 'StaysInWeekNights'])\n",
    "df_data"
   ]
  },
  {
   "cell_type": "code",
   "execution_count": null,
   "id": "2f3399ac-69a1-4b4f-b022-346746c05e3c",
   "metadata": {},
   "outputs": [],
   "source": [
    "leadtime_timedelta = pd.to_timedelta(df_data['LeadTime'], unit = 'D')\n",
    "leadtime_timedelta"
   ]
  },
  {
   "cell_type": "code",
   "execution_count": null,
   "id": "c62e5cb4-e4da-4099-ba0c-0ef486299e88",
   "metadata": {},
   "outputs": [],
   "source": [
    "df_data['Booking_Date'] = df_data['Arrival_Date'] - leadtime_timedelta\n",
    "df_data['Booking_Date']"
   ]
  },
  {
   "cell_type": "code",
   "execution_count": null,
   "id": "a7292810-a129-4c7b-8813-d652c8a0c8b5",
   "metadata": {},
   "outputs": [],
   "source": [
    "# df_data = df_data.drop(columns = ['LeadTime']) ## Maintain for future modeling\n",
    "\n",
    "df_data.head(10)"
   ]
  },
  {
   "cell_type": "code",
   "execution_count": null,
   "id": "cfc3b6dd-fe08-46ac-88b0-161a6c6b93d4",
   "metadata": {},
   "outputs": [],
   "source": [
    "df_data['Arrival_Date'].max() - df_data['Arrival_Date'].min()"
   ]
  },
  {
   "cell_type": "code",
   "execution_count": null,
   "id": "d4a24a5d-1d47-4c6a-b73c-c2ac584256b2",
   "metadata": {},
   "outputs": [],
   "source": [
    "df_data['Booking_Date'].max() - df_data['Booking_Date'].min()"
   ]
  },
  {
   "cell_type": "markdown",
   "id": "3190b7a5-c83d-46b0-bad7-6b522e6d000d",
   "metadata": {},
   "source": [
    "# Subset with 10% Threshold for Arrival_Date and Booking_Date\n",
    "\n",
    "Despite the sizable number of rows for each hotel's dataset, the Arrival_Date feature is limited in scope - covering a little over 2 years' worth of data. This limited time range restricts the possible forecasting windows, particularly as I intend to reserve a certain number of days for the validation sets.\n",
    "\n",
    "My compromise between availability and integrity is to subset each hotel's separate datasets by 10% of the total dataset. This will preserve the size of the original data's timeframe while providing a reasonable time window for future forecasting."
   ]
  },
  {
   "cell_type": "code",
   "execution_count": null,
   "id": "b6f1fbb6-9eee-45bc-81dc-ed9b17dc91ba",
   "metadata": {},
   "outputs": [],
   "source": [
    "def split_and_save_dataset_by_percentage(df, date_column, hotel_number, percentage=10, save_path='./data'):\n",
    "    \"\"\"\n",
    "    Split the dataset into training and holdout sets based on a specified percentage of the total rows\n",
    "    and save them. The holdout set will contain the last 'percentage' of rows based on the datetime column.\n",
    "    \"\"\"\n",
    "    \n",
    "    # Work on a copy of the DataFrame to preserve the original data\n",
    "    df_copy = df.copy()\n",
    "    \n",
    "    # Ensure the date column is in datetime format and set it as the index\n",
    "    df_copy[date_column] = pd.to_datetime(df_copy[date_column])\n",
    "    df_copy = df_copy.sort_values(by=[date_column])\n",
    "\n",
    "    # Calculate the index to split on: last 'percentage' of rows\n",
    "    split_idx = int(len(df_copy) * (1 - (percentage / 100)))\n",
    "\n",
    "    # Split the dataset and reset index for future use\n",
    "    train_df = df_copy.iloc[:split_idx, :]\n",
    "    train_df = train_df.reset_index(drop=True)\n",
    "    \n",
    "    holdout_df = df_copy.iloc[split_idx:, :]\n",
    "    holdout_df = holdout_df.reset_index(drop=True)\n",
    "\n",
    "    # No need to reset index if you want to keep the datetime column in its place\n",
    "    # Define file paths\n",
    "    training_path = f'{save_path}/H{hotel_number}_Training.parquet'\n",
    "    holdout_path = f'{save_path}/H{hotel_number}_Validation.parquet'\n",
    "\n",
    "    # Save the datasets\n",
    "    train_df.to_parquet(training_path, engine='pyarrow', compression='brotli')\n",
    "    holdout_df.to_parquet(holdout_path, engine='pyarrow', compression='brotli')\n"
   ]
  },
  {
   "cell_type": "code",
   "execution_count": null,
   "id": "f6bae9bf-e0c1-496e-98d9-919a2126911e",
   "metadata": {},
   "outputs": [],
   "source": [
    "date_columns = ['Arrival_Date', 'Booking_Date']\n",
    "\n",
    "for date_column in date_columns:\n",
    "    split_and_save_dataset_by_percentage(df_data, date_column, hotel_number, 10, f'./data/Datasets_for_{date_column}')\n"
   ]
  },
  {
   "cell_type": "markdown",
   "id": "bfead6f7-94fc-4bae-910c-300b8752ce89",
   "metadata": {},
   "source": [
    "# Results\n",
    "\n",
    "After running this code for both of the hotel datasets, I now have separate training and validation datasets for each of the hotels' Arrival_Date and Booking_Date features. The resulting datasets will be effective for modeling and forecasting in later notebooks."
   ]
  },
  {
   "cell_type": "code",
   "execution_count": null,
   "id": "f112ab47-9da7-44c2-b02e-c6611c686eff",
   "metadata": {},
   "outputs": [],
   "source": []
  }
 ],
 "metadata": {
  "kernelspec": {
   "display_name": "Python (dojo-env)",
   "language": "python",
   "name": "dojo-env"
  },
  "language_info": {
   "codemirror_mode": {
    "name": "ipython",
    "version": 3
   },
   "file_extension": ".py",
   "mimetype": "text/x-python",
   "name": "python",
   "nbconvert_exporter": "python",
   "pygments_lexer": "ipython3",
   "version": "3.10.10"
  },
  "widgets": {
   "application/vnd.jupyter.widget-state+json": {
    "state": {},
    "version_major": 2,
    "version_minor": 0
   }
  }
 },
 "nbformat": 4,
 "nbformat_minor": 5
}
