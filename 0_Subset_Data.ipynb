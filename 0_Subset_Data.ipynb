{
 "cells": [
  {
   "cell_type": "markdown",
   "id": "7aafa147-1414-4a3c-8884-17af1fed40f3",
   "metadata": {},
   "source": [
    "# Pre-Pre-Processing\n",
    "\n",
    "Before I start performing any EDA or modeling, I will pre-emptively split my data to have a separate training set of data.\n",
    "\n",
    "Since the data consists of temporal data (hotel reservations across multiple years), I will split the data into two groups based on two datetime features: Booking Date and the Arrival date.\n",
    "\n",
    "---\n",
    "\n",
    "# Consulting ChatGPT\n",
    "\n",
    "I asked ChatGPT to help me decide if one feature would be better than the other. It's responses are as follows:\n",
    "\n",
    "## Booking Date\n",
    "\n",
    "### Pros:\n",
    "> * *Forecasting Lead Time:* Splitting by booking date allows you to model the lead time between booking and arrival, which is valuable for forecasting future demand well in advance.\n",
    "> * *Real-world Scenario Modeling:* This approach mirrors real-world scenarios more closely, where predictions are made as bookings occur, regardless of the future arrival date.\n",
    "> * *Dynamic Pricing and Revenue Management:* Particularly useful for applications in dynamic pricing and revenue management, where understanding booking patterns ahead of time can inform strategic decisions.\n",
    "\n",
    "### Cons:\n",
    "> * *Increased Complexity:* The time gap between booking and arrival dates introduces additional complexity, as you need to account for changes over time that could affect the stay (e.g., cancellations, modifications).\n",
    "\n",
    "\n",
    "\n",
    "## Arrival Date\n",
    "\n",
    "### Pros:\n",
    "> * *Cleaner Data Relationships:* Utilizing the arrival date might result in cleaner, more straightforward modeling, as it directly ties the prediction to the period of service or product consumption.\n",
    "> * *Seasonality and Trend Analysis:* Easier to model seasonal trends and effects, as the arrival date directly corresponds to the period being analyzed.\n",
    "> * *Accuracy in Performance Metrics:* Predictions based on arrival date can be more closely aligned with actual occupancy and revenue, potentially improving model accuracy in terms of performance metrics.\n",
    "\n",
    "### Cons:\n",
    "\n",
    "> * *Reduced Forecasting Horizon:* The model may be less effective at predicting bookings well in advance since it's oriented around the arrival date. This could limit its usefulness for long-term planning.\n",
    "> * *Possible Lag in Actionable Insights:* May not provide as much lead time for implementing strategies based on the predictions, such as staffing or promotional offers, since the focus is on the period closer to the actual stay.\n",
    "\n",
    "---\n",
    "\n",
    "# Consultation Conclusions\n",
    "\n",
    "After considering ChatGPT's suggestions and insights, I will take a more greedy approach and create separate datasets for both the booking and arrival dates. This will give me more flexibility when modeling as I will have different time perspectives to utilize for different purposes (e.g., future forecasting vs. analyzing actualized performance).\n",
    "\n",
    "---"
   ]
  },
  {
   "cell_type": "markdown",
   "id": "d0b1760a-454d-4b07-b3fc-7249f95e3795",
   "metadata": {},
   "source": [
    "# Date Preparation\n",
    "\n",
    "Before I can split the datasets, I need to perform some slight feature engineering. The source datasets do not have an exact datetime feature for the arrival date, only for the booking date. I will use the separate Year, Month, and Day of Month features to create an `Arrival_Date` feature, then use this feature for splitting my data."
   ]
  },
  {
   "cell_type": "code",
   "execution_count": 1,
   "id": "6efb3fdd",
   "metadata": {},
   "outputs": [],
   "source": [
    "%load_ext autoreload\n",
    "%autoreload 2"
   ]
  },
  {
   "cell_type": "code",
   "execution_count": 2,
   "id": "c15bd256-e7bb-4caa-9d37-ad1707026556",
   "metadata": {
    "execution": {
     "iopub.execute_input": "2024-03-23T14:07:31.610561Z",
     "iopub.status.busy": "2024-03-23T14:07:31.610561Z",
     "iopub.status.idle": "2024-03-23T14:07:39.891946Z",
     "shell.execute_reply": "2024-03-23T14:07:39.891946Z",
     "shell.execute_reply.started": "2024-03-23T14:07:31.610561Z"
    }
   },
   "outputs": [],
   "source": [
    "from bmc_functions import db_utils\n",
    "import pandas as pd"
   ]
  },
  {
   "cell_type": "code",
   "execution_count": 3,
   "id": "cb76b4bf-c5a0-4b83-a131-aaacaafb1d63",
   "metadata": {
    "execution": {
     "iopub.execute_input": "2024-03-23T14:07:39.897278Z",
     "iopub.status.busy": "2024-03-23T14:07:39.897278Z",
     "iopub.status.idle": "2024-03-23T14:07:40.084426Z",
     "shell.execute_reply": "2024-03-23T14:07:40.084426Z",
     "shell.execute_reply.started": "2024-03-23T14:07:39.897278Z"
    }
   },
   "outputs": [],
   "source": [
    "### OLD DATA - Retaining for debugging\n",
    "\n",
    "# ## Maintaing separate hotel data\n",
    "\n",
    "# hotel_number = '1'\n",
    "# # hotel_number = '2'\n",
    "\n",
    "# path = f'./data/H{hotel_number}.parquet'\n",
    "# df_data = pd.read_parquet(path)\n",
    "\n",
    "# df_data.head()"
   ]
  },
  {
   "cell_type": "markdown",
   "id": "6aa19048",
   "metadata": {},
   "source": [
    "# Read Data from DuckDB"
   ]
  },
  {
   "cell_type": "code",
   "execution_count": 16,
   "id": "a36a5510",
   "metadata": {},
   "outputs": [
    {
     "data": {
      "text/html": [
       "<div>\n",
       "<style scoped>\n",
       "    .dataframe tbody tr th:only-of-type {\n",
       "        vertical-align: middle;\n",
       "    }\n",
       "\n",
       "    .dataframe tbody tr th {\n",
       "        vertical-align: top;\n",
       "    }\n",
       "\n",
       "    .dataframe thead th {\n",
       "        text-align: right;\n",
       "    }\n",
       "</style>\n",
       "<table border=\"1\" class=\"dataframe\">\n",
       "  <thead>\n",
       "    <tr style=\"text-align: right;\">\n",
       "      <th></th>\n",
       "      <th>IsCanceled</th>\n",
       "      <th>LeadTime</th>\n",
       "      <th>ArrivalDateYear</th>\n",
       "      <th>ArrivalDateMonth</th>\n",
       "      <th>ArrivalDateWeekNumber</th>\n",
       "      <th>ArrivalDateDayOfMonth</th>\n",
       "      <th>StaysInWeekendNights</th>\n",
       "      <th>StaysInWeekNights</th>\n",
       "      <th>Adults</th>\n",
       "      <th>Children</th>\n",
       "      <th>...</th>\n",
       "      <th>DaysInWaitingList</th>\n",
       "      <th>CustomerType</th>\n",
       "      <th>ADR</th>\n",
       "      <th>RequiredCarParkingSpaces</th>\n",
       "      <th>TotalOfSpecialRequests</th>\n",
       "      <th>ReservationStatus</th>\n",
       "      <th>ReservationStatusDate</th>\n",
       "      <th>HotelNumber</th>\n",
       "      <th>UUID</th>\n",
       "      <th>Arrival_Date</th>\n",
       "    </tr>\n",
       "  </thead>\n",
       "  <tbody>\n",
       "    <tr>\n",
       "      <th>0</th>\n",
       "      <td>0</td>\n",
       "      <td>342</td>\n",
       "      <td>2015</td>\n",
       "      <td>July</td>\n",
       "      <td>27</td>\n",
       "      <td>1</td>\n",
       "      <td>0</td>\n",
       "      <td>0</td>\n",
       "      <td>2</td>\n",
       "      <td>0</td>\n",
       "      <td>...</td>\n",
       "      <td>0</td>\n",
       "      <td>Transient</td>\n",
       "      <td>0.0</td>\n",
       "      <td>0</td>\n",
       "      <td>0</td>\n",
       "      <td>Check-Out</td>\n",
       "      <td>2015-07-01</td>\n",
       "      <td>1</td>\n",
       "      <td>6f4f201b-62de-4c33-b9da-15081cf7e359</td>\n",
       "      <td>NaT</td>\n",
       "    </tr>\n",
       "    <tr>\n",
       "      <th>1</th>\n",
       "      <td>0</td>\n",
       "      <td>737</td>\n",
       "      <td>2015</td>\n",
       "      <td>July</td>\n",
       "      <td>27</td>\n",
       "      <td>1</td>\n",
       "      <td>0</td>\n",
       "      <td>0</td>\n",
       "      <td>2</td>\n",
       "      <td>0</td>\n",
       "      <td>...</td>\n",
       "      <td>0</td>\n",
       "      <td>Transient</td>\n",
       "      <td>0.0</td>\n",
       "      <td>0</td>\n",
       "      <td>0</td>\n",
       "      <td>Check-Out</td>\n",
       "      <td>2015-07-01</td>\n",
       "      <td>1</td>\n",
       "      <td>ad3d542c-41eb-4957-9724-32d3638d6bec</td>\n",
       "      <td>NaT</td>\n",
       "    </tr>\n",
       "    <tr>\n",
       "      <th>2</th>\n",
       "      <td>0</td>\n",
       "      <td>7</td>\n",
       "      <td>2015</td>\n",
       "      <td>July</td>\n",
       "      <td>27</td>\n",
       "      <td>1</td>\n",
       "      <td>0</td>\n",
       "      <td>1</td>\n",
       "      <td>1</td>\n",
       "      <td>0</td>\n",
       "      <td>...</td>\n",
       "      <td>0</td>\n",
       "      <td>Transient</td>\n",
       "      <td>75.0</td>\n",
       "      <td>0</td>\n",
       "      <td>0</td>\n",
       "      <td>Check-Out</td>\n",
       "      <td>2015-07-02</td>\n",
       "      <td>1</td>\n",
       "      <td>6a0684e0-9157-4456-9a53-1685d506a951</td>\n",
       "      <td>NaT</td>\n",
       "    </tr>\n",
       "    <tr>\n",
       "      <th>3</th>\n",
       "      <td>0</td>\n",
       "      <td>13</td>\n",
       "      <td>2015</td>\n",
       "      <td>July</td>\n",
       "      <td>27</td>\n",
       "      <td>1</td>\n",
       "      <td>0</td>\n",
       "      <td>1</td>\n",
       "      <td>1</td>\n",
       "      <td>0</td>\n",
       "      <td>...</td>\n",
       "      <td>0</td>\n",
       "      <td>Transient</td>\n",
       "      <td>75.0</td>\n",
       "      <td>0</td>\n",
       "      <td>0</td>\n",
       "      <td>Check-Out</td>\n",
       "      <td>2015-07-02</td>\n",
       "      <td>1</td>\n",
       "      <td>512c5081-3be1-4f78-87dc-2b0c8a9e9bde</td>\n",
       "      <td>NaT</td>\n",
       "    </tr>\n",
       "    <tr>\n",
       "      <th>4</th>\n",
       "      <td>0</td>\n",
       "      <td>14</td>\n",
       "      <td>2015</td>\n",
       "      <td>July</td>\n",
       "      <td>27</td>\n",
       "      <td>1</td>\n",
       "      <td>0</td>\n",
       "      <td>2</td>\n",
       "      <td>2</td>\n",
       "      <td>0</td>\n",
       "      <td>...</td>\n",
       "      <td>0</td>\n",
       "      <td>Transient</td>\n",
       "      <td>98.0</td>\n",
       "      <td>0</td>\n",
       "      <td>1</td>\n",
       "      <td>Check-Out</td>\n",
       "      <td>2015-07-03</td>\n",
       "      <td>1</td>\n",
       "      <td>444ea515-6e6b-45b4-9870-fcf46b5b529c</td>\n",
       "      <td>NaT</td>\n",
       "    </tr>\n",
       "    <tr>\n",
       "      <th>5</th>\n",
       "      <td>0</td>\n",
       "      <td>14</td>\n",
       "      <td>2015</td>\n",
       "      <td>July</td>\n",
       "      <td>27</td>\n",
       "      <td>1</td>\n",
       "      <td>0</td>\n",
       "      <td>2</td>\n",
       "      <td>2</td>\n",
       "      <td>0</td>\n",
       "      <td>...</td>\n",
       "      <td>0</td>\n",
       "      <td>Transient</td>\n",
       "      <td>98.0</td>\n",
       "      <td>0</td>\n",
       "      <td>1</td>\n",
       "      <td>Check-Out</td>\n",
       "      <td>2015-07-03</td>\n",
       "      <td>1</td>\n",
       "      <td>5c55ead3-f96e-44b6-b167-f0f0c87e013c</td>\n",
       "      <td>NaT</td>\n",
       "    </tr>\n",
       "    <tr>\n",
       "      <th>6</th>\n",
       "      <td>0</td>\n",
       "      <td>0</td>\n",
       "      <td>2015</td>\n",
       "      <td>July</td>\n",
       "      <td>27</td>\n",
       "      <td>1</td>\n",
       "      <td>0</td>\n",
       "      <td>2</td>\n",
       "      <td>2</td>\n",
       "      <td>0</td>\n",
       "      <td>...</td>\n",
       "      <td>0</td>\n",
       "      <td>Transient</td>\n",
       "      <td>107.0</td>\n",
       "      <td>0</td>\n",
       "      <td>0</td>\n",
       "      <td>Check-Out</td>\n",
       "      <td>2015-07-03</td>\n",
       "      <td>1</td>\n",
       "      <td>ba6dccfe-4082-4ce8-86dd-9fc130c84d3c</td>\n",
       "      <td>NaT</td>\n",
       "    </tr>\n",
       "    <tr>\n",
       "      <th>7</th>\n",
       "      <td>0</td>\n",
       "      <td>9</td>\n",
       "      <td>2015</td>\n",
       "      <td>July</td>\n",
       "      <td>27</td>\n",
       "      <td>1</td>\n",
       "      <td>0</td>\n",
       "      <td>2</td>\n",
       "      <td>2</td>\n",
       "      <td>0</td>\n",
       "      <td>...</td>\n",
       "      <td>0</td>\n",
       "      <td>Transient</td>\n",
       "      <td>103.0</td>\n",
       "      <td>0</td>\n",
       "      <td>1</td>\n",
       "      <td>Check-Out</td>\n",
       "      <td>2015-07-03</td>\n",
       "      <td>1</td>\n",
       "      <td>ea4d5557-6767-458a-8f3d-929cea401bc5</td>\n",
       "      <td>NaT</td>\n",
       "    </tr>\n",
       "    <tr>\n",
       "      <th>8</th>\n",
       "      <td>1</td>\n",
       "      <td>85</td>\n",
       "      <td>2015</td>\n",
       "      <td>July</td>\n",
       "      <td>27</td>\n",
       "      <td>1</td>\n",
       "      <td>0</td>\n",
       "      <td>3</td>\n",
       "      <td>2</td>\n",
       "      <td>0</td>\n",
       "      <td>...</td>\n",
       "      <td>0</td>\n",
       "      <td>Transient</td>\n",
       "      <td>82.0</td>\n",
       "      <td>0</td>\n",
       "      <td>1</td>\n",
       "      <td>Canceled</td>\n",
       "      <td>2015-05-06</td>\n",
       "      <td>1</td>\n",
       "      <td>d5ef1deb-f28a-45bb-b7bc-aac85dad3425</td>\n",
       "      <td>NaT</td>\n",
       "    </tr>\n",
       "    <tr>\n",
       "      <th>9</th>\n",
       "      <td>1</td>\n",
       "      <td>75</td>\n",
       "      <td>2015</td>\n",
       "      <td>July</td>\n",
       "      <td>27</td>\n",
       "      <td>1</td>\n",
       "      <td>0</td>\n",
       "      <td>3</td>\n",
       "      <td>2</td>\n",
       "      <td>0</td>\n",
       "      <td>...</td>\n",
       "      <td>0</td>\n",
       "      <td>Transient</td>\n",
       "      <td>105.5</td>\n",
       "      <td>0</td>\n",
       "      <td>0</td>\n",
       "      <td>Canceled</td>\n",
       "      <td>2015-04-22</td>\n",
       "      <td>1</td>\n",
       "      <td>f07c2799-6be5-4a8d-93a5-ee099cfa3e3c</td>\n",
       "      <td>NaT</td>\n",
       "    </tr>\n",
       "  </tbody>\n",
       "</table>\n",
       "<p>10 rows × 34 columns</p>\n",
       "</div>"
      ],
      "text/plain": [
       "   IsCanceled  LeadTime  ArrivalDateYear ArrivalDateMonth  \\\n",
       "0           0       342             2015             July   \n",
       "1           0       737             2015             July   \n",
       "2           0         7             2015             July   \n",
       "3           0        13             2015             July   \n",
       "4           0        14             2015             July   \n",
       "5           0        14             2015             July   \n",
       "6           0         0             2015             July   \n",
       "7           0         9             2015             July   \n",
       "8           1        85             2015             July   \n",
       "9           1        75             2015             July   \n",
       "\n",
       "   ArrivalDateWeekNumber  ArrivalDateDayOfMonth  StaysInWeekendNights  \\\n",
       "0                     27                      1                     0   \n",
       "1                     27                      1                     0   \n",
       "2                     27                      1                     0   \n",
       "3                     27                      1                     0   \n",
       "4                     27                      1                     0   \n",
       "5                     27                      1                     0   \n",
       "6                     27                      1                     0   \n",
       "7                     27                      1                     0   \n",
       "8                     27                      1                     0   \n",
       "9                     27                      1                     0   \n",
       "\n",
       "   StaysInWeekNights  Adults  Children  ...  DaysInWaitingList CustomerType  \\\n",
       "0                  0       2         0  ...                  0    Transient   \n",
       "1                  0       2         0  ...                  0    Transient   \n",
       "2                  1       1         0  ...                  0    Transient   \n",
       "3                  1       1         0  ...                  0    Transient   \n",
       "4                  2       2         0  ...                  0    Transient   \n",
       "5                  2       2         0  ...                  0    Transient   \n",
       "6                  2       2         0  ...                  0    Transient   \n",
       "7                  2       2         0  ...                  0    Transient   \n",
       "8                  3       2         0  ...                  0    Transient   \n",
       "9                  3       2         0  ...                  0    Transient   \n",
       "\n",
       "     ADR RequiredCarParkingSpaces TotalOfSpecialRequests  ReservationStatus  \\\n",
       "0    0.0                        0                      0          Check-Out   \n",
       "1    0.0                        0                      0          Check-Out   \n",
       "2   75.0                        0                      0          Check-Out   \n",
       "3   75.0                        0                      0          Check-Out   \n",
       "4   98.0                        0                      1          Check-Out   \n",
       "5   98.0                        0                      1          Check-Out   \n",
       "6  107.0                        0                      0          Check-Out   \n",
       "7  103.0                        0                      1          Check-Out   \n",
       "8   82.0                        0                      1           Canceled   \n",
       "9  105.5                        0                      0           Canceled   \n",
       "\n",
       "   ReservationStatusDate  HotelNumber                                  UUID  \\\n",
       "0             2015-07-01            1  6f4f201b-62de-4c33-b9da-15081cf7e359   \n",
       "1             2015-07-01            1  ad3d542c-41eb-4957-9724-32d3638d6bec   \n",
       "2             2015-07-02            1  6a0684e0-9157-4456-9a53-1685d506a951   \n",
       "3             2015-07-02            1  512c5081-3be1-4f78-87dc-2b0c8a9e9bde   \n",
       "4             2015-07-03            1  444ea515-6e6b-45b4-9870-fcf46b5b529c   \n",
       "5             2015-07-03            1  5c55ead3-f96e-44b6-b167-f0f0c87e013c   \n",
       "6             2015-07-03            1  ba6dccfe-4082-4ce8-86dd-9fc130c84d3c   \n",
       "7             2015-07-03            1  ea4d5557-6767-458a-8f3d-929cea401bc5   \n",
       "8             2015-05-06            1  d5ef1deb-f28a-45bb-b7bc-aac85dad3425   \n",
       "9             2015-04-22            1  f07c2799-6be5-4a8d-93a5-ee099cfa3e3c   \n",
       "\n",
       "  Arrival_Date  \n",
       "0          NaT  \n",
       "1          NaT  \n",
       "2          NaT  \n",
       "3          NaT  \n",
       "4          NaT  \n",
       "5          NaT  \n",
       "6          NaT  \n",
       "7          NaT  \n",
       "8          NaT  \n",
       "9          NaT  \n",
       "\n",
       "[10 rows x 34 columns]"
      ]
     },
     "execution_count": 16,
     "metadata": {},
     "output_type": "execute_result"
    }
   ],
   "source": [
    "# Path to the DuckDB database file\n",
    "db_path = './data/hotel_reservations.duckdb'\n",
    "\n",
    "## Select subset of data for review\n",
    "q = 'SELECT * FROM res_data LIMIT 50'\n",
    "\n",
    "with db_utils.duckdb_connection(db_path) as conn:\n",
    "    df_data_preview = conn.execute(q).df()\n",
    "\n",
    "df_data_preview.head(10)"
   ]
  },
  {
   "cell_type": "code",
   "execution_count": 19,
   "id": "17868e04-8a42-4b50-99c9-b5bdd597c3b4",
   "metadata": {
    "execution": {
     "iopub.execute_input": "2024-03-23T14:07:40.084426Z",
     "iopub.status.busy": "2024-03-23T14:07:40.084426Z",
     "iopub.status.idle": "2024-03-23T14:07:40.161609Z",
     "shell.execute_reply": "2024-03-23T14:07:40.160595Z",
     "shell.execute_reply.started": "2024-03-23T14:07:40.084426Z"
    }
   },
   "outputs": [
    {
     "data": {
      "text/html": [
       "<div>\n",
       "<style scoped>\n",
       "    .dataframe tbody tr th:only-of-type {\n",
       "        vertical-align: middle;\n",
       "    }\n",
       "\n",
       "    .dataframe tbody tr th {\n",
       "        vertical-align: top;\n",
       "    }\n",
       "\n",
       "    .dataframe thead th {\n",
       "        text-align: right;\n",
       "    }\n",
       "</style>\n",
       "<table border=\"1\" class=\"dataframe\">\n",
       "  <thead>\n",
       "    <tr style=\"text-align: right;\">\n",
       "      <th></th>\n",
       "      <th>UUID</th>\n",
       "      <th>ArrivalDateYear</th>\n",
       "      <th>ArrivalDateMonth</th>\n",
       "      <th>ArrivalDateDayOfMonth</th>\n",
       "    </tr>\n",
       "  </thead>\n",
       "  <tbody>\n",
       "    <tr>\n",
       "      <th>0</th>\n",
       "      <td>6f4f201b-62de-4c33-b9da-15081cf7e359</td>\n",
       "      <td>2015</td>\n",
       "      <td>July</td>\n",
       "      <td>1</td>\n",
       "    </tr>\n",
       "    <tr>\n",
       "      <th>1</th>\n",
       "      <td>ad3d542c-41eb-4957-9724-32d3638d6bec</td>\n",
       "      <td>2015</td>\n",
       "      <td>July</td>\n",
       "      <td>1</td>\n",
       "    </tr>\n",
       "    <tr>\n",
       "      <th>2</th>\n",
       "      <td>6a0684e0-9157-4456-9a53-1685d506a951</td>\n",
       "      <td>2015</td>\n",
       "      <td>July</td>\n",
       "      <td>1</td>\n",
       "    </tr>\n",
       "    <tr>\n",
       "      <th>3</th>\n",
       "      <td>512c5081-3be1-4f78-87dc-2b0c8a9e9bde</td>\n",
       "      <td>2015</td>\n",
       "      <td>July</td>\n",
       "      <td>1</td>\n",
       "    </tr>\n",
       "    <tr>\n",
       "      <th>4</th>\n",
       "      <td>444ea515-6e6b-45b4-9870-fcf46b5b529c</td>\n",
       "      <td>2015</td>\n",
       "      <td>July</td>\n",
       "      <td>1</td>\n",
       "    </tr>\n",
       "  </tbody>\n",
       "</table>\n",
       "</div>"
      ],
      "text/plain": [
       "                                   UUID ArrivalDateYear ArrivalDateMonth  \\\n",
       "0  6f4f201b-62de-4c33-b9da-15081cf7e359            2015             July   \n",
       "1  ad3d542c-41eb-4957-9724-32d3638d6bec            2015             July   \n",
       "2  6a0684e0-9157-4456-9a53-1685d506a951            2015             July   \n",
       "3  512c5081-3be1-4f78-87dc-2b0c8a9e9bde            2015             July   \n",
       "4  444ea515-6e6b-45b4-9870-fcf46b5b529c            2015             July   \n",
       "\n",
       "  ArrivalDateDayOfMonth  \n",
       "0                     1  \n",
       "1                     1  \n",
       "2                     1  \n",
       "3                     1  \n",
       "4                     1  "
      ]
     },
     "execution_count": 19,
     "metadata": {},
     "output_type": "execute_result"
    }
   ],
   "source": [
    "## Convert Arrival columns to strings\n",
    "\n",
    "q = 'SELECT uuid, ArrivalDateYear, ArrivalDateMonth, ArrivalDateDayOfMonth FROM res_data'\n",
    "\n",
    "with db_utils.duckdb_connection(db_path) as conn:\n",
    "    arrival_cols = conn.execute(q).df()\n",
    "\n",
    "# arrival_date_cols = ['ArrivalDateYear', 'ArrivalDateMonth', 'ArrivalDateDayOfMonth']\n",
    "\n",
    "arrival_date_cols_str = arrival_cols.astype(str)\n",
    "arrival_date_cols_str.head()"
   ]
  },
  {
   "cell_type": "code",
   "execution_count": 22,
   "id": "ccf1aaff-5d06-4d1c-b843-ff902b832e4b",
   "metadata": {
    "execution": {
     "iopub.execute_input": "2024-03-23T14:07:40.166606Z",
     "iopub.status.busy": "2024-03-23T14:07:40.165603Z",
     "iopub.status.idle": "2024-03-23T14:07:40.225411Z",
     "shell.execute_reply": "2024-03-23T14:07:40.224411Z",
     "shell.execute_reply.started": "2024-03-23T14:07:40.166606Z"
    }
   },
   "outputs": [
    {
     "data": {
      "text/plain": [
       "0    2015-July-1\n",
       "1    2015-July-1\n",
       "2    2015-July-1\n",
       "3    2015-July-1\n",
       "4    2015-July-1\n",
       "5    2015-July-1\n",
       "6    2015-July-1\n",
       "7    2015-July-1\n",
       "8    2015-July-1\n",
       "9    2015-July-1\n",
       "dtype: object"
      ]
     },
     "execution_count": 22,
     "metadata": {},
     "output_type": "execute_result"
    }
   ],
   "source": [
    "## Create new column of strings formatted as YYYY-MM-DD, then convert to datetime\n",
    "\n",
    "arrival_date_full_str = arrival_date_cols_str['ArrivalDateYear'] + '-' + \\\n",
    "                        arrival_date_cols_str['ArrivalDateMonth'] + '-' + \\\n",
    "                        arrival_date_cols_str['ArrivalDateDayOfMonth']\n",
    "\n",
    "arrival_date_dt = pd.to_datetime(arrival_date_full_str, yearfirst = True)\n",
    "arrival_date_dt.name = 'Arrival_Date'\n",
    "arrival_date_full_str.head(10)"
   ]
  },
  {
   "cell_type": "code",
   "execution_count": 43,
   "id": "21982298",
   "metadata": {},
   "outputs": [
    {
     "name": "stdout",
     "output_type": "stream",
     "text": [
      "Column Name: IsCanceled, Data Type: BIGINT\n",
      "Column Name: LeadTime, Data Type: BIGINT\n",
      "Column Name: ArrivalDateYear, Data Type: BIGINT\n",
      "Column Name: ArrivalDateMonth, Data Type: VARCHAR\n",
      "Column Name: ArrivalDateWeekNumber, Data Type: BIGINT\n",
      "Column Name: ArrivalDateDayOfMonth, Data Type: BIGINT\n",
      "Column Name: StaysInWeekendNights, Data Type: BIGINT\n",
      "Column Name: StaysInWeekNights, Data Type: BIGINT\n",
      "Column Name: Adults, Data Type: BIGINT\n",
      "Column Name: Children, Data Type: BIGINT\n",
      "Column Name: Babies, Data Type: BIGINT\n",
      "Column Name: Meal, Data Type: VARCHAR\n",
      "Column Name: Country, Data Type: VARCHAR\n",
      "Column Name: MarketSegment, Data Type: VARCHAR\n",
      "Column Name: DistributionChannel, Data Type: VARCHAR\n",
      "Column Name: IsRepeatedGuest, Data Type: BIGINT\n",
      "Column Name: PreviousCancellations, Data Type: BIGINT\n",
      "Column Name: PreviousBookingsNotCanceled, Data Type: BIGINT\n",
      "Column Name: ReservedRoomType, Data Type: VARCHAR\n",
      "Column Name: AssignedRoomType, Data Type: VARCHAR\n",
      "Column Name: BookingChanges, Data Type: BIGINT\n",
      "Column Name: DepositType, Data Type: VARCHAR\n",
      "Column Name: Agent, Data Type: VARCHAR\n",
      "Column Name: Company, Data Type: VARCHAR\n",
      "Column Name: DaysInWaitingList, Data Type: BIGINT\n",
      "Column Name: CustomerType, Data Type: VARCHAR\n",
      "Column Name: ADR, Data Type: DOUBLE\n",
      "Column Name: RequiredCarParkingSpaces, Data Type: BIGINT\n",
      "Column Name: TotalOfSpecialRequests, Data Type: BIGINT\n",
      "Column Name: ReservationStatus, Data Type: VARCHAR\n",
      "Column Name: ReservationStatusDate, Data Type: VARCHAR\n",
      "Column Name: HotelNumber, Data Type: BIGINT\n",
      "Column Name: UUID, Data Type: VARCHAR\n"
     ]
    }
   ],
   "source": [
    "# table_name = 'res_data'\n",
    "\n",
    "# with db_utils.duckdb_connection(db_path) as conn:\n",
    "#     column_info = conn.execute(f\"PRAGMA table_info({table_name})\").fetchall()\n",
    "\n",
    "#     # Print information about each column\n",
    "#     for column in column_info:\n",
    "#         column_name, column_dtype = column[1], column[2]\n",
    "#         print(f\"Column Name: {column_name}, Data Type: {column_dtype}\")\n",
    "\n",
    "_ = db_utils.get_col_dtypes('res_data', db_path)"
   ]
  },
  {
   "cell_type": "code",
   "execution_count": 44,
   "id": "e9c02b6c",
   "metadata": {},
   "outputs": [
    {
     "data": {
      "text/plain": [
       "'CREATE TABLE reservation_dates (\\n    UUID VARCHAR,\\n    datetime_column TIMESTAMP,\\n    PRIMARY KEY (UUID),\\n    FOREIGN KEY (UUID) REFERENCES res_data (UUID)\\n);\\n'"
      ]
     },
     "execution_count": 44,
     "metadata": {},
     "output_type": "execute_result"
    }
   ],
   "source": [
    "create_dates_table = '''CREATE TABLE reservation_dates (\n",
    "    UUID VARCHAR,\n",
    "    datetime_column TIMESTAMP,\n",
    "    PRIMARY KEY (UUID),\n",
    "    FOREIGN KEY (UUID) REFERENCES res_data (UUID)\n",
    ");\n",
    "'''\n",
    "create_dates_table"
   ]
  },
  {
   "cell_type": "code",
   "execution_count": 46,
   "id": "0cf186f3",
   "metadata": {},
   "outputs": [
    {
     "ename": "BinderException",
     "evalue": "Binder Error: Failed to create foreign key: there is no primary key or unique constraint for referenced table \"res_data\"",
     "output_type": "error",
     "traceback": [
      "\u001b[1;31m---------------------------------------------------------------------------\u001b[0m",
      "\u001b[1;31mBinderException\u001b[0m                           Traceback (most recent call last)",
      "Cell \u001b[1;32mIn[46], line 1\u001b[0m\n\u001b[1;32m----> 1\u001b[0m \u001b[43mdb_utils\u001b[49m\u001b[38;5;241;43m.\u001b[39;49m\u001b[43malter_table\u001b[49m\u001b[43m(\u001b[49m\u001b[43mcreate_dates_table\u001b[49m\u001b[43m,\u001b[49m\u001b[43m \u001b[49m\u001b[43mdb_path\u001b[49m\u001b[43m)\u001b[49m\n",
      "File \u001b[1;32mc:\\Users\\Ben\\OneDrive\\Documents\\Data Science Notebooks and Code\\SBN_Notebooks\\Hotel_Cancel_Culture\\bmc_functions\\db_utils.py:110\u001b[0m, in \u001b[0;36malter_table\u001b[1;34m(command, db_path)\u001b[0m\n\u001b[0;32m    107\u001b[0m \u001b[38;5;28;01mdef\u001b[39;00m \u001b[38;5;21malter_table\u001b[39m(command, db_path):\n\u001b[0;32m    109\u001b[0m     \u001b[38;5;28;01mwith\u001b[39;00m duckdb_connection(db_path) \u001b[38;5;28;01mas\u001b[39;00m conn:\n\u001b[1;32m--> 110\u001b[0m         \u001b[43mconn\u001b[49m\u001b[38;5;241;43m.\u001b[39;49m\u001b[43mexecute\u001b[49m\u001b[43m(\u001b[49m\u001b[43mcommand\u001b[49m\u001b[43m)\u001b[49m\n\u001b[0;32m    111\u001b[0m         \u001b[38;5;28mprint\u001b[39m(\u001b[38;5;124m'\u001b[39m\u001b[38;5;124mCompleted successfully.\u001b[39m\u001b[38;5;124m'\u001b[39m)\n",
      "\u001b[1;31mBinderException\u001b[0m: Binder Error: Failed to create foreign key: there is no primary key or unique constraint for referenced table \"res_data\""
     ]
    }
   ],
   "source": [
    "db_utils.alter_table(create_dates_table, db_path)"
   ]
  },
  {
   "cell_type": "code",
   "execution_count": 47,
   "id": "d42a9b2e",
   "metadata": {},
   "outputs": [
    {
     "ename": "NotImplementedException",
     "evalue": "Not implemented Error: No support for that ALTER TABLE option yet!",
     "output_type": "error",
     "traceback": [
      "\u001b[1;31m---------------------------------------------------------------------------\u001b[0m",
      "\u001b[1;31mNotImplementedException\u001b[0m                   Traceback (most recent call last)",
      "Cell \u001b[1;32mIn[47], line 1\u001b[0m\n\u001b[1;32m----> 1\u001b[0m \u001b[43mdb_utils\u001b[49m\u001b[38;5;241;43m.\u001b[39;49m\u001b[43malter_table\u001b[49m\u001b[43m(\u001b[49m\u001b[38;5;124;43m'\u001b[39;49m\u001b[38;5;124;43mALTER TABLE res_data ADD PRIMARY KEY (UUID);\u001b[39;49m\u001b[38;5;124;43m'\u001b[39;49m\u001b[43m,\u001b[49m\u001b[43m \u001b[49m\u001b[43mdb_path\u001b[49m\u001b[43m)\u001b[49m\n",
      "File \u001b[1;32mc:\\Users\\Ben\\OneDrive\\Documents\\Data Science Notebooks and Code\\SBN_Notebooks\\Hotel_Cancel_Culture\\bmc_functions\\db_utils.py:110\u001b[0m, in \u001b[0;36malter_table\u001b[1;34m(command, db_path)\u001b[0m\n\u001b[0;32m    107\u001b[0m \u001b[38;5;28;01mdef\u001b[39;00m \u001b[38;5;21malter_table\u001b[39m(command, db_path):\n\u001b[0;32m    109\u001b[0m     \u001b[38;5;28;01mwith\u001b[39;00m duckdb_connection(db_path) \u001b[38;5;28;01mas\u001b[39;00m conn:\n\u001b[1;32m--> 110\u001b[0m         \u001b[43mconn\u001b[49m\u001b[38;5;241;43m.\u001b[39;49m\u001b[43mexecute\u001b[49m\u001b[43m(\u001b[49m\u001b[43mcommand\u001b[49m\u001b[43m)\u001b[49m\n\u001b[0;32m    111\u001b[0m         \u001b[38;5;28mprint\u001b[39m(\u001b[38;5;124m'\u001b[39m\u001b[38;5;124mCompleted successfully.\u001b[39m\u001b[38;5;124m'\u001b[39m)\n",
      "\u001b[1;31mNotImplementedException\u001b[0m: Not implemented Error: No support for that ALTER TABLE option yet!"
     ]
    }
   ],
   "source": [
    "db_utils.alter_table('ALTER TABLE res_data ADD PRIMARY KEY (UUID);', db_path)"
   ]
  },
  {
   "cell_type": "code",
   "execution_count": 31,
   "id": "810165ce",
   "metadata": {},
   "outputs": [
    {
     "name": "stdout",
     "output_type": "stream",
     "text": [
      "Completed successfully.\n"
     ]
    }
   ],
   "source": [
    "# alter_commands = \"ALTER TABLE res_data ADD COLUMN Arrival_Date DATE\"\n",
    "# with duckdb_connection(db_path) as conn:\n",
    "#     conn.execute(alter_commands)\n",
    "#     print('Completed successfully.')\n",
    "\n",
    "# drop_col = 'ALTER TABLE res_data DROP COLUMN Arrival_Date;'\n",
    "# db_utils.alter_table(drop_col, db_path)\n",
    "\n",
    "# alt_tbl_cmd = \"ALTER TABLE res_data ADD COLUMN Arrival_Date TIMESTAMP\"\n",
    "# db_utils.alter_table(alt_tbl_cmd, db_path)"
   ]
  },
  {
   "cell_type": "code",
   "execution_count": 34,
   "id": "96286fe6",
   "metadata": {},
   "outputs": [],
   "source": [
    "# q = 'SELECT Arrival_Date FROM res_data'\n",
    "# with db_utils.duckdb_connection(db_path) as conn:\n",
    "#     display(conn.execute(q).df())"
   ]
  },
  {
   "cell_type": "code",
   "execution_count": 33,
   "id": "79b43d90",
   "metadata": {},
   "outputs": [],
   "source": [
    "# q = 'SELECT Arrival_Date FROM res_data'\n",
    "# with db_utils.duckdb_connection(db_path) as conn:\n",
    "#     result = conn.execute(q).fetchall()\n",
    "\n",
    "#     for row in result:\n",
    "#         print(row)"
   ]
  },
  {
   "cell_type": "code",
   "execution_count": null,
   "id": "6b3c4f39-86be-4ccd-89b9-4f0574357cec",
   "metadata": {
    "execution": {
     "iopub.execute_input": "2024-03-23T14:07:40.229701Z",
     "iopub.status.busy": "2024-03-23T14:07:40.228263Z",
     "iopub.status.idle": "2024-03-23T14:07:40.265988Z",
     "shell.execute_reply": "2024-03-23T14:07:40.265988Z",
     "shell.execute_reply.started": "2024-03-23T14:07:40.229701Z"
    }
   },
   "outputs": [],
   "source": [
    "## Concatenate new column\n",
    "df_data = pd.concat([df_data, arrival_date_dt], axis = 1)\n",
    "df_data.head()"
   ]
  },
  {
   "cell_type": "code",
   "execution_count": null,
   "id": "d0707a10-ff20-44f8-848d-67b2e1402e48",
   "metadata": {
    "execution": {
     "iopub.execute_input": "2024-03-23T14:07:40.265988Z",
     "iopub.status.busy": "2024-03-23T14:07:40.265988Z",
     "iopub.status.idle": "2024-03-23T14:07:40.339034Z",
     "shell.execute_reply": "2024-03-23T14:07:40.338958Z",
     "shell.execute_reply.started": "2024-03-23T14:07:40.265988Z"
    }
   },
   "outputs": [],
   "source": [
    "try:\n",
    "    df_data = df_data.drop(columns=[ 'ArrivalDateYear', 'ArrivalDateMonth', 'ArrivalDateDayOfMonth'])\n",
    "except:\n",
    "    pass\n",
    "\n",
    "df_data.head()"
   ]
  },
  {
   "cell_type": "code",
   "execution_count": null,
   "id": "d2088034-85c6-4bd2-a4b4-6a3e9c0691f9",
   "metadata": {
    "execution": {
     "iopub.execute_input": "2024-03-23T14:07:40.342036Z",
     "iopub.status.busy": "2024-03-23T14:07:40.341036Z",
     "iopub.status.idle": "2024-03-23T14:07:40.359756Z",
     "shell.execute_reply": "2024-03-23T14:07:40.358769Z",
     "shell.execute_reply.started": "2024-03-23T14:07:40.342036Z"
    }
   },
   "outputs": [],
   "source": [
    "## Create timedelta series based on number of weekday/end nights.\n",
    "timedelta_wknd = pd.to_timedelta(df_data.loc[:, 'StaysInWeekendNights'], unit = 'D')\n",
    "timedelta_wk = pd.to_timedelta(df_data.loc[:, 'StaysInWeekNights'], unit = 'D')\n",
    "\n",
    "## Calculate the departure date by adding the timedeltas to the arrival date\n",
    "departure_date = df_data.loc[:, 'Arrival_Date'] + timedelta_wk + timedelta_wknd\n",
    "departure_date.name = 'Departure_Date'\n",
    "departure_date.head()"
   ]
  },
  {
   "cell_type": "code",
   "execution_count": null,
   "id": "7deb40c2",
   "metadata": {},
   "outputs": [],
   "source": []
  },
  {
   "cell_type": "code",
   "execution_count": null,
   "id": "dab89be4-3e06-4574-85b0-ead8b0750178",
   "metadata": {
    "execution": {
     "iopub.execute_input": "2024-03-23T14:07:40.385494Z",
     "iopub.status.busy": "2024-03-23T14:07:40.385494Z",
     "iopub.status.idle": "2024-03-23T14:07:40.430998Z",
     "shell.execute_reply": "2024-03-23T14:07:40.429986Z",
     "shell.execute_reply.started": "2024-03-23T14:07:40.385494Z"
    }
   },
   "outputs": [],
   "source": [
    "## Concatenate with original dataframe\n",
    "df_data = pd.concat([df_data, departure_date], axis = 1)\n",
    "df_data.head()"
   ]
  },
  {
   "cell_type": "code",
   "execution_count": null,
   "id": "2736906b-ad8b-4ced-92a4-bfcb2069fd91",
   "metadata": {
    "execution": {
     "iopub.execute_input": "2024-03-23T14:07:40.433993Z",
     "iopub.status.busy": "2024-03-23T14:07:40.432994Z",
     "iopub.status.idle": "2024-03-23T14:07:40.508734Z",
     "shell.execute_reply": "2024-03-23T14:07:40.507600Z",
     "shell.execute_reply.started": "2024-03-23T14:07:40.433993Z"
    }
   },
   "outputs": [],
   "source": [
    "try:\n",
    "    df_data = df_data.drop(columns=['StaysInWeekendNights', 'StaysInWeekNights'])\n",
    "except:\n",
    "    pass\n",
    "\n",
    "df_data.head()"
   ]
  },
  {
   "cell_type": "code",
   "execution_count": null,
   "id": "2f3399ac-69a1-4b4f-b022-346746c05e3c",
   "metadata": {
    "execution": {
     "iopub.execute_input": "2024-03-23T14:07:40.510730Z",
     "iopub.status.busy": "2024-03-23T14:07:40.509730Z",
     "iopub.status.idle": "2024-03-23T14:07:40.533360Z",
     "shell.execute_reply": "2024-03-23T14:07:40.526092Z",
     "shell.execute_reply.started": "2024-03-23T14:07:40.510730Z"
    }
   },
   "outputs": [],
   "source": [
    "leadtime_timedelta = pd.to_timedelta(df_data['LeadTime'], unit = 'D')\n",
    "leadtime_timedelta.head()"
   ]
  },
  {
   "cell_type": "code",
   "execution_count": null,
   "id": "c62e5cb4-e4da-4099-ba0c-0ef486299e88",
   "metadata": {
    "execution": {
     "iopub.execute_input": "2024-03-23T14:07:40.544509Z",
     "iopub.status.busy": "2024-03-23T14:07:40.543513Z",
     "iopub.status.idle": "2024-03-23T14:07:40.565579Z",
     "shell.execute_reply": "2024-03-23T14:07:40.564577Z",
     "shell.execute_reply.started": "2024-03-23T14:07:40.544509Z"
    }
   },
   "outputs": [],
   "source": [
    "df_data['Booking_Date'] = df_data['Arrival_Date'] - leadtime_timedelta\n",
    "df_data['Booking_Date']"
   ]
  },
  {
   "cell_type": "code",
   "execution_count": null,
   "id": "a7292810-a129-4c7b-8813-d652c8a0c8b5",
   "metadata": {
    "execution": {
     "iopub.execute_input": "2024-03-23T14:07:40.570378Z",
     "iopub.status.busy": "2024-03-23T14:07:40.569372Z",
     "iopub.status.idle": "2024-03-23T14:07:40.612853Z",
     "shell.execute_reply": "2024-03-23T14:07:40.611855Z",
     "shell.execute_reply.started": "2024-03-23T14:07:40.570378Z"
    }
   },
   "outputs": [],
   "source": [
    "# df_data = df_data.drop(columns = ['LeadTime']) ## Maintain for future modeling\n",
    "\n",
    "df_data.head(10)"
   ]
  },
  {
   "cell_type": "code",
   "execution_count": null,
   "id": "cfc3b6dd-fe08-46ac-88b0-161a6c6b93d4",
   "metadata": {
    "execution": {
     "iopub.execute_input": "2024-03-23T14:07:40.614853Z",
     "iopub.status.busy": "2024-03-23T14:07:40.613854Z",
     "iopub.status.idle": "2024-03-23T14:07:40.627797Z",
     "shell.execute_reply": "2024-03-23T14:07:40.626651Z",
     "shell.execute_reply.started": "2024-03-23T14:07:40.614853Z"
    }
   },
   "outputs": [],
   "source": [
    "df_data['Arrival_Date'].max() - df_data['Arrival_Date'].min()"
   ]
  },
  {
   "cell_type": "code",
   "execution_count": null,
   "id": "d4a24a5d-1d47-4c6a-b73c-c2ac584256b2",
   "metadata": {
    "execution": {
     "iopub.execute_input": "2024-03-23T14:07:40.629832Z",
     "iopub.status.busy": "2024-03-23T14:07:40.628834Z",
     "iopub.status.idle": "2024-03-23T14:07:40.639108Z",
     "shell.execute_reply": "2024-03-23T14:07:40.638391Z",
     "shell.execute_reply.started": "2024-03-23T14:07:40.629832Z"
    }
   },
   "outputs": [],
   "source": [
    "df_data['Booking_Date'].max() - df_data['Booking_Date'].min()"
   ]
  },
  {
   "cell_type": "markdown",
   "id": "3190b7a5-c83d-46b0-bad7-6b522e6d000d",
   "metadata": {},
   "source": [
    "# Subset with 10% Threshold for Arrival_Date and Booking_Date\n",
    "\n",
    "Despite the sizable number of rows for each hotel's dataset, the Arrival_Date feature is limited in scope - covering a little over 2 years' worth of data. This limited time range restricts the possible forecasting windows, particularly as I intend to reserve a certain number of days for the validation sets.\n",
    "\n",
    "My compromise between availability and integrity is to subset each hotel's separate datasets by 10% of the total dataset. This will preserve the size of the original data's timeframe while providing a reasonable time window for future forecasting."
   ]
  },
  {
   "cell_type": "code",
   "execution_count": null,
   "id": "b6f1fbb6-9eee-45bc-81dc-ed9b17dc91ba",
   "metadata": {
    "execution": {
     "iopub.execute_input": "2024-03-23T14:07:40.640967Z",
     "iopub.status.busy": "2024-03-23T14:07:40.640967Z",
     "iopub.status.idle": "2024-03-23T14:07:40.660553Z",
     "shell.execute_reply": "2024-03-23T14:07:40.660553Z",
     "shell.execute_reply.started": "2024-03-23T14:07:40.640967Z"
    }
   },
   "outputs": [],
   "source": [
    "def split_and_save_dataset_by_percentage(df, date_column, hotel_number, percentage=10, save_path='./data'):\n",
    "    \"\"\"\n",
    "    Split the dataset into training and holdout sets based on a specified percentage of the total rows\n",
    "    and save them. The holdout set will contain the last 'percentage' of rows based on the datetime column.\n",
    "    \"\"\"\n",
    "    \n",
    "    # Work on a copy of the DataFrame to preserve the original data\n",
    "    df_copy = df.copy()\n",
    "    \n",
    "    # Ensure the date column is in datetime format and set it as the index\n",
    "    df_copy[date_column] = pd.to_datetime(df_copy[date_column])\n",
    "    df_copy = df_copy.sort_values(by=[date_column])\n",
    "\n",
    "    # Calculate the index to split on: last 'percentage' of rows\n",
    "    split_idx = int(len(df_copy) * (1 - (percentage / 100)))\n",
    "\n",
    "    # Split the dataset and reset index for future use\n",
    "    train_df = df_copy.iloc[:split_idx, :]\n",
    "    train_df = train_df.reset_index(drop=True)\n",
    "    \n",
    "    holdout_df = df_copy.iloc[split_idx:, :]\n",
    "    holdout_df = holdout_df.reset_index(drop=True)\n",
    "\n",
    "    # No need to reset index if you want to keep the datetime column in its place\n",
    "    # Define file paths\n",
    "    training_path = f'{save_path}/H{hotel_number}_Training.parquet'\n",
    "    holdout_path = f'{save_path}/H{hotel_number}_Validation.parquet'\n",
    "\n",
    "    # Save the datasets\n",
    "    train_df.to_parquet(training_path, engine='pyarrow', compression='brotli')\n",
    "    holdout_df.to_parquet(holdout_path, engine='pyarrow', compression='brotli')\n"
   ]
  },
  {
   "cell_type": "code",
   "execution_count": null,
   "id": "f6bae9bf-e0c1-496e-98d9-919a2126911e",
   "metadata": {
    "execution": {
     "iopub.execute_input": "2024-03-23T14:07:40.660553Z",
     "iopub.status.busy": "2024-03-23T14:07:40.660553Z",
     "iopub.status.idle": "2024-03-23T14:07:41.596055Z",
     "shell.execute_reply": "2024-03-23T14:07:41.596055Z",
     "shell.execute_reply.started": "2024-03-23T14:07:40.660553Z"
    }
   },
   "outputs": [],
   "source": [
    "date_columns = ['Arrival_Date', 'Booking_Date']\n",
    "\n",
    "for date_column in date_columns:\n",
    "    split_and_save_dataset_by_percentage(df_data, date_column, hotel_number, 10, f'./data/Datasets_for_{date_column}')\n"
   ]
  },
  {
   "cell_type": "markdown",
   "id": "bfead6f7-94fc-4bae-910c-300b8752ce89",
   "metadata": {},
   "source": [
    "# Results\n",
    "\n",
    "After running this code for both of the hotel datasets, I now have separate training and validation datasets for each of the hotels' Arrival_Date and Booking_Date features. The resulting datasets will be effective for modeling and forecasting in later notebooks."
   ]
  },
  {
   "cell_type": "code",
   "execution_count": null,
   "id": "f112ab47-9da7-44c2-b02e-c6611c686eff",
   "metadata": {},
   "outputs": [],
   "source": []
  }
 ],
 "metadata": {
  "kernelspec": {
   "display_name": "dojo-env",
   "language": "python",
   "name": "python3"
  },
  "language_info": {
   "codemirror_mode": {
    "name": "ipython",
    "version": 3
   },
   "file_extension": ".py",
   "mimetype": "text/x-python",
   "name": "python",
   "nbconvert_exporter": "python",
   "pygments_lexer": "ipython3",
   "version": "3.10.10"
  },
  "widgets": {
   "application/vnd.jupyter.widget-state+json": {
    "state": {},
    "version_major": 2,
    "version_minor": 0
   }
  }
 },
 "nbformat": 4,
 "nbformat_minor": 5
}
