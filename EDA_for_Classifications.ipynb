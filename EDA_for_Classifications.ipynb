{
 "cells": [
  {
   "cell_type": "markdown",
   "metadata": {
    "toc": true
   },
   "source": [
    "<h1>Table of Contents<span class=\"tocSkip\"></span></h1>\n",
    "<div class=\"toc\"><ul class=\"toc-item\"><li><span><a href=\"#Hotel-Cancel-Culture---EDA-Notebook\" data-toc-modified-id=\"Hotel-Cancel-Culture---EDA-Notebook-1\"><span class=\"toc-item-num\">1&nbsp;&nbsp;</span><strong>Hotel Cancel Culture</strong> - <strong>EDA Notebook</strong></a></span></li><li><span><a href=\"#Import-Packages\" data-toc-modified-id=\"Import-Packages-2\"><span class=\"toc-item-num\">2&nbsp;&nbsp;</span><strong>Import Packages</strong></a></span></li><li><span><a href=\"#Read-Data\" data-toc-modified-id=\"Read-Data-3\"><span class=\"toc-item-num\">3&nbsp;&nbsp;</span><strong>Read Data</strong></a></span></li><li><span><a href=\"#Identifying-Target-Feature\" data-toc-modified-id=\"Identifying-Target-Feature-4\"><span class=\"toc-item-num\">4&nbsp;&nbsp;</span><strong>Identifying Target Feature</strong></a></span></li><li><span><a href=\"#Visualizing-the-Data\" data-toc-modified-id=\"Visualizing-the-Data-5\"><span class=\"toc-item-num\">5&nbsp;&nbsp;</span>Visualizing the Data</a></span></li><li><span><a href=\"#Reviewing-Statistics\" data-toc-modified-id=\"Reviewing-Statistics-6\"><span class=\"toc-item-num\">6&nbsp;&nbsp;</span><strong>Reviewing Statistics</strong></a></span><ul class=\"toc-item\"><li><span><a href=\"#Dropping-Company-Column\" data-toc-modified-id=\"Dropping-Company-Column-6.1\"><span class=\"toc-item-num\">6.1&nbsp;&nbsp;</span>Dropping <code>Company</code> Column</a></span></li><li><span><a href=\"#Inspecting-the-Agent-Feature\" data-toc-modified-id=\"Inspecting-the-Agent-Feature-6.2\"><span class=\"toc-item-num\">6.2&nbsp;&nbsp;</span>Inspecting the <code>Agent</code> Feature</a></span></li><li><span><a href=\"#Comparing-Market_Segment-and-Distribution_Channel\" data-toc-modified-id=\"Comparing-Market_Segment-and-Distribution_Channel-6.3\"><span class=\"toc-item-num\">6.3&nbsp;&nbsp;</span>Comparing <code>Market_Segment</code> and <code>Distribution_Channel</code></a></span></li><li><span><a href=\"#Filling-Missing-Values-for-Country-and-Children\" data-toc-modified-id=\"Filling-Missing-Values-for-Country-and-Children-6.4\"><span class=\"toc-item-num\">6.4&nbsp;&nbsp;</span>Filling Missing Values for <code>Country</code> and <code>Children</code></a></span></li></ul></li><li><span><a href=\"#Inspecting-Feature-Data-Types\" data-toc-modified-id=\"Inspecting-Feature-Data-Types-7\"><span class=\"toc-item-num\">7&nbsp;&nbsp;</span><strong>Inspecting Feature Data Types</strong></a></span><ul class=\"toc-item\"><li><span><a href=\"#Converting-to-String\" data-toc-modified-id=\"Converting-to-String-7.1\"><span class=\"toc-item-num\">7.1&nbsp;&nbsp;</span>Converting to String</a></span></li><li><span><a href=\"#Converting-to-DateTime\" data-toc-modified-id=\"Converting-to-DateTime-7.2\"><span class=\"toc-item-num\">7.2&nbsp;&nbsp;</span>Converting to DateTime</a></span></li></ul></li><li><span><a href=\"#EDA---Features\" data-toc-modified-id=\"EDA---Features-8\"><span class=\"toc-item-num\">8&nbsp;&nbsp;</span><strong>EDA - Features</strong></a></span></li><li><span><a href=\"#--->-🛑-FIX:-Update-narrative-per-feature\" data-toc-modified-id=\"--->-🛑-FIX:-Update-narrative-per-feature-9\"><span class=\"toc-item-num\">9&nbsp;&nbsp;</span>-- &gt; 🛑 <strong>FIX</strong>: Update narrative per feature</a></span><ul class=\"toc-item\"><li><span><a href=\"#Toggle-Visualizations\" data-toc-modified-id=\"Toggle-Visualizations-9.1\"><span class=\"toc-item-num\">9.1&nbsp;&nbsp;</span><strong>Toggle Visualizations</strong></a></span></li><li><span><a href=\"#Reservation_Status\" data-toc-modified-id=\"Reservation_Status-9.2\"><span class=\"toc-item-num\">9.2&nbsp;&nbsp;</span><code>Reservation_Status</code></a></span></li><li><span><a href=\"#Is_Canceled\" data-toc-modified-id=\"Is_Canceled-9.3\"><span class=\"toc-item-num\">9.3&nbsp;&nbsp;</span><code>Is_Canceled</code></a></span></li><li><span><a href=\"#Lead_Time\" data-toc-modified-id=\"Lead_Time-9.4\"><span class=\"toc-item-num\">9.4&nbsp;&nbsp;</span><code>Lead_Time</code></a></span></li><li><span><a href=\"#Arrival_Date_Year\" data-toc-modified-id=\"Arrival_Date_Year-9.5\"><span class=\"toc-item-num\">9.5&nbsp;&nbsp;</span><code>Arrival_Date_Year</code></a></span></li><li><span><a href=\"#Stays_in_Weekend_Nights\" data-toc-modified-id=\"Stays_in_Weekend_Nights-9.6\"><span class=\"toc-item-num\">9.6&nbsp;&nbsp;</span><code>Stays_in_Weekend_Nights</code></a></span></li><li><span><a href=\"#Stays_in_Week_Nights\" data-toc-modified-id=\"Stays_in_Week_Nights-9.7\"><span class=\"toc-item-num\">9.7&nbsp;&nbsp;</span><code>Stays_in_Week_Nights</code></a></span></li><li><span><a href=\"#Adults\" data-toc-modified-id=\"Adults-9.8\"><span class=\"toc-item-num\">9.8&nbsp;&nbsp;</span><code>Adults</code></a></span></li><li><span><a href=\"#Children\" data-toc-modified-id=\"Children-9.9\"><span class=\"toc-item-num\">9.9&nbsp;&nbsp;</span><code>Children</code></a></span></li><li><span><a href=\"#Babies\" data-toc-modified-id=\"Babies-9.10\"><span class=\"toc-item-num\">9.10&nbsp;&nbsp;</span><code>Babies</code></a></span></li><li><span><a href=\"#Meal\" data-toc-modified-id=\"Meal-9.11\"><span class=\"toc-item-num\">9.11&nbsp;&nbsp;</span><code>Meal</code></a></span></li><li><span><a href=\"#Country\" data-toc-modified-id=\"Country-9.12\"><span class=\"toc-item-num\">9.12&nbsp;&nbsp;</span><code>Country</code></a></span></li><li><span><a href=\"#Market_Segment\" data-toc-modified-id=\"Market_Segment-9.13\"><span class=\"toc-item-num\">9.13&nbsp;&nbsp;</span><code>Market_Segment</code></a></span></li><li><span><a href=\"#Is_Repeated_Guest\" data-toc-modified-id=\"Is_Repeated_Guest-9.14\"><span class=\"toc-item-num\">9.14&nbsp;&nbsp;</span><code>Is_Repeated_Guest</code></a></span></li><li><span><a href=\"#Previous_Cancellations\" data-toc-modified-id=\"Previous_Cancellations-9.15\"><span class=\"toc-item-num\">9.15&nbsp;&nbsp;</span><code>Previous_Cancellations</code></a></span></li><li><span><a href=\"#Previous_Bookings_Not_Canceled\" data-toc-modified-id=\"Previous_Bookings_Not_Canceled-9.16\"><span class=\"toc-item-num\">9.16&nbsp;&nbsp;</span><code>Previous_Bookings_Not_Canceled</code></a></span></li><li><span><a href=\"#Reserved_Room_Type\" data-toc-modified-id=\"Reserved_Room_Type-9.17\"><span class=\"toc-item-num\">9.17&nbsp;&nbsp;</span><code>Reserved_Room_Type</code></a></span></li><li><span><a href=\"#Assigned_Room_Type\" data-toc-modified-id=\"Assigned_Room_Type-9.18\"><span class=\"toc-item-num\">9.18&nbsp;&nbsp;</span><code>Assigned_Room_Type</code></a></span></li><li><span><a href=\"#Booking_Changes\" data-toc-modified-id=\"Booking_Changes-9.19\"><span class=\"toc-item-num\">9.19&nbsp;&nbsp;</span><code>Booking_Changes</code></a></span></li><li><span><a href=\"#Deposit_Type\" data-toc-modified-id=\"Deposit_Type-9.20\"><span class=\"toc-item-num\">9.20&nbsp;&nbsp;</span><code>Deposit_Type</code></a></span></li><li><span><a href=\"#Days_in_Waiting_List\" data-toc-modified-id=\"Days_in_Waiting_List-9.21\"><span class=\"toc-item-num\">9.21&nbsp;&nbsp;</span><code>Days_in_Waiting_List</code></a></span></li><li><span><a href=\"#Customer_Type\" data-toc-modified-id=\"Customer_Type-9.22\"><span class=\"toc-item-num\">9.22&nbsp;&nbsp;</span><code>Customer_Type</code></a></span></li><li><span><a href=\"#ADR\" data-toc-modified-id=\"ADR-9.23\"><span class=\"toc-item-num\">9.23&nbsp;&nbsp;</span><code>ADR</code></a></span></li><li><span><a href=\"#Required_Car_Parking_Spaces\" data-toc-modified-id=\"Required_Car_Parking_Spaces-9.24\"><span class=\"toc-item-num\">9.24&nbsp;&nbsp;</span><code>Required_Car_Parking_Spaces</code></a></span></li><li><span><a href=\"#Total_of_Special_Requests\" data-toc-modified-id=\"Total_of_Special_Requests-9.25\"><span class=\"toc-item-num\">9.25&nbsp;&nbsp;</span><code>Total_of_Special_Requests</code></a></span></li><li><span><a href=\"#Reservation_Status_Date\" data-toc-modified-id=\"Reservation_Status_Date-9.26\"><span class=\"toc-item-num\">9.26&nbsp;&nbsp;</span><code>Reservation_Status_Date</code></a></span></li><li><span><a href=\"#Agent_Group\" data-toc-modified-id=\"Agent_Group-9.27\"><span class=\"toc-item-num\">9.27&nbsp;&nbsp;</span><code>Agent_Group</code></a></span></li></ul></li><li><span><a href=\"#🛑-Post-EDA\" data-toc-modified-id=\"🛑-Post-EDA-10\"><span class=\"toc-item-num\">10&nbsp;&nbsp;</span>🛑 <strong>Post-EDA</strong></a></span><ul class=\"toc-item\"><li><span><a href=\"#Updating-Meal\" data-toc-modified-id=\"Updating-Meal-10.1\"><span class=\"toc-item-num\">10.1&nbsp;&nbsp;</span>Updating <code>Meal</code></a></span></li><li><span><a href=\"#Engineering-Arrival_Date\" data-toc-modified-id=\"Engineering-Arrival_Date-10.2\"><span class=\"toc-item-num\">10.2&nbsp;&nbsp;</span>Engineering <code>Arrival_Date</code></a></span></li><li><span><a href=\"#Engineering-Stay-Length\" data-toc-modified-id=\"Engineering-Stay-Length-10.3\"><span class=\"toc-item-num\">10.3&nbsp;&nbsp;</span>Engineering <code>Stay Length</code></a></span></li><li><span><a href=\"#Dropping-Reservation_Status\" data-toc-modified-id=\"Dropping-Reservation_Status-10.4\"><span class=\"toc-item-num\">10.4&nbsp;&nbsp;</span>Dropping <code>Reservation_Status</code></a></span></li><li><span><a href=\"#Dropping-Arrival_Date_Year\" data-toc-modified-id=\"Dropping-Arrival_Date_Year-10.5\"><span class=\"toc-item-num\">10.5&nbsp;&nbsp;</span>Dropping <code>Arrival_Date_Year</code></a></span></li><li><span><a href=\"#Final-Data-Review\" data-toc-modified-id=\"Final-Data-Review-10.6\"><span class=\"toc-item-num\">10.6&nbsp;&nbsp;</span>Final Data Review</a></span></li></ul></li><li><span><a href=\"#Of-Pandas-and-Pickles\" data-toc-modified-id=\"Of-Pandas-and-Pickles-11\"><span class=\"toc-item-num\">11&nbsp;&nbsp;</span><strong>Of Pandas and Pickles</strong></a></span><ul class=\"toc-item\"><li><span><a href=\"#Peter-Panda-Picked-a-Peck-of-Pickled-DataFrames...\" data-toc-modified-id=\"Peter-Panda-Picked-a-Peck-of-Pickled-DataFrames...-11.1\"><span class=\"toc-item-num\">11.1&nbsp;&nbsp;</span>Peter Panda Picked a Peck of Pickled DataFrames...</a></span></li></ul></li><li><span><a href=\"#Moving-to-Modeling!\" data-toc-modified-id=\"Moving-to-Modeling!-12\"><span class=\"toc-item-num\">12&nbsp;&nbsp;</span>Moving to Modeling!</a></span></li></ul></div>"
   ]
  },
  {
   "cell_type": "markdown",
   "metadata": {},
   "source": [
    "# **Hotel Cancel Culture** - **EDA Notebook**"
   ]
  },
  {
   "cell_type": "markdown",
   "metadata": {},
   "source": [
    "---\n",
    "\n",
    "**Author:** Ben McCarty\n",
    "\n",
    "**Capstone Project** - Classification, Time Series Modeling\n",
    "\n",
    "**Contact:** bmccarty505@gmail.com\n",
    "\n",
    "---"
   ]
  },
  {
   "cell_type": "markdown",
   "metadata": {},
   "source": [
    "---\n",
    "\n",
    "**Who?**\n",
    ">* 🏢 **Revenue Management (RM) teams** for hotel groups (corporate, franchise)\n",
    ">\n",
    ">\n",
    ">* 🏨 On-site GMs, Sales, and Ops teams\n",
    "\n",
    "---\n",
    "\n",
    "**Why?**\n",
    ">* 💰 **Revenue Management:** \n",
    ">  * Revenue optimization: Right price, right time, right customer\n",
    ">    * Dynamic pricing\n",
    ">    * Distribution channels\n",
    ">    * Pricing per room type\n",
    ">\n",
    ">\n",
    ">* 🤝 **Sales:**\n",
    ">  * Group sales (pickup/wash)\n",
    ">  * BT (performance/company for both GPP and LNR rates)\n",
    ">\n",
    ">\n",
    ">* 🛌 **Rooms Ops:**\n",
    ">  * Forecasting occupancy, arrivals, departures, stay-overs, same-day booking demand, and probability of guest relocation in the case of oversell.\n",
    ">  * Determining staff schedules and periods of high demand\n",
    ">\n",
    ">\n",
    ">* 🍰 ☕ **Food and Beverage:**\n",
    ">  * Ordering food/supplies overall\n",
    ">  * Scheduling staff\n",
    ">  * Determining busy times (breakfast, lunch, dinner)\n",
    ">    * Staffing, specific food/supplies\n",
    "\n",
    "---\n",
    "\n",
    "**What?**\n",
    ">* 🧾 Dataset comprised of... \n",
    ">  * 32 different features\n",
    ">    * Detailed explanation of features (and sub-categories, when appropriate) available in Readme\n",
    ">  * Nearly 120,000 reservation records\n",
    ">  * Source cited in Readme\n",
    "\n",
    "---\n",
    "\n",
    " **How?**\n",
    ">* Which models/methods?\n",
    ">  * 🔢 Classifiers 🌳\n",
    "    * XGBoost, RFC, ABC, etc.\n",
    ">  * ⏳ Time Series Analysis 📈\n",
    "    * PMD auto-arima\n",
    "    * Statsmodels vector autoregression\n",
    ">\n",
    ">\n",
    ">* Data prep and feature engineering\n",
    "\n",
    "---"
   ]
  },
  {
   "cell_type": "markdown",
   "metadata": {},
   "source": [
    "---\n",
    "\n",
    "> **Goal:** To prepare data for classification modeling in next notebook.\n",
    ">\n",
    ">\n",
    "> **Purpose:** to explore, clean, and organize.\n",
    ">\n",
    ">\n",
    "> **Process:**\n",
    ">\n",
    ">    * Inspecting data integrity and statistics\n",
    ">    * Splitting data by hotel type (\"City\" vs. \"Resort\")\n",
    ">    * Filling any missing values\n",
    ">    * Save processed data for modeling notebook\n",
    ">\n",
    ">\n",
    "> **Modeling Notebook:**\n",
    ">\n",
    ">    * Performing train/test split\n",
    ">    * Training the model\n",
    ">    * Evaluate performance metrics\n",
    ">    * Provide final recommendations\n",
    "\n",
    "---"
   ]
  },
  {
   "cell_type": "markdown",
   "metadata": {
    "toc": true
   },
   "source": [
    "<h1>Table of Contents<span class=\"tocSkip\"></span></h1>\n",
    "<div class=\"toc\"><ul class=\"toc-item\"><li><span><a href=\"#Hotel-Cancel-Culture---EDA-Notebook\" data-toc-modified-id=\"Hotel-Cancel-Culture---EDA-Notebook-1\"><span class=\"toc-item-num\">1&nbsp;&nbsp;</span><strong>Hotel Cancel Culture</strong> - <strong>EDA Notebook</strong></a></span></li><li><span><a href=\"#Import-Packages\" data-toc-modified-id=\"Import-Packages-2\"><span class=\"toc-item-num\">2&nbsp;&nbsp;</span><strong>Import Packages</strong></a></span></li><li><span><a href=\"#Read-Data\" data-toc-modified-id=\"Read-Data-3\"><span class=\"toc-item-num\">3&nbsp;&nbsp;</span><strong>Read Data</strong></a></span></li><li><span><a href=\"#Identifying-Target-Feature\" data-toc-modified-id=\"Identifying-Target-Feature-4\"><span class=\"toc-item-num\">4&nbsp;&nbsp;</span><strong>Identifying Target Feature</strong></a></span></li><li><span><a href=\"#Reviewing-Statistics\" data-toc-modified-id=\"Reviewing-Statistics-5\"><span class=\"toc-item-num\">5&nbsp;&nbsp;</span><strong>Reviewing Statistics</strong></a></span><ul class=\"toc-item\"><li><span><a href=\"#Dropping-Company-Column\" data-toc-modified-id=\"Dropping-Company-Column-5.1\"><span class=\"toc-item-num\">5.1&nbsp;&nbsp;</span>Dropping <code>Company</code> Column</a></span></li><li><span><a href=\"#Inspecting-the-Agent-Feature\" data-toc-modified-id=\"Inspecting-the-Agent-Feature-5.2\"><span class=\"toc-item-num\">5.2&nbsp;&nbsp;</span>Inspecting the <code>Agent</code> Feature</a></span></li><li><span><a href=\"#Comparing-Market_Segment-and-Distribution_Channel\" data-toc-modified-id=\"Comparing-Market_Segment-and-Distribution_Channel-5.3\"><span class=\"toc-item-num\">5.3&nbsp;&nbsp;</span>Comparing <code>Market_Segment</code> and <code>Distribution_Channel</code></a></span></li><li><span><a href=\"#Filling-Missing-Values-for-Country-and-Children\" data-toc-modified-id=\"Filling-Missing-Values-for-Country-and-Children-5.4\"><span class=\"toc-item-num\">5.4&nbsp;&nbsp;</span>Filling Missing Values for <code>Country</code> and <code>Children</code></a></span></li></ul></li><li><span><a href=\"#Inspecting-Feature-Data-Types\" data-toc-modified-id=\"Inspecting-Feature-Data-Types-6\"><span class=\"toc-item-num\">6&nbsp;&nbsp;</span><strong>Inspecting Feature Data Types</strong></a></span><ul class=\"toc-item\"><li><span><a href=\"#Converting-to-String\" data-toc-modified-id=\"Converting-to-String-6.1\"><span class=\"toc-item-num\">6.1&nbsp;&nbsp;</span>Converting to String</a></span></li><li><span><a href=\"#Converting-to-DateTime\" data-toc-modified-id=\"Converting-to-DateTime-6.2\"><span class=\"toc-item-num\">6.2&nbsp;&nbsp;</span>Converting to DateTime</a></span></li></ul></li><li><span><a href=\"#EDA---Features\" data-toc-modified-id=\"EDA---Features-7\"><span class=\"toc-item-num\">7&nbsp;&nbsp;</span><strong>EDA - Features</strong></a></span></li><li><span><a href=\"#--->-🛑-FIX:-Update-narrative-per-feature\" data-toc-modified-id=\"--->-🛑-FIX:-Update-narrative-per-feature-8\"><span class=\"toc-item-num\">8&nbsp;&nbsp;</span>-- &gt; 🛑 <strong>FIX</strong>: Update narrative per feature</a></span><ul class=\"toc-item\"><li><span><a href=\"#Toggle-Visualizations\" data-toc-modified-id=\"Toggle-Visualizations-8.1\"><span class=\"toc-item-num\">8.1&nbsp;&nbsp;</span><strong>Toggle Visualizations</strong></a></span></li><li><span><a href=\"#Reservation_Status\" data-toc-modified-id=\"Reservation_Status-8.2\"><span class=\"toc-item-num\">8.2&nbsp;&nbsp;</span><code>Reservation_Status</code></a></span></li><li><span><a href=\"#Is_Canceled\" data-toc-modified-id=\"Is_Canceled-8.3\"><span class=\"toc-item-num\">8.3&nbsp;&nbsp;</span><code>Is_Canceled</code></a></span></li><li><span><a href=\"#Lead_Time\" data-toc-modified-id=\"Lead_Time-8.4\"><span class=\"toc-item-num\">8.4&nbsp;&nbsp;</span><code>Lead_Time</code></a></span></li><li><span><a href=\"#Arrival_Date_Year\" data-toc-modified-id=\"Arrival_Date_Year-8.5\"><span class=\"toc-item-num\">8.5&nbsp;&nbsp;</span><code>Arrival_Date_Year</code></a></span></li><li><span><a href=\"#Stays_in_Weekend_Nights\" data-toc-modified-id=\"Stays_in_Weekend_Nights-8.6\"><span class=\"toc-item-num\">8.6&nbsp;&nbsp;</span><code>Stays_in_Weekend_Nights</code></a></span></li><li><span><a href=\"#Stays_in_Week_Nights\" data-toc-modified-id=\"Stays_in_Week_Nights-8.7\"><span class=\"toc-item-num\">8.7&nbsp;&nbsp;</span><code>Stays_in_Week_Nights</code></a></span></li><li><span><a href=\"#Adults\" data-toc-modified-id=\"Adults-8.8\"><span class=\"toc-item-num\">8.8&nbsp;&nbsp;</span><code>Adults</code></a></span></li><li><span><a href=\"#Children\" data-toc-modified-id=\"Children-8.9\"><span class=\"toc-item-num\">8.9&nbsp;&nbsp;</span><code>Children</code></a></span></li><li><span><a href=\"#Babies\" data-toc-modified-id=\"Babies-8.10\"><span class=\"toc-item-num\">8.10&nbsp;&nbsp;</span><code>Babies</code></a></span></li><li><span><a href=\"#Meal\" data-toc-modified-id=\"Meal-8.11\"><span class=\"toc-item-num\">8.11&nbsp;&nbsp;</span><code>Meal</code></a></span></li><li><span><a href=\"#Country\" data-toc-modified-id=\"Country-8.12\"><span class=\"toc-item-num\">8.12&nbsp;&nbsp;</span><code>Country</code></a></span></li><li><span><a href=\"#Market_Segment\" data-toc-modified-id=\"Market_Segment-8.13\"><span class=\"toc-item-num\">8.13&nbsp;&nbsp;</span><code>Market_Segment</code></a></span></li><li><span><a href=\"#Is_Repeated_Guest\" data-toc-modified-id=\"Is_Repeated_Guest-8.14\"><span class=\"toc-item-num\">8.14&nbsp;&nbsp;</span><code>Is_Repeated_Guest</code></a></span></li><li><span><a href=\"#Previous_Cancellations\" data-toc-modified-id=\"Previous_Cancellations-8.15\"><span class=\"toc-item-num\">8.15&nbsp;&nbsp;</span><code>Previous_Cancellations</code></a></span></li><li><span><a href=\"#Previous_Bookings_Not_Canceled\" data-toc-modified-id=\"Previous_Bookings_Not_Canceled-8.16\"><span class=\"toc-item-num\">8.16&nbsp;&nbsp;</span><code>Previous_Bookings_Not_Canceled</code></a></span></li><li><span><a href=\"#Reserved_Room_Type\" data-toc-modified-id=\"Reserved_Room_Type-8.17\"><span class=\"toc-item-num\">8.17&nbsp;&nbsp;</span><code>Reserved_Room_Type</code></a></span></li><li><span><a href=\"#Assigned_Room_Type\" data-toc-modified-id=\"Assigned_Room_Type-8.18\"><span class=\"toc-item-num\">8.18&nbsp;&nbsp;</span><code>Assigned_Room_Type</code></a></span></li><li><span><a href=\"#Booking_Changes\" data-toc-modified-id=\"Booking_Changes-8.19\"><span class=\"toc-item-num\">8.19&nbsp;&nbsp;</span><code>Booking_Changes</code></a></span></li><li><span><a href=\"#Deposit_Type\" data-toc-modified-id=\"Deposit_Type-8.20\"><span class=\"toc-item-num\">8.20&nbsp;&nbsp;</span><code>Deposit_Type</code></a></span></li><li><span><a href=\"#Days_in_Waiting_List\" data-toc-modified-id=\"Days_in_Waiting_List-8.21\"><span class=\"toc-item-num\">8.21&nbsp;&nbsp;</span><code>Days_in_Waiting_List</code></a></span></li><li><span><a href=\"#Customer_Type\" data-toc-modified-id=\"Customer_Type-8.22\"><span class=\"toc-item-num\">8.22&nbsp;&nbsp;</span><code>Customer_Type</code></a></span></li><li><span><a href=\"#ADR\" data-toc-modified-id=\"ADR-8.23\"><span class=\"toc-item-num\">8.23&nbsp;&nbsp;</span><code>ADR</code></a></span></li><li><span><a href=\"#Required_Car_Parking_Spaces\" data-toc-modified-id=\"Required_Car_Parking_Spaces-8.24\"><span class=\"toc-item-num\">8.24&nbsp;&nbsp;</span><code>Required_Car_Parking_Spaces</code></a></span></li><li><span><a href=\"#Total_of_Special_Requests\" data-toc-modified-id=\"Total_of_Special_Requests-8.25\"><span class=\"toc-item-num\">8.25&nbsp;&nbsp;</span><code>Total_of_Special_Requests</code></a></span></li><li><span><a href=\"#Reservation_Status_Date\" data-toc-modified-id=\"Reservation_Status_Date-8.26\"><span class=\"toc-item-num\">8.26&nbsp;&nbsp;</span><code>Reservation_Status_Date</code></a></span></li><li><span><a href=\"#Agent_Group\" data-toc-modified-id=\"Agent_Group-8.27\"><span class=\"toc-item-num\">8.27&nbsp;&nbsp;</span><code>Agent_Group</code></a></span></li></ul></li><li><span><a href=\"#🛑-Post-EDA\" data-toc-modified-id=\"🛑-Post-EDA-9\"><span class=\"toc-item-num\">9&nbsp;&nbsp;</span>🛑 <strong>Post-EDA</strong></a></span><ul class=\"toc-item\"><li><span><a href=\"#Reservation_Status:-Converting-No-Show-to-Canceled\" data-toc-modified-id=\"Reservation_Status:-Converting-No-Show-to-Canceled-9.1\"><span class=\"toc-item-num\">9.1&nbsp;&nbsp;</span><code>Reservation_Status</code>: Converting <code>No-Show</code> to <code>Canceled</code></a></span><ul class=\"toc-item\"><li><span><a href=\"#Review---Reservation_Status\" data-toc-modified-id=\"Review---Reservation_Status-9.1.1\"><span class=\"toc-item-num\">9.1.1&nbsp;&nbsp;</span>Review - <code>Reservation_Status</code></a></span></li></ul></li><li><span><a href=\"#Engineering-Arrival_Date\" data-toc-modified-id=\"Engineering-Arrival_Date-9.2\"><span class=\"toc-item-num\">9.2&nbsp;&nbsp;</span>Engineering <code>Arrival_Date</code></a></span></li><li><span><a href=\"#Dropping-Reservation_Status\" data-toc-modified-id=\"Dropping-Reservation_Status-9.3\"><span class=\"toc-item-num\">9.3&nbsp;&nbsp;</span>Dropping <code>Reservation_Status</code></a></span></li><li><span><a href=\"#Dropping-Arrival_Date_Year\" data-toc-modified-id=\"Dropping-Arrival_Date_Year-9.4\"><span class=\"toc-item-num\">9.4&nbsp;&nbsp;</span>Dropping <code>Arrival_Date_Year</code></a></span></li><li><span><a href=\"#Final-Data-Review\" data-toc-modified-id=\"Final-Data-Review-9.5\"><span class=\"toc-item-num\">9.5&nbsp;&nbsp;</span>Final Data Review</a></span></li></ul></li><li><span><a href=\"#Of-Pandas-and-Pickles\" data-toc-modified-id=\"Of-Pandas-and-Pickles-10\"><span class=\"toc-item-num\">10&nbsp;&nbsp;</span><strong>Of Pandas and Pickles</strong></a></span><ul class=\"toc-item\"><li><span><a href=\"#Peter-Panda-Picked-a-Peck-of-Pickled-DataFrames...\" data-toc-modified-id=\"Peter-Panda-Picked-a-Peck-of-Pickled-DataFrames...-10.1\"><span class=\"toc-item-num\">10.1&nbsp;&nbsp;</span>Peter Panda Picked a Peck of Pickled DataFrames...</a></span></li></ul></li><li><span><a href=\"#Moving-to-Modeling!\" data-toc-modified-id=\"Moving-to-Modeling!-11\"><span class=\"toc-item-num\">11&nbsp;&nbsp;</span>Moving to Modeling!</a></span></li></ul></div>"
   ]
  },
  {
   "cell_type": "markdown",
   "metadata": {},
   "source": [
    "# **Import Packages**"
   ]
  },
  {
   "cell_type": "markdown",
   "metadata": {},
   "source": [
    "---\n",
    "\n",
    "> To start off, I will import a variety of packages to assist with handling my data; creating visualizations; and reviewing statistical data.\n",
    "\n",
    "---"
   ]
  },
  {
   "cell_type": "code",
   "execution_count": 1,
   "metadata": {
    "ExecuteTime": {
     "end_time": "2021-09-14T14:10:06.656580Z",
     "start_time": "2021-09-14T14:10:02.299805Z"
    }
   },
   "outputs": [],
   "source": [
    "## Data Handling\n",
    "import pandas as pd\n",
    "import numpy as np\n",
    "\n",
    "## Visualizations\n",
    "import matplotlib.pyplot as plt\n",
    "import plotly.express as px\n",
    "import seaborn as sns\n",
    "\n",
    "## Custom-made Functions\n",
    "from bmc_functions import eda"
   ]
  },
  {
   "cell_type": "code",
   "execution_count": 2,
   "metadata": {
    "ExecuteTime": {
     "end_time": "2021-09-14T14:10:06.672442Z",
     "start_time": "2021-09-14T14:10:06.659470Z"
    }
   },
   "outputs": [],
   "source": [
    "## Settings\n",
    "pd.set_option('display.max_columns', None)\n",
    "pd.set_option('display.float_format', lambda x: f'{x:,.2f}')\n",
    "pd.set_option('max_rows', 50)\n",
    "%matplotlib inline"
   ]
  },
  {
   "cell_type": "code",
   "execution_count": 3,
   "metadata": {
    "ExecuteTime": {
     "end_time": "2021-09-14T14:10:06.810451Z",
     "start_time": "2021-09-14T14:10:06.675444Z"
    }
   },
   "outputs": [],
   "source": [
    "%load_ext autoreload\n",
    "%autoreload 2"
   ]
  },
  {
   "cell_type": "markdown",
   "metadata": {},
   "source": [
    "# **Read Data**"
   ]
  },
  {
   "cell_type": "code",
   "execution_count": 4,
   "metadata": {
    "ExecuteTime": {
     "end_time": "2021-09-14T14:10:07.154387Z",
     "start_time": "2021-09-14T14:10:06.813453Z"
    }
   },
   "outputs": [
    {
     "data": {
      "text/html": [
       "<div>\n",
       "<style scoped>\n",
       "    .dataframe tbody tr th:only-of-type {\n",
       "        vertical-align: middle;\n",
       "    }\n",
       "\n",
       "    .dataframe tbody tr th {\n",
       "        vertical-align: top;\n",
       "    }\n",
       "\n",
       "    .dataframe thead th {\n",
       "        text-align: right;\n",
       "    }\n",
       "</style>\n",
       "<table border=\"1\" class=\"dataframe\">\n",
       "  <thead>\n",
       "    <tr style=\"text-align: right;\">\n",
       "      <th></th>\n",
       "      <th>hotel</th>\n",
       "      <th>is_canceled</th>\n",
       "      <th>lead_time</th>\n",
       "      <th>arrival_date_year</th>\n",
       "      <th>arrival_date_month</th>\n",
       "      <th>arrival_date_week_number</th>\n",
       "      <th>arrival_date_day_of_month</th>\n",
       "      <th>stays_in_weekend_nights</th>\n",
       "      <th>stays_in_week_nights</th>\n",
       "      <th>adults</th>\n",
       "      <th>children</th>\n",
       "      <th>babies</th>\n",
       "      <th>meal</th>\n",
       "      <th>country</th>\n",
       "      <th>market_segment</th>\n",
       "      <th>distribution_channel</th>\n",
       "      <th>is_repeated_guest</th>\n",
       "      <th>previous_cancellations</th>\n",
       "      <th>previous_bookings_not_canceled</th>\n",
       "      <th>reserved_room_type</th>\n",
       "      <th>assigned_room_type</th>\n",
       "      <th>booking_changes</th>\n",
       "      <th>deposit_type</th>\n",
       "      <th>agent</th>\n",
       "      <th>company</th>\n",
       "      <th>days_in_waiting_list</th>\n",
       "      <th>customer_type</th>\n",
       "      <th>adr</th>\n",
       "      <th>required_car_parking_spaces</th>\n",
       "      <th>total_of_special_requests</th>\n",
       "      <th>reservation_status</th>\n",
       "      <th>reservation_status_date</th>\n",
       "    </tr>\n",
       "  </thead>\n",
       "  <tbody>\n",
       "    <tr>\n",
       "      <th>0</th>\n",
       "      <td>Resort Hotel</td>\n",
       "      <td>0</td>\n",
       "      <td>342</td>\n",
       "      <td>2015</td>\n",
       "      <td>July</td>\n",
       "      <td>27</td>\n",
       "      <td>1</td>\n",
       "      <td>0</td>\n",
       "      <td>0</td>\n",
       "      <td>2</td>\n",
       "      <td>0.00</td>\n",
       "      <td>0</td>\n",
       "      <td>BB</td>\n",
       "      <td>PRT</td>\n",
       "      <td>Direct</td>\n",
       "      <td>Direct</td>\n",
       "      <td>0</td>\n",
       "      <td>0</td>\n",
       "      <td>0</td>\n",
       "      <td>C</td>\n",
       "      <td>C</td>\n",
       "      <td>3</td>\n",
       "      <td>No Deposit</td>\n",
       "      <td>nan</td>\n",
       "      <td>nan</td>\n",
       "      <td>0</td>\n",
       "      <td>Transient</td>\n",
       "      <td>0.00</td>\n",
       "      <td>0</td>\n",
       "      <td>0</td>\n",
       "      <td>Check-Out</td>\n",
       "      <td>7/1/2015</td>\n",
       "    </tr>\n",
       "    <tr>\n",
       "      <th>1</th>\n",
       "      <td>Resort Hotel</td>\n",
       "      <td>0</td>\n",
       "      <td>737</td>\n",
       "      <td>2015</td>\n",
       "      <td>July</td>\n",
       "      <td>27</td>\n",
       "      <td>1</td>\n",
       "      <td>0</td>\n",
       "      <td>0</td>\n",
       "      <td>2</td>\n",
       "      <td>0.00</td>\n",
       "      <td>0</td>\n",
       "      <td>BB</td>\n",
       "      <td>PRT</td>\n",
       "      <td>Direct</td>\n",
       "      <td>Direct</td>\n",
       "      <td>0</td>\n",
       "      <td>0</td>\n",
       "      <td>0</td>\n",
       "      <td>C</td>\n",
       "      <td>C</td>\n",
       "      <td>4</td>\n",
       "      <td>No Deposit</td>\n",
       "      <td>nan</td>\n",
       "      <td>nan</td>\n",
       "      <td>0</td>\n",
       "      <td>Transient</td>\n",
       "      <td>0.00</td>\n",
       "      <td>0</td>\n",
       "      <td>0</td>\n",
       "      <td>Check-Out</td>\n",
       "      <td>7/1/2015</td>\n",
       "    </tr>\n",
       "    <tr>\n",
       "      <th>2</th>\n",
       "      <td>Resort Hotel</td>\n",
       "      <td>0</td>\n",
       "      <td>7</td>\n",
       "      <td>2015</td>\n",
       "      <td>July</td>\n",
       "      <td>27</td>\n",
       "      <td>1</td>\n",
       "      <td>0</td>\n",
       "      <td>1</td>\n",
       "      <td>1</td>\n",
       "      <td>0.00</td>\n",
       "      <td>0</td>\n",
       "      <td>BB</td>\n",
       "      <td>GBR</td>\n",
       "      <td>Direct</td>\n",
       "      <td>Direct</td>\n",
       "      <td>0</td>\n",
       "      <td>0</td>\n",
       "      <td>0</td>\n",
       "      <td>A</td>\n",
       "      <td>C</td>\n",
       "      <td>0</td>\n",
       "      <td>No Deposit</td>\n",
       "      <td>nan</td>\n",
       "      <td>nan</td>\n",
       "      <td>0</td>\n",
       "      <td>Transient</td>\n",
       "      <td>75.00</td>\n",
       "      <td>0</td>\n",
       "      <td>0</td>\n",
       "      <td>Check-Out</td>\n",
       "      <td>7/2/2015</td>\n",
       "    </tr>\n",
       "    <tr>\n",
       "      <th>3</th>\n",
       "      <td>Resort Hotel</td>\n",
       "      <td>0</td>\n",
       "      <td>13</td>\n",
       "      <td>2015</td>\n",
       "      <td>July</td>\n",
       "      <td>27</td>\n",
       "      <td>1</td>\n",
       "      <td>0</td>\n",
       "      <td>1</td>\n",
       "      <td>1</td>\n",
       "      <td>0.00</td>\n",
       "      <td>0</td>\n",
       "      <td>BB</td>\n",
       "      <td>GBR</td>\n",
       "      <td>Corporate</td>\n",
       "      <td>Corporate</td>\n",
       "      <td>0</td>\n",
       "      <td>0</td>\n",
       "      <td>0</td>\n",
       "      <td>A</td>\n",
       "      <td>A</td>\n",
       "      <td>0</td>\n",
       "      <td>No Deposit</td>\n",
       "      <td>304.00</td>\n",
       "      <td>nan</td>\n",
       "      <td>0</td>\n",
       "      <td>Transient</td>\n",
       "      <td>75.00</td>\n",
       "      <td>0</td>\n",
       "      <td>0</td>\n",
       "      <td>Check-Out</td>\n",
       "      <td>7/2/2015</td>\n",
       "    </tr>\n",
       "    <tr>\n",
       "      <th>4</th>\n",
       "      <td>Resort Hotel</td>\n",
       "      <td>0</td>\n",
       "      <td>14</td>\n",
       "      <td>2015</td>\n",
       "      <td>July</td>\n",
       "      <td>27</td>\n",
       "      <td>1</td>\n",
       "      <td>0</td>\n",
       "      <td>2</td>\n",
       "      <td>2</td>\n",
       "      <td>0.00</td>\n",
       "      <td>0</td>\n",
       "      <td>BB</td>\n",
       "      <td>GBR</td>\n",
       "      <td>Online TA</td>\n",
       "      <td>TA/TO</td>\n",
       "      <td>0</td>\n",
       "      <td>0</td>\n",
       "      <td>0</td>\n",
       "      <td>A</td>\n",
       "      <td>A</td>\n",
       "      <td>0</td>\n",
       "      <td>No Deposit</td>\n",
       "      <td>240.00</td>\n",
       "      <td>nan</td>\n",
       "      <td>0</td>\n",
       "      <td>Transient</td>\n",
       "      <td>98.00</td>\n",
       "      <td>0</td>\n",
       "      <td>1</td>\n",
       "      <td>Check-Out</td>\n",
       "      <td>7/3/2015</td>\n",
       "    </tr>\n",
       "    <tr>\n",
       "      <th>...</th>\n",
       "      <td>...</td>\n",
       "      <td>...</td>\n",
       "      <td>...</td>\n",
       "      <td>...</td>\n",
       "      <td>...</td>\n",
       "      <td>...</td>\n",
       "      <td>...</td>\n",
       "      <td>...</td>\n",
       "      <td>...</td>\n",
       "      <td>...</td>\n",
       "      <td>...</td>\n",
       "      <td>...</td>\n",
       "      <td>...</td>\n",
       "      <td>...</td>\n",
       "      <td>...</td>\n",
       "      <td>...</td>\n",
       "      <td>...</td>\n",
       "      <td>...</td>\n",
       "      <td>...</td>\n",
       "      <td>...</td>\n",
       "      <td>...</td>\n",
       "      <td>...</td>\n",
       "      <td>...</td>\n",
       "      <td>...</td>\n",
       "      <td>...</td>\n",
       "      <td>...</td>\n",
       "      <td>...</td>\n",
       "      <td>...</td>\n",
       "      <td>...</td>\n",
       "      <td>...</td>\n",
       "      <td>...</td>\n",
       "      <td>...</td>\n",
       "    </tr>\n",
       "    <tr>\n",
       "      <th>119385</th>\n",
       "      <td>City Hotel</td>\n",
       "      <td>0</td>\n",
       "      <td>23</td>\n",
       "      <td>2017</td>\n",
       "      <td>August</td>\n",
       "      <td>35</td>\n",
       "      <td>30</td>\n",
       "      <td>2</td>\n",
       "      <td>5</td>\n",
       "      <td>2</td>\n",
       "      <td>0.00</td>\n",
       "      <td>0</td>\n",
       "      <td>BB</td>\n",
       "      <td>BEL</td>\n",
       "      <td>Offline TA/TO</td>\n",
       "      <td>TA/TO</td>\n",
       "      <td>0</td>\n",
       "      <td>0</td>\n",
       "      <td>0</td>\n",
       "      <td>A</td>\n",
       "      <td>A</td>\n",
       "      <td>0</td>\n",
       "      <td>No Deposit</td>\n",
       "      <td>394.00</td>\n",
       "      <td>nan</td>\n",
       "      <td>0</td>\n",
       "      <td>Transient</td>\n",
       "      <td>96.14</td>\n",
       "      <td>0</td>\n",
       "      <td>0</td>\n",
       "      <td>Check-Out</td>\n",
       "      <td>9/6/2017</td>\n",
       "    </tr>\n",
       "    <tr>\n",
       "      <th>119386</th>\n",
       "      <td>City Hotel</td>\n",
       "      <td>0</td>\n",
       "      <td>102</td>\n",
       "      <td>2017</td>\n",
       "      <td>August</td>\n",
       "      <td>35</td>\n",
       "      <td>31</td>\n",
       "      <td>2</td>\n",
       "      <td>5</td>\n",
       "      <td>3</td>\n",
       "      <td>0.00</td>\n",
       "      <td>0</td>\n",
       "      <td>BB</td>\n",
       "      <td>FRA</td>\n",
       "      <td>Online TA</td>\n",
       "      <td>TA/TO</td>\n",
       "      <td>0</td>\n",
       "      <td>0</td>\n",
       "      <td>0</td>\n",
       "      <td>E</td>\n",
       "      <td>E</td>\n",
       "      <td>0</td>\n",
       "      <td>No Deposit</td>\n",
       "      <td>9.00</td>\n",
       "      <td>nan</td>\n",
       "      <td>0</td>\n",
       "      <td>Transient</td>\n",
       "      <td>225.43</td>\n",
       "      <td>0</td>\n",
       "      <td>2</td>\n",
       "      <td>Check-Out</td>\n",
       "      <td>9/7/2017</td>\n",
       "    </tr>\n",
       "    <tr>\n",
       "      <th>119387</th>\n",
       "      <td>City Hotel</td>\n",
       "      <td>0</td>\n",
       "      <td>34</td>\n",
       "      <td>2017</td>\n",
       "      <td>August</td>\n",
       "      <td>35</td>\n",
       "      <td>31</td>\n",
       "      <td>2</td>\n",
       "      <td>5</td>\n",
       "      <td>2</td>\n",
       "      <td>0.00</td>\n",
       "      <td>0</td>\n",
       "      <td>BB</td>\n",
       "      <td>DEU</td>\n",
       "      <td>Online TA</td>\n",
       "      <td>TA/TO</td>\n",
       "      <td>0</td>\n",
       "      <td>0</td>\n",
       "      <td>0</td>\n",
       "      <td>D</td>\n",
       "      <td>D</td>\n",
       "      <td>0</td>\n",
       "      <td>No Deposit</td>\n",
       "      <td>9.00</td>\n",
       "      <td>nan</td>\n",
       "      <td>0</td>\n",
       "      <td>Transient</td>\n",
       "      <td>157.71</td>\n",
       "      <td>0</td>\n",
       "      <td>4</td>\n",
       "      <td>Check-Out</td>\n",
       "      <td>9/7/2017</td>\n",
       "    </tr>\n",
       "    <tr>\n",
       "      <th>119388</th>\n",
       "      <td>City Hotel</td>\n",
       "      <td>0</td>\n",
       "      <td>109</td>\n",
       "      <td>2017</td>\n",
       "      <td>August</td>\n",
       "      <td>35</td>\n",
       "      <td>31</td>\n",
       "      <td>2</td>\n",
       "      <td>5</td>\n",
       "      <td>2</td>\n",
       "      <td>0.00</td>\n",
       "      <td>0</td>\n",
       "      <td>BB</td>\n",
       "      <td>GBR</td>\n",
       "      <td>Online TA</td>\n",
       "      <td>TA/TO</td>\n",
       "      <td>0</td>\n",
       "      <td>0</td>\n",
       "      <td>0</td>\n",
       "      <td>A</td>\n",
       "      <td>A</td>\n",
       "      <td>0</td>\n",
       "      <td>No Deposit</td>\n",
       "      <td>89.00</td>\n",
       "      <td>nan</td>\n",
       "      <td>0</td>\n",
       "      <td>Transient</td>\n",
       "      <td>104.40</td>\n",
       "      <td>0</td>\n",
       "      <td>0</td>\n",
       "      <td>Check-Out</td>\n",
       "      <td>9/7/2017</td>\n",
       "    </tr>\n",
       "    <tr>\n",
       "      <th>119389</th>\n",
       "      <td>City Hotel</td>\n",
       "      <td>0</td>\n",
       "      <td>205</td>\n",
       "      <td>2017</td>\n",
       "      <td>August</td>\n",
       "      <td>35</td>\n",
       "      <td>29</td>\n",
       "      <td>2</td>\n",
       "      <td>7</td>\n",
       "      <td>2</td>\n",
       "      <td>0.00</td>\n",
       "      <td>0</td>\n",
       "      <td>HB</td>\n",
       "      <td>DEU</td>\n",
       "      <td>Online TA</td>\n",
       "      <td>TA/TO</td>\n",
       "      <td>0</td>\n",
       "      <td>0</td>\n",
       "      <td>0</td>\n",
       "      <td>A</td>\n",
       "      <td>A</td>\n",
       "      <td>0</td>\n",
       "      <td>No Deposit</td>\n",
       "      <td>9.00</td>\n",
       "      <td>nan</td>\n",
       "      <td>0</td>\n",
       "      <td>Transient</td>\n",
       "      <td>151.20</td>\n",
       "      <td>0</td>\n",
       "      <td>2</td>\n",
       "      <td>Check-Out</td>\n",
       "      <td>9/7/2017</td>\n",
       "    </tr>\n",
       "  </tbody>\n",
       "</table>\n",
       "<p>119390 rows × 32 columns</p>\n",
       "</div>"
      ],
      "text/plain": [
       "               hotel  is_canceled  lead_time  arrival_date_year  \\\n",
       "0       Resort Hotel            0        342               2015   \n",
       "1       Resort Hotel            0        737               2015   \n",
       "2       Resort Hotel            0          7               2015   \n",
       "3       Resort Hotel            0         13               2015   \n",
       "4       Resort Hotel            0         14               2015   \n",
       "...              ...          ...        ...                ...   \n",
       "119385    City Hotel            0         23               2017   \n",
       "119386    City Hotel            0        102               2017   \n",
       "119387    City Hotel            0         34               2017   \n",
       "119388    City Hotel            0        109               2017   \n",
       "119389    City Hotel            0        205               2017   \n",
       "\n",
       "       arrival_date_month  arrival_date_week_number  \\\n",
       "0                    July                        27   \n",
       "1                    July                        27   \n",
       "2                    July                        27   \n",
       "3                    July                        27   \n",
       "4                    July                        27   \n",
       "...                   ...                       ...   \n",
       "119385             August                        35   \n",
       "119386             August                        35   \n",
       "119387             August                        35   \n",
       "119388             August                        35   \n",
       "119389             August                        35   \n",
       "\n",
       "        arrival_date_day_of_month  stays_in_weekend_nights  \\\n",
       "0                               1                        0   \n",
       "1                               1                        0   \n",
       "2                               1                        0   \n",
       "3                               1                        0   \n",
       "4                               1                        0   \n",
       "...                           ...                      ...   \n",
       "119385                         30                        2   \n",
       "119386                         31                        2   \n",
       "119387                         31                        2   \n",
       "119388                         31                        2   \n",
       "119389                         29                        2   \n",
       "\n",
       "        stays_in_week_nights  adults  children  babies meal country  \\\n",
       "0                          0       2      0.00       0   BB     PRT   \n",
       "1                          0       2      0.00       0   BB     PRT   \n",
       "2                          1       1      0.00       0   BB     GBR   \n",
       "3                          1       1      0.00       0   BB     GBR   \n",
       "4                          2       2      0.00       0   BB     GBR   \n",
       "...                      ...     ...       ...     ...  ...     ...   \n",
       "119385                     5       2      0.00       0   BB     BEL   \n",
       "119386                     5       3      0.00       0   BB     FRA   \n",
       "119387                     5       2      0.00       0   BB     DEU   \n",
       "119388                     5       2      0.00       0   BB     GBR   \n",
       "119389                     7       2      0.00       0   HB     DEU   \n",
       "\n",
       "       market_segment distribution_channel  is_repeated_guest  \\\n",
       "0              Direct               Direct                  0   \n",
       "1              Direct               Direct                  0   \n",
       "2              Direct               Direct                  0   \n",
       "3           Corporate            Corporate                  0   \n",
       "4           Online TA                TA/TO                  0   \n",
       "...               ...                  ...                ...   \n",
       "119385  Offline TA/TO                TA/TO                  0   \n",
       "119386      Online TA                TA/TO                  0   \n",
       "119387      Online TA                TA/TO                  0   \n",
       "119388      Online TA                TA/TO                  0   \n",
       "119389      Online TA                TA/TO                  0   \n",
       "\n",
       "        previous_cancellations  previous_bookings_not_canceled  \\\n",
       "0                            0                               0   \n",
       "1                            0                               0   \n",
       "2                            0                               0   \n",
       "3                            0                               0   \n",
       "4                            0                               0   \n",
       "...                        ...                             ...   \n",
       "119385                       0                               0   \n",
       "119386                       0                               0   \n",
       "119387                       0                               0   \n",
       "119388                       0                               0   \n",
       "119389                       0                               0   \n",
       "\n",
       "       reserved_room_type assigned_room_type  booking_changes deposit_type  \\\n",
       "0                       C                  C                3   No Deposit   \n",
       "1                       C                  C                4   No Deposit   \n",
       "2                       A                  C                0   No Deposit   \n",
       "3                       A                  A                0   No Deposit   \n",
       "4                       A                  A                0   No Deposit   \n",
       "...                   ...                ...              ...          ...   \n",
       "119385                  A                  A                0   No Deposit   \n",
       "119386                  E                  E                0   No Deposit   \n",
       "119387                  D                  D                0   No Deposit   \n",
       "119388                  A                  A                0   No Deposit   \n",
       "119389                  A                  A                0   No Deposit   \n",
       "\n",
       "        agent  company  days_in_waiting_list customer_type    adr  \\\n",
       "0         nan      nan                     0     Transient   0.00   \n",
       "1         nan      nan                     0     Transient   0.00   \n",
       "2         nan      nan                     0     Transient  75.00   \n",
       "3      304.00      nan                     0     Transient  75.00   \n",
       "4      240.00      nan                     0     Transient  98.00   \n",
       "...       ...      ...                   ...           ...    ...   \n",
       "119385 394.00      nan                     0     Transient  96.14   \n",
       "119386   9.00      nan                     0     Transient 225.43   \n",
       "119387   9.00      nan                     0     Transient 157.71   \n",
       "119388  89.00      nan                     0     Transient 104.40   \n",
       "119389   9.00      nan                     0     Transient 151.20   \n",
       "\n",
       "        required_car_parking_spaces  total_of_special_requests  \\\n",
       "0                                 0                          0   \n",
       "1                                 0                          0   \n",
       "2                                 0                          0   \n",
       "3                                 0                          0   \n",
       "4                                 0                          1   \n",
       "...                             ...                        ...   \n",
       "119385                            0                          0   \n",
       "119386                            0                          2   \n",
       "119387                            0                          4   \n",
       "119388                            0                          0   \n",
       "119389                            0                          2   \n",
       "\n",
       "       reservation_status reservation_status_date  \n",
       "0               Check-Out                7/1/2015  \n",
       "1               Check-Out                7/1/2015  \n",
       "2               Check-Out                7/2/2015  \n",
       "3               Check-Out                7/2/2015  \n",
       "4               Check-Out                7/3/2015  \n",
       "...                   ...                     ...  \n",
       "119385          Check-Out                9/6/2017  \n",
       "119386          Check-Out                9/7/2017  \n",
       "119387          Check-Out                9/7/2017  \n",
       "119388          Check-Out                9/7/2017  \n",
       "119389          Check-Out                9/7/2017  \n",
       "\n",
       "[119390 rows x 32 columns]"
      ]
     },
     "execution_count": 4,
     "metadata": {},
     "output_type": "execute_result"
    }
   ],
   "source": [
    "## Reading data\n",
    "source = './data/hotel_bookings.pickle'\n",
    "data = pd.read_pickle(source, compression = \"gzip\")\n",
    "data"
   ]
  },
  {
   "cell_type": "markdown",
   "metadata": {},
   "source": [
    "# **Identifying Target Feature**"
   ]
  },
  {
   "cell_type": "markdown",
   "metadata": {},
   "source": [
    "---\n",
    "\n",
    "> For my classification analysis, **I will use the `is_canceled` feature as my target feature.** This feature indicates whether a reservation was canceled (0 = check-out, 1= canceled).\n",
    ">\n",
    "> There is another feature, `reservation_status`, that also looks valuable. I will compare that feature against `is_canceled` to investigate any differences between the two.\n",
    "\n",
    "---"
   ]
  },
  {
   "cell_type": "code",
   "execution_count": 5,
   "metadata": {
    "ExecuteTime": {
     "end_time": "2021-09-14T14:10:07.279361Z",
     "start_time": "2021-09-14T14:10:07.156367Z"
    }
   },
   "outputs": [
    {
     "data": {
      "text/plain": [
       "count   119,390.00\n",
       "mean          0.37\n",
       "std           0.48\n",
       "min           0.00\n",
       "25%           0.00\n",
       "50%           0.00\n",
       "75%           1.00\n",
       "max           1.00\n",
       "Name: is_canceled, dtype: float64"
      ]
     },
     "execution_count": 5,
     "metadata": {},
     "output_type": "execute_result"
    }
   ],
   "source": [
    "## Inspecting target feature\n",
    "data['is_canceled'].describe()"
   ]
  },
  {
   "cell_type": "code",
   "execution_count": 6,
   "metadata": {
    "ExecuteTime": {
     "end_time": "2021-09-14T14:10:07.418369Z",
     "start_time": "2021-09-14T14:10:07.281362Z"
    }
   },
   "outputs": [
    {
     "data": {
      "text/plain": [
       "0   0.63\n",
       "1   0.37\n",
       "Name: is_canceled, dtype: float64"
      ]
     },
     "execution_count": 6,
     "metadata": {},
     "output_type": "execute_result"
    }
   ],
   "source": [
    "data['is_canceled'].value_counts(normalize=True, dropna=False)"
   ]
  },
  {
   "cell_type": "code",
   "execution_count": 7,
   "metadata": {
    "ExecuteTime": {
     "end_time": "2021-09-14T14:10:08.010406Z",
     "start_time": "2021-09-14T14:10:07.420372Z"
    }
   },
   "outputs": [
    {
     "data": {
      "image/png": "[encoded data removed]",
      "text/plain": [
       "<Figure size 576x360 with 1 Axes>"
      ]
     },
     "metadata": {},
     "output_type": "display_data"
    }
   ],
   "source": [
    "fig, ax = plt.subplots(figsize=(8,5))\n",
    "\n",
    "ax = data['is_canceled'].value_counts(1, dropna=False).plot(kind='bar',ax=ax)\n",
    "\n",
    "ax.set(xlabel = 'Status', ylabel= 'Percent')\n",
    "\n",
    "plt.xticks([0, 1], ['Checked-Out', 'Cancelled'], rotation=0)\n",
    "plt.yticks([.1, .2, .3, .4, .5, .6], [10, 20, 30, 40, 50, 60])\n",
    "plt.suptitle('Breakdown of Reservation Statuses')\n",
    "\n",
    "ax.set_facecolor('0.9')\n",
    "fig.set_facecolor('0.975')\n",
    "plt.savefig('./img/cxl_stat.png',transparent=False, bbox_inches='tight',\n",
    "           dpi=300)\n",
    "plt.show()\n",
    "plt.close()"
   ]
  },
  {
   "cell_type": "markdown",
   "metadata": {},
   "source": [
    "---\n",
    "\n",
    "> Based on this initial review, I see there is a moderate class imbalance between whether a reservation canceled favoring non-canceled reservations with a 63%/37% split between not-canceled/canceled, respectively.\n",
    ">\n",
    "> I will keep this imbalance in mind when I perform my modeling in my next notebook. Imbalanced classes may have a significant negative impact on a model's performance; I will need to address the imbalance at that time.\n",
    "\n",
    "---"
   ]
  },
  {
   "cell_type": "markdown",
   "metadata": {},
   "source": [
    "# Visualizing the Data"
   ]
  },
  {
   "cell_type": "code",
   "execution_count": null,
   "metadata": {
    "ExecuteTime": {
     "end_time": "2021-09-13T19:03:34.287573Z",
     "start_time": "2021-09-13T19:03:34.151573Z"
    }
   },
   "outputs": [],
   "source": [
    "clean_x_label = 'arrival_date_year'.replace('_', ' ').title()\n",
    "clean_x_label"
   ]
  },
  {
   "cell_type": "code",
   "execution_count": null,
   "metadata": {
    "ExecuteTime": {
     "end_time": "2021-09-13T19:03:34.583573Z",
     "start_time": "2021-09-13T19:03:34.289573Z"
    },
    "scrolled": false
   },
   "outputs": [],
   "source": [
    "ax = sns.countplot(x = data['arrival_date_year'])\n",
    "ax.set(xlabel=clean_x_label, ylabel = 'Reservation Count')\n",
    "plt.suptitle('Years')\n",
    "plt.tight_layout()\n",
    "plt.show()\n",
    "plt.close();"
   ]
  },
  {
   "cell_type": "markdown",
   "metadata": {},
   "source": [
    "# **Reviewing Statistics**"
   ]
  },
  {
   "cell_type": "code",
   "execution_count": null,
   "metadata": {
    "ExecuteTime": {
     "end_time": "2021-09-13T19:03:35.143607Z",
     "start_time": "2021-09-13T19:03:34.585573Z"
    }
   },
   "outputs": [],
   "source": [
    "## Sorting report by number of missing values\n",
    "eda.report_df(data).sort_values('null_sum', ascending=False).style\\\n",
    "                                       .background_gradient(subset='null_pct')"
   ]
  },
  {
   "cell_type": "markdown",
   "metadata": {},
   "source": [
    "---\n",
    "\n",
    "> **Notes**\n",
    "\n",
    "---"
   ]
  },
  {
   "cell_type": "markdown",
   "metadata": {},
   "source": [
    "---\n",
    "\n",
    "**Reviewing Reports - Missing Values**\n",
    "\n",
    "> Based on the post-split results, I see that both dataframes are missing values for `company,` `agent`, `country`, and `children`.\n",
    ">\n",
    "> ***Special note:*** As noted in the data's documentation (located in *\"details.md\"*), any missing values are intentional representations of features that were not applicable to a reservation.\n",
    "---\n",
    "\n",
    "**`Company` and `Agent` Features**\n",
    "\n",
    ">* `company:` 94%\n",
    ">* `agent:` 14%\n",
    ">\n",
    "> Due to the large number of missing values for `company`, **I will drop the `company` feature.**\n",
    ">\n",
    "> The `agent` feature shows a significant number of missing values while including a very large number of unique values. **I will need to review this feature in more depth to determine whether or not to keep it for modeling.**\n",
    "\n",
    "**`Country` and `Children` Features**\n",
    "\n",
    "> The remaining two features with missing values are `country` and `children`.\n",
    ">\n",
    "> **As there are a small number of missing values in both features, I will keep them and fill the missing values via a SimpleImputer in my modeling pipeline.** By incorporating a SimpleImputer in my pipeline, I will be able to determine the best method to determine the value to fill my missing values. \n",
    "\n",
    "---"
   ]
  },
  {
   "cell_type": "markdown",
   "metadata": {},
   "source": [
    "## Dropping `Company` Column"
   ]
  },
  {
   "cell_type": "code",
   "execution_count": null,
   "metadata": {
    "ExecuteTime": {
     "end_time": "2021-09-13T19:03:35.346570Z",
     "start_time": "2021-09-13T19:03:35.145574Z"
    },
    "scrolled": false
   },
   "outputs": [],
   "source": [
    "# Dropping \"company\" column (95% missing values)\n",
    "data.drop(columns = ['company'], inplace=True)\n",
    "data"
   ]
  },
  {
   "cell_type": "code",
   "execution_count": null,
   "metadata": {
    "ExecuteTime": {
     "end_time": "2021-09-13T19:03:35.470573Z",
     "start_time": "2021-09-13T19:03:35.348573Z"
    },
    "scrolled": true
   },
   "outputs": [],
   "source": [
    "## Confirming 'company' removal from dataframe\n",
    "'company' not in data"
   ]
  },
  {
   "cell_type": "markdown",
   "metadata": {},
   "source": [
    "## Inspecting the `Agent` Feature"
   ]
  },
  {
   "cell_type": "markdown",
   "metadata": {},
   "source": [
    "---\n",
    "\n",
    "> Large number of unique features, all categorical/unique identifiers.\n",
    ">\n",
    "> Creates a problem for OHE to prep for modeling - creates 300+ new features to model\n",
    "\n",
    "---"
   ]
  },
  {
   "cell_type": "code",
   "execution_count": null,
   "metadata": {
    "ExecuteTime": {
     "end_time": "2021-09-13T19:03:35.610572Z",
     "start_time": "2021-09-13T19:03:35.471573Z"
    }
   },
   "outputs": [],
   "source": [
    "## Confirming number of unique values\n",
    "data['agent'].nunique()"
   ]
  },
  {
   "cell_type": "code",
   "execution_count": null,
   "metadata": {
    "ExecuteTime": {
     "end_time": "2021-09-13T19:03:35.733574Z",
     "start_time": "2021-09-13T19:03:35.612574Z"
    },
    "scrolled": true
   },
   "outputs": [],
   "source": [
    "## Reviewing top ten agents by percentage of bookings\n",
    "data['agent'].value_counts(normalize=True, ascending=False, dropna=False).iloc[:10]"
   ]
  },
  {
   "cell_type": "code",
   "execution_count": null,
   "metadata": {
    "ExecuteTime": {
     "end_time": "2021-09-13T19:03:36.139572Z",
     "start_time": "2021-09-13T19:03:35.735576Z"
    },
    "scrolled": true
   },
   "outputs": [],
   "source": [
    "## Visualizing top ten agents by percentage of bookings\n",
    "fig, ax = plt.subplots()\n",
    "data['agent'].value_counts(normalize=True, ascending=True, dropna=False)\\\n",
    "                                           .iloc[-10:].plot(kind='barh', ax=ax)\n",
    "fig.suptitle('Top Ten Agents by Volume')\n",
    "ax.set_xlabel(\"Percentage of Total Reservations\")\n",
    "ax.set_ylabel(\"Agent ID\");"
   ]
  },
  {
   "cell_type": "markdown",
   "metadata": {},
   "source": [
    "---\n",
    "\n",
    "> Compress to 4 total classes  - top three and the rest\n",
    ">\n",
    "> Top three (non-NaN) represent 45% all data\n",
    ">\n",
    "> Becomes 4-class classification, reducing dimensionality while keeping data\n",
    "\n",
    "---"
   ]
  },
  {
   "cell_type": "code",
   "execution_count": null,
   "metadata": {
    "ExecuteTime": {
     "end_time": "2021-09-13T19:03:36.293573Z",
     "start_time": "2021-09-13T19:03:36.142575Z"
    },
    "scrolled": true
   },
   "outputs": [],
   "source": [
    "## Converting non-top-3 ID values to placeholder \"999\"\n",
    "cond = [data['agent'] == 9.00,\n",
    "        data['agent'] == 240.00,\n",
    "        data['agent'] == 1.00]\n",
    "\n",
    "choice = [data['agent'], data['agent'], data['agent']]\n",
    "\n",
    "data['agent_group'] = np.select(cond, choice, 999)\n",
    "data['agent_group']"
   ]
  },
  {
   "cell_type": "code",
   "execution_count": null,
   "metadata": {
    "ExecuteTime": {
     "end_time": "2021-09-13T19:03:36.446573Z",
     "start_time": "2021-09-13T19:03:36.295574Z"
    }
   },
   "outputs": [],
   "source": [
    "data[['agent', 'agent_group']]"
   ]
  },
  {
   "cell_type": "code",
   "execution_count": null,
   "metadata": {
    "ExecuteTime": {
     "end_time": "2021-09-13T19:03:36.586585Z",
     "start_time": "2021-09-13T19:03:36.448574Z"
    }
   },
   "outputs": [],
   "source": [
    "## Creating new Series for visualization\n",
    "new_cats = data['agent_group'].value_counts(1, ascending=True)\n",
    "new_cats"
   ]
  },
  {
   "cell_type": "code",
   "execution_count": null,
   "metadata": {
    "ExecuteTime": {
     "end_time": "2021-09-13T19:03:36.884575Z",
     "start_time": "2021-09-13T19:03:36.589574Z"
    },
    "scrolled": false
   },
   "outputs": [],
   "source": [
    "##Visualizing new feature\n",
    "\n",
    "fig, ax = plt.subplots(figsize= (8, 4))\n",
    "new_cats.plot(kind='barh', ax=ax)\n",
    "\n",
    "fig.suptitle('Agent - New Categories')\n",
    "\n",
    "ax.set_xlabel(\"Percentage of Total Reservations\")\n",
    "ax.set_xticks([0, .1, .2, .3, .4, .5])\n",
    "ax.set_xticklabels(['0', '10','20', '30', '40', '50'])\n",
    "ax.set_ylabel(\"Agent ID\")\n",
    "\n",
    "for i,vc in enumerate(new_cats):\n",
    "    plt.text(x=vc, y=i, s=f\"{vc:.0%}\")\n",
    "\n",
    "plt.tight_layout();"
   ]
  },
  {
   "cell_type": "code",
   "execution_count": null,
   "metadata": {
    "ExecuteTime": {
     "end_time": "2021-09-13T19:03:37.054571Z",
     "start_time": "2021-09-13T19:03:36.887574Z"
    },
    "scrolled": false
   },
   "outputs": [],
   "source": [
    "# Dropping \"agent\" feature after conversion - try/except to prevent KeyErrors\n",
    "\n",
    "try:\n",
    "    data.drop(columns = ['agent'], inplace=True)\n",
    "except:\n",
    "    pass\n",
    "\n",
    "data.columns"
   ]
  },
  {
   "cell_type": "code",
   "execution_count": null,
   "metadata": {
    "ExecuteTime": {
     "end_time": "2021-09-13T19:03:37.178572Z",
     "start_time": "2021-09-13T19:03:37.056573Z"
    },
    "scrolled": true
   },
   "outputs": [],
   "source": [
    "## Confirming 'agent' removal from dataframe\n",
    "'agent' not in data"
   ]
  },
  {
   "cell_type": "code",
   "execution_count": null,
   "metadata": {
    "ExecuteTime": {
     "end_time": "2021-09-13T19:03:37.301570Z",
     "start_time": "2021-09-13T19:03:37.180572Z"
    }
   },
   "outputs": [],
   "source": [
    "## Deleting variables to free up space\n",
    "try:\n",
    "    del cond, choice, new_cats\n",
    "except:\n",
    "    pass"
   ]
  },
  {
   "cell_type": "markdown",
   "metadata": {},
   "source": [
    "---\n",
    "\n",
    "> Created new feature to condense values into one of four categories: one of top three agents by volume and then the rest.\n",
    "\n",
    "---"
   ]
  },
  {
   "cell_type": "markdown",
   "metadata": {},
   "source": [
    "## Comparing `Market_Segment` and `Distribution_Channel`"
   ]
  },
  {
   "cell_type": "markdown",
   "metadata": {},
   "source": [
    "---\n",
    "\n",
    "> What are the differences between the values in these features?\n",
    ">\n",
    "> Is one feature more descriptive than the other?\n",
    "\n",
    "---"
   ]
  },
  {
   "cell_type": "code",
   "execution_count": null,
   "metadata": {
    "ExecuteTime": {
     "end_time": "2021-09-13T19:03:37.441573Z",
     "start_time": "2021-09-13T19:03:37.306574Z"
    },
    "scrolled": true
   },
   "outputs": [],
   "source": [
    "data['distribution_channel'].value_counts(1)"
   ]
  },
  {
   "cell_type": "code",
   "execution_count": null,
   "metadata": {
    "ExecuteTime": {
     "end_time": "2021-09-13T19:03:37.611572Z",
     "start_time": "2021-09-13T19:03:37.446574Z"
    }
   },
   "outputs": [],
   "source": [
    "data['market_segment'].value_counts(1)"
   ]
  },
  {
   "cell_type": "markdown",
   "metadata": {},
   "source": [
    "---\n",
    "\n",
    "> Both features describe similar information.\n",
    ">\n",
    "> `Market_segment` is more descriptive; will keep mkt seg and drop dist chnl\n",
    "\n",
    "---"
   ]
  },
  {
   "cell_type": "code",
   "execution_count": null,
   "metadata": {
    "ExecuteTime": {
     "end_time": "2021-09-13T19:03:37.785572Z",
     "start_time": "2021-09-13T19:03:37.614573Z"
    }
   },
   "outputs": [],
   "source": [
    "## Dropping \"distribution_channel\"\n",
    "data.drop(columns = 'distribution_channel', inplace=True)"
   ]
  },
  {
   "cell_type": "code",
   "execution_count": null,
   "metadata": {
    "ExecuteTime": {
     "end_time": "2021-09-13T19:03:37.909573Z",
     "start_time": "2021-09-13T19:03:37.787573Z"
    }
   },
   "outputs": [],
   "source": [
    "## Confirming 'distribution_channel' removal from dataframe\n",
    "'distribution_channel' not in data"
   ]
  },
  {
   "cell_type": "markdown",
   "metadata": {},
   "source": [
    "## Filling Missing Values for `Country` and `Children`"
   ]
  },
  {
   "cell_type": "markdown",
   "metadata": {},
   "source": [
    "---\n",
    "\n",
    "> As there are so few missing values for the country and children features, I will impute the most frequent values for each feature.\n",
    ">\n",
    "> **I do not expect the imputation method to effect my future modeling results.** If the number of missing values was more substantial, I would incorporate a `SimpleImputer` in my future modeling pipeline.\n",
    "\n",
    "---"
   ]
  },
  {
   "cell_type": "code",
   "execution_count": null,
   "metadata": {
    "ExecuteTime": {
     "end_time": "2021-09-13T19:03:38.205571Z",
     "start_time": "2021-09-13T19:03:37.911574Z"
    }
   },
   "outputs": [],
   "source": [
    "## Identify columns with missing data\n",
    "nan_list = list(data.isna().sum()[data.isna().sum() > 0].index)\n",
    "nan_list"
   ]
  },
  {
   "cell_type": "code",
   "execution_count": null,
   "metadata": {
    "ExecuteTime": {
     "end_time": "2021-09-13T19:03:38.344572Z",
     "start_time": "2021-09-13T19:03:38.207573Z"
    }
   },
   "outputs": [],
   "source": [
    "## Impute the most frequent value for each column\n",
    "for col in nan_list:\n",
    "    data[col].fillna(data[col].mode()[0], inplace=True)"
   ]
  },
  {
   "cell_type": "code",
   "execution_count": null,
   "metadata": {
    "ExecuteTime": {
     "end_time": "2021-09-13T19:03:38.529573Z",
     "start_time": "2021-09-13T19:03:38.347576Z"
    },
    "scrolled": true
   },
   "outputs": [],
   "source": [
    "## Confirming there are no remaining missing values\n",
    "for col in nan_list:\n",
    "    display(data[col].value_counts(1, dropna=0))\n",
    "    print(f'Total missing values for {col.title()}: {data[col].isna().sum()}')"
   ]
  },
  {
   "cell_type": "code",
   "execution_count": null,
   "metadata": {
    "ExecuteTime": {
     "end_time": "2021-09-13T19:03:38.670573Z",
     "start_time": "2021-09-13T19:03:38.531572Z"
    }
   },
   "outputs": [],
   "source": [
    "## Deleting variables to free up space\n",
    "try:\n",
    "    del nan_list, col\n",
    "except:\n",
    "    pass"
   ]
  },
  {
   "cell_type": "markdown",
   "metadata": {},
   "source": [
    "# **Inspecting Feature Data Types**"
   ]
  },
  {
   "cell_type": "markdown",
   "metadata": {},
   "source": [
    "---\n",
    "\n",
    ">\n",
    "\n",
    "---"
   ]
  },
  {
   "cell_type": "code",
   "execution_count": null,
   "metadata": {
    "ExecuteTime": {
     "end_time": "2021-09-13T19:03:38.809571Z",
     "start_time": "2021-09-13T19:03:38.673575Z"
    },
    "scrolled": true
   },
   "outputs": [],
   "source": [
    "## Inspecting dataypes for \"data\"\n",
    "data.dtypes.sort_values()"
   ]
  },
  {
   "cell_type": "markdown",
   "metadata": {},
   "source": [
    "---\n",
    "\n",
    "**Review - Datatypes**\n",
    "\n",
    "> After reviewing the data types, I noticed `agent_group` should be changed to the `string` datatype. This feature represents unique identifiers for booking agents and need to be treated as categorical data.\n",
    ">\n",
    "> **Convert to `string` type:**\n",
    "> * `agent_group`\n",
    ">\n",
    "> **Convert to `datetime` type:**\n",
    "> * `reservation_status_date`\n",
    "\n",
    "---"
   ]
  },
  {
   "cell_type": "markdown",
   "metadata": {},
   "source": [
    "## Converting to String"
   ]
  },
  {
   "cell_type": "code",
   "execution_count": null,
   "metadata": {
    "ExecuteTime": {
     "end_time": "2021-09-13T19:03:39.056571Z",
     "start_time": "2021-09-13T19:03:38.811573Z"
    },
    "scrolled": true
   },
   "outputs": [],
   "source": [
    "## Converting column to string\n",
    "\n",
    "data.loc[:,'agent_group'] = data.loc[:,'agent_group'].astype(int)\n",
    "data.loc[:,'agent_group'] = data.loc[:,'agent_group'].astype(str)\n",
    "print(f'Datatype: {data[\"agent_group\"].dtype}')"
   ]
  },
  {
   "cell_type": "markdown",
   "metadata": {},
   "source": [
    "## Converting to DateTime"
   ]
  },
  {
   "cell_type": "code",
   "execution_count": null,
   "metadata": {
    "ExecuteTime": {
     "end_time": "2021-09-13T19:03:39.289574Z",
     "start_time": "2021-09-13T19:03:39.058572Z"
    }
   },
   "outputs": [],
   "source": [
    "## Converting to datetime\n",
    "data['reservation_status_date'] = pd.to_datetime(data['reservation_status_date'])\n",
    "print(f'Datatype: {data[\"reservation_status_date\"].dtype}')"
   ]
  },
  {
   "cell_type": "markdown",
   "metadata": {},
   "source": [
    "# **EDA - Features**"
   ]
  },
  {
   "cell_type": "markdown",
   "metadata": {},
   "source": [
    "---\n",
    "\n",
    "**In-Depth EDA per Feature**\n",
    "\n",
    "> Now that I reviewed my missing values and confirmed my datatypes, I will inspect the details of each of my features.\n",
    "\n",
    "---\n",
    "**Note:**\n",
    "\n",
    "> DataFrame styling code used in `explore_feature()` function adapted from this [source](https://stackoverflow.com/questions/59769161/python-color-pandas-dataframe-based-on-multiindex#:~:text=2-,You,-can%20use%20Styler).\n",
    "\n",
    "---"
   ]
  },
  {
   "cell_type": "markdown",
   "metadata": {},
   "source": [
    "# -- > 🛑 **FIX**: Update narrative per feature"
   ]
  },
  {
   "cell_type": "markdown",
   "metadata": {},
   "source": [
    "## **Toggle Visualizations**"
   ]
  },
  {
   "cell_type": "code",
   "execution_count": null,
   "metadata": {
    "ExecuteTime": {
     "end_time": "2021-09-13T19:03:39.397583Z",
     "start_time": "2021-09-13T19:03:39.291572Z"
    }
   },
   "outputs": [],
   "source": [
    "## Boolean setting to control whether to show the EDA visualizations\n",
    "show_visualization = False"
   ]
  },
  {
   "cell_type": "markdown",
   "metadata": {},
   "source": [
    "## `Reservation_Status`"
   ]
  },
  {
   "cell_type": "markdown",
   "metadata": {},
   "source": [
    "---\n",
    "\n",
    "> Text\n",
    "\n",
    "---"
   ]
  },
  {
   "cell_type": "code",
   "execution_count": null,
   "metadata": {
    "ExecuteTime": {
     "end_time": "2021-09-13T19:03:42.561250Z",
     "start_time": "2021-09-13T19:03:39.400575Z"
    }
   },
   "outputs": [],
   "source": [
    "## Reviewing details for reservation_status\n",
    "eda.explore_feature(data,'reservation_status',plot_label ='Status',\n",
    "                    plot_title= 'Reservation Status',\n",
    "                    show_visualization = show_visualization);"
   ]
  },
  {
   "cell_type": "markdown",
   "metadata": {},
   "source": [
    "---\n",
    "\n",
    "**Feature Review**\n",
    "\n",
    "> `Reservation_status` closely mirrors the values for my target feature, with some slight differences due to \"no-show\" values. **To prepare it for modeling, I will combine the `No-Show` status and `Canceled` values.**\n",
    "\n",
    "**Actions**\n",
    "\n",
    ">For the purposes of my analysis, **I will treat `No-Show` reservations as `Canceled` reservations** due to their limited number preventing me from effectively using it as a third class.\n",
    "\n",
    "****\n",
    "\n",
    "> The most notable difference between the city and resort hotels would be the number of cancellations: *The city hotel shows a much larger proportion of canceled reservations vs. the resort hotel.* \n",
    "* This may be due to a variety of factors, including resort guests booking when they are more certain of their plans or the resort hotel may charge a cancellation fee.\n",
    ">\n",
    "> No-Show reservations are low for both hotels, supporting my decision to merge no-shows with cancellations. \n",
    "\n",
    "---"
   ]
  },
  {
   "cell_type": "markdown",
   "metadata": {},
   "source": [
    "## `Is_Canceled`"
   ]
  },
  {
   "cell_type": "markdown",
   "metadata": {},
   "source": [
    "---\n",
    "\n",
    "**test**\n",
    "\n",
    "---"
   ]
  },
  {
   "cell_type": "code",
   "execution_count": null,
   "metadata": {
    "ExecuteTime": {
     "end_time": "2021-09-13T19:03:43.481250Z",
     "start_time": "2021-09-13T19:03:42.563251Z"
    },
    "scrolled": false
   },
   "outputs": [],
   "source": [
    "## Reviewing details for 'is_canceled'\n",
    "eda.explore_feature(data,'is_canceled',\n",
    "                    normalize=False,\n",
    "                    plot_label ='Cancellation Status',\n",
    "                    plot_title= 'Reservation Status',\n",
    "                    show_visualization = show_visualization);"
   ]
  },
  {
   "cell_type": "markdown",
   "metadata": {},
   "source": [
    "---\n",
    "\n",
    "**Feature Review**\n",
    "\n",
    "> After reviewing the results post-\"no-show\" conversion, `Is_canceled` is a binarization of the `reservation_status`. Reservations are indicated as cancellations if they either cancel or are marked as a \"no-show\" reservation.\n",
    "\n",
    "**Actions**\n",
    "\n",
    "> This feature is a better target feature as the values are already binarized and match the `reservation_status` feature for all of the reservations.\n",
    ">\n",
    "> **I will use `is_canceled` in place of the `reservation_status` feature as my target feature.**\n",
    "\n",
    "****\n",
    "\n",
    "> The breakdown between hotels is the same as `reservation_status` and confirms that the resort hotel experiences fewer cancellations vs. the city hotel.\n",
    "\n",
    "---"
   ]
  },
  {
   "cell_type": "markdown",
   "metadata": {},
   "source": [
    "## `Lead_Time`"
   ]
  },
  {
   "cell_type": "markdown",
   "metadata": {},
   "source": [
    "---\n",
    "\n",
    "**test**\n",
    "\n",
    "---"
   ]
  },
  {
   "cell_type": "code",
   "execution_count": null,
   "metadata": {
    "ExecuteTime": {
     "end_time": "2021-09-13T19:03:44.884250Z",
     "start_time": "2021-09-13T19:03:43.484252Z"
    },
    "scrolled": false
   },
   "outputs": [],
   "source": [
    "## Reviewing details for 'lead_time'\n",
    "eda.explore_feature(data,'lead_time',bins = 5, marginal = 'box',\n",
    "                    plot_label ='Number of Days',\n",
    "                    plot_title= 'Lead Time (Days)',\n",
    "                    show_visualization = show_visualization);"
   ]
  },
  {
   "cell_type": "markdown",
   "metadata": {},
   "source": [
    "---\n",
    "\n",
    "**Feature Review**\n",
    "\n",
    "> `Lead_Time` indicates how far in advance reservations are booked in days. *This information is particularly useful in hospitality for Revenue Management (RM) and Operations (Ops).*\n",
    ">\n",
    ">  * RM needs to know **when to expect bookings** and **when to monitor rates and availability** closely to make any necessary changes to optimize revenue.\n",
    ">\n",
    ">\n",
    ">  * Ops uses this information to **forecast how many reservations will book in a short-term booking window** (I usually focused on 0-3 days prior to arrival).\n",
    ">\n",
    "> * **This forecast is critical to determine staffing and supplies in particular** - when building our schedules, we consider the current number of booked reservations and the forecasted bookings to determine how many staff members to schedule and if we have enough supplies, etc..\n",
    ">  * *Being the only staff member at the Front Desk during a rush of arrivals due to a snow storm is NOT fun!*\n",
    "\n",
    "**Actions**\n",
    "\n",
    "> I noticed there are a significant number of outliers for both properties. **I will remove the outliers based on the z-score percentiles prior to modeling.**\n",
    "\n",
    "****\n",
    "\n",
    "> The histograms and box plots for both hotels match up closely, but it is clear that **the city hotel has a larger range of lead times for cancellations vs. the resort hotel.**\n",
    "\n",
    "---"
   ]
  },
  {
   "cell_type": "markdown",
   "metadata": {},
   "source": [
    "## `Arrival_Date_Year`"
   ]
  },
  {
   "cell_type": "markdown",
   "metadata": {},
   "source": [
    "---\n",
    "\n",
    "**test**\n",
    "\n",
    "---"
   ]
  },
  {
   "cell_type": "code",
   "execution_count": null,
   "metadata": {
    "ExecuteTime": {
     "end_time": "2021-09-13T19:03:46.333253Z",
     "start_time": "2021-09-13T19:03:44.886251Z"
    },
    "scrolled": false
   },
   "outputs": [],
   "source": [
    "## Reviewing details for 'arrival_date_year'\n",
    "eda.explore_feature(data,'arrival_date_year',marginal = 'box',\n",
    "                    plot_label ='Year',\n",
    "                    plot_title= 'Arrival Date (Year)',\n",
    "                    show_visualization = show_visualization);"
   ]
  },
  {
   "cell_type": "markdown",
   "metadata": {},
   "source": [
    "---\n",
    "\n",
    "**Feature Review**\n",
    "\n",
    "> PLACEHOLDER \n",
    "\n",
    "**Actions**\n",
    "\n",
    "> This feature is not useful for my future modeling, so I will drop this feature at the end of my EDA process.\n",
    "\n",
    "---"
   ]
  },
  {
   "cell_type": "markdown",
   "metadata": {},
   "source": [
    "\n",
    "## `Stays_in_Weekend_Nights`"
   ]
  },
  {
   "cell_type": "markdown",
   "metadata": {},
   "source": [
    "---\n",
    "\n",
    "**City**\n",
    "\n",
    "---"
   ]
  },
  {
   "cell_type": "code",
   "execution_count": null,
   "metadata": {
    "ExecuteTime": {
     "end_time": "2021-09-13T19:03:47.671251Z",
     "start_time": "2021-09-13T19:03:46.336258Z"
    }
   },
   "outputs": [],
   "source": [
    "## Reviewing details for 'stays_in_weekend_nights'\n",
    "eda.explore_feature(data,'stays_in_weekend_nights',bins = 5,\n",
    "                    marginal = 'box',\n",
    "                    plot_label ='Number of Days',\n",
    "                    plot_title= 'Lead Time (Days)',\n",
    "                    show_visualization = show_visualization);"
   ]
  },
  {
   "cell_type": "markdown",
   "metadata": {},
   "source": [
    "---\n",
    "\n",
    "**Feature Review**\n",
    "\n",
    "> PLACEHOLDER\n",
    "\n",
    "**Actions**\n",
    "\n",
    "> PLACEHOLDER\n",
    "\n",
    "****\n",
    "\n",
    "> PLACEHOLDER\n",
    "\n",
    "---"
   ]
  },
  {
   "cell_type": "markdown",
   "metadata": {},
   "source": [
    "## `Stays_in_Week_Nights`"
   ]
  },
  {
   "cell_type": "markdown",
   "metadata": {},
   "source": [
    "---\n",
    "\n",
    "**test**\n",
    "\n",
    "---"
   ]
  },
  {
   "cell_type": "code",
   "execution_count": null,
   "metadata": {
    "ExecuteTime": {
     "end_time": "2021-09-13T19:03:48.996253Z",
     "start_time": "2021-09-13T19:03:47.673252Z"
    }
   },
   "outputs": [],
   "source": [
    "## Reviewing details for 'stays_in_week_nights'\n",
    "eda.explore_feature(data,'stays_in_week_nights',bins = 5,\n",
    "                    marginal = 'box',\n",
    "                    plot_label ='Number of Prior Stays',\n",
    "                    plot_title= 'Stays in Week Nights',\n",
    "                    show_visualization = show_visualization);"
   ]
  },
  {
   "cell_type": "markdown",
   "metadata": {},
   "source": [
    "---\n",
    "\n",
    "**Feature Review**\n",
    "\n",
    "> PLACEHOLDER\n",
    "\n",
    "**Actions**\n",
    "\n",
    "> PLACEHOLDER\n",
    "\n",
    "****\n",
    "\n",
    "> PLACEHOLDER\n",
    "\n",
    "---"
   ]
  },
  {
   "cell_type": "markdown",
   "metadata": {},
   "source": [
    "## `Adults`"
   ]
  },
  {
   "cell_type": "markdown",
   "metadata": {},
   "source": [
    "---\n",
    "\n",
    "**test**\n",
    "\n",
    "---"
   ]
  },
  {
   "cell_type": "code",
   "execution_count": null,
   "metadata": {
    "ExecuteTime": {
     "end_time": "2021-09-13T19:03:50.117251Z",
     "start_time": "2021-09-13T19:03:48.998250Z"
    }
   },
   "outputs": [],
   "source": [
    "## Reviewing details 'adults'\n",
    "eda.explore_feature(data,'adults',bins = 3,\n",
    "                    plot_label ='Number of Adults',\n",
    "                    plot_title= 'Adults',\n",
    "                    show_visualization = show_visualization);"
   ]
  },
  {
   "cell_type": "markdown",
   "metadata": {},
   "source": [
    "---\n",
    "\n",
    "**Feature Review**\n",
    "\n",
    "> PLACEHOLDER\n",
    "\n",
    "**Actions**\n",
    "\n",
    "> PLACEHOLDER\n",
    "\n",
    "****\n",
    "\n",
    "> PLACEHOLDER\n",
    "\n",
    "---"
   ]
  },
  {
   "cell_type": "markdown",
   "metadata": {},
   "source": [
    "## `Children`"
   ]
  },
  {
   "cell_type": "markdown",
   "metadata": {},
   "source": [
    "---\n",
    "\n",
    "**data**\n",
    "\n",
    "---"
   ]
  },
  {
   "cell_type": "code",
   "execution_count": null,
   "metadata": {
    "ExecuteTime": {
     "end_time": "2021-09-13T19:03:51.276262Z",
     "start_time": "2021-09-13T19:03:50.119251Z"
    }
   },
   "outputs": [],
   "source": [
    "## Reviewing details for 'children'\n",
    "eda.explore_feature(data,'children',bins = 5,\n",
    "                    \n",
    "                    plot_label ='Number of Children',\n",
    "                    plot_title= 'Children',\n",
    "                    show_visualization = show_visualization);"
   ]
  },
  {
   "cell_type": "markdown",
   "metadata": {},
   "source": [
    "---\n",
    "\n",
    "**Feature Review**\n",
    "\n",
    "> PLACEHOLDER\n",
    "\n",
    "**Actions**\n",
    "\n",
    "> PLACEHOLDER\n",
    "\n",
    "****\n",
    "\n",
    "> PLACEHOLDER\n",
    "\n",
    "---"
   ]
  },
  {
   "cell_type": "markdown",
   "metadata": {},
   "source": [
    "## `Babies`"
   ]
  },
  {
   "cell_type": "markdown",
   "metadata": {},
   "source": [
    "---\n",
    "\n",
    "**data**\n",
    "\n",
    "---"
   ]
  },
  {
   "cell_type": "code",
   "execution_count": null,
   "metadata": {
    "ExecuteTime": {
     "end_time": "2021-09-13T19:03:52.281254Z",
     "start_time": "2021-09-13T19:03:51.278252Z"
    }
   },
   "outputs": [],
   "source": [
    "## Reviewing details - 'babies'\n",
    "eda.explore_feature(data,'babies',bins = 5,\n",
    "                    \n",
    "                    plot_label ='Number of Babies',\n",
    "                    plot_title= 'Babies',\n",
    "                    show_visualization = show_visualization);"
   ]
  },
  {
   "cell_type": "markdown",
   "metadata": {},
   "source": [
    "---\n",
    "\n",
    "**Feature Review**\n",
    "\n",
    "> PLACEHOLDER\n",
    "\n",
    "**Actions**\n",
    "\n",
    "> PLACEHOLDER\n",
    "\n",
    "****\n",
    "\n",
    "> PLACEHOLDER\n",
    "\n",
    "---"
   ]
  },
  {
   "cell_type": "markdown",
   "metadata": {},
   "source": [
    "## `Meal`"
   ]
  },
  {
   "cell_type": "markdown",
   "metadata": {},
   "source": [
    "---\n",
    "\n",
    "**data**\n",
    "\n",
    "---"
   ]
  },
  {
   "cell_type": "code",
   "execution_count": null,
   "metadata": {
    "ExecuteTime": {
     "end_time": "2021-09-13T19:03:53.604254Z",
     "start_time": "2021-09-13T19:03:52.283255Z"
    }
   },
   "outputs": [],
   "source": [
    "## Reviewing details for - 'meal'\n",
    "eda.explore_feature(data,'meal',plot_label ='Types of Meal',\n",
    "                    plot_title= 'Meal',show_visualization = show_visualization);"
   ]
  },
  {
   "cell_type": "markdown",
   "metadata": {},
   "source": [
    "---\n",
    "\n",
    "**Feature Review**\n",
    "\n",
    "> PLACEHOLDER\n",
    "\n",
    "**Actions**\n",
    "\n",
    "> PLACEHOLDER\n",
    "\n",
    "****\n",
    "\n",
    "> PLACEHOLDER\n",
    "\n",
    "---"
   ]
  },
  {
   "cell_type": "markdown",
   "metadata": {},
   "source": [
    "## `Country`"
   ]
  },
  {
   "cell_type": "markdown",
   "metadata": {},
   "source": [
    "---\n",
    "\n",
    "**City**\n",
    "\n",
    "---"
   ]
  },
  {
   "cell_type": "code",
   "execution_count": null,
   "metadata": {
    "ExecuteTime": {
     "end_time": "2021-09-13T19:03:55.709268Z",
     "start_time": "2021-09-13T19:03:53.606251Z"
    },
    "scrolled": true
   },
   "outputs": [],
   "source": [
    "## Reviewing details for 'country'\n",
    "eda.explore_feature(data,'country',marginal = 'box',normalize=False,\n",
    "                    plot_label ='Country',\n",
    "                    plot_title= 'Country',\n",
    "                    show_visualization = show_visualization);"
   ]
  },
  {
   "cell_type": "markdown",
   "metadata": {},
   "source": [
    "---\n",
    "\n",
    "**Feature Review**\n",
    "\n",
    "> PLACEHOLDER\n",
    "\n",
    "**Actions**\n",
    "\n",
    "> PLACEHOLDER\n",
    "\n",
    "****\n",
    "\n",
    "> PLACEHOLDER\n",
    "\n",
    "---"
   ]
  },
  {
   "cell_type": "markdown",
   "metadata": {},
   "source": [
    "## `Market_Segment`"
   ]
  },
  {
   "cell_type": "markdown",
   "metadata": {},
   "source": [
    "---\n",
    "\n",
    "**City**\n",
    "\n",
    "---"
   ]
  },
  {
   "cell_type": "code",
   "execution_count": null,
   "metadata": {
    "ExecuteTime": {
     "end_time": "2021-09-13T19:03:57.845258Z",
     "start_time": "2021-09-13T19:03:55.712252Z"
    }
   },
   "outputs": [],
   "source": [
    "## Reviewing details for - 'market_segment'\n",
    "eda.explore_feature(data,'market_segment',marginal = 'box',\n",
    "                    plot_label ='Market Segment',\n",
    "                    plot_title= 'Market Segment',\n",
    "                    show_visualization = show_visualization);"
   ]
  },
  {
   "cell_type": "markdown",
   "metadata": {},
   "source": [
    "---\n",
    "\n",
    "**Feature Review**\n",
    "\n",
    "> PLACEHOLDER\n",
    "\n",
    "**Actions**\n",
    "\n",
    "> PLACEHOLDER\n",
    "\n",
    "****\n",
    "\n",
    "> PLACEHOLDER\n",
    "\n",
    "---"
   ]
  },
  {
   "cell_type": "markdown",
   "metadata": {},
   "source": [
    "## `Is_Repeated_Guest`"
   ]
  },
  {
   "cell_type": "markdown",
   "metadata": {},
   "source": [
    "---\n",
    "\n",
    "**City**\n",
    "\n",
    "---"
   ]
  },
  {
   "cell_type": "code",
   "execution_count": null,
   "metadata": {
    "ExecuteTime": {
     "end_time": "2021-09-13T19:03:58.926252Z",
     "start_time": "2021-09-13T19:03:57.849252Z"
    }
   },
   "outputs": [],
   "source": [
    "## Reviewing details for 'is_repeated_guest'\n",
    "eda.explore_feature(data,'is_repeated_guest',\n",
    "                    plot_label =' Repeat Guest',\n",
    "                    plot_title= ' Repeat Guest',\n",
    "                    show_visualization = show_visualization);"
   ]
  },
  {
   "cell_type": "markdown",
   "metadata": {},
   "source": [
    "---\n",
    "\n",
    "**Feature Review**\n",
    "\n",
    "> PLACEHOLDER\n",
    "\n",
    "**Actions**\n",
    "\n",
    "> PLACEHOLDER\n",
    "\n",
    "****\n",
    "\n",
    "> PLACEHOLDER\n",
    "\n",
    "---"
   ]
  },
  {
   "cell_type": "markdown",
   "metadata": {},
   "source": [
    "## `Previous_Cancellations`"
   ]
  },
  {
   "cell_type": "markdown",
   "metadata": {},
   "source": [
    "---\n",
    "\n",
    "**City**\n",
    "\n",
    "---"
   ]
  },
  {
   "cell_type": "code",
   "execution_count": null,
   "metadata": {
    "ExecuteTime": {
     "end_time": "2021-09-13T19:04:00.071252Z",
     "start_time": "2021-09-13T19:03:58.928253Z"
    }
   },
   "outputs": [],
   "source": [
    "## Reviewing details for 'previous_cancellations'\n",
    "eda.explore_feature(data,'previous_cancellations',bins = 5,\n",
    "                    normalize=False,\n",
    "                    plot_label ='Number of Cancellations',\n",
    "                    plot_title= 'Previous Cancellations',\n",
    "                    show_visualization = show_visualization);"
   ]
  },
  {
   "cell_type": "markdown",
   "metadata": {},
   "source": [
    "---\n",
    "\n",
    "**Feature Review**\n",
    "\n",
    "> PLACEHOLDER\n",
    "\n",
    "**Actions**\n",
    "\n",
    "> PLACEHOLDER\n",
    "\n",
    "****\n",
    "\n",
    "> PLACEHOLDER\n",
    "\n",
    "---"
   ]
  },
  {
   "cell_type": "markdown",
   "metadata": {},
   "source": [
    "## `Previous_Bookings_Not_Canceled`"
   ]
  },
  {
   "cell_type": "markdown",
   "metadata": {},
   "source": [
    "---\n",
    "\n",
    "**City**\n",
    "\n",
    "---"
   ]
  },
  {
   "cell_type": "code",
   "execution_count": null,
   "metadata": {
    "ExecuteTime": {
     "end_time": "2021-09-13T19:04:01.423252Z",
     "start_time": "2021-09-13T19:04:00.073252Z"
    }
   },
   "outputs": [],
   "source": [
    "## Reviewing details for 'previous_bookings_not_canceled'\n",
    "eda.explore_feature(data,'previous_bookings_not_canceled',\n",
    "                    bins = 5,marginal = 'box',\n",
    "                    plot_label ='Number of Bookings Not Canceled',\n",
    "                    plot_title= 'Previous Bookings Not Canceled',\n",
    "                    show_visualization = show_visualization);"
   ]
  },
  {
   "cell_type": "markdown",
   "metadata": {},
   "source": [
    "---\n",
    "\n",
    "**Feature Review**\n",
    "\n",
    "> PLACEHOLDER\n",
    "\n",
    "**Actions**\n",
    "\n",
    "> PLACEHOLDER\n",
    "\n",
    "****\n",
    "\n",
    "> PLACEHOLDER\n",
    "\n",
    "---"
   ]
  },
  {
   "cell_type": "markdown",
   "metadata": {},
   "source": [
    "## `Reserved_Room_Type`"
   ]
  },
  {
   "cell_type": "markdown",
   "metadata": {},
   "source": [
    "---\n",
    "\n",
    "**City**\n",
    "\n",
    "---"
   ]
  },
  {
   "cell_type": "code",
   "execution_count": null,
   "metadata": {
    "ExecuteTime": {
     "end_time": "2021-09-13T19:04:02.638255Z",
     "start_time": "2021-09-13T19:04:01.425252Z"
    }
   },
   "outputs": [],
   "source": [
    "## Reviewing details for - 'reserved_room_type'\n",
    "eda.explore_feature(data,'reserved_room_type',\n",
    "                    \n",
    "                    plot_label ='Reserved Toom Type',\n",
    "                    plot_title= 'Reserved Toom Type',\n",
    "                    show_visualization = show_visualization);"
   ]
  },
  {
   "cell_type": "markdown",
   "metadata": {},
   "source": [
    "---\n",
    "\n",
    "**Feature Review**\n",
    "\n",
    "> PLACEHOLDER\n",
    "\n",
    "**Actions**\n",
    "\n",
    "> PLACEHOLDER\n",
    "\n",
    "****\n",
    "\n",
    "> PLACEHOLDER\n",
    "\n",
    "---"
   ]
  },
  {
   "cell_type": "markdown",
   "metadata": {},
   "source": [
    "## `Assigned_Room_Type`"
   ]
  },
  {
   "cell_type": "markdown",
   "metadata": {},
   "source": [
    "---\n",
    "\n",
    "**City**\n",
    "\n",
    "---"
   ]
  },
  {
   "cell_type": "code",
   "execution_count": null,
   "metadata": {
    "ExecuteTime": {
     "end_time": "2021-09-13T19:04:03.916249Z",
     "start_time": "2021-09-13T19:04:02.641255Z"
    }
   },
   "outputs": [],
   "source": [
    "## Reviewing details for 'assigned_room_type'\n",
    "eda.explore_feature(data,'assigned_room_type',\n",
    "                    \n",
    "                    plot_label ='Assigned Room Type',\n",
    "                    plot_title= 'Assigned Room Type',\n",
    "                    show_visualization = show_visualization);"
   ]
  },
  {
   "cell_type": "markdown",
   "metadata": {},
   "source": [
    "---\n",
    "\n",
    "**Feature Review**\n",
    "\n",
    "> PLACEHOLDER\n",
    "\n",
    "**Actions**\n",
    "\n",
    "> PLACEHOLDER\n",
    "\n",
    "****\n",
    "\n",
    "> PLACEHOLDER\n",
    "\n",
    "---"
   ]
  },
  {
   "cell_type": "markdown",
   "metadata": {},
   "source": [
    "## `Booking_Changes`"
   ]
  },
  {
   "cell_type": "markdown",
   "metadata": {},
   "source": [
    "---\n",
    "\n",
    "**City**\n",
    "\n",
    "---"
   ]
  },
  {
   "cell_type": "code",
   "execution_count": null,
   "metadata": {
    "ExecuteTime": {
     "end_time": "2021-09-13T19:04:04.896264Z",
     "start_time": "2021-09-13T19:04:03.918253Z"
    }
   },
   "outputs": [],
   "source": [
    "## Reviewing details for 'booking_changes'\n",
    "eda.explore_feature(data,'booking_changes',bins = 5,\n",
    "                    \n",
    "                    plot_label ='booking_changes',\n",
    "                    plot_title= 'booking_changes',\n",
    "                    show_visualization = show_visualization);"
   ]
  },
  {
   "cell_type": "markdown",
   "metadata": {},
   "source": [
    "---\n",
    "\n",
    "**Feature Review**\n",
    "\n",
    "> PLACEHOLDER\n",
    "\n",
    "**Actions**\n",
    "\n",
    "> PLACEHOLDER\n",
    "\n",
    "****\n",
    "\n",
    "> PLACEHOLDER\n",
    "\n",
    "---"
   ]
  },
  {
   "cell_type": "markdown",
   "metadata": {},
   "source": [
    "## `Deposit_Type`"
   ]
  },
  {
   "cell_type": "markdown",
   "metadata": {},
   "source": [
    "---\n",
    "\n",
    "**City**\n",
    "\n",
    "---"
   ]
  },
  {
   "cell_type": "code",
   "execution_count": null,
   "metadata": {
    "ExecuteTime": {
     "end_time": "2021-09-13T19:04:06.083251Z",
     "start_time": "2021-09-13T19:04:04.898253Z"
    }
   },
   "outputs": [],
   "source": [
    "## Reviewing details for 'deposit_type'\n",
    "eda.explore_feature(data,'deposit_type',normalize=False,\n",
    "                    plot_label ='Deposit Type',\n",
    "                    plot_title= 'Deposit Type',\n",
    "                    show_visualization = show_visualization);"
   ]
  },
  {
   "cell_type": "markdown",
   "metadata": {},
   "source": [
    "---\n",
    "\n",
    "**Feature Review**\n",
    "\n",
    "> PLACEHOLDER\n",
    "\n",
    "**Actions**\n",
    "\n",
    "> PLACEHOLDER\n",
    "\n",
    "****\n",
    "\n",
    "> PLACEHOLDER\n",
    "\n",
    "---"
   ]
  },
  {
   "cell_type": "markdown",
   "metadata": {},
   "source": [
    "## `Days_in_Waiting_List`"
   ]
  },
  {
   "cell_type": "markdown",
   "metadata": {},
   "source": [
    "---\n",
    "\n",
    "**City**\n",
    "\n",
    "---"
   ]
  },
  {
   "cell_type": "code",
   "execution_count": null,
   "metadata": {
    "ExecuteTime": {
     "end_time": "2021-09-13T19:04:06.939254Z",
     "start_time": "2021-09-13T19:04:06.085251Z"
    }
   },
   "outputs": [],
   "source": [
    "## Reviewing details for 'days_in_waiting_list'\n",
    "eda.explore_feature(data,'days_in_waiting_list',bins = 5,\n",
    "                    normalize=False,\n",
    "                    plot_label ='Days in Waiting List',\n",
    "                    plot_title= 'Days in Waiting List',\n",
    "                    show_visualization = show_visualization);"
   ]
  },
  {
   "cell_type": "markdown",
   "metadata": {},
   "source": [
    "---\n",
    "\n",
    "**Feature Review**\n",
    "\n",
    "> PLACEHOLDER\n",
    "\n",
    "**Actions**\n",
    "\n",
    "> PLACEHOLDER\n",
    "\n",
    "****\n",
    "\n",
    "> PLACEHOLDER\n",
    "\n",
    "---"
   ]
  },
  {
   "cell_type": "markdown",
   "metadata": {},
   "source": [
    "## `Customer_Type`"
   ]
  },
  {
   "cell_type": "markdown",
   "metadata": {},
   "source": [
    "---\n",
    "\n",
    "**City**\n",
    "\n",
    "---"
   ]
  },
  {
   "cell_type": "code",
   "execution_count": null,
   "metadata": {
    "ExecuteTime": {
     "end_time": "2021-09-13T19:04:08.826253Z",
     "start_time": "2021-09-13T19:04:06.941252Z"
    }
   },
   "outputs": [],
   "source": [
    "## Reviewing details for 'customer_type'\n",
    "eda.explore_feature(data,'customer_type',marginal = 'box',\n",
    "                    plot_label ='Customer Type',\n",
    "                    plot_title= 'Customer Type',\n",
    "                    show_visualization = show_visualization);"
   ]
  },
  {
   "cell_type": "markdown",
   "metadata": {},
   "source": [
    "---\n",
    "\n",
    "**Feature Review**\n",
    "\n",
    "> PLACEHOLDER\n",
    "\n",
    "**Actions**\n",
    "\n",
    "> PLACEHOLDER\n",
    "\n",
    "****\n",
    "\n",
    "> PLACEHOLDER\n",
    "\n",
    "---"
   ]
  },
  {
   "cell_type": "markdown",
   "metadata": {},
   "source": [
    "## `ADR`"
   ]
  },
  {
   "cell_type": "markdown",
   "metadata": {},
   "source": [
    "---\n",
    "\n",
    "**City**\n",
    "\n",
    "---"
   ]
  },
  {
   "cell_type": "code",
   "execution_count": null,
   "metadata": {
    "ExecuteTime": {
     "end_time": "2021-09-13T19:04:10.218252Z",
     "start_time": "2021-09-13T19:04:08.828251Z"
    }
   },
   "outputs": [],
   "source": [
    "## Reviewing details for 'adr'\n",
    "eda.explore_feature(data ,'adr',bins = 5,\n",
    "                    plot_label ='ADR (€)',\n",
    "                    plot_title= 'ADR (€)',\n",
    "                    show_visualization = show_visualization);"
   ]
  },
  {
   "cell_type": "markdown",
   "metadata": {},
   "source": [
    "---\n",
    "\n",
    "**Feature Review**\n",
    "\n",
    "> PLACEHOLDER\n",
    "\n",
    "**Actions**\n",
    "\n",
    "> PLACEHOLDER\n",
    "\n",
    "****\n",
    "\n",
    "> PLACEHOLDER\n",
    "\n",
    "---"
   ]
  },
  {
   "cell_type": "markdown",
   "metadata": {},
   "source": [
    "## `Required_Car_Parking_Spaces`"
   ]
  },
  {
   "cell_type": "markdown",
   "metadata": {},
   "source": [
    "---\n",
    "\n",
    "**City**\n",
    "\n",
    "---"
   ]
  },
  {
   "cell_type": "code",
   "execution_count": null,
   "metadata": {
    "ExecuteTime": {
     "end_time": "2021-09-13T19:04:11.297251Z",
     "start_time": "2021-09-13T19:04:10.220251Z"
    }
   },
   "outputs": [],
   "source": [
    "## Reviewing details for 'required_car_parking_spaces'\n",
    "eda.explore_feature(data,'required_car_parking_spaces',bins = 5,\n",
    "                    normalize=False,\n",
    "                    plot_label ='Required Car Parking Spaces',\n",
    "                    plot_title= 'Required Car Parking Spaces',\n",
    "                    show_visualization = show_visualization);"
   ]
  },
  {
   "cell_type": "markdown",
   "metadata": {},
   "source": [
    "---\n",
    "\n",
    "**Feature Review**\n",
    "\n",
    "> PLACEHOLDER\n",
    "\n",
    "**Actions**\n",
    "\n",
    "> PLACEHOLDER\n",
    "\n",
    "****\n",
    "\n",
    "> PLACEHOLDER\n",
    "\n",
    "---"
   ]
  },
  {
   "cell_type": "markdown",
   "metadata": {},
   "source": [
    "## `Total_of_Special_Requests`"
   ]
  },
  {
   "cell_type": "markdown",
   "metadata": {},
   "source": [
    "---\n",
    "\n",
    "**City**\n",
    "\n",
    "---"
   ]
  },
  {
   "cell_type": "code",
   "execution_count": null,
   "metadata": {
    "ExecuteTime": {
     "end_time": "2021-09-13T19:04:12.672251Z",
     "start_time": "2021-09-13T19:04:11.299252Z"
    }
   },
   "outputs": [],
   "source": [
    "## Reviewing details for 'total_of_special_requests'\n",
    "eda.explore_feature(data,'total_of_special_requests',bins = 5,\n",
    "                    marginal = 'box',\n",
    "                    plot_label ='Total of Special Requests',\n",
    "                    plot_title= 'Total of Special Requests',\n",
    "                    show_visualization = show_visualization);"
   ]
  },
  {
   "cell_type": "markdown",
   "metadata": {},
   "source": [
    "---\n",
    "\n",
    "**Feature Review**\n",
    "\n",
    "> PLACEHOLDER\n",
    "\n",
    "**Actions**\n",
    "\n",
    "> PLACEHOLDER\n",
    "\n",
    "****\n",
    "\n",
    "> PLACEHOLDER\n",
    "\n",
    "---"
   ]
  },
  {
   "cell_type": "markdown",
   "metadata": {},
   "source": [
    "## `Reservation_Status_Date`"
   ]
  },
  {
   "cell_type": "markdown",
   "metadata": {},
   "source": [
    "---\n",
    "\n",
    "**City**\n",
    "\n",
    "---"
   ]
  },
  {
   "cell_type": "code",
   "execution_count": null,
   "metadata": {
    "ExecuteTime": {
     "end_time": "2021-09-13T19:04:21.606255Z",
     "start_time": "2021-09-13T19:04:12.675253Z"
    },
    "scrolled": false
   },
   "outputs": [],
   "source": [
    "## Reviewing details for 'reservation_status_date'\n",
    "eda.explore_feature(data,'reservation_status_date',marginal = 'box',\n",
    "                    bins=3,\n",
    "                    plot_label ='Reservation Status Date',\n",
    "                    plot_title= 'Reservation Status Date',\n",
    "                    show_visualization = show_visualization);"
   ]
  },
  {
   "cell_type": "markdown",
   "metadata": {},
   "source": [
    "---\n",
    "\n",
    "**Feature Review**\n",
    "\n",
    "> PLACEHOLDER\n",
    "\n",
    "**Actions**\n",
    "\n",
    "> PLACEHOLDER\n",
    "\n",
    "****\n",
    "\n",
    "> PLACEHOLDER\n",
    "\n",
    "---"
   ]
  },
  {
   "cell_type": "markdown",
   "metadata": {},
   "source": [
    "## `Agent_Group`"
   ]
  },
  {
   "cell_type": "markdown",
   "metadata": {},
   "source": [
    "---\n",
    "\n",
    ">\n",
    "\n",
    "---"
   ]
  },
  {
   "cell_type": "code",
   "execution_count": null,
   "metadata": {
    "ExecuteTime": {
     "end_time": "2021-09-13T19:04:23.790252Z",
     "start_time": "2021-09-13T19:04:21.609254Z"
    },
    "scrolled": false
   },
   "outputs": [],
   "source": [
    "## Reviewing details for 'agent_group'\n",
    "eda.explore_feature(data,'agent_group', plot_label ='Booking Agent Group',\n",
    "                    plot_title= 'Agent Group', show_visualization = show_visualization);"
   ]
  },
  {
   "cell_type": "markdown",
   "metadata": {},
   "source": [
    "---\n",
    "\n",
    "**Feature Review**\n",
    "\n",
    "> PLACEHOLDER\n",
    "\n",
    "**Actions**\n",
    "\n",
    "> PLACEHOLDER\n",
    "\n",
    "****\n",
    "\n",
    "> PLACEHOLDER\n",
    "\n",
    "---"
   ]
  },
  {
   "cell_type": "markdown",
   "metadata": {},
   "source": [
    "# 🛑 **Post-EDA**"
   ]
  },
  {
   "cell_type": "markdown",
   "metadata": {},
   "source": [
    "---\n",
    "\n",
    "**FIX/UPDATE ALL OF THE NARRATIVE ELEMENTS OF THE REST OF THIS CODE.**\n",
    "\n",
    "---"
   ]
  },
  {
   "cell_type": "markdown",
   "metadata": {},
   "source": [
    "---\n",
    "\n",
    "**Finishing Touches**\n",
    "\n",
    "> Now that I reviewed all of my features; confirmed there are no missing values; and confirmed all of the datatypes are correct, I will finish the remaining preprocessing.\n",
    "\n",
    "**Outliers**\n",
    "\n",
    "> Based on my EDA, I noticed several features show significant outliers. If I kept these outlying data points, they could have a negative impact on my future models' performances.\n",
    "\n",
    "**Process**\n",
    "> I will first identify the features with outliers; then use the z-scores of each data point to determine the outliers. Any absolute-valued z-score greater than 3 will be considered an outlier and will be disregarded.\n",
    "\n",
    "---"
   ]
  },
  {
   "cell_type": "markdown",
   "metadata": {},
   "source": [
    "## Updating `Meal`"
   ]
  },
  {
   "cell_type": "markdown",
   "metadata": {},
   "source": [
    "---\n",
    "\n",
    "> The feature reference dictionary states that the \"undefined\" values for `meal` are part of the \"SC\" category. While there are not many \"undefined\" entries, I feel that it would be most accurate to put them all together to be most accurate.\n",
    "\n",
    "---"
   ]
  },
  {
   "cell_type": "code",
   "execution_count": null,
   "metadata": {
    "ExecuteTime": {
     "end_time": "2021-09-13T19:04:24.136256Z",
     "start_time": "2021-09-13T19:04:23.792255Z"
    }
   },
   "outputs": [],
   "source": [
    "data['meal'].value_counts(1)"
   ]
  },
  {
   "cell_type": "code",
   "execution_count": null,
   "metadata": {
    "ExecuteTime": {
     "end_time": "2021-09-13T19:04:24.387251Z",
     "start_time": "2021-09-13T19:04:24.140257Z"
    }
   },
   "outputs": [],
   "source": [
    "data['meal'].replace('Undefined', 'SC').value_counts(1)"
   ]
  },
  {
   "cell_type": "code",
   "execution_count": null,
   "metadata": {
    "ExecuteTime": {
     "end_time": "2021-09-13T19:04:24.619251Z",
     "start_time": "2021-09-13T19:04:24.390253Z"
    }
   },
   "outputs": [],
   "source": [
    "data['meal'] = data['meal'].replace('Undefined', 'SC')\n",
    "data['meal'].value_counts(1)"
   ]
  },
  {
   "cell_type": "code",
   "execution_count": null,
   "metadata": {
    "ExecuteTime": {
     "end_time": "2021-09-13T19:06:41.676855Z",
     "start_time": "2021-09-13T19:06:40.610857Z"
    }
   },
   "outputs": [],
   "source": [
    "## Reviewing details for arrival_day\n",
    "eda.explore_feature(data,'meal',plot_label ='Meal Type',\n",
    "                    plot_title= 'Meals',\n",
    "                    show_visualization = show_visualization);"
   ]
  },
  {
   "cell_type": "markdown",
   "metadata": {},
   "source": [
    "## Engineering `Arrival_Date`"
   ]
  },
  {
   "cell_type": "markdown",
   "metadata": {},
   "source": [
    "---\n",
    "\n",
    "**City**\n",
    "\n",
    "---"
   ]
  },
  {
   "cell_type": "code",
   "execution_count": null,
   "metadata": {
    "ExecuteTime": {
     "end_time": "2021-09-13T19:04:25.348251Z",
     "start_time": "2021-09-13T19:04:24.622252Z"
    },
    "scrolled": true
   },
   "outputs": [],
   "source": [
    "## Converting from month, day of month, and year to a single datetime column\n",
    "data['arrival_date'] = data['arrival_date_month'] +' '+ \\\n",
    "                                data['arrival_date_day_of_month']\\\n",
    "                                .astype(str) +', '+ \\\n",
    "                                data['arrival_date_year'].astype(str)\n",
    "data['arrival_date'] = pd.to_datetime(data['arrival_date'])\n",
    "data['arrival_date']"
   ]
  },
  {
   "cell_type": "code",
   "execution_count": null,
   "metadata": {
    "ExecuteTime": {
     "end_time": "2021-09-13T19:04:25.610254Z",
     "start_time": "2021-09-13T19:04:25.351252Z"
    }
   },
   "outputs": [],
   "source": [
    "## Determining the day of the week of arrival \n",
    "data.loc[:,'arrival_day'] = data.loc[:,'arrival_date'].dt.day_name()\n",
    "data['arrival_day']"
   ]
  },
  {
   "cell_type": "code",
   "execution_count": null,
   "metadata": {
    "ExecuteTime": {
     "end_time": "2021-09-13T19:04:25.857253Z",
     "start_time": "2021-09-13T19:04:25.613253Z"
    },
    "scrolled": true
   },
   "outputs": [],
   "source": [
    "## Reviewing results\n",
    "data[['arrival_day', 'arrival_date']]"
   ]
  },
  {
   "cell_type": "code",
   "execution_count": null,
   "metadata": {
    "ExecuteTime": {
     "end_time": "2021-09-13T19:04:27.642251Z",
     "start_time": "2021-09-13T19:04:25.859252Z"
    }
   },
   "outputs": [],
   "source": [
    "## Reviewing details for arrival_day\n",
    "eda.explore_feature(data,'arrival_day',plot_label ='Day',\n",
    "                    plot_title= 'Arrival Day',\n",
    "                    show_visualization = show_visualization);"
   ]
  },
  {
   "cell_type": "markdown",
   "metadata": {},
   "source": [
    "---\n",
    "\n",
    "**Feature Review**\n",
    "\n",
    "> I created this new feature to merge the arrival year/month/day-of-month features into one usable feature. \n",
    "\n",
    "**Actions**\n",
    "\n",
    "> PLACEHOLDER\n",
    "\n",
    "****\n",
    "\n",
    "> PLACEHOLDER\n",
    "\n",
    "---"
   ]
  },
  {
   "cell_type": "markdown",
   "metadata": {},
   "source": [
    "## Engineering `Stay Length`"
   ]
  },
  {
   "cell_type": "markdown",
   "metadata": {},
   "source": [
    "---\n",
    "\n",
    "> One major feature of a guest's reservation is missing from the original dataset: the overall length of stay (LoS). I feel a reservation's LoS is relevant to my analysis, and so I will engineer this feature by adding the number of week day and weekend nights together.\n",
    "\n",
    "---"
   ]
  },
  {
   "cell_type": "code",
   "execution_count": null,
   "metadata": {
    "ExecuteTime": {
     "end_time": "2021-09-13T19:04:27.858254Z",
     "start_time": "2021-09-13T19:04:27.652253Z"
    }
   },
   "outputs": [],
   "source": [
    "los = data['stays_in_weekend_nights'] + data['stays_in_week_nights']\n",
    "los.value_counts(dropna=False)"
   ]
  },
  {
   "cell_type": "code",
   "execution_count": null,
   "metadata": {
    "ExecuteTime": {
     "end_time": "2021-09-13T19:04:28.043250Z",
     "start_time": "2021-09-13T19:04:27.862253Z"
    }
   },
   "outputs": [],
   "source": [
    "data['stay_length'] = los\n",
    "data['stay_length']"
   ]
  },
  {
   "cell_type": "code",
   "execution_count": null,
   "metadata": {
    "ExecuteTime": {
     "end_time": "2021-09-13T19:04:29.483249Z",
     "start_time": "2021-09-13T19:04:28.045255Z"
    },
    "scrolled": false
   },
   "outputs": [],
   "source": [
    "## Reviewing details for stay_length\n",
    "eda.explore_feature(data,'stay_length',plot_label ='Length',\n",
    "                    plot_title= 'Length of Stay', bins=5,\n",
    "                    show_visualization = show_visualization);"
   ]
  },
  {
   "cell_type": "markdown",
   "metadata": {},
   "source": [
    "## Dropping `Reservation_Status`"
   ]
  },
  {
   "cell_type": "markdown",
   "metadata": {},
   "source": [
    "---\n",
    "\n",
    "> \n",
    "\n",
    "---"
   ]
  },
  {
   "cell_type": "code",
   "execution_count": null,
   "metadata": {
    "ExecuteTime": {
     "end_time": "2021-09-13T19:04:29.718253Z",
     "start_time": "2021-09-13T19:04:29.485253Z"
    }
   },
   "outputs": [],
   "source": [
    "## Dropping \"reservation_status\"\n",
    "data.drop(columns = 'reservation_status', inplace=True)"
   ]
  },
  {
   "cell_type": "code",
   "execution_count": null,
   "metadata": {
    "ExecuteTime": {
     "end_time": "2021-09-13T19:04:29.905253Z",
     "start_time": "2021-09-13T19:04:29.720254Z"
    }
   },
   "outputs": [],
   "source": [
    "## Confirming 'reservation_status' removal from dataframe\n",
    "'reservation_status' not in data"
   ]
  },
  {
   "cell_type": "markdown",
   "metadata": {},
   "source": [
    "## Dropping `Arrival_Date_Year`"
   ]
  },
  {
   "cell_type": "markdown",
   "metadata": {},
   "source": [
    "---\n",
    "\n",
    "> \n",
    "\n",
    "---"
   ]
  },
  {
   "cell_type": "code",
   "execution_count": null,
   "metadata": {
    "ExecuteTime": {
     "end_time": "2021-09-13T19:04:30.092254Z",
     "start_time": "2021-09-13T19:04:29.907252Z"
    }
   },
   "outputs": [],
   "source": [
    "## Dropping \"arrival_date_year\"\n",
    "data.drop(columns = 'arrival_date_year', inplace=True)"
   ]
  },
  {
   "cell_type": "code",
   "execution_count": null,
   "metadata": {
    "ExecuteTime": {
     "end_time": "2021-09-13T19:04:30.263252Z",
     "start_time": "2021-09-13T19:04:30.095256Z"
    }
   },
   "outputs": [],
   "source": [
    "## Confirming 'arrival_date_year' removal from dataframe\n",
    "'arrival_date_year' not in data"
   ]
  },
  {
   "cell_type": "markdown",
   "metadata": {},
   "source": [
    "## Final Data Review"
   ]
  },
  {
   "cell_type": "markdown",
   "metadata": {},
   "source": [
    "---\n",
    "\n",
    "> \n",
    "\n",
    "---"
   ]
  },
  {
   "cell_type": "code",
   "execution_count": null,
   "metadata": {
    "ExecuteTime": {
     "end_time": "2021-09-13T19:04:30.481253Z",
     "start_time": "2021-09-13T19:04:30.266253Z"
    },
    "scrolled": true
   },
   "outputs": [],
   "source": [
    "data"
   ]
  },
  {
   "cell_type": "markdown",
   "metadata": {},
   "source": [
    "# **Of Pandas and Pickles**"
   ]
  },
  {
   "cell_type": "markdown",
   "metadata": {},
   "source": [
    "---\n",
    "\n",
    "> Now I am ready to save the cleaned and processed data for modeling in my next notebook.\n",
    ">\n",
    "> In order to preserve the datatypes and details of my data, I will use the \"Pickle\" module to serialize the data and save four files - one for each dataframe (two hotels; filtered/not).\n",
    ">\n",
    ">**First**, I will add unique names to each of my dataframe indices. **Then**, I will pickle the files. Finally, I will reopen the pickled files in my next notebook.\n",
    "\n",
    "---"
   ]
  },
  {
   "cell_type": "markdown",
   "metadata": {},
   "source": [
    "## Peter Panda Picked a Peck of Pickled DataFrames..."
   ]
  },
  {
   "cell_type": "markdown",
   "metadata": {},
   "source": [
    "> "
   ]
  },
  {
   "cell_type": "code",
   "execution_count": null,
   "metadata": {
    "ExecuteTime": {
     "end_time": "2021-09-13T19:04:35.757252Z",
     "start_time": "2021-09-13T19:04:30.484251Z"
    }
   },
   "outputs": [],
   "source": [
    "## Pickling with Pandas\n",
    "data.to_pickle(path = './data/data_prepped.pickle',\n",
    "            compression = 'gzip')\n",
    "print(f'Successfully pickled!')"
   ]
  },
  {
   "cell_type": "markdown",
   "metadata": {},
   "source": [
    "# Moving to Modeling!"
   ]
  },
  {
   "cell_type": "markdown",
   "metadata": {},
   "source": [
    "---\n",
    "\n",
    "> Now that I completed the pre-processing and EDA steps, I will move to my next notebook to perform my classification modeling.\n",
    "\n",
    "---"
   ]
  },
  {
   "cell_type": "code",
   "execution_count": null,
   "metadata": {},
   "outputs": [],
   "source": []
  }
 ],
 "metadata": {
  "interpreter": {
   "hash": "980eb18a21052b9c17debf7b5e50bde2e676226d1d1b2f7e2a15b0c620c5c0ea"
  },
  "kernelspec": {
   "display_name": "Python [conda env:learn_env_clone]",
   "language": "python",
   "name": "conda-env-learn_env_clone-py"
  },
  "language_info": {
   "codemirror_mode": {
    "name": "ipython",
    "version": 3
   },
   "file_extension": ".py",
   "mimetype": "text/x-python",
   "name": "python",
   "nbconvert_exporter": "python",
   "pygments_lexer": "ipython3",
   "version": "3.8.5"
  },
  "toc": {
   "base_numbering": 1,
   "nav_menu": {},
   "number_sections": true,
   "sideBar": true,
   "skip_h1_title": false,
   "title_cell": "Table of Contents",
   "title_sidebar": "Contents",
   "toc_cell": true,
   "toc_position": {
    "height": "calc(100% - 180px)",
    "left": "10px",
    "top": "150px",
    "width": "262.825px"
   },
   "toc_section_display": true,
   "toc_window_display": true
  }
 },
 "nbformat": 4,
 "nbformat_minor": 2
}
