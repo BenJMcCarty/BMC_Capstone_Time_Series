{
 "cells": [
  {
   "cell_type": "markdown",
   "id": "a70295dd-c7b7-4220-9a79-abcc2f79dd7a",
   "metadata": {},
   "source": [
    "# Calculating Hotel Occupancy\n",
    "\n",
    "---\n",
    "\n",
    "> Hotel occupancy is a critical factor during the booking process and can provide additional insight into the likelihood of cancellations and/or forecasting future ADR.\n",
    "> \n",
    "> However, *there's no clear indication of the total number of guest rooms for either hotel.*\n",
    ">\n",
    "> \n",
    "> I will determine the maximum number of rooms occupied for each date for each hotel, which can be used as a placeholder max occupancy number.\n",
    "\n",
    "---"
   ]
  },
  {
   "cell_type": "markdown",
   "id": "16cfc56c-5347-412f-959e-5052dd3a93b6",
   "metadata": {},
   "source": [
    "# Import Packages and Read Data"
   ]
  },
  {
   "cell_type": "code",
   "execution_count": null,
   "id": "2d4d95de-b556-4496-8877-47ad4d937c46",
   "metadata": {},
   "outputs": [],
   "source": [
    "## Used to upload \n",
    "%load_ext autoreload\n",
    "%autoreload 2"
   ]
  },
  {
   "cell_type": "code",
   "execution_count": null,
   "id": "0a6891eb-9725-4811-a064-24dd9f00814f",
   "metadata": {},
   "outputs": [],
   "source": [
    "## Data Handling\n",
    "import pandas as pd\n",
    "import numpy as np\n",
    "\n",
    "import datetime as dt\n",
    "\n",
    "## Visualizations\n",
    "import matplotlib.pyplot as plt\n",
    "import plotly.express as px\n",
    "import seaborn as sns\n",
    "\n",
    "## Custom-made Functions\n",
    "# from bmc_functions import eda"
   ]
  },
  {
   "cell_type": "code",
   "execution_count": null,
   "id": "b8a3f997-dfdf-4ed0-9c32-d05c8f436660",
   "metadata": {},
   "outputs": [],
   "source": [
    "## Settings\n",
    "pd.set_option('display.max_columns', None)\n",
    "pd.set_option('display.float_format', lambda x: f'{x:,.2f}')\n",
    "pd.set_option('display.max_rows', 50)\n",
    "%matplotlib inline"
   ]
  },
  {
   "cell_type": "markdown",
   "id": "9d758672-07dd-4219-9354-fe3e52327ddc",
   "metadata": {},
   "source": [
    "## Read-In Data"
   ]
  },
  {
   "cell_type": "markdown",
   "id": "65d88362-5e3e-4e6e-b401-549abd1588ef",
   "metadata": {},
   "source": [
    "---\n",
    "\n",
    "***NOTE:** Load data for one hotel at a time - need to calculate occupancies for each hotel separately.*\n",
    "\n",
    "---"
   ]
  },
  {
   "cell_type": "code",
   "execution_count": null,
   "id": "894a73e9-ecb1-4099-add7-6c8052f14089",
   "metadata": {},
   "outputs": [],
   "source": [
    "# data_path_H1 = './data/H1.csv'\n",
    "\n",
    "# data1 = pd.read_csv(data_path_H1)\n",
    "# data1['HotelNumber'] = 1\n",
    "# data1.head()"
   ]
  },
  {
   "cell_type": "code",
   "execution_count": null,
   "id": "7b839a25-9b1d-4881-b45c-a819c57ee702",
   "metadata": {},
   "outputs": [],
   "source": [
    "# occupancy_cols = ['LeadTime', 'ArrivalDateYear', 'ArrivalDateMonth', 'ArrivalDateDayOfMonth', 'StaysInWeekendNights', 'StaysInWeekNights']\n",
    "data_path = './data/H1.parquet'"
   ]
  },
  {
   "cell_type": "code",
   "execution_count": null,
   "id": "c3f20aa4-9291-43d4-aca1-c3f39cbd7e44",
   "metadata": {},
   "outputs": [],
   "source": [
    "df_data = pd.read_parquet(data_path)#, columns = occupancy_cols)\n",
    "df_data.head()"
   ]
  },
  {
   "cell_type": "code",
   "execution_count": null,
   "id": "8adf748f-92ad-449f-80f1-888d238d01fb",
   "metadata": {},
   "outputs": [],
   "source": [
    "# data_path_H2 = './data/H2.csv'\n",
    "\n",
    "# data2 = pd.read_csv(data_path_H2)\n",
    "# data2['HotelNumber'] = 2\n",
    "# # data2.head()"
   ]
  },
  {
   "cell_type": "code",
   "execution_count": null,
   "id": "d869a60a-93ec-479d-ac93-440c015507f7",
   "metadata": {},
   "outputs": [],
   "source": [
    "# ## Combine both datasets\n",
    "# df_data = pd.concat([data1, data2], axis = 0).reset_index(drop=True)\n",
    "# df_data.head()"
   ]
  },
  {
   "cell_type": "code",
   "execution_count": null,
   "id": "a4b5e3f2-9ff3-4cf6-9ba0-ac5cf19049ff",
   "metadata": {
    "scrolled": true
   },
   "outputs": [],
   "source": [
    "df_data.info()"
   ]
  },
  {
   "cell_type": "markdown",
   "id": "c3f2ee19-c13f-4ef6-8a01-f09c50fa3e78",
   "metadata": {},
   "source": [
    "# Begin Time Series Resampling"
   ]
  },
  {
   "cell_type": "markdown",
   "id": "176c050b-a9f0-4680-8b07-dd77aafe8b2f",
   "metadata": {},
   "source": [
    "## Calculate Arrival Date"
   ]
  },
  {
   "cell_type": "code",
   "execution_count": null,
   "id": "ddb36864-cbea-4643-baae-57fefdadd337",
   "metadata": {},
   "outputs": [],
   "source": [
    "## Convert Arrival columns to strings\n",
    "\n",
    "arrival_date_cols = ['ArrivalDateYear', 'ArrivalDateMonth', 'ArrivalDateDayOfMonth']\n",
    "\n",
    "arrival_date_cols_str = df_data[arrival_date_cols].astype(str)\n",
    "arrival_date_cols_str.head()"
   ]
  },
  {
   "cell_type": "code",
   "execution_count": null,
   "id": "010f30ad-3946-4f92-aa37-cd2b39600f84",
   "metadata": {},
   "outputs": [],
   "source": [
    "## Create new column of strings formatted as YYYY-MM-DD, then convert to datetime\n",
    "\n",
    "arrival_date_full_str = arrival_date_cols_str['ArrivalDateYear'] + '-' + \\\n",
    "                        arrival_date_cols_str['ArrivalDateMonth'] + '-' + \\\n",
    "                        arrival_date_cols_str['ArrivalDateDayOfMonth']\n",
    "\n",
    "arrival_date_dt = pd.to_datetime(arrival_date_full_str, yearfirst = True)\n",
    "arrival_date_dt.name = 'Arrival_Date'\n",
    "arrival_date_dt"
   ]
  },
  {
   "cell_type": "code",
   "execution_count": null,
   "id": "6fd77b82-f8a4-42f5-bbd5-7479f80af1ec",
   "metadata": {},
   "outputs": [],
   "source": [
    "## Concatenate new column\n",
    "df_data = pd.concat([df_data, arrival_date_dt], axis = 1)\n",
    "df_data.head()"
   ]
  },
  {
   "cell_type": "code",
   "execution_count": null,
   "id": "29a01ee3-4815-4636-ad5b-3c8ee9f1ee00",
   "metadata": {},
   "outputs": [],
   "source": [
    "df_data.columns.to_list()"
   ]
  },
  {
   "cell_type": "code",
   "execution_count": null,
   "id": "825f6724-774a-403b-a9bc-923a1578685a",
   "metadata": {},
   "outputs": [],
   "source": [
    "df_data = df_data.drop(columns=[ 'ArrivalDateYear', 'ArrivalDateMonth', 'ArrivalDateDayOfMonth'])\n",
    "df_data"
   ]
  },
  {
   "cell_type": "markdown",
   "id": "29ec2d10-c5d9-4e9a-a613-f0c3bd5d6114",
   "metadata": {},
   "source": [
    "## Calculate Departure Date"
   ]
  },
  {
   "cell_type": "code",
   "execution_count": null,
   "id": "c62a3dfa-a037-4fbf-8d5f-212558ad6772",
   "metadata": {},
   "outputs": [],
   "source": [
    "## Testing creation of timedelta series to add additional nights to arrival date\n",
    "pd.to_timedelta(df_data.loc[:, 'StaysInWeekendNights'], unit = 'D')"
   ]
  },
  {
   "cell_type": "code",
   "execution_count": null,
   "id": "d6f1469d-0e8b-4fd6-9c47-d9ed8dbe1795",
   "metadata": {},
   "outputs": [],
   "source": [
    "## Create timedelta series based on number of weekday/end nights.\n",
    "timedelta_wknd = pd.to_timedelta(df_data.loc[:, 'StaysInWeekendNights'], unit = 'D')\n",
    "timedelta_wk = pd.to_timedelta(df_data.loc[:, 'StaysInWeekNights'], unit = 'D')"
   ]
  },
  {
   "cell_type": "code",
   "execution_count": null,
   "id": "8d25d2ad-840f-4628-a6e5-956399f938fc",
   "metadata": {},
   "outputs": [],
   "source": [
    "## Calculate the departure date by adding the timedeltas to the arrival date\n",
    "departure_date = df_data.loc[:, 'Arrival_Date'] + timedelta_wk + timedelta_wknd\n",
    "departure_date.name = 'Departure_Date'\n",
    "departure_date"
   ]
  },
  {
   "cell_type": "code",
   "execution_count": null,
   "id": "6901e083-55a9-4f17-a945-cf5527f20bc1",
   "metadata": {},
   "outputs": [],
   "source": [
    "## Concatenate with original dataframe\n",
    "df_data = pd.concat([df_data, departure_date], axis = 1)\n",
    "df_data.head()"
   ]
  },
  {
   "cell_type": "code",
   "execution_count": null,
   "id": "eb184726-3dfa-4533-bfe8-87aeb300b70e",
   "metadata": {
    "scrolled": true
   },
   "outputs": [],
   "source": [
    "df_data = df_data.drop(columns=['StaysInWeekendNights', 'StaysInWeekNights'])\n",
    "df_data"
   ]
  },
  {
   "cell_type": "markdown",
   "id": "02b06fc8-5e3e-4f2e-bd97-957125143858",
   "metadata": {},
   "source": [
    "# Calculate Booking Date"
   ]
  },
  {
   "cell_type": "code",
   "execution_count": null,
   "id": "c3108246-d266-4be6-ba19-9b25092a8dfb",
   "metadata": {},
   "outputs": [],
   "source": [
    "leadtime_timedelta = pd.to_timedelta(df_data['LeadTime'], unit = 'D')\n",
    "leadtime_timedelta"
   ]
  },
  {
   "cell_type": "code",
   "execution_count": null,
   "id": "cfc0a8e5-b086-431f-9ff4-a9fd59c4c1b3",
   "metadata": {},
   "outputs": [],
   "source": [
    "df_data['Booking_Date'] = df_data['Arrival_Date'] - leadtime_timedelta\n",
    "df_data['Booking_Date']"
   ]
  },
  {
   "cell_type": "markdown",
   "id": "ff09cbd5-a422-48e2-a4b5-08d288254e64",
   "metadata": {},
   "source": [
    "# Calculate Day of Week for Booking, Arrival, and Departure Dates"
   ]
  },
  {
   "cell_type": "code",
   "execution_count": null,
   "id": "f9bcdced-ccd3-4e27-8290-48f988750ec9",
   "metadata": {},
   "outputs": [],
   "source": [
    "df_data['Booking_Date_DoW'] = df_data['Booking_Date'].dt.isocalendar().day\n",
    "df_data['Arrival_Date_DoW'] = df_data['Arrival_Date'].dt.isocalendar().day\n",
    "df_data['Departure_Date_DoW'] = df_data['Departure_Date'].dt.isocalendar().day\n",
    "\n",
    "df_data[['Booking_Date_DoW', 'Arrival_Date_DoW', 'Departure_Date_DoW']]"
   ]
  },
  {
   "cell_type": "code",
   "execution_count": null,
   "id": "cfb8fa4c-8624-413c-8255-f0956f0235d8",
   "metadata": {},
   "outputs": [],
   "source": [
    "df_data.head()"
   ]
  },
  {
   "cell_type": "code",
   "execution_count": null,
   "id": "1140ad74-fa22-4a78-955f-ed910c561077",
   "metadata": {},
   "outputs": [],
   "source": [
    "df_data['Booking_Date_DoY'] = df_data['Booking_Date'].dt.dayofyear\n",
    "df_data['Arrival_Date_DoY'] = df_data['Arrival_Date'].dt.dayofyear\n",
    "df_data['Departure_Date_DoY'] = df_data['Departure_Date'].dt.dayofyear\n",
    "\n",
    "df_data.head()"
   ]
  },
  {
   "cell_type": "code",
   "execution_count": null,
   "id": "13165038-6c1e-4a78-b0c0-1b3ee663bad4",
   "metadata": {},
   "outputs": [],
   "source": []
  },
  {
   "cell_type": "markdown",
   "id": "fba5009c-f366-445b-bb24-88a63ec75399",
   "metadata": {},
   "source": [
    "## Calculate Daily Occupancies"
   ]
  },
  {
   "cell_type": "code",
   "execution_count": null,
   "id": "d5aa4dea-b7b2-421f-97cf-6c2fc0f02edc",
   "metadata": {},
   "outputs": [],
   "source": [
    "min_date = df_data['Arrival_Date'].min()\n",
    "max_date = df_data['Departure_Date'].max()\n",
    "\n",
    "print(f'The earliest date is: {min_date}.\\nThe latest date is: {max_date}.')"
   ]
  },
  {
   "cell_type": "markdown",
   "id": "0d7dd452-eb26-4aba-8e74-54a0480b67b3",
   "metadata": {},
   "source": [
    "### ChatGPT-Generated Code"
   ]
  },
  {
   "cell_type": "markdown",
   "id": "00a843fd-4a89-4265-97aa-fbb31a9ec578",
   "metadata": {
    "jp-MarkdownHeadingCollapsed": true
   },
   "source": [
    "#### Walkthrough of Code Below"
   ]
  },
  {
   "cell_type": "markdown",
   "id": "7fb890d4-360e-42b7-bd9e-cfbe35ae45a7",
   "metadata": {
    "jp-MarkdownHeadingCollapsed": true
   },
   "source": [
    "Certainly! Let's break down the corrected code into its key steps, explaining each part and its purpose in calculating the number of active hotel reservations for each date:\n",
    "\n",
    "**1. Sample Data Creation**\n",
    "\n",
    "```python\n",
    "df_data = pd.DataFrame({\n",
    "    'Arrival_Date': ['2023-01-01', '2023-01-02', '2023-01-05', '2023-01-05'],\n",
    "    'Departure_Date': ['2023-01-04', '2023-01-03', '2023-01-06', '2023-01-07']\n",
    "})\n",
    "```\n",
    "- This step initializes `df_data`, a pandas DataFrame with two columns: `Arrival_Date` and `Departure_Date`. Each row represents a reservation with its arrival and departure dates.\n",
    "\n",
    "**2. Convert Dates to Datetime Format**\n",
    "\n",
    "```python\n",
    "df_data['Arrival_Date'] = pd.to_datetime(df_data['Arrival_Date'])\n",
    "df_data['Departure_Date'] = pd.to_datetime(df_data['Departure_Date'])\n",
    "```\n",
    "- Converts the date columns from strings (or any other format they might be in) to pandas datetime objects, allowing for date arithmetic and other time-series operations.\n",
    "\n",
    "**3. Generate Counts for Arrivals and Departures**\n",
    "\n",
    "```python\n",
    "arrivals = df_data['Arrival_Date'].value_counts().rename('count')\n",
    "departures = df_data['Departure_Date'].value_counts().rename('count')\n",
    "```\n",
    "- Counts how many reservations start (`arrivals`) and end (`departures`) on each date. The `value_counts()` method tallies occurrences of each date, and `rename('count')` changes the Series name to `'count'`, which aids in clarity for later operations.\n",
    "\n",
    "**4. Combine Arrival and Departure Counts**\n",
    "\n",
    "```python\n",
    "df_counts = pd.concat([arrivals, -departures]).sort_index().reset_index()\n",
    "df_counts.columns = ['Date', 'Count']\n",
    "```\n",
    "- Combines the arrivals and departures into a single DataFrame, `df_counts`, with arrivals contributing positively to the count and departures negatively (indicating the end of a reservation). The data is then sorted by date.\n",
    "\n",
    "**5. Aggregate Counts on the Same Date**\n",
    "\n",
    "```python\n",
    "df_counts = df_counts.groupby('Date').sum()\n",
    "```\n",
    "- Since the combination of arrivals and departures could result in multiple entries for the same date, this step aggregates (sums) all counts for each date. This ensures each date is unique, addressing the initial issue of duplicate labels.\n",
    "\n",
    "**6. Generate a Complete Date Range and Reindex**\n",
    "\n",
    "```python\n",
    "date_range = pd.date_range(start=df_counts.index.min(), end=df_counts.index.max())\n",
    "df_counts = df_counts.reindex(date_range, fill_value=0)\n",
    "```\n",
    "- Creates a continuous range of dates covering the entire period from the earliest to the latest date in `df_counts`. It then reindexes `df_counts` to include every date in this range, filling any dates without data with `0`, ensuring there's a record for every single day in the period.\n",
    "\n",
    "**7. Calculate Cumulative Sum for Active Reservations**\n",
    "\n",
    "```python\n",
    "df_counts['Active_Reservations'] = df_counts['Count'].cumsum()\n",
    "```\n",
    "- Computes the cumulative sum of the daily net reservation counts (`Count`). This step effectively calculates the total number of active reservations for each date by adding up the arrivals and subtracting the departures as they occur over time.\n",
    "\n",
    "**Conclusion**\n",
    "\n",
    "- The final output, `df_counts['Active_Reservations']`, shows the total number of active reservations for each date in the range. This method is efficient and avoids the problem of duplicate labels by ensuring that each date is unique before the reindexing step, leveraging pandas' capabilities for handling time series data."
   ]
  },
  {
   "cell_type": "markdown",
   "id": "03a1d928-4484-4f0c-8924-27177ed4c394",
   "metadata": {},
   "source": [
    "### Code"
   ]
  },
  {
   "cell_type": "code",
   "execution_count": null,
   "id": "cf9499ca-c081-498a-a878-30e7df40b701",
   "metadata": {},
   "outputs": [],
   "source": [
    "# Generate counts for arrivals and departures on their respective dates\n",
    "arrivals = df_data['Arrival_Date'].value_counts().rename('count')\n",
    "departures = df_data['Departure_Date'].value_counts().rename('count')\n",
    "arrivals.head(), departures.head()"
   ]
  },
  {
   "cell_type": "code",
   "execution_count": null,
   "id": "f56603dc-5e6c-4dc8-b667-7e5c6491656e",
   "metadata": {},
   "outputs": [],
   "source": [
    "# Create a DataFrame from arrivals and departures, marking departures as negative\n",
    "df_counts = pd.concat([arrivals, -departures]).sort_index().reset_index()\n",
    "df_counts.columns = ['Date', 'Count']\n",
    "df_counts"
   ]
  },
  {
   "cell_type": "code",
   "execution_count": null,
   "id": "52c4fbff-d2aa-4081-9cb3-073eca9e6cfe",
   "metadata": {},
   "outputs": [],
   "source": [
    "# Aggregate counts on the same date to avoid duplicate labels\n",
    "df_counts = df_counts.groupby('Date').sum()\n",
    "df_counts"
   ]
  },
  {
   "cell_type": "code",
   "execution_count": null,
   "id": "263128a7-e4d6-451e-b411-c5d3e8f26cdb",
   "metadata": {},
   "outputs": [],
   "source": [
    "# Generate a complete date range covering the period in df_data\n",
    "date_range = pd.date_range(start=df_counts.index.min(), end=df_counts.index.max())\n",
    "date_range"
   ]
  },
  {
   "cell_type": "code",
   "execution_count": null,
   "id": "f5861b70-cfab-4c1a-b772-776c076cf995",
   "metadata": {},
   "outputs": [],
   "source": [
    "# Reindex the aggregated count DataFrame to include all dates in the range, filling missing dates with 0\n",
    "df_counts = df_counts.reindex(date_range, fill_value=0)\n",
    "df_counts"
   ]
  },
  {
   "cell_type": "code",
   "execution_count": null,
   "id": "7d99290f-975c-4f0c-b88a-418e930f09e5",
   "metadata": {
    "scrolled": true
   },
   "outputs": [],
   "source": [
    "# Calculate the cumulative sum to determine active reservations for each date\n",
    "df_counts['Active_Reservations'] = df_counts['Count'].cumsum()\n",
    "\n",
    "df_counts['Active_Reservations']"
   ]
  },
  {
   "cell_type": "markdown",
   "id": "03fd130f-0cac-4145-980a-cc424ae0f440",
   "metadata": {},
   "source": [
    "#### Groupby.Sum vs. Cumsum"
   ]
  },
  {
   "cell_type": "markdown",
   "id": "087c1f3c-c711-4359-830e-c10382a919d9",
   "metadata": {
    "execution": {
     "iopub.execute_input": "2024-03-22T00:46:32.242561Z",
     "iopub.status.busy": "2024-03-22T00:46:32.241561Z",
     "iopub.status.idle": "2024-03-22T00:46:32.384609Z",
     "shell.execute_reply": "2024-03-22T00:46:32.384609Z",
     "shell.execute_reply.started": "2024-03-22T00:46:32.242561Z"
    }
   },
   "source": [
    "The use of both `groupby().sum()` and the `cumsum()` methods serves two different purposes in the process of calculating the total number of active reservations for each date. Here's a clarification of the roles each step plays in the computation:\n",
    "\n",
    "**1. GroupBy().sum()**\n",
    "\n",
    "- **Purpose:** This step aggregates the daily net changes in reservations (arrivals and departures) for each unique date. Since arrivals are counted positively and departures negatively, the sum for each date tells us the net reservation change on that day. \n",
    "- **What It Solves:** If, for instance, 5 reservations start (arrive) and 3 end (depart) on a particular date, the net change in reservations for that day would be +2. This calculation consolidates all changes into a single value per date, ensuring there's no duplication of dates in the dataset, which is necessary for the next steps.\n",
    "\n",
    "**2. cumsum()**\n",
    "\n",
    "- **Purpose:** The cumulative sum (`cumsum()`) takes these daily net changes and accumulates them over the entire period to calculate the total number of active reservations for each date. It essentially adds up the net changes from the start date, rolling forward, to show how many reservations are active on any given day.\n",
    "- **What It Solves:** This step provides the running total of active reservations. It accounts for the ongoing balance of reservations as they begin and end over time, showing the total active reservations on each date. This is crucial for understanding the capacity or occupancy on any given day.\n",
    "\n",
    "**Illustrative Example:**\n",
    "\n",
    "Let's say you have data for three days:\n",
    "\n",
    "- **Day 1:** 5 arrivals, 0 departures (net +5)\n",
    "- **Day 2:** 3 arrivals, 1 departure (net +2)\n",
    "- **Day 3:** 2 arrivals, 4 departures (net -2)\n",
    "\n",
    "After `groupby().sum()`, you'd have a net change sequence of [+5, +2, -2].\n",
    "\n",
    "Applying `cumsum()` to this sequence gives you the total active reservations for each day: [5, 7, 5]. This demonstrates how the occupancy evolves:\n",
    "\n",
    "- **Day 1:** Starts with 5,\n",
    "- **Day 2:** Increases to 7,\n",
    "- **Day 3:** Decreases back to 5.\n",
    "\n",
    "**Conclusion:**\n",
    "\n",
    "- **`groupby().sum()`** is used for condensing the dataset into a form where each date has a single net change value, resolving any issues with duplicate dates.\n",
    "- **`cumsum()`** transforms these net changes into a running total of active reservations, reflecting how the number of active reservations builds up or reduces over time."
   ]
  },
  {
   "cell_type": "markdown",
   "id": "0055085a-f036-4227-b778-25be9c50b8b8",
   "metadata": {},
   "source": [
    "## Adding Arrival/Departure Occupancies to Original Data"
   ]
  },
  {
   "cell_type": "code",
   "execution_count": null,
   "id": "b9137128-eb25-439e-a2fe-af13eccd826a",
   "metadata": {},
   "outputs": [],
   "source": [
    "df_counts['Active_Reservations'].head(10)"
   ]
  },
  {
   "cell_type": "code",
   "execution_count": null,
   "id": "e189dd10-d442-4c15-8e36-eb8ba762d635",
   "metadata": {},
   "outputs": [],
   "source": [
    "# Define active_reservations\n",
    "active_reservations = df_counts['Active_Reservations']\n",
    "\n",
    "# Find the maximum occupancy\n",
    "max_occupancy = active_reservations.max()\n",
    "\n",
    "# Map the occupancy on arrival and departure dates to each reservation\n",
    "df_data['occupancy_at_arrival'] = df_data['Arrival_Date'].map(active_reservations)\n",
    "df_data['occupancy_at_departure'] = df_data['Departure_Date'].map(active_reservations)\n",
    "\n",
    "# Convert these occupancies to percentages of the maximum occupancy\n",
    "df_data['occupancy_pct_at_arrival'] = (df_data['occupancy_at_arrival'] / max_occupancy) * 100\n",
    "df_data['occupancy_pct_at_departure'] = (df_data['occupancy_at_departure'] / max_occupancy) * 100\n",
    "\n",
    "df_data"
   ]
  },
  {
   "cell_type": "code",
   "execution_count": null,
   "id": "fe8de254-6005-4dd6-8d4e-7d12374e8568",
   "metadata": {},
   "outputs": [],
   "source": [
    "df_data.head()"
   ]
  },
  {
   "cell_type": "code",
   "execution_count": null,
   "id": "2f910a3e-b0ca-4c19-80af-77c9f8e53856",
   "metadata": {},
   "outputs": [],
   "source": [
    "df_data[['LeadTime', 'Arrival_Date', 'Departure_Date']]"
   ]
  },
  {
   "cell_type": "code",
   "execution_count": null,
   "id": "581c4804-f0da-44ce-8f25-c977f59eb15e",
   "metadata": {},
   "outputs": [],
   "source": [
    "df_data.loc[:1000,:].to_excel('./data/df_data_h1.xlsx', index = False)"
   ]
  },
  {
   "cell_type": "markdown",
   "id": "09050ea0-e351-4898-a4d0-37654a1d8c3a",
   "metadata": {},
   "source": [
    "# Time Series Metrics and Analysis"
   ]
  },
  {
   "cell_type": "code",
   "execution_count": null,
   "id": "0de552d8-656f-448d-90c6-14c5668292c9",
   "metadata": {},
   "outputs": [],
   "source": [
    "# Assume df_data is the DataFrame name, and the data is already sorted by Arrival_Date in ascending order\n",
    "# and that Arrival_Date is in datetime format\n",
    "\n",
    "# Calculate the 7-day rolling average of occupancy_pct_at_arrival\n",
    "df_data['occupancy_pct_at_arrival_7d_avg'] = df_data['occupancy_pct_at_arrival'].rolling(window=7, min_periods=1).mean()\n",
    "\n",
    "# Display the updated DataFrame to verify the calculation\n",
    "df_data[['Arrival_Date', 'occupancy_pct_at_arrival', 'occupancy_pct_at_arrival_7d_avg']].head()\n"
   ]
  },
  {
   "cell_type": "code",
   "execution_count": null,
   "id": "9b26d897-7845-4ccc-99e3-cf5b7aa0cec8",
   "metadata": {},
   "outputs": [],
   "source": [
    "df_data_rollavg = df_data[['Arrival_Date', 'occupancy_pct_at_arrival']].copy()\n",
    "df_data_rollavg"
   ]
  },
  {
   "cell_type": "code",
   "execution_count": null,
   "id": "86bed808-8cbf-4f03-8fcd-d1940b102552",
   "metadata": {},
   "outputs": [],
   "source": [
    "df_data_rollavg = df_data_rollavg.set_index(keys = 'Arrival_Date')\n",
    "df_data_rollavg"
   ]
  },
  {
   "cell_type": "code",
   "execution_count": null,
   "id": "5cf7d48e-5bf1-4164-9004-fd147a844092",
   "metadata": {},
   "outputs": [],
   "source": [
    "df_data_rollavg = df_data_rollavg.resample('D').mean()\n",
    "df_data_rollavg"
   ]
  },
  {
   "cell_type": "code",
   "execution_count": null,
   "id": "841ecb57-caea-4d02-9b81-8792ce06f7ce",
   "metadata": {},
   "outputs": [],
   "source": [
    "df_data_rollavg.index"
   ]
  },
  {
   "cell_type": "code",
   "execution_count": null,
   "id": "5102205b-a8ab-455e-a6b0-9e53fa5bac55",
   "metadata": {},
   "outputs": [],
   "source": [
    "# Assume df_data is the DataFrame name, and the data is already sorted by Arrival_Date in ascending order\n",
    "# and that Arrival_Date is in datetime format\n",
    "\n",
    "# Calculate the 7-day rolling average of occupancy_pct_at_arrival\n",
    "df_data_rollavg['occupancy_pct_at_arrival_3d_avg'] = df_data_rollavg['occupancy_pct_at_arrival'].rolling(window=3, min_periods=1).mean()\n",
    "df_data_rollavg['occupancy_pct_at_arrival_7d_avg'] = df_data_rollavg['occupancy_pct_at_arrival'].rolling(window=7, min_periods=1).mean()\n",
    "df_data_rollavg['occupancy_pct_at_arrival_14d_avg'] = df_data_rollavg['occupancy_pct_at_arrival'].rolling(window=14, min_periods=1).mean()\n",
    "df_data_rollavg['occupancy_pct_at_arrival_28d_avg'] = df_data_rollavg['occupancy_pct_at_arrival'].rolling(window=28, min_periods=1).mean()\n",
    "# df_data_rollavg['occupancy_pct_at_arrival_90d_avg'] = df_data_rollavg['occupancy_pct_at_arrival'].rolling(window=90, min_periods=1).mean()\n",
    "\n",
    "# Display the updated DataFrame to verify the calculation\n",
    "df_data_rollavg.head()"
   ]
  },
  {
   "cell_type": "code",
   "execution_count": null,
   "id": "0ecd0137-a273-458a-b484-8e3c8a6f92e7",
   "metadata": {},
   "outputs": [],
   "source": [
    "px.line(df_data_rollavg)"
   ]
  },
  {
   "cell_type": "code",
   "execution_count": null,
   "id": "fa1f87dc-4e72-499e-a79c-1f858fa9a389",
   "metadata": {},
   "outputs": [],
   "source": []
  }
 ],
 "metadata": {
  "kernelspec": {
   "display_name": "Python (dojo-env)",
   "language": "python",
   "name": "dojo-env"
  },
  "language_info": {
   "codemirror_mode": {
    "name": "ipython",
    "version": 3
   },
   "file_extension": ".py",
   "mimetype": "text/x-python",
   "name": "python",
   "nbconvert_exporter": "python",
   "pygments_lexer": "ipython3",
   "version": "3.10.10"
  },
  "widgets": {
   "application/vnd.jupyter.widget-state+json": {
    "state": {},
    "version_major": 2,
    "version_minor": 0
   }
  }
 },
 "nbformat": 4,
 "nbformat_minor": 5
}
