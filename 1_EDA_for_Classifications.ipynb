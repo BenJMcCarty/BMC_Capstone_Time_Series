{
 "cells": [
  {
   "cell_type": "markdown",
   "metadata": {},
   "source": [
    "# **Hotel Cancel Culture** - **EDA Notebook**"
   ]
  },
  {
   "cell_type": "markdown",
   "metadata": {},
   "source": [
    "---\n",
    "\n",
    "**Author:** Ben McCarty\n",
    "\n",
    "**Capstone Project** - Predicting hotel reservation cancellations; notebook 1 of 2.\n",
    "\n",
    "**Contact:** bmccarty505@gmail.com\n",
    "\n",
    "---"
   ]
  },
  {
   "cell_type": "markdown",
   "metadata": {},
   "source": [
    "**Of Demand and Cancellations**\n",
    "\n",
    ">**Every aspect of hospitality depends on accurately anticipating business demand**: how many rooms to clean; how many rooms are available to sell; what would be the best rate; and how to bring it all together to make every guest satisfied. \n",
    ">\n",
    "> Proper forecasting is critical to every department and staff member, and to generate our forecasts, **hotel managers need to know how many guests will cancel prior to arrival**. Using data from two European hotels, I developed a model to predict whether a given reservation would cancel based on 30 different reservation details.\n",
    "\n",
    "**In order to develop and train my models, I need to prepare the data in advance.**\n",
    "\n",
    ">In this notebook, I explore the original dataset and its features; condense several features into smaller subsets; engineer new features; and remove unwanted features from the data.\n",
    ">\n",
    "**Once the data is prepared, I will reload the data in a new notebook to create and train my models to determine my predictions of who will stay and who will cancel.**"
   ]
  },
  {
   "cell_type": "markdown",
   "metadata": {
    "toc": true
   },
   "source": [
    "<h1>Table of Contents<span class=\"tocSkip\"></span></h1>\n",
    "<div class=\"toc\"><ul class=\"toc-item\"><li><span><a href=\"#Hotel-Cancel-Culture---EDA-Notebook\" data-toc-modified-id=\"Hotel-Cancel-Culture---EDA-Notebook-1\"><span class=\"toc-item-num\">1&nbsp;&nbsp;</span><strong>Hotel Cancel Culture</strong> - <strong>EDA Notebook</strong></a></span></li><li><span><a href=\"#Import-Packages\" data-toc-modified-id=\"Import-Packages-2\"><span class=\"toc-item-num\">2&nbsp;&nbsp;</span><strong>Import Packages</strong></a></span></li><li><span><a href=\"#Read-Data\" data-toc-modified-id=\"Read-Data-3\"><span class=\"toc-item-num\">3&nbsp;&nbsp;</span><strong>Read Data</strong></a></span></li><li><span><a href=\"#Identifying-Target-Feature\" data-toc-modified-id=\"Identifying-Target-Feature-4\"><span class=\"toc-item-num\">4&nbsp;&nbsp;</span><strong>Identifying Target Feature</strong></a></span></li><li><span><a href=\"#Reviewing-Statistics\" data-toc-modified-id=\"Reviewing-Statistics-5\"><span class=\"toc-item-num\">5&nbsp;&nbsp;</span><strong>Reviewing Statistics</strong></a></span></li><li><span><a href=\"#Processing-Missing-Values\" data-toc-modified-id=\"Processing-Missing-Values-6\"><span class=\"toc-item-num\">6&nbsp;&nbsp;</span><strong>Processing Missing Values</strong></a></span><ul class=\"toc-item\"><li><span><a href=\"#Dropping-Company-Column\" data-toc-modified-id=\"Dropping-Company-Column-6.1\"><span class=\"toc-item-num\">6.1&nbsp;&nbsp;</span>Dropping <code>Company</code> Column</a></span></li><li><span><a href=\"#Filling-Missing-Values-for-Country-and-Children\" data-toc-modified-id=\"Filling-Missing-Values-for-Country-and-Children-6.2\"><span class=\"toc-item-num\">6.2&nbsp;&nbsp;</span>Filling Missing Values for <code>Country</code> and <code>Children</code></a></span></li></ul></li><li><span><a href=\"#EDA---Features\" data-toc-modified-id=\"EDA---Features-7\"><span class=\"toc-item-num\">7&nbsp;&nbsp;</span><strong>EDA - Features</strong></a></span><ul class=\"toc-item\"><li><span><a href=\"#Toggle-Visualizations\" data-toc-modified-id=\"Toggle-Visualizations-7.1\"><span class=\"toc-item-num\">7.1&nbsp;&nbsp;</span><strong>Toggle Visualizations</strong></a></span></li><li><span><a href=\"#Is_Canceled\" data-toc-modified-id=\"Is_Canceled-7.2\"><span class=\"toc-item-num\">7.2&nbsp;&nbsp;</span><code>Is_Canceled</code></a></span></li><li><span><a href=\"#Reservation_Status\" data-toc-modified-id=\"Reservation_Status-7.3\"><span class=\"toc-item-num\">7.3&nbsp;&nbsp;</span><code>Reservation_Status</code></a></span></li><li><span><a href=\"#Lead_Time\" data-toc-modified-id=\"Lead_Time-7.4\"><span class=\"toc-item-num\">7.4&nbsp;&nbsp;</span><code>Lead_Time</code></a></span></li><li><span><a href=\"#Arrival_Date_Year\" data-toc-modified-id=\"Arrival_Date_Year-7.5\"><span class=\"toc-item-num\">7.5&nbsp;&nbsp;</span><code>Arrival_Date_Year</code></a></span></li><li><span><a href=\"#Stays_in_Weekend_Nights\" data-toc-modified-id=\"Stays_in_Weekend_Nights-7.6\"><span class=\"toc-item-num\">7.6&nbsp;&nbsp;</span><code>Stays_in_Weekend_Nights</code></a></span></li><li><span><a href=\"#Stays_in_Week_Nights\" data-toc-modified-id=\"Stays_in_Week_Nights-7.7\"><span class=\"toc-item-num\">7.7&nbsp;&nbsp;</span><code>Stays_in_Week_Nights</code></a></span></li><li><span><a href=\"#Adults\" data-toc-modified-id=\"Adults-7.8\"><span class=\"toc-item-num\">7.8&nbsp;&nbsp;</span><code>Adults</code></a></span></li><li><span><a href=\"#Children\" data-toc-modified-id=\"Children-7.9\"><span class=\"toc-item-num\">7.9&nbsp;&nbsp;</span><code>Children</code></a></span></li><li><span><a href=\"#Babies\" data-toc-modified-id=\"Babies-7.10\"><span class=\"toc-item-num\">7.10&nbsp;&nbsp;</span><code>Babies</code></a></span></li><li><span><a href=\"#Meal\" data-toc-modified-id=\"Meal-7.11\"><span class=\"toc-item-num\">7.11&nbsp;&nbsp;</span><code>Meal</code></a></span></li><li><span><a href=\"#Country\" data-toc-modified-id=\"Country-7.12\"><span class=\"toc-item-num\">7.12&nbsp;&nbsp;</span><code>Country</code></a></span></li><li><span><a href=\"#Market_Segment\" data-toc-modified-id=\"Market_Segment-7.13\"><span class=\"toc-item-num\">7.13&nbsp;&nbsp;</span><code>Market_Segment</code></a></span></li><li><span><a href=\"#Distribution_Channel\" data-toc-modified-id=\"Distribution_Channel-7.14\"><span class=\"toc-item-num\">7.14&nbsp;&nbsp;</span><code>Distribution_Channel</code></a></span></li><li><span><a href=\"#Is_Repeated_Guest\" data-toc-modified-id=\"Is_Repeated_Guest-7.15\"><span class=\"toc-item-num\">7.15&nbsp;&nbsp;</span><code>Is_Repeated_Guest</code></a></span></li><li><span><a href=\"#Previous_Cancellations\" data-toc-modified-id=\"Previous_Cancellations-7.16\"><span class=\"toc-item-num\">7.16&nbsp;&nbsp;</span><code>Previous_Cancellations</code></a></span></li><li><span><a href=\"#Previous_Bookings_Not_Canceled\" data-toc-modified-id=\"Previous_Bookings_Not_Canceled-7.17\"><span class=\"toc-item-num\">7.17&nbsp;&nbsp;</span><code>Previous_Bookings_Not_Canceled</code></a></span></li><li><span><a href=\"#Reserved_Room_Type\" data-toc-modified-id=\"Reserved_Room_Type-7.18\"><span class=\"toc-item-num\">7.18&nbsp;&nbsp;</span><code>Reserved_Room_Type</code></a></span></li><li><span><a href=\"#Assigned_Room_Type\" data-toc-modified-id=\"Assigned_Room_Type-7.19\"><span class=\"toc-item-num\">7.19&nbsp;&nbsp;</span><code>Assigned_Room_Type</code></a></span></li><li><span><a href=\"#Booking_Changes\" data-toc-modified-id=\"Booking_Changes-7.20\"><span class=\"toc-item-num\">7.20&nbsp;&nbsp;</span><code>Booking_Changes</code></a></span></li><li><span><a href=\"#Deposit_Type\" data-toc-modified-id=\"Deposit_Type-7.21\"><span class=\"toc-item-num\">7.21&nbsp;&nbsp;</span><code>Deposit_Type</code></a></span></li><li><span><a href=\"#Days_in_Waiting_List\" data-toc-modified-id=\"Days_in_Waiting_List-7.22\"><span class=\"toc-item-num\">7.22&nbsp;&nbsp;</span><code>Days_in_Waiting_List</code></a></span></li><li><span><a href=\"#Customer_Type\" data-toc-modified-id=\"Customer_Type-7.23\"><span class=\"toc-item-num\">7.23&nbsp;&nbsp;</span><code>Customer_Type</code></a></span></li><li><span><a href=\"#ADR\" data-toc-modified-id=\"ADR-7.24\"><span class=\"toc-item-num\">7.24&nbsp;&nbsp;</span><code>ADR</code></a></span></li><li><span><a href=\"#Required_Car_Parking_Spaces\" data-toc-modified-id=\"Required_Car_Parking_Spaces-7.25\"><span class=\"toc-item-num\">7.25&nbsp;&nbsp;</span><code>Required_Car_Parking_Spaces</code></a></span></li><li><span><a href=\"#Total_of_Special_Requests\" data-toc-modified-id=\"Total_of_Special_Requests-7.26\"><span class=\"toc-item-num\">7.26&nbsp;&nbsp;</span><code>Total_of_Special_Requests</code></a></span></li><li><span><a href=\"#Reservation_Status_Date\" data-toc-modified-id=\"Reservation_Status_Date-7.27\"><span class=\"toc-item-num\">7.27&nbsp;&nbsp;</span><code>Reservation_Status_Date</code></a></span></li><li><span><a href=\"#Agent\" data-toc-modified-id=\"Agent-7.28\"><span class=\"toc-item-num\">7.28&nbsp;&nbsp;</span><code>Agent</code></a></span></li></ul></li><li><span><a href=\"#Post-EDA-Updates\" data-toc-modified-id=\"Post-EDA-Updates-8\"><span class=\"toc-item-num\">8&nbsp;&nbsp;</span><strong>Post-EDA Updates</strong></a></span><ul class=\"toc-item\"><li><span><a href=\"#Condensing-Features\" data-toc-modified-id=\"Condensing-Features-8.1\"><span class=\"toc-item-num\">8.1&nbsp;&nbsp;</span>Condensing Features</a></span><ul class=\"toc-item\"><li><span><a href=\"#Condensing-Meal\" data-toc-modified-id=\"Condensing-Meal-8.1.1\"><span class=\"toc-item-num\">8.1.1&nbsp;&nbsp;</span>Condensing <code>Meal</code></a></span></li><li><span><a href=\"#Condensing-Agent-into-Agent_Group\" data-toc-modified-id=\"Condensing-Agent-into-Agent_Group-8.1.2\"><span class=\"toc-item-num\">8.1.2&nbsp;&nbsp;</span>Condensing <code>Agent</code> into <code>Agent_Group</code></a></span></li><li><span><a href=\"#Condensing-Country-Categories\" data-toc-modified-id=\"Condensing-Country-Categories-8.1.3\"><span class=\"toc-item-num\">8.1.3&nbsp;&nbsp;</span>Condensing <code>Country</code> Categories</a></span></li></ul></li><li><span><a href=\"#Feature-Engineering\" data-toc-modified-id=\"Feature-Engineering-8.2\"><span class=\"toc-item-num\">8.2&nbsp;&nbsp;</span>Feature Engineering</a></span><ul class=\"toc-item\"><li><span><a href=\"#Engineering-Arrival_Date\" data-toc-modified-id=\"Engineering-Arrival_Date-8.2.1\"><span class=\"toc-item-num\">8.2.1&nbsp;&nbsp;</span>Engineering <code>Arrival_Date</code></a></span></li><li><span><a href=\"#Engineering-Stay-Length\" data-toc-modified-id=\"Engineering-Stay-Length-8.2.2\"><span class=\"toc-item-num\">8.2.2&nbsp;&nbsp;</span>Engineering <code>Stay Length</code></a></span></li></ul></li><li><span><a href=\"#Dropping-Features\" data-toc-modified-id=\"Dropping-Features-8.3\"><span class=\"toc-item-num\">8.3&nbsp;&nbsp;</span>Dropping Features</a></span><ul class=\"toc-item\"><li><span><a href=\"#Dropping-&quot;Undefined&quot;-from-Market_Segment\" data-toc-modified-id=\"Dropping-&quot;Undefined&quot;-from-Market_Segment-8.3.1\"><span class=\"toc-item-num\">8.3.1&nbsp;&nbsp;</span>Dropping \"Undefined\" from <code>Market_Segment</code></a></span></li><li><span><a href=\"#Comparing-Market_Segment-and-Distribution_Channel\" data-toc-modified-id=\"Comparing-Market_Segment-and-Distribution_Channel-8.3.2\"><span class=\"toc-item-num\">8.3.2&nbsp;&nbsp;</span>Comparing <code>Market_Segment</code> and <code>Distribution_Channel</code></a></span></li><li><span><a href=\"#Dropping-Reservation_Status\" data-toc-modified-id=\"Dropping-Reservation_Status-8.3.3\"><span class=\"toc-item-num\">8.3.3&nbsp;&nbsp;</span>Dropping <code>Reservation_Status</code></a></span></li><li><span><a href=\"#Dropping-Arrival_Date_Year\" data-toc-modified-id=\"Dropping-Arrival_Date_Year-8.3.4\"><span class=\"toc-item-num\">8.3.4&nbsp;&nbsp;</span>Dropping <code>Arrival_Date_Year</code></a></span></li><li><span><a href=\"#Dropping-Reservation_Status_Date\" data-toc-modified-id=\"Dropping-Reservation_Status_Date-8.3.5\"><span class=\"toc-item-num\">8.3.5&nbsp;&nbsp;</span>Dropping <code>Reservation_Status_Date</code></a></span></li></ul></li><li><span><a href=\"#Final-Data-Review\" data-toc-modified-id=\"Final-Data-Review-8.4\"><span class=\"toc-item-num\">8.4&nbsp;&nbsp;</span>Final Data Review</a></span></li></ul></li><li><span><a href=\"#Of-Pandas-and-Pickles\" data-toc-modified-id=\"Of-Pandas-and-Pickles-9\"><span class=\"toc-item-num\">9&nbsp;&nbsp;</span><strong>Of Pandas and Pickles</strong></a></span></li><li><span><a href=\"#Future-Work:-EDA\" data-toc-modified-id=\"Future-Work:-EDA-10\"><span class=\"toc-item-num\">10&nbsp;&nbsp;</span>Future Work: EDA</a></span></li><li><span><a href=\"#Moving-to-Modeling!\" data-toc-modified-id=\"Moving-to-Modeling!-11\"><span class=\"toc-item-num\">11&nbsp;&nbsp;</span>Moving to Modeling!</a></span></li></ul></div>"
   ]
  },
  {
   "cell_type": "markdown",
   "metadata": {},
   "source": [
    "# **Import Packages**"
   ]
  },
  {
   "cell_type": "markdown",
   "metadata": {},
   "source": [
    "---\n",
    "\n",
    "> To start off, I will import a variety of packages to assist with handling my data; creating visualizations; and reviewing statistical data.\n",
    "\n",
    "---"
   ]
  },
  {
   "cell_type": "code",
   "execution_count": null,
   "metadata": {
    "ExecuteTime": {
     "end_time": "2021-10-27T17:20:15.801525Z",
     "start_time": "2021-10-27T17:20:11.874521Z"
    }
   },
   "outputs": [],
   "source": [
    "## Data Handling\n",
    "import pandas as pd\n",
    "import numpy as np\n",
    "\n",
    "## Visualizations\n",
    "import matplotlib.pyplot as plt\n",
    "import plotly.express as px\n",
    "import seaborn as sns\n",
    "\n",
    "## Custom-made Functions\n",
    "from bmc_functions import eda"
   ]
  },
  {
   "cell_type": "code",
   "execution_count": null,
   "metadata": {
    "ExecuteTime": {
     "end_time": "2021-10-27T17:20:15.817526Z",
     "start_time": "2021-10-27T17:20:15.804527Z"
    }
   },
   "outputs": [],
   "source": [
    "## Settings\n",
    "pd.set_option('display.max_columns', None)\n",
    "pd.set_option('display.float_format', lambda x: f'{x:,.2f}')\n",
    "pd.set_option('max_rows', 50)\n",
    "%matplotlib inline"
   ]
  },
  {
   "cell_type": "code",
   "execution_count": null,
   "metadata": {
    "ExecuteTime": {
     "end_time": "2021-10-27T17:20:15.973524Z",
     "start_time": "2021-10-27T17:20:15.820527Z"
    }
   },
   "outputs": [],
   "source": [
    "## Used to upload \n",
    "%load_ext autoreload\n",
    "%autoreload 2"
   ]
  },
  {
   "cell_type": "markdown",
   "metadata": {},
   "source": [
    "# **Read Data**"
   ]
  },
  {
   "cell_type": "code",
   "execution_count": null,
   "metadata": {
    "ExecuteTime": {
     "end_time": "2021-10-27T17:20:16.401530Z",
     "start_time": "2021-10-27T17:20:15.977529Z"
    },
    "scrolled": true
   },
   "outputs": [],
   "source": [
    "## Reading data\n",
    "source = './data/hotel_bookings.pickle'\n",
    "data = pd.read_pickle(source, compression = \"gzip\")\n",
    "data"
   ]
  },
  {
   "cell_type": "markdown",
   "metadata": {},
   "source": [
    "# **Identifying Target Feature**"
   ]
  },
  {
   "cell_type": "markdown",
   "metadata": {},
   "source": [
    "---\n",
    "\n",
    "> For my classification analysis, **I will use the `is_canceled` feature as my target feature.** This feature indicates whether a reservation was canceled (0 = check-out, 1= canceled).\n",
    ">\n",
    "> There is another feature, `reservation_status`, that also looks valuable. I will compare that feature against `is_canceled` to investigate any differences between the two.\n",
    "\n",
    "---"
   ]
  },
  {
   "cell_type": "code",
   "execution_count": null,
   "metadata": {
    "ExecuteTime": {
     "end_time": "2021-10-27T17:20:16.558526Z",
     "start_time": "2021-10-27T17:20:16.406530Z"
    }
   },
   "outputs": [],
   "source": [
    "## Inspecting target feature\n",
    "data['is_canceled'].describe()"
   ]
  },
  {
   "cell_type": "code",
   "execution_count": null,
   "metadata": {
    "ExecuteTime": {
     "end_time": "2021-10-27T17:20:16.683526Z",
     "start_time": "2021-10-27T17:20:16.560528Z"
    }
   },
   "outputs": [],
   "source": [
    "## Viewing breakdown of target feature\n",
    "target_breakdown = data['is_canceled'].value_counts(normalize=True, dropna=False)\n",
    "target_breakdown"
   ]
  },
  {
   "cell_type": "code",
   "execution_count": null,
   "metadata": {
    "ExecuteTime": {
     "end_time": "2021-10-27T17:20:17.409528Z",
     "start_time": "2021-10-27T17:20:16.685527Z"
    }
   },
   "outputs": [],
   "source": [
    "## Generating visualization of target feature for presentation\n",
    "\n",
    "fig, ax = plt.subplots(figsize=(8,5))\n",
    "\n",
    "ax = target_breakdown.plot(kind='bar',ax=ax)\n",
    "\n",
    "ax.set(xlabel = 'Status', ylabel= 'Percent')\n",
    "\n",
    "plt.xticks([0, 1], ['Checked-Out', 'Cancelled'], rotation=0)\n",
    "plt.yticks([.1, .2, .3, .4, .5, .6], [10, 20, 30, 40, 50, 60])\n",
    "plt.suptitle('Breakdown of Reservation Statuses')\n",
    "\n",
    "ax.set_facecolor('0.9')\n",
    "fig.set_facecolor('0.975')\n",
    "plt.savefig('./img/cxl_stat.png',transparent=False, bbox_inches='tight',\n",
    "           dpi=300)\n",
    "plt.show()\n",
    "plt.close()"
   ]
  },
  {
   "cell_type": "markdown",
   "metadata": {},
   "source": [
    "---\n",
    "\n",
    "**Initial Review** \n",
    "\n",
    "> Based on this initial review, there is a moderate class imbalance between whether a reservation canceled favoring non-canceled reservations with a 63%/37% split between not-canceled/canceled, respectively.\n",
    ">\n",
    "> **I will keep this imbalance in mind when I perform my modeling in my next notebook.** Imbalanced classes may have a significant negative impact on a model's performance; I will need to address the imbalance prior to modeling.\n",
    "\n",
    "---"
   ]
  },
  {
   "cell_type": "code",
   "execution_count": null,
   "metadata": {
    "ExecuteTime": {
     "end_time": "2021-10-27T17:20:17.585532Z",
     "start_time": "2021-10-27T17:20:17.414532Z"
    }
   },
   "outputs": [],
   "source": [
    "## Cleaning up memory\n",
    "del target_breakdown"
   ]
  },
  {
   "cell_type": "markdown",
   "metadata": {},
   "source": [
    "# **Reviewing Statistics**"
   ]
  },
  {
   "cell_type": "markdown",
   "metadata": {},
   "source": [
    "---\n",
    "\n",
    "> **To get a better idea of my overall data,** I will use a custom function that builds off of the standard `describe()` method for a dataframe. It will generate the summary statistics as well as details about the number of missing values and the datatypes for each feature.\n",
    ">\n",
    ">I will use Pandas's styling features to **sort and highlight the features with the largest percentage of missing values.** Missing values are my first concern and will need to be addressed first.\n",
    "\n",
    "---"
   ]
  },
  {
   "cell_type": "code",
   "execution_count": null,
   "metadata": {
    "ExecuteTime": {
     "end_time": "2021-10-27T17:20:18.435533Z",
     "start_time": "2021-10-27T17:20:17.589534Z"
    }
   },
   "outputs": [],
   "source": [
    "## Sorting report by number of missing values\n",
    "eda.report_df(data).sort_values('null_sum', ascending=False).style\\\n",
    "                                       .background_gradient(subset='null_pct')"
   ]
  },
  {
   "cell_type": "markdown",
   "metadata": {},
   "source": [
    "---\n",
    "\n",
    "**Reviewing Reports - Missing Values**\n",
    "\n",
    "> Based on the post-split results, I see the features `company,` `agent`, `country`, and `children` are all missing values.\n",
    "\n",
    "***Special note:*** \n",
    "\n",
    ">Included in the `data_details.md` file in my main repository is a note from the authors of the original article, stating that ***any missing values are intentional representations of features that were not applicable to a reservation.***\n",
    ">\n",
    "> I will keep this in mind as I determine how to handle these missing values in my analysis and modeling. Options would include dropping the whole feature; creating placeholder values to indicate the lack of a value for that reservation; or simply filling the missing values with the average/most frequent values.\n",
    "\n",
    "---\n",
    "\n",
    "**`Company` and `Agent` Features**\n",
    "\n",
    ">* `company:` 94%\n",
    ">* `agent:` 14%\n",
    ">\n",
    "> Due to the large number of missing values for `company`, **I will drop the `company` feature.**\n",
    ">\n",
    "> The `agent` feature shows a significant number of missing values while including a very large number of unique values. I will review this feature in more depth as part of my feature-by-feature analysis to determine how to prepare this feature for modeling.\n",
    "\n",
    "**`Country` and `Children` Features**\n",
    "\n",
    "> The remaining two features with missing values are `country` and `children`.\n",
    ">\n",
    "> As there are a small number of missing values in both features, I will simply fill in the missing values with the respective most frequent value for each feature. In this case, a placeholder value would not provide any substantial benefit (and could possibly hurt the performance of a model due to the additional category for this feature).\n",
    "\n",
    "---"
   ]
  },
  {
   "cell_type": "markdown",
   "metadata": {},
   "source": [
    "# **Processing Missing Values**"
   ]
  },
  {
   "cell_type": "markdown",
   "metadata": {},
   "source": [
    "## Dropping `Company` Column"
   ]
  },
  {
   "cell_type": "code",
   "execution_count": null,
   "metadata": {
    "ExecuteTime": {
     "end_time": "2021-10-27T17:20:18.639529Z",
     "start_time": "2021-10-27T17:20:18.438532Z"
    },
    "scrolled": false
   },
   "outputs": [],
   "source": [
    "# Dropping \"company\" column (95% missing values)\n",
    "data = data.drop(columns = ['company'])\n",
    "data"
   ]
  },
  {
   "cell_type": "code",
   "execution_count": null,
   "metadata": {
    "ExecuteTime": {
     "end_time": "2021-10-27T17:20:18.815531Z",
     "start_time": "2021-10-27T17:20:18.642532Z"
    },
    "scrolled": true
   },
   "outputs": [],
   "source": [
    "## Confirming 'company' removal from dataframe\n",
    "'company' not in data"
   ]
  },
  {
   "cell_type": "markdown",
   "metadata": {},
   "source": [
    "## Filling Missing Values for `Country` and `Children`"
   ]
  },
  {
   "cell_type": "markdown",
   "metadata": {},
   "source": [
    "---\n",
    "\n",
    "> As there are so few missing values for the country and children features, I do not expect the imputation method to effect my future modeling results. I will impute the most frequent values for each feature for simplicity.\n",
    "\n",
    "---"
   ]
  },
  {
   "cell_type": "code",
   "execution_count": null,
   "metadata": {
    "ExecuteTime": {
     "end_time": "2021-10-27T17:20:18.955531Z",
     "start_time": "2021-10-27T17:20:18.818531Z"
    }
   },
   "outputs": [],
   "source": [
    "## Identify columns with missing data\n",
    "nan_list = ['children', 'country']\n",
    "nan_list"
   ]
  },
  {
   "cell_type": "code",
   "execution_count": null,
   "metadata": {
    "ExecuteTime": {
     "end_time": "2021-10-27T17:20:19.144530Z",
     "start_time": "2021-10-27T17:20:18.958535Z"
    }
   },
   "outputs": [],
   "source": [
    "## Impute the most frequent value for each column\n",
    "for col in nan_list:\n",
    "    data[col].fillna(data[col].mode()[0], inplace=True)"
   ]
  },
  {
   "cell_type": "code",
   "execution_count": null,
   "metadata": {
    "ExecuteTime": {
     "end_time": "2021-10-27T17:20:19.347532Z",
     "start_time": "2021-10-27T17:20:19.147531Z"
    },
    "scrolled": true
   },
   "outputs": [],
   "source": [
    "## Confirming there are no remaining missing values\n",
    "for col in nan_list:\n",
    "    display(data[col].value_counts(1, dropna=0))\n",
    "    print(f'Total missing values for {col.title()}: {data[col].isna().sum()}')"
   ]
  },
  {
   "cell_type": "code",
   "execution_count": null,
   "metadata": {
    "ExecuteTime": {
     "end_time": "2021-10-27T17:20:19.535531Z",
     "start_time": "2021-10-27T17:20:19.350534Z"
    }
   },
   "outputs": [],
   "source": [
    "## Deleting variables to free up space\n",
    "del nan_list, col"
   ]
  },
  {
   "cell_type": "markdown",
   "metadata": {},
   "source": [
    "# **EDA - Features**"
   ]
  },
  {
   "cell_type": "markdown",
   "metadata": {},
   "source": [
    "---\n",
    "\n",
    "**In-Depth Feature EDA**\n",
    "\n",
    "> Now that I reviewed my missing values and confirmed my datatypes, I will inspect the details of each of my features. For each feature, I will review the summary statistics; the value counts; and the datatype. I will start with my target feature, including my observations and future actions at the end of each feature analysis.\n",
    "\n",
    "**Toggling Visualizations**\n",
    "\n",
    "> There is a simple boolean variable, set at the start of this EDA process, controlling whether to show the visualizations of each feature. By default it is set to show the visualizations. \n",
    ">\n",
    "> **If you experience issues with the Notebook running slowly, please disable the visualizations by changing \"True\" to \"False\" and restarting the kernel.**\n",
    ">\n",
    "> Additionally, you may change the `show_visualization` argument for any feature to show the visualization for that feature. Please be aware that running multiple features may result in very poor notebook performance!\n",
    "\n",
    "---\n",
    "***Styling:***\n",
    "\n",
    "> DataFrame styling code used in `explore_feature()` function adapted from this [source](https://stackoverflow.com/questions/59769161/python-color-pandas-dataframe-based-on-multiindex#:~:text=2-,You,-can%20use%20Styler).\n",
    "\n",
    "---"
   ]
  },
  {
   "cell_type": "markdown",
   "metadata": {},
   "source": [
    "## **Toggle Visualizations**"
   ]
  },
  {
   "cell_type": "code",
   "execution_count": null,
   "metadata": {
    "ExecuteTime": {
     "end_time": "2021-10-27T17:20:19.688533Z",
     "start_time": "2021-10-27T17:20:19.538532Z"
    }
   },
   "outputs": [],
   "source": [
    "## Boolean setting to control whether to show the EDA visualizations\n",
    "show_visualization = False"
   ]
  },
  {
   "cell_type": "markdown",
   "metadata": {},
   "source": [
    "## `Is_Canceled`"
   ]
  },
  {
   "cell_type": "markdown",
   "metadata": {},
   "source": [
    "---\n",
    "\n",
    "**Starting with the Target**\n",
    "\n",
    "> I will start my EDA process by reviewing the target feature, `is_canceled`.\n",
    "\n",
    "---"
   ]
  },
  {
   "cell_type": "code",
   "execution_count": null,
   "metadata": {
    "ExecuteTime": {
     "end_time": "2021-10-27T17:20:20.691533Z",
     "start_time": "2021-10-27T17:20:19.690532Z"
    },
    "scrolled": false
   },
   "outputs": [],
   "source": [
    "## Reviewing details for 'is_canceled'\n",
    "eda.explore_feature(data,'is_canceled', normalize=False,\n",
    "                    plot_label ='Cancellation Status',\n",
    "                    plot_title= 'Reservation Status',\n",
    "                    show_visualization = True);"
   ]
  },
  {
   "cell_type": "markdown",
   "metadata": {},
   "source": [
    "---\n",
    "\n",
    "**Feature Review**\n",
    "\n",
    "> My target feature, `is_canceled`, shows a binary representation of whether a reservation stayed and checked-out, or if the reservation cancelled. Reservations are indicated as cancellations if they either cancel or are marked as a \"no-show\" reservation.\n",
    "\n",
    "**Actions**\n",
    "\n",
    "> The imbalance between these two classes will create problems during the modeling process. Most models are sensitive to class imbalances; they will erroneously predict the majority class more often, decreasing the accuracy of the models. **In my modeling notebook, I will perform the SMOTE resampling technique to address this imbalance.**\n",
    "\n",
    "---"
   ]
  },
  {
   "cell_type": "markdown",
   "metadata": {},
   "source": [
    "## `Reservation_Status`"
   ]
  },
  {
   "cell_type": "code",
   "execution_count": null,
   "metadata": {
    "ExecuteTime": {
     "end_time": "2021-10-27T17:20:20.698536Z",
     "start_time": "2021-10-27T17:20:12.108Z"
    },
    "scrolled": false
   },
   "outputs": [],
   "source": [
    "## Reviewing details for reservation_status\n",
    "eda.explore_feature(data,'reservation_status',plot_label ='Status',\n",
    "                    plot_title= 'Reservation Status',\n",
    "                    show_visualization = show_visualization);"
   ]
  },
  {
   "cell_type": "markdown",
   "metadata": {},
   "source": [
    "---\n",
    "\n",
    "**Feature Review**\n",
    "\n",
    "> `Reservation_status` closely mirrors the values for my target feature, with some slight differences due to \"no-show\" values.\n",
    "\n",
    "**Actions**\n",
    "\n",
    "> As this features is nearly the same as my target, **I will drop this feature.** Additionally, this feature is not known prior to a guest's arrival, lending further support to my decision to remove the feature.\n",
    "\n",
    "---"
   ]
  },
  {
   "cell_type": "markdown",
   "metadata": {},
   "source": [
    "## `Lead_Time`"
   ]
  },
  {
   "cell_type": "code",
   "execution_count": null,
   "metadata": {
    "ExecuteTime": {
     "end_time": "2021-10-27T17:20:20.700534Z",
     "start_time": "2021-10-27T17:20:12.126Z"
    },
    "scrolled": false
   },
   "outputs": [],
   "source": [
    "## Reviewing details for 'lead_time'\n",
    "eda.explore_feature(data,'lead_time',bins = 5, marginal = 'box',\n",
    "                    plot_label ='Number of Days',\n",
    "                    plot_title= 'Lead Time (Days)',\n",
    "                    show_visualization = show_visualization);"
   ]
  },
  {
   "cell_type": "markdown",
   "metadata": {},
   "source": [
    "---\n",
    "\n",
    "**Feature Review**\n",
    "\n",
    "> `Lead_Time` indicates how far in advance reservations are booked in days. This information is particularly useful in hospitality for Revenue Management and Operations teams.*\n",
    ">\n",
    ">  * Revenue Management set rates for the different room types and manage room type availability. These teams need to know **when to expect bookings** and **which days to monitor rates and availability more closely** to make any necessary changes to optimize revenue.\n",
    ">\n",
    ">\n",
    ">  * Hotel Operations teams use this information to **forecast how many reservations will book in a short-term booking window** (in my experience, I usually focused on 0-3 days prior to arrival).\n",
    ">\n",
    "> * **This forecast is critical to determine staffing and supplies in particular** - when building our schedules, we consider the current number of booked reservations and the forecasted bookings to determine how many staff members to schedule and if we have enough supplies, etc..\n",
    ">  * *Being the only staff member at the Front Desk during a rush of arrivals due to a snow storm is NOT fun!*\n",
    "\n",
    "**Actions**\n",
    "\n",
    "> I noticed half of reservation lead times fall between 9 and 214 days - quite a large range! Additionally, there are some noticeable outliers in the data which may affect my future models. For now, I will leave the data as-is; depending on the models I use, I may include regularization parameters during the modeling process.\n",
    "\n",
    "---"
   ]
  },
  {
   "cell_type": "markdown",
   "metadata": {},
   "source": [
    "## `Arrival_Date_Year`"
   ]
  },
  {
   "cell_type": "code",
   "execution_count": null,
   "metadata": {
    "ExecuteTime": {
     "end_time": "2021-10-27T17:20:20.702534Z",
     "start_time": "2021-10-27T17:20:12.145Z"
    },
    "scrolled": false
   },
   "outputs": [],
   "source": [
    "## Reviewing details for 'arrival_date_year'\n",
    "eda.explore_feature(data,'arrival_date_year',marginal = 'box',\n",
    "                    plot_label ='Year',\n",
    "                    plot_title= 'Arrival Date (Year)',\n",
    "                    show_visualization = show_visualization);"
   ]
  },
  {
   "cell_type": "markdown",
   "metadata": {},
   "source": [
    "---\n",
    "\n",
    "**Feature Review**\n",
    "\n",
    "> While this feature may be useful for future forecasting models, it is not relevant for my classification modeling as these years will not be repeated for future reservations.\n",
    "\n",
    "**Actions**\n",
    "\n",
    "> This feature is not useful for my future modeling, so I will drop this feature at the end of my EDA process.\n",
    "\n",
    "---"
   ]
  },
  {
   "cell_type": "markdown",
   "metadata": {},
   "source": [
    "\n",
    "## `Stays_in_Weekend_Nights`"
   ]
  },
  {
   "cell_type": "code",
   "execution_count": null,
   "metadata": {
    "ExecuteTime": {
     "end_time": "2021-10-27T17:20:20.704538Z",
     "start_time": "2021-10-27T17:20:12.157Z"
    }
   },
   "outputs": [],
   "source": [
    "## Reviewing details for 'stays_in_weekend_nights'\n",
    "eda.explore_feature(data,'stays_in_weekend_nights',bins = 5,\n",
    "                    marginal = 'box',\n",
    "                    plot_label ='Number of Days',\n",
    "                    plot_title= 'Lead Time (Days)',\n",
    "                    show_visualization = show_visualization);"
   ]
  },
  {
   "cell_type": "markdown",
   "metadata": {},
   "source": [
    "---\n",
    "\n",
    "**Feature Review**\n",
    "\n",
    "> Similar to `lead_time`, this feature shows most values are within a small window of time, with a few rare outliers (less than 2%).\n",
    "\n",
    "**Actions**\n",
    "\n",
    "> I will leave this feature as-is for now; future regularization would address this issue if needed.\n",
    "\n",
    "---"
   ]
  },
  {
   "cell_type": "markdown",
   "metadata": {},
   "source": [
    "## `Stays_in_Week_Nights`"
   ]
  },
  {
   "cell_type": "code",
   "execution_count": null,
   "metadata": {
    "ExecuteTime": {
     "end_time": "2021-10-27T17:20:20.706539Z",
     "start_time": "2021-10-27T17:20:12.168Z"
    }
   },
   "outputs": [],
   "source": [
    "## Reviewing details for 'stays_in_week_nights'\n",
    "eda.explore_feature(data,'stays_in_week_nights',bins = 5,\n",
    "                    marginal = 'box',\n",
    "                    plot_label ='Number of Prior Stays',\n",
    "                    plot_title= 'Stays in Week Nights',\n",
    "                    show_visualization = show_visualization);"
   ]
  },
  {
   "cell_type": "markdown",
   "metadata": {},
   "source": [
    "---\n",
    "\n",
    "**Feature Review**\n",
    "\n",
    "> Similar to `stays_in_weekend_nights`, this feature shows most values are within a small window of time, with a few rare outliers (less than 2%).\n",
    "\n",
    "**Actions**\n",
    "\n",
    "> I will leave this feature as-is for now; future regularization would address this issue if needed.\n",
    "\n",
    "---"
   ]
  },
  {
   "cell_type": "markdown",
   "metadata": {},
   "source": [
    "## `Adults`"
   ]
  },
  {
   "cell_type": "code",
   "execution_count": null,
   "metadata": {
    "ExecuteTime": {
     "end_time": "2021-10-27T17:20:20.708538Z",
     "start_time": "2021-10-27T17:20:12.185Z"
    }
   },
   "outputs": [],
   "source": [
    "## Reviewing details 'adults'\n",
    "eda.explore_feature(data,'adults',bins = 3,\n",
    "                    plot_label ='Number of Adults',\n",
    "                    plot_title= 'Adults',\n",
    "                    show_visualization = show_visualization);"
   ]
  },
  {
   "cell_type": "markdown",
   "metadata": {},
   "source": [
    "---\n",
    "\n",
    "**Feature Review**\n",
    "\n",
    "> `Adults` refers to the number of adults listed on the reservation. In my experience, this feature is not often the most accurate to real-life (I would see \"1 Adult\" as the default, but I may have three or four people sharing a room, for example). Still, I feel the values are reasonable enough to include for analysis.\n",
    "\n",
    "**Actions**\n",
    "\n",
    "> No action required.\n",
    "\n",
    "---"
   ]
  },
  {
   "cell_type": "markdown",
   "metadata": {},
   "source": [
    "## `Children`"
   ]
  },
  {
   "cell_type": "code",
   "execution_count": null,
   "metadata": {
    "ExecuteTime": {
     "end_time": "2021-10-27T17:20:20.710539Z",
     "start_time": "2021-10-27T17:20:12.201Z"
    }
   },
   "outputs": [],
   "source": [
    "## Reviewing details for 'children'\n",
    "eda.explore_feature(data,'children',bins = 5,\n",
    "                    plot_label ='Number of Children',\n",
    "                    plot_title= 'Children',\n",
    "                    show_visualization = show_visualization);"
   ]
  },
  {
   "cell_type": "markdown",
   "metadata": {},
   "source": [
    "---\n",
    "\n",
    "**Feature Review**\n",
    "\n",
    "> `Children` refers to the number of children listed on the reservation. As in the case of `adults`, in my experience this feature does not match with reality, but I will keep it in case it may show value.\n",
    "\n",
    "**Actions**\n",
    "\n",
    "> No action required.\n",
    "\n",
    "---"
   ]
  },
  {
   "cell_type": "markdown",
   "metadata": {},
   "source": [
    "## `Babies`"
   ]
  },
  {
   "cell_type": "code",
   "execution_count": null,
   "metadata": {
    "ExecuteTime": {
     "end_time": "2021-10-27T17:20:20.712540Z",
     "start_time": "2021-10-27T17:20:12.218Z"
    }
   },
   "outputs": [],
   "source": [
    "## Reviewing details - 'babies'\n",
    "eda.explore_feature(data,'babies',bins = 5,\n",
    "                    plot_label ='Number of Babies',\n",
    "                    plot_title= 'Babies',\n",
    "                    show_visualization = show_visualization);"
   ]
  },
  {
   "cell_type": "markdown",
   "metadata": {},
   "source": [
    "---\n",
    "\n",
    "**Feature Review**\n",
    "\n",
    "> `Babies` refers to the number of children listed on the reservation. As in the case of `adults`, in my experience this feature does not match with reality, but I will keep it in case it may show value.\n",
    "\n",
    "**Actions**\n",
    "\n",
    "> No action required.\n",
    "\n",
    "---"
   ]
  },
  {
   "cell_type": "markdown",
   "metadata": {},
   "source": [
    "## `Meal`"
   ]
  },
  {
   "cell_type": "code",
   "execution_count": null,
   "metadata": {
    "ExecuteTime": {
     "end_time": "2021-10-27T17:20:20.715538Z",
     "start_time": "2021-10-27T17:20:12.240Z"
    }
   },
   "outputs": [],
   "source": [
    "## Reviewing details for - 'meal'\n",
    "eda.explore_feature(data,'meal',plot_label ='Types of Meal',\n",
    "                    plot_title= 'Meal',show_visualization = show_visualization);"
   ]
  },
  {
   "cell_type": "markdown",
   "metadata": {},
   "source": [
    "---\n",
    "\n",
    "**Feature Review**\n",
    "\n",
    "> `Meal` represents the type of meal included with the reservation booking. Per the data dictionary, the categories are:\n",
    "* \"Undefined/SC – no meal package\"\n",
    "* \"BB – Bed & Breakfast\"\n",
    "* \"HB – Half board (breakfast and one other meal – usually dinner)\"\n",
    "* \"FB – Full board (breakfast, lunch and dinner)\"\n",
    "\n",
    "**Actions**\n",
    "\n",
    "> I will condense the \"Undefined/SC\" values into one category as they are representative of the same information.\n",
    "\n",
    "---"
   ]
  },
  {
   "cell_type": "markdown",
   "metadata": {},
   "source": [
    "## `Country`"
   ]
  },
  {
   "cell_type": "code",
   "execution_count": null,
   "metadata": {
    "ExecuteTime": {
     "end_time": "2021-10-27T17:20:20.716537Z",
     "start_time": "2021-10-27T17:20:12.251Z"
    },
    "scrolled": true
   },
   "outputs": [],
   "source": [
    "## Reviewing details for 'country'\n",
    "eda.explore_feature(data,'country',marginal = 'box',normalize=True,\n",
    "                    plot_label ='Country',\n",
    "                    plot_title= 'Country',\n",
    "                    show_visualization = show_visualization);"
   ]
  },
  {
   "cell_type": "code",
   "execution_count": null,
   "metadata": {
    "ExecuteTime": {
     "end_time": "2021-10-27T17:20:20.718538Z",
     "start_time": "2021-10-27T17:20:12.263Z"
    }
   },
   "outputs": [],
   "source": [
    "## Inspecting top 10 countries\n",
    "data['country'].value_counts(1, ascending=False)[:10]"
   ]
  },
  {
   "cell_type": "markdown",
   "metadata": {},
   "source": [
    "---\n",
    "\n",
    "**Feature Review**\n",
    "\n",
    "> `Country` represents the, \"country of origin. Categories are represented in the ISO 3155–3:2013 format,\" per the data dictionary. I noticed that most values are assocaited with PRT - Portugal and Western Europe, which leads me to believe these hotels may be based in Portugal. \n",
    "\n",
    "**Actions**\n",
    "\n",
    "> Due to the large diversity of countries represented on the reservations, I would like to condense the values similarly to the `agent` feature to best represent the values. I would split the data at a threshold of 5% or less, resulting in an \"Other\" category of about 27% of the data.\n",
    "\n",
    "---"
   ]
  },
  {
   "cell_type": "markdown",
   "metadata": {},
   "source": [
    "## `Market_Segment`"
   ]
  },
  {
   "cell_type": "code",
   "execution_count": null,
   "metadata": {
    "ExecuteTime": {
     "end_time": "2021-10-27T17:20:20.720536Z",
     "start_time": "2021-10-27T17:20:12.276Z"
    }
   },
   "outputs": [],
   "source": [
    "## Reviewing details for - 'market_segment'\n",
    "eda.explore_feature(data,'market_segment',marginal = 'box',\n",
    "                    plot_label ='Market Segment',\n",
    "                    plot_title= 'Market Segment',\n",
    "                    show_visualization = show_visualization);"
   ]
  },
  {
   "cell_type": "markdown",
   "metadata": {},
   "source": [
    "---\n",
    "\n",
    "**Feature Review**\n",
    "\n",
    "> Market_Segment` represents the \"market segment designation,\" per the feature dictionary. In simple terms, they are distinct categories of reservations representing the different markets:\n",
    "* Guests who are part of a group booking (usually via on-site Sales teams) are considered \"Groups\"\n",
    "* \"Online TA/TO\" would refer to booking groups such as Expedia, Priceline, etc.\n",
    "* \"Corporate\" bookings would be rates negotiated with certain companies with different benefits, such as lower rates; complimentary meals; etc..\n",
    "\n",
    "**Actions**\n",
    "\n",
    "> I noticed the \"Undefined\" category shows less than 1% of values. I will drop rows that include that feature as they are such a small number.\n",
    " \n",
    "---"
   ]
  },
  {
   "cell_type": "markdown",
   "metadata": {},
   "source": [
    "## `Distribution_Channel`"
   ]
  },
  {
   "cell_type": "code",
   "execution_count": null,
   "metadata": {
    "ExecuteTime": {
     "end_time": "2021-10-27T17:20:20.722537Z",
     "start_time": "2021-10-27T17:20:12.293Z"
    }
   },
   "outputs": [],
   "source": [
    "## Reviewing details for 'distribution_channel'\n",
    "eda.explore_feature(data,'distribution_channel',marginal = 'box',\n",
    "                    plot_label ='Distribution Channel',\n",
    "                    plot_title= 'Distribution Channel',\n",
    "                    show_visualization = show_visualization);"
   ]
  },
  {
   "cell_type": "markdown",
   "metadata": {},
   "source": [
    "---\n",
    "\n",
    "**Feature Review**\n",
    "\n",
    "> The `Distribution_Channel` feature closely matches the values in the `market_segment` feature. Distribution channels are the means by which reservations are booked and are often the same as the market segment categories, in my experience.\n",
    "\n",
    "**Actions**\n",
    "\n",
    "> I will drop this feature as I feel it does not add more value versus the `market_segment` feature.\n",
    " \n",
    "---"
   ]
  },
  {
   "cell_type": "markdown",
   "metadata": {},
   "source": [
    "## `Is_Repeated_Guest`"
   ]
  },
  {
   "cell_type": "code",
   "execution_count": null,
   "metadata": {
    "ExecuteTime": {
     "end_time": "2021-10-27T17:20:20.724535Z",
     "start_time": "2021-10-27T17:20:12.317Z"
    }
   },
   "outputs": [],
   "source": [
    "## Reviewing details for 'is_repeated_guest'\n",
    "eda.explore_feature(data,'is_repeated_guest',\n",
    "                    plot_label =' Repeat Guest',\n",
    "                    plot_title= ' Repeat Guest',\n",
    "                    show_visualization = show_visualization);"
   ]
  },
  {
   "cell_type": "markdown",
   "metadata": {},
   "source": [
    "---\n",
    "\n",
    "**Feature Review**\n",
    "\n",
    "> It is clear that nearly all guests are new, non-repeat guests at these hotels. In my personal experience, I find this unusual; my hotels had regular guests who would come in for work; to see nearby family; or visiting the area for leisure and recreation.\n",
    "\n",
    "**Actions**\n",
    "\n",
    "> This feature is unique to every property, so I will keep the features to maintain generalizability for other hotels.\n",
    " \n",
    "---"
   ]
  },
  {
   "cell_type": "markdown",
   "metadata": {},
   "source": [
    "## `Previous_Cancellations`"
   ]
  },
  {
   "cell_type": "code",
   "execution_count": null,
   "metadata": {
    "ExecuteTime": {
     "end_time": "2021-10-27T17:20:20.725537Z",
     "start_time": "2021-10-27T17:20:12.327Z"
    }
   },
   "outputs": [],
   "source": [
    "## Reviewing details for 'previous_cancellations'\n",
    "eda.explore_feature(data,'previous_cancellations',bins = 5,\n",
    "                    plot_label ='Number of Cancellations',\n",
    "                    plot_title= 'Previous Cancellations',\n",
    "                    show_visualization = show_visualization);"
   ]
  },
  {
   "cell_type": "markdown",
   "metadata": {},
   "source": [
    "---\n",
    "\n",
    "**Feature Review**\n",
    "\n",
    "> There are very few reservations with a history of past cancellations. This is unsurprising as most reservations are new guests who did not stay at the hotel previously.\n",
    "\n",
    "**Actions**\n",
    "\n",
    "> This feature is unique to every property, so I will keep the features to maintain generalizability for other hotels.\n",
    " \n",
    "---"
   ]
  },
  {
   "cell_type": "markdown",
   "metadata": {},
   "source": [
    "## `Previous_Bookings_Not_Canceled`"
   ]
  },
  {
   "cell_type": "code",
   "execution_count": null,
   "metadata": {
    "ExecuteTime": {
     "end_time": "2021-10-27T17:20:20.727536Z",
     "start_time": "2021-10-27T17:20:12.342Z"
    }
   },
   "outputs": [],
   "source": [
    "## Reviewing details for 'previous_bookings_not_canceled'\n",
    "eda.explore_feature(data,'previous_bookings_not_canceled',\n",
    "                    bins = 5,marginal = 'box',\n",
    "                    plot_label ='Number of Bookings Not Canceled',\n",
    "                    plot_title= 'Previous Bookings Not Canceled',\n",
    "                    show_visualization = show_visualization);"
   ]
  },
  {
   "cell_type": "markdown",
   "metadata": {},
   "source": [
    "---\n",
    "\n",
    "**Feature Review**\n",
    "\n",
    "> There are very few reservations with a history of past reservations not cancelled. This matches with the `previous_cancellations` and `is_repeated_guest` features as a representation of guest stay patterns/history.\n",
    "\n",
    "**Actions**\n",
    "\n",
    "> While this feature may have higher multicollinearity with the `previous_cancellations` and `is_repeated_guest` features, I will keep it for now. If multicollinearity is an issue for future models, I will drop one or more of these features.\n",
    " \n",
    "---"
   ]
  },
  {
   "cell_type": "markdown",
   "metadata": {},
   "source": [
    "## `Reserved_Room_Type`"
   ]
  },
  {
   "cell_type": "code",
   "execution_count": null,
   "metadata": {
    "ExecuteTime": {
     "end_time": "2021-10-27T17:20:20.729537Z",
     "start_time": "2021-10-27T17:20:12.362Z"
    }
   },
   "outputs": [],
   "source": [
    "## Reviewing details for - 'reserved_room_type'\n",
    "eda.explore_feature(data,'reserved_room_type',\n",
    "                    \n",
    "                    plot_label ='Reserved Toom Type',\n",
    "                    plot_title= 'Reserved Toom Type',\n",
    "                    show_visualization = show_visualization);"
   ]
  },
  {
   "cell_type": "markdown",
   "metadata": {},
   "source": [
    "---\n",
    "\n",
    "**Feature Review**\n",
    "\n",
    "> This feature is very unique in this dataset as is hard to interpret any specific details about the room type features. We only know that these are unique room types; we do not know if they are standard, upgraded, or suite-style rooms. Different room types/levels may be associated with different guests/rates/etc., which would give more insight to a specific hotel.\n",
    "\n",
    "**Actions**\n",
    "\n",
    "> Despite the anonymity and lack of depth in this feature, it is still very important in my opinion for generalizability. I will leave this feature as-is.\n",
    " \n",
    "---"
   ]
  },
  {
   "cell_type": "markdown",
   "metadata": {},
   "source": [
    "## `Assigned_Room_Type`"
   ]
  },
  {
   "cell_type": "markdown",
   "metadata": {},
   "source": [
    "---\n",
    "\n",
    "**City**\n",
    "\n",
    "---"
   ]
  },
  {
   "cell_type": "code",
   "execution_count": null,
   "metadata": {
    "ExecuteTime": {
     "end_time": "2021-10-27T17:20:20.731535Z",
     "start_time": "2021-10-27T17:20:12.375Z"
    }
   },
   "outputs": [],
   "source": [
    "## Reviewing details for 'assigned_room_type'\n",
    "eda.explore_feature(data,'assigned_room_type',\n",
    "                    \n",
    "                    plot_label ='Assigned Room Type',\n",
    "                    plot_title= 'Assigned Room Type',\n",
    "                    show_visualization = show_visualization);"
   ]
  },
  {
   "cell_type": "markdown",
   "metadata": {},
   "source": [
    "---\n",
    "\n",
    "**Feature Review**\n",
    "\n",
    "> I have some mixed feelings about whether to keep this feature. \n",
    "* One argument in favor of dropping it would be that room types are \"assigned\" during registration at the hotel; this information would not be available prior to arrival.\n",
    "* A counter-argument would be that the hotel may change room types in advance of the guest's arrival (such as upgrades/downgrades, guest requesting different room types, etc.) and is a valid feature.\n",
    ">\n",
    "The feature dictionary defines this feature as:\n",
    "> \"Code for the type of room assigned to the booking. Sometimes the assigned room type differs from the reserved room type due to hotel operation reasons (e.g. overbooking) or by customer request. Code is presented instead of designation for anonymity reasons.\"\n",
    "\n",
    "**Actions**\n",
    "\n",
    "> I will keep this feature with the assumption that this information is available prior to arrival and would reflect whether the room type assigned to the reservation would match the room type initially booked.\n",
    " \n",
    "---"
   ]
  },
  {
   "cell_type": "markdown",
   "metadata": {},
   "source": [
    "## `Booking_Changes`"
   ]
  },
  {
   "cell_type": "code",
   "execution_count": null,
   "metadata": {
    "ExecuteTime": {
     "end_time": "2021-10-27T17:20:20.732539Z",
     "start_time": "2021-10-27T17:20:12.386Z"
    }
   },
   "outputs": [],
   "source": [
    "## Reviewing details for 'booking_changes'\n",
    "eda.explore_feature(data,'booking_changes',bins = 5,\n",
    "                    \n",
    "                    plot_label ='booking_changes',\n",
    "                    plot_title= 'booking_changes',\n",
    "                    show_visualization = show_visualization);"
   ]
  },
  {
   "cell_type": "markdown",
   "metadata": {},
   "source": [
    "---\n",
    "\n",
    "**Feature Review**\n",
    "\n",
    "> This feature represents the number of reservation changes between the initial booking and the time of arrival/cancellation. **In my personal experience, this feature could mis-represent the changes initiated by guests, as my systems would record *any* changes.** I would often perform many updates to reservations during our pre-arrival processes, including assigning room types; adding comments or special requests; etc..\n",
    ">\n",
    "> **Such changes could result in results that do not represent the number of guest-initiated changes.** One way to address such an issue would be to compare the average number of changes, with the assumption that most reservations would have a larger number of changes due to pre-arrival processes.\n",
    "\n",
    "**Actions**\n",
    "\n",
    "> I will keep this feature as-is with the caveat that other hotels may need to handle this feature differently based on their processes for handling reservation updates.\n",
    " \n",
    "---"
   ]
  },
  {
   "cell_type": "markdown",
   "metadata": {},
   "source": [
    "## `Deposit_Type`"
   ]
  },
  {
   "cell_type": "code",
   "execution_count": null,
   "metadata": {
    "ExecuteTime": {
     "end_time": "2021-10-27T17:20:20.735536Z",
     "start_time": "2021-10-27T17:20:12.400Z"
    }
   },
   "outputs": [],
   "source": [
    "## Reviewing details for 'deposit_type'\n",
    "eda.explore_feature(data,'deposit_type',normalize=False,\n",
    "                    plot_label ='Deposit Type',\n",
    "                    plot_title= 'Deposit Type',\n",
    "                    show_visualization = show_visualization);"
   ]
  },
  {
   "cell_type": "markdown",
   "metadata": {},
   "source": [
    "---\n",
    "\n",
    "**Feature Review**\n",
    "\n",
    "> This feature is particularly intriguing to me, as it represents whether a guest pre-paid the reservation prior to arrival. My initial assumption would be that guests who pre-pay are less likely to cancel. However, I see **there are a signficant number of canceled reservations that are non-refundable, while most check-out reservations did not require a deposit.**\n",
    ">\n",
    "> My personal understanding/rationalization would be that these non-refundable reservations would be booked through a travel agency that would require pre-payment at the time of booking. On the hotel-side, we consider such reservations to be non-refundable, but we were usually flexible with cancellations and would refund pre-payments. **If guests are able to cancel without being charged regardless of any pre-payments, it would make sense that there would be so many non-refundable cancellations.**\n",
    "\n",
    "**Actions**\n",
    "\n",
    "> I will keep this feature as-is with the assumption that the hotel would be flexible with refunds. This assumption could dimish the value/impact of this feature, however, as non-refundable reservations could be considered as \"no-deposit.\" Still, it is a distinguishing characteristic to be considered.\n",
    " \n",
    "---"
   ]
  },
  {
   "cell_type": "markdown",
   "metadata": {},
   "source": [
    "## `Days_in_Waiting_List`"
   ]
  },
  {
   "cell_type": "code",
   "execution_count": null,
   "metadata": {
    "ExecuteTime": {
     "end_time": "2021-10-27T17:20:20.737536Z",
     "start_time": "2021-10-27T17:20:12.414Z"
    }
   },
   "outputs": [],
   "source": [
    "## Reviewing details for 'days_in_waiting_list'\n",
    "eda.explore_feature(data,'days_in_waiting_list',bins = 5,\n",
    "                    plot_label ='Days in Waiting List',\n",
    "                    plot_title= 'Days in Waiting List',\n",
    "                    show_visualization = show_visualization);"
   ]
  },
  {
   "cell_type": "markdown",
   "metadata": {},
   "source": [
    "---\n",
    "\n",
    "**Feature Review**\n",
    "\n",
    "> I am not surprised that most reservations do not spend any time on a wait-list. In my experience, my hotels did not have a wait-list for reservations. Availability was on a \"first come, first served\" basis and we would instruct guests to check our availability at a later time if we were sold out.\n",
    "\n",
    "**Actions**\n",
    "\n",
    "> I will keep this feature as-is, but I do not expect it to be very valuable for my modeling due to most reservations showing 0-days on a wait list.\n",
    " \n",
    "---"
   ]
  },
  {
   "cell_type": "markdown",
   "metadata": {},
   "source": [
    "## `Customer_Type`"
   ]
  },
  {
   "cell_type": "code",
   "execution_count": null,
   "metadata": {
    "ExecuteTime": {
     "end_time": "2021-10-27T17:20:20.738538Z",
     "start_time": "2021-10-27T17:20:12.424Z"
    }
   },
   "outputs": [],
   "source": [
    "## Reviewing details for 'customer_type'\n",
    "eda.explore_feature(data,'customer_type',marginal = 'box',\n",
    "                    plot_label ='Customer Type',\n",
    "                    plot_title= 'Customer Type',\n",
    "                    show_visualization = show_visualization);"
   ]
  },
  {
   "cell_type": "markdown",
   "metadata": {},
   "source": [
    "---\n",
    "\n",
    "**Feature Review**\n",
    "\n",
    "> The `Customer Type` feature is closely related to the `market_segment` and `distribution_channel` features as all of their categories are similar. However, this feature includes a \"transient-party\" category, indicating that these guests would be associated with other transient reservations. I did not have such indicators with my prior reservation systems, so I am curious to see its impact on my models. \n",
    "\n",
    "**Actions**\n",
    "\n",
    "> I will keep this feature as-is. It may not be strongly generalizable to other hotels, but my models will be able to handle any multi-collinearity issues between this feature and the other marketing/distribution features.\n",
    " \n",
    "---"
   ]
  },
  {
   "cell_type": "markdown",
   "metadata": {},
   "source": [
    "## `ADR`"
   ]
  },
  {
   "cell_type": "code",
   "execution_count": null,
   "metadata": {
    "ExecuteTime": {
     "end_time": "2021-10-27T17:20:20.740549Z",
     "start_time": "2021-10-27T17:20:12.434Z"
    }
   },
   "outputs": [],
   "source": [
    "## Reviewing details for 'adr'\n",
    "eda.explore_feature(data ,'adr',bins = 5,\n",
    "                    plot_label ='ADR (€)',\n",
    "                    plot_title= 'ADR (€)',\n",
    "                    show_visualization = show_visualization);"
   ]
  },
  {
   "cell_type": "markdown",
   "metadata": {},
   "source": [
    "---\n",
    "\n",
    "**Feature Review**\n",
    "\n",
    "> ADR is an acronym for \"average daily rate,\" a summary of how much a guest would pay for each day of their stay. ADR is one of three major metrics for hotel performance and (in my experience) is a valuable indicator of whether a reservation will stay or not when paired with other features such as marketing details or pre-payment requirements.\n",
    ">\n",
    "> I am intrigued by the value counts for the cancellations due to the significant outlier values in the thousands of dollars. I would not expect such a high ADR for most properties; the extreme price helps explain why it was cancelled.\n",
    "\n",
    "**Actions**\n",
    "\n",
    "> I will keep this feature as-is.\n",
    " \n",
    "---"
   ]
  },
  {
   "cell_type": "markdown",
   "metadata": {},
   "source": [
    "## `Required_Car_Parking_Spaces`"
   ]
  },
  {
   "cell_type": "code",
   "execution_count": null,
   "metadata": {
    "ExecuteTime": {
     "end_time": "2021-10-27T17:20:20.742533Z",
     "start_time": "2021-10-27T17:20:12.447Z"
    }
   },
   "outputs": [],
   "source": [
    "## Reviewing details for 'required_car_parking_spaces'\n",
    "eda.explore_feature(data,'required_car_parking_spaces',bins = 5,\n",
    "                    plot_label ='Required Car Parking Spaces',\n",
    "                    plot_title= 'Required Car Parking Spaces',\n",
    "                    show_visualization = show_visualization);"
   ]
  },
  {
   "cell_type": "markdown",
   "metadata": {},
   "source": [
    "---\n",
    "\n",
    "**Feature Review**\n",
    "\n",
    "> Similar to the `assigned_room_type` feature, **I have mixed feelings about whether to keep this feature.** In my experience, it is rare for a reservation to indicate how many cars they will park; usually it is confirmed at registration. However, there are times when I do have this information, and so **I believe it is possible for hotels to have this information prior to arrival.**\n",
    "\n",
    "**Actions**\n",
    "\n",
    "> **I will keep this feature with the assumption that the information is available prior to arrival.** If this feature is included in my top results post-modeling, I will reconsider whether or not to keep the feature.\n",
    " \n",
    "---"
   ]
  },
  {
   "cell_type": "markdown",
   "metadata": {},
   "source": [
    "## `Total_of_Special_Requests`"
   ]
  },
  {
   "cell_type": "code",
   "execution_count": null,
   "metadata": {
    "ExecuteTime": {
     "end_time": "2021-10-27T17:20:20.743535Z",
     "start_time": "2021-10-27T17:20:12.462Z"
    }
   },
   "outputs": [],
   "source": [
    "## Reviewing details for 'total_of_special_requests'\n",
    "eda.explore_feature(data,'total_of_special_requests',bins = 5,\n",
    "                    marginal = 'box',\n",
    "                    plot_label ='Total of Special Requests',\n",
    "                    plot_title= 'Total of Special Requests',\n",
    "                    show_visualization = show_visualization);"
   ]
  },
  {
   "cell_type": "markdown",
   "metadata": {},
   "source": [
    "---\n",
    "\n",
    "**Feature Review**\n",
    "\n",
    "> I can interpret this feature in two ways, personally. My hotels had \"special requests\" as well as \"comments,\" which would often overlap. They were distinct information respectively, but often I had special requests that were noted in the \"comments\" field. I assume this feature represents all special requests (in my case, it would include all unique requests for both fields).\n",
    ">\n",
    "> I am not surprised that canceled reservations have fewer special requests. In my experience, guests who provide a larger number of requests are more committed to their plans.\n",
    "\n",
    "**Actions**\n",
    "\n",
    "> I will keep this feature with the assumption mentioned above.\n",
    " \n",
    "---"
   ]
  },
  {
   "cell_type": "markdown",
   "metadata": {},
   "source": [
    "## `Reservation_Status_Date`"
   ]
  },
  {
   "cell_type": "code",
   "execution_count": null,
   "metadata": {
    "ExecuteTime": {
     "end_time": "2021-10-27T17:20:20.746539Z",
     "start_time": "2021-10-27T17:20:12.474Z"
    }
   },
   "outputs": [],
   "source": [
    "## Converting from \"string\" to \"datetime\" data type for statistical analysis\n",
    "data['reservation_status_date'].dtypes"
   ]
  },
  {
   "cell_type": "code",
   "execution_count": null,
   "metadata": {
    "ExecuteTime": {
     "end_time": "2021-10-27T17:20:20.748534Z",
     "start_time": "2021-10-27T17:20:12.483Z"
    }
   },
   "outputs": [],
   "source": [
    "data['reservation_status_date'] = pd.to_datetime\\\n",
    "                                             (data['reservation_status_date'])\n",
    "data['reservation_status_date']"
   ]
  },
  {
   "cell_type": "code",
   "execution_count": null,
   "metadata": {
    "ExecuteTime": {
     "end_time": "2021-10-27T17:20:20.750537Z",
     "start_time": "2021-10-27T17:20:12.491Z"
    },
    "scrolled": false
   },
   "outputs": [],
   "source": [
    "## Reviewing details for 'reservation_status_date'\n",
    "eda.explore_feature(data,'reservation_status_date',marginal = 'box',\n",
    "                    bins=3, plot_label ='Reservation Status Date',\n",
    "                    plot_title= 'Reservation Status Date',\n",
    "                    show_visualization = show_visualization);"
   ]
  },
  {
   "cell_type": "markdown",
   "metadata": {},
   "source": [
    "---\n",
    "\n",
    "**Feature Review**\n",
    "\n",
    "> The `reservation_status_date` represents the, \"date at which the last status was set,\" per the feature dictionary.\n",
    "\n",
    "**Actions**\n",
    "\n",
    "> I do not feel that this feature adds any substantial information for my modeling, and so I will drop it.\n",
    " \n",
    "---"
   ]
  },
  {
   "cell_type": "markdown",
   "metadata": {},
   "source": [
    "## `Agent`"
   ]
  },
  {
   "cell_type": "code",
   "execution_count": null,
   "metadata": {
    "ExecuteTime": {
     "end_time": "2021-10-27T17:20:20.753535Z",
     "start_time": "2021-10-27T17:20:12.508Z"
    },
    "scrolled": true
   },
   "outputs": [],
   "source": [
    "## Reviewing details for 'agent_group'\n",
    "eda.explore_feature(data,'agent', plot_label ='Booking Agent ID',\n",
    "                    plot_title= 'Agent IDs', show_visualization = show_visualization);"
   ]
  },
  {
   "cell_type": "code",
   "execution_count": null,
   "metadata": {
    "ExecuteTime": {
     "end_time": "2021-10-27T17:20:20.755535Z",
     "start_time": "2021-10-27T17:20:12.518Z"
    }
   },
   "outputs": [],
   "source": [
    "## Calculating number of unique values in \"agent\"\n",
    "data['agent'].nunique()"
   ]
  },
  {
   "cell_type": "markdown",
   "metadata": {},
   "source": [
    "---\n",
    "\n",
    "**Feature Review**\n",
    "\n",
    "> The `agent` feature represents the unique IDs for each booking agent/group on most reservations. I noticed 14% of the reservations do not have a value associated with them, and there are 333 unique IDs otherwise. This is a similar situation to the \"country\" feature, in that I will need to condense these values to ascertain the most meaningful information and to prevent adding 333 additional one-hot-encoded columns later on.\n",
    "\n",
    "**Actions**\n",
    "\n",
    "> I will need to condense these values down into a smaller subset of values representing a selection of top-producing agents by percent; the number of reservations without an agent ID; and then the remaining agents as an \"Other\" aggregate category. Additionally, I will need to convert these values from a float to a string value for modeling.\n",
    " \n",
    "---"
   ]
  },
  {
   "cell_type": "markdown",
   "metadata": {},
   "source": [
    "#  **Post-EDA Updates**"
   ]
  },
  {
   "cell_type": "markdown",
   "metadata": {},
   "source": [
    "---\n",
    "\n",
    "**Feature Changes and Engineering**\n",
    "\n",
    "> After reviewing all of the features and their statistics, I noticed a few things needed to change. \n",
    "\n",
    "**These Changes Include:**\n",
    ">* Condensing specific features\n",
    "* Engineering new features\n",
    "* Dropping duplicated/unnecessary features\n",
    "\n",
    "---"
   ]
  },
  {
   "cell_type": "markdown",
   "metadata": {},
   "source": [
    "## Condensing Features"
   ]
  },
  {
   "cell_type": "markdown",
   "metadata": {},
   "source": [
    "### Condensing `Meal`"
   ]
  },
  {
   "cell_type": "markdown",
   "metadata": {},
   "source": [
    "---\n",
    "\n",
    "> The feature reference dictionary states that the \"undefined\" values for `meal` are part of the \"SC\" category. While there are a relatively small number of \"undefined\" entries, I feel that it would be most accurate to re-categorize them  to the \"SC\" meal type.\n",
    "\n",
    "---"
   ]
  },
  {
   "cell_type": "code",
   "execution_count": null,
   "metadata": {
    "ExecuteTime": {
     "end_time": "2021-10-27T17:20:20.757537Z",
     "start_time": "2021-10-27T17:20:12.613Z"
    }
   },
   "outputs": [],
   "source": [
    "## Inspecting normalized value counts\n",
    "data['meal'].value_counts()"
   ]
  },
  {
   "cell_type": "code",
   "execution_count": null,
   "metadata": {
    "ExecuteTime": {
     "end_time": "2021-10-27T17:20:20.760539Z",
     "start_time": "2021-10-27T17:20:12.621Z"
    }
   },
   "outputs": [],
   "source": [
    "## Testing normalized value counts after replacement\n",
    "data['meal'].replace('Undefined', 'SC').value_counts(1)"
   ]
  },
  {
   "cell_type": "code",
   "execution_count": null,
   "metadata": {
    "ExecuteTime": {
     "end_time": "2021-10-27T17:20:20.763537Z",
     "start_time": "2021-10-27T17:20:12.630Z"
    }
   },
   "outputs": [],
   "source": [
    "## Performing replacement and verifying results\n",
    "data['meal'] = data['meal'].replace('Undefined', 'SC')\n",
    "data['meal'].value_counts(1)"
   ]
  },
  {
   "cell_type": "code",
   "execution_count": null,
   "metadata": {
    "ExecuteTime": {
     "end_time": "2021-10-27T17:20:20.765537Z",
     "start_time": "2021-10-27T17:20:12.637Z"
    }
   },
   "outputs": [],
   "source": [
    "## Reviewing new details for meal\n",
    "eda.explore_feature(data,'meal',plot_label ='Meal Type',plot_title= 'Meals',\n",
    "                    show_visualization = show_visualization);"
   ]
  },
  {
   "cell_type": "markdown",
   "metadata": {},
   "source": [
    "---\n",
    "\n",
    "> After these changes, I have four distinct categories with the \"undefined\" meal types added to the \"SC\" meal types. Now I will perform a larger condensation with the `agent` feature.\n",
    "\n",
    "---"
   ]
  },
  {
   "cell_type": "markdown",
   "metadata": {},
   "source": [
    "### Condensing `Agent` into `Agent_Group`"
   ]
  },
  {
   "cell_type": "markdown",
   "metadata": {},
   "source": [
    "---\n",
    "\n",
    "**This feature requires a more complex approach than the `meal` feature.**\n",
    "\n",
    "> `Agent` includes a large number of unique values (each unique value being a unique identifier for an agent). To use this feature in modeling, I would need to perform one-hot encoding, resulting in an additional 300+ features for all of my reservations. I will explore two main questions to determine how to handle this feature:\n",
    "1. What are the top ten IDs by percentages?\n",
    "2. Is there a way to condense this feature into a smaller set of categories?\n",
    "\n",
    "**Depending on the breakdown of percentages, I would like to condense this feature to a smaller number of unique values.**\n",
    "\n",
    "> Condensing the features would result in fewer additional columns post-encoding as well as potentially increasing the impact of this feature. **However, it would impair the interpretability of the results;** if my model's results show that the condensed value is significant, it would mean that the *combination of all of the values* is significant, not any particular one agent.\n",
    "\n",
    "**Despite the loss of interpretability, I feel it is best to condense these values.**\n",
    "\n",
    "---"
   ]
  },
  {
   "cell_type": "code",
   "execution_count": null,
   "metadata": {
    "ExecuteTime": {
     "end_time": "2021-10-27T17:20:20.767536Z",
     "start_time": "2021-10-27T17:20:12.651Z"
    }
   },
   "outputs": [],
   "source": [
    "## Confirming number of unique values\n",
    "data['agent'].nunique()"
   ]
  },
  {
   "cell_type": "code",
   "execution_count": null,
   "metadata": {
    "ExecuteTime": {
     "end_time": "2021-10-27T17:20:20.769534Z",
     "start_time": "2021-10-27T17:20:12.692Z"
    },
    "scrolled": true
   },
   "outputs": [],
   "source": [
    "## Reviewing top ten agents by percentage of bookings\n",
    "data['agent'].value_counts(normalize=True, ascending=False,\n",
    "                           dropna=False).iloc[:10]"
   ]
  },
  {
   "cell_type": "code",
   "execution_count": null,
   "metadata": {
    "ExecuteTime": {
     "end_time": "2021-10-27T17:20:20.771538Z",
     "start_time": "2021-10-27T17:20:12.699Z"
    },
    "scrolled": true
   },
   "outputs": [],
   "source": [
    "## Visualizing top ten agents by percentage of bookings\n",
    "top_agents = data['agent'].value_counts(normalize=True, ascending=True,\n",
    "                                        dropna=False).iloc[-10:]\n",
    "\n",
    "fig, ax = plt.subplots(figsize= (8, 4))\n",
    "top_agents.plot(kind='barh', ax=ax)\n",
    "\n",
    "fig.suptitle('Top Ten Agents by Volume')\n",
    "ax.set_xlabel(\"Percentage of Total Reservations\")\n",
    "ax.set_xticks([0, .05, .10, .15, .20, .25])\n",
    "ax.set_xticklabels(['0', '5','10', '15', '20', '25'])\n",
    "ax.set_ylabel(\"Agent ID\")\n",
    "\n",
    "for i,vc in enumerate(top_agents):\n",
    "    plt.text(x=vc+.0025, y=i, s=f\"{vc:.0%}\")\n",
    "\n",
    "plt.tight_layout()\n",
    "plt.show()\n",
    "plt.close();"
   ]
  },
  {
   "cell_type": "markdown",
   "metadata": {},
   "source": [
    "---\n",
    "\n",
    "**Analysis shows there are three top agents, representing a combined total of nearly half of the total reservations.**\n",
    "\n",
    "> Additionally, the 14% of missing values represents a significant proportion of the overall dataset. The remaining 41% percent of the data consists of the other agents with 3% or less of the overall reservations.\n",
    "\n",
    "**Based on these results, I feel comfortable in condensing the values into five distinct categories:** \n",
    ">* The top three agent IDs (no changes)\n",
    "* A placeholder ('0') to indicate the lack of an ID\n",
    "* A placeholder ('999') representing the combination of all of the lower-production agents\n",
    "\n",
    "**I will replace the values and inspect the breakdown of the resulting data.**\n",
    "\n",
    "---"
   ]
  },
  {
   "cell_type": "code",
   "execution_count": null,
   "metadata": {
    "ExecuteTime": {
     "end_time": "2021-10-27T17:20:20.773538Z",
     "start_time": "2021-10-27T17:20:12.709Z"
    }
   },
   "outputs": [],
   "source": [
    "## Reviewing number of missing values\n",
    "data['agent'].isna().sum()"
   ]
  },
  {
   "cell_type": "code",
   "execution_count": null,
   "metadata": {
    "ExecuteTime": {
     "end_time": "2021-10-27T17:20:20.776538Z",
     "start_time": "2021-10-27T17:20:12.718Z"
    }
   },
   "outputs": [],
   "source": [
    "## Filling with placeholder value and confirming results\n",
    "data['agent'] = data['agent'].fillna(0.00)\n",
    "data['agent'].isna().sum()"
   ]
  },
  {
   "cell_type": "code",
   "execution_count": null,
   "metadata": {
    "ExecuteTime": {
     "end_time": "2021-10-27T17:20:20.778541Z",
     "start_time": "2021-10-27T17:20:12.728Z"
    },
    "scrolled": true
   },
   "outputs": [],
   "source": [
    "## Converting non-top-3 ID values to placeholder \"999\"\n",
    "cond = [data['agent'] == 9.00,\n",
    "        data['agent'] == 240.00,\n",
    "        data['agent'] == 1.00,\n",
    "        data['agent'] == 0.00\n",
    "       ]\n",
    "\n",
    "choice = [data['agent'], data['agent'], data['agent'], data['agent']]\n",
    "\n",
    "data['agent_group'] = np.select(cond, choice, 999)\n",
    "data[['agent', 'agent_group']]"
   ]
  },
  {
   "cell_type": "code",
   "execution_count": null,
   "metadata": {
    "ExecuteTime": {
     "end_time": "2021-10-27T17:20:20.780539Z",
     "start_time": "2021-10-27T17:20:12.749Z"
    },
    "scrolled": true
   },
   "outputs": [],
   "source": [
    "## Converting column to string\n",
    "\n",
    "data.loc[:,'agent_group'] = data.loc[:,'agent_group'].astype(int)\n",
    "data.loc[:,'agent_group'] = data.loc[:,'agent_group'].astype(str)\n",
    "print(f'Datatype: {data[\"agent_group\"].dtype}')"
   ]
  },
  {
   "cell_type": "code",
   "execution_count": null,
   "metadata": {
    "ExecuteTime": {
     "end_time": "2021-10-27T17:20:20.782540Z",
     "start_time": "2021-10-27T17:20:12.766Z"
    }
   },
   "outputs": [],
   "source": [
    "## Creating new Series for visualization\n",
    "new_cats = data['agent_group'].value_counts(1, ascending=True)\n",
    "new_cats"
   ]
  },
  {
   "cell_type": "code",
   "execution_count": null,
   "metadata": {
    "ExecuteTime": {
     "end_time": "2021-10-27T17:20:20.784537Z",
     "start_time": "2021-10-27T17:20:12.775Z"
    },
    "scrolled": false
   },
   "outputs": [],
   "source": [
    "##Visualizing new feature\n",
    "\n",
    "fig, ax = plt.subplots(figsize= (8, 4))\n",
    "new_cats.plot(kind='barh', ax=ax)\n",
    "\n",
    "fig.suptitle('Agent - New Categories')\n",
    "\n",
    "ax.set_xlabel(\"Percentage of Total Reservations\")\n",
    "ax.set_xticks([0, .1, .2, .3, .4, .5])\n",
    "ax.set_xticklabels(['0', '10','20', '30', '40', '50'])\n",
    "ax.set_ylabel(\"Agent ID\")\n",
    "\n",
    "for i,vc in enumerate(new_cats):\n",
    "    plt.text(x=vc+.005, y=i, s=f\"{vc:.0%}\")\n",
    "\n",
    "plt.tight_layout()\n",
    "plt.show()\n",
    "plt.close();"
   ]
  },
  {
   "cell_type": "code",
   "execution_count": null,
   "metadata": {
    "ExecuteTime": {
     "end_time": "2021-10-27T17:20:20.786537Z",
     "start_time": "2021-10-27T17:20:12.794Z"
    },
    "scrolled": false
   },
   "outputs": [],
   "source": [
    "# Dropping \"agent\" feature after conversion\n",
    "data.drop(columns = ['agent'], inplace=True)\n",
    "data.columns"
   ]
  },
  {
   "cell_type": "code",
   "execution_count": null,
   "metadata": {
    "ExecuteTime": {
     "end_time": "2021-10-27T17:20:20.787535Z",
     "start_time": "2021-10-27T17:20:12.801Z"
    },
    "scrolled": true
   },
   "outputs": [],
   "source": [
    "## Confirming 'agent' removal from dataframe\n",
    "'agent' not in data"
   ]
  },
  {
   "cell_type": "code",
   "execution_count": null,
   "metadata": {
    "ExecuteTime": {
     "end_time": "2021-10-27T17:20:20.789534Z",
     "start_time": "2021-10-27T17:20:12.856Z"
    }
   },
   "outputs": [],
   "source": [
    "## Deleting variables to free up space\n",
    "del cond, choice, new_cats"
   ]
  },
  {
   "cell_type": "markdown",
   "metadata": {},
   "source": [
    "---\n",
    "\n",
    "**After converting the values, there are now five unique values instead of 333.**\n",
    "\n",
    "> The resulting values represent the top three agents by production percentage; the percentage of reservations not associated with an agent (missing values prior to conversion); and then the combined percentage of agents producing 3% or less of the overall reservations.\n",
    ">\n",
    "> This condensation balances my desire to simplify this category; the need to address missing values; and my intention to maintain the value of all of the agent IDs.\n",
    "\n",
    "**Now I will condense the `country` category in a similar manner.**\n",
    "\n",
    "---"
   ]
  },
  {
   "cell_type": "markdown",
   "metadata": {
    "code_folding": []
   },
   "source": [
    "### Condensing `Country` Categories"
   ]
  },
  {
   "cell_type": "markdown",
   "metadata": {},
   "source": [
    "---\n",
    "\n",
    "> The `Country` feature includes 177 unique country names, but 5 countries compose about 73% of all of the values. To reduce the complexity of this feature and to increase the value of the remaining distinct countries, I will condense these features as I did for the `agent` feature.\n",
    "\n",
    "---"
   ]
  },
  {
   "cell_type": "code",
   "execution_count": null,
   "metadata": {
    "ExecuteTime": {
     "end_time": "2021-10-27T17:20:20.791534Z",
     "start_time": "2021-10-27T17:20:12.876Z"
    }
   },
   "outputs": [],
   "source": [
    "## Confirming number of unique values\n",
    "data['country'].nunique()"
   ]
  },
  {
   "cell_type": "code",
   "execution_count": null,
   "metadata": {
    "ExecuteTime": {
     "end_time": "2021-10-27T17:20:20.793535Z",
     "start_time": "2021-10-27T17:20:12.915Z"
    },
    "scrolled": true
   },
   "outputs": [],
   "source": [
    "## Reviewing top ten agents by percentage of bookings\n",
    "data['country'].value_counts(normalize=True, ascending=False, dropna=False).iloc[:10]"
   ]
  },
  {
   "cell_type": "code",
   "execution_count": null,
   "metadata": {
    "ExecuteTime": {
     "end_time": "2021-10-27T17:20:20.794536Z",
     "start_time": "2021-10-27T17:20:12.946Z"
    },
    "scrolled": true
   },
   "outputs": [],
   "source": [
    "## Visualizing top ten countries by percentage of bookings\n",
    "top_countries = data['country'].value_counts(normalize=True, ascending=True,\n",
    "                                        dropna=False).iloc[-10:]\n",
    "\n",
    "fig, ax = plt.subplots(figsize= (8, 4))\n",
    "top_countries.plot(kind='barh', ax=ax)\n",
    "\n",
    "fig.suptitle('Top Ten Countries by Volume')\n",
    "ax.set_xlabel(\"Percentage of Total Reservations\")\n",
    "ax.set_xticks([0, .05, .10, .15, .20, .25, .30, .35, .40])\n",
    "ax.set_xticklabels(['0', '5','10', '15', '20', '25', '30', '35', '40'])\n",
    "ax.set_ylabel(\"Country ID\")\n",
    "ax.axhline(y=4.5, ls = \":\", c='k', label = \"5%\")\n",
    "ax.legend(labels = ['5% Threshold', 'Volume (%)'])\n",
    "\n",
    "for i,vc in enumerate(top_countries):\n",
    "    plt.text(x=vc+.0025, y=i, s=f\"{vc:.0%}\")\n",
    "\n",
    "plt.tight_layout()\n",
    "plt.show()\n",
    "plt.close();"
   ]
  },
  {
   "cell_type": "markdown",
   "metadata": {},
   "source": [
    "---\n",
    "\n",
    "**Analysis shows there are five countries composing over 5% of the reservations, representing a combined total of nearly 73% of the total reservations.**\n",
    "\n",
    "> These countries represent more than 5% of the overall feature values, with the remaining 27% below 5%.\n",
    "\n",
    "**Based on these results, I feel comfortable in condensing the values into six distinct categories:** \n",
    ">* The top five country IDs (no changes)\n",
    "* A placeholder ('Other') representing the combination of all of the lower-production countries\n",
    "\n",
    "**I will replace the values and inspect the breakdown of the resulting data.**\n",
    "\n",
    "---"
   ]
  },
  {
   "cell_type": "code",
   "execution_count": null,
   "metadata": {
    "ExecuteTime": {
     "end_time": "2021-10-27T17:20:20.796535Z",
     "start_time": "2021-10-27T17:20:12.958Z"
    },
    "scrolled": true
   },
   "outputs": [],
   "source": [
    "## Converting non-top-3 ID values to placeholder \"999\"\n",
    "cond = [data['country'] == 'PRT',\n",
    "        data['country'] == 'GBR',\n",
    "        data['country'] == 'FRA',\n",
    "        data['country'] == 'ESP',\n",
    "        data['country'] == 'DEU'\n",
    "       ]\n",
    "\n",
    "choice = [data['country'], data['country'], data['country'], data['country'],\n",
    "          data['country']]\n",
    "\n",
    "data['country'] = np.select(cond, choice, 'Other')\n",
    "data['country']"
   ]
  },
  {
   "cell_type": "code",
   "execution_count": null,
   "metadata": {
    "ExecuteTime": {
     "end_time": "2021-10-27T17:20:20.798535Z",
     "start_time": "2021-10-27T17:20:12.967Z"
    }
   },
   "outputs": [],
   "source": [
    "## Creating new Series for visualization\n",
    "new_cats = data['country'].value_counts(1, ascending=True)\n",
    "new_cats"
   ]
  },
  {
   "cell_type": "code",
   "execution_count": null,
   "metadata": {
    "ExecuteTime": {
     "end_time": "2021-10-27T17:20:20.799536Z",
     "start_time": "2021-10-27T17:20:12.977Z"
    },
    "scrolled": false
   },
   "outputs": [],
   "source": [
    "##Visualizing new feature\n",
    "\n",
    "fig, ax = plt.subplots(figsize= (8, 4))\n",
    "new_cats.plot(kind='barh', ax=ax)\n",
    "\n",
    "fig.suptitle('Country - Updated Categories')\n",
    "\n",
    "ax.set_xlabel(\"Percentage of Total Reservations\")\n",
    "ax.set_xticks([0, .1, .2, .3, .4, .5])\n",
    "ax.set_xticklabels(['0', '10','20', '30', '40', '50'])\n",
    "ax.set_ylabel(\"Country ID\")\n",
    "\n",
    "for i,vc in enumerate(new_cats):\n",
    "    plt.text(x=vc+.005, y=i, s=f\"{vc:.0%}\")\n",
    "\n",
    "plt.tight_layout()\n",
    "plt.show()\n",
    "plt.close();"
   ]
  },
  {
   "cell_type": "code",
   "execution_count": null,
   "metadata": {
    "ExecuteTime": {
     "end_time": "2021-10-27T17:20:20.801538Z",
     "start_time": "2021-10-27T17:20:12.983Z"
    }
   },
   "outputs": [],
   "source": [
    "## Deleting variables to free up space\n",
    "del cond, choice, new_cats"
   ]
  },
  {
   "cell_type": "markdown",
   "metadata": {},
   "source": [
    "## Feature Engineering"
   ]
  },
  {
   "cell_type": "markdown",
   "metadata": {},
   "source": [
    "---\n",
    "\n",
    "> Now that I condensed my existing features, I will create two new ones:\n",
    "* `arrival_date`: representing the date the reservation is expected to check-in; useful for future forecasting\n",
    "* `stay_length`: for how many nights a guest will stay\n",
    ">\n",
    "> This information is standard for all hotels and will be helpful for modeling (and later forecasting).\n",
    "\n",
    "---"
   ]
  },
  {
   "cell_type": "markdown",
   "metadata": {},
   "source": [
    "### Engineering `Arrival_Date`"
   ]
  },
  {
   "cell_type": "code",
   "execution_count": null,
   "metadata": {
    "ExecuteTime": {
     "end_time": "2021-10-27T17:20:20.803536Z",
     "start_time": "2021-10-27T17:20:13.006Z"
    },
    "scrolled": true
   },
   "outputs": [],
   "source": [
    "## Converting from month, day of month, and year to a single datetime column\n",
    "data['arrival_date'] = data['arrival_date_month'] +' '+ \\\n",
    "                                data['arrival_date_day_of_month']\\\n",
    "                                .astype(str) +', '+ \\\n",
    "                                data['arrival_date_year'].astype(str)\n",
    "data['arrival_date'] = pd.to_datetime(data['arrival_date'])\n",
    "data['arrival_date']"
   ]
  },
  {
   "cell_type": "code",
   "execution_count": null,
   "metadata": {
    "ExecuteTime": {
     "end_time": "2021-10-27T17:20:20.805536Z",
     "start_time": "2021-10-27T17:20:13.012Z"
    }
   },
   "outputs": [],
   "source": [
    "## Determining the day of the week of arrival \n",
    "data.loc[:,'arrival_day'] = data.loc[:,'arrival_date'].dt.day_name()\n",
    "data['arrival_day']"
   ]
  },
  {
   "cell_type": "code",
   "execution_count": null,
   "metadata": {
    "ExecuteTime": {
     "end_time": "2021-10-27T17:20:20.807537Z",
     "start_time": "2021-10-27T17:20:13.029Z"
    },
    "scrolled": true
   },
   "outputs": [],
   "source": [
    "## Reviewing results\n",
    "data[['arrival_day', 'arrival_date']]"
   ]
  },
  {
   "cell_type": "code",
   "execution_count": null,
   "metadata": {
    "ExecuteTime": {
     "end_time": "2021-10-27T17:20:20.809536Z",
     "start_time": "2021-10-27T17:20:13.044Z"
    }
   },
   "outputs": [],
   "source": [
    "## Reviewing details for arrival_day\n",
    "eda.explore_feature(data,'arrival_day',plot_label ='Day',\n",
    "                    plot_title= 'Arrival Day',\n",
    "                    show_visualization = show_visualization);"
   ]
  },
  {
   "cell_type": "markdown",
   "metadata": {},
   "source": [
    "---\n",
    "\n",
    "**Feature Review**\n",
    "\n",
    "> This new feature gives a more precise representation of when a reservation is expected to arrive. Having an idea of anticipated occupancy by day is critical for operations for daily cleaning, staffing, etc..\n",
    "\n",
    "---"
   ]
  },
  {
   "cell_type": "markdown",
   "metadata": {},
   "source": [
    "### Engineering `Stay Length`"
   ]
  },
  {
   "cell_type": "markdown",
   "metadata": {},
   "source": [
    "---\n",
    "\n",
    "> One major feature of a guest's reservation is missing from the original dataset: the overall stay length. I feel a reservation's stay length is relevant to my analysis, and so I will engineer this feature by adding the number of week day and weekend nights together.\n",
    "\n",
    "---"
   ]
  },
  {
   "cell_type": "code",
   "execution_count": null,
   "metadata": {
    "ExecuteTime": {
     "end_time": "2021-10-27T17:20:20.811537Z",
     "start_time": "2021-10-27T17:20:13.058Z"
    }
   },
   "outputs": [],
   "source": [
    "## Creating stay_length as a summation of weekday and weekend night counts\n",
    "data['stay_length'] = data['stays_in_weekend_nights'] + data['stays_in_week_nights']\n",
    "data['stay_length'].value_counts(dropna=False)"
   ]
  },
  {
   "cell_type": "code",
   "execution_count": null,
   "metadata": {
    "ExecuteTime": {
     "end_time": "2021-10-27T17:20:20.813541Z",
     "start_time": "2021-10-27T17:20:13.068Z"
    },
    "scrolled": false
   },
   "outputs": [],
   "source": [
    "## Reviewing details for stay_length\n",
    "eda.explore_feature(data,'stay_length',plot_label ='Length',\n",
    "                    plot_title= 'Length of Stay', bins=10,\n",
    "                    show_visualization = show_visualization);"
   ]
  },
  {
   "cell_type": "markdown",
   "metadata": {},
   "source": [
    "---\n",
    "\n",
    "**Feature Review**\n",
    "\n",
    "> Both checkouts and cancellations show that most guests are staying for less than a week, which is understandable for standard hotels and resorts (there are exceptions, such as brands oriented towards long-term stays of 7+ days).\n",
    "\n",
    "---"
   ]
  },
  {
   "cell_type": "markdown",
   "metadata": {},
   "source": [
    "## Dropping Features"
   ]
  },
  {
   "cell_type": "markdown",
   "metadata": {},
   "source": [
    "---\n",
    "\n",
    "> During the EDA process, I noted several features were less useful than others and would need to be dropped from the dataset. I will drop the following features/rows:\n",
    "* `market_segment`, `\"undefined\"` value: represented less than 1% of reservations\n",
    "* `distribution_channel`: too similar to `market_segment`\n",
    "* `reservation_status`: too similar to target feature\n",
    "* `arrival_date_year`: specific to reservations in dataset; not usable for future reservations\n",
    "* `reservation_status_date`: does not add substantial information\n",
    "\n",
    "---"
   ]
  },
  {
   "cell_type": "markdown",
   "metadata": {},
   "source": [
    "### Dropping \"Undefined\" from `Market_Segment`"
   ]
  },
  {
   "cell_type": "markdown",
   "metadata": {},
   "source": [
    "---\n",
    "\n",
    "> There are less than 1% of reservations with an \"undefined\" market segment. To reduce the future number of features post-one-hot-encoding, I will remove these features.\n",
    "\n",
    "---"
   ]
  },
  {
   "cell_type": "code",
   "execution_count": null,
   "metadata": {
    "ExecuteTime": {
     "end_time": "2021-10-27T17:20:20.814539Z",
     "start_time": "2021-10-27T17:20:13.131Z"
    }
   },
   "outputs": [],
   "source": [
    "## Confirming low number of \"undefined\" values in market_segment\n",
    "data['market_segment'].value_counts()"
   ]
  },
  {
   "cell_type": "code",
   "execution_count": null,
   "metadata": {
    "ExecuteTime": {
     "end_time": "2021-10-27T17:20:20.816536Z",
     "start_time": "2021-10-27T17:20:13.148Z"
    }
   },
   "outputs": [],
   "source": [
    "## Inspecting reservations listed as \"undefined\"\n",
    "data[data['market_segment'] == 'Undefined']"
   ]
  },
  {
   "cell_type": "code",
   "execution_count": null,
   "metadata": {
    "ExecuteTime": {
     "end_time": "2021-10-27T17:20:20.817536Z",
     "start_time": "2021-10-27T17:20:13.202Z"
    }
   },
   "outputs": [],
   "source": [
    "## Removing those reservations from the dataset\n",
    "data = data[data['market_segment'] != 'Undefined']\n",
    "data"
   ]
  },
  {
   "cell_type": "markdown",
   "metadata": {},
   "source": [
    "### Comparing `Market_Segment` and `Distribution_Channel`"
   ]
  },
  {
   "cell_type": "markdown",
   "metadata": {},
   "source": [
    "---\n",
    "\n",
    "**What's the difference?**\n",
    "\n",
    ">Based on my personal career experience, I know that these two features represent nearly the same information.\n",
    "* ***Market segments*** represent customers with distinct needs, behaviors, and may have additional distinguishing characteristics (groups, contracts, and businesses).\n",
    "* ***Distribution channels*** are the means by which these reservations are booked and processed, often overlapping with the guest segmentation.\n",
    "\n",
    "**Which to keep?**\n",
    "\n",
    "> **As the two values demonstrate high multicollinearity, I will keep the feature providing the most diverse insights.** I will inspect the values for each feature and keep whichever feature adds the most diverse insights. I will drop the other feature.\n",
    "\n",
    "---"
   ]
  },
  {
   "cell_type": "code",
   "execution_count": null,
   "metadata": {
    "ExecuteTime": {
     "end_time": "2021-10-27T17:20:20.818535Z",
     "start_time": "2021-10-27T17:20:13.232Z"
    },
    "scrolled": true
   },
   "outputs": [],
   "source": [
    "## Inspecting breakdowns\n",
    "print('Distribution Channel:\\n',data['distribution_channel'].value_counts(1),\n",
    "      '\\n\\n')\n",
    "print('Market Segment:\\n',data['market_segment'].value_counts(1))"
   ]
  },
  {
   "cell_type": "markdown",
   "metadata": {},
   "source": [
    "---\n",
    "\n",
    "**While both features describe similar information, `market_segment` includes more distinct information.** I will keep `market_segment` and drop `distribution_channel`.\n",
    "\n",
    "---"
   ]
  },
  {
   "cell_type": "code",
   "execution_count": null,
   "metadata": {
    "ExecuteTime": {
     "end_time": "2021-10-27T17:20:20.820538Z",
     "start_time": "2021-10-27T17:20:13.251Z"
    }
   },
   "outputs": [],
   "source": [
    "## Dropping \"distribution_channel\"\n",
    "data = data.drop(columns = 'distribution_channel')"
   ]
  },
  {
   "cell_type": "code",
   "execution_count": null,
   "metadata": {
    "ExecuteTime": {
     "end_time": "2021-10-27T17:20:20.822536Z",
     "start_time": "2021-10-27T17:20:13.268Z"
    }
   },
   "outputs": [],
   "source": [
    "## Confirming 'distribution_channel' removal from dataframe\n",
    "'distribution_channel' not in data"
   ]
  },
  {
   "cell_type": "markdown",
   "metadata": {},
   "source": [
    "### Dropping `Reservation_Status`"
   ]
  },
  {
   "cell_type": "markdown",
   "metadata": {},
   "source": [
    "---\n",
    "\n",
    "> `Reservation_Status` is nearly identical to my target feature and would be too strong of a predictor in my models.\n",
    "\n",
    "---"
   ]
  },
  {
   "cell_type": "code",
   "execution_count": null,
   "metadata": {
    "ExecuteTime": {
     "end_time": "2021-10-27T17:20:20.823537Z",
     "start_time": "2021-10-27T17:20:13.287Z"
    }
   },
   "outputs": [],
   "source": [
    "## Dropping \"reservation_status\"\n",
    "data.drop(columns = 'reservation_status', inplace=True)"
   ]
  },
  {
   "cell_type": "code",
   "execution_count": null,
   "metadata": {
    "ExecuteTime": {
     "end_time": "2021-10-27T17:20:20.825546Z",
     "start_time": "2021-10-27T17:20:13.329Z"
    }
   },
   "outputs": [],
   "source": [
    "## Confirming 'reservation_status' removal from dataframe\n",
    "'reservation_status' not in data"
   ]
  },
  {
   "cell_type": "markdown",
   "metadata": {},
   "source": [
    "### Dropping `Arrival_Date_Year`"
   ]
  },
  {
   "cell_type": "markdown",
   "metadata": {},
   "source": [
    "---\n",
    "\n",
    "> `Arrival_Date_Year` would not be applicable to future models; it would impair model performance when the model is given data for new years.\n",
    "\n",
    "---"
   ]
  },
  {
   "cell_type": "code",
   "execution_count": null,
   "metadata": {
    "ExecuteTime": {
     "end_time": "2021-10-27T17:20:20.826533Z",
     "start_time": "2021-10-27T17:20:13.381Z"
    }
   },
   "outputs": [],
   "source": [
    "## Dropping \"arrival_date_year\"\n",
    "data.drop(columns = 'arrival_date_year', inplace=True)"
   ]
  },
  {
   "cell_type": "code",
   "execution_count": null,
   "metadata": {
    "ExecuteTime": {
     "end_time": "2021-10-27T17:20:20.827532Z",
     "start_time": "2021-10-27T17:20:13.391Z"
    }
   },
   "outputs": [],
   "source": [
    "## Confirming 'arrival_date_year' removal from dataframe\n",
    "'arrival_date_year' not in data"
   ]
  },
  {
   "cell_type": "markdown",
   "metadata": {},
   "source": [
    "### Dropping `Reservation_Status_Date`"
   ]
  },
  {
   "cell_type": "code",
   "execution_count": null,
   "metadata": {
    "ExecuteTime": {
     "end_time": "2021-10-27T17:20:20.829534Z",
     "start_time": "2021-10-27T17:20:13.403Z"
    }
   },
   "outputs": [],
   "source": [
    "## Dropping \"reservation_status_date\"\n",
    "data.drop(columns = 'reservation_status_date', inplace=True)"
   ]
  },
  {
   "cell_type": "code",
   "execution_count": null,
   "metadata": {
    "ExecuteTime": {
     "end_time": "2021-10-27T17:20:20.831534Z",
     "start_time": "2021-10-27T17:20:13.412Z"
    }
   },
   "outputs": [],
   "source": [
    "## Confirming 'reservation_status_date' removal from dataframe\n",
    "'reservation_status_date' not in data"
   ]
  },
  {
   "cell_type": "markdown",
   "metadata": {},
   "source": [
    "## Final Data Review"
   ]
  },
  {
   "cell_type": "markdown",
   "metadata": {},
   "source": [
    "---\n",
    "\n",
    "> Now that I completed my condensation, engineering, and dropping of features, I will review the final data prior to saving the results for modeling.\n",
    "\n",
    "---"
   ]
  },
  {
   "cell_type": "code",
   "execution_count": null,
   "metadata": {
    "ExecuteTime": {
     "end_time": "2021-10-27T17:20:20.832534Z",
     "start_time": "2021-10-27T17:20:13.424Z"
    },
    "scrolled": true
   },
   "outputs": [],
   "source": [
    "## Inspecting final dataframe\n",
    "data"
   ]
  },
  {
   "cell_type": "markdown",
   "metadata": {},
   "source": [
    "# **Of Pandas and Pickles**"
   ]
  },
  {
   "cell_type": "markdown",
   "metadata": {},
   "source": [
    "---\n",
    "\n",
    "> Now I am ready to save the cleaned and processed data for modeling in my next notebook. Pandas includes easy functionality to serialize the data as a .pickle file, preserving the datatypes as well as the data itself.\n",
    "\n",
    "---"
   ]
  },
  {
   "cell_type": "code",
   "execution_count": null,
   "metadata": {
    "ExecuteTime": {
     "end_time": "2021-10-27T17:20:20.834535Z",
     "start_time": "2021-10-27T17:20:13.432Z"
    }
   },
   "outputs": [],
   "source": [
    "## Pickling with Pandas\n",
    "data.to_pickle(path = './data/data_prepped.pickle',\n",
    "            compression = 'gzip')\n",
    "print(f'Successfully pickled!')"
   ]
  },
  {
   "cell_type": "markdown",
   "metadata": {},
   "source": [
    "# Future Work: EDA"
   ]
  },
  {
   "cell_type": "markdown",
   "metadata": {},
   "source": [
    "---\n",
    "\n",
    "In the future, I will revisit the visualization aspects of my EDA function to convert them from Plotly Express figures to Matplotlib figures. The goal with Plotly Express was to have additional interativity; however these models crippled my notebook's operations. Matplotlib figures would be more appropriate in this case, and I will revisit this work when I have more time.\n",
    "\n",
    "---\n"
   ]
  },
  {
   "cell_type": "markdown",
   "metadata": {},
   "source": [
    "# Moving to Modeling!"
   ]
  },
  {
   "cell_type": "markdown",
   "metadata": {},
   "source": [
    "---\n",
    "\n",
    "> Now that I completed the pre-processing and EDA steps, I will move to my next notebook to perform my classification modeling.\n",
    "\n",
    "---"
   ]
  },
  {
   "cell_type": "code",
   "execution_count": null,
   "metadata": {},
   "outputs": [],
   "source": []
  }
 ],
 "metadata": {
  "interpreter": {
   "hash": "980eb18a21052b9c17debf7b5e50bde2e676226d1d1b2f7e2a15b0c620c5c0ea"
  },
  "kernelspec": {
   "display_name": "Python [conda env:test_intel_env]",
   "language": "python",
   "name": "conda-env-test_intel_env-py"
  },
  "language_info": {
   "codemirror_mode": {
    "name": "ipython",
    "version": 3
   },
   "file_extension": ".py",
   "mimetype": "text/x-python",
   "name": "python",
   "nbconvert_exporter": "python",
   "pygments_lexer": "ipython3",
   "version": "3.8.5"
  },
  "toc": {
   "base_numbering": 1,
   "nav_menu": {},
   "number_sections": true,
   "sideBar": true,
   "skip_h1_title": false,
   "title_cell": "Table of Contents",
   "title_sidebar": "Contents",
   "toc_cell": true,
   "toc_position": {
    "height": "calc(100% - 180px)",
    "left": "10px",
    "top": "150px",
    "width": "250.781px"
   },
   "toc_section_display": true,
   "toc_window_display": false
  }
 },
 "nbformat": 4,
 "nbformat_minor": 2
}
