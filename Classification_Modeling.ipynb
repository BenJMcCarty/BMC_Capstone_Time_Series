{
 "cells": [
  {
   "cell_type": "markdown",
   "metadata": {},
   "source": [
    "# **Cancel Culture - Classification Modeling Notebook**"
   ]
  },
  {
   "cell_type": "markdown",
   "metadata": {},
   "source": [
    "---\n",
    "\n",
    "**Post-Cleaning Modeling Notebook**\n",
    "\n",
    "---"
   ]
  },
  {
   "cell_type": "markdown",
   "metadata": {},
   "source": [
    "# -- > 🛑 **FIX**: Add cmts re: post-cleaning, modeling"
   ]
  },
  {
   "cell_type": "markdown",
   "metadata": {},
   "source": [
    "---\n",
    "\n",
    ">\n",
    "\n",
    "---"
   ]
  },
  {
   "cell_type": "markdown",
   "metadata": {},
   "source": [
    "# **Imports**"
   ]
  },
  {
   "cell_type": "markdown",
   "metadata": {},
   "source": [
    "---\n",
    "\n",
    "> I will import several packages and modules to perform my modeling steps. I use different parts of Scikit-Learn's numerous packages for the majority of my modeling. In addition to SKLearn, I tested models from XGBoost as well as Imblearn towards the end of the modeling process.\n",
    ">\n",
    "> I include the usual packages as well: pandas, numpy, matplotlib, and seaborn. Additionally, I have several personal functions that I use during the modeling process.\n",
    "\n",
    "---"
   ]
  },
  {
   "cell_type": "code",
   "execution_count": null,
   "metadata": {
    "ExecuteTime": {
     "end_time": "2021-09-06T22:37:42.537680Z",
     "start_time": "2021-09-06T22:37:42.485713Z"
    }
   },
   "outputs": [],
   "source": [
    "## Jupyter Notebook setting to reload functions when called\n",
    "%load_ext autoreload\n",
    "%autoreload 2"
   ]
  },
  {
   "cell_type": "code",
   "execution_count": null,
   "metadata": {
    "ExecuteTime": {
     "end_time": "2021-09-06T22:59:15.451686Z",
     "start_time": "2021-09-06T22:59:15.285693Z"
    }
   },
   "outputs": [],
   "source": [
    "## Data Handling\n",
    "import pandas as pd\n",
    "import numpy as np\n",
    "\n",
    "## Visualizations\n",
    "import matplotlib.pyplot as plt\n",
    "import seaborn as sns\n",
    "\n",
    "## Personal functions\n",
    "from bmc_functions import classification as clf\n",
    "\n",
    "## SKLearn and Modeling Tools\n",
    "from sklearn import metrics\n",
    "from sklearn.preprocessing import OneHotEncoder, StandardScaler\n",
    "from sklearn.model_selection import train_test_split, GridSearchCV\n",
    "from sklearn.impute import SimpleImputer\n",
    "from sklearn.compose import ColumnTransformer\n",
    "from sklearn.pipeline import Pipeline\n",
    "from sklearn.dummy import DummyClassifier\n",
    "from sklearn.linear_model import LogisticRegression, LogisticRegressionCV\n",
    "from sklearn.ensemble import RandomForestClassifier, ExtraTreesClassifier, \\\n",
    "                                AdaBoostClassifier,GradientBoostingClassifier \n",
    "from sklearn import set_config\n",
    "set_config(display='diagram')\n",
    "\n",
    "# from xgboost import XGBClassifier\n",
    "from imblearn.over_sampling import SMOTENC\n",
    "from imblearn.ensemble import BalancedBaggingClassifier,\\\n",
    "                                BalancedRandomForestClassifier,\\\n",
    "                                EasyEnsembleClassifier, RUSBoostClassifier"
   ]
  },
  {
   "cell_type": "code",
   "execution_count": null,
   "metadata": {
    "ExecuteTime": {
     "end_time": "2021-09-06T22:37:45.617679Z",
     "start_time": "2021-09-06T22:37:45.478682Z"
    }
   },
   "outputs": [],
   "source": [
    "## Settings\n",
    "%matplotlib inline\n",
    "plt.style.use('seaborn-talk')\n",
    "pd.set_option('display.max_columns', None)\n",
    "pd.set_option('display.float_format', lambda x: f'{x:,.2f}')\n",
    "pd.set_option('max_rows', 50)"
   ]
  },
  {
   "cell_type": "markdown",
   "metadata": {},
   "source": [
    "# **Reading the DataFrames**"
   ]
  },
  {
   "cell_type": "markdown",
   "metadata": {},
   "source": [
    "---\n",
    "\n",
    "> In my prior EDA notebook, I reviewed, cleaned, and performed some pre-processing steps to prepare my data separately before modeling. I saved the data as a .pickle file to preserve the datatypes; now I will re-read the data for modeling purposes.\n",
    "\n",
    "---"
   ]
  },
  {
   "cell_type": "markdown",
   "metadata": {},
   "source": [
    "# -- > 🛑 **FIX**: update data in EDA notebook - keep type, outliers."
   ]
  },
  {
   "cell_type": "code",
   "execution_count": null,
   "metadata": {
    "ExecuteTime": {
     "end_time": "2021-09-06T22:37:46.027679Z",
     "start_time": "2021-09-06T22:37:45.620679Z"
    },
    "scrolled": true
   },
   "outputs": [],
   "source": [
    "data = pd.read_pickle('./data/data_prepped.pickle',\n",
    "                           compression = 'gzip')\n",
    "data.head(5)"
   ]
  },
  {
   "cell_type": "markdown",
   "metadata": {},
   "source": [
    "# **Train/Test Split**"
   ]
  },
  {
   "cell_type": "markdown",
   "metadata": {},
   "source": [
    "# -- > 🛑 **FIX**: Make sure to encode cats as \"category\""
   ]
  },
  {
   "cell_type": "code",
   "execution_count": null,
   "metadata": {
    "ExecuteTime": {
     "end_time": "2021-09-06T22:37:46.168679Z",
     "start_time": "2021-09-06T22:37:46.031682Z"
    }
   },
   "outputs": [],
   "source": [
    "## Identifying target\n",
    "target= 'is_canceled'"
   ]
  },
  {
   "cell_type": "code",
   "execution_count": null,
   "metadata": {
    "ExecuteTime": {
     "end_time": "2021-09-06T22:37:46.339819Z",
     "start_time": "2021-09-06T22:37:46.171678Z"
    }
   },
   "outputs": [],
   "source": [
    "## Dropping target and \"reservation_status\" (nearly identical indicator)\n",
    "\n",
    "X = data.drop(columns = [target, 'reservation_status']).copy()\n",
    "y = data[target].copy()"
   ]
  },
  {
   "cell_type": "code",
   "execution_count": null,
   "metadata": {
    "ExecuteTime": {
     "end_time": "2021-09-06T22:37:46.637677Z",
     "start_time": "2021-09-06T22:37:46.342686Z"
    }
   },
   "outputs": [],
   "source": [
    "## Checking for missing values\n",
    "print(f'Missing values for X:\\n {X.isna().sum()[X.isna().sum() >0]}\\n')\n",
    "print(f'Missing values for y: {y.isna().sum()}')"
   ]
  },
  {
   "cell_type": "code",
   "execution_count": null,
   "metadata": {
    "ExecuteTime": {
     "end_time": "2021-09-06T22:37:46.891678Z",
     "start_time": "2021-09-06T22:37:46.640677Z"
    }
   },
   "outputs": [],
   "source": [
    "## Splitting - stratify to maintain class balance b/t X_train/_test\n",
    "X_train, X_test, y_train, y_test = train_test_split(X, y, test_size = .25, \n",
    "                                                    random_state=42, \n",
    "                                                    stratify=y)"
   ]
  },
  {
   "cell_type": "code",
   "execution_count": null,
   "metadata": {
    "ExecuteTime": {
     "end_time": "2021-09-06T22:41:59.860516Z",
     "start_time": "2021-09-06T22:41:59.703516Z"
    }
   },
   "outputs": [],
   "source": [
    "## Saving memory by deleting unused X, y\n",
    "del X, y"
   ]
  },
  {
   "cell_type": "code",
   "execution_count": null,
   "metadata": {
    "ExecuteTime": {
     "end_time": "2021-09-06T22:37:47.017711Z",
     "start_time": "2021-09-06T22:37:46.893680Z"
    }
   },
   "outputs": [],
   "source": [
    "## Specifying numeric columns for preprocessing\n",
    "num_cols = X_train.select_dtypes('number').columns.to_list()\n",
    "num_cols"
   ]
  },
  {
   "cell_type": "code",
   "execution_count": null,
   "metadata": {
    "ExecuteTime": {
     "end_time": "2021-09-06T22:37:47.161680Z",
     "start_time": "2021-09-06T22:37:47.019707Z"
    }
   },
   "outputs": [],
   "source": [
    "## Specifying numeric columns for preprocessing\n",
    "cat_cols = X_train.select_dtypes(include='object').columns.to_list()\n",
    "cat_cols"
   ]
  },
  {
   "cell_type": "markdown",
   "metadata": {},
   "source": [
    "# **Prepping the Pipeline**"
   ]
  },
  {
   "cell_type": "markdown",
   "metadata": {},
   "source": [
    "---\n",
    "\n",
    "> Pipeline to streamline modeling steps:\n",
    "* Preprocessing: OHE, scaling, outliers via ƒ-XF?\n",
    "* Modeling: RFC, BRFC\n",
    "* GSCV: include as part of pipeline\n",
    "* Get results:\n",
    "    * Feature importances - **SHAP**\n",
    "\n",
    "---"
   ]
  },
  {
   "cell_type": "markdown",
   "metadata": {},
   "source": [
    "---\n",
    "\n",
    ">**FIX** Update GSCV:\n",
    ">* function transformer for outliers?\n",
    ">* add GSCV to final step?\n",
    "\n",
    "---"
   ]
  },
  {
   "cell_type": "code",
   "execution_count": null,
   "metadata": {
    "ExecuteTime": {
     "end_time": "2021-09-06T22:37:47.301710Z",
     "start_time": "2021-09-06T22:37:47.164679Z"
    }
   },
   "outputs": [],
   "source": [
    "## Creating ColumnTransformer and sub-transformers for imputation and encoding\n",
    "\n",
    "### --- Creating column pipelines --- ###\n",
    "\n",
    "cat_pipe = Pipeline(steps=[('ohe', OneHotEncoder(handle_unknown='ignore',\n",
    "                                                 sparse=False))])\n",
    "\n",
    "num_pipe = Pipeline(steps=[('scaler', StandardScaler())])\n",
    "\n",
    "## Instantiating the ColumnTransformer\n",
    "\n",
    "preprocessor = ColumnTransformer(\n",
    "    transformers=[('num', num_pipe, num_cols),\n",
    "                  ('cat', cat_pipe, cat_cols)\n",
    "                  ])\n",
    "\n",
    "preprocessor"
   ]
  },
  {
   "cell_type": "code",
   "execution_count": null,
   "metadata": {
    "ExecuteTime": {
     "end_time": "2021-09-06T22:37:48.459684Z",
     "start_time": "2021-09-06T22:37:47.303680Z"
    }
   },
   "outputs": [],
   "source": [
    "## Fitting feature preprocessor\n",
    "preprocessor.fit(X_train)\n",
    "\n",
    "## Getting feature names from OHE\n",
    "ohe_cat_names = preprocessor.named_transformers_['cat'].named_steps['ohe'].get_feature_names(cat_cols)\n",
    "\n",
    "## Generating list for column index\n",
    "final_cols = [*num_cols, *ohe_cat_names]\n",
    "\n",
    "final_cols"
   ]
  },
  {
   "cell_type": "code",
   "execution_count": null,
   "metadata": {
    "ExecuteTime": {
     "end_time": "2021-09-06T22:37:50.131708Z",
     "start_time": "2021-09-06T22:37:48.461677Z"
    }
   },
   "outputs": [],
   "source": [
    "## Transform the data via the ColumnTransformer preprocessor\n",
    "\n",
    "X_train_tf = preprocessor.transform(X_train)\n",
    "X_train_tf_df = pd.DataFrame(X_train_tf, columns=final_cols, index=X_train.index)\n",
    "\n",
    "X_test_tf = preprocessor.transform(X_test)\n",
    "X_test_tf_df = pd.DataFrame(X_test_tf, columns=final_cols, index=X_test.index)\n",
    "\n",
    "display(X_train_tf_df.head(5),X_test_tf_df.head(5))"
   ]
  },
  {
   "cell_type": "markdown",
   "metadata": {},
   "source": [
    "# **--->** 🛑 Add Comment: Class Imbalance"
   ]
  },
  {
   "cell_type": "markdown",
   "metadata": {},
   "source": [
    "---\n",
    "\n",
    "> Due to class imbalance, will attempt to use \"class_weight = balanced\" to correct.\n",
    "\n",
    "---"
   ]
  },
  {
   "cell_type": "markdown",
   "metadata": {},
   "source": [
    "# **Baseline Model**"
   ]
  },
  {
   "cell_type": "code",
   "execution_count": null,
   "metadata": {
    "ExecuteTime": {
     "end_time": "2021-09-06T22:37:51.646708Z",
     "start_time": "2021-09-06T22:37:50.133691Z"
    }
   },
   "outputs": [],
   "source": [
    "## Creating baseline classifier model\n",
    "\n",
    "base = DummyClassifier(strategy='stratified', random_state = 42)\n",
    "\n",
    "base.fit(X_train_tf_df, y_train)\n",
    "\n",
    "clf.evaluate_classification(base,X_train = X_train_tf_df, y_train = y_train,\n",
    "                           X_test = X_test_tf_df, y_test = y_test, \n",
    "                           metric = 'balanced accuracy')"
   ]
  },
  {
   "cell_type": "markdown",
   "metadata": {},
   "source": [
    "# -- > 🛑 **FIX**: Re-run all models w/ new data, kfold CV"
   ]
  },
  {
   "cell_type": "markdown",
   "metadata": {},
   "source": [
    "# **Logistic Regression Model**"
   ]
  },
  {
   "cell_type": "markdown",
   "metadata": {},
   "source": [
    "---\n",
    "\n",
    "**Results:**\n",
    "\n",
    "> Training balanced accuracy score: 0.82\n",
    "> \n",
    "> Testing balanced accuracy score: 0.82\n",
    "> \n",
    "> * *The scores are the same size.*\n",
    ">\n",
    "> Training data log loss: 0.37\n",
    ">\n",
    "> Testing data log loss: 0.37\n",
    "\n",
    "---\n",
    "\n",
    "**Interpretation**\n",
    "\n",
    "> \n",
    "\n",
    "---"
   ]
  },
  {
   "cell_type": "code",
   "execution_count": null,
   "metadata": {
    "ExecuteTime": {
     "end_time": "2021-09-06T22:33:05.943239Z",
     "start_time": "2021-09-06T22:33:05.819135Z"
    }
   },
   "outputs": [],
   "source": [
    "# ## LogReg Model\n",
    "\n",
    "# logreg = LogisticRegression(class_weight='balanced', n_jobs=-1,random_state = 42)\n",
    "\n",
    "# logreg.fit(X_train_tf_df, y_train)"
   ]
  },
  {
   "cell_type": "code",
   "execution_count": null,
   "metadata": {
    "ExecuteTime": {
     "end_time": "2021-09-06T22:33:06.086148Z",
     "start_time": "2021-09-06T22:33:05.945136Z"
    }
   },
   "outputs": [],
   "source": [
    "# clf.evaluate_classification(logreg, X_train = X_train_tf_df, y_train = y_train,\n",
    "#                            X_test = X_test_tf_df, y_test = y_test,\n",
    "#                           metric = 'balanced recall')"
   ]
  },
  {
   "cell_type": "code",
   "execution_count": null,
   "metadata": {
    "ExecuteTime": {
     "end_time": "2021-09-06T22:41:59.700517Z",
     "start_time": "2021-09-06T22:38:45.447026Z"
    }
   },
   "outputs": [],
   "source": [
    "## LogRegCV Model\n",
    "\n",
    "logregcv = LogisticRegressionCV(cv = 3, max_iter = 200, class_weight='balanced',random_state = 42)\n",
    "\n",
    "logregcv.fit(X_train_tf_df, y_train)"
   ]
  },
  {
   "cell_type": "code",
   "execution_count": null,
   "metadata": {
    "ExecuteTime": {
     "end_time": "2021-09-06T22:42:07.003454Z",
     "start_time": "2021-09-06T22:42:06.868450Z"
    }
   },
   "outputs": [],
   "source": [
    "logregcv.C_"
   ]
  },
  {
   "cell_type": "code",
   "execution_count": null,
   "metadata": {
    "ExecuteTime": {
     "end_time": "2021-09-06T22:42:13.458727Z",
     "start_time": "2021-09-06T22:42:10.979733Z"
    }
   },
   "outputs": [],
   "source": [
    "clf.evaluate_classification(logregcv, X_train = X_train_tf_df, y_train = y_train,\n",
    "                           X_test = X_test_tf_df, y_test = y_test,\n",
    "                          metric = 'balanced recall')"
   ]
  },
  {
   "cell_type": "code",
   "execution_count": null,
   "metadata": {
    "ExecuteTime": {
     "end_time": "2021-09-06T22:44:14.979593Z",
     "start_time": "2021-09-06T22:44:11.727014Z"
    }
   },
   "outputs": [],
   "source": [
    "!pip install -U fsds\n",
    "from fsds.imports import *"
   ]
  },
  {
   "cell_type": "code",
   "execution_count": null,
   "metadata": {
    "ExecuteTime": {
     "end_time": "2021-09-06T22:45:11.117328Z",
     "start_time": "2021-09-06T22:45:10.983302Z"
    }
   },
   "outputs": [],
   "source": [
    "fs.ihelp(clf.plot_comparison_hist)"
   ]
  },
  {
   "cell_type": "code",
   "execution_count": null,
   "metadata": {
    "ExecuteTime": {
     "end_time": "2021-09-06T22:45:59.660090Z",
     "start_time": "2021-09-06T22:45:59.509091Z"
    }
   },
   "outputs": [],
   "source": [
    "logregcv.coef_.shape"
   ]
  },
  {
   "cell_type": "code",
   "execution_count": null,
   "metadata": {
    "ExecuteTime": {
     "end_time": "2021-09-06T22:47:36.126950Z",
     "start_time": "2021-09-06T22:47:35.988491Z"
    }
   },
   "outputs": [],
   "source": [
    "lrcoef_series = pd.Series(logregcv.coef_.flatten(), index=X_train_tf_df.columns)\n",
    "lrcoef_series"
   ]
  },
  {
   "cell_type": "code",
   "execution_count": null,
   "metadata": {
    "ExecuteTime": {
     "end_time": "2021-09-06T22:48:10.746762Z",
     "start_time": "2021-09-06T22:48:10.612763Z"
    },
    "scrolled": true
   },
   "outputs": [],
   "source": [
    "lrcoef_series.sort_values()"
   ]
  },
  {
   "cell_type": "code",
   "execution_count": null,
   "metadata": {
    "ExecuteTime": {
     "end_time": "2021-09-06T22:51:05.417551Z",
     "start_time": "2021-09-06T22:51:05.268547Z"
    }
   },
   "outputs": [],
   "source": [
    "data['deposit_type'].value_counts()"
   ]
  },
  {
   "cell_type": "code",
   "execution_count": null,
   "metadata": {
    "ExecuteTime": {
     "end_time": "2021-09-06T22:52:59.047499Z",
     "start_time": "2021-09-06T22:52:58.644501Z"
    },
    "scrolled": false
   },
   "outputs": [],
   "source": [
    "sns.countplot(data = data, hue='deposit_type', x=target)"
   ]
  },
  {
   "cell_type": "code",
   "execution_count": null,
   "metadata": {
    "ExecuteTime": {
     "end_time": "2021-09-06T22:54:24.440726Z",
     "start_time": "2021-09-06T22:54:24.294689Z"
    }
   },
   "outputs": [],
   "source": [
    "data.loc[:,['is_canceled', 'reservation_status']]"
   ]
  },
  {
   "cell_type": "code",
   "execution_count": null,
   "metadata": {
    "ExecuteTime": {
     "end_time": "2021-09-06T22:55:32.880319Z",
     "start_time": "2021-09-06T22:55:32.596283Z"
    }
   },
   "outputs": [],
   "source": [
    "data.nunique()"
   ]
  },
  {
   "cell_type": "markdown",
   "metadata": {},
   "source": [
    "---\n",
    "\n",
    "> Above cells show exploration of results and trying to understand why particular agents are such strong coefficients\n",
    "\n",
    "---"
   ]
  },
  {
   "cell_type": "markdown",
   "metadata": {},
   "source": [
    "# **SMOTENC**"
   ]
  },
  {
   "cell_type": "markdown",
   "metadata": {},
   "source": [
    "final_cols = [*num_cols, *ohe_cat_names]"
   ]
  },
  {
   "cell_type": "code",
   "execution_count": null,
   "metadata": {
    "ExecuteTime": {
     "end_time": "2021-09-06T23:08:50.432160Z",
     "start_time": "2021-09-06T23:08:50.293159Z"
    }
   },
   "outputs": [],
   "source": [
    "smote_feats = [False]*len(num_cols) +[True]*len(ohe_cat_names)\n",
    "smote_feats"
   ]
  },
  {
   "cell_type": "code",
   "execution_count": null,
   "metadata": {
    "ExecuteTime": {
     "start_time": "2021-09-06T23:09:33.570Z"
    }
   },
   "outputs": [],
   "source": [
    "smote_nc = SMOTENC(categorical_features=smote_feats, random_state=42)\n",
    "X_resampled, y_resampled = smote_nc.fit_resample(X_train_tf_df, y_train)"
   ]
  },
  {
   "cell_type": "code",
   "execution_count": null,
   "metadata": {},
   "outputs": [],
   "source": [
    "X_resampled"
   ]
  },
  {
   "cell_type": "code",
   "execution_count": null,
   "metadata": {},
   "outputs": [],
   "source": [
    "y_resampled"
   ]
  },
  {
   "cell_type": "code",
   "execution_count": null,
   "metadata": {},
   "outputs": [],
   "source": []
  },
  {
   "cell_type": "code",
   "execution_count": null,
   "metadata": {},
   "outputs": [],
   "source": []
  },
  {
   "cell_type": "code",
   "execution_count": null,
   "metadata": {},
   "outputs": [],
   "source": []
  },
  {
   "cell_type": "code",
   "execution_count": null,
   "metadata": {},
   "outputs": [],
   "source": []
  },
  {
   "cell_type": "markdown",
   "metadata": {},
   "source": [
    "# **Random Forest Model**"
   ]
  },
  {
   "cell_type": "markdown",
   "metadata": {},
   "source": [
    "---\n",
    "\n",
    "**Results:**\n",
    "\n",
    "> Training balanced recall score: 0.99\n",
    "> \n",
    "> Testing balanced recall score: 0.88\n",
    ">\n",
    "> * *The training score is larger by 0.11 points.*\n",
    ">\n",
    "> Training data log loss: 0.08\n",
    ">\n",
    "> Testing data log loss: 0.27\n",
    "\n",
    "---\n",
    "\n",
    "**Interpretation**\n",
    "\n",
    "> \n",
    "\n",
    "---"
   ]
  },
  {
   "cell_type": "code",
   "execution_count": null,
   "metadata": {
    "ExecuteTime": {
     "end_time": "2021-09-06T21:56:42.017703Z",
     "start_time": "2021-09-06T21:56:41.835700Z"
    }
   },
   "outputs": [],
   "source": [
    "# rfc = RandomForestClassifier(class_weight = 'balanced', n_jobs=-1,\n",
    "#                              random_state=42)\n",
    "\n",
    "# rfc.fit(X_train_tf_df, y_train)"
   ]
  },
  {
   "cell_type": "code",
   "execution_count": null,
   "metadata": {
    "ExecuteTime": {
     "end_time": "2021-09-06T21:56:42.203699Z",
     "start_time": "2021-09-06T21:56:42.020702Z"
    },
    "scrolled": false
   },
   "outputs": [],
   "source": [
    "# clf.evaluate_classification(rfc, X_train = X_train_tf_df, y_train = y_train,\n",
    "#                            X_test = X_test_tf_df, y_test = y_test,\n",
    "#                           metric = 'balanced recall')"
   ]
  },
  {
   "cell_type": "code",
   "execution_count": null,
   "metadata": {
    "ExecuteTime": {
     "end_time": "2021-09-06T21:56:42.393700Z",
     "start_time": "2021-09-06T21:56:42.206707Z"
    },
    "scrolled": false
   },
   "outputs": [],
   "source": [
    "# clf.plot_importances(rfc, X_train_tf_df)"
   ]
  },
  {
   "cell_type": "markdown",
   "metadata": {},
   "source": [
    "# **AdaBoost Model**"
   ]
  },
  {
   "cell_type": "markdown",
   "metadata": {},
   "source": [
    "---\n",
    "\n",
    "**Results:**\n",
    "\n",
    "> Training balanced recall score: 0.82\n",
    ">\n",
    "> Testing balanced recall score: 0.81\n",
    ">\n",
    "> * *The training score is larger by 0.01 points.*\n",
    ">\n",
    "> Training data log loss: 0.68\n",
    ">\n",
    "> Testing data log loss: 0.68\n",
    "\n",
    "---\n",
    "\n",
    "**Interpretation**\n",
    "\n",
    "> \n",
    "\n",
    "---"
   ]
  },
  {
   "cell_type": "code",
   "execution_count": null,
   "metadata": {
    "ExecuteTime": {
     "end_time": "2021-09-06T21:56:42.563698Z",
     "start_time": "2021-09-06T21:56:42.396701Z"
    }
   },
   "outputs": [],
   "source": [
    "# abc = AdaBoostClassifier(n_estimators=100, random_state=42)\n",
    "\n",
    "# abc.fit(X_train_tf_df, y_train)"
   ]
  },
  {
   "cell_type": "code",
   "execution_count": null,
   "metadata": {
    "ExecuteTime": {
     "end_time": "2021-09-06T21:56:42.735697Z",
     "start_time": "2021-09-06T21:56:42.566698Z"
    }
   },
   "outputs": [],
   "source": [
    "# clf.evaluate_classification(abc, X_train = X_train_tf_df, y_train = y_train,\n",
    "#                            X_test = X_test_tf_df, y_test = y_test,\n",
    "#                           metric = 'balanced recall')"
   ]
  },
  {
   "cell_type": "markdown",
   "metadata": {},
   "source": [
    "# **Gradient Boosting Model**"
   ]
  },
  {
   "cell_type": "markdown",
   "metadata": {},
   "source": [
    "---\n",
    "\n",
    "**Results:**\n",
    "\n",
    "> Training score: 0.81\n",
    "> \n",
    "> Testing score: 0.80\n",
    "> \n",
    "> * *The scores are the same size.*\n",
    ">\n",
    "> Training data log loss: 0.4\n",
    ">\n",
    "> Testing data log loss: 0.4\n",
    "\n",
    "---\n",
    "\n",
    "**Interpretation**\n",
    "\n",
    "> \n",
    "\n",
    "---"
   ]
  },
  {
   "cell_type": "code",
   "execution_count": null,
   "metadata": {
    "ExecuteTime": {
     "end_time": "2021-09-06T21:56:42.905702Z",
     "start_time": "2021-09-06T21:56:42.738698Z"
    }
   },
   "outputs": [],
   "source": [
    "# gbc = GradientBoostingClassifier(learning_rate=1.0, max_depth=1, random_state=42)\n",
    "\n",
    "# gbc.fit(X_train_tf_df, y_train)"
   ]
  },
  {
   "cell_type": "code",
   "execution_count": null,
   "metadata": {
    "ExecuteTime": {
     "end_time": "2021-09-06T21:56:43.089703Z",
     "start_time": "2021-09-06T21:56:42.912700Z"
    }
   },
   "outputs": [],
   "source": [
    "# clf.evaluate_classification(gbc, X_train = X_train_tf_df, y_train = y_train,\n",
    "#                            X_test = X_test_tf_df, y_test = y_test,\n",
    "#                           metric = 'balanced recall')"
   ]
  },
  {
   "cell_type": "markdown",
   "metadata": {},
   "source": [
    "# **ExtraTreesClassifier**"
   ]
  },
  {
   "cell_type": "markdown",
   "metadata": {},
   "source": [
    "---\n",
    "\n",
    "**Results:**\n",
    "\n",
    "> Training balanced recall score: 1.0\n",
    "> \n",
    "> Testing balanced recall score: 0.87\n",
    "> \n",
    "> * \n",
    ">\n",
    "> Training data log loss: 0.01\n",
    ">\n",
    "> Testing data log loss: 0.33\n",
    "\n",
    "---\n",
    "\n",
    "**Interpretation**\n",
    "\n",
    "> \n",
    "\n",
    "---"
   ]
  },
  {
   "cell_type": "code",
   "execution_count": null,
   "metadata": {
    "ExecuteTime": {
     "end_time": "2021-09-06T21:56:43.292698Z",
     "start_time": "2021-09-06T21:56:43.094705Z"
    }
   },
   "outputs": [],
   "source": [
    "# etc = ExtraTreesClassifier(class_weight = 'balanced', n_jobs=-1, random_state=42)\n",
    "\n",
    "# etc.fit(X_train_tf_df, y_train)"
   ]
  },
  {
   "cell_type": "code",
   "execution_count": null,
   "metadata": {
    "ExecuteTime": {
     "end_time": "2021-09-06T21:56:43.512700Z",
     "start_time": "2021-09-06T21:56:43.296706Z"
    }
   },
   "outputs": [],
   "source": [
    "# clf.evaluate_classification(etc, X_train = X_train_tf_df, y_train = y_train,\n",
    "#                            X_test = X_test_tf_df, y_test = y_test,\n",
    "#                           metric = 'balanced recall')"
   ]
  },
  {
   "cell_type": "markdown",
   "metadata": {},
   "source": [
    "# **XGBoost Classifier**"
   ]
  },
  {
   "cell_type": "markdown",
   "metadata": {},
   "source": [
    "---\n",
    "\n",
    "**Results:**\n",
    "\n",
    "> Training balanced accuracy score: 0.86\n",
    "> \n",
    "> Testing balanced accuracy score: 0.86\n",
    "> \n",
    "> * *The scores are the same size.*\n",
    ">\n",
    "> Training data log loss: 0.24\n",
    ">\n",
    "> Testing data log loss: 0.26\n",
    "\n",
    "---\n",
    "\n",
    "**Interpretation**\n",
    "\n",
    "> \n",
    "\n",
    "---"
   ]
  },
  {
   "cell_type": "code",
   "execution_count": null,
   "metadata": {
    "ExecuteTime": {
     "end_time": "2021-09-06T21:56:43.712699Z",
     "start_time": "2021-09-06T21:56:43.515701Z"
    }
   },
   "outputs": [],
   "source": [
    "# xbgc = XGBClassifier(n_jobs = 4, random_state=42)\n",
    "# xbgc.fit(X = X_train_tf_df, y=y_train)"
   ]
  },
  {
   "cell_type": "code",
   "execution_count": null,
   "metadata": {
    "ExecuteTime": {
     "end_time": "2021-09-06T21:56:43.928702Z",
     "start_time": "2021-09-06T21:56:43.715700Z"
    }
   },
   "outputs": [],
   "source": [
    "# clf.evaluate_classification(xbgc,X_train_tf_df, y_train, X_test_tf_df, y_test,\n",
    "#                             metric= 'balanced accuracy')"
   ]
  },
  {
   "cell_type": "markdown",
   "metadata": {},
   "source": [
    "# **GridSearchCV Results**"
   ]
  },
  {
   "cell_type": "markdown",
   "metadata": {},
   "source": [
    "# -- > 🛑 **FIX**: Rerun w/ KFCV, new data"
   ]
  },
  {
   "cell_type": "markdown",
   "metadata": {},
   "source": [
    "## **GridSearchCV - Logistic Regression**"
   ]
  },
  {
   "cell_type": "markdown",
   "metadata": {},
   "source": [
    "---\n",
    "\n",
    "**Results:**\n",
    "\n",
    "> *Results unavailable - did not run model due to time required*\n",
    "\n",
    "---\n",
    "\n",
    "**Interpretation**\n",
    "\n",
    "> \n",
    "\n",
    "---"
   ]
  },
  {
   "cell_type": "code",
   "execution_count": null,
   "metadata": {
    "ExecuteTime": {
     "end_time": "2021-09-06T21:56:44.111695Z",
     "start_time": "2021-09-06T21:56:43.931699Z"
    }
   },
   "outputs": [],
   "source": [
    "# lr_params = {\n",
    "#  'C': [.001, .01, .1, 1],\n",
    "#     'penalty':['l1', 'l2'],#, 'elasticnet', 'none'],\n",
    "#     'solver':['newton-cg', 'liblinear', 'sag', 'saga', 'lbfgs'],\n",
    "#     'max_iter':[100, 300, 500]}\n",
    "\n",
    "# gscv = GridSearchCV(LogisticRegression(class_weight='balanced'), lr_params,\n",
    "#                     scoring = 'balanced_accuracy', cv=3, n_jobs = -1)\n",
    "# gscv\n",
    "\n",
    "# gscv.fit(X_train_tf_df, y_train)"
   ]
  },
  {
   "cell_type": "code",
   "execution_count": null,
   "metadata": {
    "ExecuteTime": {
     "end_time": "2021-09-06T21:56:44.281698Z",
     "start_time": "2021-09-06T21:56:44.115702Z"
    }
   },
   "outputs": [],
   "source": [
    "# clf.evaluate_classification(gscv.best_estimator_, X_train = X_train_tf_df, y_train = y_train,\n",
    "#                            X_test = X_test_tf_df, y_test = y_test,\n",
    "#                           metric = 'balanced accuracy')"
   ]
  },
  {
   "cell_type": "code",
   "execution_count": null,
   "metadata": {
    "ExecuteTime": {
     "end_time": "2021-09-06T21:56:44.451700Z",
     "start_time": "2021-09-06T21:56:44.284700Z"
    }
   },
   "outputs": [],
   "source": [
    "# logreg_params = gscv.best_params_\n",
    "\n",
    "# logreg_params"
   ]
  },
  {
   "cell_type": "code",
   "execution_count": null,
   "metadata": {
    "ExecuteTime": {
     "end_time": "2021-09-06T21:56:44.685698Z",
     "start_time": "2021-09-06T21:56:44.455701Z"
    }
   },
   "outputs": [],
   "source": [
    "# gscv.best_estimator_"
   ]
  },
  {
   "cell_type": "markdown",
   "metadata": {},
   "source": [
    "## **GSCV - RandomForest**"
   ]
  },
  {
   "cell_type": "markdown",
   "metadata": {},
   "source": [
    "---\n",
    "\n",
    "**Scores**\n",
    "\n",
    "> Training balanced accuracy score: 0.99\n",
    "> \n",
    "> Testing balanced accuracy score: 0.88\n",
    "> \n",
    "> * *The training score is larger by 0.11 points.*\n",
    ">\n",
    "> Training data log loss: 0.10\n",
    ">\n",
    "> Testing data log loss: 0.26\n",
    "\n",
    "---\n",
    "\n",
    "**Best Parameters**\n",
    "\n",
    "> 'criterion': 'entropy'\n",
    "> \n",
    "> 'max_depth': None\n",
    "> \n",
    "> 'min_samples_leaf': 2\n",
    "> \n",
    "> 'min_samples_split': 2\n",
    "\n",
    "**Interpretation**\n",
    "\n",
    "> \n",
    "\n",
    "---"
   ]
  },
  {
   "cell_type": "code",
   "execution_count": null,
   "metadata": {
    "ExecuteTime": {
     "end_time": "2021-09-06T21:56:44.873701Z",
     "start_time": "2021-09-06T21:56:44.688698Z"
    }
   },
   "outputs": [],
   "source": [
    "# rfc_params = {\n",
    "#     'criterion': ['gini', 'entropy'],\n",
    "#     'max_depth': [25,50, None],\n",
    "#     'min_samples_split': [2,3,4],\n",
    "#     'min_samples_leaf': [1,2]\n",
    "# }"
   ]
  },
  {
   "cell_type": "code",
   "execution_count": null,
   "metadata": {
    "ExecuteTime": {
     "end_time": "2021-09-06T21:56:45.090750Z",
     "start_time": "2021-09-06T21:56:44.876699Z"
    },
    "scrolled": true
   },
   "outputs": [],
   "source": [
    "# rfgs = GridSearchCV(RandomForestClassifier(class_weight = 'balanced',\n",
    "#                                            random_state = 42, n_jobs=-1),\n",
    "#                     rfc_params,scoring = 'balanced_accuracy',\n",
    "#                     cv=3,verbose = 4)\n",
    "\n",
    "# rfgs.fit(X_train_tf_df, y_train)"
   ]
  },
  {
   "cell_type": "code",
   "execution_count": null,
   "metadata": {
    "ExecuteTime": {
     "end_time": "2021-09-06T21:56:45.277753Z",
     "start_time": "2021-09-06T21:56:45.093752Z"
    }
   },
   "outputs": [],
   "source": [
    "# rfgs.best_params_"
   ]
  },
  {
   "cell_type": "code",
   "execution_count": null,
   "metadata": {
    "ExecuteTime": {
     "end_time": "2021-09-06T21:56:45.466752Z",
     "start_time": "2021-09-06T21:56:45.281750Z"
    }
   },
   "outputs": [],
   "source": [
    "# rfgs.best_score_"
   ]
  },
  {
   "cell_type": "code",
   "execution_count": null,
   "metadata": {
    "ExecuteTime": {
     "end_time": "2021-09-06T21:56:45.653756Z",
     "start_time": "2021-09-06T21:56:45.469754Z"
    }
   },
   "outputs": [],
   "source": [
    "# rfc_new = rfgs.best_estimator_"
   ]
  },
  {
   "cell_type": "code",
   "execution_count": null,
   "metadata": {
    "ExecuteTime": {
     "end_time": "2021-09-06T21:56:45.841751Z",
     "start_time": "2021-09-06T21:56:45.656754Z"
    }
   },
   "outputs": [],
   "source": [
    "# clf.evaluate_classification(rfc_new, X_train_tf_df, y_train, X_test_tf_df, \n",
    "#                            y_test, 'balanced recall')"
   ]
  },
  {
   "cell_type": "markdown",
   "metadata": {},
   "source": [
    "# Additional Modeling"
   ]
  },
  {
   "cell_type": "markdown",
   "metadata": {},
   "source": [
    "# -- > 🛑 **FIX**: Re-run w/ new data, KFCV"
   ]
  },
  {
   "cell_type": "markdown",
   "metadata": {},
   "source": [
    "## Balanced Bagging Classifier"
   ]
  },
  {
   "cell_type": "markdown",
   "metadata": {},
   "source": [
    "---\n",
    "\n",
    "**MODEL: BalancedBaggingClassifier**\n",
    "\n",
    "**Scores**\n",
    "\n",
    "> Training balanced accuracy score: 0.98\n",
    "> \n",
    "> Testing balanced accuracy score: 0.89\n",
    "> \n",
    "> * *The training score is larger by 0.11 points.*\n",
    ">\n",
    "> Training data log loss: 0.11\n",
    ">\n",
    "> Testing data log loss: 0.30\n",
    "\n",
    "---\n",
    "\n",
    "**Interpretation**\n",
    "\n",
    "> \n",
    "\n",
    "---"
   ]
  },
  {
   "cell_type": "code",
   "execution_count": null,
   "metadata": {
    "ExecuteTime": {
     "end_time": "2021-09-06T21:56:46.043753Z",
     "start_time": "2021-09-06T21:56:45.844754Z"
    }
   },
   "outputs": [],
   "source": [
    "# ## Testing balanced bagging classifier\n",
    "# balanced_bagging = BalancedBaggingClassifier(n_estimators=100, n_jobs=4, random_state=42)\n",
    "\n",
    "# balanced_bagging.fit(X_train_tf_df, y_train)"
   ]
  },
  {
   "cell_type": "code",
   "execution_count": null,
   "metadata": {
    "ExecuteTime": {
     "end_time": "2021-09-06T21:56:46.232752Z",
     "start_time": "2021-09-06T21:56:46.046753Z"
    },
    "scrolled": true
   },
   "outputs": [],
   "source": [
    "# clf.evaluate_classification(balanced_bagging, X_train = X_train_tf_df, y_train = y_train,\n",
    "#                            X_test = X_test_tf_df, y_test = y_test,\n",
    "#                           metric = 'balanced recall')"
   ]
  },
  {
   "cell_type": "markdown",
   "metadata": {},
   "source": [
    "### GSCV: Balanced Bagging"
   ]
  },
  {
   "cell_type": "markdown",
   "metadata": {},
   "source": [
    "---\n",
    "\n",
    "**MODEL:** GridSearchCV - BalancedBaggingClassifier\n",
    "\n",
    "**Scores**\n",
    "\n",
    "> Training balanced accuracy score: 0.96\n",
    "> \n",
    "> Testing balanced accuracy score: 0.89\n",
    "> \n",
    "> * *The training score is larger by 0.07 points.*\n",
    ">\n",
    "> Training data log loss: 0.20\n",
    ">\n",
    "> Testing data log loss: 0.30\n",
    "\n",
    "---\n",
    "\n",
    "**Best Parameters**\n",
    "\n",
    "> 'base_estimator': RandomForestClassifier()\n",
    ">\n",
    "> 'replacement': 'True'\n",
    ">\n",
    "> 'sampling_strategy': 'majority'\n",
    "\n",
    "**Interpretation**\n",
    "\n",
    "> \n",
    "\n",
    "---"
   ]
  },
  {
   "cell_type": "code",
   "execution_count": null,
   "metadata": {
    "ExecuteTime": {
     "end_time": "2021-09-06T21:56:46.421750Z",
     "start_time": "2021-09-06T21:56:46.235749Z"
    }
   },
   "outputs": [],
   "source": [
    "# bal_bag_params = {'base_estimator': [RandomForestClassifier()],\n",
    "#                   'replacement': ['True'],\n",
    "#                   'sampling_strategy': ['majority', 'not minority',\n",
    "#                                         'not majority', 'all']\n",
    "#                  }"
   ]
  },
  {
   "cell_type": "code",
   "execution_count": null,
   "metadata": {
    "ExecuteTime": {
     "end_time": "2021-09-06T21:56:46.577753Z",
     "start_time": "2021-09-06T21:56:46.424751Z"
    }
   },
   "outputs": [],
   "source": [
    "# bbgs = GridSearchCV(BalancedBaggingClassifier(n_jobs=-1,random_state=42), \n",
    "#                     bal_bag_params, scoring = 'balanced_accuracy',\n",
    "#                     cv=3, verbose = 4)\n",
    "\n",
    "# bbgs.fit(X_train_tf_df, y_train)"
   ]
  },
  {
   "cell_type": "code",
   "execution_count": null,
   "metadata": {
    "ExecuteTime": {
     "end_time": "2021-09-06T21:56:46.749749Z",
     "start_time": "2021-09-06T21:56:46.580752Z"
    },
    "scrolled": true
   },
   "outputs": [],
   "source": [
    "# clf.evaluate_classification(bbgs, X_train_tf_df, y_train, X_test_tf_df, \n",
    "#                            y_test, 'balanced accuracy')"
   ]
  },
  {
   "cell_type": "code",
   "execution_count": null,
   "metadata": {
    "ExecuteTime": {
     "end_time": "2021-09-06T21:56:46.906748Z",
     "start_time": "2021-09-06T21:56:46.752753Z"
    }
   },
   "outputs": [],
   "source": [
    "# bbgs_params = bbgs.best_params_\n",
    "\n",
    "# bbgs_params"
   ]
  },
  {
   "cell_type": "markdown",
   "metadata": {},
   "source": [
    "## Testing Balanced Random Forest Classifier"
   ]
  },
  {
   "cell_type": "markdown",
   "metadata": {},
   "source": [
    "---\n",
    "\n",
    "**MODEL: BalancedRandomForestClassifier**\n",
    "\n",
    "**Scores**\n",
    "\n",
    "> Training balanced accuracy score: 0.97\n",
    "> \n",
    "> Testing balanced accuracy score: 0.89\n",
    "> \n",
    "> * *The training score is larger by 0.8 points.*\n",
    ">\n",
    "> Training data log loss: 0.17\n",
    ">\n",
    "> Testing data log loss: 0.30\n",
    "\n",
    "---\n",
    "\n",
    "**Best Parameters**\n",
    "\n",
    "> \n",
    "\n",
    "**Interpretation**\n",
    "\n",
    "> \n",
    "\n",
    "---"
   ]
  },
  {
   "cell_type": "code",
   "execution_count": null,
   "metadata": {
    "ExecuteTime": {
     "end_time": "2021-09-06T21:57:13.648696Z",
     "start_time": "2021-09-06T21:56:46.909751Z"
    }
   },
   "outputs": [],
   "source": [
    "balanced_forest = BalancedRandomForestClassifier(n_jobs = -1, random_state=42)\n",
    "\n",
    "balanced_forest.fit(X_train_tf_df, y_train)"
   ]
  },
  {
   "cell_type": "code",
   "execution_count": null,
   "metadata": {
    "ExecuteTime": {
     "end_time": "2021-09-06T21:57:27.075395Z",
     "start_time": "2021-09-06T21:57:13.651701Z"
    }
   },
   "outputs": [],
   "source": [
    "clf.evaluate_classification(balanced_forest, X_train = X_train_tf_df, y_train = y_train,\n",
    "                           X_test = X_test_tf_df, y_test = y_test,\n",
    "                          metric = 'balanced recall')"
   ]
  },
  {
   "cell_type": "markdown",
   "metadata": {},
   "source": [
    "### GSCV: Balanced Bagging"
   ]
  },
  {
   "cell_type": "markdown",
   "metadata": {},
   "source": [
    "---\n",
    "\n",
    "**MODEL:** GridSearchCV - BalancedBaggingClassifier\n",
    "\n",
    "**Scores**\n",
    "\n",
    "> Training balanced accuracy score: 0.96\n",
    "> \n",
    "> Testing balanced accuracy score: 0.89\n",
    "> \n",
    "> * *The training score is larger by 0.07 points.*\n",
    ">\n",
    "> Training data log loss: 0.20\n",
    ">\n",
    "> Testing data log loss: 0.30\n",
    "\n",
    "---\n",
    "\n",
    "**Best Parameters**\n",
    "\n",
    "> * 'criterion': 'entropy'\n",
    ">\n",
    "> * 'max_features': None\n",
    ">\n",
    "> * 'min_samples_leaf': 1\n",
    ">\n",
    "> * 'min_samples_split': 2\n",
    "\n",
    "**Interpretation**\n",
    "\n",
    "> \n",
    "\n",
    "---"
   ]
  },
  {
   "cell_type": "code",
   "execution_count": null,
   "metadata": {
    "ExecuteTime": {
     "end_time": "2021-09-06T21:57:27.281393Z",
     "start_time": "2021-09-06T21:57:27.078393Z"
    }
   },
   "outputs": [],
   "source": [
    "# brfc_params = {'criterion': ['gini', 'entropy'],\n",
    "#                'min_samples_split': [2, 3, 4],\n",
    "#                'min_samples_leaf': [1,2,3],\n",
    "#                'max_features': ['auto', 'log2', None]\n",
    "#               }"
   ]
  },
  {
   "cell_type": "code",
   "execution_count": null,
   "metadata": {
    "ExecuteTime": {
     "end_time": "2021-09-06T21:57:27.559392Z",
     "start_time": "2021-09-06T21:57:27.284393Z"
    }
   },
   "outputs": [],
   "source": [
    "# brfc = GridSearchCV(BalancedRandomForestClassifier(n_jobs=-1,random_state=42), \n",
    "#                     brfc_params,scoring = 'balanced_accuracy',\n",
    "#                     cv=3,verbose = 3)\n",
    "\n",
    "# brfc.fit(X_train_tf_df, y_train)"
   ]
  },
  {
   "cell_type": "code",
   "execution_count": null,
   "metadata": {
    "ExecuteTime": {
     "end_time": "2021-09-06T21:57:27.729390Z",
     "start_time": "2021-09-06T21:57:27.562392Z"
    },
    "scrolled": true
   },
   "outputs": [],
   "source": [
    "# clf.evaluate_classification(brfc, X_train_tf_df, y_train, X_test_tf_df, \n",
    "#                            y_test, 'balanced accuracy')"
   ]
  },
  {
   "cell_type": "code",
   "execution_count": null,
   "metadata": {
    "ExecuteTime": {
     "end_time": "2021-09-06T21:57:27.903394Z",
     "start_time": "2021-09-06T21:57:27.732393Z"
    }
   },
   "outputs": [],
   "source": [
    "# brfc_params = brfc.best_params_\n",
    "\n",
    "# brfc_params"
   ]
  },
  {
   "cell_type": "markdown",
   "metadata": {},
   "source": [
    "## EasyEnsembleClassifier"
   ]
  },
  {
   "cell_type": "markdown",
   "metadata": {},
   "source": [
    "---\n",
    "\n",
    "**MODEL: EasyEnsembleClassifier**\n",
    "\n",
    "**Scores**\n",
    "\n",
    "> Training balanced accuracy score: 0.86\n",
    "> \n",
    "> Testing balanced accuracy score: 0.85\n",
    "> \n",
    "> * *The training score is larger by 0.01 points.*\n",
    ">\n",
    "> Training data log loss: 0.64\n",
    ">\n",
    "> Testing data log loss: 0.64\n",
    "\n",
    "---\n",
    "\n",
    "**Interpretation**\n",
    "\n",
    "> \n",
    "\n",
    "---"
   ]
  },
  {
   "cell_type": "code",
   "execution_count": null,
   "metadata": {
    "ExecuteTime": {
     "end_time": "2021-09-06T21:57:28.089392Z",
     "start_time": "2021-09-06T21:57:27.907397Z"
    }
   },
   "outputs": [],
   "source": [
    "# easy_ensemble = EasyEnsembleClassifier(n_jobs = -1, random_state=42)\n",
    "\n",
    "# easy_ensemble.fit(X_train_tf_df, y_train)"
   ]
  },
  {
   "cell_type": "code",
   "execution_count": null,
   "metadata": {
    "ExecuteTime": {
     "end_time": "2021-09-06T21:57:28.260399Z",
     "start_time": "2021-09-06T21:57:28.092391Z"
    },
    "scrolled": true
   },
   "outputs": [],
   "source": [
    "# clf.evaluate_classification(easy_ensemble, X_train = X_train_tf_df, y_train = y_train,\n",
    "#                            X_test = X_test_tf_df, y_test = y_test,\n",
    "#                           metric = 'balanced recall')"
   ]
  },
  {
   "cell_type": "markdown",
   "metadata": {},
   "source": [
    "## RUSBoostClassifier"
   ]
  },
  {
   "cell_type": "markdown",
   "metadata": {},
   "source": [
    "---\n",
    "\n",
    "**MODEL: RUSBoostClassifier**\n",
    "\n",
    "**Scores**\n",
    "\n",
    "> Training balanced accuracy score: 0.85\n",
    "> \n",
    "> Testing balanced accuracy score: 0.85\n",
    "> \n",
    "> * *The scores are the same size.*\n",
    ">\n",
    "> Training data log loss: 0.64\n",
    ">\n",
    "> Testing data log loss: 0.64\n",
    "\n",
    "---\n",
    "\n",
    "**Interpretation**\n",
    "\n",
    "> \n",
    "\n",
    "---"
   ]
  },
  {
   "cell_type": "code",
   "execution_count": null,
   "metadata": {
    "ExecuteTime": {
     "end_time": "2021-09-06T21:57:28.433395Z",
     "start_time": "2021-09-06T21:57:28.263394Z"
    }
   },
   "outputs": [],
   "source": [
    "# rus_boost = RUSBoostClassifier(n_estimators=200, algorithm='SAMME.R',\n",
    "#                                random_state=42)\n",
    "\n",
    "# rus_boost.fit(X_train_tf_df, y_train)"
   ]
  },
  {
   "cell_type": "code",
   "execution_count": null,
   "metadata": {
    "ExecuteTime": {
     "end_time": "2021-09-06T21:57:28.638390Z",
     "start_time": "2021-09-06T21:57:28.436394Z"
    },
    "scrolled": true
   },
   "outputs": [],
   "source": [
    "# clf.evaluate_classification(rus_boost, X_train = X_train_tf_df, y_train = y_train,\n",
    "#                            X_test = X_test_tf_df, y_test = y_test,\n",
    "#                           metric = 'balanced recall')"
   ]
  },
  {
   "cell_type": "markdown",
   "metadata": {},
   "source": [
    "# MVP Notes"
   ]
  },
  {
   "cell_type": "markdown",
   "metadata": {},
   "source": [
    "* CLF results - feature importances\n",
    "* feature importances - visualize via SHAP\n"
   ]
  },
  {
   "cell_type": "code",
   "execution_count": null,
   "metadata": {},
   "outputs": [],
   "source": []
  }
 ],
 "metadata": {
  "kernelspec": {
   "display_name": "Python [conda env:learn_env_clone]",
   "language": "python",
   "name": "conda-env-learn_env_clone-py"
  },
  "language_info": {
   "codemirror_mode": {
    "name": "ipython",
    "version": 3
   },
   "file_extension": ".py",
   "mimetype": "text/x-python",
   "name": "python",
   "nbconvert_exporter": "python",
   "pygments_lexer": "ipython3",
   "version": "3.8.5"
  },
  "toc": {
   "base_numbering": 1,
   "nav_menu": {},
   "number_sections": true,
   "sideBar": true,
   "skip_h1_title": false,
   "title_cell": "Table of Contents",
   "title_sidebar": "Contents",
   "toc_cell": false,
   "toc_position": {
    "height": "calc(100% - 180px)",
    "left": "10px",
    "top": "150px",
    "width": "266.6px"
   },
   "toc_section_display": true,
   "toc_window_display": true
  }
 },
 "nbformat": 4,
 "nbformat_minor": 2
}
