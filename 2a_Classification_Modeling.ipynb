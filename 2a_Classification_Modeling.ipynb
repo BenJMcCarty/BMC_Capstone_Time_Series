{
 "cells": [
  {
   "cell_type": "markdown",
   "metadata": {},
   "source": [
    "# **Cancel Culture - Classification Modeling Notebook**"
   ]
  },
  {
   "cell_type": "markdown",
   "metadata": {},
   "source": [
    "---\n",
    "\n",
    "**Author:** Ben McCarty\n",
    "\n",
    "**Capstone Project** - Predicting hotel reservation cancellations; notebook 2/2\n",
    "\n",
    "**Contact:** bmccarty505@gmail.com\n",
    "\n",
    "---"
   ]
  },
  {
   "cell_type": "markdown",
   "metadata": {},
   "source": [
    "---\n",
    "\n",
    "**Post-EDA Modeling Notebook**\n",
    "\n",
    "> After performing my data cleaning and EDA in my prior notebook, I am ready to use the cleaned data to create my predictive models.\n",
    "\n",
    "**The Basics**\n",
    "\n",
    "> I will import the usual packages: Pandas, Numpy, Matplotlib, and Seaborn. Additionally, I have several personal functions that I use during the modeling process.\n",
    "\n",
    "**Modeling**\n",
    "\n",
    "> I will predominantly use tools from the Scikit-Learn library for my modeling, including pre-processing tools, the models themselves, and the GridSearchCV tool to determine the best hyperparameters for my models.\n",
    "\n",
    "**Seeing is Believing**\n",
    "\n",
    "> After developing my models, I will use the Matplotlib and  SHAP packages to generate visualizations of the most impactful features of my best models.\n",
    "\n",
    "**Recommendations**\n",
    "\n",
    "> At the end of my workflow, I will provide recommendations for hotels to predict and minimize their cancellations. Additionally, I will make note of the next steps for this process, including ideas for forecasting cancellations in the future.\n",
    "\n",
    "---"
   ]
  },
  {
   "cell_type": "markdown",
   "metadata": {
    "toc": true
   },
   "source": [
    "<h1>Table of Contents<span class=\"tocSkip\"></span></h1>\n",
    "<div class=\"toc\"><ul class=\"toc-item\"><li><span><a href=\"#Cancel-Culture---Classification-Modeling-Notebook\" data-toc-modified-id=\"Cancel-Culture---Classification-Modeling-Notebook-1\"><span class=\"toc-item-num\">1&nbsp;&nbsp;</span><strong>Cancel Culture - Classification Modeling Notebook</strong></a></span></li><li><span><a href=\"#Imports\" data-toc-modified-id=\"Imports-2\"><span class=\"toc-item-num\">2&nbsp;&nbsp;</span><strong>Imports</strong></a></span><ul class=\"toc-item\"><li><span><a href=\"#Speeding-Up-Scikit-Learn\" data-toc-modified-id=\"Speeding-Up-Scikit-Learn-2.1\"><span class=\"toc-item-num\">2.1&nbsp;&nbsp;</span><em>Speeding-Up Scikit-Learn</em></a></span></li></ul></li><li><span><a href=\"#Reading-the-DataFrames\" data-toc-modified-id=\"Reading-the-DataFrames-3\"><span class=\"toc-item-num\">3&nbsp;&nbsp;</span><strong>Reading the DataFrames</strong></a></span></li><li><span><a href=\"#Train/Test-Split\" data-toc-modified-id=\"Train/Test-Split-4\"><span class=\"toc-item-num\">4&nbsp;&nbsp;</span><strong>Train/Test Split</strong></a></span></li><li><span><a href=\"#Prepping-the-Pipeline\" data-toc-modified-id=\"Prepping-the-Pipeline-5\"><span class=\"toc-item-num\">5&nbsp;&nbsp;</span><strong>Prepping the Pipeline</strong></a></span></li><li><span><a href=\"#Resampling-via-SMOTE\" data-toc-modified-id=\"Resampling-via-SMOTE-6\"><span class=\"toc-item-num\">6&nbsp;&nbsp;</span><strong>Resampling via SMOTE</strong></a></span></li><li><span><a href=\"#Baseline-Model\" data-toc-modified-id=\"Baseline-Model-7\"><span class=\"toc-item-num\">7&nbsp;&nbsp;</span><strong>Baseline Model</strong></a></span></li><li><span><a href=\"#Target-Metric:-Average-Precision\" data-toc-modified-id=\"Target-Metric:-Average-Precision-8\"><span class=\"toc-item-num\">8&nbsp;&nbsp;</span><strong>Target Metric: Average Precision</strong></a></span></li><li><span><a href=\"#Logistic-Regression-Model\" data-toc-modified-id=\"Logistic-Regression-Model-9\"><span class=\"toc-item-num\">9&nbsp;&nbsp;</span><strong>Logistic Regression Model</strong></a></span></li><li><span><a href=\"#Random-Forest-Model\" data-toc-modified-id=\"Random-Forest-Model-10\"><span class=\"toc-item-num\">10&nbsp;&nbsp;</span><strong>Random Forest Model</strong></a></span></li><li><span><a href=\"#ExtraTreesClassifier\" data-toc-modified-id=\"ExtraTreesClassifier-11\"><span class=\"toc-item-num\">11&nbsp;&nbsp;</span><strong>ExtraTreesClassifier</strong></a></span></li><li><span><a href=\"#XGBoost-Classifier\" data-toc-modified-id=\"XGBoost-Classifier-12\"><span class=\"toc-item-num\">12&nbsp;&nbsp;</span><strong>XGBoost Classifier</strong></a></span></li><li><span><a href=\"#GridSearches-and-Results\" data-toc-modified-id=\"GridSearches-and-Results-13\"><span class=\"toc-item-num\">13&nbsp;&nbsp;</span><strong>GridSearches and Results</strong></a></span><ul class=\"toc-item\"><li><span><a href=\"#GS:-Logistic-Regression\" data-toc-modified-id=\"GS:-Logistic-Regression-13.1\"><span class=\"toc-item-num\">13.1&nbsp;&nbsp;</span>GS: Logistic Regression</a></span></li><li><span><a href=\"#GS:-Random-Forest\" data-toc-modified-id=\"GS:-Random-Forest-13.2\"><span class=\"toc-item-num\">13.2&nbsp;&nbsp;</span>GS: Random Forest</a></span></li><li><span><a href=\"#GS:-Extra-Trees-Classifier\" data-toc-modified-id=\"GS:-Extra-Trees-Classifier-13.3\"><span class=\"toc-item-num\">13.3&nbsp;&nbsp;</span>GS: Extra Trees Classifier</a></span></li></ul></li><li><span><a href=\"#Collecting-Coeffcients,-Inspecting-Importances\" data-toc-modified-id=\"Collecting-Coeffcients,-Inspecting-Importances-14\"><span class=\"toc-item-num\">14&nbsp;&nbsp;</span><strong>Collecting Coeffcients, Inspecting Importances</strong></a></span><ul class=\"toc-item\"><li><span><a href=\"#Inspecting-Importances\" data-toc-modified-id=\"Inspecting-Importances-14.1\"><span class=\"toc-item-num\">14.1&nbsp;&nbsp;</span>Inspecting Importances</a></span></li><li><span><a href=\"#Coefficients\" data-toc-modified-id=\"Coefficients-14.2\"><span class=\"toc-item-num\">14.2&nbsp;&nbsp;</span><strong>Coefficients</strong></a></span></li></ul></li><li><span><a href=\"#Interpreting-Results-with-SHAP\" data-toc-modified-id=\"Interpreting-Results-with-SHAP-15\"><span class=\"toc-item-num\">15&nbsp;&nbsp;</span><strong>Interpreting Results with SHAP</strong></a></span><ul class=\"toc-item\"><li><span><a href=\"#Using-TreeExplainer\" data-toc-modified-id=\"Using-TreeExplainer-15.1\"><span class=\"toc-item-num\">15.1&nbsp;&nbsp;</span>Using TreeExplainer</a></span></li><li><span><a href=\"#Dot-Plot\" data-toc-modified-id=\"Dot-Plot-15.2\"><span class=\"toc-item-num\">15.2&nbsp;&nbsp;</span>Dot Plot</a></span></li></ul></li><li><span><a href=\"#Reviewing-Results\" data-toc-modified-id=\"Reviewing-Results-16\"><span class=\"toc-item-num\">16&nbsp;&nbsp;</span>Reviewing Results</a></span></li><li><span><a href=\"#Recommendations\" data-toc-modified-id=\"Recommendations-17\"><span class=\"toc-item-num\">17&nbsp;&nbsp;</span>Recommendations</a></span></li><li><span><a href=\"#Future-Work\" data-toc-modified-id=\"Future-Work-18\"><span class=\"toc-item-num\">18&nbsp;&nbsp;</span>Future Work</a></span></li><li><span><a href=\"#Addendum:-Probabilities\" data-toc-modified-id=\"Addendum:-Probabilities-19\"><span class=\"toc-item-num\">19&nbsp;&nbsp;</span>Addendum: Probabilities</a></span></li></ul></div>"
   ]
  },
  {
   "cell_type": "markdown",
   "metadata": {},
   "source": [
    "# **Imports**"
   ]
  },
  {
   "cell_type": "code",
   "execution_count": 1,
   "metadata": {
    "ExecuteTime": {
     "end_time": "2021-10-27T17:19:47.525715Z",
     "start_time": "2021-10-27T17:19:47.462717Z"
    }
   },
   "outputs": [],
   "source": [
    "## Jupyter Notebook setting to reload functions when called\n",
    "%load_ext autoreload\n",
    "%autoreload 2"
   ]
  },
  {
   "cell_type": "code",
   "execution_count": 2,
   "metadata": {
    "ExecuteTime": {
     "end_time": "2021-10-27T17:20:07.636514Z",
     "start_time": "2021-10-27T17:19:47.529716Z"
    }
   },
   "outputs": [],
   "source": [
    "## Data Handling\n",
    "import pandas as pd\n",
    "import numpy as np\n",
    "\n",
    "## Visualizations\n",
    "import matplotlib.pyplot as plt\n",
    "import seaborn as sns\n",
    "\n",
    "## Visualizing random forest classifier model results\n",
    "import shap\n",
    "\n",
    "## Personal functions\n",
    "from bmc_functions import classification as clf\n",
    "\n",
    "## SKLearn and Modeling Tools\n",
    "from sklearn import metrics\n",
    "from sklearn.preprocessing import OneHotEncoder, StandardScaler\n",
    "from sklearn.model_selection import train_test_split, GridSearchCV\n",
    "from sklearn.impute import SimpleImputer\n",
    "from sklearn.compose import ColumnTransformer\n",
    "from sklearn.pipeline import Pipeline\n",
    "from sklearn.dummy import DummyClassifier\n",
    "from sklearn import set_config\n",
    "from xgboost import XGBClassifier\n",
    "\n",
    "from imblearn.over_sampling import SMOTE"
   ]
  },
  {
   "cell_type": "code",
   "execution_count": 3,
   "metadata": {
    "ExecuteTime": {
     "end_time": "2021-10-27T17:20:08.072514Z",
     "start_time": "2021-10-27T17:20:07.640516Z"
    }
   },
   "outputs": [],
   "source": [
    "## Settings\n",
    "%matplotlib inline\n",
    "sns.set_context(\"paper\", font_scale=1.25)\n",
    "\n",
    "pd.set_option('display.max_columns', 100)\n",
    "pd.set_option('display.float_format', lambda x: f'{x:,.2f}')\n",
    "pd.set_option('max_rows', 50)\n",
    "\n",
    "set_config(display='diagram')"
   ]
  },
  {
   "cell_type": "markdown",
   "metadata": {},
   "source": [
    "## *Speeding-Up Scikit-Learn*"
   ]
  },
  {
   "cell_type": "markdown",
   "metadata": {},
   "source": [
    "---\n",
    "\n",
    "Due to the size of my dataset, the modeling process took a fair amount of time, especially when testing different model types. To improve my models' runtime, I use a package called \"**Intel(R) Extension for Scikit-learn*.**\"\n",
    "\n",
    "This package operates in the background to increase the computational efficiency of certain Scikit-Learn models, including Logistic Regression and Random Forest Classifier models. The package does not affect the model results, though.\n",
    "\n",
    "This package requires the models to be imported after the package itself in order to perform the patching that results in better run-times.\n",
    "\n",
    "---"
   ]
  },
  {
   "cell_type": "code",
   "execution_count": 4,
   "metadata": {
    "ExecuteTime": {
     "end_time": "2021-10-27T17:20:09.536517Z",
     "start_time": "2021-10-27T17:20:08.075515Z"
    }
   },
   "outputs": [
    {
     "name": "stderr",
     "output_type": "stream",
     "text": [
      "Intel(R) Extension for Scikit-learn* enabled (https://github.com/intel/scikit-learn-intelex)\n"
     ]
    }
   ],
   "source": [
    "## Speeding up SKLearn via Intel(R) Extension for Scikit-learn*\n",
    "from sklearnex import patch_sklearn\n",
    "patch_sklearn()"
   ]
  },
  {
   "cell_type": "code",
   "execution_count": 5,
   "metadata": {
    "ExecuteTime": {
     "end_time": "2021-10-27T17:20:09.837523Z",
     "start_time": "2021-10-27T17:20:09.539520Z"
    }
   },
   "outputs": [],
   "source": [
    "## Inmporting models post-sklearn-intelex\n",
    "from sklearn.linear_model import LogisticRegression, LogisticRegressionCV\n",
    "from sklearn.ensemble import RandomForestClassifier\n",
    "from sklearn.ensemble import ExtraTreesClassifier\n",
    "from imblearn.ensemble import BalancedRandomForestClassifier"
   ]
  },
  {
   "cell_type": "markdown",
   "metadata": {},
   "source": [
    "# **Reading the DataFrames**"
   ]
  },
  {
   "cell_type": "markdown",
   "metadata": {},
   "source": [
    "---\n",
    "\n",
    "> In my prior EDA notebook, I reviewed, cleaned, and performed some pre-processing steps to prepare my data separately before modeling. I saved the data as a .pickle file to preserve the datatypes; now I will re-read the data for modeling purposes.\n",
    "\n",
    "---"
   ]
  },
  {
   "cell_type": "code",
   "execution_count": 6,
   "metadata": {
    "ExecuteTime": {
     "end_time": "2021-10-27T17:20:10.482517Z",
     "start_time": "2021-10-27T17:20:09.840518Z"
    },
    "scrolled": true
   },
   "outputs": [
    {
     "data": {
      "text/html": [
       "<div>\n",
       "<style scoped>\n",
       "    .dataframe tbody tr th:only-of-type {\n",
       "        vertical-align: middle;\n",
       "    }\n",
       "\n",
       "    .dataframe tbody tr th {\n",
       "        vertical-align: top;\n",
       "    }\n",
       "\n",
       "    .dataframe thead th {\n",
       "        text-align: right;\n",
       "    }\n",
       "</style>\n",
       "<table border=\"1\" class=\"dataframe\">\n",
       "  <thead>\n",
       "    <tr style=\"text-align: right;\">\n",
       "      <th></th>\n",
       "      <th>hotel</th>\n",
       "      <th>is_canceled</th>\n",
       "      <th>lead_time</th>\n",
       "      <th>arrival_date_month</th>\n",
       "      <th>arrival_date_week_number</th>\n",
       "      <th>arrival_date_day_of_month</th>\n",
       "      <th>stays_in_weekend_nights</th>\n",
       "      <th>stays_in_week_nights</th>\n",
       "      <th>adults</th>\n",
       "      <th>children</th>\n",
       "      <th>babies</th>\n",
       "      <th>meal</th>\n",
       "      <th>country</th>\n",
       "      <th>market_segment</th>\n",
       "      <th>is_repeated_guest</th>\n",
       "      <th>previous_cancellations</th>\n",
       "      <th>previous_bookings_not_canceled</th>\n",
       "      <th>reserved_room_type</th>\n",
       "      <th>assigned_room_type</th>\n",
       "      <th>booking_changes</th>\n",
       "      <th>deposit_type</th>\n",
       "      <th>days_in_waiting_list</th>\n",
       "      <th>customer_type</th>\n",
       "      <th>adr</th>\n",
       "      <th>required_car_parking_spaces</th>\n",
       "      <th>total_of_special_requests</th>\n",
       "      <th>agent_group</th>\n",
       "      <th>arrival_date</th>\n",
       "      <th>arrival_day</th>\n",
       "      <th>stay_length</th>\n",
       "    </tr>\n",
       "  </thead>\n",
       "  <tbody>\n",
       "    <tr>\n",
       "      <th>0</th>\n",
       "      <td>Resort Hotel</td>\n",
       "      <td>0</td>\n",
       "      <td>342</td>\n",
       "      <td>July</td>\n",
       "      <td>27</td>\n",
       "      <td>1</td>\n",
       "      <td>0</td>\n",
       "      <td>0</td>\n",
       "      <td>2</td>\n",
       "      <td>0.00</td>\n",
       "      <td>0</td>\n",
       "      <td>BB</td>\n",
       "      <td>PRT</td>\n",
       "      <td>Direct</td>\n",
       "      <td>0</td>\n",
       "      <td>0</td>\n",
       "      <td>0</td>\n",
       "      <td>C</td>\n",
       "      <td>C</td>\n",
       "      <td>3</td>\n",
       "      <td>No Deposit</td>\n",
       "      <td>0</td>\n",
       "      <td>Transient</td>\n",
       "      <td>0.00</td>\n",
       "      <td>0</td>\n",
       "      <td>0</td>\n",
       "      <td>0</td>\n",
       "      <td>2015-07-01</td>\n",
       "      <td>Wednesday</td>\n",
       "      <td>0</td>\n",
       "    </tr>\n",
       "    <tr>\n",
       "      <th>1</th>\n",
       "      <td>Resort Hotel</td>\n",
       "      <td>0</td>\n",
       "      <td>737</td>\n",
       "      <td>July</td>\n",
       "      <td>27</td>\n",
       "      <td>1</td>\n",
       "      <td>0</td>\n",
       "      <td>0</td>\n",
       "      <td>2</td>\n",
       "      <td>0.00</td>\n",
       "      <td>0</td>\n",
       "      <td>BB</td>\n",
       "      <td>PRT</td>\n",
       "      <td>Direct</td>\n",
       "      <td>0</td>\n",
       "      <td>0</td>\n",
       "      <td>0</td>\n",
       "      <td>C</td>\n",
       "      <td>C</td>\n",
       "      <td>4</td>\n",
       "      <td>No Deposit</td>\n",
       "      <td>0</td>\n",
       "      <td>Transient</td>\n",
       "      <td>0.00</td>\n",
       "      <td>0</td>\n",
       "      <td>0</td>\n",
       "      <td>0</td>\n",
       "      <td>2015-07-01</td>\n",
       "      <td>Wednesday</td>\n",
       "      <td>0</td>\n",
       "    </tr>\n",
       "    <tr>\n",
       "      <th>2</th>\n",
       "      <td>Resort Hotel</td>\n",
       "      <td>0</td>\n",
       "      <td>7</td>\n",
       "      <td>July</td>\n",
       "      <td>27</td>\n",
       "      <td>1</td>\n",
       "      <td>0</td>\n",
       "      <td>1</td>\n",
       "      <td>1</td>\n",
       "      <td>0.00</td>\n",
       "      <td>0</td>\n",
       "      <td>BB</td>\n",
       "      <td>GBR</td>\n",
       "      <td>Direct</td>\n",
       "      <td>0</td>\n",
       "      <td>0</td>\n",
       "      <td>0</td>\n",
       "      <td>A</td>\n",
       "      <td>C</td>\n",
       "      <td>0</td>\n",
       "      <td>No Deposit</td>\n",
       "      <td>0</td>\n",
       "      <td>Transient</td>\n",
       "      <td>75.00</td>\n",
       "      <td>0</td>\n",
       "      <td>0</td>\n",
       "      <td>0</td>\n",
       "      <td>2015-07-01</td>\n",
       "      <td>Wednesday</td>\n",
       "      <td>1</td>\n",
       "    </tr>\n",
       "    <tr>\n",
       "      <th>3</th>\n",
       "      <td>Resort Hotel</td>\n",
       "      <td>0</td>\n",
       "      <td>13</td>\n",
       "      <td>July</td>\n",
       "      <td>27</td>\n",
       "      <td>1</td>\n",
       "      <td>0</td>\n",
       "      <td>1</td>\n",
       "      <td>1</td>\n",
       "      <td>0.00</td>\n",
       "      <td>0</td>\n",
       "      <td>BB</td>\n",
       "      <td>GBR</td>\n",
       "      <td>Corporate</td>\n",
       "      <td>0</td>\n",
       "      <td>0</td>\n",
       "      <td>0</td>\n",
       "      <td>A</td>\n",
       "      <td>A</td>\n",
       "      <td>0</td>\n",
       "      <td>No Deposit</td>\n",
       "      <td>0</td>\n",
       "      <td>Transient</td>\n",
       "      <td>75.00</td>\n",
       "      <td>0</td>\n",
       "      <td>0</td>\n",
       "      <td>999</td>\n",
       "      <td>2015-07-01</td>\n",
       "      <td>Wednesday</td>\n",
       "      <td>1</td>\n",
       "    </tr>\n",
       "    <tr>\n",
       "      <th>4</th>\n",
       "      <td>Resort Hotel</td>\n",
       "      <td>0</td>\n",
       "      <td>14</td>\n",
       "      <td>July</td>\n",
       "      <td>27</td>\n",
       "      <td>1</td>\n",
       "      <td>0</td>\n",
       "      <td>2</td>\n",
       "      <td>2</td>\n",
       "      <td>0.00</td>\n",
       "      <td>0</td>\n",
       "      <td>BB</td>\n",
       "      <td>GBR</td>\n",
       "      <td>Online TA</td>\n",
       "      <td>0</td>\n",
       "      <td>0</td>\n",
       "      <td>0</td>\n",
       "      <td>A</td>\n",
       "      <td>A</td>\n",
       "      <td>0</td>\n",
       "      <td>No Deposit</td>\n",
       "      <td>0</td>\n",
       "      <td>Transient</td>\n",
       "      <td>98.00</td>\n",
       "      <td>0</td>\n",
       "      <td>1</td>\n",
       "      <td>240</td>\n",
       "      <td>2015-07-01</td>\n",
       "      <td>Wednesday</td>\n",
       "      <td>2</td>\n",
       "    </tr>\n",
       "    <tr>\n",
       "      <th>...</th>\n",
       "      <td>...</td>\n",
       "      <td>...</td>\n",
       "      <td>...</td>\n",
       "      <td>...</td>\n",
       "      <td>...</td>\n",
       "      <td>...</td>\n",
       "      <td>...</td>\n",
       "      <td>...</td>\n",
       "      <td>...</td>\n",
       "      <td>...</td>\n",
       "      <td>...</td>\n",
       "      <td>...</td>\n",
       "      <td>...</td>\n",
       "      <td>...</td>\n",
       "      <td>...</td>\n",
       "      <td>...</td>\n",
       "      <td>...</td>\n",
       "      <td>...</td>\n",
       "      <td>...</td>\n",
       "      <td>...</td>\n",
       "      <td>...</td>\n",
       "      <td>...</td>\n",
       "      <td>...</td>\n",
       "      <td>...</td>\n",
       "      <td>...</td>\n",
       "      <td>...</td>\n",
       "      <td>...</td>\n",
       "      <td>...</td>\n",
       "      <td>...</td>\n",
       "      <td>...</td>\n",
       "    </tr>\n",
       "    <tr>\n",
       "      <th>119385</th>\n",
       "      <td>City Hotel</td>\n",
       "      <td>0</td>\n",
       "      <td>23</td>\n",
       "      <td>August</td>\n",
       "      <td>35</td>\n",
       "      <td>30</td>\n",
       "      <td>2</td>\n",
       "      <td>5</td>\n",
       "      <td>2</td>\n",
       "      <td>0.00</td>\n",
       "      <td>0</td>\n",
       "      <td>BB</td>\n",
       "      <td>Other</td>\n",
       "      <td>Offline TA/TO</td>\n",
       "      <td>0</td>\n",
       "      <td>0</td>\n",
       "      <td>0</td>\n",
       "      <td>A</td>\n",
       "      <td>A</td>\n",
       "      <td>0</td>\n",
       "      <td>No Deposit</td>\n",
       "      <td>0</td>\n",
       "      <td>Transient</td>\n",
       "      <td>96.14</td>\n",
       "      <td>0</td>\n",
       "      <td>0</td>\n",
       "      <td>999</td>\n",
       "      <td>2017-08-30</td>\n",
       "      <td>Wednesday</td>\n",
       "      <td>7</td>\n",
       "    </tr>\n",
       "    <tr>\n",
       "      <th>119386</th>\n",
       "      <td>City Hotel</td>\n",
       "      <td>0</td>\n",
       "      <td>102</td>\n",
       "      <td>August</td>\n",
       "      <td>35</td>\n",
       "      <td>31</td>\n",
       "      <td>2</td>\n",
       "      <td>5</td>\n",
       "      <td>3</td>\n",
       "      <td>0.00</td>\n",
       "      <td>0</td>\n",
       "      <td>BB</td>\n",
       "      <td>FRA</td>\n",
       "      <td>Online TA</td>\n",
       "      <td>0</td>\n",
       "      <td>0</td>\n",
       "      <td>0</td>\n",
       "      <td>E</td>\n",
       "      <td>E</td>\n",
       "      <td>0</td>\n",
       "      <td>No Deposit</td>\n",
       "      <td>0</td>\n",
       "      <td>Transient</td>\n",
       "      <td>225.43</td>\n",
       "      <td>0</td>\n",
       "      <td>2</td>\n",
       "      <td>9</td>\n",
       "      <td>2017-08-31</td>\n",
       "      <td>Thursday</td>\n",
       "      <td>7</td>\n",
       "    </tr>\n",
       "    <tr>\n",
       "      <th>119387</th>\n",
       "      <td>City Hotel</td>\n",
       "      <td>0</td>\n",
       "      <td>34</td>\n",
       "      <td>August</td>\n",
       "      <td>35</td>\n",
       "      <td>31</td>\n",
       "      <td>2</td>\n",
       "      <td>5</td>\n",
       "      <td>2</td>\n",
       "      <td>0.00</td>\n",
       "      <td>0</td>\n",
       "      <td>BB</td>\n",
       "      <td>DEU</td>\n",
       "      <td>Online TA</td>\n",
       "      <td>0</td>\n",
       "      <td>0</td>\n",
       "      <td>0</td>\n",
       "      <td>D</td>\n",
       "      <td>D</td>\n",
       "      <td>0</td>\n",
       "      <td>No Deposit</td>\n",
       "      <td>0</td>\n",
       "      <td>Transient</td>\n",
       "      <td>157.71</td>\n",
       "      <td>0</td>\n",
       "      <td>4</td>\n",
       "      <td>9</td>\n",
       "      <td>2017-08-31</td>\n",
       "      <td>Thursday</td>\n",
       "      <td>7</td>\n",
       "    </tr>\n",
       "    <tr>\n",
       "      <th>119388</th>\n",
       "      <td>City Hotel</td>\n",
       "      <td>0</td>\n",
       "      <td>109</td>\n",
       "      <td>August</td>\n",
       "      <td>35</td>\n",
       "      <td>31</td>\n",
       "      <td>2</td>\n",
       "      <td>5</td>\n",
       "      <td>2</td>\n",
       "      <td>0.00</td>\n",
       "      <td>0</td>\n",
       "      <td>BB</td>\n",
       "      <td>GBR</td>\n",
       "      <td>Online TA</td>\n",
       "      <td>0</td>\n",
       "      <td>0</td>\n",
       "      <td>0</td>\n",
       "      <td>A</td>\n",
       "      <td>A</td>\n",
       "      <td>0</td>\n",
       "      <td>No Deposit</td>\n",
       "      <td>0</td>\n",
       "      <td>Transient</td>\n",
       "      <td>104.40</td>\n",
       "      <td>0</td>\n",
       "      <td>0</td>\n",
       "      <td>999</td>\n",
       "      <td>2017-08-31</td>\n",
       "      <td>Thursday</td>\n",
       "      <td>7</td>\n",
       "    </tr>\n",
       "    <tr>\n",
       "      <th>119389</th>\n",
       "      <td>City Hotel</td>\n",
       "      <td>0</td>\n",
       "      <td>205</td>\n",
       "      <td>August</td>\n",
       "      <td>35</td>\n",
       "      <td>29</td>\n",
       "      <td>2</td>\n",
       "      <td>7</td>\n",
       "      <td>2</td>\n",
       "      <td>0.00</td>\n",
       "      <td>0</td>\n",
       "      <td>HB</td>\n",
       "      <td>DEU</td>\n",
       "      <td>Online TA</td>\n",
       "      <td>0</td>\n",
       "      <td>0</td>\n",
       "      <td>0</td>\n",
       "      <td>A</td>\n",
       "      <td>A</td>\n",
       "      <td>0</td>\n",
       "      <td>No Deposit</td>\n",
       "      <td>0</td>\n",
       "      <td>Transient</td>\n",
       "      <td>151.20</td>\n",
       "      <td>0</td>\n",
       "      <td>2</td>\n",
       "      <td>9</td>\n",
       "      <td>2017-08-29</td>\n",
       "      <td>Tuesday</td>\n",
       "      <td>9</td>\n",
       "    </tr>\n",
       "  </tbody>\n",
       "</table>\n",
       "<p>119388 rows × 30 columns</p>\n",
       "</div>"
      ],
      "text/plain": [
       "               hotel  is_canceled  lead_time arrival_date_month  \\\n",
       "0       Resort Hotel            0        342               July   \n",
       "1       Resort Hotel            0        737               July   \n",
       "2       Resort Hotel            0          7               July   \n",
       "3       Resort Hotel            0         13               July   \n",
       "4       Resort Hotel            0         14               July   \n",
       "...              ...          ...        ...                ...   \n",
       "119385    City Hotel            0         23             August   \n",
       "119386    City Hotel            0        102             August   \n",
       "119387    City Hotel            0         34             August   \n",
       "119388    City Hotel            0        109             August   \n",
       "119389    City Hotel            0        205             August   \n",
       "\n",
       "        arrival_date_week_number  arrival_date_day_of_month  \\\n",
       "0                             27                          1   \n",
       "1                             27                          1   \n",
       "2                             27                          1   \n",
       "3                             27                          1   \n",
       "4                             27                          1   \n",
       "...                          ...                        ...   \n",
       "119385                        35                         30   \n",
       "119386                        35                         31   \n",
       "119387                        35                         31   \n",
       "119388                        35                         31   \n",
       "119389                        35                         29   \n",
       "\n",
       "        stays_in_weekend_nights  stays_in_week_nights  adults  children  \\\n",
       "0                             0                     0       2      0.00   \n",
       "1                             0                     0       2      0.00   \n",
       "2                             0                     1       1      0.00   \n",
       "3                             0                     1       1      0.00   \n",
       "4                             0                     2       2      0.00   \n",
       "...                         ...                   ...     ...       ...   \n",
       "119385                        2                     5       2      0.00   \n",
       "119386                        2                     5       3      0.00   \n",
       "119387                        2                     5       2      0.00   \n",
       "119388                        2                     5       2      0.00   \n",
       "119389                        2                     7       2      0.00   \n",
       "\n",
       "        babies meal country market_segment  is_repeated_guest  \\\n",
       "0            0   BB     PRT         Direct                  0   \n",
       "1            0   BB     PRT         Direct                  0   \n",
       "2            0   BB     GBR         Direct                  0   \n",
       "3            0   BB     GBR      Corporate                  0   \n",
       "4            0   BB     GBR      Online TA                  0   \n",
       "...        ...  ...     ...            ...                ...   \n",
       "119385       0   BB   Other  Offline TA/TO                  0   \n",
       "119386       0   BB     FRA      Online TA                  0   \n",
       "119387       0   BB     DEU      Online TA                  0   \n",
       "119388       0   BB     GBR      Online TA                  0   \n",
       "119389       0   HB     DEU      Online TA                  0   \n",
       "\n",
       "        previous_cancellations  previous_bookings_not_canceled  \\\n",
       "0                            0                               0   \n",
       "1                            0                               0   \n",
       "2                            0                               0   \n",
       "3                            0                               0   \n",
       "4                            0                               0   \n",
       "...                        ...                             ...   \n",
       "119385                       0                               0   \n",
       "119386                       0                               0   \n",
       "119387                       0                               0   \n",
       "119388                       0                               0   \n",
       "119389                       0                               0   \n",
       "\n",
       "       reserved_room_type assigned_room_type  booking_changes deposit_type  \\\n",
       "0                       C                  C                3   No Deposit   \n",
       "1                       C                  C                4   No Deposit   \n",
       "2                       A                  C                0   No Deposit   \n",
       "3                       A                  A                0   No Deposit   \n",
       "4                       A                  A                0   No Deposit   \n",
       "...                   ...                ...              ...          ...   \n",
       "119385                  A                  A                0   No Deposit   \n",
       "119386                  E                  E                0   No Deposit   \n",
       "119387                  D                  D                0   No Deposit   \n",
       "119388                  A                  A                0   No Deposit   \n",
       "119389                  A                  A                0   No Deposit   \n",
       "\n",
       "        days_in_waiting_list customer_type    adr  \\\n",
       "0                          0     Transient   0.00   \n",
       "1                          0     Transient   0.00   \n",
       "2                          0     Transient  75.00   \n",
       "3                          0     Transient  75.00   \n",
       "4                          0     Transient  98.00   \n",
       "...                      ...           ...    ...   \n",
       "119385                     0     Transient  96.14   \n",
       "119386                     0     Transient 225.43   \n",
       "119387                     0     Transient 157.71   \n",
       "119388                     0     Transient 104.40   \n",
       "119389                     0     Transient 151.20   \n",
       "\n",
       "        required_car_parking_spaces  total_of_special_requests agent_group  \\\n",
       "0                                 0                          0           0   \n",
       "1                                 0                          0           0   \n",
       "2                                 0                          0           0   \n",
       "3                                 0                          0         999   \n",
       "4                                 0                          1         240   \n",
       "...                             ...                        ...         ...   \n",
       "119385                            0                          0         999   \n",
       "119386                            0                          2           9   \n",
       "119387                            0                          4           9   \n",
       "119388                            0                          0         999   \n",
       "119389                            0                          2           9   \n",
       "\n",
       "       arrival_date arrival_day  stay_length  \n",
       "0        2015-07-01   Wednesday            0  \n",
       "1        2015-07-01   Wednesday            0  \n",
       "2        2015-07-01   Wednesday            1  \n",
       "3        2015-07-01   Wednesday            1  \n",
       "4        2015-07-01   Wednesday            2  \n",
       "...             ...         ...          ...  \n",
       "119385   2017-08-30   Wednesday            7  \n",
       "119386   2017-08-31    Thursday            7  \n",
       "119387   2017-08-31    Thursday            7  \n",
       "119388   2017-08-31    Thursday            7  \n",
       "119389   2017-08-29     Tuesday            9  \n",
       "\n",
       "[119388 rows x 30 columns]"
      ]
     },
     "execution_count": 6,
     "metadata": {},
     "output_type": "execute_result"
    }
   ],
   "source": [
    "data = pd.read_pickle('./data/data_prepped.pickle',\n",
    "                           compression = 'gzip')\n",
    "data"
   ]
  },
  {
   "cell_type": "markdown",
   "metadata": {},
   "source": [
    "# **Train/Test Split**"
   ]
  },
  {
   "cell_type": "markdown",
   "metadata": {},
   "source": [
    "---\n",
    "\n",
    "> Prior to modeling, I will divide my data by a 75/25 split to have post-training validation data as my test set.\n",
    ">\n",
    "> I will use most of the default settings, with the addition of \"stratify = y,\" which will help preserve the class imbalance of the overall dataset in each of the splits.\n",
    "\n",
    "---"
   ]
  },
  {
   "cell_type": "code",
   "execution_count": 7,
   "metadata": {
    "ExecuteTime": {
     "end_time": "2021-10-27T17:20:10.862517Z",
     "start_time": "2021-10-27T17:20:10.485518Z"
    }
   },
   "outputs": [],
   "source": [
    "## Splitting data into features and target variables.\n",
    "target= 'is_canceled'\n",
    "\n",
    "X = data.drop(columns = [target]).copy()\n",
    "y = data[target].copy()"
   ]
  },
  {
   "cell_type": "code",
   "execution_count": 8,
   "metadata": {
    "ExecuteTime": {
     "end_time": "2021-10-27T17:20:11.316517Z",
     "start_time": "2021-10-27T17:20:10.867519Z"
    }
   },
   "outputs": [
    {
     "name": "stdout",
     "output_type": "stream",
     "text": [
      "Missing values for X:\n",
      " hotel                             0\n",
      "lead_time                         0\n",
      "arrival_date_month                0\n",
      "arrival_date_week_number          0\n",
      "arrival_date_day_of_month         0\n",
      "stays_in_weekend_nights           0\n",
      "stays_in_week_nights              0\n",
      "adults                            0\n",
      "children                          0\n",
      "babies                            0\n",
      "meal                              0\n",
      "country                           0\n",
      "market_segment                    0\n",
      "is_repeated_guest                 0\n",
      "previous_cancellations            0\n",
      "previous_bookings_not_canceled    0\n",
      "reserved_room_type                0\n",
      "assigned_room_type                0\n",
      "booking_changes                   0\n",
      "deposit_type                      0\n",
      "days_in_waiting_list              0\n",
      "customer_type                     0\n",
      "adr                               0\n",
      "required_car_parking_spaces       0\n",
      "total_of_special_requests         0\n",
      "agent_group                       0\n",
      "arrival_date                      0\n",
      "arrival_day                       0\n",
      "stay_length                       0\n",
      "dtype: int64\n",
      "\n",
      "Missing values for y: 0\n"
     ]
    }
   ],
   "source": [
    "## Checking for missing values\n",
    "print(f'Missing values for X:\\n {X.isna().sum()}\\n')\n",
    "print(f'Missing values for y: {y.isna().sum()}')"
   ]
  },
  {
   "cell_type": "code",
   "execution_count": 9,
   "metadata": {
    "ExecuteTime": {
     "end_time": "2021-10-27T17:20:11.762517Z",
     "start_time": "2021-10-27T17:20:11.320520Z"
    }
   },
   "outputs": [],
   "source": [
    "## Splitting - stratify to maintain class balance b/t X_train/_test\n",
    "X_train, X_test, y_train, y_test = train_test_split(X, y, test_size = .25, \n",
    "                                                    random_state=42, \n",
    "                                                    stratify=y)"
   ]
  },
  {
   "cell_type": "code",
   "execution_count": 10,
   "metadata": {
    "ExecuteTime": {
     "end_time": "2021-10-27T17:20:12.201522Z",
     "start_time": "2021-10-27T17:20:11.765519Z"
    }
   },
   "outputs": [],
   "source": [
    "## Saving memory by deleting unused X, y\n",
    "del X, y"
   ]
  },
  {
   "cell_type": "markdown",
   "metadata": {},
   "source": [
    "# **Prepping the Pipeline**"
   ]
  },
  {
   "cell_type": "markdown",
   "metadata": {},
   "source": [
    "---\n",
    "    \n",
    "After splitting my data, I will create a pipeline to process my datasets via one-hot encoding and scaling to prepare for modeling.\n",
    "\n",
    "I will use a column transformer to process my categorical features separately from my continuous features. \n",
    "* I will use a OneHotEncoder on the categorical features to convert them into binary features for each category\n",
    "* I will use the StandardScaler transformer to scale my continuous features.\n",
    "\n",
    "---"
   ]
  },
  {
   "cell_type": "code",
   "execution_count": 11,
   "metadata": {
    "ExecuteTime": {
     "end_time": "2021-10-27T17:20:12.673524Z",
     "start_time": "2021-10-27T17:20:12.205527Z"
    }
   },
   "outputs": [
    {
     "data": {
      "text/plain": [
       "['lead_time',\n",
       " 'arrival_date_week_number',\n",
       " 'arrival_date_day_of_month',\n",
       " 'stays_in_weekend_nights',\n",
       " 'stays_in_week_nights',\n",
       " 'adults',\n",
       " 'children',\n",
       " 'babies',\n",
       " 'is_repeated_guest',\n",
       " 'previous_cancellations',\n",
       " 'previous_bookings_not_canceled',\n",
       " 'booking_changes',\n",
       " 'days_in_waiting_list',\n",
       " 'adr',\n",
       " 'required_car_parking_spaces',\n",
       " 'total_of_special_requests',\n",
       " 'stay_length']"
      ]
     },
     "execution_count": 11,
     "metadata": {},
     "output_type": "execute_result"
    }
   ],
   "source": [
    "## Specifying numeric columns for preprocessing\n",
    "num_cols = X_train.select_dtypes('number').columns.to_list()\n",
    "num_cols"
   ]
  },
  {
   "cell_type": "code",
   "execution_count": 12,
   "metadata": {
    "ExecuteTime": {
     "end_time": "2021-10-27T17:20:13.099522Z",
     "start_time": "2021-10-27T17:20:12.676528Z"
    }
   },
   "outputs": [
    {
     "data": {
      "text/plain": [
       "['hotel',\n",
       " 'arrival_date_month',\n",
       " 'meal',\n",
       " 'country',\n",
       " 'market_segment',\n",
       " 'reserved_room_type',\n",
       " 'assigned_room_type',\n",
       " 'deposit_type',\n",
       " 'customer_type',\n",
       " 'agent_group',\n",
       " 'arrival_day']"
      ]
     },
     "execution_count": 12,
     "metadata": {},
     "output_type": "execute_result"
    }
   ],
   "source": [
    "## Specifying numeric columns for preprocessing\n",
    "cat_cols = X_train.select_dtypes(include='object').columns.to_list()\n",
    "cat_cols"
   ]
  },
  {
   "cell_type": "code",
   "execution_count": 13,
   "metadata": {
    "ExecuteTime": {
     "end_time": "2021-10-27T17:20:13.539524Z",
     "start_time": "2021-10-27T17:20:13.102523Z"
    }
   },
   "outputs": [
    {
     "data": {
      "text/html": [
       "<style>div.sk-top-container {color: black;background-color: white;}div.sk-toggleable {background-color: white;}label.sk-toggleable__label {cursor: pointer;display: block;width: 100%;margin-bottom: 0;padding: 0.2em 0.3em;box-sizing: border-box;text-align: center;}div.sk-toggleable__content {max-height: 0;max-width: 0;overflow: hidden;text-align: left;background-color: #f0f8ff;}div.sk-toggleable__content pre {margin: 0.2em;color: black;border-radius: 0.25em;background-color: #f0f8ff;}input.sk-toggleable__control:checked~div.sk-toggleable__content {max-height: 200px;max-width: 100%;overflow: auto;}div.sk-estimator input.sk-toggleable__control:checked~label.sk-toggleable__label {background-color: #d4ebff;}div.sk-label input.sk-toggleable__control:checked~label.sk-toggleable__label {background-color: #d4ebff;}input.sk-hidden--visually {border: 0;clip: rect(1px 1px 1px 1px);clip: rect(1px, 1px, 1px, 1px);height: 1px;margin: -1px;overflow: hidden;padding: 0;position: absolute;width: 1px;}div.sk-estimator {font-family: monospace;background-color: #f0f8ff;margin: 0.25em 0.25em;border: 1px dotted black;border-radius: 0.25em;box-sizing: border-box;}div.sk-estimator:hover {background-color: #d4ebff;}div.sk-parallel-item::after {content: \"\";width: 100%;border-bottom: 1px solid gray;flex-grow: 1;}div.sk-label:hover label.sk-toggleable__label {background-color: #d4ebff;}div.sk-serial::before {content: \"\";position: absolute;border-left: 1px solid gray;box-sizing: border-box;top: 2em;bottom: 0;left: 50%;}div.sk-serial {display: flex;flex-direction: column;align-items: center;background-color: white;}div.sk-item {z-index: 1;}div.sk-parallel {display: flex;align-items: stretch;justify-content: center;background-color: white;}div.sk-parallel-item {display: flex;flex-direction: column;position: relative;background-color: white;}div.sk-parallel-item:first-child::after {align-self: flex-end;width: 50%;}div.sk-parallel-item:last-child::after {align-self: flex-start;width: 50%;}div.sk-parallel-item:only-child::after {width: 0;}div.sk-dashed-wrapped {border: 1px dashed gray;margin: 0.2em;box-sizing: border-box;padding-bottom: 0.1em;background-color: white;position: relative;}div.sk-label label {font-family: monospace;font-weight: bold;background-color: white;display: inline-block;line-height: 1.2em;}div.sk-label-container {position: relative;z-index: 2;text-align: center;}div.sk-container {display: inline-block;position: relative;}</style><div class=\"sk-top-container\"><div class=\"sk-container\"><div class=\"sk-item sk-dashed-wrapped\"><div class=\"sk-label-container\"><div class=\"sk-label sk-toggleable\"><input class=\"sk-toggleable__control sk-hidden--visually\" id=\"a801002f-5664-462a-a12b-8a759830fa1d\" type=\"checkbox\" ><label class=\"sk-toggleable__label\" for=\"a801002f-5664-462a-a12b-8a759830fa1d\">ColumnTransformer</label><div class=\"sk-toggleable__content\"><pre>ColumnTransformer(transformers=[('num',\n",
       "                                 Pipeline(steps=[('scaler', StandardScaler())]),\n",
       "                                 ['lead_time', 'arrival_date_week_number',\n",
       "                                  'arrival_date_day_of_month',\n",
       "                                  'stays_in_weekend_nights',\n",
       "                                  'stays_in_week_nights', 'adults', 'children',\n",
       "                                  'babies', 'is_repeated_guest',\n",
       "                                  'previous_cancellations',\n",
       "                                  'previous_bookings_not_canceled',\n",
       "                                  'booking_changes', 'days_in_waiting_list',\n",
       "                                  'adr', 'required_car_parking_spaces',\n",
       "                                  'total_of_special_requests', 'stay_length']),\n",
       "                                ('cat',\n",
       "                                 Pipeline(steps=[('ohe',\n",
       "                                                  OneHotEncoder(handle_unknown='ignore',\n",
       "                                                                sparse=False))]),\n",
       "                                 ['hotel', 'arrival_date_month', 'meal',\n",
       "                                  'country', 'market_segment',\n",
       "                                  'reserved_room_type', 'assigned_room_type',\n",
       "                                  'deposit_type', 'customer_type',\n",
       "                                  'agent_group', 'arrival_day'])])</pre></div></div></div><div class=\"sk-parallel\"><div class=\"sk-parallel-item\"><div class=\"sk-item\"><div class=\"sk-label-container\"><div class=\"sk-label sk-toggleable\"><input class=\"sk-toggleable__control sk-hidden--visually\" id=\"7e65113f-0aed-438c-ba46-570c34291eb9\" type=\"checkbox\" ><label class=\"sk-toggleable__label\" for=\"7e65113f-0aed-438c-ba46-570c34291eb9\">num</label><div class=\"sk-toggleable__content\"><pre>['lead_time', 'arrival_date_week_number', 'arrival_date_day_of_month', 'stays_in_weekend_nights', 'stays_in_week_nights', 'adults', 'children', 'babies', 'is_repeated_guest', 'previous_cancellations', 'previous_bookings_not_canceled', 'booking_changes', 'days_in_waiting_list', 'adr', 'required_car_parking_spaces', 'total_of_special_requests', 'stay_length']</pre></div></div></div><div class=\"sk-serial\"><div class=\"sk-item\"><div class=\"sk-serial\"><div class=\"sk-item\"><div class=\"sk-estimator sk-toggleable\"><input class=\"sk-toggleable__control sk-hidden--visually\" id=\"f65dbe8d-6bf4-4fd7-892b-df326cb86ef3\" type=\"checkbox\" ><label class=\"sk-toggleable__label\" for=\"f65dbe8d-6bf4-4fd7-892b-df326cb86ef3\">StandardScaler</label><div class=\"sk-toggleable__content\"><pre>StandardScaler()</pre></div></div></div></div></div></div></div></div><div class=\"sk-parallel-item\"><div class=\"sk-item\"><div class=\"sk-label-container\"><div class=\"sk-label sk-toggleable\"><input class=\"sk-toggleable__control sk-hidden--visually\" id=\"74a0d82f-a223-49df-b365-57a560f2e60e\" type=\"checkbox\" ><label class=\"sk-toggleable__label\" for=\"74a0d82f-a223-49df-b365-57a560f2e60e\">cat</label><div class=\"sk-toggleable__content\"><pre>['hotel', 'arrival_date_month', 'meal', 'country', 'market_segment', 'reserved_room_type', 'assigned_room_type', 'deposit_type', 'customer_type', 'agent_group', 'arrival_day']</pre></div></div></div><div class=\"sk-serial\"><div class=\"sk-item\"><div class=\"sk-serial\"><div class=\"sk-item\"><div class=\"sk-estimator sk-toggleable\"><input class=\"sk-toggleable__control sk-hidden--visually\" id=\"9414171b-a313-4693-b9de-9b36e87269f1\" type=\"checkbox\" ><label class=\"sk-toggleable__label\" for=\"9414171b-a313-4693-b9de-9b36e87269f1\">OneHotEncoder</label><div class=\"sk-toggleable__content\"><pre>OneHotEncoder(handle_unknown='ignore', sparse=False)</pre></div></div></div></div></div></div></div></div></div></div></div></div>"
      ],
      "text/plain": [
       "ColumnTransformer(transformers=[('num',\n",
       "                                 Pipeline(steps=[('scaler', StandardScaler())]),\n",
       "                                 ['lead_time', 'arrival_date_week_number',\n",
       "                                  'arrival_date_day_of_month',\n",
       "                                  'stays_in_weekend_nights',\n",
       "                                  'stays_in_week_nights', 'adults', 'children',\n",
       "                                  'babies', 'is_repeated_guest',\n",
       "                                  'previous_cancellations',\n",
       "                                  'previous_bookings_not_canceled',\n",
       "                                  'booking_changes', 'days_in_waiting_list',\n",
       "                                  'adr', 'required_car_parking_spaces',\n",
       "                                  'total_of_special_requests', 'stay_length']),\n",
       "                                ('cat',\n",
       "                                 Pipeline(steps=[('ohe',\n",
       "                                                  OneHotEncoder(handle_unknown='ignore',\n",
       "                                                                sparse=False))]),\n",
       "                                 ['hotel', 'arrival_date_month', 'meal',\n",
       "                                  'country', 'market_segment',\n",
       "                                  'reserved_room_type', 'assigned_room_type',\n",
       "                                  'deposit_type', 'customer_type',\n",
       "                                  'agent_group', 'arrival_day'])])"
      ]
     },
     "execution_count": 13,
     "metadata": {},
     "output_type": "execute_result"
    }
   ],
   "source": [
    "## Creating ColumnTransformer and sub-transformers for imputation and encoding\n",
    "\n",
    "### --- Creating column pipelines --- ###\n",
    "\n",
    "cat_pipe = Pipeline(steps=[('ohe', OneHotEncoder(handle_unknown='ignore',\n",
    "                                                 sparse=False))])\n",
    "\n",
    "num_pipe = Pipeline(steps=[('scaler', StandardScaler())])\n",
    "\n",
    "### --- Instantiating the ColumnTransformer --- ###\n",
    "preprocessor = ColumnTransformer(\n",
    "    transformers=[('num', num_pipe, num_cols),\n",
    "                  ('cat', cat_pipe, cat_cols)])\n",
    "\n",
    "preprocessor"
   ]
  },
  {
   "cell_type": "code",
   "execution_count": 14,
   "metadata": {
    "ExecuteTime": {
     "end_time": "2021-10-27T17:20:15.753524Z",
     "start_time": "2021-10-27T17:20:13.542524Z"
    },
    "scrolled": false
   },
   "outputs": [],
   "source": [
    "## Fitting feature preprocessor\n",
    "preprocessor.fit(X_train)\n",
    "\n",
    "## Getting feature names from OHE\n",
    "ohe_cat_names = preprocessor.named_transformers_['cat'].named_steps['ohe'].get_feature_names(cat_cols)\n",
    "\n",
    "## Generating list for column index\n",
    "final_cols = [*num_cols, *ohe_cat_names]\n",
    "\n",
    "# final_cols"
   ]
  },
  {
   "cell_type": "code",
   "execution_count": 15,
   "metadata": {
    "ExecuteTime": {
     "end_time": "2021-10-27T17:20:16.747526Z",
     "start_time": "2021-10-27T17:20:15.755526Z"
    },
    "scrolled": true
   },
   "outputs": [
    {
     "data": {
      "text/html": [
       "<div>\n",
       "<style scoped>\n",
       "    .dataframe tbody tr th:only-of-type {\n",
       "        vertical-align: middle;\n",
       "    }\n",
       "\n",
       "    .dataframe tbody tr th {\n",
       "        vertical-align: top;\n",
       "    }\n",
       "\n",
       "    .dataframe thead th {\n",
       "        text-align: right;\n",
       "    }\n",
       "</style>\n",
       "<table border=\"1\" class=\"dataframe\">\n",
       "  <thead>\n",
       "    <tr style=\"text-align: right;\">\n",
       "      <th></th>\n",
       "      <th>lead_time</th>\n",
       "      <th>arrival_date_week_number</th>\n",
       "      <th>arrival_date_day_of_month</th>\n",
       "      <th>stays_in_weekend_nights</th>\n",
       "      <th>stays_in_week_nights</th>\n",
       "      <th>adults</th>\n",
       "      <th>children</th>\n",
       "      <th>babies</th>\n",
       "      <th>is_repeated_guest</th>\n",
       "      <th>previous_cancellations</th>\n",
       "      <th>previous_bookings_not_canceled</th>\n",
       "      <th>booking_changes</th>\n",
       "      <th>days_in_waiting_list</th>\n",
       "      <th>adr</th>\n",
       "      <th>required_car_parking_spaces</th>\n",
       "      <th>total_of_special_requests</th>\n",
       "      <th>stay_length</th>\n",
       "      <th>hotel_City Hotel</th>\n",
       "      <th>hotel_Resort Hotel</th>\n",
       "      <th>arrival_date_month_April</th>\n",
       "      <th>arrival_date_month_August</th>\n",
       "      <th>arrival_date_month_December</th>\n",
       "      <th>arrival_date_month_February</th>\n",
       "      <th>arrival_date_month_January</th>\n",
       "      <th>arrival_date_month_July</th>\n",
       "      <th>arrival_date_month_June</th>\n",
       "      <th>arrival_date_month_March</th>\n",
       "      <th>arrival_date_month_May</th>\n",
       "      <th>arrival_date_month_November</th>\n",
       "      <th>arrival_date_month_October</th>\n",
       "      <th>arrival_date_month_September</th>\n",
       "      <th>meal_BB</th>\n",
       "      <th>meal_FB</th>\n",
       "      <th>meal_HB</th>\n",
       "      <th>meal_SC</th>\n",
       "      <th>country_DEU</th>\n",
       "      <th>country_ESP</th>\n",
       "      <th>country_FRA</th>\n",
       "      <th>country_GBR</th>\n",
       "      <th>country_Other</th>\n",
       "      <th>country_PRT</th>\n",
       "      <th>market_segment_Aviation</th>\n",
       "      <th>market_segment_Complementary</th>\n",
       "      <th>market_segment_Corporate</th>\n",
       "      <th>market_segment_Direct</th>\n",
       "      <th>market_segment_Groups</th>\n",
       "      <th>market_segment_Offline TA/TO</th>\n",
       "      <th>market_segment_Online TA</th>\n",
       "      <th>reserved_room_type_A</th>\n",
       "      <th>reserved_room_type_B</th>\n",
       "      <th>reserved_room_type_C</th>\n",
       "      <th>reserved_room_type_D</th>\n",
       "      <th>reserved_room_type_E</th>\n",
       "      <th>reserved_room_type_F</th>\n",
       "      <th>reserved_room_type_G</th>\n",
       "      <th>reserved_room_type_H</th>\n",
       "      <th>reserved_room_type_L</th>\n",
       "      <th>reserved_room_type_P</th>\n",
       "      <th>assigned_room_type_A</th>\n",
       "      <th>assigned_room_type_B</th>\n",
       "      <th>assigned_room_type_C</th>\n",
       "      <th>assigned_room_type_D</th>\n",
       "      <th>assigned_room_type_E</th>\n",
       "      <th>assigned_room_type_F</th>\n",
       "      <th>assigned_room_type_G</th>\n",
       "      <th>assigned_room_type_H</th>\n",
       "      <th>assigned_room_type_I</th>\n",
       "      <th>assigned_room_type_K</th>\n",
       "      <th>assigned_room_type_L</th>\n",
       "      <th>assigned_room_type_P</th>\n",
       "      <th>deposit_type_No Deposit</th>\n",
       "      <th>deposit_type_Non Refund</th>\n",
       "      <th>deposit_type_Refundable</th>\n",
       "      <th>customer_type_Contract</th>\n",
       "      <th>customer_type_Group</th>\n",
       "      <th>customer_type_Transient</th>\n",
       "      <th>customer_type_Transient-Party</th>\n",
       "      <th>agent_group_0</th>\n",
       "      <th>agent_group_1</th>\n",
       "      <th>agent_group_240</th>\n",
       "      <th>agent_group_9</th>\n",
       "      <th>agent_group_999</th>\n",
       "      <th>arrival_day_Friday</th>\n",
       "      <th>arrival_day_Monday</th>\n",
       "      <th>arrival_day_Saturday</th>\n",
       "      <th>arrival_day_Sunday</th>\n",
       "      <th>arrival_day_Thursday</th>\n",
       "      <th>arrival_day_Tuesday</th>\n",
       "      <th>arrival_day_Wednesday</th>\n",
       "    </tr>\n",
       "  </thead>\n",
       "  <tbody>\n",
       "    <tr>\n",
       "      <th>67111</th>\n",
       "      <td>-0.72</td>\n",
       "      <td>-0.75</td>\n",
       "      <td>1.39</td>\n",
       "      <td>0.07</td>\n",
       "      <td>-0.26</td>\n",
       "      <td>0.24</td>\n",
       "      <td>-0.26</td>\n",
       "      <td>-0.08</td>\n",
       "      <td>-0.18</td>\n",
       "      <td>-0.10</td>\n",
       "      <td>-0.09</td>\n",
       "      <td>-0.34</td>\n",
       "      <td>-0.13</td>\n",
       "      <td>0.27</td>\n",
       "      <td>-0.25</td>\n",
       "      <td>0.54</td>\n",
       "      <td>-0.17</td>\n",
       "      <td>1.00</td>\n",
       "      <td>0.00</td>\n",
       "      <td>1.00</td>\n",
       "      <td>0.00</td>\n",
       "      <td>0.00</td>\n",
       "      <td>0.00</td>\n",
       "      <td>0.00</td>\n",
       "      <td>0.00</td>\n",
       "      <td>0.00</td>\n",
       "      <td>0.00</td>\n",
       "      <td>0.00</td>\n",
       "      <td>0.00</td>\n",
       "      <td>0.00</td>\n",
       "      <td>0.00</td>\n",
       "      <td>0.00</td>\n",
       "      <td>0.00</td>\n",
       "      <td>0.00</td>\n",
       "      <td>1.00</td>\n",
       "      <td>0.00</td>\n",
       "      <td>1.00</td>\n",
       "      <td>0.00</td>\n",
       "      <td>0.00</td>\n",
       "      <td>0.00</td>\n",
       "      <td>0.00</td>\n",
       "      <td>0.00</td>\n",
       "      <td>0.00</td>\n",
       "      <td>0.00</td>\n",
       "      <td>0.00</td>\n",
       "      <td>0.00</td>\n",
       "      <td>0.00</td>\n",
       "      <td>1.00</td>\n",
       "      <td>1.00</td>\n",
       "      <td>0.00</td>\n",
       "      <td>0.00</td>\n",
       "      <td>0.00</td>\n",
       "      <td>0.00</td>\n",
       "      <td>0.00</td>\n",
       "      <td>0.00</td>\n",
       "      <td>0.00</td>\n",
       "      <td>0.00</td>\n",
       "      <td>0.00</td>\n",
       "      <td>1.00</td>\n",
       "      <td>0.00</td>\n",
       "      <td>0.00</td>\n",
       "      <td>0.00</td>\n",
       "      <td>0.00</td>\n",
       "      <td>0.00</td>\n",
       "      <td>0.00</td>\n",
       "      <td>0.00</td>\n",
       "      <td>0.00</td>\n",
       "      <td>0.00</td>\n",
       "      <td>0.00</td>\n",
       "      <td>0.00</td>\n",
       "      <td>1.00</td>\n",
       "      <td>0.00</td>\n",
       "      <td>0.00</td>\n",
       "      <td>0.00</td>\n",
       "      <td>0.00</td>\n",
       "      <td>1.00</td>\n",
       "      <td>0.00</td>\n",
       "      <td>0.00</td>\n",
       "      <td>0.00</td>\n",
       "      <td>0.00</td>\n",
       "      <td>1.00</td>\n",
       "      <td>0.00</td>\n",
       "      <td>1.00</td>\n",
       "      <td>0.00</td>\n",
       "      <td>0.00</td>\n",
       "      <td>0.00</td>\n",
       "      <td>0.00</td>\n",
       "      <td>0.00</td>\n",
       "      <td>0.00</td>\n",
       "    </tr>\n",
       "    <tr>\n",
       "      <th>95128</th>\n",
       "      <td>0.42</td>\n",
       "      <td>0.43</td>\n",
       "      <td>-0.43</td>\n",
       "      <td>0.07</td>\n",
       "      <td>-0.26</td>\n",
       "      <td>0.24</td>\n",
       "      <td>4.77</td>\n",
       "      <td>-0.08</td>\n",
       "      <td>-0.18</td>\n",
       "      <td>-0.10</td>\n",
       "      <td>-0.09</td>\n",
       "      <td>-0.34</td>\n",
       "      <td>-0.13</td>\n",
       "      <td>1.94</td>\n",
       "      <td>3.85</td>\n",
       "      <td>0.54</td>\n",
       "      <td>-0.17</td>\n",
       "      <td>1.00</td>\n",
       "      <td>0.00</td>\n",
       "      <td>0.00</td>\n",
       "      <td>1.00</td>\n",
       "      <td>0.00</td>\n",
       "      <td>0.00</td>\n",
       "      <td>0.00</td>\n",
       "      <td>0.00</td>\n",
       "      <td>0.00</td>\n",
       "      <td>0.00</td>\n",
       "      <td>0.00</td>\n",
       "      <td>0.00</td>\n",
       "      <td>0.00</td>\n",
       "      <td>0.00</td>\n",
       "      <td>1.00</td>\n",
       "      <td>0.00</td>\n",
       "      <td>0.00</td>\n",
       "      <td>0.00</td>\n",
       "      <td>0.00</td>\n",
       "      <td>0.00</td>\n",
       "      <td>1.00</td>\n",
       "      <td>0.00</td>\n",
       "      <td>0.00</td>\n",
       "      <td>0.00</td>\n",
       "      <td>0.00</td>\n",
       "      <td>0.00</td>\n",
       "      <td>0.00</td>\n",
       "      <td>0.00</td>\n",
       "      <td>0.00</td>\n",
       "      <td>0.00</td>\n",
       "      <td>1.00</td>\n",
       "      <td>0.00</td>\n",
       "      <td>0.00</td>\n",
       "      <td>0.00</td>\n",
       "      <td>0.00</td>\n",
       "      <td>0.00</td>\n",
       "      <td>1.00</td>\n",
       "      <td>0.00</td>\n",
       "      <td>0.00</td>\n",
       "      <td>0.00</td>\n",
       "      <td>0.00</td>\n",
       "      <td>0.00</td>\n",
       "      <td>0.00</td>\n",
       "      <td>0.00</td>\n",
       "      <td>0.00</td>\n",
       "      <td>0.00</td>\n",
       "      <td>1.00</td>\n",
       "      <td>0.00</td>\n",
       "      <td>0.00</td>\n",
       "      <td>0.00</td>\n",
       "      <td>0.00</td>\n",
       "      <td>0.00</td>\n",
       "      <td>0.00</td>\n",
       "      <td>1.00</td>\n",
       "      <td>0.00</td>\n",
       "      <td>0.00</td>\n",
       "      <td>0.00</td>\n",
       "      <td>0.00</td>\n",
       "      <td>1.00</td>\n",
       "      <td>0.00</td>\n",
       "      <td>0.00</td>\n",
       "      <td>0.00</td>\n",
       "      <td>0.00</td>\n",
       "      <td>1.00</td>\n",
       "      <td>0.00</td>\n",
       "      <td>1.00</td>\n",
       "      <td>0.00</td>\n",
       "      <td>0.00</td>\n",
       "      <td>0.00</td>\n",
       "      <td>0.00</td>\n",
       "      <td>0.00</td>\n",
       "      <td>0.00</td>\n",
       "    </tr>\n",
       "    <tr>\n",
       "      <th>49527</th>\n",
       "      <td>-0.09</td>\n",
       "      <td>-0.82</td>\n",
       "      <td>-0.21</td>\n",
       "      <td>-0.93</td>\n",
       "      <td>0.26</td>\n",
       "      <td>0.24</td>\n",
       "      <td>-0.26</td>\n",
       "      <td>-0.08</td>\n",
       "      <td>-0.18</td>\n",
       "      <td>-0.10</td>\n",
       "      <td>-0.09</td>\n",
       "      <td>2.69</td>\n",
       "      <td>-0.13</td>\n",
       "      <td>0.07</td>\n",
       "      <td>-0.25</td>\n",
       "      <td>-0.72</td>\n",
       "      <td>-0.17</td>\n",
       "      <td>1.00</td>\n",
       "      <td>0.00</td>\n",
       "      <td>1.00</td>\n",
       "      <td>0.00</td>\n",
       "      <td>0.00</td>\n",
       "      <td>0.00</td>\n",
       "      <td>0.00</td>\n",
       "      <td>0.00</td>\n",
       "      <td>0.00</td>\n",
       "      <td>0.00</td>\n",
       "      <td>0.00</td>\n",
       "      <td>0.00</td>\n",
       "      <td>0.00</td>\n",
       "      <td>0.00</td>\n",
       "      <td>1.00</td>\n",
       "      <td>0.00</td>\n",
       "      <td>0.00</td>\n",
       "      <td>0.00</td>\n",
       "      <td>1.00</td>\n",
       "      <td>0.00</td>\n",
       "      <td>0.00</td>\n",
       "      <td>0.00</td>\n",
       "      <td>0.00</td>\n",
       "      <td>0.00</td>\n",
       "      <td>0.00</td>\n",
       "      <td>0.00</td>\n",
       "      <td>0.00</td>\n",
       "      <td>0.00</td>\n",
       "      <td>0.00</td>\n",
       "      <td>0.00</td>\n",
       "      <td>1.00</td>\n",
       "      <td>0.00</td>\n",
       "      <td>0.00</td>\n",
       "      <td>0.00</td>\n",
       "      <td>1.00</td>\n",
       "      <td>0.00</td>\n",
       "      <td>0.00</td>\n",
       "      <td>0.00</td>\n",
       "      <td>0.00</td>\n",
       "      <td>0.00</td>\n",
       "      <td>0.00</td>\n",
       "      <td>0.00</td>\n",
       "      <td>0.00</td>\n",
       "      <td>0.00</td>\n",
       "      <td>1.00</td>\n",
       "      <td>0.00</td>\n",
       "      <td>0.00</td>\n",
       "      <td>0.00</td>\n",
       "      <td>0.00</td>\n",
       "      <td>0.00</td>\n",
       "      <td>0.00</td>\n",
       "      <td>0.00</td>\n",
       "      <td>0.00</td>\n",
       "      <td>1.00</td>\n",
       "      <td>0.00</td>\n",
       "      <td>0.00</td>\n",
       "      <td>0.00</td>\n",
       "      <td>0.00</td>\n",
       "      <td>1.00</td>\n",
       "      <td>0.00</td>\n",
       "      <td>0.00</td>\n",
       "      <td>0.00</td>\n",
       "      <td>0.00</td>\n",
       "      <td>1.00</td>\n",
       "      <td>0.00</td>\n",
       "      <td>0.00</td>\n",
       "      <td>0.00</td>\n",
       "      <td>0.00</td>\n",
       "      <td>0.00</td>\n",
       "      <td>1.00</td>\n",
       "      <td>0.00</td>\n",
       "      <td>0.00</td>\n",
       "    </tr>\n",
       "    <tr>\n",
       "      <th>65871</th>\n",
       "      <td>-0.29</td>\n",
       "      <td>-0.89</td>\n",
       "      <td>-0.77</td>\n",
       "      <td>1.07</td>\n",
       "      <td>-1.31</td>\n",
       "      <td>0.24</td>\n",
       "      <td>-0.26</td>\n",
       "      <td>-0.08</td>\n",
       "      <td>-0.18</td>\n",
       "      <td>-0.10</td>\n",
       "      <td>-0.09</td>\n",
       "      <td>-0.34</td>\n",
       "      <td>0.27</td>\n",
       "      <td>-0.04</td>\n",
       "      <td>-0.25</td>\n",
       "      <td>-0.72</td>\n",
       "      <td>-0.56</td>\n",
       "      <td>1.00</td>\n",
       "      <td>0.00</td>\n",
       "      <td>1.00</td>\n",
       "      <td>0.00</td>\n",
       "      <td>0.00</td>\n",
       "      <td>0.00</td>\n",
       "      <td>0.00</td>\n",
       "      <td>0.00</td>\n",
       "      <td>0.00</td>\n",
       "      <td>0.00</td>\n",
       "      <td>0.00</td>\n",
       "      <td>0.00</td>\n",
       "      <td>0.00</td>\n",
       "      <td>0.00</td>\n",
       "      <td>1.00</td>\n",
       "      <td>0.00</td>\n",
       "      <td>0.00</td>\n",
       "      <td>0.00</td>\n",
       "      <td>0.00</td>\n",
       "      <td>0.00</td>\n",
       "      <td>0.00</td>\n",
       "      <td>0.00</td>\n",
       "      <td>0.00</td>\n",
       "      <td>1.00</td>\n",
       "      <td>0.00</td>\n",
       "      <td>0.00</td>\n",
       "      <td>0.00</td>\n",
       "      <td>0.00</td>\n",
       "      <td>1.00</td>\n",
       "      <td>0.00</td>\n",
       "      <td>0.00</td>\n",
       "      <td>1.00</td>\n",
       "      <td>0.00</td>\n",
       "      <td>0.00</td>\n",
       "      <td>0.00</td>\n",
       "      <td>0.00</td>\n",
       "      <td>0.00</td>\n",
       "      <td>0.00</td>\n",
       "      <td>0.00</td>\n",
       "      <td>0.00</td>\n",
       "      <td>0.00</td>\n",
       "      <td>1.00</td>\n",
       "      <td>0.00</td>\n",
       "      <td>0.00</td>\n",
       "      <td>0.00</td>\n",
       "      <td>0.00</td>\n",
       "      <td>0.00</td>\n",
       "      <td>0.00</td>\n",
       "      <td>0.00</td>\n",
       "      <td>0.00</td>\n",
       "      <td>0.00</td>\n",
       "      <td>0.00</td>\n",
       "      <td>0.00</td>\n",
       "      <td>0.00</td>\n",
       "      <td>1.00</td>\n",
       "      <td>0.00</td>\n",
       "      <td>0.00</td>\n",
       "      <td>0.00</td>\n",
       "      <td>1.00</td>\n",
       "      <td>0.00</td>\n",
       "      <td>1.00</td>\n",
       "      <td>0.00</td>\n",
       "      <td>0.00</td>\n",
       "      <td>0.00</td>\n",
       "      <td>0.00</td>\n",
       "      <td>0.00</td>\n",
       "      <td>0.00</td>\n",
       "      <td>0.00</td>\n",
       "      <td>1.00</td>\n",
       "      <td>0.00</td>\n",
       "      <td>0.00</td>\n",
       "      <td>0.00</td>\n",
       "    </tr>\n",
       "    <tr>\n",
       "      <th>73426</th>\n",
       "      <td>0.68</td>\n",
       "      <td>0.50</td>\n",
       "      <td>0.59</td>\n",
       "      <td>0.07</td>\n",
       "      <td>0.26</td>\n",
       "      <td>0.24</td>\n",
       "      <td>-0.26</td>\n",
       "      <td>-0.08</td>\n",
       "      <td>-0.18</td>\n",
       "      <td>-0.10</td>\n",
       "      <td>-0.09</td>\n",
       "      <td>-0.34</td>\n",
       "      <td>-0.13</td>\n",
       "      <td>-0.06</td>\n",
       "      <td>-0.25</td>\n",
       "      <td>-0.72</td>\n",
       "      <td>0.22</td>\n",
       "      <td>1.00</td>\n",
       "      <td>0.00</td>\n",
       "      <td>0.00</td>\n",
       "      <td>1.00</td>\n",
       "      <td>0.00</td>\n",
       "      <td>0.00</td>\n",
       "      <td>0.00</td>\n",
       "      <td>0.00</td>\n",
       "      <td>0.00</td>\n",
       "      <td>0.00</td>\n",
       "      <td>0.00</td>\n",
       "      <td>0.00</td>\n",
       "      <td>0.00</td>\n",
       "      <td>0.00</td>\n",
       "      <td>0.00</td>\n",
       "      <td>0.00</td>\n",
       "      <td>0.00</td>\n",
       "      <td>1.00</td>\n",
       "      <td>0.00</td>\n",
       "      <td>0.00</td>\n",
       "      <td>1.00</td>\n",
       "      <td>0.00</td>\n",
       "      <td>0.00</td>\n",
       "      <td>0.00</td>\n",
       "      <td>0.00</td>\n",
       "      <td>0.00</td>\n",
       "      <td>0.00</td>\n",
       "      <td>0.00</td>\n",
       "      <td>0.00</td>\n",
       "      <td>0.00</td>\n",
       "      <td>1.00</td>\n",
       "      <td>1.00</td>\n",
       "      <td>0.00</td>\n",
       "      <td>0.00</td>\n",
       "      <td>0.00</td>\n",
       "      <td>0.00</td>\n",
       "      <td>0.00</td>\n",
       "      <td>0.00</td>\n",
       "      <td>0.00</td>\n",
       "      <td>0.00</td>\n",
       "      <td>0.00</td>\n",
       "      <td>1.00</td>\n",
       "      <td>0.00</td>\n",
       "      <td>0.00</td>\n",
       "      <td>0.00</td>\n",
       "      <td>0.00</td>\n",
       "      <td>0.00</td>\n",
       "      <td>0.00</td>\n",
       "      <td>0.00</td>\n",
       "      <td>0.00</td>\n",
       "      <td>0.00</td>\n",
       "      <td>0.00</td>\n",
       "      <td>0.00</td>\n",
       "      <td>1.00</td>\n",
       "      <td>0.00</td>\n",
       "      <td>0.00</td>\n",
       "      <td>0.00</td>\n",
       "      <td>0.00</td>\n",
       "      <td>1.00</td>\n",
       "      <td>0.00</td>\n",
       "      <td>0.00</td>\n",
       "      <td>0.00</td>\n",
       "      <td>0.00</td>\n",
       "      <td>1.00</td>\n",
       "      <td>0.00</td>\n",
       "      <td>0.00</td>\n",
       "      <td>1.00</td>\n",
       "      <td>0.00</td>\n",
       "      <td>0.00</td>\n",
       "      <td>0.00</td>\n",
       "      <td>0.00</td>\n",
       "      <td>0.00</td>\n",
       "    </tr>\n",
       "  </tbody>\n",
       "</table>\n",
       "</div>"
      ],
      "text/plain": [
       "       lead_time  arrival_date_week_number  arrival_date_day_of_month  \\\n",
       "67111      -0.72                     -0.75                       1.39   \n",
       "95128       0.42                      0.43                      -0.43   \n",
       "49527      -0.09                     -0.82                      -0.21   \n",
       "65871      -0.29                     -0.89                      -0.77   \n",
       "73426       0.68                      0.50                       0.59   \n",
       "\n",
       "       stays_in_weekend_nights  stays_in_week_nights  adults  children  \\\n",
       "67111                     0.07                 -0.26    0.24     -0.26   \n",
       "95128                     0.07                 -0.26    0.24      4.77   \n",
       "49527                    -0.93                  0.26    0.24     -0.26   \n",
       "65871                     1.07                 -1.31    0.24     -0.26   \n",
       "73426                     0.07                  0.26    0.24     -0.26   \n",
       "\n",
       "       babies  is_repeated_guest  previous_cancellations  \\\n",
       "67111   -0.08              -0.18                   -0.10   \n",
       "95128   -0.08              -0.18                   -0.10   \n",
       "49527   -0.08              -0.18                   -0.10   \n",
       "65871   -0.08              -0.18                   -0.10   \n",
       "73426   -0.08              -0.18                   -0.10   \n",
       "\n",
       "       previous_bookings_not_canceled  booking_changes  days_in_waiting_list  \\\n",
       "67111                           -0.09            -0.34                 -0.13   \n",
       "95128                           -0.09            -0.34                 -0.13   \n",
       "49527                           -0.09             2.69                 -0.13   \n",
       "65871                           -0.09            -0.34                  0.27   \n",
       "73426                           -0.09            -0.34                 -0.13   \n",
       "\n",
       "        adr  required_car_parking_spaces  total_of_special_requests  \\\n",
       "67111  0.27                        -0.25                       0.54   \n",
       "95128  1.94                         3.85                       0.54   \n",
       "49527  0.07                        -0.25                      -0.72   \n",
       "65871 -0.04                        -0.25                      -0.72   \n",
       "73426 -0.06                        -0.25                      -0.72   \n",
       "\n",
       "       stay_length  hotel_City Hotel  hotel_Resort Hotel  \\\n",
       "67111        -0.17              1.00                0.00   \n",
       "95128        -0.17              1.00                0.00   \n",
       "49527        -0.17              1.00                0.00   \n",
       "65871        -0.56              1.00                0.00   \n",
       "73426         0.22              1.00                0.00   \n",
       "\n",
       "       arrival_date_month_April  arrival_date_month_August  \\\n",
       "67111                      1.00                       0.00   \n",
       "95128                      0.00                       1.00   \n",
       "49527                      1.00                       0.00   \n",
       "65871                      1.00                       0.00   \n",
       "73426                      0.00                       1.00   \n",
       "\n",
       "       arrival_date_month_December  arrival_date_month_February  \\\n",
       "67111                         0.00                         0.00   \n",
       "95128                         0.00                         0.00   \n",
       "49527                         0.00                         0.00   \n",
       "65871                         0.00                         0.00   \n",
       "73426                         0.00                         0.00   \n",
       "\n",
       "       arrival_date_month_January  arrival_date_month_July  \\\n",
       "67111                        0.00                     0.00   \n",
       "95128                        0.00                     0.00   \n",
       "49527                        0.00                     0.00   \n",
       "65871                        0.00                     0.00   \n",
       "73426                        0.00                     0.00   \n",
       "\n",
       "       arrival_date_month_June  arrival_date_month_March  \\\n",
       "67111                     0.00                      0.00   \n",
       "95128                     0.00                      0.00   \n",
       "49527                     0.00                      0.00   \n",
       "65871                     0.00                      0.00   \n",
       "73426                     0.00                      0.00   \n",
       "\n",
       "       arrival_date_month_May  arrival_date_month_November  \\\n",
       "67111                    0.00                         0.00   \n",
       "95128                    0.00                         0.00   \n",
       "49527                    0.00                         0.00   \n",
       "65871                    0.00                         0.00   \n",
       "73426                    0.00                         0.00   \n",
       "\n",
       "       arrival_date_month_October  arrival_date_month_September  meal_BB  \\\n",
       "67111                        0.00                          0.00     0.00   \n",
       "95128                        0.00                          0.00     1.00   \n",
       "49527                        0.00                          0.00     1.00   \n",
       "65871                        0.00                          0.00     1.00   \n",
       "73426                        0.00                          0.00     0.00   \n",
       "\n",
       "       meal_FB  meal_HB  meal_SC  country_DEU  country_ESP  country_FRA  \\\n",
       "67111     0.00     0.00     1.00         0.00         1.00         0.00   \n",
       "95128     0.00     0.00     0.00         0.00         0.00         1.00   \n",
       "49527     0.00     0.00     0.00         1.00         0.00         0.00   \n",
       "65871     0.00     0.00     0.00         0.00         0.00         0.00   \n",
       "73426     0.00     0.00     1.00         0.00         0.00         1.00   \n",
       "\n",
       "       country_GBR  country_Other  country_PRT  market_segment_Aviation  \\\n",
       "67111         0.00           0.00         0.00                     0.00   \n",
       "95128         0.00           0.00         0.00                     0.00   \n",
       "49527         0.00           0.00         0.00                     0.00   \n",
       "65871         0.00           0.00         1.00                     0.00   \n",
       "73426         0.00           0.00         0.00                     0.00   \n",
       "\n",
       "       market_segment_Complementary  market_segment_Corporate  \\\n",
       "67111                          0.00                      0.00   \n",
       "95128                          0.00                      0.00   \n",
       "49527                          0.00                      0.00   \n",
       "65871                          0.00                      0.00   \n",
       "73426                          0.00                      0.00   \n",
       "\n",
       "       market_segment_Direct  market_segment_Groups  \\\n",
       "67111                   0.00                   0.00   \n",
       "95128                   0.00                   0.00   \n",
       "49527                   0.00                   0.00   \n",
       "65871                   0.00                   1.00   \n",
       "73426                   0.00                   0.00   \n",
       "\n",
       "       market_segment_Offline TA/TO  market_segment_Online TA  \\\n",
       "67111                          0.00                      1.00   \n",
       "95128                          0.00                      1.00   \n",
       "49527                          0.00                      1.00   \n",
       "65871                          0.00                      0.00   \n",
       "73426                          0.00                      1.00   \n",
       "\n",
       "       reserved_room_type_A  reserved_room_type_B  reserved_room_type_C  \\\n",
       "67111                  1.00                  0.00                  0.00   \n",
       "95128                  0.00                  0.00                  0.00   \n",
       "49527                  0.00                  0.00                  0.00   \n",
       "65871                  1.00                  0.00                  0.00   \n",
       "73426                  1.00                  0.00                  0.00   \n",
       "\n",
       "       reserved_room_type_D  reserved_room_type_E  reserved_room_type_F  \\\n",
       "67111                  0.00                  0.00                  0.00   \n",
       "95128                  0.00                  0.00                  1.00   \n",
       "49527                  1.00                  0.00                  0.00   \n",
       "65871                  0.00                  0.00                  0.00   \n",
       "73426                  0.00                  0.00                  0.00   \n",
       "\n",
       "       reserved_room_type_G  reserved_room_type_H  reserved_room_type_L  \\\n",
       "67111                  0.00                  0.00                  0.00   \n",
       "95128                  0.00                  0.00                  0.00   \n",
       "49527                  0.00                  0.00                  0.00   \n",
       "65871                  0.00                  0.00                  0.00   \n",
       "73426                  0.00                  0.00                  0.00   \n",
       "\n",
       "       reserved_room_type_P  assigned_room_type_A  assigned_room_type_B  \\\n",
       "67111                  0.00                  1.00                  0.00   \n",
       "95128                  0.00                  0.00                  0.00   \n",
       "49527                  0.00                  0.00                  0.00   \n",
       "65871                  0.00                  1.00                  0.00   \n",
       "73426                  0.00                  1.00                  0.00   \n",
       "\n",
       "       assigned_room_type_C  assigned_room_type_D  assigned_room_type_E  \\\n",
       "67111                  0.00                  0.00                  0.00   \n",
       "95128                  0.00                  0.00                  0.00   \n",
       "49527                  0.00                  1.00                  0.00   \n",
       "65871                  0.00                  0.00                  0.00   \n",
       "73426                  0.00                  0.00                  0.00   \n",
       "\n",
       "       assigned_room_type_F  assigned_room_type_G  assigned_room_type_H  \\\n",
       "67111                  0.00                  0.00                  0.00   \n",
       "95128                  1.00                  0.00                  0.00   \n",
       "49527                  0.00                  0.00                  0.00   \n",
       "65871                  0.00                  0.00                  0.00   \n",
       "73426                  0.00                  0.00                  0.00   \n",
       "\n",
       "       assigned_room_type_I  assigned_room_type_K  assigned_room_type_L  \\\n",
       "67111                  0.00                  0.00                  0.00   \n",
       "95128                  0.00                  0.00                  0.00   \n",
       "49527                  0.00                  0.00                  0.00   \n",
       "65871                  0.00                  0.00                  0.00   \n",
       "73426                  0.00                  0.00                  0.00   \n",
       "\n",
       "       assigned_room_type_P  deposit_type_No Deposit  deposit_type_Non Refund  \\\n",
       "67111                  0.00                     1.00                     0.00   \n",
       "95128                  0.00                     1.00                     0.00   \n",
       "49527                  0.00                     1.00                     0.00   \n",
       "65871                  0.00                     0.00                     1.00   \n",
       "73426                  0.00                     1.00                     0.00   \n",
       "\n",
       "       deposit_type_Refundable  customer_type_Contract  customer_type_Group  \\\n",
       "67111                     0.00                    0.00                 0.00   \n",
       "95128                     0.00                    0.00                 0.00   \n",
       "49527                     0.00                    0.00                 0.00   \n",
       "65871                     0.00                    0.00                 0.00   \n",
       "73426                     0.00                    0.00                 0.00   \n",
       "\n",
       "       customer_type_Transient  customer_type_Transient-Party  agent_group_0  \\\n",
       "67111                     1.00                           0.00           0.00   \n",
       "95128                     1.00                           0.00           0.00   \n",
       "49527                     1.00                           0.00           0.00   \n",
       "65871                     1.00                           0.00           1.00   \n",
       "73426                     1.00                           0.00           0.00   \n",
       "\n",
       "       agent_group_1  agent_group_240  agent_group_9  agent_group_999  \\\n",
       "67111           0.00             0.00           1.00             0.00   \n",
       "95128           0.00             0.00           1.00             0.00   \n",
       "49527           0.00             0.00           1.00             0.00   \n",
       "65871           0.00             0.00           0.00             0.00   \n",
       "73426           0.00             0.00           1.00             0.00   \n",
       "\n",
       "       arrival_day_Friday  arrival_day_Monday  arrival_day_Saturday  \\\n",
       "67111                1.00                0.00                  0.00   \n",
       "95128                1.00                0.00                  0.00   \n",
       "49527                0.00                0.00                  0.00   \n",
       "65871                0.00                0.00                  0.00   \n",
       "73426                0.00                1.00                  0.00   \n",
       "\n",
       "       arrival_day_Sunday  arrival_day_Thursday  arrival_day_Tuesday  \\\n",
       "67111                0.00                  0.00                 0.00   \n",
       "95128                0.00                  0.00                 0.00   \n",
       "49527                0.00                  1.00                 0.00   \n",
       "65871                1.00                  0.00                 0.00   \n",
       "73426                0.00                  0.00                 0.00   \n",
       "\n",
       "       arrival_day_Wednesday  \n",
       "67111                   0.00  \n",
       "95128                   0.00  \n",
       "49527                   0.00  \n",
       "65871                   0.00  \n",
       "73426                   0.00  "
      ]
     },
     "metadata": {},
     "output_type": "display_data"
    },
    {
     "data": {
      "text/html": [
       "<div>\n",
       "<style scoped>\n",
       "    .dataframe tbody tr th:only-of-type {\n",
       "        vertical-align: middle;\n",
       "    }\n",
       "\n",
       "    .dataframe tbody tr th {\n",
       "        vertical-align: top;\n",
       "    }\n",
       "\n",
       "    .dataframe thead th {\n",
       "        text-align: right;\n",
       "    }\n",
       "</style>\n",
       "<table border=\"1\" class=\"dataframe\">\n",
       "  <thead>\n",
       "    <tr style=\"text-align: right;\">\n",
       "      <th></th>\n",
       "      <th>lead_time</th>\n",
       "      <th>arrival_date_week_number</th>\n",
       "      <th>arrival_date_day_of_month</th>\n",
       "      <th>stays_in_weekend_nights</th>\n",
       "      <th>stays_in_week_nights</th>\n",
       "      <th>adults</th>\n",
       "      <th>children</th>\n",
       "      <th>babies</th>\n",
       "      <th>is_repeated_guest</th>\n",
       "      <th>previous_cancellations</th>\n",
       "      <th>previous_bookings_not_canceled</th>\n",
       "      <th>booking_changes</th>\n",
       "      <th>days_in_waiting_list</th>\n",
       "      <th>adr</th>\n",
       "      <th>required_car_parking_spaces</th>\n",
       "      <th>total_of_special_requests</th>\n",
       "      <th>stay_length</th>\n",
       "      <th>hotel_City Hotel</th>\n",
       "      <th>hotel_Resort Hotel</th>\n",
       "      <th>arrival_date_month_April</th>\n",
       "      <th>arrival_date_month_August</th>\n",
       "      <th>arrival_date_month_December</th>\n",
       "      <th>arrival_date_month_February</th>\n",
       "      <th>arrival_date_month_January</th>\n",
       "      <th>arrival_date_month_July</th>\n",
       "      <th>arrival_date_month_June</th>\n",
       "      <th>arrival_date_month_March</th>\n",
       "      <th>arrival_date_month_May</th>\n",
       "      <th>arrival_date_month_November</th>\n",
       "      <th>arrival_date_month_October</th>\n",
       "      <th>arrival_date_month_September</th>\n",
       "      <th>meal_BB</th>\n",
       "      <th>meal_FB</th>\n",
       "      <th>meal_HB</th>\n",
       "      <th>meal_SC</th>\n",
       "      <th>country_DEU</th>\n",
       "      <th>country_ESP</th>\n",
       "      <th>country_FRA</th>\n",
       "      <th>country_GBR</th>\n",
       "      <th>country_Other</th>\n",
       "      <th>country_PRT</th>\n",
       "      <th>market_segment_Aviation</th>\n",
       "      <th>market_segment_Complementary</th>\n",
       "      <th>market_segment_Corporate</th>\n",
       "      <th>market_segment_Direct</th>\n",
       "      <th>market_segment_Groups</th>\n",
       "      <th>market_segment_Offline TA/TO</th>\n",
       "      <th>market_segment_Online TA</th>\n",
       "      <th>reserved_room_type_A</th>\n",
       "      <th>reserved_room_type_B</th>\n",
       "      <th>reserved_room_type_C</th>\n",
       "      <th>reserved_room_type_D</th>\n",
       "      <th>reserved_room_type_E</th>\n",
       "      <th>reserved_room_type_F</th>\n",
       "      <th>reserved_room_type_G</th>\n",
       "      <th>reserved_room_type_H</th>\n",
       "      <th>reserved_room_type_L</th>\n",
       "      <th>reserved_room_type_P</th>\n",
       "      <th>assigned_room_type_A</th>\n",
       "      <th>assigned_room_type_B</th>\n",
       "      <th>assigned_room_type_C</th>\n",
       "      <th>assigned_room_type_D</th>\n",
       "      <th>assigned_room_type_E</th>\n",
       "      <th>assigned_room_type_F</th>\n",
       "      <th>assigned_room_type_G</th>\n",
       "      <th>assigned_room_type_H</th>\n",
       "      <th>assigned_room_type_I</th>\n",
       "      <th>assigned_room_type_K</th>\n",
       "      <th>assigned_room_type_L</th>\n",
       "      <th>assigned_room_type_P</th>\n",
       "      <th>deposit_type_No Deposit</th>\n",
       "      <th>deposit_type_Non Refund</th>\n",
       "      <th>deposit_type_Refundable</th>\n",
       "      <th>customer_type_Contract</th>\n",
       "      <th>customer_type_Group</th>\n",
       "      <th>customer_type_Transient</th>\n",
       "      <th>customer_type_Transient-Party</th>\n",
       "      <th>agent_group_0</th>\n",
       "      <th>agent_group_1</th>\n",
       "      <th>agent_group_240</th>\n",
       "      <th>agent_group_9</th>\n",
       "      <th>agent_group_999</th>\n",
       "      <th>arrival_day_Friday</th>\n",
       "      <th>arrival_day_Monday</th>\n",
       "      <th>arrival_day_Saturday</th>\n",
       "      <th>arrival_day_Sunday</th>\n",
       "      <th>arrival_day_Thursday</th>\n",
       "      <th>arrival_day_Tuesday</th>\n",
       "      <th>arrival_day_Wednesday</th>\n",
       "    </tr>\n",
       "  </thead>\n",
       "  <tbody>\n",
       "    <tr>\n",
       "      <th>34262</th>\n",
       "      <td>-0.50</td>\n",
       "      <td>-1.19</td>\n",
       "      <td>-0.32</td>\n",
       "      <td>0.07</td>\n",
       "      <td>0.79</td>\n",
       "      <td>0.24</td>\n",
       "      <td>-0.26</td>\n",
       "      <td>-0.08</td>\n",
       "      <td>-0.18</td>\n",
       "      <td>-0.10</td>\n",
       "      <td>-0.09</td>\n",
       "      <td>1.18</td>\n",
       "      <td>-0.13</td>\n",
       "      <td>-0.66</td>\n",
       "      <td>-0.25</td>\n",
       "      <td>0.54</td>\n",
       "      <td>0.61</td>\n",
       "      <td>0.00</td>\n",
       "      <td>1.00</td>\n",
       "      <td>0.00</td>\n",
       "      <td>0.00</td>\n",
       "      <td>0.00</td>\n",
       "      <td>0.00</td>\n",
       "      <td>0.00</td>\n",
       "      <td>0.00</td>\n",
       "      <td>0.00</td>\n",
       "      <td>1.00</td>\n",
       "      <td>0.00</td>\n",
       "      <td>0.00</td>\n",
       "      <td>0.00</td>\n",
       "      <td>0.00</td>\n",
       "      <td>1.00</td>\n",
       "      <td>0.00</td>\n",
       "      <td>0.00</td>\n",
       "      <td>0.00</td>\n",
       "      <td>0.00</td>\n",
       "      <td>0.00</td>\n",
       "      <td>0.00</td>\n",
       "      <td>0.00</td>\n",
       "      <td>1.00</td>\n",
       "      <td>0.00</td>\n",
       "      <td>0.00</td>\n",
       "      <td>0.00</td>\n",
       "      <td>0.00</td>\n",
       "      <td>0.00</td>\n",
       "      <td>0.00</td>\n",
       "      <td>0.00</td>\n",
       "      <td>1.00</td>\n",
       "      <td>0.00</td>\n",
       "      <td>0.00</td>\n",
       "      <td>0.00</td>\n",
       "      <td>1.00</td>\n",
       "      <td>0.00</td>\n",
       "      <td>0.00</td>\n",
       "      <td>0.00</td>\n",
       "      <td>0.00</td>\n",
       "      <td>0.00</td>\n",
       "      <td>0.00</td>\n",
       "      <td>0.00</td>\n",
       "      <td>0.00</td>\n",
       "      <td>0.00</td>\n",
       "      <td>1.00</td>\n",
       "      <td>0.00</td>\n",
       "      <td>0.00</td>\n",
       "      <td>0.00</td>\n",
       "      <td>0.00</td>\n",
       "      <td>0.00</td>\n",
       "      <td>0.00</td>\n",
       "      <td>0.00</td>\n",
       "      <td>0.00</td>\n",
       "      <td>1.00</td>\n",
       "      <td>0.00</td>\n",
       "      <td>0.00</td>\n",
       "      <td>0.00</td>\n",
       "      <td>0.00</td>\n",
       "      <td>1.00</td>\n",
       "      <td>0.00</td>\n",
       "      <td>0.00</td>\n",
       "      <td>0.00</td>\n",
       "      <td>0.00</td>\n",
       "      <td>0.00</td>\n",
       "      <td>1.00</td>\n",
       "      <td>0.00</td>\n",
       "      <td>1.00</td>\n",
       "      <td>0.00</td>\n",
       "      <td>0.00</td>\n",
       "      <td>0.00</td>\n",
       "      <td>0.00</td>\n",
       "      <td>0.00</td>\n",
       "    </tr>\n",
       "    <tr>\n",
       "      <th>78954</th>\n",
       "      <td>-0.94</td>\n",
       "      <td>-1.70</td>\n",
       "      <td>0.70</td>\n",
       "      <td>-0.93</td>\n",
       "      <td>-0.79</td>\n",
       "      <td>-1.45</td>\n",
       "      <td>-0.26</td>\n",
       "      <td>-0.08</td>\n",
       "      <td>5.54</td>\n",
       "      <td>-0.10</td>\n",
       "      <td>4.57</td>\n",
       "      <td>-0.34</td>\n",
       "      <td>-0.13</td>\n",
       "      <td>-0.74</td>\n",
       "      <td>-0.25</td>\n",
       "      <td>-0.72</td>\n",
       "      <td>-0.95</td>\n",
       "      <td>1.00</td>\n",
       "      <td>0.00</td>\n",
       "      <td>0.00</td>\n",
       "      <td>0.00</td>\n",
       "      <td>0.00</td>\n",
       "      <td>0.00</td>\n",
       "      <td>1.00</td>\n",
       "      <td>0.00</td>\n",
       "      <td>0.00</td>\n",
       "      <td>0.00</td>\n",
       "      <td>0.00</td>\n",
       "      <td>0.00</td>\n",
       "      <td>0.00</td>\n",
       "      <td>0.00</td>\n",
       "      <td>1.00</td>\n",
       "      <td>0.00</td>\n",
       "      <td>0.00</td>\n",
       "      <td>0.00</td>\n",
       "      <td>0.00</td>\n",
       "      <td>0.00</td>\n",
       "      <td>0.00</td>\n",
       "      <td>0.00</td>\n",
       "      <td>0.00</td>\n",
       "      <td>1.00</td>\n",
       "      <td>0.00</td>\n",
       "      <td>0.00</td>\n",
       "      <td>1.00</td>\n",
       "      <td>0.00</td>\n",
       "      <td>0.00</td>\n",
       "      <td>0.00</td>\n",
       "      <td>0.00</td>\n",
       "      <td>1.00</td>\n",
       "      <td>0.00</td>\n",
       "      <td>0.00</td>\n",
       "      <td>0.00</td>\n",
       "      <td>0.00</td>\n",
       "      <td>0.00</td>\n",
       "      <td>0.00</td>\n",
       "      <td>0.00</td>\n",
       "      <td>0.00</td>\n",
       "      <td>0.00</td>\n",
       "      <td>1.00</td>\n",
       "      <td>0.00</td>\n",
       "      <td>0.00</td>\n",
       "      <td>0.00</td>\n",
       "      <td>0.00</td>\n",
       "      <td>0.00</td>\n",
       "      <td>0.00</td>\n",
       "      <td>0.00</td>\n",
       "      <td>0.00</td>\n",
       "      <td>0.00</td>\n",
       "      <td>0.00</td>\n",
       "      <td>0.00</td>\n",
       "      <td>1.00</td>\n",
       "      <td>0.00</td>\n",
       "      <td>0.00</td>\n",
       "      <td>0.00</td>\n",
       "      <td>0.00</td>\n",
       "      <td>1.00</td>\n",
       "      <td>0.00</td>\n",
       "      <td>1.00</td>\n",
       "      <td>0.00</td>\n",
       "      <td>0.00</td>\n",
       "      <td>0.00</td>\n",
       "      <td>0.00</td>\n",
       "      <td>1.00</td>\n",
       "      <td>0.00</td>\n",
       "      <td>0.00</td>\n",
       "      <td>0.00</td>\n",
       "      <td>0.00</td>\n",
       "      <td>0.00</td>\n",
       "      <td>0.00</td>\n",
       "    </tr>\n",
       "    <tr>\n",
       "      <th>5004</th>\n",
       "      <td>0.60</td>\n",
       "      <td>-0.82</td>\n",
       "      <td>-0.43</td>\n",
       "      <td>-0.93</td>\n",
       "      <td>-0.26</td>\n",
       "      <td>0.24</td>\n",
       "      <td>-0.26</td>\n",
       "      <td>-0.08</td>\n",
       "      <td>-0.18</td>\n",
       "      <td>-0.10</td>\n",
       "      <td>-0.09</td>\n",
       "      <td>-0.34</td>\n",
       "      <td>-0.13</td>\n",
       "      <td>-0.33</td>\n",
       "      <td>-0.25</td>\n",
       "      <td>-0.72</td>\n",
       "      <td>-0.56</td>\n",
       "      <td>0.00</td>\n",
       "      <td>1.00</td>\n",
       "      <td>1.00</td>\n",
       "      <td>0.00</td>\n",
       "      <td>0.00</td>\n",
       "      <td>0.00</td>\n",
       "      <td>0.00</td>\n",
       "      <td>0.00</td>\n",
       "      <td>0.00</td>\n",
       "      <td>0.00</td>\n",
       "      <td>0.00</td>\n",
       "      <td>0.00</td>\n",
       "      <td>0.00</td>\n",
       "      <td>0.00</td>\n",
       "      <td>0.00</td>\n",
       "      <td>0.00</td>\n",
       "      <td>1.00</td>\n",
       "      <td>0.00</td>\n",
       "      <td>0.00</td>\n",
       "      <td>0.00</td>\n",
       "      <td>0.00</td>\n",
       "      <td>0.00</td>\n",
       "      <td>0.00</td>\n",
       "      <td>1.00</td>\n",
       "      <td>0.00</td>\n",
       "      <td>0.00</td>\n",
       "      <td>0.00</td>\n",
       "      <td>0.00</td>\n",
       "      <td>1.00</td>\n",
       "      <td>0.00</td>\n",
       "      <td>0.00</td>\n",
       "      <td>1.00</td>\n",
       "      <td>0.00</td>\n",
       "      <td>0.00</td>\n",
       "      <td>0.00</td>\n",
       "      <td>0.00</td>\n",
       "      <td>0.00</td>\n",
       "      <td>0.00</td>\n",
       "      <td>0.00</td>\n",
       "      <td>0.00</td>\n",
       "      <td>0.00</td>\n",
       "      <td>1.00</td>\n",
       "      <td>0.00</td>\n",
       "      <td>0.00</td>\n",
       "      <td>0.00</td>\n",
       "      <td>0.00</td>\n",
       "      <td>0.00</td>\n",
       "      <td>0.00</td>\n",
       "      <td>0.00</td>\n",
       "      <td>0.00</td>\n",
       "      <td>0.00</td>\n",
       "      <td>0.00</td>\n",
       "      <td>0.00</td>\n",
       "      <td>0.00</td>\n",
       "      <td>1.00</td>\n",
       "      <td>0.00</td>\n",
       "      <td>0.00</td>\n",
       "      <td>0.00</td>\n",
       "      <td>1.00</td>\n",
       "      <td>0.00</td>\n",
       "      <td>0.00</td>\n",
       "      <td>0.00</td>\n",
       "      <td>0.00</td>\n",
       "      <td>0.00</td>\n",
       "      <td>1.00</td>\n",
       "      <td>0.00</td>\n",
       "      <td>0.00</td>\n",
       "      <td>0.00</td>\n",
       "      <td>0.00</td>\n",
       "      <td>0.00</td>\n",
       "      <td>1.00</td>\n",
       "      <td>0.00</td>\n",
       "    </tr>\n",
       "    <tr>\n",
       "      <th>18267</th>\n",
       "      <td>-0.62</td>\n",
       "      <td>1.38</td>\n",
       "      <td>-0.89</td>\n",
       "      <td>1.07</td>\n",
       "      <td>1.31</td>\n",
       "      <td>-1.45</td>\n",
       "      <td>-0.26</td>\n",
       "      <td>-0.08</td>\n",
       "      <td>-0.18</td>\n",
       "      <td>-0.10</td>\n",
       "      <td>-0.09</td>\n",
       "      <td>1.18</td>\n",
       "      <td>-0.13</td>\n",
       "      <td>-1.37</td>\n",
       "      <td>-0.25</td>\n",
       "      <td>-0.72</td>\n",
       "      <td>1.39</td>\n",
       "      <td>0.00</td>\n",
       "      <td>1.00</td>\n",
       "      <td>0.00</td>\n",
       "      <td>0.00</td>\n",
       "      <td>0.00</td>\n",
       "      <td>0.00</td>\n",
       "      <td>0.00</td>\n",
       "      <td>0.00</td>\n",
       "      <td>0.00</td>\n",
       "      <td>0.00</td>\n",
       "      <td>0.00</td>\n",
       "      <td>1.00</td>\n",
       "      <td>0.00</td>\n",
       "      <td>0.00</td>\n",
       "      <td>1.00</td>\n",
       "      <td>0.00</td>\n",
       "      <td>0.00</td>\n",
       "      <td>0.00</td>\n",
       "      <td>0.00</td>\n",
       "      <td>0.00</td>\n",
       "      <td>0.00</td>\n",
       "      <td>1.00</td>\n",
       "      <td>0.00</td>\n",
       "      <td>0.00</td>\n",
       "      <td>0.00</td>\n",
       "      <td>0.00</td>\n",
       "      <td>1.00</td>\n",
       "      <td>0.00</td>\n",
       "      <td>0.00</td>\n",
       "      <td>0.00</td>\n",
       "      <td>0.00</td>\n",
       "      <td>1.00</td>\n",
       "      <td>0.00</td>\n",
       "      <td>0.00</td>\n",
       "      <td>0.00</td>\n",
       "      <td>0.00</td>\n",
       "      <td>0.00</td>\n",
       "      <td>0.00</td>\n",
       "      <td>0.00</td>\n",
       "      <td>0.00</td>\n",
       "      <td>0.00</td>\n",
       "      <td>1.00</td>\n",
       "      <td>0.00</td>\n",
       "      <td>0.00</td>\n",
       "      <td>0.00</td>\n",
       "      <td>0.00</td>\n",
       "      <td>0.00</td>\n",
       "      <td>0.00</td>\n",
       "      <td>0.00</td>\n",
       "      <td>0.00</td>\n",
       "      <td>0.00</td>\n",
       "      <td>0.00</td>\n",
       "      <td>0.00</td>\n",
       "      <td>1.00</td>\n",
       "      <td>0.00</td>\n",
       "      <td>0.00</td>\n",
       "      <td>0.00</td>\n",
       "      <td>0.00</td>\n",
       "      <td>0.00</td>\n",
       "      <td>1.00</td>\n",
       "      <td>0.00</td>\n",
       "      <td>0.00</td>\n",
       "      <td>0.00</td>\n",
       "      <td>0.00</td>\n",
       "      <td>1.00</td>\n",
       "      <td>0.00</td>\n",
       "      <td>0.00</td>\n",
       "      <td>0.00</td>\n",
       "      <td>1.00</td>\n",
       "      <td>0.00</td>\n",
       "      <td>0.00</td>\n",
       "      <td>0.00</td>\n",
       "    </tr>\n",
       "    <tr>\n",
       "      <th>15865</th>\n",
       "      <td>0.40</td>\n",
       "      <td>0.28</td>\n",
       "      <td>1.61</td>\n",
       "      <td>1.07</td>\n",
       "      <td>1.31</td>\n",
       "      <td>0.24</td>\n",
       "      <td>-0.26</td>\n",
       "      <td>-0.08</td>\n",
       "      <td>-0.18</td>\n",
       "      <td>-0.10</td>\n",
       "      <td>-0.09</td>\n",
       "      <td>-0.34</td>\n",
       "      <td>-0.13</td>\n",
       "      <td>0.25</td>\n",
       "      <td>-0.25</td>\n",
       "      <td>0.54</td>\n",
       "      <td>1.39</td>\n",
       "      <td>0.00</td>\n",
       "      <td>1.00</td>\n",
       "      <td>0.00</td>\n",
       "      <td>0.00</td>\n",
       "      <td>0.00</td>\n",
       "      <td>0.00</td>\n",
       "      <td>0.00</td>\n",
       "      <td>1.00</td>\n",
       "      <td>0.00</td>\n",
       "      <td>0.00</td>\n",
       "      <td>0.00</td>\n",
       "      <td>0.00</td>\n",
       "      <td>0.00</td>\n",
       "      <td>0.00</td>\n",
       "      <td>1.00</td>\n",
       "      <td>0.00</td>\n",
       "      <td>0.00</td>\n",
       "      <td>0.00</td>\n",
       "      <td>0.00</td>\n",
       "      <td>0.00</td>\n",
       "      <td>0.00</td>\n",
       "      <td>0.00</td>\n",
       "      <td>1.00</td>\n",
       "      <td>0.00</td>\n",
       "      <td>0.00</td>\n",
       "      <td>0.00</td>\n",
       "      <td>0.00</td>\n",
       "      <td>1.00</td>\n",
       "      <td>0.00</td>\n",
       "      <td>0.00</td>\n",
       "      <td>0.00</td>\n",
       "      <td>1.00</td>\n",
       "      <td>0.00</td>\n",
       "      <td>0.00</td>\n",
       "      <td>0.00</td>\n",
       "      <td>0.00</td>\n",
       "      <td>0.00</td>\n",
       "      <td>0.00</td>\n",
       "      <td>0.00</td>\n",
       "      <td>0.00</td>\n",
       "      <td>0.00</td>\n",
       "      <td>1.00</td>\n",
       "      <td>0.00</td>\n",
       "      <td>0.00</td>\n",
       "      <td>0.00</td>\n",
       "      <td>0.00</td>\n",
       "      <td>0.00</td>\n",
       "      <td>0.00</td>\n",
       "      <td>0.00</td>\n",
       "      <td>0.00</td>\n",
       "      <td>0.00</td>\n",
       "      <td>0.00</td>\n",
       "      <td>0.00</td>\n",
       "      <td>1.00</td>\n",
       "      <td>0.00</td>\n",
       "      <td>0.00</td>\n",
       "      <td>0.00</td>\n",
       "      <td>0.00</td>\n",
       "      <td>1.00</td>\n",
       "      <td>0.00</td>\n",
       "      <td>1.00</td>\n",
       "      <td>0.00</td>\n",
       "      <td>0.00</td>\n",
       "      <td>0.00</td>\n",
       "      <td>0.00</td>\n",
       "      <td>0.00</td>\n",
       "      <td>0.00</td>\n",
       "      <td>0.00</td>\n",
       "      <td>0.00</td>\n",
       "      <td>1.00</td>\n",
       "      <td>0.00</td>\n",
       "      <td>0.00</td>\n",
       "    </tr>\n",
       "  </tbody>\n",
       "</table>\n",
       "</div>"
      ],
      "text/plain": [
       "       lead_time  arrival_date_week_number  arrival_date_day_of_month  \\\n",
       "34262      -0.50                     -1.19                      -0.32   \n",
       "78954      -0.94                     -1.70                       0.70   \n",
       "5004        0.60                     -0.82                      -0.43   \n",
       "18267      -0.62                      1.38                      -0.89   \n",
       "15865       0.40                      0.28                       1.61   \n",
       "\n",
       "       stays_in_weekend_nights  stays_in_week_nights  adults  children  \\\n",
       "34262                     0.07                  0.79    0.24     -0.26   \n",
       "78954                    -0.93                 -0.79   -1.45     -0.26   \n",
       "5004                     -0.93                 -0.26    0.24     -0.26   \n",
       "18267                     1.07                  1.31   -1.45     -0.26   \n",
       "15865                     1.07                  1.31    0.24     -0.26   \n",
       "\n",
       "       babies  is_repeated_guest  previous_cancellations  \\\n",
       "34262   -0.08              -0.18                   -0.10   \n",
       "78954   -0.08               5.54                   -0.10   \n",
       "5004    -0.08              -0.18                   -0.10   \n",
       "18267   -0.08              -0.18                   -0.10   \n",
       "15865   -0.08              -0.18                   -0.10   \n",
       "\n",
       "       previous_bookings_not_canceled  booking_changes  days_in_waiting_list  \\\n",
       "34262                           -0.09             1.18                 -0.13   \n",
       "78954                            4.57            -0.34                 -0.13   \n",
       "5004                            -0.09            -0.34                 -0.13   \n",
       "18267                           -0.09             1.18                 -0.13   \n",
       "15865                           -0.09            -0.34                 -0.13   \n",
       "\n",
       "        adr  required_car_parking_spaces  total_of_special_requests  \\\n",
       "34262 -0.66                        -0.25                       0.54   \n",
       "78954 -0.74                        -0.25                      -0.72   \n",
       "5004  -0.33                        -0.25                      -0.72   \n",
       "18267 -1.37                        -0.25                      -0.72   \n",
       "15865  0.25                        -0.25                       0.54   \n",
       "\n",
       "       stay_length  hotel_City Hotel  hotel_Resort Hotel  \\\n",
       "34262         0.61              0.00                1.00   \n",
       "78954        -0.95              1.00                0.00   \n",
       "5004         -0.56              0.00                1.00   \n",
       "18267         1.39              0.00                1.00   \n",
       "15865         1.39              0.00                1.00   \n",
       "\n",
       "       arrival_date_month_April  arrival_date_month_August  \\\n",
       "34262                      0.00                       0.00   \n",
       "78954                      0.00                       0.00   \n",
       "5004                       1.00                       0.00   \n",
       "18267                      0.00                       0.00   \n",
       "15865                      0.00                       0.00   \n",
       "\n",
       "       arrival_date_month_December  arrival_date_month_February  \\\n",
       "34262                         0.00                         0.00   \n",
       "78954                         0.00                         0.00   \n",
       "5004                          0.00                         0.00   \n",
       "18267                         0.00                         0.00   \n",
       "15865                         0.00                         0.00   \n",
       "\n",
       "       arrival_date_month_January  arrival_date_month_July  \\\n",
       "34262                        0.00                     0.00   \n",
       "78954                        1.00                     0.00   \n",
       "5004                         0.00                     0.00   \n",
       "18267                        0.00                     0.00   \n",
       "15865                        0.00                     1.00   \n",
       "\n",
       "       arrival_date_month_June  arrival_date_month_March  \\\n",
       "34262                     0.00                      1.00   \n",
       "78954                     0.00                      0.00   \n",
       "5004                      0.00                      0.00   \n",
       "18267                     0.00                      0.00   \n",
       "15865                     0.00                      0.00   \n",
       "\n",
       "       arrival_date_month_May  arrival_date_month_November  \\\n",
       "34262                    0.00                         0.00   \n",
       "78954                    0.00                         0.00   \n",
       "5004                     0.00                         0.00   \n",
       "18267                    0.00                         1.00   \n",
       "15865                    0.00                         0.00   \n",
       "\n",
       "       arrival_date_month_October  arrival_date_month_September  meal_BB  \\\n",
       "34262                        0.00                          0.00     1.00   \n",
       "78954                        0.00                          0.00     1.00   \n",
       "5004                         0.00                          0.00     0.00   \n",
       "18267                        0.00                          0.00     1.00   \n",
       "15865                        0.00                          0.00     1.00   \n",
       "\n",
       "       meal_FB  meal_HB  meal_SC  country_DEU  country_ESP  country_FRA  \\\n",
       "34262     0.00     0.00     0.00         0.00         0.00         0.00   \n",
       "78954     0.00     0.00     0.00         0.00         0.00         0.00   \n",
       "5004      0.00     1.00     0.00         0.00         0.00         0.00   \n",
       "18267     0.00     0.00     0.00         0.00         0.00         0.00   \n",
       "15865     0.00     0.00     0.00         0.00         0.00         0.00   \n",
       "\n",
       "       country_GBR  country_Other  country_PRT  market_segment_Aviation  \\\n",
       "34262         0.00           1.00         0.00                     0.00   \n",
       "78954         0.00           0.00         1.00                     0.00   \n",
       "5004          0.00           0.00         1.00                     0.00   \n",
       "18267         1.00           0.00         0.00                     0.00   \n",
       "15865         0.00           1.00         0.00                     0.00   \n",
       "\n",
       "       market_segment_Complementary  market_segment_Corporate  \\\n",
       "34262                          0.00                      0.00   \n",
       "78954                          0.00                      1.00   \n",
       "5004                           0.00                      0.00   \n",
       "18267                          0.00                      1.00   \n",
       "15865                          0.00                      0.00   \n",
       "\n",
       "       market_segment_Direct  market_segment_Groups  \\\n",
       "34262                   0.00                   0.00   \n",
       "78954                   0.00                   0.00   \n",
       "5004                    0.00                   1.00   \n",
       "18267                   0.00                   0.00   \n",
       "15865                   1.00                   0.00   \n",
       "\n",
       "       market_segment_Offline TA/TO  market_segment_Online TA  \\\n",
       "34262                          0.00                      1.00   \n",
       "78954                          0.00                      0.00   \n",
       "5004                           0.00                      0.00   \n",
       "18267                          0.00                      0.00   \n",
       "15865                          0.00                      0.00   \n",
       "\n",
       "       reserved_room_type_A  reserved_room_type_B  reserved_room_type_C  \\\n",
       "34262                  0.00                  0.00                  0.00   \n",
       "78954                  1.00                  0.00                  0.00   \n",
       "5004                   1.00                  0.00                  0.00   \n",
       "18267                  1.00                  0.00                  0.00   \n",
       "15865                  1.00                  0.00                  0.00   \n",
       "\n",
       "       reserved_room_type_D  reserved_room_type_E  reserved_room_type_F  \\\n",
       "34262                  1.00                  0.00                  0.00   \n",
       "78954                  0.00                  0.00                  0.00   \n",
       "5004                   0.00                  0.00                  0.00   \n",
       "18267                  0.00                  0.00                  0.00   \n",
       "15865                  0.00                  0.00                  0.00   \n",
       "\n",
       "       reserved_room_type_G  reserved_room_type_H  reserved_room_type_L  \\\n",
       "34262                  0.00                  0.00                  0.00   \n",
       "78954                  0.00                  0.00                  0.00   \n",
       "5004                   0.00                  0.00                  0.00   \n",
       "18267                  0.00                  0.00                  0.00   \n",
       "15865                  0.00                  0.00                  0.00   \n",
       "\n",
       "       reserved_room_type_P  assigned_room_type_A  assigned_room_type_B  \\\n",
       "34262                  0.00                  0.00                  0.00   \n",
       "78954                  0.00                  1.00                  0.00   \n",
       "5004                   0.00                  1.00                  0.00   \n",
       "18267                  0.00                  1.00                  0.00   \n",
       "15865                  0.00                  1.00                  0.00   \n",
       "\n",
       "       assigned_room_type_C  assigned_room_type_D  assigned_room_type_E  \\\n",
       "34262                  0.00                  1.00                  0.00   \n",
       "78954                  0.00                  0.00                  0.00   \n",
       "5004                   0.00                  0.00                  0.00   \n",
       "18267                  0.00                  0.00                  0.00   \n",
       "15865                  0.00                  0.00                  0.00   \n",
       "\n",
       "       assigned_room_type_F  assigned_room_type_G  assigned_room_type_H  \\\n",
       "34262                  0.00                  0.00                  0.00   \n",
       "78954                  0.00                  0.00                  0.00   \n",
       "5004                   0.00                  0.00                  0.00   \n",
       "18267                  0.00                  0.00                  0.00   \n",
       "15865                  0.00                  0.00                  0.00   \n",
       "\n",
       "       assigned_room_type_I  assigned_room_type_K  assigned_room_type_L  \\\n",
       "34262                  0.00                  0.00                  0.00   \n",
       "78954                  0.00                  0.00                  0.00   \n",
       "5004                   0.00                  0.00                  0.00   \n",
       "18267                  0.00                  0.00                  0.00   \n",
       "15865                  0.00                  0.00                  0.00   \n",
       "\n",
       "       assigned_room_type_P  deposit_type_No Deposit  deposit_type_Non Refund  \\\n",
       "34262                  0.00                     1.00                     0.00   \n",
       "78954                  0.00                     1.00                     0.00   \n",
       "5004                   0.00                     0.00                     1.00   \n",
       "18267                  0.00                     1.00                     0.00   \n",
       "15865                  0.00                     1.00                     0.00   \n",
       "\n",
       "       deposit_type_Refundable  customer_type_Contract  customer_type_Group  \\\n",
       "34262                     0.00                    0.00                 0.00   \n",
       "78954                     0.00                    0.00                 0.00   \n",
       "5004                      0.00                    0.00                 0.00   \n",
       "18267                     0.00                    0.00                 0.00   \n",
       "15865                     0.00                    0.00                 0.00   \n",
       "\n",
       "       customer_type_Transient  customer_type_Transient-Party  agent_group_0  \\\n",
       "34262                     1.00                           0.00           0.00   \n",
       "78954                     1.00                           0.00           1.00   \n",
       "5004                      1.00                           0.00           0.00   \n",
       "18267                     0.00                           1.00           0.00   \n",
       "15865                     1.00                           0.00           1.00   \n",
       "\n",
       "       agent_group_1  agent_group_240  agent_group_9  agent_group_999  \\\n",
       "34262           0.00             0.00           0.00             1.00   \n",
       "78954           0.00             0.00           0.00             0.00   \n",
       "5004            0.00             0.00           0.00             1.00   \n",
       "18267           0.00             0.00           0.00             1.00   \n",
       "15865           0.00             0.00           0.00             0.00   \n",
       "\n",
       "       arrival_day_Friday  arrival_day_Monday  arrival_day_Saturday  \\\n",
       "34262                0.00                1.00                  0.00   \n",
       "78954                1.00                0.00                  0.00   \n",
       "5004                 0.00                0.00                  0.00   \n",
       "18267                0.00                0.00                  0.00   \n",
       "15865                0.00                0.00                  0.00   \n",
       "\n",
       "       arrival_day_Sunday  arrival_day_Thursday  arrival_day_Tuesday  \\\n",
       "34262                0.00                  0.00                 0.00   \n",
       "78954                0.00                  0.00                 0.00   \n",
       "5004                 0.00                  0.00                 1.00   \n",
       "18267                1.00                  0.00                 0.00   \n",
       "15865                0.00                  1.00                 0.00   \n",
       "\n",
       "       arrival_day_Wednesday  \n",
       "34262                   0.00  \n",
       "78954                   0.00  \n",
       "5004                    0.00  \n",
       "18267                   0.00  \n",
       "15865                   0.00  "
      ]
     },
     "metadata": {},
     "output_type": "display_data"
    }
   ],
   "source": [
    "## Transform via the ColumnTransformer preprocessor and create new dataframe\n",
    "\n",
    "X_train_df = pd.DataFrame(preprocessor.transform(X_train),\n",
    "                             columns=final_cols, index=X_train.index)\n",
    "\n",
    "X_test_tf_df = pd.DataFrame(preprocessor.transform(X_test),\n",
    "                            columns=final_cols, index=X_test.index)\n",
    "\n",
    "display(X_train_df.head(5),X_test_tf_df.head(5))"
   ]
  },
  {
   "cell_type": "markdown",
   "metadata": {},
   "source": [
    "# **Resampling via SMOTE**"
   ]
  },
  {
   "cell_type": "markdown",
   "metadata": {},
   "source": [
    "---\n",
    "\n",
    "> In my EDA notebook, I noted that my target feature has an imbalance of about 2:1 in favor of the negative class. I will use the SMOTE transformer on my training to oversample my positive class, helping to increase my models' performance.\n",
    "\n",
    "---"
   ]
  },
  {
   "cell_type": "code",
   "execution_count": 16,
   "metadata": {
    "ExecuteTime": {
     "end_time": "2021-10-27T17:23:27.025813Z",
     "start_time": "2021-10-27T17:20:16.750530Z"
    }
   },
   "outputs": [
    {
     "data": {
      "text/plain": [
       "1    56374\n",
       "0    56374\n",
       "Name: is_canceled, dtype: int64"
      ]
     },
     "execution_count": 16,
     "metadata": {},
     "output_type": "execute_result"
    }
   ],
   "source": [
    "smote = SMOTE(random_state = 42, n_jobs=-1)\n",
    "\n",
    "X_train_tf_df, y_train = smote.fit_sample(X_train_df,y_train)\n",
    "pd.Series(y_train).value_counts()"
   ]
  },
  {
   "cell_type": "markdown",
   "metadata": {},
   "source": [
    "# **Baseline Model**"
   ]
  },
  {
   "cell_type": "markdown",
   "metadata": {},
   "source": [
    "---\n",
    "\n",
    "**Results:**\n",
    "\n",
    "> Training balanced accuracy score: 0.5\n",
    "> \n",
    "> Testing balanced accuracy score: 0.5\n",
    "> \n",
    "> * *The scores are the same size.*\n",
    ">\n",
    "> Training data log loss: 17.26\n",
    ">\n",
    "> Testing data log loss: 17.40\n",
    "\n",
    "---\n",
    "\n",
    "**Interpretation**\n",
    "\n",
    "> I use the `DummyClassifier` model as my baseline model. This model simply predicts the average value for my target, resulting in a score that is equivalent to random chance.\n",
    ">\n",
    "> One of my goals with my next models will be to exceed this performance, aiming to maximize the average precision of my models.\n",
    "\n",
    "---"
   ]
  },
  {
   "cell_type": "code",
   "execution_count": 17,
   "metadata": {
    "ExecuteTime": {
     "end_time": "2021-10-27T17:23:28.495817Z",
     "start_time": "2021-10-27T17:23:27.028824Z"
    },
    "scrolled": true
   },
   "outputs": [
    {
     "name": "stderr",
     "output_type": "stream",
     "text": [
      "The default value of strategy will change from stratified to prior in 0.24.\n"
     ]
    },
    {
     "name": "stdout",
     "output_type": "stream",
     "text": [
      "\n",
      "|-------------------------------- Classification Metrics -----------------------------------|\n",
      "\n",
      "Training accuracy score: 0.5\n",
      "Testing accuracy score: 0.5\n",
      "\t- The scores are the same size.\n",
      "\n",
      "Training data log loss: 17.26\n",
      "Testing data log loss: 17.38\n",
      "\n",
      "\n",
      "\n",
      "|---------------------------- Classification Report - Testing Data -------------------------|\n",
      "\n",
      "              precision    recall  f1-score   support\n",
      "\n",
      "           0       0.63      0.50      0.55     18792\n",
      "           1       0.37      0.49      0.42     11055\n",
      "\n",
      "    accuracy                           0.50     29847\n",
      "   macro avg       0.50      0.50      0.49     29847\n",
      "weighted avg       0.53      0.50      0.51     29847\n",
      "\n"
     ]
    },
    {
     "data": {
      "image/png": "[encoded data removed]",
      "text/plain": [
       "<Figure size 720x288 with 3 Axes>"
      ]
     },
     "metadata": {
      "needs_background": "light"
     },
     "output_type": "display_data"
    }
   ],
   "source": [
    "## Creating baseline classifier model\n",
    "\n",
    "base = DummyClassifier(random_state = 42)\n",
    "base.fit(X_train_tf_df, y_train)\n",
    "\n",
    "clf.evaluate_classification(base,X_train = X_train_tf_df, y_train = y_train,\n",
    "                           X_test = X_test_tf_df, y_test = y_test)"
   ]
  },
  {
   "cell_type": "markdown",
   "metadata": {},
   "source": [
    "# **Target Metric: Average Precision**"
   ]
  },
  {
   "cell_type": "markdown",
   "metadata": {},
   "source": [
    "---\n",
    "\n",
    "**My main metric for modeling will be the average precision of the model.** \n",
    "\n",
    "I specifically chose to focus on this metric as I want to minimize the number of false positives (classifying a reservation would cancel when it would actually arrive). \n",
    "\n",
    "False positives could result in higher costs: if a guest arrives at the hotel and you are over-sold, the hotel (usually) covers the cost of relocating the guest to a different hotel. This incurs the cost of relocation as well as the probable loss of business from that guest as they may feel that the hotel is unreliable.\n",
    "\n",
    "Additionally, I use the *average* metric as I know my test set's target values are still imbalanced. This is a better evaluation of the model's performance as it takes the imbalance into consideration.\n",
    "\n",
    "---"
   ]
  },
  {
   "cell_type": "markdown",
   "metadata": {},
   "source": [
    "# **Logistic Regression Model**"
   ]
  },
  {
   "cell_type": "code",
   "execution_count": 18,
   "metadata": {
    "ExecuteTime": {
     "end_time": "2021-10-27T17:23:32.587827Z",
     "start_time": "2021-10-27T17:23:28.498815Z"
    }
   },
   "outputs": [
    {
     "data": {
      "text/html": [
       "<style>div.sk-top-container {color: black;background-color: white;}div.sk-toggleable {background-color: white;}label.sk-toggleable__label {cursor: pointer;display: block;width: 100%;margin-bottom: 0;padding: 0.2em 0.3em;box-sizing: border-box;text-align: center;}div.sk-toggleable__content {max-height: 0;max-width: 0;overflow: hidden;text-align: left;background-color: #f0f8ff;}div.sk-toggleable__content pre {margin: 0.2em;color: black;border-radius: 0.25em;background-color: #f0f8ff;}input.sk-toggleable__control:checked~div.sk-toggleable__content {max-height: 200px;max-width: 100%;overflow: auto;}div.sk-estimator input.sk-toggleable__control:checked~label.sk-toggleable__label {background-color: #d4ebff;}div.sk-label input.sk-toggleable__control:checked~label.sk-toggleable__label {background-color: #d4ebff;}input.sk-hidden--visually {border: 0;clip: rect(1px 1px 1px 1px);clip: rect(1px, 1px, 1px, 1px);height: 1px;margin: -1px;overflow: hidden;padding: 0;position: absolute;width: 1px;}div.sk-estimator {font-family: monospace;background-color: #f0f8ff;margin: 0.25em 0.25em;border: 1px dotted black;border-radius: 0.25em;box-sizing: border-box;}div.sk-estimator:hover {background-color: #d4ebff;}div.sk-parallel-item::after {content: \"\";width: 100%;border-bottom: 1px solid gray;flex-grow: 1;}div.sk-label:hover label.sk-toggleable__label {background-color: #d4ebff;}div.sk-serial::before {content: \"\";position: absolute;border-left: 1px solid gray;box-sizing: border-box;top: 2em;bottom: 0;left: 50%;}div.sk-serial {display: flex;flex-direction: column;align-items: center;background-color: white;}div.sk-item {z-index: 1;}div.sk-parallel {display: flex;align-items: stretch;justify-content: center;background-color: white;}div.sk-parallel-item {display: flex;flex-direction: column;position: relative;background-color: white;}div.sk-parallel-item:first-child::after {align-self: flex-end;width: 50%;}div.sk-parallel-item:last-child::after {align-self: flex-start;width: 50%;}div.sk-parallel-item:only-child::after {width: 0;}div.sk-dashed-wrapped {border: 1px dashed gray;margin: 0.2em;box-sizing: border-box;padding-bottom: 0.1em;background-color: white;position: relative;}div.sk-label label {font-family: monospace;font-weight: bold;background-color: white;display: inline-block;line-height: 1.2em;}div.sk-label-container {position: relative;z-index: 2;text-align: center;}div.sk-container {display: inline-block;position: relative;}</style><div class=\"sk-top-container\"><div class=\"sk-container\"><div class=\"sk-item\"><div class=\"sk-estimator sk-toggleable\"><input class=\"sk-toggleable__control sk-hidden--visually\" id=\"de80cd4c-fd58-4463-91b5-237db2122e36\" type=\"checkbox\" checked><label class=\"sk-toggleable__label\" for=\"de80cd4c-fd58-4463-91b5-237db2122e36\">LogisticRegression</label><div class=\"sk-toggleable__content\"><pre>LogisticRegression(max_iter=500, n_jobs=1, random_state=42)</pre></div></div></div></div></div>"
      ],
      "text/plain": [
       "LogisticRegression(max_iter=500, n_jobs=1, random_state=42)"
      ]
     },
     "execution_count": 18,
     "metadata": {},
     "output_type": "execute_result"
    }
   ],
   "source": [
    "## LogReg Model\n",
    "logreg = LogisticRegression(max_iter = 500, random_state = 42, n_jobs=-1)\n",
    "\n",
    "logreg.fit(X_train_tf_df, y_train)"
   ]
  },
  {
   "cell_type": "code",
   "execution_count": 19,
   "metadata": {
    "ExecuteTime": {
     "end_time": "2021-10-27T17:23:33.841824Z",
     "start_time": "2021-10-27T17:23:32.590823Z"
    },
    "scrolled": false
   },
   "outputs": [
    {
     "name": "stdout",
     "output_type": "stream",
     "text": [
      "\n",
      "|-------------------------------- Classification Metrics -----------------------------------|\n",
      "\n",
      "Training average precision score: 0.82\n",
      "Testing average precision score: 0.8\n",
      "\t- The training score is larger by 0.02 points.\n",
      "\n",
      "Training data log loss: 0.38\n",
      "Testing data log loss: 0.39\n",
      "\n",
      "\n",
      "\n",
      "|---------------------------- Classification Report - Testing Data -------------------------|\n",
      "\n",
      "              precision    recall  f1-score   support\n",
      "\n",
      "           0       0.88      0.82      0.85     18792\n",
      "           1       0.73      0.80      0.76     11055\n",
      "\n",
      "    accuracy                           0.82     29847\n",
      "   macro avg       0.80      0.81      0.81     29847\n",
      "weighted avg       0.82      0.82      0.82     29847\n",
      "\n"
     ]
    },
    {
     "data": {
      "image/png": "[encoded data removed]",
      "text/plain": [
       "<Figure size 720x288 with 3 Axes>"
      ]
     },
     "metadata": {
      "needs_background": "light"
     },
     "output_type": "display_data"
    }
   ],
   "source": [
    "clf.evaluate_classification(logreg, X_train = X_train_tf_df,y_train = y_train,\n",
    "                           X_test = X_test_tf_df, y_test = y_test,\n",
    "                          metric = 'average precision')"
   ]
  },
  {
   "cell_type": "code",
   "execution_count": 20,
   "metadata": {
    "ExecuteTime": {
     "end_time": "2021-10-27T17:23:34.860824Z",
     "start_time": "2021-10-27T17:23:33.844824Z"
    }
   },
   "outputs": [
    {
     "data": {
      "image/png": "[encoded data removed]",
      "text/plain": [
       "<Figure size 576x360 with 1 Axes>"
      ]
     },
     "metadata": {},
     "output_type": "display_data"
    }
   ],
   "source": [
    "clf.plot_log_odds(logreg, X_test_tf_df)"
   ]
  },
  {
   "cell_type": "markdown",
   "metadata": {},
   "source": [
    "---\n",
    "\n",
    "**Results:**\n",
    "\n",
    "> Training balanced accuracy score: 0.82\n",
    "> \n",
    "> Testing balanced accuracy score: 0.82\n",
    "> \n",
    "> * *The scores are the same size.*\n",
    ">\n",
    "> Training data log loss: 0.37\n",
    ">\n",
    "> Testing data log loss: 0.37\n",
    "\n",
    "---\n",
    "\n",
    "**Interpretation**\n",
    "\n",
    "> My standard logistic regression performs pretty well with an average precision of 80%. This performance is decent, but I will develop and train additional models to see if I can improve that score.\n",
    ">\n",
    "> The top and bottom three features for this model are mostly composed of months of the year - December/November for the highest log-odds of cancellations, respectively, and January/February for the second- and third-lowest log odds, respectively.\n",
    ">\n",
    ">\n",
    "> **These results would make sense when considering business travelers vs. leisure travelers:**\n",
    ">\n",
    ">\n",
    ">   * Leisure travelers may be less experienced travelers and their plans may change more easily, resulting in more cancellations.\n",
    ">       * The winter holidays would increase leisure travel and decrease business travel as people take time off of work. \n",
    ">\n",
    ">\n",
    ">   * Business travelers tend to be more experienced and their plans are more established\n",
    ">       * When the new year begins, people return to work, increasing business travel and decreasing leisure travel.\n",
    ">\n",
    "> **The remaining top/bottom features both require some caution to their interpretations:**\n",
    "* Reservations for room type \"P:\" due to the anonymous nature of the source data, it is hard to gain much, if any, significant insight from this feature.\n",
    "    * Room types may vary depending on size, amenities, etc.; without more information about the type of room, the feature has limited value.\n",
    "* Reservations requiring more parking: during my review of this feature in my EDA notebook, I noted my split feelings about including this feature: it is not guaranteed to be known in advance, and there are significantly more reservations without parking than reservations with parking.\n",
    "    * This feature is heavily dependent on whether a hotel reliably knows that a guest will need parking or not.\n",
    ">\n",
    "> I will continue with additional models to determine whether these results are the best for my recommendations and future modeling.\n",
    "\n",
    "---"
   ]
  },
  {
   "cell_type": "markdown",
   "metadata": {},
   "source": [
    "# **Random Forest Model**"
   ]
  },
  {
   "cell_type": "code",
   "execution_count": 21,
   "metadata": {
    "ExecuteTime": {
     "end_time": "2021-10-27T17:23:44.352840Z",
     "start_time": "2021-10-27T17:23:34.863825Z"
    }
   },
   "outputs": [
    {
     "data": {
      "text/html": [
       "<style>div.sk-top-container {color: black;background-color: white;}div.sk-toggleable {background-color: white;}label.sk-toggleable__label {cursor: pointer;display: block;width: 100%;margin-bottom: 0;padding: 0.2em 0.3em;box-sizing: border-box;text-align: center;}div.sk-toggleable__content {max-height: 0;max-width: 0;overflow: hidden;text-align: left;background-color: #f0f8ff;}div.sk-toggleable__content pre {margin: 0.2em;color: black;border-radius: 0.25em;background-color: #f0f8ff;}input.sk-toggleable__control:checked~div.sk-toggleable__content {max-height: 200px;max-width: 100%;overflow: auto;}div.sk-estimator input.sk-toggleable__control:checked~label.sk-toggleable__label {background-color: #d4ebff;}div.sk-label input.sk-toggleable__control:checked~label.sk-toggleable__label {background-color: #d4ebff;}input.sk-hidden--visually {border: 0;clip: rect(1px 1px 1px 1px);clip: rect(1px, 1px, 1px, 1px);height: 1px;margin: -1px;overflow: hidden;padding: 0;position: absolute;width: 1px;}div.sk-estimator {font-family: monospace;background-color: #f0f8ff;margin: 0.25em 0.25em;border: 1px dotted black;border-radius: 0.25em;box-sizing: border-box;}div.sk-estimator:hover {background-color: #d4ebff;}div.sk-parallel-item::after {content: \"\";width: 100%;border-bottom: 1px solid gray;flex-grow: 1;}div.sk-label:hover label.sk-toggleable__label {background-color: #d4ebff;}div.sk-serial::before {content: \"\";position: absolute;border-left: 1px solid gray;box-sizing: border-box;top: 2em;bottom: 0;left: 50%;}div.sk-serial {display: flex;flex-direction: column;align-items: center;background-color: white;}div.sk-item {z-index: 1;}div.sk-parallel {display: flex;align-items: stretch;justify-content: center;background-color: white;}div.sk-parallel-item {display: flex;flex-direction: column;position: relative;background-color: white;}div.sk-parallel-item:first-child::after {align-self: flex-end;width: 50%;}div.sk-parallel-item:last-child::after {align-self: flex-start;width: 50%;}div.sk-parallel-item:only-child::after {width: 0;}div.sk-dashed-wrapped {border: 1px dashed gray;margin: 0.2em;box-sizing: border-box;padding-bottom: 0.1em;background-color: white;position: relative;}div.sk-label label {font-family: monospace;font-weight: bold;background-color: white;display: inline-block;line-height: 1.2em;}div.sk-label-container {position: relative;z-index: 2;text-align: center;}div.sk-container {display: inline-block;position: relative;}</style><div class=\"sk-top-container\"><div class=\"sk-container\"><div class=\"sk-item\"><div class=\"sk-estimator sk-toggleable\"><input class=\"sk-toggleable__control sk-hidden--visually\" id=\"7ef32b86-4416-4466-bda4-94677052c743\" type=\"checkbox\" checked><label class=\"sk-toggleable__label\" for=\"7ef32b86-4416-4466-bda4-94677052c743\">RandomForestClassifier</label><div class=\"sk-toggleable__content\"><pre>RandomForestClassifier(n_jobs=-1, random_state=42)</pre></div></div></div></div></div>"
      ],
      "text/plain": [
       "RandomForestClassifier(n_jobs=-1, random_state=42)"
      ]
     },
     "execution_count": 21,
     "metadata": {},
     "output_type": "execute_result"
    }
   ],
   "source": [
    "rfc = RandomForestClassifier(random_state=42,n_jobs=-1)\n",
    "\n",
    "rfc.fit(X_train_tf_df, y_train)"
   ]
  },
  {
   "cell_type": "code",
   "execution_count": 22,
   "metadata": {
    "ExecuteTime": {
     "end_time": "2021-10-27T17:23:48.509847Z",
     "start_time": "2021-10-27T17:23:44.354839Z"
    },
    "scrolled": false
   },
   "outputs": [
    {
     "name": "stdout",
     "output_type": "stream",
     "text": [
      "\n",
      "|-------------------------------- Classification Metrics -----------------------------------|\n",
      "\n",
      "Training average precision score: 0.99\n",
      "Testing average precision score: 0.88\n",
      "\t- The training score is larger by 0.11 points.\n",
      "\n",
      "Training data log loss: 0.24\n",
      "Testing data log loss: 0.33\n",
      "\n",
      "\n",
      "\n",
      "|---------------------------- Classification Report - Testing Data -------------------------|\n",
      "\n",
      "              precision    recall  f1-score   support\n",
      "\n",
      "           0       0.90      0.92      0.91     18792\n",
      "           1       0.86      0.83      0.85     11055\n",
      "\n",
      "    accuracy                           0.89     29847\n",
      "   macro avg       0.88      0.88      0.88     29847\n",
      "weighted avg       0.89      0.89      0.89     29847\n",
      "\n"
     ]
    },
    {
     "data": {
      "image/png": "[encoded data removed]",
      "text/plain": [
       "<Figure size 720x288 with 3 Axes>"
      ]
     },
     "metadata": {
      "needs_background": "light"
     },
     "output_type": "display_data"
    }
   ],
   "source": [
    "clf.evaluate_classification(rfc, X_train = X_train_tf_df, y_train = y_train,\n",
    "                           X_test = X_test_tf_df, y_test = y_test,\n",
    "                          metric = 'average precision')"
   ]
  },
  {
   "cell_type": "code",
   "execution_count": 23,
   "metadata": {
    "ExecuteTime": {
     "end_time": "2021-10-27T17:23:49.407858Z",
     "start_time": "2021-10-27T17:23:48.518849Z"
    },
    "scrolled": false
   },
   "outputs": [
    {
     "data": {
      "image/png": "[encoded data removed]",
      "text/plain": [
       "<Figure size 432x288 with 1 Axes>"
      ]
     },
     "metadata": {},
     "output_type": "display_data"
    }
   ],
   "source": [
    "clf.plot_importances(rfc, X_test_tf_df)"
   ]
  },
  {
   "cell_type": "markdown",
   "metadata": {},
   "source": [
    "---\n",
    "\n",
    "**Results:**\n",
    "\n",
    "> Training balanced recall score: 0.96\n",
    "> \n",
    "> Testing balanced recall score: 0.88\n",
    ">\n",
    "> * *The training score is larger by 0.08 points.*\n",
    ">\n",
    "> Training data log loss: 0.56\n",
    ">\n",
    "> Testing data log loss: 0.53\n",
    "\n",
    "---\n",
    "\n",
    "**Interpretation**\n",
    "\n",
    "> The Random Forest Classifier with the default settings shows a larger average precision than the logistic regression: 88% vs. 80%. I am more trusting of this model versus the logistic regression due to this increase in performance.\n",
    ">\n",
    "> This model uses feature importances to rank its results. Feature importances are limited in that they do not indicate whether a feature increases or decreases the likelihood of a reservation canceling, however we can use this information for further testing on new results.\n",
    ">\n",
    "> The feature importances rank reservations from Portugal and reservation lead times as the top most important features, with the number of special requests and deposit requirements filling out the remaining spots of the top five values.\n",
    ">\n",
    "> Interestingly, I see parking spaces was also important for this model, matching the logistic regression results. I am still uncertain about those results, however, and would continue to take them with a grain of salt.\n",
    "\n",
    "---"
   ]
  },
  {
   "cell_type": "markdown",
   "metadata": {},
   "source": [
    "# **ExtraTreesClassifier**"
   ]
  },
  {
   "cell_type": "code",
   "execution_count": 24,
   "metadata": {
    "ExecuteTime": {
     "end_time": "2021-10-27T17:24:00.702863Z",
     "start_time": "2021-10-27T17:23:49.411847Z"
    }
   },
   "outputs": [
    {
     "data": {
      "text/html": [
       "<style>div.sk-top-container {color: black;background-color: white;}div.sk-toggleable {background-color: white;}label.sk-toggleable__label {cursor: pointer;display: block;width: 100%;margin-bottom: 0;padding: 0.2em 0.3em;box-sizing: border-box;text-align: center;}div.sk-toggleable__content {max-height: 0;max-width: 0;overflow: hidden;text-align: left;background-color: #f0f8ff;}div.sk-toggleable__content pre {margin: 0.2em;color: black;border-radius: 0.25em;background-color: #f0f8ff;}input.sk-toggleable__control:checked~div.sk-toggleable__content {max-height: 200px;max-width: 100%;overflow: auto;}div.sk-estimator input.sk-toggleable__control:checked~label.sk-toggleable__label {background-color: #d4ebff;}div.sk-label input.sk-toggleable__control:checked~label.sk-toggleable__label {background-color: #d4ebff;}input.sk-hidden--visually {border: 0;clip: rect(1px 1px 1px 1px);clip: rect(1px, 1px, 1px, 1px);height: 1px;margin: -1px;overflow: hidden;padding: 0;position: absolute;width: 1px;}div.sk-estimator {font-family: monospace;background-color: #f0f8ff;margin: 0.25em 0.25em;border: 1px dotted black;border-radius: 0.25em;box-sizing: border-box;}div.sk-estimator:hover {background-color: #d4ebff;}div.sk-parallel-item::after {content: \"\";width: 100%;border-bottom: 1px solid gray;flex-grow: 1;}div.sk-label:hover label.sk-toggleable__label {background-color: #d4ebff;}div.sk-serial::before {content: \"\";position: absolute;border-left: 1px solid gray;box-sizing: border-box;top: 2em;bottom: 0;left: 50%;}div.sk-serial {display: flex;flex-direction: column;align-items: center;background-color: white;}div.sk-item {z-index: 1;}div.sk-parallel {display: flex;align-items: stretch;justify-content: center;background-color: white;}div.sk-parallel-item {display: flex;flex-direction: column;position: relative;background-color: white;}div.sk-parallel-item:first-child::after {align-self: flex-end;width: 50%;}div.sk-parallel-item:last-child::after {align-self: flex-start;width: 50%;}div.sk-parallel-item:only-child::after {width: 0;}div.sk-dashed-wrapped {border: 1px dashed gray;margin: 0.2em;box-sizing: border-box;padding-bottom: 0.1em;background-color: white;position: relative;}div.sk-label label {font-family: monospace;font-weight: bold;background-color: white;display: inline-block;line-height: 1.2em;}div.sk-label-container {position: relative;z-index: 2;text-align: center;}div.sk-container {display: inline-block;position: relative;}</style><div class=\"sk-top-container\"><div class=\"sk-container\"><div class=\"sk-item\"><div class=\"sk-estimator sk-toggleable\"><input class=\"sk-toggleable__control sk-hidden--visually\" id=\"2974f9a1-1541-4c9d-920c-0d19f0559563\" type=\"checkbox\" checked><label class=\"sk-toggleable__label\" for=\"2974f9a1-1541-4c9d-920c-0d19f0559563\">ExtraTreesClassifier</label><div class=\"sk-toggleable__content\"><pre>ExtraTreesClassifier(n_jobs=-1, random_state=42)</pre></div></div></div></div></div>"
      ],
      "text/plain": [
       "ExtraTreesClassifier(n_jobs=-1, random_state=42)"
      ]
     },
     "execution_count": 24,
     "metadata": {},
     "output_type": "execute_result"
    }
   ],
   "source": [
    "etc = ExtraTreesClassifier(random_state=42,n_jobs = -1)\n",
    "\n",
    "etc.fit(X_train_tf_df, y_train)"
   ]
  },
  {
   "cell_type": "code",
   "execution_count": 25,
   "metadata": {
    "ExecuteTime": {
     "end_time": "2021-10-27T17:24:05.343869Z",
     "start_time": "2021-10-27T17:24:00.705863Z"
    },
    "scrolled": false
   },
   "outputs": [
    {
     "name": "stdout",
     "output_type": "stream",
     "text": [
      "\n",
      "|-------------------------------- Classification Metrics -----------------------------------|\n",
      "\n",
      "Training average precision score: 1.0\n",
      "Testing average precision score: 0.88\n",
      "\t- The training score is larger by 0.12 points.\n",
      "\n",
      "Training data log loss: 0.01\n",
      "Testing data log loss: 0.37\n",
      "\n",
      "\n",
      "\n",
      "|---------------------------- Classification Report - Testing Data -------------------------|\n",
      "\n",
      "              precision    recall  f1-score   support\n",
      "\n",
      "           0       0.90      0.92      0.91     18792\n",
      "           1       0.86      0.82      0.84     11055\n",
      "\n",
      "    accuracy                           0.88     29847\n",
      "   macro avg       0.88      0.87      0.87     29847\n",
      "weighted avg       0.88      0.88      0.88     29847\n",
      "\n"
     ]
    },
    {
     "data": {
      "image/png": "[encoded data removed]",
      "text/plain": [
       "<Figure size 720x288 with 3 Axes>"
      ]
     },
     "metadata": {
      "needs_background": "light"
     },
     "output_type": "display_data"
    }
   ],
   "source": [
    "clf.evaluate_classification(etc, X_train = X_train_tf_df, y_train = y_train,\n",
    "                           X_test = X_test_tf_df, y_test = y_test,\n",
    "                          metric = 'average precision')"
   ]
  },
  {
   "cell_type": "code",
   "execution_count": 26,
   "metadata": {
    "ExecuteTime": {
     "end_time": "2021-10-27T17:24:06.426874Z",
     "start_time": "2021-10-27T17:24:05.346871Z"
    }
   },
   "outputs": [
    {
     "data": {
      "image/png": "[encoded data removed]",
      "text/plain": [
       "<Figure size 432x288 with 1 Axes>"
      ]
     },
     "metadata": {},
     "output_type": "display_data"
    }
   ],
   "source": [
    "clf.plot_importances(etc, X_test_tf_df)"
   ]
  },
  {
   "cell_type": "markdown",
   "metadata": {},
   "source": [
    "---\n",
    "\n",
    "**Results:**\n",
    "\n",
    "> Training average precision score: 1.0\n",
    "> \n",
    "> Testing average precision score: 0.87\n",
    "> \n",
    "> * \n",
    ">\n",
    "> Training data log loss: 0.01\n",
    ">\n",
    "> Testing data log loss: 0.33\n",
    "\n",
    "---\n",
    "\n",
    "**Interpretation**\n",
    "\n",
    "> The Extra Tress Classifier showed similar results as the Random Forest Classifier in terms of scoring and feature importances, but at the expense of increased model complexity and slower run time.\n",
    ">\n",
    "> I will continue to consider my Random Forest Classifier as my best model considering its simpler nature and faster runtime - aspects that would have a greater impact with larger datasets.\n",
    "---"
   ]
  },
  {
   "cell_type": "markdown",
   "metadata": {},
   "source": [
    "# **XGBoost Classifier**"
   ]
  },
  {
   "cell_type": "code",
   "execution_count": 27,
   "metadata": {
    "ExecuteTime": {
     "end_time": "2021-10-27T17:24:17.006886Z",
     "start_time": "2021-10-27T17:24:06.429874Z"
    }
   },
   "outputs": [
    {
     "data": {
      "text/html": [
       "<style>div.sk-top-container {color: black;background-color: white;}div.sk-toggleable {background-color: white;}label.sk-toggleable__label {cursor: pointer;display: block;width: 100%;margin-bottom: 0;padding: 0.2em 0.3em;box-sizing: border-box;text-align: center;}div.sk-toggleable__content {max-height: 0;max-width: 0;overflow: hidden;text-align: left;background-color: #f0f8ff;}div.sk-toggleable__content pre {margin: 0.2em;color: black;border-radius: 0.25em;background-color: #f0f8ff;}input.sk-toggleable__control:checked~div.sk-toggleable__content {max-height: 200px;max-width: 100%;overflow: auto;}div.sk-estimator input.sk-toggleable__control:checked~label.sk-toggleable__label {background-color: #d4ebff;}div.sk-label input.sk-toggleable__control:checked~label.sk-toggleable__label {background-color: #d4ebff;}input.sk-hidden--visually {border: 0;clip: rect(1px 1px 1px 1px);clip: rect(1px, 1px, 1px, 1px);height: 1px;margin: -1px;overflow: hidden;padding: 0;position: absolute;width: 1px;}div.sk-estimator {font-family: monospace;background-color: #f0f8ff;margin: 0.25em 0.25em;border: 1px dotted black;border-radius: 0.25em;box-sizing: border-box;}div.sk-estimator:hover {background-color: #d4ebff;}div.sk-parallel-item::after {content: \"\";width: 100%;border-bottom: 1px solid gray;flex-grow: 1;}div.sk-label:hover label.sk-toggleable__label {background-color: #d4ebff;}div.sk-serial::before {content: \"\";position: absolute;border-left: 1px solid gray;box-sizing: border-box;top: 2em;bottom: 0;left: 50%;}div.sk-serial {display: flex;flex-direction: column;align-items: center;background-color: white;}div.sk-item {z-index: 1;}div.sk-parallel {display: flex;align-items: stretch;justify-content: center;background-color: white;}div.sk-parallel-item {display: flex;flex-direction: column;position: relative;background-color: white;}div.sk-parallel-item:first-child::after {align-self: flex-end;width: 50%;}div.sk-parallel-item:last-child::after {align-self: flex-start;width: 50%;}div.sk-parallel-item:only-child::after {width: 0;}div.sk-dashed-wrapped {border: 1px dashed gray;margin: 0.2em;box-sizing: border-box;padding-bottom: 0.1em;background-color: white;position: relative;}div.sk-label label {font-family: monospace;font-weight: bold;background-color: white;display: inline-block;line-height: 1.2em;}div.sk-label-container {position: relative;z-index: 2;text-align: center;}div.sk-container {display: inline-block;position: relative;}</style><div class=\"sk-top-container\"><div class=\"sk-container\"><div class=\"sk-item\"><div class=\"sk-estimator sk-toggleable\"><input class=\"sk-toggleable__control sk-hidden--visually\" id=\"63e5af9a-a7b7-4292-a572-cafd8d9c9466\" type=\"checkbox\" checked><label class=\"sk-toggleable__label\" for=\"63e5af9a-a7b7-4292-a572-cafd8d9c9466\">XGBClassifier</label><div class=\"sk-toggleable__content\"><pre>XGBClassifier(base_score=0.5, booster='gbtree', colsample_bylevel=1,\n",
       "              colsample_bynode=1, colsample_bytree=1, gamma=0, gpu_id=-1,\n",
       "              importance_type='gain', interaction_constraints='',\n",
       "              learning_rate=0.300000012, max_delta_step=0, max_depth=6,\n",
       "              min_child_weight=1, missing=nan, monotone_constraints='()',\n",
       "              n_estimators=100, n_jobs=0, num_parallel_tree=1, random_state=0,\n",
       "              reg_alpha=0, reg_lambda=1, scale_pos_weight=1, subsample=1,\n",
       "              tree_method='exact', validate_parameters=1, verbosity=None)</pre></div></div></div></div></div>"
      ],
      "text/plain": [
       "XGBClassifier(base_score=0.5, booster='gbtree', colsample_bylevel=1,\n",
       "              colsample_bynode=1, colsample_bytree=1, gamma=0, gpu_id=-1,\n",
       "              importance_type='gain', interaction_constraints='',\n",
       "              learning_rate=0.300000012, max_delta_step=0, max_depth=6,\n",
       "              min_child_weight=1, missing=nan, monotone_constraints='()',\n",
       "              n_estimators=100, n_jobs=0, num_parallel_tree=1, random_state=0,\n",
       "              reg_alpha=0, reg_lambda=1, scale_pos_weight=1, subsample=1,\n",
       "              tree_method='exact', validate_parameters=1, verbosity=None)"
      ]
     },
     "execution_count": 27,
     "metadata": {},
     "output_type": "execute_result"
    }
   ],
   "source": [
    "xgbc = XGBClassifier()\n",
    "xgbc.fit(X_train_tf_df, y_train)"
   ]
  },
  {
   "cell_type": "code",
   "execution_count": 28,
   "metadata": {
    "ExecuteTime": {
     "end_time": "2021-10-27T17:24:19.741891Z",
     "start_time": "2021-10-27T17:24:17.009888Z"
    },
    "scrolled": true
   },
   "outputs": [
    {
     "name": "stdout",
     "output_type": "stream",
     "text": [
      "\n",
      "|-------------------------------- Classification Metrics -----------------------------------|\n",
      "\n",
      "Training balanced recall score: 0.91\n",
      "Testing balanced recall score: 0.86\n",
      "\t- The training score is larger by 0.05 points.\n",
      "\n",
      "Training data log loss: 0.21\n",
      "Testing data log loss: 0.27\n",
      "\n",
      "\n",
      "\n",
      "|---------------------------- Classification Report - Testing Data -------------------------|\n",
      "\n",
      "              precision    recall  f1-score   support\n",
      "\n",
      "           0       0.90      0.91      0.90     18792\n",
      "           1       0.84      0.82      0.83     11055\n",
      "\n",
      "    accuracy                           0.88     29847\n",
      "   macro avg       0.87      0.86      0.87     29847\n",
      "weighted avg       0.87      0.88      0.88     29847\n",
      "\n"
     ]
    },
    {
     "data": {
      "image/png": "[encoded data removed]",
      "text/plain": [
       "<Figure size 720x288 with 3 Axes>"
      ]
     },
     "metadata": {
      "needs_background": "light"
     },
     "output_type": "display_data"
    }
   ],
   "source": [
    "clf.evaluate_classification(xgbc, X_train = X_train_tf_df,y_train = y_train,\n",
    "                           X_test = X_test_tf_df, y_test = y_test,\n",
    "                          metric = 'balanced recall')"
   ]
  },
  {
   "cell_type": "code",
   "execution_count": 29,
   "metadata": {
    "ExecuteTime": {
     "end_time": "2021-10-27T17:24:20.541905Z",
     "start_time": "2021-10-27T17:24:19.744891Z"
    }
   },
   "outputs": [
    {
     "data": {
      "image/png": "[encoded data removed]",
      "text/plain": [
       "<Figure size 432x288 with 1 Axes>"
      ]
     },
     "metadata": {},
     "output_type": "display_data"
    }
   ],
   "source": [
    "clf.plot_importances(xgbc, X_test_tf_df)"
   ]
  },
  {
   "cell_type": "markdown",
   "metadata": {},
   "source": [
    "---\n",
    "\n",
    "**Results:**\n",
    "\n",
    "> Training average precision score: 1.0\n",
    "> \n",
    "> Testing average precision score: 0.87\n",
    "> \n",
    "> * \n",
    ">\n",
    "> Training data log loss: 0.01\n",
    ">\n",
    "> Testing data log loss: 0.33\n",
    "\n",
    "---\n",
    "\n",
    "**Interpretation**\n",
    "\n",
    "> While the XGBoostClassifier model performed about the same as the Random Forest and Extra Trees Classifiers, I noticed that the feature importances are significantly different: **the XGBoost classifier ranks the non-refundable deposits above any other feature, almost to the point of being equivalent to the feature importances of all the other features combined!**\n",
    ">\n",
    "> The XGBoostClassifier still ranks Portugal, parking, and \"no deposit\" features highly, which supports the results of the other tree-based models. While the non-refundable feature importance is a surprising result, I find it somewhat strange to see it ranked so highly above the rest. Since the rest of the results match the results of the other tree-based models,  I will focus on those results.\n",
    ">\n",
    "> **Considering the similar results and slightly-worse performance of this model vs. the others, I will continue to stick with the RandomForest model as my best model.**\n",
    "\n",
    "---"
   ]
  },
  {
   "cell_type": "markdown",
   "metadata": {
    "ExecuteTime": {
     "end_time": "2021-09-10T13:53:05.110549Z",
     "start_time": "2021-09-10T13:53:04.871349Z"
    }
   },
   "source": [
    "# **GridSearches and Results**"
   ]
  },
  {
   "cell_type": "markdown",
   "metadata": {},
   "source": [
    "---\n",
    "\n",
    "**Hyperparameter Tuning**\n",
    "\n",
    "> After evaluating several model types, I decided that my RandomForestClassifier was my preferred model. **I will now use GridSearchCV to identify the best parameters for this model to maximize its average precision.**\n",
    ">\n",
    "> However, the feature importances of a tree-based model limit the interpretability, so I will also tune the logistic regression to see if I can improve its performance and re-evaluate its value in comparison to the RandomForestClassfier.\n",
    "\n",
    "---"
   ]
  },
  {
   "cell_type": "markdown",
   "metadata": {},
   "source": [
    "## GS: Logistic Regression"
   ]
  },
  {
   "cell_type": "code",
   "execution_count": 30,
   "metadata": {
    "ExecuteTime": {
     "end_time": "2021-10-27T17:24:20.827901Z",
     "start_time": "2021-10-27T17:24:20.544907Z"
    }
   },
   "outputs": [],
   "source": [
    "lg_params = {\n",
    "    'max_iter': [500, 600, 700],\n",
    "    'C': [1, 10]\n",
    "}"
   ]
  },
  {
   "cell_type": "code",
   "execution_count": 31,
   "metadata": {
    "ExecuteTime": {
     "end_time": "2021-10-27T17:25:57.840559Z",
     "start_time": "2021-10-27T17:24:20.829892Z"
    }
   },
   "outputs": [
    {
     "name": "stdout",
     "output_type": "stream",
     "text": [
      "Fitting 5 folds for each of 6 candidates, totalling 30 fits\n",
      "[CV] C=1, max_iter=500 ...............................................\n"
     ]
    },
    {
     "name": "stderr",
     "output_type": "stream",
     "text": [
      "[Parallel(n_jobs=1)]: Using backend SequentialBackend with 1 concurrent workers.\n"
     ]
    },
    {
     "name": "stdout",
     "output_type": "stream",
     "text": [
      "[CV] ................... C=1, max_iter=500, score=0.906, total=   2.3s\n",
      "[CV] C=1, max_iter=500 ...............................................\n"
     ]
    },
    {
     "name": "stderr",
     "output_type": "stream",
     "text": [
      "[Parallel(n_jobs=1)]: Done   1 out of   1 | elapsed:    2.2s remaining:    0.0s\n"
     ]
    },
    {
     "name": "stdout",
     "output_type": "stream",
     "text": [
      "[CV] ................... C=1, max_iter=500, score=0.908, total=   2.2s\n",
      "[CV] C=1, max_iter=500 ...............................................\n"
     ]
    },
    {
     "name": "stderr",
     "output_type": "stream",
     "text": [
      "[Parallel(n_jobs=1)]: Done   2 out of   2 | elapsed:    4.4s remaining:    0.0s\n"
     ]
    },
    {
     "name": "stdout",
     "output_type": "stream",
     "text": [
      "[CV] ................... C=1, max_iter=500, score=0.907, total=   2.2s\n",
      "[CV] C=1, max_iter=500 ...............................................\n",
      "[CV] ................... C=1, max_iter=500, score=0.915, total=   2.3s\n",
      "[CV] C=1, max_iter=500 ...............................................\n",
      "[CV] ................... C=1, max_iter=500, score=0.915, total=   2.5s\n",
      "[CV] C=1, max_iter=600 ...............................................\n",
      "[CV] ................... C=1, max_iter=600, score=0.906, total=   2.4s\n",
      "[CV] C=1, max_iter=600 ...............................................\n",
      "[CV] ................... C=1, max_iter=600, score=0.908, total=   2.0s\n",
      "[CV] C=1, max_iter=600 ...............................................\n",
      "[CV] ................... C=1, max_iter=600, score=0.907, total=   2.0s\n",
      "[CV] C=1, max_iter=600 ...............................................\n",
      "[CV] ................... C=1, max_iter=600, score=0.915, total=   1.9s\n",
      "[CV] C=1, max_iter=600 ...............................................\n",
      "[CV] ................... C=1, max_iter=600, score=0.915, total=   2.5s\n",
      "[CV] C=1, max_iter=700 ...............................................\n",
      "[CV] ................... C=1, max_iter=700, score=0.906, total=   1.9s\n",
      "[CV] C=1, max_iter=700 ...............................................\n",
      "[CV] ................... C=1, max_iter=700, score=0.908, total=   2.0s\n",
      "[CV] C=1, max_iter=700 ...............................................\n",
      "[CV] ................... C=1, max_iter=700, score=0.907, total=   2.0s\n",
      "[CV] C=1, max_iter=700 ...............................................\n",
      "[CV] ................... C=1, max_iter=700, score=0.915, total=   2.2s\n",
      "[CV] C=1, max_iter=700 ...............................................\n",
      "[CV] ................... C=1, max_iter=700, score=0.915, total=   2.2s\n",
      "[CV] C=10, max_iter=500 ..............................................\n"
     ]
    },
    {
     "name": "stderr",
     "output_type": "stream",
     "text": [
      "lbfgs failed to converge (status=1):\n",
      "STOP: TOTAL NO. of ITERATIONS REACHED LIMIT.\n",
      "\n",
      "Increase the number of iterations (max_iter) or scale the data as shown in:\n",
      "    https://scikit-learn.org/stable/modules/preprocessing.html\n",
      "Please also refer to the documentation for alternative solver options:\n",
      "    https://scikit-learn.org/stable/modules/linear_model.html#logistic-regression\n"
     ]
    },
    {
     "name": "stdout",
     "output_type": "stream",
     "text": [
      "[CV] .................. C=10, max_iter=500, score=0.906, total=   3.1s\n",
      "[CV] C=10, max_iter=500 ..............................................\n"
     ]
    },
    {
     "name": "stderr",
     "output_type": "stream",
     "text": [
      "lbfgs failed to converge (status=1):\n",
      "STOP: TOTAL NO. of ITERATIONS REACHED LIMIT.\n",
      "\n",
      "Increase the number of iterations (max_iter) or scale the data as shown in:\n",
      "    https://scikit-learn.org/stable/modules/preprocessing.html\n",
      "Please also refer to the documentation for alternative solver options:\n",
      "    https://scikit-learn.org/stable/modules/linear_model.html#logistic-regression\n"
     ]
    },
    {
     "name": "stdout",
     "output_type": "stream",
     "text": [
      "[CV] .................. C=10, max_iter=500, score=0.908, total=   3.5s\n",
      "[CV] C=10, max_iter=500 ..............................................\n"
     ]
    },
    {
     "name": "stderr",
     "output_type": "stream",
     "text": [
      "lbfgs failed to converge (status=1):\n",
      "STOP: TOTAL NO. of ITERATIONS REACHED LIMIT.\n",
      "\n",
      "Increase the number of iterations (max_iter) or scale the data as shown in:\n",
      "    https://scikit-learn.org/stable/modules/preprocessing.html\n",
      "Please also refer to the documentation for alternative solver options:\n",
      "    https://scikit-learn.org/stable/modules/linear_model.html#logistic-regression\n"
     ]
    },
    {
     "name": "stdout",
     "output_type": "stream",
     "text": [
      "[CV] .................. C=10, max_iter=500, score=0.907, total=   3.2s\n",
      "[CV] C=10, max_iter=500 ..............................................\n"
     ]
    },
    {
     "name": "stderr",
     "output_type": "stream",
     "text": [
      "lbfgs failed to converge (status=1):\n",
      "STOP: TOTAL NO. of ITERATIONS REACHED LIMIT.\n",
      "\n",
      "Increase the number of iterations (max_iter) or scale the data as shown in:\n",
      "    https://scikit-learn.org/stable/modules/preprocessing.html\n",
      "Please also refer to the documentation for alternative solver options:\n",
      "    https://scikit-learn.org/stable/modules/linear_model.html#logistic-regression\n"
     ]
    },
    {
     "name": "stdout",
     "output_type": "stream",
     "text": [
      "[CV] .................. C=10, max_iter=500, score=0.915, total=   3.5s\n",
      "[CV] C=10, max_iter=500 ..............................................\n"
     ]
    },
    {
     "name": "stderr",
     "output_type": "stream",
     "text": [
      "lbfgs failed to converge (status=1):\n",
      "STOP: TOTAL NO. of ITERATIONS REACHED LIMIT.\n",
      "\n",
      "Increase the number of iterations (max_iter) or scale the data as shown in:\n",
      "    https://scikit-learn.org/stable/modules/preprocessing.html\n",
      "Please also refer to the documentation for alternative solver options:\n",
      "    https://scikit-learn.org/stable/modules/linear_model.html#logistic-regression\n"
     ]
    },
    {
     "name": "stdout",
     "output_type": "stream",
     "text": [
      "[CV] .................. C=10, max_iter=500, score=0.915, total=   3.1s\n",
      "[CV] C=10, max_iter=600 ..............................................\n"
     ]
    },
    {
     "name": "stderr",
     "output_type": "stream",
     "text": [
      "lbfgs failed to converge (status=1):\n",
      "STOP: TOTAL NO. of ITERATIONS REACHED LIMIT.\n",
      "\n",
      "Increase the number of iterations (max_iter) or scale the data as shown in:\n",
      "    https://scikit-learn.org/stable/modules/preprocessing.html\n",
      "Please also refer to the documentation for alternative solver options:\n",
      "    https://scikit-learn.org/stable/modules/linear_model.html#logistic-regression\n"
     ]
    },
    {
     "name": "stdout",
     "output_type": "stream",
     "text": [
      "[CV] .................. C=10, max_iter=600, score=0.906, total=   3.8s\n",
      "[CV] C=10, max_iter=600 ..............................................\n"
     ]
    },
    {
     "name": "stderr",
     "output_type": "stream",
     "text": [
      "lbfgs failed to converge (status=1):\n",
      "STOP: TOTAL NO. of ITERATIONS REACHED LIMIT.\n",
      "\n",
      "Increase the number of iterations (max_iter) or scale the data as shown in:\n",
      "    https://scikit-learn.org/stable/modules/preprocessing.html\n",
      "Please also refer to the documentation for alternative solver options:\n",
      "    https://scikit-learn.org/stable/modules/linear_model.html#logistic-regression\n"
     ]
    },
    {
     "name": "stdout",
     "output_type": "stream",
     "text": [
      "[CV] .................. C=10, max_iter=600, score=0.908, total=   3.6s\n",
      "[CV] C=10, max_iter=600 ..............................................\n"
     ]
    },
    {
     "name": "stderr",
     "output_type": "stream",
     "text": [
      "lbfgs failed to converge (status=1):\n",
      "STOP: TOTAL NO. of ITERATIONS REACHED LIMIT.\n",
      "\n",
      "Increase the number of iterations (max_iter) or scale the data as shown in:\n",
      "    https://scikit-learn.org/stable/modules/preprocessing.html\n",
      "Please also refer to the documentation for alternative solver options:\n",
      "    https://scikit-learn.org/stable/modules/linear_model.html#logistic-regression\n"
     ]
    },
    {
     "name": "stdout",
     "output_type": "stream",
     "text": [
      "[CV] .................. C=10, max_iter=600, score=0.907, total=   3.8s\n",
      "[CV] C=10, max_iter=600 ..............................................\n"
     ]
    },
    {
     "name": "stderr",
     "output_type": "stream",
     "text": [
      "lbfgs failed to converge (status=1):\n",
      "STOP: TOTAL NO. of ITERATIONS REACHED LIMIT.\n",
      "\n",
      "Increase the number of iterations (max_iter) or scale the data as shown in:\n",
      "    https://scikit-learn.org/stable/modules/preprocessing.html\n",
      "Please also refer to the documentation for alternative solver options:\n",
      "    https://scikit-learn.org/stable/modules/linear_model.html#logistic-regression\n"
     ]
    },
    {
     "name": "stdout",
     "output_type": "stream",
     "text": [
      "[CV] .................. C=10, max_iter=600, score=0.915, total=   3.8s\n",
      "[CV] C=10, max_iter=600 ..............................................\n"
     ]
    },
    {
     "name": "stderr",
     "output_type": "stream",
     "text": [
      "lbfgs failed to converge (status=1):\n",
      "STOP: TOTAL NO. of ITERATIONS REACHED LIMIT.\n",
      "\n",
      "Increase the number of iterations (max_iter) or scale the data as shown in:\n",
      "    https://scikit-learn.org/stable/modules/preprocessing.html\n",
      "Please also refer to the documentation for alternative solver options:\n",
      "    https://scikit-learn.org/stable/modules/linear_model.html#logistic-regression\n"
     ]
    },
    {
     "name": "stdout",
     "output_type": "stream",
     "text": [
      "[CV] .................. C=10, max_iter=600, score=0.915, total=   4.2s\n",
      "[CV] C=10, max_iter=700 ..............................................\n"
     ]
    },
    {
     "name": "stderr",
     "output_type": "stream",
     "text": [
      "lbfgs failed to converge (status=1):\n",
      "STOP: TOTAL NO. of ITERATIONS REACHED LIMIT.\n",
      "\n",
      "Increase the number of iterations (max_iter) or scale the data as shown in:\n",
      "    https://scikit-learn.org/stable/modules/preprocessing.html\n",
      "Please also refer to the documentation for alternative solver options:\n",
      "    https://scikit-learn.org/stable/modules/linear_model.html#logistic-regression\n"
     ]
    },
    {
     "name": "stdout",
     "output_type": "stream",
     "text": [
      "[CV] .................. C=10, max_iter=700, score=0.906, total=   5.1s\n",
      "[CV] C=10, max_iter=700 ..............................................\n",
      "[CV] .................. C=10, max_iter=700, score=0.908, total=   4.5s\n",
      "[CV] C=10, max_iter=700 ..............................................\n"
     ]
    },
    {
     "name": "stderr",
     "output_type": "stream",
     "text": [
      "lbfgs failed to converge (status=1):\n",
      "STOP: TOTAL NO. of ITERATIONS REACHED LIMIT.\n",
      "\n",
      "Increase the number of iterations (max_iter) or scale the data as shown in:\n",
      "    https://scikit-learn.org/stable/modules/preprocessing.html\n",
      "Please also refer to the documentation for alternative solver options:\n",
      "    https://scikit-learn.org/stable/modules/linear_model.html#logistic-regression\n"
     ]
    },
    {
     "name": "stdout",
     "output_type": "stream",
     "text": [
      "[CV] .................. C=10, max_iter=700, score=0.907, total=   4.5s\n",
      "[CV] C=10, max_iter=700 ..............................................\n"
     ]
    },
    {
     "name": "stderr",
     "output_type": "stream",
     "text": [
      "lbfgs failed to converge (status=1):\n",
      "STOP: TOTAL NO. of ITERATIONS REACHED LIMIT.\n",
      "\n",
      "Increase the number of iterations (max_iter) or scale the data as shown in:\n",
      "    https://scikit-learn.org/stable/modules/preprocessing.html\n",
      "Please also refer to the documentation for alternative solver options:\n",
      "    https://scikit-learn.org/stable/modules/linear_model.html#logistic-regression\n"
     ]
    },
    {
     "name": "stdout",
     "output_type": "stream",
     "text": [
      "[CV] .................. C=10, max_iter=700, score=0.915, total=   5.4s\n",
      "[CV] C=10, max_iter=700 ..............................................\n"
     ]
    },
    {
     "name": "stderr",
     "output_type": "stream",
     "text": [
      "lbfgs failed to converge (status=1):\n",
      "STOP: TOTAL NO. of ITERATIONS REACHED LIMIT.\n",
      "\n",
      "Increase the number of iterations (max_iter) or scale the data as shown in:\n",
      "    https://scikit-learn.org/stable/modules/preprocessing.html\n",
      "Please also refer to the documentation for alternative solver options:\n",
      "    https://scikit-learn.org/stable/modules/linear_model.html#logistic-regression\n",
      "[Parallel(n_jobs=1)]: Done  30 out of  30 | elapsed:  1.5min finished\n"
     ]
    },
    {
     "name": "stdout",
     "output_type": "stream",
     "text": [
      "[CV] .................. C=10, max_iter=700, score=0.915, total=   4.6s\n"
     ]
    },
    {
     "name": "stderr",
     "output_type": "stream",
     "text": [
      "lbfgs failed to converge (status=1):\n",
      "STOP: TOTAL NO. of ITERATIONS REACHED LIMIT.\n",
      "\n",
      "Increase the number of iterations (max_iter) or scale the data as shown in:\n",
      "    https://scikit-learn.org/stable/modules/preprocessing.html\n",
      "Please also refer to the documentation for alternative solver options:\n",
      "    https://scikit-learn.org/stable/modules/linear_model.html#logistic-regression\n"
     ]
    },
    {
     "data": {
      "text/html": [
       "<style>div.sk-top-container {color: black;background-color: white;}div.sk-toggleable {background-color: white;}label.sk-toggleable__label {cursor: pointer;display: block;width: 100%;margin-bottom: 0;padding: 0.2em 0.3em;box-sizing: border-box;text-align: center;}div.sk-toggleable__content {max-height: 0;max-width: 0;overflow: hidden;text-align: left;background-color: #f0f8ff;}div.sk-toggleable__content pre {margin: 0.2em;color: black;border-radius: 0.25em;background-color: #f0f8ff;}input.sk-toggleable__control:checked~div.sk-toggleable__content {max-height: 200px;max-width: 100%;overflow: auto;}div.sk-estimator input.sk-toggleable__control:checked~label.sk-toggleable__label {background-color: #d4ebff;}div.sk-label input.sk-toggleable__control:checked~label.sk-toggleable__label {background-color: #d4ebff;}input.sk-hidden--visually {border: 0;clip: rect(1px 1px 1px 1px);clip: rect(1px, 1px, 1px, 1px);height: 1px;margin: -1px;overflow: hidden;padding: 0;position: absolute;width: 1px;}div.sk-estimator {font-family: monospace;background-color: #f0f8ff;margin: 0.25em 0.25em;border: 1px dotted black;border-radius: 0.25em;box-sizing: border-box;}div.sk-estimator:hover {background-color: #d4ebff;}div.sk-parallel-item::after {content: \"\";width: 100%;border-bottom: 1px solid gray;flex-grow: 1;}div.sk-label:hover label.sk-toggleable__label {background-color: #d4ebff;}div.sk-serial::before {content: \"\";position: absolute;border-left: 1px solid gray;box-sizing: border-box;top: 2em;bottom: 0;left: 50%;}div.sk-serial {display: flex;flex-direction: column;align-items: center;background-color: white;}div.sk-item {z-index: 1;}div.sk-parallel {display: flex;align-items: stretch;justify-content: center;background-color: white;}div.sk-parallel-item {display: flex;flex-direction: column;position: relative;background-color: white;}div.sk-parallel-item:first-child::after {align-self: flex-end;width: 50%;}div.sk-parallel-item:last-child::after {align-self: flex-start;width: 50%;}div.sk-parallel-item:only-child::after {width: 0;}div.sk-dashed-wrapped {border: 1px dashed gray;margin: 0.2em;box-sizing: border-box;padding-bottom: 0.1em;background-color: white;position: relative;}div.sk-label label {font-family: monospace;font-weight: bold;background-color: white;display: inline-block;line-height: 1.2em;}div.sk-label-container {position: relative;z-index: 2;text-align: center;}div.sk-container {display: inline-block;position: relative;}</style><div class=\"sk-top-container\"><div class=\"sk-container\"><div class=\"sk-item sk-dashed-wrapped\"><div class=\"sk-label-container\"><div class=\"sk-label sk-toggleable\"><input class=\"sk-toggleable__control sk-hidden--visually\" id=\"4bc45c08-83db-43cf-8e54-6078880bd9af\" type=\"checkbox\" ><label class=\"sk-toggleable__label\" for=\"4bc45c08-83db-43cf-8e54-6078880bd9af\">GridSearchCV</label><div class=\"sk-toggleable__content\"><pre>GridSearchCV(estimator=LogisticRegression(random_state=42),\n",
       "             param_grid={'C': [1, 10], 'max_iter': [500, 600, 700]},\n",
       "             scoring='average_precision', verbose=3)</pre></div></div></div><div class=\"sk-parallel\"><div class=\"sk-parallel-item\"><div class=\"sk-item\"><div class=\"sk-serial\"><div class=\"sk-item\"><div class=\"sk-estimator sk-toggleable\"><input class=\"sk-toggleable__control sk-hidden--visually\" id=\"6556a853-af5d-40f0-a80e-3d087858402e\" type=\"checkbox\" ><label class=\"sk-toggleable__label\" for=\"6556a853-af5d-40f0-a80e-3d087858402e\">LogisticRegression</label><div class=\"sk-toggleable__content\"><pre>LogisticRegression(random_state=42)</pre></div></div></div></div></div></div></div></div></div></div>"
      ],
      "text/plain": [
       "GridSearchCV(estimator=LogisticRegression(random_state=42),\n",
       "             param_grid={'C': [1, 10], 'max_iter': [500, 600, 700]},\n",
       "             scoring='average_precision', verbose=3)"
      ]
     },
     "execution_count": 31,
     "metadata": {},
     "output_type": "execute_result"
    }
   ],
   "source": [
    "## LogReg Model\n",
    "lrgs = GridSearchCV(LogisticRegression(random_state = 42),lg_params,\n",
    "                    scoring = 'average_precision', verbose = 3)\n",
    "\n",
    "lrgs.fit(X_train_tf_df, y_train)"
   ]
  },
  {
   "cell_type": "code",
   "execution_count": 32,
   "metadata": {
    "ExecuteTime": {
     "end_time": "2021-10-27T17:25:59.053561Z",
     "start_time": "2021-10-27T17:25:57.843573Z"
    }
   },
   "outputs": [
    {
     "name": "stdout",
     "output_type": "stream",
     "text": [
      "\n",
      "|-------------------------------- Classification Metrics -----------------------------------|\n",
      "\n",
      "Training accuracy score: 0.82\n",
      "Testing accuracy score: 0.82\n",
      "\t- The scores are the same size.\n",
      "\n",
      "Training data log loss: 0.38\n",
      "Testing data log loss: 0.39\n",
      "\n",
      "\n",
      "\n",
      "|---------------------------- Classification Report - Testing Data -------------------------|\n",
      "\n",
      "              precision    recall  f1-score   support\n",
      "\n",
      "           0       0.88      0.83      0.85     18792\n",
      "           1       0.73      0.80      0.77     11055\n",
      "\n",
      "    accuracy                           0.82     29847\n",
      "   macro avg       0.80      0.81      0.81     29847\n",
      "weighted avg       0.82      0.82      0.82     29847\n",
      "\n"
     ]
    },
    {
     "data": {
      "image/png": "[encoded data removed]",
      "text/plain": [
       "<Figure size 720x288 with 3 Axes>"
      ]
     },
     "metadata": {
      "needs_background": "light"
     },
     "output_type": "display_data"
    }
   ],
   "source": [
    "clf.evaluate_classification(lrgs, X_train = X_train_tf_df,y_train = y_train,\n",
    "                           X_test = X_test_tf_df, y_test = y_test)"
   ]
  },
  {
   "cell_type": "code",
   "execution_count": 33,
   "metadata": {
    "ExecuteTime": {
     "end_time": "2021-10-27T17:25:59.382562Z",
     "start_time": "2021-10-27T17:25:59.056562Z"
    }
   },
   "outputs": [
    {
     "data": {
      "text/plain": [
       "{'C': 10, 'max_iter': 500}"
      ]
     },
     "execution_count": 33,
     "metadata": {},
     "output_type": "execute_result"
    }
   ],
   "source": [
    "lrgs.best_params_"
   ]
  },
  {
   "cell_type": "code",
   "execution_count": 34,
   "metadata": {
    "ExecuteTime": {
     "end_time": "2021-10-27T17:25:59.667559Z",
     "start_time": "2021-10-27T17:25:59.385561Z"
    }
   },
   "outputs": [],
   "source": [
    "best_logreg = lrgs.best_estimator_"
   ]
  },
  {
   "cell_type": "code",
   "execution_count": 35,
   "metadata": {
    "ExecuteTime": {
     "end_time": "2021-10-27T17:26:00.480561Z",
     "start_time": "2021-10-27T17:25:59.671562Z"
    }
   },
   "outputs": [
    {
     "data": {
      "image/png": "[encoded data removed]",
      "text/plain": [
       "<Figure size 576x360 with 1 Axes>"
      ]
     },
     "metadata": {},
     "output_type": "display_data"
    }
   ],
   "source": [
    "clf.plot_log_odds(best_logreg, X_test_tf_df)"
   ]
  },
  {
   "cell_type": "markdown",
   "metadata": {},
   "source": [
    "---\n",
    "**Scores**\n",
    "\n",
    "> Training balanced accuracy score: .82\n",
    "> \n",
    "> Testing balanced accuracy score: .81\n",
    "> \n",
    "> * \n",
    ">\n",
    "> Training data log loss: .38\n",
    ">\n",
    "> Testing data log loss: .40\n",
    "\n",
    "---\n",
    "\n",
    "**Best Parameters**\n",
    "\n",
    "> {'C': 10, 'max_iter': 500}\n",
    "\n",
    "**Interpretation**\n",
    "\n",
    "> It seems that my initial setting of 500 iterations was the best choice, and a weaker regularization strength of 10 performed better than the default of 1. However, neither the scores or coefficients showed any significant change.\n",
    ">\n",
    "> **I will keep these results in mind, but I still believe the RandomForestClassifer is the best model.**\n",
    "\n",
    "\n",
    "---"
   ]
  },
  {
   "cell_type": "markdown",
   "metadata": {},
   "source": [
    "## GS: Random Forest"
   ]
  },
  {
   "cell_type": "code",
   "execution_count": null,
   "metadata": {
    "ExecuteTime": {
     "start_time": "2021-10-27T17:19:47.659Z"
    },
    "scrolled": true
   },
   "outputs": [
    {
     "name": "stdout",
     "output_type": "stream",
     "text": [
      "Fitting 3 folds for each of 12 candidates, totalling 36 fits\n",
      "[CV] criterion=gini, max_depth=40, min_samples_split=2 ...............\n"
     ]
    },
    {
     "name": "stderr",
     "output_type": "stream",
     "text": [
      "[Parallel(n_jobs=1)]: Using backend SequentialBackend with 1 concurrent workers.\n"
     ]
    },
    {
     "name": "stdout",
     "output_type": "stream",
     "text": [
      "[CV]  criterion=gini, max_depth=40, min_samples_split=2, score=0.948, total=   4.6s\n",
      "[CV] criterion=gini, max_depth=40, min_samples_split=2 ...............\n"
     ]
    },
    {
     "name": "stderr",
     "output_type": "stream",
     "text": [
      "[Parallel(n_jobs=1)]: Done   1 out of   1 | elapsed:    4.5s remaining:    0.0s\n"
     ]
    },
    {
     "name": "stdout",
     "output_type": "stream",
     "text": [
      "[CV]  criterion=gini, max_depth=40, min_samples_split=2, score=0.956, total=   5.0s\n",
      "[CV] criterion=gini, max_depth=40, min_samples_split=2 ...............\n"
     ]
    },
    {
     "name": "stderr",
     "output_type": "stream",
     "text": [
      "[Parallel(n_jobs=1)]: Done   2 out of   2 | elapsed:    9.6s remaining:    0.0s\n"
     ]
    },
    {
     "name": "stdout",
     "output_type": "stream",
     "text": [
      "[CV]  criterion=gini, max_depth=40, min_samples_split=2, score=0.976, total=   4.7s\n",
      "[CV] criterion=gini, max_depth=40, min_samples_split=3 ...............\n",
      "[CV]  criterion=gini, max_depth=40, min_samples_split=3, score=0.948, total=   4.3s\n",
      "[CV] criterion=gini, max_depth=40, min_samples_split=3 ...............\n",
      "[CV]  criterion=gini, max_depth=40, min_samples_split=3, score=0.955, total=   4.5s\n",
      "[CV] criterion=gini, max_depth=40, min_samples_split=3 ...............\n",
      "[CV]  criterion=gini, max_depth=40, min_samples_split=3, score=0.977, total=   4.7s\n",
      "[CV] criterion=gini, max_depth=50, min_samples_split=2 ...............\n",
      "[CV]  criterion=gini, max_depth=50, min_samples_split=2, score=0.948, total=   4.4s\n",
      "[CV] criterion=gini, max_depth=50, min_samples_split=2 ...............\n",
      "[CV]  criterion=gini, max_depth=50, min_samples_split=2, score=0.957, total=   4.3s\n",
      "[CV] criterion=gini, max_depth=50, min_samples_split=2 ...............\n",
      "[CV]  criterion=gini, max_depth=50, min_samples_split=2, score=0.975, total=   4.6s\n",
      "[CV] criterion=gini, max_depth=50, min_samples_split=3 ...............\n",
      "[CV]  criterion=gini, max_depth=50, min_samples_split=3, score=0.949, total=   4.2s\n",
      "[CV] criterion=gini, max_depth=50, min_samples_split=3 ...............\n",
      "[CV]  criterion=gini, max_depth=50, min_samples_split=3, score=0.954, total=   4.3s\n",
      "[CV] criterion=gini, max_depth=50, min_samples_split=3 ...............\n",
      "[CV]  criterion=gini, max_depth=50, min_samples_split=3, score=0.976, total=   4.5s\n",
      "[CV] criterion=gini, max_depth=60, min_samples_split=2 ...............\n",
      "[CV]  criterion=gini, max_depth=60, min_samples_split=2, score=0.948, total=   5.3s\n",
      "[CV] criterion=gini, max_depth=60, min_samples_split=2 ...............\n",
      "[CV]  criterion=gini, max_depth=60, min_samples_split=2, score=0.957, total=   4.9s\n",
      "[CV] criterion=gini, max_depth=60, min_samples_split=2 ...............\n"
     ]
    }
   ],
   "source": [
    "rfc_params = {'criterion': ['gini', 'entropy'],\n",
    "              'max_depth': [40,50, 60],\n",
    "              'min_samples_split': [2,3]\n",
    "}\n",
    "\n",
    "rfgs = GridSearchCV(RandomForestClassifier(random_state = 42, n_jobs=-1),\n",
    "                    rfc_params,scoring = 'average_precision',verbose = 3,\n",
    "                   cv = 3)\n",
    "\n",
    "rfgs.fit(X_train_tf_df, y_train)"
   ]
  },
  {
   "cell_type": "code",
   "execution_count": null,
   "metadata": {
    "ExecuteTime": {
     "start_time": "2021-10-27T17:19:47.664Z"
    }
   },
   "outputs": [],
   "source": [
    "rfgs.best_params_"
   ]
  },
  {
   "cell_type": "code",
   "execution_count": null,
   "metadata": {
    "ExecuteTime": {
     "start_time": "2021-10-27T17:19:47.671Z"
    }
   },
   "outputs": [],
   "source": [
    "best_rfc = rfgs.best_estimator_"
   ]
  },
  {
   "cell_type": "code",
   "execution_count": null,
   "metadata": {
    "ExecuteTime": {
     "start_time": "2021-10-27T17:19:47.678Z"
    },
    "scrolled": false
   },
   "outputs": [],
   "source": [
    "clf.evaluate_classification(best_rfc, X_train = X_train_tf_df,y_train = y_train,\n",
    "                           X_test = X_test_tf_df, y_test = y_test,\n",
    "                          metric = 'average precision')"
   ]
  },
  {
   "cell_type": "code",
   "execution_count": null,
   "metadata": {
    "ExecuteTime": {
     "start_time": "2021-10-27T17:19:47.693Z"
    },
    "scrolled": false
   },
   "outputs": [],
   "source": [
    "## New Importances\n",
    "clf.plot_importances(best_rfc, X_test_tf_df)"
   ]
  },
  {
   "cell_type": "code",
   "execution_count": null,
   "metadata": {
    "ExecuteTime": {
     "start_time": "2021-10-27T17:19:47.697Z"
    }
   },
   "outputs": [],
   "source": [
    "## Old Importances\n",
    "clf.plot_importances(rfc, X_test_tf_df)"
   ]
  },
  {
   "cell_type": "markdown",
   "metadata": {},
   "source": [
    "---\n",
    "\n",
    "**Scores**\n",
    "\n",
    "> Training balanced accuracy score: 1.0\n",
    "> \n",
    "> **Testing balanced accuracy score: .87**\n",
    "> \n",
    "> * *The training score is larger by 0.13 points.*\n",
    ">\n",
    "> Training data log loss: .05\n",
    ">\n",
    "> Testing data log loss: .30\n",
    "\n",
    "---\n",
    "\n",
    "**Best Parameters**\n",
    "\n",
    "> * criterion : entropy\n",
    "* max_depth : 60\n",
    "* min_samples_split : 2\n",
    "\n",
    "---\n",
    "\n",
    "**Interpretation**\n",
    "\n",
    "> The RandomForestClassfier best parameters changed slightly, with a few changes in the feature importances order, but the average precision stayed the same.\n",
    ">\n",
    "> The new parameters increased the importance of ADR by a few places, but the other top features remained relatively the same.\n",
    ">\n",
    "> Interestingly, despite the average precision not changing, I did notice two secondary metrics improved:\n",
    "* The log-loss metric decreased (.53 vs .28)\n",
    "* The AUC score increased (.79 vs. 95)\n",
    ">\n",
    "> While I am not focusing on those metrics, they do support the chosen hyperparameters and support my choice to use the RandomForestClassifier as my best model.\n",
    "\n",
    "---"
   ]
  },
  {
   "cell_type": "markdown",
   "metadata": {},
   "source": [
    "## GS: Extra Trees Classifier"
   ]
  },
  {
   "cell_type": "markdown",
   "metadata": {},
   "source": [
    "---\n",
    "\n",
    "> To confirm my RandomForestClassifier results, I will compare it against a hyper-parameter-tuned ExtraTreesClassifier to ensure my results are in-line with the original results.\n",
    "\n",
    "---"
   ]
  },
  {
   "cell_type": "code",
   "execution_count": null,
   "metadata": {
    "ExecuteTime": {
     "start_time": "2021-10-27T17:19:47.702Z"
    },
    "code_folding": []
   },
   "outputs": [],
   "source": [
    "# etc_params = {\n",
    "#     'criterion': ['gini', 'entropy'],\n",
    "#     'max_depth': [50, 60],\n",
    "#     'min_samples_leaf': [1,2,3]\n",
    "# }"
   ]
  },
  {
   "cell_type": "code",
   "execution_count": null,
   "metadata": {
    "ExecuteTime": {
     "start_time": "2021-10-27T17:19:47.705Z"
    },
    "code_folding": [],
    "scrolled": true
   },
   "outputs": [],
   "source": [
    "# etgs = GridSearchCV(ExtraTreesClassifier(random_state = 42, n_jobs=-1),etc_params,\n",
    "#                     scoring = 'average_precision', verbose = 2)\n",
    "\n",
    "# etgs.fit(X_train_tf_df, y_train)"
   ]
  },
  {
   "cell_type": "code",
   "execution_count": null,
   "metadata": {
    "ExecuteTime": {
     "start_time": "2021-10-27T17:19:47.709Z"
    },
    "code_folding": [],
    "scrolled": true
   },
   "outputs": [],
   "source": [
    "# etgs.best_params_"
   ]
  },
  {
   "cell_type": "code",
   "execution_count": null,
   "metadata": {
    "ExecuteTime": {
     "start_time": "2021-10-27T17:19:47.715Z"
    }
   },
   "outputs": [],
   "source": [
    "# best_etc = etgs.best_estimator_"
   ]
  },
  {
   "cell_type": "code",
   "execution_count": null,
   "metadata": {
    "ExecuteTime": {
     "start_time": "2021-10-27T17:19:47.720Z"
    }
   },
   "outputs": [],
   "source": [
    "# clf.evaluate_classification(best_etc, X_train = X_train_tf_df,y_train = y_train,\n",
    "#                            X_test = X_test_tf_df, y_test = y_test,\n",
    "#                           metric = 'average precision')"
   ]
  },
  {
   "cell_type": "code",
   "execution_count": null,
   "metadata": {
    "ExecuteTime": {
     "start_time": "2021-10-27T17:19:47.725Z"
    }
   },
   "outputs": [],
   "source": [
    "# clf.plot_importances(best_etc, X_test_tf_df)"
   ]
  },
  {
   "cell_type": "markdown",
   "metadata": {},
   "source": [
    "---\n",
    "\n",
    "**Scores**\n",
    "\n",
    "> Training balanced accuracy score: 1.0\n",
    "> \n",
    "> **Testing balanced accuracy score: .87**\n",
    "> \n",
    "> * *The training score is larger by 0.13 points.*\n",
    ">\n",
    "> Training data log loss: .05\n",
    ">\n",
    "> Testing data log loss: .30\n",
    "\n",
    "---\n",
    "\n",
    "**Best Parameters**\n",
    "\n",
    "> {'criterion': 'entropy', 'max_depth': 50, 'min_samples_leaf': 1}\n",
    "\n",
    "---\n",
    "\n",
    "**Interpretation**\n",
    "\n",
    "> Even with hyperparameter tuning, the ExtraTreesClassifier did not have better metrics than the RandomForestClassifier. Furthermore, it took *3x* longer to run - nearly 15 minutes in my case.\n",
    ">\n",
    "> Due to the runtime increase and lack of improvement in metrics, I will stick with the RandomForestClassifier.\n",
    "\n",
    "---"
   ]
  },
  {
   "cell_type": "markdown",
   "metadata": {},
   "source": [
    "# **Collecting Coeffcients, Inspecting Importances**"
   ]
  },
  {
   "cell_type": "markdown",
   "metadata": {
    "ExecuteTime": {
     "end_time": "2021-09-08T14:26:58.848264Z",
     "start_time": "2021-09-08T14:26:58.725265Z"
    }
   },
   "source": [
    "---\n",
    "\n",
    "> After performing hyperparameter tuning, I determined my best model is the RandomForestClassfier. As a comparison, I will also review the final coefficients of my logistic regression model to see how the features match up.\n",
    "\n",
    "---"
   ]
  },
  {
   "cell_type": "markdown",
   "metadata": {},
   "source": [
    "## Inspecting Importances"
   ]
  },
  {
   "cell_type": "code",
   "execution_count": null,
   "metadata": {
    "ExecuteTime": {
     "start_time": "2021-10-27T17:19:47.734Z"
    },
    "scrolled": false
   },
   "outputs": [],
   "source": [
    "clf.plot_importances(best_rfc, X_test_tf_df)"
   ]
  },
  {
   "cell_type": "markdown",
   "metadata": {},
   "source": [
    "## **Coefficients**"
   ]
  },
  {
   "cell_type": "code",
   "execution_count": null,
   "metadata": {
    "ExecuteTime": {
     "start_time": "2021-10-27T17:19:47.741Z"
    }
   },
   "outputs": [],
   "source": [
    "clf.plot_log_odds(best_logreg, X_test_tf_df)"
   ]
  },
  {
   "cell_type": "markdown",
   "metadata": {},
   "source": [
    "---\n",
    "\n",
    "> The respective results for each model are very different, with only the `required_car_parking_spaces` overlapping between the two. **Due to the better scores and low runtime, I consider my RandomForestClassifier to be the best model.**\n",
    "\n",
    "---"
   ]
  },
  {
   "cell_type": "markdown",
   "metadata": {},
   "source": [
    "# **Interpreting Results with SHAP**"
   ]
  },
  {
   "cell_type": "markdown",
   "metadata": {},
   "source": [
    "---\n",
    "\n",
    "> **One of the downsides of tree-based models is the difficulty when interpreting the impact of a specific feature.** Feature importances from tree-based models indicate how often a feature was used to make a decision, but they do not indicate if that feature was more or less likely to predict the target feature.\n",
    ">\n",
    "> To interpret these results, I will utilize a visualization package called **SHAP** to produce \"Shapely values\" for each feature. These values indicate each feature's marginal contribution to the model - answering the question, \"*How well does the model perform with this feature than without?*\"\n",
    ">\n",
    ">Using tools within the package, I will focus on the `summary_plot`, which visualizes each feature's Shapely value and the feature's  specific values from low-high (relative to each feature).\n",
    ">\n",
    "> More information about SHAP:\n",
    "* [SHAP Documentation](https://shap.readthedocs.io/en/latest/?badge=latest)\n",
    "* [SHAP Repository](https://github.com/slundberg/shap)\n",
    "\n",
    "---"
   ]
  },
  {
   "cell_type": "code",
   "execution_count": null,
   "metadata": {
    "ExecuteTime": {
     "start_time": "2021-10-27T17:19:47.768Z"
    }
   },
   "outputs": [],
   "source": [
    " ## Initializing Javascript for SHAP models\n",
    "shap.initjs()"
   ]
  },
  {
   "cell_type": "code",
   "execution_count": null,
   "metadata": {
    "ExecuteTime": {
     "start_time": "2021-10-27T17:19:47.778Z"
    }
   },
   "outputs": [],
   "source": [
    "## Generating a sample of the overall data for review:\n",
    "X_shap = shap.sample(X_test_tf_df, nsamples=50)"
   ]
  },
  {
   "cell_type": "markdown",
   "metadata": {},
   "source": [
    "## Using TreeExplainer"
   ]
  },
  {
   "cell_type": "markdown",
   "metadata": {},
   "source": [
    "---\n",
    "\n",
    "> The SHAP package includes a few different \"Explainer\" objects to \"explain\" the results of different types of models. Since I used a RandomForestClassifier, I will use the \"TreeExplainer\" to calculate my SHAP values for plotting.\n",
    "\n",
    "---"
   ]
  },
  {
   "cell_type": "code",
   "execution_count": null,
   "metadata": {
    "ExecuteTime": {
     "start_time": "2021-10-27T17:19:47.788Z"
    }
   },
   "outputs": [],
   "source": [
    "## Initializing an explainer with the RandomForestClassifier model\n",
    "t_explainer = shap.TreeExplainer(rfgs.best_estimator_)"
   ]
  },
  {
   "cell_type": "code",
   "execution_count": null,
   "metadata": {
    "ExecuteTime": {
     "start_time": "2021-10-27T17:19:47.795Z"
    }
   },
   "outputs": [],
   "source": [
    "## Calculating SHAP values for sample test data\n",
    "shap_values = t_explainer.shap_values(X_shap)\n",
    "len(shap_values)"
   ]
  },
  {
   "cell_type": "markdown",
   "metadata": {},
   "source": [
    "## Dot Plot"
   ]
  },
  {
   "cell_type": "markdown",
   "metadata": {},
   "source": [
    "---\n",
    "\n",
    "> Now that I have my SHAP values, I will use them to create a dot plot. This plot consists of three main elements. From left to right:\n",
    "* **Feature labels**: ranked from most to least impactful for classifying results\n",
    "* **Feature rows**: each row is a linear representation of the SHAP values for the sampled values for that feature\n",
    "\t* Feature scores may be positive/negative: positive values increase likelihood of a positive classification; negatives decrease the likelihood\n",
    "\t* Features close to zero have little impact on the model\n",
    "* **Dot colors**: showing magnitude of the values; low values are blue, red values are high\n",
    "\n",
    "---"
   ]
  },
  {
   "cell_type": "code",
   "execution_count": null,
   "metadata": {
    "ExecuteTime": {
     "start_time": "2021-10-27T17:19:47.801Z"
    },
    "scrolled": true
   },
   "outputs": [],
   "source": [
    "## Preparing column names for visualization labels\n",
    "X_shap.rename(columns = lambda x: x.title().replace('_', ' '), inplace=True)"
   ]
  },
  {
   "cell_type": "code",
   "execution_count": null,
   "metadata": {
    "ExecuteTime": {
     "start_time": "2021-10-27T17:19:47.806Z"
    },
    "scrolled": false
   },
   "outputs": [],
   "source": [
    "## Better plot\n",
    "shap.summary_plot(shap_values[1],X_shap,max_display=15)"
   ]
  },
  {
   "cell_type": "markdown",
   "metadata": {},
   "source": [
    "# Reviewing Results"
   ]
  },
  {
   "cell_type": "markdown",
   "metadata": {},
   "source": [
    "---\n",
    "\n",
    "> Based on the results of my RandomForestClassifier and visualization of my SHAP plot, I see that...\n",
    "* Reservations from Portugal are more likely to cancel vs. reservations from elsewhere\n",
    "* Reservations with no special requests are more likely to cancel - however any amount of requests may decrease likelihood of cancellation\n",
    "* Higher lead times show a slightly positive relationship with cancellations\n",
    "* Reservations listed not as \"non-refundable\" are less likely to cancel\n",
    "* Reservations listed as \"no deposit\" are less likely to cancel\n",
    "\n",
    "---"
   ]
  },
  {
   "cell_type": "markdown",
   "metadata": {},
   "source": [
    "# Recommendations"
   ]
  },
  {
   "cell_type": "markdown",
   "metadata": {},
   "source": [
    "---\n",
    "\n",
    "**Based on these results, I recommend the following:**\n",
    "* Contact guests with long lead times to confirm bookings\n",
    "* Monitor bookings from Portugal versus other countries\n",
    "* Limit availability of non-refundable rates to prevent/limit risk of cancellations\n",
    "\n",
    "---"
   ]
  },
  {
   "cell_type": "markdown",
   "metadata": {},
   "source": [
    "# Future Work"
   ]
  },
  {
   "cell_type": "markdown",
   "metadata": {},
   "source": [
    "---\n",
    "\n",
    "In the future, I would like to improve this project by:\n",
    "* Including whether a reservation is booked over a major holiday to see if they are more/less likely to cancel\n",
    "* Develop time series forecasts using the daily average cancellation probabilities\n",
    "* Expanding the forecasts with vector autoregressive forecasting techniques - using more than just probabilities as factors for forecasts\n",
    "* Determining the likelihood of cancellations within particular windows of time prior to arrival\n",
    "    * E.g. 0-3, 4-7, or 7-14 days\n",
    "\n",
    "---"
   ]
  },
  {
   "cell_type": "markdown",
   "metadata": {},
   "source": [
    "# Addendum: Probabilities"
   ]
  },
  {
   "cell_type": "markdown",
   "metadata": {},
   "source": [
    "---\n",
    "\n",
    "> Now that I built and trained my ideal model for predicting cancellations, I will use the probabilities for each observation for time series modeling and forecasting.\n",
    ">\n",
    "> In this section, I will simply generate the probabilities required for the time series modeling. Once generated, I will append them to the original dataframe and save it as a new pickled file.\n",
    "\n",
    "---"
   ]
  },
  {
   "cell_type": "code",
   "execution_count": null,
   "metadata": {
    "ExecuteTime": {
     "start_time": "2021-10-27T17:19:47.819Z"
    },
    "scrolled": true
   },
   "outputs": [],
   "source": [
    "### Reloading the full dataset\n",
    "\n",
    "data = pd.read_pickle('./data/data_no_assigned.pickle',\n",
    "                           compression = 'gzip')"
   ]
  },
  {
   "cell_type": "code",
   "execution_count": null,
   "metadata": {
    "ExecuteTime": {
     "start_time": "2021-10-27T17:19:47.824Z"
    }
   },
   "outputs": [],
   "source": [
    "## Splitting data into features and target variable\n",
    "target= 'is_canceled'\n",
    "\n",
    "X = data.drop(columns = [target]).copy()\n",
    "y = data[target].copy()"
   ]
  },
  {
   "cell_type": "code",
   "execution_count": null,
   "metadata": {
    "ExecuteTime": {
     "start_time": "2021-10-27T17:19:47.828Z"
    }
   },
   "outputs": [],
   "source": [
    "## Fitting feature preprocessor\n",
    "preprocessor.fit(X)\n",
    "\n",
    "## Getting feature names from OHE\n",
    "ohe_cat_names = preprocessor.named_transformers_['cat'].named_steps['ohe']\\\n",
    "                                                  .get_feature_names(cat_cols)\n",
    "\n",
    "## Generating list for column index\n",
    "final_cols = [*num_cols, *ohe_cat_names]\n",
    "\n",
    "## Transform via the ColumnTransformer preprocessor and create new dataframe\n",
    "X_tf_df = pd.DataFrame(preprocessor.transform(X),\n",
    "                             columns=final_cols, index=X.index)\n",
    "\n",
    "X_tf_df.head(5)"
   ]
  },
  {
   "cell_type": "code",
   "execution_count": null,
   "metadata": {
    "ExecuteTime": {
     "start_time": "2021-10-27T17:19:47.832Z"
    }
   },
   "outputs": [],
   "source": [
    "## Generating probabilities via best model\n",
    "\n",
    "y_preds = best_rfc.predict_proba(X_tf_df)\n",
    "y_preds"
   ]
  },
  {
   "cell_type": "code",
   "execution_count": null,
   "metadata": {
    "ExecuteTime": {
     "start_time": "2021-10-27T17:19:47.837Z"
    }
   },
   "outputs": [],
   "source": [
    "## Creating list of \"positive\" probabilites\n",
    "\n",
    "proba_cxl = []\n",
    "for i in range(len(y_preds)):\n",
    "    proba_cxl.append(round(y_preds[i][1], 3))"
   ]
  },
  {
   "cell_type": "code",
   "execution_count": null,
   "metadata": {
    "ExecuteTime": {
     "start_time": "2021-10-27T17:19:47.841Z"
    }
   },
   "outputs": [],
   "source": [
    "## Converting list to Series and setting Series name\n",
    "pos_cxl = pd.Series(proba_cxl)\n",
    "pos_cxl.rename('cxl_probability', inplace=True)"
   ]
  },
  {
   "cell_type": "code",
   "execution_count": null,
   "metadata": {
    "ExecuteTime": {
     "start_time": "2021-10-27T17:19:47.845Z"
    }
   },
   "outputs": [],
   "source": [
    "## Appending probabilities to original dataframe\n",
    "data_probs = pd.concat([data, pos_cxl], axis=1)\n",
    "data_probs"
   ]
  },
  {
   "cell_type": "code",
   "execution_count": null,
   "metadata": {
    "ExecuteTime": {
     "start_time": "2021-10-27T17:19:47.849Z"
    }
   },
   "outputs": [],
   "source": [
    "## Saving the updated dataframe as a new pickle file\n",
    "## Pickling with Pandas\n",
    "data_probs.to_pickle(path = './data/data_probs.pickle',\n",
    "            compression = 'gzip')\n",
    "print(f'Successfully pickled!')"
   ]
  },
  {
   "cell_type": "code",
   "execution_count": null,
   "metadata": {},
   "outputs": [],
   "source": []
  }
 ],
 "metadata": {
  "kernelspec": {
   "display_name": "Python [conda env:test_intel_env]",
   "language": "python",
   "name": "conda-env-test_intel_env-py"
  },
  "language_info": {
   "codemirror_mode": {
    "name": "ipython",
    "version": 3
   },
   "file_extension": ".py",
   "mimetype": "text/x-python",
   "name": "python",
   "nbconvert_exporter": "python",
   "pygments_lexer": "ipython3",
   "version": "3.8.5"
  },
  "toc": {
   "base_numbering": 1,
   "nav_menu": {},
   "number_sections": true,
   "sideBar": true,
   "skip_h1_title": false,
   "title_cell": "Table of Contents",
   "title_sidebar": "Contents",
   "toc_cell": true,
   "toc_position": {
    "height": "calc(100% - 180px)",
    "left": "10px",
    "top": "150px",
    "width": "165px"
   },
   "toc_section_display": true,
   "toc_window_display": true
  }
 },
 "nbformat": 4,
 "nbformat_minor": 2
}
