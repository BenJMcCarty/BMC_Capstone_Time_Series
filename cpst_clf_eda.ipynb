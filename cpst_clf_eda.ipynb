{
 "cells": [
  {
   "cell_type": "markdown",
   "metadata": {},
   "source": [
    "# **Hotel Cancel Culture** - **EDA Notebook**"
   ]
  },
  {
   "cell_type": "markdown",
   "metadata": {},
   "source": [
    "---\n",
    "\n",
    "**Author:** Ben McCarty\n",
    "\n",
    "**Capstone Project** - Classification, Time Series Modeling\n",
    "\n",
    "**Contact:** bmccarty505@gmail.com\n",
    "\n",
    "---"
   ]
  },
  {
   "cell_type": "markdown",
   "metadata": {},
   "source": [
    "---\n",
    "\n",
    "**Who?**\n",
    ">* 🏢 **Revenue Management (RM) teams** for hotel groups (corporate, franchise)\n",
    ">\n",
    ">\n",
    ">* 🏨 On-site GMs, Sales, and Ops teams\n",
    "\n",
    "---\n",
    "\n",
    "**Why?**\n",
    ">* 💰 **Revenue Management:** \n",
    ">  * Revenue optimization: Right price, right time, right customer\n",
    ">    * Dynamic pricing\n",
    ">    * Distribution channels\n",
    ">    * Pricing per room type\n",
    ">\n",
    ">\n",
    ">* 🤝 **Sales:**\n",
    ">  * Group sales (pickup/wash)\n",
    ">  * BT (performance/company for both GPP and LNR rates)\n",
    ">\n",
    ">\n",
    ">* 🛌 **Rooms Ops:**\n",
    ">  * Forecasting occupancy, arrivals, departures, stay-overs, same-day booking demand, and probability of guest relocation in the case of oversell.\n",
    ">  * Determining staff schedules and periods of high demand\n",
    ">\n",
    ">\n",
    ">* 🍰 ☕ **Food and Beverage:**\n",
    ">  * Ordering food/supplies overall\n",
    ">  * Scheduling staff\n",
    ">  * Determining busy times (breakfast, lunch, dinner)\n",
    ">    * Staffing, specific food/supplies\n",
    "\n",
    "---\n",
    "\n",
    "**What?**\n",
    ">* 🧾 Dataset comprised of... \n",
    ">  * 32 different features\n",
    ">    * Detailed explanation of features (and sub-categories, when appropriate) available in Readme\n",
    ">  * Nearly 120,000 reservation records\n",
    ">  * Source cited in Readme\n",
    "\n",
    "---\n",
    "\n",
    " **How?**\n",
    ">* Which models/methods?\n",
    ">  * 🔢 Classifiers 🌳\n",
    "    * XGBoost, RFC, ABC, etc.\n",
    ">  * ⏳ Time Series Analysis 📈\n",
    "    * PMD auto-arima\n",
    "    * Statsmodels vector autoregression\n",
    ">\n",
    ">\n",
    ">* Data prep and feature engineering\n",
    "\n",
    "---"
   ]
  },
  {
   "cell_type": "markdown",
   "metadata": {},
   "source": [
    "---\n",
    "\n",
    "> **Goal:** To prepare data for classification modeling in next notebook.\n",
    ">\n",
    ">\n",
    "> **Purpose:** to explore, clean, and organize.\n",
    ">\n",
    ">\n",
    "> **Process:**\n",
    ">\n",
    ">    * Inspecting data integrity and statistics\n",
    ">    * Splitting data by hotel type (\"City\" vs. \"Resort\")\n",
    ">    * Filling any missing values\n",
    ">    * Save processed data for modeling notebook\n",
    ">\n",
    ">\n",
    "> **Modeling Notebook:**\n",
    ">\n",
    ">    * Performing train/test split\n",
    ">    * Training the model\n",
    ">    * Evaluate performance metrics\n",
    ">    * Provide final recommendations\n",
    "\n",
    "---"
   ]
  },
  {
   "cell_type": "markdown",
   "metadata": {},
   "source": [
    "# **Import Packages**"
   ]
  },
  {
   "cell_type": "markdown",
   "metadata": {},
   "source": [
    "---\n",
    "\n",
    "> To start off, I will import a variety of packages to assist with handling my data; creating visualizations; and reviewing statistical data.\n",
    "\n",
    "---"
   ]
  },
  {
   "cell_type": "code",
   "execution_count": null,
   "metadata": {
    "ExecuteTime": {
     "end_time": "2021-09-06T19:04:04.514746Z",
     "start_time": "2021-09-06T19:04:01.347071Z"
    }
   },
   "outputs": [],
   "source": [
    "## Data Handling\n",
    "import pandas as pd\n",
    "import numpy as np\n",
    "\n",
    "## Visualizations\n",
    "import matplotlib.pyplot as plt\n",
    "import plotly.express as px\n",
    "\n",
    "## Custom-made Functions\n",
    "from bmc_functions import eda"
   ]
  },
  {
   "cell_type": "code",
   "execution_count": null,
   "metadata": {
    "ExecuteTime": {
     "end_time": "2021-09-06T19:04:04.529633Z",
     "start_time": "2021-09-06T19:04:04.516629Z"
    }
   },
   "outputs": [],
   "source": [
    "## Settings\n",
    "pd.set_option('display.max_columns', None)\n",
    "pd.set_option('display.float_format', lambda x: f'{x:,.2f}')\n",
    "pd.set_option('max_rows', 50)\n",
    "%matplotlib inline"
   ]
  },
  {
   "cell_type": "code",
   "execution_count": null,
   "metadata": {
    "ExecuteTime": {
     "end_time": "2021-09-06T19:04:04.673703Z",
     "start_time": "2021-09-06T19:04:04.531618Z"
    }
   },
   "outputs": [],
   "source": [
    "%load_ext autoreload\n",
    "%autoreload 2"
   ]
  },
  {
   "cell_type": "markdown",
   "metadata": {},
   "source": [
    "# 📥 **Read Data**"
   ]
  },
  {
   "cell_type": "code",
   "execution_count": null,
   "metadata": {
    "ExecuteTime": {
     "end_time": "2021-09-06T19:04:04.988923Z",
     "start_time": "2021-09-06T19:04:04.675690Z"
    }
   },
   "outputs": [],
   "source": [
    "## Reading data\n",
    "source = './data/hotel_bookings.pickle'\n",
    "data = pd.read_pickle(source, compression = \"gzip\")\n",
    "data"
   ]
  },
  {
   "cell_type": "markdown",
   "metadata": {},
   "source": [
    "# 🎯 **Identifying Target Feature** 🎯"
   ]
  },
  {
   "cell_type": "markdown",
   "metadata": {},
   "source": [
    "---\n",
    "\n",
    "> For my classification analysis, **I will use the `is_canceled` feature as my target feature.** This feature indicates whether a reservation was canceled (0 = check-out, 1= canceled).\n",
    ">\n",
    "> There is another feature, `reservation_status`, that also looks valuable. I will compare that feature against `is_canceled` to investigate any differences between the two.\n",
    "\n",
    "---"
   ]
  },
  {
   "cell_type": "code",
   "execution_count": null,
   "metadata": {
    "ExecuteTime": {
     "end_time": "2021-09-06T19:04:05.129808Z",
     "start_time": "2021-09-06T19:04:04.990924Z"
    }
   },
   "outputs": [],
   "source": [
    "## Inspecting target feature\n",
    "data['is_canceled'].describe()"
   ]
  },
  {
   "cell_type": "code",
   "execution_count": null,
   "metadata": {
    "ExecuteTime": {
     "end_time": "2021-09-06T19:04:05.268578Z",
     "start_time": "2021-09-06T19:04:05.131780Z"
    }
   },
   "outputs": [],
   "source": [
    "data['is_canceled'].value_counts(normalize=True, dropna=False)"
   ]
  },
  {
   "cell_type": "markdown",
   "metadata": {},
   "source": [
    "---\n",
    "\n",
    "> Based on this initial review, I see there is a moderate class imbalance between whether a reservation canceled favoring non-canceled reservations with a 63%/37% split between not-canceled/canceled, respectively.\n",
    ">\n",
    "> I will keep this imbalance in mind when I perform my modeling in my next notebook. Imbalanced classes may have a significant negative impact on a model's performance; I will need to address the imbalance at that time.\n",
    "\n",
    "---"
   ]
  },
  {
   "cell_type": "markdown",
   "metadata": {},
   "source": [
    "# **Reviewing Statistics**"
   ]
  },
  {
   "cell_type": "code",
   "execution_count": null,
   "metadata": {
    "ExecuteTime": {
     "end_time": "2021-09-06T19:04:05.789580Z",
     "start_time": "2021-09-06T19:04:05.270608Z"
    }
   },
   "outputs": [],
   "source": [
    "## Sorting report by number of missing values\n",
    "eda.report_df(data).sort_values('null_sum', ascending=False).style\\\n",
    "                                       .background_gradient(subset='null_pct')"
   ]
  },
  {
   "cell_type": "markdown",
   "metadata": {},
   "source": [
    "---\n",
    "\n",
    "> **Notes**\n",
    "\n",
    "---"
   ]
  },
  {
   "cell_type": "markdown",
   "metadata": {},
   "source": [
    "---\n",
    "\n",
    "**Reviewing Reports - Missing Values**\n",
    "\n",
    "> Based on the post-split results, I see that both dataframes are missing values for `company,` `agent`, `country`, and `children`.\n",
    ">\n",
    "> ***Special note:*** As noted in the data's documentation ( located in *\"details.md\"*), any missing values are intentional representations of features that were not applicable to a reservation.\n",
    "---\n",
    "\n",
    "**`Company` and `Agent` Features**\n",
    "\n",
    ">* `company:` 94%\n",
    ">* `agent:` 14%\n",
    ">\n",
    "> Due to the large number of missing values for `company`, **I will drop `company` from both dataframes.**\n",
    ">\n",
    "> Since the missing values for `agent` are valid, **I will keep `agent` and fill the missing values with a placeholder value to represent the lack of a value.** I will fill the missing values in the next section.\n",
    "\n",
    "**`Country` and `Children` Features**\n",
    "\n",
    "> The remaining two features with missing values are `country` and `children`.\n",
    ">\n",
    "> **As there are a small number of missing values in both features, I will keep them and fill the missing values via a SimpleImputer in my modeling pipeline.** By incorporating a SimpleImputer in my pipeline, I will be able to determine the best method to determine the value to fill my missing values. \n",
    "\n",
    "---"
   ]
  },
  {
   "cell_type": "markdown",
   "metadata": {},
   "source": [
    "## Dropping `Company` Column"
   ]
  },
  {
   "cell_type": "code",
   "execution_count": null,
   "metadata": {
    "ExecuteTime": {
     "end_time": "2021-09-06T19:04:05.994626Z",
     "start_time": "2021-09-06T19:04:05.792553Z"
    }
   },
   "outputs": [],
   "source": [
    "# Dropping \"company\" column (95% missing values)\n",
    "data.drop(columns = ['company'], inplace=True)\n",
    "data"
   ]
  },
  {
   "cell_type": "code",
   "execution_count": null,
   "metadata": {
    "ExecuteTime": {
     "end_time": "2021-09-06T19:04:06.120764Z",
     "start_time": "2021-09-06T19:04:05.997451Z"
    }
   },
   "outputs": [],
   "source": [
    "## Confirming 'company' removal from both\n",
    "'company' not in data"
   ]
  },
  {
   "cell_type": "markdown",
   "metadata": {},
   "source": [
    "## Filling missing values in `agent`"
   ]
  },
  {
   "cell_type": "code",
   "execution_count": null,
   "metadata": {
    "ExecuteTime": {
     "end_time": "2021-09-06T19:04:06.248473Z",
     "start_time": "2021-09-06T19:04:06.122766Z"
    }
   },
   "outputs": [],
   "source": [
    "## Identifying unique vales for both sub-groups\n",
    "\n",
    "unique_values = set()\n",
    "for value in data['agent'].unique():\n",
    "    unique_values.add(value)"
   ]
  },
  {
   "cell_type": "code",
   "execution_count": null,
   "metadata": {
    "ExecuteTime": {
     "end_time": "2021-09-06T19:04:06.392392Z",
     "start_time": "2021-09-06T19:04:06.251468Z"
    },
    "code_folding": []
   },
   "outputs": [],
   "source": [
    "## Confirming uniform datatype\n",
    "unique_dtype = set()\n",
    "for item in unique_values:\n",
    "    unique_dtype.add(type(item))\n",
    "    \n",
    "unique_dtype"
   ]
  },
  {
   "cell_type": "code",
   "execution_count": null,
   "metadata": {
    "ExecuteTime": {
     "end_time": "2021-09-06T19:04:06.503701Z",
     "start_time": "2021-09-06T19:04:06.394392Z"
    }
   },
   "outputs": [],
   "source": [
    "## Testing placeholder value to fill missing values\n",
    "999.0 in unique_values"
   ]
  },
  {
   "cell_type": "code",
   "execution_count": null,
   "metadata": {
    "ExecuteTime": {
     "end_time": "2021-09-06T19:04:06.645699Z",
     "start_time": "2021-09-06T19:04:06.505701Z"
    },
    "scrolled": true
   },
   "outputs": [],
   "source": [
    "## Filling missing values and confirming no remaining values\n",
    "\n",
    "data.loc[:,'agent'].fillna(999.0, inplace=True)\n",
    "print(data['agent'].isna().sum())"
   ]
  },
  {
   "cell_type": "markdown",
   "metadata": {},
   "source": [
    "# Filling Values in `\"Country\"` and `\"Children\"`"
   ]
  },
  {
   "cell_type": "markdown",
   "metadata": {},
   "source": [
    "---\n",
    "\n",
    "> As there are so few missing values for the country and children features, I will impute the most frequent values for each feature.\n",
    ">\n",
    "> **I do not expect the imputation method to effect my future modeling results.** If the number of missing values was more substantial, I would incorporate a `SimpleImputer` in my future modeling pipeline.\n",
    "\n",
    "---"
   ]
  },
  {
   "cell_type": "code",
   "execution_count": null,
   "metadata": {
    "ExecuteTime": {
     "end_time": "2021-09-06T19:04:06.881206Z",
     "start_time": "2021-09-06T19:04:06.647700Z"
    }
   },
   "outputs": [],
   "source": [
    "## Identify columns with missing data\n",
    "nan_list = list(data.isna().sum()[data.isna().sum() > 0].index)\n",
    "nan_list"
   ]
  },
  {
   "cell_type": "code",
   "execution_count": null,
   "metadata": {
    "ExecuteTime": {
     "end_time": "2021-09-06T19:04:07.006785Z",
     "start_time": "2021-09-06T19:04:06.883024Z"
    }
   },
   "outputs": [],
   "source": [
    "## Impute the most frequent value for each column\n",
    "for col in nan_list:\n",
    "    data[col].fillna(data[col].mode()[0], inplace=True)"
   ]
  },
  {
   "cell_type": "code",
   "execution_count": null,
   "metadata": {
    "ExecuteTime": {
     "end_time": "2021-09-06T19:04:07.147000Z",
     "start_time": "2021-09-06T19:04:07.008785Z"
    }
   },
   "outputs": [],
   "source": [
    "## Confirming there are no remaining missing values\n",
    "for col in nan_list:\n",
    "    display(data[col].value_counts(1, dropna=0))\n",
    "    print(f'Total missing values for {col.title()}: {data[col].isna().sum()}')"
   ]
  },
  {
   "cell_type": "markdown",
   "metadata": {},
   "source": [
    "# 🔬 **Inspecting Feature Data Types**"
   ]
  },
  {
   "cell_type": "markdown",
   "metadata": {},
   "source": [
    "---\n",
    "\n",
    "**City**\n",
    "\n",
    "---"
   ]
  },
  {
   "cell_type": "code",
   "execution_count": null,
   "metadata": {
    "ExecuteTime": {
     "end_time": "2021-09-06T19:04:07.258921Z",
     "start_time": "2021-09-06T19:04:07.148733Z"
    },
    "scrolled": false
   },
   "outputs": [],
   "source": [
    "## Inspecting dataypes for \"data\"\n",
    "data.dtypes.sort_values()"
   ]
  },
  {
   "cell_type": "markdown",
   "metadata": {},
   "source": [
    "# -- > 🛑 **FIX**: update narrative elements re: changing data types"
   ]
  },
  {
   "cell_type": "markdown",
   "metadata": {},
   "source": [
    "---\n",
    "\n",
    "**Review - Datatypes**\n",
    "\n",
    "> After reviewing the data types, I noticed **`agent` need to be changed to the string datatype. This feature represents unique identifiers for booking agents and need to be treated as categorical data.\n",
    "\n",
    "> **Convert to \"string\" type:**\n",
    "> * agent\n",
    "> * arrival_date_day_of_month \n",
    "> * arrival_date_week_number\n",
    "> * arrival_date_year \n",
    ">\n",
    "> * **Convert to \"datetime\" type:**\n",
    "> * reservation_status_date\n",
    "\n",
    "\n",
    "---"
   ]
  },
  {
   "cell_type": "markdown",
   "metadata": {},
   "source": [
    "## Converting to Strings"
   ]
  },
  {
   "cell_type": "code",
   "execution_count": null,
   "metadata": {
    "ExecuteTime": {
     "end_time": "2021-09-06T19:04:07.872136Z",
     "start_time": "2021-09-06T19:04:07.260892Z"
    },
    "scrolled": true
   },
   "outputs": [],
   "source": [
    "## Converting columns to strings\n",
    "\n",
    "str_col = ['agent', 'arrival_date_day_of_month', 'arrival_date_week_number',\n",
    "           'arrival_date_year']\n",
    "\n",
    "for col in str_col:\n",
    "    data.loc[:,col] = data.loc[:,col].astype(int)\n",
    "    data.loc[:,col] = data.loc[:,col].astype(str)\n",
    "    print(f'Datatype: {data[col].dtype}')\n",
    "    del col\n",
    "\n",
    "del str_col"
   ]
  },
  {
   "cell_type": "markdown",
   "metadata": {},
   "source": [
    "## Converting to DateTime"
   ]
  },
  {
   "cell_type": "code",
   "execution_count": null,
   "metadata": {
    "ExecuteTime": {
     "end_time": "2021-09-06T19:04:08.077787Z",
     "start_time": "2021-09-06T19:04:07.874135Z"
    }
   },
   "outputs": [],
   "source": [
    "## Converting to datetime\n",
    "data['reservation_status_date'] = pd.to_datetime(data['reservation_status_date'])\n",
    "print(f'Datatype: {data[\"reservation_status_date\"].dtype}')"
   ]
  },
  {
   "cell_type": "markdown",
   "metadata": {},
   "source": [
    "# 🔎 **EDA - Features**"
   ]
  },
  {
   "cell_type": "markdown",
   "metadata": {},
   "source": [
    "---\n",
    "\n",
    "**In-Depth EDA per Feature**\n",
    "\n",
    "> Now that I reviewed my missing values and confirmed my datatypes, I will inspect the details of each of my features.\n",
    "\n",
    "---\n",
    "**Note:**\n",
    "\n",
    "> DataFrame styling code used in `explore_feature()` function adapted from this [source](https://stackoverflow.com/questions/59769161/python-color-pandas-dataframe-based-on-multiindex#:~:text=2-,You,-can%20use%20Styler).\n",
    "\n",
    "---"
   ]
  },
  {
   "cell_type": "markdown",
   "metadata": {},
   "source": [
    "# -- > 🛑 **FIX**: add `.insert()` to function to add space"
   ]
  },
  {
   "cell_type": "markdown",
   "metadata": {},
   "source": [
    "# -- > 🛑 **FIX**: Update narrative per feature"
   ]
  },
  {
   "cell_type": "markdown",
   "metadata": {},
   "source": [
    "## **Toggle Visualizations**"
   ]
  },
  {
   "cell_type": "code",
   "execution_count": null,
   "metadata": {
    "ExecuteTime": {
     "end_time": "2021-09-06T19:04:08.189424Z",
     "start_time": "2021-09-06T19:04:08.079788Z"
    }
   },
   "outputs": [],
   "source": [
    "## Boolean setting to control whether to show the EDA visualizations\n",
    "show_visualization = False"
   ]
  },
  {
   "cell_type": "markdown",
   "metadata": {},
   "source": [
    "## `Reservation_Status`"
   ]
  },
  {
   "cell_type": "markdown",
   "metadata": {},
   "source": [
    "---\n",
    "\n",
    "> Text\n",
    "\n",
    "---"
   ]
  },
  {
   "cell_type": "code",
   "execution_count": null,
   "metadata": {
    "ExecuteTime": {
     "end_time": "2021-09-06T19:04:08.423322Z",
     "start_time": "2021-09-06T19:04:08.191438Z"
    }
   },
   "outputs": [],
   "source": [
    "## Reviewing details for reservation_status\n",
    "eda.explore_feature(data,'reservation_status',\n",
    "                    target_feature='is_canceled',\n",
    "                    plot_label ='Status',\n",
    "                    plot_title= 'Reservation Status',\n",
    "                    show_visualization = show_visualization);"
   ]
  },
  {
   "cell_type": "markdown",
   "metadata": {},
   "source": [
    "---\n",
    "\n",
    "**Feature Review**\n",
    "\n",
    "> `Reservation_status` closely mirrors the values for my target feature, with some slight differences due to \"no-show\" values. **To prepare it for modeling, I will combine the `No-Show` status and `Canceled` values.**\n",
    "\n",
    "**Actions**\n",
    "\n",
    ">For the purposes of my analysis, **I will treat `No-Show` reservations as `Canceled` reservations** due to their limited number preventing me from effectively using it as a third class.\n",
    "\n",
    "****\n",
    "\n",
    "> The most notable difference between the city and resort hotels would be the number of cancellations: *The city hotel shows a much larger proportion of canceled reservations vs. the resort hotel.* \n",
    "* This may be due to a variety of factors, including resort guests booking when they are more certain of their plans or the resort hotel may charge a cancellation fee.\n",
    ">\n",
    "> No-Show reservations are low for both hotels, supporting my decision to merge no-shows with cancellations. \n",
    "\n",
    "---"
   ]
  },
  {
   "cell_type": "markdown",
   "metadata": {},
   "source": [
    "## `Is_Canceled`"
   ]
  },
  {
   "cell_type": "markdown",
   "metadata": {},
   "source": [
    "---\n",
    "\n",
    "**test**\n",
    "\n",
    "---"
   ]
  },
  {
   "cell_type": "code",
   "execution_count": null,
   "metadata": {
    "ExecuteTime": {
     "end_time": "2021-09-06T19:04:08.610199Z",
     "start_time": "2021-09-06T19:04:08.425324Z"
    },
    "scrolled": false
   },
   "outputs": [],
   "source": [
    "## Reviewing details for 'is_canceled'\n",
    "eda.explore_feature(data,'is_canceled', \n",
    "                    target_feature='is_canceled',\n",
    "                    normalize=False,\n",
    "                    plot_label ='Cancellation Status',\n",
    "                    plot_title= 'Reservation Status',\n",
    "                    show_visualization = show_visualization);"
   ]
  },
  {
   "cell_type": "markdown",
   "metadata": {},
   "source": [
    "---\n",
    "\n",
    "**Feature Review**\n",
    "\n",
    "> After reviewing the results post-\"no-show\" conversion, `Is_canceled` is a binarization of the `reservation_status`. Reservations are indicated as cancellations if they either cancel or are marked as a \"no-show\" reservation.\n",
    "\n",
    "**Actions**\n",
    "\n",
    "> This feature is a better target feature as the values are already binarized and match the `reservation_status` feature for all of the reservations.\n",
    ">\n",
    "> **I will use `is_canceled` in place of the `reservation_status` feature as my target feature.**\n",
    "\n",
    "****\n",
    "\n",
    "> The breakdown between hotels is the same as `reservation_status` and confirms that the resort hotel experiences fewer cancellations vs. the city hotel.\n",
    "\n",
    "---"
   ]
  },
  {
   "cell_type": "markdown",
   "metadata": {},
   "source": [
    "## `Lead_Time`"
   ]
  },
  {
   "cell_type": "markdown",
   "metadata": {},
   "source": [
    "---\n",
    "\n",
    "**test**\n",
    "\n",
    "---"
   ]
  },
  {
   "cell_type": "code",
   "execution_count": null,
   "metadata": {
    "ExecuteTime": {
     "end_time": "2021-09-06T19:04:08.845606Z",
     "start_time": "2021-09-06T19:04:08.616858Z"
    },
    "scrolled": false
   },
   "outputs": [],
   "source": [
    "## Reviewing details for 'lead_time'\n",
    "eda.explore_feature(data,'lead_time',bins = 5, marginal = 'box',\n",
    "                    target_feature='is_canceled',plot_label ='Number of Days',\n",
    "                    plot_title= 'Lead Time (Days)',\n",
    "                    show_visualization = show_visualization);"
   ]
  },
  {
   "cell_type": "markdown",
   "metadata": {},
   "source": [
    "---\n",
    "\n",
    "**Feature Review**\n",
    "\n",
    "> `Lead_Time` indicates how far in advance reservations are booked in days. *This information is particularly useful in hospitality for Revenue Management (RM) and Operations (Ops).*\n",
    ">\n",
    ">  * RM needs to know **when to expect bookings** and **when to monitor rates and availability** closely to make any necessary changes to optimize revenue.\n",
    ">\n",
    ">\n",
    ">  * Ops uses this information to **forecast how many reservations will book in a short-term booking window** (I usually focused on 0-3 days prior to arrival).\n",
    ">\n",
    "> * **This forecast is critical to determine staffing and supplies in particular** - when building our schedules, we consider the current number of booked reservations and the forecasted bookings to determine how many staff members to schedule and if we have enough supplies, etc..\n",
    ">  * *Being the only staff member at the Front Desk during a rush of arrivals due to a snow storm is NOT fun!*\n",
    "\n",
    "**Actions**\n",
    "\n",
    "> I noticed there are a significant number of outliers for both properties. **I will remove the outliers based on the z-score percentiles prior to modeling.**\n",
    "\n",
    "****\n",
    "\n",
    "> The histograms and box plots for both hotels match up closely, but it is clear that **the city hotel has a larger range of lead times for cancellations vs. the resort hotel.**\n",
    "\n",
    "---"
   ]
  },
  {
   "cell_type": "markdown",
   "metadata": {},
   "source": [
    "## `Arrival_Date_Year`"
   ]
  },
  {
   "cell_type": "markdown",
   "metadata": {},
   "source": [
    "---\n",
    "\n",
    "**test**\n",
    "\n",
    "---"
   ]
  },
  {
   "cell_type": "code",
   "execution_count": null,
   "metadata": {
    "ExecuteTime": {
     "end_time": "2021-09-06T19:04:09.050808Z",
     "start_time": "2021-09-06T19:04:08.848581Z"
    },
    "scrolled": false
   },
   "outputs": [],
   "source": [
    "## Reviewing details for 'arrival_date_year'\n",
    "eda.explore_feature(data,'arrival_date_year',marginal = 'box',\n",
    "                    target_feature='is_canceled',plot_label ='Year',\n",
    "                    plot_title= 'Arrival Date (Year)',\n",
    "                    show_visualization = show_visualization);"
   ]
  },
  {
   "cell_type": "markdown",
   "metadata": {},
   "source": [
    "---\n",
    "\n",
    "**Feature Review**\n",
    "\n",
    "> PLACEHOLDER \n",
    "\n",
    "**Actions**\n",
    "\n",
    "> PLACEHOLDER\n",
    "\n",
    "****\n",
    "\n",
    "> PLACEHOLDER\n",
    "\n",
    "---"
   ]
  },
  {
   "cell_type": "markdown",
   "metadata": {},
   "source": [
    "\n",
    "## `Stays_in_Weekend_Nights`"
   ]
  },
  {
   "cell_type": "markdown",
   "metadata": {},
   "source": [
    "---\n",
    "\n",
    "**City**\n",
    "\n",
    "---"
   ]
  },
  {
   "cell_type": "code",
   "execution_count": null,
   "metadata": {
    "ExecuteTime": {
     "end_time": "2021-09-06T19:04:09.242886Z",
     "start_time": "2021-09-06T19:04:09.052781Z"
    }
   },
   "outputs": [],
   "source": [
    "## Reviewing details for 'stays_in_weekend_nights'\n",
    "eda.explore_feature(data,'stays_in_weekend_nights',bins = 5,\n",
    "                    marginal = 'box',target_feature='is_canceled',\n",
    "                    plot_label ='Number of Days',\n",
    "                    plot_title= 'Lead Time (Days)',\n",
    "                    show_visualization = show_visualization);"
   ]
  },
  {
   "cell_type": "markdown",
   "metadata": {},
   "source": [
    "---\n",
    "\n",
    "**Feature Review**\n",
    "\n",
    "> PLACEHOLDER\n",
    "\n",
    "**Actions**\n",
    "\n",
    "> PLACEHOLDER\n",
    "\n",
    "****\n",
    "\n",
    "> PLACEHOLDER\n",
    "\n",
    "---"
   ]
  },
  {
   "cell_type": "markdown",
   "metadata": {},
   "source": [
    "## `Stays_in_Week_Nights`"
   ]
  },
  {
   "cell_type": "markdown",
   "metadata": {},
   "source": [
    "---\n",
    "\n",
    "**test**\n",
    "\n",
    "---"
   ]
  },
  {
   "cell_type": "code",
   "execution_count": null,
   "metadata": {
    "ExecuteTime": {
     "end_time": "2021-09-06T19:04:09.463762Z",
     "start_time": "2021-09-06T19:04:09.244876Z"
    }
   },
   "outputs": [],
   "source": [
    "## Reviewing details for 'stays_in_week_nights'\n",
    "eda.explore_feature(data,'stays_in_week_nights',bins = 5,\n",
    "                    marginal = 'box',target_feature='is_canceled',\n",
    "                    plot_label ='Number of Prior Stays',\n",
    "                    plot_title= 'Stays in Week Nights',\n",
    "                    show_visualization = show_visualization);"
   ]
  },
  {
   "cell_type": "markdown",
   "metadata": {},
   "source": [
    "---\n",
    "\n",
    "**Feature Review**\n",
    "\n",
    "> PLACEHOLDER\n",
    "\n",
    "**Actions**\n",
    "\n",
    "> PLACEHOLDER\n",
    "\n",
    "****\n",
    "\n",
    "> PLACEHOLDER\n",
    "\n",
    "---"
   ]
  },
  {
   "cell_type": "markdown",
   "metadata": {},
   "source": [
    "## `Adults`"
   ]
  },
  {
   "cell_type": "markdown",
   "metadata": {},
   "source": [
    "---\n",
    "\n",
    "**test**\n",
    "\n",
    "---"
   ]
  },
  {
   "cell_type": "code",
   "execution_count": null,
   "metadata": {
    "ExecuteTime": {
     "end_time": "2021-09-06T19:04:09.684573Z",
     "start_time": "2021-09-06T19:04:09.466764Z"
    }
   },
   "outputs": [],
   "source": [
    "## Reviewing details 'adults'\n",
    "eda.explore_feature(data,'adults',bins = 3,\n",
    "                    target_feature='is_canceled',plot_label ='Number of Adults',\n",
    "                    plot_title= 'Adults',\n",
    "                    show_visualization = show_visualization);"
   ]
  },
  {
   "cell_type": "markdown",
   "metadata": {},
   "source": [
    "---\n",
    "\n",
    "**Feature Review**\n",
    "\n",
    "> PLACEHOLDER\n",
    "\n",
    "**Actions**\n",
    "\n",
    "> PLACEHOLDER\n",
    "\n",
    "****\n",
    "\n",
    "> PLACEHOLDER\n",
    "\n",
    "---"
   ]
  },
  {
   "cell_type": "markdown",
   "metadata": {},
   "source": [
    "## `Children`"
   ]
  },
  {
   "cell_type": "markdown",
   "metadata": {},
   "source": [
    "---\n",
    "\n",
    "**data**\n",
    "\n",
    "---"
   ]
  },
  {
   "cell_type": "code",
   "execution_count": null,
   "metadata": {
    "ExecuteTime": {
     "end_time": "2021-09-06T19:04:09.902810Z",
     "start_time": "2021-09-06T19:04:09.687655Z"
    }
   },
   "outputs": [],
   "source": [
    "## Reviewing details for 'children'\n",
    "eda.explore_feature(data,'children',bins = 5,\n",
    "                    target_feature='is_canceled',\n",
    "                    plot_label ='Number of Children',\n",
    "                    plot_title= 'Children',\n",
    "                    show_visualization = show_visualization);"
   ]
  },
  {
   "cell_type": "markdown",
   "metadata": {},
   "source": [
    "---\n",
    "\n",
    "**Feature Review**\n",
    "\n",
    "> PLACEHOLDER\n",
    "\n",
    "**Actions**\n",
    "\n",
    "> PLACEHOLDER\n",
    "\n",
    "****\n",
    "\n",
    "> PLACEHOLDER\n",
    "\n",
    "---"
   ]
  },
  {
   "cell_type": "markdown",
   "metadata": {},
   "source": [
    "## `Babies`"
   ]
  },
  {
   "cell_type": "markdown",
   "metadata": {},
   "source": [
    "---\n",
    "\n",
    "**data**\n",
    "\n",
    "---"
   ]
  },
  {
   "cell_type": "code",
   "execution_count": null,
   "metadata": {
    "ExecuteTime": {
     "end_time": "2021-09-06T19:04:10.092406Z",
     "start_time": "2021-09-06T19:04:09.904748Z"
    }
   },
   "outputs": [],
   "source": [
    "## Reviewing details - 'babies'\n",
    "eda.explore_feature(data,'babies',bins = 5,\n",
    "                    target_feature='is_canceled',\n",
    "                    plot_label ='Number of Babies',\n",
    "                    plot_title= 'Babies',\n",
    "                    show_visualization = show_visualization);"
   ]
  },
  {
   "cell_type": "markdown",
   "metadata": {},
   "source": [
    "---\n",
    "\n",
    "**Feature Review**\n",
    "\n",
    "> PLACEHOLDER\n",
    "\n",
    "**Actions**\n",
    "\n",
    "> PLACEHOLDER\n",
    "\n",
    "****\n",
    "\n",
    "> PLACEHOLDER\n",
    "\n",
    "---"
   ]
  },
  {
   "cell_type": "markdown",
   "metadata": {},
   "source": [
    "## `Meal`"
   ]
  },
  {
   "cell_type": "markdown",
   "metadata": {},
   "source": [
    "---\n",
    "\n",
    "**data**\n",
    "\n",
    "---"
   ]
  },
  {
   "cell_type": "code",
   "execution_count": null,
   "metadata": {
    "ExecuteTime": {
     "end_time": "2021-09-06T19:04:10.281960Z",
     "start_time": "2021-09-06T19:04:10.094410Z"
    }
   },
   "outputs": [],
   "source": [
    "## Reviewing details for - 'meal'\n",
    "eda.explore_feature(data,'meal',target_feature='is_canceled',\n",
    "                    plot_label ='Types of Meal',plot_title= 'Meal',\n",
    "                    show_visualization = show_visualization);"
   ]
  },
  {
   "cell_type": "markdown",
   "metadata": {},
   "source": [
    "---\n",
    "\n",
    "**Feature Review**\n",
    "\n",
    "> PLACEHOLDER\n",
    "\n",
    "**Actions**\n",
    "\n",
    "> PLACEHOLDER\n",
    "\n",
    "****\n",
    "\n",
    "> PLACEHOLDER\n",
    "\n",
    "---"
   ]
  },
  {
   "cell_type": "markdown",
   "metadata": {},
   "source": [
    "## `Country`"
   ]
  },
  {
   "cell_type": "markdown",
   "metadata": {},
   "source": [
    "---\n",
    "\n",
    "**City**\n",
    "\n",
    "---"
   ]
  },
  {
   "cell_type": "code",
   "execution_count": null,
   "metadata": {
    "ExecuteTime": {
     "end_time": "2021-09-06T19:04:10.532656Z",
     "start_time": "2021-09-06T19:04:10.284944Z"
    },
    "scrolled": true
   },
   "outputs": [],
   "source": [
    "## Reviewing details for 'country'\n",
    "eda.explore_feature(data,'country',marginal = 'box',normalize=False,\n",
    "                    target_feature='is_canceled',plot_label ='Country',\n",
    "                    plot_title= 'Country',\n",
    "                    show_visualization = show_visualization);"
   ]
  },
  {
   "cell_type": "markdown",
   "metadata": {},
   "source": [
    "---\n",
    "\n",
    "**Feature Review**\n",
    "\n",
    "> PLACEHOLDER\n",
    "\n",
    "**Actions**\n",
    "\n",
    "> PLACEHOLDER\n",
    "\n",
    "****\n",
    "\n",
    "> PLACEHOLDER\n",
    "\n",
    "---"
   ]
  },
  {
   "cell_type": "markdown",
   "metadata": {},
   "source": [
    "## `Market_Segment`"
   ]
  },
  {
   "cell_type": "markdown",
   "metadata": {},
   "source": [
    "---\n",
    "\n",
    "**City**\n",
    "\n",
    "---"
   ]
  },
  {
   "cell_type": "code",
   "execution_count": null,
   "metadata": {
    "ExecuteTime": {
     "end_time": "2021-09-06T19:04:10.785632Z",
     "start_time": "2021-09-06T19:04:10.534629Z"
    }
   },
   "outputs": [],
   "source": [
    "## Reviewing details for - 'market_segment'\n",
    "eda.explore_feature(data,'market_segment',marginal = 'box',\n",
    "                    target_feature='is_canceled',plot_label ='Market Segment',\n",
    "                    plot_title= 'Market Segment',\n",
    "                    show_visualization = show_visualization);"
   ]
  },
  {
   "cell_type": "markdown",
   "metadata": {},
   "source": [
    "---\n",
    "\n",
    "**Feature Review**\n",
    "\n",
    "> PLACEHOLDER\n",
    "\n",
    "**Actions**\n",
    "\n",
    "> PLACEHOLDER\n",
    "\n",
    "****\n",
    "\n",
    "> PLACEHOLDER\n",
    "\n",
    "---"
   ]
  },
  {
   "cell_type": "markdown",
   "metadata": {},
   "source": [
    "## `Distribution_Channel`"
   ]
  },
  {
   "cell_type": "markdown",
   "metadata": {},
   "source": [
    "---\n",
    "\n",
    "**City**\n",
    "\n",
    "---"
   ]
  },
  {
   "cell_type": "code",
   "execution_count": null,
   "metadata": {
    "ExecuteTime": {
     "end_time": "2021-09-06T19:04:10.987580Z",
     "start_time": "2021-09-06T19:04:10.787629Z"
    }
   },
   "outputs": [],
   "source": [
    "## Reviewing details for 'distribution_channel'\n",
    "eda.explore_feature(data,'distribution_channel',normalize=False,\n",
    "                    target_feature='is_canceled',\n",
    "                    plot_label ='Distribution Channel',\n",
    "                    plot_title= 'Distribution Channel',\n",
    "                    show_visualization = show_visualization);"
   ]
  },
  {
   "cell_type": "markdown",
   "metadata": {},
   "source": [
    "---\n",
    "\n",
    "**Feature Review**\n",
    "\n",
    "> PLACEHOLDER\n",
    "\n",
    "**Actions**\n",
    "\n",
    "> PLACEHOLDER\n",
    "\n",
    "****\n",
    "\n",
    "> PLACEHOLDER\n",
    "\n",
    "---"
   ]
  },
  {
   "cell_type": "markdown",
   "metadata": {},
   "source": [
    "## `Is_Repeated_Guest`"
   ]
  },
  {
   "cell_type": "markdown",
   "metadata": {},
   "source": [
    "---\n",
    "\n",
    "**City**\n",
    "\n",
    "---"
   ]
  },
  {
   "cell_type": "code",
   "execution_count": null,
   "metadata": {
    "ExecuteTime": {
     "end_time": "2021-09-06T19:04:11.174255Z",
     "start_time": "2021-09-06T19:04:10.989566Z"
    }
   },
   "outputs": [],
   "source": [
    "## Reviewing details for 'is_repeated_guest'\n",
    "eda.explore_feature(data,'is_repeated_guest',\n",
    "                    target_feature='is_canceled',plot_label =' Repeat Guest',\n",
    "                    plot_title= ' Repeat Guest',\n",
    "                    show_visualization = show_visualization);"
   ]
  },
  {
   "cell_type": "markdown",
   "metadata": {},
   "source": [
    "---\n",
    "\n",
    "**Feature Review**\n",
    "\n",
    "> PLACEHOLDER\n",
    "\n",
    "**Actions**\n",
    "\n",
    "> PLACEHOLDER\n",
    "\n",
    "****\n",
    "\n",
    "> PLACEHOLDER\n",
    "\n",
    "---"
   ]
  },
  {
   "cell_type": "markdown",
   "metadata": {},
   "source": [
    "## `Previous_Cancellations`"
   ]
  },
  {
   "cell_type": "markdown",
   "metadata": {},
   "source": [
    "---\n",
    "\n",
    "**City**\n",
    "\n",
    "---"
   ]
  },
  {
   "cell_type": "code",
   "execution_count": null,
   "metadata": {
    "ExecuteTime": {
     "end_time": "2021-09-06T19:04:11.362937Z",
     "start_time": "2021-09-06T19:04:11.175977Z"
    }
   },
   "outputs": [],
   "source": [
    "## Reviewing details for 'previous_cancellations'\n",
    "eda.explore_feature(data,'previous_cancellations',bins = 5,\n",
    "                    normalize=False,target_feature='is_canceled',\n",
    "                    plot_label ='Number of Cancellations',\n",
    "                    plot_title= 'Previous Cancellations',\n",
    "                    show_visualization = show_visualization);"
   ]
  },
  {
   "cell_type": "markdown",
   "metadata": {},
   "source": [
    "---\n",
    "\n",
    "**Feature Review**\n",
    "\n",
    "> PLACEHOLDER\n",
    "\n",
    "**Actions**\n",
    "\n",
    "> PLACEHOLDER\n",
    "\n",
    "****\n",
    "\n",
    "> PLACEHOLDER\n",
    "\n",
    "---"
   ]
  },
  {
   "cell_type": "markdown",
   "metadata": {},
   "source": [
    "## `Previous_Bookings_Not_Canceled`"
   ]
  },
  {
   "cell_type": "markdown",
   "metadata": {},
   "source": [
    "---\n",
    "\n",
    "**City**\n",
    "\n",
    "---"
   ]
  },
  {
   "cell_type": "code",
   "execution_count": null,
   "metadata": {
    "ExecuteTime": {
     "end_time": "2021-09-06T19:04:11.566293Z",
     "start_time": "2021-09-06T19:04:11.364928Z"
    }
   },
   "outputs": [],
   "source": [
    "## Reviewing details for 'previous_bookings_not_canceled'\n",
    "eda.explore_feature(data,'previous_bookings_not_canceled',\n",
    "                    bins = 5,marginal = 'box',target_feature='is_canceled',\n",
    "                    plot_label ='Number of Bookings Not Canceled',\n",
    "                    plot_title= 'Previous Bookings Not Canceled',\n",
    "                    show_visualization = show_visualization);"
   ]
  },
  {
   "cell_type": "markdown",
   "metadata": {},
   "source": [
    "---\n",
    "\n",
    "**Feature Review**\n",
    "\n",
    "> PLACEHOLDER\n",
    "\n",
    "**Actions**\n",
    "\n",
    "> PLACEHOLDER\n",
    "\n",
    "****\n",
    "\n",
    "> PLACEHOLDER\n",
    "\n",
    "---"
   ]
  },
  {
   "cell_type": "markdown",
   "metadata": {},
   "source": [
    "## `Reserved_Room_Type`"
   ]
  },
  {
   "cell_type": "markdown",
   "metadata": {},
   "source": [
    "---\n",
    "\n",
    "**City**\n",
    "\n",
    "---"
   ]
  },
  {
   "cell_type": "code",
   "execution_count": null,
   "metadata": {
    "ExecuteTime": {
     "end_time": "2021-09-06T19:04:11.768903Z",
     "start_time": "2021-09-06T19:04:11.568262Z"
    }
   },
   "outputs": [],
   "source": [
    "## Reviewing details for - 'reserved_room_type'\n",
    "eda.explore_feature(data,'reserved_room_type',\n",
    "                    target_feature='is_canceled',\n",
    "                    plot_label ='Reserved Toom Type',\n",
    "                    plot_title= 'Reserved Toom Type',\n",
    "                    show_visualization = show_visualization);"
   ]
  },
  {
   "cell_type": "markdown",
   "metadata": {},
   "source": [
    "---\n",
    "\n",
    "**Feature Review**\n",
    "\n",
    "> PLACEHOLDER\n",
    "\n",
    "**Actions**\n",
    "\n",
    "> PLACEHOLDER\n",
    "\n",
    "****\n",
    "\n",
    "> PLACEHOLDER\n",
    "\n",
    "---"
   ]
  },
  {
   "cell_type": "markdown",
   "metadata": {},
   "source": [
    "## `Assigned_Room_Type`"
   ]
  },
  {
   "cell_type": "markdown",
   "metadata": {},
   "source": [
    "---\n",
    "\n",
    "**City**\n",
    "\n",
    "---"
   ]
  },
  {
   "cell_type": "code",
   "execution_count": null,
   "metadata": {
    "ExecuteTime": {
     "end_time": "2021-09-06T19:04:11.973802Z",
     "start_time": "2021-09-06T19:04:11.770774Z"
    }
   },
   "outputs": [],
   "source": [
    "## Reviewing details for 'assigned_room_type'\n",
    "eda.explore_feature(data,'assigned_room_type',\n",
    "                    target_feature='is_canceled',\n",
    "                    plot_label ='Assigned Room Type',\n",
    "                    plot_title= 'Assigned Room Type',\n",
    "                    show_visualization = show_visualization);"
   ]
  },
  {
   "cell_type": "markdown",
   "metadata": {},
   "source": [
    "---\n",
    "\n",
    "**Feature Review**\n",
    "\n",
    "> PLACEHOLDER\n",
    "\n",
    "**Actions**\n",
    "\n",
    "> PLACEHOLDER\n",
    "\n",
    "****\n",
    "\n",
    "> PLACEHOLDER\n",
    "\n",
    "---"
   ]
  },
  {
   "cell_type": "markdown",
   "metadata": {},
   "source": [
    "## `Booking_Changes`"
   ]
  },
  {
   "cell_type": "markdown",
   "metadata": {},
   "source": [
    "---\n",
    "\n",
    "**City**\n",
    "\n",
    "---"
   ]
  },
  {
   "cell_type": "code",
   "execution_count": null,
   "metadata": {
    "ExecuteTime": {
     "end_time": "2021-09-06T19:04:12.163165Z",
     "start_time": "2021-09-06T19:04:11.975773Z"
    }
   },
   "outputs": [],
   "source": [
    "## Reviewing details for 'booking_changes'\n",
    "eda.explore_feature(data,'booking_changes',bins = 5,\n",
    "                    target_feature='is_canceled',\n",
    "                    plot_label ='booking_changes',\n",
    "                    plot_title= 'booking_changes',\n",
    "                    show_visualization = show_visualization);"
   ]
  },
  {
   "cell_type": "markdown",
   "metadata": {},
   "source": [
    "---\n",
    "\n",
    "**Feature Review**\n",
    "\n",
    "> PLACEHOLDER\n",
    "\n",
    "**Actions**\n",
    "\n",
    "> PLACEHOLDER\n",
    "\n",
    "****\n",
    "\n",
    "> PLACEHOLDER\n",
    "\n",
    "---"
   ]
  },
  {
   "cell_type": "markdown",
   "metadata": {},
   "source": [
    "## `Deposit_Type`"
   ]
  },
  {
   "cell_type": "markdown",
   "metadata": {},
   "source": [
    "---\n",
    "\n",
    "**City**\n",
    "\n",
    "---"
   ]
  },
  {
   "cell_type": "code",
   "execution_count": null,
   "metadata": {
    "ExecuteTime": {
     "end_time": "2021-09-06T19:04:12.369169Z",
     "start_time": "2021-09-06T19:04:12.165204Z"
    }
   },
   "outputs": [],
   "source": [
    "## Reviewing details for 'deposit_type'\n",
    "eda.explore_feature(data,'deposit_type',normalize=False,\n",
    "                    target_feature='is_canceled',plot_label ='Deposit Type',\n",
    "                    plot_title= 'Deposit Type',\n",
    "                    show_visualization = show_visualization);"
   ]
  },
  {
   "cell_type": "markdown",
   "metadata": {},
   "source": [
    "---\n",
    "\n",
    "**Feature Review**\n",
    "\n",
    "> PLACEHOLDER\n",
    "\n",
    "**Actions**\n",
    "\n",
    "> PLACEHOLDER\n",
    "\n",
    "****\n",
    "\n",
    "> PLACEHOLDER\n",
    "\n",
    "---"
   ]
  },
  {
   "cell_type": "markdown",
   "metadata": {},
   "source": [
    "## `Agent`"
   ]
  },
  {
   "cell_type": "markdown",
   "metadata": {},
   "source": [
    "---\n",
    "\n",
    "**City**\n",
    "\n",
    "---"
   ]
  },
  {
   "cell_type": "code",
   "execution_count": null,
   "metadata": {
    "ExecuteTime": {
     "end_time": "2021-09-06T19:04:12.616892Z",
     "start_time": "2021-09-06T19:04:12.371169Z"
    },
    "scrolled": true
   },
   "outputs": [],
   "source": [
    "## Reviewing details for 'agent'\n",
    "eda.explore_feature(data,'agent',target_feature='is_canceled',\n",
    "                    plot_label ='Booking Agent',plot_title= 'Agent',\n",
    "                    show_visualization = show_visualization);"
   ]
  },
  {
   "cell_type": "markdown",
   "metadata": {},
   "source": [
    "---\n",
    "\n",
    "**Feature Review**\n",
    "\n",
    "> PLACEHOLDER\n",
    "\n",
    "**Actions**\n",
    "\n",
    "> PLACEHOLDER\n",
    "\n",
    "****\n",
    "\n",
    "> PLACEHOLDER\n",
    "\n",
    "---"
   ]
  },
  {
   "cell_type": "markdown",
   "metadata": {},
   "source": [
    "## `Days_in_Waiting_List`"
   ]
  },
  {
   "cell_type": "markdown",
   "metadata": {},
   "source": [
    "---\n",
    "\n",
    "**City**\n",
    "\n",
    "---"
   ]
  },
  {
   "cell_type": "code",
   "execution_count": null,
   "metadata": {
    "ExecuteTime": {
     "end_time": "2021-09-06T19:04:12.807850Z",
     "start_time": "2021-09-06T19:04:12.618895Z"
    }
   },
   "outputs": [],
   "source": [
    "## Reviewing details for 'days_in_waiting_list'\n",
    "eda.explore_feature(data,'days_in_waiting_list',bins = 5,\n",
    "                    normalize=False,target_feature='is_canceled',\n",
    "                    plot_label ='Days in Waiting List',\n",
    "                    plot_title= 'Days in Waiting List',\n",
    "                    show_visualization = show_visualization);"
   ]
  },
  {
   "cell_type": "markdown",
   "metadata": {},
   "source": [
    "---\n",
    "\n",
    "**Feature Review**\n",
    "\n",
    "> PLACEHOLDER\n",
    "\n",
    "**Actions**\n",
    "\n",
    "> PLACEHOLDER\n",
    "\n",
    "****\n",
    "\n",
    "> PLACEHOLDER\n",
    "\n",
    "---"
   ]
  },
  {
   "cell_type": "markdown",
   "metadata": {},
   "source": [
    "## `Customer_Type`"
   ]
  },
  {
   "cell_type": "markdown",
   "metadata": {},
   "source": [
    "---\n",
    "\n",
    "**City**\n",
    "\n",
    "---"
   ]
  },
  {
   "cell_type": "code",
   "execution_count": null,
   "metadata": {
    "ExecuteTime": {
     "end_time": "2021-09-06T19:04:13.025071Z",
     "start_time": "2021-09-06T19:04:12.810760Z"
    }
   },
   "outputs": [],
   "source": [
    "## Reviewing details for 'customer_type'\n",
    "eda.explore_feature(data,'customer_type',marginal = 'box',\n",
    "                    target_feature='is_canceled',plot_label ='Customer Type',\n",
    "                    plot_title= 'Customer Type',\n",
    "                    show_visualization = show_visualization);"
   ]
  },
  {
   "cell_type": "markdown",
   "metadata": {},
   "source": [
    "---\n",
    "\n",
    "**Feature Review**\n",
    "\n",
    "> PLACEHOLDER\n",
    "\n",
    "**Actions**\n",
    "\n",
    "> PLACEHOLDER\n",
    "\n",
    "****\n",
    "\n",
    "> PLACEHOLDER\n",
    "\n",
    "---"
   ]
  },
  {
   "cell_type": "markdown",
   "metadata": {},
   "source": [
    "## `ADR`"
   ]
  },
  {
   "cell_type": "markdown",
   "metadata": {},
   "source": [
    "---\n",
    "\n",
    "**City**\n",
    "\n",
    "---"
   ]
  },
  {
   "cell_type": "code",
   "execution_count": null,
   "metadata": {
    "ExecuteTime": {
     "end_time": "2021-09-06T19:04:13.224018Z",
     "start_time": "2021-09-06T19:04:13.027312Z"
    }
   },
   "outputs": [],
   "source": [
    "## Reviewing details for 'adr'\n",
    "eda.explore_feature(data ,'adr',bins = 5,\n",
    "                    target_feature='is_canceled',plot_label ='ADR (€)',\n",
    "                    plot_title= 'ADR (€)',\n",
    "                    show_visualization = show_visualization);"
   ]
  },
  {
   "cell_type": "markdown",
   "metadata": {},
   "source": [
    "---\n",
    "\n",
    "**Feature Review**\n",
    "\n",
    "> PLACEHOLDER\n",
    "\n",
    "**Actions**\n",
    "\n",
    "> PLACEHOLDER\n",
    "\n",
    "****\n",
    "\n",
    "> PLACEHOLDER\n",
    "\n",
    "---"
   ]
  },
  {
   "cell_type": "markdown",
   "metadata": {},
   "source": [
    "## `Required_Car_Parking_Spaces`"
   ]
  },
  {
   "cell_type": "markdown",
   "metadata": {},
   "source": [
    "---\n",
    "\n",
    "**City**\n",
    "\n",
    "---"
   ]
  },
  {
   "cell_type": "code",
   "execution_count": null,
   "metadata": {
    "ExecuteTime": {
     "end_time": "2021-09-06T19:04:13.411680Z",
     "start_time": "2021-09-06T19:04:13.225807Z"
    }
   },
   "outputs": [],
   "source": [
    "## Reviewing details for 'required_car_parking_spaces'\n",
    "eda.explore_feature(data,'required_car_parking_spaces',bins = 5,\n",
    "                    normalize=False,target_feature='is_canceled',\n",
    "                    plot_label ='Required Car Parking Spaces',\n",
    "                    plot_title= 'Required Car Parking Spaces',\n",
    "                    show_visualization = show_visualization);"
   ]
  },
  {
   "cell_type": "markdown",
   "metadata": {},
   "source": [
    "---\n",
    "\n",
    "**Feature Review**\n",
    "\n",
    "> PLACEHOLDER\n",
    "\n",
    "**Actions**\n",
    "\n",
    "> PLACEHOLDER\n",
    "\n",
    "****\n",
    "\n",
    "> PLACEHOLDER\n",
    "\n",
    "---"
   ]
  },
  {
   "cell_type": "markdown",
   "metadata": {},
   "source": [
    "## `Total_of_Special_Requests`"
   ]
  },
  {
   "cell_type": "markdown",
   "metadata": {},
   "source": [
    "---\n",
    "\n",
    "**City**\n",
    "\n",
    "---"
   ]
  },
  {
   "cell_type": "code",
   "execution_count": null,
   "metadata": {
    "ExecuteTime": {
     "end_time": "2021-09-06T19:04:13.615093Z",
     "start_time": "2021-09-06T19:04:13.413675Z"
    }
   },
   "outputs": [],
   "source": [
    "## Reviewing details for 'total_of_special_requests'\n",
    "eda.explore_feature(data,'total_of_special_requests',bins = 5,\n",
    "                    marginal = 'box',target_feature='is_canceled',\n",
    "                    plot_label ='Total of Special Requests',\n",
    "                    plot_title= 'Total of Special Requests',\n",
    "                    show_visualization = show_visualization);"
   ]
  },
  {
   "cell_type": "markdown",
   "metadata": {},
   "source": [
    "---\n",
    "\n",
    "**Feature Review**\n",
    "\n",
    "> PLACEHOLDER\n",
    "\n",
    "**Actions**\n",
    "\n",
    "> PLACEHOLDER\n",
    "\n",
    "****\n",
    "\n",
    "> PLACEHOLDER\n",
    "\n",
    "---"
   ]
  },
  {
   "cell_type": "markdown",
   "metadata": {},
   "source": [
    "## `Reservation_Status_Date`"
   ]
  },
  {
   "cell_type": "markdown",
   "metadata": {},
   "source": [
    "---\n",
    "\n",
    "**City**\n",
    "\n",
    "---"
   ]
  },
  {
   "cell_type": "code",
   "execution_count": null,
   "metadata": {
    "ExecuteTime": {
     "end_time": "2021-09-06T19:04:13.848845Z",
     "start_time": "2021-09-06T19:04:13.617885Z"
    },
    "scrolled": false
   },
   "outputs": [],
   "source": [
    "## Reviewing details for 'reservation_status_date'\n",
    "eda.explore_feature(data,'reservation_status_date',marginal = 'box',\n",
    "                    bins=3,target_feature='is_canceled',\n",
    "                    plot_label ='Reservation Status Date',\n",
    "                    plot_title= 'Reservation Status Date',\n",
    "                    show_visualization = show_visualization);"
   ]
  },
  {
   "cell_type": "markdown",
   "metadata": {},
   "source": [
    "---\n",
    "\n",
    "**Feature Review**\n",
    "\n",
    "> PLACEHOLDER\n",
    "\n",
    "**Actions**\n",
    "\n",
    "> PLACEHOLDER\n",
    "\n",
    "****\n",
    "\n",
    "> PLACEHOLDER\n",
    "\n",
    "---"
   ]
  },
  {
   "cell_type": "markdown",
   "metadata": {},
   "source": [
    "# 🛑 **Post-EDA**"
   ]
  },
  {
   "cell_type": "markdown",
   "metadata": {},
   "source": [
    "---\n",
    "\n",
    "**FIX/UPDATE ALL OF THE NARRATIVE ELEMENTS OF THE REST OF THIS CODE.**\n",
    "\n",
    "---"
   ]
  },
  {
   "cell_type": "markdown",
   "metadata": {},
   "source": [
    "---\n",
    "\n",
    "**Finishing Touches**\n",
    "\n",
    "> Now that I reviewed all of my features; confirmed there are no missing values; and confirmed all of the datatypes are correct, I will finish the remaining preprocessing.\n",
    "\n",
    "**Outliers**\n",
    "\n",
    "> Based on my EDA, I noticed several features show significant outliers. If I kept these outlying data points, they could have a negative impact on my future models' performances.\n",
    "\n",
    "**Process**\n",
    "> I will first identify the features with outliers; then use the z-scores of each data point to determine the outliers. Any absolute-valued z-score greater than 3 will be considered an outlier and will be disregarded.\n",
    "\n",
    "---"
   ]
  },
  {
   "cell_type": "markdown",
   "metadata": {},
   "source": [
    "## `Reservation_Status`: Converting `No-Show` to `Canceled`"
   ]
  },
  {
   "cell_type": "code",
   "execution_count": null,
   "metadata": {
    "ExecuteTime": {
     "end_time": "2021-09-06T19:04:13.976690Z",
     "start_time": "2021-09-06T19:04:13.850843Z"
    }
   },
   "outputs": [],
   "source": [
    "## Changing no-show values to \"canceled\"\n",
    "data.loc[:,'reservation_status'].replace('No-Show', 'Canceled',\n",
    "                                            inplace=True)"
   ]
  },
  {
   "cell_type": "code",
   "execution_count": null,
   "metadata": {
    "ExecuteTime": {
     "end_time": "2021-09-06T19:04:14.101716Z",
     "start_time": "2021-09-06T19:04:13.979688Z"
    }
   },
   "outputs": [],
   "source": [
    "## Confirming the change\n",
    "'No-Show' not in data['reservation_status']"
   ]
  },
  {
   "cell_type": "code",
   "execution_count": null,
   "metadata": {
    "ExecuteTime": {
     "end_time": "2021-09-06T19:04:14.243688Z",
     "start_time": "2021-09-06T19:04:14.102715Z"
    }
   },
   "outputs": [],
   "source": [
    "## Inspecting the updated target classes\n",
    "data['reservation_status'].value_counts(1, dropna=0)"
   ]
  },
  {
   "cell_type": "markdown",
   "metadata": {},
   "source": [
    "### Review - `Reservation_Status`"
   ]
  },
  {
   "cell_type": "markdown",
   "metadata": {},
   "source": [
    "---\n",
    "\n",
    "> I successfully converted all `No-Show` values to `Canceled`, **resulting in a binary classification of whether a reservation will actualize (`Check-Out`) or not (`No-Show`).**\n",
    "\n",
    "---"
   ]
  },
  {
   "cell_type": "markdown",
   "metadata": {},
   "source": [
    "## Engineering `Arrival_Date`"
   ]
  },
  {
   "cell_type": "markdown",
   "metadata": {},
   "source": [
    "---\n",
    "\n",
    "**City**\n",
    "\n",
    "---"
   ]
  },
  {
   "cell_type": "code",
   "execution_count": null,
   "metadata": {
    "ExecuteTime": {
     "end_time": "2021-09-06T19:04:14.539904Z",
     "start_time": "2021-09-06T19:04:14.245686Z"
    },
    "scrolled": true
   },
   "outputs": [],
   "source": [
    "## Converting from month, day of month, and year to a single datetime column\n",
    "data['arrival_date'] = data['arrival_date_month'] +' '+ \\\n",
    "                                data['arrival_date_day_of_month']\\\n",
    "                                .astype(str) +', '+ \\\n",
    "                                data['arrival_date_year'].astype(str)\n",
    "data['arrival_date'] = pd.to_datetime(data['arrival_date'])\n",
    "data['arrival_date']"
   ]
  },
  {
   "cell_type": "code",
   "execution_count": null,
   "metadata": {
    "ExecuteTime": {
     "end_time": "2021-09-06T19:04:14.697037Z",
     "start_time": "2021-09-06T19:04:14.541779Z"
    }
   },
   "outputs": [],
   "source": [
    "## Determining the day of the week of arrival \n",
    "data.loc[:,'arrival_day'] = data.loc[:,'arrival_date'].dt.day_name()\n",
    "data['arrival_day']"
   ]
  },
  {
   "cell_type": "code",
   "execution_count": null,
   "metadata": {
    "ExecuteTime": {
     "end_time": "2021-09-06T19:04:14.854392Z",
     "start_time": "2021-09-06T19:04:14.698944Z"
    }
   },
   "outputs": [],
   "source": [
    "## Reviewing results\n",
    "data[['arrival_day', 'arrival_date']]"
   ]
  },
  {
   "cell_type": "markdown",
   "metadata": {},
   "source": [
    "---\n",
    "\n",
    "**Feature Review**\n",
    "\n",
    "> I created this new feature to merge the arrival year/month/day-of-month features into one usable feature. \n",
    "\n",
    "**Actions**\n",
    "\n",
    "> PLACEHOLDER\n",
    "\n",
    "****\n",
    "\n",
    "> PLACEHOLDER\n",
    "\n",
    "---"
   ]
  },
  {
   "cell_type": "markdown",
   "metadata": {},
   "source": [
    "# -- > 🛑 **FIX**: remove outlier stuff - hold until finalized"
   ]
  },
  {
   "cell_type": "markdown",
   "metadata": {},
   "source": [
    "## Outlier Removal"
   ]
  },
  {
   "cell_type": "markdown",
   "metadata": {},
   "source": [
    "---\n",
    "\n",
    "**City**\n",
    "\n",
    "---"
   ]
  },
  {
   "cell_type": "code",
   "execution_count": null,
   "metadata": {
    "ExecuteTime": {
     "end_time": "2021-09-06T19:04:14.962350Z",
     "start_time": "2021-09-06T19:04:14.856917Z"
    }
   },
   "outputs": [],
   "source": [
    "# ## Creating dataframe visualizing percentage of outliers in data\n",
    "# eda.outlier_percentage(data);"
   ]
  },
  {
   "cell_type": "code",
   "execution_count": null,
   "metadata": {
    "ExecuteTime": {
     "end_time": "2021-09-06T19:04:15.087771Z",
     "start_time": "2021-09-06T19:04:14.964392Z"
    }
   },
   "outputs": [],
   "source": [
    "# ## Visualizing feature with highest percentage of outliers\n",
    "# data['children'].plot(kind='hist')\n",
    "# data['children'].describe()"
   ]
  },
  {
   "cell_type": "markdown",
   "metadata": {},
   "source": [
    "---\n",
    "\n",
    "> Using the `Children` feature as an example, we can see that the statistics show very few reservations bring children during their stay.\n",
    ">\n",
    "> As there are so few reservations with children, these entries may negatively impact my models' performance. **I will use the z-scores for this feature to determine which rows have values beyond 3 standard deviations, then remove those values** This will be approx. 1% of the feature's data, eliminating the smallest number of outliers to preserve the original data as much as possible.\n",
    "\n",
    "---\n",
    "\n",
    "> This process of identifying outlying values for each numeric feature will most likely result in identifying rows in which only *one* value is an outlier. However, I will need to disregard the whole entry to be able to model the data; keeping the rows while disregarding that one value would result in creating more missing values. \n",
    ">\n",
    "> I will iterate through each numeric feature in both the city and resort hotel dataframes and save the index value of each row with an outlier value to a set specific to each dataframe.\n",
    ">\n",
    "> Using these sets, I will filter the index values from each respective dataframe. The end result will be smaller dataframes with a stronger normal distribution.\n",
    ">\n",
    "----"
   ]
  },
  {
   "cell_type": "code",
   "execution_count": null,
   "metadata": {
    "ExecuteTime": {
     "end_time": "2021-09-06T19:04:15.211660Z",
     "start_time": "2021-09-06T19:04:15.089671Z"
    }
   },
   "outputs": [],
   "source": [
    "# ## Inspecting the statistics minus the outlying values\n",
    "# data['children'][~eda.find_outliers_z(data['children'])].describe()"
   ]
  },
  {
   "cell_type": "code",
   "execution_count": null,
   "metadata": {
    "ExecuteTime": {
     "end_time": "2021-09-06T19:04:15.323675Z",
     "start_time": "2021-09-06T19:04:15.213635Z"
    }
   },
   "outputs": [],
   "source": [
    "# ## Creating a set of indices for filtering\n",
    "# unique_idx_val = set()\n",
    "\n",
    "# for i in list(data.select_dtypes('number').columns):\n",
    "#     unique_idx_val.update(list(data[i]\\\n",
    "#                                [eda.find_outliers_z(data[i])].index))"
   ]
  },
  {
   "cell_type": "code",
   "execution_count": null,
   "metadata": {
    "ExecuteTime": {
     "end_time": "2021-09-06T19:04:15.432303Z",
     "start_time": "2021-09-06T19:04:15.325567Z"
    }
   },
   "outputs": [],
   "source": [
    "# ## Calculating the number of values \n",
    "# len(unique_idx_val)"
   ]
  },
  {
   "cell_type": "code",
   "execution_count": null,
   "metadata": {
    "ExecuteTime": {
     "end_time": "2021-09-06T19:04:15.543044Z",
     "start_time": "2021-09-06T19:04:15.434299Z"
    }
   },
   "outputs": [],
   "source": [
    "# ## Calculating the percentage of rows to drop from the overall dataframe\n",
    "# len(unique_idx_val)/len(data)"
   ]
  },
  {
   "cell_type": "code",
   "execution_count": null,
   "metadata": {
    "ExecuteTime": {
     "end_time": "2021-09-06T19:04:15.652992Z",
     "start_time": "2021-09-06T19:04:15.543950Z"
    }
   },
   "outputs": [],
   "source": [
    "# ## Generating a new dataframe after filtering the outliers\n",
    "# sg_c_drop = data.drop(unique_idx_val)\n",
    "# sg_c_drop"
   ]
  },
  {
   "cell_type": "code",
   "execution_count": null,
   "metadata": {
    "ExecuteTime": {
     "end_time": "2021-09-06T19:04:15.780763Z",
     "start_time": "2021-09-06T19:04:15.654996Z"
    },
    "scrolled": true
   },
   "outputs": [],
   "source": [
    "# ## Inspecting new statistics\n",
    "# pd.concat([data.describe(),sg_c_drop.describe()], keys=('Original', 'New'))"
   ]
  },
  {
   "cell_type": "markdown",
   "metadata": {},
   "source": [
    "# 🐼 **Of Pandas and Pickles** 🥒"
   ]
  },
  {
   "cell_type": "markdown",
   "metadata": {},
   "source": [
    "---\n",
    "\n",
    "> Now I am ready to save the cleaned and processed data for modeling in my next notebook.\n",
    ">\n",
    "> In order to preserve the datatypes and details of my data, I will use the \"Pickle\" module to serialize the data and save four files - one for each dataframe (two hotels; filtered/not).\n",
    ">\n",
    ">**First**, I will add unique names to each of my dataframe indices. **Then**, I will pickle the files. Finally, I will reopen the pickled files in my next notebook.\n",
    "\n",
    "---"
   ]
  },
  {
   "cell_type": "markdown",
   "metadata": {},
   "source": [
    "# -- > 🛑 **FIX**: delete post-delete outlier processing"
   ]
  },
  {
   "cell_type": "code",
   "execution_count": null,
   "metadata": {
    "ExecuteTime": {
     "end_time": "2021-09-06T19:04:15.890694Z",
     "start_time": "2021-09-06T19:04:15.782765Z"
    }
   },
   "outputs": [],
   "source": [
    "# ## Adding unique names to dataframes to easily ID\n",
    "# data.index.rename('city_old', inplace=True)\n",
    "# subgroup_resort.index.rename('resort_old', inplace=True)\n",
    "\n",
    "# sg_c_drop.index.rename('city_filtered', inplace=True)\n",
    "# sg_r_drop.index.rename('resort_filtered', inplace=True)"
   ]
  },
  {
   "cell_type": "code",
   "execution_count": null,
   "metadata": {
    "ExecuteTime": {
     "end_time": "2021-09-06T19:04:15.998614Z",
     "start_time": "2021-09-06T19:04:15.892693Z"
    },
    "scrolled": true
   },
   "outputs": [],
   "source": [
    "# ## Confirming results\n",
    "# display(data, subgroup_resort, sg_c_drop, sg_r_drop)"
   ]
  },
  {
   "cell_type": "markdown",
   "metadata": {},
   "source": [
    "## Peter Panda Picked a Peck of Pickled DataFrames..."
   ]
  },
  {
   "cell_type": "markdown",
   "metadata": {},
   "source": [
    "> Cells are commented-out to prevent over-writing files unintentionally."
   ]
  },
  {
   "cell_type": "code",
   "execution_count": null,
   "metadata": {
    "ExecuteTime": {
     "end_time": "2021-09-06T19:04:16.108215Z",
     "start_time": "2021-09-06T19:04:16.000512Z"
    }
   },
   "outputs": [],
   "source": [
    "# ## Creating a dictionary of dataframes and file names\n",
    "# files = {'reservation_city_unfiltered': data,#         }"
   ]
  },
  {
   "cell_type": "code",
   "execution_count": null,
   "metadata": {
    "ExecuteTime": {
     "end_time": "2021-09-06T19:04:31.950930Z",
     "start_time": "2021-09-06T19:04:26.564575Z"
    }
   },
   "outputs": [],
   "source": [
    "# ## Pickling with Pandas\n",
    "# data.to_pickle(path = f'./data/data_prepped.pickle',\n",
    "#             compression = 'gzip')\n",
    "# print(f'Successfully pickled!')"
   ]
  },
  {
   "cell_type": "markdown",
   "metadata": {},
   "source": [
    "# Moving to Modeling!"
   ]
  },
  {
   "cell_type": "markdown",
   "metadata": {},
   "source": [
    "---\n",
    "\n",
    "> Now that I completed the pre-processing and EDA steps, I will move to my next notebook to perform my classification modeling.\n",
    "\n",
    "---"
   ]
  },
  {
   "cell_type": "code",
   "execution_count": null,
   "metadata": {},
   "outputs": [],
   "source": []
  }
 ],
 "metadata": {
  "interpreter": {
   "hash": "980eb18a21052b9c17debf7b5e50bde2e676226d1d1b2f7e2a15b0c620c5c0ea"
  },
  "kernelspec": {
   "display_name": "learn-env",
   "language": "python",
   "name": "learn-env"
  },
  "language_info": {
   "codemirror_mode": {
    "name": "ipython",
    "version": 3
   },
   "file_extension": ".py",
   "mimetype": "text/x-python",
   "name": "python",
   "nbconvert_exporter": "python",
   "pygments_lexer": "ipython3",
   "version": "3.6.9"
  },
  "toc": {
   "base_numbering": 1,
   "nav_menu": {},
   "number_sections": true,
   "sideBar": true,
   "skip_h1_title": false,
   "title_cell": "Table of Contents",
   "title_sidebar": "Contents",
   "toc_cell": false,
   "toc_position": {
    "height": "calc(100% - 180px)",
    "left": "10px",
    "top": "150px",
    "width": "262.869px"
   },
   "toc_section_display": true,
   "toc_window_display": true
  }
 },
 "nbformat": 4,
 "nbformat_minor": 2
}
