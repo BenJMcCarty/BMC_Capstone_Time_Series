{
 "cells": [
  {
   "cell_type": "markdown",
   "metadata": {},
   "source": [
    "# ❌ **Cancel Culture** ❌ - **EDA Notebook**"
   ]
  },
  {
   "cell_type": "markdown",
   "metadata": {},
   "source": [
    "---\n",
    "\n",
    "**Author:** Ben McCarty\n",
    "\n",
    "**Capstone Project** - Classification, Time Series Modeling\n",
    "\n",
    "**Contact:** bmccarty505@gmail.com\n",
    "\n",
    "---"
   ]
  },
  {
   "cell_type": "markdown",
   "metadata": {},
   "source": [
    "---\n",
    "\n",
    "**Who?**\n",
    ">* 🏢 **Revenue Management (RM) teams** for hotel groups (corporate, franchise)\n",
    ">\n",
    ">\n",
    ">* 🏨 On-site GMs, Sales, and Ops teams\n",
    "\n",
    "---\n",
    "\n",
    "**Why?**\n",
    ">* 💰 **Revenue Management:** \n",
    ">  * Revenue optimization: Right price, right time, right customer\n",
    ">    * Dynamic pricing\n",
    ">    * Distribution channels\n",
    ">    * Pricing per room type\n",
    ">\n",
    ">\n",
    ">* 🤝 **Sales:**\n",
    ">  * Group sales (pickup/wash)\n",
    ">  * BT (performance/company for both GPP and LNR rates)\n",
    ">\n",
    ">\n",
    ">* 🛌 **Rooms Ops:**\n",
    ">  * Forecasting occupancy, arrivals, departures, stay-overs, same-day booking demand, and probability of guest relocation in the case of oversell.\n",
    ">  * Determining staff schedules and periods of high demand\n",
    ">\n",
    ">\n",
    ">* 🍰 ☕ **Food and Beverage:**\n",
    ">  * Ordering food/supplies overall\n",
    ">  * Scheduling staff\n",
    ">  * Determining busy times (breakfast, lunch, dinner)\n",
    ">    * Staffing, specific food/supplies\n",
    "\n",
    "---\n",
    "\n",
    "**What?**\n",
    ">* 🧾 Dataset comprised of... \n",
    ">  * 32 different features\n",
    ">    * Detailed explanation of features (and sub-categories, when appropriate) available in Readme\n",
    ">  * Nearly 120,000 reservation records\n",
    ">  * Source cited in Readme\n",
    "\n",
    "---\n",
    "\n",
    " **How?**\n",
    ">* Which models/methods?\n",
    ">  * 🔢 Classifiers 🌳\n",
    "    * XGBoost, RFC, ABC, etc.\n",
    ">  * ⏳ Time Series Analysis 📈\n",
    "    * PMD auto-arima\n",
    "    * Statsmodels vector autoregression\n",
    ">\n",
    ">\n",
    ">* Data prep and feature engineering\n",
    "\n",
    "---"
   ]
  },
  {
   "cell_type": "markdown",
   "metadata": {},
   "source": [
    "---\n",
    "\n",
    "> **Goal:** To prepare data for classification modeling in next notebook.\n",
    ">\n",
    ">\n",
    "> **Purpose:** to explore, clean, and organize.\n",
    ">\n",
    ">\n",
    "> **Process:**\n",
    ">\n",
    ">    * Inspecting data integrity and statistics\n",
    ">    * Splitting data by hotel type (\"City\" vs. \"Resort\")\n",
    ">    * Filling any missing values\n",
    ">    * Save processed data for modeling notebook\n",
    ">\n",
    ">\n",
    "> **Modeling Notebook:**\n",
    ">\n",
    ">    * Performing train/test split\n",
    ">    * Training the model\n",
    ">    * Evaluate performance metrics\n",
    ">    * Provide final recommendations\n",
    "\n",
    "---"
   ]
  },
  {
   "cell_type": "markdown",
   "metadata": {},
   "source": [
    "# ✅ **To-Do List**"
   ]
  },
  {
   "cell_type": "markdown",
   "metadata": {},
   "source": [
    "---\n",
    "\n",
    "**Copy:**\n",
    "- [ ] Imports\n",
    "- [ ] Personal module\n",
    "- [ ] Data\n",
    "- [ ] Starter code from P4P\n",
    "\n",
    "**Links:**\n",
    "- [ ] \n",
    "\n",
    "---"
   ]
  },
  {
   "cell_type": "markdown",
   "metadata": {},
   "source": [
    "# 📦 **Import Packages**"
   ]
  },
  {
   "cell_type": "code",
   "execution_count": null,
   "metadata": {
    "ExecuteTime": {
     "end_time": "2021-09-01T21:07:08.870377Z",
     "start_time": "2021-09-01T21:07:05.193350Z"
    }
   },
   "outputs": [],
   "source": [
    "## Data Handling\n",
    "import pandas as pd\n",
    "import numpy as np\n",
    "from scipy import stats\n",
    "\n",
    "## Visualizations\n",
    "import matplotlib.pyplot as plt\n",
    "import seaborn as sns\n",
    "import plotly.express as px\n",
    "\n",
    "## Custom-made Functions\n",
    "from bmc_functions import eda\n",
    "from bmc_functions import classification as clf\n",
    "\n",
    "## Settings\n",
    "# plt.style.use('seaborn-talk')\n",
    "pd.set_option('display.max_columns', None)\n",
    "pd.set_option('display.float_format', lambda x: f'{x:,.2f}')\n",
    "pd.set_option('max_rows', 100)\n",
    "%matplotlib inline"
   ]
  },
  {
   "cell_type": "code",
   "execution_count": null,
   "metadata": {
    "ExecuteTime": {
     "end_time": "2021-09-01T21:07:08.998394Z",
     "start_time": "2021-09-01T21:07:08.873352Z"
    }
   },
   "outputs": [],
   "source": [
    "%load_ext autoreload\n",
    "%autoreload 2"
   ]
  },
  {
   "cell_type": "markdown",
   "metadata": {},
   "source": [
    "# 📥 **Read Data**"
   ]
  },
  {
   "cell_type": "code",
   "execution_count": null,
   "metadata": {
    "ExecuteTime": {
     "end_time": "2021-09-01T21:07:09.527374Z",
     "start_time": "2021-09-01T21:07:09.000349Z"
    }
   },
   "outputs": [],
   "source": [
    "## Reading data\n",
    "source = './data/hotel_bookings.csv'\n",
    "data = pd.read_csv(source)\n",
    "data"
   ]
  },
  {
   "cell_type": "code",
   "execution_count": null,
   "metadata": {
    "ExecuteTime": {
     "end_time": "2021-09-01T21:07:09.668352Z",
     "start_time": "2021-09-01T21:07:09.529351Z"
    },
    "scrolled": true
   },
   "outputs": [],
   "source": [
    "## Inspecting percentage of city vs. resort hotels\n",
    "data['hotel'].value_counts(1)"
   ]
  },
  {
   "cell_type": "markdown",
   "metadata": {},
   "source": [
    "# 🎯 Identifying Target Feature 🎯"
   ]
  },
  {
   "cell_type": "markdown",
   "metadata": {},
   "source": [
    "---\n",
    "\n",
    "> For my classification analysis, **I will use the `is_canceled` feature as my target feature.** This feature indicates whether a reservation was canceled (0 = check-out, 1= canceled).\n",
    ">\n",
    "> There is another feature, `reservation_status`, that also looks valuable. I will compare that feature against `is_canceled` to investigate any differences between the two.\n",
    "\n",
    "---"
   ]
  },
  {
   "cell_type": "markdown",
   "metadata": {},
   "source": [
    "# 🪓 **Splitting \"City\" and \"Resort\"**"
   ]
  },
  {
   "cell_type": "code",
   "execution_count": null,
   "metadata": {
    "ExecuteTime": {
     "end_time": "2021-09-01T21:07:09.870379Z",
     "start_time": "2021-09-01T21:07:09.670350Z"
    }
   },
   "outputs": [],
   "source": [
    "## Creating subgroup for city hotels\n",
    "subgroup_city = data[data['hotel'] == 'City Hotel']\n",
    "subgroup_city.drop(columns='hotel', inplace=True)\n",
    "subgroup_city"
   ]
  },
  {
   "cell_type": "code",
   "execution_count": null,
   "metadata": {
    "ExecuteTime": {
     "end_time": "2021-09-01T21:07:10.058380Z",
     "start_time": "2021-09-01T21:07:09.872350Z"
    }
   },
   "outputs": [],
   "source": [
    "## Creating subgroup for resort hotels\n",
    "subgroup_resort = data[data['hotel'] == 'Resort Hotel']\n",
    "subgroup_resort.drop(columns='hotel', inplace=True)\n",
    "subgroup_resort"
   ]
  },
  {
   "cell_type": "markdown",
   "metadata": {},
   "source": [
    "### Testing Hierarchical Indexing"
   ]
  },
  {
   "cell_type": "markdown",
   "metadata": {},
   "source": [
    "---\n",
    "\n",
    "> Instead of splitting the data into two different dataframes, I may be able to create a new index for the same dataframe by splitting the \"`hotel`\" feature and using the two values as the first level of the row index, then the normal index values as the second level.\n",
    ">\n",
    ">\n",
    "> This would add a layer of complexity to the data processing steps, but would reduce memory consumption and the number of dataframes.\n",
    "\n",
    "---"
   ]
  },
  {
   "cell_type": "code",
   "execution_count": null,
   "metadata": {
    "ExecuteTime": {
     "end_time": "2021-09-01T21:07:10.181349Z",
     "start_time": "2021-09-01T21:07:10.060353Z"
    }
   },
   "outputs": [],
   "source": [
    "# data_mi = data\n",
    "# data_mi"
   ]
  },
  {
   "cell_type": "code",
   "execution_count": null,
   "metadata": {
    "ExecuteTime": {
     "end_time": "2021-09-01T21:07:10.307350Z",
     "start_time": "2021-09-01T21:07:10.184350Z"
    }
   },
   "outputs": [],
   "source": [
    "# ## Creating new multi-index from hotel types and original index values\n",
    "# data_mi.reset_index(inplace=True)\n",
    "# multi = data_mi.set_index(['hotel'])\n",
    "# multi"
   ]
  },
  {
   "cell_type": "code",
   "execution_count": null,
   "metadata": {
    "ExecuteTime": {
     "end_time": "2021-09-01T21:07:10.435376Z",
     "start_time": "2021-09-01T21:07:10.309354Z"
    }
   },
   "outputs": [],
   "source": [
    "# ## Testing indexing  - City Hotel\n",
    "# multi.loc['City Hotel']"
   ]
  },
  {
   "cell_type": "code",
   "execution_count": null,
   "metadata": {
    "ExecuteTime": {
     "end_time": "2021-09-01T21:07:10.559359Z",
     "start_time": "2021-09-01T21:07:10.437351Z"
    }
   },
   "outputs": [],
   "source": [
    "# ## Testing indexing  - Resort Hotel\n",
    "# multi.loc['Resort Hotel']"
   ]
  },
  {
   "cell_type": "code",
   "execution_count": null,
   "metadata": {
    "ExecuteTime": {
     "end_time": "2021-09-01T21:07:10.684351Z",
     "start_time": "2021-09-01T21:07:10.561354Z"
    }
   },
   "outputs": [],
   "source": [
    "# eda.report_df(multi.loc['City Hotel']).sort_values('null_sum', ascending=False)"
   ]
  },
  {
   "cell_type": "markdown",
   "metadata": {},
   "source": [
    "---\n",
    "\n",
    "**Hierarchical Indexing Results**\n",
    "\n",
    "> While the multi-indexed results can represent the dimensionality of the data, it is not best for this dataset. I will continue to use the sub-grouped dataframes for my analysis and modeling.\n",
    "\n",
    "---"
   ]
  },
  {
   "cell_type": "markdown",
   "metadata": {},
   "source": [
    "# 📊 **Reviewing Statistics**"
   ]
  },
  {
   "cell_type": "markdown",
   "metadata": {},
   "source": [
    "---\n",
    "\n",
    "**`Report_df()`: City**\n",
    "\n",
    "---"
   ]
  },
  {
   "cell_type": "code",
   "execution_count": null,
   "metadata": {
    "ExecuteTime": {
     "end_time": "2021-09-01T21:07:11.039381Z",
     "start_time": "2021-09-01T21:07:10.686352Z"
    }
   },
   "outputs": [],
   "source": [
    "## Sorting report by number of missing values\n",
    "eda.report_df(subgroup_city).sort_values('null_sum', ascending=False)"
   ]
  },
  {
   "cell_type": "markdown",
   "metadata": {},
   "source": [
    "---\n",
    "\n",
    "**`Report_df()`: Resort**\n",
    "\n",
    "---"
   ]
  },
  {
   "cell_type": "code",
   "execution_count": null,
   "metadata": {
    "ExecuteTime": {
     "end_time": "2021-09-01T21:07:11.317374Z",
     "start_time": "2021-09-01T21:07:11.041353Z"
    }
   },
   "outputs": [],
   "source": [
    "## Selecting report values for columns with missing values \n",
    "eda.report_df(subgroup_resort).sort_values('null_sum', ascending=False)"
   ]
  },
  {
   "cell_type": "markdown",
   "metadata": {},
   "source": [
    "---\n",
    "\n",
    "**Reviewing Reports - Missing Values**\n",
    "\n",
    "> Based on the post-split results, I see that both dataframes are missing values for `company,` `agent`, and `country`. Additionally, the `subroup_city` dataframe is missing four values for `children`.\n",
    ">\n",
    "> **Special note:** As noted in the data's documentation ( located in \"details.md\"), any missing values are intentional representations of features that were not applicable to a reservation.\n",
    "---\n",
    "\n",
    "**`Company` and `Agent` Features**\n",
    "\n",
    "> *Missing in `subgroup_city`:*\n",
    "* `company:` 95%\n",
    "* `agent:` 10%\n",
    ">\n",
    "> *Missing in `subgroup_resort`:*\n",
    "* `company:`\" 92%\n",
    "* `agent:` 20%\n",
    ">\n",
    "> Due to the large number of missing values for `company`, **I will drop `company` from both dataframes.**\n",
    ">\n",
    "> Since the missing values for `agent` are valid, **I will keep `agent` and fill the missing values with a value to represent the lack of a value.** I will fill the missing values in the next section.\n",
    "\n",
    "**`Country` and `Children` Features**\n",
    "\n",
    "> The remaining two features with missing values are `country` and `children`.**As there are a small number of missing values in both dataframes' features, I will keep both features. I will use** `SimpleImputer` **transformer during my preprocessing pipeline step to impute values and use a** `GridSearchCV` **to determine the best method.**\n",
    "\n",
    "---"
   ]
  },
  {
   "cell_type": "markdown",
   "metadata": {},
   "source": [
    "## Dropping `Company` Column"
   ]
  },
  {
   "cell_type": "code",
   "execution_count": null,
   "metadata": {
    "ExecuteTime": {
     "end_time": "2021-09-01T21:07:11.521382Z",
     "start_time": "2021-09-01T21:07:11.319355Z"
    }
   },
   "outputs": [],
   "source": [
    "# Dropping \"company\" column (95% missing values)\n",
    "subgroup_city.drop(columns = ['company'], inplace=True)\n",
    "subgroup_city"
   ]
  },
  {
   "cell_type": "code",
   "execution_count": null,
   "metadata": {
    "ExecuteTime": {
     "end_time": "2021-09-01T21:07:11.691380Z",
     "start_time": "2021-09-01T21:07:11.523351Z"
    },
    "scrolled": false
   },
   "outputs": [],
   "source": [
    "# Dropping \"company\" column (95% missing values)\n",
    "subgroup_resort.drop(columns = ['company'], inplace=True)\n",
    "subgroup_resort"
   ]
  },
  {
   "cell_type": "code",
   "execution_count": null,
   "metadata": {
    "ExecuteTime": {
     "end_time": "2021-09-01T21:07:11.832351Z",
     "start_time": "2021-09-01T21:07:11.693353Z"
    }
   },
   "outputs": [],
   "source": [
    "## Confirming 'company' removal from both\n",
    "'company' not in subgroup_city and 'company' not in subgroup_resort"
   ]
  },
  {
   "cell_type": "markdown",
   "metadata": {},
   "source": [
    "## Filling missing values in `agent`"
   ]
  },
  {
   "cell_type": "code",
   "execution_count": null,
   "metadata": {
    "ExecuteTime": {
     "end_time": "2021-09-01T21:07:11.971350Z",
     "start_time": "2021-09-01T21:07:11.834352Z"
    }
   },
   "outputs": [],
   "source": [
    "## Identifying unique vales for both sub-groups\n",
    "\n",
    "unique_values = set()\n",
    "for value in subgroup_city['agent'].unique():\n",
    "    unique_values.add(value)\n",
    "    \n",
    "for value in subgroup_resort['agent'].unique():\n",
    "    unique_values.add(value)"
   ]
  },
  {
   "cell_type": "code",
   "execution_count": null,
   "metadata": {
    "ExecuteTime": {
     "end_time": "2021-09-01T21:07:12.098351Z",
     "start_time": "2021-09-01T21:07:11.973351Z"
    },
    "code_folding": []
   },
   "outputs": [],
   "source": [
    "## Confirming uniform datatype\n",
    "unique_dtype = set()\n",
    "for item in unique_values:\n",
    "    unique_dtype.add(type(item))\n",
    "    \n",
    "unique_dtype"
   ]
  },
  {
   "cell_type": "code",
   "execution_count": null,
   "metadata": {
    "ExecuteTime": {
     "end_time": "2021-09-01T21:07:12.224381Z",
     "start_time": "2021-09-01T21:07:12.100350Z"
    }
   },
   "outputs": [],
   "source": [
    "## Testing placeholder value to fill missing values\n",
    "999.0 in unique_values"
   ]
  },
  {
   "cell_type": "code",
   "execution_count": null,
   "metadata": {
    "ExecuteTime": {
     "end_time": "2021-09-01T21:07:12.379350Z",
     "start_time": "2021-09-01T21:07:12.227356Z"
    }
   },
   "outputs": [],
   "source": [
    "## Filling missing values and confirming no remaining values\n",
    "\n",
    "for df in [subgroup_city,subgroup_resort]:\n",
    "    df.loc[:,'agent'].fillna(999.0, inplace=True)\n",
    "    print(df['agent'].isna().sum())"
   ]
  },
  {
   "cell_type": "markdown",
   "metadata": {},
   "source": [
    "# 🔬 **Inspecting Feature Data Types**"
   ]
  },
  {
   "cell_type": "markdown",
   "metadata": {},
   "source": [
    "---\n",
    "\n",
    "**City**\n",
    "\n",
    "---"
   ]
  },
  {
   "cell_type": "code",
   "execution_count": null,
   "metadata": {
    "ExecuteTime": {
     "end_time": "2021-09-01T21:07:12.519375Z",
     "start_time": "2021-09-01T21:07:12.381351Z"
    },
    "scrolled": false
   },
   "outputs": [],
   "source": [
    "## Inspecting dataypes for \"subgroup_city\"\n",
    "subgroup_city.dtypes.sort_values()"
   ]
  },
  {
   "cell_type": "markdown",
   "metadata": {},
   "source": [
    "---\n",
    "\n",
    "**Resort**\n",
    "\n",
    "---"
   ]
  },
  {
   "cell_type": "code",
   "execution_count": null,
   "metadata": {
    "ExecuteTime": {
     "end_time": "2021-09-01T21:07:12.659382Z",
     "start_time": "2021-09-01T21:07:12.521350Z"
    }
   },
   "outputs": [],
   "source": [
    "subgroup_resort.dtypes.sort_values()"
   ]
  },
  {
   "cell_type": "code",
   "execution_count": null,
   "metadata": {
    "ExecuteTime": {
     "end_time": "2021-09-01T21:07:12.786350Z",
     "start_time": "2021-09-01T21:07:12.661350Z"
    },
    "scrolled": false
   },
   "outputs": [],
   "source": [
    "## Confirming all datatypes match between dataframes\n",
    "subgroup_city.dtypes.sort_values() == subgroup_resort.dtypes.sort_values()"
   ]
  },
  {
   "cell_type": "markdown",
   "metadata": {},
   "source": [
    "---\n",
    "\n",
    "**Review - Datatypes**\n",
    "\n",
    "> After reviewing the datatypes, I noticed **one feature need to be changed to the string datatype: `agent`**. This feature represents unique identifiers for booking agents and need to be treated as categorical data.\n",
    ">\n",
    "> As both dataframes' datatypes are the same, I do not need to make any other adjustments specific to either dataframe.\n",
    "\n",
    "---"
   ]
  },
  {
   "cell_type": "markdown",
   "metadata": {},
   "source": [
    "## Converting to Strings"
   ]
  },
  {
   "cell_type": "code",
   "execution_count": null,
   "metadata": {
    "ExecuteTime": {
     "end_time": "2021-09-01T21:07:13.003382Z",
     "start_time": "2021-09-01T21:07:12.787381Z"
    }
   },
   "outputs": [],
   "source": [
    "## Converting \"agent\" to string for both sub-groups\n",
    "\n",
    "for df in [subgroup_city, subgroup_resort]:\n",
    "    df.loc[:,'agent'] = df['agent'].astype(int)\n",
    "    df.loc[:,'agent'] = df['agent'].astype(str)\n",
    "    print(f'Datatype: {df[\"agent\"].dtype}')"
   ]
  },
  {
   "cell_type": "markdown",
   "metadata": {},
   "source": [
    "# 🔎 **EDA - Features**"
   ]
  },
  {
   "cell_type": "markdown",
   "metadata": {},
   "source": [
    "---\n",
    "\n",
    "**In-Depth EDA per Feature**\n",
    "\n",
    "> Now that I reviewed my missing values and confirmed my datatypes, I will inspect the details of each of my features.\n",
    "\n",
    "---\n",
    "**Note:**\n",
    "\n",
    "> DataFrame styling code used in `explore_feature()` function adapted from this [source](https://stackoverflow.com/questions/59769161/python-color-pandas-dataframe-based-on-multiindex#:~:text=2-,You,-can%20use%20Styler).\n",
    "\n",
    "---"
   ]
  },
  {
   "cell_type": "markdown",
   "metadata": {},
   "source": [
    "## **Reservation_Status**"
   ]
  },
  {
   "cell_type": "markdown",
   "metadata": {},
   "source": [
    "---\n",
    "\n",
    "**City**\n",
    "\n",
    "---"
   ]
  },
  {
   "cell_type": "code",
   "execution_count": null,
   "metadata": {
    "ExecuteTime": {
     "end_time": "2021-09-01T21:07:15.075382Z",
     "start_time": "2021-09-01T21:07:13.005352Z"
    }
   },
   "outputs": [],
   "source": [
    "eda.explore_feature(subgroup_city,'reservation_status', \n",
    "                    plot_type='histogram',\n",
    "                    target_feature='reservation_status',\n",
    "                    plot_label ='Status',\n",
    "                    plot_title= 'Reservation Status - Resort');"
   ]
  },
  {
   "cell_type": "code",
   "execution_count": null,
   "metadata": {
    "ExecuteTime": {
     "end_time": "2021-09-01T21:07:16.477377Z",
     "start_time": "2021-09-01T21:07:15.080382Z"
    }
   },
   "outputs": [],
   "source": [
    "## Reviewing details for city - reservation_status\n",
    "eda.explore_feature(subgroup_city,'reservation_status', \n",
    "                    plot_type='histogram',\n",
    "                    target_feature='reservation_status',\n",
    "                    plot_label ='Status',\n",
    "                    plot_title= 'Reservation Status - Resort');"
   ]
  },
  {
   "cell_type": "markdown",
   "metadata": {},
   "source": [
    "---\n",
    "\n",
    "**Resort**\n",
    "\n",
    "---"
   ]
  },
  {
   "cell_type": "code",
   "execution_count": null,
   "metadata": {
    "ExecuteTime": {
     "end_time": "2021-09-01T21:07:17.458384Z",
     "start_time": "2021-09-01T21:07:16.480352Z"
    }
   },
   "outputs": [],
   "source": [
    "## Reviewing details for resoty - reservation_status\n",
    "eda.explore_feature(subgroup_resort,'reservation_status', \n",
    "                    plot_type='histogram',\n",
    "                    target_feature='reservation_status',\n",
    "                    plot_label ='Status',\n",
    "                    plot_title= 'Reservation Status - Resort');"
   ]
  },
  {
   "cell_type": "markdown",
   "metadata": {},
   "source": [
    "# ❌ Change Target Name ❌"
   ]
  },
  {
   "cell_type": "markdown",
   "metadata": {},
   "source": [
    "### Review - `Reservation_Status`"
   ]
  },
  {
   "cell_type": "markdown",
   "metadata": {},
   "source": [
    "---\n",
    "\n",
    "**Feature Review**\n",
    "\n",
    "> `Reservation_status` will be my target feature for my classification modeling. **To prepare it for modeling, I will need to replace the `No-Show` status with `Canceled` values.**\n",
    "\n",
    "**Actions**\n",
    "\n",
    ">For the purposes of my analysis, **I will treat `No-Show` reservations as `Canceled` reservations** due to their limited number preventing me from effectively using it as a third class.\n",
    "\n",
    "**City vs. Resort**\n",
    "\n",
    "> The most notable difference between the city and resort hotels would be the number of cancellations: *The city hotel shows a much larger proportion of canceled reservations vs. the resort hotel.* \n",
    "* This may be due to a variety of factors, including resort guests booking when they are more certain of their plans or the resort hotel may charge a cancellation fee.\n",
    ">\n",
    "> No-Show reservations are low for both hotels, supporting my decision to merge no-shows with cancellations. \n",
    "\n",
    "---"
   ]
  },
  {
   "cell_type": "markdown",
   "metadata": {},
   "source": [
    "### Converting `No-Show` to `Canceled`"
   ]
  },
  {
   "cell_type": "code",
   "execution_count": null,
   "metadata": {
    "ExecuteTime": {
     "end_time": "2021-09-01T21:07:17.615387Z",
     "start_time": "2021-09-01T21:07:17.460353Z"
    }
   },
   "outputs": [],
   "source": [
    "## Changing no-show values to \"canceled\"\n",
    "subgroup_city.loc[:,'reservation_status'].replace('No-Show', 'Canceled',\n",
    "                                            inplace=True)\n",
    "subgroup_resort.loc[:,'reservation_status'].replace('No-Show', 'Canceled',\n",
    "                                            inplace=True)"
   ]
  },
  {
   "cell_type": "code",
   "execution_count": null,
   "metadata": {
    "ExecuteTime": {
     "end_time": "2021-09-01T21:07:17.773385Z",
     "start_time": "2021-09-01T21:07:17.618368Z"
    }
   },
   "outputs": [],
   "source": [
    "## Confirming the change\n",
    "'No-Show' not in subgroup_city['reservation_status'] and \\\n",
    "                        'No-Show' not in subgroup_city['reservation_status']"
   ]
  },
  {
   "cell_type": "code",
   "execution_count": null,
   "metadata": {
    "ExecuteTime": {
     "end_time": "2021-09-01T21:07:17.928355Z",
     "start_time": "2021-09-01T21:07:17.775358Z"
    }
   },
   "outputs": [],
   "source": [
    "## Inspecting the updated target classes\n",
    "subgroup_city['reservation_status'].value_counts(1, dropna=False)"
   ]
  },
  {
   "cell_type": "code",
   "execution_count": null,
   "metadata": {
    "ExecuteTime": {
     "end_time": "2021-09-01T21:07:18.099355Z",
     "start_time": "2021-09-01T21:07:17.930355Z"
    },
    "scrolled": true
   },
   "outputs": [],
   "source": [
    "subgroup_resort['reservation_status'].value_counts(1, dropna=False)"
   ]
  },
  {
   "cell_type": "markdown",
   "metadata": {},
   "source": [
    "### Review - `Reservation_Status`"
   ]
  },
  {
   "cell_type": "markdown",
   "metadata": {},
   "source": [
    "---\n",
    "\n",
    "> I successfully converted all `No-Show` values to `Canceled`, **resulting in a binary classification of whether a reservation will actualize (`Check-Out`) or not (`No-Show`).**\n",
    "\n",
    "---"
   ]
  },
  {
   "cell_type": "markdown",
   "metadata": {},
   "source": [
    "## **Is_Canceled**"
   ]
  },
  {
   "cell_type": "markdown",
   "metadata": {},
   "source": [
    "---\n",
    "\n",
    "**City**\n",
    "\n",
    "---"
   ]
  },
  {
   "cell_type": "code",
   "execution_count": null,
   "metadata": {
    "ExecuteTime": {
     "end_time": "2021-09-01T21:07:19.052355Z",
     "start_time": "2021-09-01T21:07:18.102353Z"
    },
    "scrolled": false
   },
   "outputs": [],
   "source": [
    "## Reviewing details for city - 'is_canceled'\n",
    "eda.explore_feature(subgroup_city,'is_canceled', \n",
    "                    target_feature='is_canceled',\n",
    "                    normalize=False,\n",
    "                    plot_type='histogram',\n",
    "                    plot_label ='Cancellation Status',\n",
    "                    plot_title= 'Reservation Status - City');"
   ]
  },
  {
   "cell_type": "markdown",
   "metadata": {},
   "source": [
    "---\n",
    "\n",
    "**Resort**\n",
    "\n",
    "---"
   ]
  },
  {
   "cell_type": "code",
   "execution_count": null,
   "metadata": {
    "ExecuteTime": {
     "end_time": "2021-09-01T21:07:19.829354Z",
     "start_time": "2021-09-01T21:07:19.054354Z"
    },
    "scrolled": false
   },
   "outputs": [],
   "source": [
    "## Reviewing details for resort - 'is_canceled'\n",
    "eda.explore_feature(subgroup_resort,'is_canceled', \n",
    "                    target_feature='is_canceled',\n",
    "                    plot_type='histogram',\n",
    "                    normalize=False,\n",
    "                    plot_label ='Cancellation Status',\n",
    "                    plot_title= 'Reservation Status - Resort');"
   ]
  },
  {
   "cell_type": "markdown",
   "metadata": {},
   "source": [
    "### Review - `Is_Canceled`"
   ]
  },
  {
   "cell_type": "markdown",
   "metadata": {},
   "source": [
    "---\n",
    "\n",
    "**Feature Review**\n",
    "\n",
    "> After reviewing the results post-\"no-show\" conversion, `Is_canceled` is a binarization of the `reservation_status`. Reservations are indicated as cancellations if they either cancel or are marked as a \"no-show\" reservation.\n",
    "\n",
    "**Actions**\n",
    "\n",
    "> This feature is a better target feature as the values are already binarized and match the `reservation_status` feature for all of the reservations.\n",
    ">\n",
    "> **I will use `is_canceled` in place of the `reservation_status` feature as my target feature.**\n",
    "\n",
    "**City vs. Resort**\n",
    "\n",
    "> The breakdown between hotels is the same as `reservation_status` and confirms that the resort hotel experiences fewer cancellations vs. the city hotel.\n",
    "\n",
    "---"
   ]
  },
  {
   "cell_type": "markdown",
   "metadata": {},
   "source": [
    "## **Lead_Time**"
   ]
  },
  {
   "cell_type": "markdown",
   "metadata": {},
   "source": [
    "---\n",
    "\n",
    "**City**\n",
    "\n",
    "---"
   ]
  },
  {
   "cell_type": "code",
   "execution_count": null,
   "metadata": {
    "ExecuteTime": {
     "end_time": "2021-09-01T21:07:21.046355Z",
     "start_time": "2021-09-01T21:07:19.831355Z"
    },
    "scrolled": false
   },
   "outputs": [],
   "source": [
    "## Reviewing details for city - 'lead_time'\n",
    "eda.explore_feature(subgroup_city,'lead_time',\n",
    "                    bins = 5, plot_type='histogram',\n",
    "                    marginal_x = 'box', width= 800, height=600,\n",
    "                    target_feature='is_canceled',\n",
    "                    plot_label ='Number of Days',\n",
    "                    plot_title= 'Lead Time (Days) - City');"
   ]
  },
  {
   "cell_type": "markdown",
   "metadata": {},
   "source": [
    "---\n",
    "\n",
    "**Resort**\n",
    "\n",
    "---"
   ]
  },
  {
   "cell_type": "code",
   "execution_count": null,
   "metadata": {
    "ExecuteTime": {
     "end_time": "2021-09-01T21:07:21.950356Z",
     "start_time": "2021-09-01T21:07:21.048384Z"
    }
   },
   "outputs": [],
   "source": [
    "## Reviewing details for resort - 'lead_time'\n",
    "eda.explore_feature(subgroup_resort,'lead_time',\n",
    "                    bins = 5,\n",
    "                    plot_type='histogram',\n",
    "                    marginal_x = 'box',\n",
    "                    target_feature='is_canceled',\n",
    "                    plot_label ='Number of Days',\n",
    "                    plot_title= 'Lead Time (Days) - Resort');"
   ]
  },
  {
   "cell_type": "markdown",
   "metadata": {},
   "source": [
    "### Review - `Lead_Time`"
   ]
  },
  {
   "cell_type": "markdown",
   "metadata": {},
   "source": [
    "---\n",
    "\n",
    "**Feature Review**\n",
    "\n",
    "> `Lead_Time` indicates how far in advance reservations are booked in days. *This information is particularly useful in hospitality for Revenue Management (RM) and Operations (Ops).*\n",
    ">\n",
    ">  * RM needs to know **when to expect bookings** and **when to monitor rates and availability** closely to make any necessary changes to optimize revenue.\n",
    ">\n",
    ">\n",
    ">  * Ops uses this information to **forecast how many reservations will book in a short-term booking window** (I usually focused on 0-3 days prior to arrival).\n",
    ">\n",
    "> * **This forecast is critical to determine staffing and supplies in particular** - when building our schedules, we consider the current number of booked reservations and the forecasted bookings to determine how many staff members to schedule and if we have enough supplies, etc..\n",
    ">  * *Being the only staff member at the Front Desk during a rush of arrivals due to a snow storm is NOT fun!*\n",
    "\n",
    "**Actions**\n",
    "\n",
    "> I noticed there are a significant number of outliers for both properties. **I will remove the outliers based on the z-score percentiles prior to modeling.**\n",
    "\n",
    "**City vs. Resort**\n",
    "\n",
    "> The histograms and box plots for both hotels match up closely, but it is clear that **the city hotel has a larger range of lead times for cancellations vs. the resort hotel.**\n",
    "\n",
    "---"
   ]
  },
  {
   "cell_type": "markdown",
   "metadata": {},
   "source": [
    "## Arrival_Date_Year"
   ]
  },
  {
   "cell_type": "markdown",
   "metadata": {},
   "source": [
    "---\n",
    "\n",
    "**City**\n",
    "\n",
    "---"
   ]
  },
  {
   "cell_type": "code",
   "execution_count": null,
   "metadata": {
    "ExecuteTime": {
     "end_time": "2021-09-01T21:07:23.165391Z",
     "start_time": "2021-09-01T21:07:21.952356Z"
    },
    "scrolled": false
   },
   "outputs": [],
   "source": [
    "## Reviewing details for city - 'arrival_date_year'\n",
    "eda.explore_feature(subgroup_city,'arrival_date_year',\n",
    "                    plot_type='histogram',\n",
    "                    marginal_x = 'box',\n",
    "                    width= 800, height=600,\n",
    "                    target_feature='is_canceled',\n",
    "                    plot_label ='Year',\n",
    "                    plot_title= 'Arrival Date (Year) - City');"
   ]
  },
  {
   "cell_type": "markdown",
   "metadata": {},
   "source": [
    "---\n",
    "\n",
    "**Resort**\n",
    "\n",
    "---"
   ]
  },
  {
   "cell_type": "code",
   "execution_count": null,
   "metadata": {
    "ExecuteTime": {
     "end_time": "2021-09-01T21:07:24.049394Z",
     "start_time": "2021-09-01T21:07:23.168358Z"
    },
    "scrolled": false
   },
   "outputs": [],
   "source": [
    "## Reviewing details for resort - 'arrival_date_year'\n",
    "eda.explore_feature(subgroup_resort,'arrival_date_year',\n",
    "                    plot_type='histogram',\n",
    "                    marginal_x = 'box',\n",
    "                    width= 800, height=600,\n",
    "                    target_feature='is_canceled',\n",
    "                    plot_label ='Year',\n",
    "                    plot_title= 'Arrival Date (Year) - Resort');"
   ]
  },
  {
   "cell_type": "markdown",
   "metadata": {},
   "source": [
    "## **`Arrival_Date` as Datetime**"
   ]
  },
  {
   "cell_type": "markdown",
   "metadata": {},
   "source": [
    "---\n",
    "\n",
    "**City**\n",
    "\n",
    "---"
   ]
  },
  {
   "cell_type": "code",
   "execution_count": null,
   "metadata": {
    "ExecuteTime": {
     "end_time": "2021-09-01T21:07:24.470355Z",
     "start_time": "2021-09-01T21:07:24.051357Z"
    },
    "scrolled": true
   },
   "outputs": [],
   "source": [
    "## Converting from month, day of month, and year to a single datetime column\n",
    "subgroup_city['arrival_date'] = subgroup_city['arrival_date_month'] +' '+ \\\n",
    "                                subgroup_city['arrival_date_day_of_month']\\\n",
    "                                .astype(str) +', '+ \\\n",
    "                                subgroup_city['arrival_date_year'].astype(str)\n",
    "subgroup_city['arrival_date'] = pd.to_datetime(subgroup_city['arrival_date'])\n",
    "subgroup_city['arrival_date']"
   ]
  },
  {
   "cell_type": "markdown",
   "metadata": {},
   "source": [
    "---\n",
    "\n",
    "**Resort**\n",
    "\n",
    "---"
   ]
  },
  {
   "cell_type": "code",
   "execution_count": null,
   "metadata": {
    "ExecuteTime": {
     "end_time": "2021-09-01T21:07:27.270386Z",
     "start_time": "2021-09-01T21:07:24.472356Z"
    },
    "scrolled": true
   },
   "outputs": [],
   "source": [
    "## Converting from month, day of month, and year to a single datetime column\n",
    "subgroup_resort['arrival_date'] = subgroup_resort['arrival_date_month'] +' '+ \\\n",
    "                                subgroup_resort['arrival_date_day_of_month']\\\n",
    "                                .astype(str) +', '+ \\\n",
    "                                subgroup_resort['arrival_date_year'].astype(str)\n",
    "subgroup_resort['arrival_date'] = pd.to_datetime(subgroup_resort['arrival_date'])\n",
    "subgroup_resort['arrival_date']"
   ]
  },
  {
   "cell_type": "markdown",
   "metadata": {},
   "source": [
    "### Review - `Arrival_Date`"
   ]
  },
  {
   "cell_type": "markdown",
   "metadata": {},
   "source": [
    "---\n",
    "\n",
    "**Feature Review**\n",
    "\n",
    "> I created this new feature to merge the arrival year/month/day-of-month features into one usable feature. \n",
    "\n",
    "**Actions**\n",
    "\n",
    "> PLACEHOLDER\n",
    "\n",
    "**City vs. Resort**\n",
    "\n",
    "> PLACEHOLDER\n",
    "\n",
    "---"
   ]
  },
  {
   "cell_type": "markdown",
   "metadata": {},
   "source": [
    "## stays_in_weekend_nights"
   ]
  },
  {
   "cell_type": "markdown",
   "metadata": {},
   "source": [
    "---\n",
    "\n",
    "**City**\n",
    "\n",
    "---"
   ]
  },
  {
   "cell_type": "code",
   "execution_count": null,
   "metadata": {
    "ExecuteTime": {
     "end_time": "2021-09-01T21:07:28.436359Z",
     "start_time": "2021-09-01T21:07:27.273361Z"
    }
   },
   "outputs": [],
   "source": [
    "## Reviewing details for city - 'stays_in_weekend_nights'\n",
    "eda.explore_feature(subgroup_city,'stays_in_weekend_nights',\n",
    "                    bins = 5,\n",
    "                    plot_type='histogram',\n",
    "                    marginal_x = 'box',\n",
    "                    width= 800, height=600,\n",
    "                    target_feature='is_canceled',\n",
    "                    plot_label ='Number of Days',\n",
    "                    plot_title= 'Lead Time (Days) - City');"
   ]
  },
  {
   "cell_type": "markdown",
   "metadata": {},
   "source": [
    "---\n",
    "\n",
    "**Resort**\n",
    "\n",
    "---"
   ]
  },
  {
   "cell_type": "code",
   "execution_count": null,
   "metadata": {
    "ExecuteTime": {
     "end_time": "2021-09-01T21:07:29.387359Z",
     "start_time": "2021-09-01T21:07:28.438359Z"
    }
   },
   "outputs": [],
   "source": [
    "## Reviewing details for resort - 'stays_in_weekend_nights'\n",
    "eda.explore_feature(subgroup_resort,'stays_in_weekend_nights',\n",
    "                    bins = 5,\n",
    "                    plot_type='histogram',\n",
    "                    marginal_x = 'box',\n",
    "                    width= 800, height=600,\n",
    "                    target_feature='is_canceled',\n",
    "                    plot_label ='Number of Prior Stays',\n",
    "                    plot_title= 'Stays in Weekend Nights - Resort');"
   ]
  },
  {
   "cell_type": "markdown",
   "metadata": {},
   "source": [
    "### Review - `PLACEHOLDER`"
   ]
  },
  {
   "cell_type": "markdown",
   "metadata": {},
   "source": [
    "---\n",
    "\n",
    "**Feature Review**\n",
    "\n",
    "> PLACEHOLDER\n",
    "\n",
    "**Actions**\n",
    "\n",
    "> PLACEHOLDER\n",
    "\n",
    "**City vs. Resort**\n",
    "\n",
    "> PLACEHOLDER\n",
    "\n",
    "---"
   ]
  },
  {
   "cell_type": "markdown",
   "metadata": {},
   "source": [
    "## stays_in_week_nights"
   ]
  },
  {
   "cell_type": "markdown",
   "metadata": {},
   "source": [
    "---\n",
    "\n",
    "**City**\n",
    "\n",
    "---"
   ]
  },
  {
   "cell_type": "code",
   "execution_count": null,
   "metadata": {
    "ExecuteTime": {
     "end_time": "2021-09-01T21:07:30.683374Z",
     "start_time": "2021-09-01T21:07:29.390369Z"
    }
   },
   "outputs": [],
   "source": [
    "## Reviewing details for city - 'stays_in_week_nights'\n",
    "eda.explore_feature(subgroup_city,'stays_in_week_nights',\n",
    "                    bins = 5,\n",
    "                    plot_type='histogram',\n",
    "                    marginal_x = 'box',\n",
    "                    width= 800, height=600,\n",
    "                    target_feature='is_canceled',\n",
    "                    plot_label ='Number of Prior Stays',\n",
    "                    plot_title= 'Stays in Week Nights - City');"
   ]
  },
  {
   "cell_type": "markdown",
   "metadata": {},
   "source": [
    "---\n",
    "\n",
    "**Resort**\n",
    "\n",
    "---"
   ]
  },
  {
   "cell_type": "code",
   "execution_count": null,
   "metadata": {
    "ExecuteTime": {
     "end_time": "2021-09-01T21:07:31.624360Z",
     "start_time": "2021-09-01T21:07:30.686362Z"
    },
    "scrolled": false
   },
   "outputs": [],
   "source": [
    "## Reviewing details for resort - 'stays_in_week_nights'\n",
    "eda.explore_feature(subgroup_resort,'stays_in_week_nights',\n",
    "                    bins = 5,\n",
    "                    plot_type='histogram',\n",
    "                    marginal_x = 'box',\n",
    "                    width= 800, height=600,\n",
    "                    target_feature='is_canceled',\n",
    "                    plot_label ='Number of Prior Stays',\n",
    "                    plot_title= 'Stays in Week Nights - Resort');"
   ]
  },
  {
   "cell_type": "markdown",
   "metadata": {},
   "source": [
    "### Review - `PLACEHOLDER`"
   ]
  },
  {
   "cell_type": "markdown",
   "metadata": {},
   "source": [
    "---\n",
    "\n",
    "**Feature Review**\n",
    "\n",
    "> PLACEHOLDER\n",
    "\n",
    "**Actions**\n",
    "\n",
    "> PLACEHOLDER\n",
    "\n",
    "**City vs. Resort**\n",
    "\n",
    "> PLACEHOLDER\n",
    "\n",
    "---"
   ]
  },
  {
   "cell_type": "markdown",
   "metadata": {},
   "source": [
    "## Adults"
   ]
  },
  {
   "cell_type": "markdown",
   "metadata": {},
   "source": [
    "---\n",
    "\n",
    "**City**\n",
    "\n",
    "---"
   ]
  },
  {
   "cell_type": "code",
   "execution_count": null,
   "metadata": {
    "ExecuteTime": {
     "end_time": "2021-09-01T21:07:32.863363Z",
     "start_time": "2021-09-01T21:07:31.627362Z"
    }
   },
   "outputs": [],
   "source": [
    "## Reviewing details for city - 'adults'\n",
    "eda.explore_feature(subgroup_city,'adults',\n",
    "                    bins = 3,\n",
    "                    plot_type='histogram',\n",
    "                    marginal_x = 'box',\n",
    "                    width= 800, height=600,\n",
    "                    target_feature='is_canceled',\n",
    "                    plot_label ='Number of Adults',\n",
    "                    plot_title= 'Adults - City');"
   ]
  },
  {
   "cell_type": "markdown",
   "metadata": {},
   "source": [
    "---\n",
    "\n",
    "**Resort**\n",
    "\n",
    "---"
   ]
  },
  {
   "cell_type": "markdown",
   "metadata": {},
   "source": [
    "### Review - `PLACEHOLDER`"
   ]
  },
  {
   "cell_type": "markdown",
   "metadata": {},
   "source": [
    "---\n",
    "\n",
    "**Feature Review**\n",
    "\n",
    "> PLACEHOLDER\n",
    "\n",
    "**Actions**\n",
    "\n",
    "> PLACEHOLDER\n",
    "\n",
    "**City vs. Resort**\n",
    "\n",
    "> PLACEHOLDER\n",
    "\n",
    "---"
   ]
  },
  {
   "cell_type": "markdown",
   "metadata": {},
   "source": [
    "## Children"
   ]
  },
  {
   "cell_type": "markdown",
   "metadata": {},
   "source": [
    "---\n",
    "\n",
    "**City**\n",
    "\n",
    "---"
   ]
  },
  {
   "cell_type": "code",
   "execution_count": null,
   "metadata": {
    "ExecuteTime": {
     "end_time": "2021-09-01T21:07:34.532362Z",
     "start_time": "2021-09-01T21:07:32.866362Z"
    }
   },
   "outputs": [],
   "source": [
    "## Reviewing details for city - 'children'\n",
    "eda.explore_feature(subgroup_city,'children',\n",
    "                    bins = 5,\n",
    "                    plot_type='histogram',\n",
    "                    marginal_x = 'box',\n",
    "                    width= 800, height=600,\n",
    "                    target_feature='is_canceled',\n",
    "                    plot_label ='Number of Children',\n",
    "                    plot_title= 'Children - City');"
   ]
  },
  {
   "cell_type": "markdown",
   "metadata": {},
   "source": [
    "---\n",
    "\n",
    "**Resort**\n",
    "\n",
    "---"
   ]
  },
  {
   "cell_type": "code",
   "execution_count": null,
   "metadata": {
    "ExecuteTime": {
     "end_time": "2021-09-01T21:07:35.637366Z",
     "start_time": "2021-09-01T21:07:34.534363Z"
    }
   },
   "outputs": [],
   "source": [
    "## Reviewing details for resort - 'children'\n",
    "eda.explore_feature(subgroup_resort,'children',\n",
    "                    bins = 3,\n",
    "                    plot_type='histogram',\n",
    "                    marginal_x = 'box',\n",
    "                    width= 800, height=600,\n",
    "                    target_feature='is_canceled',\n",
    "                    plot_label ='Number of Children',\n",
    "                    plot_title= 'Children - Resort');"
   ]
  },
  {
   "cell_type": "code",
   "execution_count": null,
   "metadata": {},
   "outputs": [],
   "source": []
  },
  {
   "cell_type": "markdown",
   "metadata": {},
   "source": [
    "### Review - `PLACEHOLDER`"
   ]
  },
  {
   "cell_type": "markdown",
   "metadata": {},
   "source": [
    "---\n",
    "\n",
    "**Feature Review**\n",
    "\n",
    "> PLACEHOLDER\n",
    "\n",
    "**Actions**\n",
    "\n",
    "> PLACEHOLDER\n",
    "\n",
    "**City vs. Resort**\n",
    "\n",
    "> PLACEHOLDER\n",
    "\n",
    "---"
   ]
  },
  {
   "cell_type": "markdown",
   "metadata": {},
   "source": [
    "## babies"
   ]
  },
  {
   "cell_type": "markdown",
   "metadata": {},
   "source": [
    "---\n",
    "\n",
    "**City**\n",
    "\n",
    "---"
   ]
  },
  {
   "cell_type": "code",
   "execution_count": null,
   "metadata": {
    "ExecuteTime": {
     "end_time": "2021-09-01T21:07:36.971365Z",
     "start_time": "2021-09-01T21:07:35.639363Z"
    }
   },
   "outputs": [],
   "source": [
    "## Reviewing details for city - 'babies'\n",
    "eda.explore_feature(subgroup_city,'babies',\n",
    "                    bins = 5,\n",
    "                    plot_type='histogram',\n",
    "                    marginal_x = 'box',\n",
    "                    width= 800, height=600,\n",
    "                    target_feature='is_canceled',\n",
    "                    plot_label ='Number of Babies',\n",
    "                    plot_title= 'Babies - City');"
   ]
  },
  {
   "cell_type": "markdown",
   "metadata": {},
   "source": [
    "---\n",
    "\n",
    "**Resort**\n",
    "\n",
    "---"
   ]
  },
  {
   "cell_type": "code",
   "execution_count": null,
   "metadata": {
    "ExecuteTime": {
     "end_time": "2021-09-01T21:07:37.905404Z",
     "start_time": "2021-09-01T21:07:36.973392Z"
    }
   },
   "outputs": [],
   "source": [
    "## Reviewing details for resort - 'babies'\n",
    "eda.explore_feature(subgroup_resort,'babies',\n",
    "                    bins = 3,\n",
    "                    plot_type='histogram',\n",
    "                    marginal_x = 'box',\n",
    "                    width= 800, height=600,\n",
    "                    target_feature='is_canceled',\n",
    "                    plot_label ='Number of Babies',\n",
    "                    plot_title= 'Babies - Resort');"
   ]
  },
  {
   "cell_type": "markdown",
   "metadata": {},
   "source": [
    "### Review - `PLACEHOLDER`"
   ]
  },
  {
   "cell_type": "markdown",
   "metadata": {},
   "source": [
    "---\n",
    "\n",
    "**Feature Review**\n",
    "\n",
    "> PLACEHOLDER\n",
    "\n",
    "**Actions**\n",
    "\n",
    "> PLACEHOLDER\n",
    "\n",
    "**City vs. Resort**\n",
    "\n",
    "> PLACEHOLDER\n",
    "\n",
    "---"
   ]
  },
  {
   "cell_type": "markdown",
   "metadata": {},
   "source": [
    "## meal"
   ]
  },
  {
   "cell_type": "markdown",
   "metadata": {},
   "source": [
    "---\n",
    "\n",
    "**City**\n",
    "\n",
    "---"
   ]
  },
  {
   "cell_type": "code",
   "execution_count": null,
   "metadata": {
    "ExecuteTime": {
     "end_time": "2021-09-01T21:07:39.357364Z",
     "start_time": "2021-09-01T21:07:37.907367Z"
    }
   },
   "outputs": [],
   "source": [
    "## Reviewing details for city - 'meal'\n",
    "eda.explore_feature(subgroup_city,'meal',\n",
    "                    plot_type='histogram',\n",
    "                    width= 800, height=600,\n",
    "                    target_feature='is_canceled',\n",
    "                    plot_label ='Types of Meal',\n",
    "                    plot_title= 'Meal - City');"
   ]
  },
  {
   "cell_type": "markdown",
   "metadata": {},
   "source": [
    "---\n",
    "\n",
    "**Resort**\n",
    "\n",
    "---"
   ]
  },
  {
   "cell_type": "code",
   "execution_count": null,
   "metadata": {
    "ExecuteTime": {
     "end_time": "2021-09-01T21:07:40.387365Z",
     "start_time": "2021-09-01T21:07:39.360372Z"
    }
   },
   "outputs": [],
   "source": [
    "## Reviewing details for resort - 'meal'\n",
    "eda.explore_feature(subgroup_resort,'meal',\n",
    "                    plot_type='histogram',\n",
    "                    width= 800, height=600,\n",
    "                    target_feature='is_canceled',\n",
    "                    plot_label ='Types of Meals',\n",
    "                    plot_title= 'Meal - Resort');"
   ]
  },
  {
   "cell_type": "markdown",
   "metadata": {},
   "source": [
    "### Review - `PLACEHOLDER`"
   ]
  },
  {
   "cell_type": "markdown",
   "metadata": {},
   "source": [
    "---\n",
    "\n",
    "**Feature Review**\n",
    "\n",
    "> PLACEHOLDER\n",
    "\n",
    "**Actions**\n",
    "\n",
    "> PLACEHOLDER\n",
    "\n",
    "**City vs. Resort**\n",
    "\n",
    "> PLACEHOLDER\n",
    "\n",
    "---"
   ]
  },
  {
   "cell_type": "markdown",
   "metadata": {},
   "source": [
    "## country"
   ]
  },
  {
   "cell_type": "markdown",
   "metadata": {},
   "source": [
    "---\n",
    "\n",
    "**City**\n",
    "\n",
    "---"
   ]
  },
  {
   "cell_type": "code",
   "execution_count": null,
   "metadata": {
    "ExecuteTime": {
     "end_time": "2021-09-01T21:07:42.567367Z",
     "start_time": "2021-09-01T21:07:40.389369Z"
    },
    "scrolled": false
   },
   "outputs": [],
   "source": [
    "## Reviewing details for city - 'country'\n",
    "eda.explore_feature(subgroup_city,'country',\n",
    "                    plot_type='histogram',\n",
    "                    marginal_x = 'box',\n",
    "                    normalize=False,\n",
    "                    width= 800, height=600,\n",
    "                    target_feature='is_canceled',\n",
    "                    plot_label ='Country',\n",
    "                    plot_title= 'Country - City');"
   ]
  },
  {
   "cell_type": "markdown",
   "metadata": {},
   "source": [
    "---\n",
    "\n",
    "**Resort**\n",
    "\n",
    "---"
   ]
  },
  {
   "cell_type": "code",
   "execution_count": null,
   "metadata": {
    "ExecuteTime": {
     "end_time": "2021-09-01T21:07:43.909398Z",
     "start_time": "2021-09-01T21:07:42.569377Z"
    },
    "scrolled": false
   },
   "outputs": [],
   "source": [
    "## Reviewing details for resort - 'country'\n",
    "eda.explore_feature(subgroup_resort,'country',\n",
    "                    plot_type='histogram',\n",
    "                    normalize=False,\n",
    "                    marginal_x='box',\n",
    "                    width= 800, height=600,\n",
    "                    target_feature='is_canceled',\n",
    "                    plot_label ='Country',\n",
    "                    plot_title= 'Country - Resort');"
   ]
  },
  {
   "cell_type": "markdown",
   "metadata": {},
   "source": [
    "### Review - `PLACEHOLDER`"
   ]
  },
  {
   "cell_type": "markdown",
   "metadata": {},
   "source": [
    "---\n",
    "\n",
    "**Feature Review**\n",
    "\n",
    "> PLACEHOLDER\n",
    "\n",
    "**Actions**\n",
    "\n",
    "> PLACEHOLDER\n",
    "\n",
    "**City vs. Resort**\n",
    "\n",
    "> PLACEHOLDER\n",
    "\n",
    "---"
   ]
  },
  {
   "cell_type": "markdown",
   "metadata": {},
   "source": [
    "## market_segment"
   ]
  },
  {
   "cell_type": "markdown",
   "metadata": {},
   "source": [
    "---\n",
    "\n",
    "**City**\n",
    "\n",
    "---"
   ]
  },
  {
   "cell_type": "code",
   "execution_count": null,
   "metadata": {
    "ExecuteTime": {
     "end_time": "2021-09-01T21:07:46.106373Z",
     "start_time": "2021-09-01T21:07:43.911368Z"
    }
   },
   "outputs": [],
   "source": [
    "## Reviewing details for city - 'market_segment'\n",
    "eda.explore_feature(subgroup_city,'market_segment',\n",
    "                    plot_type='histogram',\n",
    "                    marginal_x = 'box',\n",
    "                    width= 800, height=600,\n",
    "                    target_feature='is_canceled',\n",
    "                    plot_label ='Market Segment',\n",
    "                    plot_title= 'Market Segment - City');"
   ]
  },
  {
   "cell_type": "markdown",
   "metadata": {},
   "source": [
    "---\n",
    "\n",
    "**Resort**\n",
    "\n",
    "---"
   ]
  },
  {
   "cell_type": "code",
   "execution_count": null,
   "metadata": {
    "ExecuteTime": {
     "end_time": "2021-09-01T21:07:47.038404Z",
     "start_time": "2021-09-01T21:07:46.110378Z"
    }
   },
   "outputs": [],
   "source": [
    "## Reviewing details for resort - 'market_segment'\n",
    "eda.explore_feature(subgroup_resort,'market_segment',\n",
    "                    normalize=False,\n",
    "                    plot_type='histogram',\n",
    "                    width= 800, height=600,\n",
    "                    target_feature='is_canceled',\n",
    "                    plot_label ='Market Segment',\n",
    "                    plot_title= 'Market Segment - Resort');"
   ]
  },
  {
   "cell_type": "markdown",
   "metadata": {},
   "source": [
    "### Review - `PLACEHOLDER`"
   ]
  },
  {
   "cell_type": "markdown",
   "metadata": {},
   "source": [
    "---\n",
    "\n",
    "**Feature Review**\n",
    "\n",
    "> PLACEHOLDER\n",
    "\n",
    "**Actions**\n",
    "\n",
    "> PLACEHOLDER\n",
    "\n",
    "**City vs. Resort**\n",
    "\n",
    "> PLACEHOLDER\n",
    "\n",
    "---"
   ]
  },
  {
   "cell_type": "markdown",
   "metadata": {},
   "source": [
    "## distribution_channel"
   ]
  },
  {
   "cell_type": "markdown",
   "metadata": {},
   "source": [
    "---\n",
    "\n",
    "**City**\n",
    "\n",
    "---"
   ]
  },
  {
   "cell_type": "code",
   "execution_count": null,
   "metadata": {
    "ExecuteTime": {
     "end_time": "2021-09-01T21:07:48.596400Z",
     "start_time": "2021-09-01T21:07:47.041368Z"
    }
   },
   "outputs": [],
   "source": [
    "## Reviewing details for city - 'distribution_channel'\n",
    "eda.explore_feature(subgroup_city,'distribution_channel',\n",
    "                    plot_type='histogram',\n",
    "                    normalize=False,\n",
    "                    width= 800, height=600,\n",
    "                    target_feature='is_canceled',\n",
    "                    plot_label ='Distribution Channel',\n",
    "                    plot_title= 'Distribution Channel - City');"
   ]
  },
  {
   "cell_type": "markdown",
   "metadata": {},
   "source": [
    "---\n",
    "\n",
    "**Resort**\n",
    "\n",
    "---"
   ]
  },
  {
   "cell_type": "code",
   "execution_count": null,
   "metadata": {
    "ExecuteTime": {
     "end_time": "2021-09-01T21:07:49.922370Z",
     "start_time": "2021-09-01T21:07:48.598372Z"
    }
   },
   "outputs": [],
   "source": [
    "## Reviewing details for resort - 'distribution_channel'\n",
    "eda.explore_feature(subgroup_resort,'distribution_channel',\n",
    "                    plot_type='histogram',\n",
    "                    normalize=False,\n",
    "                    marginal_x = 'box',\n",
    "                    width= 800, height=600,\n",
    "                    target_feature='is_canceled',\n",
    "                    plot_label ='Distribution Channel',\n",
    "                    plot_title= 'Distribution Channel - Resort');"
   ]
  },
  {
   "cell_type": "markdown",
   "metadata": {},
   "source": [
    "### Review - `PLACEHOLDER`"
   ]
  },
  {
   "cell_type": "markdown",
   "metadata": {},
   "source": [
    "---\n",
    "\n",
    "**Feature Review**\n",
    "\n",
    "> PLACEHOLDER\n",
    "\n",
    "**Actions**\n",
    "\n",
    "> PLACEHOLDER\n",
    "\n",
    "**City vs. Resort**\n",
    "\n",
    "> PLACEHOLDER\n",
    "\n",
    "---"
   ]
  },
  {
   "cell_type": "markdown",
   "metadata": {},
   "source": [
    "## is_repeated_guest"
   ]
  },
  {
   "cell_type": "markdown",
   "metadata": {},
   "source": [
    "---\n",
    "\n",
    "**City**\n",
    "\n",
    "---"
   ]
  },
  {
   "cell_type": "code",
   "execution_count": null,
   "metadata": {
    "ExecuteTime": {
     "end_time": "2021-09-01T21:07:50.889373Z",
     "start_time": "2021-09-01T21:07:49.924370Z"
    }
   },
   "outputs": [],
   "source": [
    "## Reviewing details for city - 'is_repeated_guest'\n",
    "eda.explore_feature(subgroup_city,'is_repeated_guest',\n",
    "                    plot_type='histogram',\n",
    "                    width= 800, height=600,\n",
    "                    target_feature='is_canceled',\n",
    "                    plot_label =' Repeat Guest',\n",
    "                    plot_title= ' Repeat Guest - City');"
   ]
  },
  {
   "cell_type": "markdown",
   "metadata": {},
   "source": [
    "---\n",
    "\n",
    "**Resort**\n",
    "\n",
    "---"
   ]
  },
  {
   "cell_type": "code",
   "execution_count": null,
   "metadata": {
    "ExecuteTime": {
     "end_time": "2021-09-01T21:07:51.710377Z",
     "start_time": "2021-09-01T21:07:50.893371Z"
    }
   },
   "outputs": [],
   "source": [
    "## Reviewing details for city - 'is_repeated_guest'\n",
    "eda.explore_feature(subgroup_resort,'is_repeated_guest',\n",
    "                    plot_type='histogram',\n",
    "                    width= 800, height=600,\n",
    "                    target_feature='is_canceled',\n",
    "                    plot_label ='Repeat Guest',\n",
    "                    plot_title= 'Repeat Guest - City');"
   ]
  },
  {
   "cell_type": "markdown",
   "metadata": {},
   "source": [
    "### Review - `PLACEHOLDER`"
   ]
  },
  {
   "cell_type": "markdown",
   "metadata": {},
   "source": [
    "---\n",
    "\n",
    "**Feature Review**\n",
    "\n",
    "> PLACEHOLDER\n",
    "\n",
    "**Actions**\n",
    "\n",
    "> PLACEHOLDER\n",
    "\n",
    "**City vs. Resort**\n",
    "\n",
    "> PLACEHOLDER\n",
    "\n",
    "---"
   ]
  },
  {
   "cell_type": "markdown",
   "metadata": {},
   "source": [
    "## previous_cancellations"
   ]
  },
  {
   "cell_type": "markdown",
   "metadata": {},
   "source": [
    "---\n",
    "\n",
    "**City**\n",
    "\n",
    "---"
   ]
  },
  {
   "cell_type": "code",
   "execution_count": null,
   "metadata": {
    "ExecuteTime": {
     "end_time": "2021-09-01T21:07:52.800372Z",
     "start_time": "2021-09-01T21:07:51.712371Z"
    }
   },
   "outputs": [],
   "source": [
    "## Reviewing details for city - 'previous_cancellations'\n",
    "eda.explore_feature(subgroup_city,'previous_cancellations',\n",
    "                    bins = 5,\n",
    "                    normalize=False,\n",
    "                    plot_type='histogram',\n",
    "                    width= 800, height=600,\n",
    "                    target_feature='is_canceled',\n",
    "                    plot_label ='Number of Cancellations',\n",
    "                    plot_title= 'Previous Cancellations - City');"
   ]
  },
  {
   "cell_type": "markdown",
   "metadata": {},
   "source": [
    "---\n",
    "\n",
    "**Resort**\n",
    "\n",
    "---"
   ]
  },
  {
   "cell_type": "code",
   "execution_count": null,
   "metadata": {
    "ExecuteTime": {
     "end_time": "2021-09-01T21:07:53.719372Z",
     "start_time": "2021-09-01T21:07:52.802371Z"
    }
   },
   "outputs": [],
   "source": [
    "## Reviewing details for resort - 'previous_cancellations'\n",
    "eda.explore_feature(subgroup_resort,'previous_cancellations',\n",
    "                    bins = 4,\n",
    "                    plot_type='histogram',\n",
    "                    width= 800, height=600,\n",
    "                    target_feature='is_canceled',\n",
    "                    plot_label ='Previous Cancellations',\n",
    "                    plot_title= 'Previous Cancellations - Resort');"
   ]
  },
  {
   "cell_type": "markdown",
   "metadata": {},
   "source": [
    "### Review - `PLACEHOLDER`"
   ]
  },
  {
   "cell_type": "markdown",
   "metadata": {},
   "source": [
    "---\n",
    "\n",
    "**Feature Review**\n",
    "\n",
    "> PLACEHOLDER\n",
    "\n",
    "**Actions**\n",
    "\n",
    "> PLACEHOLDER\n",
    "\n",
    "**City vs. Resort**\n",
    "\n",
    "> PLACEHOLDER\n",
    "\n",
    "---"
   ]
  },
  {
   "cell_type": "markdown",
   "metadata": {},
   "source": [
    "## previous_bookings_not_canceled"
   ]
  },
  {
   "cell_type": "markdown",
   "metadata": {},
   "source": [
    "---\n",
    "\n",
    "**City**\n",
    "\n",
    "---"
   ]
  },
  {
   "cell_type": "code",
   "execution_count": null,
   "metadata": {
    "ExecuteTime": {
     "end_time": "2021-09-01T21:07:54.971414Z",
     "start_time": "2021-09-01T21:07:53.722374Z"
    }
   },
   "outputs": [],
   "source": [
    "## Reviewing details for city - 'previous_bookings_not_canceled'\n",
    "eda.explore_feature(subgroup_city,'previous_bookings_not_canceled',\n",
    "                    bins = 5,\n",
    "                    plot_type='histogram',\n",
    "                    marginal_x = 'box',\n",
    "                    width= 800, height=600,\n",
    "                    target_feature='is_canceled',\n",
    "                    plot_label ='Number of Bookings Not Canceled',\n",
    "                    plot_title= 'Previous Bookings Not Canceled - City');"
   ]
  },
  {
   "cell_type": "markdown",
   "metadata": {},
   "source": [
    "---\n",
    "\n",
    "**Resort**\n",
    "\n",
    "---"
   ]
  },
  {
   "cell_type": "code",
   "execution_count": null,
   "metadata": {
    "ExecuteTime": {
     "end_time": "2021-09-01T21:07:55.799406Z",
     "start_time": "2021-09-01T21:07:54.974374Z"
    }
   },
   "outputs": [],
   "source": [
    "## Reviewing details for resort - 'previous_bookings_not_canceled'\n",
    "eda.explore_feature(subgroup_resort,'previous_bookings_not_canceled',\n",
    "                    bins = 5,\n",
    "                    plot_type='histogram',\n",
    "                    width= 800, height=600,\n",
    "                    target_feature='is_canceled',\n",
    "                    plot_label ='Previous Bookings Not Canceled',\n",
    "                    plot_title= 'Previous Bookings Not Canceled - Resort');"
   ]
  },
  {
   "cell_type": "markdown",
   "metadata": {},
   "source": [
    "### Review - `PLACEHOLDER`"
   ]
  },
  {
   "cell_type": "markdown",
   "metadata": {},
   "source": [
    "---\n",
    "\n",
    "**Feature Review**\n",
    "\n",
    "> PLACEHOLDER\n",
    "\n",
    "**Actions**\n",
    "\n",
    "> PLACEHOLDER\n",
    "\n",
    "**City vs. Resort**\n",
    "\n",
    "> PLACEHOLDER\n",
    "\n",
    "---"
   ]
  },
  {
   "cell_type": "markdown",
   "metadata": {},
   "source": [
    "##  reserved_room_type"
   ]
  },
  {
   "cell_type": "markdown",
   "metadata": {},
   "source": [
    "---\n",
    "\n",
    "**City**\n",
    "\n",
    "---"
   ]
  },
  {
   "cell_type": "code",
   "execution_count": null,
   "metadata": {
    "ExecuteTime": {
     "end_time": "2021-09-01T21:07:57.152372Z",
     "start_time": "2021-09-01T21:07:55.801373Z"
    }
   },
   "outputs": [],
   "source": [
    "## Reviewing details for city - 'reserved_room_type'\n",
    "eda.explore_feature(subgroup_city,'reserved_room_type',\n",
    "                    plot_type='histogram',\n",
    "                    width= 800, height=600,\n",
    "                    target_feature='is_canceled',\n",
    "                    plot_label ='Reserved Toom Type',\n",
    "                    plot_title= 'Reserved Toom Type - City');"
   ]
  },
  {
   "cell_type": "markdown",
   "metadata": {},
   "source": [
    "---\n",
    "\n",
    "**Resort**\n",
    "\n",
    "---"
   ]
  },
  {
   "cell_type": "code",
   "execution_count": null,
   "metadata": {
    "ExecuteTime": {
     "end_time": "2021-09-01T21:08:02.076376Z",
     "start_time": "2021-09-01T21:08:01.297377Z"
    }
   },
   "outputs": [],
   "source": [
    "## Reviewing details for resort - 'reserved_room_type'\n",
    "eda.explore_feature(subgroup_resort,'reserved_room_type',\n",
    "                    plot_type='histogram',\n",
    "                    width= 800, height=600,\n",
    "                    target_feature='is_canceled',\n",
    "                    plot_label ='Preserved Room Type',\n",
    "                    plot_title= 'Preserved Room Type - Resort');"
   ]
  },
  {
   "cell_type": "markdown",
   "metadata": {},
   "source": [
    "### Review - `PLACEHOLDER`"
   ]
  },
  {
   "cell_type": "markdown",
   "metadata": {},
   "source": [
    "---\n",
    "\n",
    "> TEXT \n",
    ">\n",
    "> TEXT\n",
    "\n",
    "---"
   ]
  },
  {
   "cell_type": "markdown",
   "metadata": {},
   "source": [
    "## assigned_room_type"
   ]
  },
  {
   "cell_type": "markdown",
   "metadata": {},
   "source": [
    "---\n",
    "\n",
    "**City**\n",
    "\n",
    "---"
   ]
  },
  {
   "cell_type": "code",
   "execution_count": null,
   "metadata": {
    "ExecuteTime": {
     "end_time": "2021-09-01T21:07:59.348376Z",
     "start_time": "2021-09-01T21:07:57.997374Z"
    }
   },
   "outputs": [],
   "source": [
    "## Reviewing details for city - 'assigned_room_type'\n",
    "eda.explore_feature(subgroup_city,'assigned_room_type',\n",
    "                    plot_type='histogram',\n",
    "                    width= 800, height=600,\n",
    "                    target_feature='is_canceled',\n",
    "                    plot_label ='Assigned Room Type',\n",
    "                    plot_title= 'Assigned Room Type - City');"
   ]
  },
  {
   "cell_type": "markdown",
   "metadata": {},
   "source": [
    "---\n",
    "\n",
    "**Resort**\n",
    "\n",
    "---"
   ]
  },
  {
   "cell_type": "code",
   "execution_count": null,
   "metadata": {
    "ExecuteTime": {
     "end_time": "2021-09-01T21:08:02.076376Z",
     "start_time": "2021-09-01T21:08:01.297377Z"
    }
   },
   "outputs": [],
   "source": [
    "## Reviewing details for resort - 'assigned_room_type'\n",
    "eda.explore_feature(subgroup_resort,'assigned_room_type',\n",
    "                    plot_type='histogram',\n",
    "                    width= 800, height=600,\n",
    "                    target_feature='is_canceled',\n",
    "                    plot_label ='Assigned Room Type',\n",
    "                    plot_title= 'Assigned Room Type - Resort');"
   ]
  },
  {
   "cell_type": "markdown",
   "metadata": {},
   "source": [
    "### Review - `PLACEHOLDER`"
   ]
  },
  {
   "cell_type": "markdown",
   "metadata": {},
   "source": [
    "---\n",
    "\n",
    "> TEXT \n",
    ">\n",
    "> TEXT\n",
    "\n",
    "---"
   ]
  },
  {
   "cell_type": "markdown",
   "metadata": {},
   "source": [
    "## booking_changes"
   ]
  },
  {
   "cell_type": "markdown",
   "metadata": {},
   "source": [
    "---\n",
    "\n",
    "**City**\n",
    "\n",
    "---"
   ]
  },
  {
   "cell_type": "code",
   "execution_count": null,
   "metadata": {
    "ExecuteTime": {
     "end_time": "2021-09-01T21:08:01.295410Z",
     "start_time": "2021-09-01T21:08:00.285380Z"
    }
   },
   "outputs": [],
   "source": [
    "## Reviewing details for city - 'booking_changes'\n",
    "eda.explore_feature(subgroup_city,'booking_changes',\n",
    "                    bins = 5,\n",
    "                    plot_type='histogram',\n",
    "                    width= 800, height=600,\n",
    "                    target_feature='is_canceled',\n",
    "                    plot_label ='booking_changes',\n",
    "                    plot_title= 'booking_changes - city');"
   ]
  },
  {
   "cell_type": "markdown",
   "metadata": {},
   "source": [
    "---\n",
    "\n",
    "**Resort**\n",
    "\n",
    "---"
   ]
  },
  {
   "cell_type": "code",
   "execution_count": null,
   "metadata": {
    "ExecuteTime": {
     "end_time": "2021-09-01T21:08:02.076376Z",
     "start_time": "2021-09-01T21:08:01.297377Z"
    }
   },
   "outputs": [],
   "source": [
    "## Reviewing details for resort - 'booking_changes'\n",
    "eda.explore_feature(subgroup_resort,'booking_changes',\n",
    "                    bins = 5,\n",
    "                    plot_type='histogram',\n",
    "                    width= 800, height=600,\n",
    "                    target_feature='is_canceled',\n",
    "                    plot_label ='Booking Changes ',\n",
    "                    plot_title= 'Booking Changes - Resort');"
   ]
  },
  {
   "cell_type": "markdown",
   "metadata": {},
   "source": [
    "### Review - `PLACEHOLDER`"
   ]
  },
  {
   "cell_type": "markdown",
   "metadata": {},
   "source": [
    "---\n",
    "\n",
    "> TEXT \n",
    ">\n",
    "> TEXT\n",
    "\n",
    "---"
   ]
  },
  {
   "cell_type": "markdown",
   "metadata": {},
   "source": [
    "## deposit_type"
   ]
  },
  {
   "cell_type": "markdown",
   "metadata": {},
   "source": [
    "---\n",
    "\n",
    "**City**\n",
    "\n",
    "---"
   ]
  },
  {
   "cell_type": "code",
   "execution_count": null,
   "metadata": {
    "ExecuteTime": {
     "end_time": "2021-09-01T21:08:02.964378Z",
     "start_time": "2021-09-01T21:08:02.080376Z"
    }
   },
   "outputs": [],
   "source": [
    "## Reviewing details for resort - 'deposit_type'\n",
    "eda.explore_feature(subgroup_resort,'deposit_type',\n",
    "                    plot_type='histogram',\n",
    "                    normalize=False,\n",
    "                    width= 800, height=600,\n",
    "                    target_feature='is_canceled',\n",
    "                    plot_label ='Deposit Type',\n",
    "                    plot_title= 'Deposit Type - Resort');"
   ]
  },
  {
   "cell_type": "markdown",
   "metadata": {},
   "source": [
    "---\n",
    "\n",
    "**Resort**\n",
    "\n",
    "---"
   ]
  },
  {
   "cell_type": "code",
   "execution_count": null,
   "metadata": {
    "ExecuteTime": {
     "end_time": "2021-09-01T21:08:03.946377Z",
     "start_time": "2021-09-01T21:08:02.966378Z"
    }
   },
   "outputs": [],
   "source": [
    "## Reviewing details for resort - 'deposit_type'\n",
    "eda.explore_feature(subgroup_resort,'deposit_type',\n",
    "                    plot_type='histogram',\n",
    "                    width= 800, height=600,\n",
    "                    target_feature='is_canceled',\n",
    "                    plot_label ='Deposit Type',\n",
    "                    plot_title= 'Deposit Type - Resort');"
   ]
  },
  {
   "cell_type": "markdown",
   "metadata": {},
   "source": [
    "### Review - `PLACEHOLDER`"
   ]
  },
  {
   "cell_type": "markdown",
   "metadata": {},
   "source": [
    "---\n",
    "\n",
    "> TEXT \n",
    ">\n",
    "> TEXT\n",
    "\n",
    "---"
   ]
  },
  {
   "cell_type": "markdown",
   "metadata": {},
   "source": [
    "## agent"
   ]
  },
  {
   "cell_type": "markdown",
   "metadata": {},
   "source": [
    "---\n",
    "\n",
    "**City**\n",
    "\n",
    "---"
   ]
  },
  {
   "cell_type": "code",
   "execution_count": null,
   "metadata": {
    "ExecuteTime": {
     "end_time": "2021-09-01T21:08:04.944406Z",
     "start_time": "2021-09-01T21:08:03.949377Z"
    },
    "scrolled": true
   },
   "outputs": [],
   "source": [
    "## Reviewing details for resort - 'agent'\n",
    "eda.explore_feature(subgroup_resort,'agent',\n",
    "                    plot_type='histogram',\n",
    "                    width= 800, height=600,\n",
    "                    target_feature='is_canceled',\n",
    "                    plot_label ='Booking Agent',\n",
    "                    plot_title= 'Agent - Resort');"
   ]
  },
  {
   "cell_type": "markdown",
   "metadata": {},
   "source": [
    "---\n",
    "\n",
    "**Resort**\n",
    "\n",
    "---"
   ]
  },
  {
   "cell_type": "code",
   "execution_count": null,
   "metadata": {
    "ExecuteTime": {
     "end_time": "2021-09-01T21:08:20.799396Z",
     "start_time": "2021-09-01T21:08:19.102394Z"
    },
    "scrolled": true
   },
   "outputs": [],
   "source": [
    "## Reviewing details for resort - 'agent'\n",
    "eda.explore_feature(subgroup_resort,'agent',\n",
    "                    plot_type='histogram',\n",
    "                    width= 800, height=600,\n",
    "                    target_feature='is_canceled',\n",
    "                    plot_label ='Booking Agent',\n",
    "                    plot_title= 'Agent - Resort');"
   ]
  },
  {
   "cell_type": "markdown",
   "metadata": {},
   "source": [
    "### Review - `PLACEHOLDER`"
   ]
  },
  {
   "cell_type": "markdown",
   "metadata": {},
   "source": [
    "---\n",
    "\n",
    "> TEXT \n",
    ">\n",
    "> TEXT\n",
    "\n",
    "---"
   ]
  },
  {
   "cell_type": "markdown",
   "metadata": {},
   "source": [
    "## days_in_waiting_list"
   ]
  },
  {
   "cell_type": "markdown",
   "metadata": {},
   "source": [
    "---\n",
    "\n",
    "**City**\n",
    "\n",
    "---"
   ]
  },
  {
   "cell_type": "code",
   "execution_count": null,
   "metadata": {
    "ExecuteTime": {
     "end_time": "2021-09-01T21:08:06.903411Z",
     "start_time": "2021-09-01T21:08:06.088378Z"
    }
   },
   "outputs": [],
   "source": [
    "## Reviewing details for resort - 'days_in_waiting_list'\n",
    "eda.explore_feature(subgroup_resort,'days_in_waiting_list',\n",
    "                    bins = 5,\n",
    "                    normalize=False,\n",
    "                    plot_type='histogram',\n",
    "                    width= 800, height=600,\n",
    "                    target_feature='is_canceled',\n",
    "                    plot_label ='Days in Waiting List',\n",
    "                    plot_title= 'Days in Waiting List - Resort');"
   ]
  },
  {
   "cell_type": "markdown",
   "metadata": {},
   "source": [
    "---\n",
    "\n",
    "**Resort**\n",
    "\n",
    "---"
   ]
  },
  {
   "cell_type": "code",
   "execution_count": null,
   "metadata": {
    "ExecuteTime": {
     "end_time": "2021-09-01T21:08:20.799396Z",
     "start_time": "2021-09-01T21:08:19.102394Z"
    }
   },
   "outputs": [],
   "source": [
    "## Reviewing details for resort - 'days_in_waiting_list'\n",
    "eda.explore_feature(subgroup_resort,'days_in_waiting_list',\n",
    "                    bins = 5,\n",
    "                    normalize=False,\n",
    "                    plot_type='histogram',\n",
    "                    width= 800, height=600,\n",
    "                    target_feature='is_canceled',\n",
    "                    plot_label ='Days in Waiting List',\n",
    "                    plot_title= 'Days in Waiting List - Resort');"
   ]
  },
  {
   "cell_type": "markdown",
   "metadata": {},
   "source": [
    "### Review - `PLACEHOLDER`"
   ]
  },
  {
   "cell_type": "markdown",
   "metadata": {},
   "source": [
    "---\n",
    "\n",
    "> TEXT \n",
    ">\n",
    "> TEXT\n",
    "\n",
    "---"
   ]
  },
  {
   "cell_type": "markdown",
   "metadata": {},
   "source": [
    "## customer_type"
   ]
  },
  {
   "cell_type": "markdown",
   "metadata": {},
   "source": [
    "---\n",
    "\n",
    "**City**\n",
    "\n",
    "---"
   ]
  },
  {
   "cell_type": "code",
   "execution_count": null,
   "metadata": {
    "ExecuteTime": {
     "end_time": "2021-09-01T21:08:09.565396Z",
     "start_time": "2021-09-01T21:08:07.764380Z"
    }
   },
   "outputs": [],
   "source": [
    "## Reviewing details for city - 'customer_type'\n",
    "eda.explore_feature(subgroup_city,'customer_type',\n",
    "                    plot_type='histogram',\n",
    "                    marginal_x = 'box',\n",
    "                    width= 800, height=600,\n",
    "                    target_feature='is_canceled',\n",
    "                    plot_label ='Customer Type',\n",
    "                    plot_title= 'Customer Type - City');"
   ]
  },
  {
   "cell_type": "markdown",
   "metadata": {},
   "source": [
    "---\n",
    "\n",
    "**Resort**\n",
    "\n",
    "---"
   ]
  },
  {
   "cell_type": "code",
   "execution_count": null,
   "metadata": {
    "ExecuteTime": {
     "end_time": "2021-09-01T21:08:20.799396Z",
     "start_time": "2021-09-01T21:08:19.102394Z"
    }
   },
   "outputs": [],
   "source": [
    "## Reviewing details for resort - 'customer_type'\n",
    "eda.explore_feature(subgroup_resort,'customer_type',\n",
    "                    plot_type='histogram',\n",
    "                    marginal_x = 'box',\n",
    "                    width= 800, height=600,\n",
    "                    target_feature='is_canceled',\n",
    "                    plot_label ='Customer Type',\n",
    "                    plot_title= 'Customer Type - Resort');"
   ]
  },
  {
   "cell_type": "markdown",
   "metadata": {},
   "source": [
    "### Review - `PLACEHOLDER`"
   ]
  },
  {
   "cell_type": "markdown",
   "metadata": {},
   "source": [
    "---\n",
    "\n",
    "> TEXT \n",
    ">\n",
    "> TEXT\n",
    "\n",
    "---"
   ]
  },
  {
   "cell_type": "markdown",
   "metadata": {},
   "source": [
    "## adr"
   ]
  },
  {
   "cell_type": "markdown",
   "metadata": {},
   "source": [
    "---\n",
    "\n",
    "**City**\n",
    "\n",
    "---"
   ]
  },
  {
   "cell_type": "code",
   "execution_count": null,
   "metadata": {
    "ExecuteTime": {
     "end_time": "2021-09-01T21:08:12.366382Z",
     "start_time": "2021-09-01T21:08:11.027381Z"
    }
   },
   "outputs": [],
   "source": [
    "## Reviewing details for city - 'adr'\n",
    "eda.explore_feature(subgroup_city ,'adr',\n",
    "                    bins = 5,\n",
    "                    plot_type='histogram',\n",
    "                    width= 800, height=600,\n",
    "                    target_feature='is_canceled',\n",
    "                    plot_label ='ADR (€)',\n",
    "                    plot_title= 'ADR (€) - City');"
   ]
  },
  {
   "cell_type": "markdown",
   "metadata": {},
   "source": [
    "---\n",
    "\n",
    "**Resort**\n",
    "\n",
    "---"
   ]
  },
  {
   "cell_type": "code",
   "execution_count": null,
   "metadata": {
    "ExecuteTime": {
     "end_time": "2021-09-01T21:08:13.288380Z",
     "start_time": "2021-09-01T21:08:12.368382Z"
    }
   },
   "outputs": [],
   "source": [
    "## Reviewing details for resort - 'adr'\n",
    "eda.explore_feature(subgroup_resort,'adr',\n",
    "                    bins = 5,\n",
    "                    plot_type='histogram',\n",
    "                    width= 800, height=600,\n",
    "                    target_feature='is_canceled',\n",
    "                    plot_label ='ADR (€)',\n",
    "                    plot_title= 'ADR (€) - Resort');"
   ]
  },
  {
   "cell_type": "markdown",
   "metadata": {},
   "source": [
    "### Review - `PLACEHOLDER`"
   ]
  },
  {
   "cell_type": "markdown",
   "metadata": {},
   "source": [
    "---\n",
    "\n",
    "> TEXT \n",
    ">\n",
    "> TEXT\n",
    "\n",
    "---"
   ]
  },
  {
   "cell_type": "markdown",
   "metadata": {},
   "source": [
    "## required_car_parking_spaces"
   ]
  },
  {
   "cell_type": "markdown",
   "metadata": {},
   "source": [
    "---\n",
    "\n",
    "**City**\n",
    "\n",
    "---"
   ]
  },
  {
   "cell_type": "code",
   "execution_count": null,
   "metadata": {
    "ExecuteTime": {
     "end_time": "2021-09-01T21:08:14.314382Z",
     "start_time": "2021-09-01T21:08:13.290382Z"
    }
   },
   "outputs": [],
   "source": [
    "## Reviewing details for city - 'required_car_parking_spaces'\n",
    "eda.explore_feature(subgroup_city,'required_car_parking_spaces',\n",
    "                    bins = 5,\n",
    "                    normalize=False,\n",
    "                    plot_type='histogram',\n",
    "                    width= 800, height=600,\n",
    "                    target_feature='is_canceled',\n",
    "                    plot_label ='Required Car Parking Spaces',\n",
    "                    plot_title= 'Required Car Parking Spaces - City');"
   ]
  },
  {
   "cell_type": "markdown",
   "metadata": {},
   "source": [
    "---\n",
    "\n",
    "**Resort**\n",
    "\n",
    "---"
   ]
  },
  {
   "cell_type": "code",
   "execution_count": null,
   "metadata": {
    "ExecuteTime": {
     "end_time": "2021-09-01T21:08:20.799396Z",
     "start_time": "2021-09-01T21:08:19.102394Z"
    }
   },
   "outputs": [],
   "source": [
    "## Reviewing details for resort - 'required_car_parking_spaces'\n",
    "eda.explore_feature(subgroup_resort,'required_car_parking_spaces',\n",
    "                    bins = 5,\n",
    "                    plot_type='histogram',\n",
    "                    width= 800, height=600,\n",
    "                    target_feature='is_canceled',\n",
    "                    plot_label ='Required Car Parking Spaces',\n",
    "                    plot_title= 'Required Car Parking Spaces - Resort');"
   ]
  },
  {
   "cell_type": "markdown",
   "metadata": {},
   "source": [
    "### Review - `PLACEHOLDER`"
   ]
  },
  {
   "cell_type": "markdown",
   "metadata": {},
   "source": [
    "---\n",
    "\n",
    "> TEXT \n",
    ">\n",
    "> TEXT\n",
    "\n",
    "---"
   ]
  },
  {
   "cell_type": "markdown",
   "metadata": {},
   "source": [
    "## total_of_special_requests"
   ]
  },
  {
   "cell_type": "markdown",
   "metadata": {},
   "source": [
    "---\n",
    "\n",
    "**City**\n",
    "\n",
    "---"
   ]
  },
  {
   "cell_type": "code",
   "execution_count": null,
   "metadata": {
    "ExecuteTime": {
     "end_time": "2021-09-01T21:08:16.058396Z",
     "start_time": "2021-09-01T21:08:15.140399Z"
    }
   },
   "outputs": [],
   "source": [
    "## Reviewing details for city - 'total_of_special_requests'\n",
    "eda.explore_feature(subgroup_resort,'total_of_special_requests',\n",
    "                    bins = 5,\n",
    "                    plot_type='histogram',\n",
    "                    marginal_x = 'box',\n",
    "                    width= 800, height=600,\n",
    "                    target_feature='is_canceled',\n",
    "                    plot_label ='Total of Special Requests',\n",
    "                    plot_title= 'Total of Special Requests - City');"
   ]
  },
  {
   "cell_type": "markdown",
   "metadata": {},
   "source": [
    "---\n",
    "\n",
    "**Resort**\n",
    "\n",
    "---"
   ]
  },
  {
   "cell_type": "code",
   "execution_count": null,
   "metadata": {
    "ExecuteTime": {
     "end_time": "2021-09-01T21:08:20.799396Z",
     "start_time": "2021-09-01T21:08:19.102394Z"
    }
   },
   "outputs": [],
   "source": [
    "## Reviewing details for resort - 'total_of_special_requests'\n",
    "eda.explore_feature(subgroup_resort,'total_of_special_requests',\n",
    "                    bins = 5,\n",
    "                    plot_type='histogram',\n",
    "                    marginal_x = 'box',\n",
    "                    width= 800, height=600,\n",
    "                    target_feature='is_canceled',\n",
    "                    plot_label ='Booking',\n",
    "                    plot_title= 'Booking - Resort');"
   ]
  },
  {
   "cell_type": "markdown",
   "metadata": {},
   "source": [
    "### Review - `PLACEHOLDER`"
   ]
  },
  {
   "cell_type": "markdown",
   "metadata": {},
   "source": [
    "---\n",
    "\n",
    "> TEXT \n",
    ">\n",
    "> TEXT\n",
    "\n",
    "---"
   ]
  },
  {
   "cell_type": "markdown",
   "metadata": {},
   "source": [
    "## reservation_status_date"
   ]
  },
  {
   "cell_type": "markdown",
   "metadata": {},
   "source": [
    "---\n",
    "\n",
    "**City**\n",
    "\n",
    "---"
   ]
  },
  {
   "cell_type": "code",
   "execution_count": null,
   "metadata": {
    "ExecuteTime": {
     "end_time": "2021-09-01T21:08:19.100422Z",
     "start_time": "2021-09-01T21:08:16.964394Z"
    },
    "scrolled": true
   },
   "outputs": [],
   "source": [
    "## Reviewing details for city - 'reservation_status_date'\n",
    "eda.explore_feature(subgroup_city,'reservation_status_date',\n",
    "                    plot_type='histogram',\n",
    "                    marginal_x = 'box',\n",
    "                    width= 800, height=600,\n",
    "                    target_feature='is_canceled',\n",
    "                    plot_label ='Reservation Status Date',\n",
    "                    plot_title= 'Reservation Status Date - City');"
   ]
  },
  {
   "cell_type": "markdown",
   "metadata": {},
   "source": [
    "---\n",
    "\n",
    "**Resort**\n",
    "\n",
    "---"
   ]
  },
  {
   "cell_type": "code",
   "execution_count": null,
   "metadata": {
    "ExecuteTime": {
     "end_time": "2021-09-01T21:08:20.799396Z",
     "start_time": "2021-09-01T21:08:19.102394Z"
    }
   },
   "outputs": [],
   "source": [
    "## Reviewing details for resort - 'reservation_status_date'\n",
    "eda.explore_feature(subgroup_resort,'reservation_status_date',\n",
    "                    plot_type='histogram',\n",
    "                    marginal_x = 'box',\n",
    "                    width= 800, height=600,\n",
    "                    target_feature='is_canceled',\n",
    "                    plot_label ='reservation_status_date',\n",
    "                    plot_title= 'reservation_status_date - Resort');"
   ]
  },
  {
   "cell_type": "markdown",
   "metadata": {},
   "source": [
    "### Review - `PLACEHOLDER`"
   ]
  },
  {
   "cell_type": "markdown",
   "metadata": {},
   "source": [
    "---\n",
    "\n",
    "> TEXT \n",
    ">\n",
    "> TEXT\n",
    "\n",
    "---"
   ]
  },
  {
   "cell_type": "markdown",
   "metadata": {},
   "source": [
    "# 📅 **Setting Datetime Index**"
   ]
  },
  {
   "cell_type": "code",
   "execution_count": null,
   "metadata": {
    "ExecuteTime": {
     "end_time": "2021-09-01T21:08:21.033396Z",
     "start_time": "2021-09-01T21:08:20.802398Z"
    }
   },
   "outputs": [],
   "source": [
    "city_ts = subgroup_city.set_index('arrival_date')\n",
    "city_ts"
   ]
  },
  {
   "cell_type": "code",
   "execution_count": null,
   "metadata": {
    "ExecuteTime": {
     "end_time": "2021-09-01T21:08:21.247396Z",
     "start_time": "2021-09-01T21:08:21.035398Z"
    }
   },
   "outputs": [],
   "source": [
    "resort_ts = subgroup_resort.set_index('arrival_date')\n",
    "resort_ts"
   ]
  },
  {
   "cell_type": "code",
   "execution_count": null,
   "metadata": {},
   "outputs": [],
   "source": []
  }
 ],
 "metadata": {
  "interpreter": {
   "hash": "980eb18a21052b9c17debf7b5e50bde2e676226d1d1b2f7e2a15b0c620c5c0ea"
  },
  "kernelspec": {
   "display_name": "Python 3",
   "language": "python",
   "name": "python3"
  },
  "language_info": {
   "codemirror_mode": {
    "name": "ipython",
    "version": 3
   },
   "file_extension": ".py",
   "mimetype": "text/x-python",
   "name": "python",
   "nbconvert_exporter": "python",
   "pygments_lexer": "ipython3",
   "version": "3.6.9"
  },
  "toc": {
   "base_numbering": 1,
   "nav_menu": {},
   "number_sections": true,
   "sideBar": true,
   "skip_h1_title": false,
   "title_cell": "Table of Contents",
   "title_sidebar": "Contents",
   "toc_cell": false,
   "toc_position": {
    "height": "calc(100% - 180px)",
    "left": "10px",
    "top": "150px",
    "width": "296.094px"
   },
   "toc_section_display": true,
   "toc_window_display": true
  }
 },
 "nbformat": 4,
 "nbformat_minor": 2
}
