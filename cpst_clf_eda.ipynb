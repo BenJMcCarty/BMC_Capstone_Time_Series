{
 "cells": [
  {
   "cell_type": "markdown",
   "metadata": {},
   "source": [
    "# ❌ **Cancel Culture** ❌ - **EDA Notebook**"
   ]
  },
  {
   "cell_type": "markdown",
   "metadata": {},
   "source": [
    "---\n",
    "\n",
    "**Author:** Ben McCarty\n",
    "\n",
    "**Capstone Project** - Classification, Time Series Modeling\n",
    "\n",
    "**Contact:** bmccarty505@gmail.com\n",
    "\n",
    "---"
   ]
  },
  {
   "cell_type": "markdown",
   "metadata": {},
   "source": [
    "---\n",
    "\n",
    "**Who?**\n",
    ">* 🏢 **Revenue Management (RM) teams** for hotel groups (corporate, franchise)\n",
    ">\n",
    ">\n",
    ">* 🏨 On-site GMs, Sales, and Ops teams\n",
    "\n",
    "---\n",
    "\n",
    "**Why?**\n",
    ">* 💰 **Revenue Management:** \n",
    ">  * Revenue optimization: Right price, right time, right customer\n",
    ">    * Dynamic pricing\n",
    ">    * Distribution channels\n",
    ">    * Pricing per room type\n",
    ">\n",
    ">\n",
    ">* 🤝 **Sales:**\n",
    ">  * Group sales (pickup/wash)\n",
    ">  * BT (performance/company for both GPP and LNR rates)\n",
    ">\n",
    ">\n",
    ">* 🛌 **Rooms Ops:**\n",
    ">  * Forecasting occupancy, arrivals, departures, stay-overs, same-day booking demand, and probability of guest relocation in the case of oversell.\n",
    ">  * Determining staff schedules and periods of high demand\n",
    ">\n",
    ">\n",
    ">* 🍰 ☕ **Food and Beverage:**\n",
    ">  * Ordering food/supplies overall\n",
    ">  * Scheduling staff\n",
    ">  * Determining busy times (breakfast, lunch, dinner)\n",
    ">    * Staffing, specific food/supplies\n",
    "\n",
    "---\n",
    "\n",
    "**What?**\n",
    ">* 🧾 Dataset comprised of... \n",
    ">  * 32 different features\n",
    ">    * Detailed explanation of features (and sub-categories, when appropriate) available in Readme\n",
    ">  * Nearly 120,000 reservation records\n",
    ">  * Source cited in Readme\n",
    "\n",
    "---\n",
    "\n",
    " **How?**\n",
    ">* Which models/methods?\n",
    ">  * 🔢 Classifiers 🌳\n",
    "    * XGBoost, RFC, ABC, etc.\n",
    ">  * ⏳ Time Series Analysis 📈\n",
    "    * PMD auto-arima\n",
    "    * Statsmodels vector autoregression\n",
    ">\n",
    ">\n",
    ">* Data prep and feature engineering\n",
    "\n",
    "---"
   ]
  },
  {
   "cell_type": "markdown",
   "metadata": {},
   "source": [
    "---\n",
    "\n",
    "> **Goal:** To prepare data for classification modeling in next notebook.\n",
    ">\n",
    ">\n",
    "> **Purpose:** to explore, clean, and organize.\n",
    ">\n",
    ">\n",
    "> **Process:**\n",
    ">\n",
    ">    * Inspecting data integrity and statistics\n",
    ">    * Splitting data by hotel type (\"City\" vs. \"Resort\")\n",
    ">    * Filling any missing values\n",
    ">    * Save processed data for modeling notebook\n",
    ">\n",
    ">\n",
    "> **Modeling Notebook:**\n",
    ">\n",
    ">    * Performing train/test split\n",
    ">    * Training the model\n",
    ">    * Evaluate performance metrics\n",
    ">    * Provide final recommendations\n",
    "\n",
    "---"
   ]
  },
  {
   "cell_type": "markdown",
   "metadata": {},
   "source": [
    "# ✅ **To-Do List**"
   ]
  },
  {
   "cell_type": "markdown",
   "metadata": {},
   "source": [
    "---\n",
    "\n",
    "**Copy:**\n",
    "- [ ] Imports\n",
    "- [ ] Personal module\n",
    "- [ ] Data\n",
    "- [ ] Starter code from P4P\n",
    "\n",
    "**Links:**\n",
    "- [ ] \n",
    "\n",
    "---"
   ]
  },
  {
   "cell_type": "markdown",
   "metadata": {},
   "source": [
    "# 📦 **Import Packages**"
   ]
  },
  {
   "cell_type": "code",
   "execution_count": null,
   "metadata": {
    "ExecuteTime": {
     "end_time": "2021-09-01T00:59:13.897111Z",
     "start_time": "2021-09-01T00:59:10.014093Z"
    }
   },
   "outputs": [],
   "source": [
    "## Data Handling\n",
    "import pandas as pd\n",
    "import numpy as np\n",
    "from scipy import stats\n",
    "\n",
    "## Visualizations\n",
    "import matplotlib.pyplot as plt\n",
    "import seaborn as sns\n",
    "import plotly.express as px\n",
    "\n",
    "# Modeling - SKLearn\n",
    "from sklearn.linear_model import LogisticRegression\n",
    "from sklearn.preprocessing import StandardScaler, OneHotEncoder, FunctionTransformer\n",
    "from sklearn.model_selection import train_test_split, cross_validate, cross_val_score\n",
    "from sklearn.impute import SimpleImputer\n",
    "from sklearn.compose import ColumnTransformer\n",
    "from sklearn.pipeline import Pipeline\n",
    "from sklearn.dummy import DummyClassifier\n",
    "from sklearn import set_config\n",
    "set_config(display='diagram')\n",
    "\n",
    "\n",
    "## Custom-made Functions\n",
    "from bmc_functions import eda\n",
    "from bmc_functions import classification as clf\n",
    "\n",
    "## Settings\n",
    "# plt.style.use('seaborn-talk')\n",
    "pd.set_option('display.max_columns', None)\n",
    "pd.set_option('display.float_format', lambda x: f'{x:,.2f}')\n",
    "pd.set_option('max_rows', 100)\n",
    "%matplotlib inline"
   ]
  },
  {
   "cell_type": "code",
   "execution_count": null,
   "metadata": {
    "ExecuteTime": {
     "end_time": "2021-09-01T00:59:14.037146Z",
     "start_time": "2021-09-01T00:59:13.899126Z"
    }
   },
   "outputs": [],
   "source": [
    "%load_ext autoreload\n",
    "%autoreload 2"
   ]
  },
  {
   "cell_type": "markdown",
   "metadata": {},
   "source": [
    "# 📥 **Read Data**"
   ]
  },
  {
   "cell_type": "code",
   "execution_count": null,
   "metadata": {
    "ExecuteTime": {
     "end_time": "2021-09-01T00:59:14.539147Z",
     "start_time": "2021-09-01T00:59:14.039112Z"
    }
   },
   "outputs": [],
   "source": [
    "## Reading data\n",
    "source = './data/hotel_bookings.csv'\n",
    "data = pd.read_csv(source)\n",
    "data"
   ]
  },
  {
   "cell_type": "code",
   "execution_count": null,
   "metadata": {
    "ExecuteTime": {
     "end_time": "2021-09-01T00:59:14.667150Z",
     "start_time": "2021-09-01T00:59:14.542131Z"
    },
    "scrolled": true
   },
   "outputs": [],
   "source": [
    "## Inspecting percentage of city vs. resort hotels\n",
    "data['hotel'].value_counts(1)"
   ]
  },
  {
   "cell_type": "markdown",
   "metadata": {},
   "source": [
    "# 🪓 **Splitting \"City\" and \"Resort\"**"
   ]
  },
  {
   "cell_type": "code",
   "execution_count": null,
   "metadata": {
    "ExecuteTime": {
     "end_time": "2021-09-01T00:59:14.859153Z",
     "start_time": "2021-09-01T00:59:14.669132Z"
    }
   },
   "outputs": [],
   "source": [
    "## Creating subgroup for city hotels\n",
    "subgroup_city = data[data['hotel'] == 'City Hotel']\n",
    "subgroup_city.drop(columns='hotel', inplace=True)\n",
    "subgroup_city"
   ]
  },
  {
   "cell_type": "code",
   "execution_count": null,
   "metadata": {
    "ExecuteTime": {
     "end_time": "2021-09-01T00:59:15.051145Z",
     "start_time": "2021-09-01T00:59:14.861124Z"
    }
   },
   "outputs": [],
   "source": [
    "## Creating subgroup for resort hotels\n",
    "subgroup_resort = data[data['hotel'] == 'Resort Hotel']\n",
    "subgroup_resort.drop(columns='hotel', inplace=True)\n",
    "subgroup_resort"
   ]
  },
  {
   "cell_type": "markdown",
   "metadata": {},
   "source": [
    "### Testing Hierarchical Indexing"
   ]
  },
  {
   "cell_type": "markdown",
   "metadata": {},
   "source": [
    "---\n",
    "\n",
    "> Instead of splitting the data into two different dataframes, I may be able to create a new index for the same dataframe by splitting the \"`hotel`\" feature and using the two values as the first level of the row index, then the normal index values as the second level.\n",
    ">\n",
    ">\n",
    "> This would add a layer of complexity to the data processing steps, but would reduce memory consumption and the number of dataframes.\n",
    "\n",
    "---"
   ]
  },
  {
   "cell_type": "code",
   "execution_count": null,
   "metadata": {
    "ExecuteTime": {
     "end_time": "2021-09-01T00:59:15.176129Z",
     "start_time": "2021-09-01T00:59:15.053122Z"
    }
   },
   "outputs": [],
   "source": [
    "# data_mi = data\n",
    "# data_mi"
   ]
  },
  {
   "cell_type": "code",
   "execution_count": null,
   "metadata": {
    "ExecuteTime": {
     "end_time": "2021-09-01T00:59:15.300126Z",
     "start_time": "2021-09-01T00:59:15.179127Z"
    }
   },
   "outputs": [],
   "source": [
    "# ## Creating new multi-index from hotel types and original index values\n",
    "# data_mi.reset_index(inplace=True)\n",
    "# multi = data_mi.set_index(['hotel'])\n",
    "# multi"
   ]
  },
  {
   "cell_type": "code",
   "execution_count": null,
   "metadata": {
    "ExecuteTime": {
     "end_time": "2021-09-01T00:59:15.437268Z",
     "start_time": "2021-09-01T00:59:15.303127Z"
    }
   },
   "outputs": [],
   "source": [
    "# ## Testing indexing  - City Hotel\n",
    "# multi.loc['City Hotel']"
   ]
  },
  {
   "cell_type": "code",
   "execution_count": null,
   "metadata": {
    "ExecuteTime": {
     "end_time": "2021-09-01T00:59:15.579128Z",
     "start_time": "2021-09-01T00:59:15.440127Z"
    }
   },
   "outputs": [],
   "source": [
    "# ## Testing indexing  - Resort Hotel\n",
    "# multi.loc['Resort Hotel']"
   ]
  },
  {
   "cell_type": "code",
   "execution_count": null,
   "metadata": {
    "ExecuteTime": {
     "end_time": "2021-09-01T00:59:15.718160Z",
     "start_time": "2021-09-01T00:59:15.582128Z"
    }
   },
   "outputs": [],
   "source": [
    "# eda.report_df(multi.loc['City Hotel']).sort_values('null_sum', ascending=False)"
   ]
  },
  {
   "cell_type": "markdown",
   "metadata": {},
   "source": [
    "---\n",
    "\n",
    "**Hierarchical Indexing Results**\n",
    "\n",
    "> While the multi-indexed results can represent the dimensionality of the data, it is not best for this dataset. I will continue to use the sub-grouped dataframes for my analysis and modeling.\n",
    "\n",
    "---"
   ]
  },
  {
   "cell_type": "markdown",
   "metadata": {},
   "source": [
    "# 📊 **Reviewing Statistics**"
   ]
  },
  {
   "cell_type": "markdown",
   "metadata": {},
   "source": [
    "---\n",
    "\n",
    "**`Report_df()`: City**\n",
    "\n",
    "---"
   ]
  },
  {
   "cell_type": "code",
   "execution_count": null,
   "metadata": {
    "ExecuteTime": {
     "end_time": "2021-09-01T00:59:16.190168Z",
     "start_time": "2021-09-01T00:59:15.721128Z"
    }
   },
   "outputs": [],
   "source": [
    "## Sorting report by number of missing values\n",
    "eda.report_df(subgroup_city).sort_values('null_sum', ascending=False)"
   ]
  },
  {
   "cell_type": "markdown",
   "metadata": {},
   "source": [
    "---\n",
    "\n",
    "**`Report_df()`: Resort**\n",
    "\n",
    "---"
   ]
  },
  {
   "cell_type": "code",
   "execution_count": null,
   "metadata": {
    "ExecuteTime": {
     "end_time": "2021-09-01T00:59:16.649139Z",
     "start_time": "2021-09-01T00:59:16.192134Z"
    }
   },
   "outputs": [],
   "source": [
    "## Selecting report values for columns with missing values \n",
    "eda.report_df(subgroup_resort).sort_values('null_sum', ascending=False)"
   ]
  },
  {
   "cell_type": "markdown",
   "metadata": {},
   "source": [
    "---\n",
    "\n",
    "**Reviewing Reports - Missing Values**\n",
    "\n",
    "> Based on the post-split results, I see that both dataframes are missing values for `company,` `agent`, and `country`. Additionally, the `subroup_city` dataframe is missing four values for `children`.\n",
    ">\n",
    "> **Special note:** As noted in the data's documentation ( located in \"details.md\"), any missing values are intentional representations of features that were not applicable to a reservation.\n",
    "---\n",
    "\n",
    "**`Company` and `Agent` Features**\n",
    "\n",
    "> *Missing in `subgroup_city`:*\n",
    "* `company:` 95%\n",
    "* `agent:` 10%\n",
    ">\n",
    "> *Missing in `subgroup_resort`:*\n",
    "* `company:`\" 92%\n",
    "* `agent:` 20%\n",
    "\n",
    "> **Due to the large number of missing values for `company`, I will drop that column from both dataframes.** Since the missing values for `agent` are valid, I will keep the column and fill the missing values with the value \"N/A\"  to represent the lack of a value. I will fill the values in the next section.\n",
    "\n",
    "**`Country` and `Children` Features**\n",
    "\n",
    "> The remaining two features with missing values are `country` and `children`.**As there are a small number of missing values in both dataframes' features, I will keep both features. I will use** `SimpleImputer` **transformer during my preprocessing pipeline step to impute values and use a** `GridSearchCV` **to determine the best method.**\n",
    "\n",
    "---"
   ]
  },
  {
   "cell_type": "markdown",
   "metadata": {},
   "source": [
    "##### Dropping \"Company\" Column"
   ]
  },
  {
   "cell_type": "code",
   "execution_count": null,
   "metadata": {
    "ExecuteTime": {
     "end_time": "2021-09-01T00:59:16.868140Z",
     "start_time": "2021-09-01T00:59:16.652144Z"
    }
   },
   "outputs": [],
   "source": [
    "# Dropping \"company\" column (95% missing values)\n",
    "subgroup_city.drop(columns = ['company'], inplace=True)\n",
    "subgroup_city"
   ]
  },
  {
   "cell_type": "code",
   "execution_count": null,
   "metadata": {
    "ExecuteTime": {
     "end_time": "2021-09-01T00:59:17.041139Z",
     "start_time": "2021-09-01T00:59:16.870140Z"
    },
    "scrolled": true
   },
   "outputs": [],
   "source": [
    "# Dropping \"company\" column (95% missing values)\n",
    "subgroup_resort.drop(columns = ['company'], inplace=True)\n",
    "subgroup_resort"
   ]
  },
  {
   "cell_type": "code",
   "execution_count": null,
   "metadata": {
    "ExecuteTime": {
     "end_time": "2021-09-01T00:59:17.168176Z",
     "start_time": "2021-09-01T00:59:17.043143Z"
    }
   },
   "outputs": [],
   "source": [
    "## Confirming 'company' removal from both\n",
    "'company' not in subgroup_city and 'company' not in subgroup_resort"
   ]
  },
  {
   "cell_type": "markdown",
   "metadata": {},
   "source": [
    "# 🔬 **Inspecting Feature Data Types**"
   ]
  },
  {
   "cell_type": "markdown",
   "metadata": {},
   "source": [
    "---\n",
    "\n",
    "**City**\n",
    "\n",
    "---"
   ]
  },
  {
   "cell_type": "code",
   "execution_count": null,
   "metadata": {
    "ExecuteTime": {
     "end_time": "2021-09-01T00:59:17.309140Z",
     "start_time": "2021-09-01T00:59:17.170141Z"
    },
    "scrolled": false
   },
   "outputs": [],
   "source": [
    "## Inspecting dataypes for \"subgroup_city\"\n",
    "subgroup_city.dtypes.sort_values()"
   ]
  },
  {
   "cell_type": "markdown",
   "metadata": {},
   "source": [
    "---\n",
    "\n",
    "**Resort**\n",
    "\n",
    "---"
   ]
  },
  {
   "cell_type": "code",
   "execution_count": null,
   "metadata": {
    "ExecuteTime": {
     "end_time": "2021-09-01T00:59:17.450143Z",
     "start_time": "2021-09-01T00:59:17.312147Z"
    },
    "scrolled": false
   },
   "outputs": [],
   "source": [
    "## Inspecting dataypes for \"subgroup_resort\"\n",
    "subgroup_resort.dtypes.sort_values()"
   ]
  },
  {
   "cell_type": "code",
   "execution_count": null,
   "metadata": {
    "ExecuteTime": {
     "end_time": "2021-09-01T00:59:17.578158Z",
     "start_time": "2021-09-01T00:59:17.452145Z"
    },
    "scrolled": true
   },
   "outputs": [],
   "source": [
    "## Confirming all datatypes match between dataframes\n",
    "subgroup_city.dtypes.sort_values() == subgroup_resort.dtypes.sort_values()"
   ]
  },
  {
   "cell_type": "markdown",
   "metadata": {},
   "source": [
    "---\n",
    "\n",
    "**Review - Datatypes**\n",
    "\n",
    "> After reviewing the datatypes, I noticed **one feature need to be changed to the string datatype: `agent`**. This feature represents unique identifiers for booking agents and need to be treated as categorical data.\n",
    ">\n",
    "> As both dataframes' datatypes are the same, I do not need to make any other adjustments specific to either dataframe.\n",
    "\n",
    "---"
   ]
  },
  {
   "cell_type": "markdown",
   "metadata": {},
   "source": [
    "## Converting to Strings"
   ]
  },
  {
   "cell_type": "code",
   "execution_count": null,
   "metadata": {
    "ExecuteTime": {
     "end_time": "2021-09-01T00:59:17.722145Z",
     "start_time": "2021-09-01T00:59:17.580150Z"
    }
   },
   "outputs": [],
   "source": [
    "## Converting subgroup_city \"country\" to string\n",
    "subgroup_city.loc[:,'country'] = subgroup_city.loc[:,'country'].astype(str)\n",
    "subgroup_city.loc[:,'country']"
   ]
  },
  {
   "cell_type": "code",
   "execution_count": null,
   "metadata": {
    "ExecuteTime": {
     "end_time": "2021-09-01T00:59:17.864151Z",
     "start_time": "2021-09-01T00:59:17.724149Z"
    }
   },
   "outputs": [],
   "source": [
    "## Converting subgroup_resort \"country\" to string\n",
    "subgroup_resort.loc[:,'country'] = subgroup_resort.loc[:,'country']\\\n",
    "                                                                .astype(str)\n",
    "subgroup_resort.loc[:,'country']"
   ]
  },
  {
   "cell_type": "markdown",
   "metadata": {},
   "source": [
    "# 🔎 **EDA - Features**"
   ]
  },
  {
   "cell_type": "markdown",
   "metadata": {},
   "source": [
    "---\n",
    "\n",
    "> Now that I reviewed my missing values and confirmed my datatypes, I will inspect the details of each of my features.\n",
    "\n",
    "---\n",
    "\n",
    "> DataFrame styling code used in `explore_feature()` function adapted from this [source](https://stackoverflow.com/questions/59769161/python-color-pandas-dataframe-based-on-multiindex#:~:text=2-,You,-can%20use%20Styler).\n",
    "\n",
    "---"
   ]
  },
  {
   "cell_type": "markdown",
   "metadata": {},
   "source": [
    "## **Reservation_Status**"
   ]
  },
  {
   "cell_type": "markdown",
   "metadata": {},
   "source": [
    "---\n",
    "\n",
    "**City**\n",
    "\n",
    "---"
   ]
  },
  {
   "cell_type": "code",
   "execution_count": null,
   "metadata": {
    "ExecuteTime": {
     "end_time": "2021-09-01T01:05:13.830476Z",
     "start_time": "2021-09-01T01:05:12.693504Z"
    }
   },
   "outputs": [],
   "source": [
    "eda.explore_feature_test(subgroup_city,'reservation_status', \n",
    "                    plot_type='histogram',\n",
    "                    target_feature='reservation_status',\n",
    "                    plot_label ='Status',\n",
    "                    plot_title= 'Reservation Status - Resort');"
   ]
  },
  {
   "cell_type": "code",
   "execution_count": null,
   "metadata": {
    "ExecuteTime": {
     "end_time": "2021-08-31T21:52:04.091604Z",
     "start_time": "2021-08-31T21:52:02.869655Z"
    }
   },
   "outputs": [],
   "source": [
    "## Reviewing details for city - reservation_status\n",
    "eda.explore_feature(subgroup_city,'reservation_status', \n",
    "                    plot_type='histogram',\n",
    "                    target_feature='reservation_status',\n",
    "                    plot_label ='Status',\n",
    "                    plot_title= 'Reservation Status - Resort');"
   ]
  },
  {
   "cell_type": "markdown",
   "metadata": {},
   "source": [
    "---\n",
    "\n",
    "**Resort**\n",
    "\n",
    "---"
   ]
  },
  {
   "cell_type": "code",
   "execution_count": null,
   "metadata": {
    "ExecuteTime": {
     "end_time": "2021-08-31T21:52:04.943979Z",
     "start_time": "2021-08-31T21:52:04.093604Z"
    }
   },
   "outputs": [],
   "source": [
    "## Reviewing details for resoty - reservation_status\n",
    "eda.explore_feature(subgroup_resort,'reservation_status', \n",
    "                    plot_type='histogram',\n",
    "                    target_feature='reservation_status',\n",
    "                    plot_label ='Status',\n",
    "                    plot_title= 'Reservation Status - Resort');"
   ]
  },
  {
   "cell_type": "markdown",
   "metadata": {},
   "source": [
    "### Review - `Reservation_Status`"
   ]
  },
  {
   "cell_type": "markdown",
   "metadata": {},
   "source": [
    "---\n",
    "\n",
    "**Feature Review**\n",
    "\n",
    "> `Reservation_status` will be my target feature for my classification modeling. **To prepare it for modeling, I will need to replace the `No-Show` status with `Canceled` values.**\n",
    "\n",
    "**Actions**\n",
    "\n",
    ">For the purposes of my analysis, **I will treat `No-Show` reservations as `Canceled` reservations** due to their limited number preventing me from effectively using it as a third class.\n",
    "\n",
    "**City vs. Resort**\n",
    "\n",
    "> The most notable difference between the city and resort hotels would be the number of cancellations: *The city hotel shows a much larger proportion of canceled reservations vs. the resort hotel.* \n",
    "* This may be due to a variety of factors, including resort guests booking when they are more certain of their plans or the resort hotel may charge a cancellation fee.\n",
    ">\n",
    "> No-Show reservations are low for both hotels, supporting my decision to merge no-shows with cancellations. \n",
    "\n",
    "---"
   ]
  },
  {
   "cell_type": "markdown",
   "metadata": {},
   "source": [
    "### Converting `No-Show` to `Canceled`"
   ]
  },
  {
   "cell_type": "code",
   "execution_count": null,
   "metadata": {
    "ExecuteTime": {
     "end_time": "2021-08-31T21:52:05.084146Z",
     "start_time": "2021-08-31T21:52:04.945946Z"
    }
   },
   "outputs": [],
   "source": [
    "## Changing no-show values to \"canceled\"\n",
    "subgroup_city.loc[:,'reservation_status'].replace('No-Show', 'Canceled',\n",
    "                                            inplace=True)\n",
    "subgroup_resort.loc[:,'reservation_status'].replace('No-Show', 'Canceled',\n",
    "                                            inplace=True)"
   ]
  },
  {
   "cell_type": "code",
   "execution_count": null,
   "metadata": {
    "ExecuteTime": {
     "end_time": "2021-08-31T21:52:05.305598Z",
     "start_time": "2021-08-31T21:52:05.086104Z"
    }
   },
   "outputs": [],
   "source": [
    "## Confirming the change\n",
    "'No-Show' not in subgroup_city['reservation_status'] and \\\n",
    "                        'No-Show' not in subgroup_city['reservation_status']"
   ]
  },
  {
   "cell_type": "code",
   "execution_count": null,
   "metadata": {
    "ExecuteTime": {
     "end_time": "2021-08-31T21:52:05.494743Z",
     "start_time": "2021-08-31T21:52:05.308599Z"
    }
   },
   "outputs": [],
   "source": [
    "## Inspecting the updated target classes\n",
    "subgroup_city['reservation_status'].value_counts(1, dropna=False)"
   ]
  },
  {
   "cell_type": "code",
   "execution_count": null,
   "metadata": {
    "ExecuteTime": {
     "end_time": "2021-08-31T21:52:05.667943Z",
     "start_time": "2021-08-31T21:52:05.496745Z"
    },
    "scrolled": true
   },
   "outputs": [],
   "source": [
    "subgroup_resort['reservation_status'].value_counts(1, dropna=False)"
   ]
  },
  {
   "cell_type": "markdown",
   "metadata": {},
   "source": [
    "### Review - `Reservation_Status`"
   ]
  },
  {
   "cell_type": "markdown",
   "metadata": {},
   "source": [
    "---\n",
    "\n",
    "> I successfully converted all `No-Show` values to `Canceled`, **resulting in a binary classification of whether a reservation will actualize (`Check-Out`) or not (`No-Show`).**\n",
    "\n",
    "---"
   ]
  },
  {
   "cell_type": "markdown",
   "metadata": {},
   "source": [
    "## **Is_Canceled**"
   ]
  },
  {
   "cell_type": "markdown",
   "metadata": {},
   "source": [
    "---\n",
    "\n",
    "**City**\n",
    "\n",
    "---"
   ]
  },
  {
   "cell_type": "code",
   "execution_count": null,
   "metadata": {
    "ExecuteTime": {
     "end_time": "2021-08-31T21:52:06.505738Z",
     "start_time": "2021-08-31T21:52:05.669995Z"
    }
   },
   "outputs": [],
   "source": [
    "## Reviewing details for city - 'is_canceled'\n",
    "eda.explore_feature(subgroup_city,'is_canceled', \n",
    "                    plot_type='histogram',\n",
    "                    target_feature='reservation_status',\n",
    "                    plot_label ='Cancellation Status',\n",
    "                    plot_title= 'Reservation Status - City');"
   ]
  },
  {
   "cell_type": "markdown",
   "metadata": {},
   "source": [
    "---\n",
    "\n",
    "**Resort**\n",
    "\n",
    "---"
   ]
  },
  {
   "cell_type": "code",
   "execution_count": null,
   "metadata": {
    "ExecuteTime": {
     "end_time": "2021-08-31T21:52:07.163240Z",
     "start_time": "2021-08-31T21:52:06.507738Z"
    }
   },
   "outputs": [],
   "source": [
    "## Reviewing details for resort - 'is_canceled'\n",
    "eda.explore_feature(subgroup_resort,'is_canceled', \n",
    "                    plot_type='histogram',\n",
    "                    target_feature='reservation_status',\n",
    "                    plot_label ='Cancellation Status',\n",
    "                    plot_title= 'Reservation Status - Resort');"
   ]
  },
  {
   "cell_type": "markdown",
   "metadata": {},
   "source": [
    "### Review - `Is_Canceled`"
   ]
  },
  {
   "cell_type": "markdown",
   "metadata": {},
   "source": [
    "---\n",
    "\n",
    "**Feature Review**\n",
    "\n",
    "> After reviewing the results post-\"no-show\" conversion, `Is_canceled` is a binarization of the `reservation_status`. Reservations are indicated as cancellations if they either cancel or are marked as a \"no-show\" reservation.\n",
    "\n",
    "**Actions**\n",
    "\n",
    "> This feature is a better target feature as the values are already binarized and match the `reservation_status` feature for all of the reservations.\n",
    ">\n",
    "> I will use this feature in place of the `reservation_status` feature as my target feature.\n",
    "\n",
    "**City vs. Resort**\n",
    "\n",
    "> The breakdown between hotels is the same as `reservation_status` and confirms that the resort hotel experiences fewer cancellations vs. the city hotel.\n",
    "\n",
    "---"
   ]
  },
  {
   "cell_type": "markdown",
   "metadata": {},
   "source": [
    "## **Lead_Time**"
   ]
  },
  {
   "cell_type": "markdown",
   "metadata": {},
   "source": [
    "---\n",
    "\n",
    "**City**\n",
    "\n",
    "---"
   ]
  },
  {
   "cell_type": "code",
   "execution_count": null,
   "metadata": {
    "ExecuteTime": {
     "end_time": "2021-09-01T00:08:24.644206Z",
     "start_time": "2021-09-01T00:08:24.442203Z"
    }
   },
   "outputs": [],
   "source": [
    "subgroup_city.head().style.set_properties(**{\n",
    "    'font-size': \"107.5%\",\n",
    "})"
   ]
  },
  {
   "cell_type": "code",
   "execution_count": null,
   "metadata": {
    "ExecuteTime": {
     "end_time": "2021-09-01T00:34:49.316251Z",
     "start_time": "2021-09-01T00:34:48.245242Z"
    },
    "scrolled": false
   },
   "outputs": [],
   "source": [
    "## Reviewing details for city - 'lead_time'\n",
    "eda.explore_feature(subgroup_city,'lead_time',\n",
    "                    bins = 5,\n",
    "                    plot_type='histogram',\n",
    "                    marginal_x = 'box',\n",
    "                    width= 800, height=600,\n",
    "                    target_feature='reservation_status',\n",
    "                    plot_label ='Number of Days',\n",
    "                    plot_title= 'Lead Time (Days) - City');"
   ]
  },
  {
   "cell_type": "markdown",
   "metadata": {},
   "source": [
    "---\n",
    "\n",
    "**Resort**\n",
    "\n",
    "---"
   ]
  },
  {
   "cell_type": "code",
   "execution_count": null,
   "metadata": {
    "ExecuteTime": {
     "end_time": "2021-08-31T21:57:44.722224Z",
     "start_time": "2021-08-31T21:57:43.931235Z"
    }
   },
   "outputs": [],
   "source": [
    "## Reviewing details for resort - 'lead_time'\n",
    "eda.explore_feature(subgroup_resort,'lead_time',\n",
    "                    bins = 5,\n",
    "                    plot_type='histogram',\n",
    "                    marginal_x = 'box',\n",
    "                    target_feature='reservation_status',\n",
    "                    plot_label ='Number of Days',\n",
    "                    plot_title= 'Lead Time (Days) - Resort');"
   ]
  },
  {
   "cell_type": "markdown",
   "metadata": {},
   "source": [
    "### Review - `Lead_Time`"
   ]
  },
  {
   "cell_type": "markdown",
   "metadata": {},
   "source": [
    "---\n",
    "\n",
    "**Feature Review**\n",
    "\n",
    "> `Lead_Time` indicates how far in advance reservations are booked in days. *This information is particularly useful in hospitality for Revenue Management (RM) and Operations (Ops).*\n",
    ">\n",
    ">  * RM needs to know **when to expect bookings** and **when to monitor rates and availability** closely to make any necessary changes to optimize revenue.\n",
    ">\n",
    ">\n",
    ">  * Ops uses this information to **forecast how many reservations will book in a short-term booking window** (I usually focused on 0-3 days prior to arrival).\n",
    ">\n",
    "> * **This forecast is critical to determine staffing and supplies in particular** - when building our schedules, we consider the current number of booked reservations and the forecasted bookings to determine how many staff members to schedule and if we have enough supplies, etc..\n",
    ">  * *Being the only staff member at the Front Desk during a rush of arrivals due to a snow storm is NOT fun!*\n",
    "\n",
    "**Actions**\n",
    "\n",
    "> I noticed there are a significant number of outliers for both properties. **I will remove the outliers based on the z-score percentiles prior to modeling.**\n",
    "\n",
    "**City vs. Resort**\n",
    "\n",
    "> The histograms and box plots for both hotels match up closely, but it is clear that **the city hotel has a larger range of lead times for cancellations vs. the resort hotel.**\n",
    "\n",
    "---"
   ]
  },
  {
   "cell_type": "markdown",
   "metadata": {},
   "source": [
    "## Arrival_Date_Year"
   ]
  },
  {
   "cell_type": "code",
   "execution_count": null,
   "metadata": {
    "ExecuteTime": {
     "end_time": "2021-09-01T00:38:10.252933Z",
     "start_time": "2021-09-01T00:38:09.101893Z"
    }
   },
   "outputs": [],
   "source": [
    "## Reviewing details for city - 'lead_time'\n",
    "eda.explore_feature(subgroup_city,'arrival_date_year',\n",
    "#                     bins = 5,\n",
    "                    plot_type='histogram',\n",
    "                    marginal_x = 'box',\n",
    "                    width= 800, height=600,\n",
    "                    target_feature='reservation_status',\n",
    "                    plot_label ='Year',\n",
    "                    plot_title= 'Arrival Date (Year) - City');"
   ]
  },
  {
   "cell_type": "code",
   "execution_count": null,
   "metadata": {},
   "outputs": [],
   "source": []
  },
  {
   "cell_type": "code",
   "execution_count": null,
   "metadata": {},
   "outputs": [],
   "source": []
  },
  {
   "cell_type": "code",
   "execution_count": null,
   "metadata": {},
   "outputs": [],
   "source": []
  },
  {
   "cell_type": "markdown",
   "metadata": {},
   "source": [
    "## **`Arrival_Date` as Datetime**"
   ]
  },
  {
   "cell_type": "markdown",
   "metadata": {},
   "source": [
    "---\n",
    "\n",
    "**City**\n",
    "\n",
    "---"
   ]
  },
  {
   "cell_type": "code",
   "execution_count": null,
   "metadata": {
    "ExecuteTime": {
     "end_time": "2021-08-31T22:20:52.606136Z",
     "start_time": "2021-08-31T22:20:52.236432Z"
    },
    "scrolled": true
   },
   "outputs": [],
   "source": [
    "## Converting from month, day of month, and year to a single datetime column\n",
    "subgroup_city['arrival_date'] = subgroup_city['arrival_date_month'] +' '+ \\\n",
    "                                subgroup_city['arrival_date_day_of_month']\\\n",
    "                                .astype(str) +', '+ \\\n",
    "                                subgroup_city['arrival_date_year'].astype(str)\n",
    "subgroup_city['arrival_date'] = pd.to_datetime(subgroup_city['arrival_date'])\n",
    "subgroup_city['arrival_date']"
   ]
  },
  {
   "cell_type": "markdown",
   "metadata": {},
   "source": [
    "---\n",
    "\n",
    "**Resort**\n",
    "\n",
    "---"
   ]
  },
  {
   "cell_type": "code",
   "execution_count": null,
   "metadata": {
    "ExecuteTime": {
     "end_time": "2021-08-31T22:29:46.051914Z",
     "start_time": "2021-08-31T22:29:45.726471Z"
    },
    "scrolled": true
   },
   "outputs": [],
   "source": [
    "## Converting from month, day of month, and year to a single datetime column\n",
    "subgroup_resort['arrival_date'] = subgroup_resort['arrival_date_month'] +' '+ \\\n",
    "                                subgroup_resort['arrival_date_day_of_month']\\\n",
    "                                .astype(str) +', '+ \\\n",
    "                                subgroup_resort['arrival_date_year'].astype(str)\n",
    "subgroup_resort['arrival_date'] = pd.to_datetime(subgroup_resort['arrival_date'])\n",
    "subgroup_resort['arrival_date']"
   ]
  },
  {
   "cell_type": "markdown",
   "metadata": {},
   "source": [
    "### Review - `Arrival_Date`"
   ]
  },
  {
   "cell_type": "markdown",
   "metadata": {},
   "source": [
    "---\n",
    "\n",
    "**Feature Review**\n",
    "\n",
    "> I created this new feature to merge the arrival year/month/day-of-month features into one usable feature. \n",
    "\n",
    "**Actions**\n",
    "\n",
    "> PLACEHOLDER\n",
    "\n",
    "**City vs. Resort**\n",
    "\n",
    "> PLACEHOLDER\n",
    "\n",
    "---"
   ]
  },
  {
   "cell_type": "markdown",
   "metadata": {},
   "source": [
    "## stays_in_weekend_nights"
   ]
  },
  {
   "cell_type": "markdown",
   "metadata": {},
   "source": [
    "---\n",
    "\n",
    "**City**\n",
    "\n",
    "---"
   ]
  },
  {
   "cell_type": "code",
   "execution_count": null,
   "metadata": {},
   "outputs": [],
   "source": [
    "## Reviewing details for city - 'lead_time'\n",
    "eda.explore_feature(subgroup_city,'lead_time',\n",
    "                    bins = 5,\n",
    "                    plot_type='histogram',\n",
    "                    marginal_x = 'box',\n",
    "                    width= 800, height=600,\n",
    "                    target_feature='reservation_status',\n",
    "                    plot_label ='Number of Days',\n",
    "                    plot_title= 'Lead Time (Days) - City');"
   ]
  },
  {
   "cell_type": "markdown",
   "metadata": {},
   "source": [
    "---\n",
    "\n",
    "**Resort**\n",
    "\n",
    "---"
   ]
  },
  {
   "cell_type": "code",
   "execution_count": null,
   "metadata": {},
   "outputs": [],
   "source": []
  },
  {
   "cell_type": "markdown",
   "metadata": {},
   "source": [
    "### Review - `PLACEHOLDER`"
   ]
  },
  {
   "cell_type": "markdown",
   "metadata": {},
   "source": [
    "---\n",
    "\n",
    "**Feature Review**\n",
    "\n",
    "> PLACEHOLDER\n",
    "\n",
    "**Actions**\n",
    "\n",
    "> PLACEHOLDER\n",
    "\n",
    "**City vs. Resort**\n",
    "\n",
    "> PLACEHOLDER\n",
    "\n",
    "---"
   ]
  },
  {
   "cell_type": "markdown",
   "metadata": {},
   "source": [
    "## stays_in_week_nights"
   ]
  },
  {
   "cell_type": "markdown",
   "metadata": {},
   "source": [
    "---\n",
    "\n",
    "**City**\n",
    "\n",
    "---"
   ]
  },
  {
   "cell_type": "code",
   "execution_count": null,
   "metadata": {
    "ExecuteTime": {
     "end_time": "2021-08-31T12:24:46.671526Z",
     "start_time": "2021-08-31T12:24:45.389628Z"
    }
   },
   "outputs": [],
   "source": [
    "## Reviewing details for city - 'lead_time'\n",
    "eda.explore_feature(subgroup_city,'lead_time',\n",
    "                    bins = 5,\n",
    "                    plot_type='histogram',\n",
    "                    marginal_x = 'box',\n",
    "                    width= 800, height=600,\n",
    "                    target_feature='reservation_status',\n",
    "                    plot_label ='Number of Days',\n",
    "                    plot_title= 'Lead Time (Days) - City');"
   ]
  },
  {
   "cell_type": "markdown",
   "metadata": {},
   "source": [
    "---\n",
    "\n",
    "**Resort**\n",
    "\n",
    "---"
   ]
  },
  {
   "cell_type": "code",
   "execution_count": null,
   "metadata": {},
   "outputs": [],
   "source": []
  },
  {
   "cell_type": "markdown",
   "metadata": {},
   "source": [
    "### Review - `PLACEHOLDER`"
   ]
  },
  {
   "cell_type": "markdown",
   "metadata": {},
   "source": [
    "---\n",
    "\n",
    "**Feature Review**\n",
    "\n",
    "> PLACEHOLDER\n",
    "\n",
    "**Actions**\n",
    "\n",
    "> PLACEHOLDER\n",
    "\n",
    "**City vs. Resort**\n",
    "\n",
    "> PLACEHOLDER\n",
    "\n",
    "---"
   ]
  },
  {
   "cell_type": "markdown",
   "metadata": {},
   "source": [
    "## Adults"
   ]
  },
  {
   "cell_type": "markdown",
   "metadata": {},
   "source": [
    "---\n",
    "\n",
    "**City**\n",
    "\n",
    "---"
   ]
  },
  {
   "cell_type": "code",
   "execution_count": null,
   "metadata": {
    "ExecuteTime": {
     "end_time": "2021-08-31T12:24:46.671526Z",
     "start_time": "2021-08-31T12:24:45.389628Z"
    }
   },
   "outputs": [],
   "source": [
    "## Reviewing details for city - 'lead_time'\n",
    "eda.explore_feature(subgroup_city,'lead_time',\n",
    "                    bins = 5,\n",
    "                    plot_type='histogram',\n",
    "                    marginal_x = 'box',\n",
    "                    width= 800, height=600,\n",
    "                    target_feature='reservation_status',\n",
    "                    plot_label ='Number of Days',\n",
    "                    plot_title= 'Lead Time (Days) - City');"
   ]
  },
  {
   "cell_type": "markdown",
   "metadata": {},
   "source": [
    "---\n",
    "\n",
    "**Resort**\n",
    "\n",
    "---"
   ]
  },
  {
   "cell_type": "markdown",
   "metadata": {},
   "source": [
    "### Review - `PLACEHOLDER`"
   ]
  },
  {
   "cell_type": "markdown",
   "metadata": {},
   "source": [
    "---\n",
    "\n",
    "**Feature Review**\n",
    "\n",
    "> PLACEHOLDER\n",
    "\n",
    "**Actions**\n",
    "\n",
    "> PLACEHOLDER\n",
    "\n",
    "**City vs. Resort**\n",
    "\n",
    "> PLACEHOLDER\n",
    "\n",
    "---"
   ]
  },
  {
   "cell_type": "markdown",
   "metadata": {},
   "source": [
    "## Children"
   ]
  },
  {
   "cell_type": "markdown",
   "metadata": {},
   "source": [
    "---\n",
    "\n",
    "**City**\n",
    "\n",
    "---"
   ]
  },
  {
   "cell_type": "code",
   "execution_count": null,
   "metadata": {
    "ExecuteTime": {
     "end_time": "2021-08-31T12:24:48.727104Z",
     "start_time": "2021-08-31T12:24:46.891556Z"
    }
   },
   "outputs": [],
   "source": [
    "## Reviewing details for city - 'lead_time'\n",
    "eda.explore_feature(subgroup_city,'lead_time',\n",
    "                    bins = 5,\n",
    "                    plot_type='histogram',\n",
    "                    marginal_x = 'box',\n",
    "                    width= 800, height=600,\n",
    "                    target_feature='reservation_status',\n",
    "                    plot_label ='Number of Days',\n",
    "                    plot_title= 'Lead Time (Days) - City');"
   ]
  },
  {
   "cell_type": "markdown",
   "metadata": {},
   "source": [
    "---\n",
    "\n",
    "**Resort**\n",
    "\n",
    "---"
   ]
  },
  {
   "cell_type": "code",
   "execution_count": null,
   "metadata": {},
   "outputs": [],
   "source": []
  },
  {
   "cell_type": "markdown",
   "metadata": {},
   "source": [
    "### Review - `PLACEHOLDER`"
   ]
  },
  {
   "cell_type": "markdown",
   "metadata": {},
   "source": [
    "---\n",
    "\n",
    "**Feature Review**\n",
    "\n",
    "> PLACEHOLDER\n",
    "\n",
    "**Actions**\n",
    "\n",
    "> PLACEHOLDER\n",
    "\n",
    "**City vs. Resort**\n",
    "\n",
    "> PLACEHOLDER\n",
    "\n",
    "---"
   ]
  },
  {
   "cell_type": "markdown",
   "metadata": {},
   "source": [
    "## babies"
   ]
  },
  {
   "cell_type": "markdown",
   "metadata": {},
   "source": [
    "---\n",
    "\n",
    "**City**\n",
    "\n",
    "---"
   ]
  },
  {
   "cell_type": "code",
   "execution_count": null,
   "metadata": {
    "ExecuteTime": {
     "end_time": "2021-08-31T12:24:50.192692Z",
     "start_time": "2021-08-31T12:24:48.931760Z"
    }
   },
   "outputs": [],
   "source": [
    "## Reviewing details for city - 'lead_time'\n",
    "eda.explore_feature(subgroup_city,'lead_time',\n",
    "                    bins = 5,\n",
    "                    plot_type='histogram',\n",
    "                    marginal_x = 'box',\n",
    "                    width= 800, height=600,\n",
    "                    target_feature='reservation_status',\n",
    "                    plot_label ='Number of Days',\n",
    "                    plot_title= 'Lead Time (Days) - City');"
   ]
  },
  {
   "cell_type": "markdown",
   "metadata": {},
   "source": [
    "---\n",
    "\n",
    "**Resort**\n",
    "\n",
    "---"
   ]
  },
  {
   "cell_type": "code",
   "execution_count": null,
   "metadata": {},
   "outputs": [],
   "source": []
  },
  {
   "cell_type": "markdown",
   "metadata": {},
   "source": [
    "### Review - `PLACEHOLDER`"
   ]
  },
  {
   "cell_type": "markdown",
   "metadata": {},
   "source": [
    "---\n",
    "\n",
    "**Feature Review**\n",
    "\n",
    "> PLACEHOLDER\n",
    "\n",
    "**Actions**\n",
    "\n",
    "> PLACEHOLDER\n",
    "\n",
    "**City vs. Resort**\n",
    "\n",
    "> PLACEHOLDER\n",
    "\n",
    "---"
   ]
  },
  {
   "cell_type": "markdown",
   "metadata": {},
   "source": [
    "## meal"
   ]
  },
  {
   "cell_type": "markdown",
   "metadata": {},
   "source": [
    "---\n",
    "\n",
    "**City**\n",
    "\n",
    "---"
   ]
  },
  {
   "cell_type": "code",
   "execution_count": null,
   "metadata": {
    "ExecuteTime": {
     "end_time": "2021-08-31T12:25:15.486718Z",
     "start_time": "2021-08-31T12:25:14.493269Z"
    }
   },
   "outputs": [],
   "source": [
    "## Reviewing details for city - 'lead_time'\n",
    "eda.explore_feature(subgroup_city,'lead_time',\n",
    "                    bins = 5,\n",
    "                    plot_type='histogram',\n",
    "                    marginal_x = 'box',\n",
    "                    width= 800, height=600,\n",
    "                    target_feature='reservation_status',\n",
    "                    plot_label ='Number of Days',\n",
    "                    plot_title= 'Lead Time (Days) - City');"
   ]
  },
  {
   "cell_type": "markdown",
   "metadata": {},
   "source": [
    "---\n",
    "\n",
    "**Resort**\n",
    "\n",
    "---"
   ]
  },
  {
   "cell_type": "code",
   "execution_count": null,
   "metadata": {},
   "outputs": [],
   "source": []
  },
  {
   "cell_type": "markdown",
   "metadata": {},
   "source": [
    "### Review - `PLACEHOLDER`"
   ]
  },
  {
   "cell_type": "markdown",
   "metadata": {},
   "source": [
    "---\n",
    "\n",
    "**Feature Review**\n",
    "\n",
    "> PLACEHOLDER\n",
    "\n",
    "**Actions**\n",
    "\n",
    "> PLACEHOLDER\n",
    "\n",
    "**City vs. Resort**\n",
    "\n",
    "> PLACEHOLDER\n",
    "\n",
    "---"
   ]
  },
  {
   "cell_type": "markdown",
   "metadata": {},
   "source": [
    "## country"
   ]
  },
  {
   "cell_type": "markdown",
   "metadata": {},
   "source": [
    "---\n",
    "\n",
    "**City**\n",
    "\n",
    "---"
   ]
  },
  {
   "cell_type": "code",
   "execution_count": null,
   "metadata": {
    "ExecuteTime": {
     "end_time": "2021-08-31T12:25:15.486718Z",
     "start_time": "2021-08-31T12:25:14.493269Z"
    }
   },
   "outputs": [],
   "source": [
    "## Reviewing details for city - 'lead_time'\n",
    "eda.explore_feature(subgroup_city,'lead_time',\n",
    "                    bins = 5,\n",
    "                    plot_type='histogram',\n",
    "                    marginal_x = 'box',\n",
    "                    width= 800, height=600,\n",
    "                    target_feature='reservation_status',\n",
    "                    plot_label ='Number of Days',\n",
    "                    plot_title= 'Lead Time (Days) - City');"
   ]
  },
  {
   "cell_type": "markdown",
   "metadata": {},
   "source": [
    "---\n",
    "\n",
    "**Resort**\n",
    "\n",
    "---"
   ]
  },
  {
   "cell_type": "code",
   "execution_count": null,
   "metadata": {},
   "outputs": [],
   "source": []
  },
  {
   "cell_type": "markdown",
   "metadata": {},
   "source": [
    "### Review - `PLACEHOLDER`"
   ]
  },
  {
   "cell_type": "markdown",
   "metadata": {},
   "source": [
    "---\n",
    "\n",
    "**Feature Review**\n",
    "\n",
    "> PLACEHOLDER\n",
    "\n",
    "**Actions**\n",
    "\n",
    "> PLACEHOLDER\n",
    "\n",
    "**City vs. Resort**\n",
    "\n",
    "> PLACEHOLDER\n",
    "\n",
    "---"
   ]
  },
  {
   "cell_type": "markdown",
   "metadata": {},
   "source": [
    "## market_segment"
   ]
  },
  {
   "cell_type": "markdown",
   "metadata": {},
   "source": [
    "---\n",
    "\n",
    "**City**\n",
    "\n",
    "---"
   ]
  },
  {
   "cell_type": "code",
   "execution_count": null,
   "metadata": {
    "ExecuteTime": {
     "end_time": "2021-08-31T12:25:15.486718Z",
     "start_time": "2021-08-31T12:25:14.493269Z"
    }
   },
   "outputs": [],
   "source": [
    "## Reviewing details for city - 'lead_time'\n",
    "eda.explore_feature(subgroup_city,'lead_time',\n",
    "                    bins = 5,\n",
    "                    plot_type='histogram',\n",
    "                    marginal_x = 'box',\n",
    "                    width= 800, height=600,\n",
    "                    target_feature='reservation_status',\n",
    "                    plot_label ='Number of Days',\n",
    "                    plot_title= 'Lead Time (Days) - City');"
   ]
  },
  {
   "cell_type": "markdown",
   "metadata": {},
   "source": [
    "---\n",
    "\n",
    "**Resort**\n",
    "\n",
    "---"
   ]
  },
  {
   "cell_type": "code",
   "execution_count": null,
   "metadata": {},
   "outputs": [],
   "source": []
  },
  {
   "cell_type": "markdown",
   "metadata": {},
   "source": [
    "### Review - `PLACEHOLDER`"
   ]
  },
  {
   "cell_type": "markdown",
   "metadata": {},
   "source": [
    "---\n",
    "\n",
    "**Feature Review**\n",
    "\n",
    "> PLACEHOLDER\n",
    "\n",
    "**Actions**\n",
    "\n",
    "> PLACEHOLDER\n",
    "\n",
    "**City vs. Resort**\n",
    "\n",
    "> PLACEHOLDER\n",
    "\n",
    "---"
   ]
  },
  {
   "cell_type": "markdown",
   "metadata": {},
   "source": [
    "## distribution_channel"
   ]
  },
  {
   "cell_type": "markdown",
   "metadata": {},
   "source": [
    "---\n",
    "\n",
    "**City**\n",
    "\n",
    "---"
   ]
  },
  {
   "cell_type": "code",
   "execution_count": null,
   "metadata": {
    "ExecuteTime": {
     "end_time": "2021-08-31T12:25:15.486718Z",
     "start_time": "2021-08-31T12:25:14.493269Z"
    }
   },
   "outputs": [],
   "source": [
    "## Reviewing details for city - 'lead_time'\n",
    "eda.explore_feature(subgroup_city,'lead_time',\n",
    "                    bins = 5,\n",
    "                    plot_type='histogram',\n",
    "                    marginal_x = 'box',\n",
    "                    width= 800, height=600,\n",
    "                    target_feature='reservation_status',\n",
    "                    plot_label ='Number of Days',\n",
    "                    plot_title= 'Lead Time (Days) - City');"
   ]
  },
  {
   "cell_type": "markdown",
   "metadata": {},
   "source": [
    "---\n",
    "\n",
    "**Resort**\n",
    "\n",
    "---"
   ]
  },
  {
   "cell_type": "code",
   "execution_count": null,
   "metadata": {},
   "outputs": [],
   "source": []
  },
  {
   "cell_type": "markdown",
   "metadata": {},
   "source": [
    "### Review - `PLACEHOLDER`"
   ]
  },
  {
   "cell_type": "markdown",
   "metadata": {},
   "source": [
    "---\n",
    "\n",
    "**Feature Review**\n",
    "\n",
    "> PLACEHOLDER\n",
    "\n",
    "**Actions**\n",
    "\n",
    "> PLACEHOLDER\n",
    "\n",
    "**City vs. Resort**\n",
    "\n",
    "> PLACEHOLDER\n",
    "\n",
    "---"
   ]
  },
  {
   "cell_type": "markdown",
   "metadata": {},
   "source": [
    "## is_repeated_guest"
   ]
  },
  {
   "cell_type": "markdown",
   "metadata": {},
   "source": [
    "---\n",
    "\n",
    "**City**\n",
    "\n",
    "---"
   ]
  },
  {
   "cell_type": "code",
   "execution_count": null,
   "metadata": {
    "ExecuteTime": {
     "end_time": "2021-08-31T12:25:15.486718Z",
     "start_time": "2021-08-31T12:25:14.493269Z"
    }
   },
   "outputs": [],
   "source": [
    "## Reviewing details for city - 'lead_time'\n",
    "eda.explore_feature(subgroup_city,'lead_time',\n",
    "                    bins = 5,\n",
    "                    plot_type='histogram',\n",
    "                    marginal_x = 'box',\n",
    "                    width= 800, height=600,\n",
    "                    target_feature='reservation_status',\n",
    "                    plot_label ='Number of Days',\n",
    "                    plot_title= 'Lead Time (Days) - City');"
   ]
  },
  {
   "cell_type": "markdown",
   "metadata": {},
   "source": [
    "---\n",
    "\n",
    "**Resort**\n",
    "\n",
    "---"
   ]
  },
  {
   "cell_type": "code",
   "execution_count": null,
   "metadata": {},
   "outputs": [],
   "source": [
    "## Reviewing details for city - 'lead_time'\n",
    "eda.explore_feature(subgroup_resort,'lead_time',\n",
    "                    bins = 5,\n",
    "                    plot_type='histogram',\n",
    "                    marginal_x = 'box',\n",
    "                    width= 800, height=600,\n",
    "                    target_feature='reservation_status',\n",
    "                    plot_label ='Number of Days',\n",
    "                    plot_title= 'Lead Time (Days) - City');"
   ]
  },
  {
   "cell_type": "markdown",
   "metadata": {},
   "source": [
    "### Review - `PLACEHOLDER`"
   ]
  },
  {
   "cell_type": "markdown",
   "metadata": {},
   "source": [
    "---\n",
    "\n",
    "**Feature Review**\n",
    "\n",
    "> PLACEHOLDER\n",
    "\n",
    "**Actions**\n",
    "\n",
    "> PLACEHOLDER\n",
    "\n",
    "**City vs. Resort**\n",
    "\n",
    "> PLACEHOLDER\n",
    "\n",
    "---"
   ]
  },
  {
   "cell_type": "markdown",
   "metadata": {},
   "source": [
    "## previous_cancellations"
   ]
  },
  {
   "cell_type": "markdown",
   "metadata": {},
   "source": [
    "---\n",
    "\n",
    "**City**\n",
    "\n",
    "---"
   ]
  },
  {
   "cell_type": "code",
   "execution_count": null,
   "metadata": {
    "ExecuteTime": {
     "end_time": "2021-08-31T12:25:15.486718Z",
     "start_time": "2021-08-31T12:25:14.493269Z"
    }
   },
   "outputs": [],
   "source": [
    "## Reviewing details for city - 'lead_time'\n",
    "eda.explore_feature(subgroup_city,'lead_time',\n",
    "                    bins = 5,\n",
    "                    plot_type='histogram',\n",
    "                    marginal_x = 'box',\n",
    "                    width= 800, height=600,\n",
    "                    target_feature='reservation_status',\n",
    "                    plot_label ='Number of Days',\n",
    "                    plot_title= 'Lead Time (Days) - City');"
   ]
  },
  {
   "cell_type": "markdown",
   "metadata": {},
   "source": [
    "---\n",
    "\n",
    "**Resort**\n",
    "\n",
    "---"
   ]
  },
  {
   "cell_type": "code",
   "execution_count": null,
   "metadata": {},
   "outputs": [],
   "source": [
    "## Reviewing details for city - 'lead_time'\n",
    "eda.explore_feature(subgroup_resort,'lead_time',\n",
    "                    bins = 5,\n",
    "                    plot_type='histogram',\n",
    "                    marginal_x = 'box',\n",
    "                    width= 800, height=600,\n",
    "                    target_feature='reservation_status',\n",
    "                    plot_label ='Number of Days',\n",
    "                    plot_title= 'Lead Time (Days) - City');"
   ]
  },
  {
   "cell_type": "markdown",
   "metadata": {},
   "source": [
    "### Review - `PLACEHOLDER`"
   ]
  },
  {
   "cell_type": "markdown",
   "metadata": {},
   "source": [
    "---\n",
    "\n",
    "**Feature Review**\n",
    "\n",
    "> PLACEHOLDER\n",
    "\n",
    "**Actions**\n",
    "\n",
    "> PLACEHOLDER\n",
    "\n",
    "**City vs. Resort**\n",
    "\n",
    "> PLACEHOLDER\n",
    "\n",
    "---"
   ]
  },
  {
   "cell_type": "markdown",
   "metadata": {},
   "source": [
    "## previous_bookings_not_canceled"
   ]
  },
  {
   "cell_type": "markdown",
   "metadata": {},
   "source": [
    "---\n",
    "\n",
    "**City**\n",
    "\n",
    "---"
   ]
  },
  {
   "cell_type": "code",
   "execution_count": null,
   "metadata": {
    "ExecuteTime": {
     "end_time": "2021-08-31T12:25:15.486718Z",
     "start_time": "2021-08-31T12:25:14.493269Z"
    }
   },
   "outputs": [],
   "source": [
    "## Reviewing details for city - 'lead_time'\n",
    "eda.explore_feature(subgroup_city,'lead_time',\n",
    "                    bins = 5,\n",
    "                    plot_type='histogram',\n",
    "                    marginal_x = 'box',\n",
    "                    width= 800, height=600,\n",
    "                    target_feature='reservation_status',\n",
    "                    plot_label ='Number of Days',\n",
    "                    plot_title= 'Lead Time (Days) - City');"
   ]
  },
  {
   "cell_type": "markdown",
   "metadata": {},
   "source": [
    "---\n",
    "\n",
    "**Resort**\n",
    "\n",
    "---"
   ]
  },
  {
   "cell_type": "code",
   "execution_count": null,
   "metadata": {},
   "outputs": [],
   "source": [
    "## Reviewing details for city - 'lead_time'\n",
    "eda.explore_feature(subgroup_resort,'lead_time',\n",
    "                    bins = 5,\n",
    "                    plot_type='histogram',\n",
    "                    marginal_x = 'box',\n",
    "                    width= 800, height=600,\n",
    "                    target_feature='reservation_status',\n",
    "                    plot_label ='Number of Days',\n",
    "                    plot_title= 'Lead Time (Days) - City');"
   ]
  },
  {
   "cell_type": "markdown",
   "metadata": {},
   "source": [
    "### Review - `PLACEHOLDER`"
   ]
  },
  {
   "cell_type": "markdown",
   "metadata": {},
   "source": [
    "---\n",
    "\n",
    "**Feature Review**\n",
    "\n",
    "> PLACEHOLDER\n",
    "\n",
    "**Actions**\n",
    "\n",
    "> PLACEHOLDER\n",
    "\n",
    "**City vs. Resort**\n",
    "\n",
    "> PLACEHOLDER\n",
    "\n",
    "---"
   ]
  },
  {
   "cell_type": "markdown",
   "metadata": {},
   "source": [
    "##  reserved_room_type"
   ]
  },
  {
   "cell_type": "markdown",
   "metadata": {},
   "source": [
    "---\n",
    "\n",
    "**City**\n",
    "\n",
    "---"
   ]
  },
  {
   "cell_type": "code",
   "execution_count": null,
   "metadata": {
    "ExecuteTime": {
     "end_time": "2021-08-31T12:25:15.486718Z",
     "start_time": "2021-08-31T12:25:14.493269Z"
    }
   },
   "outputs": [],
   "source": [
    "## Reviewing details for city - 'lead_time'\n",
    "eda.explore_feature(subgroup_city,'lead_time',\n",
    "                    bins = 5,\n",
    "                    plot_type='histogram',\n",
    "                    marginal_x = 'box',\n",
    "                    width= 800, height=600,\n",
    "                    target_feature='reservation_status',\n",
    "                    plot_label ='Number of Days',\n",
    "                    plot_title= 'Lead Time (Days) - City');"
   ]
  },
  {
   "cell_type": "markdown",
   "metadata": {},
   "source": [
    "---\n",
    "\n",
    "**Resort**\n",
    "\n",
    "---"
   ]
  },
  {
   "cell_type": "code",
   "execution_count": null,
   "metadata": {},
   "outputs": [],
   "source": [
    "## Reviewing details for city - 'lead_time'\n",
    "eda.explore_feature(subgroup_resort,'lead_time',\n",
    "                    bins = 5,\n",
    "                    plot_type='histogram',\n",
    "                    marginal_x = 'box',\n",
    "                    width= 800, height=600,\n",
    "                    target_feature='reservation_status',\n",
    "                    plot_label ='Number of Days',\n",
    "                    plot_title= 'Lead Time (Days) - City');"
   ]
  },
  {
   "cell_type": "markdown",
   "metadata": {},
   "source": [
    "### Review - `PLACEHOLDER`"
   ]
  },
  {
   "cell_type": "markdown",
   "metadata": {},
   "source": [
    "---\n",
    "\n",
    "> TEXT \n",
    ">\n",
    "> TEXT\n",
    "\n",
    "---"
   ]
  },
  {
   "cell_type": "markdown",
   "metadata": {},
   "source": [
    "## assigned_room_type"
   ]
  },
  {
   "cell_type": "markdown",
   "metadata": {},
   "source": [
    "---\n",
    "\n",
    "**City**\n",
    "\n",
    "---"
   ]
  },
  {
   "cell_type": "code",
   "execution_count": null,
   "metadata": {
    "ExecuteTime": {
     "end_time": "2021-08-31T12:25:15.486718Z",
     "start_time": "2021-08-31T12:25:14.493269Z"
    }
   },
   "outputs": [],
   "source": [
    "## Reviewing details for city - 'lead_time'\n",
    "eda.explore_feature(subgroup_city,'lead_time',\n",
    "                    bins = 5,\n",
    "                    plot_type='histogram',\n",
    "                    marginal_x = 'box',\n",
    "                    width= 800, height=600,\n",
    "                    target_feature='reservation_status',\n",
    "                    plot_label ='Number of Days',\n",
    "                    plot_title= 'Lead Time (Days) - City');"
   ]
  },
  {
   "cell_type": "markdown",
   "metadata": {},
   "source": [
    "---\n",
    "\n",
    "**Resort**\n",
    "\n",
    "---"
   ]
  },
  {
   "cell_type": "code",
   "execution_count": null,
   "metadata": {},
   "outputs": [],
   "source": [
    "## Reviewing details for resort - 'lead_time'\n",
    "eda.explore_feature(subgroup_resort,'lead_time',\n",
    "                    bins = 5,\n",
    "                    plot_type='histogram',\n",
    "                    marginal_x = 'box',\n",
    "                    width= 800, height=600,\n",
    "                    target_feature='reservation_status',\n",
    "                    plot_label ='Number of Days',\n",
    "                    plot_title= 'Lead Time (Days) - Resort');"
   ]
  },
  {
   "cell_type": "markdown",
   "metadata": {},
   "source": [
    "### Review - `PLACEHOLDER`"
   ]
  },
  {
   "cell_type": "markdown",
   "metadata": {},
   "source": [
    "---\n",
    "\n",
    "> TEXT \n",
    ">\n",
    "> TEXT\n",
    "\n",
    "---"
   ]
  },
  {
   "cell_type": "markdown",
   "metadata": {},
   "source": [
    "## booking_changes"
   ]
  },
  {
   "cell_type": "markdown",
   "metadata": {},
   "source": [
    "---\n",
    "\n",
    "**City**\n",
    "\n",
    "---"
   ]
  },
  {
   "cell_type": "code",
   "execution_count": null,
   "metadata": {
    "ExecuteTime": {
     "end_time": "2021-08-31T12:25:15.486718Z",
     "start_time": "2021-08-31T12:25:14.493269Z"
    }
   },
   "outputs": [],
   "source": [
    "## Reviewing details for city - 'lead_time'\n",
    "eda.explore_feature(subgroup_city,'lead_time',\n",
    "                    bins = 5,\n",
    "                    plot_type='histogram',\n",
    "                    marginal_x = 'box',\n",
    "                    width= 800, height=600,\n",
    "                    target_feature='reservation_status',\n",
    "                    plot_label ='Number of Days',\n",
    "                    plot_title= 'Lead Time (Days) - city');"
   ]
  },
  {
   "cell_type": "markdown",
   "metadata": {},
   "source": [
    "---\n",
    "\n",
    "**Resort**\n",
    "\n",
    "---"
   ]
  },
  {
   "cell_type": "code",
   "execution_count": null,
   "metadata": {},
   "outputs": [],
   "source": [
    "## Reviewing details for resort - 'lead_time'\n",
    "eda.explore_feature(subgroup_resort,'lead_time',\n",
    "                    bins = 5,\n",
    "                    plot_type='histogram',\n",
    "                    marginal_x = 'box',\n",
    "                    width= 800, height=600,\n",
    "                    target_feature='reservation_status',\n",
    "                    plot_label ='Number of Days',\n",
    "                    plot_title= 'Lead Time (Days) - Resort');"
   ]
  },
  {
   "cell_type": "markdown",
   "metadata": {},
   "source": [
    "### Review - `PLACEHOLDER`"
   ]
  },
  {
   "cell_type": "markdown",
   "metadata": {},
   "source": [
    "---\n",
    "\n",
    "> TEXT \n",
    ">\n",
    "> TEXT\n",
    "\n",
    "---"
   ]
  },
  {
   "cell_type": "markdown",
   "metadata": {},
   "source": [
    "## deposit_type"
   ]
  },
  {
   "cell_type": "markdown",
   "metadata": {},
   "source": [
    "---\n",
    "\n",
    "**City**\n",
    "\n",
    "---"
   ]
  },
  {
   "cell_type": "code",
   "execution_count": null,
   "metadata": {
    "ExecuteTime": {
     "end_time": "2021-08-31T12:25:15.486718Z",
     "start_time": "2021-08-31T12:25:14.493269Z"
    }
   },
   "outputs": [],
   "source": [
    "## Reviewing details for resort - 'lead_time'\n",
    "eda.explore_feature(subgroup_resort,'lead_time',\n",
    "                    bins = 5,\n",
    "                    plot_type='histogram',\n",
    "                    marginal_x = 'box',\n",
    "                    width= 800, height=600,\n",
    "                    target_feature='reservation_status',\n",
    "                    plot_label ='Number of Days',\n",
    "                    plot_title= 'Lead Time (Days) - Resort');"
   ]
  },
  {
   "cell_type": "markdown",
   "metadata": {},
   "source": [
    "---\n",
    "\n",
    "**Resort**\n",
    "\n",
    "---"
   ]
  },
  {
   "cell_type": "code",
   "execution_count": null,
   "metadata": {},
   "outputs": [],
   "source": [
    "## Reviewing details for resort - 'lead_time'\n",
    "eda.explore_feature(subgroup_resort,'lead_time',\n",
    "                    bins = 5,\n",
    "                    plot_type='histogram',\n",
    "                    marginal_x = 'box',\n",
    "                    width= 800, height=600,\n",
    "                    target_feature='reservation_status',\n",
    "                    plot_label ='Number of Days',\n",
    "                    plot_title= 'Lead Time (Days) - Resort');"
   ]
  },
  {
   "cell_type": "markdown",
   "metadata": {},
   "source": [
    "### Review - `PLACEHOLDER`"
   ]
  },
  {
   "cell_type": "markdown",
   "metadata": {},
   "source": [
    "---\n",
    "\n",
    "> TEXT \n",
    ">\n",
    "> TEXT\n",
    "\n",
    "---"
   ]
  },
  {
   "cell_type": "markdown",
   "metadata": {},
   "source": [
    "## agent"
   ]
  },
  {
   "cell_type": "markdown",
   "metadata": {},
   "source": [
    "---\n",
    "\n",
    "**City**\n",
    "\n",
    "---"
   ]
  },
  {
   "cell_type": "code",
   "execution_count": null,
   "metadata": {
    "ExecuteTime": {
     "end_time": "2021-08-31T12:25:15.486718Z",
     "start_time": "2021-08-31T12:25:14.493269Z"
    }
   },
   "outputs": [],
   "source": [
    "## Reviewing details for resort - 'lead_time'\n",
    "eda.explore_feature(subgroup_resort,'lead_time',\n",
    "                    bins = 5,\n",
    "                    plot_type='histogram',\n",
    "                    marginal_x = 'box',\n",
    "                    width= 800, height=600,\n",
    "                    target_feature='reservation_status',\n",
    "                    plot_label ='Number of Days',\n",
    "                    plot_title= 'Lead Time (Days) - Resort');"
   ]
  },
  {
   "cell_type": "markdown",
   "metadata": {},
   "source": [
    "---\n",
    "\n",
    "**Resort**\n",
    "\n",
    "---"
   ]
  },
  {
   "cell_type": "code",
   "execution_count": null,
   "metadata": {},
   "outputs": [],
   "source": [
    "## Reviewing details for resort - 'lead_time'\n",
    "eda.explore_feature(subgroup_resort,'lead_time',\n",
    "                    bins = 5,\n",
    "                    plot_type='histogram',\n",
    "                    marginal_x = 'box',\n",
    "                    width= 800, height=600,\n",
    "                    target_feature='reservation_status',\n",
    "                    plot_label ='Number of Days',\n",
    "                    plot_title= 'Lead Time (Days) - Resort');"
   ]
  },
  {
   "cell_type": "markdown",
   "metadata": {},
   "source": [
    "### Review - `PLACEHOLDER`"
   ]
  },
  {
   "cell_type": "markdown",
   "metadata": {},
   "source": [
    "---\n",
    "\n",
    "> TEXT \n",
    ">\n",
    "> TEXT\n",
    "\n",
    "---"
   ]
  },
  {
   "cell_type": "markdown",
   "metadata": {},
   "source": [
    "## days_in_waiting_list"
   ]
  },
  {
   "cell_type": "markdown",
   "metadata": {},
   "source": [
    "---\n",
    "\n",
    "**City**\n",
    "\n",
    "---"
   ]
  },
  {
   "cell_type": "code",
   "execution_count": null,
   "metadata": {
    "ExecuteTime": {
     "end_time": "2021-08-31T12:25:15.486718Z",
     "start_time": "2021-08-31T12:25:14.493269Z"
    }
   },
   "outputs": [],
   "source": [
    "## Reviewing details for resort - 'lead_time'\n",
    "eda.explore_feature(subgroup_resort,'lead_time',\n",
    "                    bins = 5,\n",
    "                    plot_type='histogram',\n",
    "                    marginal_x = 'box',\n",
    "                    width= 800, height=600,\n",
    "                    target_feature='reservation_status',\n",
    "                    plot_label ='Number of Days',\n",
    "                    plot_title= 'Lead Time (Days) - Resort');"
   ]
  },
  {
   "cell_type": "markdown",
   "metadata": {},
   "source": [
    "---\n",
    "\n",
    "**Resort**\n",
    "\n",
    "---"
   ]
  },
  {
   "cell_type": "code",
   "execution_count": null,
   "metadata": {},
   "outputs": [],
   "source": [
    "## Reviewing details for resort - 'lead_time'\n",
    "eda.explore_feature(subgroup_resort,'lead_time',\n",
    "                    bins = 5,\n",
    "                    plot_type='histogram',\n",
    "                    marginal_x = 'box',\n",
    "                    width= 800, height=600,\n",
    "                    target_feature='reservation_status',\n",
    "                    plot_label ='Number of Days',\n",
    "                    plot_title= 'Lead Time (Days) - Resort');"
   ]
  },
  {
   "cell_type": "markdown",
   "metadata": {},
   "source": [
    "### Review - `PLACEHOLDER`"
   ]
  },
  {
   "cell_type": "markdown",
   "metadata": {},
   "source": [
    "---\n",
    "\n",
    "> TEXT \n",
    ">\n",
    "> TEXT\n",
    "\n",
    "---"
   ]
  },
  {
   "cell_type": "markdown",
   "metadata": {},
   "source": [
    "## customer_type"
   ]
  },
  {
   "cell_type": "markdown",
   "metadata": {},
   "source": [
    "---\n",
    "\n",
    "**City**\n",
    "\n",
    "---"
   ]
  },
  {
   "cell_type": "code",
   "execution_count": null,
   "metadata": {
    "ExecuteTime": {
     "end_time": "2021-08-31T12:25:15.486718Z",
     "start_time": "2021-08-31T12:25:14.493269Z"
    }
   },
   "outputs": [],
   "source": [
    "## Reviewing details for resort - 'lead_time'\n",
    "eda.explore_feature(subgroup_resort,'lead_time',\n",
    "                    bins = 5,\n",
    "                    plot_type='histogram',\n",
    "                    marginal_x = 'box',\n",
    "                    width= 800, height=600,\n",
    "                    target_feature='reservation_status',\n",
    "                    plot_label ='Number of Days',\n",
    "                    plot_title= 'Lead Time (Days) - Resort');"
   ]
  },
  {
   "cell_type": "markdown",
   "metadata": {},
   "source": [
    "---\n",
    "\n",
    "**Resort**\n",
    "\n",
    "---"
   ]
  },
  {
   "cell_type": "code",
   "execution_count": null,
   "metadata": {},
   "outputs": [],
   "source": [
    "## Reviewing details for resort - 'lead_time'\n",
    "eda.explore_feature(subgroup_resort,'lead_time',\n",
    "                    bins = 5,\n",
    "                    plot_type='histogram',\n",
    "                    marginal_x = 'box',\n",
    "                    width= 800, height=600,\n",
    "                    target_feature='reservation_status',\n",
    "                    plot_label ='Number of Days',\n",
    "                    plot_title= 'Lead Time (Days) - Resort');"
   ]
  },
  {
   "cell_type": "markdown",
   "metadata": {},
   "source": [
    "### Review - `PLACEHOLDER`"
   ]
  },
  {
   "cell_type": "markdown",
   "metadata": {},
   "source": [
    "---\n",
    "\n",
    "> TEXT \n",
    ">\n",
    "> TEXT\n",
    "\n",
    "---"
   ]
  },
  {
   "cell_type": "markdown",
   "metadata": {},
   "source": [
    "## adr"
   ]
  },
  {
   "cell_type": "markdown",
   "metadata": {},
   "source": [
    "---\n",
    "\n",
    "**City**\n",
    "\n",
    "---"
   ]
  },
  {
   "cell_type": "code",
   "execution_count": null,
   "metadata": {
    "ExecuteTime": {
     "end_time": "2021-08-31T12:25:15.486718Z",
     "start_time": "2021-08-31T12:25:14.493269Z"
    }
   },
   "outputs": [],
   "source": [
    "## Reviewing details for resort - 'lead_time'\n",
    "eda.explore_feature(subgroup_resort,'lead_time',\n",
    "                    bins = 5,\n",
    "                    plot_type='histogram',\n",
    "                    marginal_x = 'box',\n",
    "                    width= 800, height=600,\n",
    "                    target_feature='reservation_status',\n",
    "                    plot_label ='Number of Days',\n",
    "                    plot_title= 'Lead Time (Days) - Resort');"
   ]
  },
  {
   "cell_type": "markdown",
   "metadata": {},
   "source": [
    "---\n",
    "\n",
    "**Resort**\n",
    "\n",
    "---"
   ]
  },
  {
   "cell_type": "code",
   "execution_count": null,
   "metadata": {},
   "outputs": [],
   "source": [
    "## Reviewing details for resort - 'lead_time'\n",
    "eda.explore_feature(subgroup_resort,'lead_time',\n",
    "                    bins = 5,\n",
    "                    plot_type='histogram',\n",
    "                    marginal_x = 'box',\n",
    "                    width= 800, height=600,\n",
    "                    target_feature='reservation_status',\n",
    "                    plot_label ='Number of Days',\n",
    "                    plot_title= 'Lead Time (Days) - Resort');"
   ]
  },
  {
   "cell_type": "markdown",
   "metadata": {},
   "source": [
    "### Review - `PLACEHOLDER`"
   ]
  },
  {
   "cell_type": "markdown",
   "metadata": {},
   "source": [
    "---\n",
    "\n",
    "> TEXT \n",
    ">\n",
    "> TEXT\n",
    "\n",
    "---"
   ]
  },
  {
   "cell_type": "markdown",
   "metadata": {},
   "source": [
    "## required_car_parking_spaces"
   ]
  },
  {
   "cell_type": "markdown",
   "metadata": {},
   "source": [
    "---\n",
    "\n",
    "**City**\n",
    "\n",
    "---"
   ]
  },
  {
   "cell_type": "code",
   "execution_count": null,
   "metadata": {
    "ExecuteTime": {
     "end_time": "2021-08-31T12:25:15.486718Z",
     "start_time": "2021-08-31T12:25:14.493269Z"
    }
   },
   "outputs": [],
   "source": [
    "## Reviewing details for resort - 'lead_time'\n",
    "eda.explore_feature(subgroup_resort,'lead_time',\n",
    "                    bins = 5,\n",
    "                    plot_type='histogram',\n",
    "                    marginal_x = 'box',\n",
    "                    width= 800, height=600,\n",
    "                    target_feature='reservation_status',\n",
    "                    plot_label ='Number of Days',\n",
    "                    plot_title= 'Lead Time (Days) - Resort');"
   ]
  },
  {
   "cell_type": "markdown",
   "metadata": {},
   "source": [
    "---\n",
    "\n",
    "**Resort**\n",
    "\n",
    "---"
   ]
  },
  {
   "cell_type": "code",
   "execution_count": null,
   "metadata": {},
   "outputs": [],
   "source": [
    "## Reviewing details for resort - 'lead_time'\n",
    "eda.explore_feature(subgroup_resort,'lead_time',\n",
    "                    bins = 5,\n",
    "                    plot_type='histogram',\n",
    "                    marginal_x = 'box',\n",
    "                    width= 800, height=600,\n",
    "                    target_feature='reservation_status',\n",
    "                    plot_label ='Number of Days',\n",
    "                    plot_title= 'Lead Time (Days) - Resort');"
   ]
  },
  {
   "cell_type": "markdown",
   "metadata": {},
   "source": [
    "### Review - `PLACEHOLDER`"
   ]
  },
  {
   "cell_type": "markdown",
   "metadata": {},
   "source": [
    "---\n",
    "\n",
    "> TEXT \n",
    ">\n",
    "> TEXT\n",
    "\n",
    "---"
   ]
  },
  {
   "cell_type": "markdown",
   "metadata": {},
   "source": [
    "## total_of_special_requests"
   ]
  },
  {
   "cell_type": "markdown",
   "metadata": {},
   "source": [
    "---\n",
    "\n",
    "**City**\n",
    "\n",
    "---"
   ]
  },
  {
   "cell_type": "code",
   "execution_count": null,
   "metadata": {
    "ExecuteTime": {
     "end_time": "2021-08-31T12:25:15.486718Z",
     "start_time": "2021-08-31T12:25:14.493269Z"
    }
   },
   "outputs": [],
   "source": [
    "## Reviewing details for resort - 'lead_time'\n",
    "eda.explore_feature(subgroup_resort,'lead_time',\n",
    "                    bins = 5,\n",
    "                    plot_type='histogram',\n",
    "                    marginal_x = 'box',\n",
    "                    width= 800, height=600,\n",
    "                    target_feature='reservation_status',\n",
    "                    plot_label ='Number of Days',\n",
    "                    plot_title= 'Lead Time (Days) - Resort');"
   ]
  },
  {
   "cell_type": "markdown",
   "metadata": {},
   "source": [
    "---\n",
    "\n",
    "**Resort**\n",
    "\n",
    "---"
   ]
  },
  {
   "cell_type": "code",
   "execution_count": null,
   "metadata": {},
   "outputs": [],
   "source": [
    "## Reviewing details for resort - 'lead_time'\n",
    "eda.explore_feature(subgroup_resort,'lead_time',\n",
    "                    bins = 5,\n",
    "                    plot_type='histogram',\n",
    "                    marginal_x = 'box',\n",
    "                    width= 800, height=600,\n",
    "                    target_feature='reservation_status',\n",
    "                    plot_label ='Number of Days',\n",
    "                    plot_title= 'Lead Time (Days) - Resort');"
   ]
  },
  {
   "cell_type": "markdown",
   "metadata": {},
   "source": [
    "### Review - `PLACEHOLDER`"
   ]
  },
  {
   "cell_type": "markdown",
   "metadata": {},
   "source": [
    "---\n",
    "\n",
    "> TEXT \n",
    ">\n",
    "> TEXT\n",
    "\n",
    "---"
   ]
  },
  {
   "cell_type": "markdown",
   "metadata": {},
   "source": [
    "## reservation_status_date"
   ]
  },
  {
   "cell_type": "markdown",
   "metadata": {},
   "source": [
    "---\n",
    "\n",
    "**City**\n",
    "\n",
    "---"
   ]
  },
  {
   "cell_type": "code",
   "execution_count": null,
   "metadata": {
    "ExecuteTime": {
     "end_time": "2021-08-31T12:25:15.486718Z",
     "start_time": "2021-08-31T12:25:14.493269Z"
    }
   },
   "outputs": [],
   "source": [
    "## Reviewing details for resort - 'lead_time'\n",
    "eda.explore_feature(subgroup_resort,'lead_time',\n",
    "                    bins = 5,\n",
    "                    plot_type='histogram',\n",
    "                    marginal_x = 'box',\n",
    "                    width= 800, height=600,\n",
    "                    target_feature='reservation_status',\n",
    "                    plot_label ='Number of Days',\n",
    "                    plot_title= 'Lead Time (Days) - Resort');"
   ]
  },
  {
   "cell_type": "markdown",
   "metadata": {},
   "source": [
    "---\n",
    "\n",
    "**Resort**\n",
    "\n",
    "---"
   ]
  },
  {
   "cell_type": "code",
   "execution_count": null,
   "metadata": {},
   "outputs": [],
   "source": [
    "## Reviewing details for resort - 'lead_time'\n",
    "eda.explore_feature(subgroup_resort,'lead_time',\n",
    "                    bins = 5,\n",
    "                    plot_type='histogram',\n",
    "                    marginal_x = 'box',\n",
    "                    width= 800, height=600,\n",
    "                    target_feature='reservation_status',\n",
    "                    plot_label ='Number of Days',\n",
    "                    plot_title= 'Lead Time (Days) - Resort');"
   ]
  },
  {
   "cell_type": "markdown",
   "metadata": {},
   "source": [
    "### Review - `PLACEHOLDER`"
   ]
  },
  {
   "cell_type": "markdown",
   "metadata": {},
   "source": [
    "---\n",
    "\n",
    "> TEXT \n",
    ">\n",
    "> TEXT\n",
    "\n",
    "---"
   ]
  },
  {
   "cell_type": "markdown",
   "metadata": {},
   "source": [
    "# 📅 **Setting Datetime Index**"
   ]
  },
  {
   "cell_type": "code",
   "execution_count": null,
   "metadata": {
    "ExecuteTime": {
     "end_time": "2021-08-31T12:25:15.923703Z",
     "start_time": "2021-08-31T12:25:15.662671Z"
    }
   },
   "outputs": [],
   "source": [
    "city_ts = subgroup_city.set_index('arrival_date')\n",
    "city_ts"
   ]
  },
  {
   "cell_type": "code",
   "execution_count": null,
   "metadata": {},
   "outputs": [],
   "source": []
  },
  {
   "cell_type": "code",
   "execution_count": null,
   "metadata": {
    "ExecuteTime": {
     "end_time": "2021-08-31T12:25:16.127653Z",
     "start_time": "2021-08-31T12:25:15.925700Z"
    }
   },
   "outputs": [],
   "source": [
    "resort_ts = subgroup_resort.set_index('arrival_date')\n",
    "resort_ts"
   ]
  },
  {
   "cell_type": "code",
   "execution_count": null,
   "metadata": {},
   "outputs": [],
   "source": []
  }
 ],
 "metadata": {
  "interpreter": {
   "hash": "980eb18a21052b9c17debf7b5e50bde2e676226d1d1b2f7e2a15b0c620c5c0ea"
  },
  "kernelspec": {
   "display_name": "learn-env",
   "language": "python",
   "name": "learn-env"
  },
  "language_info": {
   "codemirror_mode": {
    "name": "ipython",
    "version": 3
   },
   "file_extension": ".py",
   "mimetype": "text/x-python",
   "name": "python",
   "nbconvert_exporter": "python",
   "pygments_lexer": "ipython3",
   "version": "3.6.9"
  },
  "toc": {
   "base_numbering": 1,
   "nav_menu": {},
   "number_sections": true,
   "sideBar": true,
   "skip_h1_title": false,
   "title_cell": "Table of Contents",
   "title_sidebar": "Contents",
   "toc_cell": false,
   "toc_position": {
    "height": "calc(100% - 180px)",
    "left": "10px",
    "top": "150px",
    "width": "246.1px"
   },
   "toc_section_display": true,
   "toc_window_display": true
  }
 },
 "nbformat": 4,
 "nbformat_minor": 2
}
