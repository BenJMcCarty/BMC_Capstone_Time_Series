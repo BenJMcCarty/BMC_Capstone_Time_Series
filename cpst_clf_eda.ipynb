{
 "cells": [
  {
   "cell_type": "markdown",
   "metadata": {},
   "source": [
    "# ❌ **Cancel Culture** ❌ - **EDA Notebook**"
   ]
  },
  {
   "cell_type": "markdown",
   "metadata": {},
   "source": [
    "---\n",
    "\n",
    "**Author:** Ben McCarty\n",
    "\n",
    "**Capstone Project** - Classification, Time Series Modeling\n",
    "\n",
    "**Contact:** bmccarty505@gmail.com\n",
    "\n",
    "---"
   ]
  },
  {
   "cell_type": "markdown",
   "metadata": {},
   "source": [
    "---\n",
    "\n",
    "**Who?**\n",
    ">* 🏢 **Revenue Management (RM) teams** for hotel groups (corporate, franchise)\n",
    ">\n",
    ">\n",
    ">* 🏨 On-site GMs, Sales, and Ops teams\n",
    "\n",
    "---\n",
    "\n",
    "**Why?**\n",
    ">* 💰 **Revenue Management:** \n",
    ">  * Revenue optimization: Right price, right time, right customer\n",
    ">    * Dynamic pricing\n",
    ">    * Distribution channels\n",
    ">    * Pricing per room type\n",
    ">\n",
    ">\n",
    ">* 🤝 **Sales:**\n",
    ">  * Group sales (pickup/wash)\n",
    ">  * BT (performance/company for both GPP and LNR rates)\n",
    ">\n",
    ">\n",
    ">* 🛌 **Rooms Ops:**\n",
    ">  * Forecasting occupancy, arrivals, departures, stay-overs, same-day booking demand, and probability of guest relocation in the case of oversell.\n",
    ">  * Determining staff schedules and periods of high demand\n",
    ">\n",
    ">\n",
    ">* 🍰 ☕ **Food and Beverage:**\n",
    ">  * Ordering food/supplies overall\n",
    ">  * Scheduling staff\n",
    ">  * Determining busy times (breakfast, lunch, dinner)\n",
    ">    * Staffing, specific food/supplies\n",
    "\n",
    "---\n",
    "\n",
    "**What?**\n",
    ">* 🧾 Dataset comprised of... \n",
    ">  * 32 different features\n",
    ">    * Detailed explanation of features (and sub-categories, when appropriate) available in Readme\n",
    ">  * Nearly 120,000 reservation records\n",
    ">  * Source cited in Readme\n",
    "\n",
    "---\n",
    "\n",
    " **How?**\n",
    ">* Which models/methods?\n",
    ">  * 🔢 Classifiers 🌳\n",
    "    * XGBoost, RFC, ABC, etc.\n",
    ">  * ⏳ Time Series Analysis 📈\n",
    "    * PMD auto-arima\n",
    "    * Statsmodels vector autoregression\n",
    ">\n",
    ">\n",
    ">* Data prep and feature engineering\n",
    "\n",
    "---"
   ]
  },
  {
   "cell_type": "markdown",
   "metadata": {},
   "source": [
    "---\n",
    "\n",
    "> **Goal:** To prepare data for classification modeling in next notebook.\n",
    ">\n",
    ">\n",
    "> **Purpose:** to explore, clean, and organize.\n",
    ">\n",
    ">\n",
    "> **Process:**\n",
    ">\n",
    ">    * Inspecting data integrity and statistics\n",
    ">    * Splitting data by hotel type (\"City\" vs. \"Resort\")\n",
    ">    * Filling any missing values\n",
    ">    * Save processed data for modeling notebook\n",
    ">\n",
    ">\n",
    "> **Modeling Notebook:**\n",
    ">\n",
    ">    * Performing train/test split\n",
    ">    * Training the model\n",
    ">    * Evaluate performance metrics\n",
    ">    * Provide final recommendations\n",
    "\n",
    "---"
   ]
  },
  {
   "cell_type": "markdown",
   "metadata": {},
   "source": [
    "# 📦 **Import Packages**"
   ]
  },
  {
   "cell_type": "code",
   "execution_count": null,
   "metadata": {
    "ExecuteTime": {
     "end_time": "2021-09-02T23:35:06.373872Z",
     "start_time": "2021-09-02T23:35:02.868876Z"
    }
   },
   "outputs": [],
   "source": [
    "## Data Handling\n",
    "import pandas as pd\n",
    "import numpy as np\n",
    "from scipy import stats\n",
    "\n",
    "## Visualizations\n",
    "import matplotlib.pyplot as plt\n",
    "import seaborn as sns\n",
    "import plotly.express as px\n",
    "\n",
    "## Custom-made Functions\n",
    "from bmc_functions import eda"
   ]
  },
  {
   "cell_type": "code",
   "execution_count": null,
   "metadata": {
    "ExecuteTime": {
     "end_time": "2021-09-02T23:35:06.388872Z",
     "start_time": "2021-09-02T23:35:06.375875Z"
    }
   },
   "outputs": [],
   "source": [
    "## Settings\n",
    "pd.set_option('display.max_columns', None)\n",
    "pd.set_option('display.float_format', lambda x: f'{x:,.2f}')\n",
    "pd.set_option('max_rows', 50)\n",
    "%matplotlib inline"
   ]
  },
  {
   "cell_type": "code",
   "execution_count": null,
   "metadata": {
    "ExecuteTime": {
     "end_time": "2021-09-02T23:35:06.515124Z",
     "start_time": "2021-09-02T23:35:06.390889Z"
    }
   },
   "outputs": [],
   "source": [
    "%load_ext autoreload\n",
    "%autoreload 2"
   ]
  },
  {
   "cell_type": "markdown",
   "metadata": {},
   "source": [
    "# 📥 **Read Data**"
   ]
  },
  {
   "cell_type": "code",
   "execution_count": null,
   "metadata": {
    "ExecuteTime": {
     "end_time": "2021-09-02T23:35:06.999105Z",
     "start_time": "2021-09-02T23:35:06.518075Z"
    }
   },
   "outputs": [],
   "source": [
    "## Reading data\n",
    "source = './data/hotel_bookings.csv'\n",
    "data = pd.read_csv(source)\n",
    "data"
   ]
  },
  {
   "cell_type": "code",
   "execution_count": null,
   "metadata": {
    "ExecuteTime": {
     "end_time": "2021-09-02T23:35:07.171104Z",
     "start_time": "2021-09-02T23:35:07.001081Z"
    },
    "scrolled": true
   },
   "outputs": [],
   "source": [
    "## Inspecting percentage of city vs. resort hotels\n",
    "data['hotel'].value_counts(1)"
   ]
  },
  {
   "cell_type": "markdown",
   "metadata": {},
   "source": [
    "# 🎯 **Identifying Target Feature** 🎯"
   ]
  },
  {
   "cell_type": "markdown",
   "metadata": {},
   "source": [
    "---\n",
    "\n",
    "> For my classification analysis, **I will use the `is_canceled` feature as my target feature.** This feature indicates whether a reservation was canceled (0 = check-out, 1= canceled).\n",
    ">\n",
    "> There is another feature, `reservation_status`, that also looks valuable. I will compare that feature against `is_canceled` to investigate any differences between the two.\n",
    "\n",
    "---"
   ]
  },
  {
   "cell_type": "markdown",
   "metadata": {},
   "source": [
    "# 🪓 **Splitting \"City\" and \"Resort\"**"
   ]
  },
  {
   "cell_type": "code",
   "execution_count": null,
   "metadata": {
    "ExecuteTime": {
     "end_time": "2021-09-02T23:35:07.359103Z",
     "start_time": "2021-09-02T23:35:07.173068Z"
    }
   },
   "outputs": [],
   "source": [
    "## Creating subgroup for city hotels\n",
    "subgroup_city = data[data['hotel'] == 'City Hotel']\n",
    "subgroup_city.drop(columns='hotel', inplace=True)\n",
    "subgroup_city"
   ]
  },
  {
   "cell_type": "code",
   "execution_count": null,
   "metadata": {
    "ExecuteTime": {
     "end_time": "2021-09-02T23:35:07.546070Z",
     "start_time": "2021-09-02T23:35:07.361070Z"
    },
    "scrolled": true
   },
   "outputs": [],
   "source": [
    "## Creating subgroup for resort hotels\n",
    "subgroup_resort = data[data['hotel'] == 'Resort Hotel']\n",
    "subgroup_resort.drop(columns='hotel', inplace=True)\n",
    "subgroup_resort"
   ]
  },
  {
   "cell_type": "code",
   "execution_count": null,
   "metadata": {
    "ExecuteTime": {
     "end_time": "2021-09-02T23:35:07.671191Z",
     "start_time": "2021-09-02T23:35:07.549069Z"
    }
   },
   "outputs": [],
   "source": [
    "## Deleting the original variable to free up memory\n",
    "del data"
   ]
  },
  {
   "cell_type": "markdown",
   "metadata": {},
   "source": [
    "# 📊 **Reviewing Statistics**"
   ]
  },
  {
   "cell_type": "markdown",
   "metadata": {},
   "source": [
    "---\n",
    "\n",
    "**`Report_df()`: City**\n",
    "\n",
    "---"
   ]
  },
  {
   "cell_type": "code",
   "execution_count": null,
   "metadata": {
    "ExecuteTime": {
     "end_time": "2021-09-02T23:35:08.029069Z",
     "start_time": "2021-09-02T23:35:07.673069Z"
    }
   },
   "outputs": [],
   "source": [
    "## Sorting report by number of missing values\n",
    "eda.report_df(subgroup_city).sort_values('null_sum', ascending=False)"
   ]
  },
  {
   "cell_type": "markdown",
   "metadata": {},
   "source": [
    "---\n",
    "\n",
    "**`Report_df()`: Resort**\n",
    "\n",
    "---"
   ]
  },
  {
   "cell_type": "code",
   "execution_count": null,
   "metadata": {
    "ExecuteTime": {
     "end_time": "2021-09-02T23:35:08.311105Z",
     "start_time": "2021-09-02T23:35:08.031074Z"
    }
   },
   "outputs": [],
   "source": [
    "## Selecting report values for columns with missing values \n",
    "eda.report_df(subgroup_resort).sort_values('null_sum', ascending=False)"
   ]
  },
  {
   "cell_type": "markdown",
   "metadata": {},
   "source": [
    "---\n",
    "\n",
    "**Reviewing Reports - Missing Values**\n",
    "\n",
    "> Based on the post-split results, I see that both dataframes are missing values for `company,` `agent`, and `country`. Additionally, the `subgroup_city` dataframe is missing four values for `children`.\n",
    ">\n",
    "> **Special note:** As noted in the data's documentation ( located in *\"details.md\"*), any missing values are intentional representations of features that were not applicable to a reservation.\n",
    "---\n",
    "\n",
    "**`Company` and `Agent` Features**\n",
    "\n",
    "> *Missing in `subgroup_city`:*\n",
    "* `company:` 95%\n",
    "* `agent:` 10%\n",
    ">\n",
    "> *Missing in `subgroup_resort`:*\n",
    "* `company:`\" 92%\n",
    "* `agent:` 20%\n",
    ">\n",
    "> Due to the large number of missing values for `company`, **I will drop `company` from both dataframes.**\n",
    ">\n",
    "> Since the missing values for `agent` are valid, **I will keep `agent` and fill the missing values with a value to represent the lack of a value.** I will fill the missing values in the next section.\n",
    "\n",
    "**`Country` and `Children` Features**\n",
    "\n",
    "> The remaining two features with missing values are `country` and `children`.\n",
    ">\n",
    "> **As there are a small number of missing values in both dataframes' features, I will keep both features and fill the missing values with the most frequent values.** As there are so few missing values, my method for filling these missing values has a negligible impact on the final results.\n",
    ">\n",
    "> \n",
    "\n",
    "---"
   ]
  },
  {
   "cell_type": "markdown",
   "metadata": {},
   "source": [
    "## Dropping `Company` Column"
   ]
  },
  {
   "cell_type": "code",
   "execution_count": null,
   "metadata": {
    "ExecuteTime": {
     "end_time": "2021-09-02T23:35:08.467072Z",
     "start_time": "2021-09-02T23:35:08.313073Z"
    }
   },
   "outputs": [],
   "source": [
    "# Dropping \"company\" column (95% missing values)\n",
    "subgroup_city.drop(columns = ['company'], inplace=True)\n",
    "subgroup_city"
   ]
  },
  {
   "cell_type": "code",
   "execution_count": null,
   "metadata": {
    "ExecuteTime": {
     "end_time": "2021-09-02T23:35:08.621106Z",
     "start_time": "2021-09-02T23:35:08.469070Z"
    },
    "scrolled": false
   },
   "outputs": [],
   "source": [
    "# Dropping \"company\" column (95% missing values)\n",
    "subgroup_resort.drop(columns = ['company'], inplace=True)\n",
    "subgroup_resort"
   ]
  },
  {
   "cell_type": "code",
   "execution_count": null,
   "metadata": {
    "ExecuteTime": {
     "end_time": "2021-09-02T23:35:08.745105Z",
     "start_time": "2021-09-02T23:35:08.623071Z"
    }
   },
   "outputs": [],
   "source": [
    "## Confirming 'company' removal from both\n",
    "'company' not in subgroup_city and 'company' not in subgroup_resort"
   ]
  },
  {
   "cell_type": "markdown",
   "metadata": {},
   "source": [
    "## Filling missing values in `agent`"
   ]
  },
  {
   "cell_type": "code",
   "execution_count": null,
   "metadata": {
    "ExecuteTime": {
     "end_time": "2021-09-02T23:35:08.870099Z",
     "start_time": "2021-09-02T23:35:08.747072Z"
    }
   },
   "outputs": [],
   "source": [
    "## Identifying unique vales for both sub-groups\n",
    "\n",
    "unique_values = set()\n",
    "for value in subgroup_city['agent'].unique():\n",
    "    unique_values.add(value)\n",
    "    \n",
    "for value in subgroup_resort['agent'].unique():\n",
    "    unique_values.add(value)"
   ]
  },
  {
   "cell_type": "code",
   "execution_count": null,
   "metadata": {
    "ExecuteTime": {
     "end_time": "2021-09-02T23:35:08.979106Z",
     "start_time": "2021-09-02T23:35:08.872072Z"
    },
    "code_folding": []
   },
   "outputs": [],
   "source": [
    "## Confirming uniform datatype\n",
    "unique_dtype = set()\n",
    "for item in unique_values:\n",
    "    unique_dtype.add(type(item))\n",
    "    \n",
    "unique_dtype"
   ]
  },
  {
   "cell_type": "code",
   "execution_count": null,
   "metadata": {
    "ExecuteTime": {
     "end_time": "2021-09-02T23:35:09.091088Z",
     "start_time": "2021-09-02T23:35:08.981071Z"
    }
   },
   "outputs": [],
   "source": [
    "## Testing placeholder value to fill missing values\n",
    "999.0 in unique_values"
   ]
  },
  {
   "cell_type": "code",
   "execution_count": null,
   "metadata": {
    "ExecuteTime": {
     "end_time": "2021-09-02T23:35:09.230072Z",
     "start_time": "2021-09-02T23:35:09.094075Z"
    },
    "scrolled": true
   },
   "outputs": [],
   "source": [
    "## Filling missing values and confirming no remaining values\n",
    "\n",
    "for df in [subgroup_city,subgroup_resort]:\n",
    "    df.loc[:,'agent'].fillna(999.0, inplace=True)\n",
    "    print(df['agent'].isna().sum())\n",
    "    del df"
   ]
  },
  {
   "cell_type": "markdown",
   "metadata": {},
   "source": [
    "## Filling Remaining Missing Values"
   ]
  },
  {
   "cell_type": "code",
   "execution_count": null,
   "metadata": {
    "ExecuteTime": {
     "end_time": "2021-09-02T23:35:09.510071Z",
     "start_time": "2021-09-02T23:35:09.232071Z"
    }
   },
   "outputs": [],
   "source": [
    "## Inspecting remaining missing values\n",
    "display(subgroup_city.isna().sum()[subgroup_city.isna().sum() >0])\n",
    "display(subgroup_resort.isna().sum()[subgroup_resort.isna().sum() >0])"
   ]
  },
  {
   "cell_type": "code",
   "execution_count": null,
   "metadata": {
    "ExecuteTime": {
     "end_time": "2021-09-02T23:35:09.635223Z",
     "start_time": "2021-09-02T23:35:09.512086Z"
    }
   },
   "outputs": [],
   "source": [
    "## Determining most frequent value for subgroup_city\n",
    "city_child = subgroup_city['children'].mode()[0]\n",
    "city_country = subgroup_city['country'].mode()[0]\n",
    "\n",
    "print(f'Most frequent value (children): {city_child}.')\n",
    "print(f'Most frequent value (country): {city_country}.')"
   ]
  },
  {
   "cell_type": "code",
   "execution_count": null,
   "metadata": {
    "ExecuteTime": {
     "end_time": "2021-09-02T23:35:09.761072Z",
     "start_time": "2021-09-02T23:35:09.637072Z"
    }
   },
   "outputs": [],
   "source": [
    "## Replacing missing values for 'children'\n",
    "subgroup_city.loc[:,'children'].fillna(city_child,inplace=True)"
   ]
  },
  {
   "cell_type": "code",
   "execution_count": null,
   "metadata": {
    "ExecuteTime": {
     "end_time": "2021-09-02T23:35:09.885107Z",
     "start_time": "2021-09-02T23:35:09.763074Z"
    }
   },
   "outputs": [],
   "source": [
    "## Replacing missing values for 'country\n",
    "subgroup_city.loc[:,'country'].fillna(city_country,inplace=True)"
   ]
  },
  {
   "cell_type": "code",
   "execution_count": null,
   "metadata": {
    "ExecuteTime": {
     "end_time": "2021-09-02T23:35:10.041105Z",
     "start_time": "2021-09-02T23:35:09.887072Z"
    }
   },
   "outputs": [],
   "source": [
    "## Confirming filled missing values\n",
    "subgroup_city.isna().sum()"
   ]
  },
  {
   "cell_type": "code",
   "execution_count": null,
   "metadata": {
    "ExecuteTime": {
     "end_time": "2021-09-02T23:35:10.151075Z",
     "start_time": "2021-09-02T23:35:10.045106Z"
    }
   },
   "outputs": [],
   "source": [
    "resort_country = subgroup_resort['country'].mode()[0]"
   ]
  },
  {
   "cell_type": "code",
   "execution_count": null,
   "metadata": {
    "ExecuteTime": {
     "end_time": "2021-09-02T23:35:10.261101Z",
     "start_time": "2021-09-02T23:35:10.154073Z"
    }
   },
   "outputs": [],
   "source": [
    "## Filling missing value for resort - 'country'\n",
    "subgroup_resort.loc[:,'country'].fillna(resort_country,inplace=True)"
   ]
  },
  {
   "cell_type": "code",
   "execution_count": null,
   "metadata": {
    "ExecuteTime": {
     "end_time": "2021-09-02T23:35:10.403105Z",
     "start_time": "2021-09-02T23:35:10.263086Z"
    }
   },
   "outputs": [],
   "source": [
    "## Confirming no missing values\n",
    "subgroup_resort.isna().sum()"
   ]
  },
  {
   "cell_type": "markdown",
   "metadata": {},
   "source": [
    "# 🔬 **Inspecting Feature Data Types**"
   ]
  },
  {
   "cell_type": "markdown",
   "metadata": {},
   "source": [
    "---\n",
    "\n",
    "**City**\n",
    "\n",
    "---"
   ]
  },
  {
   "cell_type": "code",
   "execution_count": null,
   "metadata": {
    "ExecuteTime": {
     "end_time": "2021-09-02T23:35:10.526073Z",
     "start_time": "2021-09-02T23:35:10.405074Z"
    },
    "scrolled": false
   },
   "outputs": [],
   "source": [
    "## Inspecting dataypes for \"subgroup_city\"\n",
    "subgroup_city.dtypes.sort_values()"
   ]
  },
  {
   "cell_type": "markdown",
   "metadata": {},
   "source": [
    "---\n",
    "\n",
    "**Resort**\n",
    "\n",
    "---"
   ]
  },
  {
   "cell_type": "code",
   "execution_count": null,
   "metadata": {
    "ExecuteTime": {
     "end_time": "2021-09-02T23:35:10.665074Z",
     "start_time": "2021-09-02T23:35:10.528075Z"
    }
   },
   "outputs": [],
   "source": [
    "subgroup_resort.dtypes.sort_values()"
   ]
  },
  {
   "cell_type": "code",
   "execution_count": null,
   "metadata": {
    "ExecuteTime": {
     "end_time": "2021-09-02T23:35:10.791108Z",
     "start_time": "2021-09-02T23:35:10.668076Z"
    },
    "scrolled": false
   },
   "outputs": [],
   "source": [
    "## Confirming all datatypes match between dataframes\n",
    "subgroup_city.dtypes.sort_values() == subgroup_resort.dtypes.sort_values()"
   ]
  },
  {
   "cell_type": "markdown",
   "metadata": {},
   "source": [
    "---\n",
    "\n",
    "**Review - Datatypes**\n",
    "\n",
    "> After reviewing the data types, I noticed **`agent` need to be changed to the string type and `reservation_status_date` needs to be converted to the date time type**. This feature represents unique identifiers for booking agents and need to be treated as categorical data.\n",
    ">\n",
    "> As both dataframes' data types are the same, I do not need to make any other adjustments specific to either dataframe.\n",
    "\n",
    "---"
   ]
  },
  {
   "cell_type": "markdown",
   "metadata": {},
   "source": [
    "## Converting to Strings"
   ]
  },
  {
   "cell_type": "code",
   "execution_count": null,
   "metadata": {
    "ExecuteTime": {
     "end_time": "2021-09-02T23:35:10.993080Z",
     "start_time": "2021-09-02T23:35:10.793074Z"
    },
    "scrolled": true
   },
   "outputs": [],
   "source": [
    "## Converting \"agent\" to string for both sub-groups\n",
    "\n",
    "for df in [subgroup_city, subgroup_resort]:\n",
    "    df.loc[:,'agent'] = df['agent'].astype(int)\n",
    "    df.loc[:,'agent'] = df['agent'].astype(str)\n",
    "    print(f'Datatype: {df[\"agent\"].dtype}')\n",
    "    del df"
   ]
  },
  {
   "cell_type": "markdown",
   "metadata": {},
   "source": [
    "## Converting to DateTime"
   ]
  },
  {
   "cell_type": "code",
   "execution_count": null,
   "metadata": {
    "ExecuteTime": {
     "end_time": "2021-09-02T23:35:11.242849Z",
     "start_time": "2021-09-02T23:35:10.995073Z"
    }
   },
   "outputs": [],
   "source": [
    "for df in [subgroup_city, subgroup_resort]:\n",
    "    df['reservation_status_date'] = pd.to_datetime(df['reservation_status_date'])\n",
    "#     df.loc[:,'agent'] = df['agent'].astype(str)\n",
    "    print(f'Datatype: {df[\"reservation_status_date\"].dtype}')\n",
    "    del df"
   ]
  },
  {
   "cell_type": "markdown",
   "metadata": {},
   "source": [
    "# 🔎 **EDA - Features**"
   ]
  },
  {
   "cell_type": "markdown",
   "metadata": {},
   "source": [
    "---\n",
    "\n",
    "**In-Depth EDA per Feature**\n",
    "\n",
    "> Now that I reviewed my missing values and confirmed my datatypes, I will inspect the details of each of my features.\n",
    "\n",
    "---\n",
    "**Note:**\n",
    "\n",
    "> DataFrame styling code used in `explore_feature()` function adapted from this [source](https://stackoverflow.com/questions/59769161/python-color-pandas-dataframe-based-on-multiindex#:~:text=2-,You,-can%20use%20Styler).\n",
    "\n",
    "---"
   ]
  },
  {
   "cell_type": "markdown",
   "metadata": {},
   "source": [
    "## 📊 **Toggle Visualizations**"
   ]
  },
  {
   "cell_type": "code",
   "execution_count": null,
   "metadata": {
    "ExecuteTime": {
     "end_time": "2021-09-02T23:35:11.353368Z",
     "start_time": "2021-09-02T23:35:11.244617Z"
    }
   },
   "outputs": [],
   "source": [
    "## Boolean setting to control whether to show the EDA visualizations\n",
    "show_visualization = False"
   ]
  },
  {
   "cell_type": "markdown",
   "metadata": {},
   "source": [
    "## `Reservation_Status`"
   ]
  },
  {
   "cell_type": "markdown",
   "metadata": {},
   "source": [
    "---\n",
    "\n",
    "**City**\n",
    "\n",
    "---"
   ]
  },
  {
   "cell_type": "code",
   "execution_count": null,
   "metadata": {
    "ExecuteTime": {
     "end_time": "2021-09-02T23:35:11.573164Z",
     "start_time": "2021-09-02T23:35:11.355133Z"
    }
   },
   "outputs": [],
   "source": [
    "## Reviewing details for city - reservation_status\n",
    "eda.explore_feature(subgroup_city,'reservation_status',\n",
    "                    target_feature='is_canceled',\n",
    "                    plot_label ='Status',\n",
    "                    plot_title= 'Reservation Status - Resort',\n",
    "                    show_visualization = show_visualization);"
   ]
  },
  {
   "cell_type": "markdown",
   "metadata": {},
   "source": [
    "---\n",
    "\n",
    "**Resort**\n",
    "\n",
    "---"
   ]
  },
  {
   "cell_type": "code",
   "execution_count": null,
   "metadata": {
    "ExecuteTime": {
     "end_time": "2021-09-02T23:35:11.744164Z",
     "start_time": "2021-09-02T23:35:11.575134Z"
    }
   },
   "outputs": [],
   "source": [
    "## Reviewing details for resoty - reservation_status\n",
    "eda.explore_feature(subgroup_resort,'reservation_status',\n",
    "                    target_feature='is_canceled',\n",
    "                    plot_label ='Status',\n",
    "                    plot_title= 'Reservation Status - Resort',\n",
    "                    show_visualization = show_visualization);"
   ]
  },
  {
   "cell_type": "markdown",
   "metadata": {},
   "source": [
    "---\n",
    "\n",
    "**Review** - `Reservation_Status`\n",
    "\n",
    "---"
   ]
  },
  {
   "cell_type": "markdown",
   "metadata": {},
   "source": [
    "---\n",
    "\n",
    "**Feature Review**\n",
    "\n",
    "> `Reservation_status` closely mirrors the values for my target feature, with some slight differences due to \"no-show\" values. **To prepare it for modeling, I will combine the `No-Show` status and `Canceled` values.**\n",
    "\n",
    "**Actions**\n",
    "\n",
    ">For the purposes of my analysis, **I will treat `No-Show` reservations as `Canceled` reservations** due to their limited number preventing me from effectively using it as a third class.\n",
    "\n",
    "**City vs. Resort**\n",
    "\n",
    "> The most notable difference between the city and resort hotels would be the number of cancellations: *The city hotel shows a much larger proportion of canceled reservations vs. the resort hotel.* \n",
    "* This may be due to a variety of factors, including resort guests booking when they are more certain of their plans or the resort hotel may charge a cancellation fee.\n",
    ">\n",
    "> No-Show reservations are low for both hotels, supporting my decision to merge no-shows with cancellations. \n",
    "\n",
    "---"
   ]
  },
  {
   "cell_type": "markdown",
   "metadata": {},
   "source": [
    "## `Is_Canceled`"
   ]
  },
  {
   "cell_type": "markdown",
   "metadata": {},
   "source": [
    "---\n",
    "\n",
    "**City**\n",
    "\n",
    "---"
   ]
  },
  {
   "cell_type": "code",
   "execution_count": null,
   "metadata": {
    "ExecuteTime": {
     "end_time": "2021-09-02T23:35:11.916164Z",
     "start_time": "2021-09-02T23:35:11.747132Z"
    },
    "scrolled": false
   },
   "outputs": [],
   "source": [
    "## Reviewing details for city - 'is_canceled'\n",
    "eda.explore_feature(subgroup_city,'is_canceled', \n",
    "                    target_feature='is_canceled',\n",
    "                    normalize=False,\n",
    "                    plot_label ='Cancellation Status',\n",
    "                    plot_title= 'Reservation Status - City',\n",
    "                    show_visualization = show_visualization);"
   ]
  },
  {
   "cell_type": "markdown",
   "metadata": {},
   "source": [
    "---\n",
    "\n",
    "**Resort**\n",
    "\n",
    "---"
   ]
  },
  {
   "cell_type": "code",
   "execution_count": null,
   "metadata": {
    "ExecuteTime": {
     "end_time": "2021-09-02T23:35:12.086162Z",
     "start_time": "2021-09-02T23:35:11.918141Z"
    },
    "scrolled": false
   },
   "outputs": [],
   "source": [
    "## Reviewing details for resort - 'is_canceled'\n",
    "eda.explore_feature(subgroup_resort,'is_canceled', \n",
    "                    target_feature='is_canceled',\n",
    "                    normalize=False,\n",
    "                    plot_label ='Cancellation Status',\n",
    "                    plot_title= 'Reservation Status - Resort',\n",
    "                    show_visualization = show_visualization);"
   ]
  },
  {
   "cell_type": "markdown",
   "metadata": {},
   "source": [
    "---\n",
    "\n",
    "**Review** - `Is_Canceled`\n",
    "\n",
    "---"
   ]
  },
  {
   "cell_type": "markdown",
   "metadata": {},
   "source": [
    "---\n",
    "\n",
    "**Feature Review**\n",
    "\n",
    "> After reviewing the results post-\"no-show\" conversion, `Is_canceled` is a binarization of the `reservation_status`. Reservations are indicated as cancellations if they either cancel or are marked as a \"no-show\" reservation.\n",
    "\n",
    "**Actions**\n",
    "\n",
    "> This feature is a better target feature as the values are already binarized and match the `reservation_status` feature for all of the reservations.\n",
    ">\n",
    "> **I will use `is_canceled` in place of the `reservation_status` feature as my target feature.**\n",
    "\n",
    "**City vs. Resort**\n",
    "\n",
    "> The breakdown between hotels is the same as `reservation_status` and confirms that the resort hotel experiences fewer cancellations vs. the city hotel.\n",
    "\n",
    "---"
   ]
  },
  {
   "cell_type": "markdown",
   "metadata": {},
   "source": [
    "## `Lead_Time`"
   ]
  },
  {
   "cell_type": "markdown",
   "metadata": {},
   "source": [
    "---\n",
    "\n",
    "**City**\n",
    "\n",
    "---"
   ]
  },
  {
   "cell_type": "code",
   "execution_count": null,
   "metadata": {
    "ExecuteTime": {
     "end_time": "2021-09-02T23:35:12.287163Z",
     "start_time": "2021-09-02T23:35:12.088131Z"
    },
    "scrolled": false
   },
   "outputs": [],
   "source": [
    "## Reviewing details for city - 'lead_time'\n",
    "eda.explore_feature(subgroup_city,'lead_time',bins = 5, marginal = 'box',\n",
    "                    target_feature='is_canceled',plot_label ='Number of Days',\n",
    "                    plot_title= 'Lead Time (Days) - City',\n",
    "                    show_visualization = show_visualization);"
   ]
  },
  {
   "cell_type": "markdown",
   "metadata": {},
   "source": [
    "---\n",
    "\n",
    "**Resort**\n",
    "\n",
    "---"
   ]
  },
  {
   "cell_type": "code",
   "execution_count": null,
   "metadata": {
    "ExecuteTime": {
     "end_time": "2021-09-02T23:35:12.456169Z",
     "start_time": "2021-09-02T23:35:12.289144Z"
    }
   },
   "outputs": [],
   "source": [
    "## Reviewing details for resort - 'lead_time'\n",
    "eda.explore_feature(subgroup_resort,'lead_time',bins = 5,marginal= 'box',\n",
    "                    target_feature='is_canceled',plot_label ='Number of Days',\n",
    "                    plot_title= 'Lead Time (Days) - Resort',\n",
    "                    show_visualization = show_visualization);"
   ]
  },
  {
   "cell_type": "markdown",
   "metadata": {},
   "source": [
    "---\n",
    "\n",
    "**Review** - `PLACEHOLDER`\n",
    "\n",
    "---"
   ]
  },
  {
   "cell_type": "markdown",
   "metadata": {},
   "source": [
    "---\n",
    "\n",
    "**Feature Review**\n",
    "\n",
    "> `Lead_Time` indicates how far in advance reservations are booked in days. *This information is particularly useful in hospitality for Revenue Management (RM) and Operations (Ops).*\n",
    ">\n",
    ">  * RM needs to know **when to expect bookings** and **when to monitor rates and availability** closely to make any necessary changes to optimize revenue.\n",
    ">\n",
    ">\n",
    ">  * Ops uses this information to **forecast how many reservations will book in a short-term booking window** (I usually focused on 0-3 days prior to arrival).\n",
    ">\n",
    "> * **This forecast is critical to determine staffing and supplies in particular** - when building our schedules, we consider the current number of booked reservations and the forecasted bookings to determine how many staff members to schedule and if we have enough supplies, etc..\n",
    ">  * *Being the only staff member at the Front Desk during a rush of arrivals due to a snow storm is NOT fun!*\n",
    "\n",
    "**Actions**\n",
    "\n",
    "> I noticed there are a significant number of outliers for both properties. **I will remove the outliers based on the z-score percentiles prior to modeling.**\n",
    "\n",
    "**City vs. Resort**\n",
    "\n",
    "> The histograms and box plots for both hotels match up closely, but it is clear that **the city hotel has a larger range of lead times for cancellations vs. the resort hotel.**\n",
    "\n",
    "---"
   ]
  },
  {
   "cell_type": "markdown",
   "metadata": {},
   "source": [
    "## `Arrival_Date_Year`"
   ]
  },
  {
   "cell_type": "markdown",
   "metadata": {},
   "source": [
    "---\n",
    "\n",
    "**City**\n",
    "\n",
    "---"
   ]
  },
  {
   "cell_type": "code",
   "execution_count": null,
   "metadata": {
    "ExecuteTime": {
     "end_time": "2021-09-02T23:35:12.625132Z",
     "start_time": "2021-09-02T23:35:12.458130Z"
    },
    "scrolled": false
   },
   "outputs": [],
   "source": [
    "## Reviewing details for city - 'arrival_date_year'\n",
    "eda.explore_feature(subgroup_city,'arrival_date_year',marginal = 'box',\n",
    "                    target_feature='is_canceled',plot_label ='Year',\n",
    "                    plot_title= 'Arrival Date (Year) - City',\n",
    "                    show_visualization = show_visualization);"
   ]
  },
  {
   "cell_type": "markdown",
   "metadata": {},
   "source": [
    "---\n",
    "\n",
    "**Resort**\n",
    "\n",
    "---"
   ]
  },
  {
   "cell_type": "code",
   "execution_count": null,
   "metadata": {
    "ExecuteTime": {
     "end_time": "2021-09-02T23:35:12.796133Z",
     "start_time": "2021-09-02T23:35:12.628131Z"
    },
    "scrolled": false
   },
   "outputs": [],
   "source": [
    "## Reviewing details for resort - 'arrival_date_year'\n",
    "eda.explore_feature(subgroup_resort,'arrival_date_year',marginal = 'box',\n",
    "                    target_feature='is_canceled',plot_label ='Year',\n",
    "                    plot_title= 'Arrival Date (Year) - Resort',\n",
    "                    show_visualization = show_visualization);"
   ]
  },
  {
   "cell_type": "markdown",
   "metadata": {},
   "source": [
    "---\n",
    "\n",
    "**Feature Review**\n",
    "\n",
    "> PLACEHOLDER \n",
    "\n",
    "**Actions**\n",
    "\n",
    "> PLACEHOLDER\n",
    "\n",
    "**City vs. Resort**\n",
    "\n",
    "> PLACEHOLDER\n",
    "\n",
    "---"
   ]
  },
  {
   "cell_type": "markdown",
   "metadata": {},
   "source": [
    "## `Stays_in_Weekend_Nights`"
   ]
  },
  {
   "cell_type": "markdown",
   "metadata": {},
   "source": [
    "---\n",
    "\n",
    "**City**\n",
    "\n",
    "---"
   ]
  },
  {
   "cell_type": "code",
   "execution_count": null,
   "metadata": {
    "ExecuteTime": {
     "end_time": "2021-09-02T23:35:13.000132Z",
     "start_time": "2021-09-02T23:35:12.798134Z"
    }
   },
   "outputs": [],
   "source": [
    "## Reviewing details for city - 'stays_in_weekend_nights'\n",
    "eda.explore_feature(subgroup_city,'stays_in_weekend_nights',bins = 5,\n",
    "                    marginal = 'box',target_feature='is_canceled',\n",
    "                    plot_label ='Number of Days',\n",
    "                    plot_title= 'Lead Time (Days) - City',\n",
    "                    show_visualization = show_visualization);"
   ]
  },
  {
   "cell_type": "markdown",
   "metadata": {},
   "source": [
    "---\n",
    "\n",
    "**Resort**\n",
    "\n",
    "---"
   ]
  },
  {
   "cell_type": "code",
   "execution_count": null,
   "metadata": {
    "ExecuteTime": {
     "end_time": "2021-09-02T23:35:13.173132Z",
     "start_time": "2021-09-02T23:35:13.002133Z"
    }
   },
   "outputs": [],
   "source": [
    "## Reviewing details for resort - 'stays_in_weekend_nights'\n",
    "eda.explore_feature(subgroup_resort,'stays_in_weekend_nights',\n",
    "                    bins = 5,marginal = 'box',target_feature='is_canceled',\n",
    "                    plot_label ='Number of Prior Stays',\n",
    "                    plot_title= 'Stays in Weekend Nights - Resort',\n",
    "                    show_visualization = show_visualization);"
   ]
  },
  {
   "cell_type": "markdown",
   "metadata": {},
   "source": [
    "---\n",
    "\n",
    "**Feature Review**\n",
    "\n",
    "> PLACEHOLDER\n",
    "\n",
    "**Actions**\n",
    "\n",
    "> PLACEHOLDER\n",
    "\n",
    "**City vs. Resort**\n",
    "\n",
    "> PLACEHOLDER\n",
    "\n",
    "---"
   ]
  },
  {
   "cell_type": "markdown",
   "metadata": {},
   "source": [
    "## `Stays_in_Week_Nights`"
   ]
  },
  {
   "cell_type": "markdown",
   "metadata": {},
   "source": [
    "---\n",
    "\n",
    "**City**\n",
    "\n",
    "---"
   ]
  },
  {
   "cell_type": "code",
   "execution_count": null,
   "metadata": {
    "ExecuteTime": {
     "end_time": "2021-09-02T23:35:13.360132Z",
     "start_time": "2021-09-02T23:35:13.175146Z"
    }
   },
   "outputs": [],
   "source": [
    "## Reviewing details for city - 'stays_in_week_nights'\n",
    "eda.explore_feature(subgroup_city,'stays_in_week_nights',bins = 5,\n",
    "                    marginal = 'box',target_feature='is_canceled',\n",
    "                    plot_label ='Number of Prior Stays',\n",
    "                    plot_title= 'Stays in Week Nights - City',\n",
    "                    show_visualization = show_visualization);"
   ]
  },
  {
   "cell_type": "markdown",
   "metadata": {},
   "source": [
    "---\n",
    "\n",
    "**Resort**\n",
    "\n",
    "---"
   ]
  },
  {
   "cell_type": "code",
   "execution_count": null,
   "metadata": {
    "ExecuteTime": {
     "end_time": "2021-09-02T23:35:13.534131Z",
     "start_time": "2021-09-02T23:35:13.362131Z"
    },
    "scrolled": false
   },
   "outputs": [],
   "source": [
    "## Reviewing details for resort - 'stays_in_week_nights'\n",
    "eda.explore_feature(subgroup_resort,'stays_in_week_nights',bins = 5,\n",
    "                    marginal = 'box',target_feature='is_canceled',\n",
    "                    plot_label ='Number of Prior Stays',\n",
    "                    plot_title= 'Stays in Week Nights - Resort',\n",
    "                    show_visualization = show_visualization);"
   ]
  },
  {
   "cell_type": "markdown",
   "metadata": {},
   "source": [
    "---\n",
    "\n",
    "**Feature Review**\n",
    "\n",
    "> PLACEHOLDER\n",
    "\n",
    "**Actions**\n",
    "\n",
    "> PLACEHOLDER\n",
    "\n",
    "**City vs. Resort**\n",
    "\n",
    "> PLACEHOLDER\n",
    "\n",
    "---"
   ]
  },
  {
   "cell_type": "markdown",
   "metadata": {},
   "source": [
    "## `Adults`"
   ]
  },
  {
   "cell_type": "markdown",
   "metadata": {},
   "source": [
    "---\n",
    "\n",
    "**City**\n",
    "\n",
    "---"
   ]
  },
  {
   "cell_type": "code",
   "execution_count": null,
   "metadata": {
    "ExecuteTime": {
     "end_time": "2021-09-02T23:35:13.720136Z",
     "start_time": "2021-09-02T23:35:13.536146Z"
    }
   },
   "outputs": [],
   "source": [
    "## Reviewing details for city - 'adults'\n",
    "eda.explore_feature(subgroup_city,'adults',bins = 3,\n",
    "                    target_feature='is_canceled',plot_label ='Number of Adults',\n",
    "                    plot_title= 'Adults - City',\n",
    "                    show_visualization = show_visualization);"
   ]
  },
  {
   "cell_type": "markdown",
   "metadata": {},
   "source": [
    "---\n",
    "\n",
    "**Resort**\n",
    "\n",
    "---"
   ]
  },
  {
   "cell_type": "code",
   "execution_count": null,
   "metadata": {
    "ExecuteTime": {
     "end_time": "2021-09-02T23:35:13.937133Z",
     "start_time": "2021-09-02T23:35:13.723134Z"
    }
   },
   "outputs": [],
   "source": [
    "## Reviewing details for resort - 'adults'\n",
    "eda.explore_feature(subgroup_resort,'adults',bins = 3,\n",
    "                    target_feature='is_canceled',\n",
    "                    plot_label ='Number of Adults',\n",
    "                    plot_title= 'Adults - Resort',\n",
    "                    show_visualization = show_visualization);"
   ]
  },
  {
   "cell_type": "markdown",
   "metadata": {},
   "source": [
    "---\n",
    "\n",
    "**Feature Review**\n",
    "\n",
    "> PLACEHOLDER\n",
    "\n",
    "**Actions**\n",
    "\n",
    "> PLACEHOLDER\n",
    "\n",
    "**City vs. Resort**\n",
    "\n",
    "> PLACEHOLDER\n",
    "\n",
    "---"
   ]
  },
  {
   "cell_type": "markdown",
   "metadata": {},
   "source": [
    "## `Children`"
   ]
  },
  {
   "cell_type": "markdown",
   "metadata": {},
   "source": [
    "---\n",
    "\n",
    "**City**\n",
    "\n",
    "---"
   ]
  },
  {
   "cell_type": "code",
   "execution_count": null,
   "metadata": {
    "ExecuteTime": {
     "end_time": "2021-09-02T23:35:14.138134Z",
     "start_time": "2021-09-02T23:35:13.939133Z"
    }
   },
   "outputs": [],
   "source": [
    "## Reviewing details for city - 'children'\n",
    "eda.explore_feature(subgroup_city,'children',bins = 5,\n",
    "                    target_feature='is_canceled',\n",
    "                    plot_label ='Number of Children',\n",
    "                    plot_title= 'Children - City',\n",
    "                    show_visualization = show_visualization);"
   ]
  },
  {
   "cell_type": "markdown",
   "metadata": {},
   "source": [
    "---\n",
    "\n",
    "**Resort**\n",
    "\n",
    "---"
   ]
  },
  {
   "cell_type": "code",
   "execution_count": null,
   "metadata": {
    "ExecuteTime": {
     "end_time": "2021-09-02T23:35:14.326167Z",
     "start_time": "2021-09-02T23:35:14.140133Z"
    }
   },
   "outputs": [],
   "source": [
    "## Reviewing details for resort - 'children'\n",
    "eda.explore_feature(subgroup_resort,'children',bins = 3,\n",
    "                    target_feature='is_canceled',\n",
    "                    plot_label ='Number of Children',\n",
    "                    plot_title= 'Children - Resort',\n",
    "                    show_visualization = show_visualization);"
   ]
  },
  {
   "cell_type": "markdown",
   "metadata": {},
   "source": [
    "---\n",
    "\n",
    "**Feature Review**\n",
    "\n",
    "> PLACEHOLDER\n",
    "\n",
    "**Actions**\n",
    "\n",
    "> PLACEHOLDER\n",
    "\n",
    "**City vs. Resort**\n",
    "\n",
    "> PLACEHOLDER\n",
    "\n",
    "---"
   ]
  },
  {
   "cell_type": "markdown",
   "metadata": {},
   "source": [
    "## `Babies`"
   ]
  },
  {
   "cell_type": "markdown",
   "metadata": {},
   "source": [
    "---\n",
    "\n",
    "**City**\n",
    "\n",
    "---"
   ]
  },
  {
   "cell_type": "code",
   "execution_count": null,
   "metadata": {
    "ExecuteTime": {
     "end_time": "2021-09-02T23:35:14.527168Z",
     "start_time": "2021-09-02T23:35:14.328136Z"
    }
   },
   "outputs": [],
   "source": [
    "## Reviewing details for city - 'babies'\n",
    "eda.explore_feature(subgroup_city,'babies',bins = 5,\n",
    "                    target_feature='is_canceled',\n",
    "                    plot_label ='Number of Babies',\n",
    "                    plot_title= 'Babies - City',\n",
    "                    show_visualization = show_visualization);"
   ]
  },
  {
   "cell_type": "markdown",
   "metadata": {},
   "source": [
    "---\n",
    "\n",
    "**Resort**\n",
    "\n",
    "---"
   ]
  },
  {
   "cell_type": "code",
   "execution_count": null,
   "metadata": {
    "ExecuteTime": {
     "end_time": "2021-09-02T23:35:14.683136Z",
     "start_time": "2021-09-02T23:35:14.529137Z"
    }
   },
   "outputs": [],
   "source": [
    "## Reviewing details for resort - 'babies'\n",
    "eda.explore_feature(subgroup_resort,'babies',bins = 3,\n",
    "                    target_feature='is_canceled',\n",
    "                    plot_label ='Number of Babies',\n",
    "                    plot_title= 'Babies - Resort',\n",
    "                    show_visualization = show_visualization);"
   ]
  },
  {
   "cell_type": "markdown",
   "metadata": {},
   "source": [
    "---\n",
    "\n",
    "**Feature Review**\n",
    "\n",
    "> PLACEHOLDER\n",
    "\n",
    "**Actions**\n",
    "\n",
    "> PLACEHOLDER\n",
    "\n",
    "**City vs. Resort**\n",
    "\n",
    "> PLACEHOLDER\n",
    "\n",
    "---"
   ]
  },
  {
   "cell_type": "markdown",
   "metadata": {},
   "source": [
    "## `Meal`"
   ]
  },
  {
   "cell_type": "markdown",
   "metadata": {},
   "source": [
    "---\n",
    "\n",
    "**City**\n",
    "\n",
    "---"
   ]
  },
  {
   "cell_type": "code",
   "execution_count": null,
   "metadata": {
    "ExecuteTime": {
     "end_time": "2021-09-02T23:35:14.887133Z",
     "start_time": "2021-09-02T23:35:14.685136Z"
    }
   },
   "outputs": [],
   "source": [
    "## Reviewing details for city - 'meal'\n",
    "eda.explore_feature(subgroup_city,'meal',target_feature='is_canceled',\n",
    "                    plot_label ='Types of Meal',plot_title= 'Meal - City',\n",
    "                    show_visualization = show_visualization);"
   ]
  },
  {
   "cell_type": "markdown",
   "metadata": {},
   "source": [
    "---\n",
    "\n",
    "**Resort**\n",
    "\n",
    "---"
   ]
  },
  {
   "cell_type": "code",
   "execution_count": null,
   "metadata": {
    "ExecuteTime": {
     "end_time": "2021-09-02T23:35:15.042169Z",
     "start_time": "2021-09-02T23:35:14.889136Z"
    },
    "scrolled": false
   },
   "outputs": [],
   "source": [
    "## Reviewing details for resort - 'meal'\n",
    "test = eda.explore_feature(subgroup_resort,'meal',\n",
    "                    target_feature='is_canceled',plot_label ='Types of Meals',\n",
    "                    plot_title= 'Meal - Resort',\n",
    "                    show_visualization = show_visualization)"
   ]
  },
  {
   "cell_type": "markdown",
   "metadata": {},
   "source": [
    "---\n",
    "\n",
    "**Feature Review**\n",
    "\n",
    "> PLACEHOLDER\n",
    "\n",
    "**Actions**\n",
    "\n",
    "> PLACEHOLDER\n",
    "\n",
    "**City vs. Resort**\n",
    "\n",
    "> PLACEHOLDER\n",
    "\n",
    "---"
   ]
  },
  {
   "cell_type": "markdown",
   "metadata": {},
   "source": [
    "## `Country`"
   ]
  },
  {
   "cell_type": "markdown",
   "metadata": {},
   "source": [
    "---\n",
    "\n",
    "**City**\n",
    "\n",
    "---"
   ]
  },
  {
   "cell_type": "code",
   "execution_count": null,
   "metadata": {
    "ExecuteTime": {
     "end_time": "2021-09-02T23:35:15.261134Z",
     "start_time": "2021-09-02T23:35:15.044134Z"
    },
    "scrolled": true
   },
   "outputs": [],
   "source": [
    "## Reviewing details for city - 'country'\n",
    "eda.explore_feature(subgroup_city,'country',marginal = 'box',normalize=False,\n",
    "                    target_feature='is_canceled',plot_label ='Country',\n",
    "                    plot_title= 'Country - City',\n",
    "                    show_visualization = show_visualization);"
   ]
  },
  {
   "cell_type": "markdown",
   "metadata": {},
   "source": [
    "---\n",
    "\n",
    "**Resort**\n",
    "\n",
    "---"
   ]
  },
  {
   "cell_type": "code",
   "execution_count": null,
   "metadata": {
    "ExecuteTime": {
     "end_time": "2021-09-02T23:35:15.449167Z",
     "start_time": "2021-09-02T23:35:15.263135Z"
    },
    "scrolled": true
   },
   "outputs": [],
   "source": [
    "## Reviewing details for resort - 'country'\n",
    "eda.explore_feature(subgroup_resort,'country',normalize=False,marginal ='box',\n",
    "                    target_feature='is_canceled',plot_label ='Country',\n",
    "                    plot_title= 'Country - Resort',\n",
    "                    show_visualization = show_visualization);"
   ]
  },
  {
   "cell_type": "markdown",
   "metadata": {},
   "source": [
    "---\n",
    "\n",
    "**Feature Review**\n",
    "\n",
    "> PLACEHOLDER\n",
    "\n",
    "**Actions**\n",
    "\n",
    "> PLACEHOLDER\n",
    "\n",
    "**City vs. Resort**\n",
    "\n",
    "> PLACEHOLDER\n",
    "\n",
    "---"
   ]
  },
  {
   "cell_type": "markdown",
   "metadata": {},
   "source": [
    "## `Market_Segment`"
   ]
  },
  {
   "cell_type": "markdown",
   "metadata": {},
   "source": [
    "---\n",
    "\n",
    "**City**\n",
    "\n",
    "---"
   ]
  },
  {
   "cell_type": "code",
   "execution_count": null,
   "metadata": {
    "ExecuteTime": {
     "end_time": "2021-09-02T23:35:15.651135Z",
     "start_time": "2021-09-02T23:35:15.451135Z"
    }
   },
   "outputs": [],
   "source": [
    "## Reviewing details for city - 'market_segment'\n",
    "eda.explore_feature(subgroup_city,'market_segment',marginal = 'box',\n",
    "                    target_feature='is_canceled',plot_label ='Market Segment',\n",
    "                    plot_title= 'Market Segment - City',\n",
    "                    show_visualization = show_visualization);"
   ]
  },
  {
   "cell_type": "markdown",
   "metadata": {},
   "source": [
    "---\n",
    "\n",
    "**Resort**\n",
    "\n",
    "---"
   ]
  },
  {
   "cell_type": "code",
   "execution_count": null,
   "metadata": {
    "ExecuteTime": {
     "end_time": "2021-09-02T23:35:15.823135Z",
     "start_time": "2021-09-02T23:35:15.653136Z"
    }
   },
   "outputs": [],
   "source": [
    "## Reviewing details for resort - 'market_segment'\n",
    "eda.explore_feature(subgroup_resort,'market_segment',normalize=False,\n",
    "                    target_feature='is_canceled',plot_label ='Market Segment',\n",
    "                    plot_title= 'Market Segment - Resort',\n",
    "                    show_visualization = show_visualization);"
   ]
  },
  {
   "cell_type": "markdown",
   "metadata": {},
   "source": [
    "---\n",
    "\n",
    "**Feature Review**\n",
    "\n",
    "> PLACEHOLDER\n",
    "\n",
    "**Actions**\n",
    "\n",
    "> PLACEHOLDER\n",
    "\n",
    "**City vs. Resort**\n",
    "\n",
    "> PLACEHOLDER\n",
    "\n",
    "---"
   ]
  },
  {
   "cell_type": "markdown",
   "metadata": {},
   "source": [
    "## `Distribution_Channel`"
   ]
  },
  {
   "cell_type": "markdown",
   "metadata": {},
   "source": [
    "---\n",
    "\n",
    "**City**\n",
    "\n",
    "---"
   ]
  },
  {
   "cell_type": "code",
   "execution_count": null,
   "metadata": {
    "ExecuteTime": {
     "end_time": "2021-09-02T23:35:16.026138Z",
     "start_time": "2021-09-02T23:35:15.826137Z"
    }
   },
   "outputs": [],
   "source": [
    "## Reviewing details for city - 'distribution_channel'\n",
    "eda.explore_feature(subgroup_city,'distribution_channel',normalize=False,\n",
    "                    target_feature='is_canceled',\n",
    "                    plot_label ='Distribution Channel',\n",
    "                    plot_title= 'Distribution Channel - City',\n",
    "                    show_visualization = show_visualization);"
   ]
  },
  {
   "cell_type": "markdown",
   "metadata": {},
   "source": [
    "---\n",
    "\n",
    "**Resort**\n",
    "\n",
    "---"
   ]
  },
  {
   "cell_type": "code",
   "execution_count": null,
   "metadata": {
    "ExecuteTime": {
     "end_time": "2021-09-02T23:35:16.211135Z",
     "start_time": "2021-09-02T23:35:16.028138Z"
    }
   },
   "outputs": [],
   "source": [
    "## Reviewing details for resort - 'distribution_channel'\n",
    "eda.explore_feature(subgroup_resort,'distribution_channel',normalize=False,\n",
    "                    target_feature='is_canceled',\n",
    "                    plot_label ='Distribution Channel',\n",
    "                    plot_title= 'Distribution Channel - Resort',\n",
    "                    show_visualization = show_visualization);"
   ]
  },
  {
   "cell_type": "markdown",
   "metadata": {},
   "source": [
    "---\n",
    "\n",
    "**Feature Review**\n",
    "\n",
    "> PLACEHOLDER\n",
    "\n",
    "**Actions**\n",
    "\n",
    "> PLACEHOLDER\n",
    "\n",
    "**City vs. Resort**\n",
    "\n",
    "> PLACEHOLDER\n",
    "\n",
    "---"
   ]
  },
  {
   "cell_type": "markdown",
   "metadata": {},
   "source": [
    "## `Is_Repeated_Guest`"
   ]
  },
  {
   "cell_type": "markdown",
   "metadata": {},
   "source": [
    "---\n",
    "\n",
    "**City**\n",
    "\n",
    "---"
   ]
  },
  {
   "cell_type": "code",
   "execution_count": null,
   "metadata": {
    "ExecuteTime": {
     "end_time": "2021-09-02T23:35:16.369170Z",
     "start_time": "2021-09-02T23:35:16.213135Z"
    }
   },
   "outputs": [],
   "source": [
    "## Reviewing details for city - 'is_repeated_guest'\n",
    "eda.explore_feature(subgroup_city,'is_repeated_guest',\n",
    "                    target_feature='is_canceled',plot_label =' Repeat Guest',\n",
    "                    plot_title= ' Repeat Guest - City',\n",
    "                    show_visualization = show_visualization);"
   ]
  },
  {
   "cell_type": "markdown",
   "metadata": {},
   "source": [
    "---\n",
    "\n",
    "**Resort**\n",
    "\n",
    "---"
   ]
  },
  {
   "cell_type": "code",
   "execution_count": null,
   "metadata": {
    "ExecuteTime": {
     "end_time": "2021-09-02T23:35:16.527135Z",
     "start_time": "2021-09-02T23:35:16.371136Z"
    }
   },
   "outputs": [],
   "source": [
    "## Reviewing details for city - 'is_repeated_guest'\n",
    "eda.explore_feature(subgroup_resort,'is_repeated_guest',\n",
    "                    target_feature='is_canceled',plot_label ='Repeat Guest',\n",
    "                    plot_title= 'Repeat Guest - City',\n",
    "                    show_visualization = show_visualization);"
   ]
  },
  {
   "cell_type": "markdown",
   "metadata": {},
   "source": [
    "---\n",
    "\n",
    "**Feature Review**\n",
    "\n",
    "> PLACEHOLDER\n",
    "\n",
    "**Actions**\n",
    "\n",
    "> PLACEHOLDER\n",
    "\n",
    "**City vs. Resort**\n",
    "\n",
    "> PLACEHOLDER\n",
    "\n",
    "---"
   ]
  },
  {
   "cell_type": "markdown",
   "metadata": {},
   "source": [
    "## `Previous_Cancellations`"
   ]
  },
  {
   "cell_type": "markdown",
   "metadata": {},
   "source": [
    "---\n",
    "\n",
    "**City**\n",
    "\n",
    "---"
   ]
  },
  {
   "cell_type": "code",
   "execution_count": null,
   "metadata": {
    "ExecuteTime": {
     "end_time": "2021-09-02T23:35:16.731135Z",
     "start_time": "2021-09-02T23:35:16.529136Z"
    }
   },
   "outputs": [],
   "source": [
    "## Reviewing details for city - 'previous_cancellations'\n",
    "eda.explore_feature(subgroup_city,'previous_cancellations',bins = 5,\n",
    "                    normalize=False,target_feature='is_canceled',\n",
    "                    plot_label ='Number of Cancellations',\n",
    "                    plot_title= 'Previous Cancellations - City',\n",
    "                    show_visualization = show_visualization);"
   ]
  },
  {
   "cell_type": "markdown",
   "metadata": {},
   "source": [
    "---\n",
    "\n",
    "**Resort**\n",
    "\n",
    "---"
   ]
  },
  {
   "cell_type": "code",
   "execution_count": null,
   "metadata": {
    "ExecuteTime": {
     "end_time": "2021-09-02T23:35:16.903137Z",
     "start_time": "2021-09-02T23:35:16.733136Z"
    }
   },
   "outputs": [],
   "source": [
    "## Reviewing details for resort - 'previous_cancellations'\n",
    "eda.explore_feature(subgroup_resort,'previous_cancellations',bins = 4,\n",
    "                    target_feature='is_canceled',\n",
    "                    plot_label ='Previous Cancellations',\n",
    "                    plot_title= 'Previous Cancellations - Resort',\n",
    "                    show_visualization = show_visualization);"
   ]
  },
  {
   "cell_type": "markdown",
   "metadata": {},
   "source": [
    "---\n",
    "\n",
    "**Feature Review**\n",
    "\n",
    "> PLACEHOLDER\n",
    "\n",
    "**Actions**\n",
    "\n",
    "> PLACEHOLDER\n",
    "\n",
    "**City vs. Resort**\n",
    "\n",
    "> PLACEHOLDER\n",
    "\n",
    "---"
   ]
  },
  {
   "cell_type": "markdown",
   "metadata": {},
   "source": [
    "## `Previous_Bookings_Not_Canceled`"
   ]
  },
  {
   "cell_type": "markdown",
   "metadata": {},
   "source": [
    "---\n",
    "\n",
    "**City**\n",
    "\n",
    "---"
   ]
  },
  {
   "cell_type": "code",
   "execution_count": null,
   "metadata": {
    "ExecuteTime": {
     "end_time": "2021-09-02T23:35:17.092168Z",
     "start_time": "2021-09-02T23:35:16.905139Z"
    }
   },
   "outputs": [],
   "source": [
    "## Reviewing details for city - 'previous_bookings_not_canceled'\n",
    "eda.explore_feature(subgroup_city,'previous_bookings_not_canceled',\n",
    "                    bins = 5,marginal = 'box',target_feature='is_canceled',\n",
    "                    plot_label ='Number of Bookings Not Canceled',\n",
    "                    plot_title= 'Previous Bookings Not Canceled - City',\n",
    "                    show_visualization = show_visualization);"
   ]
  },
  {
   "cell_type": "markdown",
   "metadata": {},
   "source": [
    "---\n",
    "\n",
    "**Resort**\n",
    "\n",
    "---"
   ]
  },
  {
   "cell_type": "code",
   "execution_count": null,
   "metadata": {
    "ExecuteTime": {
     "end_time": "2021-09-02T23:35:17.265166Z",
     "start_time": "2021-09-02T23:35:17.094138Z"
    }
   },
   "outputs": [],
   "source": [
    "## Reviewing details for resort - 'previous_bookings_not_canceled'\n",
    "eda.explore_feature(subgroup_resort,'previous_bookings_not_canceled',\n",
    "                    bins = 5,target_feature='is_canceled',\n",
    "                    plot_label ='Previous Bookings Not Canceled',\n",
    "                    plot_title= 'Previous Bookings Not Canceled - Resort',\n",
    "                    show_visualization = show_visualization);"
   ]
  },
  {
   "cell_type": "markdown",
   "metadata": {},
   "source": [
    "---\n",
    "\n",
    "**Feature Review**\n",
    "\n",
    "> PLACEHOLDER\n",
    "\n",
    "**Actions**\n",
    "\n",
    "> PLACEHOLDER\n",
    "\n",
    "**City vs. Resort**\n",
    "\n",
    "> PLACEHOLDER\n",
    "\n",
    "---"
   ]
  },
  {
   "cell_type": "markdown",
   "metadata": {},
   "source": [
    "## `Reserved_Room_Type`"
   ]
  },
  {
   "cell_type": "markdown",
   "metadata": {},
   "source": [
    "---\n",
    "\n",
    "**City**\n",
    "\n",
    "---"
   ]
  },
  {
   "cell_type": "code",
   "execution_count": null,
   "metadata": {
    "ExecuteTime": {
     "end_time": "2021-09-02T23:35:17.441137Z",
     "start_time": "2021-09-02T23:35:17.267143Z"
    }
   },
   "outputs": [],
   "source": [
    "## Reviewing details for city - 'reserved_room_type'\n",
    "eda.explore_feature(subgroup_city,'reserved_room_type',\n",
    "                    target_feature='is_canceled',\n",
    "                    plot_label ='Reserved Toom Type',\n",
    "                    plot_title= 'Reserved Toom Type - City',\n",
    "                    show_visualization = show_visualization);"
   ]
  },
  {
   "cell_type": "markdown",
   "metadata": {},
   "source": [
    "---\n",
    "\n",
    "**Resort**\n",
    "\n",
    "---"
   ]
  },
  {
   "cell_type": "code",
   "execution_count": null,
   "metadata": {
    "ExecuteTime": {
     "end_time": "2021-09-02T23:35:17.616172Z",
     "start_time": "2021-09-02T23:35:17.443140Z"
    }
   },
   "outputs": [],
   "source": [
    "## Reviewing details for resort - 'reserved_room_type'\n",
    "eda.explore_feature(subgroup_resort,'reserved_room_type'\n",
    "                    ,target_feature='is_canceled',\n",
    "                    plot_label ='Preserved Room Type',\n",
    "                    plot_title= 'Preserved Room Type - Resort',\n",
    "                    show_visualization = show_visualization);"
   ]
  },
  {
   "cell_type": "markdown",
   "metadata": {},
   "source": [
    "---\n",
    "\n",
    "**Feature Review**\n",
    "\n",
    "> PLACEHOLDER\n",
    "\n",
    "**Actions**\n",
    "\n",
    "> PLACEHOLDER\n",
    "\n",
    "**City vs. Resort**\n",
    "\n",
    "> PLACEHOLDER\n",
    "\n",
    "---"
   ]
  },
  {
   "cell_type": "markdown",
   "metadata": {},
   "source": [
    "## `Assigned_Room_Type`"
   ]
  },
  {
   "cell_type": "markdown",
   "metadata": {},
   "source": [
    "---\n",
    "\n",
    "**City**\n",
    "\n",
    "---"
   ]
  },
  {
   "cell_type": "code",
   "execution_count": null,
   "metadata": {
    "ExecuteTime": {
     "end_time": "2021-09-02T23:35:17.804173Z",
     "start_time": "2021-09-02T23:35:17.618138Z"
    }
   },
   "outputs": [],
   "source": [
    "## Reviewing details for city - 'assigned_room_type'\n",
    "eda.explore_feature(subgroup_city,'assigned_room_type',\n",
    "                    target_feature='is_canceled',\n",
    "                    plot_label ='Assigned Room Type',\n",
    "                    plot_title= 'Assigned Room Type - City',\n",
    "                    show_visualization = show_visualization);"
   ]
  },
  {
   "cell_type": "markdown",
   "metadata": {},
   "source": [
    "---\n",
    "\n",
    "**Resort**\n",
    "\n",
    "---"
   ]
  },
  {
   "cell_type": "code",
   "execution_count": null,
   "metadata": {
    "ExecuteTime": {
     "end_time": "2021-09-02T23:35:17.973139Z",
     "start_time": "2021-09-02T23:35:17.806139Z"
    }
   },
   "outputs": [],
   "source": [
    "## Reviewing details for resort - 'assigned_room_type'\n",
    "eda.explore_feature(subgroup_resort,'assigned_room_type',\n",
    "                    target_feature='is_canceled',\n",
    "                    plot_label ='Assigned Room Type',\n",
    "                    plot_title= 'Assigned Room Type - Resort',\n",
    "                    show_visualization = show_visualization);"
   ]
  },
  {
   "cell_type": "markdown",
   "metadata": {},
   "source": [
    "---\n",
    "\n",
    "**Feature Review**\n",
    "\n",
    "> PLACEHOLDER\n",
    "\n",
    "**Actions**\n",
    "\n",
    "> PLACEHOLDER\n",
    "\n",
    "**City vs. Resort**\n",
    "\n",
    "> PLACEHOLDER\n",
    "\n",
    "---"
   ]
  },
  {
   "cell_type": "markdown",
   "metadata": {},
   "source": [
    "## `Booking_Changes`"
   ]
  },
  {
   "cell_type": "markdown",
   "metadata": {},
   "source": [
    "---\n",
    "\n",
    "**City**\n",
    "\n",
    "---"
   ]
  },
  {
   "cell_type": "code",
   "execution_count": null,
   "metadata": {
    "ExecuteTime": {
     "end_time": "2021-09-02T23:35:18.177138Z",
     "start_time": "2021-09-02T23:35:17.979141Z"
    }
   },
   "outputs": [],
   "source": [
    "## Reviewing details for city - 'booking_changes'\n",
    "eda.explore_feature(subgroup_city,'booking_changes',bins = 5,\n",
    "                    target_feature='is_canceled',\n",
    "                    plot_label ='booking_changes',\n",
    "                    plot_title= 'booking_changes - city',\n",
    "                    show_visualization = show_visualization);"
   ]
  },
  {
   "cell_type": "markdown",
   "metadata": {},
   "source": [
    "---\n",
    "\n",
    "**Resort**\n",
    "\n",
    "---"
   ]
  },
  {
   "cell_type": "code",
   "execution_count": null,
   "metadata": {
    "ExecuteTime": {
     "end_time": "2021-09-02T23:35:18.380141Z",
     "start_time": "2021-09-02T23:35:18.180140Z"
    }
   },
   "outputs": [],
   "source": [
    "## Reviewing details for resort - 'booking_changes'\n",
    "eda.explore_feature(subgroup_resort,'booking_changes',bins = 5,\n",
    "                    target_feature='is_canceled',\n",
    "                    plot_label ='Booking Changes',\n",
    "                    plot_title= 'Booking Changes - Resort',\n",
    "                    show_visualization = show_visualization);"
   ]
  },
  {
   "cell_type": "markdown",
   "metadata": {},
   "source": [
    "---\n",
    "\n",
    "**Feature Review**\n",
    "\n",
    "> PLACEHOLDER\n",
    "\n",
    "**Actions**\n",
    "\n",
    "> PLACEHOLDER\n",
    "\n",
    "**City vs. Resort**\n",
    "\n",
    "> PLACEHOLDER\n",
    "\n",
    "---"
   ]
  },
  {
   "cell_type": "markdown",
   "metadata": {},
   "source": [
    "## `Deposit_Type`"
   ]
  },
  {
   "cell_type": "markdown",
   "metadata": {},
   "source": [
    "---\n",
    "\n",
    "**City**\n",
    "\n",
    "---"
   ]
  },
  {
   "cell_type": "code",
   "execution_count": null,
   "metadata": {
    "ExecuteTime": {
     "end_time": "2021-09-02T23:35:18.567170Z",
     "start_time": "2021-09-02T23:35:18.383140Z"
    }
   },
   "outputs": [],
   "source": [
    "## Reviewing details for city - 'deposit_type'\n",
    "eda.explore_feature(subgroup_city,'deposit_type',normalize=False,\n",
    "                    target_feature='is_canceled',plot_label ='Deposit Type',\n",
    "                    plot_title= 'Deposit Type - City',\n",
    "                    show_visualization = show_visualization);"
   ]
  },
  {
   "cell_type": "markdown",
   "metadata": {},
   "source": [
    "---\n",
    "\n",
    "**Resort**\n",
    "\n",
    "---"
   ]
  },
  {
   "cell_type": "code",
   "execution_count": null,
   "metadata": {
    "ExecuteTime": {
     "end_time": "2021-09-02T23:35:18.723161Z",
     "start_time": "2021-09-02T23:35:18.569141Z"
    }
   },
   "outputs": [],
   "source": [
    "## Reviewing details for resort - 'deposit_type'\n",
    "eda.explore_feature(subgroup_resort,'deposit_type',\n",
    "                    target_feature='is_canceled', plot_label ='Deposit Type',\n",
    "                    plot_title= 'Deposit Type - Resort',\n",
    "                    show_visualization = show_visualization);"
   ]
  },
  {
   "cell_type": "markdown",
   "metadata": {},
   "source": [
    "---\n",
    "\n",
    "**Feature Review**\n",
    "\n",
    "> PLACEHOLDER\n",
    "\n",
    "**Actions**\n",
    "\n",
    "> PLACEHOLDER\n",
    "\n",
    "**City vs. Resort**\n",
    "\n",
    "> PLACEHOLDER\n",
    "\n",
    "---"
   ]
  },
  {
   "cell_type": "markdown",
   "metadata": {},
   "source": [
    "## `Agent`"
   ]
  },
  {
   "cell_type": "markdown",
   "metadata": {},
   "source": [
    "---\n",
    "\n",
    "**City**\n",
    "\n",
    "---"
   ]
  },
  {
   "cell_type": "code",
   "execution_count": null,
   "metadata": {
    "ExecuteTime": {
     "end_time": "2021-09-02T23:35:18.943140Z",
     "start_time": "2021-09-02T23:35:18.725140Z"
    },
    "scrolled": true
   },
   "outputs": [],
   "source": [
    "## Reviewing details for city - 'agent'\n",
    "eda.explore_feature(subgroup_city,'agent',target_feature='is_canceled',\n",
    "                    plot_label ='Booking Agent',plot_title= 'Agent - City',\n",
    "                    show_visualization = show_visualization);"
   ]
  },
  {
   "cell_type": "markdown",
   "metadata": {},
   "source": [
    "---\n",
    "\n",
    "**Resort**\n",
    "\n",
    "---"
   ]
  },
  {
   "cell_type": "code",
   "execution_count": null,
   "metadata": {
    "ExecuteTime": {
     "end_time": "2021-09-02T23:35:19.143172Z",
     "start_time": "2021-09-02T23:35:18.945140Z"
    },
    "scrolled": true
   },
   "outputs": [],
   "source": [
    "## Reviewing details for resort - 'agent'\n",
    "eda.explore_feature(subgroup_resort,'agent',target_feature='is_canceled',\n",
    "                    plot_label ='Booking Agent',plot_title= 'Agent - Resort',\n",
    "                    show_visualization = show_visualization);"
   ]
  },
  {
   "cell_type": "markdown",
   "metadata": {},
   "source": [
    "---\n",
    "\n",
    "**Feature Review**\n",
    "\n",
    "> PLACEHOLDER\n",
    "\n",
    "**Actions**\n",
    "\n",
    "> PLACEHOLDER\n",
    "\n",
    "**City vs. Resort**\n",
    "\n",
    "> PLACEHOLDER\n",
    "\n",
    "---"
   ]
  },
  {
   "cell_type": "markdown",
   "metadata": {},
   "source": [
    "## `Days_in_Waiting_List`"
   ]
  },
  {
   "cell_type": "markdown",
   "metadata": {},
   "source": [
    "---\n",
    "\n",
    "**City**\n",
    "\n",
    "---"
   ]
  },
  {
   "cell_type": "code",
   "execution_count": null,
   "metadata": {
    "ExecuteTime": {
     "end_time": "2021-09-02T23:35:19.313302Z",
     "start_time": "2021-09-02T23:35:19.145143Z"
    }
   },
   "outputs": [],
   "source": [
    "## Reviewing details for city - 'days_in_waiting_list'\n",
    "eda.explore_feature(subgroup_city,'days_in_waiting_list',bins = 5,\n",
    "                    normalize=False,target_feature='is_canceled',\n",
    "                    plot_label ='Days in Waiting List',\n",
    "                    plot_title= 'Days in Waiting List - City',\n",
    "                    show_visualization = show_visualization);"
   ]
  },
  {
   "cell_type": "markdown",
   "metadata": {},
   "source": [
    "---\n",
    "\n",
    "**Resort**\n",
    "\n",
    "---"
   ]
  },
  {
   "cell_type": "code",
   "execution_count": null,
   "metadata": {
    "ExecuteTime": {
     "end_time": "2021-09-02T23:35:19.471275Z",
     "start_time": "2021-09-02T23:35:19.315286Z"
    }
   },
   "outputs": [],
   "source": [
    "## Reviewing details for resort - 'days_in_waiting_list'\n",
    "eda.explore_feature(subgroup_resort,'days_in_waiting_list',bins = 5,\n",
    "                    plot_type='histogram',target_feature='is_canceled',\n",
    "                    plot_label ='Days in Waiting List',\n",
    "                    plot_title= 'Days in Waiting List - Resort',\n",
    "                    show_visualization = show_visualization);"
   ]
  },
  {
   "cell_type": "markdown",
   "metadata": {},
   "source": [
    "---\n",
    "\n",
    "**Feature Review**\n",
    "\n",
    "> PLACEHOLDER\n",
    "\n",
    "**Actions**\n",
    "\n",
    "> PLACEHOLDER\n",
    "\n",
    "**City vs. Resort**\n",
    "\n",
    "> PLACEHOLDER\n",
    "\n",
    "---"
   ]
  },
  {
   "cell_type": "markdown",
   "metadata": {},
   "source": [
    "## `Customer_Type`"
   ]
  },
  {
   "cell_type": "markdown",
   "metadata": {},
   "source": [
    "---\n",
    "\n",
    "**City**\n",
    "\n",
    "---"
   ]
  },
  {
   "cell_type": "code",
   "execution_count": null,
   "metadata": {
    "ExecuteTime": {
     "end_time": "2021-09-02T23:35:19.674264Z",
     "start_time": "2021-09-02T23:35:19.473238Z"
    }
   },
   "outputs": [],
   "source": [
    "## Reviewing details for city - 'customer_type'\n",
    "eda.explore_feature(subgroup_city,'customer_type',marginal = 'box',\n",
    "                    target_feature='is_canceled',plot_label ='Customer Type',\n",
    "                    plot_title= 'Customer Type - City',\n",
    "                    show_visualization = show_visualization);"
   ]
  },
  {
   "cell_type": "markdown",
   "metadata": {},
   "source": [
    "---\n",
    "\n",
    "**Resort**\n",
    "\n",
    "---"
   ]
  },
  {
   "cell_type": "code",
   "execution_count": null,
   "metadata": {
    "ExecuteTime": {
     "end_time": "2021-09-02T23:35:19.827285Z",
     "start_time": "2021-09-02T23:35:19.676244Z"
    }
   },
   "outputs": [],
   "source": [
    "## Reviewing details for resort - 'customer_type'\n",
    "eda.explore_feature(subgroup_resort,'customer_type',marginal = 'box',\n",
    "                    target_feature='is_canceled',plot_label ='Customer Type',\n",
    "                    plot_title= 'Customer Type - Resort',\n",
    "                    show_visualization = show_visualization);"
   ]
  },
  {
   "cell_type": "markdown",
   "metadata": {},
   "source": [
    "---\n",
    "\n",
    "**Feature Review**\n",
    "\n",
    "> PLACEHOLDER\n",
    "\n",
    "**Actions**\n",
    "\n",
    "> PLACEHOLDER\n",
    "\n",
    "**City vs. Resort**\n",
    "\n",
    "> PLACEHOLDER\n",
    "\n",
    "---"
   ]
  },
  {
   "cell_type": "markdown",
   "metadata": {},
   "source": [
    "## `ADR`"
   ]
  },
  {
   "cell_type": "markdown",
   "metadata": {},
   "source": [
    "---\n",
    "\n",
    "**City**\n",
    "\n",
    "---"
   ]
  },
  {
   "cell_type": "code",
   "execution_count": null,
   "metadata": {
    "ExecuteTime": {
     "end_time": "2021-09-02T23:35:19.997308Z",
     "start_time": "2021-09-02T23:35:19.829275Z"
    }
   },
   "outputs": [],
   "source": [
    "## Reviewing details for city - 'adr'\n",
    "eda.explore_feature(subgroup_city ,'adr',bins = 5,\n",
    "                    target_feature='is_canceled',plot_label ='ADR (€)',\n",
    "                    plot_title= 'ADR (€) - City',\n",
    "                    show_visualization = show_visualization);"
   ]
  },
  {
   "cell_type": "markdown",
   "metadata": {},
   "source": [
    "---\n",
    "\n",
    "**Resort**\n",
    "\n",
    "---"
   ]
  },
  {
   "cell_type": "code",
   "execution_count": null,
   "metadata": {
    "ExecuteTime": {
     "end_time": "2021-09-02T23:35:20.169276Z",
     "start_time": "2021-09-02T23:35:19.999289Z"
    }
   },
   "outputs": [],
   "source": [
    "## Reviewing details for resort - 'adr'\n",
    "eda.explore_feature(subgroup_resort,'adr',bins = 5,\n",
    "                    target_feature='is_canceled',plot_label ='ADR (€)',\n",
    "                    plot_title= 'ADR (€) - Resort',\n",
    "                    show_visualization = show_visualization);"
   ]
  },
  {
   "cell_type": "markdown",
   "metadata": {},
   "source": [
    "---\n",
    "\n",
    "**Feature Review**\n",
    "\n",
    "> PLACEHOLDER\n",
    "\n",
    "**Actions**\n",
    "\n",
    "> PLACEHOLDER\n",
    "\n",
    "**City vs. Resort**\n",
    "\n",
    "> PLACEHOLDER\n",
    "\n",
    "---"
   ]
  },
  {
   "cell_type": "markdown",
   "metadata": {},
   "source": [
    "## `Required_Car_Parking_Spaces`"
   ]
  },
  {
   "cell_type": "markdown",
   "metadata": {},
   "source": [
    "---\n",
    "\n",
    "**City**\n",
    "\n",
    "---"
   ]
  },
  {
   "cell_type": "code",
   "execution_count": null,
   "metadata": {
    "ExecuteTime": {
     "end_time": "2021-09-02T23:35:20.360274Z",
     "start_time": "2021-09-02T23:35:20.171275Z"
    }
   },
   "outputs": [],
   "source": [
    "## Reviewing details for city - 'required_car_parking_spaces'\n",
    "eda.explore_feature(subgroup_city,'required_car_parking_spaces',bins = 5,\n",
    "                    normalize=False,target_feature='is_canceled',\n",
    "                    plot_label ='Required Car Parking Spaces',\n",
    "                    plot_title= 'Required Car Parking Spaces - City',\n",
    "                    show_visualization = show_visualization);"
   ]
  },
  {
   "cell_type": "markdown",
   "metadata": {},
   "source": [
    "---\n",
    "\n",
    "**Resort**\n",
    "\n",
    "---"
   ]
  },
  {
   "cell_type": "code",
   "execution_count": null,
   "metadata": {
    "ExecuteTime": {
     "end_time": "2021-09-02T23:35:20.515280Z",
     "start_time": "2021-09-02T23:35:20.362276Z"
    }
   },
   "outputs": [],
   "source": [
    "## Reviewing details for resort - 'required_car_parking_spaces'\n",
    "eda.explore_feature(subgroup_resort,'required_car_parking_spaces',bins = 5,\n",
    "                    normalize=False,target_feature='is_canceled',\n",
    "                    plot_label ='Required Car Parking Spaces',\n",
    "                    plot_title= 'Required Car Parking Spaces - Resort',\n",
    "                    show_visualization = show_visualization);"
   ]
  },
  {
   "cell_type": "markdown",
   "metadata": {},
   "source": [
    "---\n",
    "\n",
    "**Feature Review**\n",
    "\n",
    "> PLACEHOLDER\n",
    "\n",
    "**Actions**\n",
    "\n",
    "> PLACEHOLDER\n",
    "\n",
    "**City vs. Resort**\n",
    "\n",
    "> PLACEHOLDER\n",
    "\n",
    "---"
   ]
  },
  {
   "cell_type": "markdown",
   "metadata": {},
   "source": [
    "## `Total_of_Special_Requests`"
   ]
  },
  {
   "cell_type": "markdown",
   "metadata": {},
   "source": [
    "---\n",
    "\n",
    "**City**\n",
    "\n",
    "---"
   ]
  },
  {
   "cell_type": "code",
   "execution_count": null,
   "metadata": {
    "ExecuteTime": {
     "end_time": "2021-09-02T23:35:20.700287Z",
     "start_time": "2021-09-02T23:35:20.517277Z"
    }
   },
   "outputs": [],
   "source": [
    "## Reviewing details for city - 'total_of_special_requests'\n",
    "eda.explore_feature(subgroup_city,'total_of_special_requests',bins = 5,\n",
    "                    marginal = 'box',target_feature='is_canceled',\n",
    "                    plot_label ='Total of Special Requests',\n",
    "                    plot_title= 'Total of Special Requests - City',\n",
    "                    show_visualization = show_visualization);"
   ]
  },
  {
   "cell_type": "markdown",
   "metadata": {},
   "source": [
    "---\n",
    "\n",
    "**Resort**\n",
    "\n",
    "---"
   ]
  },
  {
   "cell_type": "code",
   "execution_count": null,
   "metadata": {
    "ExecuteTime": {
     "end_time": "2021-09-02T23:35:20.855146Z",
     "start_time": "2021-09-02T23:35:20.702276Z"
    }
   },
   "outputs": [],
   "source": [
    "## Reviewing details for resort - 'total_of_special_requests'\n",
    "eda.explore_feature(subgroup_resort,'total_of_special_requests',bins = 5,\n",
    "                    marginal = 'box',target_feature='is_canceled',\n",
    "                    plot_label ='Total of Special Requests',\n",
    "                    plot_title= 'Total of Special Requests - Resort',\n",
    "                    show_visualization = show_visualization);"
   ]
  },
  {
   "cell_type": "markdown",
   "metadata": {},
   "source": [
    "---\n",
    "\n",
    "**Feature Review**\n",
    "\n",
    "> PLACEHOLDER\n",
    "\n",
    "**Actions**\n",
    "\n",
    "> PLACEHOLDER\n",
    "\n",
    "**City vs. Resort**\n",
    "\n",
    "> PLACEHOLDER\n",
    "\n",
    "---"
   ]
  },
  {
   "cell_type": "markdown",
   "metadata": {},
   "source": [
    "## `Reservation_Status_Date`"
   ]
  },
  {
   "cell_type": "markdown",
   "metadata": {},
   "source": [
    "---\n",
    "\n",
    "**City**\n",
    "\n",
    "---"
   ]
  },
  {
   "cell_type": "code",
   "execution_count": null,
   "metadata": {
    "ExecuteTime": {
     "end_time": "2021-09-02T23:35:21.089144Z",
     "start_time": "2021-09-02T23:35:20.858145Z"
    },
    "scrolled": false
   },
   "outputs": [],
   "source": [
    "## Reviewing details for city - 'reservation_status_date'\n",
    "eda.explore_feature(subgroup_city,'reservation_status_date',marginal = 'box',\n",
    "                    bins=3,target_feature='is_canceled',\n",
    "                    plot_label ='Reservation Status Date',\n",
    "                    plot_title= 'Reservation Status Date - City',\n",
    "                    show_visualization = show_visualization);"
   ]
  },
  {
   "cell_type": "markdown",
   "metadata": {},
   "source": [
    "---\n",
    "\n",
    "**Resort**\n",
    "\n",
    "---"
   ]
  },
  {
   "cell_type": "code",
   "execution_count": null,
   "metadata": {
    "ExecuteTime": {
     "end_time": "2021-09-02T23:35:21.351197Z",
     "start_time": "2021-09-02T23:35:21.092146Z"
    },
    "scrolled": false
   },
   "outputs": [],
   "source": [
    "## Reviewing details for resort - 'reservation_status_date'\n",
    "eda.explore_feature(subgroup_resort,'reservation_status_date',\n",
    "                    marginal = 'box',bins=3,target_feature='is_canceled',\n",
    "                    plot_label ='Reservation Status Date',\n",
    "                    plot_title= 'Reservation Status Date - Resort',\n",
    "                    show_visualization = show_visualization);"
   ]
  },
  {
   "cell_type": "markdown",
   "metadata": {},
   "source": [
    "---\n",
    "\n",
    "**Feature Review**\n",
    "\n",
    "> PLACEHOLDER\n",
    "\n",
    "**Actions**\n",
    "\n",
    "> PLACEHOLDER\n",
    "\n",
    "**City vs. Resort**\n",
    "\n",
    "> PLACEHOLDER\n",
    "\n",
    "---"
   ]
  },
  {
   "cell_type": "markdown",
   "metadata": {},
   "source": [
    "# 🛑 **Post-EDA**"
   ]
  },
  {
   "cell_type": "markdown",
   "metadata": {},
   "source": [
    "---\n",
    "\n",
    "**FIX/UPDATE ALL OF THE NARRATIVE ELEMENTS OF THE REST OF THIS CODE.**\n",
    "\n",
    "---"
   ]
  },
  {
   "cell_type": "markdown",
   "metadata": {},
   "source": [
    "---\n",
    "\n",
    "**Finishing Touches**\n",
    "\n",
    "> Now that I reviewed all of my features; confirmed there are no missing values; and confirmed all of the datatypes are correct, I will finish the remaining preprocessing.\n",
    "\n",
    "**Outliers**\n",
    "\n",
    "> Based on my EDA, I noticed several features show significant outliers. If I kept these outlying data points, they could have a negative impact on my future models' performances.\n",
    "\n",
    "**Process**\n",
    "> I will first identify the features with outliers; then use the z-scores of each data point to determine the outliers. Any absolute-valued z-score greater than 3 will be considered an outlier and will be disregarded.\n",
    "\n",
    "---"
   ]
  },
  {
   "cell_type": "markdown",
   "metadata": {},
   "source": [
    "## `Reservation_Status`: Converting `No-Show` to `Canceled`"
   ]
  },
  {
   "cell_type": "code",
   "execution_count": null,
   "metadata": {
    "ExecuteTime": {
     "end_time": "2021-09-02T23:35:21.491154Z",
     "start_time": "2021-09-02T23:35:21.353144Z"
    }
   },
   "outputs": [],
   "source": [
    "## Changing no-show values to \"canceled\"\n",
    "subgroup_city.loc[:,'reservation_status'].replace('No-Show', 'Canceled',\n",
    "                                            inplace=True)\n",
    "subgroup_resort.loc[:,'reservation_status'].replace('No-Show', 'Canceled',\n",
    "                                            inplace=True)"
   ]
  },
  {
   "cell_type": "code",
   "execution_count": null,
   "metadata": {
    "ExecuteTime": {
     "end_time": "2021-09-02T23:35:21.600376Z",
     "start_time": "2021-09-02T23:35:21.493145Z"
    }
   },
   "outputs": [],
   "source": [
    "## Confirming the change\n",
    "'No-Show' not in subgroup_city['reservation_status'] and \\\n",
    "                        'No-Show' not in subgroup_city['reservation_status']"
   ]
  },
  {
   "cell_type": "code",
   "execution_count": null,
   "metadata": {
    "ExecuteTime": {
     "end_time": "2021-09-02T23:35:21.724725Z",
     "start_time": "2021-09-02T23:35:21.602195Z"
    }
   },
   "outputs": [],
   "source": [
    "## Inspecting the updated target classes\n",
    "subgroup_city['reservation_status'].value_counts(1, dropna=False)"
   ]
  },
  {
   "cell_type": "code",
   "execution_count": null,
   "metadata": {
    "ExecuteTime": {
     "end_time": "2021-09-02T23:35:21.849517Z",
     "start_time": "2021-09-02T23:35:21.727500Z"
    },
    "scrolled": true
   },
   "outputs": [],
   "source": [
    "subgroup_resort['reservation_status'].value_counts(1, dropna=False)"
   ]
  },
  {
   "cell_type": "markdown",
   "metadata": {},
   "source": [
    "### Review - `Reservation_Status`"
   ]
  },
  {
   "cell_type": "markdown",
   "metadata": {},
   "source": [
    "---\n",
    "\n",
    "> I successfully converted all `No-Show` values to `Canceled`, **resulting in a binary classification of whether a reservation will actualize (`Check-Out`) or not (`No-Show`).**\n",
    "\n",
    "---"
   ]
  },
  {
   "cell_type": "markdown",
   "metadata": {},
   "source": [
    "## Engineering `Arrival_Date`"
   ]
  },
  {
   "cell_type": "markdown",
   "metadata": {},
   "source": [
    "---\n",
    "\n",
    "**City**\n",
    "\n",
    "---"
   ]
  },
  {
   "cell_type": "code",
   "execution_count": null,
   "metadata": {
    "ExecuteTime": {
     "end_time": "2021-09-02T23:35:22.180488Z",
     "start_time": "2021-09-02T23:35:21.852492Z"
    },
    "scrolled": true
   },
   "outputs": [],
   "source": [
    "## Converting from month, day of month, and year to a single datetime column\n",
    "subgroup_city['arrival_date'] = subgroup_city['arrival_date_month'] +' '+ \\\n",
    "                                subgroup_city['arrival_date_day_of_month']\\\n",
    "                                .astype(str) +', '+ \\\n",
    "                                subgroup_city['arrival_date_year'].astype(str)\n",
    "subgroup_city['arrival_date'] = pd.to_datetime(subgroup_city['arrival_date'])\n",
    "subgroup_city['arrival_date']"
   ]
  },
  {
   "cell_type": "code",
   "execution_count": null,
   "metadata": {
    "ExecuteTime": {
     "end_time": "2021-09-02T23:35:22.321761Z",
     "start_time": "2021-09-02T23:35:22.182492Z"
    }
   },
   "outputs": [],
   "source": [
    "## Determining the day of the week of arrival \n",
    "subgroup_city.loc[:,'arrival_day'] = subgroup_city.loc[:,'arrival_date'].dt.day_name()\n",
    "subgroup_city['arrival_day']"
   ]
  },
  {
   "cell_type": "code",
   "execution_count": null,
   "metadata": {
    "ExecuteTime": {
     "end_time": "2021-09-02T23:35:22.462761Z",
     "start_time": "2021-09-02T23:35:22.323762Z"
    }
   },
   "outputs": [],
   "source": [
    "## Reviewing results\n",
    "subgroup_city[['arrival_day', 'arrival_date']]"
   ]
  },
  {
   "cell_type": "markdown",
   "metadata": {},
   "source": [
    "---\n",
    "\n",
    "**Resort**\n",
    "\n",
    "---"
   ]
  },
  {
   "cell_type": "code",
   "execution_count": null,
   "metadata": {
    "ExecuteTime": {
     "end_time": "2021-09-02T23:35:22.746793Z",
     "start_time": "2021-09-02T23:35:22.464764Z"
    },
    "scrolled": true
   },
   "outputs": [],
   "source": [
    "## Converting from month, day of month, and year to a single datetime column\n",
    "subgroup_resort['arrival_date'] = subgroup_resort['arrival_date_month'] +' '+ \\\n",
    "                                subgroup_resort['arrival_date_day_of_month']\\\n",
    "                                .astype(str) +', '+ \\\n",
    "                                subgroup_resort['arrival_date_year'].astype(str)\n",
    "subgroup_resort['arrival_date'] = pd.to_datetime(subgroup_resort['arrival_date'])\n",
    "subgroup_resort['arrival_date']"
   ]
  },
  {
   "cell_type": "code",
   "execution_count": null,
   "metadata": {
    "ExecuteTime": {
     "end_time": "2021-09-02T23:35:22.886793Z",
     "start_time": "2021-09-02T23:35:22.748763Z"
    },
    "scrolled": true
   },
   "outputs": [],
   "source": [
    "## Determining the day of the week of arrival \n",
    "subgroup_resort.loc[:,'arrival_day'] = subgroup_resort.loc[:,'arrival_date'].dt.day_name()\n",
    "subgroup_resort['arrival_day']"
   ]
  },
  {
   "cell_type": "code",
   "execution_count": null,
   "metadata": {
    "ExecuteTime": {
     "end_time": "2021-09-02T23:35:23.024762Z",
     "start_time": "2021-09-02T23:35:22.888766Z"
    }
   },
   "outputs": [],
   "source": [
    "## Reviewing results\n",
    "subgroup_resort[['arrival_day', 'arrival_date']]"
   ]
  },
  {
   "cell_type": "code",
   "execution_count": null,
   "metadata": {
    "ExecuteTime": {
     "end_time": "2021-09-02T23:35:23.166762Z",
     "start_time": "2021-09-02T23:35:23.026763Z"
    }
   },
   "outputs": [],
   "source": [
    "subgroup_resort"
   ]
  },
  {
   "cell_type": "markdown",
   "metadata": {},
   "source": [
    "---\n",
    "\n",
    "**Feature Review**\n",
    "\n",
    "> I created this new feature to merge the arrival year/month/day-of-month features into one usable feature. \n",
    "\n",
    "**Actions**\n",
    "\n",
    "> PLACEHOLDER\n",
    "\n",
    "**City vs. Resort**\n",
    "\n",
    "> PLACEHOLDER\n",
    "\n",
    "---"
   ]
  },
  {
   "cell_type": "markdown",
   "metadata": {},
   "source": [
    "## Outlier Removal"
   ]
  },
  {
   "cell_type": "markdown",
   "metadata": {},
   "source": [
    "---\n",
    "\n",
    "**City**\n",
    "\n",
    "---"
   ]
  },
  {
   "cell_type": "code",
   "execution_count": null,
   "metadata": {
    "ExecuteTime": {
     "end_time": "2021-09-02T23:35:23.321905Z",
     "start_time": "2021-09-02T23:35:23.168763Z"
    }
   },
   "outputs": [],
   "source": [
    "## Creating dataframe visualizing percentage of outliers in subgroup_city\n",
    "eda.outlier_percentage(subgroup_city);"
   ]
  },
  {
   "cell_type": "code",
   "execution_count": null,
   "metadata": {
    "ExecuteTime": {
     "end_time": "2021-09-02T23:35:23.618105Z",
     "start_time": "2021-09-02T23:35:23.323764Z"
    }
   },
   "outputs": [],
   "source": [
    "## Visualizing feature with highest percentage of outliers\n",
    "subgroup_city['children'].plot(kind='hist')\n",
    "subgroup_city['children'].describe()"
   ]
  },
  {
   "cell_type": "markdown",
   "metadata": {},
   "source": [
    "---\n",
    "\n",
    "> Using the `Children` feature as an example, we can see that the statistics show very few reservations bring children during their stay.\n",
    ">\n",
    "> As there are so few reservations with children, these entries may negatively impact my models' performance. **I will use the z-scores for this feature to determine which rows have values beyond 3 standard deviations, then remove those values** This will be approx. 1% of the feature's data, eliminating the smallest number of outliers to preserve the original data as much as possible.\n",
    "\n",
    "---\n",
    "\n",
    "> This process of identifying outlying values for each numeric feature will most likely result in identifying rows in which only *one* value is an outlier. However, I will need to disregard the whole entry to be able to model the data; keeping the rows while disregarding that one value would result in creating more missing values. \n",
    ">\n",
    "> I will iterate through each numeric feature in both the city and resort hotel dataframes and save the index value of each row with an outlier value to a set specific to each dataframe.\n",
    ">\n",
    "> Using these sets, I will filter the index values from each respective dataframe. The end result will be smaller dataframes with a stronger normal distribution.\n",
    ">\n",
    "----"
   ]
  },
  {
   "cell_type": "code",
   "execution_count": null,
   "metadata": {
    "ExecuteTime": {
     "end_time": "2021-09-02T23:35:23.741248Z",
     "start_time": "2021-09-02T23:35:23.620111Z"
    }
   },
   "outputs": [],
   "source": [
    "## Inspecting the statistics minus the outlying values\n",
    "subgroup_city['children'][~eda.find_outliers_z(subgroup_city['children'])].describe()"
   ]
  },
  {
   "cell_type": "code",
   "execution_count": null,
   "metadata": {
    "ExecuteTime": {
     "end_time": "2021-09-02T23:35:23.896248Z",
     "start_time": "2021-09-02T23:35:23.743118Z"
    }
   },
   "outputs": [],
   "source": [
    "## Creating a set of indices for filtering\n",
    "unique_idx_val = set()\n",
    "\n",
    "for i in list(subgroup_city.select_dtypes('number').columns):\n",
    "    unique_idx_val.update(list(subgroup_city[i]\\\n",
    "                               [eda.find_outliers_z(subgroup_city[i])].index))"
   ]
  },
  {
   "cell_type": "code",
   "execution_count": null,
   "metadata": {
    "ExecuteTime": {
     "end_time": "2021-09-02T23:35:24.020139Z",
     "start_time": "2021-09-02T23:35:23.898105Z"
    }
   },
   "outputs": [],
   "source": [
    "## Calculating the number of values \n",
    "len(unique_idx_val)"
   ]
  },
  {
   "cell_type": "code",
   "execution_count": null,
   "metadata": {
    "ExecuteTime": {
     "end_time": "2021-09-02T23:35:24.144109Z",
     "start_time": "2021-09-02T23:35:24.022108Z"
    }
   },
   "outputs": [],
   "source": [
    "## Calculating the percentage of rows to drop from the overall dataframe\n",
    "len(unique_idx_val)/len(subgroup_city)"
   ]
  },
  {
   "cell_type": "code",
   "execution_count": null,
   "metadata": {
    "ExecuteTime": {
     "end_time": "2021-09-02T23:35:24.316107Z",
     "start_time": "2021-09-02T23:35:24.147106Z"
    }
   },
   "outputs": [],
   "source": [
    "## Generating a new dataframe after filtering the outliers\n",
    "sg_c_drop = subgroup_city.drop(unique_idx_val)\n",
    "sg_c_drop"
   ]
  },
  {
   "cell_type": "code",
   "execution_count": null,
   "metadata": {
    "ExecuteTime": {
     "end_time": "2021-09-02T23:35:24.534138Z",
     "start_time": "2021-09-02T23:35:24.319107Z"
    },
    "scrolled": true
   },
   "outputs": [],
   "source": [
    "## Inspecting new statistics\n",
    "pd.concat([subgroup_city.describe(),sg_c_drop.describe()], keys=('Original', 'New'))"
   ]
  },
  {
   "cell_type": "code",
   "execution_count": null,
   "metadata": {},
   "outputs": [],
   "source": []
  },
  {
   "cell_type": "markdown",
   "metadata": {},
   "source": [
    "---\n",
    "\n",
    "**Resort**\n",
    "\n",
    "---"
   ]
  },
  {
   "cell_type": "markdown",
   "metadata": {},
   "source": [
    "---\n",
    "\n",
    "> Now that I successfully created a new, filtered dataframe for the city hotel reservations, I will do the same for the resort hotel reservations.\n",
    "\n",
    "----"
   ]
  },
  {
   "cell_type": "code",
   "execution_count": null,
   "metadata": {
    "ExecuteTime": {
     "end_time": "2021-09-02T23:35:24.674106Z",
     "start_time": "2021-09-02T23:35:24.536106Z"
    }
   },
   "outputs": [],
   "source": [
    "## Creating dataframe visualizing percentage of outliers in subgroup_resort\n",
    "eda.outlier_percentage(subgroup_resort);"
   ]
  },
  {
   "cell_type": "code",
   "execution_count": null,
   "metadata": {
    "ExecuteTime": {
     "end_time": "2021-09-02T23:35:24.799360Z",
     "start_time": "2021-09-02T23:35:24.677108Z"
    }
   },
   "outputs": [],
   "source": [
    "## Visualizing feature with highest percentage of outliers\n",
    "subgroup_resort['is_repeated_guest'].describe()"
   ]
  },
  {
   "cell_type": "code",
   "execution_count": null,
   "metadata": {
    "ExecuteTime": {
     "end_time": "2021-09-02T23:35:24.909582Z",
     "start_time": "2021-09-02T23:35:24.801366Z"
    },
    "scrolled": true
   },
   "outputs": [],
   "source": [
    "## Inspecting the statistics minus the outlying values\n",
    "subgroup_resort['is_repeated_guest'][~eda.find_outliers_z(subgroup_resort['is_repeated_guest'])].describe()"
   ]
  },
  {
   "cell_type": "code",
   "execution_count": null,
   "metadata": {
    "ExecuteTime": {
     "end_time": "2021-09-02T23:35:25.051399Z",
     "start_time": "2021-09-02T23:35:24.911374Z"
    }
   },
   "outputs": [],
   "source": [
    "## Creating a set of indices for filtering\n",
    "unique_idx_resort = set()\n",
    "\n",
    "for i in list(subgroup_resort.select_dtypes('number').columns):\n",
    "    unique_idx_resort.update(list(subgroup_resort[i]\\\n",
    "                               [eda.find_outliers_z(subgroup_resort[i])].index))"
   ]
  },
  {
   "cell_type": "code",
   "execution_count": null,
   "metadata": {
    "ExecuteTime": {
     "end_time": "2021-09-02T23:35:25.177035Z",
     "start_time": "2021-09-02T23:35:25.053369Z"
    }
   },
   "outputs": [],
   "source": [
    "## Calculating the number of values \n",
    "len(unique_idx_resort)"
   ]
  },
  {
   "cell_type": "code",
   "execution_count": null,
   "metadata": {
    "ExecuteTime": {
     "end_time": "2021-09-02T23:35:25.285806Z",
     "start_time": "2021-09-02T23:35:25.178876Z"
    }
   },
   "outputs": [],
   "source": [
    "## Calculating the percentage of rows to drop from the overall dataframe\n",
    "len(unique_idx_resort)/len(subgroup_resort)"
   ]
  },
  {
   "cell_type": "code",
   "execution_count": null,
   "metadata": {
    "ExecuteTime": {
     "end_time": "2021-09-02T23:35:25.458803Z",
     "start_time": "2021-09-02T23:35:25.287818Z"
    }
   },
   "outputs": [],
   "source": [
    "unique_idx_resort## Generating a new dataframe after filtering the outliers\n",
    "sg_r_drop = subgroup_resort.drop(unique_idx_resort)\n",
    "sg_r_drop"
   ]
  },
  {
   "cell_type": "code",
   "execution_count": null,
   "metadata": {
    "ExecuteTime": {
     "end_time": "2021-09-02T23:35:25.680948Z",
     "start_time": "2021-09-02T23:35:25.460805Z"
    },
    "scrolled": false
   },
   "outputs": [],
   "source": [
    "## Inspecting new statistics\n",
    "pd.concat([subgroup_resort.describe(),sg_r_drop.describe()], keys=('Original', 'New'))"
   ]
  },
  {
   "cell_type": "markdown",
   "metadata": {},
   "source": [
    "# 🐼 **Of Pandas and Pickles** 🥒"
   ]
  },
  {
   "cell_type": "markdown",
   "metadata": {},
   "source": [
    "---\n",
    "\n",
    "> Now I am ready to save the cleaned and processed data for modeling in my next notebook.\n",
    ">\n",
    "> In order to preserve the datatypes and details of my data, I will use the \"Pickle\" module to serialize the data and save four files - one for each dataframe (two hotels; filtered/not).\n",
    ">\n",
    ">**First**, I will add unique names to each of my dataframe indices. **Then**, I will pickle the files. Finally, I will reopen the pickled files in my next notebook.\n",
    "\n",
    "---"
   ]
  },
  {
   "cell_type": "code",
   "execution_count": null,
   "metadata": {
    "ExecuteTime": {
     "end_time": "2021-09-02T23:35:25.790471Z",
     "start_time": "2021-09-02T23:35:25.682810Z"
    }
   },
   "outputs": [],
   "source": [
    "## Adding unique names to dataframes to easily ID\n",
    "subgroup_city.index.rename('city_old', inplace=True)\n",
    "subgroup_resort.index.rename('resort_old', inplace=True)\n",
    "\n",
    "sg_c_drop.index.rename('city_filtered', inplace=True)\n",
    "sg_r_drop.index.rename('resort_filtered', inplace=True)"
   ]
  },
  {
   "cell_type": "code",
   "execution_count": null,
   "metadata": {
    "ExecuteTime": {
     "end_time": "2021-09-02T23:35:26.039467Z",
     "start_time": "2021-09-02T23:35:25.792469Z"
    },
    "scrolled": true
   },
   "outputs": [],
   "source": [
    "## Confirming results\n",
    "display(subgroup_city, subgroup_resort, sg_c_drop, sg_r_drop)"
   ]
  },
  {
   "cell_type": "markdown",
   "metadata": {},
   "source": [
    "## Peter Panda Picked a Peck of Pickled DataFrames..."
   ]
  },
  {
   "cell_type": "markdown",
   "metadata": {},
   "source": [
    "> Cells are commented-out to prevent over-writing files unintentionally."
   ]
  },
  {
   "cell_type": "code",
   "execution_count": null,
   "metadata": {
    "ExecuteTime": {
     "end_time": "2021-09-02T23:35:26.150502Z",
     "start_time": "2021-09-02T23:35:26.041481Z"
    }
   },
   "outputs": [],
   "source": [
    "# ## Creating a dictionary of dataframes and file names\n",
    "# files = {'reservation_city_unfiltered': subgroup_city,\n",
    "#          'reservation_city_filtered': sg_c_drop,\n",
    "#          \"reservation_resort_unfiltered\": subgroup_resort,\n",
    "#          'reservation_resort_filtered': sg_r_drop\n",
    "#         }"
   ]
  },
  {
   "cell_type": "code",
   "execution_count": null,
   "metadata": {
    "ExecuteTime": {
     "end_time": "2021-09-02T23:51:46.376342Z",
     "start_time": "2021-09-02T23:51:35.272898Z"
    }
   },
   "outputs": [],
   "source": [
    "# ## Pickling with Pandas\n",
    "# for k, v in files.items():\n",
    "#     v.to_pickle(path = f'./data/{k}.pickle', compression = 'gzip')\n",
    "#     print(f'Successfully pickled: {k}')"
   ]
  },
  {
   "cell_type": "code",
   "execution_count": null,
   "metadata": {},
   "outputs": [],
   "source": []
  },
  {
   "cell_type": "code",
   "execution_count": null,
   "metadata": {},
   "outputs": [],
   "source": []
  }
 ],
 "metadata": {
  "interpreter": {
   "hash": "980eb18a21052b9c17debf7b5e50bde2e676226d1d1b2f7e2a15b0c620c5c0ea"
  },
  "kernelspec": {
   "display_name": "Python 3",
   "language": "python",
   "name": "python3"
  },
  "language_info": {
   "codemirror_mode": {
    "name": "ipython",
    "version": 3
   },
   "file_extension": ".py",
   "mimetype": "text/x-python",
   "name": "python",
   "nbconvert_exporter": "python",
   "pygments_lexer": "ipython3",
   "version": "3.6.9"
  },
  "toc": {
   "base_numbering": 1,
   "nav_menu": {},
   "number_sections": true,
   "sideBar": true,
   "skip_h1_title": false,
   "title_cell": "Table of Contents",
   "title_sidebar": "Contents",
   "toc_cell": false,
   "toc_position": {
    "height": "calc(100% - 180px)",
    "left": "10px",
    "top": "150px",
    "width": "262.869px"
   },
   "toc_section_display": true,
   "toc_window_display": true
  }
 },
 "nbformat": 4,
 "nbformat_minor": 2
}
